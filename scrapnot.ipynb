{
 "metadata": {
  "name": "scrapnot"
 },
 "nbformat": 3,
 "nbformat_minor": 0,
 "worksheets": [
  {
   "cells": [
    {
     "cell_type": "markdown",
     "metadata": {},
     "source": [
      "This is a scrapbook for exploring some python ideas and modules that i plan to take into other notebooks."
     ]
    },
    {
     "cell_type": "code",
     "collapsed": false,
     "input": [
      "import markdown"
     ],
     "language": "python",
     "metadata": {},
     "outputs": [],
     "prompt_number": 29
    },
    {
     "cell_type": "code",
     "collapsed": false,
     "input": [
      "import requests\n",
      "import json\n",
      "import xmltodict"
     ],
     "language": "python",
     "metadata": {},
     "outputs": [],
     "prompt_number": 38
    },
    {
     "cell_type": "code",
     "collapsed": false,
     "input": [
      "hcpux = requests.get('http://feeds.feedburner.com/HamiltonComputerClub?format=xml')"
     ],
     "language": "python",
     "metadata": {},
     "outputs": [],
     "prompt_number": 39
    },
    {
     "cell_type": "code",
     "collapsed": false,
     "input": [
      "cerz = hcpux.text"
     ],
     "language": "python",
     "metadata": {},
     "outputs": [],
     "prompt_number": 40
    },
    {
     "cell_type": "code",
     "collapsed": false,
     "input": [
      "hamx = xmltodict.parse(cerz)"
     ],
     "language": "python",
     "metadata": {},
     "outputs": [],
     "prompt_number": 42
    },
    {
     "cell_type": "code",
     "collapsed": false,
     "input": [
      "for ha in hamx['rss']['channel']:\n",
      "    print ha"
     ],
     "language": "python",
     "metadata": {},
     "outputs": [
      {
       "output_type": "stream",
       "stream": "stdout",
       "text": [
        "title\n",
        "link\n",
        "description\n",
        "lastBuildDate\n",
        "language\n",
        "sy:updatePeriod\n",
        "sy:updateFrequency\n",
        "generator\n",
        "atom10:link\n",
        "feedburner:info\n",
        "feedburner:browserFriendly\n",
        "item\n"
       ]
      }
     ],
     "prompt_number": 71
    },
    {
     "cell_type": "code",
     "collapsed": false,
     "input": [
      "staz = hamx['rss']['channel']"
     ],
     "language": "python",
     "metadata": {},
     "outputs": [],
     "prompt_number": 72
    },
    {
     "cell_type": "code",
     "collapsed": false,
     "input": [
      "opd = json.dumps(hamx)"
     ],
     "language": "python",
     "metadata": {},
     "outputs": [],
     "prompt_number": 43
    },
    {
     "cell_type": "code",
     "collapsed": false,
     "input": [
      "savopd = open('cpuclu.json', 'w')"
     ],
     "language": "python",
     "metadata": {},
     "outputs": [],
     "prompt_number": 45
    },
    {
     "cell_type": "code",
     "collapsed": false,
     "input": [
      "savopd.write(opd)"
     ],
     "language": "python",
     "metadata": {},
     "outputs": [],
     "prompt_number": 46
    },
    {
     "cell_type": "code",
     "collapsed": false,
     "input": [
      "savopd.close()"
     ],
     "language": "python",
     "metadata": {},
     "outputs": [],
     "prompt_number": 47
    },
    {
     "cell_type": "code",
     "collapsed": false,
     "input": [
      "zopa = open('cpuclu.json', 'r')"
     ],
     "language": "python",
     "metadata": {},
     "outputs": [],
     "prompt_number": 48
    },
    {
     "cell_type": "code",
     "collapsed": false,
     "input": [],
     "language": "python",
     "metadata": {},
     "outputs": []
    },
    {
     "cell_type": "code",
     "collapsed": false,
     "input": [
      "myjson = zopa.read()"
     ],
     "language": "python",
     "metadata": {},
     "outputs": [],
     "prompt_number": 50
    },
    {
     "cell_type": "code",
     "collapsed": false,
     "input": [
      "sjson = json.dumps(hamx)"
     ],
     "language": "python",
     "metadata": {},
     "outputs": [],
     "prompt_number": 54
    },
    {
     "cell_type": "code",
     "collapsed": false,
     "input": [
      "print sjson"
     ],
     "language": "python",
     "metadata": {},
     "outputs": [
      {
       "output_type": "stream",
       "stream": "stdout",
       "text": [
        "{\n"
       ]
      }
     ],
     "prompt_number": 57
    },
    {
     "cell_type": "code",
     "collapsed": false,
     "input": [
      "cerz"
     ],
     "language": "python",
     "metadata": {},
     "outputs": [
      {
       "output_type": "pyout",
       "prompt_number": 36,
       "text": [
        "u'<?xml version=\"1.0\" encoding=\"UTF-8\"?>\\r\\n<?xml-stylesheet type=\"text/xsl\" media=\"screen\" href=\"/~d/styles/rss2full.xsl\"?><?xml-stylesheet type=\"text/css\" media=\"screen\" href=\"http://feeds.feedburner.com/~d/styles/itemcontent.css\"?><rss xmlns:content=\"http://purl.org/rss/1.0/modules/content/\" xmlns:wfw=\"http://wellformedweb.org/CommentAPI/\" xmlns:dc=\"http://purl.org/dc/elements/1.1/\" xmlns:atom=\"http://www.w3.org/2005/Atom\" xmlns:sy=\"http://purl.org/rss/1.0/modules/syndication/\" xmlns:slash=\"http://purl.org/rss/1.0/modules/slash/\" xmlns:feedburner=\"http://rssnamespace.org/feedburner/ext/1.0\" version=\"2.0\">\\r\\n\\r\\n<channel>\\r\\n\\t<title>Hamilton Computer Club </title>\\r\\n\\t\\r\\n\\t<link>http://hamiltoncomputerclub.org.nz</link>\\r\\n\\t<description>Exchange information and share skills</description>\\r\\n\\t<lastBuildDate>Thu, 01 May 2014 10:20:40 +0000</lastBuildDate>\\r\\n\\t<language>en-US</language>\\r\\n\\t\\t<sy:updatePeriod>hourly</sy:updatePeriod>\\r\\n\\t\\t<sy:updateFrequency>1</sy:updateFrequency>\\r\\n\\t<generator>http://wordpress.org/?v=3.9.1</generator>\\r\\n\\t<atom10:link xmlns:atom10=\"http://www.w3.org/2005/Atom\" rel=\"self\" type=\"application/rss+xml\" href=\"http://feeds.feedburner.com/HamiltonComputerClub\" /><feedburner:info uri=\"hamiltoncomputerclub\" /><atom10:link xmlns:atom10=\"http://www.w3.org/2005/Atom\" rel=\"hub\" href=\"http://pubsubhubbub.appspot.com/\" /><feedburner:browserFriendly></feedburner:browserFriendly><item>\\r\\n\\t\\t<title>Windows RIP XP Long live 8.1</title>\\r\\n\\t\\t<link>http://hamiltoncomputerclub.org.nz/windows-rip-xp-long-live-8-1/</link>\\r\\n\\t\\t<comments>http://hamiltoncomputerclub.org.nz/windows-rip-xp-long-live-8-1/#comments</comments>\\r\\n\\t\\t<pubDate>Wed, 09 Apr 2014 21:38:34 +0000</pubDate>\\r\\n\\t\\t<dc:creator><![CDATA[Rod Aldridge]]></dc:creator>\\r\\n\\t\\t\\t\\t<category><![CDATA[Link dump]]></category>\\r\\n\\r\\n\\t\\t<guid isPermaLink=\"false\">http://hamiltoncomputerclub.org.nz/?p=417</guid>\\r\\n\\t\\t<description><![CDATA[Microsoft makes Windows free for select devices, announces universal Windows apps By Shawn Knight on April 2, 2014 http://www.techspot.com/news/56240-microsoft-makes-windows-free-for-select-devices-announces-universal-windows-apps.html Microsoft on Wednesday revealed plans to make Windows free for manufacturers to use on smartphones and tablets with screen sizes under nine inches. Furthermore, a future version of Windows for the \\u2026 <a href=\"http://hamiltoncomputerclub.org.nz/windows-rip-xp-long-live-8-1/\"> Continue reading <span class=\"meta-nav\">&#8594; </span></a>]]></description>\\r\\n\\t\\t<wfw:commentRss>http://hamiltoncomputerclub.org.nz/windows-rip-xp-long-live-8-1/feed/</wfw:commentRss>\\r\\n\\t\\t<slash:comments>0</slash:comments>\\r\\n\\t\\t</item>\\r\\n\\t\\t<item>\\r\\n\\t\\t<title>Python</title>\\r\\n\\t\\t<link>http://hamiltoncomputerclub.org.nz/python/</link>\\r\\n\\t\\t<comments>http://hamiltoncomputerclub.org.nz/python/#comments</comments>\\r\\n\\t\\t<pubDate>Fri, 21 Mar 2014 12:49:39 +0000</pubDate>\\r\\n\\t\\t<dc:creator><![CDATA[wcmckee]]></dc:creator>\\r\\n\\t\\t\\t\\t<category><![CDATA[Software]]></category>\\r\\n\\t\\t<category><![CDATA[code]]></category>\\r\\n\\t\\t<category><![CDATA[python]]></category>\\r\\n\\t\\t<category><![CDATA[teach]]></category>\\r\\n\\r\\n\\t\\t<guid isPermaLink=\"false\">http://hamiltoncomputerclub.org.nz/?p=391</guid>\\r\\n\\t\\t<description><![CDATA[My name is William Mckee. I did a talk in February regarding the Python programming language. I found Bruce through the New Zealand Python users group mailing list. There had been much discussion in the post regarding getting some Python meetups/classes happen. Auckland, Wellington, and Christchurch have monthly Python meetups. \\u2026 <a href=\"http://hamiltoncomputerclub.org.nz/python/\"> Continue reading <span class=\"meta-nav\">&#8594; </span></a>]]></description>\\r\\n\\t\\t<wfw:commentRss>http://hamiltoncomputerclub.org.nz/python/feed/</wfw:commentRss>\\r\\n\\t\\t<slash:comments>0</slash:comments>\\r\\n\\t\\t</item>\\r\\n\\t\\t<item>\\r\\n\\t\\t<title>Beware fake-capacity USB drives</title>\\r\\n\\t\\t<link>http://hamiltoncomputerclub.org.nz/350/</link>\\r\\n\\t\\t<comments>http://hamiltoncomputerclub.org.nz/350/#comments</comments>\\r\\n\\t\\t<pubDate>Mon, 21 Oct 2013 07:48:44 +0000</pubDate>\\r\\n\\t\\t<dc:creator><![CDATA[Bruce Kingsbury]]></dc:creator>\\r\\n\\t\\t\\t\\t<category><![CDATA[Security]]></category>\\r\\n\\r\\n\\t\\t<guid isPermaLink=\"false\">http://hamiltoncomputerclub.org.nz/?p=350</guid>\\r\\n\\t\\t<description><![CDATA[Various Trademe members have comment that there are listings for very cheap 128GB, 256GB and 512GB USB Memory Keys appearing on the site. Please be aware that there is a large number of fake USB Memory Keys being sold on eBay in the USA and from China which the firmware \\u2026 <a href=\"http://hamiltoncomputerclub.org.nz/350/\"> Continue reading <span class=\"meta-nav\">&#8594; </span></a>]]></description>\\r\\n\\t\\t<wfw:commentRss>http://hamiltoncomputerclub.org.nz/350/feed/</wfw:commentRss>\\r\\n\\t\\t<slash:comments>0</slash:comments>\\r\\n\\t\\t</item>\\r\\n\\t\\t<item>\\r\\n\\t\\t<title>Found on the web 2013/10</title>\\r\\n\\t\\t<link>http://hamiltoncomputerclub.org.nz/201310/</link>\\r\\n\\t\\t<comments>http://hamiltoncomputerclub.org.nz/201310/#comments</comments>\\r\\n\\t\\t<pubDate>Mon, 30 Sep 2013 00:42:11 +0000</pubDate>\\r\\n\\t\\t<dc:creator><![CDATA[Rod Aldridge]]></dc:creator>\\r\\n\\t\\t\\t\\t<category><![CDATA[Link dump]]></category>\\r\\n\\r\\n\\t\\t<guid isPermaLink=\"false\">http://hamiltoncomputerclub.org.nz/?p=307</guid>\\r\\n\\t\\t<description><![CDATA[Some items which you may find interesting or useful Some HOWTO&#8217;s and other hints mostly from PC World, some security and privacy alerts, software, some general news, Microsoft news, insight into censorship in China, explanation of Application Programming Interfaces (APIs) and Encryption. Finally some light relief (this year&#8217;s IgNoble Prizes). \\u2026 <a href=\"http://hamiltoncomputerclub.org.nz/201310/\"> Continue reading <span class=\"meta-nav\">&#8594; </span></a>]]></description>\\r\\n\\t\\t<wfw:commentRss>http://hamiltoncomputerclub.org.nz/201310/feed/</wfw:commentRss>\\r\\n\\t\\t<slash:comments>0</slash:comments>\\r\\n\\t\\t</item>\\r\\n\\t\\t<item>\\r\\n\\t\\t<title>Potential NSA Involvement in a NIST RNG Standard</title>\\r\\n\\t\\t<link>http://hamiltoncomputerclub.org.nz/potential-nsa-involvement-in-a-nist-rng-standard/</link>\\r\\n\\t\\t<comments>http://hamiltoncomputerclub.org.nz/potential-nsa-involvement-in-a-nist-rng-standard/#comments</comments>\\r\\n\\t\\t<pubDate>Mon, 30 Sep 2013 00:22:02 +0000</pubDate>\\r\\n\\t\\t<dc:creator><![CDATA[Bruce Kingsbury]]></dc:creator>\\r\\n\\t\\t\\t\\t<category><![CDATA[Tidbits]]></category>\\r\\n\\r\\n\\t\\t<guid isPermaLink=\"false\">http://hamiltoncomputerclub.org.nz/?p=296</guid>\\r\\n\\t\\t<description><![CDATA[In August 2007, a young programmer in Microsoft\\u2019s Windows security group stood up to give a five-minute turbo talk at the annual Crypto conference in Santa Barbara. It was a Tuesday evening, part of the conference\\u2019s traditional rump session, when a hodge-podge of short talks are presented outside of the \\u2026 <a href=\"http://hamiltoncomputerclub.org.nz/potential-nsa-involvement-in-a-nist-rng-standard/\"> Continue reading <span class=\"meta-nav\">&#8594; </span></a>]]></description>\\r\\n\\t\\t<wfw:commentRss>http://hamiltoncomputerclub.org.nz/potential-nsa-involvement-in-a-nist-rng-standard/feed/</wfw:commentRss>\\r\\n\\t\\t<slash:comments>0</slash:comments>\\r\\n\\t\\t</item>\\r\\n\\t\\t<item>\\r\\n\\t\\t<title>New website and blogs</title>\\r\\n\\t\\t<link>http://hamiltoncomputerclub.org.nz/new-website-blogs/</link>\\r\\n\\t\\t<comments>http://hamiltoncomputerclub.org.nz/new-website-blogs/#comments</comments>\\r\\n\\t\\t<pubDate>Tue, 17 Sep 2013 12:26:55 +0000</pubDate>\\r\\n\\t\\t<dc:creator><![CDATA[Virginia Schnauer]]></dc:creator>\\r\\n\\t\\t\\t\\t<category><![CDATA[Notices]]></category>\\r\\n\\t\\t<category><![CDATA[website]]></category>\\r\\n\\r\\n\\t\\t<guid isPermaLink=\"false\">http://hamiltoncomputerclub.org.nz/?p=231</guid>\\r\\n\\t\\t<description><![CDATA[I met with Bruce today and have cleaned up some loose end on your new look website. Members can now become contributors or post comments and have conversations. I suggest you all start here by commenting your likes and dislikes regarding look, format and content. It would be great to \\u2026 <a href=\"http://hamiltoncomputerclub.org.nz/new-website-blogs/\"> Continue reading <span class=\"meta-nav\">&#8594; </span></a>]]></description>\\r\\n\\t\\t<wfw:commentRss>http://hamiltoncomputerclub.org.nz/new-website-blogs/feed/</wfw:commentRss>\\r\\n\\t\\t<slash:comments>1</slash:comments>\\r\\n\\t\\t</item>\\r\\n\\t\\t<item>\\r\\n\\t\\t<title>PC World Magazine</title>\\r\\n\\t\\t<link>http://hamiltoncomputerclub.org.nz/pc-world-magazine/</link>\\r\\n\\t\\t<comments>http://hamiltoncomputerclub.org.nz/pc-world-magazine/#comments</comments>\\r\\n\\t\\t<pubDate>Sat, 14 Sep 2013 09:24:32 +0000</pubDate>\\r\\n\\t\\t<dc:creator><![CDATA[Virginia Schnauer]]></dc:creator>\\r\\n\\t\\t\\t\\t<category><![CDATA[Tidbits]]></category>\\r\\n\\t\\t<category><![CDATA[IT]]></category>\\r\\n\\t\\t<category><![CDATA[magazines]]></category>\\r\\n\\r\\n\\t\\t<guid isPermaLink=\"false\">http://hamiltoncomputerclub.org.nz/?p=190</guid>\\r\\n\\t\\t<description><![CDATA[End of a era PC World magazine has closed down. It is available online http://www.pcworld.co.nz/. The site now offers sections on smartphones and tablets, computers, gadgets, a business centre, home entertainment, cameras, and a forum It is intended for the IT trade publications to continue.]]></description>\\r\\n\\t\\t<wfw:commentRss>http://hamiltoncomputerclub.org.nz/pc-world-magazine/feed/</wfw:commentRss>\\r\\n\\t\\t<slash:comments>0</slash:comments>\\r\\n\\t\\t</item>\\r\\n\\t\\t<item>\\r\\n\\t\\t<title>First article</title>\\r\\n\\t\\t<link>http://hamiltoncomputerclub.org.nz/first-article/</link>\\r\\n\\t\\t<comments>http://hamiltoncomputerclub.org.nz/first-article/#comments</comments>\\r\\n\\t\\t<pubDate>Sun, 01 Sep 2013 11:06:21 +0000</pubDate>\\r\\n\\t\\t<dc:creator><![CDATA[Bruce Kingsbury]]></dc:creator>\\r\\n\\t\\t\\t\\t<category><![CDATA[Notices]]></category>\\r\\n\\t\\t<category><![CDATA[website]]></category>\\r\\n\\r\\n\\t\\t<guid isPermaLink=\"false\">http://hamiltoncomputerclub.org.nz/?p=49</guid>\\r\\n\\t\\t<description><![CDATA[This is the new website of the Hamilton PC computer club. It&#8217;s registered and hosted on wordpress by onlydomains.com. The theme at time or writing is wp386, a throwback to the old BBS days. I&#8217;m sure everybody on the committee is going to absolutely loath it which should encourage them \\u2026 <a href=\"http://hamiltoncomputerclub.org.nz/first-article/\"> Continue reading <span class=\"meta-nav\">&#8594; </span></a>]]></description>\\r\\n\\t\\t<wfw:commentRss>http://hamiltoncomputerclub.org.nz/first-article/feed/</wfw:commentRss>\\r\\n\\t\\t<slash:comments>3</slash:comments>\\r\\n\\t\\t</item>\\r\\n\\t</channel>\\r\\n</rss>\\r\\n'"
       ]
      }
     ],
     "prompt_number": 36
    },
    {
     "cell_type": "code",
     "collapsed": false,
     "input": [
      "markdown.to_html_string('*testing one two three*')"
     ],
     "language": "python",
     "metadata": {},
     "outputs": [
      {
       "ename": "NameError",
       "evalue": "name 'markdown' is not defined",
       "output_type": "pyerr",
       "traceback": [
        "\u001b[0;31m---------------------------------------------------------------------------\u001b[0m\n\u001b[0;31mNameError\u001b[0m                                 Traceback (most recent call last)",
        "\u001b[0;32m<ipython-input-24-0a947a97a2c3>\u001b[0m in \u001b[0;36m<module>\u001b[0;34m()\u001b[0m\n\u001b[0;32m----> 1\u001b[0;31m \u001b[0mmarkdown\u001b[0m\u001b[0;34m.\u001b[0m\u001b[0mto_html_string\u001b[0m\u001b[0;34m(\u001b[0m\u001b[0;34m'*testing one two three*'\u001b[0m\u001b[0;34m)\u001b[0m\u001b[0;34m\u001b[0m\u001b[0m\n\u001b[0m",
        "\u001b[0;31mNameError\u001b[0m: name 'markdown' is not defined"
       ]
      }
     ],
     "prompt_number": 24
    },
    {
     "cell_type": "code",
     "collapsed": false,
     "input": [
      "html = markdown.markdown('testing123!')"
     ],
     "language": "python",
     "metadata": {},
     "outputs": [
      {
       "ename": "NameError",
       "evalue": "name 'markdown' is not defined",
       "output_type": "pyerr",
       "traceback": [
        "\u001b[0;31m---------------------------------------------------------------------------\u001b[0m\n\u001b[0;31mNameError\u001b[0m                                 Traceback (most recent call last)",
        "\u001b[0;32m<ipython-input-22-62ccfb46db62>\u001b[0m in \u001b[0;36m<module>\u001b[0;34m()\u001b[0m\n\u001b[0;32m----> 1\u001b[0;31m \u001b[0mhtml\u001b[0m \u001b[0;34m=\u001b[0m \u001b[0mmarkdown\u001b[0m\u001b[0;34m.\u001b[0m\u001b[0mmarkdown\u001b[0m\u001b[0;34m(\u001b[0m\u001b[0;34m'testing123!'\u001b[0m\u001b[0;34m)\u001b[0m\u001b[0;34m\u001b[0m\u001b[0m\n\u001b[0m",
        "\u001b[0;31mNameError\u001b[0m: name 'markdown' is not defined"
       ]
      }
     ],
     "prompt_number": 22
    },
    {
     "cell_type": "code",
     "collapsed": false,
     "input": [
      "print html"
     ],
     "language": "python",
     "metadata": {},
     "outputs": [
      {
       "output_type": "stream",
       "stream": "stdout",
       "text": [
        "<p>testing123!</p>\n"
       ]
      }
     ],
     "prompt_number": 4
    },
    {
     "cell_type": "code",
     "collapsed": false,
     "input": [
      "import os"
     ],
     "language": "python",
     "metadata": {},
     "outputs": [],
     "prompt_number": 1
    },
    {
     "cell_type": "code",
     "collapsed": false,
     "input": [
      "posfol = (\"~/home/wcmckee/hamiiltoncomputerclub.org.nz/static/posts\")\n",
      "blotil = (\"wcmckee\")"
     ],
     "language": "python",
     "metadata": {},
     "outputs": [],
     "prompt_number": 14
    },
    {
     "cell_type": "code",
     "collapsed": false,
     "input": [
      "os.makedirs(posfol)"
     ],
     "language": "python",
     "metadata": {},
     "outputs": [],
     "prompt_number": 15
    },
    {
     "cell_type": "code",
     "collapsed": false,
     "input": [
      "os.chdir(posfol)"
     ],
     "language": "python",
     "metadata": {},
     "outputs": [],
     "prompt_number": 16
    },
    {
     "cell_type": "code",
     "collapsed": false,
     "input": [
      "ls"
     ],
     "language": "python",
     "metadata": {},
     "outputs": [],
     "prompt_number": 17
    },
    {
     "cell_type": "code",
     "collapsed": false,
     "input": [
      "rstz = open((blotil + '.rst'), 'w')"
     ],
     "language": "python",
     "metadata": {},
     "outputs": [],
     "prompt_number": 19
    },
    {
     "cell_type": "code",
     "collapsed": false,
     "input": [
      "rstz.write('"
     ],
     "language": "python",
     "metadata": {},
     "outputs": [
      {
       "ename": "IOError",
       "evalue": "File not open for reading",
       "output_type": "pyerr",
       "traceback": [
        "\u001b[0;31m---------------------------------------------------------------------------\u001b[0m\n\u001b[0;31mIOError\u001b[0m                                   Traceback (most recent call last)",
        "\u001b[0;32m<ipython-input-20-ebd71a90b9cb>\u001b[0m in \u001b[0;36m<module>\u001b[0;34m()\u001b[0m\n\u001b[0;32m----> 1\u001b[0;31m \u001b[0mrstz\u001b[0m\u001b[0;34m.\u001b[0m\u001b[0mread\u001b[0m\u001b[0;34m(\u001b[0m\u001b[0;34m)\u001b[0m\u001b[0;34m\u001b[0m\u001b[0m\n\u001b[0m",
        "\u001b[0;31mIOError\u001b[0m: File not open for reading"
       ]
      }
     ],
     "prompt_number": 20
    },
    {
     "cell_type": "code",
     "collapsed": false,
     "input": [],
     "language": "python",
     "metadata": {},
     "outputs": []
    },
    {
     "cell_type": "code",
     "collapsed": false,
     "input": [
      "conv = markdown.markdownFromFile"
     ],
     "language": "python",
     "metadata": {},
     "outputs": []
    }
   ],
   "metadata": {}
  }
 ]
}