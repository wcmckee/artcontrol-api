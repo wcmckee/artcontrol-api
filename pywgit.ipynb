{
 "metadata": {
  "name": "pywgit"
 },
 "nbformat": 3,
 "nbformat_minor": 0,
 "worksheets": [
  {
   "cells": [
    {
     "cell_type": "heading",
     "level": 1,
     "metadata": {},
     "source": [
      "pywgit"
     ]
    },
    {
     "cell_type": "markdown",
     "metadata": {},
     "source": [
      "This is a python script to download repos from github\n",
      "It takes the login name (wcmckee in my case) and downloads the repos of github user (the system login name). It downloads it to the home dir. \n",
      "The program checks if you have local folders that are also on github. It will skip them from downloading from github. "
     ]
    },
    {
     "cell_type": "code",
     "collapsed": false,
     "input": [
      "from github import Github\n",
      "import sys\n",
      "import os\n",
      "import socket\n",
      "import getpass\n",
      "import random\n",
      "import git\n"
     ],
     "language": "python",
     "metadata": {},
     "outputs": [],
     "prompt_number": 15
    },
    {
     "cell_type": "code",
     "collapsed": false,
     "input": [
      "theuser = getpass.getuser()"
     ],
     "language": "python",
     "metadata": {},
     "outputs": [],
     "prompt_number": 16
    },
    {
     "cell_type": "code",
     "collapsed": false,
     "input": [
      "g = Github()"
     ],
     "language": "python",
     "metadata": {},
     "outputs": [],
     "prompt_number": 17
    },
    {
     "cell_type": "code",
     "collapsed": false,
     "input": [
      "gitlist = []"
     ],
     "language": "python",
     "metadata": {},
     "outputs": [],
     "prompt_number": 18
    },
    {
     "cell_type": "code",
     "collapsed": false,
     "input": [
      "for repo in g.get_user(theuser).get_repos():\n",
      "    gitlist.append(repo.name)"
     ],
     "language": "python",
     "metadata": {},
     "outputs": [],
     "prompt_number": 36
    },
    {
     "cell_type": "code",
     "collapsed": false,
     "input": [
      "gitlist"
     ],
     "language": "python",
     "metadata": {},
     "outputs": [
      {
       "output_type": "pyout",
       "prompt_number": 37,
       "text": [
        "[u'4chan-API',\n",
        " u'alien',\n",
        " u'art-lastfm',\n",
        " u'artcontrol-api',\n",
        " u'AsylumJamCrushGame',\n",
        " u'autopaintpy123',\n",
        " u'bacongamejam05',\n",
        " u'battlenet',\n",
        " u'bbc2wp',\n",
        " u'BeOk',\n",
        " u'bgj05-hungry',\n",
        " u'BirdCage',\n",
        " u'brobeur-site',\n",
        " u'brobeur-web',\n",
        " u'BroBeurFishingDream',\n",
        " u'broLove',\n",
        " u'Bukkit',\n",
        " u'cafrin',\n",
        " u'Cinnamon',\n",
        " u'clint',\n",
        " u'cocos2d-x',\n",
        " u'DailyProgBot',\n",
        " u'Delicious-Chrome-Extension',\n",
        " u'DeltaBot',\n",
        " u'django',\n",
        " u'djtm',\n",
        " u'FinishYourGame-Jam',\n",
        " u'flamejam',\n",
        " u'flask',\n",
        " u'flask-brobeur',\n",
        " u'game-of-life',\n",
        " u'gamejam',\n",
        " u'ggj14',\n",
        " u'gimp',\n",
        " u'gitignore',\n",
        " u'godot',\n",
        " u'hackage-server',\n",
        " u'haskell-learn',\n",
        " u'HTML5-Tiny',\n",
        " u'html5lib-python',\n",
        " u'iamagamer',\n",
        " u'ihaskell-notebook',\n",
        " u'imgur-python',\n",
        " u'intercity',\n",
        " u'intro_programming',\n",
        " u'ipython',\n",
        " u'Koha',\n",
        " u'LANs.py',\n",
        " u'LD48-Skins',\n",
        " u'linux',\n",
        " u'lolpy',\n",
        " u'lqt',\n",
        " u'marshmallow',\n",
        " u'massive-wright',\n",
        " u'miniprojects',\n",
        " u'molyjam2013',\n",
        " u'opencompetencies',\n",
        " u'openfaux-server',\n",
        " u'ouya-unity-plugin',\n",
        " u'paintingautopy',\n",
        " u'pithos',\n",
        " u'prodo-game',\n",
        " u'Projects',\n",
        " u'pybackupz',\n",
        " u'pymel',\n",
        " u'pyroster',\n",
        " u'python-guide',\n",
        " u'python-pandora',\n",
        " u'python-patterns',\n",
        " u'python-twitter',\n",
        " u'python-wordpress-xmlrpc',\n",
        " u'pytm',\n",
        " u'pyunderdog',\n",
        " u'pywp-post',\n",
        " u'raspi',\n",
        " u'RasPiWrite',\n",
        " u'RedditPress',\n",
        " u'reddit_bot',\n",
        " u'requests',\n",
        " u'Rift-Notes',\n",
        " u'RPIO',\n",
        " u'ruby-warrior',\n",
        " u'skins',\n",
        " u'SortPictures',\n",
        " u'soundcloud-dl',\n",
        " u'SpotWalker-LD48',\n",
        " u'sshuttle',\n",
        " u'SuburbNightmare',\n",
        " u'summingbird',\n",
        " u'testRepo',\n",
        " u'TPB',\n",
        " u'Triger',\n",
        " u'tweepy',\n",
        " u'UIToolkit',\n",
        " u'UniLua',\n",
        " u'unity-rts-demo',\n",
        " u'UnityLuaIntegration',\n",
        " u'unityluainterface',\n",
        " u'wcmStringPY',\n",
        " u'wirepil',\n",
        " u'WordPress',\n",
        " u'xboxdrv',\n",
        " u'4chan-API',\n",
        " u'alien',\n",
        " u'art-lastfm',\n",
        " u'artcontrol-api',\n",
        " u'AsylumJamCrushGame',\n",
        " u'autopaintpy123',\n",
        " u'bacongamejam05',\n",
        " u'battlenet',\n",
        " u'bbc2wp',\n",
        " u'BeOk',\n",
        " u'bgj05-hungry',\n",
        " u'BirdCage',\n",
        " u'brobeur-site',\n",
        " u'brobeur-web',\n",
        " u'BroBeurFishingDream',\n",
        " u'broLove',\n",
        " u'Bukkit',\n",
        " u'cafrin',\n",
        " u'Cinnamon',\n",
        " u'clint',\n",
        " u'cocos2d-x',\n",
        " u'DailyProgBot',\n",
        " u'Delicious-Chrome-Extension',\n",
        " u'DeltaBot',\n",
        " u'django',\n",
        " u'djtm',\n",
        " u'FinishYourGame-Jam',\n",
        " u'flamejam',\n",
        " u'flask',\n",
        " u'flask-brobeur',\n",
        " u'game-of-life',\n",
        " u'gamejam',\n",
        " u'ggj14',\n",
        " u'gimp',\n",
        " u'gitignore',\n",
        " u'godot',\n",
        " u'hackage-server',\n",
        " u'haskell-learn',\n",
        " u'HTML5-Tiny',\n",
        " u'html5lib-python',\n",
        " u'iamagamer',\n",
        " u'ihaskell-notebook',\n",
        " u'imgur-python',\n",
        " u'intercity',\n",
        " u'intro_programming',\n",
        " u'ipython',\n",
        " u'Koha',\n",
        " u'LANs.py',\n",
        " u'LD48-Skins',\n",
        " u'linux',\n",
        " u'lolpy',\n",
        " u'lqt',\n",
        " u'marshmallow',\n",
        " u'massive-wright',\n",
        " u'miniprojects',\n",
        " u'molyjam2013',\n",
        " u'opencompetencies',\n",
        " u'openfaux-server',\n",
        " u'ouya-unity-plugin',\n",
        " u'paintingautopy',\n",
        " u'pithos',\n",
        " u'prodo-game',\n",
        " u'Projects',\n",
        " u'pybackupz',\n",
        " u'pymel',\n",
        " u'pyroster',\n",
        " u'python-guide',\n",
        " u'python-pandora',\n",
        " u'python-patterns',\n",
        " u'python-twitter',\n",
        " u'python-wordpress-xmlrpc',\n",
        " u'pytm',\n",
        " u'pyunderdog',\n",
        " u'pywp-post',\n",
        " u'raspi',\n",
        " u'RasPiWrite',\n",
        " u'RedditPress',\n",
        " u'reddit_bot',\n",
        " u'requests',\n",
        " u'Rift-Notes',\n",
        " u'RPIO',\n",
        " u'ruby-warrior',\n",
        " u'skins',\n",
        " u'SortPictures',\n",
        " u'soundcloud-dl',\n",
        " u'SpotWalker-LD48',\n",
        " u'sshuttle',\n",
        " u'SuburbNightmare',\n",
        " u'summingbird',\n",
        " u'testRepo',\n",
        " u'TPB',\n",
        " u'Triger',\n",
        " u'tweepy',\n",
        " u'UIToolkit',\n",
        " u'UniLua',\n",
        " u'unity-rts-demo',\n",
        " u'UnityLuaIntegration',\n",
        " u'unityluainterface',\n",
        " u'wcmStringPY',\n",
        " u'wirepil',\n",
        " u'WordPress',\n",
        " u'xboxdrv',\n",
        " u'4chan-API',\n",
        " u'alien',\n",
        " u'art-lastfm',\n",
        " u'artcontrol-api',\n",
        " u'AsylumJamCrushGame',\n",
        " u'autopaintpy123',\n",
        " u'bacongamejam05',\n",
        " u'battlenet',\n",
        " u'bbc2wp',\n",
        " u'BeOk',\n",
        " u'bgj05-hungry',\n",
        " u'BirdCage',\n",
        " u'brobeur-site',\n",
        " u'brobeur-web',\n",
        " u'BroBeurFishingDream',\n",
        " u'broLove',\n",
        " u'Bukkit',\n",
        " u'cafrin',\n",
        " u'Cinnamon',\n",
        " u'clint',\n",
        " u'cocos2d-x',\n",
        " u'DailyProgBot',\n",
        " u'Delicious-Chrome-Extension',\n",
        " u'DeltaBot',\n",
        " u'django',\n",
        " u'djtm',\n",
        " u'FinishYourGame-Jam',\n",
        " u'flamejam',\n",
        " u'flask',\n",
        " u'flask-brobeur',\n",
        " u'game-of-life',\n",
        " u'gamejam',\n",
        " u'ggj14',\n",
        " u'gimp',\n",
        " u'gitignore',\n",
        " u'godot',\n",
        " u'hackage-server',\n",
        " u'haskell-learn',\n",
        " u'HTML5-Tiny',\n",
        " u'html5lib-python',\n",
        " u'iamagamer',\n",
        " u'ihaskell-notebook',\n",
        " u'imgur-python',\n",
        " u'intercity',\n",
        " u'intro_programming',\n",
        " u'ipython',\n",
        " u'Koha',\n",
        " u'LANs.py',\n",
        " u'LD48-Skins',\n",
        " u'linux',\n",
        " u'lolpy',\n",
        " u'lqt',\n",
        " u'marshmallow',\n",
        " u'massive-wright',\n",
        " u'miniprojects',\n",
        " u'molyjam2013',\n",
        " u'opencompetencies',\n",
        " u'openfaux-server',\n",
        " u'ouya-unity-plugin',\n",
        " u'paintingautopy',\n",
        " u'pithos',\n",
        " u'prodo-game',\n",
        " u'Projects',\n",
        " u'pybackupz',\n",
        " u'pymel',\n",
        " u'pyroster',\n",
        " u'python-guide',\n",
        " u'python-pandora',\n",
        " u'python-patterns',\n",
        " u'python-twitter',\n",
        " u'python-wordpress-xmlrpc',\n",
        " u'pytm',\n",
        " u'pyunderdog',\n",
        " u'pywp-post',\n",
        " u'raspi',\n",
        " u'RasPiWrite',\n",
        " u'RedditPress',\n",
        " u'reddit_bot',\n",
        " u'requests',\n",
        " u'Rift-Notes',\n",
        " u'RPIO',\n",
        " u'ruby-warrior',\n",
        " u'skins',\n",
        " u'SortPictures',\n",
        " u'soundcloud-dl',\n",
        " u'SpotWalker-LD48',\n",
        " u'sshuttle',\n",
        " u'SuburbNightmare',\n",
        " u'summingbird',\n",
        " u'testRepo',\n",
        " u'TPB',\n",
        " u'Triger',\n",
        " u'tweepy',\n",
        " u'UIToolkit',\n",
        " u'UniLua',\n",
        " u'unity-rts-demo',\n",
        " u'UnityLuaIntegration',\n",
        " u'unityluainterface',\n",
        " u'wcmStringPY',\n",
        " u'wirepil',\n",
        " u'WordPress',\n",
        " u'xboxdrv']"
       ]
      }
     ],
     "prompt_number": 37
    },
    {
     "cell_type": "code",
     "collapsed": false,
     "input": [
      "os.chdir('/home/' + theuser)"
     ],
     "language": "python",
     "metadata": {},
     "outputs": [],
     "prompt_number": 38
    },
    {
     "cell_type": "code",
     "collapsed": false,
     "input": [
      "lisdir = os.listdir('/home/wcmckee/')\n",
      "curlist = []\n",
      "for ls in lisdir:\n",
      "    print ls\n",
      "    curlist.append(ls)"
     ],
     "language": "python",
     "metadata": {},
     "outputs": [
      {
       "output_type": "stream",
       "stream": "stdout",
       "text": [
        ".w3m\n",
        ".profile\n",
        "FinishYourGame-Jam\n",
        ".pip\n",
        "pywp-post\n",
        "4chan-API\n",
        "RasPiWrite\n",
        "brobeur-site\n",
        "flamejam\n",
        "sub\n",
        ".gitconfig\n",
        "https:\n",
        ".bash_logout\n",
        "ggj14\n",
        "autopaintpy123\n",
        "flask\n",
        "LANs.py\n",
        ".bashrc\n",
        "game-of-life\n",
        "artcontrol-api\n",
        "BroBeurFishingDream\n",
        "art-lastfm\n",
        "github\n",
        "sub.pub\n",
        "godot\n",
        "SuburbNightmare\n",
        "gimp_build\n",
        ".bash_history\n",
        "blender\n",
        "alien\n",
        "src\n",
        ".ipython\n",
        "TPB\n",
        ".cache\n"
       ]
      }
     ],
     "prompt_number": 39
    },
    {
     "cell_type": "code",
     "collapsed": false,
     "input": [
      "dlrepo = list(set(gitlist) - set(curlist))"
     ],
     "language": "python",
     "metadata": {},
     "outputs": [],
     "prompt_number": 40
    },
    {
     "cell_type": "code",
     "collapsed": false,
     "input": [
      "#print dlrepo"
     ],
     "language": "python",
     "metadata": {},
     "outputs": [
      {
       "output_type": "stream",
       "stream": "stdout",
       "text": [
        "[u'UnityLuaIntegration', u'molyjam2013', u'prodo-game', u'reddit_bot', u'python-patterns', u'marshmallow', u'pyunderdog', u'UIToolkit', u'xboxdrv', u'lqt', u'python-wordpress-xmlrpc', u'skins', u'lolpy', u'haskell-learn', u'DailyProgBot', u'ouya-unity-plugin', u'html5lib-python', u'linux', u'pytm', u'djtm', u'pymel', u'gitignore', u'gamejam', u'hackage-server', u'Rift-Notes', u'soundcloud-dl', u'pithos', u'intercity', u'bbc2wp', u'pybackupz', u'flask-brobeur', u'BeOk', u'wcmStringPY', u'UniLua', u'Koha', u'bacongamejam05', u'testRepo', u'Triger', u'RedditPress', u'gimp', u'DeltaBot', u'Projects', u'unityluainterface', u'python-guide', u'LD48-Skins', u'SpotWalker-LD48', u'bgj05-hungry', u'broLove', u'BirdCage', u'python-pandora', u'miniprojects', u'RPIO', u'pyroster', u'iamagamer', u'tweepy', u'sshuttle', u'Cinnamon', u'battlenet', u'ipython', u'wirepil', u'ruby-warrior', u'raspi', u'HTML5-Tiny', u'clint', u'summingbird', u'AsylumJamCrushGame', u'imgur-python', u'unity-rts-demo', u'paintingautopy', u'brobeur-web', u'Bukkit', u'cocos2d-x', u'WordPress', u'massive-wright', u'django', u'SortPictures', u'python-twitter', u'Delicious-Chrome-Extension', u'intro_programming', u'ihaskell-notebook', u'opencompetencies', u'requests', u'cafrin', u'openfaux-server']\n"
       ]
      }
     ],
     "prompt_number": 41
    },
    {
     "cell_type": "code",
     "collapsed": false,
     "input": [
      "'''\n",
      "for gi in gitlist:\n",
      "    #print gi\n",
      "    #git.Git().clone(\"https://github.com/\" + theuser + \"/\" + dlrepo)\n",
      "    print (\"Downloading: \" + theuser + \"/\" + dlrepo)\n",
      "\n",
      "\n",
      "\n",
      "'''"
     ],
     "language": "python",
     "metadata": {},
     "outputs": [
      {
       "output_type": "pyout",
       "prompt_number": 42,
       "text": [
        "'\\nfor gi in gitlist:\\n    #print gi\\n    #git.Git().clone(\"https://github.com/\" + theuser + \"/\" + dlrepo)\\n    print (\"Downloading: \" + theuser + \"/\" + dlrepo)\\n\\n\\n\\n'"
       ]
      }
     ],
     "prompt_number": 42
    },
    {
     "cell_type": "code",
     "collapsed": false,
     "input": [
      "for gitbl in dlrepo:\n",
      "        git.Git().clone(\"https://github.com/\" + theuser + \"/\" + gitbl)\n",
      "        print ('https://github.com/wcmckee/' +  gitbl)"
     ],
     "language": "python",
     "metadata": {},
     "outputs": [
      {
       "output_type": "stream",
       "stream": "stdout",
       "text": [
        "https://github.com/wcmckee/UnityLuaIntegration\n",
        "https://github.com/wcmckee/molyjam2013"
       ]
      },
      {
       "output_type": "stream",
       "stream": "stdout",
       "text": [
        "\n",
        "https://github.com/wcmckee/prodo-game"
       ]
      },
      {
       "output_type": "stream",
       "stream": "stdout",
       "text": [
        "\n",
        "https://github.com/wcmckee/reddit_bot"
       ]
      },
      {
       "output_type": "stream",
       "stream": "stdout",
       "text": [
        "\n",
        "https://github.com/wcmckee/python-patterns"
       ]
      },
      {
       "output_type": "stream",
       "stream": "stdout",
       "text": [
        "\n",
        "https://github.com/wcmckee/marshmallow"
       ]
      },
      {
       "output_type": "stream",
       "stream": "stdout",
       "text": [
        "\n",
        "https://github.com/wcmckee/pyunderdog"
       ]
      },
      {
       "output_type": "stream",
       "stream": "stdout",
       "text": [
        "\n",
        "https://github.com/wcmckee/UIToolkit"
       ]
      },
      {
       "output_type": "stream",
       "stream": "stdout",
       "text": [
        "\n",
        "https://github.com/wcmckee/xboxdrv"
       ]
      },
      {
       "output_type": "stream",
       "stream": "stdout",
       "text": [
        "\n",
        "https://github.com/wcmckee/lqt"
       ]
      },
      {
       "output_type": "stream",
       "stream": "stdout",
       "text": [
        "\n",
        "https://github.com/wcmckee/python-wordpress-xmlrpc"
       ]
      },
      {
       "output_type": "stream",
       "stream": "stdout",
       "text": [
        "\n",
        "https://github.com/wcmckee/skins"
       ]
      },
      {
       "output_type": "stream",
       "stream": "stdout",
       "text": [
        "\n",
        "https://github.com/wcmckee/lolpy"
       ]
      },
      {
       "output_type": "stream",
       "stream": "stdout",
       "text": [
        "\n",
        "https://github.com/wcmckee/haskell-learn"
       ]
      },
      {
       "output_type": "stream",
       "stream": "stdout",
       "text": [
        "\n",
        "https://github.com/wcmckee/DailyProgBot"
       ]
      },
      {
       "output_type": "stream",
       "stream": "stdout",
       "text": [
        "\n",
        "https://github.com/wcmckee/ouya-unity-plugin"
       ]
      },
      {
       "output_type": "stream",
       "stream": "stdout",
       "text": [
        "\n",
        "https://github.com/wcmckee/html5lib-python"
       ]
      },
      {
       "ename": "GitCommandError",
       "evalue": "\"['git', 'clone', 'https://github.com/wcmckee/linux'] returned exit status 128\"",
       "output_type": "pyerr",
       "traceback": [
        "\u001b[0;31m---------------------------------------------------------------------------\u001b[0m\n\u001b[0;31mGitCommandError\u001b[0m                           Traceback (most recent call last)",
        "\u001b[0;32m<ipython-input-43-5214e158b44d>\u001b[0m in \u001b[0;36m<module>\u001b[0;34m()\u001b[0m\n\u001b[1;32m      1\u001b[0m \u001b[0;32mfor\u001b[0m \u001b[0mgitbl\u001b[0m \u001b[0;32min\u001b[0m \u001b[0mdlrepo\u001b[0m\u001b[0;34m:\u001b[0m\u001b[0;34m\u001b[0m\u001b[0m\n\u001b[0;32m----> 2\u001b[0;31m         \u001b[0mgit\u001b[0m\u001b[0;34m.\u001b[0m\u001b[0mGit\u001b[0m\u001b[0;34m(\u001b[0m\u001b[0;34m)\u001b[0m\u001b[0;34m.\u001b[0m\u001b[0mclone\u001b[0m\u001b[0;34m(\u001b[0m\u001b[0;34m\"https://github.com/\"\u001b[0m \u001b[0;34m+\u001b[0m \u001b[0mtheuser\u001b[0m \u001b[0;34m+\u001b[0m \u001b[0;34m\"/\"\u001b[0m \u001b[0;34m+\u001b[0m \u001b[0mgitbl\u001b[0m\u001b[0;34m)\u001b[0m\u001b[0;34m\u001b[0m\u001b[0m\n\u001b[0m\u001b[1;32m      3\u001b[0m         \u001b[0;32mprint\u001b[0m \u001b[0;34m(\u001b[0m\u001b[0;34m'https://github.com/wcmckee/'\u001b[0m \u001b[0;34m+\u001b[0m  \u001b[0mgitbl\u001b[0m\u001b[0;34m)\u001b[0m\u001b[0;34m\u001b[0m\u001b[0m\n",
        "\u001b[0;32m/usr/local/lib/python2.7/dist-packages/git/cmd.pyc\u001b[0m in \u001b[0;36m<lambda>\u001b[0;34m(*args, **kwargs)\u001b[0m\n\u001b[1;32m     56\u001b[0m         \u001b[0;32mif\u001b[0m \u001b[0mname\u001b[0m\u001b[0;34m[\u001b[0m\u001b[0;34m:\u001b[0m\u001b[0;36m1\u001b[0m\u001b[0;34m]\u001b[0m \u001b[0;34m==\u001b[0m \u001b[0;34m'_'\u001b[0m\u001b[0;34m:\u001b[0m\u001b[0;34m\u001b[0m\u001b[0m\n\u001b[1;32m     57\u001b[0m             \u001b[0;32mraise\u001b[0m \u001b[0mAttributeError\u001b[0m\u001b[0;34m(\u001b[0m\u001b[0mname\u001b[0m\u001b[0;34m)\u001b[0m\u001b[0;34m\u001b[0m\u001b[0m\n\u001b[0;32m---> 58\u001b[0;31m         \u001b[0;32mreturn\u001b[0m \u001b[0;32mlambda\u001b[0m \u001b[0;34m*\u001b[0m\u001b[0margs\u001b[0m\u001b[0;34m,\u001b[0m \u001b[0;34m**\u001b[0m\u001b[0mkwargs\u001b[0m\u001b[0;34m:\u001b[0m \u001b[0mself\u001b[0m\u001b[0;34m.\u001b[0m\u001b[0m_call_process\u001b[0m\u001b[0;34m(\u001b[0m\u001b[0mname\u001b[0m\u001b[0;34m,\u001b[0m \u001b[0;34m*\u001b[0m\u001b[0margs\u001b[0m\u001b[0;34m,\u001b[0m \u001b[0;34m**\u001b[0m\u001b[0mkwargs\u001b[0m\u001b[0;34m)\u001b[0m\u001b[0;34m\u001b[0m\u001b[0m\n\u001b[0m\u001b[1;32m     59\u001b[0m \u001b[0;34m\u001b[0m\u001b[0m\n\u001b[1;32m     60\u001b[0m     \u001b[0;34m@\u001b[0m\u001b[0mproperty\u001b[0m\u001b[0;34m\u001b[0m\u001b[0m\n",
        "\u001b[0;32m/usr/local/lib/python2.7/dist-packages/git/cmd.pyc\u001b[0m in \u001b[0;36m_call_process\u001b[0;34m(self, method, *args, **kwargs)\u001b[0m\n\u001b[1;32m    219\u001b[0m         \u001b[0mcall\u001b[0m\u001b[0;34m.\u001b[0m\u001b[0mextend\u001b[0m\u001b[0;34m(\u001b[0m\u001b[0margs\u001b[0m\u001b[0;34m)\u001b[0m\u001b[0;34m\u001b[0m\u001b[0m\n\u001b[1;32m    220\u001b[0m \u001b[0;34m\u001b[0m\u001b[0m\n\u001b[0;32m--> 221\u001b[0;31m         \u001b[0;32mreturn\u001b[0m \u001b[0mself\u001b[0m\u001b[0;34m.\u001b[0m\u001b[0mexecute\u001b[0m\u001b[0;34m(\u001b[0m\u001b[0mcall\u001b[0m\u001b[0;34m,\u001b[0m \u001b[0;34m**\u001b[0m\u001b[0m_kwargs\u001b[0m\u001b[0;34m)\u001b[0m\u001b[0;34m\u001b[0m\u001b[0m\n\u001b[0m",
        "\u001b[0;32m/usr/local/lib/python2.7/dist-packages/git/cmd.pyc\u001b[0m in \u001b[0;36mexecute\u001b[0;34m(self, command, istream, with_keep_cwd, with_extended_output, with_exceptions, with_raw_output)\u001b[0m\n\u001b[1;32m    144\u001b[0m \u001b[0;34m\u001b[0m\u001b[0m\n\u001b[1;32m    145\u001b[0m         \u001b[0;32mif\u001b[0m \u001b[0mwith_exceptions\u001b[0m \u001b[0;32mand\u001b[0m \u001b[0mstatus\u001b[0m \u001b[0;34m!=\u001b[0m \u001b[0;36m0\u001b[0m\u001b[0;34m:\u001b[0m\u001b[0;34m\u001b[0m\u001b[0m\n\u001b[0;32m--> 146\u001b[0;31m             \u001b[0;32mraise\u001b[0m \u001b[0mGitCommandError\u001b[0m\u001b[0;34m(\u001b[0m\u001b[0mcommand\u001b[0m\u001b[0;34m,\u001b[0m \u001b[0mstatus\u001b[0m\u001b[0;34m,\u001b[0m \u001b[0mstderr_value\u001b[0m\u001b[0;34m)\u001b[0m\u001b[0;34m\u001b[0m\u001b[0m\n\u001b[0m\u001b[1;32m    147\u001b[0m \u001b[0;34m\u001b[0m\u001b[0m\n\u001b[1;32m    148\u001b[0m         \u001b[0;32mif\u001b[0m \u001b[0mGIT_PYTHON_TRACE\u001b[0m \u001b[0;34m==\u001b[0m \u001b[0;34m'full'\u001b[0m\u001b[0;34m:\u001b[0m\u001b[0;34m\u001b[0m\u001b[0m\n",
        "\u001b[0;31mGitCommandError\u001b[0m: \"['git', 'clone', 'https://github.com/wcmckee/linux'] returned exit status 128\""
       ]
      },
      {
       "output_type": "stream",
       "stream": "stdout",
       "text": [
        "\n"
       ]
      }
     ],
     "prompt_number": 43
    },
    {
     "cell_type": "code",
     "collapsed": false,
     "input": [
      "git.Git().clone(\"https://github.com/wcmckee/BeOk\")"
     ],
     "language": "python",
     "metadata": {},
     "outputs": []
    },
    {
     "cell_type": "code",
     "collapsed": false,
     "input": [
      "repo = git.Repository('artcontrol-api')"
     ],
     "language": "python",
     "metadata": {},
     "outputs": []
    },
    {
     "cell_type": "code",
     "collapsed": false,
     "input": [
      "import git "
     ],
     "language": "python",
     "metadata": {},
     "outputs": []
    },
    {
     "cell_type": "code",
     "collapsed": false,
     "input": [
      "git.Git()"
     ],
     "language": "python",
     "metadata": {},
     "outputs": []
    },
    {
     "cell_type": "code",
     "collapsed": false,
     "input": [
      "repo.config.keys()"
     ],
     "language": "python",
     "metadata": {},
     "outputs": []
    },
    {
     "cell_type": "code",
     "collapsed": false,
     "input": [
      "re"
     ],
     "language": "python",
     "metadata": {},
     "outputs": []
    },
    {
     "cell_type": "code",
     "collapsed": false,
     "input": [
      "repo.clone('https://github.com/wcmckee/BeOk')"
     ],
     "language": "python",
     "metadata": {},
     "outputs": []
    },
    {
     "cell_type": "code",
     "collapsed": false,
     "input": [
      "ls"
     ],
     "language": "python",
     "metadata": {},
     "outputs": []
    },
    {
     "cell_type": "code",
     "collapsed": false,
     "input": [
      "cd https:/"
     ],
     "language": "python",
     "metadata": {},
     "outputs": []
    },
    {
     "cell_type": "code",
     "collapsed": false,
     "input": [
      "ls"
     ],
     "language": "python",
     "metadata": {},
     "outputs": []
    },
    {
     "cell_type": "code",
     "collapsed": false,
     "input": [
      "cd ..\n"
     ],
     "language": "python",
     "metadata": {},
     "outputs": []
    },
    {
     "cell_type": "code",
     "collapsed": false,
     "input": [
      "ls"
     ],
     "language": "python",
     "metadata": {},
     "outputs": []
    },
    {
     "cell_type": "code",
     "collapsed": false,
     "input": [
      "repo.iter_commits('master', max_count=100)"
     ],
     "language": "python",
     "metadata": {},
     "outputs": []
    },
    {
     "cell_type": "code",
     "collapsed": false,
     "input": [
      "hcommit = repo.head.commit"
     ],
     "language": "python",
     "metadata": {},
     "outputs": []
    },
    {
     "cell_type": "code",
     "collapsed": false,
     "input": [
      "idiff = hcommit.diff()"
     ],
     "language": "python",
     "metadata": {},
     "outputs": []
    },
    {
     "cell_type": "code",
     "collapsed": false,
     "input": [
      "index = repo.index"
     ],
     "language": "python",
     "metadata": {},
     "outputs": []
    },
    {
     "cell_type": "code",
     "collapsed": false,
     "input": [
      "from git import Repo\n",
      "\n",
      "\n",
      "Repo.clone_from('https://github.com/wcmckee/brobeur-web')"
     ],
     "language": "python",
     "metadata": {},
     "outputs": []
    },
    {
     "cell_type": "code",
     "collapsed": false,
     "input": [
      "from git import Repo"
     ],
     "language": "python",
     "metadata": {},
     "outputs": []
    },
    {
     "cell_type": "code",
     "collapsed": false,
     "input": [
      "tesgit = set(lisdir).intersection(gitlist)"
     ],
     "language": "python",
     "metadata": {},
     "outputs": []
    },
    {
     "cell_type": "code",
     "collapsed": false,
     "input": [
      "pwd"
     ],
     "language": "python",
     "metadata": {},
     "outputs": []
    },
    {
     "cell_type": "code",
     "collapsed": false,
     "input": [
      "os.makedirs('github')"
     ],
     "language": "python",
     "metadata": {},
     "outputs": []
    },
    {
     "cell_type": "code",
     "collapsed": false,
     "input": [],
     "language": "python",
     "metadata": {},
     "outputs": []
    },
    {
     "cell_type": "code",
     "collapsed": false,
     "input": [
      "urdir = ('home/' + theusr + '/github/'"
     ],
     "language": "python",
     "metadata": {},
     "outputs": []
    },
    {
     "cell_type": "code",
     "collapsed": false,
     "input": [
      "lisdir = os.listdir(urdir)"
     ],
     "language": "python",
     "metadata": {},
     "outputs": []
    }
   ],
   "metadata": {}
  }
 ]
}