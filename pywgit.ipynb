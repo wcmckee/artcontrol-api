{
 "metadata": {
  "name": "pywgit"
 },
 "nbformat": 3,
 "nbformat_minor": 0,
 "worksheets": [
  {
   "cells": [
    {
     "cell_type": "heading",
     "level": 1,
     "metadata": {},
     "source": [
      "pywgit"
     ]
    },
    {
     "cell_type": "markdown",
     "metadata": {},
     "source": [
      "This is a python script to download repos from github\n",
      "It takes the login name (wcmckee in my case) and downloads the repos of github user (the system login name). It downloads it to the home dir. \n",
      "The program checks if you have local folders that are also on github. It will skip them from downloading from github. "
     ]
    },
    {
     "cell_type": "markdown",
     "metadata": {},
     "source": [
      "This notebook also contains a project using new zealand transport data - cameras from around the country. It is a xml file that is opened and converted to a python dict. It is also converted to a json object, for giggles. \n",
      "I am always working with for loops and lists in python and rarely with dict. This project was perfect to getting me back to using dict. There is no python module for nz transport data so i had to work from xml (json doesn't seem to be an option). I had never converted xml over to python dict so it was a great chance to give it a go.\n",
      "During the process I felt I lost lots of work. Maybe it's because I'm working on a enourmous notebook.\n",
      "I have problems with getting the xml file and reading it. NZ Transport requires a login to access the data. I couldn't figure out how to get this to work with requests, but managed to run bash and curl then just save the output to file (linkz). \n"
     ]
    },
    {
     "cell_type": "code",
     "collapsed": false,
     "input": [
      "from github import Github\n",
      "import os\n",
      "import getpass\n",
      "import git"
     ],
     "language": "python",
     "metadata": {},
     "outputs": [],
     "prompt_number": 1
    },
    {
     "cell_type": "code",
     "collapsed": false,
     "input": [
      "theuser = getpass.getuser()"
     ],
     "language": "python",
     "metadata": {},
     "outputs": [],
     "prompt_number": 2
    },
    {
     "cell_type": "markdown",
     "metadata": {},
     "source": [
      "muliti support for user names - cycle through a list, user input, and get username from login. "
     ]
    },
    {
     "cell_type": "code",
     "collapsed": false,
     "input": [
      "usergen = ['ipython', 'wcmckee', 'drhealsgood', 'hamipy']"
     ],
     "language": "python",
     "metadata": {},
     "outputs": [],
     "prompt_number": 3
    },
    {
     "cell_type": "code",
     "collapsed": false,
     "input": [
      "userinput = raw_input('github username: ')"
     ],
     "language": "python",
     "metadata": {},
     "outputs": [
      {
       "ename": "StdinNotImplementedError",
       "evalue": "raw_input was called, but this frontend does not support stdin.",
       "output_type": "pyerr",
       "traceback": [
        "\u001b[1;31m---------------------------------------------------------------------------\u001b[0m\n\u001b[1;31mStdinNotImplementedError\u001b[0m                  Traceback (most recent call last)",
        "\u001b[1;32m<ipython-input-4-8bbba8f91ccc>\u001b[0m in \u001b[0;36m<module>\u001b[1;34m()\u001b[0m\n\u001b[1;32m----> 1\u001b[1;33m \u001b[0muserinput\u001b[0m \u001b[1;33m=\u001b[0m \u001b[0mraw_input\u001b[0m\u001b[1;33m(\u001b[0m\u001b[1;34m'github username: '\u001b[0m\u001b[1;33m)\u001b[0m\u001b[1;33m\u001b[0m\u001b[0m\n\u001b[0m",
        "\u001b[1;32m/usr/lib/python2.7/site-packages/IPython/zmq/ipkernel.pyc\u001b[0m in \u001b[0;36m<lambda>\u001b[1;34m(prompt)\u001b[0m\n\u001b[0;32m    343\u001b[0m             \u001b[0mraw_input\u001b[0m \u001b[1;33m=\u001b[0m \u001b[1;32mlambda\u001b[0m \u001b[0mprompt\u001b[0m\u001b[1;33m=\u001b[0m\u001b[1;34m''\u001b[0m\u001b[1;33m:\u001b[0m \u001b[0mself\u001b[0m\u001b[1;33m.\u001b[0m\u001b[0m_raw_input\u001b[0m\u001b[1;33m(\u001b[0m\u001b[0mprompt\u001b[0m\u001b[1;33m,\u001b[0m \u001b[0mident\u001b[0m\u001b[1;33m,\u001b[0m \u001b[0mparent\u001b[0m\u001b[1;33m)\u001b[0m\u001b[1;33m\u001b[0m\u001b[0m\n\u001b[0;32m    344\u001b[0m         \u001b[1;32melse\u001b[0m\u001b[1;33m:\u001b[0m\u001b[1;33m\u001b[0m\u001b[0m\n\u001b[1;32m--> 345\u001b[1;33m             \u001b[0mraw_input\u001b[0m \u001b[1;33m=\u001b[0m \u001b[1;32mlambda\u001b[0m \u001b[0mprompt\u001b[0m\u001b[1;33m=\u001b[0m\u001b[1;34m''\u001b[0m \u001b[1;33m:\u001b[0m \u001b[0mself\u001b[0m\u001b[1;33m.\u001b[0m\u001b[0m_no_raw_input\u001b[0m\u001b[1;33m(\u001b[0m\u001b[1;33m)\u001b[0m\u001b[1;33m\u001b[0m\u001b[0m\n\u001b[0m\u001b[0;32m    346\u001b[0m \u001b[1;33m\u001b[0m\u001b[0m\n\u001b[0;32m    347\u001b[0m         \u001b[1;32mif\u001b[0m \u001b[0mpy3compat\u001b[0m\u001b[1;33m.\u001b[0m\u001b[0mPY3\u001b[0m\u001b[1;33m:\u001b[0m\u001b[1;33m\u001b[0m\u001b[0m\n",
        "\u001b[1;32m/usr/lib/python2.7/site-packages/IPython/zmq/ipkernel.pyc\u001b[0m in \u001b[0;36m_no_raw_input\u001b[1;34m(self)\u001b[0m\n\u001b[0;32m    698\u001b[0m         \"\"\"Raise StdinNotImplentedError if active frontend doesn't support\n\u001b[0;32m    699\u001b[0m         stdin.\"\"\"\n\u001b[1;32m--> 700\u001b[1;33m         raise StdinNotImplementedError(\"raw_input was called, but this \"\n\u001b[0m\u001b[0;32m    701\u001b[0m                                        \"frontend does not support stdin.\") \n\u001b[0;32m    702\u001b[0m \u001b[1;33m\u001b[0m\u001b[0m\n",
        "\u001b[1;31mStdinNotImplementedError\u001b[0m: raw_input was called, but this frontend does not support stdin."
       ]
      }
     ],
     "prompt_number": 4
    },
    {
     "cell_type": "code",
     "collapsed": false,
     "input": [
      "for us in usergen:\n",
      "    print us"
     ],
     "language": "python",
     "metadata": {},
     "outputs": [
      {
       "output_type": "stream",
       "stream": "stdout",
       "text": [
        "ipython\n",
        "wcmckee\n",
        "drhealsgood\n",
        "hamipy\n"
       ]
      }
     ],
     "prompt_number": 5
    },
    {
     "cell_type": "code",
     "collapsed": false,
     "input": [
      "g = Github()"
     ],
     "language": "python",
     "metadata": {},
     "outputs": [],
     "prompt_number": 6
    },
    {
     "cell_type": "code",
     "collapsed": false,
     "input": [
      "import requests"
     ],
     "language": "python",
     "metadata": {},
     "outputs": [],
     "prompt_number": 7
    },
    {
     "cell_type": "code",
     "collapsed": false,
     "input": [
      "highgit = requests.get('https://infoconnect1.highwayinfo.govt.nz/ic/jbi/TrafficCameras/REST/FeedService/', auth=('williammckee', 'J3e6t8q5y2'))"
     ],
     "language": "python",
     "metadata": {},
     "outputs": [],
     "prompt_number": 8
    },
    {
     "cell_type": "code",
     "collapsed": false,
     "input": [
      "from requests.auth import HTTPBasicAuth\n",
      "\n",
      "theres = requests.get('https://infoconnect1.highwayinfo.govt.nz/ic/jbi/TrafficCameras/REST/FeedService/', auth=HTTPBasicAuth('williammckee', 'J3e6t8q5y2'))"
     ],
     "language": "python",
     "metadata": {},
     "outputs": [],
     "prompt_number": 9
    },
    {
     "cell_type": "code",
     "collapsed": false,
     "input": [
      "from requests.auth import HTTPDigestAuth\n",
      "url = 'https://infoconnect1.highwayinfo.govt.nz/ic/jbi/TrafficCameras/REST/FeedService/'\n",
      "workt = requests.get(url, auth=HTTPDigestAuth('williammckee', 'J3e6t8q5y2'))"
     ],
     "language": "python",
     "metadata": {},
     "outputs": [],
     "prompt_number": 10
    },
    {
     "cell_type": "code",
     "collapsed": false,
     "input": [
      "workt.text"
     ],
     "language": "python",
     "metadata": {},
     "outputs": [
      {
       "output_type": "pyout",
       "prompt_number": 11,
       "text": [
        "u\"<?xml version='1.0' encoding='UTF-8'?><Fault><faultcode>Server</faultcode><faultstring>An expected request parameter [username] was not found or is empty.</faultstring></Fault>\""
       ]
      }
     ],
     "prompt_number": 11
    },
    {
     "cell_type": "code",
     "collapsed": false,
     "input": [
      "theres.text"
     ],
     "language": "python",
     "metadata": {},
     "outputs": [
      {
       "output_type": "pyout",
       "prompt_number": 12,
       "text": [
        "u\"<?xml version='1.0' encoding='UTF-8'?><Fault><faultcode>Server</faultcode><faultstring>An expected request parameter [username] was not found or is empty.</faultstring></Fault>\""
       ]
      }
     ],
     "prompt_number": 12
    },
    {
     "cell_type": "code",
     "collapsed": false,
     "input": [
      "highgit.text"
     ],
     "language": "python",
     "metadata": {},
     "outputs": [
      {
       "output_type": "pyout",
       "prompt_number": 14,
       "text": [
        "u\"<?xml version='1.0' encoding='UTF-8'?><Fault><faultcode>Server</faultcode><faultstring>An expected request parameter [username] was not found or is empty.</faultstring></Fault>\""
       ]
      }
     ],
     "prompt_number": 14
    },
    {
     "cell_type": "code",
     "collapsed": false,
     "input": [
      "%%bash \n",
      "curl -u wcmckee:J3e6t8q5y2 https://infoconnect1.highwayinfo.govt.nz/ic/jbi/TrafficCameras/REST/FeedService/\n"
     ],
     "language": "python",
     "metadata": {},
     "outputs": [
      {
       "output_type": "stream",
       "stream": "stdout",
       "text": [
        "<?xml version='1.0' encoding='UTF-8'?><Fault><faultcode>Server</faultcode><faultstring>An expected request parameter [username] was not found or is empty.</faultstring></Fault>"
       ]
      },
      {
       "output_type": "stream",
       "stream": "stderr",
       "text": [
        "  % Total    % Received % Xferd  Average Speed   Time    Time     Time  Current\n",
        "                                 Dload  Upload   Total   Spent    Left  Speed\n",
        "\r",
        "  0     0    0     0    0     0      0      0 --:--:-- --:--:-- --:--:--     0\r",
        "  0     0    0     0    0     0      0      0 --:--:-- --:--:-- --:--:--     0\r",
        "100   176    0   176    0     0    283      0 --:--:-- --:--:-- --:--:--   283\n"
       ]
      }
     ],
     "prompt_number": 15
    },
    {
     "cell_type": "code",
     "collapsed": false,
     "input": [
      "%%bash\n",
      "curl -k -H \"username: williammckee\" -H \"password: J3e6t8q5y2\" -o linkz https://infoconnect1.highwayinfo.govt.nz/ic/jbi/TrafficCameras/REST/FeedService/\n",
      "\n"
     ],
     "language": "python",
     "metadata": {},
     "outputs": [
      {
       "output_type": "stream",
       "stream": "stderr",
       "text": [
        "  % Total    % Received % Xferd  Average Speed   Time    Time     Time  Current\n",
        "                                 Dload  Upload   Total   Spent    Left  Speed\n",
        "\r",
        "  0     0    0     0    0     0      0      0 --:--:-- --:--:-- --:--:--     0\r",
        "  0     0    0     0    0     0      0      0 --:--:-- --:--:-- --:--:--     0\r",
        "100 32929    0 32929    0     0  40809      0 --:--:-- --:--:-- --:--:-- 40804\n"
       ]
      }
     ],
     "prompt_number": 26
    },
    {
     "cell_type": "code",
     "collapsed": false,
     "input": [
      "opcon = open('linkz', 'r')"
     ],
     "language": "python",
     "metadata": {},
     "outputs": [],
     "prompt_number": 35
    },
    {
     "cell_type": "code",
     "collapsed": false,
     "input": [
      "data= opcon.read()"
     ],
     "language": "python",
     "metadata": {},
     "outputs": [],
     "prompt_number": 36
    },
    {
     "cell_type": "code",
     "collapsed": false,
     "input": [
      "import xmltodict"
     ],
     "language": "python",
     "metadata": {},
     "outputs": [],
     "prompt_number": 29
    },
    {
     "cell_type": "code",
     "collapsed": false,
     "input": [
      "savxml = open('/home/will/Desktop/brobeur-static/feeds/all.atom.xml', 'w')\n"
     ],
     "language": "python",
     "metadata": {},
     "outputs": [],
     "prompt_number": 30
    },
    {
     "cell_type": "code",
     "collapsed": false,
     "input": [
      "savxml.write(data)"
     ],
     "language": "python",
     "metadata": {},
     "outputs": [],
     "prompt_number": 31
    },
    {
     "cell_type": "code",
     "collapsed": false,
     "input": [
      "savxml.close()"
     ],
     "language": "python",
     "metadata": {},
     "outputs": [],
     "prompt_number": 32
    },
    {
     "cell_type": "code",
     "collapsed": false,
     "input": [
      "oprnjsn = open('/home/will/Desktop/brobeur-static/feeds/"
     ],
     "language": "python",
     "metadata": {},
     "outputs": []
    },
    {
     "cell_type": "code",
     "collapsed": false,
     "input": [
      "opnxml = open('/home/will/Desktop/brobeur-static/feeds/all.atom.xml', 'r')"
     ],
     "language": "python",
     "metadata": {},
     "outputs": [],
     "prompt_number": 33
    },
    {
     "cell_type": "code",
     "collapsed": false,
     "input": [
      "opnxml.read()"
     ],
     "language": "python",
     "metadata": {},
     "outputs": [
      {
       "output_type": "pyout",
       "prompt_number": 34,
       "text": [
        "'<?xml version=\\'1.0\\' encoding=\\'UTF-8\\'?><tns:getCamerasResponse xmlns:rem=\"http://remote.service.callcenter.nzta.govt.nz\" xmlns:tns=\"https://infoconnect.highwayinfo.govt.nz/schemas/camera\" xmlns:xsd=\"http://www.w3.org/2001/XMLSchema\" xmlns:xsi=\"http://www.w3.org/2001/XMLSchema-instance\"><tns:camera><tns:id>130</tns:id><tns:name>SH16 1 Bond St</tns:name><tns:description>Bond St looking east</tns:description><tns:offline>false</tns:offline><tns:underMaintenance>false</tns:underMaintenance><tns:imageUrl>http://www.trafficnz.info/camera/130.jpg</tns:imageUrl><tns:viewUrl>http://www.trafficnz.info/camera/view/130</tns:viewUrl><tns:mapx>142</tns:mapx><tns:mapy>229</tns:mapy><tns:congestionLocation><tns:name>St Lukes Rd - Newton Rd</tns:name><tns:direction>Eastbound</tns:direction><tns:congestion>Free Flow</tns:congestion></tns:congestionLocation><tns:congestionLocation><tns:name>Newton Rd - St Lukes Rd</tns:name><tns:direction>Westbound</tns:direction><tns:congestion>Free Flow</tns:congestion></tns:congestionLocation></tns:camera><tns:camera><tns:id>140</tns:id><tns:name>SH16 2 Gt North Rd</tns:name><tns:description>Gt North Road looking west</tns:description><tns:offline>false</tns:offline><tns:underMaintenance>false</tns:underMaintenance><tns:imageUrl>http://www.trafficnz.info/camera/140.jpg</tns:imageUrl><tns:viewUrl>http://www.trafficnz.info/camera/view/140</tns:viewUrl><tns:mapx>113</tns:mapx><tns:mapy>232</tns:mapy><tns:congestionLocation><tns:name>Rosebank Rd - Great Nth Rd Waterview</tns:name><tns:direction>Eastbound</tns:direction><tns:congestion>Free Flow</tns:congestion></tns:congestionLocation><tns:congestionLocation><tns:name>Great Nth Rd Waterview - Rosebank Rd</tns:name><tns:direction>Westbound</tns:direction><tns:congestion>Free Flow</tns:congestion></tns:congestionLocation></tns:camera><tns:camera><tns:id>150</tns:id><tns:name>SH16 3 Te Atatu Rd</tns:name><tns:description>Te Atatu Road looking east</tns:description><tns:offline>false</tns:offline><tns:underMaintenance>false</tns:underMaintenance><tns:imageUrl>http://www.trafficnz.info/camera/150.jpg</tns:imageUrl><tns:viewUrl>http://www.trafficnz.info/camera/view/150</tns:viewUrl><tns:mapx>70</tns:mapx><tns:mapy>216</tns:mapy><tns:congestionLocation><tns:name>Rosebank Rd - Te Atatu Rd</tns:name><tns:direction>Westbound</tns:direction><tns:congestion>Free Flow</tns:congestion></tns:congestionLocation><tns:congestionLocation><tns:name>Te Atatu Rd - Rosebank Rd</tns:name><tns:direction>Eastbound</tns:direction><tns:congestion>Free Flow</tns:congestion></tns:congestionLocation></tns:camera><tns:camera><tns:id>160</tns:id><tns:name>SH16 4 Lincoln Rd E</tns:name><tns:description>Lincoln Rd  looking west</tns:description><tns:offline>false</tns:offline><tns:underMaintenance>false</tns:underMaintenance><tns:imageUrl>http://www.trafficnz.info/camera/160.jpg</tns:imageUrl><tns:viewUrl>http://www.trafficnz.info/camera/view/160</tns:viewUrl><tns:mapx>52</tns:mapx><tns:mapy>207</tns:mapy><tns:congestionLocation><tns:name>Lincoln Rd - Te Atatu Rd</tns:name><tns:direction>Eastbound</tns:direction><tns:congestion>Free Flow</tns:congestion></tns:congestionLocation><tns:congestionLocation><tns:name>Te Atatu Rd - Lincoln Rd</tns:name><tns:direction>Westbound</tns:direction><tns:congestion>Free Flow</tns:congestion></tns:congestionLocation></tns:camera><tns:camera><tns:id>170</tns:id><tns:name>SH16 5 Lincoln Rd W</tns:name><tns:description>Lincoln Rd looking east</tns:description><tns:offline>false</tns:offline><tns:underMaintenance>false</tns:underMaintenance><tns:imageUrl>http://www.trafficnz.info/camera/170.jpg</tns:imageUrl><tns:viewUrl>http://www.trafficnz.info/camera/view/170</tns:viewUrl><tns:mapx>35</tns:mapx><tns:mapy>207</tns:mapy><tns:congestionLocation><tns:name>Lincoln Rd - Royal Rd</tns:name><tns:direction>Westbound</tns:direction><tns:congestion>Free Flow</tns:congestion></tns:congestionLocation><tns:congestionLocation><tns:name>Royal Rd - Lincoln Rd</tns:name><tns:direction>Eastbound</tns:direction><tns:congestion>Free Flow</tns:congestion></tns:congestionLocation></tns:camera><tns:camera><tns:id>270</tns:id><tns:name>SH16 6 Hobsonville W</tns:name><tns:description>Hobsonville looking West towards Kumeu</tns:description><tns:offline>false</tns:offline><tns:underMaintenance>false</tns:underMaintenance><tns:imageUrl>http://www.trafficnz.info/camera/270.jpg</tns:imageUrl><tns:viewUrl>http://www.trafficnz.info/camera/view/270</tns:viewUrl><tns:mapx>0</tns:mapx><tns:mapy>0</tns:mapy></tns:camera><tns:camera><tns:id>271</tns:id><tns:name>SH16 7 Hobsonville E</tns:name><tns:description>Hobsonville Road looking East</tns:description><tns:offline>false</tns:offline><tns:underMaintenance>false</tns:underMaintenance><tns:imageUrl>http://www.trafficnz.info/camera/271.jpg</tns:imageUrl><tns:viewUrl>http://www.trafficnz.info/camera/view/271</tns:viewUrl><tns:mapx>0</tns:mapx><tns:mapy>0</tns:mapy></tns:camera><tns:camera><tns:id>221</tns:id><tns:name>SH18 Trig Rd</tns:name><tns:description>Trig Rd looking west</tns:description><tns:offline>false</tns:offline><tns:underMaintenance>false</tns:underMaintenance><tns:imageUrl>http://www.trafficnz.info/camera/221.jpg</tns:imageUrl><tns:viewUrl>http://www.trafficnz.info/camera/view/221</tns:viewUrl><tns:mapx>0</tns:mapx><tns:mapy>0</tns:mapy></tns:camera><tns:camera><tns:id>222</tns:id><tns:name>SH18 Waiahora Creek</tns:name><tns:description>Upper harbour motorway looking west</tns:description><tns:offline>false</tns:offline><tns:underMaintenance>false</tns:underMaintenance><tns:imageUrl>http://www.trafficnz.info/camera/222.jpg</tns:imageUrl><tns:viewUrl>http://www.trafficnz.info/camera/view/222</tns:viewUrl><tns:mapx>0</tns:mapx><tns:mapy>0</tns:mapy></tns:camera><tns:camera><tns:id>223</tns:id><tns:name>SH18 Brigham Creek</tns:name><tns:description>Upper harbour motorway looking East</tns:description><tns:offline>false</tns:offline><tns:underMaintenance>false</tns:underMaintenance><tns:imageUrl>http://www.trafficnz.info/camera/223.jpg</tns:imageUrl><tns:viewUrl>http://www.trafficnz.info/camera/view/223</tns:viewUrl><tns:mapx>0</tns:mapx><tns:mapy>0</tns:mapy></tns:camera><tns:camera><tns:id>224</tns:id><tns:name>SH18 Sinton Rd</tns:name><tns:description>Upper harbour motorway looking west</tns:description><tns:offline>false</tns:offline><tns:underMaintenance>false</tns:underMaintenance><tns:imageUrl>http://www.trafficnz.info/camera/224.jpg</tns:imageUrl><tns:viewUrl>http://www.trafficnz.info/camera/view/224</tns:viewUrl><tns:mapx>0</tns:mapx><tns:mapy>0</tns:mapy></tns:camera><tns:camera><tns:id>225</tns:id><tns:name>SH18 Squadron Dr</tns:name><tns:description>Upper harbour motorway looking east</tns:description><tns:offline>false</tns:offline><tns:underMaintenance>false</tns:underMaintenance><tns:imageUrl>http://www.trafficnz.info/camera/225.jpg</tns:imageUrl><tns:viewUrl>http://www.trafficnz.info/camera/view/225</tns:viewUrl><tns:mapx>0</tns:mapx><tns:mapy>0</tns:mapy></tns:camera><tns:camera><tns:id>171</tns:id><tns:name>SH18 6 Tauhinu BRG</tns:name><tns:description>Tauhinu bridge looking east</tns:description><tns:offline>false</tns:offline><tns:underMaintenance>false</tns:underMaintenance><tns:imageUrl>http://www.trafficnz.info/camera/171.jpg</tns:imageUrl><tns:viewUrl>http://www.trafficnz.info/camera/view/171</tns:viewUrl><tns:mapx>60</tns:mapx><tns:mapy>207</tns:mapy></tns:camera><tns:camera><tns:id>172</tns:id><tns:name>SH18 7 Albany HWY</tns:name><tns:description>Albany Highway Looking East</tns:description><tns:offline>false</tns:offline><tns:underMaintenance>false</tns:underMaintenance><tns:imageUrl>http://www.trafficnz.info/camera/172.jpg</tns:imageUrl><tns:viewUrl>http://www.trafficnz.info/camera/view/172</tns:viewUrl><tns:mapx>35</tns:mapx><tns:mapy>207</tns:mapy></tns:camera><tns:camera><tns:id>173</tns:id><tns:name>SH18 8 Tauhinu East</tns:name><tns:description>Tauhinu East Looking East</tns:description><tns:offline>false</tns:offline><tns:underMaintenance>false</tns:underMaintenance><tns:imageUrl>http://www.trafficnz.info/camera/173.jpg</tns:imageUrl><tns:viewUrl>http://www.trafficnz.info/camera/view/173</tns:viewUrl><tns:mapx>35</tns:mapx><tns:mapy>207</tns:mapy></tns:camera><tns:camera><tns:id>174</tns:id><tns:name>SH18 9 Paul Matthews</tns:name><tns:description>Paul matthews looking east</tns:description><tns:offline>false</tns:offline><tns:underMaintenance>false</tns:underMaintenance><tns:imageUrl>http://www.trafficnz.info/camera/174.jpg</tns:imageUrl><tns:viewUrl>http://www.trafficnz.info/camera/view/174</tns:viewUrl><tns:mapx>35</tns:mapx><tns:mapy>207</tns:mapy></tns:camera><tns:camera><tns:id>175</tns:id><tns:name>SH18 10 Greenhithe</tns:name><tns:description>Greenhithe Rd looking east</tns:description><tns:offline>false</tns:offline><tns:underMaintenance>false</tns:underMaintenance><tns:imageUrl>http://www.trafficnz.info/camera/175.jpg</tns:imageUrl><tns:viewUrl>http://www.trafficnz.info/camera/view/175</tns:viewUrl><tns:mapx>35</tns:mapx><tns:mapy>207</tns:mapy></tns:camera><tns:camera><tns:id>176</tns:id><tns:name>SH18 11 George Deane</tns:name><tns:description>George deane looking east</tns:description><tns:offline>true</tns:offline><tns:underMaintenance>true</tns:underMaintenance><tns:imageUrl>http://www.trafficnz.info/camera/176.jpg</tns:imageUrl><tns:viewUrl>http://www.trafficnz.info/camera/view/176</tns:viewUrl><tns:mapx>35</tns:mapx><tns:mapy>207</tns:mapy></tns:camera><tns:camera><tns:id>177</tns:id><tns:name>SH18 12 Upper Hbr CW</tns:name><tns:description>Upper harbour looking east</tns:description><tns:offline>false</tns:offline><tns:underMaintenance>false</tns:underMaintenance><tns:imageUrl>http://www.trafficnz.info/camera/177.jpg</tns:imageUrl><tns:viewUrl>http://www.trafficnz.info/camera/view/177</tns:viewUrl><tns:mapx>35</tns:mapx><tns:mapy>207</tns:mapy></tns:camera><tns:camera><tns:id>178</tns:id><tns:name>SH18 13 Wicklam Lane</tns:name><tns:description>Wicklam Lane looking west</tns:description><tns:offline>false</tns:offline><tns:underMaintenance>false</tns:underMaintenance><tns:imageUrl>http://www.trafficnz.info/camera/178.jpg</tns:imageUrl><tns:viewUrl>http://www.trafficnz.info/camera/view/178</tns:viewUrl><tns:mapx>35</tns:mapx><tns:mapy>207</tns:mapy></tns:camera><tns:camera><tns:id>10</tns:id><tns:name>SH1 1 Greville Rd</tns:name><tns:description>Greville road looking south</tns:description><tns:offline>false</tns:offline><tns:underMaintenance>false</tns:underMaintenance><tns:imageUrl>http://www.trafficnz.info/camera/10.jpg</tns:imageUrl><tns:viewUrl>http://www.trafficnz.info/camera/view/10</tns:viewUrl><tns:mapx>125</tns:mapx><tns:mapy>71</tns:mapy><tns:congestionLocation><tns:name>Upper Harb Hwy - Oteha Valley Rd</tns:name><tns:direction>Northbound</tns:direction><tns:congestion>Free Flow</tns:congestion></tns:congestionLocation><tns:congestionLocation><tns:name>Oteha Valley Rd - Upper Harb Hwy</tns:name><tns:direction>Southbound</tns:direction><tns:congestion>Free Flow</tns:congestion></tns:congestionLocation></tns:camera><tns:camera><tns:id>20</tns:id><tns:name>SH1 2 Tristram Ave</tns:name><tns:description>Tristram Avenue looking south</tns:description><tns:offline>false</tns:offline><tns:underMaintenance>false</tns:underMaintenance><tns:imageUrl>http://www.trafficnz.info/camera/20.jpg</tns:imageUrl><tns:viewUrl>http://www.trafficnz.info/camera/view/20</tns:viewUrl><tns:mapx>148</tns:mapx><tns:mapy>118</tns:mapy><tns:congestionLocation><tns:name>Tristram Ave - Esmonde Rd</tns:name><tns:direction>Southbound</tns:direction><tns:congestion>Free Flow</tns:congestion></tns:congestionLocation><tns:congestionLocation><tns:name>Esmonde Rd - Tristram Ave</tns:name><tns:direction>Northbound</tns:direction><tns:congestion>Free Flow</tns:congestion></tns:congestionLocation></tns:camera><tns:camera><tns:id>30</tns:id><tns:name>SH1 3 Northcote Rd</tns:name><tns:description>Northcote Rd looking north</tns:description><tns:offline>false</tns:offline><tns:underMaintenance>false</tns:underMaintenance><tns:imageUrl>http://www.trafficnz.info/camera/30.jpg</tns:imageUrl><tns:viewUrl>http://www.trafficnz.info/camera/view/30</tns:viewUrl><tns:mapx>156</tns:mapx><tns:mapy>141</tns:mapy><tns:congestionLocation><tns:name>Tristram Ave - Esmonde Rd</tns:name><tns:direction>Southbound</tns:direction><tns:congestion>Free Flow</tns:congestion></tns:congestionLocation><tns:congestionLocation><tns:name>Esmonde Rd - Tristram Ave</tns:name><tns:direction>Northbound</tns:direction><tns:congestion>Free Flow</tns:congestion></tns:congestionLocation></tns:camera><tns:camera><tns:id>40</tns:id><tns:name>SH1 4 Esmonde Rd</tns:name><tns:description>Esmonde Rd looking south</tns:description><tns:offline>false</tns:offline><tns:underMaintenance>false</tns:underMaintenance><tns:imageUrl>http://www.trafficnz.info/camera/40.jpg</tns:imageUrl><tns:viewUrl>http://www.trafficnz.info/camera/view/40</tns:viewUrl><tns:mapx>178</tns:mapx><tns:mapy>146</tns:mapy><tns:congestionLocation><tns:name>Esmonde Rd - Onewa</tns:name><tns:direction>Southbound</tns:direction><tns:congestion>Free Flow</tns:congestion></tns:congestionLocation><tns:congestionLocation><tns:name>Stafford Rd - Esmonde Rd</tns:name><tns:direction>Northbound</tns:direction><tns:congestion>Free Flow</tns:congestion></tns:congestionLocation></tns:camera><tns:camera><tns:id>50</tns:id><tns:name>SH1 5 Onewa Rd</tns:name><tns:description>Onewa Rd looking south</tns:description><tns:offline>false</tns:offline><tns:underMaintenance>false</tns:underMaintenance><tns:imageUrl>http://www.trafficnz.info/camera/50.jpg</tns:imageUrl><tns:viewUrl>http://www.trafficnz.info/camera/view/50</tns:viewUrl><tns:mapx>157</tns:mapx><tns:mapy>162</tns:mapy><tns:congestionLocation><tns:name>Harbour Bridge</tns:name><tns:direction>Southbound</tns:direction><tns:congestion>Free Flow</tns:congestion></tns:congestionLocation><tns:congestionLocation><tns:name>Stafford Rd - Esmonde Rd</tns:name><tns:direction>Northbound</tns:direction><tns:congestion>Free Flow</tns:congestion></tns:congestionLocation></tns:camera><tns:camera><tns:id>215</tns:id><tns:name>SH1 Alpurt Web cam</tns:name><tns:description>Johnstone hill tunnels looking south</tns:description><tns:offline>false</tns:offline><tns:underMaintenance>false</tns:underMaintenance><tns:imageUrl>http://www.trafficnz.info/camera/215.jpg</tns:imageUrl><tns:viewUrl>http://www.trafficnz.info/camera/view/215</tns:viewUrl><tns:mapx>0</tns:mapx><tns:mapy>0</tns:mapy></tns:camera><tns:camera><tns:id>212</tns:id><tns:name>SH1 17 Goodwood</tns:name><tns:description>Goodwood heights looking south</tns:description><tns:offline>false</tns:offline><tns:underMaintenance>false</tns:underMaintenance><tns:imageUrl>http://www.trafficnz.info/camera/212.jpg</tns:imageUrl><tns:viewUrl>http://www.trafficnz.info/camera/view/212</tns:viewUrl><tns:mapx>0</tns:mapx><tns:mapy>0</tns:mapy></tns:camera><tns:camera><tns:id>214</tns:id><tns:name>SH1 18 Rainbows End</tns:name><tns:description>Rainbows End looking north at SH1 and SH20 link</tns:description><tns:offline>false</tns:offline><tns:underMaintenance>false</tns:underMaintenance><tns:imageUrl>http://www.trafficnz.info/camera/214.jpg</tns:imageUrl><tns:viewUrl>http://www.trafficnz.info/camera/view/214</tns:viewUrl><tns:mapx>0</tns:mapx><tns:mapy>0</tns:mapy></tns:camera><tns:camera><tns:id>60</tns:id><tns:name>SH1 1 CMJ</tns:name><tns:description>Central motorway junction looking south at the link between state highways 1 and 16</tns:description><tns:offline>false</tns:offline><tns:underMaintenance>false</tns:underMaintenance><tns:imageUrl>http://www.trafficnz.info/camera/60.jpg</tns:imageUrl><tns:viewUrl>http://www.trafficnz.info/camera/view/60</tns:viewUrl><tns:mapx>162</tns:mapx><tns:mapy>217</tns:mapy><tns:congestionLocation><tns:name>Nelson St - Gillies Ave</tns:name><tns:direction>Southbound</tns:direction><tns:congestion>Free Flow</tns:congestion></tns:congestionLocation></tns:camera><tns:camera><tns:id>70</tns:id><tns:name>SH1 2 Market Rd</tns:name><tns:description>Southern motorway at newmarket looking south towards the Market  Rd overbridge</tns:description><tns:offline>false</tns:offline><tns:underMaintenance>false</tns:underMaintenance><tns:imageUrl>http://www.trafficnz.info/camera/70.jpg</tns:imageUrl><tns:viewUrl>http://www.trafficnz.info/camera/view/70</tns:viewUrl><tns:mapx>183</tns:mapx><tns:mapy>241</tns:mapy><tns:congestionLocation><tns:name>Greenlane - Gillies Ave</tns:name><tns:direction>Northbound</tns:direction><tns:congestion>Free Flow</tns:congestion></tns:congestionLocation><tns:congestionLocation><tns:name>Gillies Ave - Greenlane</tns:name><tns:direction>Southbound</tns:direction><tns:congestion>Free Flow</tns:congestion></tns:congestionLocation></tns:camera><tns:camera><tns:id>80</tns:id><tns:name>SH1 3 Greenlane Rd</tns:name><tns:description>Greenlane Rd looking north</tns:description><tns:offline>false</tns:offline><tns:underMaintenance>false</tns:underMaintenance><tns:imageUrl>http://www.trafficnz.info/camera/80.jpg</tns:imageUrl><tns:viewUrl>http://www.trafficnz.info/camera/view/80</tns:viewUrl><tns:mapx>198</tns:mapx><tns:mapy>262</tns:mapy><tns:congestionLocation><tns:name>Greenlane - Gillies Ave</tns:name><tns:direction>Northbound</tns:direction><tns:congestion>Free Flow</tns:congestion></tns:congestionLocation><tns:congestionLocation><tns:name>Gillies Ave - Greenlane</tns:name><tns:direction>Southbound</tns:direction><tns:congestion>Free Flow</tns:congestion></tns:congestionLocation></tns:camera><tns:camera><tns:id>90</tns:id><tns:name>SH1 4 SE Highway</tns:name><tns:description>South eastern highway looking south</tns:description><tns:offline>false</tns:offline><tns:underMaintenance>false</tns:underMaintenance><tns:imageUrl>http://www.trafficnz.info/camera/90.jpg</tns:imageUrl><tns:viewUrl>http://www.trafficnz.info/camera/view/90</tns:viewUrl><tns:mapx>219</tns:mapx><tns:mapy>278</tns:mapy><tns:congestionLocation><tns:name>SE Highway - Mt Wellington Hway</tns:name><tns:direction>Southbound</tns:direction><tns:congestion>Free Flow</tns:congestion></tns:congestionLocation><tns:congestionLocation><tns:name>Mt Wellington Hway - SE Highway</tns:name><tns:direction>Northbound</tns:direction><tns:congestion>Free Flow</tns:congestion></tns:congestionLocation></tns:camera><tns:camera><tns:id>100</tns:id><tns:name>SH1 5 Redoubt Rd</tns:name><tns:description>Redoubt Rd looking north</tns:description><tns:offline>false</tns:offline><tns:underMaintenance>false</tns:underMaintenance><tns:imageUrl>http://www.trafficnz.info/camera/100.jpg</tns:imageUrl><tns:viewUrl>http://www.trafficnz.info/camera/view/100</tns:viewUrl><tns:mapx>254</tns:mapx><tns:mapy>341</tns:mapy><tns:congestionLocation><tns:name>Redoubt Rd - Hill Rd</tns:name><tns:direction>Southbound</tns:direction><tns:congestion>Free Flow</tns:congestion></tns:congestionLocation><tns:congestionLocation><tns:name>Hill Rd - Redoubt Rd</tns:name><tns:direction>Northbound</tns:direction><tns:congestion>Free Flow</tns:congestion></tns:congestionLocation></tns:camera><tns:camera><tns:id>110</tns:id><tns:name>SH1 6 Bairds Rd</tns:name><tns:description>Bairds Rd looking north</tns:description><tns:offline>false</tns:offline><tns:underMaintenance>false</tns:underMaintenance><tns:imageUrl>http://www.trafficnz.info/camera/110.jpg</tns:imageUrl><tns:viewUrl>http://www.trafficnz.info/camera/view/110</tns:viewUrl><tns:mapx>275</tns:mapx><tns:mapy>383</tns:mapy><tns:congestionLocation><tns:name>Princes St - East Tamaki Rd</tns:name><tns:direction>Southbound</tns:direction><tns:congestion>Free Flow</tns:congestion></tns:congestionLocation><tns:congestionLocation><tns:name>East Tamaki Rd - Princes St</tns:name><tns:direction>Northbound</tns:direction><tns:congestion>Free Flow</tns:congestion></tns:congestionLocation></tns:camera><tns:camera><tns:id>120</tns:id><tns:name>SH1 7 Alfriston Rd</tns:name><tns:description>Alfriston Rd looking north</tns:description><tns:offline>false</tns:offline><tns:underMaintenance>false</tns:underMaintenance><tns:imageUrl>http://www.trafficnz.info/camera/120.jpg</tns:imageUrl><tns:viewUrl>http://www.trafficnz.info/camera/view/120</tns:viewUrl><tns:mapx>291</tns:mapx><tns:mapy>411</tns:mapy><tns:congestionLocation><tns:name>Hill Rd - Takanini</tns:name><tns:direction>Southbound</tns:direction><tns:congestion>Free Flow</tns:congestion></tns:congestionLocation><tns:congestionLocation><tns:name>Takanini - Hill Rd</tns:name><tns:direction>Northbound</tns:direction><tns:congestion>Free Flow</tns:congestion></tns:congestionLocation></tns:camera><tns:camera><tns:id>121</tns:id><tns:name>SH1 8 Takanini</tns:name><tns:description>Takanini looking south</tns:description><tns:offline>false</tns:offline><tns:underMaintenance>false</tns:underMaintenance><tns:imageUrl>http://www.trafficnz.info/camera/121.jpg</tns:imageUrl><tns:viewUrl>http://www.trafficnz.info/camera/view/121</tns:viewUrl><tns:mapx>290</tns:mapx><tns:mapy>380</tns:mapy></tns:camera><tns:camera><tns:id>122</tns:id><tns:name>SH1 9 Walter Streven</tns:name><tns:description>Walter-Strevens Drive looking south</tns:description><tns:offline>false</tns:offline><tns:underMaintenance>false</tns:underMaintenance><tns:imageUrl>http://www.trafficnz.info/camera/122.jpg</tns:imageUrl><tns:viewUrl>http://www.trafficnz.info/camera/view/122</tns:viewUrl><tns:mapx>285</tns:mapx><tns:mapy>400</tns:mapy></tns:camera><tns:camera><tns:id>123</tns:id><tns:name>SH1 10 Pahurehure</tns:name><tns:description>Pahurehure looking south</tns:description><tns:offline>false</tns:offline><tns:underMaintenance>false</tns:underMaintenance><tns:imageUrl>http://www.trafficnz.info/camera/123.jpg</tns:imageUrl><tns:viewUrl>http://www.trafficnz.info/camera/view/123</tns:viewUrl><tns:mapx>265</tns:mapx><tns:mapy>410</tns:mapy></tns:camera><tns:camera><tns:id>124</tns:id><tns:name>SH1 11 Rushgreen Ave</tns:name><tns:description>Rushgreen Ave looking south</tns:description><tns:offline>false</tns:offline><tns:underMaintenance>false</tns:underMaintenance><tns:imageUrl>http://www.trafficnz.info/camera/124.jpg</tns:imageUrl><tns:viewUrl>http://www.trafficnz.info/camera/view/124</tns:viewUrl><tns:mapx>285</tns:mapx><tns:mapy>420</tns:mapy></tns:camera><tns:camera><tns:id>125</tns:id><tns:name>SH1 12 Park Estate</tns:name><tns:description>Park estate looking south</tns:description><tns:offline>false</tns:offline><tns:underMaintenance>false</tns:underMaintenance><tns:imageUrl>http://www.trafficnz.info/camera/125.jpg</tns:imageUrl><tns:viewUrl>http://www.trafficnz.info/camera/view/125</tns:viewUrl><tns:mapx>300</tns:mapx><tns:mapy>430</tns:mapy></tns:camera><tns:camera><tns:id>126</tns:id><tns:name>SH1 13 Slippery Crk</tns:name><tns:description>Slippery Creek looking  south</tns:description><tns:offline>false</tns:offline><tns:underMaintenance>false</tns:underMaintenance><tns:imageUrl>http://www.trafficnz.info/camera/126.jpg</tns:imageUrl><tns:viewUrl>http://www.trafficnz.info/camera/view/126</tns:viewUrl><tns:mapx>286</tns:mapx><tns:mapy>445</tns:mapy></tns:camera><tns:camera><tns:id>274</tns:id><tns:name>SH20A Montgomerie Rd</tns:name><tns:description>Montgomerie Rd looking east</tns:description><tns:offline>false</tns:offline><tns:underMaintenance>false</tns:underMaintenance><tns:imageUrl>http://www.trafficnz.info/camera/274.jpg</tns:imageUrl><tns:viewUrl>http://www.trafficnz.info/camera/view/274</tns:viewUrl><tns:mapx>0</tns:mapx><tns:mapy>0</tns:mapy></tns:camera><tns:camera><tns:id>275</tns:id><tns:name>SH20A Kirkbride Road</tns:name><tns:description>Kirkbride Rd looking east</tns:description><tns:offline>false</tns:offline><tns:underMaintenance>false</tns:underMaintenance><tns:imageUrl>http://www.trafficnz.info/camera/275.jpg</tns:imageUrl><tns:viewUrl>http://www.trafficnz.info/camera/view/275</tns:viewUrl><tns:mapx>0</tns:mapx><tns:mapy>0</tns:mapy></tns:camera><tns:camera><tns:id>276</tns:id><tns:name>SH20A Bader Drive</tns:name><tns:description>Bader Drive looking east</tns:description><tns:offline>false</tns:offline><tns:underMaintenance>false</tns:underMaintenance><tns:imageUrl>http://www.trafficnz.info/camera/276.jpg</tns:imageUrl><tns:viewUrl>http://www.trafficnz.info/camera/view/276</tns:viewUrl><tns:mapx>0</tns:mapx><tns:mapy>0</tns:mapy></tns:camera><tns:camera><tns:id>272</tns:id><tns:name>SH20B Prices Road</tns:name><tns:description>Prices Rd looking east</tns:description><tns:offline>false</tns:offline><tns:underMaintenance>false</tns:underMaintenance><tns:imageUrl>http://www.trafficnz.info/camera/272.jpg</tns:imageUrl><tns:viewUrl>http://www.trafficnz.info/camera/view/272</tns:viewUrl><tns:mapx>0</tns:mapx><tns:mapy>0</tns:mapy></tns:camera><tns:camera><tns:id>273</tns:id><tns:name>SH20B Waokauri Creek</tns:name><tns:description>Waokauri Creek looking west</tns:description><tns:offline>false</tns:offline><tns:underMaintenance>false</tns:underMaintenance><tns:imageUrl>http://www.trafficnz.info/camera/273.jpg</tns:imageUrl><tns:viewUrl>http://www.trafficnz.info/camera/view/273</tns:viewUrl><tns:mapx>0</tns:mapx><tns:mapy>0</tns:mapy></tns:camera><tns:camera><tns:id>288</tns:id><tns:name>SH20 Selfs Rd</tns:name><tns:description>Near Selfs Rd looking north</tns:description><tns:offline>true</tns:offline><tns:underMaintenance>false</tns:underMaintenance><tns:imageUrl>http://www.trafficnz.info/camera/288.jpg</tns:imageUrl><tns:viewUrl>http://www.trafficnz.info/camera/view/288</tns:viewUrl><tns:mapx>0</tns:mapx><tns:mapy>0</tns:mapy></tns:camera><tns:camera><tns:id>289</tns:id><tns:name>SH20 Gee Pl</tns:name><tns:description>Near Gee Pl looking north</tns:description><tns:offline>true</tns:offline><tns:underMaintenance>false</tns:underMaintenance><tns:imageUrl>http://www.trafficnz.info/camera/289.jpg</tns:imageUrl><tns:viewUrl>http://www.trafficnz.info/camera/view/289</tns:viewUrl><tns:mapx>0</tns:mapx><tns:mapy>0</tns:mapy></tns:camera><tns:camera><tns:id>290</tns:id><tns:name>SH20 Massey Rd</tns:name><tns:description>Massey Rd looking north</tns:description><tns:offline>true</tns:offline><tns:underMaintenance>false</tns:underMaintenance><tns:imageUrl>http://www.trafficnz.info/camera/290.jpg</tns:imageUrl><tns:viewUrl>http://www.trafficnz.info/camera/view/290</tns:viewUrl><tns:mapx>0</tns:mapx><tns:mapy>0</tns:mapy></tns:camera><tns:camera><tns:id>190</tns:id><tns:name>SH20 1 Queenstown Rd</tns:name><tns:description>Queenstown Rd looking south</tns:description><tns:offline>false</tns:offline><tns:underMaintenance>false</tns:underMaintenance><tns:imageUrl>http://www.trafficnz.info/camera/190.jpg</tns:imageUrl><tns:viewUrl>http://www.trafficnz.info/camera/view/190</tns:viewUrl><tns:mapx>35</tns:mapx><tns:mapy>207</tns:mapy></tns:camera><tns:camera><tns:id>191</tns:id><tns:name>SH20 2 Hillsborough</tns:name><tns:description>Hillsborough Rd looking south</tns:description><tns:offline>false</tns:offline><tns:underMaintenance>false</tns:underMaintenance><tns:imageUrl>http://www.trafficnz.info/camera/191.jpg</tns:imageUrl><tns:viewUrl>http://www.trafficnz.info/camera/view/191</tns:viewUrl><tns:mapx>35</tns:mapx><tns:mapy>207</tns:mapy></tns:camera><tns:camera><tns:id>192</tns:id><tns:name>SH20 3 Melrose</tns:name><tns:description>Melrose looking south</tns:description><tns:offline>false</tns:offline><tns:underMaintenance>false</tns:underMaintenance><tns:imageUrl>http://www.trafficnz.info/camera/192.jpg</tns:imageUrl><tns:viewUrl>http://www.trafficnz.info/camera/view/192</tns:viewUrl><tns:mapx>35</tns:mapx><tns:mapy>207</tns:mapy></tns:camera><tns:camera><tns:id>193</tns:id><tns:name>SH20 4 Dominion Rd</tns:name><tns:description>Dominion Rd looking south</tns:description><tns:offline>false</tns:offline><tns:underMaintenance>false</tns:underMaintenance><tns:imageUrl>http://www.trafficnz.info/camera/193.jpg</tns:imageUrl><tns:viewUrl>http://www.trafficnz.info/camera/view/193</tns:viewUrl><tns:mapx>35</tns:mapx><tns:mapy>207</tns:mapy></tns:camera><tns:camera><tns:id>194</tns:id><tns:name>SH20 5 Sandringham</tns:name><tns:description>Sandringham looking South</tns:description><tns:offline>false</tns:offline><tns:underMaintenance>false</tns:underMaintenance><tns:imageUrl>http://www.trafficnz.info/camera/194.jpg</tns:imageUrl><tns:viewUrl>http://www.trafficnz.info/camera/view/194</tns:viewUrl><tns:mapx>35</tns:mapx><tns:mapy>207</tns:mapy></tns:camera><tns:camera><tns:id>201</tns:id><tns:name>SH20 6 Gloucester Pk</tns:name><tns:description>Gloucester Park looking north</tns:description><tns:offline>false</tns:offline><tns:underMaintenance>false</tns:underMaintenance><tns:imageUrl>http://www.trafficnz.info/camera/201.jpg</tns:imageUrl><tns:viewUrl>http://www.trafficnz.info/camera/view/201</tns:viewUrl><tns:mapx>0</tns:mapx><tns:mapy>0</tns:mapy></tns:camera><tns:camera><tns:id>202</tns:id><tns:name>SH20 7 Onehunga</tns:name><tns:description>Onehunga wharf looking north</tns:description><tns:offline>false</tns:offline><tns:underMaintenance>false</tns:underMaintenance><tns:imageUrl>http://www.trafficnz.info/camera/202.jpg</tns:imageUrl><tns:viewUrl>http://www.trafficnz.info/camera/view/202</tns:viewUrl><tns:mapx>0</tns:mapx><tns:mapy>0</tns:mapy></tns:camera><tns:camera><tns:id>203</tns:id><tns:name>SH20 8 Rimu Rd</tns:name><tns:description>Rimu Rd looking north</tns:description><tns:offline>false</tns:offline><tns:underMaintenance>false</tns:underMaintenance><tns:imageUrl>http://www.trafficnz.info/camera/203.jpg</tns:imageUrl><tns:viewUrl>http://www.trafficnz.info/camera/view/203</tns:viewUrl><tns:mapx>0</tns:mapx><tns:mapy>0</tns:mapy></tns:camera><tns:camera><tns:id>204</tns:id><tns:name>SH20 9 Crawford Ave</tns:name><tns:description>Crawford Ave looking north</tns:description><tns:offline>false</tns:offline><tns:underMaintenance>false</tns:underMaintenance><tns:imageUrl>http://www.trafficnz.info/camera/204.jpg</tns:imageUrl><tns:viewUrl>http://www.trafficnz.info/camera/view/204</tns:viewUrl><tns:mapx>0</tns:mapx><tns:mapy>0</tns:mapy></tns:camera><tns:camera><tns:id>205</tns:id><tns:name>SH20 Coronation Rd</tns:name><tns:description>Coronation Rd looking east</tns:description><tns:offline>false</tns:offline><tns:underMaintenance>false</tns:underMaintenance><tns:imageUrl>http://www.trafficnz.info/camera/205.jpg</tns:imageUrl><tns:viewUrl>http://www.trafficnz.info/camera/view/205</tns:viewUrl><tns:mapx>0</tns:mapx><tns:mapy>0</tns:mapy></tns:camera><tns:camera><tns:id>206</tns:id><tns:name>SH20 11 Puhinui Rd</tns:name><tns:description>Puhinui road interchange looking south</tns:description><tns:offline>false</tns:offline><tns:underMaintenance>false</tns:underMaintenance><tns:imageUrl>http://www.trafficnz.info/camera/206.jpg</tns:imageUrl><tns:viewUrl>http://www.trafficnz.info/camera/view/206</tns:viewUrl><tns:mapx>0</tns:mapx><tns:mapy>0</tns:mapy></tns:camera><tns:camera><tns:id>207</tns:id><tns:name>SH20 12 Nesdale Road</tns:name><tns:description>Nesdale Rd looking east</tns:description><tns:offline>false</tns:offline><tns:underMaintenance>false</tns:underMaintenance><tns:imageUrl>http://www.trafficnz.info/camera/207.jpg</tns:imageUrl><tns:viewUrl>http://www.trafficnz.info/camera/view/207</tns:viewUrl><tns:mapx>0</tns:mapx><tns:mapy>0</tns:mapy></tns:camera><tns:camera><tns:id>208</tns:id><tns:name>SH20 13 Plunket Ave</tns:name><tns:description>Plunket Ave looking south</tns:description><tns:offline>false</tns:offline><tns:underMaintenance>false</tns:underMaintenance><tns:imageUrl>http://www.trafficnz.info/camera/208.jpg</tns:imageUrl><tns:viewUrl>http://www.trafficnz.info/camera/view/208</tns:viewUrl><tns:mapx>0</tns:mapx><tns:mapy>0</tns:mapy></tns:camera><tns:camera><tns:id>209</tns:id><tns:name>SH20 14 Lambie Drive</tns:name><tns:description>Lambie Drive looking south</tns:description><tns:offline>false</tns:offline><tns:underMaintenance>false</tns:underMaintenance><tns:imageUrl>http://www.trafficnz.info/camera/209.jpg</tns:imageUrl><tns:viewUrl>http://www.trafficnz.info/camera/view/209</tns:viewUrl><tns:mapx>0</tns:mapx><tns:mapy>0</tns:mapy></tns:camera><tns:camera><tns:id>210</tns:id><tns:name>SH20 15 Barrowcliffe</tns:name><tns:description>Barrowcliffe Place looking west</tns:description><tns:offline>false</tns:offline><tns:underMaintenance>false</tns:underMaintenance><tns:imageUrl>http://www.trafficnz.info/camera/210.jpg</tns:imageUrl><tns:viewUrl>http://www.trafficnz.info/camera/view/210</tns:viewUrl><tns:mapx>0</tns:mapx><tns:mapy>0</tns:mapy></tns:camera><tns:camera><tns:id>211</tns:id><tns:name>SH20 16 Great South</tns:name><tns:description>Great South Rd Looking westbound</tns:description><tns:offline>false</tns:offline><tns:underMaintenance>false</tns:underMaintenance><tns:imageUrl>http://www.trafficnz.info/camera/211.jpg</tns:imageUrl><tns:viewUrl>http://www.trafficnz.info/camera/view/211</tns:viewUrl><tns:mapx>0</tns:mapx><tns:mapy>0</tns:mapy></tns:camera></tns:getCamerasResponse>'"
       ]
      }
     ],
     "prompt_number": 34
    },
    {
     "cell_type": "code",
     "collapsed": false,
     "input": [
      "data"
     ],
     "language": "python",
     "metadata": {},
     "outputs": [
      {
       "output_type": "pyout",
       "prompt_number": 20,
       "text": [
        "'<?xml version=\\'1.0\\' encoding=\\'UTF-8\\'?><tns:getCamerasResponse xmlns:rem=\"http://remote.service.callcenter.nzta.govt.nz\" xmlns:tns=\"https://infoconnect.highwayinfo.govt.nz/schemas/camera\" xmlns:xsd=\"http://www.w3.org/2001/XMLSchema\" xmlns:xsi=\"http://www.w3.org/2001/XMLSchema-instance\"><tns:camera><tns:id>130</tns:id><tns:name>SH16 1 Bond St</tns:name><tns:description>Bond St looking east</tns:description><tns:offline>false</tns:offline><tns:underMaintenance>false</tns:underMaintenance><tns:imageUrl>http://www.trafficnz.info/camera/130.jpg</tns:imageUrl><tns:viewUrl>http://www.trafficnz.info/camera/view/130</tns:viewUrl><tns:mapx>142</tns:mapx><tns:mapy>229</tns:mapy><tns:congestionLocation><tns:name>Newton Rd - St Lukes Rd</tns:name><tns:direction>Westbound</tns:direction><tns:congestion>Free Flow</tns:congestion></tns:congestionLocation><tns:congestionLocation><tns:name>St Lukes Rd - Newton Rd</tns:name><tns:direction>Eastbound</tns:direction><tns:congestion>Free Flow</tns:congestion></tns:congestionLocation></tns:camera><tns:camera><tns:id>140</tns:id><tns:name>SH16 2 Gt North Rd</tns:name><tns:description>Gt North Road looking west</tns:description><tns:offline>false</tns:offline><tns:underMaintenance>false</tns:underMaintenance><tns:imageUrl>http://www.trafficnz.info/camera/140.jpg</tns:imageUrl><tns:viewUrl>http://www.trafficnz.info/camera/view/140</tns:viewUrl><tns:mapx>113</tns:mapx><tns:mapy>232</tns:mapy><tns:congestionLocation><tns:name>Great Nth Rd Waterview - Rosebank Rd</tns:name><tns:direction>Westbound</tns:direction><tns:congestion>Free Flow</tns:congestion></tns:congestionLocation><tns:congestionLocation><tns:name>Rosebank Rd - Great Nth Rd Waterview</tns:name><tns:direction>Eastbound</tns:direction><tns:congestion>Free Flow</tns:congestion></tns:congestionLocation></tns:camera><tns:camera><tns:id>150</tns:id><tns:name>SH16 3 Te Atatu Rd</tns:name><tns:description>Te Atatu Road looking east</tns:description><tns:offline>false</tns:offline><tns:underMaintenance>false</tns:underMaintenance><tns:imageUrl>http://www.trafficnz.info/camera/150.jpg</tns:imageUrl><tns:viewUrl>http://www.trafficnz.info/camera/view/150</tns:viewUrl><tns:mapx>70</tns:mapx><tns:mapy>216</tns:mapy><tns:congestionLocation><tns:name>Rosebank Rd - Te Atatu Rd</tns:name><tns:direction>Westbound</tns:direction><tns:congestion>Free Flow</tns:congestion></tns:congestionLocation><tns:congestionLocation><tns:name>Te Atatu Rd - Rosebank Rd</tns:name><tns:direction>Eastbound</tns:direction><tns:congestion>Free Flow</tns:congestion></tns:congestionLocation></tns:camera><tns:camera><tns:id>160</tns:id><tns:name>SH16 4 Lincoln Rd E</tns:name><tns:description>Lincoln Rd  looking west</tns:description><tns:offline>false</tns:offline><tns:underMaintenance>false</tns:underMaintenance><tns:imageUrl>http://www.trafficnz.info/camera/160.jpg</tns:imageUrl><tns:viewUrl>http://www.trafficnz.info/camera/view/160</tns:viewUrl><tns:mapx>52</tns:mapx><tns:mapy>207</tns:mapy><tns:congestionLocation><tns:name>Lincoln Rd - Te Atatu Rd</tns:name><tns:direction>Eastbound</tns:direction><tns:congestion>Free Flow</tns:congestion></tns:congestionLocation><tns:congestionLocation><tns:name>Te Atatu Rd - Lincoln Rd</tns:name><tns:direction>Westbound</tns:direction><tns:congestion>Free Flow</tns:congestion></tns:congestionLocation></tns:camera><tns:camera><tns:id>170</tns:id><tns:name>SH16 5 Lincoln Rd W</tns:name><tns:description>Lincoln Rd looking east</tns:description><tns:offline>false</tns:offline><tns:underMaintenance>false</tns:underMaintenance><tns:imageUrl>http://www.trafficnz.info/camera/170.jpg</tns:imageUrl><tns:viewUrl>http://www.trafficnz.info/camera/view/170</tns:viewUrl><tns:mapx>35</tns:mapx><tns:mapy>207</tns:mapy><tns:congestionLocation><tns:name>Royal Rd - Lincoln Rd</tns:name><tns:direction>Eastbound</tns:direction><tns:congestion>Free Flow</tns:congestion></tns:congestionLocation><tns:congestionLocation><tns:name>Lincoln Rd - Royal Rd</tns:name><tns:direction>Westbound</tns:direction><tns:congestion>Free Flow</tns:congestion></tns:congestionLocation></tns:camera><tns:camera><tns:id>270</tns:id><tns:name>SH16 6 Hobsonville W</tns:name><tns:description>Hobsonville looking West towards Kumeu</tns:description><tns:offline>false</tns:offline><tns:underMaintenance>false</tns:underMaintenance><tns:imageUrl>http://www.trafficnz.info/camera/270.jpg</tns:imageUrl><tns:viewUrl>http://www.trafficnz.info/camera/view/270</tns:viewUrl><tns:mapx>0</tns:mapx><tns:mapy>0</tns:mapy></tns:camera><tns:camera><tns:id>271</tns:id><tns:name>SH16 7 Hobsonville E</tns:name><tns:description>Hobsonville Road looking East</tns:description><tns:offline>false</tns:offline><tns:underMaintenance>false</tns:underMaintenance><tns:imageUrl>http://www.trafficnz.info/camera/271.jpg</tns:imageUrl><tns:viewUrl>http://www.trafficnz.info/camera/view/271</tns:viewUrl><tns:mapx>0</tns:mapx><tns:mapy>0</tns:mapy></tns:camera><tns:camera><tns:id>221</tns:id><tns:name>SH18 Trig Rd</tns:name><tns:description>Trig Rd looking west</tns:description><tns:offline>false</tns:offline><tns:underMaintenance>false</tns:underMaintenance><tns:imageUrl>http://www.trafficnz.info/camera/221.jpg</tns:imageUrl><tns:viewUrl>http://www.trafficnz.info/camera/view/221</tns:viewUrl><tns:mapx>0</tns:mapx><tns:mapy>0</tns:mapy></tns:camera><tns:camera><tns:id>222</tns:id><tns:name>SH18 Waiahora Creek</tns:name><tns:description>Upper harbour motorway looking west</tns:description><tns:offline>false</tns:offline><tns:underMaintenance>false</tns:underMaintenance><tns:imageUrl>http://www.trafficnz.info/camera/222.jpg</tns:imageUrl><tns:viewUrl>http://www.trafficnz.info/camera/view/222</tns:viewUrl><tns:mapx>0</tns:mapx><tns:mapy>0</tns:mapy></tns:camera><tns:camera><tns:id>223</tns:id><tns:name>SH18 Brigham Creek</tns:name><tns:description>Upper harbour motorway looking East</tns:description><tns:offline>false</tns:offline><tns:underMaintenance>false</tns:underMaintenance><tns:imageUrl>http://www.trafficnz.info/camera/223.jpg</tns:imageUrl><tns:viewUrl>http://www.trafficnz.info/camera/view/223</tns:viewUrl><tns:mapx>0</tns:mapx><tns:mapy>0</tns:mapy></tns:camera><tns:camera><tns:id>224</tns:id><tns:name>SH18 Sinton Rd</tns:name><tns:description>Upper harbour motorway looking west</tns:description><tns:offline>false</tns:offline><tns:underMaintenance>false</tns:underMaintenance><tns:imageUrl>http://www.trafficnz.info/camera/224.jpg</tns:imageUrl><tns:viewUrl>http://www.trafficnz.info/camera/view/224</tns:viewUrl><tns:mapx>0</tns:mapx><tns:mapy>0</tns:mapy></tns:camera><tns:camera><tns:id>225</tns:id><tns:name>SH18 Squadron Dr</tns:name><tns:description>Upper harbour motorway looking east</tns:description><tns:offline>false</tns:offline><tns:underMaintenance>false</tns:underMaintenance><tns:imageUrl>http://www.trafficnz.info/camera/225.jpg</tns:imageUrl><tns:viewUrl>http://www.trafficnz.info/camera/view/225</tns:viewUrl><tns:mapx>0</tns:mapx><tns:mapy>0</tns:mapy></tns:camera><tns:camera><tns:id>171</tns:id><tns:name>SH18 6 Tauhinu BRG</tns:name><tns:description>Tauhinu bridge looking east</tns:description><tns:offline>false</tns:offline><tns:underMaintenance>false</tns:underMaintenance><tns:imageUrl>http://www.trafficnz.info/camera/171.jpg</tns:imageUrl><tns:viewUrl>http://www.trafficnz.info/camera/view/171</tns:viewUrl><tns:mapx>60</tns:mapx><tns:mapy>207</tns:mapy></tns:camera><tns:camera><tns:id>172</tns:id><tns:name>SH18 7 Albany HWY</tns:name><tns:description>Albany Highway Looking East</tns:description><tns:offline>false</tns:offline><tns:underMaintenance>false</tns:underMaintenance><tns:imageUrl>http://www.trafficnz.info/camera/172.jpg</tns:imageUrl><tns:viewUrl>http://www.trafficnz.info/camera/view/172</tns:viewUrl><tns:mapx>35</tns:mapx><tns:mapy>207</tns:mapy></tns:camera><tns:camera><tns:id>173</tns:id><tns:name>SH18 8 Tauhinu East</tns:name><tns:description>Tauhinu East Looking East</tns:description><tns:offline>false</tns:offline><tns:underMaintenance>false</tns:underMaintenance><tns:imageUrl>http://www.trafficnz.info/camera/173.jpg</tns:imageUrl><tns:viewUrl>http://www.trafficnz.info/camera/view/173</tns:viewUrl><tns:mapx>35</tns:mapx><tns:mapy>207</tns:mapy></tns:camera><tns:camera><tns:id>174</tns:id><tns:name>SH18 9 Paul Matthews</tns:name><tns:description>Paul matthews looking east</tns:description><tns:offline>false</tns:offline><tns:underMaintenance>false</tns:underMaintenance><tns:imageUrl>http://www.trafficnz.info/camera/174.jpg</tns:imageUrl><tns:viewUrl>http://www.trafficnz.info/camera/view/174</tns:viewUrl><tns:mapx>35</tns:mapx><tns:mapy>207</tns:mapy></tns:camera><tns:camera><tns:id>175</tns:id><tns:name>SH18 10 Greenhithe</tns:name><tns:description>Greenhithe Rd looking east</tns:description><tns:offline>false</tns:offline><tns:underMaintenance>false</tns:underMaintenance><tns:imageUrl>http://www.trafficnz.info/camera/175.jpg</tns:imageUrl><tns:viewUrl>http://www.trafficnz.info/camera/view/175</tns:viewUrl><tns:mapx>35</tns:mapx><tns:mapy>207</tns:mapy></tns:camera><tns:camera><tns:id>176</tns:id><tns:name>SH18 11 George Deane</tns:name><tns:description>George deane looking east</tns:description><tns:offline>true</tns:offline><tns:underMaintenance>true</tns:underMaintenance><tns:imageUrl>http://www.trafficnz.info/camera/176.jpg</tns:imageUrl><tns:viewUrl>http://www.trafficnz.info/camera/view/176</tns:viewUrl><tns:mapx>35</tns:mapx><tns:mapy>207</tns:mapy></tns:camera><tns:camera><tns:id>177</tns:id><tns:name>SH18 12 Upper Hbr CW</tns:name><tns:description>Upper harbour looking east</tns:description><tns:offline>false</tns:offline><tns:underMaintenance>false</tns:underMaintenance><tns:imageUrl>http://www.trafficnz.info/camera/177.jpg</tns:imageUrl><tns:viewUrl>http://www.trafficnz.info/camera/view/177</tns:viewUrl><tns:mapx>35</tns:mapx><tns:mapy>207</tns:mapy></tns:camera><tns:camera><tns:id>178</tns:id><tns:name>SH18 13 Wicklam Lane</tns:name><tns:description>Wicklam Lane looking west</tns:description><tns:offline>false</tns:offline><tns:underMaintenance>false</tns:underMaintenance><tns:imageUrl>http://www.trafficnz.info/camera/178.jpg</tns:imageUrl><tns:viewUrl>http://www.trafficnz.info/camera/view/178</tns:viewUrl><tns:mapx>35</tns:mapx><tns:mapy>207</tns:mapy></tns:camera><tns:camera><tns:id>10</tns:id><tns:name>SH1 1 Greville Rd</tns:name><tns:description>Greville road looking south</tns:description><tns:offline>false</tns:offline><tns:underMaintenance>false</tns:underMaintenance><tns:imageUrl>http://www.trafficnz.info/camera/10.jpg</tns:imageUrl><tns:viewUrl>http://www.trafficnz.info/camera/view/10</tns:viewUrl><tns:mapx>125</tns:mapx><tns:mapy>71</tns:mapy><tns:congestionLocation><tns:name>Oteha Valley Rd - Upper Harb Hwy</tns:name><tns:direction>Southbound</tns:direction><tns:congestion>Free Flow</tns:congestion></tns:congestionLocation><tns:congestionLocation><tns:name>Upper Harb Hwy - Oteha Valley Rd</tns:name><tns:direction>Northbound</tns:direction><tns:congestion>Free Flow</tns:congestion></tns:congestionLocation></tns:camera><tns:camera><tns:id>20</tns:id><tns:name>SH1 2 Tristram Ave</tns:name><tns:description>Tristram Avenue looking south</tns:description><tns:offline>false</tns:offline><tns:underMaintenance>false</tns:underMaintenance><tns:imageUrl>http://www.trafficnz.info/camera/20.jpg</tns:imageUrl><tns:viewUrl>http://www.trafficnz.info/camera/view/20</tns:viewUrl><tns:mapx>148</tns:mapx><tns:mapy>118</tns:mapy><tns:congestionLocation><tns:name>Esmonde Rd - Tristram Ave</tns:name><tns:direction>Northbound</tns:direction><tns:congestion>Free Flow</tns:congestion></tns:congestionLocation><tns:congestionLocation><tns:name>Tristram Ave - Esmonde Rd</tns:name><tns:direction>Southbound</tns:direction><tns:congestion>Free Flow</tns:congestion></tns:congestionLocation></tns:camera><tns:camera><tns:id>30</tns:id><tns:name>SH1 3 Northcote Rd</tns:name><tns:description>Northcote Rd looking north</tns:description><tns:offline>false</tns:offline><tns:underMaintenance>false</tns:underMaintenance><tns:imageUrl>http://www.trafficnz.info/camera/30.jpg</tns:imageUrl><tns:viewUrl>http://www.trafficnz.info/camera/view/30</tns:viewUrl><tns:mapx>156</tns:mapx><tns:mapy>141</tns:mapy><tns:congestionLocation><tns:name>Esmonde Rd - Tristram Ave</tns:name><tns:direction>Northbound</tns:direction><tns:congestion>Free Flow</tns:congestion></tns:congestionLocation><tns:congestionLocation><tns:name>Tristram Ave - Esmonde Rd</tns:name><tns:direction>Southbound</tns:direction><tns:congestion>Free Flow</tns:congestion></tns:congestionLocation></tns:camera><tns:camera><tns:id>40</tns:id><tns:name>SH1 4 Esmonde Rd</tns:name><tns:description>Esmonde Rd looking south</tns:description><tns:offline>false</tns:offline><tns:underMaintenance>false</tns:underMaintenance><tns:imageUrl>http://www.trafficnz.info/camera/40.jpg</tns:imageUrl><tns:viewUrl>http://www.trafficnz.info/camera/view/40</tns:viewUrl><tns:mapx>178</tns:mapx><tns:mapy>146</tns:mapy><tns:congestionLocation><tns:name>Stafford Rd - Esmonde Rd</tns:name><tns:direction>Northbound</tns:direction><tns:congestion>Free Flow</tns:congestion></tns:congestionLocation><tns:congestionLocation><tns:name>Esmonde Rd - Onewa</tns:name><tns:direction>Southbound</tns:direction><tns:congestion>Free Flow</tns:congestion></tns:congestionLocation></tns:camera><tns:camera><tns:id>50</tns:id><tns:name>SH1 5 Onewa Rd</tns:name><tns:description>Onewa Rd looking south</tns:description><tns:offline>false</tns:offline><tns:underMaintenance>false</tns:underMaintenance><tns:imageUrl>http://www.trafficnz.info/camera/50.jpg</tns:imageUrl><tns:viewUrl>http://www.trafficnz.info/camera/view/50</tns:viewUrl><tns:mapx>157</tns:mapx><tns:mapy>162</tns:mapy><tns:congestionLocation><tns:name>Stafford Rd - Esmonde Rd</tns:name><tns:direction>Northbound</tns:direction><tns:congestion>Free Flow</tns:congestion></tns:congestionLocation><tns:congestionLocation><tns:name>Harbour Bridge</tns:name><tns:direction>Southbound</tns:direction><tns:congestion>Free Flow</tns:congestion></tns:congestionLocation></tns:camera><tns:camera><tns:id>215</tns:id><tns:name>SH1 Alpurt Web cam</tns:name><tns:description>Johnstone hill tunnels looking south</tns:description><tns:offline>false</tns:offline><tns:underMaintenance>false</tns:underMaintenance><tns:imageUrl>http://www.trafficnz.info/camera/215.jpg</tns:imageUrl><tns:viewUrl>http://www.trafficnz.info/camera/view/215</tns:viewUrl><tns:mapx>0</tns:mapx><tns:mapy>0</tns:mapy></tns:camera><tns:camera><tns:id>212</tns:id><tns:name>SH1 17 Goodwood</tns:name><tns:description>Goodwood heights looking south</tns:description><tns:offline>false</tns:offline><tns:underMaintenance>false</tns:underMaintenance><tns:imageUrl>http://www.trafficnz.info/camera/212.jpg</tns:imageUrl><tns:viewUrl>http://www.trafficnz.info/camera/view/212</tns:viewUrl><tns:mapx>0</tns:mapx><tns:mapy>0</tns:mapy></tns:camera><tns:camera><tns:id>214</tns:id><tns:name>SH1 18 Rainbows End</tns:name><tns:description>Rainbows End looking north at SH1 and SH20 link</tns:description><tns:offline>false</tns:offline><tns:underMaintenance>false</tns:underMaintenance><tns:imageUrl>http://www.trafficnz.info/camera/214.jpg</tns:imageUrl><tns:viewUrl>http://www.trafficnz.info/camera/view/214</tns:viewUrl><tns:mapx>0</tns:mapx><tns:mapy>0</tns:mapy></tns:camera><tns:camera><tns:id>60</tns:id><tns:name>SH1 1 CMJ</tns:name><tns:description>Central motorway junction looking south at the link between state highways 1 and 16</tns:description><tns:offline>false</tns:offline><tns:underMaintenance>false</tns:underMaintenance><tns:imageUrl>http://www.trafficnz.info/camera/60.jpg</tns:imageUrl><tns:viewUrl>http://www.trafficnz.info/camera/view/60</tns:viewUrl><tns:mapx>162</tns:mapx><tns:mapy>217</tns:mapy><tns:congestionLocation><tns:name>Nelson St - Gillies Ave</tns:name><tns:direction>Southbound</tns:direction><tns:congestion>Free Flow</tns:congestion></tns:congestionLocation></tns:camera><tns:camera><tns:id>70</tns:id><tns:name>SH1 2 Market Rd</tns:name><tns:description>Southern motorway at newmarket looking south towards the Market  Rd overbridge</tns:description><tns:offline>false</tns:offline><tns:underMaintenance>false</tns:underMaintenance><tns:imageUrl>http://www.trafficnz.info/camera/70.jpg</tns:imageUrl><tns:viewUrl>http://www.trafficnz.info/camera/view/70</tns:viewUrl><tns:mapx>183</tns:mapx><tns:mapy>241</tns:mapy><tns:congestionLocation><tns:name>Greenlane - Gillies Ave</tns:name><tns:direction>Northbound</tns:direction><tns:congestion>Free Flow</tns:congestion></tns:congestionLocation><tns:congestionLocation><tns:name>Gillies Ave - Greenlane</tns:name><tns:direction>Southbound</tns:direction><tns:congestion>Free Flow</tns:congestion></tns:congestionLocation></tns:camera><tns:camera><tns:id>80</tns:id><tns:name>SH1 3 Greenlane Rd</tns:name><tns:description>Greenlane Rd looking north</tns:description><tns:offline>false</tns:offline><tns:underMaintenance>false</tns:underMaintenance><tns:imageUrl>http://www.trafficnz.info/camera/80.jpg</tns:imageUrl><tns:viewUrl>http://www.trafficnz.info/camera/view/80</tns:viewUrl><tns:mapx>198</tns:mapx><tns:mapy>262</tns:mapy><tns:congestionLocation><tns:name>Greenlane - Gillies Ave</tns:name><tns:direction>Northbound</tns:direction><tns:congestion>Free Flow</tns:congestion></tns:congestionLocation><tns:congestionLocation><tns:name>Gillies Ave - Greenlane</tns:name><tns:direction>Southbound</tns:direction><tns:congestion>Free Flow</tns:congestion></tns:congestionLocation></tns:camera><tns:camera><tns:id>90</tns:id><tns:name>SH1 4 SE Highway</tns:name><tns:description>South eastern highway looking south</tns:description><tns:offline>false</tns:offline><tns:underMaintenance>false</tns:underMaintenance><tns:imageUrl>http://www.trafficnz.info/camera/90.jpg</tns:imageUrl><tns:viewUrl>http://www.trafficnz.info/camera/view/90</tns:viewUrl><tns:mapx>219</tns:mapx><tns:mapy>278</tns:mapy><tns:congestionLocation><tns:name>Mt Wellington Hway - SE Highway</tns:name><tns:direction>Northbound</tns:direction><tns:congestion>Free Flow</tns:congestion></tns:congestionLocation><tns:congestionLocation><tns:name>SE Highway - Mt Wellington Hway</tns:name><tns:direction>Southbound</tns:direction><tns:congestion>Moderate</tns:congestion></tns:congestionLocation></tns:camera><tns:camera><tns:id>100</tns:id><tns:name>SH1 5 Redoubt Rd</tns:name><tns:description>Redoubt Rd looking north</tns:description><tns:offline>false</tns:offline><tns:underMaintenance>false</tns:underMaintenance><tns:imageUrl>http://www.trafficnz.info/camera/100.jpg</tns:imageUrl><tns:viewUrl>http://www.trafficnz.info/camera/view/100</tns:viewUrl><tns:mapx>254</tns:mapx><tns:mapy>341</tns:mapy><tns:congestionLocation><tns:name>Hill Rd - Redoubt Rd</tns:name><tns:direction>Northbound</tns:direction><tns:congestion>Free Flow</tns:congestion></tns:congestionLocation><tns:congestionLocation><tns:name>Redoubt Rd - Hill Rd</tns:name><tns:direction>Southbound</tns:direction><tns:congestion>Free Flow</tns:congestion></tns:congestionLocation></tns:camera><tns:camera><tns:id>110</tns:id><tns:name>SH1 6 Bairds Rd</tns:name><tns:description>Bairds Rd looking north</tns:description><tns:offline>false</tns:offline><tns:underMaintenance>false</tns:underMaintenance><tns:imageUrl>http://www.trafficnz.info/camera/110.jpg</tns:imageUrl><tns:viewUrl>http://www.trafficnz.info/camera/view/110</tns:viewUrl><tns:mapx>275</tns:mapx><tns:mapy>383</tns:mapy><tns:congestionLocation><tns:name>Princes St - East Tamaki Rd</tns:name><tns:direction>Southbound</tns:direction><tns:congestion>Free Flow</tns:congestion></tns:congestionLocation><tns:congestionLocation><tns:name>East Tamaki Rd - Princes St</tns:name><tns:direction>Northbound</tns:direction><tns:congestion>Free Flow</tns:congestion></tns:congestionLocation></tns:camera><tns:camera><tns:id>120</tns:id><tns:name>SH1 7 Alfriston Rd</tns:name><tns:description>Alfriston Rd looking north</tns:description><tns:offline>false</tns:offline><tns:underMaintenance>false</tns:underMaintenance><tns:imageUrl>http://www.trafficnz.info/camera/120.jpg</tns:imageUrl><tns:viewUrl>http://www.trafficnz.info/camera/view/120</tns:viewUrl><tns:mapx>291</tns:mapx><tns:mapy>411</tns:mapy><tns:congestionLocation><tns:name>Takanini - Hill Rd</tns:name><tns:direction>Northbound</tns:direction><tns:congestion>Free Flow</tns:congestion></tns:congestionLocation><tns:congestionLocation><tns:name>Hill Rd - Takanini</tns:name><tns:direction>Southbound</tns:direction><tns:congestion>Free Flow</tns:congestion></tns:congestionLocation></tns:camera><tns:camera><tns:id>121</tns:id><tns:name>SH1 8 Takanini</tns:name><tns:description>Takanini looking south</tns:description><tns:offline>false</tns:offline><tns:underMaintenance>false</tns:underMaintenance><tns:imageUrl>http://www.trafficnz.info/camera/121.jpg</tns:imageUrl><tns:viewUrl>http://www.trafficnz.info/camera/view/121</tns:viewUrl><tns:mapx>290</tns:mapx><tns:mapy>380</tns:mapy></tns:camera><tns:camera><tns:id>122</tns:id><tns:name>SH1 9 Walter Streven</tns:name><tns:description>Walter-Strevens Drive looking south</tns:description><tns:offline>false</tns:offline><tns:underMaintenance>false</tns:underMaintenance><tns:imageUrl>http://www.trafficnz.info/camera/122.jpg</tns:imageUrl><tns:viewUrl>http://www.trafficnz.info/camera/view/122</tns:viewUrl><tns:mapx>285</tns:mapx><tns:mapy>400</tns:mapy></tns:camera><tns:camera><tns:id>123</tns:id><tns:name>SH1 10 Pahurehure</tns:name><tns:description>Pahurehure looking south</tns:description><tns:offline>false</tns:offline><tns:underMaintenance>false</tns:underMaintenance><tns:imageUrl>http://www.trafficnz.info/camera/123.jpg</tns:imageUrl><tns:viewUrl>http://www.trafficnz.info/camera/view/123</tns:viewUrl><tns:mapx>265</tns:mapx><tns:mapy>410</tns:mapy></tns:camera><tns:camera><tns:id>124</tns:id><tns:name>SH1 11 Rushgreen Ave</tns:name><tns:description>Rushgreen Ave looking south</tns:description><tns:offline>false</tns:offline><tns:underMaintenance>false</tns:underMaintenance><tns:imageUrl>http://www.trafficnz.info/camera/124.jpg</tns:imageUrl><tns:viewUrl>http://www.trafficnz.info/camera/view/124</tns:viewUrl><tns:mapx>285</tns:mapx><tns:mapy>420</tns:mapy></tns:camera><tns:camera><tns:id>125</tns:id><tns:name>SH1 12 Park Estate</tns:name><tns:description>Park estate looking south</tns:description><tns:offline>false</tns:offline><tns:underMaintenance>false</tns:underMaintenance><tns:imageUrl>http://www.trafficnz.info/camera/125.jpg</tns:imageUrl><tns:viewUrl>http://www.trafficnz.info/camera/view/125</tns:viewUrl><tns:mapx>300</tns:mapx><tns:mapy>430</tns:mapy></tns:camera><tns:camera><tns:id>126</tns:id><tns:name>SH1 13 Slippery Crk</tns:name><tns:description>Slippery Creek looking  south</tns:description><tns:offline>false</tns:offline><tns:underMaintenance>false</tns:underMaintenance><tns:imageUrl>http://www.trafficnz.info/camera/126.jpg</tns:imageUrl><tns:viewUrl>http://www.trafficnz.info/camera/view/126</tns:viewUrl><tns:mapx>286</tns:mapx><tns:mapy>445</tns:mapy></tns:camera><tns:camera><tns:id>274</tns:id><tns:name>SH20A Montgomerie Rd</tns:name><tns:description>Montgomerie Rd looking east</tns:description><tns:offline>false</tns:offline><tns:underMaintenance>false</tns:underMaintenance><tns:imageUrl>http://www.trafficnz.info/camera/274.jpg</tns:imageUrl><tns:viewUrl>http://www.trafficnz.info/camera/view/274</tns:viewUrl><tns:mapx>0</tns:mapx><tns:mapy>0</tns:mapy></tns:camera><tns:camera><tns:id>275</tns:id><tns:name>SH20A Kirkbride Road</tns:name><tns:description>Kirkbride Rd looking east</tns:description><tns:offline>false</tns:offline><tns:underMaintenance>false</tns:underMaintenance><tns:imageUrl>http://www.trafficnz.info/camera/275.jpg</tns:imageUrl><tns:viewUrl>http://www.trafficnz.info/camera/view/275</tns:viewUrl><tns:mapx>0</tns:mapx><tns:mapy>0</tns:mapy></tns:camera><tns:camera><tns:id>276</tns:id><tns:name>SH20A Bader Drive</tns:name><tns:description>Bader Drive looking east</tns:description><tns:offline>false</tns:offline><tns:underMaintenance>false</tns:underMaintenance><tns:imageUrl>http://www.trafficnz.info/camera/276.jpg</tns:imageUrl><tns:viewUrl>http://www.trafficnz.info/camera/view/276</tns:viewUrl><tns:mapx>0</tns:mapx><tns:mapy>0</tns:mapy></tns:camera><tns:camera><tns:id>272</tns:id><tns:name>SH20B Prices Road</tns:name><tns:description>Prices Rd looking east</tns:description><tns:offline>false</tns:offline><tns:underMaintenance>false</tns:underMaintenance><tns:imageUrl>http://www.trafficnz.info/camera/272.jpg</tns:imageUrl><tns:viewUrl>http://www.trafficnz.info/camera/view/272</tns:viewUrl><tns:mapx>0</tns:mapx><tns:mapy>0</tns:mapy></tns:camera><tns:camera><tns:id>273</tns:id><tns:name>SH20B Waokauri Creek</tns:name><tns:description>Waokauri Creek looking west</tns:description><tns:offline>false</tns:offline><tns:underMaintenance>false</tns:underMaintenance><tns:imageUrl>http://www.trafficnz.info/camera/273.jpg</tns:imageUrl><tns:viewUrl>http://www.trafficnz.info/camera/view/273</tns:viewUrl><tns:mapx>0</tns:mapx><tns:mapy>0</tns:mapy></tns:camera><tns:camera><tns:id>288</tns:id><tns:name>SH20 Selfs Rd</tns:name><tns:description>Near Selfs Rd looking north</tns:description><tns:offline>true</tns:offline><tns:underMaintenance>false</tns:underMaintenance><tns:imageUrl>http://www.trafficnz.info/camera/288.jpg</tns:imageUrl><tns:viewUrl>http://www.trafficnz.info/camera/view/288</tns:viewUrl><tns:mapx>0</tns:mapx><tns:mapy>0</tns:mapy></tns:camera><tns:camera><tns:id>289</tns:id><tns:name>SH20 Gee Pl</tns:name><tns:description>Near Gee Pl looking north</tns:description><tns:offline>true</tns:offline><tns:underMaintenance>false</tns:underMaintenance><tns:imageUrl>http://www.trafficnz.info/camera/289.jpg</tns:imageUrl><tns:viewUrl>http://www.trafficnz.info/camera/view/289</tns:viewUrl><tns:mapx>0</tns:mapx><tns:mapy>0</tns:mapy></tns:camera><tns:camera><tns:id>290</tns:id><tns:name>SH20 Massey Rd</tns:name><tns:description>Massey Rd looking north</tns:description><tns:offline>true</tns:offline><tns:underMaintenance>false</tns:underMaintenance><tns:imageUrl>http://www.trafficnz.info/camera/290.jpg</tns:imageUrl><tns:viewUrl>http://www.trafficnz.info/camera/view/290</tns:viewUrl><tns:mapx>0</tns:mapx><tns:mapy>0</tns:mapy></tns:camera><tns:camera><tns:id>190</tns:id><tns:name>SH20 1 Queenstown Rd</tns:name><tns:description>Queenstown Rd looking south</tns:description><tns:offline>false</tns:offline><tns:underMaintenance>false</tns:underMaintenance><tns:imageUrl>http://www.trafficnz.info/camera/190.jpg</tns:imageUrl><tns:viewUrl>http://www.trafficnz.info/camera/view/190</tns:viewUrl><tns:mapx>35</tns:mapx><tns:mapy>207</tns:mapy></tns:camera><tns:camera><tns:id>191</tns:id><tns:name>SH20 2 Hillsborough</tns:name><tns:description>Hillsborough Rd looking south</tns:description><tns:offline>false</tns:offline><tns:underMaintenance>false</tns:underMaintenance><tns:imageUrl>http://www.trafficnz.info/camera/191.jpg</tns:imageUrl><tns:viewUrl>http://www.trafficnz.info/camera/view/191</tns:viewUrl><tns:mapx>35</tns:mapx><tns:mapy>207</tns:mapy></tns:camera><tns:camera><tns:id>192</tns:id><tns:name>SH20 3 Melrose</tns:name><tns:description>Melrose looking south</tns:description><tns:offline>false</tns:offline><tns:underMaintenance>false</tns:underMaintenance><tns:imageUrl>http://www.trafficnz.info/camera/192.jpg</tns:imageUrl><tns:viewUrl>http://www.trafficnz.info/camera/view/192</tns:viewUrl><tns:mapx>35</tns:mapx><tns:mapy>207</tns:mapy></tns:camera><tns:camera><tns:id>193</tns:id><tns:name>SH20 4 Dominion Rd</tns:name><tns:description>Dominion Rd looking south</tns:description><tns:offline>false</tns:offline><tns:underMaintenance>false</tns:underMaintenance><tns:imageUrl>http://www.trafficnz.info/camera/193.jpg</tns:imageUrl><tns:viewUrl>http://www.trafficnz.info/camera/view/193</tns:viewUrl><tns:mapx>35</tns:mapx><tns:mapy>207</tns:mapy></tns:camera><tns:camera><tns:id>194</tns:id><tns:name>SH20 5 Sandringham</tns:name><tns:description>Sandringham looking South</tns:description><tns:offline>false</tns:offline><tns:underMaintenance>false</tns:underMaintenance><tns:imageUrl>http://www.trafficnz.info/camera/194.jpg</tns:imageUrl><tns:viewUrl>http://www.trafficnz.info/camera/view/194</tns:viewUrl><tns:mapx>35</tns:mapx><tns:mapy>207</tns:mapy></tns:camera><tns:camera><tns:id>201</tns:id><tns:name>SH20 6 Gloucester Pk</tns:name><tns:description>Gloucester Park looking north</tns:description><tns:offline>false</tns:offline><tns:underMaintenance>false</tns:underMaintenance><tns:imageUrl>http://www.trafficnz.info/camera/201.jpg</tns:imageUrl><tns:viewUrl>http://www.trafficnz.info/camera/view/201</tns:viewUrl><tns:mapx>0</tns:mapx><tns:mapy>0</tns:mapy></tns:camera><tns:camera><tns:id>202</tns:id><tns:name>SH20 7 Onehunga</tns:name><tns:description>Onehunga wharf looking north</tns:description><tns:offline>false</tns:offline><tns:underMaintenance>false</tns:underMaintenance><tns:imageUrl>http://www.trafficnz.info/camera/202.jpg</tns:imageUrl><tns:viewUrl>http://www.trafficnz.info/camera/view/202</tns:viewUrl><tns:mapx>0</tns:mapx><tns:mapy>0</tns:mapy></tns:camera><tns:camera><tns:id>203</tns:id><tns:name>SH20 8 Rimu Rd</tns:name><tns:description>Rimu Rd looking north</tns:description><tns:offline>false</tns:offline><tns:underMaintenance>false</tns:underMaintenance><tns:imageUrl>http://www.trafficnz.info/camera/203.jpg</tns:imageUrl><tns:viewUrl>http://www.trafficnz.info/camera/view/203</tns:viewUrl><tns:mapx>0</tns:mapx><tns:mapy>0</tns:mapy></tns:camera><tns:camera><tns:id>204</tns:id><tns:name>SH20 9 Crawford Ave</tns:name><tns:description>Crawford Ave looking north</tns:description><tns:offline>false</tns:offline><tns:underMaintenance>false</tns:underMaintenance><tns:imageUrl>http://www.trafficnz.info/camera/204.jpg</tns:imageUrl><tns:viewUrl>http://www.trafficnz.info/camera/view/204</tns:viewUrl><tns:mapx>0</tns:mapx><tns:mapy>0</tns:mapy></tns:camera><tns:camera><tns:id>205</tns:id><tns:name>SH20 Coronation Rd</tns:name><tns:description>Coronation Rd looking east</tns:description><tns:offline>false</tns:offline><tns:underMaintenance>false</tns:underMaintenance><tns:imageUrl>http://www.trafficnz.info/camera/205.jpg</tns:imageUrl><tns:viewUrl>http://www.trafficnz.info/camera/view/205</tns:viewUrl><tns:mapx>0</tns:mapx><tns:mapy>0</tns:mapy></tns:camera><tns:camera><tns:id>206</tns:id><tns:name>SH20 11 Puhinui Rd</tns:name><tns:description>Puhinui road interchange looking south</tns:description><tns:offline>false</tns:offline><tns:underMaintenance>false</tns:underMaintenance><tns:imageUrl>http://www.trafficnz.info/camera/206.jpg</tns:imageUrl><tns:viewUrl>http://www.trafficnz.info/camera/view/206</tns:viewUrl><tns:mapx>0</tns:mapx><tns:mapy>0</tns:mapy></tns:camera><tns:camera><tns:id>207</tns:id><tns:name>SH20 12 Nesdale Road</tns:name><tns:description>Nesdale Rd looking east</tns:description><tns:offline>false</tns:offline><tns:underMaintenance>false</tns:underMaintenance><tns:imageUrl>http://www.trafficnz.info/camera/207.jpg</tns:imageUrl><tns:viewUrl>http://www.trafficnz.info/camera/view/207</tns:viewUrl><tns:mapx>0</tns:mapx><tns:mapy>0</tns:mapy></tns:camera><tns:camera><tns:id>208</tns:id><tns:name>SH20 13 Plunket Ave</tns:name><tns:description>Plunket Ave looking south</tns:description><tns:offline>false</tns:offline><tns:underMaintenance>false</tns:underMaintenance><tns:imageUrl>http://www.trafficnz.info/camera/208.jpg</tns:imageUrl><tns:viewUrl>http://www.trafficnz.info/camera/view/208</tns:viewUrl><tns:mapx>0</tns:mapx><tns:mapy>0</tns:mapy></tns:camera><tns:camera><tns:id>209</tns:id><tns:name>SH20 14 Lambie Drive</tns:name><tns:description>Lambie Drive looking south</tns:description><tns:offline>false</tns:offline><tns:underMaintenance>false</tns:underMaintenance><tns:imageUrl>http://www.trafficnz.info/camera/209.jpg</tns:imageUrl><tns:viewUrl>http://www.trafficnz.info/camera/view/209</tns:viewUrl><tns:mapx>0</tns:mapx><tns:mapy>0</tns:mapy></tns:camera><tns:camera><tns:id>210</tns:id><tns:name>SH20 15 Barrowcliffe</tns:name><tns:description>Barrowcliffe Place looking west</tns:description><tns:offline>false</tns:offline><tns:underMaintenance>false</tns:underMaintenance><tns:imageUrl>http://www.trafficnz.info/camera/210.jpg</tns:imageUrl><tns:viewUrl>http://www.trafficnz.info/camera/view/210</tns:viewUrl><tns:mapx>0</tns:mapx><tns:mapy>0</tns:mapy></tns:camera><tns:camera><tns:id>211</tns:id><tns:name>SH20 16 Great South</tns:name><tns:description>Great South Rd Looking westbound</tns:description><tns:offline>false</tns:offline><tns:underMaintenance>false</tns:underMaintenance><tns:imageUrl>http://www.trafficnz.info/camera/211.jpg</tns:imageUrl><tns:viewUrl>http://www.trafficnz.info/camera/view/211</tns:viewUrl><tns:mapx>0</tns:mapx><tns:mapy>0</tns:mapy></tns:camera></tns:getCamerasResponse>'"
       ]
      }
     ],
     "prompt_number": 20
    },
    {
     "cell_type": "code",
     "collapsed": false,
     "input": [
      "datadict = xmltodict.parse(data)"
     ],
     "language": "python",
     "metadata": {},
     "outputs": [],
     "prompt_number": 69
    },
    {
     "cell_type": "code",
     "collapsed": false,
     "input": [
      "datadict"
     ],
     "language": "python",
     "metadata": {},
     "outputs": [
      {
       "output_type": "pyout",
       "prompt_number": 70,
       "text": [
        "OrderedDict([(u'tns:getCamerasResponse', OrderedDict([(u'@xmlns:rem', u'http://remote.service.callcenter.nzta.govt.nz'), (u'@xmlns:tns', u'https://infoconnect.highwayinfo.govt.nz/schemas/camera'), (u'@xmlns:xsd', u'http://www.w3.org/2001/XMLSchema'), (u'@xmlns:xsi', u'http://www.w3.org/2001/XMLSchema-instance'), (u'tns:camera', [OrderedDict([(u'tns:id', u'130'), (u'tns:name', u'SH16 1 Bond St'), (u'tns:description', u'Bond St looking east'), (u'tns:offline', u'false'), (u'tns:underMaintenance', u'false'), (u'tns:imageUrl', u'http://www.trafficnz.info/camera/130.jpg'), (u'tns:viewUrl', u'http://www.trafficnz.info/camera/view/130'), (u'tns:mapx', u'142'), (u'tns:mapy', u'229'), (u'tns:congestionLocation', [OrderedDict([(u'tns:name', u'St Lukes Rd - Newton Rd'), (u'tns:direction', u'Eastbound'), (u'tns:congestion', u'Free Flow')]), OrderedDict([(u'tns:name', u'Newton Rd - St Lukes Rd'), (u'tns:direction', u'Westbound'), (u'tns:congestion', u'Free Flow')])])]), OrderedDict([(u'tns:id', u'140'), (u'tns:name', u'SH16 2 Gt North Rd'), (u'tns:description', u'Gt North Road looking west'), (u'tns:offline', u'false'), (u'tns:underMaintenance', u'false'), (u'tns:imageUrl', u'http://www.trafficnz.info/camera/140.jpg'), (u'tns:viewUrl', u'http://www.trafficnz.info/camera/view/140'), (u'tns:mapx', u'113'), (u'tns:mapy', u'232'), (u'tns:congestionLocation', [OrderedDict([(u'tns:name', u'Rosebank Rd - Great Nth Rd Waterview'), (u'tns:direction', u'Eastbound'), (u'tns:congestion', u'Free Flow')]), OrderedDict([(u'tns:name', u'Great Nth Rd Waterview - Rosebank Rd'), (u'tns:direction', u'Westbound'), (u'tns:congestion', u'Free Flow')])])]), OrderedDict([(u'tns:id', u'150'), (u'tns:name', u'SH16 3 Te Atatu Rd'), (u'tns:description', u'Te Atatu Road looking east'), (u'tns:offline', u'false'), (u'tns:underMaintenance', u'false'), (u'tns:imageUrl', u'http://www.trafficnz.info/camera/150.jpg'), (u'tns:viewUrl', u'http://www.trafficnz.info/camera/view/150'), (u'tns:mapx', u'70'), (u'tns:mapy', u'216'), (u'tns:congestionLocation', [OrderedDict([(u'tns:name', u'Rosebank Rd - Te Atatu Rd'), (u'tns:direction', u'Westbound'), (u'tns:congestion', u'Free Flow')]), OrderedDict([(u'tns:name', u'Te Atatu Rd - Rosebank Rd'), (u'tns:direction', u'Eastbound'), (u'tns:congestion', u'Free Flow')])])]), OrderedDict([(u'tns:id', u'160'), (u'tns:name', u'SH16 4 Lincoln Rd E'), (u'tns:description', u'Lincoln Rd  looking west'), (u'tns:offline', u'false'), (u'tns:underMaintenance', u'false'), (u'tns:imageUrl', u'http://www.trafficnz.info/camera/160.jpg'), (u'tns:viewUrl', u'http://www.trafficnz.info/camera/view/160'), (u'tns:mapx', u'52'), (u'tns:mapy', u'207'), (u'tns:congestionLocation', [OrderedDict([(u'tns:name', u'Lincoln Rd - Te Atatu Rd'), (u'tns:direction', u'Eastbound'), (u'tns:congestion', u'Free Flow')]), OrderedDict([(u'tns:name', u'Te Atatu Rd - Lincoln Rd'), (u'tns:direction', u'Westbound'), (u'tns:congestion', u'Free Flow')])])]), OrderedDict([(u'tns:id', u'170'), (u'tns:name', u'SH16 5 Lincoln Rd W'), (u'tns:description', u'Lincoln Rd looking east'), (u'tns:offline', u'false'), (u'tns:underMaintenance', u'false'), (u'tns:imageUrl', u'http://www.trafficnz.info/camera/170.jpg'), (u'tns:viewUrl', u'http://www.trafficnz.info/camera/view/170'), (u'tns:mapx', u'35'), (u'tns:mapy', u'207'), (u'tns:congestionLocation', [OrderedDict([(u'tns:name', u'Lincoln Rd - Royal Rd'), (u'tns:direction', u'Westbound'), (u'tns:congestion', u'Free Flow')]), OrderedDict([(u'tns:name', u'Royal Rd - Lincoln Rd'), (u'tns:direction', u'Eastbound'), (u'tns:congestion', u'Free Flow')])])]), OrderedDict([(u'tns:id', u'270'), (u'tns:name', u'SH16 6 Hobsonville W'), (u'tns:description', u'Hobsonville looking West towards Kumeu'), (u'tns:offline', u'false'), (u'tns:underMaintenance', u'false'), (u'tns:imageUrl', u'http://www.trafficnz.info/camera/270.jpg'), (u'tns:viewUrl', u'http://www.trafficnz.info/camera/view/270'), (u'tns:mapx', u'0'), (u'tns:mapy', u'0')]), OrderedDict([(u'tns:id', u'271'), (u'tns:name', u'SH16 7 Hobsonville E'), (u'tns:description', u'Hobsonville Road looking East'), (u'tns:offline', u'false'), (u'tns:underMaintenance', u'false'), (u'tns:imageUrl', u'http://www.trafficnz.info/camera/271.jpg'), (u'tns:viewUrl', u'http://www.trafficnz.info/camera/view/271'), (u'tns:mapx', u'0'), (u'tns:mapy', u'0')]), OrderedDict([(u'tns:id', u'221'), (u'tns:name', u'SH18 Trig Rd'), (u'tns:description', u'Trig Rd looking west'), (u'tns:offline', u'false'), (u'tns:underMaintenance', u'false'), (u'tns:imageUrl', u'http://www.trafficnz.info/camera/221.jpg'), (u'tns:viewUrl', u'http://www.trafficnz.info/camera/view/221'), (u'tns:mapx', u'0'), (u'tns:mapy', u'0')]), OrderedDict([(u'tns:id', u'222'), (u'tns:name', u'SH18 Waiahora Creek'), (u'tns:description', u'Upper harbour motorway looking west'), (u'tns:offline', u'false'), (u'tns:underMaintenance', u'false'), (u'tns:imageUrl', u'http://www.trafficnz.info/camera/222.jpg'), (u'tns:viewUrl', u'http://www.trafficnz.info/camera/view/222'), (u'tns:mapx', u'0'), (u'tns:mapy', u'0')]), OrderedDict([(u'tns:id', u'223'), (u'tns:name', u'SH18 Brigham Creek'), (u'tns:description', u'Upper harbour motorway looking East'), (u'tns:offline', u'false'), (u'tns:underMaintenance', u'false'), (u'tns:imageUrl', u'http://www.trafficnz.info/camera/223.jpg'), (u'tns:viewUrl', u'http://www.trafficnz.info/camera/view/223'), (u'tns:mapx', u'0'), (u'tns:mapy', u'0')]), OrderedDict([(u'tns:id', u'224'), (u'tns:name', u'SH18 Sinton Rd'), (u'tns:description', u'Upper harbour motorway looking west'), (u'tns:offline', u'false'), (u'tns:underMaintenance', u'false'), (u'tns:imageUrl', u'http://www.trafficnz.info/camera/224.jpg'), (u'tns:viewUrl', u'http://www.trafficnz.info/camera/view/224'), (u'tns:mapx', u'0'), (u'tns:mapy', u'0')]), OrderedDict([(u'tns:id', u'225'), (u'tns:name', u'SH18 Squadron Dr'), (u'tns:description', u'Upper harbour motorway looking east'), (u'tns:offline', u'false'), (u'tns:underMaintenance', u'false'), (u'tns:imageUrl', u'http://www.trafficnz.info/camera/225.jpg'), (u'tns:viewUrl', u'http://www.trafficnz.info/camera/view/225'), (u'tns:mapx', u'0'), (u'tns:mapy', u'0')]), OrderedDict([(u'tns:id', u'171'), (u'tns:name', u'SH18 6 Tauhinu BRG'), (u'tns:description', u'Tauhinu bridge looking east'), (u'tns:offline', u'false'), (u'tns:underMaintenance', u'false'), (u'tns:imageUrl', u'http://www.trafficnz.info/camera/171.jpg'), (u'tns:viewUrl', u'http://www.trafficnz.info/camera/view/171'), (u'tns:mapx', u'60'), (u'tns:mapy', u'207')]), OrderedDict([(u'tns:id', u'172'), (u'tns:name', u'SH18 7 Albany HWY'), (u'tns:description', u'Albany Highway Looking East'), (u'tns:offline', u'false'), (u'tns:underMaintenance', u'false'), (u'tns:imageUrl', u'http://www.trafficnz.info/camera/172.jpg'), (u'tns:viewUrl', u'http://www.trafficnz.info/camera/view/172'), (u'tns:mapx', u'35'), (u'tns:mapy', u'207')]), OrderedDict([(u'tns:id', u'173'), (u'tns:name', u'SH18 8 Tauhinu East'), (u'tns:description', u'Tauhinu East Looking East'), (u'tns:offline', u'false'), (u'tns:underMaintenance', u'false'), (u'tns:imageUrl', u'http://www.trafficnz.info/camera/173.jpg'), (u'tns:viewUrl', u'http://www.trafficnz.info/camera/view/173'), (u'tns:mapx', u'35'), (u'tns:mapy', u'207')]), OrderedDict([(u'tns:id', u'174'), (u'tns:name', u'SH18 9 Paul Matthews'), (u'tns:description', u'Paul matthews looking east'), (u'tns:offline', u'false'), (u'tns:underMaintenance', u'false'), (u'tns:imageUrl', u'http://www.trafficnz.info/camera/174.jpg'), (u'tns:viewUrl', u'http://www.trafficnz.info/camera/view/174'), (u'tns:mapx', u'35'), (u'tns:mapy', u'207')]), OrderedDict([(u'tns:id', u'175'), (u'tns:name', u'SH18 10 Greenhithe'), (u'tns:description', u'Greenhithe Rd looking east'), (u'tns:offline', u'false'), (u'tns:underMaintenance', u'false'), (u'tns:imageUrl', u'http://www.trafficnz.info/camera/175.jpg'), (u'tns:viewUrl', u'http://www.trafficnz.info/camera/view/175'), (u'tns:mapx', u'35'), (u'tns:mapy', u'207')]), OrderedDict([(u'tns:id', u'176'), (u'tns:name', u'SH18 11 George Deane'), (u'tns:description', u'George deane looking east'), (u'tns:offline', u'true'), (u'tns:underMaintenance', u'true'), (u'tns:imageUrl', u'http://www.trafficnz.info/camera/176.jpg'), (u'tns:viewUrl', u'http://www.trafficnz.info/camera/view/176'), (u'tns:mapx', u'35'), (u'tns:mapy', u'207')]), OrderedDict([(u'tns:id', u'177'), (u'tns:name', u'SH18 12 Upper Hbr CW'), (u'tns:description', u'Upper harbour looking east'), (u'tns:offline', u'false'), (u'tns:underMaintenance', u'false'), (u'tns:imageUrl', u'http://www.trafficnz.info/camera/177.jpg'), (u'tns:viewUrl', u'http://www.trafficnz.info/camera/view/177'), (u'tns:mapx', u'35'), (u'tns:mapy', u'207')]), OrderedDict([(u'tns:id', u'178'), (u'tns:name', u'SH18 13 Wicklam Lane'), (u'tns:description', u'Wicklam Lane looking west'), (u'tns:offline', u'false'), (u'tns:underMaintenance', u'false'), (u'tns:imageUrl', u'http://www.trafficnz.info/camera/178.jpg'), (u'tns:viewUrl', u'http://www.trafficnz.info/camera/view/178'), (u'tns:mapx', u'35'), (u'tns:mapy', u'207')]), OrderedDict([(u'tns:id', u'10'), (u'tns:name', u'SH1 1 Greville Rd'), (u'tns:description', u'Greville road looking south'), (u'tns:offline', u'false'), (u'tns:underMaintenance', u'false'), (u'tns:imageUrl', u'http://www.trafficnz.info/camera/10.jpg'), (u'tns:viewUrl', u'http://www.trafficnz.info/camera/view/10'), (u'tns:mapx', u'125'), (u'tns:mapy', u'71'), (u'tns:congestionLocation', [OrderedDict([(u'tns:name', u'Upper Harb Hwy - Oteha Valley Rd'), (u'tns:direction', u'Northbound'), (u'tns:congestion', u'Free Flow')]), OrderedDict([(u'tns:name', u'Oteha Valley Rd - Upper Harb Hwy'), (u'tns:direction', u'Southbound'), (u'tns:congestion', u'Free Flow')])])]), OrderedDict([(u'tns:id', u'20'), (u'tns:name', u'SH1 2 Tristram Ave'), (u'tns:description', u'Tristram Avenue looking south'), (u'tns:offline', u'false'), (u'tns:underMaintenance', u'false'), (u'tns:imageUrl', u'http://www.trafficnz.info/camera/20.jpg'), (u'tns:viewUrl', u'http://www.trafficnz.info/camera/view/20'), (u'tns:mapx', u'148'), (u'tns:mapy', u'118'), (u'tns:congestionLocation', [OrderedDict([(u'tns:name', u'Tristram Ave - Esmonde Rd'), (u'tns:direction', u'Southbound'), (u'tns:congestion', u'Free Flow')]), OrderedDict([(u'tns:name', u'Esmonde Rd - Tristram Ave'), (u'tns:direction', u'Northbound'), (u'tns:congestion', u'Free Flow')])])]), OrderedDict([(u'tns:id', u'30'), (u'tns:name', u'SH1 3 Northcote Rd'), (u'tns:description', u'Northcote Rd looking north'), (u'tns:offline', u'false'), (u'tns:underMaintenance', u'false'), (u'tns:imageUrl', u'http://www.trafficnz.info/camera/30.jpg'), (u'tns:viewUrl', u'http://www.trafficnz.info/camera/view/30'), (u'tns:mapx', u'156'), (u'tns:mapy', u'141'), (u'tns:congestionLocation', [OrderedDict([(u'tns:name', u'Tristram Ave - Esmonde Rd'), (u'tns:direction', u'Southbound'), (u'tns:congestion', u'Free Flow')]), OrderedDict([(u'tns:name', u'Esmonde Rd - Tristram Ave'), (u'tns:direction', u'Northbound'), (u'tns:congestion', u'Free Flow')])])]), OrderedDict([(u'tns:id', u'40'), (u'tns:name', u'SH1 4 Esmonde Rd'), (u'tns:description', u'Esmonde Rd looking south'), (u'tns:offline', u'false'), (u'tns:underMaintenance', u'false'), (u'tns:imageUrl', u'http://www.trafficnz.info/camera/40.jpg'), (u'tns:viewUrl', u'http://www.trafficnz.info/camera/view/40'), (u'tns:mapx', u'178'), (u'tns:mapy', u'146'), (u'tns:congestionLocation', [OrderedDict([(u'tns:name', u'Esmonde Rd - Onewa'), (u'tns:direction', u'Southbound'), (u'tns:congestion', u'Free Flow')]), OrderedDict([(u'tns:name', u'Stafford Rd - Esmonde Rd'), (u'tns:direction', u'Northbound'), (u'tns:congestion', u'Free Flow')])])]), OrderedDict([(u'tns:id', u'50'), (u'tns:name', u'SH1 5 Onewa Rd'), (u'tns:description', u'Onewa Rd looking south'), (u'tns:offline', u'false'), (u'tns:underMaintenance', u'false'), (u'tns:imageUrl', u'http://www.trafficnz.info/camera/50.jpg'), (u'tns:viewUrl', u'http://www.trafficnz.info/camera/view/50'), (u'tns:mapx', u'157'), (u'tns:mapy', u'162'), (u'tns:congestionLocation', [OrderedDict([(u'tns:name', u'Harbour Bridge'), (u'tns:direction', u'Southbound'), (u'tns:congestion', u'Free Flow')]), OrderedDict([(u'tns:name', u'Stafford Rd - Esmonde Rd'), (u'tns:direction', u'Northbound'), (u'tns:congestion', u'Free Flow')])])]), OrderedDict([(u'tns:id', u'215'), (u'tns:name', u'SH1 Alpurt Web cam'), (u'tns:description', u'Johnstone hill tunnels looking south'), (u'tns:offline', u'false'), (u'tns:underMaintenance', u'false'), (u'tns:imageUrl', u'http://www.trafficnz.info/camera/215.jpg'), (u'tns:viewUrl', u'http://www.trafficnz.info/camera/view/215'), (u'tns:mapx', u'0'), (u'tns:mapy', u'0')]), OrderedDict([(u'tns:id', u'212'), (u'tns:name', u'SH1 17 Goodwood'), (u'tns:description', u'Goodwood heights looking south'), (u'tns:offline', u'false'), (u'tns:underMaintenance', u'false'), (u'tns:imageUrl', u'http://www.trafficnz.info/camera/212.jpg'), (u'tns:viewUrl', u'http://www.trafficnz.info/camera/view/212'), (u'tns:mapx', u'0'), (u'tns:mapy', u'0')]), OrderedDict([(u'tns:id', u'214'), (u'tns:name', u'SH1 18 Rainbows End'), (u'tns:description', u'Rainbows End looking north at SH1 and SH20 link'), (u'tns:offline', u'false'), (u'tns:underMaintenance', u'false'), (u'tns:imageUrl', u'http://www.trafficnz.info/camera/214.jpg'), (u'tns:viewUrl', u'http://www.trafficnz.info/camera/view/214'), (u'tns:mapx', u'0'), (u'tns:mapy', u'0')]), OrderedDict([(u'tns:id', u'60'), (u'tns:name', u'SH1 1 CMJ'), (u'tns:description', u'Central motorway junction looking south at the link between state highways 1 and 16'), (u'tns:offline', u'false'), (u'tns:underMaintenance', u'false'), (u'tns:imageUrl', u'http://www.trafficnz.info/camera/60.jpg'), (u'tns:viewUrl', u'http://www.trafficnz.info/camera/view/60'), (u'tns:mapx', u'162'), (u'tns:mapy', u'217'), (u'tns:congestionLocation', OrderedDict([(u'tns:name', u'Nelson St - Gillies Ave'), (u'tns:direction', u'Southbound'), (u'tns:congestion', u'Free Flow')]))]), OrderedDict([(u'tns:id', u'70'), (u'tns:name', u'SH1 2 Market Rd'), (u'tns:description', u'Southern motorway at newmarket looking south towards the Market  Rd overbridge'), (u'tns:offline', u'false'), (u'tns:underMaintenance', u'false'), (u'tns:imageUrl', u'http://www.trafficnz.info/camera/70.jpg'), (u'tns:viewUrl', u'http://www.trafficnz.info/camera/view/70'), (u'tns:mapx', u'183'), (u'tns:mapy', u'241'), (u'tns:congestionLocation', [OrderedDict([(u'tns:name', u'Greenlane - Gillies Ave'), (u'tns:direction', u'Northbound'), (u'tns:congestion', u'Free Flow')]), OrderedDict([(u'tns:name', u'Gillies Ave - Greenlane'), (u'tns:direction', u'Southbound'), (u'tns:congestion', u'Free Flow')])])]), OrderedDict([(u'tns:id', u'80'), (u'tns:name', u'SH1 3 Greenlane Rd'), (u'tns:description', u'Greenlane Rd looking north'), (u'tns:offline', u'false'), (u'tns:underMaintenance', u'false'), (u'tns:imageUrl', u'http://www.trafficnz.info/camera/80.jpg'), (u'tns:viewUrl', u'http://www.trafficnz.info/camera/view/80'), (u'tns:mapx', u'198'), (u'tns:mapy', u'262'), (u'tns:congestionLocation', [OrderedDict([(u'tns:name', u'Greenlane - Gillies Ave'), (u'tns:direction', u'Northbound'), (u'tns:congestion', u'Free Flow')]), OrderedDict([(u'tns:name', u'Gillies Ave - Greenlane'), (u'tns:direction', u'Southbound'), (u'tns:congestion', u'Free Flow')])])]), OrderedDict([(u'tns:id', u'90'), (u'tns:name', u'SH1 4 SE Highway'), (u'tns:description', u'South eastern highway looking south'), (u'tns:offline', u'false'), (u'tns:underMaintenance', u'false'), (u'tns:imageUrl', u'http://www.trafficnz.info/camera/90.jpg'), (u'tns:viewUrl', u'http://www.trafficnz.info/camera/view/90'), (u'tns:mapx', u'219'), (u'tns:mapy', u'278'), (u'tns:congestionLocation', [OrderedDict([(u'tns:name', u'SE Highway - Mt Wellington Hway'), (u'tns:direction', u'Southbound'), (u'tns:congestion', u'Free Flow')]), OrderedDict([(u'tns:name', u'Mt Wellington Hway - SE Highway'), (u'tns:direction', u'Northbound'), (u'tns:congestion', u'Free Flow')])])]), OrderedDict([(u'tns:id', u'100'), (u'tns:name', u'SH1 5 Redoubt Rd'), (u'tns:description', u'Redoubt Rd looking north'), (u'tns:offline', u'false'), (u'tns:underMaintenance', u'false'), (u'tns:imageUrl', u'http://www.trafficnz.info/camera/100.jpg'), (u'tns:viewUrl', u'http://www.trafficnz.info/camera/view/100'), (u'tns:mapx', u'254'), (u'tns:mapy', u'341'), (u'tns:congestionLocation', [OrderedDict([(u'tns:name', u'Redoubt Rd - Hill Rd'), (u'tns:direction', u'Southbound'), (u'tns:congestion', u'Free Flow')]), OrderedDict([(u'tns:name', u'Hill Rd - Redoubt Rd'), (u'tns:direction', u'Northbound'), (u'tns:congestion', u'Free Flow')])])]), OrderedDict([(u'tns:id', u'110'), (u'tns:name', u'SH1 6 Bairds Rd'), (u'tns:description', u'Bairds Rd looking north'), (u'tns:offline', u'false'), (u'tns:underMaintenance', u'false'), (u'tns:imageUrl', u'http://www.trafficnz.info/camera/110.jpg'), (u'tns:viewUrl', u'http://www.trafficnz.info/camera/view/110'), (u'tns:mapx', u'275'), (u'tns:mapy', u'383'), (u'tns:congestionLocation', [OrderedDict([(u'tns:name', u'Princes St - East Tamaki Rd'), (u'tns:direction', u'Southbound'), (u'tns:congestion', u'Free Flow')]), OrderedDict([(u'tns:name', u'East Tamaki Rd - Princes St'), (u'tns:direction', u'Northbound'), (u'tns:congestion', u'Free Flow')])])]), OrderedDict([(u'tns:id', u'120'), (u'tns:name', u'SH1 7 Alfriston Rd'), (u'tns:description', u'Alfriston Rd looking north'), (u'tns:offline', u'false'), (u'tns:underMaintenance', u'false'), (u'tns:imageUrl', u'http://www.trafficnz.info/camera/120.jpg'), (u'tns:viewUrl', u'http://www.trafficnz.info/camera/view/120'), (u'tns:mapx', u'291'), (u'tns:mapy', u'411'), (u'tns:congestionLocation', [OrderedDict([(u'tns:name', u'Hill Rd - Takanini'), (u'tns:direction', u'Southbound'), (u'tns:congestion', u'Free Flow')]), OrderedDict([(u'tns:name', u'Takanini - Hill Rd'), (u'tns:direction', u'Northbound'), (u'tns:congestion', u'Free Flow')])])]), OrderedDict([(u'tns:id', u'121'), (u'tns:name', u'SH1 8 Takanini'), (u'tns:description', u'Takanini looking south'), (u'tns:offline', u'false'), (u'tns:underMaintenance', u'false'), (u'tns:imageUrl', u'http://www.trafficnz.info/camera/121.jpg'), (u'tns:viewUrl', u'http://www.trafficnz.info/camera/view/121'), (u'tns:mapx', u'290'), (u'tns:mapy', u'380')]), OrderedDict([(u'tns:id', u'122'), (u'tns:name', u'SH1 9 Walter Streven'), (u'tns:description', u'Walter-Strevens Drive looking south'), (u'tns:offline', u'false'), (u'tns:underMaintenance', u'false'), (u'tns:imageUrl', u'http://www.trafficnz.info/camera/122.jpg'), (u'tns:viewUrl', u'http://www.trafficnz.info/camera/view/122'), (u'tns:mapx', u'285'), (u'tns:mapy', u'400')]), OrderedDict([(u'tns:id', u'123'), (u'tns:name', u'SH1 10 Pahurehure'), (u'tns:description', u'Pahurehure looking south'), (u'tns:offline', u'false'), (u'tns:underMaintenance', u'false'), (u'tns:imageUrl', u'http://www.trafficnz.info/camera/123.jpg'), (u'tns:viewUrl', u'http://www.trafficnz.info/camera/view/123'), (u'tns:mapx', u'265'), (u'tns:mapy', u'410')]), OrderedDict([(u'tns:id', u'124'), (u'tns:name', u'SH1 11 Rushgreen Ave'), (u'tns:description', u'Rushgreen Ave looking south'), (u'tns:offline', u'false'), (u'tns:underMaintenance', u'false'), (u'tns:imageUrl', u'http://www.trafficnz.info/camera/124.jpg'), (u'tns:viewUrl', u'http://www.trafficnz.info/camera/view/124'), (u'tns:mapx', u'285'), (u'tns:mapy', u'420')]), OrderedDict([(u'tns:id', u'125'), (u'tns:name', u'SH1 12 Park Estate'), (u'tns:description', u'Park estate looking south'), (u'tns:offline', u'false'), (u'tns:underMaintenance', u'false'), (u'tns:imageUrl', u'http://www.trafficnz.info/camera/125.jpg'), (u'tns:viewUrl', u'http://www.trafficnz.info/camera/view/125'), (u'tns:mapx', u'300'), (u'tns:mapy', u'430')]), OrderedDict([(u'tns:id', u'126'), (u'tns:name', u'SH1 13 Slippery Crk'), (u'tns:description', u'Slippery Creek looking  south'), (u'tns:offline', u'false'), (u'tns:underMaintenance', u'false'), (u'tns:imageUrl', u'http://www.trafficnz.info/camera/126.jpg'), (u'tns:viewUrl', u'http://www.trafficnz.info/camera/view/126'), (u'tns:mapx', u'286'), (u'tns:mapy', u'445')]), OrderedDict([(u'tns:id', u'274'), (u'tns:name', u'SH20A Montgomerie Rd'), (u'tns:description', u'Montgomerie Rd looking east'), (u'tns:offline', u'false'), (u'tns:underMaintenance', u'false'), (u'tns:imageUrl', u'http://www.trafficnz.info/camera/274.jpg'), (u'tns:viewUrl', u'http://www.trafficnz.info/camera/view/274'), (u'tns:mapx', u'0'), (u'tns:mapy', u'0')]), OrderedDict([(u'tns:id', u'275'), (u'tns:name', u'SH20A Kirkbride Road'), (u'tns:description', u'Kirkbride Rd looking east'), (u'tns:offline', u'false'), (u'tns:underMaintenance', u'false'), (u'tns:imageUrl', u'http://www.trafficnz.info/camera/275.jpg'), (u'tns:viewUrl', u'http://www.trafficnz.info/camera/view/275'), (u'tns:mapx', u'0'), (u'tns:mapy', u'0')]), OrderedDict([(u'tns:id', u'276'), (u'tns:name', u'SH20A Bader Drive'), (u'tns:description', u'Bader Drive looking east'), (u'tns:offline', u'false'), (u'tns:underMaintenance', u'false'), (u'tns:imageUrl', u'http://www.trafficnz.info/camera/276.jpg'), (u'tns:viewUrl', u'http://www.trafficnz.info/camera/view/276'), (u'tns:mapx', u'0'), (u'tns:mapy', u'0')]), OrderedDict([(u'tns:id', u'272'), (u'tns:name', u'SH20B Prices Road'), (u'tns:description', u'Prices Rd looking east'), (u'tns:offline', u'false'), (u'tns:underMaintenance', u'false'), (u'tns:imageUrl', u'http://www.trafficnz.info/camera/272.jpg'), (u'tns:viewUrl', u'http://www.trafficnz.info/camera/view/272'), (u'tns:mapx', u'0'), (u'tns:mapy', u'0')]), OrderedDict([(u'tns:id', u'273'), (u'tns:name', u'SH20B Waokauri Creek'), (u'tns:description', u'Waokauri Creek looking west'), (u'tns:offline', u'false'), (u'tns:underMaintenance', u'false'), (u'tns:imageUrl', u'http://www.trafficnz.info/camera/273.jpg'), (u'tns:viewUrl', u'http://www.trafficnz.info/camera/view/273'), (u'tns:mapx', u'0'), (u'tns:mapy', u'0')]), OrderedDict([(u'tns:id', u'288'), (u'tns:name', u'SH20 Selfs Rd'), (u'tns:description', u'Near Selfs Rd looking north'), (u'tns:offline', u'true'), (u'tns:underMaintenance', u'false'), (u'tns:imageUrl', u'http://www.trafficnz.info/camera/288.jpg'), (u'tns:viewUrl', u'http://www.trafficnz.info/camera/view/288'), (u'tns:mapx', u'0'), (u'tns:mapy', u'0')]), OrderedDict([(u'tns:id', u'289'), (u'tns:name', u'SH20 Gee Pl'), (u'tns:description', u'Near Gee Pl looking north'), (u'tns:offline', u'true'), (u'tns:underMaintenance', u'false'), (u'tns:imageUrl', u'http://www.trafficnz.info/camera/289.jpg'), (u'tns:viewUrl', u'http://www.trafficnz.info/camera/view/289'), (u'tns:mapx', u'0'), (u'tns:mapy', u'0')]), OrderedDict([(u'tns:id', u'290'), (u'tns:name', u'SH20 Massey Rd'), (u'tns:description', u'Massey Rd looking north'), (u'tns:offline', u'true'), (u'tns:underMaintenance', u'false'), (u'tns:imageUrl', u'http://www.trafficnz.info/camera/290.jpg'), (u'tns:viewUrl', u'http://www.trafficnz.info/camera/view/290'), (u'tns:mapx', u'0'), (u'tns:mapy', u'0')]), OrderedDict([(u'tns:id', u'190'), (u'tns:name', u'SH20 1 Queenstown Rd'), (u'tns:description', u'Queenstown Rd looking south'), (u'tns:offline', u'false'), (u'tns:underMaintenance', u'false'), (u'tns:imageUrl', u'http://www.trafficnz.info/camera/190.jpg'), (u'tns:viewUrl', u'http://www.trafficnz.info/camera/view/190'), (u'tns:mapx', u'35'), (u'tns:mapy', u'207')]), OrderedDict([(u'tns:id', u'191'), (u'tns:name', u'SH20 2 Hillsborough'), (u'tns:description', u'Hillsborough Rd looking south'), (u'tns:offline', u'false'), (u'tns:underMaintenance', u'false'), (u'tns:imageUrl', u'http://www.trafficnz.info/camera/191.jpg'), (u'tns:viewUrl', u'http://www.trafficnz.info/camera/view/191'), (u'tns:mapx', u'35'), (u'tns:mapy', u'207')]), OrderedDict([(u'tns:id', u'192'), (u'tns:name', u'SH20 3 Melrose'), (u'tns:description', u'Melrose looking south'), (u'tns:offline', u'false'), (u'tns:underMaintenance', u'false'), (u'tns:imageUrl', u'http://www.trafficnz.info/camera/192.jpg'), (u'tns:viewUrl', u'http://www.trafficnz.info/camera/view/192'), (u'tns:mapx', u'35'), (u'tns:mapy', u'207')]), OrderedDict([(u'tns:id', u'193'), (u'tns:name', u'SH20 4 Dominion Rd'), (u'tns:description', u'Dominion Rd looking south'), (u'tns:offline', u'false'), (u'tns:underMaintenance', u'false'), (u'tns:imageUrl', u'http://www.trafficnz.info/camera/193.jpg'), (u'tns:viewUrl', u'http://www.trafficnz.info/camera/view/193'), (u'tns:mapx', u'35'), (u'tns:mapy', u'207')]), OrderedDict([(u'tns:id', u'194'), (u'tns:name', u'SH20 5 Sandringham'), (u'tns:description', u'Sandringham looking South'), (u'tns:offline', u'false'), (u'tns:underMaintenance', u'false'), (u'tns:imageUrl', u'http://www.trafficnz.info/camera/194.jpg'), (u'tns:viewUrl', u'http://www.trafficnz.info/camera/view/194'), (u'tns:mapx', u'35'), (u'tns:mapy', u'207')]), OrderedDict([(u'tns:id', u'201'), (u'tns:name', u'SH20 6 Gloucester Pk'), (u'tns:description', u'Gloucester Park looking north'), (u'tns:offline', u'false'), (u'tns:underMaintenance', u'false'), (u'tns:imageUrl', u'http://www.trafficnz.info/camera/201.jpg'), (u'tns:viewUrl', u'http://www.trafficnz.info/camera/view/201'), (u'tns:mapx', u'0'), (u'tns:mapy', u'0')]), OrderedDict([(u'tns:id', u'202'), (u'tns:name', u'SH20 7 Onehunga'), (u'tns:description', u'Onehunga wharf looking north'), (u'tns:offline', u'false'), (u'tns:underMaintenance', u'false'), (u'tns:imageUrl', u'http://www.trafficnz.info/camera/202.jpg'), (u'tns:viewUrl', u'http://www.trafficnz.info/camera/view/202'), (u'tns:mapx', u'0'), (u'tns:mapy', u'0')]), OrderedDict([(u'tns:id', u'203'), (u'tns:name', u'SH20 8 Rimu Rd'), (u'tns:description', u'Rimu Rd looking north'), (u'tns:offline', u'false'), (u'tns:underMaintenance', u'false'), (u'tns:imageUrl', u'http://www.trafficnz.info/camera/203.jpg'), (u'tns:viewUrl', u'http://www.trafficnz.info/camera/view/203'), (u'tns:mapx', u'0'), (u'tns:mapy', u'0')]), OrderedDict([(u'tns:id', u'204'), (u'tns:name', u'SH20 9 Crawford Ave'), (u'tns:description', u'Crawford Ave looking north'), (u'tns:offline', u'false'), (u'tns:underMaintenance', u'false'), (u'tns:imageUrl', u'http://www.trafficnz.info/camera/204.jpg'), (u'tns:viewUrl', u'http://www.trafficnz.info/camera/view/204'), (u'tns:mapx', u'0'), (u'tns:mapy', u'0')]), OrderedDict([(u'tns:id', u'205'), (u'tns:name', u'SH20 Coronation Rd'), (u'tns:description', u'Coronation Rd looking east'), (u'tns:offline', u'false'), (u'tns:underMaintenance', u'false'), (u'tns:imageUrl', u'http://www.trafficnz.info/camera/205.jpg'), (u'tns:viewUrl', u'http://www.trafficnz.info/camera/view/205'), (u'tns:mapx', u'0'), (u'tns:mapy', u'0')]), OrderedDict([(u'tns:id', u'206'), (u'tns:name', u'SH20 11 Puhinui Rd'), (u'tns:description', u'Puhinui road interchange looking south'), (u'tns:offline', u'false'), (u'tns:underMaintenance', u'false'), (u'tns:imageUrl', u'http://www.trafficnz.info/camera/206.jpg'), (u'tns:viewUrl', u'http://www.trafficnz.info/camera/view/206'), (u'tns:mapx', u'0'), (u'tns:mapy', u'0')]), OrderedDict([(u'tns:id', u'207'), (u'tns:name', u'SH20 12 Nesdale Road'), (u'tns:description', u'Nesdale Rd looking east'), (u'tns:offline', u'false'), (u'tns:underMaintenance', u'false'), (u'tns:imageUrl', u'http://www.trafficnz.info/camera/207.jpg'), (u'tns:viewUrl', u'http://www.trafficnz.info/camera/view/207'), (u'tns:mapx', u'0'), (u'tns:mapy', u'0')]), OrderedDict([(u'tns:id', u'208'), (u'tns:name', u'SH20 13 Plunket Ave'), (u'tns:description', u'Plunket Ave looking south'), (u'tns:offline', u'false'), (u'tns:underMaintenance', u'false'), (u'tns:imageUrl', u'http://www.trafficnz.info/camera/208.jpg'), (u'tns:viewUrl', u'http://www.trafficnz.info/camera/view/208'), (u'tns:mapx', u'0'), (u'tns:mapy', u'0')]), OrderedDict([(u'tns:id', u'209'), (u'tns:name', u'SH20 14 Lambie Drive'), (u'tns:description', u'Lambie Drive looking south'), (u'tns:offline', u'false'), (u'tns:underMaintenance', u'false'), (u'tns:imageUrl', u'http://www.trafficnz.info/camera/209.jpg'), (u'tns:viewUrl', u'http://www.trafficnz.info/camera/view/209'), (u'tns:mapx', u'0'), (u'tns:mapy', u'0')]), OrderedDict([(u'tns:id', u'210'), (u'tns:name', u'SH20 15 Barrowcliffe'), (u'tns:description', u'Barrowcliffe Place looking west'), (u'tns:offline', u'false'), (u'tns:underMaintenance', u'false'), (u'tns:imageUrl', u'http://www.trafficnz.info/camera/210.jpg'), (u'tns:viewUrl', u'http://www.trafficnz.info/camera/view/210'), (u'tns:mapx', u'0'), (u'tns:mapy', u'0')]), OrderedDict([(u'tns:id', u'211'), (u'tns:name', u'SH20 16 Great South'), (u'tns:description', u'Great South Rd Looking westbound'), (u'tns:offline', u'false'), (u'tns:underMaintenance', u'false'), (u'tns:imageUrl', u'http://www.trafficnz.info/camera/211.jpg'), (u'tns:viewUrl', u'http://www.trafficnz.info/camera/view/211'), (u'tns:mapx', u'0'), (u'tns:mapy', u'0')])])]))])"
       ]
      }
     ],
     "prompt_number": 70
    },
    {
     "cell_type": "code",
     "collapsed": false,
     "input": [
      "dakey = datadict.keys"
     ],
     "language": "python",
     "metadata": {},
     "outputs": [],
     "prompt_number": 39
    },
    {
     "cell_type": "code",
     "collapsed": false,
     "input": [
      "dalist = []"
     ],
     "language": "python",
     "metadata": {},
     "outputs": [],
     "prompt_number": 40
    },
    {
     "cell_type": "code",
     "collapsed": false,
     "input": [
      "dalist"
     ],
     "language": "python",
     "metadata": {},
     "outputs": [
      {
       "output_type": "pyout",
       "prompt_number": 41,
       "text": [
        "[]"
       ]
      }
     ],
     "prompt_number": 41
    },
    {
     "cell_type": "code",
     "collapsed": false,
     "input": [
      "import json\n",
      "\n",
      "#write the dictionary to a file\n",
      "outfile = open('linkz', 'w')\n",
      "json.dump(datadict, outfile)\n",
      "\n",
      "#read the data back in\n",
      "with open('linkz') as infile:\n",
      "    newDictionary = json.load(infile)"
     ],
     "language": "python",
     "metadata": {},
     "outputs": [
      {
       "ename": "ValueError",
       "evalue": "Unterminated string starting at: line 1 column 24548 (char 24547)",
       "output_type": "pyerr",
       "traceback": [
        "\u001b[1;31m---------------------------------------------------------------------------\u001b[0m\n\u001b[1;31mValueError\u001b[0m                                Traceback (most recent call last)",
        "\u001b[1;32m<ipython-input-42-3da3a16e935b>\u001b[0m in \u001b[0;36m<module>\u001b[1;34m()\u001b[0m\n\u001b[0;32m      7\u001b[0m \u001b[1;31m#read the data back in\u001b[0m\u001b[1;33m\u001b[0m\u001b[1;33m\u001b[0m\u001b[0m\n\u001b[0;32m      8\u001b[0m \u001b[1;32mwith\u001b[0m \u001b[0mopen\u001b[0m\u001b[1;33m(\u001b[0m\u001b[1;34m'linkz'\u001b[0m\u001b[1;33m)\u001b[0m \u001b[1;32mas\u001b[0m \u001b[0minfile\u001b[0m\u001b[1;33m:\u001b[0m\u001b[1;33m\u001b[0m\u001b[0m\n\u001b[1;32m----> 9\u001b[1;33m     \u001b[0mnewDictionary\u001b[0m \u001b[1;33m=\u001b[0m \u001b[0mjson\u001b[0m\u001b[1;33m.\u001b[0m\u001b[0mload\u001b[0m\u001b[1;33m(\u001b[0m\u001b[0minfile\u001b[0m\u001b[1;33m)\u001b[0m\u001b[1;33m\u001b[0m\u001b[0m\n\u001b[0m",
        "\u001b[1;32m/usr/lib64/python2.7/json/__init__.pyc\u001b[0m in \u001b[0;36mload\u001b[1;34m(fp, encoding, cls, object_hook, parse_float, parse_int, parse_constant, object_pairs_hook, **kw)\u001b[0m\n\u001b[0;32m    288\u001b[0m         \u001b[0mparse_float\u001b[0m\u001b[1;33m=\u001b[0m\u001b[0mparse_float\u001b[0m\u001b[1;33m,\u001b[0m \u001b[0mparse_int\u001b[0m\u001b[1;33m=\u001b[0m\u001b[0mparse_int\u001b[0m\u001b[1;33m,\u001b[0m\u001b[1;33m\u001b[0m\u001b[0m\n\u001b[0;32m    289\u001b[0m         \u001b[0mparse_constant\u001b[0m\u001b[1;33m=\u001b[0m\u001b[0mparse_constant\u001b[0m\u001b[1;33m,\u001b[0m \u001b[0mobject_pairs_hook\u001b[0m\u001b[1;33m=\u001b[0m\u001b[0mobject_pairs_hook\u001b[0m\u001b[1;33m,\u001b[0m\u001b[1;33m\u001b[0m\u001b[0m\n\u001b[1;32m--> 290\u001b[1;33m         **kw)\n\u001b[0m\u001b[0;32m    291\u001b[0m \u001b[1;33m\u001b[0m\u001b[0m\n\u001b[0;32m    292\u001b[0m \u001b[1;33m\u001b[0m\u001b[0m\n",
        "\u001b[1;32m/usr/lib64/python2.7/json/__init__.pyc\u001b[0m in \u001b[0;36mloads\u001b[1;34m(s, encoding, cls, object_hook, parse_float, parse_int, parse_constant, object_pairs_hook, **kw)\u001b[0m\n\u001b[0;32m    336\u001b[0m             \u001b[0mparse_int\u001b[0m \u001b[1;32mis\u001b[0m \u001b[0mNone\u001b[0m \u001b[1;32mand\u001b[0m \u001b[0mparse_float\u001b[0m \u001b[1;32mis\u001b[0m \u001b[0mNone\u001b[0m \u001b[1;32mand\u001b[0m\u001b[1;33m\u001b[0m\u001b[0m\n\u001b[0;32m    337\u001b[0m             parse_constant is None and object_pairs_hook is None and not kw):\n\u001b[1;32m--> 338\u001b[1;33m         \u001b[1;32mreturn\u001b[0m \u001b[0m_default_decoder\u001b[0m\u001b[1;33m.\u001b[0m\u001b[0mdecode\u001b[0m\u001b[1;33m(\u001b[0m\u001b[0ms\u001b[0m\u001b[1;33m)\u001b[0m\u001b[1;33m\u001b[0m\u001b[0m\n\u001b[0m\u001b[0;32m    339\u001b[0m     \u001b[1;32mif\u001b[0m \u001b[0mcls\u001b[0m \u001b[1;32mis\u001b[0m \u001b[0mNone\u001b[0m\u001b[1;33m:\u001b[0m\u001b[1;33m\u001b[0m\u001b[0m\n\u001b[0;32m    340\u001b[0m         \u001b[0mcls\u001b[0m \u001b[1;33m=\u001b[0m \u001b[0mJSONDecoder\u001b[0m\u001b[1;33m\u001b[0m\u001b[0m\n",
        "\u001b[1;32m/usr/lib64/python2.7/json/decoder.pyc\u001b[0m in \u001b[0;36mdecode\u001b[1;34m(self, s, _w)\u001b[0m\n\u001b[0;32m    363\u001b[0m \u001b[1;33m\u001b[0m\u001b[0m\n\u001b[0;32m    364\u001b[0m         \"\"\"\n\u001b[1;32m--> 365\u001b[1;33m         \u001b[0mobj\u001b[0m\u001b[1;33m,\u001b[0m \u001b[0mend\u001b[0m \u001b[1;33m=\u001b[0m \u001b[0mself\u001b[0m\u001b[1;33m.\u001b[0m\u001b[0mraw_decode\u001b[0m\u001b[1;33m(\u001b[0m\u001b[0ms\u001b[0m\u001b[1;33m,\u001b[0m \u001b[0midx\u001b[0m\u001b[1;33m=\u001b[0m\u001b[0m_w\u001b[0m\u001b[1;33m(\u001b[0m\u001b[0ms\u001b[0m\u001b[1;33m,\u001b[0m \u001b[1;36m0\u001b[0m\u001b[1;33m)\u001b[0m\u001b[1;33m.\u001b[0m\u001b[0mend\u001b[0m\u001b[1;33m(\u001b[0m\u001b[1;33m)\u001b[0m\u001b[1;33m)\u001b[0m\u001b[1;33m\u001b[0m\u001b[0m\n\u001b[0m\u001b[0;32m    366\u001b[0m         \u001b[0mend\u001b[0m \u001b[1;33m=\u001b[0m \u001b[0m_w\u001b[0m\u001b[1;33m(\u001b[0m\u001b[0ms\u001b[0m\u001b[1;33m,\u001b[0m \u001b[0mend\u001b[0m\u001b[1;33m)\u001b[0m\u001b[1;33m.\u001b[0m\u001b[0mend\u001b[0m\u001b[1;33m(\u001b[0m\u001b[1;33m)\u001b[0m\u001b[1;33m\u001b[0m\u001b[0m\n\u001b[0;32m    367\u001b[0m         \u001b[1;32mif\u001b[0m \u001b[0mend\u001b[0m \u001b[1;33m!=\u001b[0m \u001b[0mlen\u001b[0m\u001b[1;33m(\u001b[0m\u001b[0ms\u001b[0m\u001b[1;33m)\u001b[0m\u001b[1;33m:\u001b[0m\u001b[1;33m\u001b[0m\u001b[0m\n",
        "\u001b[1;32m/usr/lib64/python2.7/json/decoder.pyc\u001b[0m in \u001b[0;36mraw_decode\u001b[1;34m(self, s, idx)\u001b[0m\n\u001b[0;32m    379\u001b[0m         \"\"\"\n\u001b[0;32m    380\u001b[0m         \u001b[1;32mtry\u001b[0m\u001b[1;33m:\u001b[0m\u001b[1;33m\u001b[0m\u001b[0m\n\u001b[1;32m--> 381\u001b[1;33m             \u001b[0mobj\u001b[0m\u001b[1;33m,\u001b[0m \u001b[0mend\u001b[0m \u001b[1;33m=\u001b[0m \u001b[0mself\u001b[0m\u001b[1;33m.\u001b[0m\u001b[0mscan_once\u001b[0m\u001b[1;33m(\u001b[0m\u001b[0ms\u001b[0m\u001b[1;33m,\u001b[0m \u001b[0midx\u001b[0m\u001b[1;33m)\u001b[0m\u001b[1;33m\u001b[0m\u001b[0m\n\u001b[0m\u001b[0;32m    382\u001b[0m         \u001b[1;32mexcept\u001b[0m \u001b[0mStopIteration\u001b[0m\u001b[1;33m:\u001b[0m\u001b[1;33m\u001b[0m\u001b[0m\n\u001b[0;32m    383\u001b[0m             \u001b[1;32mraise\u001b[0m \u001b[0mValueError\u001b[0m\u001b[1;33m(\u001b[0m\u001b[1;34m\"No JSON object could be decoded\"\u001b[0m\u001b[1;33m)\u001b[0m\u001b[1;33m\u001b[0m\u001b[0m\n",
        "\u001b[1;31mValueError\u001b[0m: Unterminated string starting at: line 1 column 24548 (char 24547)"
       ]
      }
     ],
     "prompt_number": 42
    },
    {
     "cell_type": "code",
     "collapsed": false,
     "input": [
      "print key"
     ],
     "language": "python",
     "metadata": {},
     "outputs": [
      {
       "ename": "NameError",
       "evalue": "name 'key' is not defined",
       "output_type": "pyerr",
       "traceback": [
        "\u001b[1;31m---------------------------------------------------------------------------\u001b[0m\n\u001b[1;31mNameError\u001b[0m                                 Traceback (most recent call last)",
        "\u001b[1;32m<ipython-input-43-c31e60addcde>\u001b[0m in \u001b[0;36m<module>\u001b[1;34m()\u001b[0m\n\u001b[1;32m----> 1\u001b[1;33m \u001b[1;32mprint\u001b[0m \u001b[0mkey\u001b[0m\u001b[1;33m\u001b[0m\u001b[0m\n\u001b[0m",
        "\u001b[1;31mNameError\u001b[0m: name 'key' is not defined"
       ]
      }
     ],
     "prompt_number": 43
    },
    {
     "cell_type": "code",
     "collapsed": false,
     "input": [
      "import json"
     ],
     "language": "python",
     "metadata": {},
     "outputs": [],
     "prompt_number": 44
    },
    {
     "cell_type": "code",
     "collapsed": false,
     "input": [
      "dicttojson = json.dumps(newDictionary)"
     ],
     "language": "python",
     "metadata": {},
     "outputs": [
      {
       "ename": "NameError",
       "evalue": "name 'newDictionary' is not defined",
       "output_type": "pyerr",
       "traceback": [
        "\u001b[1;31m---------------------------------------------------------------------------\u001b[0m\n\u001b[1;31mNameError\u001b[0m                                 Traceback (most recent call last)",
        "\u001b[1;32m<ipython-input-45-cdfddc663427>\u001b[0m in \u001b[0;36m<module>\u001b[1;34m()\u001b[0m\n\u001b[1;32m----> 1\u001b[1;33m \u001b[0mdicttojson\u001b[0m \u001b[1;33m=\u001b[0m \u001b[0mjson\u001b[0m\u001b[1;33m.\u001b[0m\u001b[0mdumps\u001b[0m\u001b[1;33m(\u001b[0m\u001b[0mnewDictionary\u001b[0m\u001b[1;33m)\u001b[0m\u001b[1;33m\u001b[0m\u001b[0m\n\u001b[0m",
        "\u001b[1;31mNameError\u001b[0m: name 'newDictionary' is not defined"
       ]
      }
     ],
     "prompt_number": 45
    },
    {
     "cell_type": "code",
     "collapsed": false,
     "input": [
      "newDictionary"
     ],
     "language": "python",
     "metadata": {},
     "outputs": [
      {
       "ename": "NameError",
       "evalue": "name 'newDictionary' is not defined",
       "output_type": "pyerr",
       "traceback": [
        "\u001b[1;31m---------------------------------------------------------------------------\u001b[0m\n\u001b[1;31mNameError\u001b[0m                                 Traceback (most recent call last)",
        "\u001b[1;32m<ipython-input-46-50f3e99fe8d3>\u001b[0m in \u001b[0;36m<module>\u001b[1;34m()\u001b[0m\n\u001b[1;32m----> 1\u001b[1;33m \u001b[0mnewDictionary\u001b[0m\u001b[1;33m\u001b[0m\u001b[0m\n\u001b[0m",
        "\u001b[1;31mNameError\u001b[0m: name 'newDictionary' is not defined"
       ]
      }
     ],
     "prompt_number": 46
    },
    {
     "cell_type": "code",
     "collapsed": false,
     "input": [
      "newdicli = []"
     ],
     "language": "python",
     "metadata": {},
     "outputs": [],
     "prompt_number": 47
    },
    {
     "cell_type": "code",
     "collapsed": false,
     "input": [
      "newDictionary.items"
     ],
     "language": "python",
     "metadata": {},
     "outputs": [
      {
       "ename": "NameError",
       "evalue": "name 'newDictionary' is not defined",
       "output_type": "pyerr",
       "traceback": [
        "\u001b[1;31m---------------------------------------------------------------------------\u001b[0m\n\u001b[1;31mNameError\u001b[0m                                 Traceback (most recent call last)",
        "\u001b[1;32m<ipython-input-48-b336317ed904>\u001b[0m in \u001b[0;36m<module>\u001b[1;34m()\u001b[0m\n\u001b[1;32m----> 1\u001b[1;33m \u001b[0mnewDictionary\u001b[0m\u001b[1;33m.\u001b[0m\u001b[0mitems\u001b[0m\u001b[1;33m\u001b[0m\u001b[0m\n\u001b[0m",
        "\u001b[1;31mNameError\u001b[0m: name 'newDictionary' is not defined"
       ]
      }
     ],
     "prompt_number": 48
    },
    {
     "cell_type": "code",
     "collapsed": false,
     "input": [
      "len(newDictionary)"
     ],
     "language": "python",
     "metadata": {},
     "outputs": [
      {
       "ename": "NameError",
       "evalue": "name 'newDictionary' is not defined",
       "output_type": "pyerr",
       "traceback": [
        "\u001b[1;31m---------------------------------------------------------------------------\u001b[0m\n\u001b[1;31mNameError\u001b[0m                                 Traceback (most recent call last)",
        "\u001b[1;32m<ipython-input-49-9446f56bee19>\u001b[0m in \u001b[0;36m<module>\u001b[1;34m()\u001b[0m\n\u001b[1;32m----> 1\u001b[1;33m \u001b[0mlen\u001b[0m\u001b[1;33m(\u001b[0m\u001b[0mnewDictionary\u001b[0m\u001b[1;33m)\u001b[0m\u001b[1;33m\u001b[0m\u001b[0m\n\u001b[0m",
        "\u001b[1;31mNameError\u001b[0m: name 'newDictionary' is not defined"
       ]
      }
     ],
     "prompt_number": 49
    },
    {
     "cell_type": "code",
     "collapsed": false,
     "input": [
      "althere = newDictionary[u'tns:getCamerasResponse']"
     ],
     "language": "python",
     "metadata": {},
     "outputs": [
      {
       "ename": "NameError",
       "evalue": "name 'newDictionary' is not defined",
       "output_type": "pyerr",
       "traceback": [
        "\u001b[1;31m---------------------------------------------------------------------------\u001b[0m\n\u001b[1;31mNameError\u001b[0m                                 Traceback (most recent call last)",
        "\u001b[1;32m<ipython-input-50-14e6b05b63c9>\u001b[0m in \u001b[0;36m<module>\u001b[1;34m()\u001b[0m\n\u001b[1;32m----> 1\u001b[1;33m \u001b[0malthere\u001b[0m \u001b[1;33m=\u001b[0m \u001b[0mnewDictionary\u001b[0m\u001b[1;33m[\u001b[0m\u001b[1;34mu'tns:getCamerasResponse'\u001b[0m\u001b[1;33m]\u001b[0m\u001b[1;33m\u001b[0m\u001b[0m\n\u001b[0m",
        "\u001b[1;31mNameError\u001b[0m: name 'newDictionary' is not defined"
       ]
      }
     ],
     "prompt_number": 50
    },
    {
     "cell_type": "code",
     "collapsed": false,
     "input": [
      "len(althere)"
     ],
     "language": "python",
     "metadata": {},
     "outputs": [
      {
       "output_type": "pyout",
       "prompt_number": 36,
       "text": [
        "5"
       ]
      }
     ],
     "prompt_number": 36
    },
    {
     "cell_type": "code",
     "collapsed": false,
     "input": [
      "althere.keys()"
     ],
     "language": "python",
     "metadata": {},
     "outputs": [
      {
       "output_type": "pyout",
       "prompt_number": 37,
       "text": [
        "[u'@xmlns:xsi', u'@xmlns:xsd', u'tns:camera', u'@xmlns:rem', u'@xmlns:tns']"
       ]
      }
     ],
     "prompt_number": 37
    },
    {
     "cell_type": "code",
     "collapsed": false,
     "input": [
      "for alke in althere.keys():\n",
      "    print alke"
     ],
     "language": "python",
     "metadata": {},
     "outputs": [
      {
       "output_type": "stream",
       "stream": "stdout",
       "text": [
        "@xmlns:xsi"
       ]
      },
      {
       "output_type": "stream",
       "stream": "stdout",
       "text": [
        "\n",
        "@xmlns:xsd\n",
        "tns:camera\n",
        "@xmlns:rem\n",
        "@xmlns:tns\n"
       ]
      }
     ],
     "prompt_number": 38
    },
    {
     "cell_type": "code",
     "collapsed": false,
     "input": [
      "camgit = (althere(n'tns:camera')"
     ],
     "language": "python",
     "metadata": {},
     "outputs": [
      {
       "ename": "SyntaxError",
       "evalue": "invalid syntax (<ipython-input-39-3bd7362f6f43>, line 1)",
       "output_type": "pyerr",
       "traceback": [
        "\u001b[1;36m  File \u001b[1;32m\"<ipython-input-39-3bd7362f6f43>\"\u001b[1;36m, line \u001b[1;32m1\u001b[0m\n\u001b[1;33m    camgit = (althere(n'tns:camera')\u001b[0m\n\u001b[1;37m                                  ^\u001b[0m\n\u001b[1;31mSyntaxError\u001b[0m\u001b[1;31m:\u001b[0m invalid syntax\n"
       ]
      }
     ],
     "prompt_number": 39
    },
    {
     "cell_type": "code",
     "collapsed": false,
     "input": [],
     "language": "python",
     "metadata": {},
     "outputs": [],
     "prompt_number": 39
    },
    {
     "cell_type": "code",
     "collapsed": false,
     "input": [
      "print 'hello world'"
     ],
     "language": "python",
     "metadata": {},
     "outputs": [
      {
       "output_type": "stream",
       "stream": "stdout",
       "text": [
        "hello world\n"
       ]
      }
     ],
     "prompt_number": 40
    },
    {
     "cell_type": "code",
     "collapsed": false,
     "input": [
      "althere.keys()"
     ],
     "language": "python",
     "metadata": {},
     "outputs": [
      {
       "output_type": "pyout",
       "prompt_number": 41,
       "text": [
        "[u'@xmlns:xsi', u'@xmlns:xsd', u'tns:camera', u'@xmlns:rem', u'@xmlns:tns']"
       ]
      }
     ],
     "prompt_number": 41
    },
    {
     "cell_type": "code",
     "collapsed": false,
     "input": [
      "bthere = althere[u'tns:camera']"
     ],
     "language": "python",
     "metadata": {},
     "outputs": [
      {
       "ename": "NameError",
       "evalue": "name 'althere' is not defined",
       "output_type": "pyerr",
       "traceback": [
        "\u001b[1;31m---------------------------------------------------------------------------\u001b[0m\n\u001b[1;31mNameError\u001b[0m                                 Traceback (most recent call last)",
        "\u001b[1;32m<ipython-input-51-f86054a154a9>\u001b[0m in \u001b[0;36m<module>\u001b[1;34m()\u001b[0m\n\u001b[1;32m----> 1\u001b[1;33m \u001b[0mbthere\u001b[0m \u001b[1;33m=\u001b[0m \u001b[0malthere\u001b[0m\u001b[1;33m[\u001b[0m\u001b[1;34mu'tns:camera'\u001b[0m\u001b[1;33m]\u001b[0m\u001b[1;33m\u001b[0m\u001b[0m\n\u001b[0m",
        "\u001b[1;31mNameError\u001b[0m: name 'althere' is not defined"
       ]
      }
     ],
     "prompt_number": 51
    },
    {
     "cell_type": "code",
     "collapsed": false,
     "input": [
      "bthere[0]"
     ],
     "language": "python",
     "metadata": {},
     "outputs": [
      {
       "output_type": "pyout",
       "prompt_number": 43,
       "text": [
        "{u'tns:congestionLocation': [{u'tns:congestion': u'Free Flow',\n",
        "   u'tns:direction': u'Eastbound',\n",
        "   u'tns:name': u'St Lukes Rd - Newton Rd'},\n",
        "  {u'tns:congestion': u'Free Flow',\n",
        "   u'tns:direction': u'Westbound',\n",
        "   u'tns:name': u'Newton Rd - St Lukes Rd'}],\n",
        " u'tns:description': u'Bond St looking east',\n",
        " u'tns:id': u'130',\n",
        " u'tns:imageUrl': u'http://www.trafficnz.info/camera/130.jpg',\n",
        " u'tns:mapx': u'142',\n",
        " u'tns:mapy': u'229',\n",
        " u'tns:name': u'SH16 1 Bond St',\n",
        " u'tns:offline': u'false',\n",
        " u'tns:underMaintenance': u'false',\n",
        " u'tns:viewUrl': u'http://www.trafficnz.info/camera/view/130'}"
       ]
      }
     ],
     "prompt_number": 43
    },
    {
     "cell_type": "code",
     "collapsed": false,
     "input": [
      "print bthere[0]"
     ],
     "language": "python",
     "metadata": {},
     "outputs": [
      {
       "output_type": "stream",
       "stream": "stdout",
       "text": [
        "{u'tns:id': u'130', u'tns:imageUrl': u'http://www.trafficnz.info/camera/130.jpg', u'tns:viewUrl': u'http://www.trafficnz.info/camera/view/130', u'tns:description': u'Bond St looking east', u'tns:mapx': u'142', u'tns:offline': u'false', u'tns:underMaintenance': u'false', u'tns:congestionLocation': [{u'tns:name': u'St Lukes Rd - Newton Rd', u'tns:direction': u'Eastbound', u'tns:congestion': u'Free Flow'}, {u'tns:name': u'Newton Rd - St Lukes Rd', u'tns:direction': u'Westbound', u'tns:congestion': u'Free Flow'}], u'tns:mapy': u'229', u'tns:name': u'SH16 1 Bond St'}\n"
       ]
      }
     ],
     "prompt_number": 44
    },
    {
     "cell_type": "code",
     "collapsed": false,
     "input": [
      "neth = len(bthere)"
     ],
     "language": "python",
     "metadata": {},
     "outputs": [],
     "prompt_number": 168
    },
    {
     "cell_type": "code",
     "collapsed": false,
     "input": [
      "print neth"
     ],
     "language": "python",
     "metadata": {},
     "outputs": [
      {
       "output_type": "stream",
       "stream": "stdout",
       "text": [
        "62\n"
       ]
      }
     ],
     "prompt_number": 169
    },
    {
     "cell_type": "code",
     "collapsed": false,
     "input": [
      "import random"
     ],
     "language": "python",
     "metadata": {},
     "outputs": [],
     "prompt_number": 52
    },
    {
     "cell_type": "code",
     "collapsed": false,
     "input": [
      "theimgz = random.randint(0,neth)\n",
      "bth = bthere[theimgz]\n",
      "bthkey = bth.keys()\n",
      "sindat = []"
     ],
     "language": "python",
     "metadata": {},
     "outputs": [
      {
       "ename": "NameError",
       "evalue": "name 'neth' is not defined",
       "output_type": "pyerr",
       "traceback": [
        "\u001b[1;31m---------------------------------------------------------------------------\u001b[0m\n\u001b[1;31mNameError\u001b[0m                                 Traceback (most recent call last)",
        "\u001b[1;32m<ipython-input-53-236e021ef04a>\u001b[0m in \u001b[0;36m<module>\u001b[1;34m()\u001b[0m\n\u001b[1;32m----> 1\u001b[1;33m \u001b[0mtheimgz\u001b[0m \u001b[1;33m=\u001b[0m \u001b[0mrandom\u001b[0m\u001b[1;33m.\u001b[0m\u001b[0mrandint\u001b[0m\u001b[1;33m(\u001b[0m\u001b[1;36m0\u001b[0m\u001b[1;33m,\u001b[0m\u001b[0mneth\u001b[0m\u001b[1;33m)\u001b[0m\u001b[1;33m\u001b[0m\u001b[0m\n\u001b[0m\u001b[0;32m      2\u001b[0m \u001b[0mbth\u001b[0m \u001b[1;33m=\u001b[0m \u001b[0mbthere\u001b[0m\u001b[1;33m[\u001b[0m\u001b[0mtheimgz\u001b[0m\u001b[1;33m]\u001b[0m\u001b[1;33m\u001b[0m\u001b[0m\n\u001b[0;32m      3\u001b[0m \u001b[0mbthkey\u001b[0m \u001b[1;33m=\u001b[0m \u001b[0mbth\u001b[0m\u001b[1;33m.\u001b[0m\u001b[0mkeys\u001b[0m\u001b[1;33m(\u001b[0m\u001b[1;33m)\u001b[0m\u001b[1;33m\u001b[0m\u001b[0m\n\u001b[0;32m      4\u001b[0m \u001b[0msindat\u001b[0m \u001b[1;33m=\u001b[0m \u001b[1;33m[\u001b[0m\u001b[1;33m]\u001b[0m\u001b[1;33m\u001b[0m\u001b[0m\n",
        "\u001b[1;31mNameError\u001b[0m: name 'neth' is not defined"
       ]
      }
     ],
     "prompt_number": 53
    },
    {
     "cell_type": "code",
     "collapsed": false,
     "input": [
      "for kez in bthkey:\n",
      "    #print kez\n",
      "    #print bth[kez]\n",
      "    sindat.append(bth[kez])\n",
      "    "
     ],
     "language": "python",
     "metadata": {},
     "outputs": [
      {
       "ename": "NameError",
       "evalue": "name 'bthkey' is not defined",
       "output_type": "pyerr",
       "traceback": [
        "\u001b[1;31m---------------------------------------------------------------------------\u001b[0m\n\u001b[1;31mNameError\u001b[0m                                 Traceback (most recent call last)",
        "\u001b[1;32m<ipython-input-54-359858a896b6>\u001b[0m in \u001b[0;36m<module>\u001b[1;34m()\u001b[0m\n\u001b[1;32m----> 1\u001b[1;33m \u001b[1;32mfor\u001b[0m \u001b[0mkez\u001b[0m \u001b[1;32min\u001b[0m \u001b[0mbthkey\u001b[0m\u001b[1;33m:\u001b[0m\u001b[1;33m\u001b[0m\u001b[0m\n\u001b[0m\u001b[0;32m      2\u001b[0m     \u001b[1;31m#print kez\u001b[0m\u001b[1;33m\u001b[0m\u001b[1;33m\u001b[0m\u001b[0m\n\u001b[0;32m      3\u001b[0m     \u001b[1;31m#print bth[kez]\u001b[0m\u001b[1;33m\u001b[0m\u001b[1;33m\u001b[0m\u001b[0m\n\u001b[0;32m      4\u001b[0m     \u001b[0msindat\u001b[0m\u001b[1;33m.\u001b[0m\u001b[0mappend\u001b[0m\u001b[1;33m(\u001b[0m\u001b[0mbth\u001b[0m\u001b[1;33m[\u001b[0m\u001b[0mkez\u001b[0m\u001b[1;33m]\u001b[0m\u001b[1;33m)\u001b[0m\u001b[1;33m\u001b[0m\u001b[0m\n\u001b[0;32m      5\u001b[0m \u001b[1;33m\u001b[0m\u001b[0m\n",
        "\u001b[1;31mNameError\u001b[0m: name 'bthkey' is not defined"
       ]
      }
     ],
     "prompt_number": 54
    },
    {
     "cell_type": "code",
     "collapsed": false,
     "input": [
      "jpgcam = sindat[1]\n",
      "numcam = sindat[0]\n",
      "\n",
      "jnacam = numcam + '.jpg'"
     ],
     "language": "python",
     "metadata": {},
     "outputs": [
      {
       "ename": "NameError",
       "evalue": "name 'sindat' is not defined",
       "output_type": "pyerr",
       "traceback": [
        "\u001b[1;31m---------------------------------------------------------------------------\u001b[0m\n\u001b[1;31mNameError\u001b[0m                                 Traceback (most recent call last)",
        "\u001b[1;32m<ipython-input-55-c68e497a4180>\u001b[0m in \u001b[0;36m<module>\u001b[1;34m()\u001b[0m\n\u001b[1;32m----> 1\u001b[1;33m \u001b[0mjpgcam\u001b[0m \u001b[1;33m=\u001b[0m \u001b[0msindat\u001b[0m\u001b[1;33m[\u001b[0m\u001b[1;36m1\u001b[0m\u001b[1;33m]\u001b[0m\u001b[1;33m\u001b[0m\u001b[0m\n\u001b[0m\u001b[0;32m      2\u001b[0m \u001b[0mnumcam\u001b[0m \u001b[1;33m=\u001b[0m \u001b[0msindat\u001b[0m\u001b[1;33m[\u001b[0m\u001b[1;36m0\u001b[0m\u001b[1;33m]\u001b[0m\u001b[1;33m\u001b[0m\u001b[0m\n\u001b[0;32m      3\u001b[0m \u001b[1;33m\u001b[0m\u001b[0m\n\u001b[0;32m      4\u001b[0m \u001b[0mjnacam\u001b[0m \u001b[1;33m=\u001b[0m \u001b[0mnumcam\u001b[0m \u001b[1;33m+\u001b[0m \u001b[1;34m'.jpg'\u001b[0m\u001b[1;33m\u001b[0m\u001b[0m\n",
        "\u001b[1;31mNameError\u001b[0m: name 'sindat' is not defined"
       ]
      }
     ],
     "prompt_number": 55
    },
    {
     "cell_type": "code",
     "collapsed": false,
     "input": [
      "with open(jnacam, 'wb') as handle:\n",
      "    response = requests.get(jpgcam, stream=True)\n",
      "\n",
      "    for block in response.iter_content(1024):\n",
      "        if not block:\n",
      "            break\n",
      "        handle.write(block)\n"
     ],
     "language": "python",
     "metadata": {},
     "outputs": [
      {
       "ename": "NameError",
       "evalue": "name 'jnacam' is not defined",
       "output_type": "pyerr",
       "traceback": [
        "\u001b[1;31m---------------------------------------------------------------------------\u001b[0m\n\u001b[1;31mNameError\u001b[0m                                 Traceback (most recent call last)",
        "\u001b[1;32m<ipython-input-56-9c298bb5dc81>\u001b[0m in \u001b[0;36m<module>\u001b[1;34m()\u001b[0m\n\u001b[1;32m----> 1\u001b[1;33m \u001b[1;32mwith\u001b[0m \u001b[0mopen\u001b[0m\u001b[1;33m(\u001b[0m\u001b[0mjnacam\u001b[0m\u001b[1;33m,\u001b[0m \u001b[1;34m'wb'\u001b[0m\u001b[1;33m)\u001b[0m \u001b[1;32mas\u001b[0m \u001b[0mhandle\u001b[0m\u001b[1;33m:\u001b[0m\u001b[1;33m\u001b[0m\u001b[0m\n\u001b[0m\u001b[0;32m      2\u001b[0m     \u001b[0mresponse\u001b[0m \u001b[1;33m=\u001b[0m \u001b[0mrequests\u001b[0m\u001b[1;33m.\u001b[0m\u001b[0mget\u001b[0m\u001b[1;33m(\u001b[0m\u001b[0mjpgcam\u001b[0m\u001b[1;33m,\u001b[0m \u001b[0mstream\u001b[0m\u001b[1;33m=\u001b[0m\u001b[0mTrue\u001b[0m\u001b[1;33m)\u001b[0m\u001b[1;33m\u001b[0m\u001b[0m\n\u001b[0;32m      3\u001b[0m \u001b[1;33m\u001b[0m\u001b[0m\n\u001b[0;32m      4\u001b[0m     \u001b[1;32mfor\u001b[0m \u001b[0mblock\u001b[0m \u001b[1;32min\u001b[0m \u001b[0mresponse\u001b[0m\u001b[1;33m.\u001b[0m\u001b[0miter_content\u001b[0m\u001b[1;33m(\u001b[0m\u001b[1;36m1024\u001b[0m\u001b[1;33m)\u001b[0m\u001b[1;33m:\u001b[0m\u001b[1;33m\u001b[0m\u001b[0m\n\u001b[0;32m      5\u001b[0m         \u001b[1;32mif\u001b[0m \u001b[1;32mnot\u001b[0m \u001b[0mblock\u001b[0m\u001b[1;33m:\u001b[0m\u001b[1;33m\u001b[0m\u001b[0m\n",
        "\u001b[1;31mNameError\u001b[0m: name 'jnacam' is not defined"
       ]
      }
     ],
     "prompt_number": 56
    },
    {
     "cell_type": "code",
     "collapsed": false,
     "input": [
      "from IPython.display import Image \n",
      "    \n",
      "Image(filename=jnacam)"
     ],
     "language": "python",
     "metadata": {},
     "outputs": [
      {
       "ename": "NameError",
       "evalue": "name 'jnacam' is not defined",
       "output_type": "pyerr",
       "traceback": [
        "\u001b[1;31m---------------------------------------------------------------------------\u001b[0m\n\u001b[1;31mNameError\u001b[0m                                 Traceback (most recent call last)",
        "\u001b[1;32m<ipython-input-57-a3811f1e6aae>\u001b[0m in \u001b[0;36m<module>\u001b[1;34m()\u001b[0m\n\u001b[0;32m      1\u001b[0m \u001b[1;32mfrom\u001b[0m \u001b[0mIPython\u001b[0m\u001b[1;33m.\u001b[0m\u001b[0mdisplay\u001b[0m \u001b[1;32mimport\u001b[0m \u001b[0mImage\u001b[0m\u001b[1;33m\u001b[0m\u001b[0m\n\u001b[0;32m      2\u001b[0m \u001b[1;33m\u001b[0m\u001b[0m\n\u001b[1;32m----> 3\u001b[1;33m \u001b[0mImage\u001b[0m\u001b[1;33m(\u001b[0m\u001b[0mfilename\u001b[0m\u001b[1;33m=\u001b[0m\u001b[0mjnacam\u001b[0m\u001b[1;33m)\u001b[0m\u001b[1;33m\u001b[0m\u001b[0m\n\u001b[0m",
        "\u001b[1;31mNameError\u001b[0m: name 'jnacam' is not defined"
       ]
      }
     ],
     "prompt_number": 57
    },
    {
     "cell_type": "code",
     "collapsed": false,
     "input": [
      "ls"
     ],
     "language": "python",
     "metadata": {},
     "outputs": [
      {
       "output_type": "stream",
       "stream": "stdout",
       "text": [
        "\u001b[0m\u001b[38;5;13m120.jpg\u001b[0m                                example.xls          README.md\r\n",
        "\u001b[38;5;13m121.jpg\u001b[0m                                home.html            redTube.ipynb\r\n",
        "\u001b[38;5;13m177.jpg\u001b[0m                                ipython_log.py       redTube.py\r\n",
        "\u001b[38;5;13m178.jpg\u001b[0m                                ipython_log.py.001~  redTube.pyc\r\n",
        "\u001b[38;5;13m211.jpg\u001b[0m                                ipython_log.py.002~  result\r\n",
        "\u001b[38;5;13m222.jpg\u001b[0m                                LICENSE              salecus.ipynb\r\n",
        "\u001b[38;5;13m223.jpg\u001b[0m                                linkz                salecus.py\r\n",
        "aklmcam.ipynb                          myfile.txt           salecus.pyc\r\n",
        "aklmcam.py                             notesforpymeetup.py  savPrn\r\n",
        "\u001b[38;5;27martcontrol-api\u001b[0m/                        prnsav               testing123\r\n",
        "artcontrol.ipynb                       pyblen.py            tlchome.html\r\n",
        "artcontrolme.wordpress.2014-02-10.xml  pynztacam.ipynb      tlc.ipynb\r\n",
        "artcontrol.py                          pynztacam.py         tlc.py\r\n",
        "\u001b[38;5;27mBeOk\u001b[0m/                                  pyssh.ipynb          tpb.ipynb\r\n",
        "config                                 pyssh.py             uploads.html\r\n",
        "dhcpd.leases                           pywgit.ipynb         \u001b[38;5;27mwirepil\u001b[0m/\r\n",
        "dh.ipynb                               pywgit.py\r\n",
        "dh.py                                  pywgitz.py\r\n"
       ]
      }
     ],
     "prompt_number": 58
    },
    {
     "cell_type": "code",
     "collapsed": false,
     "input": [
      "for tram in sindat:\n",
      "    print tram"
     ],
     "language": "python",
     "metadata": {},
     "outputs": [
      {
       "ename": "NameError",
       "evalue": "name 'sindat' is not defined",
       "output_type": "pyerr",
       "traceback": [
        "\u001b[1;31m---------------------------------------------------------------------------\u001b[0m\n\u001b[1;31mNameError\u001b[0m                                 Traceback (most recent call last)",
        "\u001b[1;32m<ipython-input-59-065f8f82edef>\u001b[0m in \u001b[0;36m<module>\u001b[1;34m()\u001b[0m\n\u001b[1;32m----> 1\u001b[1;33m \u001b[1;32mfor\u001b[0m \u001b[0mtram\u001b[0m \u001b[1;32min\u001b[0m \u001b[0msindat\u001b[0m\u001b[1;33m:\u001b[0m\u001b[1;33m\u001b[0m\u001b[0m\n\u001b[0m\u001b[0;32m      2\u001b[0m     \u001b[1;32mprint\u001b[0m \u001b[0mtram\u001b[0m\u001b[1;33m\u001b[0m\u001b[0m\n",
        "\u001b[1;31mNameError\u001b[0m: name 'sindat' is not defined"
       ]
      }
     ],
     "prompt_number": 59
    },
    {
     "cell_type": "code",
     "collapsed": false,
     "input": [
      "from IPython.display import Image"
     ],
     "language": "python",
     "metadata": {},
     "outputs": [],
     "prompt_number": 60
    },
    {
     "cell_type": "code",
     "collapsed": false,
     "input": [
      "myfil = requests.get(sindat[1])"
     ],
     "language": "python",
     "metadata": {},
     "outputs": [
      {
       "ename": "NameError",
       "evalue": "name 'sindat' is not defined",
       "output_type": "pyerr",
       "traceback": [
        "\u001b[1;31m---------------------------------------------------------------------------\u001b[0m\n\u001b[1;31mNameError\u001b[0m                                 Traceback (most recent call last)",
        "\u001b[1;32m<ipython-input-61-31d38a4b1c64>\u001b[0m in \u001b[0;36m<module>\u001b[1;34m()\u001b[0m\n\u001b[1;32m----> 1\u001b[1;33m \u001b[0mmyfil\u001b[0m \u001b[1;33m=\u001b[0m \u001b[0mrequests\u001b[0m\u001b[1;33m.\u001b[0m\u001b[0mget\u001b[0m\u001b[1;33m(\u001b[0m\u001b[0msindat\u001b[0m\u001b[1;33m[\u001b[0m\u001b[1;36m1\u001b[0m\u001b[1;33m]\u001b[0m\u001b[1;33m)\u001b[0m\u001b[1;33m\u001b[0m\u001b[0m\n\u001b[0m",
        "\u001b[1;31mNameError\u001b[0m: name 'sindat' is not defined"
       ]
      }
     ],
     "prompt_number": 61
    },
    {
     "cell_type": "code",
     "collapsed": false,
     "input": [
      "Image(myfil)"
     ],
     "language": "python",
     "metadata": {},
     "outputs": [
      {
       "ename": "NameError",
       "evalue": "name 'myfil' is not defined",
       "output_type": "pyerr",
       "traceback": [
        "\u001b[1;31m---------------------------------------------------------------------------\u001b[0m\n\u001b[1;31mNameError\u001b[0m                                 Traceback (most recent call last)",
        "\u001b[1;32m<ipython-input-62-471da72289ae>\u001b[0m in \u001b[0;36m<module>\u001b[1;34m()\u001b[0m\n\u001b[1;32m----> 1\u001b[1;33m \u001b[0mImage\u001b[0m\u001b[1;33m(\u001b[0m\u001b[0mmyfil\u001b[0m\u001b[1;33m)\u001b[0m\u001b[1;33m\u001b[0m\u001b[0m\n\u001b[0m",
        "\u001b[1;31mNameError\u001b[0m: name 'myfil' is not defined"
       ]
      }
     ],
     "prompt_number": 62
    },
    {
     "cell_type": "code",
     "collapsed": false,
     "input": [
      "i = Image(filename=sindat[1])"
     ],
     "language": "python",
     "metadata": {},
     "outputs": [
      {
       "ename": "NameError",
       "evalue": "name 'sindat' is not defined",
       "output_type": "pyerr",
       "traceback": [
        "\u001b[1;31m---------------------------------------------------------------------------\u001b[0m\n\u001b[1;31mNameError\u001b[0m                                 Traceback (most recent call last)",
        "\u001b[1;32m<ipython-input-63-c52fc22dc494>\u001b[0m in \u001b[0;36m<module>\u001b[1;34m()\u001b[0m\n\u001b[1;32m----> 1\u001b[1;33m \u001b[0mi\u001b[0m \u001b[1;33m=\u001b[0m \u001b[0mImage\u001b[0m\u001b[1;33m(\u001b[0m\u001b[0mfilename\u001b[0m\u001b[1;33m=\u001b[0m\u001b[0msindat\u001b[0m\u001b[1;33m[\u001b[0m\u001b[1;36m1\u001b[0m\u001b[1;33m]\u001b[0m\u001b[1;33m)\u001b[0m\u001b[1;33m\u001b[0m\u001b[0m\n\u001b[0m",
        "\u001b[1;31mNameError\u001b[0m: name 'sindat' is not defined"
       ]
      }
     ],
     "prompt_number": 63
    },
    {
     "cell_type": "code",
     "collapsed": false,
     "input": [
      "sindat"
     ],
     "language": "python",
     "metadata": {},
     "outputs": [
      {
       "ename": "NameError",
       "evalue": "name 'sindat' is not defined",
       "output_type": "pyerr",
       "traceback": [
        "\u001b[1;31m---------------------------------------------------------------------------\u001b[0m\n\u001b[1;31mNameError\u001b[0m                                 Traceback (most recent call last)",
        "\u001b[1;32m<ipython-input-64-367e5299688a>\u001b[0m in \u001b[0;36m<module>\u001b[1;34m()\u001b[0m\n\u001b[1;32m----> 1\u001b[1;33m \u001b[0msindat\u001b[0m\u001b[1;33m\u001b[0m\u001b[0m\n\u001b[0m",
        "\u001b[1;31mNameError\u001b[0m: name 'sindat' is not defined"
       ]
      }
     ],
     "prompt_number": 64
    },
    {
     "cell_type": "code",
     "collapsed": false,
     "input": [
      "theaddrey = sindat[3]"
     ],
     "language": "python",
     "metadata": {},
     "outputs": [
      {
       "ename": "NameError",
       "evalue": "name 'sindat' is not defined",
       "output_type": "pyerr",
       "traceback": [
        "\u001b[1;31m---------------------------------------------------------------------------\u001b[0m\n\u001b[1;31mNameError\u001b[0m                                 Traceback (most recent call last)",
        "\u001b[1;32m<ipython-input-65-a2cf69a00758>\u001b[0m in \u001b[0;36m<module>\u001b[1;34m()\u001b[0m\n\u001b[1;32m----> 1\u001b[1;33m \u001b[0mtheaddrey\u001b[0m \u001b[1;33m=\u001b[0m \u001b[0msindat\u001b[0m\u001b[1;33m[\u001b[0m\u001b[1;36m3\u001b[0m\u001b[1;33m]\u001b[0m\u001b[1;33m\u001b[0m\u001b[0m\n\u001b[0m",
        "\u001b[1;31mNameError\u001b[0m: name 'sindat' is not defined"
       ]
      }
     ],
     "prompt_number": 65
    },
    {
     "cell_type": "code",
     "collapsed": false,
     "input": [
      "theend = sindat[8]"
     ],
     "language": "python",
     "metadata": {},
     "outputs": [
      {
       "ename": "NameError",
       "evalue": "name 'sindat' is not defined",
       "output_type": "pyerr",
       "traceback": [
        "\u001b[1;31m---------------------------------------------------------------------------\u001b[0m\n\u001b[1;31mNameError\u001b[0m                                 Traceback (most recent call last)",
        "\u001b[1;32m<ipython-input-66-75fd24668456>\u001b[0m in \u001b[0;36m<module>\u001b[1;34m()\u001b[0m\n\u001b[1;32m----> 1\u001b[1;33m \u001b[0mtheend\u001b[0m \u001b[1;33m=\u001b[0m \u001b[0msindat\u001b[0m\u001b[1;33m[\u001b[0m\u001b[1;36m8\u001b[0m\u001b[1;33m]\u001b[0m\u001b[1;33m\u001b[0m\u001b[0m\n\u001b[0m",
        "\u001b[1;31mNameError\u001b[0m: name 'sindat' is not defined"
       ]
      }
     ],
     "prompt_number": 66
    },
    {
     "cell_type": "code",
     "collapsed": false,
     "input": [
      "fulladd = theaddrey + ' ' + theend"
     ],
     "language": "python",
     "metadata": {},
     "outputs": [
      {
       "ename": "NameError",
       "evalue": "name 'theaddrey' is not defined",
       "output_type": "pyerr",
       "traceback": [
        "\u001b[1;31m---------------------------------------------------------------------------\u001b[0m\n\u001b[1;31mNameError\u001b[0m                                 Traceback (most recent call last)",
        "\u001b[1;32m<ipython-input-67-72d2ebcf2910>\u001b[0m in \u001b[0;36m<module>\u001b[1;34m()\u001b[0m\n\u001b[1;32m----> 1\u001b[1;33m \u001b[0mfulladd\u001b[0m \u001b[1;33m=\u001b[0m \u001b[0mtheaddrey\u001b[0m \u001b[1;33m+\u001b[0m \u001b[1;34m' '\u001b[0m \u001b[1;33m+\u001b[0m \u001b[0mtheend\u001b[0m\u001b[1;33m\u001b[0m\u001b[0m\n\u001b[0m",
        "\u001b[1;31mNameError\u001b[0m: name 'theaddrey' is not defined"
       ]
      }
     ],
     "prompt_number": 67
    },
    {
     "cell_type": "code",
     "collapsed": false,
     "input": [
      "fulladd"
     ],
     "language": "python",
     "metadata": {},
     "outputs": []
    },
    {
     "cell_type": "code",
     "collapsed": false,
     "input": [
      "bth[u'tns:id']"
     ],
     "language": "python",
     "metadata": {},
     "outputs": [
      {
       "ename": "NameError",
       "evalue": "name 'bth' is not defined",
       "output_type": "pyerr",
       "traceback": [
        "\u001b[1;31m---------------------------------------------------------------------------\u001b[0m\n\u001b[1;31mNameError\u001b[0m                                 Traceback (most recent call last)",
        "\u001b[1;32m<ipython-input-68-3d6abf99f350>\u001b[0m in \u001b[0;36m<module>\u001b[1;34m()\u001b[0m\n\u001b[1;32m----> 1\u001b[1;33m \u001b[0mbth\u001b[0m\u001b[1;33m[\u001b[0m\u001b[1;34mu'tns:id'\u001b[0m\u001b[1;33m]\u001b[0m\u001b[1;33m\u001b[0m\u001b[0m\n\u001b[0m",
        "\u001b[1;31mNameError\u001b[0m: name 'bth' is not defined"
       ]
      }
     ],
     "prompt_number": 68
    },
    {
     "cell_type": "code",
     "collapsed": false,
     "input": [
      "print len(bthere)"
     ],
     "language": "python",
     "metadata": {},
     "outputs": [
      {
       "output_type": "stream",
       "stream": "stdout",
       "text": [
        "62\n"
       ]
      }
     ],
     "prompt_number": 267
    },
    {
     "cell_type": "code",
     "collapsed": false,
     "input": [],
     "language": "python",
     "metadata": {},
     "outputs": [],
     "prompt_number": 66
    },
    {
     "cell_type": "code",
     "collapsed": false,
     "input": [
      "nthere = blthere[1]"
     ],
     "language": "python",
     "metadata": {},
     "outputs": [
      {
       "ename": "NameError",
       "evalue": "name 'blthere' is not defined",
       "output_type": "pyerr",
       "traceback": [
        "\u001b[1;31m---------------------------------------------------------------------------\u001b[0m\n\u001b[1;31mNameError\u001b[0m                                 Traceback (most recent call last)",
        "\u001b[1;32m<ipython-input-268-ec04fb5738a2>\u001b[0m in \u001b[0;36m<module>\u001b[1;34m()\u001b[0m\n\u001b[1;32m----> 1\u001b[1;33m \u001b[0mnthere\u001b[0m \u001b[1;33m=\u001b[0m \u001b[0mblthere\u001b[0m\u001b[1;33m[\u001b[0m\u001b[1;36m1\u001b[0m\u001b[1;33m]\u001b[0m\u001b[1;33m\u001b[0m\u001b[0m\n\u001b[0m",
        "\u001b[1;31mNameError\u001b[0m: name 'blthere' is not defined"
       ]
      }
     ],
     "prompt_number": 268
    },
    {
     "cell_type": "code",
     "collapsed": false,
     "input": [
      "print blthere"
     ],
     "language": "python",
     "metadata": {},
     "outputs": [
      {
       "ename": "NameError",
       "evalue": "name 'blthere' is not defined",
       "output_type": "pyerr",
       "traceback": [
        "\u001b[1;31m---------------------------------------------------------------------------\u001b[0m\n\u001b[1;31mNameError\u001b[0m                                 Traceback (most recent call last)",
        "\u001b[1;32m<ipython-input-269-e0e21ce23b5e>\u001b[0m in \u001b[0;36m<module>\u001b[1;34m()\u001b[0m\n\u001b[1;32m----> 1\u001b[1;33m \u001b[1;32mprint\u001b[0m \u001b[0mblthere\u001b[0m\u001b[1;33m\u001b[0m\u001b[0m\n\u001b[0m",
        "\u001b[1;31mNameError\u001b[0m: name 'blthere' is not defined"
       ]
      }
     ],
     "prompt_number": 269
    },
    {
     "cell_type": "code",
     "collapsed": false,
     "input": [
      "blthere.keys()"
     ],
     "language": "python",
     "metadata": {},
     "outputs": [
      {
       "ename": "NameError",
       "evalue": "name 'blthere' is not defined",
       "output_type": "pyerr",
       "traceback": [
        "\u001b[1;31m---------------------------------------------------------------------------\u001b[0m\n\u001b[1;31mNameError\u001b[0m                                 Traceback (most recent call last)",
        "\u001b[1;32m<ipython-input-270-6ec7a8cee768>\u001b[0m in \u001b[0;36m<module>\u001b[1;34m()\u001b[0m\n\u001b[1;32m----> 1\u001b[1;33m \u001b[0mblthere\u001b[0m\u001b[1;33m.\u001b[0m\u001b[0mkeys\u001b[0m\u001b[1;33m(\u001b[0m\u001b[1;33m)\u001b[0m\u001b[1;33m\u001b[0m\u001b[0m\n\u001b[0m",
        "\u001b[1;31mNameError\u001b[0m: name 'blthere' is not defined"
       ]
      }
     ],
     "prompt_number": 270
    },
    {
     "cell_type": "code",
     "collapsed": false,
     "input": [
      "for nth in nthere:\n",
      "    print nthere[nth]"
     ],
     "language": "python",
     "metadata": {},
     "outputs": [
      {
       "ename": "NameError",
       "evalue": "name 'nthere' is not defined",
       "output_type": "pyerr",
       "traceback": [
        "\u001b[1;31m---------------------------------------------------------------------------\u001b[0m\n\u001b[1;31mNameError\u001b[0m                                 Traceback (most recent call last)",
        "\u001b[1;32m<ipython-input-271-f999b0beaad9>\u001b[0m in \u001b[0;36m<module>\u001b[1;34m()\u001b[0m\n\u001b[1;32m----> 1\u001b[1;33m \u001b[1;32mfor\u001b[0m \u001b[0mnth\u001b[0m \u001b[1;32min\u001b[0m \u001b[0mnthere\u001b[0m\u001b[1;33m:\u001b[0m\u001b[1;33m\u001b[0m\u001b[0m\n\u001b[0m\u001b[0;32m      2\u001b[0m     \u001b[1;32mprint\u001b[0m \u001b[0mnthere\u001b[0m\u001b[1;33m[\u001b[0m\u001b[0mnth\u001b[0m\u001b[1;33m]\u001b[0m\u001b[1;33m\u001b[0m\u001b[0m\n",
        "\u001b[1;31mNameError\u001b[0m: name 'nthere' is not defined"
       ]
      }
     ],
     "prompt_number": 271
    },
    {
     "cell_type": "code",
     "collapsed": false,
     "input": [
      "nthere[u'tns:id']"
     ],
     "language": "python",
     "metadata": {},
     "outputs": [
      {
       "ename": "NameError",
       "evalue": "name 'nthere' is not defined",
       "output_type": "pyerr",
       "traceback": [
        "\u001b[1;31m---------------------------------------------------------------------------\u001b[0m\n\u001b[1;31mNameError\u001b[0m                                 Traceback (most recent call last)",
        "\u001b[1;32m<ipython-input-272-e6bf4e6582c0>\u001b[0m in \u001b[0;36m<module>\u001b[1;34m()\u001b[0m\n\u001b[1;32m----> 1\u001b[1;33m \u001b[0mnthere\u001b[0m\u001b[1;33m[\u001b[0m\u001b[1;34mu'tns:id'\u001b[0m\u001b[1;33m]\u001b[0m\u001b[1;33m\u001b[0m\u001b[0m\n\u001b[0m",
        "\u001b[1;31mNameError\u001b[0m: name 'nthere' is not defined"
       ]
      }
     ],
     "prompt_number": 272
    },
    {
     "cell_type": "code",
     "collapsed": false,
     "input": [
      "althere = campos[u'tns:camera']"
     ],
     "language": "python",
     "metadata": {},
     "outputs": [],
     "prompt_number": 273
    },
    {
     "cell_type": "code",
     "collapsed": false,
     "input": [
      "print althere()"
     ],
     "language": "python",
     "metadata": {},
     "outputs": [
      {
       "ename": "TypeError",
       "evalue": "'list' object is not callable",
       "output_type": "pyerr",
       "traceback": [
        "\u001b[1;31m---------------------------------------------------------------------------\u001b[0m\n\u001b[1;31mTypeError\u001b[0m                                 Traceback (most recent call last)",
        "\u001b[1;32m<ipython-input-274-072333a2010f>\u001b[0m in \u001b[0;36m<module>\u001b[1;34m()\u001b[0m\n\u001b[1;32m----> 1\u001b[1;33m \u001b[1;32mprint\u001b[0m \u001b[0malthere\u001b[0m\u001b[1;33m(\u001b[0m\u001b[1;33m)\u001b[0m\u001b[1;33m\u001b[0m\u001b[0m\n\u001b[0m",
        "\u001b[1;31mTypeError\u001b[0m: 'list' object is not callable"
       ]
      }
     ],
     "prompt_number": 274
    },
    {
     "cell_type": "code",
     "collapsed": false,
     "input": [
      "campos = newDictionary[u'tns:getCamerasResponse']"
     ],
     "language": "python",
     "metadata": {},
     "outputs": [],
     "prompt_number": 275
    },
    {
     "cell_type": "code",
     "collapsed": false,
     "input": [
      "campos.items"
     ],
     "language": "python",
     "metadata": {},
     "outputs": [
      {
       "output_type": "pyout",
       "prompt_number": 276,
       "text": [
        "<function items>"
       ]
      }
     ],
     "prompt_number": 276
    },
    {
     "cell_type": "code",
     "collapsed": false,
     "input": [
      "print 'hello world'"
     ],
     "language": "python",
     "metadata": {},
     "outputs": [
      {
       "output_type": "stream",
       "stream": "stdout",
       "text": [
        "hello world\n"
       ]
      }
     ],
     "prompt_number": 277
    },
    {
     "cell_type": "code",
     "collapsed": false,
     "input": [
      "for key, items in newDictionary.iteritems():\n",
      "    print key, items\n",
      "    newdicli.append(items)"
     ],
     "language": "python",
     "metadata": {},
     "outputs": [
      {
       "output_type": "stream",
       "stream": "stdout",
       "text": [
        "tns:getCamerasResponse {u'@xmlns:xsi': u'http://www.w3.org/2001/XMLSchema-instance', u'@xmlns:xsd': u'http://www.w3.org/2001/XMLSchema', u'tns:camera': [{u'tns:id': u'130', u'tns:imageUrl': u'http://www.trafficnz.info/camera/130.jpg', u'tns:viewUrl': u'http://www.trafficnz.info/camera/view/130', u'tns:description': u'Bond St looking east', u'tns:mapx': u'142', u'tns:offline': u'false', u'tns:underMaintenance': u'false', u'tns:congestionLocation': [{u'tns:name': u'St Lukes Rd - Newton Rd', u'tns:direction': u'Eastbound', u'tns:congestion': u'Free Flow'}, {u'tns:name': u'Newton Rd - St Lukes Rd', u'tns:direction': u'Westbound', u'tns:congestion': u'Free Flow'}], u'tns:mapy': u'229', u'tns:name': u'SH16 1 Bond St'}, {u'tns:id': u'140', u'tns:imageUrl': u'http://www.trafficnz.info/camera/140.jpg', u'tns:viewUrl': u'http://www.trafficnz.info/camera/view/140', u'tns:description': u'Gt North Road looking west', u'tns:mapx': u'113', u'tns:offline': u'false', u'tns:underMaintenance': u'false', u'tns:congestionLocation': [{u'tns:name': u'Rosebank Rd - Great Nth Rd Waterview', u'tns:direction': u'Eastbound', u'tns:congestion': u'Free Flow'}, {u'tns:name': u'Great Nth Rd Waterview - Rosebank Rd', u'tns:direction': u'Westbound', u'tns:congestion': u'Free Flow'}], u'tns:mapy': u'232', u'tns:name': u'SH16 2 Gt North Rd'}, {u'tns:id': u'150', u'tns:imageUrl': u'http://www.trafficnz.info/camera/150.jpg', u'tns:viewUrl': u'http://www.trafficnz.info/camera/view/150', u'tns:description': u'Te Atatu Road looking east', u'tns:mapx': u'70', u'tns:offline': u'false', u'tns:underMaintenance': u'false', u'tns:congestionLocation': [{u'tns:name': u'Te Atatu Rd - Rosebank Rd', u'tns:direction': u'Eastbound', u'tns:congestion': u'Free Flow'}, {u'tns:name': u'Rosebank Rd - Te Atatu Rd', u'tns:direction': u'Westbound', u'tns:congestion': u'Free Flow'}], u'tns:mapy': u'216', u'tns:name': u'SH16 3 Te Atatu Rd'}, {u'tns:id': u'160', u'tns:imageUrl': u'http://www.trafficnz.info/camera/160.jpg', u'tns:viewUrl': u'http://www.trafficnz.info/camera/view/160', u'tns:description': u'Lincoln Rd  looking west', u'tns:mapx': u'52', u'tns:offline': u'false', u'tns:underMaintenance': u'false', u'tns:congestionLocation': [{u'tns:name': u'Te Atatu Rd - Lincoln Rd', u'tns:direction': u'Westbound', u'tns:congestion': u'Free Flow'}, {u'tns:name': u'Lincoln Rd - Te Atatu Rd', u'tns:direction': u'Eastbound', u'tns:congestion': u'Free Flow'}], u'tns:mapy': u'207', u'tns:name': u'SH16 4 Lincoln Rd E'}, {u'tns:id': u'170', u'tns:imageUrl': u'http://www.trafficnz.info/camera/170.jpg', u'tns:viewUrl': u'http://www.trafficnz.info/camera/view/170', u'tns:description': u'Lincoln Rd looking east', u'tns:mapx': u'35', u'tns:offline': u'false', u'tns:underMaintenance': u'false', u'tns:congestionLocation': [{u'tns:name': u'Lincoln Rd - Royal Rd', u'tns:direction': u'Westbound', u'tns:congestion': u'Free Flow'}, {u'tns:name': u'Royal Rd - Lincoln Rd', u'tns:direction': u'Eastbound', u'tns:congestion': u'Free Flow'}], u'tns:mapy': u'207', u'tns:name': u'SH16 5 Lincoln Rd W'}, {u'tns:id': u'270', u'tns:imageUrl': u'http://www.trafficnz.info/camera/270.jpg', u'tns:viewUrl': u'http://www.trafficnz.info/camera/view/270', u'tns:description': u'Hobsonville looking West towards Kumeu', u'tns:mapx': u'0', u'tns:offline': u'false', u'tns:underMaintenance': u'false', u'tns:mapy': u'0', u'tns:name': u'SH16 6 Hobsonville W'}, {u'tns:id': u'271', u'tns:imageUrl': u'http://www.trafficnz.info/camera/271.jpg', u'tns:viewUrl': u'http://www.trafficnz.info/camera/view/271', u'tns:description': u'Hobsonville Road looking East', u'tns:mapx': u'0', u'tns:offline': u'false', u'tns:underMaintenance': u'false', u'tns:mapy': u'0', u'tns:name': u'SH16 7 Hobsonville E'}, {u'tns:id': u'221', u'tns:imageUrl': u'http://www.trafficnz.info/camera/221.jpg', u'tns:viewUrl': u'http://www.trafficnz.info/camera/view/221', u'tns:description': u'Trig Rd looking west', u'tns:mapx': u'0', u'tns:offline': u'false', u'tns:underMaintenance': u'false', u'tns:mapy': u'0', u'tns:name': u'SH18 Trig Rd'}, {u'tns:id': u'222', u'tns:imageUrl': u'http://www.trafficnz.info/camera/222.jpg', u'tns:viewUrl': u'http://www.trafficnz.info/camera/view/222', u'tns:description': u'Upper harbour motorway looking west', u'tns:mapx': u'0', u'tns:offline': u'false', u'tns:underMaintenance': u'false', u'tns:mapy': u'0', u'tns:name': u'SH18 Waiahora Creek'}, {u'tns:id': u'223', u'tns:imageUrl': u'http://www.trafficnz.info/camera/223.jpg', u'tns:viewUrl': u'http://www.trafficnz.info/camera/view/223', u'tns:description': u'Upper harbour motorway looking East', u'tns:mapx': u'0', u'tns:offline': u'false', u'tns:underMaintenance': u'false', u'tns:mapy': u'0', u'tns:name': u'SH18 Brigham Creek'}, {u'tns:id': u'224', u'tns:imageUrl': u'http://www.trafficnz.info/camera/224.jpg', u'tns:viewUrl': u'http://www.trafficnz.info/camera/view/224', u'tns:description': u'Upper harbour motorway looking west', u'tns:mapx': u'0', u'tns:offline': u'false', u'tns:underMaintenance': u'false', u'tns:mapy': u'0', u'tns:name': u'SH18 Sinton Rd'}, {u'tns:id': u'225', u'tns:imageUrl': u'http://www.trafficnz.info/camera/225.jpg', u'tns:viewUrl': u'http://www.trafficnz.info/camera/view/225', u'tns:description': u'Upper harbour motorway looking east', u'tns:mapx': u'0', u'tns:offline': u'false', u'tns:underMaintenance': u'false', u'tns:mapy': u'0', u'tns:name': u'SH18 Squadron Dr'}, {u'tns:id': u'171', u'tns:imageUrl': u'http://www.trafficnz.info/camera/171.jpg', u'tns:viewUrl': u'http://www.trafficnz.info/camera/view/171', u'tns:description': u'Tauhinu bridge looking east', u'tns:mapx': u'60', u'tns:offline': u'false', u'tns:underMaintenance': u'false', u'tns:mapy': u'207', u'tns:name': u'SH18 6 Tauhinu BRG'}, {u'tns:id': u'172', u'tns:imageUrl': u'http://www.trafficnz.info/camera/172.jpg', u'tns:viewUrl': u'http://www.trafficnz.info/camera/view/172', u'tns:description': u'Albany Highway Looking East', u'tns:mapx': u'35', u'tns:offline': u'false', u'tns:underMaintenance': u'false', u'tns:mapy': u'207', u'tns:name': u'SH18 7 Albany HWY'}, {u'tns:id': u'173', u'tns:imageUrl': u'http://www.trafficnz.info/camera/173.jpg', u'tns:viewUrl': u'http://www.trafficnz.info/camera/view/173', u'tns:description': u'Tauhinu East Looking East', u'tns:mapx': u'35', u'tns:offline': u'false', u'tns:underMaintenance': u'false', u'tns:mapy': u'207', u'tns:name': u'SH18 8 Tauhinu East'}, {u'tns:id': u'174', u'tns:imageUrl': u'http://www.trafficnz.info/camera/174.jpg', u'tns:viewUrl': u'http://www.trafficnz.info/camera/view/174', u'tns:description': u'Paul matthews looking east', u'tns:mapx': u'35', u'tns:offline': u'false', u'tns:underMaintenance': u'false', u'tns:mapy': u'207', u'tns:name': u'SH18 9 Paul Matthews'}, {u'tns:id': u'175', u'tns:imageUrl': u'http://www.trafficnz.info/camera/175.jpg', u'tns:viewUrl': u'http://www.trafficnz.info/camera/view/175', u'tns:description': u'Greenhithe Rd looking east', u'tns:mapx': u'35', u'tns:offline': u'false', u'tns:underMaintenance': u'false', u'tns:mapy': u'207', u'tns:name': u'SH18 10 Greenhithe'}, {u'tns:id': u'176', u'tns:imageUrl': u'http://www.trafficnz.info/camera/176.jpg', u'tns:viewUrl': u'http://www.trafficnz.info/camera/view/176', u'tns:description': u'George deane looking east', u'tns:mapx': u'35', u'tns:offline': u'false', u'tns:underMaintenance': u'false', u'tns:mapy': u'207', u'tns:name': u'SH18 11 George Deane'}, {u'tns:id': u'177', u'tns:imageUrl': u'http://www.trafficnz.info/camera/177.jpg', u'tns:viewUrl': u'http://www.trafficnz.info/camera/view/177', u'tns:description': u'Upper harbour looking east', u'tns:mapx': u'35', u'tns:offline': u'false', u'tns:underMaintenance': u'false', u'tns:mapy': u'207', u'tns:name': u'SH18 12 Upper Hbr CW'}, {u'tns:id': u'178', u'tns:imageUrl': u'http://www.trafficnz.info/camera/178.jpg', u'tns:viewUrl': u'http://www.trafficnz.info/camera/view/178', u'tns:description': u'Wicklam Lane looking west', u'tns:mapx': u'35', u'tns:offline': u'false', u'tns:underMaintenance': u'false', u'tns:mapy': u'207', u'tns:name': u'SH18 13 Wicklam Lane'}, {u'tns:id': u'10', u'tns:imageUrl': u'http://www.trafficnz.info/camera/10.jpg', u'tns:viewUrl': u'http://www.trafficnz.info/camera/view/10', u'tns:description': u'Greville road looking south', u'tns:mapx': u'125', u'tns:offline': u'false', u'tns:underMaintenance': u'false', u'tns:congestionLocation': [{u'tns:name': u'Upper Harb Hwy - Oteha Valley Rd', u'tns:direction': u'Northbound', u'tns:congestion': u'Free Flow'}, {u'tns:name': u'Oteha Valley Rd - Upper Harb Hwy', u'tns:direction': u'Southbound', u'tns:congestion': u'Free Flow'}], u'tns:mapy': u'71', u'tns:name': u'SH1 1 Greville Rd'}, {u'tns:id': u'20', u'tns:imageUrl': u'http://www.trafficnz.info/camera/20.jpg', u'tns:viewUrl': u'http://www.trafficnz.info/camera/view/20', u'tns:description': u'Tristram Avenue looking south', u'tns:mapx': u'148', u'tns:offline': u'false', u'tns:underMaintenance': u'false', u'tns:congestionLocation': [{u'tns:name': u'Tristram Ave - Esmonde Rd', u'tns:direction': u'Southbound', u'tns:congestion': u'Free Flow'}, {u'tns:name': u'Esmonde Rd - Tristram Ave', u'tns:direction': u'Northbound', u'tns:congestion': u'Free Flow'}], u'tns:mapy': u'118', u'tns:name': u'SH1 2 Tristram Ave'}, {u'tns:id': u'30', u'tns:imageUrl': u'http://www.trafficnz.info/camera/30.jpg', u'tns:viewUrl': u'http://www.trafficnz.info/camera/view/30', u'tns:description': u'Northcote Rd looking north', u'tns:mapx': u'156', u'tns:offline': u'false', u'tns:underMaintenance': u'false', u'tns:congestionLocation': [{u'tns:name': u'Tristram Ave - Esmonde Rd', u'tns:direction': u'Southbound', u'tns:congestion': u'Free Flow'}, {u'tns:name': u'Esmonde Rd - Tristram Ave', u'tns:direction': u'Northbound', u'tns:congestion': u'Free Flow'}], u'tns:mapy': u'141', u'tns:name': u'SH1 3 Northcote Rd'}, {u'tns:id': u'40', u'tns:imageUrl': u'http://www.trafficnz.info/camera/40.jpg', u'tns:viewUrl': u'http://www.trafficnz.info/camera/view/40', u'tns:description': u'Esmonde Rd looking south', u'tns:mapx': u'178', u'tns:offline': u'false', u'tns:underMaintenance': u'false', u'tns:congestionLocation': [{u'tns:name': u'Esmonde Rd - Onewa', u'tns:direction': u'Southbound', u'tns:congestion': u'Free Flow'}, {u'tns:name': u'Stafford Rd - Esmonde Rd', u'tns:direction': u'Northbound', u'tns:congestion': u'Free Flow'}], u'tns:mapy': u'146', u'tns:name': u'SH1 4 Esmonde Rd'}, {u'tns:id': u'50', u'tns:imageUrl': u'http://www.trafficnz.info/camera/50.jpg', u'tns:viewUrl': u'http://www.trafficnz.info/camera/view/50', u'tns:description': u'Onewa Rd looking south', u'tns:mapx': u'157', u'tns:offline': u'false', u'tns:underMaintenance': u'false', u'tns:congestionLocation': [{u'tns:name': u'Harbour Bridge', u'tns:direction': u'Southbound', u'tns:congestion': u'Free Flow'}, {u'tns:name': u'Stafford Rd - Esmonde Rd', u'tns:direction': u'Northbound', u'tns:congestion': u'Free Flow'}], u'tns:mapy': u'162', u'tns:name': u'SH1 5 Onewa Rd'}, {u'tns:id': u'215', u'tns:imageUrl': u'http://www.trafficnz.info/camera/215.jpg', u'tns:viewUrl': u'http://www.trafficnz.info/camera/view/215', u'tns:description': u'Johnstone hill tunnels looking south', u'tns:mapx': u'0', u'tns:offline': u'false', u'tns:underMaintenance': u'false', u'tns:mapy': u'0', u'tns:name': u'SH1 Alpurt Web cam'}, {u'tns:id': u'212', u'tns:imageUrl': u'http://www.trafficnz.info/camera/212.jpg', u'tns:viewUrl': u'http://www.trafficnz.info/camera/view/212', u'tns:description': u'Goodwood heights looking south', u'tns:mapx': u'0', u'tns:offline': u'false', u'tns:underMaintenance': u'false', u'tns:mapy': u'0', u'tns:name': u'SH1 17 Goodwood'}, {u'tns:id': u'214', u'tns:imageUrl': u'http://www.trafficnz.info/camera/214.jpg', u'tns:viewUrl': u'http://www.trafficnz.info/camera/view/214', u'tns:description': u'Rainbows End looking north at SH1 and SH20 link', u'tns:mapx': u'0', u'tns:offline': u'false', u'tns:underMaintenance': u'false', u'tns:mapy': u'0', u'tns:name': u'SH1 18 Rainbows End'}, {u'tns:id': u'60', u'tns:imageUrl': u'http://www.trafficnz.info/camera/60.jpg', u'tns:viewUrl': u'http://www.trafficnz.info/camera/view/60', u'tns:description': u'Central motorway junction looking south at the link between state highways 1 and 16', u'tns:mapx': u'162', u'tns:offline': u'false', u'tns:underMaintenance': u'false', u'tns:congestionLocation': {u'tns:name': u'Nelson St - Gillies Ave', u'tns:direction': u'Southbound', u'tns:congestion': u'Free Flow'}, u'tns:mapy': u'217', u'tns:name': u'SH1 1 CMJ'}, {u'tns:id': u'70', u'tns:imageUrl': u'http://www.trafficnz.info/camera/70.jpg', u'tns:viewUrl': u'http://www.trafficnz.info/camera/view/70', u'tns:description': u'Southern motorway at newmarket looking south towards the Market  Rd overbridge', u'tns:mapx': u'183', u'tns:offline': u'false', u'tns:underMaintenance': u'false', u'tns:congestionLocation': [{u'tns:name': u'Gillies Ave - Greenlane', u'tns:direction': u'Southbound', u'tns:congestion': u'Free Flow'}, {u'tns:name': u'Greenlane - Gillies Ave', u'tns:direction': u'Northbound', u'tns:congestion': u'Free Flow'}], u'tns:mapy': u'241', u'tns:name': u'SH1 2 Market Rd'}, {u'tns:id': u'80', u'tns:imageUrl': u'http://www.trafficnz.info/camera/80.jpg', u'tns:viewUrl': u'http://www.trafficnz.info/camera/view/80', u'tns:description': u'Greenlane Rd looking north', u'tns:mapx': u'198', u'tns:offline': u'false', u'tns:underMaintenance': u'false', u'tns:congestionLocation': [{u'tns:name': u'Gillies Ave - Greenlane', u'tns:direction': u'Southbound', u'tns:congestion': u'Free Flow'}, {u'tns:name': u'Greenlane - Gillies Ave', u'tns:direction': u'Northbound', u'tns:congestion': u'Free Flow'}], u'tns:mapy': u'262', u'tns:name': u'SH1 3 Greenlane Rd'}, {u'tns:id': u'90', u'tns:imageUrl': u'http://www.trafficnz.info/camera/90.jpg', u'tns:viewUrl': u'http://www.trafficnz.info/camera/view/90', u'tns:description': u'South eastern highway looking south', u'tns:mapx': u'219', u'tns:offline': u'false', u'tns:underMaintenance': u'false', u'tns:congestionLocation': [{u'tns:name': u'Mt Wellington Hway - SE Highway', u'tns:direction': u'Northbound', u'tns:congestion': u'Free Flow'}, {u'tns:name': u'SE Highway - Mt Wellington Hway', u'tns:direction': u'Southbound', u'tns:congestion': u'Moderate'}], u'tns:mapy': u'278', u'tns:name': u'SH1 4 SE Highway'}, {u'tns:id': u'100', u'tns:imageUrl': u'http://www.trafficnz.info/camera/100.jpg', u'tns:viewUrl': u'http://www.trafficnz.info/camera/view/100', u'tns:description': u'Redoubt Rd looking north', u'tns:mapx': u'254', u'tns:offline': u'false', u'tns:underMaintenance': u'false', u'tns:congestionLocation': [{u'tns:name': u'Redoubt Rd - Hill Rd', u'tns:direction': u'Southbound', u'tns:congestion': u'Free Flow'}, {u'tns:name': u'Hill Rd - Redoubt Rd', u'tns:direction': u'Northbound', u'tns:congestion': u'Free Flow'}], u'tns:mapy': u'341', u'tns:name': u'SH1 5 Redoubt Rd'}, {u'tns:id': u'110', u'tns:imageUrl': u'http://www.trafficnz.info/camera/110.jpg', u'tns:viewUrl': u'http://www.trafficnz.info/camera/view/110', u'tns:description': u'Bairds Rd looking north', u'tns:mapx': u'275', u'tns:offline': u'false', u'tns:underMaintenance': u'false', u'tns:congestionLocation': [{u'tns:name': u'East Tamaki Rd - Princes St', u'tns:direction': u'Northbound', u'tns:congestion': u'Free Flow'}, {u'tns:name': u'Princes St - East Tamaki Rd', u'tns:direction': u'Southbound', u'tns:congestion': u'Free Flow'}], u'tns:mapy': u'383', u'tns:name': u'SH1 6 Bairds Rd'}, {u'tns:id': u'120', u'tns:imageUrl': u'http://www.trafficnz.info/camera/120.jpg', u'tns:viewUrl': u'http://www.trafficnz.info/camera/view/120', u'tns:description': u'Alfriston Rd looking north', u'tns:mapx': u'291', u'tns:offline': u'false', u'tns:underMaintenance': u'false', u'tns:congestionLocation': [{u'tns:name': u'Takanini - Hill Rd', u'tns:direction': u'Northbound', u'tns:congestion': u'Free Flow'}, {u'tns:name': u'Hill Rd - Takanini', u'tns:direction': u'Southbound', u'tns:congestion': u'Free Flow'}], u'tns:mapy': u'411', u'tns:name': u'SH1 7 Alfriston Rd'}, {u'tns:id': u'121', u'tns:imageUrl': u'http://www.trafficnz.info/camera/121.jpg', u'tns:viewUrl': u'http://www.trafficnz.info/camera/view/121', u'tns:description': u'Takanini looking south', u'tns:mapx': u'290', u'tns:offline': u'false', u'tns:underMaintenance': u'false', u'tns:mapy': u'380', u'tns:name': u'SH1 8 Takanini'}, {u'tns:id': u'122', u'tns:imageUrl': u'http://www.trafficnz.info/camera/122.jpg', u'tns:viewUrl': u'http://www.trafficnz.info/camera/view/122', u'tns:description': u'Walter-Strevens Drive looking south', u'tns:mapx': u'285', u'tns:offline': u'false', u'tns:underMaintenance': u'false', u'tns:mapy': u'400', u'tns:name': u'SH1 9 Walter Streven'}, {u'tns:id': u'123', u'tns:imageUrl': u'http://www.trafficnz.info/camera/123.jpg', u'tns:viewUrl': u'http://www.trafficnz.info/camera/view/123', u'tns:description': u'Pahurehure looking south', u'tns:mapx': u'265', u'tns:offline': u'false', u'tns:underMaintenance': u'false', u'tns:mapy': u'410', u'tns:name': u'SH1 10 Pahurehure'}, {u'tns:id': u'124', u'tns:imageUrl': u'http://www.trafficnz.info/camera/124.jpg', u'tns:viewUrl': u'http://www.trafficnz.info/camera/view/124', u'tns:description': u'Rushgreen Ave looking south', u'tns:mapx': u'285', u'tns:offline': u'false', u'tns:underMaintenance': u'false', u'tns:mapy': u'420', u'tns:name': u'SH1 11 Rushgreen Ave'}, {u'tns:id': u'125', u'tns:imageUrl': u'http://www.trafficnz.info/camera/125.jpg', u'tns:viewUrl': u'http://www.trafficnz.info/camera/view/125', u'tns:description': u'Park estate looking south', u'tns:mapx': u'300', u'tns:offline': u'false', u'tns:underMaintenance': u'false', u'tns:mapy': u'430', u'tns:name': u'SH1 12 Park Estate'}, {u'tns:id': u'126', u'tns:imageUrl': u'http://www.trafficnz.info/camera/126.jpg', u'tns:viewUrl': u'http://www.trafficnz.info/camera/view/126', u'tns:description': u'Slippery Creek looking  south', u'tns:mapx': u'286', u'tns:offline': u'false', u'tns:underMaintenance': u'false', u'tns:mapy': u'445', u'tns:name': u'SH1 13 Slippery Crk'}, {u'tns:id': u'274', u'tns:imageUrl': u'http://www.trafficnz.info/camera/274.jpg', u'tns:viewUrl': u'http://www.trafficnz.info/camera/view/274', u'tns:description': u'Montgomerie Rd looking east', u'tns:mapx': u'0', u'tns:offline': u'false', u'tns:underMaintenance': u'false', u'tns:mapy': u'0', u'tns:name': u'SH20A Montgomerie Rd'}, {u'tns:id': u'275', u'tns:imageUrl': u'http://www.trafficnz.info/camera/275.jpg', u'tns:viewUrl': u'http://www.trafficnz.info/camera/view/275', u'tns:description': u'Kirkbride Rd looking east', u'tns:mapx': u'0', u'tns:offline': u'false', u'tns:underMaintenance': u'false', u'tns:mapy': u'0', u'tns:name': u'SH20A Kirkbride Road'}, {u'tns:id': u'276', u'tns:imageUrl': u'http://www.trafficnz.info/camera/276.jpg', u'tns:viewUrl': u'http://www.trafficnz.info/camera/view/276', u'tns:description': u'Bader Drive looking east', u'tns:mapx': u'0', u'tns:offline': u'false', u'tns:underMaintenance': u'false', u'tns:mapy': u'0', u'tns:name': u'SH20A Bader Drive'}, {u'tns:id': u'272', u'tns:imageUrl': u'http://www.trafficnz.info/camera/272.jpg', u'tns:viewUrl': u'http://www.trafficnz.info/camera/view/272', u'tns:description': u'Prices Rd looking east', u'tns:mapx': u'0', u'tns:offline': u'false', u'tns:underMaintenance': u'false', u'tns:mapy': u'0', u'tns:name': u'SH20B Prices Road'}, {u'tns:id': u'273', u'tns:imageUrl': u'http://www.trafficnz.info/camera/273.jpg', u'tns:viewUrl': u'http://www.trafficnz.info/camera/view/273', u'tns:description': u'Waokauri Creek looking west', u'tns:mapx': u'0', u'tns:offline': u'false', u'tns:underMaintenance': u'false', u'tns:mapy': u'0', u'tns:name': u'SH20B Waokauri Creek'}, {u'tns:id': u'190', u'tns:imageUrl': u'http://www.trafficnz.info/camera/190.jpg', u'tns:viewUrl': u'http://www.trafficnz.info/camera/view/190', u'tns:description': u'Queenstown Rd looking south', u'tns:mapx': u'35', u'tns:offline': u'false', u'tns:underMaintenance': u'false', u'tns:mapy': u'207', u'tns:name': u'SH20 1 Queenstown Rd'}, {u'tns:id': u'191', u'tns:imageUrl': u'http://www.trafficnz.info/camera/191.jpg', u'tns:viewUrl': u'http://www.trafficnz.info/camera/view/191', u'tns:description': u'Hillsborough Rd looking south', u'tns:mapx': u'35', u'tns:offline': u'false', u'tns:underMaintenance': u'false', u'tns:mapy': u'207', u'tns:name': u'SH20 2 Hillsborough'}, {u'tns:id': u'192', u'tns:imageUrl': u'http://www.trafficnz.info/camera/192.jpg', u'tns:viewUrl': u'http://www.trafficnz.info/camera/view/192', u'tns:description': u'Melrose looking south', u'tns:mapx': u'35', u'tns:offline': u'false', u'tns:underMaintenance': u'false', u'tns:mapy': u'207', u'tns:name': u'SH20 3 Melrose'}, {u'tns:id': u'193', u'tns:imageUrl': u'http://www.trafficnz.info/camera/193.jpg', u'tns:viewUrl': u'http://www.trafficnz.info/camera/view/193', u'tns:description': u'Dominion Rd looking south', u'tns:mapx': u'35', u'tns:offline': u'false', u'tns:underMaintenance': u'false', u'tns:mapy': u'207', u'tns:name': u'SH20 4 Dominion Rd'}, {u'tns:id': u'194', u'tns:imageUrl': u'http://www.trafficnz.info/camera/194.jpg', u'tns:viewUrl': u'http://www.trafficnz.info/camera/view/194', u'tns:description': u'Sandringham looking South', u'tns:mapx': u'35', u'tns:offline': u'false', u'tns:underMaintenance': u'false', u'tns:mapy': u'207', u'tns:name': u'SH20 5 Sandringham'}, {u'tns:id': u'201', u'tns:imageUrl': u'http://www.trafficnz.info/camera/201.jpg', u'tns:viewUrl': u'http://www.trafficnz.info/camera/view/201', u'tns:description': u'Gloucester Park looking north', u'tns:mapx': u'0', u'tns:offline': u'false', u'tns:underMaintenance': u'false', u'tns:mapy': u'0', u'tns:name': u'SH20 6 Gloucester Pk'}, {u'tns:id': u'202', u'tns:imageUrl': u'http://www.trafficnz.info/camera/202.jpg', u'tns:viewUrl': u'http://www.trafficnz.info/camera/view/202', u'tns:description': u'Onehunga wharf looking north', u'tns:mapx': u'0', u'tns:offline': u'false', u'tns:underMaintenance': u'false', u'tns:mapy': u'0', u'tns:name': u'SH20 7 Onehunga'}, {u'tns:id': u'203', u'tns:imageUrl': u'http://www.trafficnz.info/camera/203.jpg', u'tns:viewUrl': u'http://www.trafficnz.info/camera/view/203', u'tns:description': u'Rimu Rd looking north', u'tns:mapx': u'0', u'tns:offline': u'false', u'tns:underMaintenance': u'false', u'tns:mapy': u'0', u'tns:name': u'SH20 8 Rimu Rd'}, {u'tns:id': u'204', u'tns:imageUrl': u'http://www.trafficnz.info/camera/204.jpg', u'tns:viewUrl': u'http://www.trafficnz.info/camera/view/204', u'tns:description': u'Crawford Ave looking north', u'tns:mapx': u'0', u'tns:offline': u'false', u'tns:underMaintenance': u'false', u'tns:mapy': u'0', u'tns:name': u'SH20 9 Crawford Ave'}, {u'tns:id': u'205', u'tns:imageUrl': u'http://www.trafficnz.info/camera/205.jpg', u'tns:viewUrl': u'http://www.trafficnz.info/camera/view/205', u'tns:description': u'Coronation Rd looking east', u'tns:mapx': u'0', u'tns:offline': u'false', u'tns:underMaintenance': u'false', u'tns:mapy': u'0', u'tns:name': u'SH20 Coronation Rd'}, {u'tns:id': u'206', u'tns:imageUrl': u'http://www.trafficnz.info/camera/206.jpg', u'tns:viewUrl': u'http://www.trafficnz.info/camera/view/206', u'tns:description': u'Puhinui road interchange looking south', u'tns:mapx': u'0', u'tns:offline': u'false', u'tns:underMaintenance': u'false', u'tns:mapy': u'0', u'tns:name': u'SH20 11 Puhinui Rd'}, {u'tns:id': u'207', u'tns:imageUrl': u'http://www.trafficnz.info/camera/207.jpg', u'tns:viewUrl': u'http://www.trafficnz.info/camera/view/207', u'tns:description': u'Nesdale Rd looking east', u'tns:mapx': u'0', u'tns:offline': u'false', u'tns:underMaintenance': u'false', u'tns:mapy': u'0', u'tns:name': u'SH20 12 Nesdale Road'}, {u'tns:id': u'208', u'tns:imageUrl': u'http://www.trafficnz.info/camera/208.jpg', u'tns:viewUrl': u'http://www.trafficnz.info/camera/view/208', u'tns:description': u'Plunket Ave looking south', u'tns:mapx': u'0', u'tns:offline': u'false', u'tns:underMaintenance': u'false', u'tns:mapy': u'0', u'tns:name': u'SH20 13 Plunket Ave'}, {u'tns:id': u'209', u'tns:imageUrl': u'http://www.trafficnz.info/camera/209.jpg', u'tns:viewUrl': u'http://www.trafficnz.info/camera/view/209', u'tns:description': u'Lambie Drive looking south', u'tns:mapx': u'0', u'tns:offline': u'false', u'tns:underMaintenance': u'false', u'tns:mapy': u'0', u'tns:name': u'SH20 14 Lambie Drive'}, {u'tns:id': u'210', u'tns:imageUrl': u'http://www.trafficnz.info/camera/210.jpg', u'tns:viewUrl': u'http://www.trafficnz.info/camera/view/210', u'tns:description': u'Barrowcliffe Place looking west', u'tns:mapx': u'0', u'tns:offline': u'false', u'tns:underMaintenance': u'false', u'tns:mapy': u'0', u'tns:name': u'SH20 15 Barrowcliffe'}, {u'tns:id': u'211', u'tns:imageUrl': u'http://www.trafficnz.info/camera/211.jpg', u'tns:viewUrl': u'http://www.trafficnz.info/camera/view/211', u'tns:description': u'Great South Rd Looking westbound', u'tns:mapx': u'0', u'tns:offline': u'false', u'tns:underMaintenance': u'false', u'tns:mapy': u'0', u'tns:name': u'SH20 16 Great South'}], u'@xmlns:rem': u'http://remote.service.callcenter.nzta.govt.nz', u'@xmlns:tns': u'https://infoconnect.highwayinfo.govt.nz/schemas/camera'}\n"
       ]
      }
     ],
     "prompt_number": 278
    },
    {
     "cell_type": "code",
     "collapsed": false,
     "input": [
      "newDictionary.values()"
     ],
     "language": "python",
     "metadata": {},
     "outputs": [
      {
       "output_type": "pyout",
       "prompt_number": 279,
       "text": [
        "[{u'@xmlns:rem': u'http://remote.service.callcenter.nzta.govt.nz',\n",
        "  u'@xmlns:tns': u'https://infoconnect.highwayinfo.govt.nz/schemas/camera',\n",
        "  u'@xmlns:xsd': u'http://www.w3.org/2001/XMLSchema',\n",
        "  u'@xmlns:xsi': u'http://www.w3.org/2001/XMLSchema-instance',\n",
        "  u'tns:camera': [{u'tns:congestionLocation': [{u'tns:congestion': u'Free Flow',\n",
        "      u'tns:direction': u'Eastbound',\n",
        "      u'tns:name': u'St Lukes Rd - Newton Rd'},\n",
        "     {u'tns:congestion': u'Free Flow',\n",
        "      u'tns:direction': u'Westbound',\n",
        "      u'tns:name': u'Newton Rd - St Lukes Rd'}],\n",
        "    u'tns:description': u'Bond St looking east',\n",
        "    u'tns:id': u'130',\n",
        "    u'tns:imageUrl': u'http://www.trafficnz.info/camera/130.jpg',\n",
        "    u'tns:mapx': u'142',\n",
        "    u'tns:mapy': u'229',\n",
        "    u'tns:name': u'SH16 1 Bond St',\n",
        "    u'tns:offline': u'false',\n",
        "    u'tns:underMaintenance': u'false',\n",
        "    u'tns:viewUrl': u'http://www.trafficnz.info/camera/view/130'},\n",
        "   {u'tns:congestionLocation': [{u'tns:congestion': u'Free Flow',\n",
        "      u'tns:direction': u'Eastbound',\n",
        "      u'tns:name': u'Rosebank Rd - Great Nth Rd Waterview'},\n",
        "     {u'tns:congestion': u'Free Flow',\n",
        "      u'tns:direction': u'Westbound',\n",
        "      u'tns:name': u'Great Nth Rd Waterview - Rosebank Rd'}],\n",
        "    u'tns:description': u'Gt North Road looking west',\n",
        "    u'tns:id': u'140',\n",
        "    u'tns:imageUrl': u'http://www.trafficnz.info/camera/140.jpg',\n",
        "    u'tns:mapx': u'113',\n",
        "    u'tns:mapy': u'232',\n",
        "    u'tns:name': u'SH16 2 Gt North Rd',\n",
        "    u'tns:offline': u'false',\n",
        "    u'tns:underMaintenance': u'false',\n",
        "    u'tns:viewUrl': u'http://www.trafficnz.info/camera/view/140'},\n",
        "   {u'tns:congestionLocation': [{u'tns:congestion': u'Free Flow',\n",
        "      u'tns:direction': u'Eastbound',\n",
        "      u'tns:name': u'Te Atatu Rd - Rosebank Rd'},\n",
        "     {u'tns:congestion': u'Free Flow',\n",
        "      u'tns:direction': u'Westbound',\n",
        "      u'tns:name': u'Rosebank Rd - Te Atatu Rd'}],\n",
        "    u'tns:description': u'Te Atatu Road looking east',\n",
        "    u'tns:id': u'150',\n",
        "    u'tns:imageUrl': u'http://www.trafficnz.info/camera/150.jpg',\n",
        "    u'tns:mapx': u'70',\n",
        "    u'tns:mapy': u'216',\n",
        "    u'tns:name': u'SH16 3 Te Atatu Rd',\n",
        "    u'tns:offline': u'false',\n",
        "    u'tns:underMaintenance': u'false',\n",
        "    u'tns:viewUrl': u'http://www.trafficnz.info/camera/view/150'},\n",
        "   {u'tns:congestionLocation': [{u'tns:congestion': u'Free Flow',\n",
        "      u'tns:direction': u'Westbound',\n",
        "      u'tns:name': u'Te Atatu Rd - Lincoln Rd'},\n",
        "     {u'tns:congestion': u'Free Flow',\n",
        "      u'tns:direction': u'Eastbound',\n",
        "      u'tns:name': u'Lincoln Rd - Te Atatu Rd'}],\n",
        "    u'tns:description': u'Lincoln Rd  looking west',\n",
        "    u'tns:id': u'160',\n",
        "    u'tns:imageUrl': u'http://www.trafficnz.info/camera/160.jpg',\n",
        "    u'tns:mapx': u'52',\n",
        "    u'tns:mapy': u'207',\n",
        "    u'tns:name': u'SH16 4 Lincoln Rd E',\n",
        "    u'tns:offline': u'false',\n",
        "    u'tns:underMaintenance': u'false',\n",
        "    u'tns:viewUrl': u'http://www.trafficnz.info/camera/view/160'},\n",
        "   {u'tns:congestionLocation': [{u'tns:congestion': u'Free Flow',\n",
        "      u'tns:direction': u'Westbound',\n",
        "      u'tns:name': u'Lincoln Rd - Royal Rd'},\n",
        "     {u'tns:congestion': u'Free Flow',\n",
        "      u'tns:direction': u'Eastbound',\n",
        "      u'tns:name': u'Royal Rd - Lincoln Rd'}],\n",
        "    u'tns:description': u'Lincoln Rd looking east',\n",
        "    u'tns:id': u'170',\n",
        "    u'tns:imageUrl': u'http://www.trafficnz.info/camera/170.jpg',\n",
        "    u'tns:mapx': u'35',\n",
        "    u'tns:mapy': u'207',\n",
        "    u'tns:name': u'SH16 5 Lincoln Rd W',\n",
        "    u'tns:offline': u'false',\n",
        "    u'tns:underMaintenance': u'false',\n",
        "    u'tns:viewUrl': u'http://www.trafficnz.info/camera/view/170'},\n",
        "   {u'tns:description': u'Hobsonville looking West towards Kumeu',\n",
        "    u'tns:id': u'270',\n",
        "    u'tns:imageUrl': u'http://www.trafficnz.info/camera/270.jpg',\n",
        "    u'tns:mapx': u'0',\n",
        "    u'tns:mapy': u'0',\n",
        "    u'tns:name': u'SH16 6 Hobsonville W',\n",
        "    u'tns:offline': u'false',\n",
        "    u'tns:underMaintenance': u'false',\n",
        "    u'tns:viewUrl': u'http://www.trafficnz.info/camera/view/270'},\n",
        "   {u'tns:description': u'Hobsonville Road looking East',\n",
        "    u'tns:id': u'271',\n",
        "    u'tns:imageUrl': u'http://www.trafficnz.info/camera/271.jpg',\n",
        "    u'tns:mapx': u'0',\n",
        "    u'tns:mapy': u'0',\n",
        "    u'tns:name': u'SH16 7 Hobsonville E',\n",
        "    u'tns:offline': u'false',\n",
        "    u'tns:underMaintenance': u'false',\n",
        "    u'tns:viewUrl': u'http://www.trafficnz.info/camera/view/271'},\n",
        "   {u'tns:description': u'Trig Rd looking west',\n",
        "    u'tns:id': u'221',\n",
        "    u'tns:imageUrl': u'http://www.trafficnz.info/camera/221.jpg',\n",
        "    u'tns:mapx': u'0',\n",
        "    u'tns:mapy': u'0',\n",
        "    u'tns:name': u'SH18 Trig Rd',\n",
        "    u'tns:offline': u'false',\n",
        "    u'tns:underMaintenance': u'false',\n",
        "    u'tns:viewUrl': u'http://www.trafficnz.info/camera/view/221'},\n",
        "   {u'tns:description': u'Upper harbour motorway looking west',\n",
        "    u'tns:id': u'222',\n",
        "    u'tns:imageUrl': u'http://www.trafficnz.info/camera/222.jpg',\n",
        "    u'tns:mapx': u'0',\n",
        "    u'tns:mapy': u'0',\n",
        "    u'tns:name': u'SH18 Waiahora Creek',\n",
        "    u'tns:offline': u'false',\n",
        "    u'tns:underMaintenance': u'false',\n",
        "    u'tns:viewUrl': u'http://www.trafficnz.info/camera/view/222'},\n",
        "   {u'tns:description': u'Upper harbour motorway looking East',\n",
        "    u'tns:id': u'223',\n",
        "    u'tns:imageUrl': u'http://www.trafficnz.info/camera/223.jpg',\n",
        "    u'tns:mapx': u'0',\n",
        "    u'tns:mapy': u'0',\n",
        "    u'tns:name': u'SH18 Brigham Creek',\n",
        "    u'tns:offline': u'false',\n",
        "    u'tns:underMaintenance': u'false',\n",
        "    u'tns:viewUrl': u'http://www.trafficnz.info/camera/view/223'},\n",
        "   {u'tns:description': u'Upper harbour motorway looking west',\n",
        "    u'tns:id': u'224',\n",
        "    u'tns:imageUrl': u'http://www.trafficnz.info/camera/224.jpg',\n",
        "    u'tns:mapx': u'0',\n",
        "    u'tns:mapy': u'0',\n",
        "    u'tns:name': u'SH18 Sinton Rd',\n",
        "    u'tns:offline': u'false',\n",
        "    u'tns:underMaintenance': u'false',\n",
        "    u'tns:viewUrl': u'http://www.trafficnz.info/camera/view/224'},\n",
        "   {u'tns:description': u'Upper harbour motorway looking east',\n",
        "    u'tns:id': u'225',\n",
        "    u'tns:imageUrl': u'http://www.trafficnz.info/camera/225.jpg',\n",
        "    u'tns:mapx': u'0',\n",
        "    u'tns:mapy': u'0',\n",
        "    u'tns:name': u'SH18 Squadron Dr',\n",
        "    u'tns:offline': u'false',\n",
        "    u'tns:underMaintenance': u'false',\n",
        "    u'tns:viewUrl': u'http://www.trafficnz.info/camera/view/225'},\n",
        "   {u'tns:description': u'Tauhinu bridge looking east',\n",
        "    u'tns:id': u'171',\n",
        "    u'tns:imageUrl': u'http://www.trafficnz.info/camera/171.jpg',\n",
        "    u'tns:mapx': u'60',\n",
        "    u'tns:mapy': u'207',\n",
        "    u'tns:name': u'SH18 6 Tauhinu BRG',\n",
        "    u'tns:offline': u'false',\n",
        "    u'tns:underMaintenance': u'false',\n",
        "    u'tns:viewUrl': u'http://www.trafficnz.info/camera/view/171'},\n",
        "   {u'tns:description': u'Albany Highway Looking East',\n",
        "    u'tns:id': u'172',\n",
        "    u'tns:imageUrl': u'http://www.trafficnz.info/camera/172.jpg',\n",
        "    u'tns:mapx': u'35',\n",
        "    u'tns:mapy': u'207',\n",
        "    u'tns:name': u'SH18 7 Albany HWY',\n",
        "    u'tns:offline': u'false',\n",
        "    u'tns:underMaintenance': u'false',\n",
        "    u'tns:viewUrl': u'http://www.trafficnz.info/camera/view/172'},\n",
        "   {u'tns:description': u'Tauhinu East Looking East',\n",
        "    u'tns:id': u'173',\n",
        "    u'tns:imageUrl': u'http://www.trafficnz.info/camera/173.jpg',\n",
        "    u'tns:mapx': u'35',\n",
        "    u'tns:mapy': u'207',\n",
        "    u'tns:name': u'SH18 8 Tauhinu East',\n",
        "    u'tns:offline': u'false',\n",
        "    u'tns:underMaintenance': u'false',\n",
        "    u'tns:viewUrl': u'http://www.trafficnz.info/camera/view/173'},\n",
        "   {u'tns:description': u'Paul matthews looking east',\n",
        "    u'tns:id': u'174',\n",
        "    u'tns:imageUrl': u'http://www.trafficnz.info/camera/174.jpg',\n",
        "    u'tns:mapx': u'35',\n",
        "    u'tns:mapy': u'207',\n",
        "    u'tns:name': u'SH18 9 Paul Matthews',\n",
        "    u'tns:offline': u'false',\n",
        "    u'tns:underMaintenance': u'false',\n",
        "    u'tns:viewUrl': u'http://www.trafficnz.info/camera/view/174'},\n",
        "   {u'tns:description': u'Greenhithe Rd looking east',\n",
        "    u'tns:id': u'175',\n",
        "    u'tns:imageUrl': u'http://www.trafficnz.info/camera/175.jpg',\n",
        "    u'tns:mapx': u'35',\n",
        "    u'tns:mapy': u'207',\n",
        "    u'tns:name': u'SH18 10 Greenhithe',\n",
        "    u'tns:offline': u'false',\n",
        "    u'tns:underMaintenance': u'false',\n",
        "    u'tns:viewUrl': u'http://www.trafficnz.info/camera/view/175'},\n",
        "   {u'tns:description': u'George deane looking east',\n",
        "    u'tns:id': u'176',\n",
        "    u'tns:imageUrl': u'http://www.trafficnz.info/camera/176.jpg',\n",
        "    u'tns:mapx': u'35',\n",
        "    u'tns:mapy': u'207',\n",
        "    u'tns:name': u'SH18 11 George Deane',\n",
        "    u'tns:offline': u'false',\n",
        "    u'tns:underMaintenance': u'false',\n",
        "    u'tns:viewUrl': u'http://www.trafficnz.info/camera/view/176'},\n",
        "   {u'tns:description': u'Upper harbour looking east',\n",
        "    u'tns:id': u'177',\n",
        "    u'tns:imageUrl': u'http://www.trafficnz.info/camera/177.jpg',\n",
        "    u'tns:mapx': u'35',\n",
        "    u'tns:mapy': u'207',\n",
        "    u'tns:name': u'SH18 12 Upper Hbr CW',\n",
        "    u'tns:offline': u'false',\n",
        "    u'tns:underMaintenance': u'false',\n",
        "    u'tns:viewUrl': u'http://www.trafficnz.info/camera/view/177'},\n",
        "   {u'tns:description': u'Wicklam Lane looking west',\n",
        "    u'tns:id': u'178',\n",
        "    u'tns:imageUrl': u'http://www.trafficnz.info/camera/178.jpg',\n",
        "    u'tns:mapx': u'35',\n",
        "    u'tns:mapy': u'207',\n",
        "    u'tns:name': u'SH18 13 Wicklam Lane',\n",
        "    u'tns:offline': u'false',\n",
        "    u'tns:underMaintenance': u'false',\n",
        "    u'tns:viewUrl': u'http://www.trafficnz.info/camera/view/178'},\n",
        "   {u'tns:congestionLocation': [{u'tns:congestion': u'Free Flow',\n",
        "      u'tns:direction': u'Northbound',\n",
        "      u'tns:name': u'Upper Harb Hwy - Oteha Valley Rd'},\n",
        "     {u'tns:congestion': u'Free Flow',\n",
        "      u'tns:direction': u'Southbound',\n",
        "      u'tns:name': u'Oteha Valley Rd - Upper Harb Hwy'}],\n",
        "    u'tns:description': u'Greville road looking south',\n",
        "    u'tns:id': u'10',\n",
        "    u'tns:imageUrl': u'http://www.trafficnz.info/camera/10.jpg',\n",
        "    u'tns:mapx': u'125',\n",
        "    u'tns:mapy': u'71',\n",
        "    u'tns:name': u'SH1 1 Greville Rd',\n",
        "    u'tns:offline': u'false',\n",
        "    u'tns:underMaintenance': u'false',\n",
        "    u'tns:viewUrl': u'http://www.trafficnz.info/camera/view/10'},\n",
        "   {u'tns:congestionLocation': [{u'tns:congestion': u'Free Flow',\n",
        "      u'tns:direction': u'Southbound',\n",
        "      u'tns:name': u'Tristram Ave - Esmonde Rd'},\n",
        "     {u'tns:congestion': u'Free Flow',\n",
        "      u'tns:direction': u'Northbound',\n",
        "      u'tns:name': u'Esmonde Rd - Tristram Ave'}],\n",
        "    u'tns:description': u'Tristram Avenue looking south',\n",
        "    u'tns:id': u'20',\n",
        "    u'tns:imageUrl': u'http://www.trafficnz.info/camera/20.jpg',\n",
        "    u'tns:mapx': u'148',\n",
        "    u'tns:mapy': u'118',\n",
        "    u'tns:name': u'SH1 2 Tristram Ave',\n",
        "    u'tns:offline': u'false',\n",
        "    u'tns:underMaintenance': u'false',\n",
        "    u'tns:viewUrl': u'http://www.trafficnz.info/camera/view/20'},\n",
        "   {u'tns:congestionLocation': [{u'tns:congestion': u'Free Flow',\n",
        "      u'tns:direction': u'Southbound',\n",
        "      u'tns:name': u'Tristram Ave - Esmonde Rd'},\n",
        "     {u'tns:congestion': u'Free Flow',\n",
        "      u'tns:direction': u'Northbound',\n",
        "      u'tns:name': u'Esmonde Rd - Tristram Ave'}],\n",
        "    u'tns:description': u'Northcote Rd looking north',\n",
        "    u'tns:id': u'30',\n",
        "    u'tns:imageUrl': u'http://www.trafficnz.info/camera/30.jpg',\n",
        "    u'tns:mapx': u'156',\n",
        "    u'tns:mapy': u'141',\n",
        "    u'tns:name': u'SH1 3 Northcote Rd',\n",
        "    u'tns:offline': u'false',\n",
        "    u'tns:underMaintenance': u'false',\n",
        "    u'tns:viewUrl': u'http://www.trafficnz.info/camera/view/30'},\n",
        "   {u'tns:congestionLocation': [{u'tns:congestion': u'Free Flow',\n",
        "      u'tns:direction': u'Southbound',\n",
        "      u'tns:name': u'Esmonde Rd - Onewa'},\n",
        "     {u'tns:congestion': u'Free Flow',\n",
        "      u'tns:direction': u'Northbound',\n",
        "      u'tns:name': u'Stafford Rd - Esmonde Rd'}],\n",
        "    u'tns:description': u'Esmonde Rd looking south',\n",
        "    u'tns:id': u'40',\n",
        "    u'tns:imageUrl': u'http://www.trafficnz.info/camera/40.jpg',\n",
        "    u'tns:mapx': u'178',\n",
        "    u'tns:mapy': u'146',\n",
        "    u'tns:name': u'SH1 4 Esmonde Rd',\n",
        "    u'tns:offline': u'false',\n",
        "    u'tns:underMaintenance': u'false',\n",
        "    u'tns:viewUrl': u'http://www.trafficnz.info/camera/view/40'},\n",
        "   {u'tns:congestionLocation': [{u'tns:congestion': u'Free Flow',\n",
        "      u'tns:direction': u'Southbound',\n",
        "      u'tns:name': u'Harbour Bridge'},\n",
        "     {u'tns:congestion': u'Free Flow',\n",
        "      u'tns:direction': u'Northbound',\n",
        "      u'tns:name': u'Stafford Rd - Esmonde Rd'}],\n",
        "    u'tns:description': u'Onewa Rd looking south',\n",
        "    u'tns:id': u'50',\n",
        "    u'tns:imageUrl': u'http://www.trafficnz.info/camera/50.jpg',\n",
        "    u'tns:mapx': u'157',\n",
        "    u'tns:mapy': u'162',\n",
        "    u'tns:name': u'SH1 5 Onewa Rd',\n",
        "    u'tns:offline': u'false',\n",
        "    u'tns:underMaintenance': u'false',\n",
        "    u'tns:viewUrl': u'http://www.trafficnz.info/camera/view/50'},\n",
        "   {u'tns:description': u'Johnstone hill tunnels looking south',\n",
        "    u'tns:id': u'215',\n",
        "    u'tns:imageUrl': u'http://www.trafficnz.info/camera/215.jpg',\n",
        "    u'tns:mapx': u'0',\n",
        "    u'tns:mapy': u'0',\n",
        "    u'tns:name': u'SH1 Alpurt Web cam',\n",
        "    u'tns:offline': u'false',\n",
        "    u'tns:underMaintenance': u'false',\n",
        "    u'tns:viewUrl': u'http://www.trafficnz.info/camera/view/215'},\n",
        "   {u'tns:description': u'Goodwood heights looking south',\n",
        "    u'tns:id': u'212',\n",
        "    u'tns:imageUrl': u'http://www.trafficnz.info/camera/212.jpg',\n",
        "    u'tns:mapx': u'0',\n",
        "    u'tns:mapy': u'0',\n",
        "    u'tns:name': u'SH1 17 Goodwood',\n",
        "    u'tns:offline': u'false',\n",
        "    u'tns:underMaintenance': u'false',\n",
        "    u'tns:viewUrl': u'http://www.trafficnz.info/camera/view/212'},\n",
        "   {u'tns:description': u'Rainbows End looking north at SH1 and SH20 link',\n",
        "    u'tns:id': u'214',\n",
        "    u'tns:imageUrl': u'http://www.trafficnz.info/camera/214.jpg',\n",
        "    u'tns:mapx': u'0',\n",
        "    u'tns:mapy': u'0',\n",
        "    u'tns:name': u'SH1 18 Rainbows End',\n",
        "    u'tns:offline': u'false',\n",
        "    u'tns:underMaintenance': u'false',\n",
        "    u'tns:viewUrl': u'http://www.trafficnz.info/camera/view/214'},\n",
        "   {u'tns:congestionLocation': {u'tns:congestion': u'Free Flow',\n",
        "     u'tns:direction': u'Southbound',\n",
        "     u'tns:name': u'Nelson St - Gillies Ave'},\n",
        "    u'tns:description': u'Central motorway junction looking south at the link between state highways 1 and 16',\n",
        "    u'tns:id': u'60',\n",
        "    u'tns:imageUrl': u'http://www.trafficnz.info/camera/60.jpg',\n",
        "    u'tns:mapx': u'162',\n",
        "    u'tns:mapy': u'217',\n",
        "    u'tns:name': u'SH1 1 CMJ',\n",
        "    u'tns:offline': u'false',\n",
        "    u'tns:underMaintenance': u'false',\n",
        "    u'tns:viewUrl': u'http://www.trafficnz.info/camera/view/60'},\n",
        "   {u'tns:congestionLocation': [{u'tns:congestion': u'Free Flow',\n",
        "      u'tns:direction': u'Southbound',\n",
        "      u'tns:name': u'Gillies Ave - Greenlane'},\n",
        "     {u'tns:congestion': u'Free Flow',\n",
        "      u'tns:direction': u'Northbound',\n",
        "      u'tns:name': u'Greenlane - Gillies Ave'}],\n",
        "    u'tns:description': u'Southern motorway at newmarket looking south towards the Market  Rd overbridge',\n",
        "    u'tns:id': u'70',\n",
        "    u'tns:imageUrl': u'http://www.trafficnz.info/camera/70.jpg',\n",
        "    u'tns:mapx': u'183',\n",
        "    u'tns:mapy': u'241',\n",
        "    u'tns:name': u'SH1 2 Market Rd',\n",
        "    u'tns:offline': u'false',\n",
        "    u'tns:underMaintenance': u'false',\n",
        "    u'tns:viewUrl': u'http://www.trafficnz.info/camera/view/70'},\n",
        "   {u'tns:congestionLocation': [{u'tns:congestion': u'Free Flow',\n",
        "      u'tns:direction': u'Southbound',\n",
        "      u'tns:name': u'Gillies Ave - Greenlane'},\n",
        "     {u'tns:congestion': u'Free Flow',\n",
        "      u'tns:direction': u'Northbound',\n",
        "      u'tns:name': u'Greenlane - Gillies Ave'}],\n",
        "    u'tns:description': u'Greenlane Rd looking north',\n",
        "    u'tns:id': u'80',\n",
        "    u'tns:imageUrl': u'http://www.trafficnz.info/camera/80.jpg',\n",
        "    u'tns:mapx': u'198',\n",
        "    u'tns:mapy': u'262',\n",
        "    u'tns:name': u'SH1 3 Greenlane Rd',\n",
        "    u'tns:offline': u'false',\n",
        "    u'tns:underMaintenance': u'false',\n",
        "    u'tns:viewUrl': u'http://www.trafficnz.info/camera/view/80'},\n",
        "   {u'tns:congestionLocation': [{u'tns:congestion': u'Free Flow',\n",
        "      u'tns:direction': u'Northbound',\n",
        "      u'tns:name': u'Mt Wellington Hway - SE Highway'},\n",
        "     {u'tns:congestion': u'Moderate',\n",
        "      u'tns:direction': u'Southbound',\n",
        "      u'tns:name': u'SE Highway - Mt Wellington Hway'}],\n",
        "    u'tns:description': u'South eastern highway looking south',\n",
        "    u'tns:id': u'90',\n",
        "    u'tns:imageUrl': u'http://www.trafficnz.info/camera/90.jpg',\n",
        "    u'tns:mapx': u'219',\n",
        "    u'tns:mapy': u'278',\n",
        "    u'tns:name': u'SH1 4 SE Highway',\n",
        "    u'tns:offline': u'false',\n",
        "    u'tns:underMaintenance': u'false',\n",
        "    u'tns:viewUrl': u'http://www.trafficnz.info/camera/view/90'},\n",
        "   {u'tns:congestionLocation': [{u'tns:congestion': u'Free Flow',\n",
        "      u'tns:direction': u'Southbound',\n",
        "      u'tns:name': u'Redoubt Rd - Hill Rd'},\n",
        "     {u'tns:congestion': u'Free Flow',\n",
        "      u'tns:direction': u'Northbound',\n",
        "      u'tns:name': u'Hill Rd - Redoubt Rd'}],\n",
        "    u'tns:description': u'Redoubt Rd looking north',\n",
        "    u'tns:id': u'100',\n",
        "    u'tns:imageUrl': u'http://www.trafficnz.info/camera/100.jpg',\n",
        "    u'tns:mapx': u'254',\n",
        "    u'tns:mapy': u'341',\n",
        "    u'tns:name': u'SH1 5 Redoubt Rd',\n",
        "    u'tns:offline': u'false',\n",
        "    u'tns:underMaintenance': u'false',\n",
        "    u'tns:viewUrl': u'http://www.trafficnz.info/camera/view/100'},\n",
        "   {u'tns:congestionLocation': [{u'tns:congestion': u'Free Flow',\n",
        "      u'tns:direction': u'Northbound',\n",
        "      u'tns:name': u'East Tamaki Rd - Princes St'},\n",
        "     {u'tns:congestion': u'Free Flow',\n",
        "      u'tns:direction': u'Southbound',\n",
        "      u'tns:name': u'Princes St - East Tamaki Rd'}],\n",
        "    u'tns:description': u'Bairds Rd looking north',\n",
        "    u'tns:id': u'110',\n",
        "    u'tns:imageUrl': u'http://www.trafficnz.info/camera/110.jpg',\n",
        "    u'tns:mapx': u'275',\n",
        "    u'tns:mapy': u'383',\n",
        "    u'tns:name': u'SH1 6 Bairds Rd',\n",
        "    u'tns:offline': u'false',\n",
        "    u'tns:underMaintenance': u'false',\n",
        "    u'tns:viewUrl': u'http://www.trafficnz.info/camera/view/110'},\n",
        "   {u'tns:congestionLocation': [{u'tns:congestion': u'Free Flow',\n",
        "      u'tns:direction': u'Northbound',\n",
        "      u'tns:name': u'Takanini - Hill Rd'},\n",
        "     {u'tns:congestion': u'Free Flow',\n",
        "      u'tns:direction': u'Southbound',\n",
        "      u'tns:name': u'Hill Rd - Takanini'}],\n",
        "    u'tns:description': u'Alfriston Rd looking north',\n",
        "    u'tns:id': u'120',\n",
        "    u'tns:imageUrl': u'http://www.trafficnz.info/camera/120.jpg',\n",
        "    u'tns:mapx': u'291',\n",
        "    u'tns:mapy': u'411',\n",
        "    u'tns:name': u'SH1 7 Alfriston Rd',\n",
        "    u'tns:offline': u'false',\n",
        "    u'tns:underMaintenance': u'false',\n",
        "    u'tns:viewUrl': u'http://www.trafficnz.info/camera/view/120'},\n",
        "   {u'tns:description': u'Takanini looking south',\n",
        "    u'tns:id': u'121',\n",
        "    u'tns:imageUrl': u'http://www.trafficnz.info/camera/121.jpg',\n",
        "    u'tns:mapx': u'290',\n",
        "    u'tns:mapy': u'380',\n",
        "    u'tns:name': u'SH1 8 Takanini',\n",
        "    u'tns:offline': u'false',\n",
        "    u'tns:underMaintenance': u'false',\n",
        "    u'tns:viewUrl': u'http://www.trafficnz.info/camera/view/121'},\n",
        "   {u'tns:description': u'Walter-Strevens Drive looking south',\n",
        "    u'tns:id': u'122',\n",
        "    u'tns:imageUrl': u'http://www.trafficnz.info/camera/122.jpg',\n",
        "    u'tns:mapx': u'285',\n",
        "    u'tns:mapy': u'400',\n",
        "    u'tns:name': u'SH1 9 Walter Streven',\n",
        "    u'tns:offline': u'false',\n",
        "    u'tns:underMaintenance': u'false',\n",
        "    u'tns:viewUrl': u'http://www.trafficnz.info/camera/view/122'},\n",
        "   {u'tns:description': u'Pahurehure looking south',\n",
        "    u'tns:id': u'123',\n",
        "    u'tns:imageUrl': u'http://www.trafficnz.info/camera/123.jpg',\n",
        "    u'tns:mapx': u'265',\n",
        "    u'tns:mapy': u'410',\n",
        "    u'tns:name': u'SH1 10 Pahurehure',\n",
        "    u'tns:offline': u'false',\n",
        "    u'tns:underMaintenance': u'false',\n",
        "    u'tns:viewUrl': u'http://www.trafficnz.info/camera/view/123'},\n",
        "   {u'tns:description': u'Rushgreen Ave looking south',\n",
        "    u'tns:id': u'124',\n",
        "    u'tns:imageUrl': u'http://www.trafficnz.info/camera/124.jpg',\n",
        "    u'tns:mapx': u'285',\n",
        "    u'tns:mapy': u'420',\n",
        "    u'tns:name': u'SH1 11 Rushgreen Ave',\n",
        "    u'tns:offline': u'false',\n",
        "    u'tns:underMaintenance': u'false',\n",
        "    u'tns:viewUrl': u'http://www.trafficnz.info/camera/view/124'},\n",
        "   {u'tns:description': u'Park estate looking south',\n",
        "    u'tns:id': u'125',\n",
        "    u'tns:imageUrl': u'http://www.trafficnz.info/camera/125.jpg',\n",
        "    u'tns:mapx': u'300',\n",
        "    u'tns:mapy': u'430',\n",
        "    u'tns:name': u'SH1 12 Park Estate',\n",
        "    u'tns:offline': u'false',\n",
        "    u'tns:underMaintenance': u'false',\n",
        "    u'tns:viewUrl': u'http://www.trafficnz.info/camera/view/125'},\n",
        "   {u'tns:description': u'Slippery Creek looking  south',\n",
        "    u'tns:id': u'126',\n",
        "    u'tns:imageUrl': u'http://www.trafficnz.info/camera/126.jpg',\n",
        "    u'tns:mapx': u'286',\n",
        "    u'tns:mapy': u'445',\n",
        "    u'tns:name': u'SH1 13 Slippery Crk',\n",
        "    u'tns:offline': u'false',\n",
        "    u'tns:underMaintenance': u'false',\n",
        "    u'tns:viewUrl': u'http://www.trafficnz.info/camera/view/126'},\n",
        "   {u'tns:description': u'Montgomerie Rd looking east',\n",
        "    u'tns:id': u'274',\n",
        "    u'tns:imageUrl': u'http://www.trafficnz.info/camera/274.jpg',\n",
        "    u'tns:mapx': u'0',\n",
        "    u'tns:mapy': u'0',\n",
        "    u'tns:name': u'SH20A Montgomerie Rd',\n",
        "    u'tns:offline': u'false',\n",
        "    u'tns:underMaintenance': u'false',\n",
        "    u'tns:viewUrl': u'http://www.trafficnz.info/camera/view/274'},\n",
        "   {u'tns:description': u'Kirkbride Rd looking east',\n",
        "    u'tns:id': u'275',\n",
        "    u'tns:imageUrl': u'http://www.trafficnz.info/camera/275.jpg',\n",
        "    u'tns:mapx': u'0',\n",
        "    u'tns:mapy': u'0',\n",
        "    u'tns:name': u'SH20A Kirkbride Road',\n",
        "    u'tns:offline': u'false',\n",
        "    u'tns:underMaintenance': u'false',\n",
        "    u'tns:viewUrl': u'http://www.trafficnz.info/camera/view/275'},\n",
        "   {u'tns:description': u'Bader Drive looking east',\n",
        "    u'tns:id': u'276',\n",
        "    u'tns:imageUrl': u'http://www.trafficnz.info/camera/276.jpg',\n",
        "    u'tns:mapx': u'0',\n",
        "    u'tns:mapy': u'0',\n",
        "    u'tns:name': u'SH20A Bader Drive',\n",
        "    u'tns:offline': u'false',\n",
        "    u'tns:underMaintenance': u'false',\n",
        "    u'tns:viewUrl': u'http://www.trafficnz.info/camera/view/276'},\n",
        "   {u'tns:description': u'Prices Rd looking east',\n",
        "    u'tns:id': u'272',\n",
        "    u'tns:imageUrl': u'http://www.trafficnz.info/camera/272.jpg',\n",
        "    u'tns:mapx': u'0',\n",
        "    u'tns:mapy': u'0',\n",
        "    u'tns:name': u'SH20B Prices Road',\n",
        "    u'tns:offline': u'false',\n",
        "    u'tns:underMaintenance': u'false',\n",
        "    u'tns:viewUrl': u'http://www.trafficnz.info/camera/view/272'},\n",
        "   {u'tns:description': u'Waokauri Creek looking west',\n",
        "    u'tns:id': u'273',\n",
        "    u'tns:imageUrl': u'http://www.trafficnz.info/camera/273.jpg',\n",
        "    u'tns:mapx': u'0',\n",
        "    u'tns:mapy': u'0',\n",
        "    u'tns:name': u'SH20B Waokauri Creek',\n",
        "    u'tns:offline': u'false',\n",
        "    u'tns:underMaintenance': u'false',\n",
        "    u'tns:viewUrl': u'http://www.trafficnz.info/camera/view/273'},\n",
        "   {u'tns:description': u'Queenstown Rd looking south',\n",
        "    u'tns:id': u'190',\n",
        "    u'tns:imageUrl': u'http://www.trafficnz.info/camera/190.jpg',\n",
        "    u'tns:mapx': u'35',\n",
        "    u'tns:mapy': u'207',\n",
        "    u'tns:name': u'SH20 1 Queenstown Rd',\n",
        "    u'tns:offline': u'false',\n",
        "    u'tns:underMaintenance': u'false',\n",
        "    u'tns:viewUrl': u'http://www.trafficnz.info/camera/view/190'},\n",
        "   {u'tns:description': u'Hillsborough Rd looking south',\n",
        "    u'tns:id': u'191',\n",
        "    u'tns:imageUrl': u'http://www.trafficnz.info/camera/191.jpg',\n",
        "    u'tns:mapx': u'35',\n",
        "    u'tns:mapy': u'207',\n",
        "    u'tns:name': u'SH20 2 Hillsborough',\n",
        "    u'tns:offline': u'false',\n",
        "    u'tns:underMaintenance': u'false',\n",
        "    u'tns:viewUrl': u'http://www.trafficnz.info/camera/view/191'},\n",
        "   {u'tns:description': u'Melrose looking south',\n",
        "    u'tns:id': u'192',\n",
        "    u'tns:imageUrl': u'http://www.trafficnz.info/camera/192.jpg',\n",
        "    u'tns:mapx': u'35',\n",
        "    u'tns:mapy': u'207',\n",
        "    u'tns:name': u'SH20 3 Melrose',\n",
        "    u'tns:offline': u'false',\n",
        "    u'tns:underMaintenance': u'false',\n",
        "    u'tns:viewUrl': u'http://www.trafficnz.info/camera/view/192'},\n",
        "   {u'tns:description': u'Dominion Rd looking south',\n",
        "    u'tns:id': u'193',\n",
        "    u'tns:imageUrl': u'http://www.trafficnz.info/camera/193.jpg',\n",
        "    u'tns:mapx': u'35',\n",
        "    u'tns:mapy': u'207',\n",
        "    u'tns:name': u'SH20 4 Dominion Rd',\n",
        "    u'tns:offline': u'false',\n",
        "    u'tns:underMaintenance': u'false',\n",
        "    u'tns:viewUrl': u'http://www.trafficnz.info/camera/view/193'},\n",
        "   {u'tns:description': u'Sandringham looking South',\n",
        "    u'tns:id': u'194',\n",
        "    u'tns:imageUrl': u'http://www.trafficnz.info/camera/194.jpg',\n",
        "    u'tns:mapx': u'35',\n",
        "    u'tns:mapy': u'207',\n",
        "    u'tns:name': u'SH20 5 Sandringham',\n",
        "    u'tns:offline': u'false',\n",
        "    u'tns:underMaintenance': u'false',\n",
        "    u'tns:viewUrl': u'http://www.trafficnz.info/camera/view/194'},\n",
        "   {u'tns:description': u'Gloucester Park looking north',\n",
        "    u'tns:id': u'201',\n",
        "    u'tns:imageUrl': u'http://www.trafficnz.info/camera/201.jpg',\n",
        "    u'tns:mapx': u'0',\n",
        "    u'tns:mapy': u'0',\n",
        "    u'tns:name': u'SH20 6 Gloucester Pk',\n",
        "    u'tns:offline': u'false',\n",
        "    u'tns:underMaintenance': u'false',\n",
        "    u'tns:viewUrl': u'http://www.trafficnz.info/camera/view/201'},\n",
        "   {u'tns:description': u'Onehunga wharf looking north',\n",
        "    u'tns:id': u'202',\n",
        "    u'tns:imageUrl': u'http://www.trafficnz.info/camera/202.jpg',\n",
        "    u'tns:mapx': u'0',\n",
        "    u'tns:mapy': u'0',\n",
        "    u'tns:name': u'SH20 7 Onehunga',\n",
        "    u'tns:offline': u'false',\n",
        "    u'tns:underMaintenance': u'false',\n",
        "    u'tns:viewUrl': u'http://www.trafficnz.info/camera/view/202'},\n",
        "   {u'tns:description': u'Rimu Rd looking north',\n",
        "    u'tns:id': u'203',\n",
        "    u'tns:imageUrl': u'http://www.trafficnz.info/camera/203.jpg',\n",
        "    u'tns:mapx': u'0',\n",
        "    u'tns:mapy': u'0',\n",
        "    u'tns:name': u'SH20 8 Rimu Rd',\n",
        "    u'tns:offline': u'false',\n",
        "    u'tns:underMaintenance': u'false',\n",
        "    u'tns:viewUrl': u'http://www.trafficnz.info/camera/view/203'},\n",
        "   {u'tns:description': u'Crawford Ave looking north',\n",
        "    u'tns:id': u'204',\n",
        "    u'tns:imageUrl': u'http://www.trafficnz.info/camera/204.jpg',\n",
        "    u'tns:mapx': u'0',\n",
        "    u'tns:mapy': u'0',\n",
        "    u'tns:name': u'SH20 9 Crawford Ave',\n",
        "    u'tns:offline': u'false',\n",
        "    u'tns:underMaintenance': u'false',\n",
        "    u'tns:viewUrl': u'http://www.trafficnz.info/camera/view/204'},\n",
        "   {u'tns:description': u'Coronation Rd looking east',\n",
        "    u'tns:id': u'205',\n",
        "    u'tns:imageUrl': u'http://www.trafficnz.info/camera/205.jpg',\n",
        "    u'tns:mapx': u'0',\n",
        "    u'tns:mapy': u'0',\n",
        "    u'tns:name': u'SH20 Coronation Rd',\n",
        "    u'tns:offline': u'false',\n",
        "    u'tns:underMaintenance': u'false',\n",
        "    u'tns:viewUrl': u'http://www.trafficnz.info/camera/view/205'},\n",
        "   {u'tns:description': u'Puhinui road interchange looking south',\n",
        "    u'tns:id': u'206',\n",
        "    u'tns:imageUrl': u'http://www.trafficnz.info/camera/206.jpg',\n",
        "    u'tns:mapx': u'0',\n",
        "    u'tns:mapy': u'0',\n",
        "    u'tns:name': u'SH20 11 Puhinui Rd',\n",
        "    u'tns:offline': u'false',\n",
        "    u'tns:underMaintenance': u'false',\n",
        "    u'tns:viewUrl': u'http://www.trafficnz.info/camera/view/206'},\n",
        "   {u'tns:description': u'Nesdale Rd looking east',\n",
        "    u'tns:id': u'207',\n",
        "    u'tns:imageUrl': u'http://www.trafficnz.info/camera/207.jpg',\n",
        "    u'tns:mapx': u'0',\n",
        "    u'tns:mapy': u'0',\n",
        "    u'tns:name': u'SH20 12 Nesdale Road',\n",
        "    u'tns:offline': u'false',\n",
        "    u'tns:underMaintenance': u'false',\n",
        "    u'tns:viewUrl': u'http://www.trafficnz.info/camera/view/207'},\n",
        "   {u'tns:description': u'Plunket Ave looking south',\n",
        "    u'tns:id': u'208',\n",
        "    u'tns:imageUrl': u'http://www.trafficnz.info/camera/208.jpg',\n",
        "    u'tns:mapx': u'0',\n",
        "    u'tns:mapy': u'0',\n",
        "    u'tns:name': u'SH20 13 Plunket Ave',\n",
        "    u'tns:offline': u'false',\n",
        "    u'tns:underMaintenance': u'false',\n",
        "    u'tns:viewUrl': u'http://www.trafficnz.info/camera/view/208'},\n",
        "   {u'tns:description': u'Lambie Drive looking south',\n",
        "    u'tns:id': u'209',\n",
        "    u'tns:imageUrl': u'http://www.trafficnz.info/camera/209.jpg',\n",
        "    u'tns:mapx': u'0',\n",
        "    u'tns:mapy': u'0',\n",
        "    u'tns:name': u'SH20 14 Lambie Drive',\n",
        "    u'tns:offline': u'false',\n",
        "    u'tns:underMaintenance': u'false',\n",
        "    u'tns:viewUrl': u'http://www.trafficnz.info/camera/view/209'},\n",
        "   {u'tns:description': u'Barrowcliffe Place looking west',\n",
        "    u'tns:id': u'210',\n",
        "    u'tns:imageUrl': u'http://www.trafficnz.info/camera/210.jpg',\n",
        "    u'tns:mapx': u'0',\n",
        "    u'tns:mapy': u'0',\n",
        "    u'tns:name': u'SH20 15 Barrowcliffe',\n",
        "    u'tns:offline': u'false',\n",
        "    u'tns:underMaintenance': u'false',\n",
        "    u'tns:viewUrl': u'http://www.trafficnz.info/camera/view/210'},\n",
        "   {u'tns:description': u'Great South Rd Looking westbound',\n",
        "    u'tns:id': u'211',\n",
        "    u'tns:imageUrl': u'http://www.trafficnz.info/camera/211.jpg',\n",
        "    u'tns:mapx': u'0',\n",
        "    u'tns:mapy': u'0',\n",
        "    u'tns:name': u'SH20 16 Great South',\n",
        "    u'tns:offline': u'false',\n",
        "    u'tns:underMaintenance': u'false',\n",
        "    u'tns:viewUrl': u'http://www.trafficnz.info/camera/view/211'}]}]"
       ]
      }
     ],
     "prompt_number": 279
    },
    {
     "cell_type": "code",
     "collapsed": false,
     "input": [
      "for value in datadict.itervalues():\n",
      "    print value\n",
      "    dalist.append(value)\n",
      "    "
     ],
     "language": "python",
     "metadata": {},
     "outputs": [
      {
       "output_type": "stream",
       "stream": "stdout",
       "text": [
        "OrderedDict([(u'@xmlns:rem', u'http://remote.service.callcenter.nzta.govt.nz'), (u'@xmlns:tns', u'https://infoconnect.highwayinfo.govt.nz/schemas/camera'), (u'@xmlns:xsd', u'http://www.w3.org/2001/XMLSchema'), (u'@xmlns:xsi', u'http://www.w3.org/2001/XMLSchema-instance'), (u'tns:camera', [OrderedDict([(u'tns:id', u'130'), (u'tns:name', u'SH16 1 Bond St'), (u'tns:description', u'Bond St looking east'), (u'tns:offline', u'false'), (u'tns:underMaintenance', u'false'), (u'tns:imageUrl', u'http://www.trafficnz.info/camera/130.jpg'), (u'tns:viewUrl', u'http://www.trafficnz.info/camera/view/130'), (u'tns:mapx', u'142'), (u'tns:mapy', u'229'), (u'tns:congestionLocation', [OrderedDict([(u'tns:name', u'St Lukes Rd - Newton Rd'), (u'tns:direction', u'Eastbound'), (u'tns:congestion', u'Free Flow')]), OrderedDict([(u'tns:name', u'Newton Rd - St Lukes Rd'), (u'tns:direction', u'Westbound'), (u'tns:congestion', u'Free Flow')])])]), OrderedDict([(u'tns:id', u'140'), (u'tns:name', u'SH16 2 Gt North Rd'), (u'tns:description', u'Gt North Road looking west'), (u'tns:offline', u'false'), (u'tns:underMaintenance', u'false'), (u'tns:imageUrl', u'http://www.trafficnz.info/camera/140.jpg'), (u'tns:viewUrl', u'http://www.trafficnz.info/camera/view/140'), (u'tns:mapx', u'113'), (u'tns:mapy', u'232'), (u'tns:congestionLocation', [OrderedDict([(u'tns:name', u'Rosebank Rd - Great Nth Rd Waterview'), (u'tns:direction', u'Eastbound'), (u'tns:congestion', u'Free Flow')]), OrderedDict([(u'tns:name', u'Great Nth Rd Waterview - Rosebank Rd'), (u'tns:direction', u'Westbound'), (u'tns:congestion', u'Free Flow')])])]), OrderedDict([(u'tns:id', u'150'), (u'tns:name', u'SH16 3 Te Atatu Rd'), (u'tns:description', u'Te Atatu Road looking east'), (u'tns:offline', u'false'), (u'tns:underMaintenance', u'false'), (u'tns:imageUrl', u'http://www.trafficnz.info/camera/150.jpg'), (u'tns:viewUrl', u'http://www.trafficnz.info/camera/view/150'), (u'tns:mapx', u'70'), (u'tns:mapy', u'216'), (u'tns:congestionLocation', [OrderedDict([(u'tns:name', u'Te Atatu Rd - Rosebank Rd'), (u'tns:direction', u'Eastbound'), (u'tns:congestion', u'Free Flow')]), OrderedDict([(u'tns:name', u'Rosebank Rd - Te Atatu Rd'), (u'tns:direction', u'Westbound'), (u'tns:congestion', u'Free Flow')])])]), OrderedDict([(u'tns:id', u'160'), (u'tns:name', u'SH16 4 Lincoln Rd E'), (u'tns:description', u'Lincoln Rd  looking west'), (u'tns:offline', u'false'), (u'tns:underMaintenance', u'false'), (u'tns:imageUrl', u'http://www.trafficnz.info/camera/160.jpg'), (u'tns:viewUrl', u'http://www.trafficnz.info/camera/view/160'), (u'tns:mapx', u'52'), (u'tns:mapy', u'207'), (u'tns:congestionLocation', [OrderedDict([(u'tns:name', u'Te Atatu Rd - Lincoln Rd'), (u'tns:direction', u'Westbound'), (u'tns:congestion', u'Free Flow')]), OrderedDict([(u'tns:name', u'Lincoln Rd - Te Atatu Rd'), (u'tns:direction', u'Eastbound'), (u'tns:congestion', u'Free Flow')])])]), OrderedDict([(u'tns:id', u'170'), (u'tns:name', u'SH16 5 Lincoln Rd W'), (u'tns:description', u'Lincoln Rd looking east'), (u'tns:offline', u'false'), (u'tns:underMaintenance', u'false'), (u'tns:imageUrl', u'http://www.trafficnz.info/camera/170.jpg'), (u'tns:viewUrl', u'http://www.trafficnz.info/camera/view/170'), (u'tns:mapx', u'35'), (u'tns:mapy', u'207'), (u'tns:congestionLocation', [OrderedDict([(u'tns:name', u'Lincoln Rd - Royal Rd'), (u'tns:direction', u'Westbound'), (u'tns:congestion', u'Free Flow')]), OrderedDict([(u'tns:name', u'Royal Rd - Lincoln Rd'), (u'tns:direction', u'Eastbound'), (u'tns:congestion', u'Free Flow')])])]), OrderedDict([(u'tns:id', u'270'), (u'tns:name', u'SH16 6 Hobsonville W'), (u'tns:description', u'Hobsonville looking West towards Kumeu'), (u'tns:offline', u'false'), (u'tns:underMaintenance', u'false'), (u'tns:imageUrl', u'http://www.trafficnz.info/camera/270.jpg'), (u'tns:viewUrl', u'http://www.trafficnz.info/camera/view/270'), (u'tns:mapx', u'0'), (u'tns:mapy', u'0')]), OrderedDict([(u'tns:id', u'271'), (u'tns:name', u'SH16 7 Hobsonville E'), (u'tns:description', u'Hobsonville Road looking East'), (u'tns:offline', u'false'), (u'tns:underMaintenance', u'false'), (u'tns:imageUrl', u'http://www.trafficnz.info/camera/271.jpg'), (u'tns:viewUrl', u'http://www.trafficnz.info/camera/view/271'), (u'tns:mapx', u'0'), (u'tns:mapy', u'0')]), OrderedDict([(u'tns:id', u'221'), (u'tns:name', u'SH18 Trig Rd'), (u'tns:description', u'Trig Rd looking west'), (u'tns:offline', u'false'), (u'tns:underMaintenance', u'false'), (u'tns:imageUrl', u'http://www.trafficnz.info/camera/221.jpg'), (u'tns:viewUrl', u'http://www.trafficnz.info/camera/view/221'), (u'tns:mapx', u'0'), (u'tns:mapy', u'0')]), OrderedDict([(u'tns:id', u'222'), (u'tns:name', u'SH18 Waiahora Creek'), (u'tns:description', u'Upper harbour motorway looking west'), (u'tns:offline', u'false'), (u'tns:underMaintenance', u'false'), (u'tns:imageUrl', u'http://www.trafficnz.info/camera/222.jpg'), (u'tns:viewUrl', u'http://www.trafficnz.info/camera/view/222'), (u'tns:mapx', u'0'), (u'tns:mapy', u'0')]), OrderedDict([(u'tns:id', u'223'), (u'tns:name', u'SH18 Brigham Creek'), (u'tns:description', u'Upper harbour motorway looking East'), (u'tns:offline', u'false'), (u'tns:underMaintenance', u'false'), (u'tns:imageUrl', u'http://www.trafficnz.info/camera/223.jpg'), (u'tns:viewUrl', u'http://www.trafficnz.info/camera/view/223'), (u'tns:mapx', u'0'), (u'tns:mapy', u'0')]), OrderedDict([(u'tns:id', u'224'), (u'tns:name', u'SH18 Sinton Rd'), (u'tns:description', u'Upper harbour motorway looking west'), (u'tns:offline', u'false'), (u'tns:underMaintenance', u'false'), (u'tns:imageUrl', u'http://www.trafficnz.info/camera/224.jpg'), (u'tns:viewUrl', u'http://www.trafficnz.info/camera/view/224'), (u'tns:mapx', u'0'), (u'tns:mapy', u'0')]), OrderedDict([(u'tns:id', u'225'), (u'tns:name', u'SH18 Squadron Dr'), (u'tns:description', u'Upper harbour motorway looking east'), (u'tns:offline', u'false'), (u'tns:underMaintenance', u'false'), (u'tns:imageUrl', u'http://www.trafficnz.info/camera/225.jpg'), (u'tns:viewUrl', u'http://www.trafficnz.info/camera/view/225'), (u'tns:mapx', u'0'), (u'tns:mapy', u'0')]), OrderedDict([(u'tns:id', u'171'), (u'tns:name', u'SH18 6 Tauhinu BRG'), (u'tns:description', u'Tauhinu bridge looking east'), (u'tns:offline', u'false'), (u'tns:underMaintenance', u'false'), (u'tns:imageUrl', u'http://www.trafficnz.info/camera/171.jpg'), (u'tns:viewUrl', u'http://www.trafficnz.info/camera/view/171'), (u'tns:mapx', u'60'), (u'tns:mapy', u'207')]), OrderedDict([(u'tns:id', u'172'), (u'tns:name', u'SH18 7 Albany HWY'), (u'tns:description', u'Albany Highway Looking East'), (u'tns:offline', u'false'), (u'tns:underMaintenance', u'false'), (u'tns:imageUrl', u'http://www.trafficnz.info/camera/172.jpg'), (u'tns:viewUrl', u'http://www.trafficnz.info/camera/view/172'), (u'tns:mapx', u'35'), (u'tns:mapy', u'207')]), OrderedDict([(u'tns:id', u'173'), (u'tns:name', u'SH18 8 Tauhinu East'), (u'tns:description', u'Tauhinu East Looking East'), (u'tns:offline', u'false'), (u'tns:underMaintenance', u'false'), (u'tns:imageUrl', u'http://www.trafficnz.info/camera/173.jpg'), (u'tns:viewUrl', u'http://www.trafficnz.info/camera/view/173'), (u'tns:mapx', u'35'), (u'tns:mapy', u'207')]), OrderedDict([(u'tns:id', u'174'), (u'tns:name', u'SH18 9 Paul Matthews'), (u'tns:description', u'Paul matthews looking east'), (u'tns:offline', u'false'), (u'tns:underMaintenance', u'false'), (u'tns:imageUrl', u'http://www.trafficnz.info/camera/174.jpg'), (u'tns:viewUrl', u'http://www.trafficnz.info/camera/view/174'), (u'tns:mapx', u'35'), (u'tns:mapy', u'207')]), OrderedDict([(u'tns:id', u'175'), (u'tns:name', u'SH18 10 Greenhithe'), (u'tns:description', u'Greenhithe Rd looking east'), (u'tns:offline', u'false'), (u'tns:underMaintenance', u'false'), (u'tns:imageUrl', u'http://www.trafficnz.info/camera/175.jpg'), (u'tns:viewUrl', u'http://www.trafficnz.info/camera/view/175'), (u'tns:mapx', u'35'), (u'tns:mapy', u'207')]), OrderedDict([(u'tns:id', u'176'), (u'tns:name', u'SH18 11 George Deane'), (u'tns:description', u'George deane looking east'), (u'tns:offline', u'false'), (u'tns:underMaintenance', u'false'), (u'tns:imageUrl', u'http://www.trafficnz.info/camera/176.jpg'), (u'tns:viewUrl', u'http://www.trafficnz.info/camera/view/176'), (u'tns:mapx', u'35'), (u'tns:mapy', u'207')]), OrderedDict([(u'tns:id', u'177'), (u'tns:name', u'SH18 12 Upper Hbr CW'), (u'tns:description', u'Upper harbour looking east'), (u'tns:offline', u'false'), (u'tns:underMaintenance', u'false'), (u'tns:imageUrl', u'http://www.trafficnz.info/camera/177.jpg'), (u'tns:viewUrl', u'http://www.trafficnz.info/camera/view/177'), (u'tns:mapx', u'35'), (u'tns:mapy', u'207')]), OrderedDict([(u'tns:id', u'178'), (u'tns:name', u'SH18 13 Wicklam Lane'), (u'tns:description', u'Wicklam Lane looking west'), (u'tns:offline', u'false'), (u'tns:underMaintenance', u'false'), (u'tns:imageUrl', u'http://www.trafficnz.info/camera/178.jpg'), (u'tns:viewUrl', u'http://www.trafficnz.info/camera/view/178'), (u'tns:mapx', u'35'), (u'tns:mapy', u'207')]), OrderedDict([(u'tns:id', u'10'), (u'tns:name', u'SH1 1 Greville Rd'), (u'tns:description', u'Greville road looking south'), (u'tns:offline', u'false'), (u'tns:underMaintenance', u'false'), (u'tns:imageUrl', u'http://www.trafficnz.info/camera/10.jpg'), (u'tns:viewUrl', u'http://www.trafficnz.info/camera/view/10'), (u'tns:mapx', u'125'), (u'tns:mapy', u'71'), (u'tns:congestionLocation', [OrderedDict([(u'tns:name', u'Upper Harb Hwy - Oteha Valley Rd'), (u'tns:direction', u'Northbound'), (u'tns:congestion', u'Free Flow')]), OrderedDict([(u'tns:name', u'Oteha Valley Rd - Upper Harb Hwy'), (u'tns:direction', u'Southbound'), (u'tns:congestion', u'Free Flow')])])]), OrderedDict([(u'tns:id', u'20'), (u'tns:name', u'SH1 2 Tristram Ave'), (u'tns:description', u'Tristram Avenue looking south'), (u'tns:offline', u'false'), (u'tns:underMaintenance', u'false'), (u'tns:imageUrl', u'http://www.trafficnz.info/camera/20.jpg'), (u'tns:viewUrl', u'http://www.trafficnz.info/camera/view/20'), (u'tns:mapx', u'148'), (u'tns:mapy', u'118'), (u'tns:congestionLocation', [OrderedDict([(u'tns:name', u'Tristram Ave - Esmonde Rd'), (u'tns:direction', u'Southbound'), (u'tns:congestion', u'Free Flow')]), OrderedDict([(u'tns:name', u'Esmonde Rd - Tristram Ave'), (u'tns:direction', u'Northbound'), (u'tns:congestion', u'Free Flow')])])]), OrderedDict([(u'tns:id', u'30'), (u'tns:name', u'SH1 3 Northcote Rd'), (u'tns:description', u'Northcote Rd looking north'), (u'tns:offline', u'false'), (u'tns:underMaintenance', u'false'), (u'tns:imageUrl', u'http://www.trafficnz.info/camera/30.jpg'), (u'tns:viewUrl', u'http://www.trafficnz.info/camera/view/30'), (u'tns:mapx', u'156'), (u'tns:mapy', u'141'), (u'tns:congestionLocation', [OrderedDict([(u'tns:name', u'Tristram Ave - Esmonde Rd'), (u'tns:direction', u'Southbound'), (u'tns:congestion', u'Free Flow')]), OrderedDict([(u'tns:name', u'Esmonde Rd - Tristram Ave'), (u'tns:direction', u'Northbound'), (u'tns:congestion', u'Free Flow')])])]), OrderedDict([(u'tns:id', u'40'), (u'tns:name', u'SH1 4 Esmonde Rd'), (u'tns:description', u'Esmonde Rd looking south'), (u'tns:offline', u'false'), (u'tns:underMaintenance', u'false'), (u'tns:imageUrl', u'http://www.trafficnz.info/camera/40.jpg'), (u'tns:viewUrl', u'http://www.trafficnz.info/camera/view/40'), (u'tns:mapx', u'178'), (u'tns:mapy', u'146'), (u'tns:congestionLocation', [OrderedDict([(u'tns:name', u'Esmonde Rd - Onewa'), (u'tns:direction', u'Southbound'), (u'tns:congestion', u'Free Flow')]), OrderedDict([(u'tns:name', u'Stafford Rd - Esmonde Rd'), (u'tns:direction', u'Northbound'), (u'tns:congestion', u'Free Flow')])])]), OrderedDict([(u'tns:id', u'50'), (u'tns:name', u'SH1 5 Onewa Rd'), (u'tns:description', u'Onewa Rd looking south'), (u'tns:offline', u'false'), (u'tns:underMaintenance', u'false'), (u'tns:imageUrl', u'http://www.trafficnz.info/camera/50.jpg'), (u'tns:viewUrl', u'http://www.trafficnz.info/camera/view/50'), (u'tns:mapx', u'157'), (u'tns:mapy', u'162'), (u'tns:congestionLocation', [OrderedDict([(u'tns:name', u'Harbour Bridge'), (u'tns:direction', u'Southbound'), (u'tns:congestion', u'Free Flow')]), OrderedDict([(u'tns:name', u'Stafford Rd - Esmonde Rd'), (u'tns:direction', u'Northbound'), (u'tns:congestion', u'Free Flow')])])]), OrderedDict([(u'tns:id', u'215'), (u'tns:name', u'SH1 Alpurt Web cam'), (u'tns:description', u'Johnstone hill tunnels looking south'), (u'tns:offline', u'false'), (u'tns:underMaintenance', u'false'), (u'tns:imageUrl', u'http://www.trafficnz.info/camera/215.jpg'), (u'tns:viewUrl', u'http://www.trafficnz.info/camera/view/215'), (u'tns:mapx', u'0'), (u'tns:mapy', u'0')]), OrderedDict([(u'tns:id', u'212'), (u'tns:name', u'SH1 17 Goodwood'), (u'tns:description', u'Goodwood heights looking south'), (u'tns:offline', u'false'), (u'tns:underMaintenance', u'false'), (u'tns:imageUrl', u'http://www.trafficnz.info/camera/212.jpg'), (u'tns:viewUrl', u'http://www.trafficnz.info/camera/view/212'), (u'tns:mapx', u'0'), (u'tns:mapy', u'0')]), OrderedDict([(u'tns:id', u'214'), (u'tns:name', u'SH1 18 Rainbows End'), (u'tns:description', u'Rainbows End looking north at SH1 and SH20 link'), (u'tns:offline', u'false'), (u'tns:underMaintenance', u'false'), (u'tns:imageUrl', u'http://www.trafficnz.info/camera/214.jpg'), (u'tns:viewUrl', u'http://www.trafficnz.info/camera/view/214'), (u'tns:mapx', u'0'), (u'tns:mapy', u'0')]), OrderedDict([(u'tns:id', u'60'), (u'tns:name', u'SH1 1 CMJ'), (u'tns:description', u'Central motorway junction looking south at the link between state highways 1 and 16'), (u'tns:offline', u'false'), (u'tns:underMaintenance', u'false'), (u'tns:imageUrl', u'http://www.trafficnz.info/camera/60.jpg'), (u'tns:viewUrl', u'http://www.trafficnz.info/camera/view/60'), (u'tns:mapx', u'162'), (u'tns:mapy', u'217'), (u'tns:congestionLocation', OrderedDict([(u'tns:name', u'Nelson St - Gillies Ave'), (u'tns:direction', u'Southbound'), (u'tns:congestion', u'Free Flow')]))]), OrderedDict([(u'tns:id', u'70'), (u'tns:name', u'SH1 2 Market Rd'), (u'tns:description', u'Southern motorway at newmarket looking south towards the Market  Rd overbridge'), (u'tns:offline', u'false'), (u'tns:underMaintenance', u'false'), (u'tns:imageUrl', u'http://www.trafficnz.info/camera/70.jpg'), (u'tns:viewUrl', u'http://www.trafficnz.info/camera/view/70'), (u'tns:mapx', u'183'), (u'tns:mapy', u'241'), (u'tns:congestionLocation', [OrderedDict([(u'tns:name', u'Gillies Ave - Greenlane'), (u'tns:direction', u'Southbound'), (u'tns:congestion', u'Free Flow')]), OrderedDict([(u'tns:name', u'Greenlane - Gillies Ave'), (u'tns:direction', u'Northbound'), (u'tns:congestion', u'Free Flow')])])]), OrderedDict([(u'tns:id', u'80'), (u'tns:name', u'SH1 3 Greenlane Rd'), (u'tns:description', u'Greenlane Rd looking north'), (u'tns:offline', u'false'), (u'tns:underMaintenance', u'false'), (u'tns:imageUrl', u'http://www.trafficnz.info/camera/80.jpg'), (u'tns:viewUrl', u'http://www.trafficnz.info/camera/view/80'), (u'tns:mapx', u'198'), (u'tns:mapy', u'262'), (u'tns:congestionLocation', [OrderedDict([(u'tns:name', u'Gillies Ave - Greenlane'), (u'tns:direction', u'Southbound'), (u'tns:congestion', u'Free Flow')]), OrderedDict([(u'tns:name', u'Greenlane - Gillies Ave'), (u'tns:direction', u'Northbound'), (u'tns:congestion', u'Free Flow')])])]), OrderedDict([(u'tns:id', u'90'), (u'tns:name', u'SH1 4 SE Highway'), (u'tns:description', u'South eastern highway looking south'), (u'tns:offline', u'false'), (u'tns:underMaintenance', u'false'), (u'tns:imageUrl', u'http://www.trafficnz.info/camera/90.jpg'), (u'tns:viewUrl', u'http://www.trafficnz.info/camera/view/90'), (u'tns:mapx', u'219'), (u'tns:mapy', u'278'), (u'tns:congestionLocation', [OrderedDict([(u'tns:name', u'Mt Wellington Hway - SE Highway'), (u'tns:direction', u'Northbound'), (u'tns:congestion', u'Free Flow')]), OrderedDict([(u'tns:name', u'SE Highway - Mt Wellington Hway'), (u'tns:direction', u'Southbound'), (u'tns:congestion', u'Moderate')])])]), OrderedDict([(u'tns:id', u'100'), (u'tns:name', u'SH1 5 Redoubt Rd'), (u'tns:description', u'Redoubt Rd looking north'), (u'tns:offline', u'false'), (u'tns:underMaintenance', u'false'), (u'tns:imageUrl', u'http://www.trafficnz.info/camera/100.jpg'), (u'tns:viewUrl', u'http://www.trafficnz.info/camera/view/100'), (u'tns:mapx', u'254'), (u'tns:mapy', u'341'), (u'tns:congestionLocation', [OrderedDict([(u'tns:name', u'Redoubt Rd - Hill Rd'), (u'tns:direction', u'Southbound'), (u'tns:congestion', u'Free Flow')]), OrderedDict([(u'tns:name', u'Hill Rd - Redoubt Rd'), (u'tns:direction', u'Northbound'), (u'tns:congestion', u'Free Flow')])])]), OrderedDict([(u'tns:id', u'110'), (u'tns:name', u'SH1 6 Bairds Rd'), (u'tns:description', u'Bairds Rd looking north'), (u'tns:offline', u'false'), (u'tns:underMaintenance', u'false'), (u'tns:imageUrl', u'http://www.trafficnz.info/camera/110.jpg'), (u'tns:viewUrl', u'http://www.trafficnz.info/camera/view/110'), (u'tns:mapx', u'275'), (u'tns:mapy', u'383'), (u'tns:congestionLocation', [OrderedDict([(u'tns:name', u'East Tamaki Rd - Princes St'), (u'tns:direction', u'Northbound'), (u'tns:congestion', u'Free Flow')]), OrderedDict([(u'tns:name', u'Princes St - East Tamaki Rd'), (u'tns:direction', u'Southbound'), (u'tns:congestion', u'Free Flow')])])]), OrderedDict([(u'tns:id', u'120'), (u'tns:name', u'SH1 7 Alfriston Rd'), (u'tns:description', u'Alfriston Rd looking north'), (u'tns:offline', u'false'), (u'tns:underMaintenance', u'false'), (u'tns:imageUrl', u'http://www.trafficnz.info/camera/120.jpg'), (u'tns:viewUrl', u'http://www.trafficnz.info/camera/view/120'), (u'tns:mapx', u'291'), (u'tns:mapy', u'411'), (u'tns:congestionLocation', [OrderedDict([(u'tns:name', u'Takanini - Hill Rd'), (u'tns:direction', u'Northbound'), (u'tns:congestion', u'Free Flow')]), OrderedDict([(u'tns:name', u'Hill Rd - Takanini'), (u'tns:direction', u'Southbound'), (u'tns:congestion', u'Free Flow')])])]), OrderedDict([(u'tns:id', u'121'), (u'tns:name', u'SH1 8 Takanini'), (u'tns:description', u'Takanini looking south'), (u'tns:offline', u'false'), (u'tns:underMaintenance', u'false'), (u'tns:imageUrl', u'http://www.trafficnz.info/camera/121.jpg'), (u'tns:viewUrl', u'http://www.trafficnz.info/camera/view/121'), (u'tns:mapx', u'290'), (u'tns:mapy', u'380')]), OrderedDict([(u'tns:id', u'122'), (u'tns:name', u'SH1 9 Walter Streven'), (u'tns:description', u'Walter-Strevens Drive looking south'), (u'tns:offline', u'false'), (u'tns:underMaintenance', u'false'), (u'tns:imageUrl', u'http://www.trafficnz.info/camera/122.jpg'), (u'tns:viewUrl', u'http://www.trafficnz.info/camera/view/122'), (u'tns:mapx', u'285'), (u'tns:mapy', u'400')]), OrderedDict([(u'tns:id', u'123'), (u'tns:name', u'SH1 10 Pahurehure'), (u'tns:description', u'Pahurehure looking south'), (u'tns:offline', u'false'), (u'tns:underMaintenance', u'false'), (u'tns:imageUrl', u'http://www.trafficnz.info/camera/123.jpg'), (u'tns:viewUrl', u'http://www.trafficnz.info/camera/view/123'), (u'tns:mapx', u'265'), (u'tns:mapy', u'410')]), OrderedDict([(u'tns:id', u'124'), (u'tns:name', u'SH1 11 Rushgreen Ave'), (u'tns:description', u'Rushgreen Ave looking south'), (u'tns:offline', u'false'), (u'tns:underMaintenance', u'false'), (u'tns:imageUrl', u'http://www.trafficnz.info/camera/124.jpg'), (u'tns:viewUrl', u'http://www.trafficnz.info/camera/view/124'), (u'tns:mapx', u'285'), (u'tns:mapy', u'420')]), OrderedDict([(u'tns:id', u'125'), (u'tns:name', u'SH1 12 Park Estate'), (u'tns:description', u'Park estate looking south'), (u'tns:offline', u'false'), (u'tns:underMaintenance', u'false'), (u'tns:imageUrl', u'http://www.trafficnz.info/camera/125.jpg'), (u'tns:viewUrl', u'http://www.trafficnz.info/camera/view/125'), (u'tns:mapx', u'300'), (u'tns:mapy', u'430')]), OrderedDict([(u'tns:id', u'126'), (u'tns:name', u'SH1 13 Slippery Crk'), (u'tns:description', u'Slippery Creek looking  south'), (u'tns:offline', u'false'), (u'tns:underMaintenance', u'false'), (u'tns:imageUrl', u'http://www.trafficnz.info/camera/126.jpg'), (u'tns:viewUrl', u'http://www.trafficnz.info/camera/view/126'), (u'tns:mapx', u'286'), (u'tns:mapy', u'445')]), OrderedDict([(u'tns:id', u'274'), (u'tns:name', u'SH20A Montgomerie Rd'), (u'tns:description', u'Montgomerie Rd looking east'), (u'tns:offline', u'false'), (u'tns:underMaintenance', u'false'), (u'tns:imageUrl', u'http://www.trafficnz.info/camera/274.jpg'), (u'tns:viewUrl', u'http://www.trafficnz.info/camera/view/274'), (u'tns:mapx', u'0'), (u'tns:mapy', u'0')]), OrderedDict([(u'tns:id', u'275'), (u'tns:name', u'SH20A Kirkbride Road'), (u'tns:description', u'Kirkbride Rd looking east'), (u'tns:offline', u'false'), (u'tns:underMaintenance', u'false'), (u'tns:imageUrl', u'http://www.trafficnz.info/camera/275.jpg'), (u'tns:viewUrl', u'http://www.trafficnz.info/camera/view/275'), (u'tns:mapx', u'0'), (u'tns:mapy', u'0')]), OrderedDict([(u'tns:id', u'276'), (u'tns:name', u'SH20A Bader Drive'), (u'tns:description', u'Bader Drive looking east'), (u'tns:offline', u'false'), (u'tns:underMaintenance', u'false'), (u'tns:imageUrl', u'http://www.trafficnz.info/camera/276.jpg'), (u'tns:viewUrl', u'http://www.trafficnz.info/camera/view/276'), (u'tns:mapx', u'0'), (u'tns:mapy', u'0')]), OrderedDict([(u'tns:id', u'272'), (u'tns:name', u'SH20B Prices Road'), (u'tns:description', u'Prices Rd looking east'), (u'tns:offline', u'false'), (u'tns:underMaintenance', u'false'), (u'tns:imageUrl', u'http://www.trafficnz.info/camera/272.jpg'), (u'tns:viewUrl', u'http://www.trafficnz.info/camera/view/272'), (u'tns:mapx', u'0'), (u'tns:mapy', u'0')]), OrderedDict([(u'tns:id', u'273'), (u'tns:name', u'SH20B Waokauri Creek'), (u'tns:description', u'Waokauri Creek looking west'), (u'tns:offline', u'false'), (u'tns:underMaintenance', u'false'), (u'tns:imageUrl', u'http://www.trafficnz.info/camera/273.jpg'), (u'tns:viewUrl', u'http://www.trafficnz.info/camera/view/273'), (u'tns:mapx', u'0'), (u'tns:mapy', u'0')]), OrderedDict([(u'tns:id', u'190'), (u'tns:name', u'SH20 1 Queenstown Rd'), (u'tns:description', u'Queenstown Rd looking south'), (u'tns:offline', u'false'), (u'tns:underMaintenance', u'false'), (u'tns:imageUrl', u'http://www.trafficnz.info/camera/190.jpg'), (u'tns:viewUrl', u'http://www.trafficnz.info/camera/view/190'), (u'tns:mapx', u'35'), (u'tns:mapy', u'207')]), OrderedDict([(u'tns:id', u'191'), (u'tns:name', u'SH20 2 Hillsborough'), (u'tns:description', u'Hillsborough Rd looking south'), (u'tns:offline', u'false'), (u'tns:underMaintenance', u'false'), (u'tns:imageUrl', u'http://www.trafficnz.info/camera/191.jpg'), (u'tns:viewUrl', u'http://www.trafficnz.info/camera/view/191'), (u'tns:mapx', u'35'), (u'tns:mapy', u'207')]), OrderedDict([(u'tns:id', u'192'), (u'tns:name', u'SH20 3 Melrose'), (u'tns:description', u'Melrose looking south'), (u'tns:offline', u'false'), (u'tns:underMaintenance', u'false'), (u'tns:imageUrl', u'http://www.trafficnz.info/camera/192.jpg'), (u'tns:viewUrl', u'http://www.trafficnz.info/camera/view/192'), (u'tns:mapx', u'35'), (u'tns:mapy', u'207')]), OrderedDict([(u'tns:id', u'193'), (u'tns:name', u'SH20 4 Dominion Rd'), (u'tns:description', u'Dominion Rd looking south'), (u'tns:offline', u'false'), (u'tns:underMaintenance', u'false'), (u'tns:imageUrl', u'http://www.trafficnz.info/camera/193.jpg'), (u'tns:viewUrl', u'http://www.trafficnz.info/camera/view/193'), (u'tns:mapx', u'35'), (u'tns:mapy', u'207')]), OrderedDict([(u'tns:id', u'194'), (u'tns:name', u'SH20 5 Sandringham'), (u'tns:description', u'Sandringham looking South'), (u'tns:offline', u'false'), (u'tns:underMaintenance', u'false'), (u'tns:imageUrl', u'http://www.trafficnz.info/camera/194.jpg'), (u'tns:viewUrl', u'http://www.trafficnz.info/camera/view/194'), (u'tns:mapx', u'35'), (u'tns:mapy', u'207')]), OrderedDict([(u'tns:id', u'201'), (u'tns:name', u'SH20 6 Gloucester Pk'), (u'tns:description', u'Gloucester Park looking north'), (u'tns:offline', u'false'), (u'tns:underMaintenance', u'false'), (u'tns:imageUrl', u'http://www.trafficnz.info/camera/201.jpg'), (u'tns:viewUrl', u'http://www.trafficnz.info/camera/view/201'), (u'tns:mapx', u'0'), (u'tns:mapy', u'0')]), OrderedDict([(u'tns:id', u'202'), (u'tns:name', u'SH20 7 Onehunga'), (u'tns:description', u'Onehunga wharf looking north'), (u'tns:offline', u'false'), (u'tns:underMaintenance', u'false'), (u'tns:imageUrl', u'http://www.trafficnz.info/camera/202.jpg'), (u'tns:viewUrl', u'http://www.trafficnz.info/camera/view/202'), (u'tns:mapx', u'0'), (u'tns:mapy', u'0')]), OrderedDict([(u'tns:id', u'203'), (u'tns:name', u'SH20 8 Rimu Rd'), (u'tns:description', u'Rimu Rd looking north'), (u'tns:offline', u'false'), (u'tns:underMaintenance', u'false'), (u'tns:imageUrl', u'http://www.trafficnz.info/camera/203.jpg'), (u'tns:viewUrl', u'http://www.trafficnz.info/camera/view/203'), (u'tns:mapx', u'0'), (u'tns:mapy', u'0')]), OrderedDict([(u'tns:id', u'204'), (u'tns:name', u'SH20 9 Crawford Ave'), (u'tns:description', u'Crawford Ave looking north'), (u'tns:offline', u'false'), (u'tns:underMaintenance', u'false'), (u'tns:imageUrl', u'http://www.trafficnz.info/camera/204.jpg'), (u'tns:viewUrl', u'http://www.trafficnz.info/camera/view/204'), (u'tns:mapx', u'0'), (u'tns:mapy', u'0')]), OrderedDict([(u'tns:id', u'205'), (u'tns:name', u'SH20 Coronation Rd'), (u'tns:description', u'Coronation Rd looking east'), (u'tns:offline', u'false'), (u'tns:underMaintenance', u'false'), (u'tns:imageUrl', u'http://www.trafficnz.info/camera/205.jpg'), (u'tns:viewUrl', u'http://www.trafficnz.info/camera/view/205'), (u'tns:mapx', u'0'), (u'tns:mapy', u'0')]), OrderedDict([(u'tns:id', u'206'), (u'tns:name', u'SH20 11 Puhinui Rd'), (u'tns:description', u'Puhinui road interchange looking south'), (u'tns:offline', u'false'), (u'tns:underMaintenance', u'false'), (u'tns:imageUrl', u'http://www.trafficnz.info/camera/206.jpg'), (u'tns:viewUrl', u'http://www.trafficnz.info/camera/view/206'), (u'tns:mapx', u'0'), (u'tns:mapy', u'0')]), OrderedDict([(u'tns:id', u'207'), (u'tns:name', u'SH20 12 Nesdale Road'), (u'tns:description', u'Nesdale Rd looking east'), (u'tns:offline', u'false'), (u'tns:underMaintenance', u'false'), (u'tns:imageUrl', u'http://www.trafficnz.info/camera/207.jpg'), (u'tns:viewUrl', u'http://www.trafficnz.info/camera/view/207'), (u'tns:mapx', u'0'), (u'tns:mapy', u'0')]), OrderedDict([(u'tns:id', u'208'), (u'tns:name', u'SH20 13 Plunket Ave'), (u'tns:description', u'Plunket Ave looking south'), (u'tns:offline', u'false'), (u'tns:underMaintenance', u'false'), (u'tns:imageUrl', u'http://www.trafficnz.info/camera/208.jpg'), (u'tns:viewUrl', u'http://www.trafficnz.info/camera/view/208'), (u'tns:mapx', u'0'), (u'tns:mapy', u'0')]), OrderedDict([(u'tns:id', u'209'), (u'tns:name', u'SH20 14 Lambie Drive'), (u'tns:description', u'Lambie Drive looking south'), (u'tns:offline', u'false'), (u'tns:underMaintenance', u'false'), (u'tns:imageUrl', u'http://www.trafficnz.info/camera/209.jpg'), (u'tns:viewUrl', u'http://www.trafficnz.info/camera/view/209'), (u'tns:mapx', u'0'), (u'tns:mapy', u'0')]), OrderedDict([(u'tns:id', u'210'), (u'tns:name', u'SH20 15 Barrowcliffe'), (u'tns:description', u'Barrowcliffe Place looking west'), (u'tns:offline', u'false'), (u'tns:underMaintenance', u'false'), (u'tns:imageUrl', u'http://www.trafficnz.info/camera/210.jpg'), (u'tns:viewUrl', u'http://www.trafficnz.info/camera/view/210'), (u'tns:mapx', u'0'), (u'tns:mapy', u'0')]), OrderedDict([(u'tns:id', u'211'), (u'tns:name', u'SH20 16 Great South'), (u'tns:description', u'Great South Rd Looking westbound'), (u'tns:offline', u'false'), (u'tns:underMaintenance', u'false'), (u'tns:imageUrl', u'http://www.trafficnz.info/camera/211.jpg'), (u'tns:viewUrl', u'http://www.trafficnz.info/camera/view/211'), (u'tns:mapx', u'0'), (u'tns:mapy', u'0')])])])\n"
       ]
      }
     ],
     "prompt_number": 280
    },
    {
     "cell_type": "code",
     "collapsed": false,
     "input": [
      "dakey.im_self"
     ],
     "language": "python",
     "metadata": {},
     "outputs": [
      {
       "output_type": "pyout",
       "prompt_number": 281,
       "text": [
        "OrderedDict([(u'tns:getCamerasResponse', OrderedDict([(u'@xmlns:rem', u'http://remote.service.callcenter.nzta.govt.nz'), (u'@xmlns:tns', u'https://infoconnect.highwayinfo.govt.nz/schemas/camera'), (u'@xmlns:xsd', u'http://www.w3.org/2001/XMLSchema'), (u'@xmlns:xsi', u'http://www.w3.org/2001/XMLSchema-instance'), (u'tns:camera', [OrderedDict([(u'tns:id', u'130'), (u'tns:name', u'SH16 1 Bond St'), (u'tns:description', u'Bond St looking east'), (u'tns:offline', u'false'), (u'tns:underMaintenance', u'false'), (u'tns:imageUrl', u'http://www.trafficnz.info/camera/130.jpg'), (u'tns:viewUrl', u'http://www.trafficnz.info/camera/view/130'), (u'tns:mapx', u'142'), (u'tns:mapy', u'229'), (u'tns:congestionLocation', [OrderedDict([(u'tns:name', u'St Lukes Rd - Newton Rd'), (u'tns:direction', u'Eastbound'), (u'tns:congestion', u'Free Flow')]), OrderedDict([(u'tns:name', u'Newton Rd - St Lukes Rd'), (u'tns:direction', u'Westbound'), (u'tns:congestion', u'Free Flow')])])]), OrderedDict([(u'tns:id', u'140'), (u'tns:name', u'SH16 2 Gt North Rd'), (u'tns:description', u'Gt North Road looking west'), (u'tns:offline', u'false'), (u'tns:underMaintenance', u'false'), (u'tns:imageUrl', u'http://www.trafficnz.info/camera/140.jpg'), (u'tns:viewUrl', u'http://www.trafficnz.info/camera/view/140'), (u'tns:mapx', u'113'), (u'tns:mapy', u'232'), (u'tns:congestionLocation', [OrderedDict([(u'tns:name', u'Rosebank Rd - Great Nth Rd Waterview'), (u'tns:direction', u'Eastbound'), (u'tns:congestion', u'Free Flow')]), OrderedDict([(u'tns:name', u'Great Nth Rd Waterview - Rosebank Rd'), (u'tns:direction', u'Westbound'), (u'tns:congestion', u'Free Flow')])])]), OrderedDict([(u'tns:id', u'150'), (u'tns:name', u'SH16 3 Te Atatu Rd'), (u'tns:description', u'Te Atatu Road looking east'), (u'tns:offline', u'false'), (u'tns:underMaintenance', u'false'), (u'tns:imageUrl', u'http://www.trafficnz.info/camera/150.jpg'), (u'tns:viewUrl', u'http://www.trafficnz.info/camera/view/150'), (u'tns:mapx', u'70'), (u'tns:mapy', u'216'), (u'tns:congestionLocation', [OrderedDict([(u'tns:name', u'Te Atatu Rd - Rosebank Rd'), (u'tns:direction', u'Eastbound'), (u'tns:congestion', u'Free Flow')]), OrderedDict([(u'tns:name', u'Rosebank Rd - Te Atatu Rd'), (u'tns:direction', u'Westbound'), (u'tns:congestion', u'Free Flow')])])]), OrderedDict([(u'tns:id', u'160'), (u'tns:name', u'SH16 4 Lincoln Rd E'), (u'tns:description', u'Lincoln Rd  looking west'), (u'tns:offline', u'false'), (u'tns:underMaintenance', u'false'), (u'tns:imageUrl', u'http://www.trafficnz.info/camera/160.jpg'), (u'tns:viewUrl', u'http://www.trafficnz.info/camera/view/160'), (u'tns:mapx', u'52'), (u'tns:mapy', u'207'), (u'tns:congestionLocation', [OrderedDict([(u'tns:name', u'Te Atatu Rd - Lincoln Rd'), (u'tns:direction', u'Westbound'), (u'tns:congestion', u'Free Flow')]), OrderedDict([(u'tns:name', u'Lincoln Rd - Te Atatu Rd'), (u'tns:direction', u'Eastbound'), (u'tns:congestion', u'Free Flow')])])]), OrderedDict([(u'tns:id', u'170'), (u'tns:name', u'SH16 5 Lincoln Rd W'), (u'tns:description', u'Lincoln Rd looking east'), (u'tns:offline', u'false'), (u'tns:underMaintenance', u'false'), (u'tns:imageUrl', u'http://www.trafficnz.info/camera/170.jpg'), (u'tns:viewUrl', u'http://www.trafficnz.info/camera/view/170'), (u'tns:mapx', u'35'), (u'tns:mapy', u'207'), (u'tns:congestionLocation', [OrderedDict([(u'tns:name', u'Lincoln Rd - Royal Rd'), (u'tns:direction', u'Westbound'), (u'tns:congestion', u'Free Flow')]), OrderedDict([(u'tns:name', u'Royal Rd - Lincoln Rd'), (u'tns:direction', u'Eastbound'), (u'tns:congestion', u'Free Flow')])])]), OrderedDict([(u'tns:id', u'270'), (u'tns:name', u'SH16 6 Hobsonville W'), (u'tns:description', u'Hobsonville looking West towards Kumeu'), (u'tns:offline', u'false'), (u'tns:underMaintenance', u'false'), (u'tns:imageUrl', u'http://www.trafficnz.info/camera/270.jpg'), (u'tns:viewUrl', u'http://www.trafficnz.info/camera/view/270'), (u'tns:mapx', u'0'), (u'tns:mapy', u'0')]), OrderedDict([(u'tns:id', u'271'), (u'tns:name', u'SH16 7 Hobsonville E'), (u'tns:description', u'Hobsonville Road looking East'), (u'tns:offline', u'false'), (u'tns:underMaintenance', u'false'), (u'tns:imageUrl', u'http://www.trafficnz.info/camera/271.jpg'), (u'tns:viewUrl', u'http://www.trafficnz.info/camera/view/271'), (u'tns:mapx', u'0'), (u'tns:mapy', u'0')]), OrderedDict([(u'tns:id', u'221'), (u'tns:name', u'SH18 Trig Rd'), (u'tns:description', u'Trig Rd looking west'), (u'tns:offline', u'false'), (u'tns:underMaintenance', u'false'), (u'tns:imageUrl', u'http://www.trafficnz.info/camera/221.jpg'), (u'tns:viewUrl', u'http://www.trafficnz.info/camera/view/221'), (u'tns:mapx', u'0'), (u'tns:mapy', u'0')]), OrderedDict([(u'tns:id', u'222'), (u'tns:name', u'SH18 Waiahora Creek'), (u'tns:description', u'Upper harbour motorway looking west'), (u'tns:offline', u'false'), (u'tns:underMaintenance', u'false'), (u'tns:imageUrl', u'http://www.trafficnz.info/camera/222.jpg'), (u'tns:viewUrl', u'http://www.trafficnz.info/camera/view/222'), (u'tns:mapx', u'0'), (u'tns:mapy', u'0')]), OrderedDict([(u'tns:id', u'223'), (u'tns:name', u'SH18 Brigham Creek'), (u'tns:description', u'Upper harbour motorway looking East'), (u'tns:offline', u'false'), (u'tns:underMaintenance', u'false'), (u'tns:imageUrl', u'http://www.trafficnz.info/camera/223.jpg'), (u'tns:viewUrl', u'http://www.trafficnz.info/camera/view/223'), (u'tns:mapx', u'0'), (u'tns:mapy', u'0')]), OrderedDict([(u'tns:id', u'224'), (u'tns:name', u'SH18 Sinton Rd'), (u'tns:description', u'Upper harbour motorway looking west'), (u'tns:offline', u'false'), (u'tns:underMaintenance', u'false'), (u'tns:imageUrl', u'http://www.trafficnz.info/camera/224.jpg'), (u'tns:viewUrl', u'http://www.trafficnz.info/camera/view/224'), (u'tns:mapx', u'0'), (u'tns:mapy', u'0')]), OrderedDict([(u'tns:id', u'225'), (u'tns:name', u'SH18 Squadron Dr'), (u'tns:description', u'Upper harbour motorway looking east'), (u'tns:offline', u'false'), (u'tns:underMaintenance', u'false'), (u'tns:imageUrl', u'http://www.trafficnz.info/camera/225.jpg'), (u'tns:viewUrl', u'http://www.trafficnz.info/camera/view/225'), (u'tns:mapx', u'0'), (u'tns:mapy', u'0')]), OrderedDict([(u'tns:id', u'171'), (u'tns:name', u'SH18 6 Tauhinu BRG'), (u'tns:description', u'Tauhinu bridge looking east'), (u'tns:offline', u'false'), (u'tns:underMaintenance', u'false'), (u'tns:imageUrl', u'http://www.trafficnz.info/camera/171.jpg'), (u'tns:viewUrl', u'http://www.trafficnz.info/camera/view/171'), (u'tns:mapx', u'60'), (u'tns:mapy', u'207')]), OrderedDict([(u'tns:id', u'172'), (u'tns:name', u'SH18 7 Albany HWY'), (u'tns:description', u'Albany Highway Looking East'), (u'tns:offline', u'false'), (u'tns:underMaintenance', u'false'), (u'tns:imageUrl', u'http://www.trafficnz.info/camera/172.jpg'), (u'tns:viewUrl', u'http://www.trafficnz.info/camera/view/172'), (u'tns:mapx', u'35'), (u'tns:mapy', u'207')]), OrderedDict([(u'tns:id', u'173'), (u'tns:name', u'SH18 8 Tauhinu East'), (u'tns:description', u'Tauhinu East Looking East'), (u'tns:offline', u'false'), (u'tns:underMaintenance', u'false'), (u'tns:imageUrl', u'http://www.trafficnz.info/camera/173.jpg'), (u'tns:viewUrl', u'http://www.trafficnz.info/camera/view/173'), (u'tns:mapx', u'35'), (u'tns:mapy', u'207')]), OrderedDict([(u'tns:id', u'174'), (u'tns:name', u'SH18 9 Paul Matthews'), (u'tns:description', u'Paul matthews looking east'), (u'tns:offline', u'false'), (u'tns:underMaintenance', u'false'), (u'tns:imageUrl', u'http://www.trafficnz.info/camera/174.jpg'), (u'tns:viewUrl', u'http://www.trafficnz.info/camera/view/174'), (u'tns:mapx', u'35'), (u'tns:mapy', u'207')]), OrderedDict([(u'tns:id', u'175'), (u'tns:name', u'SH18 10 Greenhithe'), (u'tns:description', u'Greenhithe Rd looking east'), (u'tns:offline', u'false'), (u'tns:underMaintenance', u'false'), (u'tns:imageUrl', u'http://www.trafficnz.info/camera/175.jpg'), (u'tns:viewUrl', u'http://www.trafficnz.info/camera/view/175'), (u'tns:mapx', u'35'), (u'tns:mapy', u'207')]), OrderedDict([(u'tns:id', u'176'), (u'tns:name', u'SH18 11 George Deane'), (u'tns:description', u'George deane looking east'), (u'tns:offline', u'false'), (u'tns:underMaintenance', u'false'), (u'tns:imageUrl', u'http://www.trafficnz.info/camera/176.jpg'), (u'tns:viewUrl', u'http://www.trafficnz.info/camera/view/176'), (u'tns:mapx', u'35'), (u'tns:mapy', u'207')]), OrderedDict([(u'tns:id', u'177'), (u'tns:name', u'SH18 12 Upper Hbr CW'), (u'tns:description', u'Upper harbour looking east'), (u'tns:offline', u'false'), (u'tns:underMaintenance', u'false'), (u'tns:imageUrl', u'http://www.trafficnz.info/camera/177.jpg'), (u'tns:viewUrl', u'http://www.trafficnz.info/camera/view/177'), (u'tns:mapx', u'35'), (u'tns:mapy', u'207')]), OrderedDict([(u'tns:id', u'178'), (u'tns:name', u'SH18 13 Wicklam Lane'), (u'tns:description', u'Wicklam Lane looking west'), (u'tns:offline', u'false'), (u'tns:underMaintenance', u'false'), (u'tns:imageUrl', u'http://www.trafficnz.info/camera/178.jpg'), (u'tns:viewUrl', u'http://www.trafficnz.info/camera/view/178'), (u'tns:mapx', u'35'), (u'tns:mapy', u'207')]), OrderedDict([(u'tns:id', u'10'), (u'tns:name', u'SH1 1 Greville Rd'), (u'tns:description', u'Greville road looking south'), (u'tns:offline', u'false'), (u'tns:underMaintenance', u'false'), (u'tns:imageUrl', u'http://www.trafficnz.info/camera/10.jpg'), (u'tns:viewUrl', u'http://www.trafficnz.info/camera/view/10'), (u'tns:mapx', u'125'), (u'tns:mapy', u'71'), (u'tns:congestionLocation', [OrderedDict([(u'tns:name', u'Upper Harb Hwy - Oteha Valley Rd'), (u'tns:direction', u'Northbound'), (u'tns:congestion', u'Free Flow')]), OrderedDict([(u'tns:name', u'Oteha Valley Rd - Upper Harb Hwy'), (u'tns:direction', u'Southbound'), (u'tns:congestion', u'Free Flow')])])]), OrderedDict([(u'tns:id', u'20'), (u'tns:name', u'SH1 2 Tristram Ave'), (u'tns:description', u'Tristram Avenue looking south'), (u'tns:offline', u'false'), (u'tns:underMaintenance', u'false'), (u'tns:imageUrl', u'http://www.trafficnz.info/camera/20.jpg'), (u'tns:viewUrl', u'http://www.trafficnz.info/camera/view/20'), (u'tns:mapx', u'148'), (u'tns:mapy', u'118'), (u'tns:congestionLocation', [OrderedDict([(u'tns:name', u'Tristram Ave - Esmonde Rd'), (u'tns:direction', u'Southbound'), (u'tns:congestion', u'Free Flow')]), OrderedDict([(u'tns:name', u'Esmonde Rd - Tristram Ave'), (u'tns:direction', u'Northbound'), (u'tns:congestion', u'Free Flow')])])]), OrderedDict([(u'tns:id', u'30'), (u'tns:name', u'SH1 3 Northcote Rd'), (u'tns:description', u'Northcote Rd looking north'), (u'tns:offline', u'false'), (u'tns:underMaintenance', u'false'), (u'tns:imageUrl', u'http://www.trafficnz.info/camera/30.jpg'), (u'tns:viewUrl', u'http://www.trafficnz.info/camera/view/30'), (u'tns:mapx', u'156'), (u'tns:mapy', u'141'), (u'tns:congestionLocation', [OrderedDict([(u'tns:name', u'Tristram Ave - Esmonde Rd'), (u'tns:direction', u'Southbound'), (u'tns:congestion', u'Free Flow')]), OrderedDict([(u'tns:name', u'Esmonde Rd - Tristram Ave'), (u'tns:direction', u'Northbound'), (u'tns:congestion', u'Free Flow')])])]), OrderedDict([(u'tns:id', u'40'), (u'tns:name', u'SH1 4 Esmonde Rd'), (u'tns:description', u'Esmonde Rd looking south'), (u'tns:offline', u'false'), (u'tns:underMaintenance', u'false'), (u'tns:imageUrl', u'http://www.trafficnz.info/camera/40.jpg'), (u'tns:viewUrl', u'http://www.trafficnz.info/camera/view/40'), (u'tns:mapx', u'178'), (u'tns:mapy', u'146'), (u'tns:congestionLocation', [OrderedDict([(u'tns:name', u'Esmonde Rd - Onewa'), (u'tns:direction', u'Southbound'), (u'tns:congestion', u'Free Flow')]), OrderedDict([(u'tns:name', u'Stafford Rd - Esmonde Rd'), (u'tns:direction', u'Northbound'), (u'tns:congestion', u'Free Flow')])])]), OrderedDict([(u'tns:id', u'50'), (u'tns:name', u'SH1 5 Onewa Rd'), (u'tns:description', u'Onewa Rd looking south'), (u'tns:offline', u'false'), (u'tns:underMaintenance', u'false'), (u'tns:imageUrl', u'http://www.trafficnz.info/camera/50.jpg'), (u'tns:viewUrl', u'http://www.trafficnz.info/camera/view/50'), (u'tns:mapx', u'157'), (u'tns:mapy', u'162'), (u'tns:congestionLocation', [OrderedDict([(u'tns:name', u'Harbour Bridge'), (u'tns:direction', u'Southbound'), (u'tns:congestion', u'Free Flow')]), OrderedDict([(u'tns:name', u'Stafford Rd - Esmonde Rd'), (u'tns:direction', u'Northbound'), (u'tns:congestion', u'Free Flow')])])]), OrderedDict([(u'tns:id', u'215'), (u'tns:name', u'SH1 Alpurt Web cam'), (u'tns:description', u'Johnstone hill tunnels looking south'), (u'tns:offline', u'false'), (u'tns:underMaintenance', u'false'), (u'tns:imageUrl', u'http://www.trafficnz.info/camera/215.jpg'), (u'tns:viewUrl', u'http://www.trafficnz.info/camera/view/215'), (u'tns:mapx', u'0'), (u'tns:mapy', u'0')]), OrderedDict([(u'tns:id', u'212'), (u'tns:name', u'SH1 17 Goodwood'), (u'tns:description', u'Goodwood heights looking south'), (u'tns:offline', u'false'), (u'tns:underMaintenance', u'false'), (u'tns:imageUrl', u'http://www.trafficnz.info/camera/212.jpg'), (u'tns:viewUrl', u'http://www.trafficnz.info/camera/view/212'), (u'tns:mapx', u'0'), (u'tns:mapy', u'0')]), OrderedDict([(u'tns:id', u'214'), (u'tns:name', u'SH1 18 Rainbows End'), (u'tns:description', u'Rainbows End looking north at SH1 and SH20 link'), (u'tns:offline', u'false'), (u'tns:underMaintenance', u'false'), (u'tns:imageUrl', u'http://www.trafficnz.info/camera/214.jpg'), (u'tns:viewUrl', u'http://www.trafficnz.info/camera/view/214'), (u'tns:mapx', u'0'), (u'tns:mapy', u'0')]), OrderedDict([(u'tns:id', u'60'), (u'tns:name', u'SH1 1 CMJ'), (u'tns:description', u'Central motorway junction looking south at the link between state highways 1 and 16'), (u'tns:offline', u'false'), (u'tns:underMaintenance', u'false'), (u'tns:imageUrl', u'http://www.trafficnz.info/camera/60.jpg'), (u'tns:viewUrl', u'http://www.trafficnz.info/camera/view/60'), (u'tns:mapx', u'162'), (u'tns:mapy', u'217'), (u'tns:congestionLocation', OrderedDict([(u'tns:name', u'Nelson St - Gillies Ave'), (u'tns:direction', u'Southbound'), (u'tns:congestion', u'Free Flow')]))]), OrderedDict([(u'tns:id', u'70'), (u'tns:name', u'SH1 2 Market Rd'), (u'tns:description', u'Southern motorway at newmarket looking south towards the Market  Rd overbridge'), (u'tns:offline', u'false'), (u'tns:underMaintenance', u'false'), (u'tns:imageUrl', u'http://www.trafficnz.info/camera/70.jpg'), (u'tns:viewUrl', u'http://www.trafficnz.info/camera/view/70'), (u'tns:mapx', u'183'), (u'tns:mapy', u'241'), (u'tns:congestionLocation', [OrderedDict([(u'tns:name', u'Gillies Ave - Greenlane'), (u'tns:direction', u'Southbound'), (u'tns:congestion', u'Free Flow')]), OrderedDict([(u'tns:name', u'Greenlane - Gillies Ave'), (u'tns:direction', u'Northbound'), (u'tns:congestion', u'Free Flow')])])]), OrderedDict([(u'tns:id', u'80'), (u'tns:name', u'SH1 3 Greenlane Rd'), (u'tns:description', u'Greenlane Rd looking north'), (u'tns:offline', u'false'), (u'tns:underMaintenance', u'false'), (u'tns:imageUrl', u'http://www.trafficnz.info/camera/80.jpg'), (u'tns:viewUrl', u'http://www.trafficnz.info/camera/view/80'), (u'tns:mapx', u'198'), (u'tns:mapy', u'262'), (u'tns:congestionLocation', [OrderedDict([(u'tns:name', u'Gillies Ave - Greenlane'), (u'tns:direction', u'Southbound'), (u'tns:congestion', u'Free Flow')]), OrderedDict([(u'tns:name', u'Greenlane - Gillies Ave'), (u'tns:direction', u'Northbound'), (u'tns:congestion', u'Free Flow')])])]), OrderedDict([(u'tns:id', u'90'), (u'tns:name', u'SH1 4 SE Highway'), (u'tns:description', u'South eastern highway looking south'), (u'tns:offline', u'false'), (u'tns:underMaintenance', u'false'), (u'tns:imageUrl', u'http://www.trafficnz.info/camera/90.jpg'), (u'tns:viewUrl', u'http://www.trafficnz.info/camera/view/90'), (u'tns:mapx', u'219'), (u'tns:mapy', u'278'), (u'tns:congestionLocation', [OrderedDict([(u'tns:name', u'Mt Wellington Hway - SE Highway'), (u'tns:direction', u'Northbound'), (u'tns:congestion', u'Free Flow')]), OrderedDict([(u'tns:name', u'SE Highway - Mt Wellington Hway'), (u'tns:direction', u'Southbound'), (u'tns:congestion', u'Moderate')])])]), OrderedDict([(u'tns:id', u'100'), (u'tns:name', u'SH1 5 Redoubt Rd'), (u'tns:description', u'Redoubt Rd looking north'), (u'tns:offline', u'false'), (u'tns:underMaintenance', u'false'), (u'tns:imageUrl', u'http://www.trafficnz.info/camera/100.jpg'), (u'tns:viewUrl', u'http://www.trafficnz.info/camera/view/100'), (u'tns:mapx', u'254'), (u'tns:mapy', u'341'), (u'tns:congestionLocation', [OrderedDict([(u'tns:name', u'Redoubt Rd - Hill Rd'), (u'tns:direction', u'Southbound'), (u'tns:congestion', u'Free Flow')]), OrderedDict([(u'tns:name', u'Hill Rd - Redoubt Rd'), (u'tns:direction', u'Northbound'), (u'tns:congestion', u'Free Flow')])])]), OrderedDict([(u'tns:id', u'110'), (u'tns:name', u'SH1 6 Bairds Rd'), (u'tns:description', u'Bairds Rd looking north'), (u'tns:offline', u'false'), (u'tns:underMaintenance', u'false'), (u'tns:imageUrl', u'http://www.trafficnz.info/camera/110.jpg'), (u'tns:viewUrl', u'http://www.trafficnz.info/camera/view/110'), (u'tns:mapx', u'275'), (u'tns:mapy', u'383'), (u'tns:congestionLocation', [OrderedDict([(u'tns:name', u'East Tamaki Rd - Princes St'), (u'tns:direction', u'Northbound'), (u'tns:congestion', u'Free Flow')]), OrderedDict([(u'tns:name', u'Princes St - East Tamaki Rd'), (u'tns:direction', u'Southbound'), (u'tns:congestion', u'Free Flow')])])]), OrderedDict([(u'tns:id', u'120'), (u'tns:name', u'SH1 7 Alfriston Rd'), (u'tns:description', u'Alfriston Rd looking north'), (u'tns:offline', u'false'), (u'tns:underMaintenance', u'false'), (u'tns:imageUrl', u'http://www.trafficnz.info/camera/120.jpg'), (u'tns:viewUrl', u'http://www.trafficnz.info/camera/view/120'), (u'tns:mapx', u'291'), (u'tns:mapy', u'411'), (u'tns:congestionLocation', [OrderedDict([(u'tns:name', u'Takanini - Hill Rd'), (u'tns:direction', u'Northbound'), (u'tns:congestion', u'Free Flow')]), OrderedDict([(u'tns:name', u'Hill Rd - Takanini'), (u'tns:direction', u'Southbound'), (u'tns:congestion', u'Free Flow')])])]), OrderedDict([(u'tns:id', u'121'), (u'tns:name', u'SH1 8 Takanini'), (u'tns:description', u'Takanini looking south'), (u'tns:offline', u'false'), (u'tns:underMaintenance', u'false'), (u'tns:imageUrl', u'http://www.trafficnz.info/camera/121.jpg'), (u'tns:viewUrl', u'http://www.trafficnz.info/camera/view/121'), (u'tns:mapx', u'290'), (u'tns:mapy', u'380')]), OrderedDict([(u'tns:id', u'122'), (u'tns:name', u'SH1 9 Walter Streven'), (u'tns:description', u'Walter-Strevens Drive looking south'), (u'tns:offline', u'false'), (u'tns:underMaintenance', u'false'), (u'tns:imageUrl', u'http://www.trafficnz.info/camera/122.jpg'), (u'tns:viewUrl', u'http://www.trafficnz.info/camera/view/122'), (u'tns:mapx', u'285'), (u'tns:mapy', u'400')]), OrderedDict([(u'tns:id', u'123'), (u'tns:name', u'SH1 10 Pahurehure'), (u'tns:description', u'Pahurehure looking south'), (u'tns:offline', u'false'), (u'tns:underMaintenance', u'false'), (u'tns:imageUrl', u'http://www.trafficnz.info/camera/123.jpg'), (u'tns:viewUrl', u'http://www.trafficnz.info/camera/view/123'), (u'tns:mapx', u'265'), (u'tns:mapy', u'410')]), OrderedDict([(u'tns:id', u'124'), (u'tns:name', u'SH1 11 Rushgreen Ave'), (u'tns:description', u'Rushgreen Ave looking south'), (u'tns:offline', u'false'), (u'tns:underMaintenance', u'false'), (u'tns:imageUrl', u'http://www.trafficnz.info/camera/124.jpg'), (u'tns:viewUrl', u'http://www.trafficnz.info/camera/view/124'), (u'tns:mapx', u'285'), (u'tns:mapy', u'420')]), OrderedDict([(u'tns:id', u'125'), (u'tns:name', u'SH1 12 Park Estate'), (u'tns:description', u'Park estate looking south'), (u'tns:offline', u'false'), (u'tns:underMaintenance', u'false'), (u'tns:imageUrl', u'http://www.trafficnz.info/camera/125.jpg'), (u'tns:viewUrl', u'http://www.trafficnz.info/camera/view/125'), (u'tns:mapx', u'300'), (u'tns:mapy', u'430')]), OrderedDict([(u'tns:id', u'126'), (u'tns:name', u'SH1 13 Slippery Crk'), (u'tns:description', u'Slippery Creek looking  south'), (u'tns:offline', u'false'), (u'tns:underMaintenance', u'false'), (u'tns:imageUrl', u'http://www.trafficnz.info/camera/126.jpg'), (u'tns:viewUrl', u'http://www.trafficnz.info/camera/view/126'), (u'tns:mapx', u'286'), (u'tns:mapy', u'445')]), OrderedDict([(u'tns:id', u'274'), (u'tns:name', u'SH20A Montgomerie Rd'), (u'tns:description', u'Montgomerie Rd looking east'), (u'tns:offline', u'false'), (u'tns:underMaintenance', u'false'), (u'tns:imageUrl', u'http://www.trafficnz.info/camera/274.jpg'), (u'tns:viewUrl', u'http://www.trafficnz.info/camera/view/274'), (u'tns:mapx', u'0'), (u'tns:mapy', u'0')]), OrderedDict([(u'tns:id', u'275'), (u'tns:name', u'SH20A Kirkbride Road'), (u'tns:description', u'Kirkbride Rd looking east'), (u'tns:offline', u'false'), (u'tns:underMaintenance', u'false'), (u'tns:imageUrl', u'http://www.trafficnz.info/camera/275.jpg'), (u'tns:viewUrl', u'http://www.trafficnz.info/camera/view/275'), (u'tns:mapx', u'0'), (u'tns:mapy', u'0')]), OrderedDict([(u'tns:id', u'276'), (u'tns:name', u'SH20A Bader Drive'), (u'tns:description', u'Bader Drive looking east'), (u'tns:offline', u'false'), (u'tns:underMaintenance', u'false'), (u'tns:imageUrl', u'http://www.trafficnz.info/camera/276.jpg'), (u'tns:viewUrl', u'http://www.trafficnz.info/camera/view/276'), (u'tns:mapx', u'0'), (u'tns:mapy', u'0')]), OrderedDict([(u'tns:id', u'272'), (u'tns:name', u'SH20B Prices Road'), (u'tns:description', u'Prices Rd looking east'), (u'tns:offline', u'false'), (u'tns:underMaintenance', u'false'), (u'tns:imageUrl', u'http://www.trafficnz.info/camera/272.jpg'), (u'tns:viewUrl', u'http://www.trafficnz.info/camera/view/272'), (u'tns:mapx', u'0'), (u'tns:mapy', u'0')]), OrderedDict([(u'tns:id', u'273'), (u'tns:name', u'SH20B Waokauri Creek'), (u'tns:description', u'Waokauri Creek looking west'), (u'tns:offline', u'false'), (u'tns:underMaintenance', u'false'), (u'tns:imageUrl', u'http://www.trafficnz.info/camera/273.jpg'), (u'tns:viewUrl', u'http://www.trafficnz.info/camera/view/273'), (u'tns:mapx', u'0'), (u'tns:mapy', u'0')]), OrderedDict([(u'tns:id', u'190'), (u'tns:name', u'SH20 1 Queenstown Rd'), (u'tns:description', u'Queenstown Rd looking south'), (u'tns:offline', u'false'), (u'tns:underMaintenance', u'false'), (u'tns:imageUrl', u'http://www.trafficnz.info/camera/190.jpg'), (u'tns:viewUrl', u'http://www.trafficnz.info/camera/view/190'), (u'tns:mapx', u'35'), (u'tns:mapy', u'207')]), OrderedDict([(u'tns:id', u'191'), (u'tns:name', u'SH20 2 Hillsborough'), (u'tns:description', u'Hillsborough Rd looking south'), (u'tns:offline', u'false'), (u'tns:underMaintenance', u'false'), (u'tns:imageUrl', u'http://www.trafficnz.info/camera/191.jpg'), (u'tns:viewUrl', u'http://www.trafficnz.info/camera/view/191'), (u'tns:mapx', u'35'), (u'tns:mapy', u'207')]), OrderedDict([(u'tns:id', u'192'), (u'tns:name', u'SH20 3 Melrose'), (u'tns:description', u'Melrose looking south'), (u'tns:offline', u'false'), (u'tns:underMaintenance', u'false'), (u'tns:imageUrl', u'http://www.trafficnz.info/camera/192.jpg'), (u'tns:viewUrl', u'http://www.trafficnz.info/camera/view/192'), (u'tns:mapx', u'35'), (u'tns:mapy', u'207')]), OrderedDict([(u'tns:id', u'193'), (u'tns:name', u'SH20 4 Dominion Rd'), (u'tns:description', u'Dominion Rd looking south'), (u'tns:offline', u'false'), (u'tns:underMaintenance', u'false'), (u'tns:imageUrl', u'http://www.trafficnz.info/camera/193.jpg'), (u'tns:viewUrl', u'http://www.trafficnz.info/camera/view/193'), (u'tns:mapx', u'35'), (u'tns:mapy', u'207')]), OrderedDict([(u'tns:id', u'194'), (u'tns:name', u'SH20 5 Sandringham'), (u'tns:description', u'Sandringham looking South'), (u'tns:offline', u'false'), (u'tns:underMaintenance', u'false'), (u'tns:imageUrl', u'http://www.trafficnz.info/camera/194.jpg'), (u'tns:viewUrl', u'http://www.trafficnz.info/camera/view/194'), (u'tns:mapx', u'35'), (u'tns:mapy', u'207')]), OrderedDict([(u'tns:id', u'201'), (u'tns:name', u'SH20 6 Gloucester Pk'), (u'tns:description', u'Gloucester Park looking north'), (u'tns:offline', u'false'), (u'tns:underMaintenance', u'false'), (u'tns:imageUrl', u'http://www.trafficnz.info/camera/201.jpg'), (u'tns:viewUrl', u'http://www.trafficnz.info/camera/view/201'), (u'tns:mapx', u'0'), (u'tns:mapy', u'0')]), OrderedDict([(u'tns:id', u'202'), (u'tns:name', u'SH20 7 Onehunga'), (u'tns:description', u'Onehunga wharf looking north'), (u'tns:offline', u'false'), (u'tns:underMaintenance', u'false'), (u'tns:imageUrl', u'http://www.trafficnz.info/camera/202.jpg'), (u'tns:viewUrl', u'http://www.trafficnz.info/camera/view/202'), (u'tns:mapx', u'0'), (u'tns:mapy', u'0')]), OrderedDict([(u'tns:id', u'203'), (u'tns:name', u'SH20 8 Rimu Rd'), (u'tns:description', u'Rimu Rd looking north'), (u'tns:offline', u'false'), (u'tns:underMaintenance', u'false'), (u'tns:imageUrl', u'http://www.trafficnz.info/camera/203.jpg'), (u'tns:viewUrl', u'http://www.trafficnz.info/camera/view/203'), (u'tns:mapx', u'0'), (u'tns:mapy', u'0')]), OrderedDict([(u'tns:id', u'204'), (u'tns:name', u'SH20 9 Crawford Ave'), (u'tns:description', u'Crawford Ave looking north'), (u'tns:offline', u'false'), (u'tns:underMaintenance', u'false'), (u'tns:imageUrl', u'http://www.trafficnz.info/camera/204.jpg'), (u'tns:viewUrl', u'http://www.trafficnz.info/camera/view/204'), (u'tns:mapx', u'0'), (u'tns:mapy', u'0')]), OrderedDict([(u'tns:id', u'205'), (u'tns:name', u'SH20 Coronation Rd'), (u'tns:description', u'Coronation Rd looking east'), (u'tns:offline', u'false'), (u'tns:underMaintenance', u'false'), (u'tns:imageUrl', u'http://www.trafficnz.info/camera/205.jpg'), (u'tns:viewUrl', u'http://www.trafficnz.info/camera/view/205'), (u'tns:mapx', u'0'), (u'tns:mapy', u'0')]), OrderedDict([(u'tns:id', u'206'), (u'tns:name', u'SH20 11 Puhinui Rd'), (u'tns:description', u'Puhinui road interchange looking south'), (u'tns:offline', u'false'), (u'tns:underMaintenance', u'false'), (u'tns:imageUrl', u'http://www.trafficnz.info/camera/206.jpg'), (u'tns:viewUrl', u'http://www.trafficnz.info/camera/view/206'), (u'tns:mapx', u'0'), (u'tns:mapy', u'0')]), OrderedDict([(u'tns:id', u'207'), (u'tns:name', u'SH20 12 Nesdale Road'), (u'tns:description', u'Nesdale Rd looking east'), (u'tns:offline', u'false'), (u'tns:underMaintenance', u'false'), (u'tns:imageUrl', u'http://www.trafficnz.info/camera/207.jpg'), (u'tns:viewUrl', u'http://www.trafficnz.info/camera/view/207'), (u'tns:mapx', u'0'), (u'tns:mapy', u'0')]), OrderedDict([(u'tns:id', u'208'), (u'tns:name', u'SH20 13 Plunket Ave'), (u'tns:description', u'Plunket Ave looking south'), (u'tns:offline', u'false'), (u'tns:underMaintenance', u'false'), (u'tns:imageUrl', u'http://www.trafficnz.info/camera/208.jpg'), (u'tns:viewUrl', u'http://www.trafficnz.info/camera/view/208'), (u'tns:mapx', u'0'), (u'tns:mapy', u'0')]), OrderedDict([(u'tns:id', u'209'), (u'tns:name', u'SH20 14 Lambie Drive'), (u'tns:description', u'Lambie Drive looking south'), (u'tns:offline', u'false'), (u'tns:underMaintenance', u'false'), (u'tns:imageUrl', u'http://www.trafficnz.info/camera/209.jpg'), (u'tns:viewUrl', u'http://www.trafficnz.info/camera/view/209'), (u'tns:mapx', u'0'), (u'tns:mapy', u'0')]), OrderedDict([(u'tns:id', u'210'), (u'tns:name', u'SH20 15 Barrowcliffe'), (u'tns:description', u'Barrowcliffe Place looking west'), (u'tns:offline', u'false'), (u'tns:underMaintenance', u'false'), (u'tns:imageUrl', u'http://www.trafficnz.info/camera/210.jpg'), (u'tns:viewUrl', u'http://www.trafficnz.info/camera/view/210'), (u'tns:mapx', u'0'), (u'tns:mapy', u'0')]), OrderedDict([(u'tns:id', u'211'), (u'tns:name', u'SH20 16 Great South'), (u'tns:description', u'Great South Rd Looking westbound'), (u'tns:offline', u'false'), (u'tns:underMaintenance', u'false'), (u'tns:imageUrl', u'http://www.trafficnz.info/camera/211.jpg'), (u'tns:viewUrl', u'http://www.trafficnz.info/camera/view/211'), (u'tns:mapx', u'0'), (u'tns:mapy', u'0')])])]))])"
       ]
      }
     ],
     "prompt_number": 281
    },
    {
     "cell_type": "code",
     "collapsed": false,
     "input": [
      "#opcon.read()"
     ],
     "language": "python",
     "metadata": {},
     "outputs": [],
     "prompt_number": 282
    },
    {
     "cell_type": "code",
     "collapsed": false,
     "input": [
      "print hamxml"
     ],
     "language": "python",
     "metadata": {},
     "outputs": [
      {
       "ename": "NameError",
       "evalue": "name 'hamxml' is not defined",
       "output_type": "pyerr",
       "traceback": [
        "\u001b[1;31m---------------------------------------------------------------------------\u001b[0m\n\u001b[1;31mNameError\u001b[0m                                 Traceback (most recent call last)",
        "\u001b[1;32m<ipython-input-283-dbc9bca2efc7>\u001b[0m in \u001b[0;36m<module>\u001b[1;34m()\u001b[0m\n\u001b[1;32m----> 1\u001b[1;33m \u001b[1;32mprint\u001b[0m \u001b[0mhamxml\u001b[0m\u001b[1;33m\u001b[0m\u001b[0m\n\u001b[0m",
        "\u001b[1;31mNameError\u001b[0m: name 'hamxml' is not defined"
       ]
      }
     ],
     "prompt_number": 283
    },
    {
     "cell_type": "code",
     "collapsed": false,
     "input": [
      "gitlist = []"
     ],
     "language": "python",
     "metadata": {},
     "outputs": [],
     "prompt_number": 284
    },
    {
     "cell_type": "code",
     "collapsed": false,
     "input": [
      "searchpy = g.search_repositories(theuser)"
     ],
     "language": "python",
     "metadata": {},
     "outputs": [
      {
       "ename": "AttributeError",
       "evalue": "'Github' object has no attribute 'search_repositories'",
       "output_type": "pyerr",
       "traceback": [
        "\u001b[1;31m---------------------------------------------------------------------------\u001b[0m\n\u001b[1;31mAttributeError\u001b[0m                            Traceback (most recent call last)",
        "\u001b[1;32m<ipython-input-285-e84653c19a64>\u001b[0m in \u001b[0;36m<module>\u001b[1;34m()\u001b[0m\n\u001b[1;32m----> 1\u001b[1;33m \u001b[0msearchpy\u001b[0m \u001b[1;33m=\u001b[0m \u001b[0mg\u001b[0m\u001b[1;33m.\u001b[0m\u001b[0msearch_repositories\u001b[0m\u001b[1;33m(\u001b[0m\u001b[0mtheuser\u001b[0m\u001b[1;33m)\u001b[0m\u001b[1;33m\u001b[0m\u001b[0m\n\u001b[0m",
        "\u001b[1;31mAttributeError\u001b[0m: 'Github' object has no attribute 'search_repositories'"
       ]
      }
     ],
     "prompt_number": 285
    },
    {
     "cell_type": "code",
     "collapsed": false,
     "input": [
      "typy = g.search_users(theuser)"
     ],
     "language": "python",
     "metadata": {},
     "outputs": [
      {
       "ename": "AttributeError",
       "evalue": "'Github' object has no attribute 'search_users'",
       "output_type": "pyerr",
       "traceback": [
        "\u001b[1;31m---------------------------------------------------------------------------\u001b[0m\n\u001b[1;31mAttributeError\u001b[0m                            Traceback (most recent call last)",
        "\u001b[1;32m<ipython-input-286-d684358b70b7>\u001b[0m in \u001b[0;36m<module>\u001b[1;34m()\u001b[0m\n\u001b[1;32m----> 1\u001b[1;33m \u001b[0mtypy\u001b[0m \u001b[1;33m=\u001b[0m \u001b[0mg\u001b[0m\u001b[1;33m.\u001b[0m\u001b[0msearch_users\u001b[0m\u001b[1;33m(\u001b[0m\u001b[0mtheuser\u001b[0m\u001b[1;33m)\u001b[0m\u001b[1;33m\u001b[0m\u001b[0m\n\u001b[0m",
        "\u001b[1;31mAttributeError\u001b[0m: 'Github' object has no attribute 'search_users'"
       ]
      }
     ],
     "prompt_number": 286
    },
    {
     "cell_type": "code",
     "collapsed": false,
     "input": [
      "blehgit = g.search_repositories('reddit')"
     ],
     "language": "python",
     "metadata": {},
     "outputs": [
      {
       "ename": "AttributeError",
       "evalue": "'Github' object has no attribute 'search_repositories'",
       "output_type": "pyerr",
       "traceback": [
        "\u001b[1;31m---------------------------------------------------------------------------\u001b[0m\n\u001b[1;31mAttributeError\u001b[0m                            Traceback (most recent call last)",
        "\u001b[1;32m<ipython-input-287-1a189cb0daec>\u001b[0m in \u001b[0;36m<module>\u001b[1;34m()\u001b[0m\n\u001b[1;32m----> 1\u001b[1;33m \u001b[0mblehgit\u001b[0m \u001b[1;33m=\u001b[0m \u001b[0mg\u001b[0m\u001b[1;33m.\u001b[0m\u001b[0msearch_repositories\u001b[0m\u001b[1;33m(\u001b[0m\u001b[1;34m'reddit'\u001b[0m\u001b[1;33m)\u001b[0m\u001b[1;33m\u001b[0m\u001b[0m\n\u001b[0m",
        "\u001b[1;31mAttributeError\u001b[0m: 'Github' object has no attribute 'search_repositories'"
       ]
      }
     ],
     "prompt_number": 287
    },
    {
     "cell_type": "raw",
     "metadata": {},
     "source": [
      "oh man, what have i got happening here. This started with a way of downloading repos in bulk from a user and ive started to bring in more github module. Here I am searching repositories on github for reddit. \n",
      "What things could i get it to search for?\n",
      "- list\n",
      "- search your repos on global to find similar named ones.\n",
      "- "
     ]
    },
    {
     "cell_type": "code",
     "collapsed": false,
     "input": [
      "repolis = []"
     ],
     "language": "python",
     "metadata": {},
     "outputs": [],
     "prompt_number": 288
    },
    {
     "cell_type": "code",
     "collapsed": false,
     "input": [
      "print repolis"
     ],
     "language": "python",
     "metadata": {},
     "outputs": [
      {
       "output_type": "stream",
       "stream": "stdout",
       "text": [
        "[]\n"
       ]
      }
     ],
     "prompt_number": 289
    },
    {
     "cell_type": "code",
     "collapsed": false,
     "input": [
      "for bleh in blehgit:\n",
      "    repolis.append(bleh)\n",
      "    #print bleh.full_name"
     ],
     "language": "python",
     "metadata": {},
     "outputs": [
      {
       "ename": "NameError",
       "evalue": "name 'blehgit' is not defined",
       "output_type": "pyerr",
       "traceback": [
        "\u001b[1;31m---------------------------------------------------------------------------\u001b[0m\n\u001b[1;31mNameError\u001b[0m                                 Traceback (most recent call last)",
        "\u001b[1;32m<ipython-input-290-59f642db6a33>\u001b[0m in \u001b[0;36m<module>\u001b[1;34m()\u001b[0m\n\u001b[1;32m----> 1\u001b[1;33m \u001b[1;32mfor\u001b[0m \u001b[0mbleh\u001b[0m \u001b[1;32min\u001b[0m \u001b[0mblehgit\u001b[0m\u001b[1;33m:\u001b[0m\u001b[1;33m\u001b[0m\u001b[0m\n\u001b[0m\u001b[0;32m      2\u001b[0m     \u001b[0mrepolis\u001b[0m\u001b[1;33m.\u001b[0m\u001b[0mappend\u001b[0m\u001b[1;33m(\u001b[0m\u001b[0mbleh\u001b[0m\u001b[1;33m)\u001b[0m\u001b[1;33m\u001b[0m\u001b[0m\n\u001b[0;32m      3\u001b[0m     \u001b[1;31m#print bleh.full_name\u001b[0m\u001b[1;33m\u001b[0m\u001b[1;33m\u001b[0m\u001b[0m\n",
        "\u001b[1;31mNameError\u001b[0m: name 'blehgit' is not defined"
       ]
      }
     ],
     "prompt_number": 290
    },
    {
     "cell_type": "markdown",
     "metadata": {},
     "source": [
      "I'm having a problem with auth! Need to get myself loged in here. \n",
      "Needs better security for logging in. - SSH Key? - hash the password "
     ]
    },
    {
     "cell_type": "markdown",
     "metadata": {},
     "source": [
      "What to do with all the output i am geting from searching. appending it into a list. maybe turn to dict? Make a rest feed? \n"
     ]
    },
    {
     "cell_type": "code",
     "collapsed": false,
     "input": [
      "for blzgit in blehgit:\n",
      "    print blzgit.name"
     ],
     "language": "python",
     "metadata": {},
     "outputs": [
      {
       "ename": "NameError",
       "evalue": "name 'blehgit' is not defined",
       "output_type": "pyerr",
       "traceback": [
        "\u001b[1;31m---------------------------------------------------------------------------\u001b[0m\n\u001b[1;31mNameError\u001b[0m                                 Traceback (most recent call last)",
        "\u001b[1;32m<ipython-input-291-05ee9106ce5e>\u001b[0m in \u001b[0;36m<module>\u001b[1;34m()\u001b[0m\n\u001b[1;32m----> 1\u001b[1;33m \u001b[1;32mfor\u001b[0m \u001b[0mblzgit\u001b[0m \u001b[1;32min\u001b[0m \u001b[0mblehgit\u001b[0m\u001b[1;33m:\u001b[0m\u001b[1;33m\u001b[0m\u001b[0m\n\u001b[0m\u001b[0;32m      2\u001b[0m     \u001b[1;32mprint\u001b[0m \u001b[0mblzgit\u001b[0m\u001b[1;33m.\u001b[0m\u001b[0mname\u001b[0m\u001b[1;33m\u001b[0m\u001b[0m\n",
        "\u001b[1;31mNameError\u001b[0m: name 'blehgit' is not defined"
       ]
      }
     ],
     "prompt_number": 291
    },
    {
     "cell_type": "code",
     "collapsed": false,
     "input": [
      "print blehgit.totalCount"
     ],
     "language": "python",
     "metadata": {},
     "outputs": [
      {
       "ename": "NameError",
       "evalue": "name 'blehgit' is not defined",
       "output_type": "pyerr",
       "traceback": [
        "\u001b[1;31m---------------------------------------------------------------------------\u001b[0m\n\u001b[1;31mNameError\u001b[0m                                 Traceback (most recent call last)",
        "\u001b[1;32m<ipython-input-292-82b212b9b141>\u001b[0m in \u001b[0;36m<module>\u001b[1;34m()\u001b[0m\n\u001b[1;32m----> 1\u001b[1;33m \u001b[1;32mprint\u001b[0m \u001b[0mblehgit\u001b[0m\u001b[1;33m.\u001b[0m\u001b[0mtotalCount\u001b[0m\u001b[1;33m\u001b[0m\u001b[0m\n\u001b[0m",
        "\u001b[1;31mNameError\u001b[0m: name 'blehgit' is not defined"
       ]
      }
     ],
     "prompt_number": 292
    },
    {
     "cell_type": "code",
     "collapsed": false,
     "input": [
      "print typy.totalCount"
     ],
     "language": "python",
     "metadata": {},
     "outputs": [
      {
       "ename": "NameError",
       "evalue": "name 'typy' is not defined",
       "output_type": "pyerr",
       "traceback": [
        "\u001b[1;31m---------------------------------------------------------------------------\u001b[0m\n\u001b[1;31mNameError\u001b[0m                                 Traceback (most recent call last)",
        "\u001b[1;32m<ipython-input-293-a5ba91e4db60>\u001b[0m in \u001b[0;36m<module>\u001b[1;34m()\u001b[0m\n\u001b[1;32m----> 1\u001b[1;33m \u001b[1;32mprint\u001b[0m \u001b[0mtypy\u001b[0m\u001b[1;33m.\u001b[0m\u001b[0mtotalCount\u001b[0m\u001b[1;33m\u001b[0m\u001b[0m\n\u001b[0m",
        "\u001b[1;31mNameError\u001b[0m: name 'typy' is not defined"
       ]
      }
     ],
     "prompt_number": 293
    },
    {
     "cell_type": "code",
     "collapsed": false,
     "input": [
      "print typy\n"
     ],
     "language": "python",
     "metadata": {},
     "outputs": [
      {
       "ename": "NameError",
       "evalue": "name 'typy' is not defined",
       "output_type": "pyerr",
       "traceback": [
        "\u001b[1;31m---------------------------------------------------------------------------\u001b[0m\n\u001b[1;31mNameError\u001b[0m                                 Traceback (most recent call last)",
        "\u001b[1;32m<ipython-input-294-2a5041c79a8e>\u001b[0m in \u001b[0;36m<module>\u001b[1;34m()\u001b[0m\n\u001b[1;32m----> 1\u001b[1;33m \u001b[1;32mprint\u001b[0m \u001b[0mtypy\u001b[0m\u001b[1;33m\u001b[0m\u001b[0m\n\u001b[0m",
        "\u001b[1;31mNameError\u001b[0m: name 'typy' is not defined"
       ]
      }
     ],
     "prompt_number": 294
    },
    {
     "cell_type": "code",
     "collapsed": false,
     "input": [
      "gepy = g.get_organization('brobeur')"
     ],
     "language": "python",
     "metadata": {},
     "outputs": [],
     "prompt_number": 295
    },
    {
     "cell_type": "code",
     "collapsed": false,
     "input": [
      "gepy.email"
     ],
     "language": "python",
     "metadata": {},
     "outputs": [
      {
       "output_type": "pyout",
       "prompt_number": 296,
       "text": [
        "u'github@brobeur.com'"
       ]
      }
     ],
     "prompt_number": 296
    },
    {
     "cell_type": "code",
     "collapsed": false,
     "input": [
      "gepy.blog"
     ],
     "language": "python",
     "metadata": {},
     "outputs": [
      {
       "output_type": "pyout",
       "prompt_number": 297,
       "text": [
        "u'http://brobeur.com'"
       ]
      }
     ],
     "prompt_number": 297
    },
    {
     "cell_type": "code",
     "collapsed": false,
     "input": [
      "gepy.url"
     ],
     "language": "python",
     "metadata": {},
     "outputs": [
      {
       "output_type": "pyout",
       "prompt_number": 298,
       "text": [
        "u'https://api.github.com/orgs/brobeur'"
       ]
      }
     ],
     "prompt_number": 298
    },
    {
     "cell_type": "code",
     "collapsed": false,
     "input": [
      "gepy.created_at"
     ],
     "language": "python",
     "metadata": {},
     "outputs": [
      {
       "output_type": "pyout",
       "prompt_number": 299,
       "text": [
        "datetime.datetime(2013, 12, 18, 10, 23, 20)"
       ]
      }
     ],
     "prompt_number": 299
    },
    {
     "cell_type": "code",
     "collapsed": false,
     "input": [
      "brorepo.totalCount()"
     ],
     "language": "python",
     "metadata": {},
     "outputs": [
      {
       "ename": "AttributeError",
       "evalue": "'Repository' object has no attribute 'totalCount'",
       "output_type": "pyerr",
       "traceback": [
        "\u001b[1;31m---------------------------------------------------------------------------\u001b[0m\n\u001b[1;31mAttributeError\u001b[0m                            Traceback (most recent call last)",
        "\u001b[1;32m<ipython-input-300-c956f46f08b9>\u001b[0m in \u001b[0;36m<module>\u001b[1;34m()\u001b[0m\n\u001b[1;32m----> 1\u001b[1;33m \u001b[0mbrorepo\u001b[0m\u001b[1;33m.\u001b[0m\u001b[0mtotalCount\u001b[0m\u001b[1;33m(\u001b[0m\u001b[1;33m)\u001b[0m\u001b[1;33m\u001b[0m\u001b[0m\n\u001b[0m",
        "\u001b[1;31mAttributeError\u001b[0m: 'Repository' object has no attribute 'totalCount'"
       ]
      }
     ],
     "prompt_number": 300
    },
    {
     "cell_type": "code",
     "collapsed": false,
     "input": [
      "gepy.public_repos"
     ],
     "language": "python",
     "metadata": {},
     "outputs": [
      {
       "output_type": "pyout",
       "prompt_number": 301,
       "text": [
        "12"
       ]
      }
     ],
     "prompt_number": 301
    },
    {
     "cell_type": "code",
     "collapsed": false,
     "input": [
      "gepic = gepy.avatar_url"
     ],
     "language": "python",
     "metadata": {},
     "outputs": [],
     "prompt_number": 302
    },
    {
     "cell_type": "code",
     "collapsed": false,
     "input": [
      "gepic"
     ],
     "language": "python",
     "metadata": {},
     "outputs": [
      {
       "output_type": "pyout",
       "prompt_number": 303,
       "text": [
        "u'https://avatars.githubusercontent.com/u/6213519?'"
       ]
      }
     ],
     "prompt_number": 303
    },
    {
     "cell_type": "code",
     "collapsed": false,
     "input": [
      "with open(gepic, 'wb') as handle:\n",
      "    response = requests.get(jpgcam, stream=True)\n",
      "\n",
      "    for block in response.iter_content(1024):\n",
      "        if not block:\n",
      "            break\n",
      "        handle.write(block)\n"
     ],
     "language": "python",
     "metadata": {},
     "outputs": [
      {
       "ename": "IOError",
       "evalue": "[Errno 2] No such file or directory: u'https://avatars.githubusercontent.com/u/6213519?'",
       "output_type": "pyerr",
       "traceback": [
        "\u001b[1;31m---------------------------------------------------------------------------\u001b[0m\n\u001b[1;31mIOError\u001b[0m                                   Traceback (most recent call last)",
        "\u001b[1;32m<ipython-input-306-9b00f2d53081>\u001b[0m in \u001b[0;36m<module>\u001b[1;34m()\u001b[0m\n\u001b[1;32m----> 1\u001b[1;33m \u001b[1;32mwith\u001b[0m \u001b[0mopen\u001b[0m\u001b[1;33m(\u001b[0m\u001b[0mgepic\u001b[0m\u001b[1;33m,\u001b[0m \u001b[1;34m'wb'\u001b[0m\u001b[1;33m)\u001b[0m \u001b[1;32mas\u001b[0m \u001b[0mhandle\u001b[0m\u001b[1;33m:\u001b[0m\u001b[1;33m\u001b[0m\u001b[0m\n\u001b[0m\u001b[0;32m      2\u001b[0m     \u001b[0mresponse\u001b[0m \u001b[1;33m=\u001b[0m \u001b[0mrequests\u001b[0m\u001b[1;33m.\u001b[0m\u001b[0mget\u001b[0m\u001b[1;33m(\u001b[0m\u001b[0mjpgcam\u001b[0m\u001b[1;33m,\u001b[0m \u001b[0mstream\u001b[0m\u001b[1;33m=\u001b[0m\u001b[0mTrue\u001b[0m\u001b[1;33m)\u001b[0m\u001b[1;33m\u001b[0m\u001b[0m\n\u001b[0;32m      3\u001b[0m \u001b[1;33m\u001b[0m\u001b[0m\n\u001b[0;32m      4\u001b[0m     \u001b[1;32mfor\u001b[0m \u001b[0mblock\u001b[0m \u001b[1;32min\u001b[0m \u001b[0mresponse\u001b[0m\u001b[1;33m.\u001b[0m\u001b[0miter_content\u001b[0m\u001b[1;33m(\u001b[0m\u001b[1;36m1024\u001b[0m\u001b[1;33m)\u001b[0m\u001b[1;33m:\u001b[0m\u001b[1;33m\u001b[0m\u001b[0m\n\u001b[0;32m      5\u001b[0m         \u001b[1;32mif\u001b[0m \u001b[1;32mnot\u001b[0m \u001b[0mblock\u001b[0m\u001b[1;33m:\u001b[0m\u001b[1;33m\u001b[0m\u001b[0m\n",
        "\u001b[1;31mIOError\u001b[0m: [Errno 2] No such file or directory: u'https://avatars.githubusercontent.com/u/6213519?'"
       ]
      }
     ],
     "prompt_number": 306
    },
    {
     "cell_type": "code",
     "collapsed": false,
     "input": [
      "gepy.type"
     ],
     "language": "python",
     "metadata": {},
     "outputs": [
      {
       "output_type": "pyout",
       "prompt_number": 304,
       "text": [
        "u'Organization'"
       ]
      }
     ],
     "prompt_number": 304
    },
    {
     "cell_type": "code",
     "collapsed": false,
     "input": [
      "gepy.raw_data"
     ],
     "language": "python",
     "metadata": {},
     "outputs": [
      {
       "output_type": "pyout",
       "prompt_number": 307,
       "text": [
        "{u'avatar_url': u'https://avatars.githubusercontent.com/u/6213519?',\n",
        " u'blog': u'http://brobeur.com',\n",
        " u'company': None,\n",
        " u'created_at': u'2013-12-18T10:23:20Z',\n",
        " u'email': u'github@brobeur.com',\n",
        " u'events_url': u'https://api.github.com/orgs/brobeur/events',\n",
        " u'followers': 0,\n",
        " u'following': 0,\n",
        " u'html_url': u'https://github.com/brobeur',\n",
        " u'id': 6213519,\n",
        " u'location': u'Hamilton, New Zealand',\n",
        " u'login': u'brobeur',\n",
        " u'members_url': u'https://api.github.com/orgs/brobeur/members{/member}',\n",
        " u'name': u'BroBeur Studios',\n",
        " u'public_gists': 0,\n",
        " u'public_members_url': u'https://api.github.com/orgs/brobeur/public_members{/member}',\n",
        " u'public_repos': 12,\n",
        " u'repos_url': u'https://api.github.com/orgs/brobeur/repos',\n",
        " u'type': u'Organization',\n",
        " u'updated_at': u'2014-04-21T23:34:26Z',\n",
        " u'url': u'https://api.github.com/orgs/brobeur'}"
       ]
      }
     ],
     "prompt_number": 307
    },
    {
     "cell_type": "code",
     "collapsed": false,
     "input": [
      "print alrepo"
     ],
     "language": "python",
     "metadata": {},
     "outputs": [
      {
       "ename": "NameError",
       "evalue": "name 'alrepo' is not defined",
       "output_type": "pyerr",
       "traceback": [
        "\u001b[1;31m---------------------------------------------------------------------------\u001b[0m\n\u001b[1;31mNameError\u001b[0m                                 Traceback (most recent call last)",
        "\u001b[1;32m<ipython-input-308-cb8eecb775bd>\u001b[0m in \u001b[0;36m<module>\u001b[1;34m()\u001b[0m\n\u001b[1;32m----> 1\u001b[1;33m \u001b[1;32mprint\u001b[0m \u001b[0malrepo\u001b[0m\u001b[1;33m\u001b[0m\u001b[0m\n\u001b[0m",
        "\u001b[1;31mNameError\u001b[0m: name 'alrepo' is not defined"
       ]
      }
     ],
     "prompt_number": 308
    },
    {
     "cell_type": "code",
     "collapsed": false,
     "input": [
      "brorepo = gepy.get_repo('linux')"
     ],
     "language": "python",
     "metadata": {},
     "outputs": [],
     "prompt_number": 309
    },
    {
     "cell_type": "code",
     "collapsed": false,
     "input": [
      "brorepo.size"
     ],
     "language": "python",
     "metadata": {},
     "outputs": [
      {
       "output_type": "pyout",
       "prompt_number": 310,
       "text": [
        "2520"
       ]
      }
     ],
     "prompt_number": 310
    },
    {
     "cell_type": "code",
     "collapsed": false,
     "input": [
      "gepy.get_public_members()"
     ],
     "language": "python",
     "metadata": {},
     "outputs": [
      {
       "output_type": "pyout",
       "prompt_number": 311,
       "text": [
        "<github.PaginatedList.PaginatedList instance at 0x3131ef0>"
       ]
      }
     ],
     "prompt_number": 311
    },
    {
     "cell_type": "code",
     "collapsed": false,
     "input": [],
     "language": "python",
     "metadata": {},
     "outputs": [],
     "prompt_number": 311
    },
    {
     "cell_type": "code",
     "collapsed": false,
     "input": [
      "gepy.location"
     ],
     "language": "python",
     "metadata": {},
     "outputs": [
      {
       "output_type": "pyout",
       "prompt_number": 312,
       "text": [
        "u'Hamilton, New Zealand'"
       ]
      }
     ],
     "prompt_number": 312
    },
    {
     "cell_type": "code",
     "collapsed": false,
     "input": [
      "searchbleh = g.get_api_status()"
     ],
     "language": "python",
     "metadata": {},
     "outputs": [],
     "prompt_number": 313
    },
    {
     "cell_type": "code",
     "collapsed": false,
     "input": [
      "print searchbleh.status\n",
      "print searchbleh.last_modified"
     ],
     "language": "python",
     "metadata": {},
     "outputs": [
      {
       "output_type": "stream",
       "stream": "stdout",
       "text": [
        "good\n",
        "None\n"
       ]
      }
     ],
     "prompt_number": 314
    },
    {
     "cell_type": "code",
     "collapsed": false,
     "input": [
      "searchpy.totalCount"
     ],
     "language": "python",
     "metadata": {},
     "outputs": [
      {
       "ename": "NameError",
       "evalue": "name 'searchpy' is not defined",
       "output_type": "pyerr",
       "traceback": [
        "\u001b[1;31m---------------------------------------------------------------------------\u001b[0m\n\u001b[1;31mNameError\u001b[0m                                 Traceback (most recent call last)",
        "\u001b[1;32m<ipython-input-114-98c2fa4cd19e>\u001b[0m in \u001b[0;36m<module>\u001b[1;34m()\u001b[0m\n\u001b[1;32m----> 1\u001b[1;33m \u001b[0msearchpy\u001b[0m\u001b[1;33m.\u001b[0m\u001b[0mtotalCount\u001b[0m\u001b[1;33m\u001b[0m\u001b[0m\n\u001b[0m",
        "\u001b[1;31mNameError\u001b[0m: name 'searchpy' is not defined"
       ]
      }
     ],
     "prompt_number": 114
    },
    {
     "cell_type": "code",
     "collapsed": false,
     "input": [
      "import geopy"
     ],
     "language": "python",
     "metadata": {},
     "outputs": [],
     "prompt_number": 116
    },
    {
     "cell_type": "code",
     "collapsed": false,
     "input": [
      "koapi = ('d2b321e45a2041f19551a3f3b223fce0')"
     ],
     "language": "python",
     "metadata": {},
     "outputs": [],
     "prompt_number": 117
    },
    {
     "cell_type": "code",
     "collapsed": false,
     "input": [
      "geoloc = geopy.geocoders.GoogleV3()"
     ],
     "language": "python",
     "metadata": {},
     "outputs": [],
     "prompt_number": 118
    },
    {
     "cell_type": "code",
     "collapsed": false,
     "input": [
      "address = geoloc.geocode('8 Margaret Street Levin')"
     ],
     "language": "python",
     "metadata": {},
     "outputs": [],
     "prompt_number": 119
    },
    {
     "cell_type": "code",
     "collapsed": false,
     "input": [
      "print address"
     ],
     "language": "python",
     "metadata": {},
     "outputs": [
      {
       "output_type": "stream",
       "stream": "stdout",
       "text": [
        "8 Margaret Street, Levin 5510, New Zealand\n"
       ]
      }
     ],
     "prompt_number": 120
    },
    {
     "cell_type": "code",
     "collapsed": false,
     "input": [
      "address.point"
     ],
     "language": "python",
     "metadata": {},
     "outputs": [
      {
       "output_type": "pyout",
       "prompt_number": 121,
       "text": [
        "Point(-40.6165368, 175.277496, 0.0)"
       ]
      }
     ],
     "prompt_number": 121
    },
    {
     "cell_type": "code",
     "collapsed": false,
     "input": [
      "for se in searchpy:\n",
      "    print se.url"
     ],
     "language": "python",
     "metadata": {},
     "outputs": [
      {
       "ename": "NameError",
       "evalue": "name 'searchpy' is not defined",
       "output_type": "pyerr",
       "traceback": [
        "\u001b[1;31m---------------------------------------------------------------------------\u001b[0m\n\u001b[1;31mNameError\u001b[0m                                 Traceback (most recent call last)",
        "\u001b[1;32m<ipython-input-150-e5b46de80eed>\u001b[0m in \u001b[0;36m<module>\u001b[1;34m()\u001b[0m\n\u001b[1;32m----> 1\u001b[1;33m \u001b[1;32mfor\u001b[0m \u001b[0mse\u001b[0m \u001b[1;32min\u001b[0m \u001b[0msearchpy\u001b[0m\u001b[1;33m:\u001b[0m\u001b[1;33m\u001b[0m\u001b[0m\n\u001b[0m\u001b[0;32m      2\u001b[0m     \u001b[1;32mprint\u001b[0m \u001b[0mse\u001b[0m\u001b[1;33m.\u001b[0m\u001b[0murl\u001b[0m\u001b[1;33m\u001b[0m\u001b[0m\n",
        "\u001b[1;31mNameError\u001b[0m: name 'searchpy' is not defined"
       ]
      }
     ],
     "prompt_number": 150
    },
    {
     "cell_type": "code",
     "collapsed": false,
     "input": [
      "for repo in g.get_user('wcmckee').get_repos():\n",
      "    gitlist.append(repo.name)"
     ],
     "language": "python",
     "metadata": {},
     "outputs": [],
     "prompt_number": 160
    },
    {
     "cell_type": "code",
     "collapsed": false,
     "input": [
      "os.mkdir('/home/will/github')"
     ],
     "language": "python",
     "metadata": {},
     "outputs": [
      {
       "ename": "OSError",
       "evalue": "[Errno 17] File exists: '/home/will/github'",
       "output_type": "pyerr",
       "traceback": [
        "\u001b[1;31m---------------------------------------------------------------------------\u001b[0m\n\u001b[1;31mOSError\u001b[0m                                   Traceback (most recent call last)",
        "\u001b[1;32m<ipython-input-152-0ef0078378ae>\u001b[0m in \u001b[0;36m<module>\u001b[1;34m()\u001b[0m\n\u001b[1;32m----> 1\u001b[1;33m \u001b[0mos\u001b[0m\u001b[1;33m.\u001b[0m\u001b[0mmkdir\u001b[0m\u001b[1;33m(\u001b[0m\u001b[1;34m'/home/will/github'\u001b[0m\u001b[1;33m)\u001b[0m\u001b[1;33m\u001b[0m\u001b[0m\n\u001b[0m",
        "\u001b[1;31mOSError\u001b[0m: [Errno 17] File exists: '/home/will/github'"
       ]
      }
     ],
     "prompt_number": 152
    },
    {
     "cell_type": "code",
     "collapsed": false,
     "input": [
      "os.chdir('/home/' + 'will' + '/github')"
     ],
     "language": "python",
     "metadata": {},
     "outputs": [],
     "prompt_number": 161
    },
    {
     "cell_type": "code",
     "collapsed": false,
     "input": [
      "lisdir = os.listdir('/home/will/github')\n",
      "curlist = []\n",
      "for ls in lisdir:\n",
      "    #print ls\n",
      "    curlist.append(ls)"
     ],
     "language": "python",
     "metadata": {},
     "outputs": [],
     "prompt_number": 162
    },
    {
     "cell_type": "code",
     "collapsed": false,
     "input": [
      "dlrepo = list(set(gitlist) - set(curlist))"
     ],
     "language": "python",
     "metadata": {},
     "outputs": [],
     "prompt_number": 163
    },
    {
     "cell_type": "code",
     "collapsed": false,
     "input": [
      "print dlrepo"
     ],
     "language": "python",
     "metadata": {},
     "outputs": [
      {
       "output_type": "stream",
       "stream": "stdout",
       "text": [
        "[u'RasPiWrite', u'wcmckee.github.io', u'ggj14', u'FinishYourGame-Jam', u'flask', u'game-of-life', u'BroBeurFishingDream', u'flamejam', u'SuburbNightmare', u'pywp-post', u'python-guide', u'TPB', u'autopaintpy123', u'broLove', u'wirepil', u'Bukkit', u'SortPictures', u'Delicious-Chrome-Extension', u'intro_programming', u'compohub', u'pyunderdog', u'python-wordpress-xmlrpc', u'skins', u'ouya-unity-plugin', u'soundcloud-dl', u'pybackupz', u'selfspy', u'gitignore', u'Projects', u'bgj05-hungry', u'BirdCage', u'pyroster', u'iamagamer', u'ipython', u'imgur-python', u'paintingautopy', u'brobeur-web', u'cocos2d-x', u'unityluainterface', u'requests', u'molyjam2013', u'prodo-game', u'reddit_bot', u'DeltaBot', u'marshmallow', u'linux', u'pyladies', u'python-patterns', u'hackage-server', u'pithos', u'bbc2wp', u'Triger', u'RedditPress', u'tweepy', u'pytm', u'Cinnamon', u'HTML5-Tiny', u'miniprojects', u'UniLua', u'raspi', u'UnityLuaIntegration', u'intercity', u'DailyProgBot', u'lolpy', u'UIToolkit', u'Rift-Notes', u'pymel', u'gimp', u'djtm', u'clint', u'bacongamejam05', u'lqt', u'wcmStringPY', u'testRepo', u'RPIO', u'html5lib-python', u'sshuttle', u'python-pandora', u'LD48-Skins', u'gjapi_python', u'battlenet', u'haskell-learn', u'BeOk', u'openfaux-server', u'summingbird', u'Koha', u'xboxdrv', u'massive-wright', u'django', u'python-twitter', u'WordPress', u'ruby-warrior', u'ihaskell-notebook', u'opencompetencies']\n"
       ]
      }
     ],
     "prompt_number": 164
    },
    {
     "cell_type": "code",
     "collapsed": false,
     "input": [],
     "language": "python",
     "metadata": {},
     "outputs": [],
     "prompt_number": 164
    },
    {
     "cell_type": "code",
     "collapsed": false,
     "input": [
      "'''\n",
      "for gi in gitlist:\n",
      "    #print gi\n",
      "    #git.Git().clone(\"https://github.com/\" + theuser + \"/\" + dlrepo)\n",
      "    print (\"Downloading: \" + theuser + \"/\" + dlrepo)\n",
      "\n",
      "\n",
      "\n",
      "'''"
     ],
     "language": "python",
     "metadata": {},
     "outputs": [
      {
       "output_type": "pyout",
       "prompt_number": 165,
       "text": [
        "'\\nfor gi in gitlist:\\n    #print gi\\n    #git.Git().clone(\"https://github.com/\" + theuser + \"/\" + dlrepo)\\n    print (\"Downloading: \" + theuser + \"/\" + dlrepo)\\n\\n\\n\\n'"
       ]
      }
     ],
     "prompt_number": 165
    },
    {
     "cell_type": "code",
     "collapsed": false,
     "input": [
      "from clint.textui import colored"
     ],
     "language": "python",
     "metadata": {},
     "outputs": [],
     "prompt_number": 166
    },
    {
     "cell_type": "code",
     "collapsed": false,
     "input": [
      "for gitbl in dlrepo:\n",
      "        #print ('Downloading - ' + theuser + \" - \"  + gitbl)\n",
      "        print (colored.red('Downloading - ' + 'wcmckee' + \" - \"  + gitbl))\n",
      "        git.Git().clone(\"https://github.com/\" + 'wcmckee' + \"/\" + gitbl)\n"
     ],
     "language": "python",
     "metadata": {},
     "outputs": [
      {
       "output_type": "stream",
       "stream": "stdout",
       "text": [
        "Downloading - wcmckee - RasPiWrite\n",
        "Downloading - wcmckee - wcmckee.github.io"
       ]
      },
      {
       "output_type": "stream",
       "stream": "stdout",
       "text": [
        "\n",
        "Downloading - wcmckee - ggj14"
       ]
      },
      {
       "output_type": "stream",
       "stream": "stdout",
       "text": [
        "\n",
        "Downloading - wcmckee - FinishYourGame-Jam"
       ]
      },
      {
       "output_type": "stream",
       "stream": "stdout",
       "text": [
        "\n",
        "Downloading - wcmckee - flask"
       ]
      },
      {
       "output_type": "stream",
       "stream": "stdout",
       "text": [
        "\n",
        "Downloading - wcmckee - game-of-life"
       ]
      },
      {
       "output_type": "stream",
       "stream": "stdout",
       "text": [
        "\n",
        "Downloading - wcmckee - BroBeurFishingDream"
       ]
      },
      {
       "output_type": "stream",
       "stream": "stdout",
       "text": [
        "\n",
        "Downloading - wcmckee - flamejam"
       ]
      },
      {
       "output_type": "stream",
       "stream": "stdout",
       "text": [
        "\n",
        "Downloading - wcmckee - SuburbNightmare"
       ]
      },
      {
       "output_type": "stream",
       "stream": "stdout",
       "text": [
        "\n",
        "Downloading - wcmckee - pywp-post"
       ]
      },
      {
       "output_type": "stream",
       "stream": "stdout",
       "text": [
        "\n",
        "Downloading - wcmckee - python-guide"
       ]
      },
      {
       "output_type": "stream",
       "stream": "stdout",
       "text": [
        "\n",
        "Downloading - wcmckee - TPB"
       ]
      },
      {
       "output_type": "stream",
       "stream": "stdout",
       "text": [
        "\n",
        "Downloading - wcmckee - autopaintpy123"
       ]
      },
      {
       "output_type": "stream",
       "stream": "stdout",
       "text": [
        "\n",
        "Downloading - wcmckee - broLove"
       ]
      },
      {
       "output_type": "stream",
       "stream": "stdout",
       "text": [
        "\n",
        "Downloading - wcmckee - wirepil"
       ]
      },
      {
       "output_type": "stream",
       "stream": "stdout",
       "text": [
        "\n",
        "Downloading - wcmckee - Bukkit"
       ]
      },
      {
       "output_type": "stream",
       "stream": "stdout",
       "text": [
        "\n",
        "Downloading - wcmckee - SortPictures"
       ]
      },
      {
       "output_type": "stream",
       "stream": "stdout",
       "text": [
        "\n",
        "Downloading - wcmckee - Delicious-Chrome-Extension"
       ]
      },
      {
       "output_type": "stream",
       "stream": "stdout",
       "text": [
        "\n",
        "Downloading - wcmckee - intro_programming"
       ]
      },
      {
       "output_type": "stream",
       "stream": "stdout",
       "text": [
        "\n",
        "Downloading - wcmckee - compohub"
       ]
      },
      {
       "output_type": "stream",
       "stream": "stdout",
       "text": [
        "\n",
        "Downloading - wcmckee - pyunderdog"
       ]
      },
      {
       "output_type": "stream",
       "stream": "stdout",
       "text": [
        "\n",
        "Downloading - wcmckee - python-wordpress-xmlrpc"
       ]
      },
      {
       "output_type": "stream",
       "stream": "stdout",
       "text": [
        "\n",
        "Downloading - wcmckee - skins"
       ]
      },
      {
       "output_type": "stream",
       "stream": "stdout",
       "text": [
        "\n",
        "Downloading - wcmckee - ouya-unity-plugin"
       ]
      },
      {
       "output_type": "stream",
       "stream": "stdout",
       "text": [
        "\n",
        "Downloading - wcmckee - soundcloud-dl"
       ]
      },
      {
       "output_type": "stream",
       "stream": "stdout",
       "text": [
        "\n",
        "Downloading - wcmckee - pybackupz"
       ]
      },
      {
       "output_type": "stream",
       "stream": "stdout",
       "text": [
        "\n",
        "Downloading - wcmckee - selfspy"
       ]
      },
      {
       "output_type": "stream",
       "stream": "stdout",
       "text": [
        "\n",
        "Downloading - wcmckee - gitignore"
       ]
      },
      {
       "output_type": "stream",
       "stream": "stdout",
       "text": [
        "\n",
        "Downloading - wcmckee - Projects"
       ]
      },
      {
       "output_type": "stream",
       "stream": "stdout",
       "text": [
        "\n",
        "Downloading - wcmckee - bgj05-hungry"
       ]
      },
      {
       "output_type": "stream",
       "stream": "stdout",
       "text": [
        "\n",
        "Downloading - wcmckee - BirdCage"
       ]
      },
      {
       "output_type": "stream",
       "stream": "stdout",
       "text": [
        "\n",
        "Downloading - wcmckee - pyroster"
       ]
      },
      {
       "output_type": "stream",
       "stream": "stdout",
       "text": [
        "\n",
        "Downloading - wcmckee - iamagamer"
       ]
      },
      {
       "output_type": "stream",
       "stream": "stdout",
       "text": [
        "\n",
        "Downloading - wcmckee - ipython"
       ]
      },
      {
       "output_type": "stream",
       "stream": "stdout",
       "text": [
        "\n",
        "Downloading - wcmckee - imgur-python"
       ]
      },
      {
       "output_type": "stream",
       "stream": "stdout",
       "text": [
        "\n",
        "Downloading - wcmckee - paintingautopy"
       ]
      },
      {
       "output_type": "stream",
       "stream": "stdout",
       "text": [
        "\n",
        "Downloading - wcmckee - brobeur-web"
       ]
      },
      {
       "output_type": "stream",
       "stream": "stdout",
       "text": [
        "\n",
        "Downloading - wcmckee - cocos2d-x"
       ]
      },
      {
       "output_type": "stream",
       "stream": "stdout",
       "text": [
        "\n",
        "Downloading - wcmckee - unityluainterface"
       ]
      },
      {
       "output_type": "stream",
       "stream": "stdout",
       "text": [
        "\n",
        "Downloading - wcmckee - requests"
       ]
      },
      {
       "output_type": "stream",
       "stream": "stdout",
       "text": [
        "\n",
        "Downloading - wcmckee - molyjam2013"
       ]
      },
      {
       "output_type": "stream",
       "stream": "stdout",
       "text": [
        "\n",
        "Downloading - wcmckee - prodo-game"
       ]
      },
      {
       "output_type": "stream",
       "stream": "stdout",
       "text": [
        "\n",
        "Downloading - wcmckee - reddit_bot"
       ]
      },
      {
       "output_type": "stream",
       "stream": "stdout",
       "text": [
        "\n",
        "Downloading - wcmckee - DeltaBot"
       ]
      },
      {
       "output_type": "stream",
       "stream": "stdout",
       "text": [
        "\n",
        "Downloading - wcmckee - marshmallow"
       ]
      },
      {
       "output_type": "stream",
       "stream": "stdout",
       "text": [
        "\n",
        "Downloading - wcmckee - linux"
       ]
      },
      {
       "output_type": "stream",
       "stream": "stdout",
       "text": [
        "\n",
        "Downloading - wcmckee - pyladies"
       ]
      },
      {
       "output_type": "stream",
       "stream": "stdout",
       "text": [
        "\n",
        "Downloading - wcmckee - python-patterns"
       ]
      },
      {
       "output_type": "stream",
       "stream": "stdout",
       "text": [
        "\n",
        "Downloading - wcmckee - hackage-server"
       ]
      },
      {
       "output_type": "stream",
       "stream": "stdout",
       "text": [
        "\n",
        "Downloading - wcmckee - pithos"
       ]
      },
      {
       "output_type": "stream",
       "stream": "stdout",
       "text": [
        "\n",
        "Downloading - wcmckee - bbc2wp"
       ]
      },
      {
       "output_type": "stream",
       "stream": "stdout",
       "text": [
        "\n",
        "Downloading - wcmckee - Triger"
       ]
      },
      {
       "output_type": "stream",
       "stream": "stdout",
       "text": [
        "\n",
        "Downloading - wcmckee - RedditPress"
       ]
      },
      {
       "output_type": "stream",
       "stream": "stdout",
       "text": [
        "\n",
        "Downloading - wcmckee - tweepy"
       ]
      },
      {
       "output_type": "stream",
       "stream": "stdout",
       "text": [
        "\n",
        "Downloading - wcmckee - pytm"
       ]
      },
      {
       "output_type": "stream",
       "stream": "stdout",
       "text": [
        "\n",
        "Downloading - wcmckee - Cinnamon"
       ]
      },
      {
       "output_type": "stream",
       "stream": "stdout",
       "text": [
        "\n",
        "Downloading - wcmckee - HTML5-Tiny"
       ]
      },
      {
       "output_type": "stream",
       "stream": "stdout",
       "text": [
        "\n",
        "Downloading - wcmckee - miniprojects"
       ]
      },
      {
       "output_type": "stream",
       "stream": "stdout",
       "text": [
        "\n",
        "Downloading - wcmckee - UniLua"
       ]
      },
      {
       "output_type": "stream",
       "stream": "stdout",
       "text": [
        "\n",
        "Downloading - wcmckee - raspi"
       ]
      },
      {
       "output_type": "stream",
       "stream": "stdout",
       "text": [
        "\n",
        "Downloading - wcmckee - UnityLuaIntegration"
       ]
      },
      {
       "output_type": "stream",
       "stream": "stdout",
       "text": [
        "\n",
        "Downloading - wcmckee - intercity"
       ]
      },
      {
       "output_type": "stream",
       "stream": "stdout",
       "text": [
        "\n",
        "Downloading - wcmckee - DailyProgBot"
       ]
      },
      {
       "output_type": "stream",
       "stream": "stdout",
       "text": [
        "\n",
        "Downloading - wcmckee - lolpy"
       ]
      },
      {
       "output_type": "stream",
       "stream": "stdout",
       "text": [
        "\n",
        "Downloading - wcmckee - UIToolkit"
       ]
      },
      {
       "output_type": "stream",
       "stream": "stdout",
       "text": [
        "\n",
        "Downloading - wcmckee - Rift-Notes"
       ]
      },
      {
       "output_type": "stream",
       "stream": "stdout",
       "text": [
        "\n",
        "Downloading - wcmckee - pymel"
       ]
      },
      {
       "output_type": "stream",
       "stream": "stdout",
       "text": [
        "\n",
        "Downloading - wcmckee - gimp"
       ]
      },
      {
       "output_type": "stream",
       "stream": "stdout",
       "text": [
        "\n",
        "Downloading - wcmckee - djtm"
       ]
      },
      {
       "output_type": "stream",
       "stream": "stdout",
       "text": [
        "\n",
        "Downloading - wcmckee - clint"
       ]
      },
      {
       "output_type": "stream",
       "stream": "stdout",
       "text": [
        "\n",
        "Downloading - wcmckee - bacongamejam05"
       ]
      },
      {
       "output_type": "stream",
       "stream": "stdout",
       "text": [
        "\n",
        "Downloading - wcmckee - lqt"
       ]
      },
      {
       "output_type": "stream",
       "stream": "stdout",
       "text": [
        "\n",
        "Downloading - wcmckee - wcmStringPY"
       ]
      },
      {
       "output_type": "stream",
       "stream": "stdout",
       "text": [
        "\n",
        "Downloading - wcmckee - testRepo"
       ]
      },
      {
       "output_type": "stream",
       "stream": "stdout",
       "text": [
        "\n",
        "Downloading - wcmckee - RPIO"
       ]
      },
      {
       "output_type": "stream",
       "stream": "stdout",
       "text": [
        "\n",
        "Downloading - wcmckee - html5lib-python"
       ]
      },
      {
       "output_type": "stream",
       "stream": "stdout",
       "text": [
        "\n",
        "Downloading - wcmckee - sshuttle"
       ]
      },
      {
       "output_type": "stream",
       "stream": "stdout",
       "text": [
        "\n",
        "Downloading - wcmckee - python-pandora"
       ]
      },
      {
       "output_type": "stream",
       "stream": "stdout",
       "text": [
        "\n",
        "Downloading - wcmckee - LD48-Skins"
       ]
      },
      {
       "output_type": "stream",
       "stream": "stdout",
       "text": [
        "\n",
        "Downloading - wcmckee - gjapi_python"
       ]
      },
      {
       "output_type": "stream",
       "stream": "stdout",
       "text": [
        "\n",
        "Downloading - wcmckee - battlenet"
       ]
      },
      {
       "output_type": "stream",
       "stream": "stdout",
       "text": [
        "\n",
        "Downloading - wcmckee - haskell-learn"
       ]
      },
      {
       "output_type": "stream",
       "stream": "stdout",
       "text": [
        "\n",
        "Downloading - wcmckee - BeOk"
       ]
      },
      {
       "output_type": "stream",
       "stream": "stdout",
       "text": [
        "\n",
        "Downloading - wcmckee - openfaux-server"
       ]
      },
      {
       "output_type": "stream",
       "stream": "stdout",
       "text": [
        "\n",
        "Downloading - wcmckee - summingbird"
       ]
      },
      {
       "output_type": "stream",
       "stream": "stdout",
       "text": [
        "\n",
        "Downloading - wcmckee - Koha"
       ]
      },
      {
       "output_type": "stream",
       "stream": "stdout",
       "text": [
        "\n",
        "Downloading - wcmckee - xboxdrv"
       ]
      },
      {
       "output_type": "stream",
       "stream": "stdout",
       "text": [
        "\n",
        "Downloading - wcmckee - massive-wright"
       ]
      },
      {
       "output_type": "stream",
       "stream": "stdout",
       "text": [
        "\n",
        "Downloading - wcmckee - django"
       ]
      },
      {
       "output_type": "stream",
       "stream": "stdout",
       "text": [
        "\n",
        "Downloading - wcmckee - python-twitter"
       ]
      },
      {
       "output_type": "stream",
       "stream": "stdout",
       "text": [
        "\n",
        "Downloading - wcmckee - WordPress"
       ]
      },
      {
       "output_type": "stream",
       "stream": "stdout",
       "text": [
        "\n",
        "Downloading - wcmckee - ruby-warrior"
       ]
      },
      {
       "output_type": "stream",
       "stream": "stdout",
       "text": [
        "\n",
        "Downloading - wcmckee - ihaskell-notebook"
       ]
      },
      {
       "output_type": "stream",
       "stream": "stdout",
       "text": [
        "\n",
        "Downloading - wcmckee - opencompetencies"
       ]
      },
      {
       "output_type": "stream",
       "stream": "stdout",
       "text": [
        "\n"
       ]
      }
     ],
     "prompt_number": 167
    },
    {
     "cell_type": "code",
     "collapsed": false,
     "input": [
      "def printme( str ):\n",
      "   \"This prints a passed string into this function\"\n",
      "   print str;\n",
      "   return;\n",
      "\n",
      "# Now you can call printme function\n",
      "printme(\"I'm first call to user defined function!\");\n",
      "printme(\"Again second call to the same function\");"
     ],
     "language": "python",
     "metadata": {},
     "outputs": [
      {
       "output_type": "stream",
       "stream": "stdout",
       "text": [
        "I'm first call to user defined function!\n",
        "Again second call to the same function\n"
       ]
      }
     ],
     "prompt_number": 315
    },
    {
     "cell_type": "code",
     "collapsed": false,
     "input": [
      "import requests\n",
      "import json"
     ],
     "language": "python",
     "metadata": {},
     "outputs": [],
     "prompt_number": 607
    },
    {
     "cell_type": "code",
     "collapsed": false,
     "input": [
      "jamft = requests.get('https://raw.githubusercontent.com/leafo/compohub/master/jams/2014.json')"
     ],
     "language": "python",
     "metadata": {},
     "outputs": [],
     "prompt_number": 608
    },
    {
     "cell_type": "code",
     "collapsed": false,
     "input": [
      "jamft.text"
     ],
     "language": "python",
     "metadata": {},
     "outputs": [
      {
       "output_type": "pyout",
       "prompt_number": 609,
       "text": [
        "u'{\\n    \"jams\": [\\n        {\\n            \"name\": \"Global Game Jam 2014\",\\n            \"start_date\": \"2014-01-24 05:00:00 +0000\",\\n            \"end_date\": \"2014-01-26 05:00:00 +0000\",\\n            \"description\": \"The Global Game Jam (GGJ) is the world\\'s largest game jam event taking place around the world at physical locations. Think of it as a hackathon focused on game development.\",\\n            \"local\": true,\\n            \"url\": \"http:\\\\/\\\\/globalgamejam.org\\\\/\",\\n            \"tags\": [\\n                \"global-game-jam\"\\n            ],\\n            \"image\": \"jams\\\\/images\\\\/21092272484ec673cc161ac7.89017946.png\"\\n        },\\n        {\\n            \"name\": \"Nordic Game Jam\",\\n            \"start_date\": \"2014-02-14 08:00:00 +0000\",\\n            \"end_date\": \"2014-02-16 03:00:00 +0000\",\\n            \"description\": \"Nordic Game Jam is the biggest video game industry event in Denmark and one of the largest game jams in the whole world.\",\\n            \"local\": false,\\n            \"url\": \"http:\\\\/\\\\/nordicgamejam.org\\\\/\",\\n            \"tags\": [\\n                \"nordic-game-jam\"\\n            ]\\n        },\\n        {\\n            \"name\": \"Mini Ludum Dare #48\",\\n            \"start_date\": \"2014-01-10\",\\n            \"end_date\": \"2014-01-12\",\\n            \"description\": \"Mini Ludum Dares are here to fill the boring months without ordinary Ludum Dares. The host changes every time and so do the rules. It all depends on the host but MiniLDs are often relaxed compared to LDs.\",\\n            \"local\": false,\\n            \"url\": \"http:\\\\/\\\\/www.ludumdare.com\\\\/compo\\\\/2013\\\\/12\\\\/29\\\\/minild-48\\\\/\",\\n            \"tags\": [\\n                \"minild\",\\n                \"ludum-dare\"\\n            ],\\n            \"image\": \"jams\\\\/images\\\\/2576340814e81fd09b7e248.82235325.png\"\\n        },\\n        {\\n            \"name\": \"One Game a Month\",\\n            \"start_date\": \"2014-02-01\",\\n            \"end_date\": \"2014-02-28\",\\n            \"description\": \"Gamification added to game development. Try to release a new game every month and earn experience points.\",\\n            \"local\": true,\\n            \"url\": \"http:\\\\/\\\\/www.onegameamonth.com\",\\n            \"tags\": [\\n                \"one-game-a-month\"\\n            ],\\n            \"image\": \"jams\\\\/images\\\\/screenshot_1362265626.98_0.15127399745.png\"\\n        },\\n        {\\n            \"name\": \"One Game a Month\",\\n            \"start_date\": \"2014-03-01\",\\n            \"end_date\": \"2014-03-31\",\\n            \"description\": \"Gamification added to game development. Try to release a new game every month and earn experience points.\",\\n            \"local\": true,\\n            \"url\": \"http:\\\\/\\\\/www.onegameamonth.com\",\\n            \"tags\": [\\n                \"one-game-a-month\"\\n            ],\\n            \"image\": \"jams\\\\/images\\\\/screenshot_1362265626.98_0.15127399745.png\"\\n        },\\n        {\\n            \"name\": \"One Game a Month\",\\n            \"start_date\": \"2014-04-01\",\\n            \"end_date\": \"2014-04-30\",\\n            \"description\": \"Gamification added to game development. Try to release a new game every month and earn experience points.\",\\n            \"local\": true,\\n            \"url\": \"http:\\\\/\\\\/www.onegameamonth.com\",\\n            \"tags\": [\\n                \"one-game-a-month\"\\n            ],\\n            \"image\": \"jams\\\\/images\\\\/screenshot_1362265626.98_0.15127399745.png\"\\n        },\\n        {\\n            \"name\": \"One Game a Month\",\\n            \"start_date\": \"2014-05-01\",\\n            \"end_date\": \"2014-05-31\",\\n            \"description\": \"Gamification added to game development. Try to release a new game every month and earn experience points.\",\\n            \"local\": true,\\n            \"url\": \"http:\\\\/\\\\/www.onegameamonth.com\",\\n            \"tags\": [\\n                \"one-game-a-month\"\\n            ],\\n            \"image\": \"jams\\\\/images\\\\/screenshot_1362265626.98_0.15127399745.png\"\\n        },\\n        {\\n            \"name\": \"One Game a Month\",\\n            \"start_date\": \"2014-06-01\",\\n            \"end_date\": \"2014-06-30\",\\n            \"description\": \"Gamification added to game development. Try to release a new game every month and earn experience points.\",\\n            \"local\": true,\\n            \"url\": \"http:\\\\/\\\\/www.onegameamonth.com\",\\n            \"tags\": [\\n                \"one-game-a-month\"\\n            ],\\n            \"image\": \"jams\\\\/images\\\\/screenshot_1362265626.98_0.15127399745.png\"\\n        },\\n        {\\n            \"name\": \"One Game a Month\",\\n            \"start_date\": \"2014-07-01\",\\n            \"end_date\": \"2014-07-31\",\\n            \"description\": \"Gamification added to game development. Try to release a new game every month and earn experience points.\",\\n            \"local\": true,\\n            \"url\": \"http:\\\\/\\\\/www.onegameamonth.com\",\\n            \"tags\": [\\n                \"one-game-a-month\"\\n            ],\\n            \"image\": \"jams\\\\/images\\\\/screenshot_1362265626.98_0.15127399745.png\"\\n        },\\n        {\\n            \"name\": \"One Game a Month\",\\n            \"start_date\": \"2014-08-01\",\\n            \"end_date\": \"2014-08-31\",\\n            \"description\": \"Gamification added to game development. Try to release a new game every month and earn experience points.\",\\n            \"local\": true,\\n            \"url\": \"http:\\\\/\\\\/www.onegameamonth.com\",\\n            \"tags\": [\\n                \"one-game-a-month\"\\n            ],\\n            \"image\": \"jams\\\\/images\\\\/screenshot_1362265626.98_0.15127399745.png\"\\n        },\\n        {\\n            \"name\": \"One Game a Month\",\\n            \"start_date\": \"2014-09-01\",\\n            \"end_date\": \"2014-09-30\",\\n            \"description\": \"Gamification added to game development. Try to release a new game every month and earn experience points.\",\\n            \"local\": true,\\n            \"url\": \"http:\\\\/\\\\/www.onegameamonth.com\",\\n            \"tags\": [\\n                \"one-game-a-month\"\\n            ],\\n            \"image\": \"jams\\\\/images\\\\/screenshot_1362265626.98_0.15127399745.png\"\\n        },\\n        {\\n            \"name\": \"One Game a Month\",\\n            \"start_date\": \"2014-10-01\",\\n            \"end_date\": \"2014-10-31\",\\n            \"description\": \"Gamification added to game development. Try to release a new game every month and earn experience points.\",\\n            \"local\": true,\\n            \"url\": \"http:\\\\/\\\\/www.onegameamonth.com\",\\n            \"tags\": [\\n                \"one-game-a-month\"\\n            ],\\n            \"image\": \"jams\\\\/images\\\\/screenshot_1362265626.98_0.15127399745.png\"\\n        },\\n        {\\n            \"name\": \"One Game a Month\",\\n            \"start_date\": \"2014-11-01\",\\n            \"end_date\": \"2014-11-30\",\\n            \"description\": \"Gamification added to game development. Try to release a new game every month and earn experience points.\",\\n            \"local\": true,\\n            \"url\": \"http:\\\\/\\\\/www.onegameamonth.com\",\\n            \"tags\": [\\n                \"one-game-a-month\"\\n            ],\\n            \"image\": \"jams\\\\/images\\\\/screenshot_1362265626.98_0.15127399745.png\"\\n        },\\n        {\\n            \"name\": \"One Game a Month\",\\n            \"start_date\": \"2014-12-01\",\\n            \"end_date\": \"2014-12-31\",\\n            \"description\": \"Gamification added to game development. Try to release a new game every month and earn experience points.\",\\n            \"local\": true,\\n            \"url\": \"http:\\\\/\\\\/www.onegameamonth.com\",\\n            \"tags\": [\\n                \"one-game-a-month\"\\n            ],\\n            \"image\": \"jams\\\\/images\\\\/screenshot_1362265626.98_0.15127399745.png\"\\n        },\\n        {\\n            \"name\": \"GMC JAM #13\",\\n            \"start_date\": \"2014-01-25 12:00:00 +0000\",\\n            \"end_date\": \"2014-01-28 12:00:00 +0000\",\\n            \"description\": \"A 72-hour game jam for <a href=\\\\\"http:\\\\/\\\\/www.yoyogames.com\\\\/gamemaker\\\\\">Game Maker<\\\\/a> users. Includes prizes.\",\\n            \"local\": false,\\n            \"url\": \"http:\\\\/\\\\/gmc.yoyogames.com\\\\/index.php?showtopic=606847\",\\n            \"tags\": [\\n                \"gmc-jam\"\\n            ],\\n            \"image\": \"jams\\\\/images\\\\/278394084f91d85bd2d4e0.09374261.png\"\\n        },\\n        {\\n            \"name\": \"gm(48) #9\",\\n            \"start_date\": \"2014-01-18 12:00:00 +0000\",\\n            \"end_date\": \"2014-01-20 12:00:00 +0000\",\\n            \"description\": \"Born in the Reddit community, the gm(48) occurs once every season. There will be a two-week voting period for the theme, which will be revealed at the start of the competition.\",\\n            \"local\": false,\\n            \"url\": \"http:\\\\/\\\\/www.reddit.com\\\\/r\\\\/gamemaker\\\\/comments\\\\/1hamju\\\\/announcement_gm48_rules_and_theme_suggestion\\\\/\",\\n            \"tags\": [\\n                \"gm-48\"\\n            ]\\n        },\\n        {\\n            \"name\": \"Candy Jam\",\\n            \"start_date\": \"2014-01-21\",\\n            \"end_date\": \"2014-02-03\",\\n            \"description\": \"A game jam in reaction of a company trademarking a very common noun.\",\\n            \"local\": false,\\n            \"url\": \"http:\\\\/\\\\/candycandycandycandyjam.tumblr.com\\\\/\",\\n            \"tags\": [\\n                \"candy-jam\"\\n            ]\\n        },\\n        {\\n            \"name\": \"7 Day Finish Yer Game Jam\",\\n            \"start_date\": \"2014-02-10 11:59:00 +0000\",\\n            \"end_date\": \"2014-02-17 11:59:00 +0000\",\\n            \"description\": \"Use this jam as a deadline for your current game. Start whenever, but finish within these 7 days!\",\\n            \"local\": false,\\n            \"url\": \"http:\\\\/\\\\/gallefray.github.io\\\\/FinishYourGame-Jam\\\\/\",\\n            \"tags\": [\\n                \"7-day-finish-yer-game-jam\"\\n            ]\\n        },\\n        {\\n            \"name\": \"RR Mini Comp: One Screen Cassette 50\",\\n            \"start_date\": \"2014-01-17\",\\n            \"end_date\": \"2014-02-17\",\\n            \"description\": \"Make a crappy one screen remake of another game.\",\\n            \"local\": false,\\n            \"url\": \"http:\\\\/\\\\/retroremakes.com\\\\/nostalgia\\\\/2014\\\\/01\\\\/17\\\\/rr-mini-comp-one-screen-cassette-50\\\\/\",\\n            \"tags\": [\\n                \"retro-remakes\"\\n            ]\\n        },\\n        {\\n            \"name\": \"GDSE Winter Game Jam\",\\n            \"start_date\": \"2014-01-31 05:00:00 +0000\",\\n            \"end_date\": \"2014-02-02 05:00:00 +0000\",\\n            \"description\": \"A jam hosted by Game Development Stack Exchange.\",\\n            \"local\": false,\\n            \"url\": \"http:\\\\/\\\\/meta.gamedev.stackexchange.com\\\\/questions\\\\/1449\\\\/the-2014-gdse-winter-game-jam\",\\n            \"tags\": [\\n                \"gdse-jam\"\\n            ]\\n        },\\n        {\\n            \"name\": \"Seven Day Roguelike Challenge\",\\n            \"start_date\": \"2014-03-08\",\\n            \"end_date\": \"2014-03-16\",\\n            \"description\": \"In Seven Day Roguelike Challenge you have a week to build a roguelike. Using pre-existing resources is allowed.\",\\n            \"local\": false,\\n            \"url\": \"http:\\\\/\\\\/7drl.org\",\\n            \"tags\": [\\n                \"seven-day-roguelike-challenge\"\\n            ],\\n            \"image\": \"jams\\\\/images\\\\/screenshot_1359836493.39_0.601642125852.png\"\\n        },\\n        {\\n            \"name\": \"The Arbitrary Gamejam\",\\n            \"start_date\": \"2014-02-07 02:00:00 +0000\",\\n            \"end_date\": \"2014-02-09 02:00:00 +0000\",\\n            \"description\": \"What is TAG - The Arbitrary Gamejam?\\\\r\\\\nI created TAG to try and add something exciting and good natured to the community. \\\\r\\\\nThe Arbitrary Gamejam is a weekend game jam with 3 themes designed to promote small and unknown indie developers.\\\\r\\\\nAt the end of each TAG, the submissions are rated by the host.\\\\r\\\\nThe person who submitted the best game will be \\\\\"tagged\\\\\" and is responsible for hosting the next TAG.\\\\r\\\\nThe idea is, as the Gamejam grows more popular, passing the Gamejam around will help small unknown indie developers pull traffic to their websites.\\\\r\\\\nBy using a random word generator to generate 2\\\\/3 themes, TAG is intentionally arbitrary to encourage outside-the-box thinking and wild combinations.\\\\r\\\\n\\\\r\\\\n\\\\r\\\\nWhen is TAG?\\\\r\\\\nTAG usually occurs on the first weekend of every month, Friday to Sunday.\\\\r\\\\nThe themes for each TAG will be posted on the Thursday before it starts, to give people some time to think about how the themes can fit together.\\\\r\\\\nThe Jam Begins at Midnight on Thursday and Ends at Midnight on Sunday.\\\\r\\\\n\\\\r\\\\n[Go to the Current Hosts site for a Countdown to the next TAG]\\\\r\\\\n\\\\r\\\\n\\\\r\\\\nHow Do I Host?\\\\r\\\\nFirst and foremost, you cannot host TAG twice in a row or more than two times in a single year (Unless yours is the only submission). If you end up hosting TAG, you can handle it in any way you want under two conditions.\\\\r\\\\nYou must keep the 4 core rules outlined below by linking to this page. This maintains the legitimacy of the jam by identifying you officially as current host and prevents non-tagged people from hosting.\\\\r\\\\nThere must be 2 randomly generated themes, the last theme is chosen by you.\\\\r\\\\nOther than that you are free to decide how people join and how submissions are rated\\\\/handled, and any further rules\\\\/restrictions you want to place on participants.\\\\r\\\\n\\\\r\\\\n\\\\r\\\\nThe 4 Core Rules\\\\r\\\\nSubmissions must come in within 12 hours of the Gamejam ending.\\\\r\\\\nSubmissions must be original works, no plagiarism.\\\\r\\\\nSubmissions can be based on any number of themes, but must incorporate at least 1 of the randomly generated themes.\\\\r\\\\nNo Pressure. Just have fun with it. Submissions will still be accepted even if they\\'re not complete.\\\\r\\\\n- - -\\\\r\\\\n\\\\r\\\\nTAG History\\\\r\\\\n\\\\r\\\\nA List of all previous TAGs, their hosts and their entries.\\\\r\\\\n\\\\r\\\\n#01 - August 2013 - Hosted by TickTakashi\\\\r\\\\n[Games]\\\\r\\\\n\\\\r\\\\n#02 - September 2013 - Hosted by Udell Games\\\\r\\\\n[Games]\\\\r\\\\n\\\\r\\\\n#03 - October 2013 - Hosted by Brendan LoBuglio\\\\r\\\\n[Not Yet Started]\\\\r\\\\n\\\\r\\\\n[TAG #03 Begins on October 11th]\",\\n            \"local\": false,\\n            \"url\": \"http:\\\\/\\\\/www.ticktakashi.com\\\\/p\\\\/tag-arbitrary-gamejam.html\",\\n            \"tags\": [\\n                \"the-arbitrary-gamejam\"\\n            ],\\n            \"image\": \"jams\\\\/images\\\\/screenshot_1380914266.52_0.935968657593.png\"\\n        },\\n        {\\n            \"name\": \"Flappy Jam\",\\n            \"start_date\": \"2014-02-09\",\\n            \"end_date\": \"2014-02-24\",\\n            \"description\": null,\\n            \"local\": true,\\n            \"url\": \"http:\\\\/\\\\/itch.io\\\\/jam\\\\/flappyjam\",\\n            \"tags\": [\\n                \"itch-io\"\\n            ],\\n            \"themes\": [\\n                \"make-a-game-like-flappy-bird\"\\n            ]\\n        },\\n        {\\n            \"name\": \"games++\",\\n            \"start_date\": \"2014-03-01 03:00:00 +0000\",\\n            \"end_date\": \"2014-03-02 01:00:00 +0000\",\\n            \"description\": \"Organized by Alex Myers + Jeff Thompson, games++ is a local game jam in\\\\r\\\\n\\\\r\\\\nStevens Institute of Technology\\\\r\\\\nVisual Art & Technology Program\\\\r\\\\nMorton Building, 2nd Floor\\\\r\\\\nHoboken, New Jersey \\\\r\\\\n\\\\r\\\\nand\\\\r\\\\n\\\\r\\\\nBellevue University\\\\r\\\\nGame Studies Program\\\\r\\\\nASB, Basement\\\\r\\\\nOmaha, Nebraska\\\\r\\\\n\",\\n            \"local\": false,\\n            \"url\": \"http:\\\\/\\\\/gamesplusplus.org\\\\/\",\\n            \"tags\": [\\n                \"games\"\\n            ]\\n        },\\n        {\\n            \"name\": \"MiniLD #49\",\\n            \"start_date\": \"2014-02-21\",\\n            \"end_date\": \"2014-02-24\",\\n            \"description\": \"Mini Ludum Dares are here to fill the boring months without ordinary Ludum Dares. The host changes every time and so do the rules. It all depends on the host but MiniLDs are often relaxed compared to LDs.\",\\n            \"local\": true,\\n            \"url\": \"http:\\\\/\\\\/www.ludumdare.com\\\\/compo\\\\/2014\\\\/02\\\\/15\\\\/minild-49\\\\/\",\\n            \"tags\": [\\n                \"minild\",\\n                \"ludum-dare\"\\n            ],\\n            \"themes\": [\\n                \"non-human-player\"\\n            ],\\n            \"image\": \"jams\\\\/images\\\\/2576340814e81fd09b7e248.82235325.png\"\\n        },\\n        {\\n            \"name\": \"Cyberpunk Game Jam 2014\",\\n            \"start_date\": \"2014-03-01 08:00:00 +0000\",\\n            \"end_date\": \"2014-03-11 08:00:00 +0000\",\\n            \"description\": null,\\n            \"local\": false,\\n            \"url\": \"http:\\\\/\\\\/www.punkcyb.org\\\\/\",\\n            \"tags\": [\\n                \"itch-io\"\\n            ],\\n            \"themes\": [\\n                \"must-be-cyberpunk-related\",\\n                \"will-be-80-s-based\"\\n            ]\\n        },\\n        {\\n            \"name\": \"Ludum Dare 29\",\\n            \"start_date\": \"2014-04-26 01:00:00 +0000\",\\n            \"end_date\": \"2014-04-29 01:00:00 +0000\",\\n            \"description\": \"Dual event with 48h competition and 72h jam. The competition has stricter rules than the jam and it\\'s only for solo developers but otherwise they are the same.\",\\n            \"local\": false,\\n            \"url\": \"http:\\\\/\\\\/www.ludumdare.com\\\\/compo\\\\/\",\\n            \"tags\": [\\n                \"ludum-dare\"\\n            ],\\n            \"image\": \"jams\\\\/images\\\\/2576340814e81fd09b7e248.82235325.png\"\\n        },\\n        {\\n            \"name\": \"Toronto Independent Game Jam\",\\n            \"start_date\": \"2014-04-25 10:00:00 -0400\",\\n            \"end_date\": \"2014-04-27 23:00:00 -0400\",\\n            \"description\": \"The Toronto Independent Game Jam (TOJam) is a free, annual, open-to-the-public event that attracts a mix of hobbyists, students, and professionals. For some, it\\'s an opportunity to try new ideas, for others it\\'s a chance to focus. For everyone, it\\'s a grand old time!\",\\n            \"local\": true,\\n            \"url\": \"http:\\\\/\\\\/www.tojam.ca\\\\/\",\\n            \"tags\": [\\n                \"tojam\",\\n                \"toronto\"\\n            ]\\n        },\\n        {\\n            \"name\": \"FGL Game Jam\",\\n            \"start_date\": \"2014-03-01 12:00:00 +0000\",\\n            \"end_date\": \"2014-03-03 12:00:00 +0000\",\\n            \"description\": \"A forum based 48h jam with prizes. Mobile and web games only.\",\\n            \"local\": false,\\n            \"url\": \"https:\\\\/\\\\/www.fgl.com\\\\/view_thread.php?thread_id=48101&offset=0#post333237\",\\n            \"tags\": [\\n                \"fgl-game-jam\"\\n            ]\\n        },\\n        {\\n            \"name\": \"BaconGameJam 07\",\\n            \"start_date\": \"2014-03-21 10:00:00 +0000\",\\n            \"end_date\": \"2014-03-23 10:00:00 +0000\",\\n            \"description\": \"Game jam for everyone. No strict restrictions.\",\\n            \"local\": false,\\n            \"url\": \"http:\\\\/\\\\/bacongamejam.org\\\\/jams\\\\/bacongamejam-07\\\\/\",\\n            \"tags\": [\\n                \"bacongamejam\"\\n            ],\\n            \"image\": \"jams\\\\/images\\\\/screenshot_1343586023.16_0.540877325193.png\"\\n        },\\n        {\\n            \"name\": \"NaNoRenO 2014\",\\n            \"start_date\": \"2014-02-28 11:00:00 +0000\",\\n            \"end_date\": \"2014-03-31 11:00:00 +0000\",\\n            \"description\": \"NaNoRenO is an event where creators make a game (mostly visual novels) from scratch during the month of March.\",\\n            \"local\": false,\\n            \"url\": \"http:\\\\/\\\\/lemmasoft.renai.us\\\\/forums\\\\/viewtopic.php?f=13&t=25262\",\\n            \"tags\": [\\n                \"nanoreno\"\\n            ]\\n        },\\n        {\\n            \"name\": \"The Arbitrary Game Jam 8\",\\n            \"start_date\": \"2014-03-08 12:00:00 +0000\",\\n            \"end_date\": \"2014-03-10 12:00:00 +0000\",\\n            \"description\": \"What is TAG - The Arbitrary Gamejam?\\\\r\\\\nI created TAG to try and add something exciting and good natured to the community. \\\\r\\\\nThe Arbitrary Gamejam is a weekend game jam with 3 themes designed to promote small and unknown indie developers.\\\\r\\\\nAt the end of each TAG, the submissions are rated by the host.\\\\r\\\\nThe person who submitted the best game will be \\\\\"tagged\\\\\" and is responsible for hosting the next TAG.\\\\r\\\\nThe idea is, as the Gamejam grows more popular, passing the Gamejam around will help small unknown indie developers pull traffic to their websites.\\\\r\\\\nBy using a random word generator to generate 2\\\\/3 themes, TAG is intentionally arbitrary to encourage outside-the-box thinking and wild combinations.\\\\r\\\\n\\\\r\\\\n\\\\r\\\\nWhen is TAG?\\\\r\\\\nTAG usually occurs on the first weekend of every month, Friday to Sunday.\\\\r\\\\nThe themes for each TAG will be posted on the Thursday before it starts, to give people some time to think about how the themes can fit together.\\\\r\\\\nThe Jam Begins at Midnight on Thursday and Ends at Midnight on Sunday.\\\\r\\\\n\\\\r\\\\n[Go to the Current Hosts site for a Countdown to the next TAG]\\\\r\\\\n\\\\r\\\\n\\\\r\\\\nHow Do I Host?\\\\r\\\\nFirst and foremost, you cannot host TAG twice in a row or more than two times in a single year (Unless yours is the only submission). If you end up hosting TAG, you can handle it in any way you want under two conditions.\\\\r\\\\nYou must keep the 4 core rules outlined below by linking to this page. This maintains the legitimacy of the jam by identifying you officially as current host and prevents non-tagged people from hosting.\\\\r\\\\nThere must be 2 randomly generated themes, the last theme is chosen by you.\\\\r\\\\nOther than that you are free to decide how people join and how submissions are rated\\\\/handled, and any further rules\\\\/restrictions you want to place on participants.\\\\r\\\\n\\\\r\\\\n\\\\r\\\\nThe 4 Core Rules\\\\r\\\\nSubmissions must come in within 12 hours of the Gamejam ending.\\\\r\\\\nSubmissions must be original works, no plagiarism.\\\\r\\\\nSubmissions can be based on any number of themes, but must incorporate at least 1 of the randomly generated themes.\\\\r\\\\nNo Pressure. Just have fun with it. Submissions will still be accepted even if they\\'re not complete.\\\\r\\\\n- - -\\\\r\\\\n\\\\r\\\\nTAG History\\\\r\\\\n\\\\r\\\\nA List of all previous TAGs, their hosts and their entries.\\\\r\\\\n\\\\r\\\\n#01 - August 2013 - Hosted by TickTakashi\\\\r\\\\n[Games]\\\\r\\\\n\\\\r\\\\n#02 - September 2013 - Hosted by Udell Games\\\\r\\\\n[Games]\\\\r\\\\n\\\\r\\\\n#03 - October 2013 - Hosted by Brendan LoBuglio\\\\r\\\\n[Not Yet Started]\\\\r\\\\n\\\\r\\\\n[TAG #03 Begins on October 11th]\",\\n            \"local\": false,\\n            \"url\": \"http:\\\\/\\\\/www.ticktakashi.com\\\\/p\\\\/tag-arbitrary-gamejam.html\",\\n            \"tags\": [\\n                \"the-arbitrary-gamejam\"\\n            ],\\n            \"image\": \"jams\\\\/images\\\\/screenshot_1380914266.52_0.935968657593.png\"\\n        },\\n        {\\n            \"name\": \"64Digits Spring Competition\",\\n            \"start_date\": \"2014-04-01 07:00:00 +0000\",\\n            \"end_date\": \"2014-04-30 06:59:00 +0000\",\\n            \"description\": \"64digits is a small, close-knit community focused on game development and artistic endeavours. A few times a year, they host competitions to hone their skills, express ideas, and just to have fun! The contest is held entirely online and everyone is encouraged to participate.\",\\n            \"local\": false,\\n            \"url\": \"http:\\\\/\\\\/competition.64digits.com\\\\/\",\\n            \"tags\": [\\n                \"64digits\"\\n            ],\\n            \"image\": \"jams\\\\/images\\\\/14398886984e81fd1418e4f9.82238073.png\"\\n        },\\n        {\\n            \"name\": \"Procedural Death Jam\",\\n            \"start_date\": \"2014-03-08 12:00:00 +0000\",\\n            \"end_date\": \"2014-03-15 11:59:00 +0000\",\\n            \"description\": \"Procedural Death Jam is a 7-day game jam. The theme is \\\\\"Procedural Death Labyrinth,\\\\\" a new way of describing games like FTL, Spelunky, Coin Crypt, The Binding of Isaac, etc, that\\'s less awkward than \\\\\"Rogue-Like-LIKE\\\\\" or \\\\\"Rogue-LITE.\\\\\"\",\\n            \"local\": false,\\n            \"url\": \"http:\\\\/\\\\/proceduraldeathjam.com\\\\/\",\\n            \"tags\": [\\n                \"procedural-death-jam\"\\n            ]\\n        },\\n        {\\n            \"name\": \"MiniLD #50\",\\n            \"start_date\": \"2014-03-22\",\\n            \"end_date\": \"2014-03-24\",\\n            \"description\": \"Mini Ludum Dares are here to fill the boring months without ordinary Ludum Dares. The host changes every time and so do the rules. It all depends on the host but MiniLDs are often relaxed compared to LDs.\",\\n            \"local\": false,\\n            \"url\": \"http:\\\\/\\\\/bit.ly\\\\/MiniLD50\",\\n            \"tags\": [\\n                \"minild\",\\n                \"ludum-dare\"\\n            ],\\n            \"themes\": [\\n                \"demakes\"\\n            ],\\n            \"image\": \"jams\\\\/images\\\\/2576340814e81fd09b7e248.82235325.png\"\\n        },\\n        {\\n            \"name\": \"Pi Jam 2014\",\\n            \"start_date\": \"2014-03-14\",\\n            \"end_date\": \"2014-03-16\",\\n            \"description\": \"Pi Jam is a 48-hour game jam themed around \\\\u00cf\\\\u20ac, that beautiful mathematical constant. VFS Hat Jam and Microsoft have joined for hosting this jam.\",\\n            \"local\": false,\\n            \"url\": \"http:\\\\/\\\\/pi-jam.com\\\\/\",\\n            \"tags\": [\\n                \"pi-jam\"\\n            ]\\n        },\\n        {\\n            \"name\": \"Insanity Jam 2014\",\\n            \"start_date\": \"2014-04-01 12:00:00 +0000\",\\n            \"end_date\": \"2014-04-04 11:59:00 +0000\",\\n            \"description\": \"The Insanity Jam is a relaxed, experimental, game jam that utilizes orteil42\\'s random game idea generator. This Jam aims to be inclusive, welcoming game creators anywhere in the world of all skill levels, from newbies to professionals.\\\\r\\\\n\\\\r\\\\nThe Jam is split into 2 parts: the Main Jam, and the Post Jam, during which developers may clean up their project or make late submissions. \",\\n            \"local\": true,\\n            \"url\": \"http:\\\\/\\\\/jam.alamantus.com\\\\/insanity2014\\\\/viewtopic.php?id=12\",\\n            \"tags\": [\\n                \"insanity-jam\"\\n            ]\\n        },\\n        {\\n            \"name\": \"PyWeek May 2014\",\\n            \"start_date\": \"2014-05-11 12:00:00 +0000\",\\n            \"end_date\": \"2014-05-18 12:00:00 +0000\",\\n            \"description\": \"A week-long Python game programming challenge that is arranged roughly three times a year. The theme and the winners are chosen by fellow game makers.\",\\n            \"local\": false,\\n            \"url\": \"http:\\\\/\\\\/pyweek.org\\\\/18\\\\/\",\\n            \"tags\": [\\n                \"pyweek\"\\n            ],\\n            \"image\": \"jams\\\\/images\\\\/2849173764e81fcee271a33.24238708.png\"\\n        },\\n        {\\n            \"name\": \"#1Up Norwich Game Jam\",\\n            \"start_date\": \"2014-04-07 12:00:00 +0000\",\\n            \"end_date\": \"2014-04-11 12:00:00 +0000\",\\n            \"description\": \"Make a game within 4 days and win prizes with a total value of over \\xa333,000, in a number of categories. The winning games also have the chance to be exhibited in The Forum at a special event later in the year.\",\\n            \"local\": false,\\n            \"url\": \"http:\\\\/\\\\/norwichgamingfestival.wordpress.com\\\\/create\\\\/game-jam\\\\/\",\\n            \"tags\": [\\n                \"1up-norwich-game-jam\"\\n            ]\\n        },\\n        {\\n            \"name\": \"2014 Spring GDSE GameJam\",\\n            \"start_date\": \"2014-04-05 12:00:00 +0000\",\\n            \"end_date\": \"2014-04-07 11:59:00 +0000\",\\n            \"description\": \"A jam hosted by Game Development Stack Exchange.\",\\n            \"local\": false,\\n            \"url\": \"http:\\\\/\\\\/meta.gamedev.stackexchange.com\\\\/questions\\\\/1565\\\\/the-2014-spring-gdse-gamejam\",\\n            \"tags\": [\\n                \"gdse-jam\"\\n            ]\\n        },\\n        {\\n            \"name\": \"Level up 2014\",\\n            \"start_date\": \"2014-03-17 06:01:00 +0000\",\\n            \"end_date\": \"2014-06-03 07:59:00 +0000\",\\n            \"description\": null,\\n            \"local\": false,\\n            \"url\": \"http:\\\\/\\\\/software.intel.com\\\\/sites\\\\/campaigns\\\\/levelup2014\\\\/\",\\n            \"tags\": [\\n                \"level-up\"\\n            ],\\n            \"image\": \"jams\\\\/images\\\\/553949174f2bd02caa84e1.40172513.png\"\\n        },\\n        {\\n            \"name\": \"The Arbitrary Gamejam 9\",\\n            \"start_date\": \"2014-04-04 07:00:00 +0000\",\\n            \"end_date\": \"2014-04-06 06:59:00 +0000\",\\n            \"description\": \"What is TAG - The Arbitrary Gamejam?\\\\r\\\\nI created TAG to try and add something exciting and good natured to the community. \\\\r\\\\nThe Arbitrary Gamejam is a weekend game jam with 3 themes designed to promote small and unknown indie developers.\\\\r\\\\nAt the end of each TAG, the submissions are rated by the host.\\\\r\\\\nThe person who submitted the best game will be \\\\\"tagged\\\\\" and is responsible for hosting the next TAG.\\\\r\\\\nThe idea is, as the Gamejam grows more popular, passing the Gamejam around will help small unknown indie developers pull traffic to their websites.\\\\r\\\\nBy using a random word generator to generate 2\\\\/3 themes, TAG is intentionally arbitrary to encourage outside-the-box thinking and wild combinations.\\\\r\\\\n\\\\r\\\\n\\\\r\\\\nWhen is TAG?\\\\r\\\\nTAG usually occurs on the first weekend of every month, Friday to Sunday.\\\\r\\\\nThe themes for each TAG will be posted on the Thursday before it starts, to give people some time to think about how the themes can fit together.\\\\r\\\\nThe Jam Begins at Midnight on Thursday and Ends at Midnight on Sunday.\\\\r\\\\n\\\\r\\\\n[Go to the Current Hosts site for a Countdown to the next TAG]\\\\r\\\\n\\\\r\\\\n\\\\r\\\\nHow Do I Host?\\\\r\\\\nFirst and foremost, you cannot host TAG twice in a row or more than two times in a single year (Unless yours is the only submission). If you end up hosting TAG, you can handle it in any way you want under two conditions.\\\\r\\\\nYou must keep the 4 core rules outlined below by linking to this page. This maintains the legitimacy of the jam by identifying you officially as current host and prevents non-tagged people from hosting.\\\\r\\\\nThere must be 2 randomly generated themes, the last theme is chosen by you.\\\\r\\\\nOther than that you are free to decide how people join and how submissions are rated\\\\/handled, and any further rules\\\\/restrictions you want to place on participants.\\\\r\\\\n\\\\r\\\\n\\\\r\\\\nThe 4 Core Rules\\\\r\\\\nSubmissions must come in within 12 hours of the Gamejam ending.\\\\r\\\\nSubmissions must be original works, no plagiarism.\\\\r\\\\nSubmissions can be based on any number of themes, but must incorporate at least 1 of the randomly generated themes.\\\\r\\\\nNo Pressure. Just have fun with it. Submissions will still be accepted even if they\\'re not complete.\\\\r\\\\n- - -\\\\r\\\\n\\\\r\\\\nTAG History\\\\r\\\\n\\\\r\\\\nA List of all previous TAGs, their hosts and their entries.\\\\r\\\\n\\\\r\\\\n#01 - August 2013 - Hosted by TickTakashi\\\\r\\\\n[Games]\\\\r\\\\n\\\\r\\\\n#02 - September 2013 - Hosted by Udell Games\\\\r\\\\n[Games]\\\\r\\\\n\\\\r\\\\n#03 - October 2013 - Hosted by Brendan LoBuglio\\\\r\\\\n[Not Yet Started]\\\\r\\\\n\\\\r\\\\n[TAG #03 Begins on October 11th]\",\\n            \"local\": false,\\n            \"url\": \"http:\\\\/\\\\/www.dopplex.net\\\\/TAG9\\\\/\",\\n            \"tags\": [\\n                \"the-arbitrary-gamejam\"\\n            ],\\n            \"image\": \"jams\\\\/images\\\\/screenshot_1380914266.52_0.935968657593.png\"\\n        },\\n        {\\n            \"name\": \"Public Domain Jam\",\\n            \"start_date\": \"2014-05-17\",\\n            \"end_date\": \"2014-05-24\",\\n            \"description\": \"TIRED OF THE CONSTANT FLOOD OF CTHULU AND ZOMBIE GAMES? Part of the reason they\\'re everywhere is that they\\'re both well known and free to use, and a lot of people who make games aren\\'t aware of just how many good stories they\\'re carrying around with them. There are SO MANY other stories and characters out there that are also free to use. The list goes on forever, and these are all stories that are free to be remixed and remade by anyone. Whatever the reason, a lot of these stories aren\\'t out there in games yet. SO LET\\'S MAKE SOME!\",\\n            \"local\": false,\\n            \"url\": \"http:\\\\/\\\\/itch.io\\\\/jam\\\\/the-public-domain-jam\",\\n            \"tags\": [\\n                \"public-domain-jam\"\\n            ],\\n            \"themes\": [\\n                \"public-domain\"\\n            ]\\n        },\\n        {\\n            \"name\": \"Gender Jam\",\\n            \"start_date\": \"2014-04-01\",\\n            \"end_date\": \"2014-04-30\",\\n            \"description\": \"Since this jam is not being hosted in a central location there will be no voting and you will need to find a place to post your game. Consider this a more relaxed game jam.  More of a personal challenge for everyone than a competition.\",\\n            \"local\": false,\\n            \"url\": \"http:\\\\/\\\\/www.deviever.com\\\\/?p=76\",\\n            \"tags\": [\\n                \"gender-jam\"\\n            ],\\n            \"themes\": [\\n                \"gender\"\\n            ]\\n        },\\n        {\\n            \"name\": \"HTML5 Game Jam Paris\",\\n            \"start_date\": \"2014-05-09 10:00:00 +0000\",\\n            \"end_date\": \"2014-05-11 07:00:00 +0000\",\\n            \"description\": \"HTML5 Game Jam Paris is an international event open to professionals, students and other web enthusiasts.\\\\r\\\\nDuring this event, teams of graphic artists and developers will battle to make the best game from scratch using the latest open web technologies.\\\\r\\\\n\\\\r\\\\nThe event will last the whole weekend (9 10 11 may 2014), and tech talks are planned\",\\n            \"local\": false,\\n            \"url\": \"http:\\\\/\\\\/html5gamejam.org\\\\/\",\\n            \"tags\": [\\n                \"html5-game-jam\"\\n            ]\\n        },\\n        {\\n            \"name\": \"gm(48) #10\",\\n            \"start_date\": \"2014-04-18\",\\n            \"end_date\": \"2014-04-19\",\\n            \"description\": \"Born in the Reddit community, the gm(48) occurs once every season. There will be a two-week voting period for the theme, which will be revealed at the start of the competition.\",\\n            \"local\": false,\\n            \"url\": \"http:\\\\/\\\\/www.reddit.com\\\\/r\\\\/gamemaker\",\\n            \"tags\": [\\n                \"gm-48\"\\n            ]\\n        },\\n        {\\n            \"name\": \"The Arbitrary Gamejam 10\",\\n            \"start_date\": \"2014-05-02 07:00:00 -0400\",\\n            \"end_date\": \"2014-05-12 07:00:00 -0400\",\\n            \"description\": \"The Arbitrary Gamejam 10 (#TAGJam10) is the tenth game jam in a series of monthly game jams for indie game devs. Each month is hosted by winner of previous month. The Arbitrary Gamejam 10 will run will for 10 days rather than the usual 48/72 hours. Optional Bonus Rule 1: Post about your progress/lessons-learned after each day. Optional Bonus Rule 2: record and post a video of a mother playing the game or giving feedback on it (Mother\\'s Day - May 11)\",\\n            \"local\": false,\\n            \"url\": \"http://tagjam10.idumpling.com\",\\n            \"tags\": [\"the-arbitrary-gamejam\"],\\n            \"image\": \"http://tagjam10.idumpling.com/img/card_rotated_gray_320x200.png\"\\n        },\\n        {\\n            \"name\": \"Hack3city\",\\n            \"url\": \"http://hack3city.pl/\",\\n            \"start_date\": \"2014-05-05\",\\n            \"end_date\": \"2014-05-11\",\\n            \"description\": \"Hackaton in Poland. During one of the biggest conference about IT and new media in Poland, there will be possibility to take part in interesting hackhaton. If you want to participate, you have to choose one of the three ways of competition. Every one of this ways are hosted by other companies, such as Intel, Playsoft and Estimote. Spend a nice weekend in Gda\\u0144sk and learn something new.\"\\n        },\\n        {\\n            \"name\": \"Game Changer Game Jam\",\\n            \"url\": \"http://www.gcgj.org/\",\\n            \"start_date\": \"2014-05-02 11:40:00 -0700\",\\n            \"end_date\": \"2014-05-04 05:00:00 -0700\",\\n            \"description\": \"(Aarhus Denmark) We believe that Game Designers, Gamers and Games together hold an important role in society. That Game designers will be the future engagement hackers, change agents and architects of massive collaborative systems. That Games dealing with political, social and environmental challenges can be an platform for massive change, inspiring Gamers to connect and engage with important issues more effectively.\"\\n        }\\n    ]\\n}'"
       ]
      }
     ],
     "prompt_number": 609
    },
    {
     "cell_type": "code",
     "collapsed": false,
     "input": [
      "compdict = json.loads(jamft.text)"
     ],
     "language": "python",
     "metadata": {},
     "outputs": [],
     "prompt_number": 619
    },
    {
     "cell_type": "code",
     "collapsed": false,
     "input": [
      "compjam = compdict[u'jams']"
     ],
     "language": "python",
     "metadata": {},
     "outputs": [],
     "prompt_number": 625
    },
    {
     "cell_type": "code",
     "collapsed": false,
     "input": [
      "lencomp = len(compjam)"
     ],
     "language": "python",
     "metadata": {},
     "outputs": [],
     "prompt_number": 629
    },
    {
     "cell_type": "code",
     "collapsed": false,
     "input": [
      "import random"
     ],
     "language": "python",
     "metadata": {},
     "outputs": [],
     "prompt_number": 667
    },
    {
     "cell_type": "code",
     "collapsed": false,
     "input": [
      "genlin = random.randint(0, lencomp)"
     ],
     "language": "python",
     "metadata": {},
     "outputs": [],
     "prompt_number": 668
    },
    {
     "cell_type": "code",
     "collapsed": false,
     "input": [
      "ggj = compjam[genlin]"
     ],
     "language": "python",
     "metadata": {},
     "outputs": [],
     "prompt_number": 669
    },
    {
     "cell_type": "code",
     "collapsed": false,
     "input": [
      "jamlis = []"
     ],
     "language": "python",
     "metadata": {},
     "outputs": [],
     "prompt_number": 689
    },
    {
     "cell_type": "code",
     "collapsed": false,
     "input": [
      "#for gj in ggj.keys():\n",
      "    #print gj\n",
      "    #print ggj[gj]\n",
      "\n",
      "for jec in range(lencomp):\n",
      "    print compjam[jec][u'name']\n",
      "    jamlis.append(compjam[jec][u'name'])"
     ],
     "language": "python",
     "metadata": {},
     "outputs": [
      {
       "output_type": "stream",
       "stream": "stdout",
       "text": [
        "Global Game Jam 2014\n",
        "Nordic Game Jam\n",
        "Mini Ludum Dare #48\n",
        "One Game a Month\n",
        "One Game a Month\n",
        "One Game a Month\n",
        "One Game a Month\n",
        "One Game a Month\n",
        "One Game a Month\n",
        "One Game a Month\n",
        "One Game a Month\n",
        "One Game a Month\n",
        "One Game a Month\n",
        "One Game a Month\n",
        "GMC JAM #13\n",
        "gm(48) #9\n",
        "Candy Jam\n",
        "7 Day Finish Yer Game Jam\n",
        "RR Mini Comp: One Screen Cassette 50\n",
        "GDSE Winter Game Jam\n",
        "Seven Day Roguelike Challenge\n",
        "The Arbitrary Gamejam\n",
        "Flappy Jam\n",
        "games++\n",
        "MiniLD #49\n",
        "Cyberpunk Game Jam 2014\n",
        "Ludum Dare 29\n",
        "Toronto Independent Game Jam\n",
        "FGL Game Jam\n",
        "BaconGameJam 07\n",
        "NaNoRenO 2014\n",
        "The Arbitrary Game Jam 8\n",
        "64Digits Spring Competition\n",
        "Procedural Death Jam\n",
        "MiniLD #50\n",
        "Pi Jam 2014\n",
        "Insanity Jam 2014\n",
        "PyWeek May 2014\n",
        "#1Up Norwich Game Jam\n",
        "2014 Spring GDSE GameJam\n",
        "Level up 2014\n",
        "The Arbitrary Gamejam 9\n",
        "Public Domain Jam\n",
        "Gender Jam\n",
        "HTML5 Game Jam Paris\n",
        "gm(48) #10\n",
        "The Arbitrary Gamejam 10\n",
        "Hack3city\n",
        "Game Changer Game Jam\n"
       ]
      }
     ],
     "prompt_number": 690
    },
    {
     "cell_type": "code",
     "collapsed": false,
     "input": [
      "len(jamlis)"
     ],
     "language": "python",
     "metadata": {},
     "outputs": [
      {
       "output_type": "pyout",
       "prompt_number": 692,
       "text": [
        "49"
       ]
      }
     ],
     "prompt_number": 692
    },
    {
     "cell_type": "code",
     "collapsed": false,
     "input": [
      "fujamft = list(set(jamlis))"
     ],
     "language": "python",
     "metadata": {},
     "outputs": [],
     "prompt_number": 695
    },
    {
     "cell_type": "code",
     "collapsed": false,
     "input": [
      "lencv = len(fujamft)"
     ],
     "language": "python",
     "metadata": {},
     "outputs": [],
     "prompt_number": 700
    },
    {
     "cell_type": "code",
     "collapsed": false,
     "input": [
      "chran = random.randint(0, lencv)"
     ],
     "language": "python",
     "metadata": {},
     "outputs": [],
     "prompt_number": 704
    },
    {
     "cell_type": "code",
     "collapsed": false,
     "input": [
      "lencv"
     ],
     "language": "python",
     "metadata": {},
     "outputs": [
      {
       "output_type": "pyout",
       "prompt_number": 705,
       "text": [
        "39"
       ]
      }
     ],
     "prompt_number": 705
    },
    {
     "cell_type": "code",
     "collapsed": false,
     "input": [
      "import re\n",
      "\n",
      "a = 'a b .c???d;;'\n",
      "chars = [' ']\n",
      "\n",
      "print re.sub('[%s]' % ''.join(chars), '-', a)"
     ],
     "language": "python",
     "metadata": {},
     "outputs": [
      {
       "output_type": "stream",
       "stream": "stdout",
       "text": [
        "a-b-.c???d;;\n"
       ]
      }
     ],
     "prompt_number": 706
    },
    {
     "cell_type": "code",
     "collapsed": false,
     "input": [
      "for fuj in fujamft:\n",
      "    a = 'a b .c???d;;'\n",
      "    chars = [' ']\n",
      "\n",
      "    print re.sub('[%s]' % ''.join(chars), '-', a)\n",
      "    "
     ],
     "language": "python",
     "metadata": {},
     "outputs": [
      {
       "output_type": "stream",
       "stream": "stdout",
       "text": [
        "a-b-.c???d;;\n",
        "a-b-.c???d;;\n",
        "a-b-.c???d;;\n",
        "a-b-.c???d;;\n",
        "a-b-.c???d;;\n",
        "a-b-.c???d;;\n",
        "a-b-.c???d;;\n",
        "a-b-.c???d;;\n",
        "a-b-.c???d;;\n",
        "a-b-.c???d;;\n",
        "a-b-.c???d;;\n",
        "a-b-.c???d;;\n",
        "a-b-.c???d;;\n",
        "a-b-.c???d;;\n",
        "a-b-.c???d;;\n",
        "a-b-.c???d;;\n",
        "a-b-.c???d;;\n",
        "a-b-.c???d;;\n",
        "a-b-.c???d;;\n",
        "a-b-.c???d;;\n",
        "a-b-.c???d;;\n",
        "a-b-.c???d;;\n",
        "a-b-.c???d;;\n",
        "a-b-.c???d;;\n",
        "a-b-.c???d;;\n",
        "a-b-.c???d;;\n",
        "a-b-.c???d;;\n",
        "a-b-.c???d;;\n",
        "a-b-.c???d;;\n",
        "a-b-.c???d;;\n",
        "a-b-.c???d;;\n",
        "a-b-.c???d;;\n",
        "a-b-.c???d;;\n",
        "a-b-.c???d;;\n",
        "a-b-.c???d;;\n",
        "a-b-.c???d;;\n",
        "a-b-.c???d;;\n",
        "a-b-.c???d;;\n",
        "a-b-.c???d;;\n"
       ]
      }
     ],
     "prompt_number": 707
    },
    {
     "cell_type": "code",
     "collapsed": false,
     "input": [
      "fujamft[chran]"
     ],
     "language": "python",
     "metadata": {},
     "outputs": [
      {
       "output_type": "pyout",
       "prompt_number": 708,
       "text": [
        "u'Seven Day Roguelike Challenge'"
       ]
      }
     ],
     "prompt_number": 708
    },
    {
     "cell_type": "code",
     "collapsed": false,
     "input": [
      "jamlis"
     ],
     "language": "python",
     "metadata": {},
     "outputs": [
      {
       "output_type": "pyout",
       "prompt_number": 709,
       "text": [
        "[u'Global Game Jam 2014',\n",
        " u'Nordic Game Jam',\n",
        " u'Mini Ludum Dare #48',\n",
        " u'One Game a Month',\n",
        " u'One Game a Month',\n",
        " u'One Game a Month',\n",
        " u'One Game a Month',\n",
        " u'One Game a Month',\n",
        " u'One Game a Month',\n",
        " u'One Game a Month',\n",
        " u'One Game a Month',\n",
        " u'One Game a Month',\n",
        " u'One Game a Month',\n",
        " u'One Game a Month',\n",
        " u'GMC JAM #13',\n",
        " u'gm(48) #9',\n",
        " u'Candy Jam',\n",
        " u'7 Day Finish Yer Game Jam',\n",
        " u'RR Mini Comp: One Screen Cassette 50',\n",
        " u'GDSE Winter Game Jam',\n",
        " u'Seven Day Roguelike Challenge',\n",
        " u'The Arbitrary Gamejam',\n",
        " u'Flappy Jam',\n",
        " u'games++',\n",
        " u'MiniLD #49',\n",
        " u'Cyberpunk Game Jam 2014',\n",
        " u'Ludum Dare 29',\n",
        " u'Toronto Independent Game Jam',\n",
        " u'FGL Game Jam',\n",
        " u'BaconGameJam 07',\n",
        " u'NaNoRenO 2014',\n",
        " u'The Arbitrary Game Jam 8',\n",
        " u'64Digits Spring Competition',\n",
        " u'Procedural Death Jam',\n",
        " u'MiniLD #50',\n",
        " u'Pi Jam 2014',\n",
        " u'Insanity Jam 2014',\n",
        " u'PyWeek May 2014',\n",
        " u'#1Up Norwich Game Jam',\n",
        " u'2014 Spring GDSE GameJam',\n",
        " u'Level up 2014',\n",
        " u'The Arbitrary Gamejam 9',\n",
        " u'Public Domain Jam',\n",
        " u'Gender Jam',\n",
        " u'HTML5 Game Jam Paris',\n",
        " u'gm(48) #10',\n",
        " u'The Arbitrary Gamejam 10',\n",
        " u'Hack3city',\n",
        " u'Game Changer Game Jam']"
       ]
      }
     ],
     "prompt_number": 709
    },
    {
     "cell_type": "code",
     "collapsed": false,
     "input": [
      "for mehc in ggj.keys():\n",
      "    print mehc"
     ],
     "language": "python",
     "metadata": {},
     "outputs": [
      {
       "output_type": "stream",
       "stream": "stdout",
       "text": [
        "description\n",
        "end_date\n",
        "tags\n",
        "url\n",
        "local\n",
        "start_date\n",
        "name\n"
       ]
      }
     ],
     "prompt_number": 710
    },
    {
     "cell_type": "code",
     "collapsed": false,
     "input": [
      "compft = compjam[0:lencomp]"
     ],
     "language": "python",
     "metadata": {},
     "outputs": [],
     "prompt_number": 631
    },
    {
     "cell_type": "code",
     "collapsed": false,
     "input": [
      "compft.sort"
     ],
     "language": "python",
     "metadata": {},
     "outputs": [
      {
       "output_type": "pyout",
       "prompt_number": 633,
       "text": [
        "<function sort>"
       ]
      }
     ],
     "prompt_number": 633
    },
    {
     "cell_type": "code",
     "collapsed": false,
     "input": [
      "dictv = compdict.values()"
     ],
     "language": "python",
     "metadata": {},
     "outputs": [],
     "prompt_number": 642
    },
    {
     "cell_type": "code",
     "collapsed": false,
     "input": [
      "dictv.count('id')"
     ],
     "language": "python",
     "metadata": {},
     "outputs": [
      {
       "output_type": "pyout",
       "prompt_number": 645,
       "text": [
        "0"
       ]
      }
     ],
     "prompt_number": 645
    },
    {
     "cell_type": "code",
     "collapsed": false,
     "input": [],
     "language": "python",
     "metadata": {},
     "outputs": []
    }
   ],
   "metadata": {}
  }
 ]
}