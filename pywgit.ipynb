{
 "metadata": {
  "name": "pywgit"
 },
 "nbformat": 3,
 "nbformat_minor": 0,
 "worksheets": [
  {
   "cells": [
    {
     "cell_type": "heading",
     "level": 1,
     "metadata": {},
     "source": [
      "pywgit"
     ]
    },
    {
     "cell_type": "markdown",
     "metadata": {},
     "source": [
      "This is a python script to download repos from github\n",
      "It takes the login name (wcmckee in my case) and downloads the repos of github user (the system login name). It downloads it to the home dir. \n",
      "The program checks if you have local folders that are also on github. It will skip them from downloading from github. "
     ]
    },
    {
     "cell_type": "code",
     "collapsed": false,
     "input": [
      "from github import Github\n",
      "import os\n",
      "import getpass\n",
      "import git"
     ],
     "language": "python",
     "metadata": {},
     "outputs": [],
     "prompt_number": 31
    },
    {
     "cell_type": "code",
     "collapsed": false,
     "input": [
      "theuser = getpass.getuser()"
     ],
     "language": "python",
     "metadata": {},
     "outputs": [],
     "prompt_number": 32
    },
    {
     "cell_type": "markdown",
     "metadata": {},
     "source": [
      "muliti support for user names - cycle through a list, user input, and get username from login. "
     ]
    },
    {
     "cell_type": "code",
     "collapsed": false,
     "input": [
      "usergen = ['ipython', 'wcmckee', 'drhealsgood', 'hamipy']"
     ],
     "language": "python",
     "metadata": {},
     "outputs": [],
     "prompt_number": 33
    },
    {
     "cell_type": "code",
     "collapsed": false,
     "input": [
      "userinput = raw_input('github username: ')"
     ],
     "language": "python",
     "metadata": {},
     "outputs": [
      {
       "ename": "StdinNotImplementedError",
       "evalue": "raw_input was called, but this frontend does not support stdin.",
       "output_type": "pyerr",
       "traceback": [
        "\u001b[0;31m---------------------------------------------------------------------------\u001b[0m\n\u001b[0;31mStdinNotImplementedError\u001b[0m                  Traceback (most recent call last)",
        "\u001b[0;32m<ipython-input-34-8bbba8f91ccc>\u001b[0m in \u001b[0;36m<module>\u001b[0;34m()\u001b[0m\n\u001b[0;32m----> 1\u001b[0;31m \u001b[0muserinput\u001b[0m \u001b[0;34m=\u001b[0m \u001b[0mraw_input\u001b[0m\u001b[0;34m(\u001b[0m\u001b[0;34m'github username: '\u001b[0m\u001b[0;34m)\u001b[0m\u001b[0;34m\u001b[0m\u001b[0m\n\u001b[0m",
        "\u001b[0;32m/usr/lib/python2.7/dist-packages/IPython/zmq/ipkernel.pyc\u001b[0m in \u001b[0;36m<lambda>\u001b[0;34m(prompt)\u001b[0m\n\u001b[1;32m    343\u001b[0m             \u001b[0mraw_input\u001b[0m \u001b[0;34m=\u001b[0m \u001b[0;32mlambda\u001b[0m \u001b[0mprompt\u001b[0m\u001b[0;34m=\u001b[0m\u001b[0;34m''\u001b[0m\u001b[0;34m:\u001b[0m \u001b[0mself\u001b[0m\u001b[0;34m.\u001b[0m\u001b[0m_raw_input\u001b[0m\u001b[0;34m(\u001b[0m\u001b[0mprompt\u001b[0m\u001b[0;34m,\u001b[0m \u001b[0mident\u001b[0m\u001b[0;34m,\u001b[0m \u001b[0mparent\u001b[0m\u001b[0;34m)\u001b[0m\u001b[0;34m\u001b[0m\u001b[0m\n\u001b[1;32m    344\u001b[0m         \u001b[0;32melse\u001b[0m\u001b[0;34m:\u001b[0m\u001b[0;34m\u001b[0m\u001b[0m\n\u001b[0;32m--> 345\u001b[0;31m             \u001b[0mraw_input\u001b[0m \u001b[0;34m=\u001b[0m \u001b[0;32mlambda\u001b[0m \u001b[0mprompt\u001b[0m\u001b[0;34m=\u001b[0m\u001b[0;34m''\u001b[0m \u001b[0;34m:\u001b[0m \u001b[0mself\u001b[0m\u001b[0;34m.\u001b[0m\u001b[0m_no_raw_input\u001b[0m\u001b[0;34m(\u001b[0m\u001b[0;34m)\u001b[0m\u001b[0;34m\u001b[0m\u001b[0m\n\u001b[0m\u001b[1;32m    346\u001b[0m \u001b[0;34m\u001b[0m\u001b[0m\n\u001b[1;32m    347\u001b[0m         \u001b[0;32mif\u001b[0m \u001b[0mpy3compat\u001b[0m\u001b[0;34m.\u001b[0m\u001b[0mPY3\u001b[0m\u001b[0;34m:\u001b[0m\u001b[0;34m\u001b[0m\u001b[0m\n",
        "\u001b[0;32m/usr/lib/python2.7/dist-packages/IPython/zmq/ipkernel.pyc\u001b[0m in \u001b[0;36m_no_raw_input\u001b[0;34m(self)\u001b[0m\n\u001b[1;32m    686\u001b[0m         \"\"\"Raise StdinNotImplentedError if active frontend doesn't support\n\u001b[1;32m    687\u001b[0m         stdin.\"\"\"\n\u001b[0;32m--> 688\u001b[0;31m         raise StdinNotImplementedError(\"raw_input was called, but this \"\n\u001b[0m\u001b[1;32m    689\u001b[0m                                        \"frontend does not support stdin.\") \n\u001b[1;32m    690\u001b[0m \u001b[0;34m\u001b[0m\u001b[0m\n",
        "\u001b[0;31mStdinNotImplementedError\u001b[0m: raw_input was called, but this frontend does not support stdin."
       ]
      }
     ],
     "prompt_number": 34
    },
    {
     "cell_type": "code",
     "collapsed": false,
     "input": [
      "for us in usergen:\n",
      "    print us"
     ],
     "language": "python",
     "metadata": {},
     "outputs": [
      {
       "output_type": "stream",
       "stream": "stdout",
       "text": [
        "ipython\n",
        "wcmckee\n",
        "drhealsgood\n",
        "hamipy\n"
       ]
      }
     ],
     "prompt_number": 35
    },
    {
     "cell_type": "code",
     "collapsed": false,
     "input": [
      "g = Github()"
     ],
     "language": "python",
     "metadata": {},
     "outputs": [],
     "prompt_number": 36
    },
    {
     "cell_type": "code",
     "collapsed": false,
     "input": [
      "gitlist = []"
     ],
     "language": "python",
     "metadata": {},
     "outputs": [],
     "prompt_number": 37
    },
    {
     "cell_type": "code",
     "collapsed": false,
     "input": [
      "searchpy = g.search_repositories('python')"
     ],
     "language": "python",
     "metadata": {},
     "outputs": [],
     "prompt_number": 44
    },
    {
     "cell_type": "code",
     "collapsed": false,
     "input": [
      "searchbleh = g.get_api_status()"
     ],
     "language": "python",
     "metadata": {},
     "outputs": [],
     "prompt_number": 52
    },
    {
     "cell_type": "code",
     "collapsed": false,
     "input": [
      "print searchbleh.status\n",
      "print searchbleh.last_modified"
     ],
     "language": "python",
     "metadata": {},
     "outputs": [
      {
       "output_type": "stream",
       "stream": "stdout",
       "text": [
        "good\n",
        "None\n"
       ]
      }
     ],
     "prompt_number": 58
    },
    {
     "cell_type": "code",
     "collapsed": false,
     "input": [
      "searchpy.totalCount"
     ],
     "language": "python",
     "metadata": {},
     "outputs": [
      {
       "output_type": "pyout",
       "prompt_number": 59,
       "text": [
        "97241"
       ]
      }
     ],
     "prompt_number": 59
    },
    {
     "cell_type": "code",
     "collapsed": false,
     "input": [
      "import geopy"
     ],
     "language": "python",
     "metadata": {},
     "outputs": [],
     "prompt_number": 60
    },
    {
     "cell_type": "code",
     "collapsed": false,
     "input": [
      "koapi = ('d2b321e45a2041f19551a3f3b223fce0')"
     ],
     "language": "python",
     "metadata": {},
     "outputs": [],
     "prompt_number": 61
    },
    {
     "cell_type": "code",
     "collapsed": false,
     "input": [
      "geoloc = geopy.geocoders.GoogleV3()"
     ],
     "language": "python",
     "metadata": {},
     "outputs": [],
     "prompt_number": 63
    },
    {
     "cell_type": "code",
     "collapsed": false,
     "input": [
      "address = geoloc.geocode('8 Margaret Street Levin')"
     ],
     "language": "python",
     "metadata": {},
     "outputs": [],
     "prompt_number": 67
    },
    {
     "cell_type": "code",
     "collapsed": false,
     "input": [
      "print address"
     ],
     "language": "python",
     "metadata": {},
     "outputs": [
      {
       "output_type": "stream",
       "stream": "stdout",
       "text": [
        "8 Margaret Street, Levin 5510, New Zealand\n"
       ]
      }
     ],
     "prompt_number": 68
    },
    {
     "cell_type": "code",
     "collapsed": false,
     "input": [
      "address.point"
     ],
     "language": "python",
     "metadata": {},
     "outputs": [
      {
       "output_type": "pyout",
       "prompt_number": 66,
       "text": [
        "Point(-40.6165368, 175.277496, 0.0)"
       ]
      }
     ],
     "prompt_number": 66
    },
    {
     "cell_type": "code",
     "collapsed": false,
     "input": [
      "for se in searchpy:\n",
      "    print se.url"
     ],
     "language": "python",
     "metadata": {},
     "outputs": [
      {
       "ename": "GithubException",
       "evalue": "403 {u'documentation_url': u'https://developer.github.com/v3/#rate-limiting', u'message': u\"API rate limit exceeded for 74.50.51.32. (But here's the good news: Authenticated requests get a higher rate limit. Check out the documentation for more details.)\"}",
       "output_type": "pyerr",
       "traceback": [
        "\u001b[0;31m---------------------------------------------------------------------------\u001b[0m\n\u001b[0;31mGithubException\u001b[0m                           Traceback (most recent call last)",
        "\u001b[0;32m<ipython-input-51-e5b46de80eed>\u001b[0m in \u001b[0;36m<module>\u001b[0;34m()\u001b[0m\n\u001b[0;32m----> 1\u001b[0;31m \u001b[0;32mfor\u001b[0m \u001b[0mse\u001b[0m \u001b[0;32min\u001b[0m \u001b[0msearchpy\u001b[0m\u001b[0;34m:\u001b[0m\u001b[0;34m\u001b[0m\u001b[0m\n\u001b[0m\u001b[1;32m      2\u001b[0m     \u001b[0;32mprint\u001b[0m \u001b[0mse\u001b[0m\u001b[0;34m.\u001b[0m\u001b[0murl\u001b[0m\u001b[0;34m\u001b[0m\u001b[0m\n",
        "\u001b[0;32m/usr/local/lib/python2.7/dist-packages/github/PaginatedList.pyc\u001b[0m in \u001b[0;36m__iter__\u001b[0;34m(self)\u001b[0m\n\u001b[1;32m     46\u001b[0m             \u001b[0;32myield\u001b[0m \u001b[0melement\u001b[0m\u001b[0;34m\u001b[0m\u001b[0m\n\u001b[1;32m     47\u001b[0m         \u001b[0;32mwhile\u001b[0m \u001b[0mself\u001b[0m\u001b[0;34m.\u001b[0m\u001b[0m_couldGrow\u001b[0m\u001b[0;34m(\u001b[0m\u001b[0;34m)\u001b[0m\u001b[0;34m:\u001b[0m\u001b[0;34m\u001b[0m\u001b[0m\n\u001b[0;32m---> 48\u001b[0;31m             \u001b[0mnewElements\u001b[0m \u001b[0;34m=\u001b[0m \u001b[0mself\u001b[0m\u001b[0;34m.\u001b[0m\u001b[0m_grow\u001b[0m\u001b[0;34m(\u001b[0m\u001b[0;34m)\u001b[0m\u001b[0;34m\u001b[0m\u001b[0m\n\u001b[0m\u001b[1;32m     49\u001b[0m             \u001b[0;32mfor\u001b[0m \u001b[0melement\u001b[0m \u001b[0;32min\u001b[0m \u001b[0mnewElements\u001b[0m\u001b[0;34m:\u001b[0m\u001b[0;34m\u001b[0m\u001b[0m\n\u001b[1;32m     50\u001b[0m                 \u001b[0;32myield\u001b[0m \u001b[0melement\u001b[0m\u001b[0;34m\u001b[0m\u001b[0m\n",
        "\u001b[0;32m/usr/local/lib/python2.7/dist-packages/github/PaginatedList.pyc\u001b[0m in \u001b[0;36m_grow\u001b[0;34m(self)\u001b[0m\n\u001b[1;32m     58\u001b[0m \u001b[0;34m\u001b[0m\u001b[0m\n\u001b[1;32m     59\u001b[0m     \u001b[0;32mdef\u001b[0m \u001b[0m_grow\u001b[0m\u001b[0;34m(\u001b[0m\u001b[0mself\u001b[0m\u001b[0;34m)\u001b[0m\u001b[0;34m:\u001b[0m\u001b[0;34m\u001b[0m\u001b[0m\n\u001b[0;32m---> 60\u001b[0;31m         \u001b[0mnewElements\u001b[0m \u001b[0;34m=\u001b[0m \u001b[0mself\u001b[0m\u001b[0;34m.\u001b[0m\u001b[0m_fetchNextPage\u001b[0m\u001b[0;34m(\u001b[0m\u001b[0;34m)\u001b[0m\u001b[0;34m\u001b[0m\u001b[0m\n\u001b[0m\u001b[1;32m     61\u001b[0m         \u001b[0mself\u001b[0m\u001b[0;34m.\u001b[0m\u001b[0m__elements\u001b[0m \u001b[0;34m+=\u001b[0m \u001b[0mnewElements\u001b[0m\u001b[0;34m\u001b[0m\u001b[0m\n\u001b[1;32m     62\u001b[0m         \u001b[0;32mreturn\u001b[0m \u001b[0mnewElements\u001b[0m\u001b[0;34m\u001b[0m\u001b[0m\n",
        "\u001b[0;32m/usr/local/lib/python2.7/dist-packages/github/PaginatedList.pyc\u001b[0m in \u001b[0;36m_fetchNextPage\u001b[0;34m(self)\u001b[0m\n\u001b[1;32m    156\u001b[0m             \u001b[0;34m\"GET\"\u001b[0m\u001b[0;34m,\u001b[0m\u001b[0;34m\u001b[0m\u001b[0m\n\u001b[1;32m    157\u001b[0m             \u001b[0mself\u001b[0m\u001b[0;34m.\u001b[0m\u001b[0m__nextUrl\u001b[0m\u001b[0;34m,\u001b[0m\u001b[0;34m\u001b[0m\u001b[0m\n\u001b[0;32m--> 158\u001b[0;31m             \u001b[0mparameters\u001b[0m\u001b[0;34m=\u001b[0m\u001b[0mself\u001b[0m\u001b[0;34m.\u001b[0m\u001b[0m__nextParams\u001b[0m\u001b[0;34m\u001b[0m\u001b[0m\n\u001b[0m\u001b[1;32m    159\u001b[0m         )\n\u001b[1;32m    160\u001b[0m \u001b[0;34m\u001b[0m\u001b[0m\n",
        "\u001b[0;32m/usr/local/lib/python2.7/dist-packages/github/Requester.pyc\u001b[0m in \u001b[0;36mrequestJsonAndCheck\u001b[0;34m(self, verb, url, parameters, headers, input, cnx)\u001b[0m\n\u001b[1;32m    167\u001b[0m \u001b[0;34m\u001b[0m\u001b[0m\n\u001b[1;32m    168\u001b[0m     \u001b[0;32mdef\u001b[0m \u001b[0mrequestJsonAndCheck\u001b[0m\u001b[0;34m(\u001b[0m\u001b[0mself\u001b[0m\u001b[0;34m,\u001b[0m \u001b[0mverb\u001b[0m\u001b[0;34m,\u001b[0m \u001b[0murl\u001b[0m\u001b[0;34m,\u001b[0m \u001b[0mparameters\u001b[0m\u001b[0;34m=\u001b[0m\u001b[0mNone\u001b[0m\u001b[0;34m,\u001b[0m \u001b[0mheaders\u001b[0m\u001b[0;34m=\u001b[0m\u001b[0mNone\u001b[0m\u001b[0;34m,\u001b[0m \u001b[0minput\u001b[0m\u001b[0;34m=\u001b[0m\u001b[0mNone\u001b[0m\u001b[0;34m,\u001b[0m \u001b[0mcnx\u001b[0m\u001b[0;34m=\u001b[0m\u001b[0mNone\u001b[0m\u001b[0;34m)\u001b[0m\u001b[0;34m:\u001b[0m\u001b[0;34m\u001b[0m\u001b[0m\n\u001b[0;32m--> 169\u001b[0;31m         \u001b[0;32mreturn\u001b[0m \u001b[0mself\u001b[0m\u001b[0;34m.\u001b[0m\u001b[0m__check\u001b[0m\u001b[0;34m(\u001b[0m\u001b[0;34m*\u001b[0m\u001b[0mself\u001b[0m\u001b[0;34m.\u001b[0m\u001b[0mrequestJson\u001b[0m\u001b[0;34m(\u001b[0m\u001b[0mverb\u001b[0m\u001b[0;34m,\u001b[0m \u001b[0murl\u001b[0m\u001b[0;34m,\u001b[0m \u001b[0mparameters\u001b[0m\u001b[0;34m,\u001b[0m \u001b[0mheaders\u001b[0m\u001b[0;34m,\u001b[0m \u001b[0minput\u001b[0m\u001b[0;34m,\u001b[0m \u001b[0mcnx\u001b[0m\u001b[0;34m)\u001b[0m\u001b[0;34m)\u001b[0m\u001b[0;34m\u001b[0m\u001b[0m\n\u001b[0m\u001b[1;32m    170\u001b[0m \u001b[0;34m\u001b[0m\u001b[0m\n\u001b[1;32m    171\u001b[0m     \u001b[0;32mdef\u001b[0m \u001b[0mrequestMultipartAndCheck\u001b[0m\u001b[0;34m(\u001b[0m\u001b[0mself\u001b[0m\u001b[0;34m,\u001b[0m \u001b[0mverb\u001b[0m\u001b[0;34m,\u001b[0m \u001b[0murl\u001b[0m\u001b[0;34m,\u001b[0m \u001b[0mparameters\u001b[0m\u001b[0;34m=\u001b[0m\u001b[0mNone\u001b[0m\u001b[0;34m,\u001b[0m \u001b[0mheaders\u001b[0m\u001b[0;34m=\u001b[0m\u001b[0mNone\u001b[0m\u001b[0;34m,\u001b[0m \u001b[0minput\u001b[0m\u001b[0;34m=\u001b[0m\u001b[0mNone\u001b[0m\u001b[0;34m)\u001b[0m\u001b[0;34m:\u001b[0m\u001b[0;34m\u001b[0m\u001b[0m\n",
        "\u001b[0;32m/usr/local/lib/python2.7/dist-packages/github/Requester.pyc\u001b[0m in \u001b[0;36m__check\u001b[0;34m(self, status, responseHeaders, output)\u001b[0m\n\u001b[1;32m    175\u001b[0m         \u001b[0moutput\u001b[0m \u001b[0;34m=\u001b[0m \u001b[0mself\u001b[0m\u001b[0;34m.\u001b[0m\u001b[0m__structuredFromJson\u001b[0m\u001b[0;34m(\u001b[0m\u001b[0moutput\u001b[0m\u001b[0;34m)\u001b[0m\u001b[0;34m\u001b[0m\u001b[0m\n\u001b[1;32m    176\u001b[0m         \u001b[0;32mif\u001b[0m \u001b[0mstatus\u001b[0m \u001b[0;34m>=\u001b[0m \u001b[0;36m400\u001b[0m\u001b[0;34m:\u001b[0m\u001b[0;34m\u001b[0m\u001b[0m\n\u001b[0;32m--> 177\u001b[0;31m             \u001b[0;32mraise\u001b[0m \u001b[0mself\u001b[0m\u001b[0;34m.\u001b[0m\u001b[0m__createException\u001b[0m\u001b[0;34m(\u001b[0m\u001b[0mstatus\u001b[0m\u001b[0;34m,\u001b[0m \u001b[0mresponseHeaders\u001b[0m\u001b[0;34m,\u001b[0m \u001b[0moutput\u001b[0m\u001b[0;34m)\u001b[0m\u001b[0;34m\u001b[0m\u001b[0m\n\u001b[0m\u001b[1;32m    178\u001b[0m         \u001b[0;32mreturn\u001b[0m \u001b[0mresponseHeaders\u001b[0m\u001b[0;34m,\u001b[0m \u001b[0moutput\u001b[0m\u001b[0;34m\u001b[0m\u001b[0m\n\u001b[1;32m    179\u001b[0m \u001b[0;34m\u001b[0m\u001b[0m\n",
        "\u001b[0;31mGithubException\u001b[0m: 403 {u'documentation_url': u'https://developer.github.com/v3/#rate-limiting', u'message': u\"API rate limit exceeded for 74.50.51.32. (But here's the good news: Authenticated requests get a higher rate limit. Check out the documentation for more details.)\"}"
       ]
      },
      {
       "output_type": "stream",
       "stream": "stdout",
       "text": [
        "https://api.github.com/repos/kennethreitz/python-guide\n",
        "https://api.github.com/repos/poise/python\n",
        "https://api.github.com/repos/faif/python-patterns\n",
        "https://api.github.com/repos/gregmalcolm/python_koans\n",
        "https://api.github.com/repos/klen/python-mode\n",
        "https://api.github.com/repos/revolunet/PythonBooks\n",
        "https://api.github.com/repos/mikemaccana/python-docx\n",
        "https://api.github.com/repos/simplegeo/python-oauth2\n",
        "https://api.github.com/repos/getsentry/raven-python\n",
        "https://api.github.com/repos/utahta/pythonbrew\n",
        "https://api.github.com/repos/mongodb/mongo-python-driver\n",
        "https://api.github.com/repos/bear/python-twitter\n",
        "https://api.github.com/repos/Instagram/python-instagram\n",
        "https://api.github.com/repos/dotcloud/zerorpc-python\n",
        "https://api.github.com/repos/python-git/python\n",
        "https://api.github.com/repos/grangier/python-goose\n",
        "https://api.github.com/repos/waylan/Python-Markdown\n",
        "https://api.github.com/repos/kivy/python-for-android\n",
        "https://api.github.com/repos/bigmlcom/python\n",
        "https://api.github.com/repos/python/pythondotorg\n",
        "https://api.github.com/repos/kennethreitz/requests\n",
        "https://api.github.com/repos/gitpython-developers/GitPython\n",
        "https://api.github.com/repos/omab/python-social-auth\n",
        "https://api.github.com/repos/heroku/heroku-buildpack-python\n",
        "https://api.github.com/repos/gfxmonk/python-readability\n",
        "https://api.github.com/repos/openstack/python-novaclient\n",
        "https://api.github.com/repos/tavendo/AutobahnPython\n",
        "https://api.github.com/repos/lincolnloop/python-qrcode\n",
        "https://api.github.com/repos/tweepy/tweepy\n",
        "https://api.github.com/repos/twilio/twilio-python\n",
        "https://api.github.com/repos/openid/python-openid\n",
        "https://api.github.com/repos/daviddrysdale/python-phonenumbers\n",
        "https://api.github.com/repos/pgbovine/OnlinePythonTutor\n",
        "https://api.github.com/repos/rackerlabs/python-cloudfiles\n",
        "https://api.github.com/repos/fengli/alipay_python\n",
        "https://api.github.com/repos/adafruit/Adafruit-Raspberry-Pi-Python-Code\n",
        "https://api.github.com/repos/mumrah/kafka-python\n",
        "https://api.github.com/repos/trentm/python-markdown2\n",
        "https://api.github.com/repos/saghul/pythonz\n",
        "https://api.github.com/repos/sinacloud/sae-python-dev-guide\n",
        "https://api.github.com/repos/gabrielelanaro/emacs-for-python\n",
        "https://api.github.com/repos/serverdensity/python-daemon\n",
        "https://api.github.com/repos/googleglass/mirror-quickstart-python\n",
        "https://api.github.com/repos/msgpack/msgpack-python\n",
        "https://api.github.com/repos/dabeaz/python-cookbook\n",
        "https://api.github.com/repos/ocelma/python-recsys\n",
        "https://api.github.com/repos/jrjohansson/scientific-python-lectures\n",
        "https://api.github.com/repos/geeknam/python-gcm\n",
        "https://api.github.com/repos/adamn/python-webkit2png\n",
        "https://api.github.com/repos/boto/boto\n",
        "https://api.github.com/repos/scikit-learn/scikit-learn\n",
        "https://api.github.com/repos/openstack/python-swiftclient\n",
        "https://api.github.com/repos/openstack/python-keystoneclient\n",
        "https://api.github.com/repos/ahupp/python-magic\n",
        "https://api.github.com/repos/Yelp/python-gearman\n",
        "https://api.github.com/repos/Lawouach/WebSocket-for-Python\n",
        "https://api.github.com/repos/ganglia/gmond_python_modules\n",
        "https://api.github.com/repos/andymccurdy/redis-py\n",
        "https://api.github.com/repos/basho/riak-python-client\n",
        "https://api.github.com/repos/ozgur/python-linkedin\n",
        "https://api.github.com/repos/datastax/python-driver\n",
        "https://api.github.com/repos/matplotlib/matplotlib\n",
        "https://api.github.com/repos/samuel/python-munin\n",
        "https://api.github.com/repos/zedshaw/python-lust\n",
        "https://api.github.com/repos/stankevich/puppet-python\n",
        "https://api.github.com/repos/fabric/fabric\n",
        "https://api.github.com/repos/fgallina/python.el\n",
        "https://api.github.com/repos/clintecker/python-googleanalytics\n",
        "https://api.github.com/repos/nguyen-toan/Python3\n",
        "https://api.github.com/repos/pld-linux/python3\n",
        "https://api.github.com/repos/yhat/ggplot\n",
        "https://api.github.com/repos/lepture/python-livereload\n",
        "https://api.github.com/repos/jaybaird/python-bloomfilter\n",
        "https://api.github.com/repos/sendgrid/sendgrid-python\n",
        "https://api.github.com/repos/jdunck/python-unicodecsv\n",
        "https://api.github.com/repos/n0more/Python3\n",
        "https://api.github.com/repos/ldx/python-iptables\n",
        "https://api.github.com/repos/stripe/stripe-python\n",
        "https://api.github.com/repos/luispedro/BuildingMachineLearningSystemsWithPython\n",
        "https://api.github.com/repos/Mic92/python-mpd2\n",
        "https://api.github.com/repos/freddix/python3\n",
        "https://api.github.com/repos/themartorana/python-postmark\n",
        "https://api.github.com/repos/kennethreitz-archive/dive-into-python3\n",
        "https://api.github.com/repos/avokhmin/python3\n",
        "https://api.github.com/repos/Homebrew/homebrew-python\n",
        "https://api.github.com/repos/jgarzik/python-bitcoinrpc\n",
        "https://api.github.com/repos/evernote/evernote-sdk-python\n",
        "https://api.github.com/repos/davisp/python-spidermonkey\n",
        "https://api.github.com/repos/fonnesbeck/statistical-analysis-python-tutorial\n",
        "https://api.github.com/repos/soundcloud/soundcloud-python\n",
        "https://api.github.com/repos/mne-tools/mne-python\n",
        "https://api.github.com/repos/gittip/aspen-python\n",
        "https://api.github.com/repos/leah/python-oauth\n",
        "https://api.github.com/repos/shotgunsoftware/python-api\n",
        "https://api.github.com/repos/defunkt/pystache\n",
        "https://api.github.com/repos/yinwang0/pysonar2\n",
        "https://api.github.com/repos/fiorix/mongo-async-python-driver\n",
        "https://api.github.com/repos/swaroopch/byte_of_python\n",
        "https://api.github.com/repos/timotheus/ebaysdk-python\n",
        "https://api.github.com/repos/ask/python-github2\n",
        "https://api.github.com/repos/amoffat/sh\n",
        "https://api.github.com/repos/misja/python-boilerpipe\n",
        "https://api.github.com/repos/webpy/webpy\n",
        "https://api.github.com/repos/lizherui/spider_python\n",
        "https://api.github.com/repos/ContinuumIO/bokeh\n",
        "https://api.github.com/repos/sixohsix/twitter\n",
        "https://api.github.com/repos/openstack/python-neutronclient\n",
        "https://api.github.com/repos/pythonforfacebook/facebook-sdk\n",
        "https://api.github.com/repos/pypa/virtualenv\n",
        "https://api.github.com/repos/mbrochh/vim-as-a-python-ide\n",
        "https://api.github.com/repos/evernote/evernote-sdk-python3\n",
        "https://api.github.com/repos/rackerlabs/python-novaclient\n",
        "https://api.github.com/repos/scrapy/scrapy\n",
        "https://api.github.com/repos/nvie/rq\n",
        "https://api.github.com/repos/areski/python-nvd3\n",
        "https://api.github.com/repos/eguven/python3-memcached\n",
        "https://api.github.com/repos/eyeseast/python-tablefu\n",
        "https://api.github.com/repos/miohtama/python-Levenshtein\n",
        "https://api.github.com/repos/kirang89/pycrumbs\n",
        "https://api.github.com/repos/jcrocholl/pep8\n",
        "https://api.github.com/repos/gpoore/pythontex\n",
        "https://api.github.com/repos/hyde/hyde\n",
        "https://api.github.com/repos/alastair/python-musicbrainzngs\n",
        "https://api.github.com/repos/quantopian/zipline\n",
        "https://api.github.com/repos/abidrahmank/OpenCV2-Python\n",
        "https://api.github.com/repos/savon-noir/python-libnmap\n",
        "https://api.github.com/repos/jolicloud/python-apt\n",
        "https://api.github.com/repos/mitsuhiko/python-modernize\n",
        "https://api.github.com/repos/gabrielfalcao/lettuce\n",
        "https://api.github.com/repos/surfly/gevent\n",
        "https://api.github.com/repos/adafruit/adafruit-beaglebone-io-python\n",
        "https://api.github.com/repos/duointeractive/paypal-python\n",
        "https://api.github.com/repos/excid3/python-apt\n",
        "https://api.github.com/repos/html5lib/html5lib-python\n",
        "https://api.github.com/repos/PythonJS/PythonJS\n",
        "https://api.github.com/repos/Azure/azure-sdk-for-python\n",
        "https://api.github.com/repos/Mashape/unirest-python\n",
        "https://api.github.com/repos/balanced/balanced-python\n",
        "https://api.github.com/repos/paulproteus/python-scraping-code-samples\n",
        "https://api.github.com/repos/textmate/python.tmbundle\n",
        "https://api.github.com/repos/profjsb/python-seminar\n",
        "https://api.github.com/repos/akaihola/flymake-python\n",
        "https://api.github.com/repos/cython/cython\n",
        "https://api.github.com/repos/dasmith/stanford-corenlp-python\n",
        "https://api.github.com/repos/urbanairship/python-library\n",
        "https://api.github.com/repos/JosephSalisbury/python-bittorrent\n",
        "https://api.github.com/repos/getpelican/pelican\n",
        "https://api.github.com/repos/pypa/pip\n",
        "https://api.github.com/repos/sympy/sympy\n",
        "https://api.github.com/repos/baijum/selenium-python\n",
        "https://api.github.com/repos/venthur/python-ardrone\n",
        "https://api.github.com/repos/jgarzik/python-bitcoinlib\n",
        "https://api.github.com/repos/bitly/bitly-api-python\n",
        "https://api.github.com/repos/openstack/python-glanceclient\n",
        "https://api.github.com/repos/facebook/tornado\n",
        "https://api.github.com/repos/tpaviot/pythonocc\n",
        "https://api.github.com/repos/karan/Projects\n",
        "https://api.github.com/repos/nose-devs/nose\n",
        "https://api.github.com/repos/vishnubob/python-midi\n",
        "https://api.github.com/repos/collective/buildout.python\n",
        "https://api.github.com/repos/vincenting/weChat-python-sdk\n",
        "https://api.github.com/repos/rackerlabs/python-clouddns\n",
        "https://api.github.com/repos/ikotler/pythonect\n",
        "https://api.github.com/repos/rdio/rdio-python\n",
        "https://api.github.com/repos/celery/kombu\n",
        "https://api.github.com/repos/simplegeo/python-simplegeo\n",
        "https://api.github.com/repos/mesos/spark\n",
        "https://api.github.com/repos/metawilm/cl-python\n",
        "https://api.github.com/repos/openstack/python-openstackclient\n",
        "https://api.github.com/repos/orcasgit/python-fitbit\n",
        "https://api.github.com/repos/haypo/python-ipy\n",
        "https://api.github.com/repos/wrobstory/vincent\n",
        "https://api.github.com/repos/echonest/pyechonest\n",
        "https://api.github.com/repos/VerbalExpressions/PythonVerbalExpressions\n",
        "https://api.github.com/repos/charlierguo/gmail\n",
        "https://api.github.com/repos/fogleman/Minecraft\n",
        "https://api.github.com/repos/ewa/python-webcrawler\n",
        "https://api.github.com/repos/crsmithdev/arrow\n",
        "https://api.github.com/repos/justquick/python-varnish\n",
        "https://api.github.com/repos/maxcutler/python-wordpress-xmlrpc\n",
        "https://api.github.com/repos/scanny/python-pptx\n",
        "https://api.github.com/repos/pusher/pusher_client_python\n",
        "https://api.github.com/repos/qiniu/python-sdk\n",
        "https://api.github.com/repos/kennethreitz-archive/python-github3\n",
        "https://api.github.com/repos/kennethreitz/envoy\n",
        "https://api.github.com/repos/dlitz/pycrypto\n",
        "https://api.github.com/repos/yyuu/pyenv\n",
        "https://api.github.com/repos/koalalorenzo/python-digitalocean\n",
        "https://api.github.com/repos/carljv/Will_it_Python\n",
        "https://api.github.com/repos/libgit2/pygit2\n",
        "https://api.github.com/repos/coagulant/coveralls-python\n",
        "https://api.github.com/repos/sbp/phenny\n",
        "https://api.github.com/repos/tjfontaine/linode-python\n",
        "https://api.github.com/repos/euske/pdfminer\n",
        "https://api.github.com/repos/PythonCharmers/python-future\n",
        "https://api.github.com/repos/jelmer/dulwich\n",
        "https://api.github.com/repos/statsmodels/statsmodels\n",
        "https://api.github.com/repos/renxing/quora-python\n",
        "https://api.github.com/repos/linsomniac/python-memcached\n",
        "https://api.github.com/repos/profjsb/python-bootcamp\n",
        "https://api.github.com/repos/paramiko/paramiko\n",
        "https://api.github.com/repos/zeromq/pyzmq\n",
        "https://api.github.com/repos/plotly/python-api\n",
        "https://api.github.com/repos/patcoll/paypal-python\n",
        "https://api.github.com/repos/JulianEberius/SublimePythonIDE\n",
        "https://api.github.com/repos/kennethreitz/clint\n",
        "https://api.github.com/repos/splunk/splunk-sdk-python\n",
        "https://api.github.com/repos/joke2k/faker\n",
        "https://api.github.com/repos/issackelly/python-hue\n",
        "https://api.github.com/repos/couchbase/couchbase-python-client\n",
        "https://api.github.com/repos/python-quantities/python-quantities\n",
        "https://api.github.com/repos/couchbase/couchbase-python-client\n",
        "https://api.github.com/repos/seatgeek/fuzzywuzzy\n",
        "https://api.github.com/repos/braintree/braintree_python\n",
        "https://api.github.com/repos/twitter/commons\n",
        "https://api.github.com/repos/mkalinowski/python-mythes\n",
        "https://api.github.com/repos/softlayer/softlayer-python\n",
        "https://api.github.com/repos/skyl/vim-config-python-ide\n",
        "https://api.github.com/repos/madmaze/python-tesseract\n",
        "https://api.github.com/repos/todddeluca/python-vagrant\n",
        "https://api.github.com/repos/andrix/python-snappy\n",
        "https://api.github.com/repos/poise/application_python\n",
        "https://api.github.com/repos/wordnik/wordnik-python\n",
        "https://api.github.com/repos/grisha/mod_python\n",
        "https://api.github.com/repos/strawlab/python-pcl\n",
        "https://api.github.com/repos/jacobian/python-cloudservers\n",
        "https://api.github.com/repos/gtaylor/python-fedex\n",
        "https://api.github.com/repos/noplay/python-mysql-replication\n",
        "https://api.github.com/repos/rapidsms/rapidsms\n",
        "https://api.github.com/repos/WoLpH/python-statsd\n",
        "https://api.github.com/repos/douban/dpark\n",
        "https://api.github.com/repos/MongoEngine/mongoengine\n",
        "https://api.github.com/repos/nryoung/algorithms\n",
        "https://api.github.com/repos/defnull/bottle\n",
        "https://api.github.com/repos/BonsaiDen/twitter-text-python\n",
        "https://api.github.com/repos/unpingco/Python-for-Signal-Processing\n",
        "https://api.github.com/repos/metalshark/lesscss-python\n",
        "https://api.github.com/repos/binarydud/pyres\n",
        "https://api.github.com/repos/puppetmodules/puppet-module-python\n",
        "https://api.github.com/repos/alexis-mignon/python-flickr-api\n",
        "https://api.github.com/repos/sangelone/python-hashes\n",
        "https://api.github.com/repos/aparo/pyes\n",
        "https://api.github.com/repos/sibblegp/coinbase_python\n",
        "https://api.github.com/repos/roopeshvaddepally/python-ebay\n",
        "https://api.github.com/repos/shannonturner/python-lessons\n",
        "https://api.github.com/repos/braiden/python-ant-downloader\n",
        "https://api.github.com/repos/PythonJournos/LearningPython\n",
        "https://api.github.com/repos/etotheipi/BitcoinArmory\n",
        "https://api.github.com/repos/abidrahmank/OpenCV2-Python-Tutorials\n",
        "https://api.github.com/repos/gstarnberger/uncompyle\n",
        "https://api.github.com/repos/warner/python-ecdsa\n",
        "https://api.github.com/repos/lupeke/python-firmata\n",
        "https://api.github.com/repos/scraperwiki/scraperwiki-python\n",
        "https://api.github.com/repos/davidhalter/jedi\n",
        "https://api.github.com/repos/sbinet/go-python\n",
        "https://api.github.com/repos/sebix/python-textile\n",
        "https://api.github.com/repos/micropython/micropython\n",
        "https://api.github.com/repos/shuge/Qt-Python-Binding-Examples\n",
        "https://api.github.com/repos/miracle2k/webassets\n",
        "https://api.github.com/repos/pythonhackers/pythonhackers\n",
        "https://api.github.com/repos/DNSPod/dnspod-python\n",
        "https://api.github.com/repos/embedly/embedly-python\n",
        "https://api.github.com/repos/samuel/python-gearman\n",
        "https://api.github.com/repos/tianyu0915/pythoner.net\n",
        "https://api.github.com/repos/akloster/python-mindwave\n",
        "https://api.github.com/repos/aiti-ghana-2012/Lab_Python_02\n",
        "https://api.github.com/repos/thearn/Python-Arduino-Command-API\n",
        "https://api.github.com/repos/paypal/rest-api-sdk-python\n",
        "https://api.github.com/repos/dtcooper/python-fitparse\n",
        "https://api.github.com/repos/SolidCode/SolidPython\n",
        "https://api.github.com/repos/kennethreitz/inbox.py\n",
        "https://api.github.com/repos/jeanphix/Ghost.py\n",
        "https://api.github.com/repos/chrisglass/xhtml2pdf\n",
        "https://api.github.com/repos/twiecki/financial-analysis-python-tutorial\n",
        "https://api.github.com/repos/burnash/gspread\n",
        "https://api.github.com/repos/michaelhelmick/python-tumblpy\n",
        "https://api.github.com/repos/gorakhargosh/watchdog\n",
        "https://api.github.com/repos/mirumee/satchless\n",
        "https://api.github.com/repos/quick2wire/quick2wire-python-api\n",
        "https://api.github.com/repos/senko/python-video-converter\n",
        "https://api.github.com/repos/phusion/passenger\n",
        "https://api.github.com/repos/aiti-ghana-2012/Lab_Python_01\n",
        "https://api.github.com/repos/Cue/fast-python-pb\n",
        "https://api.github.com/repos/saymedia/python-simpledb\n",
        "https://api.github.com/repos/acmerfight/insight_python\n",
        "https://api.github.com/repos/yoavaviram/python-amazon-simple-product-api\n",
        "https://api.github.com/repos/brettviren/python-keepass\n",
        "https://api.github.com/repos/ocelma/python-itunes\n",
        "https://api.github.com/repos/aptana/Pydev\n",
        "https://api.github.com/repos/sahands/python-by-example\n",
        "https://api.github.com/repos/lxml/lxml\n",
        "https://api.github.com/repos/ajalt/fuckitpy\n",
        "https://api.github.com/repos/onelogin/python-saml\n",
        "https://api.github.com/repos/laurentluce/python-algorithms\n",
        "https://api.github.com/repos/dropbox/pyston\n",
        "https://api.github.com/repos/yusugomori/DeepLearning\n",
        "https://api.github.com/repos/aiti-ghana-2012/Lab_Python_03\n",
        "https://api.github.com/repos/dkm/python-vimeo\n",
        "https://api.github.com/repos/juanriaza/python-mega\n",
        "https://api.github.com/repos/zedshaw/lamson\n"
       ]
      }
     ],
     "prompt_number": 51
    },
    {
     "cell_type": "code",
     "collapsed": false,
     "input": [
      "for repo in g.get_user(theuser).get_repos():\n",
      "    gitlist.append(repo.name)"
     ],
     "language": "python",
     "metadata": {},
     "outputs": [],
     "prompt_number": 38
    },
    {
     "cell_type": "code",
     "collapsed": false,
     "input": [
      "os.mkdir('/home/wcmckee/github')"
     ],
     "language": "python",
     "metadata": {},
     "outputs": [
      {
       "ename": "OSError",
       "evalue": "[Errno 17] File exists: '/home/wcmckee/github'",
       "output_type": "pyerr",
       "traceback": [
        "\u001b[0;31m---------------------------------------------------------------------------\u001b[0m\n\u001b[0;31mOSError\u001b[0m                                   Traceback (most recent call last)",
        "\u001b[0;32m<ipython-input-39-29e69ba62084>\u001b[0m in \u001b[0;36m<module>\u001b[0;34m()\u001b[0m\n\u001b[0;32m----> 1\u001b[0;31m \u001b[0mos\u001b[0m\u001b[0;34m.\u001b[0m\u001b[0mmkdir\u001b[0m\u001b[0;34m(\u001b[0m\u001b[0;34m'/home/wcmckee/github'\u001b[0m\u001b[0;34m)\u001b[0m\u001b[0;34m\u001b[0m\u001b[0m\n\u001b[0m",
        "\u001b[0;31mOSError\u001b[0m: [Errno 17] File exists: '/home/wcmckee/github'"
       ]
      }
     ],
     "prompt_number": 39
    },
    {
     "cell_type": "code",
     "collapsed": false,
     "input": [
      "os.chdir('/home/' + theuser + '/github')"
     ],
     "language": "python",
     "metadata": {},
     "outputs": [],
     "prompt_number": 40
    },
    {
     "cell_type": "code",
     "collapsed": false,
     "input": [
      "lisdir = os.listdir('/home/wcmckee/github')\n",
      "curlist = []\n",
      "for ls in lisdir:\n",
      "    #print ls\n",
      "    curlist.append(ls)"
     ],
     "language": "python",
     "metadata": {},
     "outputs": [],
     "prompt_number": 41
    },
    {
     "cell_type": "code",
     "collapsed": false,
     "input": [
      "dlrepo = list(set(gitlist) - set(curlist))"
     ],
     "language": "python",
     "metadata": {},
     "outputs": [],
     "prompt_number": 42
    },
    {
     "cell_type": "code",
     "collapsed": false,
     "input": [
      "print dlrepo"
     ],
     "language": "python",
     "metadata": {},
     "outputs": [
      {
       "output_type": "stream",
       "stream": "stdout",
       "text": [
        "[u'LANs.py', u'godot', u'alien', u'RasPiWrite', u'ggj14', u'FinishYourGame-Jam', u'flask', u'4chan-API', u'game-of-life', u'BroBeurFishingDream', u'flamejam', u'art-lastfm', u'pywp-post', u'TPB', u'autopaintpy123', u'AsylumJamCrushGame', u'wirepil', u'Bukkit', u'SortPictures', u'Delicious-Chrome-Extension', u'intro_programming', u'python-guide', u'pyunderdog', u'python-wordpress-xmlrpc', u'skins', u'ouya-unity-plugin', u'soundcloud-dl', u'pybackupz', u'selfspy', u'gitignore', u'Projects', u'bgj05-hungry', u'BirdCage', u'pyroster', u'iamagamer', u'ipython', u'imgur-python', u'paintingautopy', u'brobeur-web', u'cocos2d-x', u'unityluainterface', u'requests', u'molyjam2013', u'prodo-game', u'reddit_bot', u'DeltaBot', u'marshmallow', u'python-patterns', u'linux', u'compohub', u'hackage-server', u'pithos', u'bbc2wp', u'Triger', u'RedditPress', u'tweepy', u'pytm', u'Cinnamon', u'HTML5-Tiny', u'artcontrol-api', u'miniprojects', u'SuburbNightmare', u'UniLua', u'raspi', u'UnityLuaIntegration', u'intercity', u'DailyProgBot', u'lolpy', u'UIToolkit', u'djtm', u'pymel', u'gimp', u'Rift-Notes', u'clint', u'bacongamejam05', u'lqt', u'wcmStringPY', u'testRepo', u'RPIO', u'html5lib-python', u'sshuttle', u'python-pandora', u'LD48-Skins', u'gjapi_python', u'battlenet', u'haskell-learn', u'BeOk', u'openfaux-server', u'summingbird', u'broLove', u'Koha', u'xboxdrv', u'massive-wright', u'django', u'python-twitter', u'WordPress', u'ruby-warrior', u'ihaskell-notebook', u'opencompetencies']\n"
       ]
      }
     ],
     "prompt_number": 43
    },
    {
     "cell_type": "code",
     "collapsed": false,
     "input": [],
     "language": "python",
     "metadata": {},
     "outputs": []
    },
    {
     "cell_type": "code",
     "collapsed": false,
     "input": [
      "'''\n",
      "for gi in gitlist:\n",
      "    #print gi\n",
      "    #git.Git().clone(\"https://github.com/\" + theuser + \"/\" + dlrepo)\n",
      "    print (\"Downloading: \" + theuser + \"/\" + dlrepo)\n",
      "\n",
      "\n",
      "\n",
      "'''"
     ],
     "language": "python",
     "metadata": {},
     "outputs": [
      {
       "output_type": "pyout",
       "prompt_number": 28,
       "text": [
        "'\\nfor gi in gitlist:\\n    #print gi\\n    #git.Git().clone(\"https://github.com/\" + theuser + \"/\" + dlrepo)\\n    print (\"Downloading: \" + theuser + \"/\" + dlrepo)\\n\\n\\n\\n'"
       ]
      }
     ],
     "prompt_number": 28
    },
    {
     "cell_type": "code",
     "collapsed": false,
     "input": [
      "from clint.textui import colored"
     ],
     "language": "python",
     "metadata": {},
     "outputs": [
      {
       "ename": "ImportError",
       "evalue": "No module named clint.textui",
       "output_type": "pyerr",
       "traceback": [
        "\u001b[0;31m---------------------------------------------------------------------------\u001b[0m\n\u001b[0;31mImportError\u001b[0m                               Traceback (most recent call last)",
        "\u001b[0;32m<ipython-input-29-ba72b8b4a1d5>\u001b[0m in \u001b[0;36m<module>\u001b[0;34m()\u001b[0m\n\u001b[0;32m----> 1\u001b[0;31m \u001b[0;32mfrom\u001b[0m \u001b[0mclint\u001b[0m\u001b[0;34m.\u001b[0m\u001b[0mtextui\u001b[0m \u001b[0;32mimport\u001b[0m \u001b[0mcolored\u001b[0m\u001b[0;34m\u001b[0m\u001b[0m\n\u001b[0m",
        "\u001b[0;31mImportError\u001b[0m: No module named clint.textui"
       ]
      }
     ],
     "prompt_number": 29
    },
    {
     "cell_type": "code",
     "collapsed": false,
     "input": [
      "for gitbl in dlrepo:\n",
      "        #print ('Downloading - ' + theuser + \" - \"  + gitbl)\n",
      "        print (colored.red('Downloading - ' + theuser + \" - \"  + gitbl))\n",
      "        git.Git().clone(\"https://github.com/\" + theuser + \"/\" + gitbl)\n"
     ],
     "language": "python",
     "metadata": {},
     "outputs": [
      {
       "ename": "SyntaxError",
       "evalue": "invalid syntax (<ipython-input-34-a1df4c118a5b>, line 3)",
       "output_type": "pyerr",
       "traceback": [
        "\u001b[0;36m  File \u001b[0;32m\"<ipython-input-34-a1df4c118a5b>\"\u001b[0;36m, line \u001b[0;32m3\u001b[0m\n\u001b[0;31m    puts colored.red('Downloading - ' + theuser + \" - \"  + gitbl)\u001b[0m\n\u001b[0m               ^\u001b[0m\n\u001b[0;31mSyntaxError\u001b[0m\u001b[0;31m:\u001b[0m invalid syntax\n"
       ]
      }
     ],
     "prompt_number": 34
    },
    {
     "cell_type": "code",
     "collapsed": false,
     "input": [],
     "language": "python",
     "metadata": {},
     "outputs": []
    }
   ],
   "metadata": {}
  }
 ]
}