{
 "metadata": {
  "name": "pywgit"
 },
 "nbformat": 3,
 "nbformat_minor": 0,
 "worksheets": [
  {
   "cells": [
    {
     "cell_type": "heading",
     "level": 1,
     "metadata": {},
     "source": [
      "pywgit"
     ]
    },
    {
     "cell_type": "markdown",
     "metadata": {},
     "source": [
      "This is a python script to download repos from github\n",
      "It takes the login name (wcmckee in my case) and downloads the repos of github user (the system login name). It downloads it to the home dir. \n",
      "The program checks if you have local folders that are also on github. It will skip them from downloading from github. "
     ]
    },
    {
     "cell_type": "code",
     "collapsed": false,
     "input": [
      "from github import Github\n",
      "import os\n",
      "import getpass\n",
      "import git"
     ],
     "language": "python",
     "metadata": {},
     "outputs": [],
     "prompt_number": 1
    },
    {
     "cell_type": "code",
     "collapsed": false,
     "input": [
      "theuser = getpass.getuser()"
     ],
     "language": "python",
     "metadata": {},
     "outputs": [],
     "prompt_number": 2
    },
    {
     "cell_type": "markdown",
     "metadata": {},
     "source": [
      "muliti support for user names - cycle through a list, user input, and get username from login. "
     ]
    },
    {
     "cell_type": "code",
     "collapsed": false,
     "input": [
      "usergen = ['ipython', 'wcmckee', 'drhealsgood', 'hamipy']"
     ],
     "language": "python",
     "metadata": {},
     "outputs": [],
     "prompt_number": 3
    },
    {
     "cell_type": "code",
     "collapsed": false,
     "input": [
      "userinput = raw_input('github username: ')"
     ],
     "language": "python",
     "metadata": {},
     "outputs": [
      {
       "ename": "StdinNotImplementedError",
       "evalue": "raw_input was called, but this frontend does not support stdin.",
       "output_type": "pyerr",
       "traceback": [
        "\u001b[0;31m---------------------------------------------------------------------------\u001b[0m\n\u001b[0;31mStdinNotImplementedError\u001b[0m                  Traceback (most recent call last)",
        "\u001b[0;32m<ipython-input-4-8bbba8f91ccc>\u001b[0m in \u001b[0;36m<module>\u001b[0;34m()\u001b[0m\n\u001b[0;32m----> 1\u001b[0;31m \u001b[0muserinput\u001b[0m \u001b[0;34m=\u001b[0m \u001b[0mraw_input\u001b[0m\u001b[0;34m(\u001b[0m\u001b[0;34m'github username: '\u001b[0m\u001b[0;34m)\u001b[0m\u001b[0;34m\u001b[0m\u001b[0m\n\u001b[0m",
        "\u001b[0;32m/usr/lib/python2.7/dist-packages/IPython/zmq/ipkernel.pyc\u001b[0m in \u001b[0;36m<lambda>\u001b[0;34m(prompt)\u001b[0m\n\u001b[1;32m    343\u001b[0m             \u001b[0mraw_input\u001b[0m \u001b[0;34m=\u001b[0m \u001b[0;32mlambda\u001b[0m \u001b[0mprompt\u001b[0m\u001b[0;34m=\u001b[0m\u001b[0;34m''\u001b[0m\u001b[0;34m:\u001b[0m \u001b[0mself\u001b[0m\u001b[0;34m.\u001b[0m\u001b[0m_raw_input\u001b[0m\u001b[0;34m(\u001b[0m\u001b[0mprompt\u001b[0m\u001b[0;34m,\u001b[0m \u001b[0mident\u001b[0m\u001b[0;34m,\u001b[0m \u001b[0mparent\u001b[0m\u001b[0;34m)\u001b[0m\u001b[0;34m\u001b[0m\u001b[0m\n\u001b[1;32m    344\u001b[0m         \u001b[0;32melse\u001b[0m\u001b[0;34m:\u001b[0m\u001b[0;34m\u001b[0m\u001b[0m\n\u001b[0;32m--> 345\u001b[0;31m             \u001b[0mraw_input\u001b[0m \u001b[0;34m=\u001b[0m \u001b[0;32mlambda\u001b[0m \u001b[0mprompt\u001b[0m\u001b[0;34m=\u001b[0m\u001b[0;34m''\u001b[0m \u001b[0;34m:\u001b[0m \u001b[0mself\u001b[0m\u001b[0;34m.\u001b[0m\u001b[0m_no_raw_input\u001b[0m\u001b[0;34m(\u001b[0m\u001b[0;34m)\u001b[0m\u001b[0;34m\u001b[0m\u001b[0m\n\u001b[0m\u001b[1;32m    346\u001b[0m \u001b[0;34m\u001b[0m\u001b[0m\n\u001b[1;32m    347\u001b[0m         \u001b[0;32mif\u001b[0m \u001b[0mpy3compat\u001b[0m\u001b[0;34m.\u001b[0m\u001b[0mPY3\u001b[0m\u001b[0;34m:\u001b[0m\u001b[0;34m\u001b[0m\u001b[0m\n",
        "\u001b[0;32m/usr/lib/python2.7/dist-packages/IPython/zmq/ipkernel.pyc\u001b[0m in \u001b[0;36m_no_raw_input\u001b[0;34m(self)\u001b[0m\n\u001b[1;32m    686\u001b[0m         \"\"\"Raise StdinNotImplentedError if active frontend doesn't support\n\u001b[1;32m    687\u001b[0m         stdin.\"\"\"\n\u001b[0;32m--> 688\u001b[0;31m         raise StdinNotImplementedError(\"raw_input was called, but this \"\n\u001b[0m\u001b[1;32m    689\u001b[0m                                        \"frontend does not support stdin.\") \n\u001b[1;32m    690\u001b[0m \u001b[0;34m\u001b[0m\u001b[0m\n",
        "\u001b[0;31mStdinNotImplementedError\u001b[0m: raw_input was called, but this frontend does not support stdin."
       ]
      }
     ],
     "prompt_number": 4
    },
    {
     "cell_type": "code",
     "collapsed": false,
     "input": [
      "for us in usergen:d\n",
      "    print us"
     ],
     "language": "python",
     "metadata": {},
     "outputs": [
      {
       "output_type": "stream",
       "stream": "stdout",
       "text": [
        "ipython\n",
        "wcmckee\n",
        "drhealsgood\n",
        "hamipy\n"
       ]
      }
     ],
     "prompt_number": 92
    },
    {
     "cell_type": "code",
     "collapsed": false,
     "input": [
      "g = Github()"
     ],
     "language": "python",
     "metadata": {},
     "outputs": [],
     "prompt_number": 10
    },
    {
     "cell_type": "code",
     "collapsed": false,
     "input": [
      "import requests"
     ],
     "language": "python",
     "metadata": {},
     "outputs": [],
     "prompt_number": 7
    },
    {
     "cell_type": "code",
     "collapsed": false,
     "input": [
      "highgit = requests.get('https://infoconnect1.highwayinfo.govt.nz/ic/jbi/TrafficCameras/REST/FeedService/', auth=('williammckee', 'J3e6t8q5y2'))"
     ],
     "language": "python",
     "metadata": {},
     "outputs": [],
     "prompt_number": 11
    },
    {
     "cell_type": "code",
     "collapsed": false,
     "input": [
      "from requests.auth import HTTPBasicAuth\n",
      "\n",
      "theres = requests.get('https://infoconnect1.highwayinfo.govt.nz/ic/jbi/TrafficCameras/REST/FeedService/', auth=HTTPBasicAuth('williammckee', 'J3e6t8q5y2'))"
     ],
     "language": "python",
     "metadata": {},
     "outputs": [],
     "prompt_number": 15
    },
    {
     "cell_type": "code",
     "collapsed": false,
     "input": [
      "from requests.auth import HTTPDigestAuth\n",
      "url = 'https://infoconnect1.highwayinfo.govt.nz/ic/jbi/TrafficCameras/REST/FeedService/'\n",
      "workt = requests.get(url, auth=HTTPDigestAuth('williammckee', 'J3e6t8q5y2'))"
     ],
     "language": "python",
     "metadata": {},
     "outputs": [],
     "prompt_number": 20
    },
    {
     "cell_type": "code",
     "collapsed": false,
     "input": [
      "workt.text"
     ],
     "language": "python",
     "metadata": {},
     "outputs": [
      {
       "output_type": "pyout",
       "prompt_number": 21,
       "text": [
        "u\"<?xml version='1.0' encoding='UTF-8'?><Fault><faultcode>Server</faultcode><faultstring>An expected request parameter [username] was not found or is empty.</faultstring></Fault>\""
       ]
      }
     ],
     "prompt_number": 21
    },
    {
     "cell_type": "code",
     "collapsed": false,
     "input": [
      "theres.text"
     ],
     "language": "python",
     "metadata": {},
     "outputs": [
      {
       "output_type": "pyout",
       "prompt_number": 16,
       "text": [
        "u\"<?xml version='1.0' encoding='UTF-8'?><Fault><faultcode>Server</faultcode><faultstring>An expected request parameter [username] was not found or is empty.</faultstring></Fault>\""
       ]
      }
     ],
     "prompt_number": 16
    },
    {
     "cell_type": "code",
     "collapsed": false,
     "input": [
      "user_agent = 'Mozilla/4.0 (compatible; MSIE 5.5; Windows NT)'\n",
      "values = {'name' : 'Michael Foord',\n",
      "          'location' : 'Northampton',\n",
      "          'language' : 'Python' }\n",
      "headers = { 'User-Agent' : user_agent }"
     ],
     "language": "python",
     "metadata": {},
     "outputs": []
    },
    {
     "cell_type": "code",
     "collapsed": false,
     "input": [
      "highgit.text"
     ],
     "language": "python",
     "metadata": {},
     "outputs": [
      {
       "output_type": "pyout",
       "prompt_number": 12,
       "text": [
        "u\"<?xml version='1.0' encoding='UTF-8'?><Fault><faultcode>Server</faultcode><faultstring>An expected request parameter [username] was not found or is empty.</faultstring></Fault>\""
       ]
      }
     ],
     "prompt_number": 12
    },
    {
     "cell_type": "code",
     "collapsed": false,
     "input": [
      "%%bash \n",
      "curl -u wcmckee:J3e6t8q5y2 https://infoconnect1.highwayinfo.govt.nz/ic/jbi/TrafficCameras/REST/FeedService/\n"
     ],
     "language": "python",
     "metadata": {},
     "outputs": [
      {
       "output_type": "stream",
       "stream": "stdout",
       "text": [
        "<?xml version='1.0' encoding='UTF-8'?><Fault><faultcode>Server</faultcode><faultstring>An expected request parameter [username] was not found or is empty.</faultstring></Fault>"
       ]
      },
      {
       "output_type": "stream",
       "stream": "stderr",
       "text": [
        "  % Total    % Received % Xferd  Average Speed   Time    Time     Time  Current\n",
        "                                 Dload  Upload   Total   Spent    Left  Speed\n",
        "\r",
        "  0     0    0     0    0     0      0      0 --:--:-- --:--:-- --:--:--     0\r",
        "  0     0    0     0    0     0      0      0 --:--:--  0:00:01 --:--:--     0\r",
        "  0     0    0     0    0     0      0      0 --:--:--  0:00:01 --:--:--     0\r",
        "100   176    0   176    0     0     98      0 --:--:--  0:00:01 --:--:--   142\n"
       ]
      }
     ],
     "prompt_number": 22
    },
    {
     "cell_type": "code",
     "collapsed": false,
     "input": [
      "%%bash\n",
      "curl -k -H \"username: williammckee\" -H \"password: J3e6t8q5y2\" -o linkz https://infoconnect1.highwayinfo.govt.nz/ic/jbi/TrafficCameras/REST/FeedService/\n",
      "\n"
     ],
     "language": "python",
     "metadata": {},
     "outputs": [
      {
       "output_type": "stream",
       "stream": "stderr",
       "text": [
        "  % Total    % Received % Xferd  Average Speed   Time    Time     Time  Current\n",
        "                                 Dload  Upload   Total   Spent    Left  Speed\n",
        "\r",
        "  0     0    0     0    0     0      0      0 --:--:-- --:--:-- --:--:--     0\r",
        "  0     0    0     0    0     0      0      0 --:--:-- --:--:-- --:--:--     0\r",
        "100 31728    0 31728    0     0  25813      0 --:--:--  0:00:01 --:--:-- 36468\n"
       ]
      }
     ],
     "prompt_number": 23
    },
    {
     "cell_type": "code",
     "collapsed": false,
     "input": [
      "opcon = open('linkz', 'r')"
     ],
     "language": "python",
     "metadata": {},
     "outputs": [],
     "prompt_number": 31
    },
    {
     "cell_type": "code",
     "collapsed": false,
     "input": [
      "import xmltodict"
     ],
     "language": "python",
     "metadata": {},
     "outputs": [],
     "prompt_number": 32
    },
    {
     "cell_type": "code",
     "collapsed": false,
     "input": [
      "thexml = ('<?xml version=\\'1.0\\' encoding=\\'UTF-8\\'?><tns:getCamerasResponse xmlns:rem=\"http://remote.service.callcenter.nzta.govt.nz\" xmlns:tns=\"https://infoconnect.highwayinfo.govt.nz/schemas/camera\" xmlns:xsd=\"http://www.w3.org/2001/XMLSchema\" xmlns:xsi=\"http://www.w3.org/2001/XMLSchema-instance\"><tns:camera><tns:id>130</tns:id><tns:name>SH16 1 Bond St</tns:name><tns:description>Bond St looking east</tns:description><tns:offline>false</tns:offline><tns:underMaintenance>false</tns:underMaintenance><tns:imageUrl>http://www.trafficnz.info/camera/130.jpg</tns:imageUrl><tns:viewUrl>http://www.trafficnz.info/camera/view/130</tns:viewUrl><tns:mapx>142</tns:mapx><tns:mapy>229</tns:mapy><tns:congestionLocation><tns:name>St Lukes Rd - Newton Rd</tns:name><tns:direction>Eastbound</tns:direction><tns:congestion>Free Flow</tns:congestion></tns:congestionLocation><tns:congestionLocation><tns:name>Newton Rd - St Lukes Rd</tns:name><tns:direction>Westbound</tns:direction><tns:congestion>Free Flow</tns:congestion></tns:congestionLocation></tns:camera><tns:camera><tns:id>140</tns:id><tns:name>SH16 2 Gt North Rd</tns:name><tns:description>Gt North Road looking west</tns:description><tns:offline>false</tns:offline><tns:underMaintenance>false</tns:underMaintenance><tns:imageUrl>http://www.trafficnz.info/camera/140.jpg</tns:imageUrl><tns:viewUrl>http://www.trafficnz.info/camera/view/140</tns:viewUrl><tns:mapx>113</tns:mapx><tns:mapy>232</tns:mapy><tns:congestionLocation><tns:name>Rosebank Rd - Great Nth Rd Waterview</tns:name><tns:direction>Eastbound</tns:direction><tns:congestion>Free Flow</tns:congestion></tns:congestionLocation><tns:congestionLocation><tns:name>Great Nth Rd Waterview - Rosebank Rd</tns:name><tns:direction>Westbound</tns:direction><tns:congestion>Free Flow</tns:congestion></tns:congestionLocation></tns:camera><tns:camera><tns:id>150</tns:id><tns:name>SH16 3 Te Atatu Rd</tns:name><tns:description>Te Atatu Road looking east</tns:description><tns:offline>false</tns:offline><tns:underMaintenance>false</tns:underMaintenance><tns:imageUrl>http://www.trafficnz.info/camera/150.jpg</tns:imageUrl><tns:viewUrl>http://www.trafficnz.info/camera/view/150</tns:viewUrl><tns:mapx>70</tns:mapx><tns:mapy>216</tns:mapy><tns:congestionLocation><tns:name>Te Atatu Rd - Rosebank Rd</tns:name><tns:direction>Eastbound</tns:direction><tns:congestion>Free Flow</tns:congestion></tns:congestionLocation><tns:congestionLocation><tns:name>Rosebank Rd - Te Atatu Rd</tns:name><tns:direction>Westbound</tns:direction><tns:congestion>Free Flow</tns:congestion></tns:congestionLocation></tns:camera><tns:camera><tns:id>160</tns:id><tns:name>SH16 4 Lincoln Rd E</tns:name><tns:description>Lincoln Rd  looking west</tns:description><tns:offline>false</tns:offline><tns:underMaintenance>false</tns:underMaintenance><tns:imageUrl>http://www.trafficnz.info/camera/160.jpg</tns:imageUrl><tns:viewUrl>http://www.trafficnz.info/camera/view/160</tns:viewUrl><tns:mapx>52</tns:mapx><tns:mapy>207</tns:mapy><tns:congestionLocation><tns:name>Te Atatu Rd - Lincoln Rd</tns:name><tns:direction>Westbound</tns:direction><tns:congestion>Free Flow</tns:congestion></tns:congestionLocation><tns:congestionLocation><tns:name>Lincoln Rd - Te Atatu Rd</tns:name><tns:direction>Eastbound</tns:direction><tns:congestion>Free Flow</tns:congestion></tns:congestionLocation></tns:camera><tns:camera><tns:id>170</tns:id><tns:name>SH16 5 Lincoln Rd W</tns:name><tns:description>Lincoln Rd looking east</tns:description><tns:offline>false</tns:offline><tns:underMaintenance>false</tns:underMaintenance><tns:imageUrl>http://www.trafficnz.info/camera/170.jpg</tns:imageUrl><tns:viewUrl>http://www.trafficnz.info/camera/view/170</tns:viewUrl><tns:mapx>35</tns:mapx><tns:mapy>207</tns:mapy><tns:congestionLocation><tns:name>Lincoln Rd - Royal Rd</tns:name><tns:direction>Westbound</tns:direction><tns:congestion>Free Flow</tns:congestion></tns:congestionLocation><tns:congestionLocation><tns:name>Royal Rd - Lincoln Rd</tns:name><tns:direction>Eastbound</tns:direction><tns:congestion>Free Flow</tns:congestion></tns:congestionLocation></tns:camera><tns:camera><tns:id>270</tns:id><tns:name>SH16 6 Hobsonville W</tns:name><tns:description>Hobsonville looking West towards Kumeu</tns:description><tns:offline>false</tns:offline><tns:underMaintenance>false</tns:underMaintenance><tns:imageUrl>http://www.trafficnz.info/camera/270.jpg</tns:imageUrl><tns:viewUrl>http://www.trafficnz.info/camera/view/270</tns:viewUrl><tns:mapx>0</tns:mapx><tns:mapy>0</tns:mapy></tns:camera><tns:camera><tns:id>271</tns:id><tns:name>SH16 7 Hobsonville E</tns:name><tns:description>Hobsonville Road looking East</tns:description><tns:offline>false</tns:offline><tns:underMaintenance>false</tns:underMaintenance><tns:imageUrl>http://www.trafficnz.info/camera/271.jpg</tns:imageUrl><tns:viewUrl>http://www.trafficnz.info/camera/view/271</tns:viewUrl><tns:mapx>0</tns:mapx><tns:mapy>0</tns:mapy></tns:camera><tns:camera><tns:id>221</tns:id><tns:name>SH18 Trig Rd</tns:name><tns:description>Trig Rd looking west</tns:description><tns:offline>false</tns:offline><tns:underMaintenance>false</tns:underMaintenance><tns:imageUrl>http://www.trafficnz.info/camera/221.jpg</tns:imageUrl><tns:viewUrl>http://www.trafficnz.info/camera/view/221</tns:viewUrl><tns:mapx>0</tns:mapx><tns:mapy>0</tns:mapy></tns:camera><tns:camera><tns:id>222</tns:id><tns:name>SH18 Waiahora Creek</tns:name><tns:description>Upper harbour motorway looking west</tns:description><tns:offline>false</tns:offline><tns:underMaintenance>false</tns:underMaintenance><tns:imageUrl>http://www.trafficnz.info/camera/222.jpg</tns:imageUrl><tns:viewUrl>http://www.trafficnz.info/camera/view/222</tns:viewUrl><tns:mapx>0</tns:mapx><tns:mapy>0</tns:mapy></tns:camera><tns:camera><tns:id>223</tns:id><tns:name>SH18 Brigham Creek</tns:name><tns:description>Upper harbour motorway looking East</tns:description><tns:offline>false</tns:offline><tns:underMaintenance>false</tns:underMaintenance><tns:imageUrl>http://www.trafficnz.info/camera/223.jpg</tns:imageUrl><tns:viewUrl>http://www.trafficnz.info/camera/view/223</tns:viewUrl><tns:mapx>0</tns:mapx><tns:mapy>0</tns:mapy></tns:camera><tns:camera><tns:id>224</tns:id><tns:name>SH18 Sinton Rd</tns:name><tns:description>Upper harbour motorway looking west</tns:description><tns:offline>false</tns:offline><tns:underMaintenance>false</tns:underMaintenance><tns:imageUrl>http://www.trafficnz.info/camera/224.jpg</tns:imageUrl><tns:viewUrl>http://www.trafficnz.info/camera/view/224</tns:viewUrl><tns:mapx>0</tns:mapx><tns:mapy>0</tns:mapy></tns:camera><tns:camera><tns:id>225</tns:id><tns:name>SH18 Squadron Dr</tns:name><tns:description>Upper harbour motorway looking east</tns:description><tns:offline>false</tns:offline><tns:underMaintenance>false</tns:underMaintenance><tns:imageUrl>http://www.trafficnz.info/camera/225.jpg</tns:imageUrl><tns:viewUrl>http://www.trafficnz.info/camera/view/225</tns:viewUrl><tns:mapx>0</tns:mapx><tns:mapy>0</tns:mapy></tns:camera><tns:camera><tns:id>171</tns:id><tns:name>SH18 6 Tauhinu BRG</tns:name><tns:description>Tauhinu bridge looking east</tns:description><tns:offline>false</tns:offline><tns:underMaintenance>false</tns:underMaintenance><tns:imageUrl>http://www.trafficnz.info/camera/171.jpg</tns:imageUrl><tns:viewUrl>http://www.trafficnz.info/camera/view/171</tns:viewUrl><tns:mapx>60</tns:mapx><tns:mapy>207</tns:mapy></tns:camera><tns:camera><tns:id>172</tns:id><tns:name>SH18 7 Albany HWY</tns:name><tns:description>Albany Highway Looking East</tns:description><tns:offline>false</tns:offline><tns:underMaintenance>false</tns:underMaintenance><tns:imageUrl>http://www.trafficnz.info/camera/172.jpg</tns:imageUrl><tns:viewUrl>http://www.trafficnz.info/camera/view/172</tns:viewUrl><tns:mapx>35</tns:mapx><tns:mapy>207</tns:mapy></tns:camera><tns:camera><tns:id>173</tns:id><tns:name>SH18 8 Tauhinu East</tns:name><tns:description>Tauhinu East Looking East</tns:description><tns:offline>false</tns:offline><tns:underMaintenance>false</tns:underMaintenance><tns:imageUrl>http://www.trafficnz.info/camera/173.jpg</tns:imageUrl><tns:viewUrl>http://www.trafficnz.info/camera/view/173</tns:viewUrl><tns:mapx>35</tns:mapx><tns:mapy>207</tns:mapy></tns:camera><tns:camera><tns:id>174</tns:id><tns:name>SH18 9 Paul Matthews</tns:name><tns:description>Paul matthews looking east</tns:description><tns:offline>false</tns:offline><tns:underMaintenance>false</tns:underMaintenance><tns:imageUrl>http://www.trafficnz.info/camera/174.jpg</tns:imageUrl><tns:viewUrl>http://www.trafficnz.info/camera/view/174</tns:viewUrl><tns:mapx>35</tns:mapx><tns:mapy>207</tns:mapy></tns:camera><tns:camera><tns:id>175</tns:id><tns:name>SH18 10 Greenhithe</tns:name><tns:description>Greenhithe Rd looking east</tns:description><tns:offline>false</tns:offline><tns:underMaintenance>false</tns:underMaintenance><tns:imageUrl>http://www.trafficnz.info/camera/175.jpg</tns:imageUrl><tns:viewUrl>http://www.trafficnz.info/camera/view/175</tns:viewUrl><tns:mapx>35</tns:mapx><tns:mapy>207</tns:mapy></tns:camera><tns:camera><tns:id>176</tns:id><tns:name>SH18 11 George Deane</tns:name><tns:description>George deane looking east</tns:description><tns:offline>false</tns:offline><tns:underMaintenance>false</tns:underMaintenance><tns:imageUrl>http://www.trafficnz.info/camera/176.jpg</tns:imageUrl><tns:viewUrl>http://www.trafficnz.info/camera/view/176</tns:viewUrl><tns:mapx>35</tns:mapx><tns:mapy>207</tns:mapy></tns:camera><tns:camera><tns:id>177</tns:id><tns:name>SH18 12 Upper Hbr CW</tns:name><tns:description>Upper harbour looking east</tns:description><tns:offline>false</tns:offline><tns:underMaintenance>false</tns:underMaintenance><tns:imageUrl>http://www.trafficnz.info/camera/177.jpg</tns:imageUrl><tns:viewUrl>http://www.trafficnz.info/camera/view/177</tns:viewUrl><tns:mapx>35</tns:mapx><tns:mapy>207</tns:mapy></tns:camera><tns:camera><tns:id>178</tns:id><tns:name>SH18 13 Wicklam Lane</tns:name><tns:description>Wicklam Lane looking west</tns:description><tns:offline>false</tns:offline><tns:underMaintenance>false</tns:underMaintenance><tns:imageUrl>http://www.trafficnz.info/camera/178.jpg</tns:imageUrl><tns:viewUrl>http://www.trafficnz.info/camera/view/178</tns:viewUrl><tns:mapx>35</tns:mapx><tns:mapy>207</tns:mapy></tns:camera><tns:camera><tns:id>10</tns:id><tns:name>SH1 1 Greville Rd</tns:name><tns:description>Greville road looking south</tns:description><tns:offline>false</tns:offline><tns:underMaintenance>false</tns:underMaintenance><tns:imageUrl>http://www.trafficnz.info/camera/10.jpg</tns:imageUrl><tns:viewUrl>http://www.trafficnz.info/camera/view/10</tns:viewUrl><tns:mapx>125</tns:mapx><tns:mapy>71</tns:mapy><tns:congestionLocation><tns:name>Upper Harb Hwy - Oteha Valley Rd</tns:name><tns:direction>Northbound</tns:direction><tns:congestion>Free Flow</tns:congestion></tns:congestionLocation><tns:congestionLocation><tns:name>Oteha Valley Rd - Upper Harb Hwy</tns:name><tns:direction>Southbound</tns:direction><tns:congestion>Free Flow</tns:congestion></tns:congestionLocation></tns:camera><tns:camera><tns:id>20</tns:id><tns:name>SH1 2 Tristram Ave</tns:name><tns:description>Tristram Avenue looking south</tns:description><tns:offline>false</tns:offline><tns:underMaintenance>false</tns:underMaintenance><tns:imageUrl>http://www.trafficnz.info/camera/20.jpg</tns:imageUrl><tns:viewUrl>http://www.trafficnz.info/camera/view/20</tns:viewUrl><tns:mapx>148</tns:mapx><tns:mapy>118</tns:mapy><tns:congestionLocation><tns:name>Tristram Ave - Esmonde Rd</tns:name><tns:direction>Southbound</tns:direction><tns:congestion>Free Flow</tns:congestion></tns:congestionLocation><tns:congestionLocation><tns:name>Esmonde Rd - Tristram Ave</tns:name><tns:direction>Northbound</tns:direction><tns:congestion>Free Flow</tns:congestion></tns:congestionLocation></tns:camera><tns:camera><tns:id>30</tns:id><tns:name>SH1 3 Northcote Rd</tns:name><tns:description>Northcote Rd looking north</tns:description><tns:offline>false</tns:offline><tns:underMaintenance>false</tns:underMaintenance><tns:imageUrl>http://www.trafficnz.info/camera/30.jpg</tns:imageUrl><tns:viewUrl>http://www.trafficnz.info/camera/view/30</tns:viewUrl><tns:mapx>156</tns:mapx><tns:mapy>141</tns:mapy><tns:congestionLocation><tns:name>Tristram Ave - Esmonde Rd</tns:name><tns:direction>Southbound</tns:direction><tns:congestion>Free Flow</tns:congestion></tns:congestionLocation><tns:congestionLocation><tns:name>Esmonde Rd - Tristram Ave</tns:name><tns:direction>Northbound</tns:direction><tns:congestion>Free Flow</tns:congestion></tns:congestionLocation></tns:camera><tns:camera><tns:id>40</tns:id><tns:name>SH1 4 Esmonde Rd</tns:name><tns:description>Esmonde Rd looking south</tns:description><tns:offline>false</tns:offline><tns:underMaintenance>false</tns:underMaintenance><tns:imageUrl>http://www.trafficnz.info/camera/40.jpg</tns:imageUrl><tns:viewUrl>http://www.trafficnz.info/camera/view/40</tns:viewUrl><tns:mapx>178</tns:mapx><tns:mapy>146</tns:mapy><tns:congestionLocation><tns:name>Esmonde Rd - Onewa</tns:name><tns:direction>Southbound</tns:direction><tns:congestion>Free Flow</tns:congestion></tns:congestionLocation><tns:congestionLocation><tns:name>Stafford Rd - Esmonde Rd</tns:name><tns:direction>Northbound</tns:direction><tns:congestion>Free Flow</tns:congestion></tns:congestionLocation></tns:camera><tns:camera><tns:id>50</tns:id><tns:name>SH1 5 Onewa Rd</tns:name><tns:description>Onewa Rd looking south</tns:description><tns:offline>false</tns:offline><tns:underMaintenance>false</tns:underMaintenance><tns:imageUrl>http://www.trafficnz.info/camera/50.jpg</tns:imageUrl><tns:viewUrl>http://www.trafficnz.info/camera/view/50</tns:viewUrl><tns:mapx>157</tns:mapx><tns:mapy>162</tns:mapy><tns:congestionLocation><tns:name>Harbour Bridge</tns:name><tns:direction>Southbound</tns:direction><tns:congestion>Free Flow</tns:congestion></tns:congestionLocation><tns:congestionLocation><tns:name>Stafford Rd - Esmonde Rd</tns:name><tns:direction>Northbound</tns:direction><tns:congestion>Free Flow</tns:congestion></tns:congestionLocation></tns:camera><tns:camera><tns:id>215</tns:id><tns:name>SH1 Alpurt Web cam</tns:name><tns:description>Johnstone hill tunnels looking south</tns:description><tns:offline>false</tns:offline><tns:underMaintenance>false</tns:underMaintenance><tns:imageUrl>http://www.trafficnz.info/camera/215.jpg</tns:imageUrl><tns:viewUrl>http://www.trafficnz.info/camera/view/215</tns:viewUrl><tns:mapx>0</tns:mapx><tns:mapy>0</tns:mapy></tns:camera><tns:camera><tns:id>212</tns:id><tns:name>SH1 17 Goodwood</tns:name><tns:description>Goodwood heights looking south</tns:description><tns:offline>false</tns:offline><tns:underMaintenance>false</tns:underMaintenance><tns:imageUrl>http://www.trafficnz.info/camera/212.jpg</tns:imageUrl><tns:viewUrl>http://www.trafficnz.info/camera/view/212</tns:viewUrl><tns:mapx>0</tns:mapx><tns:mapy>0</tns:mapy></tns:camera><tns:camera><tns:id>214</tns:id><tns:name>SH1 18 Rainbows End</tns:name><tns:description>Rainbows End looking north at SH1 and SH20 link</tns:description><tns:offline>false</tns:offline><tns:underMaintenance>false</tns:underMaintenance><tns:imageUrl>http://www.trafficnz.info/camera/214.jpg</tns:imageUrl><tns:viewUrl>http://www.trafficnz.info/camera/view/214</tns:viewUrl><tns:mapx>0</tns:mapx><tns:mapy>0</tns:mapy></tns:camera><tns:camera><tns:id>60</tns:id><tns:name>SH1 1 CMJ</tns:name><tns:description>Central motorway junction looking south at the link between state highways 1 and 16</tns:description><tns:offline>false</tns:offline><tns:underMaintenance>false</tns:underMaintenance><tns:imageUrl>http://www.trafficnz.info/camera/60.jpg</tns:imageUrl><tns:viewUrl>http://www.trafficnz.info/camera/view/60</tns:viewUrl><tns:mapx>162</tns:mapx><tns:mapy>217</tns:mapy><tns:congestionLocation><tns:name>Nelson St - Gillies Ave</tns:name><tns:direction>Southbound</tns:direction><tns:congestion>Free Flow</tns:congestion></tns:congestionLocation></tns:camera><tns:camera><tns:id>70</tns:id><tns:name>SH1 2 Market Rd</tns:name><tns:description>Southern motorway at newmarket looking south towards the Market  Rd overbridge</tns:description><tns:offline>false</tns:offline><tns:underMaintenance>false</tns:underMaintenance><tns:imageUrl>http://www.trafficnz.info/camera/70.jpg</tns:imageUrl><tns:viewUrl>http://www.trafficnz.info/camera/view/70</tns:viewUrl><tns:mapx>183</tns:mapx><tns:mapy>241</tns:mapy><tns:congestionLocation><tns:name>Gillies Ave - Greenlane</tns:name><tns:direction>Southbound</tns:direction><tns:congestion>Free Flow</tns:congestion></tns:congestionLocation><tns:congestionLocation><tns:name>Greenlane - Gillies Ave</tns:name><tns:direction>Northbound</tns:direction><tns:congestion>Free Flow</tns:congestion></tns:congestionLocation></tns:camera><tns:camera><tns:id>80</tns:id><tns:name>SH1 3 Greenlane Rd</tns:name><tns:description>Greenlane Rd looking north</tns:description><tns:offline>false</tns:offline><tns:underMaintenance>false</tns:underMaintenance><tns:imageUrl>http://www.trafficnz.info/camera/80.jpg</tns:imageUrl><tns:viewUrl>http://www.trafficnz.info/camera/view/80</tns:viewUrl><tns:mapx>198</tns:mapx><tns:mapy>262</tns:mapy><tns:congestionLocation><tns:name>Gillies Ave - Greenlane</tns:name><tns:direction>Southbound</tns:direction><tns:congestion>Free Flow</tns:congestion></tns:congestionLocation><tns:congestionLocation><tns:name>Greenlane - Gillies Ave</tns:name><tns:direction>Northbound</tns:direction><tns:congestion>Free Flow</tns:congestion></tns:congestionLocation></tns:camera><tns:camera><tns:id>90</tns:id><tns:name>SH1 4 SE Highway</tns:name><tns:description>South eastern highway looking south</tns:description><tns:offline>false</tns:offline><tns:underMaintenance>false</tns:underMaintenance><tns:imageUrl>http://www.trafficnz.info/camera/90.jpg</tns:imageUrl><tns:viewUrl>http://www.trafficnz.info/camera/view/90</tns:viewUrl><tns:mapx>219</tns:mapx><tns:mapy>278</tns:mapy><tns:congestionLocation><tns:name>Mt Wellington Hway - SE Highway</tns:name><tns:direction>Northbound</tns:direction><tns:congestion>Free Flow</tns:congestion></tns:congestionLocation><tns:congestionLocation><tns:name>SE Highway - Mt Wellington Hway</tns:name><tns:direction>Southbound</tns:direction><tns:congestion>Moderate</tns:congestion></tns:congestionLocation></tns:camera><tns:camera><tns:id>100</tns:id><tns:name>SH1 5 Redoubt Rd</tns:name><tns:description>Redoubt Rd looking north</tns:description><tns:offline>false</tns:offline><tns:underMaintenance>false</tns:underMaintenance><tns:imageUrl>http://www.trafficnz.info/camera/100.jpg</tns:imageUrl><tns:viewUrl>http://www.trafficnz.info/camera/view/100</tns:viewUrl><tns:mapx>254</tns:mapx><tns:mapy>341</tns:mapy><tns:congestionLocation><tns:name>Redoubt Rd - Hill Rd</tns:name><tns:direction>Southbound</tns:direction><tns:congestion>Free Flow</tns:congestion></tns:congestionLocation><tns:congestionLocation><tns:name>Hill Rd - Redoubt Rd</tns:name><tns:direction>Northbound</tns:direction><tns:congestion>Free Flow</tns:congestion></tns:congestionLocation></tns:camera><tns:camera><tns:id>110</tns:id><tns:name>SH1 6 Bairds Rd</tns:name><tns:description>Bairds Rd looking north</tns:description><tns:offline>false</tns:offline><tns:underMaintenance>false</tns:underMaintenance><tns:imageUrl>http://www.trafficnz.info/camera/110.jpg</tns:imageUrl><tns:viewUrl>http://www.trafficnz.info/camera/view/110</tns:viewUrl><tns:mapx>275</tns:mapx><tns:mapy>383</tns:mapy><tns:congestionLocation><tns:name>East Tamaki Rd - Princes St</tns:name><tns:direction>Northbound</tns:direction><tns:congestion>Free Flow</tns:congestion></tns:congestionLocation><tns:congestionLocation><tns:name>Princes St - East Tamaki Rd</tns:name><tns:direction>Southbound</tns:direction><tns:congestion>Free Flow</tns:congestion></tns:congestionLocation></tns:camera><tns:camera><tns:id>120</tns:id><tns:name>SH1 7 Alfriston Rd</tns:name><tns:description>Alfriston Rd looking north</tns:description><tns:offline>false</tns:offline><tns:underMaintenance>false</tns:underMaintenance><tns:imageUrl>http://www.trafficnz.info/camera/120.jpg</tns:imageUrl><tns:viewUrl>http://www.trafficnz.info/camera/view/120</tns:viewUrl><tns:mapx>291</tns:mapx><tns:mapy>411</tns:mapy><tns:congestionLocation><tns:name>Takanini - Hill Rd</tns:name><tns:direction>Northbound</tns:direction><tns:congestion>Free Flow</tns:congestion></tns:congestionLocation><tns:congestionLocation><tns:name>Hill Rd - Takanini</tns:name><tns:direction>Southbound</tns:direction><tns:congestion>Free Flow</tns:congestion></tns:congestionLocation></tns:camera><tns:camera><tns:id>121</tns:id><tns:name>SH1 8 Takanini</tns:name><tns:description>Takanini looking south</tns:description><tns:offline>false</tns:offline><tns:underMaintenance>false</tns:underMaintenance><tns:imageUrl>http://www.trafficnz.info/camera/121.jpg</tns:imageUrl><tns:viewUrl>http://www.trafficnz.info/camera/view/121</tns:viewUrl><tns:mapx>290</tns:mapx><tns:mapy>380</tns:mapy></tns:camera><tns:camera><tns:id>122</tns:id><tns:name>SH1 9 Walter Streven</tns:name><tns:description>Walter-Strevens Drive looking south</tns:description><tns:offline>false</tns:offline><tns:underMaintenance>false</tns:underMaintenance><tns:imageUrl>http://www.trafficnz.info/camera/122.jpg</tns:imageUrl><tns:viewUrl>http://www.trafficnz.info/camera/view/122</tns:viewUrl><tns:mapx>285</tns:mapx><tns:mapy>400</tns:mapy></tns:camera><tns:camera><tns:id>123</tns:id><tns:name>SH1 10 Pahurehure</tns:name><tns:description>Pahurehure looking south</tns:description><tns:offline>false</tns:offline><tns:underMaintenance>false</tns:underMaintenance><tns:imageUrl>http://www.trafficnz.info/camera/123.jpg</tns:imageUrl><tns:viewUrl>http://www.trafficnz.info/camera/view/123</tns:viewUrl><tns:mapx>265</tns:mapx><tns:mapy>410</tns:mapy></tns:camera><tns:camera><tns:id>124</tns:id><tns:name>SH1 11 Rushgreen Ave</tns:name><tns:description>Rushgreen Ave looking south</tns:description><tns:offline>false</tns:offline><tns:underMaintenance>false</tns:underMaintenance><tns:imageUrl>http://www.trafficnz.info/camera/124.jpg</tns:imageUrl><tns:viewUrl>http://www.trafficnz.info/camera/view/124</tns:viewUrl><tns:mapx>285</tns:mapx><tns:mapy>420</tns:mapy></tns:camera><tns:camera><tns:id>125</tns:id><tns:name>SH1 12 Park Estate</tns:name><tns:description>Park estate looking south</tns:description><tns:offline>false</tns:offline><tns:underMaintenance>false</tns:underMaintenance><tns:imageUrl>http://www.trafficnz.info/camera/125.jpg</tns:imageUrl><tns:viewUrl>http://www.trafficnz.info/camera/view/125</tns:viewUrl><tns:mapx>300</tns:mapx><tns:mapy>430</tns:mapy></tns:camera><tns:camera><tns:id>126</tns:id><tns:name>SH1 13 Slippery Crk</tns:name><tns:description>Slippery Creek looking  south</tns:description><tns:offline>false</tns:offline><tns:underMaintenance>false</tns:underMaintenance><tns:imageUrl>http://www.trafficnz.info/camera/126.jpg</tns:imageUrl><tns:viewUrl>http://www.trafficnz.info/camera/view/126</tns:viewUrl><tns:mapx>286</tns:mapx><tns:mapy>445</tns:mapy></tns:camera><tns:camera><tns:id>274</tns:id><tns:name>SH20A Montgomerie Rd</tns:name><tns:description>Montgomerie Rd looking east</tns:description><tns:offline>false</tns:offline><tns:underMaintenance>false</tns:underMaintenance><tns:imageUrl>http://www.trafficnz.info/camera/274.jpg</tns:imageUrl><tns:viewUrl>http://www.trafficnz.info/camera/view/274</tns:viewUrl><tns:mapx>0</tns:mapx><tns:mapy>0</tns:mapy></tns:camera><tns:camera><tns:id>275</tns:id><tns:name>SH20A Kirkbride Road</tns:name><tns:description>Kirkbride Rd looking east</tns:description><tns:offline>false</tns:offline><tns:underMaintenance>false</tns:underMaintenance><tns:imageUrl>http://www.trafficnz.info/camera/275.jpg</tns:imageUrl><tns:viewUrl>http://www.trafficnz.info/camera/view/275</tns:viewUrl><tns:mapx>0</tns:mapx><tns:mapy>0</tns:mapy></tns:camera><tns:camera><tns:id>276</tns:id><tns:name>SH20A Bader Drive</tns:name><tns:description>Bader Drive looking east</tns:description><tns:offline>false</tns:offline><tns:underMaintenance>false</tns:underMaintenance><tns:imageUrl>http://www.trafficnz.info/camera/276.jpg</tns:imageUrl><tns:viewUrl>http://www.trafficnz.info/camera/view/276</tns:viewUrl><tns:mapx>0</tns:mapx><tns:mapy>0</tns:mapy></tns:camera><tns:camera><tns:id>272</tns:id><tns:name>SH20B Prices Road</tns:name><tns:description>Prices Rd looking east</tns:description><tns:offline>false</tns:offline><tns:underMaintenance>false</tns:underMaintenance><tns:imageUrl>http://www.trafficnz.info/camera/272.jpg</tns:imageUrl><tns:viewUrl>http://www.trafficnz.info/camera/view/272</tns:viewUrl><tns:mapx>0</tns:mapx><tns:mapy>0</tns:mapy></tns:camera><tns:camera><tns:id>273</tns:id><tns:name>SH20B Waokauri Creek</tns:name><tns:description>Waokauri Creek looking west</tns:description><tns:offline>false</tns:offline><tns:underMaintenance>false</tns:underMaintenance><tns:imageUrl>http://www.trafficnz.info/camera/273.jpg</tns:imageUrl><tns:viewUrl>http://www.trafficnz.info/camera/view/273</tns:viewUrl><tns:mapx>0</tns:mapx><tns:mapy>0</tns:mapy></tns:camera><tns:camera><tns:id>190</tns:id><tns:name>SH20 1 Queenstown Rd</tns:name><tns:description>Queenstown Rd looking south</tns:description><tns:offline>false</tns:offline><tns:underMaintenance>false</tns:underMaintenance><tns:imageUrl>http://www.trafficnz.info/camera/190.jpg</tns:imageUrl><tns:viewUrl>http://www.trafficnz.info/camera/view/190</tns:viewUrl><tns:mapx>35</tns:mapx><tns:mapy>207</tns:mapy></tns:camera><tns:camera><tns:id>191</tns:id><tns:name>SH20 2 Hillsborough</tns:name><tns:description>Hillsborough Rd looking south</tns:description><tns:offline>false</tns:offline><tns:underMaintenance>false</tns:underMaintenance><tns:imageUrl>http://www.trafficnz.info/camera/191.jpg</tns:imageUrl><tns:viewUrl>http://www.trafficnz.info/camera/view/191</tns:viewUrl><tns:mapx>35</tns:mapx><tns:mapy>207</tns:mapy></tns:camera><tns:camera><tns:id>192</tns:id><tns:name>SH20 3 Melrose</tns:name><tns:description>Melrose looking south</tns:description><tns:offline>false</tns:offline><tns:underMaintenance>false</tns:underMaintenance><tns:imageUrl>http://www.trafficnz.info/camera/192.jpg</tns:imageUrl><tns:viewUrl>http://www.trafficnz.info/camera/view/192</tns:viewUrl><tns:mapx>35</tns:mapx><tns:mapy>207</tns:mapy></tns:camera><tns:camera><tns:id>193</tns:id><tns:name>SH20 4 Dominion Rd</tns:name><tns:description>Dominion Rd looking south</tns:description><tns:offline>false</tns:offline><tns:underMaintenance>false</tns:underMaintenance><tns:imageUrl>http://www.trafficnz.info/camera/193.jpg</tns:imageUrl><tns:viewUrl>http://www.trafficnz.info/camera/view/193</tns:viewUrl><tns:mapx>35</tns:mapx><tns:mapy>207</tns:mapy></tns:camera><tns:camera><tns:id>194</tns:id><tns:name>SH20 5 Sandringham</tns:name><tns:description>Sandringham looking South</tns:description><tns:offline>false</tns:offline><tns:underMaintenance>false</tns:underMaintenance><tns:imageUrl>http://www.trafficnz.info/camera/194.jpg</tns:imageUrl><tns:viewUrl>http://www.trafficnz.info/camera/view/194</tns:viewUrl><tns:mapx>35</tns:mapx><tns:mapy>207</tns:mapy></tns:camera><tns:camera><tns:id>201</tns:id><tns:name>SH20 6 Gloucester Pk</tns:name><tns:description>Gloucester Park looking north</tns:description><tns:offline>false</tns:offline><tns:underMaintenance>false</tns:underMaintenance><tns:imageUrl>http://www.trafficnz.info/camera/201.jpg</tns:imageUrl><tns:viewUrl>http://www.trafficnz.info/camera/view/201</tns:viewUrl><tns:mapx>0</tns:mapx><tns:mapy>0</tns:mapy></tns:camera><tns:camera><tns:id>202</tns:id><tns:name>SH20 7 Onehunga</tns:name><tns:description>Onehunga wharf looking north</tns:description><tns:offline>false</tns:offline><tns:underMaintenance>false</tns:underMaintenance><tns:imageUrl>http://www.trafficnz.info/camera/202.jpg</tns:imageUrl><tns:viewUrl>http://www.trafficnz.info/camera/view/202</tns:viewUrl><tns:mapx>0</tns:mapx><tns:mapy>0</tns:mapy></tns:camera><tns:camera><tns:id>203</tns:id><tns:name>SH20 8 Rimu Rd</tns:name><tns:description>Rimu Rd looking north</tns:description><tns:offline>false</tns:offline><tns:underMaintenance>false</tns:underMaintenance><tns:imageUrl>http://www.trafficnz.info/camera/203.jpg</tns:imageUrl><tns:viewUrl>http://www.trafficnz.info/camera/view/203</tns:viewUrl><tns:mapx>0</tns:mapx><tns:mapy>0</tns:mapy></tns:camera><tns:camera><tns:id>204</tns:id><tns:name>SH20 9 Crawford Ave</tns:name><tns:description>Crawford Ave looking north</tns:description><tns:offline>false</tns:offline><tns:underMaintenance>false</tns:underMaintenance><tns:imageUrl>http://www.trafficnz.info/camera/204.jpg</tns:imageUrl><tns:viewUrl>http://www.trafficnz.info/camera/view/204</tns:viewUrl><tns:mapx>0</tns:mapx><tns:mapy>0</tns:mapy></tns:camera><tns:camera><tns:id>205</tns:id><tns:name>SH20 Coronation Rd</tns:name><tns:description>Coronation Rd looking east</tns:description><tns:offline>false</tns:offline><tns:underMaintenance>false</tns:underMaintenance><tns:imageUrl>http://www.trafficnz.info/camera/205.jpg</tns:imageUrl><tns:viewUrl>http://www.trafficnz.info/camera/view/205</tns:viewUrl><tns:mapx>0</tns:mapx><tns:mapy>0</tns:mapy></tns:camera><tns:camera><tns:id>206</tns:id><tns:name>SH20 11 Puhinui Rd</tns:name><tns:description>Puhinui road interchange looking south</tns:description><tns:offline>false</tns:offline><tns:underMaintenance>false</tns:underMaintenance><tns:imageUrl>http://www.trafficnz.info/camera/206.jpg</tns:imageUrl><tns:viewUrl>http://www.trafficnz.info/camera/view/206</tns:viewUrl><tns:mapx>0</tns:mapx><tns:mapy>0</tns:mapy></tns:camera><tns:camera><tns:id>207</tns:id><tns:name>SH20 12 Nesdale Road</tns:name><tns:description>Nesdale Rd looking east</tns:description><tns:offline>false</tns:offline><tns:underMaintenance>false</tns:underMaintenance><tns:imageUrl>http://www.trafficnz.info/camera/207.jpg</tns:imageUrl><tns:viewUrl>http://www.trafficnz.info/camera/view/207</tns:viewUrl><tns:mapx>0</tns:mapx><tns:mapy>0</tns:mapy></tns:camera><tns:camera><tns:id>208</tns:id><tns:name>SH20 13 Plunket Ave</tns:name><tns:description>Plunket Ave looking south</tns:description><tns:offline>false</tns:offline><tns:underMaintenance>false</tns:underMaintenance><tns:imageUrl>http://www.trafficnz.info/camera/208.jpg</tns:imageUrl><tns:viewUrl>http://www.trafficnz.info/camera/view/208</tns:viewUrl><tns:mapx>0</tns:mapx><tns:mapy>0</tns:mapy></tns:camera><tns:camera><tns:id>209</tns:id><tns:name>SH20 14 Lambie Drive</tns:name><tns:description>Lambie Drive looking south</tns:description><tns:offline>false</tns:offline><tns:underMaintenance>false</tns:underMaintenance><tns:imageUrl>http://www.trafficnz.info/camera/209.jpg</tns:imageUrl><tns:viewUrl>http://www.trafficnz.info/camera/view/209</tns:viewUrl><tns:mapx>0</tns:mapx><tns:mapy>0</tns:mapy></tns:camera><tns:camera><tns:id>210</tns:id><tns:name>SH20 15 Barrowcliffe</tns:name><tns:description>Barrowcliffe Place looking west</tns:description><tns:offline>false</tns:offline><tns:underMaintenance>false</tns:underMaintenance><tns:imageUrl>http://www.trafficnz.info/camera/210.jpg</tns:imageUrl><tns:viewUrl>http://www.trafficnz.info/camera/view/210</tns:viewUrl><tns:mapx>0</tns:mapx><tns:mapy>0</tns:mapy></tns:camera><tns:camera><tns:id>211</tns:id><tns:name>SH20 16 Great South</tns:name><tns:description>Great South Rd Looking westbound</tns:description><tns:offline>false</tns:offline><tns:underMaintenance>false</tns:underMaintenance><tns:imageUrl>http://www.trafficnz.info/camera/211.jpg</tns:imageUrl><tns:viewUrl>http://www.trafficnz.info/camera/view/211</tns:viewUrl><tns:mapx>0</tns:mapx><tns:mapy>0</tns:mapy></tns:camera></tns:getCamerasResponse>')"
     ],
     "language": "python",
     "metadata": {},
     "outputs": [],
     "prompt_number": 35
    },
    {
     "cell_type": "code",
     "collapsed": false,
     "input": [
      "datadict = xmltodict.parse(thexml)"
     ],
     "language": "python",
     "metadata": {},
     "outputs": [],
     "prompt_number": 39
    },
    {
     "cell_type": "code",
     "collapsed": false,
     "input": [
      "dakey = datadict.keys"
     ],
     "language": "python",
     "metadata": {},
     "outputs": [],
     "prompt_number": 45
    },
    {
     "cell_type": "code",
     "collapsed": false,
     "input": [
      "dalist = []"
     ],
     "language": "python",
     "metadata": {},
     "outputs": [],
     "prompt_number": 56
    },
    {
     "cell_type": "code",
     "collapsed": false,
     "input": [
      "dalist[0]"
     ],
     "language": "python",
     "metadata": {},
     "outputs": [
      {
       "output_type": "pyout",
       "prompt_number": 59,
       "text": [
        "OrderedDict([(u'@xmlns:rem', u'http://remote.service.callcenter.nzta.govt.nz'), (u'@xmlns:tns', u'https://infoconnect.highwayinfo.govt.nz/schemas/camera'), (u'@xmlns:xsd', u'http://www.w3.org/2001/XMLSchema'), (u'@xmlns:xsi', u'http://www.w3.org/2001/XMLSchema-instance'), (u'tns:camera', [OrderedDict([(u'tns:id', u'130'), (u'tns:name', u'SH16 1 Bond St'), (u'tns:description', u'Bond St looking east'), (u'tns:offline', u'false'), (u'tns:underMaintenance', u'false'), (u'tns:imageUrl', u'http://www.trafficnz.info/camera/130.jpg'), (u'tns:viewUrl', u'http://www.trafficnz.info/camera/view/130'), (u'tns:mapx', u'142'), (u'tns:mapy', u'229'), (u'tns:congestionLocation', [OrderedDict([(u'tns:name', u'St Lukes Rd - Newton Rd'), (u'tns:direction', u'Eastbound'), (u'tns:congestion', u'Free Flow')]), OrderedDict([(u'tns:name', u'Newton Rd - St Lukes Rd'), (u'tns:direction', u'Westbound'), (u'tns:congestion', u'Free Flow')])])]), OrderedDict([(u'tns:id', u'140'), (u'tns:name', u'SH16 2 Gt North Rd'), (u'tns:description', u'Gt North Road looking west'), (u'tns:offline', u'false'), (u'tns:underMaintenance', u'false'), (u'tns:imageUrl', u'http://www.trafficnz.info/camera/140.jpg'), (u'tns:viewUrl', u'http://www.trafficnz.info/camera/view/140'), (u'tns:mapx', u'113'), (u'tns:mapy', u'232'), (u'tns:congestionLocation', [OrderedDict([(u'tns:name', u'Rosebank Rd - Great Nth Rd Waterview'), (u'tns:direction', u'Eastbound'), (u'tns:congestion', u'Free Flow')]), OrderedDict([(u'tns:name', u'Great Nth Rd Waterview - Rosebank Rd'), (u'tns:direction', u'Westbound'), (u'tns:congestion', u'Free Flow')])])]), OrderedDict([(u'tns:id', u'150'), (u'tns:name', u'SH16 3 Te Atatu Rd'), (u'tns:description', u'Te Atatu Road looking east'), (u'tns:offline', u'false'), (u'tns:underMaintenance', u'false'), (u'tns:imageUrl', u'http://www.trafficnz.info/camera/150.jpg'), (u'tns:viewUrl', u'http://www.trafficnz.info/camera/view/150'), (u'tns:mapx', u'70'), (u'tns:mapy', u'216'), (u'tns:congestionLocation', [OrderedDict([(u'tns:name', u'Te Atatu Rd - Rosebank Rd'), (u'tns:direction', u'Eastbound'), (u'tns:congestion', u'Free Flow')]), OrderedDict([(u'tns:name', u'Rosebank Rd - Te Atatu Rd'), (u'tns:direction', u'Westbound'), (u'tns:congestion', u'Free Flow')])])]), OrderedDict([(u'tns:id', u'160'), (u'tns:name', u'SH16 4 Lincoln Rd E'), (u'tns:description', u'Lincoln Rd  looking west'), (u'tns:offline', u'false'), (u'tns:underMaintenance', u'false'), (u'tns:imageUrl', u'http://www.trafficnz.info/camera/160.jpg'), (u'tns:viewUrl', u'http://www.trafficnz.info/camera/view/160'), (u'tns:mapx', u'52'), (u'tns:mapy', u'207'), (u'tns:congestionLocation', [OrderedDict([(u'tns:name', u'Te Atatu Rd - Lincoln Rd'), (u'tns:direction', u'Westbound'), (u'tns:congestion', u'Free Flow')]), OrderedDict([(u'tns:name', u'Lincoln Rd - Te Atatu Rd'), (u'tns:direction', u'Eastbound'), (u'tns:congestion', u'Free Flow')])])]), OrderedDict([(u'tns:id', u'170'), (u'tns:name', u'SH16 5 Lincoln Rd W'), (u'tns:description', u'Lincoln Rd looking east'), (u'tns:offline', u'false'), (u'tns:underMaintenance', u'false'), (u'tns:imageUrl', u'http://www.trafficnz.info/camera/170.jpg'), (u'tns:viewUrl', u'http://www.trafficnz.info/camera/view/170'), (u'tns:mapx', u'35'), (u'tns:mapy', u'207'), (u'tns:congestionLocation', [OrderedDict([(u'tns:name', u'Lincoln Rd - Royal Rd'), (u'tns:direction', u'Westbound'), (u'tns:congestion', u'Free Flow')]), OrderedDict([(u'tns:name', u'Royal Rd - Lincoln Rd'), (u'tns:direction', u'Eastbound'), (u'tns:congestion', u'Free Flow')])])]), OrderedDict([(u'tns:id', u'270'), (u'tns:name', u'SH16 6 Hobsonville W'), (u'tns:description', u'Hobsonville looking West towards Kumeu'), (u'tns:offline', u'false'), (u'tns:underMaintenance', u'false'), (u'tns:imageUrl', u'http://www.trafficnz.info/camera/270.jpg'), (u'tns:viewUrl', u'http://www.trafficnz.info/camera/view/270'), (u'tns:mapx', u'0'), (u'tns:mapy', u'0')]), OrderedDict([(u'tns:id', u'271'), (u'tns:name', u'SH16 7 Hobsonville E'), (u'tns:description', u'Hobsonville Road looking East'), (u'tns:offline', u'false'), (u'tns:underMaintenance', u'false'), (u'tns:imageUrl', u'http://www.trafficnz.info/camera/271.jpg'), (u'tns:viewUrl', u'http://www.trafficnz.info/camera/view/271'), (u'tns:mapx', u'0'), (u'tns:mapy', u'0')]), OrderedDict([(u'tns:id', u'221'), (u'tns:name', u'SH18 Trig Rd'), (u'tns:description', u'Trig Rd looking west'), (u'tns:offline', u'false'), (u'tns:underMaintenance', u'false'), (u'tns:imageUrl', u'http://www.trafficnz.info/camera/221.jpg'), (u'tns:viewUrl', u'http://www.trafficnz.info/camera/view/221'), (u'tns:mapx', u'0'), (u'tns:mapy', u'0')]), OrderedDict([(u'tns:id', u'222'), (u'tns:name', u'SH18 Waiahora Creek'), (u'tns:description', u'Upper harbour motorway looking west'), (u'tns:offline', u'false'), (u'tns:underMaintenance', u'false'), (u'tns:imageUrl', u'http://www.trafficnz.info/camera/222.jpg'), (u'tns:viewUrl', u'http://www.trafficnz.info/camera/view/222'), (u'tns:mapx', u'0'), (u'tns:mapy', u'0')]), OrderedDict([(u'tns:id', u'223'), (u'tns:name', u'SH18 Brigham Creek'), (u'tns:description', u'Upper harbour motorway looking East'), (u'tns:offline', u'false'), (u'tns:underMaintenance', u'false'), (u'tns:imageUrl', u'http://www.trafficnz.info/camera/223.jpg'), (u'tns:viewUrl', u'http://www.trafficnz.info/camera/view/223'), (u'tns:mapx', u'0'), (u'tns:mapy', u'0')]), OrderedDict([(u'tns:id', u'224'), (u'tns:name', u'SH18 Sinton Rd'), (u'tns:description', u'Upper harbour motorway looking west'), (u'tns:offline', u'false'), (u'tns:underMaintenance', u'false'), (u'tns:imageUrl', u'http://www.trafficnz.info/camera/224.jpg'), (u'tns:viewUrl', u'http://www.trafficnz.info/camera/view/224'), (u'tns:mapx', u'0'), (u'tns:mapy', u'0')]), OrderedDict([(u'tns:id', u'225'), (u'tns:name', u'SH18 Squadron Dr'), (u'tns:description', u'Upper harbour motorway looking east'), (u'tns:offline', u'false'), (u'tns:underMaintenance', u'false'), (u'tns:imageUrl', u'http://www.trafficnz.info/camera/225.jpg'), (u'tns:viewUrl', u'http://www.trafficnz.info/camera/view/225'), (u'tns:mapx', u'0'), (u'tns:mapy', u'0')]), OrderedDict([(u'tns:id', u'171'), (u'tns:name', u'SH18 6 Tauhinu BRG'), (u'tns:description', u'Tauhinu bridge looking east'), (u'tns:offline', u'false'), (u'tns:underMaintenance', u'false'), (u'tns:imageUrl', u'http://www.trafficnz.info/camera/171.jpg'), (u'tns:viewUrl', u'http://www.trafficnz.info/camera/view/171'), (u'tns:mapx', u'60'), (u'tns:mapy', u'207')]), OrderedDict([(u'tns:id', u'172'), (u'tns:name', u'SH18 7 Albany HWY'), (u'tns:description', u'Albany Highway Looking East'), (u'tns:offline', u'false'), (u'tns:underMaintenance', u'false'), (u'tns:imageUrl', u'http://www.trafficnz.info/camera/172.jpg'), (u'tns:viewUrl', u'http://www.trafficnz.info/camera/view/172'), (u'tns:mapx', u'35'), (u'tns:mapy', u'207')]), OrderedDict([(u'tns:id', u'173'), (u'tns:name', u'SH18 8 Tauhinu East'), (u'tns:description', u'Tauhinu East Looking East'), (u'tns:offline', u'false'), (u'tns:underMaintenance', u'false'), (u'tns:imageUrl', u'http://www.trafficnz.info/camera/173.jpg'), (u'tns:viewUrl', u'http://www.trafficnz.info/camera/view/173'), (u'tns:mapx', u'35'), (u'tns:mapy', u'207')]), OrderedDict([(u'tns:id', u'174'), (u'tns:name', u'SH18 9 Paul Matthews'), (u'tns:description', u'Paul matthews looking east'), (u'tns:offline', u'false'), (u'tns:underMaintenance', u'false'), (u'tns:imageUrl', u'http://www.trafficnz.info/camera/174.jpg'), (u'tns:viewUrl', u'http://www.trafficnz.info/camera/view/174'), (u'tns:mapx', u'35'), (u'tns:mapy', u'207')]), OrderedDict([(u'tns:id', u'175'), (u'tns:name', u'SH18 10 Greenhithe'), (u'tns:description', u'Greenhithe Rd looking east'), (u'tns:offline', u'false'), (u'tns:underMaintenance', u'false'), (u'tns:imageUrl', u'http://www.trafficnz.info/camera/175.jpg'), (u'tns:viewUrl', u'http://www.trafficnz.info/camera/view/175'), (u'tns:mapx', u'35'), (u'tns:mapy', u'207')]), OrderedDict([(u'tns:id', u'176'), (u'tns:name', u'SH18 11 George Deane'), (u'tns:description', u'George deane looking east'), (u'tns:offline', u'false'), (u'tns:underMaintenance', u'false'), (u'tns:imageUrl', u'http://www.trafficnz.info/camera/176.jpg'), (u'tns:viewUrl', u'http://www.trafficnz.info/camera/view/176'), (u'tns:mapx', u'35'), (u'tns:mapy', u'207')]), OrderedDict([(u'tns:id', u'177'), (u'tns:name', u'SH18 12 Upper Hbr CW'), (u'tns:description', u'Upper harbour looking east'), (u'tns:offline', u'false'), (u'tns:underMaintenance', u'false'), (u'tns:imageUrl', u'http://www.trafficnz.info/camera/177.jpg'), (u'tns:viewUrl', u'http://www.trafficnz.info/camera/view/177'), (u'tns:mapx', u'35'), (u'tns:mapy', u'207')]), OrderedDict([(u'tns:id', u'178'), (u'tns:name', u'SH18 13 Wicklam Lane'), (u'tns:description', u'Wicklam Lane looking west'), (u'tns:offline', u'false'), (u'tns:underMaintenance', u'false'), (u'tns:imageUrl', u'http://www.trafficnz.info/camera/178.jpg'), (u'tns:viewUrl', u'http://www.trafficnz.info/camera/view/178'), (u'tns:mapx', u'35'), (u'tns:mapy', u'207')]), OrderedDict([(u'tns:id', u'10'), (u'tns:name', u'SH1 1 Greville Rd'), (u'tns:description', u'Greville road looking south'), (u'tns:offline', u'false'), (u'tns:underMaintenance', u'false'), (u'tns:imageUrl', u'http://www.trafficnz.info/camera/10.jpg'), (u'tns:viewUrl', u'http://www.trafficnz.info/camera/view/10'), (u'tns:mapx', u'125'), (u'tns:mapy', u'71'), (u'tns:congestionLocation', [OrderedDict([(u'tns:name', u'Upper Harb Hwy - Oteha Valley Rd'), (u'tns:direction', u'Northbound'), (u'tns:congestion', u'Free Flow')]), OrderedDict([(u'tns:name', u'Oteha Valley Rd - Upper Harb Hwy'), (u'tns:direction', u'Southbound'), (u'tns:congestion', u'Free Flow')])])]), OrderedDict([(u'tns:id', u'20'), (u'tns:name', u'SH1 2 Tristram Ave'), (u'tns:description', u'Tristram Avenue looking south'), (u'tns:offline', u'false'), (u'tns:underMaintenance', u'false'), (u'tns:imageUrl', u'http://www.trafficnz.info/camera/20.jpg'), (u'tns:viewUrl', u'http://www.trafficnz.info/camera/view/20'), (u'tns:mapx', u'148'), (u'tns:mapy', u'118'), (u'tns:congestionLocation', [OrderedDict([(u'tns:name', u'Tristram Ave - Esmonde Rd'), (u'tns:direction', u'Southbound'), (u'tns:congestion', u'Free Flow')]), OrderedDict([(u'tns:name', u'Esmonde Rd - Tristram Ave'), (u'tns:direction', u'Northbound'), (u'tns:congestion', u'Free Flow')])])]), OrderedDict([(u'tns:id', u'30'), (u'tns:name', u'SH1 3 Northcote Rd'), (u'tns:description', u'Northcote Rd looking north'), (u'tns:offline', u'false'), (u'tns:underMaintenance', u'false'), (u'tns:imageUrl', u'http://www.trafficnz.info/camera/30.jpg'), (u'tns:viewUrl', u'http://www.trafficnz.info/camera/view/30'), (u'tns:mapx', u'156'), (u'tns:mapy', u'141'), (u'tns:congestionLocation', [OrderedDict([(u'tns:name', u'Tristram Ave - Esmonde Rd'), (u'tns:direction', u'Southbound'), (u'tns:congestion', u'Free Flow')]), OrderedDict([(u'tns:name', u'Esmonde Rd - Tristram Ave'), (u'tns:direction', u'Northbound'), (u'tns:congestion', u'Free Flow')])])]), OrderedDict([(u'tns:id', u'40'), (u'tns:name', u'SH1 4 Esmonde Rd'), (u'tns:description', u'Esmonde Rd looking south'), (u'tns:offline', u'false'), (u'tns:underMaintenance', u'false'), (u'tns:imageUrl', u'http://www.trafficnz.info/camera/40.jpg'), (u'tns:viewUrl', u'http://www.trafficnz.info/camera/view/40'), (u'tns:mapx', u'178'), (u'tns:mapy', u'146'), (u'tns:congestionLocation', [OrderedDict([(u'tns:name', u'Esmonde Rd - Onewa'), (u'tns:direction', u'Southbound'), (u'tns:congestion', u'Free Flow')]), OrderedDict([(u'tns:name', u'Stafford Rd - Esmonde Rd'), (u'tns:direction', u'Northbound'), (u'tns:congestion', u'Free Flow')])])]), OrderedDict([(u'tns:id', u'50'), (u'tns:name', u'SH1 5 Onewa Rd'), (u'tns:description', u'Onewa Rd looking south'), (u'tns:offline', u'false'), (u'tns:underMaintenance', u'false'), (u'tns:imageUrl', u'http://www.trafficnz.info/camera/50.jpg'), (u'tns:viewUrl', u'http://www.trafficnz.info/camera/view/50'), (u'tns:mapx', u'157'), (u'tns:mapy', u'162'), (u'tns:congestionLocation', [OrderedDict([(u'tns:name', u'Harbour Bridge'), (u'tns:direction', u'Southbound'), (u'tns:congestion', u'Free Flow')]), OrderedDict([(u'tns:name', u'Stafford Rd - Esmonde Rd'), (u'tns:direction', u'Northbound'), (u'tns:congestion', u'Free Flow')])])]), OrderedDict([(u'tns:id', u'215'), (u'tns:name', u'SH1 Alpurt Web cam'), (u'tns:description', u'Johnstone hill tunnels looking south'), (u'tns:offline', u'false'), (u'tns:underMaintenance', u'false'), (u'tns:imageUrl', u'http://www.trafficnz.info/camera/215.jpg'), (u'tns:viewUrl', u'http://www.trafficnz.info/camera/view/215'), (u'tns:mapx', u'0'), (u'tns:mapy', u'0')]), OrderedDict([(u'tns:id', u'212'), (u'tns:name', u'SH1 17 Goodwood'), (u'tns:description', u'Goodwood heights looking south'), (u'tns:offline', u'false'), (u'tns:underMaintenance', u'false'), (u'tns:imageUrl', u'http://www.trafficnz.info/camera/212.jpg'), (u'tns:viewUrl', u'http://www.trafficnz.info/camera/view/212'), (u'tns:mapx', u'0'), (u'tns:mapy', u'0')]), OrderedDict([(u'tns:id', u'214'), (u'tns:name', u'SH1 18 Rainbows End'), (u'tns:description', u'Rainbows End looking north at SH1 and SH20 link'), (u'tns:offline', u'false'), (u'tns:underMaintenance', u'false'), (u'tns:imageUrl', u'http://www.trafficnz.info/camera/214.jpg'), (u'tns:viewUrl', u'http://www.trafficnz.info/camera/view/214'), (u'tns:mapx', u'0'), (u'tns:mapy', u'0')]), OrderedDict([(u'tns:id', u'60'), (u'tns:name', u'SH1 1 CMJ'), (u'tns:description', u'Central motorway junction looking south at the link between state highways 1 and 16'), (u'tns:offline', u'false'), (u'tns:underMaintenance', u'false'), (u'tns:imageUrl', u'http://www.trafficnz.info/camera/60.jpg'), (u'tns:viewUrl', u'http://www.trafficnz.info/camera/view/60'), (u'tns:mapx', u'162'), (u'tns:mapy', u'217'), (u'tns:congestionLocation', OrderedDict([(u'tns:name', u'Nelson St - Gillies Ave'), (u'tns:direction', u'Southbound'), (u'tns:congestion', u'Free Flow')]))]), OrderedDict([(u'tns:id', u'70'), (u'tns:name', u'SH1 2 Market Rd'), (u'tns:description', u'Southern motorway at newmarket looking south towards the Market  Rd overbridge'), (u'tns:offline', u'false'), (u'tns:underMaintenance', u'false'), (u'tns:imageUrl', u'http://www.trafficnz.info/camera/70.jpg'), (u'tns:viewUrl', u'http://www.trafficnz.info/camera/view/70'), (u'tns:mapx', u'183'), (u'tns:mapy', u'241'), (u'tns:congestionLocation', [OrderedDict([(u'tns:name', u'Gillies Ave - Greenlane'), (u'tns:direction', u'Southbound'), (u'tns:congestion', u'Free Flow')]), OrderedDict([(u'tns:name', u'Greenlane - Gillies Ave'), (u'tns:direction', u'Northbound'), (u'tns:congestion', u'Free Flow')])])]), OrderedDict([(u'tns:id', u'80'), (u'tns:name', u'SH1 3 Greenlane Rd'), (u'tns:description', u'Greenlane Rd looking north'), (u'tns:offline', u'false'), (u'tns:underMaintenance', u'false'), (u'tns:imageUrl', u'http://www.trafficnz.info/camera/80.jpg'), (u'tns:viewUrl', u'http://www.trafficnz.info/camera/view/80'), (u'tns:mapx', u'198'), (u'tns:mapy', u'262'), (u'tns:congestionLocation', [OrderedDict([(u'tns:name', u'Gillies Ave - Greenlane'), (u'tns:direction', u'Southbound'), (u'tns:congestion', u'Free Flow')]), OrderedDict([(u'tns:name', u'Greenlane - Gillies Ave'), (u'tns:direction', u'Northbound'), (u'tns:congestion', u'Free Flow')])])]), OrderedDict([(u'tns:id', u'90'), (u'tns:name', u'SH1 4 SE Highway'), (u'tns:description', u'South eastern highway looking south'), (u'tns:offline', u'false'), (u'tns:underMaintenance', u'false'), (u'tns:imageUrl', u'http://www.trafficnz.info/camera/90.jpg'), (u'tns:viewUrl', u'http://www.trafficnz.info/camera/view/90'), (u'tns:mapx', u'219'), (u'tns:mapy', u'278'), (u'tns:congestionLocation', [OrderedDict([(u'tns:name', u'Mt Wellington Hway - SE Highway'), (u'tns:direction', u'Northbound'), (u'tns:congestion', u'Free Flow')]), OrderedDict([(u'tns:name', u'SE Highway - Mt Wellington Hway'), (u'tns:direction', u'Southbound'), (u'tns:congestion', u'Moderate')])])]), OrderedDict([(u'tns:id', u'100'), (u'tns:name', u'SH1 5 Redoubt Rd'), (u'tns:description', u'Redoubt Rd looking north'), (u'tns:offline', u'false'), (u'tns:underMaintenance', u'false'), (u'tns:imageUrl', u'http://www.trafficnz.info/camera/100.jpg'), (u'tns:viewUrl', u'http://www.trafficnz.info/camera/view/100'), (u'tns:mapx', u'254'), (u'tns:mapy', u'341'), (u'tns:congestionLocation', [OrderedDict([(u'tns:name', u'Redoubt Rd - Hill Rd'), (u'tns:direction', u'Southbound'), (u'tns:congestion', u'Free Flow')]), OrderedDict([(u'tns:name', u'Hill Rd - Redoubt Rd'), (u'tns:direction', u'Northbound'), (u'tns:congestion', u'Free Flow')])])]), OrderedDict([(u'tns:id', u'110'), (u'tns:name', u'SH1 6 Bairds Rd'), (u'tns:description', u'Bairds Rd looking north'), (u'tns:offline', u'false'), (u'tns:underMaintenance', u'false'), (u'tns:imageUrl', u'http://www.trafficnz.info/camera/110.jpg'), (u'tns:viewUrl', u'http://www.trafficnz.info/camera/view/110'), (u'tns:mapx', u'275'), (u'tns:mapy', u'383'), (u'tns:congestionLocation', [OrderedDict([(u'tns:name', u'East Tamaki Rd - Princes St'), (u'tns:direction', u'Northbound'), (u'tns:congestion', u'Free Flow')]), OrderedDict([(u'tns:name', u'Princes St - East Tamaki Rd'), (u'tns:direction', u'Southbound'), (u'tns:congestion', u'Free Flow')])])]), OrderedDict([(u'tns:id', u'120'), (u'tns:name', u'SH1 7 Alfriston Rd'), (u'tns:description', u'Alfriston Rd looking north'), (u'tns:offline', u'false'), (u'tns:underMaintenance', u'false'), (u'tns:imageUrl', u'http://www.trafficnz.info/camera/120.jpg'), (u'tns:viewUrl', u'http://www.trafficnz.info/camera/view/120'), (u'tns:mapx', u'291'), (u'tns:mapy', u'411'), (u'tns:congestionLocation', [OrderedDict([(u'tns:name', u'Takanini - Hill Rd'), (u'tns:direction', u'Northbound'), (u'tns:congestion', u'Free Flow')]), OrderedDict([(u'tns:name', u'Hill Rd - Takanini'), (u'tns:direction', u'Southbound'), (u'tns:congestion', u'Free Flow')])])]), OrderedDict([(u'tns:id', u'121'), (u'tns:name', u'SH1 8 Takanini'), (u'tns:description', u'Takanini looking south'), (u'tns:offline', u'false'), (u'tns:underMaintenance', u'false'), (u'tns:imageUrl', u'http://www.trafficnz.info/camera/121.jpg'), (u'tns:viewUrl', u'http://www.trafficnz.info/camera/view/121'), (u'tns:mapx', u'290'), (u'tns:mapy', u'380')]), OrderedDict([(u'tns:id', u'122'), (u'tns:name', u'SH1 9 Walter Streven'), (u'tns:description', u'Walter-Strevens Drive looking south'), (u'tns:offline', u'false'), (u'tns:underMaintenance', u'false'), (u'tns:imageUrl', u'http://www.trafficnz.info/camera/122.jpg'), (u'tns:viewUrl', u'http://www.trafficnz.info/camera/view/122'), (u'tns:mapx', u'285'), (u'tns:mapy', u'400')]), OrderedDict([(u'tns:id', u'123'), (u'tns:name', u'SH1 10 Pahurehure'), (u'tns:description', u'Pahurehure looking south'), (u'tns:offline', u'false'), (u'tns:underMaintenance', u'false'), (u'tns:imageUrl', u'http://www.trafficnz.info/camera/123.jpg'), (u'tns:viewUrl', u'http://www.trafficnz.info/camera/view/123'), (u'tns:mapx', u'265'), (u'tns:mapy', u'410')]), OrderedDict([(u'tns:id', u'124'), (u'tns:name', u'SH1 11 Rushgreen Ave'), (u'tns:description', u'Rushgreen Ave looking south'), (u'tns:offline', u'false'), (u'tns:underMaintenance', u'false'), (u'tns:imageUrl', u'http://www.trafficnz.info/camera/124.jpg'), (u'tns:viewUrl', u'http://www.trafficnz.info/camera/view/124'), (u'tns:mapx', u'285'), (u'tns:mapy', u'420')]), OrderedDict([(u'tns:id', u'125'), (u'tns:name', u'SH1 12 Park Estate'), (u'tns:description', u'Park estate looking south'), (u'tns:offline', u'false'), (u'tns:underMaintenance', u'false'), (u'tns:imageUrl', u'http://www.trafficnz.info/camera/125.jpg'), (u'tns:viewUrl', u'http://www.trafficnz.info/camera/view/125'), (u'tns:mapx', u'300'), (u'tns:mapy', u'430')]), OrderedDict([(u'tns:id', u'126'), (u'tns:name', u'SH1 13 Slippery Crk'), (u'tns:description', u'Slippery Creek looking  south'), (u'tns:offline', u'false'), (u'tns:underMaintenance', u'false'), (u'tns:imageUrl', u'http://www.trafficnz.info/camera/126.jpg'), (u'tns:viewUrl', u'http://www.trafficnz.info/camera/view/126'), (u'tns:mapx', u'286'), (u'tns:mapy', u'445')]), OrderedDict([(u'tns:id', u'274'), (u'tns:name', u'SH20A Montgomerie Rd'), (u'tns:description', u'Montgomerie Rd looking east'), (u'tns:offline', u'false'), (u'tns:underMaintenance', u'false'), (u'tns:imageUrl', u'http://www.trafficnz.info/camera/274.jpg'), (u'tns:viewUrl', u'http://www.trafficnz.info/camera/view/274'), (u'tns:mapx', u'0'), (u'tns:mapy', u'0')]), OrderedDict([(u'tns:id', u'275'), (u'tns:name', u'SH20A Kirkbride Road'), (u'tns:description', u'Kirkbride Rd looking east'), (u'tns:offline', u'false'), (u'tns:underMaintenance', u'false'), (u'tns:imageUrl', u'http://www.trafficnz.info/camera/275.jpg'), (u'tns:viewUrl', u'http://www.trafficnz.info/camera/view/275'), (u'tns:mapx', u'0'), (u'tns:mapy', u'0')]), OrderedDict([(u'tns:id', u'276'), (u'tns:name', u'SH20A Bader Drive'), (u'tns:description', u'Bader Drive looking east'), (u'tns:offline', u'false'), (u'tns:underMaintenance', u'false'), (u'tns:imageUrl', u'http://www.trafficnz.info/camera/276.jpg'), (u'tns:viewUrl', u'http://www.trafficnz.info/camera/view/276'), (u'tns:mapx', u'0'), (u'tns:mapy', u'0')]), OrderedDict([(u'tns:id', u'272'), (u'tns:name', u'SH20B Prices Road'), (u'tns:description', u'Prices Rd looking east'), (u'tns:offline', u'false'), (u'tns:underMaintenance', u'false'), (u'tns:imageUrl', u'http://www.trafficnz.info/camera/272.jpg'), (u'tns:viewUrl', u'http://www.trafficnz.info/camera/view/272'), (u'tns:mapx', u'0'), (u'tns:mapy', u'0')]), OrderedDict([(u'tns:id', u'273'), (u'tns:name', u'SH20B Waokauri Creek'), (u'tns:description', u'Waokauri Creek looking west'), (u'tns:offline', u'false'), (u'tns:underMaintenance', u'false'), (u'tns:imageUrl', u'http://www.trafficnz.info/camera/273.jpg'), (u'tns:viewUrl', u'http://www.trafficnz.info/camera/view/273'), (u'tns:mapx', u'0'), (u'tns:mapy', u'0')]), OrderedDict([(u'tns:id', u'190'), (u'tns:name', u'SH20 1 Queenstown Rd'), (u'tns:description', u'Queenstown Rd looking south'), (u'tns:offline', u'false'), (u'tns:underMaintenance', u'false'), (u'tns:imageUrl', u'http://www.trafficnz.info/camera/190.jpg'), (u'tns:viewUrl', u'http://www.trafficnz.info/camera/view/190'), (u'tns:mapx', u'35'), (u'tns:mapy', u'207')]), OrderedDict([(u'tns:id', u'191'), (u'tns:name', u'SH20 2 Hillsborough'), (u'tns:description', u'Hillsborough Rd looking south'), (u'tns:offline', u'false'), (u'tns:underMaintenance', u'false'), (u'tns:imageUrl', u'http://www.trafficnz.info/camera/191.jpg'), (u'tns:viewUrl', u'http://www.trafficnz.info/camera/view/191'), (u'tns:mapx', u'35'), (u'tns:mapy', u'207')]), OrderedDict([(u'tns:id', u'192'), (u'tns:name', u'SH20 3 Melrose'), (u'tns:description', u'Melrose looking south'), (u'tns:offline', u'false'), (u'tns:underMaintenance', u'false'), (u'tns:imageUrl', u'http://www.trafficnz.info/camera/192.jpg'), (u'tns:viewUrl', u'http://www.trafficnz.info/camera/view/192'), (u'tns:mapx', u'35'), (u'tns:mapy', u'207')]), OrderedDict([(u'tns:id', u'193'), (u'tns:name', u'SH20 4 Dominion Rd'), (u'tns:description', u'Dominion Rd looking south'), (u'tns:offline', u'false'), (u'tns:underMaintenance', u'false'), (u'tns:imageUrl', u'http://www.trafficnz.info/camera/193.jpg'), (u'tns:viewUrl', u'http://www.trafficnz.info/camera/view/193'), (u'tns:mapx', u'35'), (u'tns:mapy', u'207')]), OrderedDict([(u'tns:id', u'194'), (u'tns:name', u'SH20 5 Sandringham'), (u'tns:description', u'Sandringham looking South'), (u'tns:offline', u'false'), (u'tns:underMaintenance', u'false'), (u'tns:imageUrl', u'http://www.trafficnz.info/camera/194.jpg'), (u'tns:viewUrl', u'http://www.trafficnz.info/camera/view/194'), (u'tns:mapx', u'35'), (u'tns:mapy', u'207')]), OrderedDict([(u'tns:id', u'201'), (u'tns:name', u'SH20 6 Gloucester Pk'), (u'tns:description', u'Gloucester Park looking north'), (u'tns:offline', u'false'), (u'tns:underMaintenance', u'false'), (u'tns:imageUrl', u'http://www.trafficnz.info/camera/201.jpg'), (u'tns:viewUrl', u'http://www.trafficnz.info/camera/view/201'), (u'tns:mapx', u'0'), (u'tns:mapy', u'0')]), OrderedDict([(u'tns:id', u'202'), (u'tns:name', u'SH20 7 Onehunga'), (u'tns:description', u'Onehunga wharf looking north'), (u'tns:offline', u'false'), (u'tns:underMaintenance', u'false'), (u'tns:imageUrl', u'http://www.trafficnz.info/camera/202.jpg'), (u'tns:viewUrl', u'http://www.trafficnz.info/camera/view/202'), (u'tns:mapx', u'0'), (u'tns:mapy', u'0')]), OrderedDict([(u'tns:id', u'203'), (u'tns:name', u'SH20 8 Rimu Rd'), (u'tns:description', u'Rimu Rd looking north'), (u'tns:offline', u'false'), (u'tns:underMaintenance', u'false'), (u'tns:imageUrl', u'http://www.trafficnz.info/camera/203.jpg'), (u'tns:viewUrl', u'http://www.trafficnz.info/camera/view/203'), (u'tns:mapx', u'0'), (u'tns:mapy', u'0')]), OrderedDict([(u'tns:id', u'204'), (u'tns:name', u'SH20 9 Crawford Ave'), (u'tns:description', u'Crawford Ave looking north'), (u'tns:offline', u'false'), (u'tns:underMaintenance', u'false'), (u'tns:imageUrl', u'http://www.trafficnz.info/camera/204.jpg'), (u'tns:viewUrl', u'http://www.trafficnz.info/camera/view/204'), (u'tns:mapx', u'0'), (u'tns:mapy', u'0')]), OrderedDict([(u'tns:id', u'205'), (u'tns:name', u'SH20 Coronation Rd'), (u'tns:description', u'Coronation Rd looking east'), (u'tns:offline', u'false'), (u'tns:underMaintenance', u'false'), (u'tns:imageUrl', u'http://www.trafficnz.info/camera/205.jpg'), (u'tns:viewUrl', u'http://www.trafficnz.info/camera/view/205'), (u'tns:mapx', u'0'), (u'tns:mapy', u'0')]), OrderedDict([(u'tns:id', u'206'), (u'tns:name', u'SH20 11 Puhinui Rd'), (u'tns:description', u'Puhinui road interchange looking south'), (u'tns:offline', u'false'), (u'tns:underMaintenance', u'false'), (u'tns:imageUrl', u'http://www.trafficnz.info/camera/206.jpg'), (u'tns:viewUrl', u'http://www.trafficnz.info/camera/view/206'), (u'tns:mapx', u'0'), (u'tns:mapy', u'0')]), OrderedDict([(u'tns:id', u'207'), (u'tns:name', u'SH20 12 Nesdale Road'), (u'tns:description', u'Nesdale Rd looking east'), (u'tns:offline', u'false'), (u'tns:underMaintenance', u'false'), (u'tns:imageUrl', u'http://www.trafficnz.info/camera/207.jpg'), (u'tns:viewUrl', u'http://www.trafficnz.info/camera/view/207'), (u'tns:mapx', u'0'), (u'tns:mapy', u'0')]), OrderedDict([(u'tns:id', u'208'), (u'tns:name', u'SH20 13 Plunket Ave'), (u'tns:description', u'Plunket Ave looking south'), (u'tns:offline', u'false'), (u'tns:underMaintenance', u'false'), (u'tns:imageUrl', u'http://www.trafficnz.info/camera/208.jpg'), (u'tns:viewUrl', u'http://www.trafficnz.info/camera/view/208'), (u'tns:mapx', u'0'), (u'tns:mapy', u'0')]), OrderedDict([(u'tns:id', u'209'), (u'tns:name', u'SH20 14 Lambie Drive'), (u'tns:description', u'Lambie Drive looking south'), (u'tns:offline', u'false'), (u'tns:underMaintenance', u'false'), (u'tns:imageUrl', u'http://www.trafficnz.info/camera/209.jpg'), (u'tns:viewUrl', u'http://www.trafficnz.info/camera/view/209'), (u'tns:mapx', u'0'), (u'tns:mapy', u'0')]), OrderedDict([(u'tns:id', u'210'), (u'tns:name', u'SH20 15 Barrowcliffe'), (u'tns:description', u'Barrowcliffe Place looking west'), (u'tns:offline', u'false'), (u'tns:underMaintenance', u'false'), (u'tns:imageUrl', u'http://www.trafficnz.info/camera/210.jpg'), (u'tns:viewUrl', u'http://www.trafficnz.info/camera/view/210'), (u'tns:mapx', u'0'), (u'tns:mapy', u'0')]), OrderedDict([(u'tns:id', u'211'), (u'tns:name', u'SH20 16 Great South'), (u'tns:description', u'Great South Rd Looking westbound'), (u'tns:offline', u'false'), (u'tns:underMaintenance', u'false'), (u'tns:imageUrl', u'http://www.trafficnz.info/camera/211.jpg'), (u'tns:viewUrl', u'http://www.trafficnz.info/camera/view/211'), (u'tns:mapx', u'0'), (u'tns:mapy', u'0')])])])"
       ]
      }
     ],
     "prompt_number": 59
    },
    {
     "cell_type": "code",
     "collapsed": false,
     "input": [
      "import json\n",
      "\n",
      "#write the dictionary to a file\n",
      "outfile = open(filename, 'w')\n",
      "json.dump(someDictionary, outfile)\n",
      "\n",
      "#read the data back in\n",
      "with open(filename) as infile:\n",
      "    newDictionary = json.load(infile)"
     ],
     "language": "python",
     "metadata": {},
     "outputs": []
    },
    {
     "cell_type": "code",
     "collapsed": false,
     "input": [
      "for value in datadict.itervalues():\n",
      "    print value\n",
      "    dalist.append(value)\n",
      "    "
     ],
     "language": "python",
     "metadata": {},
     "outputs": [
      {
       "output_type": "stream",
       "stream": "stdout",
       "text": [
        "OrderedDict([(u'@xmlns:rem', u'http://remote.service.callcenter.nzta.govt.nz'), (u'@xmlns:tns', u'https://infoconnect.highwayinfo.govt.nz/schemas/camera'), (u'@xmlns:xsd', u'http://www.w3.org/2001/XMLSchema'), (u'@xmlns:xsi', u'http://www.w3.org/2001/XMLSchema-instance'), (u'tns:camera', [OrderedDict([(u'tns:id', u'130'), (u'tns:name', u'SH16 1 Bond St'), (u'tns:description', u'Bond St looking east'), (u'tns:offline', u'false'), (u'tns:underMaintenance', u'false'), (u'tns:imageUrl', u'http://www.trafficnz.info/camera/130.jpg'), (u'tns:viewUrl', u'http://www.trafficnz.info/camera/view/130'), (u'tns:mapx', u'142'), (u'tns:mapy', u'229'), (u'tns:congestionLocation', [OrderedDict([(u'tns:name', u'St Lukes Rd - Newton Rd'), (u'tns:direction', u'Eastbound'), (u'tns:congestion', u'Free Flow')]), OrderedDict([(u'tns:name', u'Newton Rd - St Lukes Rd'), (u'tns:direction', u'Westbound'), (u'tns:congestion', u'Free Flow')])])]), OrderedDict([(u'tns:id', u'140'), (u'tns:name', u'SH16 2 Gt North Rd'), (u'tns:description', u'Gt North Road looking west'), (u'tns:offline', u'false'), (u'tns:underMaintenance', u'false'), (u'tns:imageUrl', u'http://www.trafficnz.info/camera/140.jpg'), (u'tns:viewUrl', u'http://www.trafficnz.info/camera/view/140'), (u'tns:mapx', u'113'), (u'tns:mapy', u'232'), (u'tns:congestionLocation', [OrderedDict([(u'tns:name', u'Rosebank Rd - Great Nth Rd Waterview'), (u'tns:direction', u'Eastbound'), (u'tns:congestion', u'Free Flow')]), OrderedDict([(u'tns:name', u'Great Nth Rd Waterview - Rosebank Rd'), (u'tns:direction', u'Westbound'), (u'tns:congestion', u'Free Flow')])])]), OrderedDict([(u'tns:id', u'150'), (u'tns:name', u'SH16 3 Te Atatu Rd'), (u'tns:description', u'Te Atatu Road looking east'), (u'tns:offline', u'false'), (u'tns:underMaintenance', u'false'), (u'tns:imageUrl', u'http://www.trafficnz.info/camera/150.jpg'), (u'tns:viewUrl', u'http://www.trafficnz.info/camera/view/150'), (u'tns:mapx', u'70'), (u'tns:mapy', u'216'), (u'tns:congestionLocation', [OrderedDict([(u'tns:name', u'Te Atatu Rd - Rosebank Rd'), (u'tns:direction', u'Eastbound'), (u'tns:congestion', u'Free Flow')]), OrderedDict([(u'tns:name', u'Rosebank Rd - Te Atatu Rd'), (u'tns:direction', u'Westbound'), (u'tns:congestion', u'Free Flow')])])]), OrderedDict([(u'tns:id', u'160'), (u'tns:name', u'SH16 4 Lincoln Rd E'), (u'tns:description', u'Lincoln Rd  looking west'), (u'tns:offline', u'false'), (u'tns:underMaintenance', u'false'), (u'tns:imageUrl', u'http://www.trafficnz.info/camera/160.jpg'), (u'tns:viewUrl', u'http://www.trafficnz.info/camera/view/160'), (u'tns:mapx', u'52'), (u'tns:mapy', u'207'), (u'tns:congestionLocation', [OrderedDict([(u'tns:name', u'Te Atatu Rd - Lincoln Rd'), (u'tns:direction', u'Westbound'), (u'tns:congestion', u'Free Flow')]), OrderedDict([(u'tns:name', u'Lincoln Rd - Te Atatu Rd'), (u'tns:direction', u'Eastbound'), (u'tns:congestion', u'Free Flow')])])]), OrderedDict([(u'tns:id', u'170'), (u'tns:name', u'SH16 5 Lincoln Rd W'), (u'tns:description', u'Lincoln Rd looking east'), (u'tns:offline', u'false'), (u'tns:underMaintenance', u'false'), (u'tns:imageUrl', u'http://www.trafficnz.info/camera/170.jpg'), (u'tns:viewUrl', u'http://www.trafficnz.info/camera/view/170'), (u'tns:mapx', u'35'), (u'tns:mapy', u'207'), (u'tns:congestionLocation', [OrderedDict([(u'tns:name', u'Lincoln Rd - Royal Rd'), (u'tns:direction', u'Westbound'), (u'tns:congestion', u'Free Flow')]), OrderedDict([(u'tns:name', u'Royal Rd - Lincoln Rd'), (u'tns:direction', u'Eastbound'), (u'tns:congestion', u'Free Flow')])])]), OrderedDict([(u'tns:id', u'270'), (u'tns:name', u'SH16 6 Hobsonville W'), (u'tns:description', u'Hobsonville looking West towards Kumeu'), (u'tns:offline', u'false'), (u'tns:underMaintenance', u'false'), (u'tns:imageUrl', u'http://www.trafficnz.info/camera/270.jpg'), (u'tns:viewUrl', u'http://www.trafficnz.info/camera/view/270'), (u'tns:mapx', u'0'), (u'tns:mapy', u'0')]), OrderedDict([(u'tns:id', u'271'), (u'tns:name', u'SH16 7 Hobsonville E'), (u'tns:description', u'Hobsonville Road looking East'), (u'tns:offline', u'false'), (u'tns:underMaintenance', u'false'), (u'tns:imageUrl', u'http://www.trafficnz.info/camera/271.jpg'), (u'tns:viewUrl', u'http://www.trafficnz.info/camera/view/271'), (u'tns:mapx', u'0'), (u'tns:mapy', u'0')]), OrderedDict([(u'tns:id', u'221'), (u'tns:name', u'SH18 Trig Rd'), (u'tns:description', u'Trig Rd looking west'), (u'tns:offline', u'false'), (u'tns:underMaintenance', u'false'), (u'tns:imageUrl', u'http://www.trafficnz.info/camera/221.jpg'), (u'tns:viewUrl', u'http://www.trafficnz.info/camera/view/221'), (u'tns:mapx', u'0'), (u'tns:mapy', u'0')]), OrderedDict([(u'tns:id', u'222'), (u'tns:name', u'SH18 Waiahora Creek'), (u'tns:description', u'Upper harbour motorway looking west'), (u'tns:offline', u'false'), (u'tns:underMaintenance', u'false'), (u'tns:imageUrl', u'http://www.trafficnz.info/camera/222.jpg'), (u'tns:viewUrl', u'http://www.trafficnz.info/camera/view/222'), (u'tns:mapx', u'0'), (u'tns:mapy', u'0')]), OrderedDict([(u'tns:id', u'223'), (u'tns:name', u'SH18 Brigham Creek'), (u'tns:description', u'Upper harbour motorway looking East'), (u'tns:offline', u'false'), (u'tns:underMaintenance', u'false'), (u'tns:imageUrl', u'http://www.trafficnz.info/camera/223.jpg'), (u'tns:viewUrl', u'http://www.trafficnz.info/camera/view/223'), (u'tns:mapx', u'0'), (u'tns:mapy', u'0')]), OrderedDict([(u'tns:id', u'224'), (u'tns:name', u'SH18 Sinton Rd'), (u'tns:description', u'Upper harbour motorway looking west'), (u'tns:offline', u'false'), (u'tns:underMaintenance', u'false'), (u'tns:imageUrl', u'http://www.trafficnz.info/camera/224.jpg'), (u'tns:viewUrl', u'http://www.trafficnz.info/camera/view/224'), (u'tns:mapx', u'0'), (u'tns:mapy', u'0')]), OrderedDict([(u'tns:id', u'225'), (u'tns:name', u'SH18 Squadron Dr'), (u'tns:description', u'Upper harbour motorway looking east'), (u'tns:offline', u'false'), (u'tns:underMaintenance', u'false'), (u'tns:imageUrl', u'http://www.trafficnz.info/camera/225.jpg'), (u'tns:viewUrl', u'http://www.trafficnz.info/camera/view/225'), (u'tns:mapx', u'0'), (u'tns:mapy', u'0')]), OrderedDict([(u'tns:id', u'171'), (u'tns:name', u'SH18 6 Tauhinu BRG'), (u'tns:description', u'Tauhinu bridge looking east'), (u'tns:offline', u'false'), (u'tns:underMaintenance', u'false'), (u'tns:imageUrl', u'http://www.trafficnz.info/camera/171.jpg'), (u'tns:viewUrl', u'http://www.trafficnz.info/camera/view/171'), (u'tns:mapx', u'60'), (u'tns:mapy', u'207')]), OrderedDict([(u'tns:id', u'172'), (u'tns:name', u'SH18 7 Albany HWY'), (u'tns:description', u'Albany Highway Looking East'), (u'tns:offline', u'false'), (u'tns:underMaintenance', u'false'), (u'tns:imageUrl', u'http://www.trafficnz.info/camera/172.jpg'), (u'tns:viewUrl', u'http://www.trafficnz.info/camera/view/172'), (u'tns:mapx', u'35'), (u'tns:mapy', u'207')]), OrderedDict([(u'tns:id', u'173'), (u'tns:name', u'SH18 8 Tauhinu East'), (u'tns:description', u'Tauhinu East Looking East'), (u'tns:offline', u'false'), (u'tns:underMaintenance', u'false'), (u'tns:imageUrl', u'http://www.trafficnz.info/camera/173.jpg'), (u'tns:viewUrl', u'http://www.trafficnz.info/camera/view/173'), (u'tns:mapx', u'35'), (u'tns:mapy', u'207')]), OrderedDict([(u'tns:id', u'174'), (u'tns:name', u'SH18 9 Paul Matthews'), (u'tns:description', u'Paul matthews looking east'), (u'tns:offline', u'false'), (u'tns:underMaintenance', u'false'), (u'tns:imageUrl', u'http://www.trafficnz.info/camera/174.jpg'), (u'tns:viewUrl', u'http://www.trafficnz.info/camera/view/174'), (u'tns:mapx', u'35'), (u'tns:mapy', u'207')]), OrderedDict([(u'tns:id', u'175'), (u'tns:name', u'SH18 10 Greenhithe'), (u'tns:description', u'Greenhithe Rd looking east'), (u'tns:offline', u'false'), (u'tns:underMaintenance', u'false'), (u'tns:imageUrl', u'http://www.trafficnz.info/camera/175.jpg'), (u'tns:viewUrl', u'http://www.trafficnz.info/camera/view/175'), (u'tns:mapx', u'35'), (u'tns:mapy', u'207')]), OrderedDict([(u'tns:id', u'176'), (u'tns:name', u'SH18 11 George Deane'), (u'tns:description', u'George deane looking east'), (u'tns:offline', u'false'), (u'tns:underMaintenance', u'false'), (u'tns:imageUrl', u'http://www.trafficnz.info/camera/176.jpg'), (u'tns:viewUrl', u'http://www.trafficnz.info/camera/view/176'), (u'tns:mapx', u'35'), (u'tns:mapy', u'207')]), OrderedDict([(u'tns:id', u'177'), (u'tns:name', u'SH18 12 Upper Hbr CW'), (u'tns:description', u'Upper harbour looking east'), (u'tns:offline', u'false'), (u'tns:underMaintenance', u'false'), (u'tns:imageUrl', u'http://www.trafficnz.info/camera/177.jpg'), (u'tns:viewUrl', u'http://www.trafficnz.info/camera/view/177'), (u'tns:mapx', u'35'), (u'tns:mapy', u'207')]), OrderedDict([(u'tns:id', u'178'), (u'tns:name', u'SH18 13 Wicklam Lane'), (u'tns:description', u'Wicklam Lane looking west'), (u'tns:offline', u'false'), (u'tns:underMaintenance', u'false'), (u'tns:imageUrl', u'http://www.trafficnz.info/camera/178.jpg'), (u'tns:viewUrl', u'http://www.trafficnz.info/camera/view/178'), (u'tns:mapx', u'35'), (u'tns:mapy', u'207')]), OrderedDict([(u'tns:id', u'10'), (u'tns:name', u'SH1 1 Greville Rd'), (u'tns:description', u'Greville road looking south'), (u'tns:offline', u'false'), (u'tns:underMaintenance', u'false'), (u'tns:imageUrl', u'http://www.trafficnz.info/camera/10.jpg'), (u'tns:viewUrl', u'http://www.trafficnz.info/camera/view/10'), (u'tns:mapx', u'125'), (u'tns:mapy', u'71'), (u'tns:congestionLocation', [OrderedDict([(u'tns:name', u'Upper Harb Hwy - Oteha Valley Rd'), (u'tns:direction', u'Northbound'), (u'tns:congestion', u'Free Flow')]), OrderedDict([(u'tns:name', u'Oteha Valley Rd - Upper Harb Hwy'), (u'tns:direction', u'Southbound'), (u'tns:congestion', u'Free Flow')])])]), OrderedDict([(u'tns:id', u'20'), (u'tns:name', u'SH1 2 Tristram Ave'), (u'tns:description', u'Tristram Avenue looking south'), (u'tns:offline', u'false'), (u'tns:underMaintenance', u'false'), (u'tns:imageUrl', u'http://www.trafficnz.info/camera/20.jpg'), (u'tns:viewUrl', u'http://www.trafficnz.info/camera/view/20'), (u'tns:mapx', u'148'), (u'tns:mapy', u'118'), (u'tns:congestionLocation', [OrderedDict([(u'tns:name', u'Tristram Ave - Esmonde Rd'), (u'tns:direction', u'Southbound'), (u'tns:congestion', u'Free Flow')]), OrderedDict([(u'tns:name', u'Esmonde Rd - Tristram Ave'), (u'tns:direction', u'Northbound'), (u'tns:congestion', u'Free Flow')])])]), OrderedDict([(u'tns:id', u'30'), (u'tns:name', u'SH1 3 Northcote Rd'), (u'tns:description', u'Northcote Rd looking north'), (u'tns:offline', u'false'), (u'tns:underMaintenance', u'false'), (u'tns:imageUrl', u'http://www.trafficnz.info/camera/30.jpg'), (u'tns:viewUrl', u'http://www.trafficnz.info/camera/view/30'), (u'tns:mapx', u'156'), (u'tns:mapy', u'141'), (u'tns:congestionLocation', [OrderedDict([(u'tns:name', u'Tristram Ave - Esmonde Rd'), (u'tns:direction', u'Southbound'), (u'tns:congestion', u'Free Flow')]), OrderedDict([(u'tns:name', u'Esmonde Rd - Tristram Ave'), (u'tns:direction', u'Northbound'), (u'tns:congestion', u'Free Flow')])])]), OrderedDict([(u'tns:id', u'40'), (u'tns:name', u'SH1 4 Esmonde Rd'), (u'tns:description', u'Esmonde Rd looking south'), (u'tns:offline', u'false'), (u'tns:underMaintenance', u'false'), (u'tns:imageUrl', u'http://www.trafficnz.info/camera/40.jpg'), (u'tns:viewUrl', u'http://www.trafficnz.info/camera/view/40'), (u'tns:mapx', u'178'), (u'tns:mapy', u'146'), (u'tns:congestionLocation', [OrderedDict([(u'tns:name', u'Esmonde Rd - Onewa'), (u'tns:direction', u'Southbound'), (u'tns:congestion', u'Free Flow')]), OrderedDict([(u'tns:name', u'Stafford Rd - Esmonde Rd'), (u'tns:direction', u'Northbound'), (u'tns:congestion', u'Free Flow')])])]), OrderedDict([(u'tns:id', u'50'), (u'tns:name', u'SH1 5 Onewa Rd'), (u'tns:description', u'Onewa Rd looking south'), (u'tns:offline', u'false'), (u'tns:underMaintenance', u'false'), (u'tns:imageUrl', u'http://www.trafficnz.info/camera/50.jpg'), (u'tns:viewUrl', u'http://www.trafficnz.info/camera/view/50'), (u'tns:mapx', u'157'), (u'tns:mapy', u'162'), (u'tns:congestionLocation', [OrderedDict([(u'tns:name', u'Harbour Bridge'), (u'tns:direction', u'Southbound'), (u'tns:congestion', u'Free Flow')]), OrderedDict([(u'tns:name', u'Stafford Rd - Esmonde Rd'), (u'tns:direction', u'Northbound'), (u'tns:congestion', u'Free Flow')])])]), OrderedDict([(u'tns:id', u'215'), (u'tns:name', u'SH1 Alpurt Web cam'), (u'tns:description', u'Johnstone hill tunnels looking south'), (u'tns:offline', u'false'), (u'tns:underMaintenance', u'false'), (u'tns:imageUrl', u'http://www.trafficnz.info/camera/215.jpg'), (u'tns:viewUrl', u'http://www.trafficnz.info/camera/view/215'), (u'tns:mapx', u'0'), (u'tns:mapy', u'0')]), OrderedDict([(u'tns:id', u'212'), (u'tns:name', u'SH1 17 Goodwood'), (u'tns:description', u'Goodwood heights looking south'), (u'tns:offline', u'false'), (u'tns:underMaintenance', u'false'), (u'tns:imageUrl', u'http://www.trafficnz.info/camera/212.jpg'), (u'tns:viewUrl', u'http://www.trafficnz.info/camera/view/212'), (u'tns:mapx', u'0'), (u'tns:mapy', u'0')]), OrderedDict([(u'tns:id', u'214'), (u'tns:name', u'SH1 18 Rainbows End'), (u'tns:description', u'Rainbows End looking north at SH1 and SH20 link'), (u'tns:offline', u'false'), (u'tns:underMaintenance', u'false'), (u'tns:imageUrl', u'http://www.trafficnz.info/camera/214.jpg'), (u'tns:viewUrl', u'http://www.trafficnz.info/camera/view/214'), (u'tns:mapx', u'0'), (u'tns:mapy', u'0')]), OrderedDict([(u'tns:id', u'60'), (u'tns:name', u'SH1 1 CMJ'), (u'tns:description', u'Central motorway junction looking south at the link between state highways 1 and 16'), (u'tns:offline', u'false'), (u'tns:underMaintenance', u'false'), (u'tns:imageUrl', u'http://www.trafficnz.info/camera/60.jpg'), (u'tns:viewUrl', u'http://www.trafficnz.info/camera/view/60'), (u'tns:mapx', u'162'), (u'tns:mapy', u'217'), (u'tns:congestionLocation', OrderedDict([(u'tns:name', u'Nelson St - Gillies Ave'), (u'tns:direction', u'Southbound'), (u'tns:congestion', u'Free Flow')]))]), OrderedDict([(u'tns:id', u'70'), (u'tns:name', u'SH1 2 Market Rd'), (u'tns:description', u'Southern motorway at newmarket looking south towards the Market  Rd overbridge'), (u'tns:offline', u'false'), (u'tns:underMaintenance', u'false'), (u'tns:imageUrl', u'http://www.trafficnz.info/camera/70.jpg'), (u'tns:viewUrl', u'http://www.trafficnz.info/camera/view/70'), (u'tns:mapx', u'183'), (u'tns:mapy', u'241'), (u'tns:congestionLocation', [OrderedDict([(u'tns:name', u'Gillies Ave - Greenlane'), (u'tns:direction', u'Southbound'), (u'tns:congestion', u'Free Flow')]), OrderedDict([(u'tns:name', u'Greenlane - Gillies Ave'), (u'tns:direction', u'Northbound'), (u'tns:congestion', u'Free Flow')])])]), OrderedDict([(u'tns:id', u'80'), (u'tns:name', u'SH1 3 Greenlane Rd'), (u'tns:description', u'Greenlane Rd looking north'), (u'tns:offline', u'false'), (u'tns:underMaintenance', u'false'), (u'tns:imageUrl', u'http://www.trafficnz.info/camera/80.jpg'), (u'tns:viewUrl', u'http://www.trafficnz.info/camera/view/80'), (u'tns:mapx', u'198'), (u'tns:mapy', u'262'), (u'tns:congestionLocation', [OrderedDict([(u'tns:name', u'Gillies Ave - Greenlane'), (u'tns:direction', u'Southbound'), (u'tns:congestion', u'Free Flow')]), OrderedDict([(u'tns:name', u'Greenlane - Gillies Ave'), (u'tns:direction', u'Northbound'), (u'tns:congestion', u'Free Flow')])])]), OrderedDict([(u'tns:id', u'90'), (u'tns:name', u'SH1 4 SE Highway'), (u'tns:description', u'South eastern highway looking south'), (u'tns:offline', u'false'), (u'tns:underMaintenance', u'false'), (u'tns:imageUrl', u'http://www.trafficnz.info/camera/90.jpg'), (u'tns:viewUrl', u'http://www.trafficnz.info/camera/view/90'), (u'tns:mapx', u'219'), (u'tns:mapy', u'278'), (u'tns:congestionLocation', [OrderedDict([(u'tns:name', u'Mt Wellington Hway - SE Highway'), (u'tns:direction', u'Northbound'), (u'tns:congestion', u'Free Flow')]), OrderedDict([(u'tns:name', u'SE Highway - Mt Wellington Hway'), (u'tns:direction', u'Southbound'), (u'tns:congestion', u'Moderate')])])]), OrderedDict([(u'tns:id', u'100'), (u'tns:name', u'SH1 5 Redoubt Rd'), (u'tns:description', u'Redoubt Rd looking north'), (u'tns:offline', u'false'), (u'tns:underMaintenance', u'false'), (u'tns:imageUrl', u'http://www.trafficnz.info/camera/100.jpg'), (u'tns:viewUrl', u'http://www.trafficnz.info/camera/view/100'), (u'tns:mapx', u'254'), (u'tns:mapy', u'341'), (u'tns:congestionLocation', [OrderedDict([(u'tns:name', u'Redoubt Rd - Hill Rd'), (u'tns:direction', u'Southbound'), (u'tns:congestion', u'Free Flow')]), OrderedDict([(u'tns:name', u'Hill Rd - Redoubt Rd'), (u'tns:direction', u'Northbound'), (u'tns:congestion', u'Free Flow')])])]), OrderedDict([(u'tns:id', u'110'), (u'tns:name', u'SH1 6 Bairds Rd'), (u'tns:description', u'Bairds Rd looking north'), (u'tns:offline', u'false'), (u'tns:underMaintenance', u'false'), (u'tns:imageUrl', u'http://www.trafficnz.info/camera/110.jpg'), (u'tns:viewUrl', u'http://www.trafficnz.info/camera/view/110'), (u'tns:mapx', u'275'), (u'tns:mapy', u'383'), (u'tns:congestionLocation', [OrderedDict([(u'tns:name', u'East Tamaki Rd - Princes St'), (u'tns:direction', u'Northbound'), (u'tns:congestion', u'Free Flow')]), OrderedDict([(u'tns:name', u'Princes St - East Tamaki Rd'), (u'tns:direction', u'Southbound'), (u'tns:congestion', u'Free Flow')])])]), OrderedDict([(u'tns:id', u'120'), (u'tns:name', u'SH1 7 Alfriston Rd'), (u'tns:description', u'Alfriston Rd looking north'), (u'tns:offline', u'false'), (u'tns:underMaintenance', u'false'), (u'tns:imageUrl', u'http://www.trafficnz.info/camera/120.jpg'), (u'tns:viewUrl', u'http://www.trafficnz.info/camera/view/120'), (u'tns:mapx', u'291'), (u'tns:mapy', u'411'), (u'tns:congestionLocation', [OrderedDict([(u'tns:name', u'Takanini - Hill Rd'), (u'tns:direction', u'Northbound'), (u'tns:congestion', u'Free Flow')]), OrderedDict([(u'tns:name', u'Hill Rd - Takanini'), (u'tns:direction', u'Southbound'), (u'tns:congestion', u'Free Flow')])])]), OrderedDict([(u'tns:id', u'121'), (u'tns:name', u'SH1 8 Takanini'), (u'tns:description', u'Takanini looking south'), (u'tns:offline', u'false'), (u'tns:underMaintenance', u'false'), (u'tns:imageUrl', u'http://www.trafficnz.info/camera/121.jpg'), (u'tns:viewUrl', u'http://www.trafficnz.info/camera/view/121'), (u'tns:mapx', u'290'), (u'tns:mapy', u'380')]), OrderedDict([(u'tns:id', u'122'), (u'tns:name', u'SH1 9 Walter Streven'), (u'tns:description', u'Walter-Strevens Drive looking south'), (u'tns:offline', u'false'), (u'tns:underMaintenance', u'false'), (u'tns:imageUrl', u'http://www.trafficnz.info/camera/122.jpg'), (u'tns:viewUrl', u'http://www.trafficnz.info/camera/view/122'), (u'tns:mapx', u'285'), (u'tns:mapy', u'400')]), OrderedDict([(u'tns:id', u'123'), (u'tns:name', u'SH1 10 Pahurehure'), (u'tns:description', u'Pahurehure looking south'), (u'tns:offline', u'false'), (u'tns:underMaintenance', u'false'), (u'tns:imageUrl', u'http://www.trafficnz.info/camera/123.jpg'), (u'tns:viewUrl', u'http://www.trafficnz.info/camera/view/123'), (u'tns:mapx', u'265'), (u'tns:mapy', u'410')]), OrderedDict([(u'tns:id', u'124'), (u'tns:name', u'SH1 11 Rushgreen Ave'), (u'tns:description', u'Rushgreen Ave looking south'), (u'tns:offline', u'false'), (u'tns:underMaintenance', u'false'), (u'tns:imageUrl', u'http://www.trafficnz.info/camera/124.jpg'), (u'tns:viewUrl', u'http://www.trafficnz.info/camera/view/124'), (u'tns:mapx', u'285'), (u'tns:mapy', u'420')]), OrderedDict([(u'tns:id', u'125'), (u'tns:name', u'SH1 12 Park Estate'), (u'tns:description', u'Park estate looking south'), (u'tns:offline', u'false'), (u'tns:underMaintenance', u'false'), (u'tns:imageUrl', u'http://www.trafficnz.info/camera/125.jpg'), (u'tns:viewUrl', u'http://www.trafficnz.info/camera/view/125'), (u'tns:mapx', u'300'), (u'tns:mapy', u'430')]), OrderedDict([(u'tns:id', u'126'), (u'tns:name', u'SH1 13 Slippery Crk'), (u'tns:description', u'Slippery Creek looking  south'), (u'tns:offline', u'false'), (u'tns:underMaintenance', u'false'), (u'tns:imageUrl', u'http://www.trafficnz.info/camera/126.jpg'), (u'tns:viewUrl', u'http://www.trafficnz.info/camera/view/126'), (u'tns:mapx', u'286'), (u'tns:mapy', u'445')]), OrderedDict([(u'tns:id', u'274'), (u'tns:name', u'SH20A Montgomerie Rd'), (u'tns:description', u'Montgomerie Rd looking east'), (u'tns:offline', u'false'), (u'tns:underMaintenance', u'false'), (u'tns:imageUrl', u'http://www.trafficnz.info/camera/274.jpg'), (u'tns:viewUrl', u'http://www.trafficnz.info/camera/view/274'), (u'tns:mapx', u'0'), (u'tns:mapy', u'0')]), OrderedDict([(u'tns:id', u'275'), (u'tns:name', u'SH20A Kirkbride Road'), (u'tns:description', u'Kirkbride Rd looking east'), (u'tns:offline', u'false'), (u'tns:underMaintenance', u'false'), (u'tns:imageUrl', u'http://www.trafficnz.info/camera/275.jpg'), (u'tns:viewUrl', u'http://www.trafficnz.info/camera/view/275'), (u'tns:mapx', u'0'), (u'tns:mapy', u'0')]), OrderedDict([(u'tns:id', u'276'), (u'tns:name', u'SH20A Bader Drive'), (u'tns:description', u'Bader Drive looking east'), (u'tns:offline', u'false'), (u'tns:underMaintenance', u'false'), (u'tns:imageUrl', u'http://www.trafficnz.info/camera/276.jpg'), (u'tns:viewUrl', u'http://www.trafficnz.info/camera/view/276'), (u'tns:mapx', u'0'), (u'tns:mapy', u'0')]), OrderedDict([(u'tns:id', u'272'), (u'tns:name', u'SH20B Prices Road'), (u'tns:description', u'Prices Rd looking east'), (u'tns:offline', u'false'), (u'tns:underMaintenance', u'false'), (u'tns:imageUrl', u'http://www.trafficnz.info/camera/272.jpg'), (u'tns:viewUrl', u'http://www.trafficnz.info/camera/view/272'), (u'tns:mapx', u'0'), (u'tns:mapy', u'0')]), OrderedDict([(u'tns:id', u'273'), (u'tns:name', u'SH20B Waokauri Creek'), (u'tns:description', u'Waokauri Creek looking west'), (u'tns:offline', u'false'), (u'tns:underMaintenance', u'false'), (u'tns:imageUrl', u'http://www.trafficnz.info/camera/273.jpg'), (u'tns:viewUrl', u'http://www.trafficnz.info/camera/view/273'), (u'tns:mapx', u'0'), (u'tns:mapy', u'0')]), OrderedDict([(u'tns:id', u'190'), (u'tns:name', u'SH20 1 Queenstown Rd'), (u'tns:description', u'Queenstown Rd looking south'), (u'tns:offline', u'false'), (u'tns:underMaintenance', u'false'), (u'tns:imageUrl', u'http://www.trafficnz.info/camera/190.jpg'), (u'tns:viewUrl', u'http://www.trafficnz.info/camera/view/190'), (u'tns:mapx', u'35'), (u'tns:mapy', u'207')]), OrderedDict([(u'tns:id', u'191'), (u'tns:name', u'SH20 2 Hillsborough'), (u'tns:description', u'Hillsborough Rd looking south'), (u'tns:offline', u'false'), (u'tns:underMaintenance', u'false'), (u'tns:imageUrl', u'http://www.trafficnz.info/camera/191.jpg'), (u'tns:viewUrl', u'http://www.trafficnz.info/camera/view/191'), (u'tns:mapx', u'35'), (u'tns:mapy', u'207')]), OrderedDict([(u'tns:id', u'192'), (u'tns:name', u'SH20 3 Melrose'), (u'tns:description', u'Melrose looking south'), (u'tns:offline', u'false'), (u'tns:underMaintenance', u'false'), (u'tns:imageUrl', u'http://www.trafficnz.info/camera/192.jpg'), (u'tns:viewUrl', u'http://www.trafficnz.info/camera/view/192'), (u'tns:mapx', u'35'), (u'tns:mapy', u'207')]), OrderedDict([(u'tns:id', u'193'), (u'tns:name', u'SH20 4 Dominion Rd'), (u'tns:description', u'Dominion Rd looking south'), (u'tns:offline', u'false'), (u'tns:underMaintenance', u'false'), (u'tns:imageUrl', u'http://www.trafficnz.info/camera/193.jpg'), (u'tns:viewUrl', u'http://www.trafficnz.info/camera/view/193'), (u'tns:mapx', u'35'), (u'tns:mapy', u'207')]), OrderedDict([(u'tns:id', u'194'), (u'tns:name', u'SH20 5 Sandringham'), (u'tns:description', u'Sandringham looking South'), (u'tns:offline', u'false'), (u'tns:underMaintenance', u'false'), (u'tns:imageUrl', u'http://www.trafficnz.info/camera/194.jpg'), (u'tns:viewUrl', u'http://www.trafficnz.info/camera/view/194'), (u'tns:mapx', u'35'), (u'tns:mapy', u'207')]), OrderedDict([(u'tns:id', u'201'), (u'tns:name', u'SH20 6 Gloucester Pk'), (u'tns:description', u'Gloucester Park looking north'), (u'tns:offline', u'false'), (u'tns:underMaintenance', u'false'), (u'tns:imageUrl', u'http://www.trafficnz.info/camera/201.jpg'), (u'tns:viewUrl', u'http://www.trafficnz.info/camera/view/201'), (u'tns:mapx', u'0'), (u'tns:mapy', u'0')]), OrderedDict([(u'tns:id', u'202'), (u'tns:name', u'SH20 7 Onehunga'), (u'tns:description', u'Onehunga wharf looking north'), (u'tns:offline', u'false'), (u'tns:underMaintenance', u'false'), (u'tns:imageUrl', u'http://www.trafficnz.info/camera/202.jpg'), (u'tns:viewUrl', u'http://www.trafficnz.info/camera/view/202'), (u'tns:mapx', u'0'), (u'tns:mapy', u'0')]), OrderedDict([(u'tns:id', u'203'), (u'tns:name', u'SH20 8 Rimu Rd'), (u'tns:description', u'Rimu Rd looking north'), (u'tns:offline', u'false'), (u'tns:underMaintenance', u'false'), (u'tns:imageUrl', u'http://www.trafficnz.info/camera/203.jpg'), (u'tns:viewUrl', u'http://www.trafficnz.info/camera/view/203'), (u'tns:mapx', u'0'), (u'tns:mapy', u'0')]), OrderedDict([(u'tns:id', u'204'), (u'tns:name', u'SH20 9 Crawford Ave'), (u'tns:description', u'Crawford Ave looking north'), (u'tns:offline', u'false'), (u'tns:underMaintenance', u'false'), (u'tns:imageUrl', u'http://www.trafficnz.info/camera/204.jpg'), (u'tns:viewUrl', u'http://www.trafficnz.info/camera/view/204'), (u'tns:mapx', u'0'), (u'tns:mapy', u'0')]), OrderedDict([(u'tns:id', u'205'), (u'tns:name', u'SH20 Coronation Rd'), (u'tns:description', u'Coronation Rd looking east'), (u'tns:offline', u'false'), (u'tns:underMaintenance', u'false'), (u'tns:imageUrl', u'http://www.trafficnz.info/camera/205.jpg'), (u'tns:viewUrl', u'http://www.trafficnz.info/camera/view/205'), (u'tns:mapx', u'0'), (u'tns:mapy', u'0')]), OrderedDict([(u'tns:id', u'206'), (u'tns:name', u'SH20 11 Puhinui Rd'), (u'tns:description', u'Puhinui road interchange looking south'), (u'tns:offline', u'false'), (u'tns:underMaintenance', u'false'), (u'tns:imageUrl', u'http://www.trafficnz.info/camera/206.jpg'), (u'tns:viewUrl', u'http://www.trafficnz.info/camera/view/206'), (u'tns:mapx', u'0'), (u'tns:mapy', u'0')]), OrderedDict([(u'tns:id', u'207'), (u'tns:name', u'SH20 12 Nesdale Road'), (u'tns:description', u'Nesdale Rd looking east'), (u'tns:offline', u'false'), (u'tns:underMaintenance', u'false'), (u'tns:imageUrl', u'http://www.trafficnz.info/camera/207.jpg'), (u'tns:viewUrl', u'http://www.trafficnz.info/camera/view/207'), (u'tns:mapx', u'0'), (u'tns:mapy', u'0')]), OrderedDict([(u'tns:id', u'208'), (u'tns:name', u'SH20 13 Plunket Ave'), (u'tns:description', u'Plunket Ave looking south'), (u'tns:offline', u'false'), (u'tns:underMaintenance', u'false'), (u'tns:imageUrl', u'http://www.trafficnz.info/camera/208.jpg'), (u'tns:viewUrl', u'http://www.trafficnz.info/camera/view/208'), (u'tns:mapx', u'0'), (u'tns:mapy', u'0')]), OrderedDict([(u'tns:id', u'209'), (u'tns:name', u'SH20 14 Lambie Drive'), (u'tns:description', u'Lambie Drive looking south'), (u'tns:offline', u'false'), (u'tns:underMaintenance', u'false'), (u'tns:imageUrl', u'http://www.trafficnz.info/camera/209.jpg'), (u'tns:viewUrl', u'http://www.trafficnz.info/camera/view/209'), (u'tns:mapx', u'0'), (u'tns:mapy', u'0')]), OrderedDict([(u'tns:id', u'210'), (u'tns:name', u'SH20 15 Barrowcliffe'), (u'tns:description', u'Barrowcliffe Place looking west'), (u'tns:offline', u'false'), (u'tns:underMaintenance', u'false'), (u'tns:imageUrl', u'http://www.trafficnz.info/camera/210.jpg'), (u'tns:viewUrl', u'http://www.trafficnz.info/camera/view/210'), (u'tns:mapx', u'0'), (u'tns:mapy', u'0')]), OrderedDict([(u'tns:id', u'211'), (u'tns:name', u'SH20 16 Great South'), (u'tns:description', u'Great South Rd Looking westbound'), (u'tns:offline', u'false'), (u'tns:underMaintenance', u'false'), (u'tns:imageUrl', u'http://www.trafficnz.info/camera/211.jpg'), (u'tns:viewUrl', u'http://www.trafficnz.info/camera/view/211'), (u'tns:mapx', u'0'), (u'tns:mapy', u'0')])])])\n"
       ]
      }
     ],
     "prompt_number": 57
    },
    {
     "cell_type": "code",
     "collapsed": false,
     "input": [
      "dakey.im_self"
     ],
     "language": "python",
     "metadata": {},
     "outputs": [
      {
       "output_type": "pyout",
       "prompt_number": 49,
       "text": [
        "OrderedDict([(u'tns:getCamerasResponse', OrderedDict([(u'@xmlns:rem', u'http://remote.service.callcenter.nzta.govt.nz'), (u'@xmlns:tns', u'https://infoconnect.highwayinfo.govt.nz/schemas/camera'), (u'@xmlns:xsd', u'http://www.w3.org/2001/XMLSchema'), (u'@xmlns:xsi', u'http://www.w3.org/2001/XMLSchema-instance'), (u'tns:camera', [OrderedDict([(u'tns:id', u'130'), (u'tns:name', u'SH16 1 Bond St'), (u'tns:description', u'Bond St looking east'), (u'tns:offline', u'false'), (u'tns:underMaintenance', u'false'), (u'tns:imageUrl', u'http://www.trafficnz.info/camera/130.jpg'), (u'tns:viewUrl', u'http://www.trafficnz.info/camera/view/130'), (u'tns:mapx', u'142'), (u'tns:mapy', u'229'), (u'tns:congestionLocation', [OrderedDict([(u'tns:name', u'St Lukes Rd - Newton Rd'), (u'tns:direction', u'Eastbound'), (u'tns:congestion', u'Free Flow')]), OrderedDict([(u'tns:name', u'Newton Rd - St Lukes Rd'), (u'tns:direction', u'Westbound'), (u'tns:congestion', u'Free Flow')])])]), OrderedDict([(u'tns:id', u'140'), (u'tns:name', u'SH16 2 Gt North Rd'), (u'tns:description', u'Gt North Road looking west'), (u'tns:offline', u'false'), (u'tns:underMaintenance', u'false'), (u'tns:imageUrl', u'http://www.trafficnz.info/camera/140.jpg'), (u'tns:viewUrl', u'http://www.trafficnz.info/camera/view/140'), (u'tns:mapx', u'113'), (u'tns:mapy', u'232'), (u'tns:congestionLocation', [OrderedDict([(u'tns:name', u'Rosebank Rd - Great Nth Rd Waterview'), (u'tns:direction', u'Eastbound'), (u'tns:congestion', u'Free Flow')]), OrderedDict([(u'tns:name', u'Great Nth Rd Waterview - Rosebank Rd'), (u'tns:direction', u'Westbound'), (u'tns:congestion', u'Free Flow')])])]), OrderedDict([(u'tns:id', u'150'), (u'tns:name', u'SH16 3 Te Atatu Rd'), (u'tns:description', u'Te Atatu Road looking east'), (u'tns:offline', u'false'), (u'tns:underMaintenance', u'false'), (u'tns:imageUrl', u'http://www.trafficnz.info/camera/150.jpg'), (u'tns:viewUrl', u'http://www.trafficnz.info/camera/view/150'), (u'tns:mapx', u'70'), (u'tns:mapy', u'216'), (u'tns:congestionLocation', [OrderedDict([(u'tns:name', u'Te Atatu Rd - Rosebank Rd'), (u'tns:direction', u'Eastbound'), (u'tns:congestion', u'Free Flow')]), OrderedDict([(u'tns:name', u'Rosebank Rd - Te Atatu Rd'), (u'tns:direction', u'Westbound'), (u'tns:congestion', u'Free Flow')])])]), OrderedDict([(u'tns:id', u'160'), (u'tns:name', u'SH16 4 Lincoln Rd E'), (u'tns:description', u'Lincoln Rd  looking west'), (u'tns:offline', u'false'), (u'tns:underMaintenance', u'false'), (u'tns:imageUrl', u'http://www.trafficnz.info/camera/160.jpg'), (u'tns:viewUrl', u'http://www.trafficnz.info/camera/view/160'), (u'tns:mapx', u'52'), (u'tns:mapy', u'207'), (u'tns:congestionLocation', [OrderedDict([(u'tns:name', u'Te Atatu Rd - Lincoln Rd'), (u'tns:direction', u'Westbound'), (u'tns:congestion', u'Free Flow')]), OrderedDict([(u'tns:name', u'Lincoln Rd - Te Atatu Rd'), (u'tns:direction', u'Eastbound'), (u'tns:congestion', u'Free Flow')])])]), OrderedDict([(u'tns:id', u'170'), (u'tns:name', u'SH16 5 Lincoln Rd W'), (u'tns:description', u'Lincoln Rd looking east'), (u'tns:offline', u'false'), (u'tns:underMaintenance', u'false'), (u'tns:imageUrl', u'http://www.trafficnz.info/camera/170.jpg'), (u'tns:viewUrl', u'http://www.trafficnz.info/camera/view/170'), (u'tns:mapx', u'35'), (u'tns:mapy', u'207'), (u'tns:congestionLocation', [OrderedDict([(u'tns:name', u'Lincoln Rd - Royal Rd'), (u'tns:direction', u'Westbound'), (u'tns:congestion', u'Free Flow')]), OrderedDict([(u'tns:name', u'Royal Rd - Lincoln Rd'), (u'tns:direction', u'Eastbound'), (u'tns:congestion', u'Free Flow')])])]), OrderedDict([(u'tns:id', u'270'), (u'tns:name', u'SH16 6 Hobsonville W'), (u'tns:description', u'Hobsonville looking West towards Kumeu'), (u'tns:offline', u'false'), (u'tns:underMaintenance', u'false'), (u'tns:imageUrl', u'http://www.trafficnz.info/camera/270.jpg'), (u'tns:viewUrl', u'http://www.trafficnz.info/camera/view/270'), (u'tns:mapx', u'0'), (u'tns:mapy', u'0')]), OrderedDict([(u'tns:id', u'271'), (u'tns:name', u'SH16 7 Hobsonville E'), (u'tns:description', u'Hobsonville Road looking East'), (u'tns:offline', u'false'), (u'tns:underMaintenance', u'false'), (u'tns:imageUrl', u'http://www.trafficnz.info/camera/271.jpg'), (u'tns:viewUrl', u'http://www.trafficnz.info/camera/view/271'), (u'tns:mapx', u'0'), (u'tns:mapy', u'0')]), OrderedDict([(u'tns:id', u'221'), (u'tns:name', u'SH18 Trig Rd'), (u'tns:description', u'Trig Rd looking west'), (u'tns:offline', u'false'), (u'tns:underMaintenance', u'false'), (u'tns:imageUrl', u'http://www.trafficnz.info/camera/221.jpg'), (u'tns:viewUrl', u'http://www.trafficnz.info/camera/view/221'), (u'tns:mapx', u'0'), (u'tns:mapy', u'0')]), OrderedDict([(u'tns:id', u'222'), (u'tns:name', u'SH18 Waiahora Creek'), (u'tns:description', u'Upper harbour motorway looking west'), (u'tns:offline', u'false'), (u'tns:underMaintenance', u'false'), (u'tns:imageUrl', u'http://www.trafficnz.info/camera/222.jpg'), (u'tns:viewUrl', u'http://www.trafficnz.info/camera/view/222'), (u'tns:mapx', u'0'), (u'tns:mapy', u'0')]), OrderedDict([(u'tns:id', u'223'), (u'tns:name', u'SH18 Brigham Creek'), (u'tns:description', u'Upper harbour motorway looking East'), (u'tns:offline', u'false'), (u'tns:underMaintenance', u'false'), (u'tns:imageUrl', u'http://www.trafficnz.info/camera/223.jpg'), (u'tns:viewUrl', u'http://www.trafficnz.info/camera/view/223'), (u'tns:mapx', u'0'), (u'tns:mapy', u'0')]), OrderedDict([(u'tns:id', u'224'), (u'tns:name', u'SH18 Sinton Rd'), (u'tns:description', u'Upper harbour motorway looking west'), (u'tns:offline', u'false'), (u'tns:underMaintenance', u'false'), (u'tns:imageUrl', u'http://www.trafficnz.info/camera/224.jpg'), (u'tns:viewUrl', u'http://www.trafficnz.info/camera/view/224'), (u'tns:mapx', u'0'), (u'tns:mapy', u'0')]), OrderedDict([(u'tns:id', u'225'), (u'tns:name', u'SH18 Squadron Dr'), (u'tns:description', u'Upper harbour motorway looking east'), (u'tns:offline', u'false'), (u'tns:underMaintenance', u'false'), (u'tns:imageUrl', u'http://www.trafficnz.info/camera/225.jpg'), (u'tns:viewUrl', u'http://www.trafficnz.info/camera/view/225'), (u'tns:mapx', u'0'), (u'tns:mapy', u'0')]), OrderedDict([(u'tns:id', u'171'), (u'tns:name', u'SH18 6 Tauhinu BRG'), (u'tns:description', u'Tauhinu bridge looking east'), (u'tns:offline', u'false'), (u'tns:underMaintenance', u'false'), (u'tns:imageUrl', u'http://www.trafficnz.info/camera/171.jpg'), (u'tns:viewUrl', u'http://www.trafficnz.info/camera/view/171'), (u'tns:mapx', u'60'), (u'tns:mapy', u'207')]), OrderedDict([(u'tns:id', u'172'), (u'tns:name', u'SH18 7 Albany HWY'), (u'tns:description', u'Albany Highway Looking East'), (u'tns:offline', u'false'), (u'tns:underMaintenance', u'false'), (u'tns:imageUrl', u'http://www.trafficnz.info/camera/172.jpg'), (u'tns:viewUrl', u'http://www.trafficnz.info/camera/view/172'), (u'tns:mapx', u'35'), (u'tns:mapy', u'207')]), OrderedDict([(u'tns:id', u'173'), (u'tns:name', u'SH18 8 Tauhinu East'), (u'tns:description', u'Tauhinu East Looking East'), (u'tns:offline', u'false'), (u'tns:underMaintenance', u'false'), (u'tns:imageUrl', u'http://www.trafficnz.info/camera/173.jpg'), (u'tns:viewUrl', u'http://www.trafficnz.info/camera/view/173'), (u'tns:mapx', u'35'), (u'tns:mapy', u'207')]), OrderedDict([(u'tns:id', u'174'), (u'tns:name', u'SH18 9 Paul Matthews'), (u'tns:description', u'Paul matthews looking east'), (u'tns:offline', u'false'), (u'tns:underMaintenance', u'false'), (u'tns:imageUrl', u'http://www.trafficnz.info/camera/174.jpg'), (u'tns:viewUrl', u'http://www.trafficnz.info/camera/view/174'), (u'tns:mapx', u'35'), (u'tns:mapy', u'207')]), OrderedDict([(u'tns:id', u'175'), (u'tns:name', u'SH18 10 Greenhithe'), (u'tns:description', u'Greenhithe Rd looking east'), (u'tns:offline', u'false'), (u'tns:underMaintenance', u'false'), (u'tns:imageUrl', u'http://www.trafficnz.info/camera/175.jpg'), (u'tns:viewUrl', u'http://www.trafficnz.info/camera/view/175'), (u'tns:mapx', u'35'), (u'tns:mapy', u'207')]), OrderedDict([(u'tns:id', u'176'), (u'tns:name', u'SH18 11 George Deane'), (u'tns:description', u'George deane looking east'), (u'tns:offline', u'false'), (u'tns:underMaintenance', u'false'), (u'tns:imageUrl', u'http://www.trafficnz.info/camera/176.jpg'), (u'tns:viewUrl', u'http://www.trafficnz.info/camera/view/176'), (u'tns:mapx', u'35'), (u'tns:mapy', u'207')]), OrderedDict([(u'tns:id', u'177'), (u'tns:name', u'SH18 12 Upper Hbr CW'), (u'tns:description', u'Upper harbour looking east'), (u'tns:offline', u'false'), (u'tns:underMaintenance', u'false'), (u'tns:imageUrl', u'http://www.trafficnz.info/camera/177.jpg'), (u'tns:viewUrl', u'http://www.trafficnz.info/camera/view/177'), (u'tns:mapx', u'35'), (u'tns:mapy', u'207')]), OrderedDict([(u'tns:id', u'178'), (u'tns:name', u'SH18 13 Wicklam Lane'), (u'tns:description', u'Wicklam Lane looking west'), (u'tns:offline', u'false'), (u'tns:underMaintenance', u'false'), (u'tns:imageUrl', u'http://www.trafficnz.info/camera/178.jpg'), (u'tns:viewUrl', u'http://www.trafficnz.info/camera/view/178'), (u'tns:mapx', u'35'), (u'tns:mapy', u'207')]), OrderedDict([(u'tns:id', u'10'), (u'tns:name', u'SH1 1 Greville Rd'), (u'tns:description', u'Greville road looking south'), (u'tns:offline', u'false'), (u'tns:underMaintenance', u'false'), (u'tns:imageUrl', u'http://www.trafficnz.info/camera/10.jpg'), (u'tns:viewUrl', u'http://www.trafficnz.info/camera/view/10'), (u'tns:mapx', u'125'), (u'tns:mapy', u'71'), (u'tns:congestionLocation', [OrderedDict([(u'tns:name', u'Upper Harb Hwy - Oteha Valley Rd'), (u'tns:direction', u'Northbound'), (u'tns:congestion', u'Free Flow')]), OrderedDict([(u'tns:name', u'Oteha Valley Rd - Upper Harb Hwy'), (u'tns:direction', u'Southbound'), (u'tns:congestion', u'Free Flow')])])]), OrderedDict([(u'tns:id', u'20'), (u'tns:name', u'SH1 2 Tristram Ave'), (u'tns:description', u'Tristram Avenue looking south'), (u'tns:offline', u'false'), (u'tns:underMaintenance', u'false'), (u'tns:imageUrl', u'http://www.trafficnz.info/camera/20.jpg'), (u'tns:viewUrl', u'http://www.trafficnz.info/camera/view/20'), (u'tns:mapx', u'148'), (u'tns:mapy', u'118'), (u'tns:congestionLocation', [OrderedDict([(u'tns:name', u'Tristram Ave - Esmonde Rd'), (u'tns:direction', u'Southbound'), (u'tns:congestion', u'Free Flow')]), OrderedDict([(u'tns:name', u'Esmonde Rd - Tristram Ave'), (u'tns:direction', u'Northbound'), (u'tns:congestion', u'Free Flow')])])]), OrderedDict([(u'tns:id', u'30'), (u'tns:name', u'SH1 3 Northcote Rd'), (u'tns:description', u'Northcote Rd looking north'), (u'tns:offline', u'false'), (u'tns:underMaintenance', u'false'), (u'tns:imageUrl', u'http://www.trafficnz.info/camera/30.jpg'), (u'tns:viewUrl', u'http://www.trafficnz.info/camera/view/30'), (u'tns:mapx', u'156'), (u'tns:mapy', u'141'), (u'tns:congestionLocation', [OrderedDict([(u'tns:name', u'Tristram Ave - Esmonde Rd'), (u'tns:direction', u'Southbound'), (u'tns:congestion', u'Free Flow')]), OrderedDict([(u'tns:name', u'Esmonde Rd - Tristram Ave'), (u'tns:direction', u'Northbound'), (u'tns:congestion', u'Free Flow')])])]), OrderedDict([(u'tns:id', u'40'), (u'tns:name', u'SH1 4 Esmonde Rd'), (u'tns:description', u'Esmonde Rd looking south'), (u'tns:offline', u'false'), (u'tns:underMaintenance', u'false'), (u'tns:imageUrl', u'http://www.trafficnz.info/camera/40.jpg'), (u'tns:viewUrl', u'http://www.trafficnz.info/camera/view/40'), (u'tns:mapx', u'178'), (u'tns:mapy', u'146'), (u'tns:congestionLocation', [OrderedDict([(u'tns:name', u'Esmonde Rd - Onewa'), (u'tns:direction', u'Southbound'), (u'tns:congestion', u'Free Flow')]), OrderedDict([(u'tns:name', u'Stafford Rd - Esmonde Rd'), (u'tns:direction', u'Northbound'), (u'tns:congestion', u'Free Flow')])])]), OrderedDict([(u'tns:id', u'50'), (u'tns:name', u'SH1 5 Onewa Rd'), (u'tns:description', u'Onewa Rd looking south'), (u'tns:offline', u'false'), (u'tns:underMaintenance', u'false'), (u'tns:imageUrl', u'http://www.trafficnz.info/camera/50.jpg'), (u'tns:viewUrl', u'http://www.trafficnz.info/camera/view/50'), (u'tns:mapx', u'157'), (u'tns:mapy', u'162'), (u'tns:congestionLocation', [OrderedDict([(u'tns:name', u'Harbour Bridge'), (u'tns:direction', u'Southbound'), (u'tns:congestion', u'Free Flow')]), OrderedDict([(u'tns:name', u'Stafford Rd - Esmonde Rd'), (u'tns:direction', u'Northbound'), (u'tns:congestion', u'Free Flow')])])]), OrderedDict([(u'tns:id', u'215'), (u'tns:name', u'SH1 Alpurt Web cam'), (u'tns:description', u'Johnstone hill tunnels looking south'), (u'tns:offline', u'false'), (u'tns:underMaintenance', u'false'), (u'tns:imageUrl', u'http://www.trafficnz.info/camera/215.jpg'), (u'tns:viewUrl', u'http://www.trafficnz.info/camera/view/215'), (u'tns:mapx', u'0'), (u'tns:mapy', u'0')]), OrderedDict([(u'tns:id', u'212'), (u'tns:name', u'SH1 17 Goodwood'), (u'tns:description', u'Goodwood heights looking south'), (u'tns:offline', u'false'), (u'tns:underMaintenance', u'false'), (u'tns:imageUrl', u'http://www.trafficnz.info/camera/212.jpg'), (u'tns:viewUrl', u'http://www.trafficnz.info/camera/view/212'), (u'tns:mapx', u'0'), (u'tns:mapy', u'0')]), OrderedDict([(u'tns:id', u'214'), (u'tns:name', u'SH1 18 Rainbows End'), (u'tns:description', u'Rainbows End looking north at SH1 and SH20 link'), (u'tns:offline', u'false'), (u'tns:underMaintenance', u'false'), (u'tns:imageUrl', u'http://www.trafficnz.info/camera/214.jpg'), (u'tns:viewUrl', u'http://www.trafficnz.info/camera/view/214'), (u'tns:mapx', u'0'), (u'tns:mapy', u'0')]), OrderedDict([(u'tns:id', u'60'), (u'tns:name', u'SH1 1 CMJ'), (u'tns:description', u'Central motorway junction looking south at the link between state highways 1 and 16'), (u'tns:offline', u'false'), (u'tns:underMaintenance', u'false'), (u'tns:imageUrl', u'http://www.trafficnz.info/camera/60.jpg'), (u'tns:viewUrl', u'http://www.trafficnz.info/camera/view/60'), (u'tns:mapx', u'162'), (u'tns:mapy', u'217'), (u'tns:congestionLocation', OrderedDict([(u'tns:name', u'Nelson St - Gillies Ave'), (u'tns:direction', u'Southbound'), (u'tns:congestion', u'Free Flow')]))]), OrderedDict([(u'tns:id', u'70'), (u'tns:name', u'SH1 2 Market Rd'), (u'tns:description', u'Southern motorway at newmarket looking south towards the Market  Rd overbridge'), (u'tns:offline', u'false'), (u'tns:underMaintenance', u'false'), (u'tns:imageUrl', u'http://www.trafficnz.info/camera/70.jpg'), (u'tns:viewUrl', u'http://www.trafficnz.info/camera/view/70'), (u'tns:mapx', u'183'), (u'tns:mapy', u'241'), (u'tns:congestionLocation', [OrderedDict([(u'tns:name', u'Gillies Ave - Greenlane'), (u'tns:direction', u'Southbound'), (u'tns:congestion', u'Free Flow')]), OrderedDict([(u'tns:name', u'Greenlane - Gillies Ave'), (u'tns:direction', u'Northbound'), (u'tns:congestion', u'Free Flow')])])]), OrderedDict([(u'tns:id', u'80'), (u'tns:name', u'SH1 3 Greenlane Rd'), (u'tns:description', u'Greenlane Rd looking north'), (u'tns:offline', u'false'), (u'tns:underMaintenance', u'false'), (u'tns:imageUrl', u'http://www.trafficnz.info/camera/80.jpg'), (u'tns:viewUrl', u'http://www.trafficnz.info/camera/view/80'), (u'tns:mapx', u'198'), (u'tns:mapy', u'262'), (u'tns:congestionLocation', [OrderedDict([(u'tns:name', u'Gillies Ave - Greenlane'), (u'tns:direction', u'Southbound'), (u'tns:congestion', u'Free Flow')]), OrderedDict([(u'tns:name', u'Greenlane - Gillies Ave'), (u'tns:direction', u'Northbound'), (u'tns:congestion', u'Free Flow')])])]), OrderedDict([(u'tns:id', u'90'), (u'tns:name', u'SH1 4 SE Highway'), (u'tns:description', u'South eastern highway looking south'), (u'tns:offline', u'false'), (u'tns:underMaintenance', u'false'), (u'tns:imageUrl', u'http://www.trafficnz.info/camera/90.jpg'), (u'tns:viewUrl', u'http://www.trafficnz.info/camera/view/90'), (u'tns:mapx', u'219'), (u'tns:mapy', u'278'), (u'tns:congestionLocation', [OrderedDict([(u'tns:name', u'Mt Wellington Hway - SE Highway'), (u'tns:direction', u'Northbound'), (u'tns:congestion', u'Free Flow')]), OrderedDict([(u'tns:name', u'SE Highway - Mt Wellington Hway'), (u'tns:direction', u'Southbound'), (u'tns:congestion', u'Moderate')])])]), OrderedDict([(u'tns:id', u'100'), (u'tns:name', u'SH1 5 Redoubt Rd'), (u'tns:description', u'Redoubt Rd looking north'), (u'tns:offline', u'false'), (u'tns:underMaintenance', u'false'), (u'tns:imageUrl', u'http://www.trafficnz.info/camera/100.jpg'), (u'tns:viewUrl', u'http://www.trafficnz.info/camera/view/100'), (u'tns:mapx', u'254'), (u'tns:mapy', u'341'), (u'tns:congestionLocation', [OrderedDict([(u'tns:name', u'Redoubt Rd - Hill Rd'), (u'tns:direction', u'Southbound'), (u'tns:congestion', u'Free Flow')]), OrderedDict([(u'tns:name', u'Hill Rd - Redoubt Rd'), (u'tns:direction', u'Northbound'), (u'tns:congestion', u'Free Flow')])])]), OrderedDict([(u'tns:id', u'110'), (u'tns:name', u'SH1 6 Bairds Rd'), (u'tns:description', u'Bairds Rd looking north'), (u'tns:offline', u'false'), (u'tns:underMaintenance', u'false'), (u'tns:imageUrl', u'http://www.trafficnz.info/camera/110.jpg'), (u'tns:viewUrl', u'http://www.trafficnz.info/camera/view/110'), (u'tns:mapx', u'275'), (u'tns:mapy', u'383'), (u'tns:congestionLocation', [OrderedDict([(u'tns:name', u'East Tamaki Rd - Princes St'), (u'tns:direction', u'Northbound'), (u'tns:congestion', u'Free Flow')]), OrderedDict([(u'tns:name', u'Princes St - East Tamaki Rd'), (u'tns:direction', u'Southbound'), (u'tns:congestion', u'Free Flow')])])]), OrderedDict([(u'tns:id', u'120'), (u'tns:name', u'SH1 7 Alfriston Rd'), (u'tns:description', u'Alfriston Rd looking north'), (u'tns:offline', u'false'), (u'tns:underMaintenance', u'false'), (u'tns:imageUrl', u'http://www.trafficnz.info/camera/120.jpg'), (u'tns:viewUrl', u'http://www.trafficnz.info/camera/view/120'), (u'tns:mapx', u'291'), (u'tns:mapy', u'411'), (u'tns:congestionLocation', [OrderedDict([(u'tns:name', u'Takanini - Hill Rd'), (u'tns:direction', u'Northbound'), (u'tns:congestion', u'Free Flow')]), OrderedDict([(u'tns:name', u'Hill Rd - Takanini'), (u'tns:direction', u'Southbound'), (u'tns:congestion', u'Free Flow')])])]), OrderedDict([(u'tns:id', u'121'), (u'tns:name', u'SH1 8 Takanini'), (u'tns:description', u'Takanini looking south'), (u'tns:offline', u'false'), (u'tns:underMaintenance', u'false'), (u'tns:imageUrl', u'http://www.trafficnz.info/camera/121.jpg'), (u'tns:viewUrl', u'http://www.trafficnz.info/camera/view/121'), (u'tns:mapx', u'290'), (u'tns:mapy', u'380')]), OrderedDict([(u'tns:id', u'122'), (u'tns:name', u'SH1 9 Walter Streven'), (u'tns:description', u'Walter-Strevens Drive looking south'), (u'tns:offline', u'false'), (u'tns:underMaintenance', u'false'), (u'tns:imageUrl', u'http://www.trafficnz.info/camera/122.jpg'), (u'tns:viewUrl', u'http://www.trafficnz.info/camera/view/122'), (u'tns:mapx', u'285'), (u'tns:mapy', u'400')]), OrderedDict([(u'tns:id', u'123'), (u'tns:name', u'SH1 10 Pahurehure'), (u'tns:description', u'Pahurehure looking south'), (u'tns:offline', u'false'), (u'tns:underMaintenance', u'false'), (u'tns:imageUrl', u'http://www.trafficnz.info/camera/123.jpg'), (u'tns:viewUrl', u'http://www.trafficnz.info/camera/view/123'), (u'tns:mapx', u'265'), (u'tns:mapy', u'410')]), OrderedDict([(u'tns:id', u'124'), (u'tns:name', u'SH1 11 Rushgreen Ave'), (u'tns:description', u'Rushgreen Ave looking south'), (u'tns:offline', u'false'), (u'tns:underMaintenance', u'false'), (u'tns:imageUrl', u'http://www.trafficnz.info/camera/124.jpg'), (u'tns:viewUrl', u'http://www.trafficnz.info/camera/view/124'), (u'tns:mapx', u'285'), (u'tns:mapy', u'420')]), OrderedDict([(u'tns:id', u'125'), (u'tns:name', u'SH1 12 Park Estate'), (u'tns:description', u'Park estate looking south'), (u'tns:offline', u'false'), (u'tns:underMaintenance', u'false'), (u'tns:imageUrl', u'http://www.trafficnz.info/camera/125.jpg'), (u'tns:viewUrl', u'http://www.trafficnz.info/camera/view/125'), (u'tns:mapx', u'300'), (u'tns:mapy', u'430')]), OrderedDict([(u'tns:id', u'126'), (u'tns:name', u'SH1 13 Slippery Crk'), (u'tns:description', u'Slippery Creek looking  south'), (u'tns:offline', u'false'), (u'tns:underMaintenance', u'false'), (u'tns:imageUrl', u'http://www.trafficnz.info/camera/126.jpg'), (u'tns:viewUrl', u'http://www.trafficnz.info/camera/view/126'), (u'tns:mapx', u'286'), (u'tns:mapy', u'445')]), OrderedDict([(u'tns:id', u'274'), (u'tns:name', u'SH20A Montgomerie Rd'), (u'tns:description', u'Montgomerie Rd looking east'), (u'tns:offline', u'false'), (u'tns:underMaintenance', u'false'), (u'tns:imageUrl', u'http://www.trafficnz.info/camera/274.jpg'), (u'tns:viewUrl', u'http://www.trafficnz.info/camera/view/274'), (u'tns:mapx', u'0'), (u'tns:mapy', u'0')]), OrderedDict([(u'tns:id', u'275'), (u'tns:name', u'SH20A Kirkbride Road'), (u'tns:description', u'Kirkbride Rd looking east'), (u'tns:offline', u'false'), (u'tns:underMaintenance', u'false'), (u'tns:imageUrl', u'http://www.trafficnz.info/camera/275.jpg'), (u'tns:viewUrl', u'http://www.trafficnz.info/camera/view/275'), (u'tns:mapx', u'0'), (u'tns:mapy', u'0')]), OrderedDict([(u'tns:id', u'276'), (u'tns:name', u'SH20A Bader Drive'), (u'tns:description', u'Bader Drive looking east'), (u'tns:offline', u'false'), (u'tns:underMaintenance', u'false'), (u'tns:imageUrl', u'http://www.trafficnz.info/camera/276.jpg'), (u'tns:viewUrl', u'http://www.trafficnz.info/camera/view/276'), (u'tns:mapx', u'0'), (u'tns:mapy', u'0')]), OrderedDict([(u'tns:id', u'272'), (u'tns:name', u'SH20B Prices Road'), (u'tns:description', u'Prices Rd looking east'), (u'tns:offline', u'false'), (u'tns:underMaintenance', u'false'), (u'tns:imageUrl', u'http://www.trafficnz.info/camera/272.jpg'), (u'tns:viewUrl', u'http://www.trafficnz.info/camera/view/272'), (u'tns:mapx', u'0'), (u'tns:mapy', u'0')]), OrderedDict([(u'tns:id', u'273'), (u'tns:name', u'SH20B Waokauri Creek'), (u'tns:description', u'Waokauri Creek looking west'), (u'tns:offline', u'false'), (u'tns:underMaintenance', u'false'), (u'tns:imageUrl', u'http://www.trafficnz.info/camera/273.jpg'), (u'tns:viewUrl', u'http://www.trafficnz.info/camera/view/273'), (u'tns:mapx', u'0'), (u'tns:mapy', u'0')]), OrderedDict([(u'tns:id', u'190'), (u'tns:name', u'SH20 1 Queenstown Rd'), (u'tns:description', u'Queenstown Rd looking south'), (u'tns:offline', u'false'), (u'tns:underMaintenance', u'false'), (u'tns:imageUrl', u'http://www.trafficnz.info/camera/190.jpg'), (u'tns:viewUrl', u'http://www.trafficnz.info/camera/view/190'), (u'tns:mapx', u'35'), (u'tns:mapy', u'207')]), OrderedDict([(u'tns:id', u'191'), (u'tns:name', u'SH20 2 Hillsborough'), (u'tns:description', u'Hillsborough Rd looking south'), (u'tns:offline', u'false'), (u'tns:underMaintenance', u'false'), (u'tns:imageUrl', u'http://www.trafficnz.info/camera/191.jpg'), (u'tns:viewUrl', u'http://www.trafficnz.info/camera/view/191'), (u'tns:mapx', u'35'), (u'tns:mapy', u'207')]), OrderedDict([(u'tns:id', u'192'), (u'tns:name', u'SH20 3 Melrose'), (u'tns:description', u'Melrose looking south'), (u'tns:offline', u'false'), (u'tns:underMaintenance', u'false'), (u'tns:imageUrl', u'http://www.trafficnz.info/camera/192.jpg'), (u'tns:viewUrl', u'http://www.trafficnz.info/camera/view/192'), (u'tns:mapx', u'35'), (u'tns:mapy', u'207')]), OrderedDict([(u'tns:id', u'193'), (u'tns:name', u'SH20 4 Dominion Rd'), (u'tns:description', u'Dominion Rd looking south'), (u'tns:offline', u'false'), (u'tns:underMaintenance', u'false'), (u'tns:imageUrl', u'http://www.trafficnz.info/camera/193.jpg'), (u'tns:viewUrl', u'http://www.trafficnz.info/camera/view/193'), (u'tns:mapx', u'35'), (u'tns:mapy', u'207')]), OrderedDict([(u'tns:id', u'194'), (u'tns:name', u'SH20 5 Sandringham'), (u'tns:description', u'Sandringham looking South'), (u'tns:offline', u'false'), (u'tns:underMaintenance', u'false'), (u'tns:imageUrl', u'http://www.trafficnz.info/camera/194.jpg'), (u'tns:viewUrl', u'http://www.trafficnz.info/camera/view/194'), (u'tns:mapx', u'35'), (u'tns:mapy', u'207')]), OrderedDict([(u'tns:id', u'201'), (u'tns:name', u'SH20 6 Gloucester Pk'), (u'tns:description', u'Gloucester Park looking north'), (u'tns:offline', u'false'), (u'tns:underMaintenance', u'false'), (u'tns:imageUrl', u'http://www.trafficnz.info/camera/201.jpg'), (u'tns:viewUrl', u'http://www.trafficnz.info/camera/view/201'), (u'tns:mapx', u'0'), (u'tns:mapy', u'0')]), OrderedDict([(u'tns:id', u'202'), (u'tns:name', u'SH20 7 Onehunga'), (u'tns:description', u'Onehunga wharf looking north'), (u'tns:offline', u'false'), (u'tns:underMaintenance', u'false'), (u'tns:imageUrl', u'http://www.trafficnz.info/camera/202.jpg'), (u'tns:viewUrl', u'http://www.trafficnz.info/camera/view/202'), (u'tns:mapx', u'0'), (u'tns:mapy', u'0')]), OrderedDict([(u'tns:id', u'203'), (u'tns:name', u'SH20 8 Rimu Rd'), (u'tns:description', u'Rimu Rd looking north'), (u'tns:offline', u'false'), (u'tns:underMaintenance', u'false'), (u'tns:imageUrl', u'http://www.trafficnz.info/camera/203.jpg'), (u'tns:viewUrl', u'http://www.trafficnz.info/camera/view/203'), (u'tns:mapx', u'0'), (u'tns:mapy', u'0')]), OrderedDict([(u'tns:id', u'204'), (u'tns:name', u'SH20 9 Crawford Ave'), (u'tns:description', u'Crawford Ave looking north'), (u'tns:offline', u'false'), (u'tns:underMaintenance', u'false'), (u'tns:imageUrl', u'http://www.trafficnz.info/camera/204.jpg'), (u'tns:viewUrl', u'http://www.trafficnz.info/camera/view/204'), (u'tns:mapx', u'0'), (u'tns:mapy', u'0')]), OrderedDict([(u'tns:id', u'205'), (u'tns:name', u'SH20 Coronation Rd'), (u'tns:description', u'Coronation Rd looking east'), (u'tns:offline', u'false'), (u'tns:underMaintenance', u'false'), (u'tns:imageUrl', u'http://www.trafficnz.info/camera/205.jpg'), (u'tns:viewUrl', u'http://www.trafficnz.info/camera/view/205'), (u'tns:mapx', u'0'), (u'tns:mapy', u'0')]), OrderedDict([(u'tns:id', u'206'), (u'tns:name', u'SH20 11 Puhinui Rd'), (u'tns:description', u'Puhinui road interchange looking south'), (u'tns:offline', u'false'), (u'tns:underMaintenance', u'false'), (u'tns:imageUrl', u'http://www.trafficnz.info/camera/206.jpg'), (u'tns:viewUrl', u'http://www.trafficnz.info/camera/view/206'), (u'tns:mapx', u'0'), (u'tns:mapy', u'0')]), OrderedDict([(u'tns:id', u'207'), (u'tns:name', u'SH20 12 Nesdale Road'), (u'tns:description', u'Nesdale Rd looking east'), (u'tns:offline', u'false'), (u'tns:underMaintenance', u'false'), (u'tns:imageUrl', u'http://www.trafficnz.info/camera/207.jpg'), (u'tns:viewUrl', u'http://www.trafficnz.info/camera/view/207'), (u'tns:mapx', u'0'), (u'tns:mapy', u'0')]), OrderedDict([(u'tns:id', u'208'), (u'tns:name', u'SH20 13 Plunket Ave'), (u'tns:description', u'Plunket Ave looking south'), (u'tns:offline', u'false'), (u'tns:underMaintenance', u'false'), (u'tns:imageUrl', u'http://www.trafficnz.info/camera/208.jpg'), (u'tns:viewUrl', u'http://www.trafficnz.info/camera/view/208'), (u'tns:mapx', u'0'), (u'tns:mapy', u'0')]), OrderedDict([(u'tns:id', u'209'), (u'tns:name', u'SH20 14 Lambie Drive'), (u'tns:description', u'Lambie Drive looking south'), (u'tns:offline', u'false'), (u'tns:underMaintenance', u'false'), (u'tns:imageUrl', u'http://www.trafficnz.info/camera/209.jpg'), (u'tns:viewUrl', u'http://www.trafficnz.info/camera/view/209'), (u'tns:mapx', u'0'), (u'tns:mapy', u'0')]), OrderedDict([(u'tns:id', u'210'), (u'tns:name', u'SH20 15 Barrowcliffe'), (u'tns:description', u'Barrowcliffe Place looking west'), (u'tns:offline', u'false'), (u'tns:underMaintenance', u'false'), (u'tns:imageUrl', u'http://www.trafficnz.info/camera/210.jpg'), (u'tns:viewUrl', u'http://www.trafficnz.info/camera/view/210'), (u'tns:mapx', u'0'), (u'tns:mapy', u'0')]), OrderedDict([(u'tns:id', u'211'), (u'tns:name', u'SH20 16 Great South'), (u'tns:description', u'Great South Rd Looking westbound'), (u'tns:offline', u'false'), (u'tns:underMaintenance', u'false'), (u'tns:imageUrl', u'http://www.trafficnz.info/camera/211.jpg'), (u'tns:viewUrl', u'http://www.trafficnz.info/camera/view/211'), (u'tns:mapx', u'0'), (u'tns:mapy', u'0')])])]))])"
       ]
      }
     ],
     "prompt_number": 49
    },
    {
     "cell_type": "code",
     "collapsed": false,
     "input": [
      "#opcon.read()"
     ],
     "language": "python",
     "metadata": {},
     "outputs": [],
     "prompt_number": 38
    },
    {
     "cell_type": "code",
     "collapsed": false,
     "input": [
      "print hamxml"
     ],
     "language": "python",
     "metadata": {},
     "outputs": [
      {
       "output_type": "stream",
       "stream": "stdout",
       "text": [
        "\n"
       ]
      }
     ],
     "prompt_number": 29
    },
    {
     "cell_type": "code",
     "collapsed": false,
     "input": [
      "gitlist = []"
     ],
     "language": "python",
     "metadata": {},
     "outputs": [],
     "prompt_number": 11
    },
    {
     "cell_type": "code",
     "collapsed": false,
     "input": [
      "searchpy = g.search_repositories(theuser)"
     ],
     "language": "python",
     "metadata": {},
     "outputs": [],
     "prompt_number": 13
    },
    {
     "cell_type": "code",
     "collapsed": false,
     "input": [
      "typy = g.search_users(theuser)"
     ],
     "language": "python",
     "metadata": {},
     "outputs": [],
     "prompt_number": 22
    },
    {
     "cell_type": "code",
     "collapsed": false,
     "input": [
      "blehgit = g.search_repositories('reddit')"
     ],
     "language": "python",
     "metadata": {},
     "outputs": [],
     "prompt_number": 82
    },
    {
     "cell_type": "raw",
     "metadata": {},
     "source": [
      "oh man, what have i got happening here. This started with a way of downloading repos in bulk from a user and ive started to bring in more github module. Here I am searching repositories on github for reddit. \n",
      "What things could i get it to search for?\n",
      "- list\n",
      "- search your repos on global to find similar named ones.\n",
      "- "
     ]
    },
    {
     "cell_type": "code",
     "collapsed": false,
     "input": [
      "repolis = []"
     ],
     "language": "python",
     "metadata": {},
     "outputs": [],
     "prompt_number": 83
    },
    {
     "cell_type": "code",
     "collapsed": false,
     "input": [
      "print repolis"
     ],
     "language": "python",
     "metadata": {},
     "outputs": [
      {
       "output_type": "stream",
       "stream": "stdout",
       "text": [
        "[]\n"
       ]
      }
     ],
     "prompt_number": 84
    },
    {
     "cell_type": "code",
     "collapsed": false,
     "input": [
      "for bleh in blehgit:\n",
      "    repolis.append(bleh)\n",
      "    #print bleh.full_name"
     ],
     "language": "python",
     "metadata": {},
     "outputs": [
      {
       "ename": "GithubException",
       "evalue": "403 {u'documentation_url': u'https://developer.github.com/v3/#rate-limiting', u'message': u\"API rate limit exceeded for 74.50.51.32. (But here's the good news: Authenticated requests get a higher rate limit. Check out the documentation for more details.)\"}",
       "output_type": "pyerr",
       "traceback": [
        "\u001b[0;31m---------------------------------------------------------------------------\u001b[0m\n\u001b[0;31mGithubException\u001b[0m                           Traceback (most recent call last)",
        "\u001b[0;32m<ipython-input-85-59f642db6a33>\u001b[0m in \u001b[0;36m<module>\u001b[0;34m()\u001b[0m\n\u001b[0;32m----> 1\u001b[0;31m \u001b[0;32mfor\u001b[0m \u001b[0mbleh\u001b[0m \u001b[0;32min\u001b[0m \u001b[0mblehgit\u001b[0m\u001b[0;34m:\u001b[0m\u001b[0;34m\u001b[0m\u001b[0m\n\u001b[0m\u001b[1;32m      2\u001b[0m     \u001b[0mrepolis\u001b[0m\u001b[0;34m.\u001b[0m\u001b[0mappend\u001b[0m\u001b[0;34m(\u001b[0m\u001b[0mbleh\u001b[0m\u001b[0;34m)\u001b[0m\u001b[0;34m\u001b[0m\u001b[0m\n\u001b[1;32m      3\u001b[0m     \u001b[0;31m#print bleh.full_name\u001b[0m\u001b[0;34m\u001b[0m\u001b[0;34m\u001b[0m\u001b[0m\n",
        "\u001b[0;32m/usr/local/lib/python2.7/dist-packages/github/PaginatedList.pyc\u001b[0m in \u001b[0;36m__iter__\u001b[0;34m(self)\u001b[0m\n\u001b[1;32m     46\u001b[0m             \u001b[0;32myield\u001b[0m \u001b[0melement\u001b[0m\u001b[0;34m\u001b[0m\u001b[0m\n\u001b[1;32m     47\u001b[0m         \u001b[0;32mwhile\u001b[0m \u001b[0mself\u001b[0m\u001b[0;34m.\u001b[0m\u001b[0m_couldGrow\u001b[0m\u001b[0;34m(\u001b[0m\u001b[0;34m)\u001b[0m\u001b[0;34m:\u001b[0m\u001b[0;34m\u001b[0m\u001b[0m\n\u001b[0;32m---> 48\u001b[0;31m             \u001b[0mnewElements\u001b[0m \u001b[0;34m=\u001b[0m \u001b[0mself\u001b[0m\u001b[0;34m.\u001b[0m\u001b[0m_grow\u001b[0m\u001b[0;34m(\u001b[0m\u001b[0;34m)\u001b[0m\u001b[0;34m\u001b[0m\u001b[0m\n\u001b[0m\u001b[1;32m     49\u001b[0m             \u001b[0;32mfor\u001b[0m \u001b[0melement\u001b[0m \u001b[0;32min\u001b[0m \u001b[0mnewElements\u001b[0m\u001b[0;34m:\u001b[0m\u001b[0;34m\u001b[0m\u001b[0m\n\u001b[1;32m     50\u001b[0m                 \u001b[0;32myield\u001b[0m \u001b[0melement\u001b[0m\u001b[0;34m\u001b[0m\u001b[0m\n",
        "\u001b[0;32m/usr/local/lib/python2.7/dist-packages/github/PaginatedList.pyc\u001b[0m in \u001b[0;36m_grow\u001b[0;34m(self)\u001b[0m\n\u001b[1;32m     58\u001b[0m \u001b[0;34m\u001b[0m\u001b[0m\n\u001b[1;32m     59\u001b[0m     \u001b[0;32mdef\u001b[0m \u001b[0m_grow\u001b[0m\u001b[0;34m(\u001b[0m\u001b[0mself\u001b[0m\u001b[0;34m)\u001b[0m\u001b[0;34m:\u001b[0m\u001b[0;34m\u001b[0m\u001b[0m\n\u001b[0;32m---> 60\u001b[0;31m         \u001b[0mnewElements\u001b[0m \u001b[0;34m=\u001b[0m \u001b[0mself\u001b[0m\u001b[0;34m.\u001b[0m\u001b[0m_fetchNextPage\u001b[0m\u001b[0;34m(\u001b[0m\u001b[0;34m)\u001b[0m\u001b[0;34m\u001b[0m\u001b[0m\n\u001b[0m\u001b[1;32m     61\u001b[0m         \u001b[0mself\u001b[0m\u001b[0;34m.\u001b[0m\u001b[0m__elements\u001b[0m \u001b[0;34m+=\u001b[0m \u001b[0mnewElements\u001b[0m\u001b[0;34m\u001b[0m\u001b[0m\n\u001b[1;32m     62\u001b[0m         \u001b[0;32mreturn\u001b[0m \u001b[0mnewElements\u001b[0m\u001b[0;34m\u001b[0m\u001b[0m\n",
        "\u001b[0;32m/usr/local/lib/python2.7/dist-packages/github/PaginatedList.pyc\u001b[0m in \u001b[0;36m_fetchNextPage\u001b[0;34m(self)\u001b[0m\n\u001b[1;32m    156\u001b[0m             \u001b[0;34m\"GET\"\u001b[0m\u001b[0;34m,\u001b[0m\u001b[0;34m\u001b[0m\u001b[0m\n\u001b[1;32m    157\u001b[0m             \u001b[0mself\u001b[0m\u001b[0;34m.\u001b[0m\u001b[0m__nextUrl\u001b[0m\u001b[0;34m,\u001b[0m\u001b[0;34m\u001b[0m\u001b[0m\n\u001b[0;32m--> 158\u001b[0;31m             \u001b[0mparameters\u001b[0m\u001b[0;34m=\u001b[0m\u001b[0mself\u001b[0m\u001b[0;34m.\u001b[0m\u001b[0m__nextParams\u001b[0m\u001b[0;34m\u001b[0m\u001b[0m\n\u001b[0m\u001b[1;32m    159\u001b[0m         )\n\u001b[1;32m    160\u001b[0m \u001b[0;34m\u001b[0m\u001b[0m\n",
        "\u001b[0;32m/usr/local/lib/python2.7/dist-packages/github/Requester.pyc\u001b[0m in \u001b[0;36mrequestJsonAndCheck\u001b[0;34m(self, verb, url, parameters, headers, input, cnx)\u001b[0m\n\u001b[1;32m    167\u001b[0m \u001b[0;34m\u001b[0m\u001b[0m\n\u001b[1;32m    168\u001b[0m     \u001b[0;32mdef\u001b[0m \u001b[0mrequestJsonAndCheck\u001b[0m\u001b[0;34m(\u001b[0m\u001b[0mself\u001b[0m\u001b[0;34m,\u001b[0m \u001b[0mverb\u001b[0m\u001b[0;34m,\u001b[0m \u001b[0murl\u001b[0m\u001b[0;34m,\u001b[0m \u001b[0mparameters\u001b[0m\u001b[0;34m=\u001b[0m\u001b[0mNone\u001b[0m\u001b[0;34m,\u001b[0m \u001b[0mheaders\u001b[0m\u001b[0;34m=\u001b[0m\u001b[0mNone\u001b[0m\u001b[0;34m,\u001b[0m \u001b[0minput\u001b[0m\u001b[0;34m=\u001b[0m\u001b[0mNone\u001b[0m\u001b[0;34m,\u001b[0m \u001b[0mcnx\u001b[0m\u001b[0;34m=\u001b[0m\u001b[0mNone\u001b[0m\u001b[0;34m)\u001b[0m\u001b[0;34m:\u001b[0m\u001b[0;34m\u001b[0m\u001b[0m\n\u001b[0;32m--> 169\u001b[0;31m         \u001b[0;32mreturn\u001b[0m \u001b[0mself\u001b[0m\u001b[0;34m.\u001b[0m\u001b[0m__check\u001b[0m\u001b[0;34m(\u001b[0m\u001b[0;34m*\u001b[0m\u001b[0mself\u001b[0m\u001b[0;34m.\u001b[0m\u001b[0mrequestJson\u001b[0m\u001b[0;34m(\u001b[0m\u001b[0mverb\u001b[0m\u001b[0;34m,\u001b[0m \u001b[0murl\u001b[0m\u001b[0;34m,\u001b[0m \u001b[0mparameters\u001b[0m\u001b[0;34m,\u001b[0m \u001b[0mheaders\u001b[0m\u001b[0;34m,\u001b[0m \u001b[0minput\u001b[0m\u001b[0;34m,\u001b[0m \u001b[0mcnx\u001b[0m\u001b[0;34m)\u001b[0m\u001b[0;34m)\u001b[0m\u001b[0;34m\u001b[0m\u001b[0m\n\u001b[0m\u001b[1;32m    170\u001b[0m \u001b[0;34m\u001b[0m\u001b[0m\n\u001b[1;32m    171\u001b[0m     \u001b[0;32mdef\u001b[0m \u001b[0mrequestMultipartAndCheck\u001b[0m\u001b[0;34m(\u001b[0m\u001b[0mself\u001b[0m\u001b[0;34m,\u001b[0m \u001b[0mverb\u001b[0m\u001b[0;34m,\u001b[0m \u001b[0murl\u001b[0m\u001b[0;34m,\u001b[0m \u001b[0mparameters\u001b[0m\u001b[0;34m=\u001b[0m\u001b[0mNone\u001b[0m\u001b[0;34m,\u001b[0m \u001b[0mheaders\u001b[0m\u001b[0;34m=\u001b[0m\u001b[0mNone\u001b[0m\u001b[0;34m,\u001b[0m \u001b[0minput\u001b[0m\u001b[0;34m=\u001b[0m\u001b[0mNone\u001b[0m\u001b[0;34m)\u001b[0m\u001b[0;34m:\u001b[0m\u001b[0;34m\u001b[0m\u001b[0m\n",
        "\u001b[0;32m/usr/local/lib/python2.7/dist-packages/github/Requester.pyc\u001b[0m in \u001b[0;36m__check\u001b[0;34m(self, status, responseHeaders, output)\u001b[0m\n\u001b[1;32m    175\u001b[0m         \u001b[0moutput\u001b[0m \u001b[0;34m=\u001b[0m \u001b[0mself\u001b[0m\u001b[0;34m.\u001b[0m\u001b[0m__structuredFromJson\u001b[0m\u001b[0;34m(\u001b[0m\u001b[0moutput\u001b[0m\u001b[0;34m)\u001b[0m\u001b[0;34m\u001b[0m\u001b[0m\n\u001b[1;32m    176\u001b[0m         \u001b[0;32mif\u001b[0m \u001b[0mstatus\u001b[0m \u001b[0;34m>=\u001b[0m \u001b[0;36m400\u001b[0m\u001b[0;34m:\u001b[0m\u001b[0;34m\u001b[0m\u001b[0m\n\u001b[0;32m--> 177\u001b[0;31m             \u001b[0;32mraise\u001b[0m \u001b[0mself\u001b[0m\u001b[0;34m.\u001b[0m\u001b[0m__createException\u001b[0m\u001b[0;34m(\u001b[0m\u001b[0mstatus\u001b[0m\u001b[0;34m,\u001b[0m \u001b[0mresponseHeaders\u001b[0m\u001b[0;34m,\u001b[0m \u001b[0moutput\u001b[0m\u001b[0;34m)\u001b[0m\u001b[0;34m\u001b[0m\u001b[0m\n\u001b[0m\u001b[1;32m    178\u001b[0m         \u001b[0;32mreturn\u001b[0m \u001b[0mresponseHeaders\u001b[0m\u001b[0;34m,\u001b[0m \u001b[0moutput\u001b[0m\u001b[0;34m\u001b[0m\u001b[0m\n\u001b[1;32m    179\u001b[0m \u001b[0;34m\u001b[0m\u001b[0m\n",
        "\u001b[0;31mGithubException\u001b[0m: 403 {u'documentation_url': u'https://developer.github.com/v3/#rate-limiting', u'message': u\"API rate limit exceeded for 74.50.51.32. (But here's the good news: Authenticated requests get a higher rate limit. Check out the documentation for more details.)\"}"
       ]
      }
     ],
     "prompt_number": 85
    },
    {
     "cell_type": "markdown",
     "metadata": {},
     "source": [
      "I'm having a problem with auth! Need to get myself loged in here. \n",
      "Needs better security for logging in. - SSH Key? - hash the password "
     ]
    },
    {
     "cell_type": "markdown",
     "metadata": {},
     "source": [
      "What to do with all the output i am geting from searching. appending it into a list. maybe turn to dict? Make a rest feed? \n"
     ]
    },
    {
     "cell_type": "code",
     "collapsed": false,
     "input": [
      "for blzgit in blehgit:\n",
      "    print blzgit.name"
     ],
     "language": "python",
     "metadata": {},
     "outputs": [
      {
       "output_type": "stream",
       "stream": "stdout",
       "text": [
        "reddit\n",
        "Reddit-Enhancement-Suite\n",
        "iReddit\n",
        "reddit-is-fun\n",
        "RedditSharp\n",
        "RedditJS\n",
        "reddit-i18n\n",
        "reddit_on_rails\n",
        "Reddit-Insight\n",
        "RedditKit\n",
        "reddit.tv\n",
        "RedReader\n",
        "praw\n",
        "jReddit\n",
        "redditfs\n",
        "reddit-analysis\n",
        "reddit-php-sdk\n",
        "Redditate\n",
        "cReddit\n",
        "reddit-top-2.5-million\n",
        "reddit-cloud\n",
        "RedditKit.rb\n",
        "flask_reddit\n",
        "reddit\n",
        "reddit-top\n",
        "AlienBlue\n",
        "jReddit\n",
        "reddit-sync-development\n",
        "reddit-api-client\n",
        "RubyRedditAPI\n",
        "reeddit\n",
        "snoo\n",
        "AutoModerator\n",
        "reddit-network-vis\n",
        "reddit-cli\n",
        "reddit\n",
        "Mostly-Harmless\n",
        "shine\n",
        "RedditImageGrab\n",
        "sublime-reddit\n",
        "Reddit-API\n",
        "reddit_scraper\n",
        "snudown\n",
        "bitcointip\n",
        "focus\n",
        "monitors\n",
        "RedditReader\n",
        "reddit-in-sinatra\n",
        "drum\n",
        "Mindashq.Reddit.Theme\n",
        "Naut-for-reddit\n",
        "redditp\n",
        "RedditWeather\n",
        "Reddit-Quick-Submit\n",
        "Edurne-CSS-Theme-for-Reddit\n",
        "redditron\n",
        "reddit-mode\n",
        "django-socialnews\n",
        "omniauth-reddit\n",
        "RedditAgain\n",
        "readdit\n",
        "redditvfs\n",
        "RedditBot\n",
        "RedditWeather\n",
        "OpenAnt\n",
        "push\n",
        "reddittweeter\n",
        "Reddit-Image-Scraper\n",
        "AlienFeed\n",
        "cortex\n",
        "redditexporter\n",
        "reddit-plugin-liveupdate\n",
        "reddit.clj\n",
        "altcointip\n",
        "reddit-plugin-about\n",
        "reddit\n",
        "reddit.js\n",
        "reddit_monitor\n",
        "RedditSaveTransfer\n",
        "reddit-hacks\n",
        "reddit\n",
        "redditedit\n",
        "metareddit\n",
        "reddit_irc\n",
        "node-reddit\n",
        "reddit\n",
        "reddit\n",
        "reddit\n",
        "reddit\n",
        "reddit\n",
        "Reddit\n",
        "reddit\n",
        "Reddit\n",
        "Reddit\n",
        "reddit\n",
        "reddit\n",
        "reddit\n",
        "reddit\n",
        "reddit\n",
        "reddit\n",
        "reddit\n",
        "reddit\n",
        "reddit\n",
        "reddit\n",
        "reddit\n",
        "reddit\n",
        "reddit\n",
        "reddit\n",
        "reddit\n",
        "reddit\n",
        "reddit\n",
        "reddit\n",
        "reddit\n",
        "reddit\n",
        "reddit\n",
        "reddit\n",
        "reddit\n",
        "reddit\n",
        "reddit\n",
        "reddit\n",
        "reddit\n",
        "reddit\n",
        "REDdit\n",
        "reddit\n",
        "reddit\n",
        "reddit\n",
        "reddit\n",
        "reddit\n",
        "Reddit\n",
        "reddit\n",
        "reddit\n",
        "Reddit\n",
        "reddit\n",
        "Reddit\n",
        "Reddit\n",
        "reddit\n",
        "reddit\n",
        "Reddit\n",
        "reddit\n",
        "reddit\n",
        "Reddit\n",
        "reddit\n",
        "reddit\n",
        "reddit\n",
        "reddit\n",
        "reddit\n",
        "reddit\n",
        "node-reddit\n",
        "reddit\n",
        "reddit\n",
        "reddit\n",
        "reddit\n",
        "reddit\n",
        "reddit\n",
        "reddit\n",
        "reddit\n",
        "reddit\n",
        "reddit\n",
        "reddit\n",
        "Reddit\n",
        "Reddit\n",
        "Reddit\n",
        "Reddit\n",
        "Reddit\n",
        "reddit\n",
        "reddit\n",
        "reddit\n",
        "reddit\n",
        "reddit\n",
        "reddit\n",
        "reddit\n",
        "reddit\n",
        "reddit\n",
        "reddit\n",
        "reddit\n",
        "reddit\n",
        "reddit\n",
        "Reddit\n",
        "Reddit\n",
        "reddit\n",
        "reddit\n",
        "reddit\n",
        "reddit\n",
        "reddit\n",
        "reddit\n",
        "reddit\n",
        "reddit\n",
        "reddit\n",
        "reddit\n",
        "reddit\n",
        "reddit\n",
        "reddit\n",
        "reddit\n",
        "reddit\n",
        "reddit\n",
        "reddit\n",
        "reddit\n",
        "reddit\n",
        "reddit\n",
        "reddit\n",
        "Reddit\n",
        "reddit\n",
        "Reddit\n",
        "socialite\n",
        "reddit-moderator-toolbox\n",
        "RedditVideos.bundle\n",
        "wdi_3_ruby_hw_activerecord_sinatra_reddit\n",
        "Boxed-css-theme-for-reddit\n",
        "ohlala\n",
        "handson-reddit\n",
        "redditmakesagame\n",
        "passport-reddit\n",
        "UbuntuPhoneRedditApp\n",
        "ember.js-dashboard\n",
        "reddit-clone\n",
        "Reddit.pm\n",
        "autowikibot-py\n",
        "Machine\n",
        "ui-comments\n",
        "twitter-bot\n",
        "redditbot_core\n",
        "Reddit-C--API\n",
        "reddit-plugin-adzerk\n",
        "Reddit-Free-Internet-Act\n",
        "ragechats\n",
        "share_counts\n",
        "alientube\n",
        "notreddit\n",
        "DailyProgrammer\n",
        "RedditWeather\n",
        "redditt\n",
        "redditplus\n",
        "rereddit\n",
        "redditmusicplayer\n",
        "redditbots\n",
        "redditscraper\n",
        "Reddit-Bots\n",
        "makeswordclouds\n",
        "reddit_comment_bot\n",
        "reddit-plugin-meatspace\n",
        "reddit-2.0\n",
        "DistributedRedditAnalyser\n",
        "Reddit-Rage-Faces\n",
        "backbone-reddit\n",
        "reddit_backbone\n",
        "RedditPortal\n",
        "HelloReddit\n",
        "reddit-river\n",
        "reddit-bots\n",
        "TweetPoster\n",
        "hreddit\n",
        "redditpaper\n",
        "redditmag\n",
        "reddits\n",
        "redditberry\n",
        "redditsw\n",
        "redditify\n",
        "redditp\n",
        "redditbot\n",
        "redditrecentcomments\n",
        "redditgrepclone\n",
        "redditpix\n",
        "Redditviewer\n",
        "redditgold\n",
        "redditmath\n",
        "reddittablegen\n",
        "redditbadges\n",
        "redditing\n",
        "redditish\n",
        "redditmon\n",
        "redditsd\n",
        "redditplayer\n",
        "redditwrap\n",
        "Redditor\n",
        "redditporn\n",
        "redditr\n",
        "redditchrome\n",
        "redditnflbot\n",
        "redditunes\n",
        "redditclone\n",
        "redditruby\n",
        "redditclone\n",
        "redditviewer\n",
        "redditwallpaper\n",
        "redditircbot\n",
        "redditclone\n",
        "redditr\n",
        "redditbackup\n",
        "redditlater\n",
        "Redditron\n",
        "redditposter\n",
        "reddithits\n",
        "redditapi\n",
        "redditapp\n",
        "redditvote\n",
        "redditviz\n",
        "Redditmon\n",
        "redditapiscript\n",
        "redditmvp\n",
        "redditeye\n",
        "redditbot"
       ]
      },
      {
       "output_type": "stream",
       "stream": "stdout",
       "text": [
        "\n",
        "redditbots\n",
        "redditunited\n",
        "redditaustin\n",
        "redditsearchengine\n",
        "redditparser\n",
        "redditnews\n",
        "redditclone\n",
        "redditwatch\n",
        "redditelly\n",
        "redditfaster\n",
        "redditpane\n",
        "redditps\n",
        "redditslideshow\n",
        "redditapi\n",
        "redditadvcal\n",
        "redditredux\n",
        "redditwordsapp\n",
        "redditpyproject\n",
        "redditpaper\n",
        "redditpy\n",
        "redditimager\n",
        "redditpics\n",
        "redditovermind\n",
        "redditor\n",
        "reddittracker\n",
        "redditfriendfinder\n",
        "redditstat\n",
        "redditistics\n",
        "redditail\n",
        "redditparser"
       ]
      },
      {
       "output_type": "stream",
       "stream": "stdout",
       "text": [
        "\n",
        "redditor\n",
        "redditure\n",
        "redditmap\n",
        "redditstats\n",
        "redditplus\n",
        "redditbar\n",
        "redditthreadcombobulator\n",
        "redditgiveaway\n",
        "redditss\n",
        "redditbot\n",
        "reddits\n",
        "redditwallpaperchanger\n",
        "redditmask\n",
        "redditbrowser\n",
        "redditclone\n",
        "redditclone\n",
        "redditface\n",
        "redditpicturegame\n",
        "redditwall\n",
        "redditclone\n",
        "redditjobs\n",
        "redditwunderground\n",
        "redditclone\n",
        "redditanalysis\n",
        "redditsito\n",
        "redditclient\n",
        "redditdailyprogrammer\n",
        "redditbot\n",
        "redditbingo\n",
        "redditviaemail"
       ]
      },
      {
       "output_type": "stream",
       "stream": "stdout",
       "text": [
        "\n",
        "redditnow\n",
        "Redditapi\n",
        "Redditmend\n",
        "redditpics\n",
        "REDDITFFA\n",
        "redditfeed\n",
        "redditcoin\n",
        "redditbetter\n",
        "redditalytics\n",
        "redditvis\n",
        "redditwatcher\n",
        "redditroll\n",
        "redditgithubproject\n",
        "reddited\n",
        "redditwebsockets\n",
        "Redditbot\n",
        "redditreader\n",
        "redditphotobot\n",
        "redditsaved\n",
        "redditclone\n",
        "redditspider\n",
        "redditsearcher\n",
        "redditfashion\n",
        "redditbot\n",
        "redditbot\n",
        "redditly\n",
        "redditwallgrab\n",
        "redditbots\n",
        "redditreader\n",
        "redditimages"
       ]
      },
      {
       "output_type": "stream",
       "stream": "stdout",
       "text": [
        "\n",
        "redditworld\n",
        "redditcss\n",
        "redditbrowser\n",
        "redditbots\n",
        "redditdailyprogrammer\n",
        "redditreader\n",
        "redditora\n",
        "redditcreep\n",
        "redditstalker\n",
        "redditfun\n",
        "redditdailyprogrammer\n",
        "redditcommenthistorysearch\n",
        "redditclone\n",
        "redditgifts\n",
        "redditomatic\n",
        "redditology\n",
        "redditgraph\n",
        "Redditbookmarks\n",
        "redditclone\n",
        "redditclone\n",
        "redditbot\n",
        "Reddits\n",
        "Redditjunk\n",
        "redditclient\n",
        "redditedit\n",
        "redditbots\n",
        "redditstats\n",
        "redditarchiver\n",
        "redditgfy\n",
        "redditoutloud"
       ]
      },
      {
       "output_type": "stream",
       "stream": "stdout",
       "text": [
        "\n",
        "redditchat\n",
        "reddittweeter\n",
        "redditscript\n",
        "redditext\n",
        "redditmash\n",
        "redditperl\n",
        "redditspider\n",
        "redditastic\n",
        "redditdownloader\n",
        "redditclone\n",
        "reddittail\n",
        "redditrss\n",
        "redditcoin\n",
        "redditkarma\n",
        "redditnewstracker\n",
        "redditpy\n",
        "redditsuction\n",
        "redditbot\n",
        "redditscraper\n",
        "redditbot\n",
        "redditlogger\n",
        "redditlog\n",
        "redditbots\n",
        "redditclone\n",
        "redditnames\n",
        "redditdespammer\n",
        "redditor\n",
        "Redditor\n",
        "android-reddit\n",
        "reddit-iama-bot"
       ]
      },
      {
       "output_type": "stream",
       "stream": "stdout",
       "text": [
        "\n",
        "FFFUU-Exception\n",
        "RedditCache\n",
        "RedditCache\n",
        "AnalyseReddit\n",
        "RedditCode\n",
        "fuel-reddit\n",
        "RedditApp\n",
        "RedditPHP\n",
        "Reddit-playlists\n",
        "reddit_sweep\n",
        "Reddit-Streambot\n",
        "RedditGUI\n",
        "RedditSearch\n",
        "reddit_reader\n",
        "reddit_pics\n",
        "Reddit-Zine\n",
        "RedditProfiler\n",
        "reddit_wallpaper\n",
        "supybot-Reddit-\n",
        "redditPoster\n",
        "reddit.js\n",
        "reddit.js\n",
        "Fallout-Reddit\n",
        "ext-reddit\n",
        "LazierReddit\n",
        "reddit_scraper\n",
        "reddit-clone\n",
        "RedditReader\n",
        "RedditGraph\n",
        "reddit_bot"
       ]
      },
      {
       "output_type": "stream",
       "stream": "stdout",
       "text": [
        "\n",
        "RedditPics\n",
        "reddit_thumbnails\n",
        "reddit-fun\n",
        "icenium-reddit\n",
        "reddit_achewood\n",
        "reddit_example\n",
        "RedditReader\n",
        "reddit-live\n",
        "redditAlien\n",
        "RedditChallenges\n",
        "RedditViewer\n",
        "reddit-sprites\n",
        "RedditScraper\n",
        "reddit-scraper\n",
        "RedditClone\n",
        "reddit-demo\n",
        "reddit-console\n",
        "redditChallenges\n",
        "reddit_clone\n",
        "reddit.coffee\n",
        "PyReddit\n",
        "reddit_playlist\n",
        "RedditClone\n",
        "Reddit-Clone\n",
        "Reddit-Jumpbar\n",
        "redditPull\n",
        "reddit-hd\n",
        "reddit-listentothis\n",
        "reddit-comments\n",
        "RedditReader"
       ]
      },
      {
       "output_type": "stream",
       "stream": "stdout",
       "text": [
        "\n",
        "RedditWallpaper\n",
        "iReddit\n",
        "RapidReddit\n",
        "csReddit\n",
        "Reddit-Markov\n",
        "Reddit-Election\n",
        "Reddit7\n",
        "RedditReader\n",
        "reddit-notify\n",
        "node-reddit\n",
        "fos-reddit\n",
        "RedditStalker\n",
        "redditHelper\n",
        "Reddit-Clone\n",
        "Reddit-Clone\n",
        "RedditClone\n",
        "Reddit-Mutilator\n",
        "reddit-rss\n",
        "Reddit-Clone\n",
        "ExtReddit\n",
        "reddit-scala\n",
        "twReddit\n",
        "reddit.js\n",
        "reddit-memebot\n",
        "reddit-clone\n",
        "mtv-reddit\n",
        "RedditWatch\n",
        "reddit-countdown\n",
        "reddit-scheduler\n",
        "RedditClone"
       ]
      },
      {
       "output_type": "stream",
       "stream": "stdout",
       "text": [
        "\n",
        "redditBirthday\n",
        "Reddit-Extension\n",
        "reddit-bg\n",
        "reddit-images\n",
        "LiveReddit\n",
        "YouReddit\n",
        "RedditMon\n",
        "reddit-image\n",
        "reddit_extension\n",
        "redditHelix\n",
        "RedditAndroid\n",
        "reddit-clone\n",
        "reddit_clone\n",
        "Reddit_Clone\n",
        "reddit-challenges\n",
        "RedditBot\n",
        "reddit_responder\n",
        "RedditLite\n",
        "reddit-modcard\n",
        "RedditDownloader\n",
        "simple-reddit\n",
        "redditBot\n",
        "reddit_clone\n",
        "RedditClone\n",
        "redditProject\n",
        "reddit-gae\n",
        "reddit_earthporn\n",
        "RedditComments\n",
        "jReddit\n",
        "nice-reddit"
       ]
      },
      {
       "ename": "GithubException",
       "evalue": "403 {u'documentation_url': u'https://developer.github.com/v3/#rate-limiting', u'message': u\"API rate limit exceeded for 74.50.51.32. (But here's the good news: Authenticated requests get a higher rate limit. Check out the documentation for more details.)\"}",
       "output_type": "pyerr",
       "traceback": [
        "\u001b[0;31m---------------------------------------------------------------------------\u001b[0m\n\u001b[0;31mGithubException\u001b[0m                           Traceback (most recent call last)",
        "\u001b[0;32m<ipython-input-87-05ee9106ce5e>\u001b[0m in \u001b[0;36m<module>\u001b[0;34m()\u001b[0m\n\u001b[0;32m----> 1\u001b[0;31m \u001b[0;32mfor\u001b[0m \u001b[0mblzgit\u001b[0m \u001b[0;32min\u001b[0m \u001b[0mblehgit\u001b[0m\u001b[0;34m:\u001b[0m\u001b[0;34m\u001b[0m\u001b[0m\n\u001b[0m\u001b[1;32m      2\u001b[0m     \u001b[0;32mprint\u001b[0m \u001b[0mblzgit\u001b[0m\u001b[0;34m.\u001b[0m\u001b[0mname\u001b[0m\u001b[0;34m\u001b[0m\u001b[0m\n",
        "\u001b[0;32m/usr/local/lib/python2.7/dist-packages/github/PaginatedList.pyc\u001b[0m in \u001b[0;36m__iter__\u001b[0;34m(self)\u001b[0m\n\u001b[1;32m     46\u001b[0m             \u001b[0;32myield\u001b[0m \u001b[0melement\u001b[0m\u001b[0;34m\u001b[0m\u001b[0m\n\u001b[1;32m     47\u001b[0m         \u001b[0;32mwhile\u001b[0m \u001b[0mself\u001b[0m\u001b[0;34m.\u001b[0m\u001b[0m_couldGrow\u001b[0m\u001b[0;34m(\u001b[0m\u001b[0;34m)\u001b[0m\u001b[0;34m:\u001b[0m\u001b[0;34m\u001b[0m\u001b[0m\n\u001b[0;32m---> 48\u001b[0;31m             \u001b[0mnewElements\u001b[0m \u001b[0;34m=\u001b[0m \u001b[0mself\u001b[0m\u001b[0;34m.\u001b[0m\u001b[0m_grow\u001b[0m\u001b[0;34m(\u001b[0m\u001b[0;34m)\u001b[0m\u001b[0;34m\u001b[0m\u001b[0m\n\u001b[0m\u001b[1;32m     49\u001b[0m             \u001b[0;32mfor\u001b[0m \u001b[0melement\u001b[0m \u001b[0;32min\u001b[0m \u001b[0mnewElements\u001b[0m\u001b[0;34m:\u001b[0m\u001b[0;34m\u001b[0m\u001b[0m\n\u001b[1;32m     50\u001b[0m                 \u001b[0;32myield\u001b[0m \u001b[0melement\u001b[0m\u001b[0;34m\u001b[0m\u001b[0m\n",
        "\u001b[0;32m/usr/local/lib/python2.7/dist-packages/github/PaginatedList.pyc\u001b[0m in \u001b[0;36m_grow\u001b[0;34m(self)\u001b[0m\n\u001b[1;32m     58\u001b[0m \u001b[0;34m\u001b[0m\u001b[0m\n\u001b[1;32m     59\u001b[0m     \u001b[0;32mdef\u001b[0m \u001b[0m_grow\u001b[0m\u001b[0;34m(\u001b[0m\u001b[0mself\u001b[0m\u001b[0;34m)\u001b[0m\u001b[0;34m:\u001b[0m\u001b[0;34m\u001b[0m\u001b[0m\n\u001b[0;32m---> 60\u001b[0;31m         \u001b[0mnewElements\u001b[0m \u001b[0;34m=\u001b[0m \u001b[0mself\u001b[0m\u001b[0;34m.\u001b[0m\u001b[0m_fetchNextPage\u001b[0m\u001b[0;34m(\u001b[0m\u001b[0;34m)\u001b[0m\u001b[0;34m\u001b[0m\u001b[0m\n\u001b[0m\u001b[1;32m     61\u001b[0m         \u001b[0mself\u001b[0m\u001b[0;34m.\u001b[0m\u001b[0m__elements\u001b[0m \u001b[0;34m+=\u001b[0m \u001b[0mnewElements\u001b[0m\u001b[0;34m\u001b[0m\u001b[0m\n\u001b[1;32m     62\u001b[0m         \u001b[0;32mreturn\u001b[0m \u001b[0mnewElements\u001b[0m\u001b[0;34m\u001b[0m\u001b[0m\n",
        "\u001b[0;32m/usr/local/lib/python2.7/dist-packages/github/PaginatedList.pyc\u001b[0m in \u001b[0;36m_fetchNextPage\u001b[0;34m(self)\u001b[0m\n\u001b[1;32m    156\u001b[0m             \u001b[0;34m\"GET\"\u001b[0m\u001b[0;34m,\u001b[0m\u001b[0;34m\u001b[0m\u001b[0m\n\u001b[1;32m    157\u001b[0m             \u001b[0mself\u001b[0m\u001b[0;34m.\u001b[0m\u001b[0m__nextUrl\u001b[0m\u001b[0;34m,\u001b[0m\u001b[0;34m\u001b[0m\u001b[0m\n\u001b[0;32m--> 158\u001b[0;31m             \u001b[0mparameters\u001b[0m\u001b[0;34m=\u001b[0m\u001b[0mself\u001b[0m\u001b[0;34m.\u001b[0m\u001b[0m__nextParams\u001b[0m\u001b[0;34m\u001b[0m\u001b[0m\n\u001b[0m\u001b[1;32m    159\u001b[0m         )\n\u001b[1;32m    160\u001b[0m \u001b[0;34m\u001b[0m\u001b[0m\n",
        "\u001b[0;32m/usr/local/lib/python2.7/dist-packages/github/Requester.pyc\u001b[0m in \u001b[0;36mrequestJsonAndCheck\u001b[0;34m(self, verb, url, parameters, headers, input, cnx)\u001b[0m\n\u001b[1;32m    167\u001b[0m \u001b[0;34m\u001b[0m\u001b[0m\n\u001b[1;32m    168\u001b[0m     \u001b[0;32mdef\u001b[0m \u001b[0mrequestJsonAndCheck\u001b[0m\u001b[0;34m(\u001b[0m\u001b[0mself\u001b[0m\u001b[0;34m,\u001b[0m \u001b[0mverb\u001b[0m\u001b[0;34m,\u001b[0m \u001b[0murl\u001b[0m\u001b[0;34m,\u001b[0m \u001b[0mparameters\u001b[0m\u001b[0;34m=\u001b[0m\u001b[0mNone\u001b[0m\u001b[0;34m,\u001b[0m \u001b[0mheaders\u001b[0m\u001b[0;34m=\u001b[0m\u001b[0mNone\u001b[0m\u001b[0;34m,\u001b[0m \u001b[0minput\u001b[0m\u001b[0;34m=\u001b[0m\u001b[0mNone\u001b[0m\u001b[0;34m,\u001b[0m \u001b[0mcnx\u001b[0m\u001b[0;34m=\u001b[0m\u001b[0mNone\u001b[0m\u001b[0;34m)\u001b[0m\u001b[0;34m:\u001b[0m\u001b[0;34m\u001b[0m\u001b[0m\n\u001b[0;32m--> 169\u001b[0;31m         \u001b[0;32mreturn\u001b[0m \u001b[0mself\u001b[0m\u001b[0;34m.\u001b[0m\u001b[0m__check\u001b[0m\u001b[0;34m(\u001b[0m\u001b[0;34m*\u001b[0m\u001b[0mself\u001b[0m\u001b[0;34m.\u001b[0m\u001b[0mrequestJson\u001b[0m\u001b[0;34m(\u001b[0m\u001b[0mverb\u001b[0m\u001b[0;34m,\u001b[0m \u001b[0murl\u001b[0m\u001b[0;34m,\u001b[0m \u001b[0mparameters\u001b[0m\u001b[0;34m,\u001b[0m \u001b[0mheaders\u001b[0m\u001b[0;34m,\u001b[0m \u001b[0minput\u001b[0m\u001b[0;34m,\u001b[0m \u001b[0mcnx\u001b[0m\u001b[0;34m)\u001b[0m\u001b[0;34m)\u001b[0m\u001b[0;34m\u001b[0m\u001b[0m\n\u001b[0m\u001b[1;32m    170\u001b[0m \u001b[0;34m\u001b[0m\u001b[0m\n\u001b[1;32m    171\u001b[0m     \u001b[0;32mdef\u001b[0m \u001b[0mrequestMultipartAndCheck\u001b[0m\u001b[0;34m(\u001b[0m\u001b[0mself\u001b[0m\u001b[0;34m,\u001b[0m \u001b[0mverb\u001b[0m\u001b[0;34m,\u001b[0m \u001b[0murl\u001b[0m\u001b[0;34m,\u001b[0m \u001b[0mparameters\u001b[0m\u001b[0;34m=\u001b[0m\u001b[0mNone\u001b[0m\u001b[0;34m,\u001b[0m \u001b[0mheaders\u001b[0m\u001b[0;34m=\u001b[0m\u001b[0mNone\u001b[0m\u001b[0;34m,\u001b[0m \u001b[0minput\u001b[0m\u001b[0;34m=\u001b[0m\u001b[0mNone\u001b[0m\u001b[0;34m)\u001b[0m\u001b[0;34m:\u001b[0m\u001b[0;34m\u001b[0m\u001b[0m\n",
        "\u001b[0;32m/usr/local/lib/python2.7/dist-packages/github/Requester.pyc\u001b[0m in \u001b[0;36m__check\u001b[0;34m(self, status, responseHeaders, output)\u001b[0m\n\u001b[1;32m    175\u001b[0m         \u001b[0moutput\u001b[0m \u001b[0;34m=\u001b[0m \u001b[0mself\u001b[0m\u001b[0;34m.\u001b[0m\u001b[0m__structuredFromJson\u001b[0m\u001b[0;34m(\u001b[0m\u001b[0moutput\u001b[0m\u001b[0;34m)\u001b[0m\u001b[0;34m\u001b[0m\u001b[0m\n\u001b[1;32m    176\u001b[0m         \u001b[0;32mif\u001b[0m \u001b[0mstatus\u001b[0m \u001b[0;34m>=\u001b[0m \u001b[0;36m400\u001b[0m\u001b[0;34m:\u001b[0m\u001b[0;34m\u001b[0m\u001b[0m\n\u001b[0;32m--> 177\u001b[0;31m             \u001b[0;32mraise\u001b[0m \u001b[0mself\u001b[0m\u001b[0;34m.\u001b[0m\u001b[0m__createException\u001b[0m\u001b[0;34m(\u001b[0m\u001b[0mstatus\u001b[0m\u001b[0;34m,\u001b[0m \u001b[0mresponseHeaders\u001b[0m\u001b[0;34m,\u001b[0m \u001b[0moutput\u001b[0m\u001b[0;34m)\u001b[0m\u001b[0;34m\u001b[0m\u001b[0m\n\u001b[0m\u001b[1;32m    178\u001b[0m         \u001b[0;32mreturn\u001b[0m \u001b[0mresponseHeaders\u001b[0m\u001b[0;34m,\u001b[0m \u001b[0moutput\u001b[0m\u001b[0;34m\u001b[0m\u001b[0m\n\u001b[1;32m    179\u001b[0m \u001b[0;34m\u001b[0m\u001b[0m\n",
        "\u001b[0;31mGithubException\u001b[0m: 403 {u'documentation_url': u'https://developer.github.com/v3/#rate-limiting', u'message': u\"API rate limit exceeded for 74.50.51.32. (But here's the good news: Authenticated requests get a higher rate limit. Check out the documentation for more details.)\"}"
       ]
      },
      {
       "output_type": "stream",
       "stream": "stdout",
       "text": [
        "\n",
        "RedditFPWAnalyzer\n",
        "RedditFlix\n",
        "reddit-dailyprogrammer\n",
        "RedditMention\n",
        "reddit_scraper\n",
        "youtube-reddit\n",
        "reddit-saved\n",
        "cwru-reddit\n",
        "CleanrReddit\n",
        "PirateReddit\n",
        "murmur-reddit\n",
        "Mobile-Reddit\n",
        "RedditBots\n",
        "Reddit-client\n",
        "proto-reddit\n",
        "Reddit-VM\n",
        "Reddit-Already\n",
        "reddit_bg\n",
        "RedditReader\n",
        "reddit-identifier\n",
        "Reddit-clone\n",
        "reddit-census\n",
        "reddit_upvote\n",
        "reddit_picture\n",
        "reddit_rabbithole\n",
        "reddit-recommender\n",
        "reddit-cleverbot\n",
        "Reddit-CLI\n",
        "reddit_client\n"
       ]
      }
     ],
     "prompt_number": 87
    },
    {
     "cell_type": "code",
     "collapsed": false,
     "input": [
      "print blehgit.totalCount"
     ],
     "language": "python",
     "metadata": {},
     "outputs": [
      {
       "output_type": "stream",
       "stream": "stdout",
       "text": [
        "3816\n"
       ]
      }
     ],
     "prompt_number": 75
    },
    {
     "cell_type": "code",
     "collapsed": false,
     "input": [
      "print typy.totalCount"
     ],
     "language": "python",
     "metadata": {},
     "outputs": [
      {
       "output_type": "stream",
       "stream": "stdout",
       "text": [
        "1\n"
       ]
      }
     ],
     "prompt_number": 28
    },
    {
     "cell_type": "code",
     "collapsed": false,
     "input": [
      "print typy\n"
     ],
     "language": "python",
     "metadata": {},
     "outputs": []
    },
    {
     "cell_type": "code",
     "collapsed": false,
     "input": [
      "gepy = g.get_organization('brobeur')"
     ],
     "language": "python",
     "metadata": {},
     "outputs": [],
     "prompt_number": 29
    },
    {
     "cell_type": "code",
     "collapsed": false,
     "input": [
      "gepy.email"
     ],
     "language": "python",
     "metadata": {},
     "outputs": [
      {
       "output_type": "pyout",
       "prompt_number": 30,
       "text": [
        "u'github@brobeur.com'"
       ]
      }
     ],
     "prompt_number": 30
    },
    {
     "cell_type": "code",
     "collapsed": false,
     "input": [
      "gepy.blog"
     ],
     "language": "python",
     "metadata": {},
     "outputs": [
      {
       "output_type": "pyout",
       "prompt_number": 31,
       "text": [
        "u'http://brobeur.com'"
       ]
      }
     ],
     "prompt_number": 31
    },
    {
     "cell_type": "code",
     "collapsed": false,
     "input": [
      "gepy.url"
     ],
     "language": "python",
     "metadata": {},
     "outputs": [
      {
       "output_type": "pyout",
       "prompt_number": 32,
       "text": [
        "u'https://api.github.com/orgs/brobeur'"
       ]
      }
     ],
     "prompt_number": 32
    },
    {
     "cell_type": "code",
     "collapsed": false,
     "input": [
      "gepy.created_at"
     ],
     "language": "python",
     "metadata": {},
     "outputs": [
      {
       "output_type": "pyout",
       "prompt_number": 38,
       "text": [
        "datetime.datetime(2013, 12, 18, 10, 23, 20)"
       ]
      }
     ],
     "prompt_number": 38
    },
    {
     "cell_type": "code",
     "collapsed": false,
     "input": [
      "brorepo.totalCount()"
     ],
     "language": "python",
     "metadata": {},
     "outputs": [
      {
       "ename": "AttributeError",
       "evalue": "'NoneType' object has no attribute 'startswith'",
       "output_type": "pyerr",
       "traceback": [
        "\u001b[0;31m---------------------------------------------------------------------------\u001b[0m\n\u001b[0;31mAttributeError\u001b[0m                            Traceback (most recent call last)",
        "\u001b[0;32m<ipython-input-44-c956f46f08b9>\u001b[0m in \u001b[0;36m<module>\u001b[0;34m()\u001b[0m\n\u001b[0;32m----> 1\u001b[0;31m \u001b[0mbrorepo\u001b[0m\u001b[0;34m.\u001b[0m\u001b[0mtotalCount\u001b[0m\u001b[0;34m(\u001b[0m\u001b[0;34m)\u001b[0m\u001b[0;34m\u001b[0m\u001b[0m\n\u001b[0m",
        "\u001b[0;32m/usr/local/lib/python2.7/dist-packages/github/PaginatedList.pyc\u001b[0m in \u001b[0;36mtotalCount\u001b[0;34m(self)\u001b[0m\n\u001b[1;32m    123\u001b[0m     \u001b[0;32mdef\u001b[0m \u001b[0mtotalCount\u001b[0m\u001b[0;34m(\u001b[0m\u001b[0mself\u001b[0m\u001b[0;34m)\u001b[0m\u001b[0;34m:\u001b[0m\u001b[0;34m\u001b[0m\u001b[0m\n\u001b[1;32m    124\u001b[0m         \u001b[0;32mif\u001b[0m \u001b[0;32mnot\u001b[0m \u001b[0mself\u001b[0m\u001b[0;34m.\u001b[0m\u001b[0m__totalCount\u001b[0m\u001b[0;34m:\u001b[0m\u001b[0;34m\u001b[0m\u001b[0m\n\u001b[0;32m--> 125\u001b[0;31m             \u001b[0mself\u001b[0m\u001b[0;34m.\u001b[0m\u001b[0m_grow\u001b[0m\u001b[0;34m(\u001b[0m\u001b[0;34m)\u001b[0m\u001b[0;34m\u001b[0m\u001b[0m\n\u001b[0m\u001b[1;32m    126\u001b[0m \u001b[0;34m\u001b[0m\u001b[0m\n\u001b[1;32m    127\u001b[0m         \u001b[0;32mreturn\u001b[0m \u001b[0mself\u001b[0m\u001b[0;34m.\u001b[0m\u001b[0m__totalCount\u001b[0m\u001b[0;34m\u001b[0m\u001b[0m\n",
        "\u001b[0;32m/usr/local/lib/python2.7/dist-packages/github/PaginatedList.pyc\u001b[0m in \u001b[0;36m_grow\u001b[0;34m(self)\u001b[0m\n\u001b[1;32m     58\u001b[0m \u001b[0;34m\u001b[0m\u001b[0m\n\u001b[1;32m     59\u001b[0m     \u001b[0;32mdef\u001b[0m \u001b[0m_grow\u001b[0m\u001b[0;34m(\u001b[0m\u001b[0mself\u001b[0m\u001b[0;34m)\u001b[0m\u001b[0;34m:\u001b[0m\u001b[0;34m\u001b[0m\u001b[0m\n\u001b[0;32m---> 60\u001b[0;31m         \u001b[0mnewElements\u001b[0m \u001b[0;34m=\u001b[0m \u001b[0mself\u001b[0m\u001b[0;34m.\u001b[0m\u001b[0m_fetchNextPage\u001b[0m\u001b[0;34m(\u001b[0m\u001b[0;34m)\u001b[0m\u001b[0;34m\u001b[0m\u001b[0m\n\u001b[0m\u001b[1;32m     61\u001b[0m         \u001b[0mself\u001b[0m\u001b[0;34m.\u001b[0m\u001b[0m__elements\u001b[0m \u001b[0;34m+=\u001b[0m \u001b[0mnewElements\u001b[0m\u001b[0;34m\u001b[0m\u001b[0m\n\u001b[1;32m     62\u001b[0m         \u001b[0;32mreturn\u001b[0m \u001b[0mnewElements\u001b[0m\u001b[0;34m\u001b[0m\u001b[0m\n",
        "\u001b[0;32m/usr/local/lib/python2.7/dist-packages/github/PaginatedList.pyc\u001b[0m in \u001b[0;36m_fetchNextPage\u001b[0;34m(self)\u001b[0m\n\u001b[1;32m    156\u001b[0m             \u001b[0;34m\"GET\"\u001b[0m\u001b[0;34m,\u001b[0m\u001b[0;34m\u001b[0m\u001b[0m\n\u001b[1;32m    157\u001b[0m             \u001b[0mself\u001b[0m\u001b[0;34m.\u001b[0m\u001b[0m__nextUrl\u001b[0m\u001b[0;34m,\u001b[0m\u001b[0;34m\u001b[0m\u001b[0m\n\u001b[0;32m--> 158\u001b[0;31m             \u001b[0mparameters\u001b[0m\u001b[0;34m=\u001b[0m\u001b[0mself\u001b[0m\u001b[0;34m.\u001b[0m\u001b[0m__nextParams\u001b[0m\u001b[0;34m\u001b[0m\u001b[0m\n\u001b[0m\u001b[1;32m    159\u001b[0m         )\n\u001b[1;32m    160\u001b[0m \u001b[0;34m\u001b[0m\u001b[0m\n",
        "\u001b[0;32m/usr/local/lib/python2.7/dist-packages/github/Requester.pyc\u001b[0m in \u001b[0;36mrequestJsonAndCheck\u001b[0;34m(self, verb, url, parameters, headers, input, cnx)\u001b[0m\n\u001b[1;32m    167\u001b[0m \u001b[0;34m\u001b[0m\u001b[0m\n\u001b[1;32m    168\u001b[0m     \u001b[0;32mdef\u001b[0m \u001b[0mrequestJsonAndCheck\u001b[0m\u001b[0;34m(\u001b[0m\u001b[0mself\u001b[0m\u001b[0;34m,\u001b[0m \u001b[0mverb\u001b[0m\u001b[0;34m,\u001b[0m \u001b[0murl\u001b[0m\u001b[0;34m,\u001b[0m \u001b[0mparameters\u001b[0m\u001b[0;34m=\u001b[0m\u001b[0mNone\u001b[0m\u001b[0;34m,\u001b[0m \u001b[0mheaders\u001b[0m\u001b[0;34m=\u001b[0m\u001b[0mNone\u001b[0m\u001b[0;34m,\u001b[0m \u001b[0minput\u001b[0m\u001b[0;34m=\u001b[0m\u001b[0mNone\u001b[0m\u001b[0;34m,\u001b[0m \u001b[0mcnx\u001b[0m\u001b[0;34m=\u001b[0m\u001b[0mNone\u001b[0m\u001b[0;34m)\u001b[0m\u001b[0;34m:\u001b[0m\u001b[0;34m\u001b[0m\u001b[0m\n\u001b[0;32m--> 169\u001b[0;31m         \u001b[0;32mreturn\u001b[0m \u001b[0mself\u001b[0m\u001b[0;34m.\u001b[0m\u001b[0m__check\u001b[0m\u001b[0;34m(\u001b[0m\u001b[0;34m*\u001b[0m\u001b[0mself\u001b[0m\u001b[0;34m.\u001b[0m\u001b[0mrequestJson\u001b[0m\u001b[0;34m(\u001b[0m\u001b[0mverb\u001b[0m\u001b[0;34m,\u001b[0m \u001b[0murl\u001b[0m\u001b[0;34m,\u001b[0m \u001b[0mparameters\u001b[0m\u001b[0;34m,\u001b[0m \u001b[0mheaders\u001b[0m\u001b[0;34m,\u001b[0m \u001b[0minput\u001b[0m\u001b[0;34m,\u001b[0m \u001b[0mcnx\u001b[0m\u001b[0;34m)\u001b[0m\u001b[0;34m)\u001b[0m\u001b[0;34m\u001b[0m\u001b[0m\n\u001b[0m\u001b[1;32m    170\u001b[0m \u001b[0;34m\u001b[0m\u001b[0m\n\u001b[1;32m    171\u001b[0m     \u001b[0;32mdef\u001b[0m \u001b[0mrequestMultipartAndCheck\u001b[0m\u001b[0;34m(\u001b[0m\u001b[0mself\u001b[0m\u001b[0;34m,\u001b[0m \u001b[0mverb\u001b[0m\u001b[0;34m,\u001b[0m \u001b[0murl\u001b[0m\u001b[0;34m,\u001b[0m \u001b[0mparameters\u001b[0m\u001b[0;34m=\u001b[0m\u001b[0mNone\u001b[0m\u001b[0;34m,\u001b[0m \u001b[0mheaders\u001b[0m\u001b[0;34m=\u001b[0m\u001b[0mNone\u001b[0m\u001b[0;34m,\u001b[0m \u001b[0minput\u001b[0m\u001b[0;34m=\u001b[0m\u001b[0mNone\u001b[0m\u001b[0;34m)\u001b[0m\u001b[0;34m:\u001b[0m\u001b[0;34m\u001b[0m\u001b[0m\n",
        "\u001b[0;32m/usr/local/lib/python2.7/dist-packages/github/Requester.pyc\u001b[0m in \u001b[0;36mrequestJson\u001b[0;34m(self, verb, url, parameters, headers, input, cnx)\u001b[0m\n\u001b[1;32m    208\u001b[0m             \u001b[0;32mreturn\u001b[0m \u001b[0;34m\"application/json\"\u001b[0m\u001b[0;34m,\u001b[0m \u001b[0mjson\u001b[0m\u001b[0;34m.\u001b[0m\u001b[0mdumps\u001b[0m\u001b[0;34m(\u001b[0m\u001b[0minput\u001b[0m\u001b[0;34m)\u001b[0m\u001b[0;34m\u001b[0m\u001b[0m\n\u001b[1;32m    209\u001b[0m \u001b[0;34m\u001b[0m\u001b[0m\n\u001b[0;32m--> 210\u001b[0;31m         \u001b[0;32mreturn\u001b[0m \u001b[0mself\u001b[0m\u001b[0;34m.\u001b[0m\u001b[0m__requestEncode\u001b[0m\u001b[0;34m(\u001b[0m\u001b[0mcnx\u001b[0m\u001b[0;34m,\u001b[0m \u001b[0mverb\u001b[0m\u001b[0;34m,\u001b[0m \u001b[0murl\u001b[0m\u001b[0;34m,\u001b[0m \u001b[0mparameters\u001b[0m\u001b[0;34m,\u001b[0m \u001b[0mheaders\u001b[0m\u001b[0;34m,\u001b[0m \u001b[0minput\u001b[0m\u001b[0;34m,\u001b[0m \u001b[0mencode\u001b[0m\u001b[0;34m)\u001b[0m\u001b[0;34m\u001b[0m\u001b[0m\n\u001b[0m\u001b[1;32m    211\u001b[0m \u001b[0;34m\u001b[0m\u001b[0m\n\u001b[1;32m    212\u001b[0m     \u001b[0;32mdef\u001b[0m \u001b[0mrequestMultipart\u001b[0m\u001b[0;34m(\u001b[0m\u001b[0mself\u001b[0m\u001b[0;34m,\u001b[0m \u001b[0mverb\u001b[0m\u001b[0;34m,\u001b[0m \u001b[0murl\u001b[0m\u001b[0;34m,\u001b[0m \u001b[0mparameters\u001b[0m\u001b[0;34m=\u001b[0m\u001b[0mNone\u001b[0m\u001b[0;34m,\u001b[0m \u001b[0mheaders\u001b[0m\u001b[0;34m=\u001b[0m\u001b[0mNone\u001b[0m\u001b[0;34m,\u001b[0m \u001b[0minput\u001b[0m\u001b[0;34m=\u001b[0m\u001b[0mNone\u001b[0m\u001b[0;34m)\u001b[0m\u001b[0;34m:\u001b[0m\u001b[0;34m\u001b[0m\u001b[0m\n",
        "\u001b[0;32m/usr/local/lib/python2.7/dist-packages/github/Requester.pyc\u001b[0m in \u001b[0;36m__requestEncode\u001b[0;34m(self, cnx, verb, url, parameters, requestHeaders, input, encode)\u001b[0m\n\u001b[1;32m    236\u001b[0m         \u001b[0mrequestHeaders\u001b[0m\u001b[0;34m[\u001b[0m\u001b[0;34m\"User-Agent\"\u001b[0m\u001b[0;34m]\u001b[0m \u001b[0;34m=\u001b[0m \u001b[0mself\u001b[0m\u001b[0;34m.\u001b[0m\u001b[0m__userAgent\u001b[0m\u001b[0;34m\u001b[0m\u001b[0m\n\u001b[1;32m    237\u001b[0m \u001b[0;34m\u001b[0m\u001b[0m\n\u001b[0;32m--> 238\u001b[0;31m         \u001b[0murl\u001b[0m \u001b[0;34m=\u001b[0m \u001b[0mself\u001b[0m\u001b[0;34m.\u001b[0m\u001b[0m__makeAbsoluteUrl\u001b[0m\u001b[0;34m(\u001b[0m\u001b[0murl\u001b[0m\u001b[0;34m)\u001b[0m\u001b[0;34m\u001b[0m\u001b[0m\n\u001b[0m\u001b[1;32m    239\u001b[0m         \u001b[0murl\u001b[0m \u001b[0;34m=\u001b[0m \u001b[0mself\u001b[0m\u001b[0;34m.\u001b[0m\u001b[0m__addParametersToUrl\u001b[0m\u001b[0;34m(\u001b[0m\u001b[0murl\u001b[0m\u001b[0;34m,\u001b[0m \u001b[0mparameters\u001b[0m\u001b[0;34m)\u001b[0m\u001b[0;34m\u001b[0m\u001b[0m\n\u001b[1;32m    240\u001b[0m \u001b[0;34m\u001b[0m\u001b[0m\n",
        "\u001b[0;32m/usr/local/lib/python2.7/dist-packages/github/Requester.pyc\u001b[0m in \u001b[0;36m__makeAbsoluteUrl\u001b[0;34m(self, url)\u001b[0m\n\u001b[1;32m    293\u001b[0m         \u001b[0;31m# URLs generated locally will be relative to __base_url\u001b[0m\u001b[0;34m\u001b[0m\u001b[0;34m\u001b[0m\u001b[0m\n\u001b[1;32m    294\u001b[0m         \u001b[0;31m# URLs returned from the server will start with __base_url\u001b[0m\u001b[0;34m\u001b[0m\u001b[0;34m\u001b[0m\u001b[0m\n\u001b[0;32m--> 295\u001b[0;31m         \u001b[0;32mif\u001b[0m \u001b[0murl\u001b[0m\u001b[0;34m.\u001b[0m\u001b[0mstartswith\u001b[0m\u001b[0;34m(\u001b[0m\u001b[0;34m\"/\"\u001b[0m\u001b[0;34m)\u001b[0m\u001b[0;34m:\u001b[0m\u001b[0;34m\u001b[0m\u001b[0m\n\u001b[0m\u001b[1;32m    296\u001b[0m             \u001b[0murl\u001b[0m \u001b[0;34m=\u001b[0m \u001b[0mself\u001b[0m\u001b[0;34m.\u001b[0m\u001b[0m__prefix\u001b[0m \u001b[0;34m+\u001b[0m \u001b[0murl\u001b[0m\u001b[0;34m\u001b[0m\u001b[0m\n\u001b[1;32m    297\u001b[0m         \u001b[0;32melse\u001b[0m\u001b[0;34m:\u001b[0m\u001b[0;34m\u001b[0m\u001b[0m\n",
        "\u001b[0;31mAttributeError\u001b[0m: 'NoneType' object has no attribute 'startswith'"
       ]
      }
     ],
     "prompt_number": 44
    },
    {
     "cell_type": "code",
     "collapsed": false,
     "input": [
      "gepy.public_repos"
     ],
     "language": "python",
     "metadata": {},
     "outputs": [
      {
       "output_type": "pyout",
       "prompt_number": 53,
       "text": [
        "12"
       ]
      }
     ],
     "prompt_number": 53
    },
    {
     "cell_type": "code",
     "collapsed": false,
     "input": [
      "gepic = gepy.avatar_url"
     ],
     "language": "python",
     "metadata": {},
     "outputs": [],
     "prompt_number": 58
    },
    {
     "cell_type": "code",
     "collapsed": false,
     "input": [
      "gepic"
     ],
     "language": "python",
     "metadata": {},
     "outputs": [
      {
       "output_type": "pyout",
       "prompt_number": 60,
       "text": [
        "u'https://avatars.githubusercontent.com/u/6213519?'"
       ]
      }
     ],
     "prompt_number": 60
    },
    {
     "cell_type": "code",
     "collapsed": false,
     "input": [
      "gepy.type"
     ],
     "language": "python",
     "metadata": {},
     "outputs": [
      {
       "output_type": "pyout",
       "prompt_number": 61,
       "text": [
        "u'Organization'"
       ]
      }
     ],
     "prompt_number": 61
    },
    {
     "cell_type": "code",
     "collapsed": false,
     "input": [
      "from IPython.core.display import Image \n",
      "Image(filename='test.png') "
     ],
     "language": "python",
     "metadata": {},
     "outputs": [
      {
       "ename": "IOError",
       "evalue": "[Errno 2] No such file or directory: u'test.png'",
       "output_type": "pyerr",
       "traceback": [
        "\u001b[0;31m---------------------------------------------------------------------------\u001b[0m\n\u001b[0;31mIOError\u001b[0m                                   Traceback (most recent call last)",
        "\u001b[0;32m<ipython-input-57-7575aea083b0>\u001b[0m in \u001b[0;36m<module>\u001b[0;34m()\u001b[0m\n\u001b[1;32m      1\u001b[0m \u001b[0;32mfrom\u001b[0m \u001b[0mIPython\u001b[0m\u001b[0;34m.\u001b[0m\u001b[0mcore\u001b[0m\u001b[0;34m.\u001b[0m\u001b[0mdisplay\u001b[0m \u001b[0;32mimport\u001b[0m \u001b[0mImage\u001b[0m\u001b[0;34m\u001b[0m\u001b[0m\n\u001b[0;32m----> 2\u001b[0;31m \u001b[0mImage\u001b[0m\u001b[0;34m(\u001b[0m\u001b[0mfilename\u001b[0m\u001b[0;34m=\u001b[0m\u001b[0;34m'test.png'\u001b[0m\u001b[0;34m)\u001b[0m\u001b[0;34m\u001b[0m\u001b[0m\n\u001b[0m",
        "\u001b[0;32m/usr/lib/python2.7/dist-packages/IPython/core/display.pyc\u001b[0m in \u001b[0;36m__init__\u001b[0;34m(self, data, url, filename, format, embed)\u001b[0m\n\u001b[1;32m    478\u001b[0m         \u001b[0mself\u001b[0m\u001b[0;34m.\u001b[0m\u001b[0mformat\u001b[0m \u001b[0;34m=\u001b[0m \u001b[0municode\u001b[0m\u001b[0;34m(\u001b[0m\u001b[0mformat\u001b[0m\u001b[0;34m)\u001b[0m\u001b[0;34m.\u001b[0m\u001b[0mlower\u001b[0m\u001b[0;34m(\u001b[0m\u001b[0;34m)\u001b[0m\u001b[0;34m\u001b[0m\u001b[0m\n\u001b[1;32m    479\u001b[0m         \u001b[0mself\u001b[0m\u001b[0;34m.\u001b[0m\u001b[0membed\u001b[0m \u001b[0;34m=\u001b[0m \u001b[0membed\u001b[0m \u001b[0;32mif\u001b[0m \u001b[0membed\u001b[0m \u001b[0;32mis\u001b[0m \u001b[0;32mnot\u001b[0m \u001b[0mNone\u001b[0m \u001b[0;32melse\u001b[0m \u001b[0;34m(\u001b[0m\u001b[0murl\u001b[0m \u001b[0;32mis\u001b[0m \u001b[0mNone\u001b[0m\u001b[0;34m)\u001b[0m\u001b[0;34m\u001b[0m\u001b[0m\n\u001b[0;32m--> 480\u001b[0;31m         \u001b[0msuper\u001b[0m\u001b[0;34m(\u001b[0m\u001b[0mImage\u001b[0m\u001b[0;34m,\u001b[0m \u001b[0mself\u001b[0m\u001b[0;34m)\u001b[0m\u001b[0;34m.\u001b[0m\u001b[0m__init__\u001b[0m\u001b[0;34m(\u001b[0m\u001b[0mdata\u001b[0m\u001b[0;34m=\u001b[0m\u001b[0mdata\u001b[0m\u001b[0;34m,\u001b[0m \u001b[0murl\u001b[0m\u001b[0;34m=\u001b[0m\u001b[0murl\u001b[0m\u001b[0;34m,\u001b[0m \u001b[0mfilename\u001b[0m\u001b[0;34m=\u001b[0m\u001b[0mfilename\u001b[0m\u001b[0;34m)\u001b[0m\u001b[0;34m\u001b[0m\u001b[0m\n\u001b[0m\u001b[1;32m    481\u001b[0m \u001b[0;34m\u001b[0m\u001b[0m\n\u001b[1;32m    482\u001b[0m     \u001b[0;32mdef\u001b[0m \u001b[0mreload\u001b[0m\u001b[0;34m(\u001b[0m\u001b[0mself\u001b[0m\u001b[0;34m)\u001b[0m\u001b[0;34m:\u001b[0m\u001b[0;34m\u001b[0m\u001b[0m\n",
        "\u001b[0;32m/usr/lib/python2.7/dist-packages/IPython/core/display.pyc\u001b[0m in \u001b[0;36m__init__\u001b[0;34m(self, data, url, filename)\u001b[0m\n\u001b[1;32m    263\u001b[0m             \u001b[0mself\u001b[0m\u001b[0;34m.\u001b[0m\u001b[0murl\u001b[0m \u001b[0;34m=\u001b[0m \u001b[0murl\u001b[0m\u001b[0;34m\u001b[0m\u001b[0m\n\u001b[1;32m    264\u001b[0m             \u001b[0mself\u001b[0m\u001b[0;34m.\u001b[0m\u001b[0mfilename\u001b[0m \u001b[0;34m=\u001b[0m \u001b[0mNone\u001b[0m \u001b[0;32mif\u001b[0m \u001b[0mfilename\u001b[0m \u001b[0;32mis\u001b[0m \u001b[0mNone\u001b[0m \u001b[0;32melse\u001b[0m \u001b[0municode\u001b[0m\u001b[0;34m(\u001b[0m\u001b[0mfilename\u001b[0m\u001b[0;34m)\u001b[0m\u001b[0;34m\u001b[0m\u001b[0m\n\u001b[0;32m--> 265\u001b[0;31m         \u001b[0mself\u001b[0m\u001b[0;34m.\u001b[0m\u001b[0mreload\u001b[0m\u001b[0;34m(\u001b[0m\u001b[0;34m)\u001b[0m\u001b[0;34m\u001b[0m\u001b[0m\n\u001b[0m\u001b[1;32m    266\u001b[0m \u001b[0;34m\u001b[0m\u001b[0m\n\u001b[1;32m    267\u001b[0m     \u001b[0;32mdef\u001b[0m \u001b[0mreload\u001b[0m\u001b[0;34m(\u001b[0m\u001b[0mself\u001b[0m\u001b[0;34m)\u001b[0m\u001b[0;34m:\u001b[0m\u001b[0;34m\u001b[0m\u001b[0m\n",
        "\u001b[0;32m/usr/lib/python2.7/dist-packages/IPython/core/display.pyc\u001b[0m in \u001b[0;36mreload\u001b[0;34m(self)\u001b[0m\n\u001b[1;32m    483\u001b[0m         \u001b[0;34m\"\"\"Reload the raw data from file or URL.\"\"\"\u001b[0m\u001b[0;34m\u001b[0m\u001b[0m\n\u001b[1;32m    484\u001b[0m         \u001b[0;32mif\u001b[0m \u001b[0mself\u001b[0m\u001b[0;34m.\u001b[0m\u001b[0membed\u001b[0m\u001b[0;34m:\u001b[0m\u001b[0;34m\u001b[0m\u001b[0m\n\u001b[0;32m--> 485\u001b[0;31m             \u001b[0msuper\u001b[0m\u001b[0;34m(\u001b[0m\u001b[0mImage\u001b[0m\u001b[0;34m,\u001b[0m\u001b[0mself\u001b[0m\u001b[0;34m)\u001b[0m\u001b[0;34m.\u001b[0m\u001b[0mreload\u001b[0m\u001b[0;34m(\u001b[0m\u001b[0;34m)\u001b[0m\u001b[0;34m\u001b[0m\u001b[0m\n\u001b[0m\u001b[1;32m    486\u001b[0m \u001b[0;34m\u001b[0m\u001b[0m\n\u001b[1;32m    487\u001b[0m     \u001b[0;32mdef\u001b[0m \u001b[0m_repr_html_\u001b[0m\u001b[0;34m(\u001b[0m\u001b[0mself\u001b[0m\u001b[0;34m)\u001b[0m\u001b[0;34m:\u001b[0m\u001b[0;34m\u001b[0m\u001b[0m\n",
        "\u001b[0;32m/usr/lib/python2.7/dist-packages/IPython/core/display.pyc\u001b[0m in \u001b[0;36mreload\u001b[0;34m(self)\u001b[0m\n\u001b[1;32m    268\u001b[0m         \u001b[0;34m\"\"\"Reload the raw data from file or URL.\"\"\"\u001b[0m\u001b[0;34m\u001b[0m\u001b[0m\n\u001b[1;32m    269\u001b[0m         \u001b[0;32mif\u001b[0m \u001b[0mself\u001b[0m\u001b[0;34m.\u001b[0m\u001b[0mfilename\u001b[0m \u001b[0;32mis\u001b[0m \u001b[0;32mnot\u001b[0m \u001b[0mNone\u001b[0m\u001b[0;34m:\u001b[0m\u001b[0;34m\u001b[0m\u001b[0m\n\u001b[0;32m--> 270\u001b[0;31m             \u001b[0;32mwith\u001b[0m \u001b[0mopen\u001b[0m\u001b[0;34m(\u001b[0m\u001b[0mself\u001b[0m\u001b[0;34m.\u001b[0m\u001b[0mfilename\u001b[0m\u001b[0;34m,\u001b[0m \u001b[0mself\u001b[0m\u001b[0;34m.\u001b[0m\u001b[0m_read_flags\u001b[0m\u001b[0;34m)\u001b[0m \u001b[0;32mas\u001b[0m \u001b[0mf\u001b[0m\u001b[0;34m:\u001b[0m\u001b[0;34m\u001b[0m\u001b[0m\n\u001b[0m\u001b[1;32m    271\u001b[0m                 \u001b[0mself\u001b[0m\u001b[0;34m.\u001b[0m\u001b[0mdata\u001b[0m \u001b[0;34m=\u001b[0m \u001b[0mf\u001b[0m\u001b[0;34m.\u001b[0m\u001b[0mread\u001b[0m\u001b[0;34m(\u001b[0m\u001b[0;34m)\u001b[0m\u001b[0;34m\u001b[0m\u001b[0m\n\u001b[1;32m    272\u001b[0m         \u001b[0;32melif\u001b[0m \u001b[0mself\u001b[0m\u001b[0;34m.\u001b[0m\u001b[0murl\u001b[0m \u001b[0;32mis\u001b[0m \u001b[0;32mnot\u001b[0m \u001b[0mNone\u001b[0m\u001b[0;34m:\u001b[0m\u001b[0;34m\u001b[0m\u001b[0m\n",
        "\u001b[0;31mIOError\u001b[0m: [Errno 2] No such file or directory: u'test.png'"
       ]
      }
     ],
     "prompt_number": 57
    },
    {
     "cell_type": "code",
     "collapsed": false,
     "input": [
      "gepy.raw_data"
     ],
     "language": "python",
     "metadata": {},
     "outputs": [
      {
       "output_type": "pyout",
       "prompt_number": 56,
       "text": [
        "{u'avatar_url': u'https://avatars.githubusercontent.com/u/6213519?',\n",
        " u'blog': u'http://brobeur.com',\n",
        " u'company': None,\n",
        " u'created_at': u'2013-12-18T10:23:20Z',\n",
        " u'email': u'github@brobeur.com',\n",
        " u'events_url': u'https://api.github.com/orgs/brobeur/events',\n",
        " u'followers': 0,\n",
        " u'following': 0,\n",
        " u'html_url': u'https://github.com/brobeur',\n",
        " u'id': 6213519,\n",
        " u'location': u'Hamilton, New Zealand',\n",
        " u'login': u'brobeur',\n",
        " u'members_url': u'https://api.github.com/orgs/brobeur/members{/member}',\n",
        " u'name': u'BroBeur Studios',\n",
        " u'public_gists': 0,\n",
        " u'public_members_url': u'https://api.github.com/orgs/brobeur/public_members{/member}',\n",
        " u'public_repos': 12,\n",
        " u'repos_url': u'https://api.github.com/orgs/brobeur/repos',\n",
        " u'type': u'Organization',\n",
        " u'updated_at': u'2014-04-21T23:34:26Z',\n",
        " u'url': u'https://api.github.com/orgs/brobeur'}"
       ]
      }
     ],
     "prompt_number": 56
    },
    {
     "cell_type": "code",
     "collapsed": false,
     "input": [
      "print alrepo"
     ],
     "language": "python",
     "metadata": {},
     "outputs": [
      {
       "output_type": "stream",
       "stream": "stdout",
       "text": [
        "https://api.github.com/orgs/brobeur/repos\n"
       ]
      }
     ],
     "prompt_number": 50
    },
    {
     "cell_type": "code",
     "collapsed": false,
     "input": [
      "brorepo = gepy.get_repo('linux')"
     ],
     "language": "python",
     "metadata": {},
     "outputs": [],
     "prompt_number": 47
    },
    {
     "cell_type": "code",
     "collapsed": false,
     "input": [
      "brorepo.size"
     ],
     "language": "python",
     "metadata": {},
     "outputs": [
      {
       "output_type": "pyout",
       "prompt_number": 48,
       "text": [
        "2520"
       ]
      }
     ],
     "prompt_number": 48
    },
    {
     "cell_type": "code",
     "collapsed": false,
     "input": [
      "gepy.get_public_members()"
     ],
     "language": "python",
     "metadata": {},
     "outputs": [
      {
       "output_type": "pyout",
       "prompt_number": 35,
       "text": [
        "<github.PaginatedList.PaginatedList instance at 0x15f2638>"
       ]
      }
     ],
     "prompt_number": 35
    },
    {
     "cell_type": "code",
     "collapsed": false,
     "input": [],
     "language": "python",
     "metadata": {},
     "outputs": []
    },
    {
     "cell_type": "code",
     "collapsed": false,
     "input": [
      "gepy.location"
     ],
     "language": "python",
     "metadata": {},
     "outputs": [
      {
       "output_type": "pyout",
       "prompt_number": 33,
       "text": [
        "u'Hamilton, New Zealand'"
       ]
      }
     ],
     "prompt_number": 33
    },
    {
     "cell_type": "code",
     "collapsed": false,
     "input": [
      "searchbleh = g.get_api_status()"
     ],
     "language": "python",
     "metadata": {},
     "outputs": [],
     "prompt_number": 14
    },
    {
     "cell_type": "code",
     "collapsed": false,
     "input": [
      "print searchbleh.status\n",
      "print searchbleh.last_modified"
     ],
     "language": "python",
     "metadata": {},
     "outputs": [
      {
       "output_type": "stream",
       "stream": "stdout",
       "text": [
        "good\n",
        "None\n"
       ]
      }
     ],
     "prompt_number": 15
    },
    {
     "cell_type": "code",
     "collapsed": false,
     "input": [
      "searchpy.totalCount"
     ],
     "language": "python",
     "metadata": {},
     "outputs": [
      {
       "output_type": "pyout",
       "prompt_number": 16,
       "text": [
        "0"
       ]
      }
     ],
     "prompt_number": 16
    },
    {
     "cell_type": "code",
     "collapsed": false,
     "input": [
      "import geopy"
     ],
     "language": "python",
     "metadata": {},
     "outputs": [],
     "prompt_number": 60
    },
    {
     "cell_type": "code",
     "collapsed": false,
     "input": [
      "koapi = ('d2b321e45a2041f19551a3f3b223fce0')"
     ],
     "language": "python",
     "metadata": {},
     "outputs": [],
     "prompt_number": 61
    },
    {
     "cell_type": "code",
     "collapsed": false,
     "input": [
      "geoloc = geopy.geocoders.GoogleV3()"
     ],
     "language": "python",
     "metadata": {},
     "outputs": [],
     "prompt_number": 63
    },
    {
     "cell_type": "code",
     "collapsed": false,
     "input": [
      "address = geoloc.geocode('8 Margaret Street Levin')"
     ],
     "language": "python",
     "metadata": {},
     "outputs": [],
     "prompt_number": 67
    },
    {
     "cell_type": "code",
     "collapsed": false,
     "input": [
      "print address"
     ],
     "language": "python",
     "metadata": {},
     "outputs": [
      {
       "output_type": "stream",
       "stream": "stdout",
       "text": [
        "8 Margaret Street, Levin 5510, New Zealand\n"
       ]
      }
     ],
     "prompt_number": 68
    },
    {
     "cell_type": "code",
     "collapsed": false,
     "input": [
      "address.point"
     ],
     "language": "python",
     "metadata": {},
     "outputs": [
      {
       "output_type": "pyout",
       "prompt_number": 66,
       "text": [
        "Point(-40.6165368, 175.277496, 0.0)"
       ]
      }
     ],
     "prompt_number": 66
    },
    {
     "cell_type": "code",
     "collapsed": false,
     "input": [
      "for se in searchpy:\n",
      "    print se.url"
     ],
     "language": "python",
     "metadata": {},
     "outputs": [
      {
       "ename": "GithubException",
       "evalue": "403 {u'documentation_url': u'https://developer.github.com/v3/#rate-limiting', u'message': u\"API rate limit exceeded for 74.50.51.32. (But here's the good news: Authenticated requests get a higher rate limit. Check out the documentation for more details.)\"}",
       "output_type": "pyerr",
       "traceback": [
        "\u001b[0;31m---------------------------------------------------------------------------\u001b[0m\n\u001b[0;31mGithubException\u001b[0m                           Traceback (most recent call last)",
        "\u001b[0;32m<ipython-input-51-e5b46de80eed>\u001b[0m in \u001b[0;36m<module>\u001b[0;34m()\u001b[0m\n\u001b[0;32m----> 1\u001b[0;31m \u001b[0;32mfor\u001b[0m \u001b[0mse\u001b[0m \u001b[0;32min\u001b[0m \u001b[0msearchpy\u001b[0m\u001b[0;34m:\u001b[0m\u001b[0;34m\u001b[0m\u001b[0m\n\u001b[0m\u001b[1;32m      2\u001b[0m     \u001b[0;32mprint\u001b[0m \u001b[0mse\u001b[0m\u001b[0;34m.\u001b[0m\u001b[0murl\u001b[0m\u001b[0;34m\u001b[0m\u001b[0m\n",
        "\u001b[0;32m/usr/local/lib/python2.7/dist-packages/github/PaginatedList.pyc\u001b[0m in \u001b[0;36m__iter__\u001b[0;34m(self)\u001b[0m\n\u001b[1;32m     46\u001b[0m             \u001b[0;32myield\u001b[0m \u001b[0melement\u001b[0m\u001b[0;34m\u001b[0m\u001b[0m\n\u001b[1;32m     47\u001b[0m         \u001b[0;32mwhile\u001b[0m \u001b[0mself\u001b[0m\u001b[0;34m.\u001b[0m\u001b[0m_couldGrow\u001b[0m\u001b[0;34m(\u001b[0m\u001b[0;34m)\u001b[0m\u001b[0;34m:\u001b[0m\u001b[0;34m\u001b[0m\u001b[0m\n\u001b[0;32m---> 48\u001b[0;31m             \u001b[0mnewElements\u001b[0m \u001b[0;34m=\u001b[0m \u001b[0mself\u001b[0m\u001b[0;34m.\u001b[0m\u001b[0m_grow\u001b[0m\u001b[0;34m(\u001b[0m\u001b[0;34m)\u001b[0m\u001b[0;34m\u001b[0m\u001b[0m\n\u001b[0m\u001b[1;32m     49\u001b[0m             \u001b[0;32mfor\u001b[0m \u001b[0melement\u001b[0m \u001b[0;32min\u001b[0m \u001b[0mnewElements\u001b[0m\u001b[0;34m:\u001b[0m\u001b[0;34m\u001b[0m\u001b[0m\n\u001b[1;32m     50\u001b[0m                 \u001b[0;32myield\u001b[0m \u001b[0melement\u001b[0m\u001b[0;34m\u001b[0m\u001b[0m\n",
        "\u001b[0;32m/usr/local/lib/python2.7/dist-packages/github/PaginatedList.pyc\u001b[0m in \u001b[0;36m_grow\u001b[0;34m(self)\u001b[0m\n\u001b[1;32m     58\u001b[0m \u001b[0;34m\u001b[0m\u001b[0m\n\u001b[1;32m     59\u001b[0m     \u001b[0;32mdef\u001b[0m \u001b[0m_grow\u001b[0m\u001b[0;34m(\u001b[0m\u001b[0mself\u001b[0m\u001b[0;34m)\u001b[0m\u001b[0;34m:\u001b[0m\u001b[0;34m\u001b[0m\u001b[0m\n\u001b[0;32m---> 60\u001b[0;31m         \u001b[0mnewElements\u001b[0m \u001b[0;34m=\u001b[0m \u001b[0mself\u001b[0m\u001b[0;34m.\u001b[0m\u001b[0m_fetchNextPage\u001b[0m\u001b[0;34m(\u001b[0m\u001b[0;34m)\u001b[0m\u001b[0;34m\u001b[0m\u001b[0m\n\u001b[0m\u001b[1;32m     61\u001b[0m         \u001b[0mself\u001b[0m\u001b[0;34m.\u001b[0m\u001b[0m__elements\u001b[0m \u001b[0;34m+=\u001b[0m \u001b[0mnewElements\u001b[0m\u001b[0;34m\u001b[0m\u001b[0m\n\u001b[1;32m     62\u001b[0m         \u001b[0;32mreturn\u001b[0m \u001b[0mnewElements\u001b[0m\u001b[0;34m\u001b[0m\u001b[0m\n",
        "\u001b[0;32m/usr/local/lib/python2.7/dist-packages/github/PaginatedList.pyc\u001b[0m in \u001b[0;36m_fetchNextPage\u001b[0;34m(self)\u001b[0m\n\u001b[1;32m    156\u001b[0m             \u001b[0;34m\"GET\"\u001b[0m\u001b[0;34m,\u001b[0m\u001b[0;34m\u001b[0m\u001b[0m\n\u001b[1;32m    157\u001b[0m             \u001b[0mself\u001b[0m\u001b[0;34m.\u001b[0m\u001b[0m__nextUrl\u001b[0m\u001b[0;34m,\u001b[0m\u001b[0;34m\u001b[0m\u001b[0m\n\u001b[0;32m--> 158\u001b[0;31m             \u001b[0mparameters\u001b[0m\u001b[0;34m=\u001b[0m\u001b[0mself\u001b[0m\u001b[0;34m.\u001b[0m\u001b[0m__nextParams\u001b[0m\u001b[0;34m\u001b[0m\u001b[0m\n\u001b[0m\u001b[1;32m    159\u001b[0m         )\n\u001b[1;32m    160\u001b[0m \u001b[0;34m\u001b[0m\u001b[0m\n",
        "\u001b[0;32m/usr/local/lib/python2.7/dist-packages/github/Requester.pyc\u001b[0m in \u001b[0;36mrequestJsonAndCheck\u001b[0;34m(self, verb, url, parameters, headers, input, cnx)\u001b[0m\n\u001b[1;32m    167\u001b[0m \u001b[0;34m\u001b[0m\u001b[0m\n\u001b[1;32m    168\u001b[0m     \u001b[0;32mdef\u001b[0m \u001b[0mrequestJsonAndCheck\u001b[0m\u001b[0;34m(\u001b[0m\u001b[0mself\u001b[0m\u001b[0;34m,\u001b[0m \u001b[0mverb\u001b[0m\u001b[0;34m,\u001b[0m \u001b[0murl\u001b[0m\u001b[0;34m,\u001b[0m \u001b[0mparameters\u001b[0m\u001b[0;34m=\u001b[0m\u001b[0mNone\u001b[0m\u001b[0;34m,\u001b[0m \u001b[0mheaders\u001b[0m\u001b[0;34m=\u001b[0m\u001b[0mNone\u001b[0m\u001b[0;34m,\u001b[0m \u001b[0minput\u001b[0m\u001b[0;34m=\u001b[0m\u001b[0mNone\u001b[0m\u001b[0;34m,\u001b[0m \u001b[0mcnx\u001b[0m\u001b[0;34m=\u001b[0m\u001b[0mNone\u001b[0m\u001b[0;34m)\u001b[0m\u001b[0;34m:\u001b[0m\u001b[0;34m\u001b[0m\u001b[0m\n\u001b[0;32m--> 169\u001b[0;31m         \u001b[0;32mreturn\u001b[0m \u001b[0mself\u001b[0m\u001b[0;34m.\u001b[0m\u001b[0m__check\u001b[0m\u001b[0;34m(\u001b[0m\u001b[0;34m*\u001b[0m\u001b[0mself\u001b[0m\u001b[0;34m.\u001b[0m\u001b[0mrequestJson\u001b[0m\u001b[0;34m(\u001b[0m\u001b[0mverb\u001b[0m\u001b[0;34m,\u001b[0m \u001b[0murl\u001b[0m\u001b[0;34m,\u001b[0m \u001b[0mparameters\u001b[0m\u001b[0;34m,\u001b[0m \u001b[0mheaders\u001b[0m\u001b[0;34m,\u001b[0m \u001b[0minput\u001b[0m\u001b[0;34m,\u001b[0m \u001b[0mcnx\u001b[0m\u001b[0;34m)\u001b[0m\u001b[0;34m)\u001b[0m\u001b[0;34m\u001b[0m\u001b[0m\n\u001b[0m\u001b[1;32m    170\u001b[0m \u001b[0;34m\u001b[0m\u001b[0m\n\u001b[1;32m    171\u001b[0m     \u001b[0;32mdef\u001b[0m \u001b[0mrequestMultipartAndCheck\u001b[0m\u001b[0;34m(\u001b[0m\u001b[0mself\u001b[0m\u001b[0;34m,\u001b[0m \u001b[0mverb\u001b[0m\u001b[0;34m,\u001b[0m \u001b[0murl\u001b[0m\u001b[0;34m,\u001b[0m \u001b[0mparameters\u001b[0m\u001b[0;34m=\u001b[0m\u001b[0mNone\u001b[0m\u001b[0;34m,\u001b[0m \u001b[0mheaders\u001b[0m\u001b[0;34m=\u001b[0m\u001b[0mNone\u001b[0m\u001b[0;34m,\u001b[0m \u001b[0minput\u001b[0m\u001b[0;34m=\u001b[0m\u001b[0mNone\u001b[0m\u001b[0;34m)\u001b[0m\u001b[0;34m:\u001b[0m\u001b[0;34m\u001b[0m\u001b[0m\n",
        "\u001b[0;32m/usr/local/lib/python2.7/dist-packages/github/Requester.pyc\u001b[0m in \u001b[0;36m__check\u001b[0;34m(self, status, responseHeaders, output)\u001b[0m\n\u001b[1;32m    175\u001b[0m         \u001b[0moutput\u001b[0m \u001b[0;34m=\u001b[0m \u001b[0mself\u001b[0m\u001b[0;34m.\u001b[0m\u001b[0m__structuredFromJson\u001b[0m\u001b[0;34m(\u001b[0m\u001b[0moutput\u001b[0m\u001b[0;34m)\u001b[0m\u001b[0;34m\u001b[0m\u001b[0m\n\u001b[1;32m    176\u001b[0m         \u001b[0;32mif\u001b[0m \u001b[0mstatus\u001b[0m \u001b[0;34m>=\u001b[0m \u001b[0;36m400\u001b[0m\u001b[0;34m:\u001b[0m\u001b[0;34m\u001b[0m\u001b[0m\n\u001b[0;32m--> 177\u001b[0;31m             \u001b[0;32mraise\u001b[0m \u001b[0mself\u001b[0m\u001b[0;34m.\u001b[0m\u001b[0m__createException\u001b[0m\u001b[0;34m(\u001b[0m\u001b[0mstatus\u001b[0m\u001b[0;34m,\u001b[0m \u001b[0mresponseHeaders\u001b[0m\u001b[0;34m,\u001b[0m \u001b[0moutput\u001b[0m\u001b[0;34m)\u001b[0m\u001b[0;34m\u001b[0m\u001b[0m\n\u001b[0m\u001b[1;32m    178\u001b[0m         \u001b[0;32mreturn\u001b[0m \u001b[0mresponseHeaders\u001b[0m\u001b[0;34m,\u001b[0m \u001b[0moutput\u001b[0m\u001b[0;34m\u001b[0m\u001b[0m\n\u001b[1;32m    179\u001b[0m \u001b[0;34m\u001b[0m\u001b[0m\n",
        "\u001b[0;31mGithubException\u001b[0m: 403 {u'documentation_url': u'https://developer.github.com/v3/#rate-limiting', u'message': u\"API rate limit exceeded for 74.50.51.32. (But here's the good news: Authenticated requests get a higher rate limit. Check out the documentation for more details.)\"}"
       ]
      },
      {
       "output_type": "stream",
       "stream": "stdout",
       "text": [
        "https://api.github.com/repos/kennethreitz/python-guide\n",
        "https://api.github.com/repos/poise/python\n",
        "https://api.github.com/repos/faif/python-patterns\n",
        "https://api.github.com/repos/gregmalcolm/python_koans\n",
        "https://api.github.com/repos/klen/python-mode\n",
        "https://api.github.com/repos/revolunet/PythonBooks\n",
        "https://api.github.com/repos/mikemaccana/python-docx\n",
        "https://api.github.com/repos/simplegeo/python-oauth2\n",
        "https://api.github.com/repos/getsentry/raven-python\n",
        "https://api.github.com/repos/utahta/pythonbrew\n",
        "https://api.github.com/repos/mongodb/mongo-python-driver\n",
        "https://api.github.com/repos/bear/python-twitter\n",
        "https://api.github.com/repos/Instagram/python-instagram\n",
        "https://api.github.com/repos/dotcloud/zerorpc-python\n",
        "https://api.github.com/repos/python-git/python\n",
        "https://api.github.com/repos/grangier/python-goose\n",
        "https://api.github.com/repos/waylan/Python-Markdown\n",
        "https://api.github.com/repos/kivy/python-for-android\n",
        "https://api.github.com/repos/bigmlcom/python\n",
        "https://api.github.com/repos/python/pythondotorg\n",
        "https://api.github.com/repos/kennethreitz/requests\n",
        "https://api.github.com/repos/gitpython-developers/GitPython\n",
        "https://api.github.com/repos/omab/python-social-auth\n",
        "https://api.github.com/repos/heroku/heroku-buildpack-python\n",
        "https://api.github.com/repos/gfxmonk/python-readability\n",
        "https://api.github.com/repos/openstack/python-novaclient\n",
        "https://api.github.com/repos/tavendo/AutobahnPython\n",
        "https://api.github.com/repos/lincolnloop/python-qrcode\n",
        "https://api.github.com/repos/tweepy/tweepy\n",
        "https://api.github.com/repos/twilio/twilio-python\n",
        "https://api.github.com/repos/openid/python-openid\n",
        "https://api.github.com/repos/daviddrysdale/python-phonenumbers\n",
        "https://api.github.com/repos/pgbovine/OnlinePythonTutor\n",
        "https://api.github.com/repos/rackerlabs/python-cloudfiles\n",
        "https://api.github.com/repos/fengli/alipay_python\n",
        "https://api.github.com/repos/adafruit/Adafruit-Raspberry-Pi-Python-Code\n",
        "https://api.github.com/repos/mumrah/kafka-python\n",
        "https://api.github.com/repos/trentm/python-markdown2\n",
        "https://api.github.com/repos/saghul/pythonz\n",
        "https://api.github.com/repos/sinacloud/sae-python-dev-guide\n",
        "https://api.github.com/repos/gabrielelanaro/emacs-for-python\n",
        "https://api.github.com/repos/serverdensity/python-daemon\n",
        "https://api.github.com/repos/googleglass/mirror-quickstart-python\n",
        "https://api.github.com/repos/msgpack/msgpack-python\n",
        "https://api.github.com/repos/dabeaz/python-cookbook\n",
        "https://api.github.com/repos/ocelma/python-recsys\n",
        "https://api.github.com/repos/jrjohansson/scientific-python-lectures\n",
        "https://api.github.com/repos/geeknam/python-gcm\n",
        "https://api.github.com/repos/adamn/python-webkit2png\n",
        "https://api.github.com/repos/boto/boto\n",
        "https://api.github.com/repos/scikit-learn/scikit-learn\n",
        "https://api.github.com/repos/openstack/python-swiftclient\n",
        "https://api.github.com/repos/openstack/python-keystoneclient\n",
        "https://api.github.com/repos/ahupp/python-magic\n",
        "https://api.github.com/repos/Yelp/python-gearman\n",
        "https://api.github.com/repos/Lawouach/WebSocket-for-Python\n",
        "https://api.github.com/repos/ganglia/gmond_python_modules\n",
        "https://api.github.com/repos/andymccurdy/redis-py\n",
        "https://api.github.com/repos/basho/riak-python-client\n",
        "https://api.github.com/repos/ozgur/python-linkedin\n",
        "https://api.github.com/repos/datastax/python-driver\n",
        "https://api.github.com/repos/matplotlib/matplotlib\n",
        "https://api.github.com/repos/samuel/python-munin\n",
        "https://api.github.com/repos/zedshaw/python-lust\n",
        "https://api.github.com/repos/stankevich/puppet-python\n",
        "https://api.github.com/repos/fabric/fabric\n",
        "https://api.github.com/repos/fgallina/python.el\n",
        "https://api.github.com/repos/clintecker/python-googleanalytics\n",
        "https://api.github.com/repos/nguyen-toan/Python3\n",
        "https://api.github.com/repos/pld-linux/python3\n",
        "https://api.github.com/repos/yhat/ggplot\n",
        "https://api.github.com/repos/lepture/python-livereload\n",
        "https://api.github.com/repos/jaybaird/python-bloomfilter\n",
        "https://api.github.com/repos/sendgrid/sendgrid-python\n",
        "https://api.github.com/repos/jdunck/python-unicodecsv\n",
        "https://api.github.com/repos/n0more/Python3\n",
        "https://api.github.com/repos/ldx/python-iptables\n",
        "https://api.github.com/repos/stripe/stripe-python\n",
        "https://api.github.com/repos/luispedro/BuildingMachineLearningSystemsWithPython\n",
        "https://api.github.com/repos/Mic92/python-mpd2\n",
        "https://api.github.com/repos/freddix/python3\n",
        "https://api.github.com/repos/themartorana/python-postmark\n",
        "https://api.github.com/repos/kennethreitz-archive/dive-into-python3\n",
        "https://api.github.com/repos/avokhmin/python3\n",
        "https://api.github.com/repos/Homebrew/homebrew-python\n",
        "https://api.github.com/repos/jgarzik/python-bitcoinrpc\n",
        "https://api.github.com/repos/evernote/evernote-sdk-python\n",
        "https://api.github.com/repos/davisp/python-spidermonkey\n",
        "https://api.github.com/repos/fonnesbeck/statistical-analysis-python-tutorial\n",
        "https://api.github.com/repos/soundcloud/soundcloud-python\n",
        "https://api.github.com/repos/mne-tools/mne-python\n",
        "https://api.github.com/repos/gittip/aspen-python\n",
        "https://api.github.com/repos/leah/python-oauth\n",
        "https://api.github.com/repos/shotgunsoftware/python-api\n",
        "https://api.github.com/repos/defunkt/pystache\n",
        "https://api.github.com/repos/yinwang0/pysonar2\n",
        "https://api.github.com/repos/fiorix/mongo-async-python-driver\n",
        "https://api.github.com/repos/swaroopch/byte_of_python\n",
        "https://api.github.com/repos/timotheus/ebaysdk-python\n",
        "https://api.github.com/repos/ask/python-github2\n",
        "https://api.github.com/repos/amoffat/sh\n",
        "https://api.github.com/repos/misja/python-boilerpipe\n",
        "https://api.github.com/repos/webpy/webpy\n",
        "https://api.github.com/repos/lizherui/spider_python\n",
        "https://api.github.com/repos/ContinuumIO/bokeh\n",
        "https://api.github.com/repos/sixohsix/twitter\n",
        "https://api.github.com/repos/openstack/python-neutronclient\n",
        "https://api.github.com/repos/pythonforfacebook/facebook-sdk\n",
        "https://api.github.com/repos/pypa/virtualenv\n",
        "https://api.github.com/repos/mbrochh/vim-as-a-python-ide\n",
        "https://api.github.com/repos/evernote/evernote-sdk-python3\n",
        "https://api.github.com/repos/rackerlabs/python-novaclient\n",
        "https://api.github.com/repos/scrapy/scrapy\n",
        "https://api.github.com/repos/nvie/rq\n",
        "https://api.github.com/repos/areski/python-nvd3\n",
        "https://api.github.com/repos/eguven/python3-memcached\n",
        "https://api.github.com/repos/eyeseast/python-tablefu\n",
        "https://api.github.com/repos/miohtama/python-Levenshtein\n",
        "https://api.github.com/repos/kirang89/pycrumbs\n",
        "https://api.github.com/repos/jcrocholl/pep8\n",
        "https://api.github.com/repos/gpoore/pythontex\n",
        "https://api.github.com/repos/hyde/hyde\n",
        "https://api.github.com/repos/alastair/python-musicbrainzngs\n",
        "https://api.github.com/repos/quantopian/zipline\n",
        "https://api.github.com/repos/abidrahmank/OpenCV2-Python\n",
        "https://api.github.com/repos/savon-noir/python-libnmap\n",
        "https://api.github.com/repos/jolicloud/python-apt\n",
        "https://api.github.com/repos/mitsuhiko/python-modernize\n",
        "https://api.github.com/repos/gabrielfalcao/lettuce\n",
        "https://api.github.com/repos/surfly/gevent\n",
        "https://api.github.com/repos/adafruit/adafruit-beaglebone-io-python\n",
        "https://api.github.com/repos/duointeractive/paypal-python\n",
        "https://api.github.com/repos/excid3/python-apt\n",
        "https://api.github.com/repos/html5lib/html5lib-python\n",
        "https://api.github.com/repos/PythonJS/PythonJS\n",
        "https://api.github.com/repos/Azure/azure-sdk-for-python\n",
        "https://api.github.com/repos/Mashape/unirest-python\n",
        "https://api.github.com/repos/balanced/balanced-python\n",
        "https://api.github.com/repos/paulproteus/python-scraping-code-samples\n",
        "https://api.github.com/repos/textmate/python.tmbundle\n",
        "https://api.github.com/repos/profjsb/python-seminar\n",
        "https://api.github.com/repos/akaihola/flymake-python\n",
        "https://api.github.com/repos/cython/cython\n",
        "https://api.github.com/repos/dasmith/stanford-corenlp-python\n",
        "https://api.github.com/repos/urbanairship/python-library\n",
        "https://api.github.com/repos/JosephSalisbury/python-bittorrent\n",
        "https://api.github.com/repos/getpelican/pelican\n",
        "https://api.github.com/repos/pypa/pip\n",
        "https://api.github.com/repos/sympy/sympy\n",
        "https://api.github.com/repos/baijum/selenium-python\n",
        "https://api.github.com/repos/venthur/python-ardrone\n",
        "https://api.github.com/repos/jgarzik/python-bitcoinlib\n",
        "https://api.github.com/repos/bitly/bitly-api-python\n",
        "https://api.github.com/repos/openstack/python-glanceclient\n",
        "https://api.github.com/repos/facebook/tornado\n",
        "https://api.github.com/repos/tpaviot/pythonocc\n",
        "https://api.github.com/repos/karan/Projects\n",
        "https://api.github.com/repos/nose-devs/nose\n",
        "https://api.github.com/repos/vishnubob/python-midi\n",
        "https://api.github.com/repos/collective/buildout.python\n",
        "https://api.github.com/repos/vincenting/weChat-python-sdk\n",
        "https://api.github.com/repos/rackerlabs/python-clouddns\n",
        "https://api.github.com/repos/ikotler/pythonect\n",
        "https://api.github.com/repos/rdio/rdio-python\n",
        "https://api.github.com/repos/celery/kombu\n",
        "https://api.github.com/repos/simplegeo/python-simplegeo\n",
        "https://api.github.com/repos/mesos/spark\n",
        "https://api.github.com/repos/metawilm/cl-python\n",
        "https://api.github.com/repos/openstack/python-openstackclient\n",
        "https://api.github.com/repos/orcasgit/python-fitbit\n",
        "https://api.github.com/repos/haypo/python-ipy\n",
        "https://api.github.com/repos/wrobstory/vincent\n",
        "https://api.github.com/repos/echonest/pyechonest\n",
        "https://api.github.com/repos/VerbalExpressions/PythonVerbalExpressions\n",
        "https://api.github.com/repos/charlierguo/gmail\n",
        "https://api.github.com/repos/fogleman/Minecraft\n",
        "https://api.github.com/repos/ewa/python-webcrawler\n",
        "https://api.github.com/repos/crsmithdev/arrow\n",
        "https://api.github.com/repos/justquick/python-varnish\n",
        "https://api.github.com/repos/maxcutler/python-wordpress-xmlrpc\n",
        "https://api.github.com/repos/scanny/python-pptx\n",
        "https://api.github.com/repos/pusher/pusher_client_python\n",
        "https://api.github.com/repos/qiniu/python-sdk\n",
        "https://api.github.com/repos/kennethreitz-archive/python-github3\n",
        "https://api.github.com/repos/kennethreitz/envoy\n",
        "https://api.github.com/repos/dlitz/pycrypto\n",
        "https://api.github.com/repos/yyuu/pyenv\n",
        "https://api.github.com/repos/koalalorenzo/python-digitalocean\n",
        "https://api.github.com/repos/carljv/Will_it_Python\n",
        "https://api.github.com/repos/libgit2/pygit2\n",
        "https://api.github.com/repos/coagulant/coveralls-python\n",
        "https://api.github.com/repos/sbp/phenny\n",
        "https://api.github.com/repos/tjfontaine/linode-python\n",
        "https://api.github.com/repos/euske/pdfminer\n",
        "https://api.github.com/repos/PythonCharmers/python-future\n",
        "https://api.github.com/repos/jelmer/dulwich\n",
        "https://api.github.com/repos/statsmodels/statsmodels\n",
        "https://api.github.com/repos/renxing/quora-python\n",
        "https://api.github.com/repos/linsomniac/python-memcached\n",
        "https://api.github.com/repos/profjsb/python-bootcamp\n",
        "https://api.github.com/repos/paramiko/paramiko\n",
        "https://api.github.com/repos/zeromq/pyzmq\n",
        "https://api.github.com/repos/plotly/python-api\n",
        "https://api.github.com/repos/patcoll/paypal-python\n",
        "https://api.github.com/repos/JulianEberius/SublimePythonIDE\n",
        "https://api.github.com/repos/kennethreitz/clint\n",
        "https://api.github.com/repos/splunk/splunk-sdk-python\n",
        "https://api.github.com/repos/joke2k/faker\n",
        "https://api.github.com/repos/issackelly/python-hue\n",
        "https://api.github.com/repos/couchbase/couchbase-python-client\n",
        "https://api.github.com/repos/python-quantities/python-quantities\n",
        "https://api.github.com/repos/couchbase/couchbase-python-client\n",
        "https://api.github.com/repos/seatgeek/fuzzywuzzy\n",
        "https://api.github.com/repos/braintree/braintree_python\n",
        "https://api.github.com/repos/twitter/commons\n",
        "https://api.github.com/repos/mkalinowski/python-mythes\n",
        "https://api.github.com/repos/softlayer/softlayer-python\n",
        "https://api.github.com/repos/skyl/vim-config-python-ide\n",
        "https://api.github.com/repos/madmaze/python-tesseract\n",
        "https://api.github.com/repos/todddeluca/python-vagrant\n",
        "https://api.github.com/repos/andrix/python-snappy\n",
        "https://api.github.com/repos/poise/application_python\n",
        "https://api.github.com/repos/wordnik/wordnik-python\n",
        "https://api.github.com/repos/grisha/mod_python\n",
        "https://api.github.com/repos/strawlab/python-pcl\n",
        "https://api.github.com/repos/jacobian/python-cloudservers\n",
        "https://api.github.com/repos/gtaylor/python-fedex\n",
        "https://api.github.com/repos/noplay/python-mysql-replication\n",
        "https://api.github.com/repos/rapidsms/rapidsms\n",
        "https://api.github.com/repos/WoLpH/python-statsd\n",
        "https://api.github.com/repos/douban/dpark\n",
        "https://api.github.com/repos/MongoEngine/mongoengine\n",
        "https://api.github.com/repos/nryoung/algorithms\n",
        "https://api.github.com/repos/defnull/bottle\n",
        "https://api.github.com/repos/BonsaiDen/twitter-text-python\n",
        "https://api.github.com/repos/unpingco/Python-for-Signal-Processing\n",
        "https://api.github.com/repos/metalshark/lesscss-python\n",
        "https://api.github.com/repos/binarydud/pyres\n",
        "https://api.github.com/repos/puppetmodules/puppet-module-python\n",
        "https://api.github.com/repos/alexis-mignon/python-flickr-api\n",
        "https://api.github.com/repos/sangelone/python-hashes\n",
        "https://api.github.com/repos/aparo/pyes\n",
        "https://api.github.com/repos/sibblegp/coinbase_python\n",
        "https://api.github.com/repos/roopeshvaddepally/python-ebay\n",
        "https://api.github.com/repos/shannonturner/python-lessons\n",
        "https://api.github.com/repos/braiden/python-ant-downloader\n",
        "https://api.github.com/repos/PythonJournos/LearningPython\n",
        "https://api.github.com/repos/etotheipi/BitcoinArmory\n",
        "https://api.github.com/repos/abidrahmank/OpenCV2-Python-Tutorials\n",
        "https://api.github.com/repos/gstarnberger/uncompyle\n",
        "https://api.github.com/repos/warner/python-ecdsa\n",
        "https://api.github.com/repos/lupeke/python-firmata\n",
        "https://api.github.com/repos/scraperwiki/scraperwiki-python\n",
        "https://api.github.com/repos/davidhalter/jedi\n",
        "https://api.github.com/repos/sbinet/go-python\n",
        "https://api.github.com/repos/sebix/python-textile\n",
        "https://api.github.com/repos/micropython/micropython\n",
        "https://api.github.com/repos/shuge/Qt-Python-Binding-Examples\n",
        "https://api.github.com/repos/miracle2k/webassets\n",
        "https://api.github.com/repos/pythonhackers/pythonhackers\n",
        "https://api.github.com/repos/DNSPod/dnspod-python\n",
        "https://api.github.com/repos/embedly/embedly-python\n",
        "https://api.github.com/repos/samuel/python-gearman\n",
        "https://api.github.com/repos/tianyu0915/pythoner.net\n",
        "https://api.github.com/repos/akloster/python-mindwave\n",
        "https://api.github.com/repos/aiti-ghana-2012/Lab_Python_02\n",
        "https://api.github.com/repos/thearn/Python-Arduino-Command-API\n",
        "https://api.github.com/repos/paypal/rest-api-sdk-python\n",
        "https://api.github.com/repos/dtcooper/python-fitparse\n",
        "https://api.github.com/repos/SolidCode/SolidPython\n",
        "https://api.github.com/repos/kennethreitz/inbox.py\n",
        "https://api.github.com/repos/jeanphix/Ghost.py\n",
        "https://api.github.com/repos/chrisglass/xhtml2pdf\n",
        "https://api.github.com/repos/twiecki/financial-analysis-python-tutorial\n",
        "https://api.github.com/repos/burnash/gspread\n",
        "https://api.github.com/repos/michaelhelmick/python-tumblpy\n",
        "https://api.github.com/repos/gorakhargosh/watchdog\n",
        "https://api.github.com/repos/mirumee/satchless\n",
        "https://api.github.com/repos/quick2wire/quick2wire-python-api\n",
        "https://api.github.com/repos/senko/python-video-converter\n",
        "https://api.github.com/repos/phusion/passenger\n",
        "https://api.github.com/repos/aiti-ghana-2012/Lab_Python_01\n",
        "https://api.github.com/repos/Cue/fast-python-pb\n",
        "https://api.github.com/repos/saymedia/python-simpledb\n",
        "https://api.github.com/repos/acmerfight/insight_python\n",
        "https://api.github.com/repos/yoavaviram/python-amazon-simple-product-api\n",
        "https://api.github.com/repos/brettviren/python-keepass\n",
        "https://api.github.com/repos/ocelma/python-itunes\n",
        "https://api.github.com/repos/aptana/Pydev\n",
        "https://api.github.com/repos/sahands/python-by-example\n",
        "https://api.github.com/repos/lxml/lxml\n",
        "https://api.github.com/repos/ajalt/fuckitpy\n",
        "https://api.github.com/repos/onelogin/python-saml\n",
        "https://api.github.com/repos/laurentluce/python-algorithms\n",
        "https://api.github.com/repos/dropbox/pyston\n",
        "https://api.github.com/repos/yusugomori/DeepLearning\n",
        "https://api.github.com/repos/aiti-ghana-2012/Lab_Python_03\n",
        "https://api.github.com/repos/dkm/python-vimeo\n",
        "https://api.github.com/repos/juanriaza/python-mega\n",
        "https://api.github.com/repos/zedshaw/lamson\n"
       ]
      }
     ],
     "prompt_number": 51
    },
    {
     "cell_type": "code",
     "collapsed": false,
     "input": [
      "for repo in g.get_user(theuser).get_repos():\n",
      "    gitlist.append(repo.name)"
     ],
     "language": "python",
     "metadata": {},
     "outputs": [],
     "prompt_number": 38
    },
    {
     "cell_type": "code",
     "collapsed": false,
     "input": [
      "os.mkdir('/home/wcmckee/github')"
     ],
     "language": "python",
     "metadata": {},
     "outputs": [
      {
       "ename": "OSError",
       "evalue": "[Errno 17] File exists: '/home/wcmckee/github'",
       "output_type": "pyerr",
       "traceback": [
        "\u001b[0;31m---------------------------------------------------------------------------\u001b[0m\n\u001b[0;31mOSError\u001b[0m                                   Traceback (most recent call last)",
        "\u001b[0;32m<ipython-input-39-29e69ba62084>\u001b[0m in \u001b[0;36m<module>\u001b[0;34m()\u001b[0m\n\u001b[0;32m----> 1\u001b[0;31m \u001b[0mos\u001b[0m\u001b[0;34m.\u001b[0m\u001b[0mmkdir\u001b[0m\u001b[0;34m(\u001b[0m\u001b[0;34m'/home/wcmckee/github'\u001b[0m\u001b[0;34m)\u001b[0m\u001b[0;34m\u001b[0m\u001b[0m\n\u001b[0m",
        "\u001b[0;31mOSError\u001b[0m: [Errno 17] File exists: '/home/wcmckee/github'"
       ]
      }
     ],
     "prompt_number": 39
    },
    {
     "cell_type": "code",
     "collapsed": false,
     "input": [
      "os.chdir('/home/' + theuser + '/github')"
     ],
     "language": "python",
     "metadata": {},
     "outputs": [],
     "prompt_number": 40
    },
    {
     "cell_type": "code",
     "collapsed": false,
     "input": [
      "lisdir = os.listdir('/home/wcmckee/github')\n",
      "curlist = []\n",
      "for ls in lisdir:\n",
      "    #print ls\n",
      "    curlist.append(ls)"
     ],
     "language": "python",
     "metadata": {},
     "outputs": [],
     "prompt_number": 41
    },
    {
     "cell_type": "code",
     "collapsed": false,
     "input": [
      "dlrepo = list(set(gitlist) - set(curlist))"
     ],
     "language": "python",
     "metadata": {},
     "outputs": [],
     "prompt_number": 42
    },
    {
     "cell_type": "code",
     "collapsed": false,
     "input": [
      "print dlrepo"
     ],
     "language": "python",
     "metadata": {},
     "outputs": [
      {
       "output_type": "stream",
       "stream": "stdout",
       "text": [
        "[u'LANs.py', u'godot', u'alien', u'RasPiWrite', u'ggj14', u'FinishYourGame-Jam', u'flask', u'4chan-API', u'game-of-life', u'BroBeurFishingDream', u'flamejam', u'art-lastfm', u'pywp-post', u'TPB', u'autopaintpy123', u'AsylumJamCrushGame', u'wirepil', u'Bukkit', u'SortPictures', u'Delicious-Chrome-Extension', u'intro_programming', u'python-guide', u'pyunderdog', u'python-wordpress-xmlrpc', u'skins', u'ouya-unity-plugin', u'soundcloud-dl', u'pybackupz', u'selfspy', u'gitignore', u'Projects', u'bgj05-hungry', u'BirdCage', u'pyroster', u'iamagamer', u'ipython', u'imgur-python', u'paintingautopy', u'brobeur-web', u'cocos2d-x', u'unityluainterface', u'requests', u'molyjam2013', u'prodo-game', u'reddit_bot', u'DeltaBot', u'marshmallow', u'python-patterns', u'linux', u'compohub', u'hackage-server', u'pithos', u'bbc2wp', u'Triger', u'RedditPress', u'tweepy', u'pytm', u'Cinnamon', u'HTML5-Tiny', u'artcontrol-api', u'miniprojects', u'SuburbNightmare', u'UniLua', u'raspi', u'UnityLuaIntegration', u'intercity', u'DailyProgBot', u'lolpy', u'UIToolkit', u'djtm', u'pymel', u'gimp', u'Rift-Notes', u'clint', u'bacongamejam05', u'lqt', u'wcmStringPY', u'testRepo', u'RPIO', u'html5lib-python', u'sshuttle', u'python-pandora', u'LD48-Skins', u'gjapi_python', u'battlenet', u'haskell-learn', u'BeOk', u'openfaux-server', u'summingbird', u'broLove', u'Koha', u'xboxdrv', u'massive-wright', u'django', u'python-twitter', u'WordPress', u'ruby-warrior', u'ihaskell-notebook', u'opencompetencies']\n"
       ]
      }
     ],
     "prompt_number": 43
    },
    {
     "cell_type": "code",
     "collapsed": false,
     "input": [],
     "language": "python",
     "metadata": {},
     "outputs": []
    },
    {
     "cell_type": "code",
     "collapsed": false,
     "input": [
      "'''\n",
      "for gi in gitlist:\n",
      "    #print gi\n",
      "    #git.Git().clone(\"https://github.com/\" + theuser + \"/\" + dlrepo)\n",
      "    print (\"Downloading: \" + theuser + \"/\" + dlrepo)\n",
      "\n",
      "\n",
      "\n",
      "'''"
     ],
     "language": "python",
     "metadata": {},
     "outputs": [
      {
       "output_type": "pyout",
       "prompt_number": 28,
       "text": [
        "'\\nfor gi in gitlist:\\n    #print gi\\n    #git.Git().clone(\"https://github.com/\" + theuser + \"/\" + dlrepo)\\n    print (\"Downloading: \" + theuser + \"/\" + dlrepo)\\n\\n\\n\\n'"
       ]
      }
     ],
     "prompt_number": 28
    },
    {
     "cell_type": "code",
     "collapsed": false,
     "input": [
      "from clint.textui import colored"
     ],
     "language": "python",
     "metadata": {},
     "outputs": [
      {
       "ename": "ImportError",
       "evalue": "No module named clint.textui",
       "output_type": "pyerr",
       "traceback": [
        "\u001b[0;31m---------------------------------------------------------------------------\u001b[0m\n\u001b[0;31mImportError\u001b[0m                               Traceback (most recent call last)",
        "\u001b[0;32m<ipython-input-29-ba72b8b4a1d5>\u001b[0m in \u001b[0;36m<module>\u001b[0;34m()\u001b[0m\n\u001b[0;32m----> 1\u001b[0;31m \u001b[0;32mfrom\u001b[0m \u001b[0mclint\u001b[0m\u001b[0;34m.\u001b[0m\u001b[0mtextui\u001b[0m \u001b[0;32mimport\u001b[0m \u001b[0mcolored\u001b[0m\u001b[0;34m\u001b[0m\u001b[0m\n\u001b[0m",
        "\u001b[0;31mImportError\u001b[0m: No module named clint.textui"
       ]
      }
     ],
     "prompt_number": 29
    },
    {
     "cell_type": "code",
     "collapsed": false,
     "input": [
      "for gitbl in dlrepo:\n",
      "        #print ('Downloading - ' + theuser + \" - \"  + gitbl)\n",
      "        print (colored.red('Downloading - ' + theuser + \" - \"  + gitbl))\n",
      "        git.Git().clone(\"https://github.com/\" + theuser + \"/\" + gitbl)\n"
     ],
     "language": "python",
     "metadata": {},
     "outputs": [
      {
       "ename": "SyntaxError",
       "evalue": "invalid syntax (<ipython-input-34-a1df4c118a5b>, line 3)",
       "output_type": "pyerr",
       "traceback": [
        "\u001b[0;36m  File \u001b[0;32m\"<ipython-input-34-a1df4c118a5b>\"\u001b[0;36m, line \u001b[0;32m3\u001b[0m\n\u001b[0;31m    puts colored.red('Downloading - ' + theuser + \" - \"  + gitbl)\u001b[0m\n\u001b[0m               ^\u001b[0m\n\u001b[0;31mSyntaxError\u001b[0m\u001b[0;31m:\u001b[0m invalid syntax\n"
       ]
      }
     ],
     "prompt_number": 34
    },
    {
     "cell_type": "code",
     "collapsed": false,
     "input": [],
     "language": "python",
     "metadata": {},
     "outputs": []
    }
   ],
   "metadata": {}
  }
 ]
}