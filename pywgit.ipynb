{
 "metadata": {
  "name": "pywgit"
 },
 "nbformat": 3,
 "nbformat_minor": 0,
 "worksheets": [
  {
   "cells": [
    {
     "cell_type": "heading",
     "level": 1,
     "metadata": {},
     "source": [
      "pywgit"
     ]
    },
    {
     "cell_type": "markdown",
     "metadata": {},
     "source": [
      "This is a python script to download repos from github\n",
      "It takes the login name (wcmckee in my case) and downloads the repos of github user (the system login name). It downloads it to the home dir. \n",
      "The program checks if you have local folders that are also on github. It will skip them from downloading from github. "
     ]
    },
    {
     "cell_type": "markdown",
     "metadata": {},
     "source": [
      "This notebook also contains a project using new zealand transport data - cameras from around the country. It is a xml file that is opened and converted to a python dict. It is also converted to a json object, for giggles. \n",
      "I am always working with for loops and lists in python and rarely with dict. This project was perfect to getting me back to using dict. There is no python module for nz transport data so i had to work from xml (json doesn't seem to be an option). I had never converted xml over to python dict so it was a great chance to give it a go.\n",
      "During the process I felt I lost lots of work. Maybe it's because I'm working on a enourmous notebook.\n",
      "I have problems with getting the xml file and reading it. NZ Transport requires a login to access the data. I couldn't figure out how to get this to work with requests, but managed to run bash and curl then just save the output to file (linkz). \n"
     ]
    },
    {
     "cell_type": "code",
     "collapsed": false,
     "input": [
      "from github import Github\n",
      "import os\n",
      "import getpass\n",
      "import git"
     ],
     "language": "python",
     "metadata": {},
     "outputs": [],
     "prompt_number": 1
    },
    {
     "cell_type": "code",
     "collapsed": false,
     "input": [
      "theuser = getpass.getuser()"
     ],
     "language": "python",
     "metadata": {},
     "outputs": [],
     "prompt_number": 2
    },
    {
     "cell_type": "markdown",
     "metadata": {},
     "source": [
      "muliti support for user names - cycle through a list, user input, and get username from login. "
     ]
    },
    {
     "cell_type": "code",
     "collapsed": false,
     "input": [
      "usergen = ['ipython', 'wcmckee', 'drhealsgood', 'hamipy']"
     ],
     "language": "python",
     "metadata": {},
     "outputs": [],
     "prompt_number": 3
    },
    {
     "cell_type": "code",
     "collapsed": false,
     "input": [
      "userinput = raw_input('github username: ')"
     ],
     "language": "python",
     "metadata": {},
     "outputs": [
      {
       "ename": "StdinNotImplementedError",
       "evalue": "raw_input was called, but this frontend does not support stdin.",
       "output_type": "pyerr",
       "traceback": [
        "\u001b[0;31m---------------------------------------------------------------------------\u001b[0m\n\u001b[0;31mStdinNotImplementedError\u001b[0m                  Traceback (most recent call last)",
        "\u001b[0;32m<ipython-input-4-8bbba8f91ccc>\u001b[0m in \u001b[0;36m<module>\u001b[0;34m()\u001b[0m\n\u001b[0;32m----> 1\u001b[0;31m \u001b[0muserinput\u001b[0m \u001b[0;34m=\u001b[0m \u001b[0mraw_input\u001b[0m\u001b[0;34m(\u001b[0m\u001b[0;34m'github username: '\u001b[0m\u001b[0;34m)\u001b[0m\u001b[0;34m\u001b[0m\u001b[0m\n\u001b[0m",
        "\u001b[0;32m/usr/lib/python2.7/dist-packages/IPython/zmq/ipkernel.pyc\u001b[0m in \u001b[0;36m<lambda>\u001b[0;34m(prompt)\u001b[0m\n\u001b[1;32m    343\u001b[0m             \u001b[0mraw_input\u001b[0m \u001b[0;34m=\u001b[0m \u001b[0;32mlambda\u001b[0m \u001b[0mprompt\u001b[0m\u001b[0;34m=\u001b[0m\u001b[0;34m''\u001b[0m\u001b[0;34m:\u001b[0m \u001b[0mself\u001b[0m\u001b[0;34m.\u001b[0m\u001b[0m_raw_input\u001b[0m\u001b[0;34m(\u001b[0m\u001b[0mprompt\u001b[0m\u001b[0;34m,\u001b[0m \u001b[0mident\u001b[0m\u001b[0;34m,\u001b[0m \u001b[0mparent\u001b[0m\u001b[0;34m)\u001b[0m\u001b[0;34m\u001b[0m\u001b[0m\n\u001b[1;32m    344\u001b[0m         \u001b[0;32melse\u001b[0m\u001b[0;34m:\u001b[0m\u001b[0;34m\u001b[0m\u001b[0m\n\u001b[0;32m--> 345\u001b[0;31m             \u001b[0mraw_input\u001b[0m \u001b[0;34m=\u001b[0m \u001b[0;32mlambda\u001b[0m \u001b[0mprompt\u001b[0m\u001b[0;34m=\u001b[0m\u001b[0;34m''\u001b[0m \u001b[0;34m:\u001b[0m \u001b[0mself\u001b[0m\u001b[0;34m.\u001b[0m\u001b[0m_no_raw_input\u001b[0m\u001b[0;34m(\u001b[0m\u001b[0;34m)\u001b[0m\u001b[0;34m\u001b[0m\u001b[0m\n\u001b[0m\u001b[1;32m    346\u001b[0m \u001b[0;34m\u001b[0m\u001b[0m\n\u001b[1;32m    347\u001b[0m         \u001b[0;32mif\u001b[0m \u001b[0mpy3compat\u001b[0m\u001b[0;34m.\u001b[0m\u001b[0mPY3\u001b[0m\u001b[0;34m:\u001b[0m\u001b[0;34m\u001b[0m\u001b[0m\n",
        "\u001b[0;32m/usr/lib/python2.7/dist-packages/IPython/zmq/ipkernel.pyc\u001b[0m in \u001b[0;36m_no_raw_input\u001b[0;34m(self)\u001b[0m\n\u001b[1;32m    686\u001b[0m         \"\"\"Raise StdinNotImplentedError if active frontend doesn't support\n\u001b[1;32m    687\u001b[0m         stdin.\"\"\"\n\u001b[0;32m--> 688\u001b[0;31m         raise StdinNotImplementedError(\"raw_input was called, but this \"\n\u001b[0m\u001b[1;32m    689\u001b[0m                                        \"frontend does not support stdin.\") \n\u001b[1;32m    690\u001b[0m \u001b[0;34m\u001b[0m\u001b[0m\n",
        "\u001b[0;31mStdinNotImplementedError\u001b[0m: raw_input was called, but this frontend does not support stdin."
       ]
      }
     ],
     "prompt_number": 4
    },
    {
     "cell_type": "code",
     "collapsed": false,
     "input": [
      "for us in usergen:\n",
      "    print us"
     ],
     "language": "python",
     "metadata": {},
     "outputs": [
      {
       "output_type": "stream",
       "stream": "stdout",
       "text": [
        "ipython\n",
        "wcmckee\n",
        "drhealsgood\n",
        "hamipy\n"
       ]
      }
     ],
     "prompt_number": 5
    },
    {
     "cell_type": "code",
     "collapsed": false,
     "input": [
      "g = Github()"
     ],
     "language": "python",
     "metadata": {},
     "outputs": [],
     "prompt_number": 6
    },
    {
     "cell_type": "code",
     "collapsed": false,
     "input": [
      "import requests"
     ],
     "language": "python",
     "metadata": {},
     "outputs": [],
     "prompt_number": 7
    },
    {
     "cell_type": "code",
     "collapsed": false,
     "input": [
      "highgit = requests.get('https://infoconnect1.highwayinfo.govt.nz/ic/jbi/TrafficCameras/REST/FeedService/', auth=('williammckee', 'J3e6t8q5y2'))"
     ],
     "language": "python",
     "metadata": {},
     "outputs": [],
     "prompt_number": 8
    },
    {
     "cell_type": "code",
     "collapsed": false,
     "input": [
      "from requests.auth import HTTPBasicAuth\n",
      "\n",
      "theres = requests.get('https://infoconnect1.highwayinfo.govt.nz/ic/jbi/TrafficCameras/REST/FeedService/', auth=HTTPBasicAuth('williammckee', 'J3e6t8q5y2'))"
     ],
     "language": "python",
     "metadata": {},
     "outputs": [],
     "prompt_number": 9
    },
    {
     "cell_type": "code",
     "collapsed": false,
     "input": [
      "from requests.auth import HTTPDigestAuth\n",
      "url = 'https://infoconnect1.highwayinfo.govt.nz/ic/jbi/TrafficCameras/REST/FeedService/'\n",
      "workt = requests.get(url, auth=HTTPDigestAuth('williammckee', 'J3e6t8q5y2'))"
     ],
     "language": "python",
     "metadata": {},
     "outputs": [],
     "prompt_number": 10
    },
    {
     "cell_type": "code",
     "collapsed": false,
     "input": [
      "workt.text"
     ],
     "language": "python",
     "metadata": {},
     "outputs": [
      {
       "output_type": "pyout",
       "prompt_number": 11,
       "text": [
        "u\"<?xml version='1.0' encoding='UTF-8'?><Fault><faultcode>Server</faultcode><faultstring>An expected request parameter [username] was not found or is empty.</faultstring></Fault>\""
       ]
      }
     ],
     "prompt_number": 11
    },
    {
     "cell_type": "code",
     "collapsed": false,
     "input": [
      "theres.text"
     ],
     "language": "python",
     "metadata": {},
     "outputs": [
      {
       "output_type": "pyout",
       "prompt_number": 12,
       "text": [
        "u\"<?xml version='1.0' encoding='UTF-8'?><Fault><faultcode>Server</faultcode><faultstring>An expected request parameter [username] was not found or is empty.</faultstring></Fault>\""
       ]
      }
     ],
     "prompt_number": 12
    },
    {
     "cell_type": "code",
     "collapsed": false,
     "input": [
      "user_agent = 'Mozilla/4.0 (compatible; MSIE 5.5; Windows NT)'\n",
      "values = {'name' : 'Michael Foord',\n",
      "          'location' : 'Northampton',\n",
      "          'language' : 'Python' }\n",
      "headers = { 'User-Agent' : user_agent }"
     ],
     "language": "python",
     "metadata": {},
     "outputs": [],
     "prompt_number": 13
    },
    {
     "cell_type": "code",
     "collapsed": false,
     "input": [
      "highgit.text"
     ],
     "language": "python",
     "metadata": {},
     "outputs": [
      {
       "output_type": "pyout",
       "prompt_number": 14,
       "text": [
        "u\"<?xml version='1.0' encoding='UTF-8'?><Fault><faultcode>Server</faultcode><faultstring>An expected request parameter [username] was not found or is empty.</faultstring></Fault>\""
       ]
      }
     ],
     "prompt_number": 14
    },
    {
     "cell_type": "code",
     "collapsed": false,
     "input": [
      "%%bash \n",
      "curl -u wcmckee:J3e6t8q5y2 https://infoconnect1.highwayinfo.govt.nz/ic/jbi/TrafficCameras/REST/FeedService/\n"
     ],
     "language": "python",
     "metadata": {},
     "outputs": [
      {
       "output_type": "stream",
       "stream": "stdout",
       "text": [
        "<?xml version='1.0' encoding='UTF-8'?><Fault><faultcode>Server</faultcode><faultstring>An expected request parameter [username] was not found or is empty.</faultstring></Fault>"
       ]
      },
      {
       "output_type": "stream",
       "stream": "stderr",
       "text": [
        "  % Total    % Received % Xferd  Average Speed   Time    Time     Time  Current\n",
        "                                 Dload  Upload   Total   Spent    Left  Speed\n",
        "\r",
        "  0     0    0     0    0     0      0      0 --:--:-- --:--:-- --:--:--     0\r",
        "  0     0    0     0    0     0      0      0 --:--:--  0:00:01 --:--:--     0\r",
        "100   176    0   176    0     0    107      0 --:--:--  0:00:01 --:--:--   160\n"
       ]
      }
     ],
     "prompt_number": 15
    },
    {
     "cell_type": "code",
     "collapsed": false,
     "input": [
      "%%bash\n",
      "curl -k -H \"username: williammckee\" -H \"password: J3e6t8q5y2\" -o linkz https://infoconnect1.highwayinfo.govt.nz/ic/jbi/TrafficCameras/REST/FeedService/\n",
      "\n"
     ],
     "language": "python",
     "metadata": {},
     "outputs": [
      {
       "output_type": "stream",
       "stream": "stderr",
       "text": [
        "  % Total    % Received % Xferd  Average Speed   Time    Time     Time  Current\n",
        "                                 Dload  Upload   Total   Spent    Left  Speed\n",
        "\r",
        "  0     0    0     0    0     0      0      0 --:--:-- --:--:-- --:--:--     0\r",
        "  0     0    0     0    0     0      0      0 --:--:-- --:--:-- --:--:--     0\r",
        "100 31724    0 31724    0     0  27551      0 --:--:--  0:00:01 --:--:-- 33893\n"
       ]
      }
     ],
     "prompt_number": 16
    },
    {
     "cell_type": "code",
     "collapsed": false,
     "input": [
      "opcon = open('linkz', 'r')"
     ],
     "language": "python",
     "metadata": {},
     "outputs": [],
     "prompt_number": 17
    },
    {
     "cell_type": "code",
     "collapsed": false,
     "input": [
      "data= opcon.read()"
     ],
     "language": "python",
     "metadata": {},
     "outputs": [],
     "prompt_number": 18
    },
    {
     "cell_type": "code",
     "collapsed": false,
     "input": [
      "import xmltodict"
     ],
     "language": "python",
     "metadata": {},
     "outputs": [],
     "prompt_number": 19
    },
    {
     "cell_type": "code",
     "collapsed": false,
     "input": [
      "thexml = ('<?xml version=\\'1.0\\' encoding=\\'UTF-8\\'?><tns:getCamerasResponse xmlns:rem=\"http://remote.service.callcenter.nzta.govt.nz\" xmlns:tns=\"https://infoconnect.highwayinfo.govt.nz/schemas/camera\" xmlns:xsd=\"http://www.w3.org/2001/XMLSchema\" xmlns:xsi=\"http://www.w3.org/2001/XMLSchema-instance\"><tns:camera><tns:id>130</tns:id><tns:name>SH16 1 Bond St</tns:name><tns:description>Bond St looking east</tns:description><tns:offline>false</tns:offline><tns:underMaintenance>false</tns:underMaintenance><tns:imageUrl>http://www.trafficnz.info/camera/130.jpg</tns:imageUrl><tns:viewUrl>http://www.trafficnz.info/camera/view/130</tns:viewUrl><tns:mapx>142</tns:mapx><tns:mapy>229</tns:mapy><tns:congestionLocation><tns:name>St Lukes Rd - Newton Rd</tns:name><tns:direction>Eastbound</tns:direction><tns:congestion>Free Flow</tns:congestion></tns:congestionLocation><tns:congestionLocation><tns:name>Newton Rd - St Lukes Rd</tns:name><tns:direction>Westbound</tns:direction><tns:congestion>Free Flow</tns:congestion></tns:congestionLocation></tns:camera><tns:camera><tns:id>140</tns:id><tns:name>SH16 2 Gt North Rd</tns:name><tns:description>Gt North Road looking west</tns:description><tns:offline>false</tns:offline><tns:underMaintenance>false</tns:underMaintenance><tns:imageUrl>http://www.trafficnz.info/camera/140.jpg</tns:imageUrl><tns:viewUrl>http://www.trafficnz.info/camera/view/140</tns:viewUrl><tns:mapx>113</tns:mapx><tns:mapy>232</tns:mapy><tns:congestionLocation><tns:name>Rosebank Rd - Great Nth Rd Waterview</tns:name><tns:direction>Eastbound</tns:direction><tns:congestion>Free Flow</tns:congestion></tns:congestionLocation><tns:congestionLocation><tns:name>Great Nth Rd Waterview - Rosebank Rd</tns:name><tns:direction>Westbound</tns:direction><tns:congestion>Free Flow</tns:congestion></tns:congestionLocation></tns:camera><tns:camera><tns:id>150</tns:id><tns:name>SH16 3 Te Atatu Rd</tns:name><tns:description>Te Atatu Road looking east</tns:description><tns:offline>false</tns:offline><tns:underMaintenance>false</tns:underMaintenance><tns:imageUrl>http://www.trafficnz.info/camera/150.jpg</tns:imageUrl><tns:viewUrl>http://www.trafficnz.info/camera/view/150</tns:viewUrl><tns:mapx>70</tns:mapx><tns:mapy>216</tns:mapy><tns:congestionLocation><tns:name>Te Atatu Rd - Rosebank Rd</tns:name><tns:direction>Eastbound</tns:direction><tns:congestion>Free Flow</tns:congestion></tns:congestionLocation><tns:congestionLocation><tns:name>Rosebank Rd - Te Atatu Rd</tns:name><tns:direction>Westbound</tns:direction><tns:congestion>Free Flow</tns:congestion></tns:congestionLocation></tns:camera><tns:camera><tns:id>160</tns:id><tns:name>SH16 4 Lincoln Rd E</tns:name><tns:description>Lincoln Rd  looking west</tns:description><tns:offline>false</tns:offline><tns:underMaintenance>false</tns:underMaintenance><tns:imageUrl>http://www.trafficnz.info/camera/160.jpg</tns:imageUrl><tns:viewUrl>http://www.trafficnz.info/camera/view/160</tns:viewUrl><tns:mapx>52</tns:mapx><tns:mapy>207</tns:mapy><tns:congestionLocation><tns:name>Te Atatu Rd - Lincoln Rd</tns:name><tns:direction>Westbound</tns:direction><tns:congestion>Free Flow</tns:congestion></tns:congestionLocation><tns:congestionLocation><tns:name>Lincoln Rd - Te Atatu Rd</tns:name><tns:direction>Eastbound</tns:direction><tns:congestion>Free Flow</tns:congestion></tns:congestionLocation></tns:camera><tns:camera><tns:id>170</tns:id><tns:name>SH16 5 Lincoln Rd W</tns:name><tns:description>Lincoln Rd looking east</tns:description><tns:offline>false</tns:offline><tns:underMaintenance>false</tns:underMaintenance><tns:imageUrl>http://www.trafficnz.info/camera/170.jpg</tns:imageUrl><tns:viewUrl>http://www.trafficnz.info/camera/view/170</tns:viewUrl><tns:mapx>35</tns:mapx><tns:mapy>207</tns:mapy><tns:congestionLocation><tns:name>Lincoln Rd - Royal Rd</tns:name><tns:direction>Westbound</tns:direction><tns:congestion>Free Flow</tns:congestion></tns:congestionLocation><tns:congestionLocation><tns:name>Royal Rd - Lincoln Rd</tns:name><tns:direction>Eastbound</tns:direction><tns:congestion>Free Flow</tns:congestion></tns:congestionLocation></tns:camera><tns:camera><tns:id>270</tns:id><tns:name>SH16 6 Hobsonville W</tns:name><tns:description>Hobsonville looking West towards Kumeu</tns:description><tns:offline>false</tns:offline><tns:underMaintenance>false</tns:underMaintenance><tns:imageUrl>http://www.trafficnz.info/camera/270.jpg</tns:imageUrl><tns:viewUrl>http://www.trafficnz.info/camera/view/270</tns:viewUrl><tns:mapx>0</tns:mapx><tns:mapy>0</tns:mapy></tns:camera><tns:camera><tns:id>271</tns:id><tns:name>SH16 7 Hobsonville E</tns:name><tns:description>Hobsonville Road looking East</tns:description><tns:offline>false</tns:offline><tns:underMaintenance>false</tns:underMaintenance><tns:imageUrl>http://www.trafficnz.info/camera/271.jpg</tns:imageUrl><tns:viewUrl>http://www.trafficnz.info/camera/view/271</tns:viewUrl><tns:mapx>0</tns:mapx><tns:mapy>0</tns:mapy></tns:camera><tns:camera><tns:id>221</tns:id><tns:name>SH18 Trig Rd</tns:name><tns:description>Trig Rd looking west</tns:description><tns:offline>false</tns:offline><tns:underMaintenance>false</tns:underMaintenance><tns:imageUrl>http://www.trafficnz.info/camera/221.jpg</tns:imageUrl><tns:viewUrl>http://www.trafficnz.info/camera/view/221</tns:viewUrl><tns:mapx>0</tns:mapx><tns:mapy>0</tns:mapy></tns:camera><tns:camera><tns:id>222</tns:id><tns:name>SH18 Waiahora Creek</tns:name><tns:description>Upper harbour motorway looking west</tns:description><tns:offline>false</tns:offline><tns:underMaintenance>false</tns:underMaintenance><tns:imageUrl>http://www.trafficnz.info/camera/222.jpg</tns:imageUrl><tns:viewUrl>http://www.trafficnz.info/camera/view/222</tns:viewUrl><tns:mapx>0</tns:mapx><tns:mapy>0</tns:mapy></tns:camera><tns:camera><tns:id>223</tns:id><tns:name>SH18 Brigham Creek</tns:name><tns:description>Upper harbour motorway looking East</tns:description><tns:offline>false</tns:offline><tns:underMaintenance>false</tns:underMaintenance><tns:imageUrl>http://www.trafficnz.info/camera/223.jpg</tns:imageUrl><tns:viewUrl>http://www.trafficnz.info/camera/view/223</tns:viewUrl><tns:mapx>0</tns:mapx><tns:mapy>0</tns:mapy></tns:camera><tns:camera><tns:id>224</tns:id><tns:name>SH18 Sinton Rd</tns:name><tns:description>Upper harbour motorway looking west</tns:description><tns:offline>false</tns:offline><tns:underMaintenance>false</tns:underMaintenance><tns:imageUrl>http://www.trafficnz.info/camera/224.jpg</tns:imageUrl><tns:viewUrl>http://www.trafficnz.info/camera/view/224</tns:viewUrl><tns:mapx>0</tns:mapx><tns:mapy>0</tns:mapy></tns:camera><tns:camera><tns:id>225</tns:id><tns:name>SH18 Squadron Dr</tns:name><tns:description>Upper harbour motorway looking east</tns:description><tns:offline>false</tns:offline><tns:underMaintenance>false</tns:underMaintenance><tns:imageUrl>http://www.trafficnz.info/camera/225.jpg</tns:imageUrl><tns:viewUrl>http://www.trafficnz.info/camera/view/225</tns:viewUrl><tns:mapx>0</tns:mapx><tns:mapy>0</tns:mapy></tns:camera><tns:camera><tns:id>171</tns:id><tns:name>SH18 6 Tauhinu BRG</tns:name><tns:description>Tauhinu bridge looking east</tns:description><tns:offline>false</tns:offline><tns:underMaintenance>false</tns:underMaintenance><tns:imageUrl>http://www.trafficnz.info/camera/171.jpg</tns:imageUrl><tns:viewUrl>http://www.trafficnz.info/camera/view/171</tns:viewUrl><tns:mapx>60</tns:mapx><tns:mapy>207</tns:mapy></tns:camera><tns:camera><tns:id>172</tns:id><tns:name>SH18 7 Albany HWY</tns:name><tns:description>Albany Highway Looking East</tns:description><tns:offline>false</tns:offline><tns:underMaintenance>false</tns:underMaintenance><tns:imageUrl>http://www.trafficnz.info/camera/172.jpg</tns:imageUrl><tns:viewUrl>http://www.trafficnz.info/camera/view/172</tns:viewUrl><tns:mapx>35</tns:mapx><tns:mapy>207</tns:mapy></tns:camera><tns:camera><tns:id>173</tns:id><tns:name>SH18 8 Tauhinu East</tns:name><tns:description>Tauhinu East Looking East</tns:description><tns:offline>false</tns:offline><tns:underMaintenance>false</tns:underMaintenance><tns:imageUrl>http://www.trafficnz.info/camera/173.jpg</tns:imageUrl><tns:viewUrl>http://www.trafficnz.info/camera/view/173</tns:viewUrl><tns:mapx>35</tns:mapx><tns:mapy>207</tns:mapy></tns:camera><tns:camera><tns:id>174</tns:id><tns:name>SH18 9 Paul Matthews</tns:name><tns:description>Paul matthews looking east</tns:description><tns:offline>false</tns:offline><tns:underMaintenance>false</tns:underMaintenance><tns:imageUrl>http://www.trafficnz.info/camera/174.jpg</tns:imageUrl><tns:viewUrl>http://www.trafficnz.info/camera/view/174</tns:viewUrl><tns:mapx>35</tns:mapx><tns:mapy>207</tns:mapy></tns:camera><tns:camera><tns:id>175</tns:id><tns:name>SH18 10 Greenhithe</tns:name><tns:description>Greenhithe Rd looking east</tns:description><tns:offline>false</tns:offline><tns:underMaintenance>false</tns:underMaintenance><tns:imageUrl>http://www.trafficnz.info/camera/175.jpg</tns:imageUrl><tns:viewUrl>http://www.trafficnz.info/camera/view/175</tns:viewUrl><tns:mapx>35</tns:mapx><tns:mapy>207</tns:mapy></tns:camera><tns:camera><tns:id>176</tns:id><tns:name>SH18 11 George Deane</tns:name><tns:description>George deane looking east</tns:description><tns:offline>false</tns:offline><tns:underMaintenance>false</tns:underMaintenance><tns:imageUrl>http://www.trafficnz.info/camera/176.jpg</tns:imageUrl><tns:viewUrl>http://www.trafficnz.info/camera/view/176</tns:viewUrl><tns:mapx>35</tns:mapx><tns:mapy>207</tns:mapy></tns:camera><tns:camera><tns:id>177</tns:id><tns:name>SH18 12 Upper Hbr CW</tns:name><tns:description>Upper harbour looking east</tns:description><tns:offline>false</tns:offline><tns:underMaintenance>false</tns:underMaintenance><tns:imageUrl>http://www.trafficnz.info/camera/177.jpg</tns:imageUrl><tns:viewUrl>http://www.trafficnz.info/camera/view/177</tns:viewUrl><tns:mapx>35</tns:mapx><tns:mapy>207</tns:mapy></tns:camera><tns:camera><tns:id>178</tns:id><tns:name>SH18 13 Wicklam Lane</tns:name><tns:description>Wicklam Lane looking west</tns:description><tns:offline>false</tns:offline><tns:underMaintenance>false</tns:underMaintenance><tns:imageUrl>http://www.trafficnz.info/camera/178.jpg</tns:imageUrl><tns:viewUrl>http://www.trafficnz.info/camera/view/178</tns:viewUrl><tns:mapx>35</tns:mapx><tns:mapy>207</tns:mapy></tns:camera><tns:camera><tns:id>10</tns:id><tns:name>SH1 1 Greville Rd</tns:name><tns:description>Greville road looking south</tns:description><tns:offline>false</tns:offline><tns:underMaintenance>false</tns:underMaintenance><tns:imageUrl>http://www.trafficnz.info/camera/10.jpg</tns:imageUrl><tns:viewUrl>http://www.trafficnz.info/camera/view/10</tns:viewUrl><tns:mapx>125</tns:mapx><tns:mapy>71</tns:mapy><tns:congestionLocation><tns:name>Upper Harb Hwy - Oteha Valley Rd</tns:name><tns:direction>Northbound</tns:direction><tns:congestion>Free Flow</tns:congestion></tns:congestionLocation><tns:congestionLocation><tns:name>Oteha Valley Rd - Upper Harb Hwy</tns:name><tns:direction>Southbound</tns:direction><tns:congestion>Free Flow</tns:congestion></tns:congestionLocation></tns:camera><tns:camera><tns:id>20</tns:id><tns:name>SH1 2 Tristram Ave</tns:name><tns:description>Tristram Avenue looking south</tns:description><tns:offline>false</tns:offline><tns:underMaintenance>false</tns:underMaintenance><tns:imageUrl>http://www.trafficnz.info/camera/20.jpg</tns:imageUrl><tns:viewUrl>http://www.trafficnz.info/camera/view/20</tns:viewUrl><tns:mapx>148</tns:mapx><tns:mapy>118</tns:mapy><tns:congestionLocation><tns:name>Tristram Ave - Esmonde Rd</tns:name><tns:direction>Southbound</tns:direction><tns:congestion>Free Flow</tns:congestion></tns:congestionLocation><tns:congestionLocation><tns:name>Esmonde Rd - Tristram Ave</tns:name><tns:direction>Northbound</tns:direction><tns:congestion>Free Flow</tns:congestion></tns:congestionLocation></tns:camera><tns:camera><tns:id>30</tns:id><tns:name>SH1 3 Northcote Rd</tns:name><tns:description>Northcote Rd looking north</tns:description><tns:offline>false</tns:offline><tns:underMaintenance>false</tns:underMaintenance><tns:imageUrl>http://www.trafficnz.info/camera/30.jpg</tns:imageUrl><tns:viewUrl>http://www.trafficnz.info/camera/view/30</tns:viewUrl><tns:mapx>156</tns:mapx><tns:mapy>141</tns:mapy><tns:congestionLocation><tns:name>Tristram Ave - Esmonde Rd</tns:name><tns:direction>Southbound</tns:direction><tns:congestion>Free Flow</tns:congestion></tns:congestionLocation><tns:congestionLocation><tns:name>Esmonde Rd - Tristram Ave</tns:name><tns:direction>Northbound</tns:direction><tns:congestion>Free Flow</tns:congestion></tns:congestionLocation></tns:camera><tns:camera><tns:id>40</tns:id><tns:name>SH1 4 Esmonde Rd</tns:name><tns:description>Esmonde Rd looking south</tns:description><tns:offline>false</tns:offline><tns:underMaintenance>false</tns:underMaintenance><tns:imageUrl>http://www.trafficnz.info/camera/40.jpg</tns:imageUrl><tns:viewUrl>http://www.trafficnz.info/camera/view/40</tns:viewUrl><tns:mapx>178</tns:mapx><tns:mapy>146</tns:mapy><tns:congestionLocation><tns:name>Esmonde Rd - Onewa</tns:name><tns:direction>Southbound</tns:direction><tns:congestion>Free Flow</tns:congestion></tns:congestionLocation><tns:congestionLocation><tns:name>Stafford Rd - Esmonde Rd</tns:name><tns:direction>Northbound</tns:direction><tns:congestion>Free Flow</tns:congestion></tns:congestionLocation></tns:camera><tns:camera><tns:id>50</tns:id><tns:name>SH1 5 Onewa Rd</tns:name><tns:description>Onewa Rd looking south</tns:description><tns:offline>false</tns:offline><tns:underMaintenance>false</tns:underMaintenance><tns:imageUrl>http://www.trafficnz.info/camera/50.jpg</tns:imageUrl><tns:viewUrl>http://www.trafficnz.info/camera/view/50</tns:viewUrl><tns:mapx>157</tns:mapx><tns:mapy>162</tns:mapy><tns:congestionLocation><tns:name>Harbour Bridge</tns:name><tns:direction>Southbound</tns:direction><tns:congestion>Free Flow</tns:congestion></tns:congestionLocation><tns:congestionLocation><tns:name>Stafford Rd - Esmonde Rd</tns:name><tns:direction>Northbound</tns:direction><tns:congestion>Free Flow</tns:congestion></tns:congestionLocation></tns:camera><tns:camera><tns:id>215</tns:id><tns:name>SH1 Alpurt Web cam</tns:name><tns:description>Johnstone hill tunnels looking south</tns:description><tns:offline>false</tns:offline><tns:underMaintenance>false</tns:underMaintenance><tns:imageUrl>http://www.trafficnz.info/camera/215.jpg</tns:imageUrl><tns:viewUrl>http://www.trafficnz.info/camera/view/215</tns:viewUrl><tns:mapx>0</tns:mapx><tns:mapy>0</tns:mapy></tns:camera><tns:camera><tns:id>212</tns:id><tns:name>SH1 17 Goodwood</tns:name><tns:description>Goodwood heights looking south</tns:description><tns:offline>false</tns:offline><tns:underMaintenance>false</tns:underMaintenance><tns:imageUrl>http://www.trafficnz.info/camera/212.jpg</tns:imageUrl><tns:viewUrl>http://www.trafficnz.info/camera/view/212</tns:viewUrl><tns:mapx>0</tns:mapx><tns:mapy>0</tns:mapy></tns:camera><tns:camera><tns:id>214</tns:id><tns:name>SH1 18 Rainbows End</tns:name><tns:description>Rainbows End looking north at SH1 and SH20 link</tns:description><tns:offline>false</tns:offline><tns:underMaintenance>false</tns:underMaintenance><tns:imageUrl>http://www.trafficnz.info/camera/214.jpg</tns:imageUrl><tns:viewUrl>http://www.trafficnz.info/camera/view/214</tns:viewUrl><tns:mapx>0</tns:mapx><tns:mapy>0</tns:mapy></tns:camera><tns:camera><tns:id>60</tns:id><tns:name>SH1 1 CMJ</tns:name><tns:description>Central motorway junction looking south at the link between state highways 1 and 16</tns:description><tns:offline>false</tns:offline><tns:underMaintenance>false</tns:underMaintenance><tns:imageUrl>http://www.trafficnz.info/camera/60.jpg</tns:imageUrl><tns:viewUrl>http://www.trafficnz.info/camera/view/60</tns:viewUrl><tns:mapx>162</tns:mapx><tns:mapy>217</tns:mapy><tns:congestionLocation><tns:name>Nelson St - Gillies Ave</tns:name><tns:direction>Southbound</tns:direction><tns:congestion>Free Flow</tns:congestion></tns:congestionLocation></tns:camera><tns:camera><tns:id>70</tns:id><tns:name>SH1 2 Market Rd</tns:name><tns:description>Southern motorway at newmarket looking south towards the Market  Rd overbridge</tns:description><tns:offline>false</tns:offline><tns:underMaintenance>false</tns:underMaintenance><tns:imageUrl>http://www.trafficnz.info/camera/70.jpg</tns:imageUrl><tns:viewUrl>http://www.trafficnz.info/camera/view/70</tns:viewUrl><tns:mapx>183</tns:mapx><tns:mapy>241</tns:mapy><tns:congestionLocation><tns:name>Gillies Ave - Greenlane</tns:name><tns:direction>Southbound</tns:direction><tns:congestion>Free Flow</tns:congestion></tns:congestionLocation><tns:congestionLocation><tns:name>Greenlane - Gillies Ave</tns:name><tns:direction>Northbound</tns:direction><tns:congestion>Free Flow</tns:congestion></tns:congestionLocation></tns:camera><tns:camera><tns:id>80</tns:id><tns:name>SH1 3 Greenlane Rd</tns:name><tns:description>Greenlane Rd looking north</tns:description><tns:offline>false</tns:offline><tns:underMaintenance>false</tns:underMaintenance><tns:imageUrl>http://www.trafficnz.info/camera/80.jpg</tns:imageUrl><tns:viewUrl>http://www.trafficnz.info/camera/view/80</tns:viewUrl><tns:mapx>198</tns:mapx><tns:mapy>262</tns:mapy><tns:congestionLocation><tns:name>Gillies Ave - Greenlane</tns:name><tns:direction>Southbound</tns:direction><tns:congestion>Free Flow</tns:congestion></tns:congestionLocation><tns:congestionLocation><tns:name>Greenlane - Gillies Ave</tns:name><tns:direction>Northbound</tns:direction><tns:congestion>Free Flow</tns:congestion></tns:congestionLocation></tns:camera><tns:camera><tns:id>90</tns:id><tns:name>SH1 4 SE Highway</tns:name><tns:description>South eastern highway looking south</tns:description><tns:offline>false</tns:offline><tns:underMaintenance>false</tns:underMaintenance><tns:imageUrl>http://www.trafficnz.info/camera/90.jpg</tns:imageUrl><tns:viewUrl>http://www.trafficnz.info/camera/view/90</tns:viewUrl><tns:mapx>219</tns:mapx><tns:mapy>278</tns:mapy><tns:congestionLocation><tns:name>Mt Wellington Hway - SE Highway</tns:name><tns:direction>Northbound</tns:direction><tns:congestion>Free Flow</tns:congestion></tns:congestionLocation><tns:congestionLocation><tns:name>SE Highway - Mt Wellington Hway</tns:name><tns:direction>Southbound</tns:direction><tns:congestion>Moderate</tns:congestion></tns:congestionLocation></tns:camera><tns:camera><tns:id>100</tns:id><tns:name>SH1 5 Redoubt Rd</tns:name><tns:description>Redoubt Rd looking north</tns:description><tns:offline>false</tns:offline><tns:underMaintenance>false</tns:underMaintenance><tns:imageUrl>http://www.trafficnz.info/camera/100.jpg</tns:imageUrl><tns:viewUrl>http://www.trafficnz.info/camera/view/100</tns:viewUrl><tns:mapx>254</tns:mapx><tns:mapy>341</tns:mapy><tns:congestionLocation><tns:name>Redoubt Rd - Hill Rd</tns:name><tns:direction>Southbound</tns:direction><tns:congestion>Free Flow</tns:congestion></tns:congestionLocation><tns:congestionLocation><tns:name>Hill Rd - Redoubt Rd</tns:name><tns:direction>Northbound</tns:direction><tns:congestion>Free Flow</tns:congestion></tns:congestionLocation></tns:camera><tns:camera><tns:id>110</tns:id><tns:name>SH1 6 Bairds Rd</tns:name><tns:description>Bairds Rd looking north</tns:description><tns:offline>false</tns:offline><tns:underMaintenance>false</tns:underMaintenance><tns:imageUrl>http://www.trafficnz.info/camera/110.jpg</tns:imageUrl><tns:viewUrl>http://www.trafficnz.info/camera/view/110</tns:viewUrl><tns:mapx>275</tns:mapx><tns:mapy>383</tns:mapy><tns:congestionLocation><tns:name>East Tamaki Rd - Princes St</tns:name><tns:direction>Northbound</tns:direction><tns:congestion>Free Flow</tns:congestion></tns:congestionLocation><tns:congestionLocation><tns:name>Princes St - East Tamaki Rd</tns:name><tns:direction>Southbound</tns:direction><tns:congestion>Free Flow</tns:congestion></tns:congestionLocation></tns:camera><tns:camera><tns:id>120</tns:id><tns:name>SH1 7 Alfriston Rd</tns:name><tns:description>Alfriston Rd looking north</tns:description><tns:offline>false</tns:offline><tns:underMaintenance>false</tns:underMaintenance><tns:imageUrl>http://www.trafficnz.info/camera/120.jpg</tns:imageUrl><tns:viewUrl>http://www.trafficnz.info/camera/view/120</tns:viewUrl><tns:mapx>291</tns:mapx><tns:mapy>411</tns:mapy><tns:congestionLocation><tns:name>Takanini - Hill Rd</tns:name><tns:direction>Northbound</tns:direction><tns:congestion>Free Flow</tns:congestion></tns:congestionLocation><tns:congestionLocation><tns:name>Hill Rd - Takanini</tns:name><tns:direction>Southbound</tns:direction><tns:congestion>Free Flow</tns:congestion></tns:congestionLocation></tns:camera><tns:camera><tns:id>121</tns:id><tns:name>SH1 8 Takanini</tns:name><tns:description>Takanini looking south</tns:description><tns:offline>false</tns:offline><tns:underMaintenance>false</tns:underMaintenance><tns:imageUrl>http://www.trafficnz.info/camera/121.jpg</tns:imageUrl><tns:viewUrl>http://www.trafficnz.info/camera/view/121</tns:viewUrl><tns:mapx>290</tns:mapx><tns:mapy>380</tns:mapy></tns:camera><tns:camera><tns:id>122</tns:id><tns:name>SH1 9 Walter Streven</tns:name><tns:description>Walter-Strevens Drive looking south</tns:description><tns:offline>false</tns:offline><tns:underMaintenance>false</tns:underMaintenance><tns:imageUrl>http://www.trafficnz.info/camera/122.jpg</tns:imageUrl><tns:viewUrl>http://www.trafficnz.info/camera/view/122</tns:viewUrl><tns:mapx>285</tns:mapx><tns:mapy>400</tns:mapy></tns:camera><tns:camera><tns:id>123</tns:id><tns:name>SH1 10 Pahurehure</tns:name><tns:description>Pahurehure looking south</tns:description><tns:offline>false</tns:offline><tns:underMaintenance>false</tns:underMaintenance><tns:imageUrl>http://www.trafficnz.info/camera/123.jpg</tns:imageUrl><tns:viewUrl>http://www.trafficnz.info/camera/view/123</tns:viewUrl><tns:mapx>265</tns:mapx><tns:mapy>410</tns:mapy></tns:camera><tns:camera><tns:id>124</tns:id><tns:name>SH1 11 Rushgreen Ave</tns:name><tns:description>Rushgreen Ave looking south</tns:description><tns:offline>false</tns:offline><tns:underMaintenance>false</tns:underMaintenance><tns:imageUrl>http://www.trafficnz.info/camera/124.jpg</tns:imageUrl><tns:viewUrl>http://www.trafficnz.info/camera/view/124</tns:viewUrl><tns:mapx>285</tns:mapx><tns:mapy>420</tns:mapy></tns:camera><tns:camera><tns:id>125</tns:id><tns:name>SH1 12 Park Estate</tns:name><tns:description>Park estate looking south</tns:description><tns:offline>false</tns:offline><tns:underMaintenance>false</tns:underMaintenance><tns:imageUrl>http://www.trafficnz.info/camera/125.jpg</tns:imageUrl><tns:viewUrl>http://www.trafficnz.info/camera/view/125</tns:viewUrl><tns:mapx>300</tns:mapx><tns:mapy>430</tns:mapy></tns:camera><tns:camera><tns:id>126</tns:id><tns:name>SH1 13 Slippery Crk</tns:name><tns:description>Slippery Creek looking  south</tns:description><tns:offline>false</tns:offline><tns:underMaintenance>false</tns:underMaintenance><tns:imageUrl>http://www.trafficnz.info/camera/126.jpg</tns:imageUrl><tns:viewUrl>http://www.trafficnz.info/camera/view/126</tns:viewUrl><tns:mapx>286</tns:mapx><tns:mapy>445</tns:mapy></tns:camera><tns:camera><tns:id>274</tns:id><tns:name>SH20A Montgomerie Rd</tns:name><tns:description>Montgomerie Rd looking east</tns:description><tns:offline>false</tns:offline><tns:underMaintenance>false</tns:underMaintenance><tns:imageUrl>http://www.trafficnz.info/camera/274.jpg</tns:imageUrl><tns:viewUrl>http://www.trafficnz.info/camera/view/274</tns:viewUrl><tns:mapx>0</tns:mapx><tns:mapy>0</tns:mapy></tns:camera><tns:camera><tns:id>275</tns:id><tns:name>SH20A Kirkbride Road</tns:name><tns:description>Kirkbride Rd looking east</tns:description><tns:offline>false</tns:offline><tns:underMaintenance>false</tns:underMaintenance><tns:imageUrl>http://www.trafficnz.info/camera/275.jpg</tns:imageUrl><tns:viewUrl>http://www.trafficnz.info/camera/view/275</tns:viewUrl><tns:mapx>0</tns:mapx><tns:mapy>0</tns:mapy></tns:camera><tns:camera><tns:id>276</tns:id><tns:name>SH20A Bader Drive</tns:name><tns:description>Bader Drive looking east</tns:description><tns:offline>false</tns:offline><tns:underMaintenance>false</tns:underMaintenance><tns:imageUrl>http://www.trafficnz.info/camera/276.jpg</tns:imageUrl><tns:viewUrl>http://www.trafficnz.info/camera/view/276</tns:viewUrl><tns:mapx>0</tns:mapx><tns:mapy>0</tns:mapy></tns:camera><tns:camera><tns:id>272</tns:id><tns:name>SH20B Prices Road</tns:name><tns:description>Prices Rd looking east</tns:description><tns:offline>false</tns:offline><tns:underMaintenance>false</tns:underMaintenance><tns:imageUrl>http://www.trafficnz.info/camera/272.jpg</tns:imageUrl><tns:viewUrl>http://www.trafficnz.info/camera/view/272</tns:viewUrl><tns:mapx>0</tns:mapx><tns:mapy>0</tns:mapy></tns:camera><tns:camera><tns:id>273</tns:id><tns:name>SH20B Waokauri Creek</tns:name><tns:description>Waokauri Creek looking west</tns:description><tns:offline>false</tns:offline><tns:underMaintenance>false</tns:underMaintenance><tns:imageUrl>http://www.trafficnz.info/camera/273.jpg</tns:imageUrl><tns:viewUrl>http://www.trafficnz.info/camera/view/273</tns:viewUrl><tns:mapx>0</tns:mapx><tns:mapy>0</tns:mapy></tns:camera><tns:camera><tns:id>190</tns:id><tns:name>SH20 1 Queenstown Rd</tns:name><tns:description>Queenstown Rd looking south</tns:description><tns:offline>false</tns:offline><tns:underMaintenance>false</tns:underMaintenance><tns:imageUrl>http://www.trafficnz.info/camera/190.jpg</tns:imageUrl><tns:viewUrl>http://www.trafficnz.info/camera/view/190</tns:viewUrl><tns:mapx>35</tns:mapx><tns:mapy>207</tns:mapy></tns:camera><tns:camera><tns:id>191</tns:id><tns:name>SH20 2 Hillsborough</tns:name><tns:description>Hillsborough Rd looking south</tns:description><tns:offline>false</tns:offline><tns:underMaintenance>false</tns:underMaintenance><tns:imageUrl>http://www.trafficnz.info/camera/191.jpg</tns:imageUrl><tns:viewUrl>http://www.trafficnz.info/camera/view/191</tns:viewUrl><tns:mapx>35</tns:mapx><tns:mapy>207</tns:mapy></tns:camera><tns:camera><tns:id>192</tns:id><tns:name>SH20 3 Melrose</tns:name><tns:description>Melrose looking south</tns:description><tns:offline>false</tns:offline><tns:underMaintenance>false</tns:underMaintenance><tns:imageUrl>http://www.trafficnz.info/camera/192.jpg</tns:imageUrl><tns:viewUrl>http://www.trafficnz.info/camera/view/192</tns:viewUrl><tns:mapx>35</tns:mapx><tns:mapy>207</tns:mapy></tns:camera><tns:camera><tns:id>193</tns:id><tns:name>SH20 4 Dominion Rd</tns:name><tns:description>Dominion Rd looking south</tns:description><tns:offline>false</tns:offline><tns:underMaintenance>false</tns:underMaintenance><tns:imageUrl>http://www.trafficnz.info/camera/193.jpg</tns:imageUrl><tns:viewUrl>http://www.trafficnz.info/camera/view/193</tns:viewUrl><tns:mapx>35</tns:mapx><tns:mapy>207</tns:mapy></tns:camera><tns:camera><tns:id>194</tns:id><tns:name>SH20 5 Sandringham</tns:name><tns:description>Sandringham looking South</tns:description><tns:offline>false</tns:offline><tns:underMaintenance>false</tns:underMaintenance><tns:imageUrl>http://www.trafficnz.info/camera/194.jpg</tns:imageUrl><tns:viewUrl>http://www.trafficnz.info/camera/view/194</tns:viewUrl><tns:mapx>35</tns:mapx><tns:mapy>207</tns:mapy></tns:camera><tns:camera><tns:id>201</tns:id><tns:name>SH20 6 Gloucester Pk</tns:name><tns:description>Gloucester Park looking north</tns:description><tns:offline>false</tns:offline><tns:underMaintenance>false</tns:underMaintenance><tns:imageUrl>http://www.trafficnz.info/camera/201.jpg</tns:imageUrl><tns:viewUrl>http://www.trafficnz.info/camera/view/201</tns:viewUrl><tns:mapx>0</tns:mapx><tns:mapy>0</tns:mapy></tns:camera><tns:camera><tns:id>202</tns:id><tns:name>SH20 7 Onehunga</tns:name><tns:description>Onehunga wharf looking north</tns:description><tns:offline>false</tns:offline><tns:underMaintenance>false</tns:underMaintenance><tns:imageUrl>http://www.trafficnz.info/camera/202.jpg</tns:imageUrl><tns:viewUrl>http://www.trafficnz.info/camera/view/202</tns:viewUrl><tns:mapx>0</tns:mapx><tns:mapy>0</tns:mapy></tns:camera><tns:camera><tns:id>203</tns:id><tns:name>SH20 8 Rimu Rd</tns:name><tns:description>Rimu Rd looking north</tns:description><tns:offline>false</tns:offline><tns:underMaintenance>false</tns:underMaintenance><tns:imageUrl>http://www.trafficnz.info/camera/203.jpg</tns:imageUrl><tns:viewUrl>http://www.trafficnz.info/camera/view/203</tns:viewUrl><tns:mapx>0</tns:mapx><tns:mapy>0</tns:mapy></tns:camera><tns:camera><tns:id>204</tns:id><tns:name>SH20 9 Crawford Ave</tns:name><tns:description>Crawford Ave looking north</tns:description><tns:offline>false</tns:offline><tns:underMaintenance>false</tns:underMaintenance><tns:imageUrl>http://www.trafficnz.info/camera/204.jpg</tns:imageUrl><tns:viewUrl>http://www.trafficnz.info/camera/view/204</tns:viewUrl><tns:mapx>0</tns:mapx><tns:mapy>0</tns:mapy></tns:camera><tns:camera><tns:id>205</tns:id><tns:name>SH20 Coronation Rd</tns:name><tns:description>Coronation Rd looking east</tns:description><tns:offline>false</tns:offline><tns:underMaintenance>false</tns:underMaintenance><tns:imageUrl>http://www.trafficnz.info/camera/205.jpg</tns:imageUrl><tns:viewUrl>http://www.trafficnz.info/camera/view/205</tns:viewUrl><tns:mapx>0</tns:mapx><tns:mapy>0</tns:mapy></tns:camera><tns:camera><tns:id>206</tns:id><tns:name>SH20 11 Puhinui Rd</tns:name><tns:description>Puhinui road interchange looking south</tns:description><tns:offline>false</tns:offline><tns:underMaintenance>false</tns:underMaintenance><tns:imageUrl>http://www.trafficnz.info/camera/206.jpg</tns:imageUrl><tns:viewUrl>http://www.trafficnz.info/camera/view/206</tns:viewUrl><tns:mapx>0</tns:mapx><tns:mapy>0</tns:mapy></tns:camera><tns:camera><tns:id>207</tns:id><tns:name>SH20 12 Nesdale Road</tns:name><tns:description>Nesdale Rd looking east</tns:description><tns:offline>false</tns:offline><tns:underMaintenance>false</tns:underMaintenance><tns:imageUrl>http://www.trafficnz.info/camera/207.jpg</tns:imageUrl><tns:viewUrl>http://www.trafficnz.info/camera/view/207</tns:viewUrl><tns:mapx>0</tns:mapx><tns:mapy>0</tns:mapy></tns:camera><tns:camera><tns:id>208</tns:id><tns:name>SH20 13 Plunket Ave</tns:name><tns:description>Plunket Ave looking south</tns:description><tns:offline>false</tns:offline><tns:underMaintenance>false</tns:underMaintenance><tns:imageUrl>http://www.trafficnz.info/camera/208.jpg</tns:imageUrl><tns:viewUrl>http://www.trafficnz.info/camera/view/208</tns:viewUrl><tns:mapx>0</tns:mapx><tns:mapy>0</tns:mapy></tns:camera><tns:camera><tns:id>209</tns:id><tns:name>SH20 14 Lambie Drive</tns:name><tns:description>Lambie Drive looking south</tns:description><tns:offline>false</tns:offline><tns:underMaintenance>false</tns:underMaintenance><tns:imageUrl>http://www.trafficnz.info/camera/209.jpg</tns:imageUrl><tns:viewUrl>http://www.trafficnz.info/camera/view/209</tns:viewUrl><tns:mapx>0</tns:mapx><tns:mapy>0</tns:mapy></tns:camera><tns:camera><tns:id>210</tns:id><tns:name>SH20 15 Barrowcliffe</tns:name><tns:description>Barrowcliffe Place looking west</tns:description><tns:offline>false</tns:offline><tns:underMaintenance>false</tns:underMaintenance><tns:imageUrl>http://www.trafficnz.info/camera/210.jpg</tns:imageUrl><tns:viewUrl>http://www.trafficnz.info/camera/view/210</tns:viewUrl><tns:mapx>0</tns:mapx><tns:mapy>0</tns:mapy></tns:camera><tns:camera><tns:id>211</tns:id><tns:name>SH20 16 Great South</tns:name><tns:description>Great South Rd Looking westbound</tns:description><tns:offline>false</tns:offline><tns:underMaintenance>false</tns:underMaintenance><tns:imageUrl>http://www.trafficnz.info/camera/211.jpg</tns:imageUrl><tns:viewUrl>http://www.trafficnz.info/camera/view/211</tns:viewUrl><tns:mapx>0</tns:mapx><tns:mapy>0</tns:mapy></tns:camera></tns:getCamerasResponse>')"
     ],
     "language": "python",
     "metadata": {},
     "outputs": [],
     "prompt_number": 20
    },
    {
     "cell_type": "code",
     "collapsed": false,
     "input": [
      "datadict = xmltodict.parse(thexml)"
     ],
     "language": "python",
     "metadata": {},
     "outputs": [],
     "prompt_number": 21
    },
    {
     "cell_type": "code",
     "collapsed": false,
     "input": [
      "dakey = datadict.keys"
     ],
     "language": "python",
     "metadata": {},
     "outputs": [],
     "prompt_number": 22
    },
    {
     "cell_type": "code",
     "collapsed": false,
     "input": [
      "dalist = []"
     ],
     "language": "python",
     "metadata": {},
     "outputs": [],
     "prompt_number": 23
    },
    {
     "cell_type": "code",
     "collapsed": false,
     "input": [
      "dalist"
     ],
     "language": "python",
     "metadata": {},
     "outputs": [
      {
       "output_type": "pyout",
       "prompt_number": 24,
       "text": [
        "[]"
       ]
      }
     ],
     "prompt_number": 24
    },
    {
     "cell_type": "code",
     "collapsed": false,
     "input": [
      "import json\n",
      "\n",
      "#write the dictionary to a file\n",
      "outfile = open('linkz', 'w')\n",
      "json.dump(datadict, outfile)\n",
      "\n",
      "#read the data back in\n",
      "with open('linkz') as infile:\n",
      "    newDictionary = json.load(infile)"
     ],
     "language": "python",
     "metadata": {},
     "outputs": [],
     "prompt_number": 33
    },
    {
     "cell_type": "code",
     "collapsed": false,
     "input": [
      "print key"
     ],
     "language": "python",
     "metadata": {},
     "outputs": [
      {
       "ename": "NameError",
       "evalue": "name 'key' is not defined",
       "output_type": "pyerr",
       "traceback": [
        "\u001b[0;31m---------------------------------------------------------------------------\u001b[0m\n\u001b[0;31mNameError\u001b[0m                                 Traceback (most recent call last)",
        "\u001b[0;32m<ipython-input-34-c31e60addcde>\u001b[0m in \u001b[0;36m<module>\u001b[0;34m()\u001b[0m\n\u001b[0;32m----> 1\u001b[0;31m \u001b[0;32mprint\u001b[0m \u001b[0mkey\u001b[0m\u001b[0;34m\u001b[0m\u001b[0m\n\u001b[0m",
        "\u001b[0;31mNameError\u001b[0m: name 'key' is not defined"
       ]
      }
     ],
     "prompt_number": 34
    },
    {
     "cell_type": "code",
     "collapsed": false,
     "input": [
      "import json"
     ],
     "language": "python",
     "metadata": {},
     "outputs": [],
     "prompt_number": 35
    },
    {
     "cell_type": "code",
     "collapsed": false,
     "input": [
      "dicttojson = json.dumps(newDictionary)"
     ],
     "language": "python",
     "metadata": {},
     "outputs": [],
     "prompt_number": 36
    },
    {
     "cell_type": "code",
     "collapsed": false,
     "input": [
      "newDictionary"
     ],
     "language": "python",
     "metadata": {},
     "outputs": [
      {
       "output_type": "pyout",
       "prompt_number": 37,
       "text": [
        "{u'tns:getCamerasResponse': {u'@xmlns:rem': u'http://remote.service.callcenter.nzta.govt.nz',\n",
        "  u'@xmlns:tns': u'https://infoconnect.highwayinfo.govt.nz/schemas/camera',\n",
        "  u'@xmlns:xsd': u'http://www.w3.org/2001/XMLSchema',\n",
        "  u'@xmlns:xsi': u'http://www.w3.org/2001/XMLSchema-instance',\n",
        "  u'tns:camera': [{u'tns:congestionLocation': [{u'tns:congestion': u'Free Flow',\n",
        "      u'tns:direction': u'Eastbound',\n",
        "      u'tns:name': u'St Lukes Rd - Newton Rd'},\n",
        "     {u'tns:congestion': u'Free Flow',\n",
        "      u'tns:direction': u'Westbound',\n",
        "      u'tns:name': u'Newton Rd - St Lukes Rd'}],\n",
        "    u'tns:description': u'Bond St looking east',\n",
        "    u'tns:id': u'130',\n",
        "    u'tns:imageUrl': u'http://www.trafficnz.info/camera/130.jpg',\n",
        "    u'tns:mapx': u'142',\n",
        "    u'tns:mapy': u'229',\n",
        "    u'tns:name': u'SH16 1 Bond St',\n",
        "    u'tns:offline': u'false',\n",
        "    u'tns:underMaintenance': u'false',\n",
        "    u'tns:viewUrl': u'http://www.trafficnz.info/camera/view/130'},\n",
        "   {u'tns:congestionLocation': [{u'tns:congestion': u'Free Flow',\n",
        "      u'tns:direction': u'Eastbound',\n",
        "      u'tns:name': u'Rosebank Rd - Great Nth Rd Waterview'},\n",
        "     {u'tns:congestion': u'Free Flow',\n",
        "      u'tns:direction': u'Westbound',\n",
        "      u'tns:name': u'Great Nth Rd Waterview - Rosebank Rd'}],\n",
        "    u'tns:description': u'Gt North Road looking west',\n",
        "    u'tns:id': u'140',\n",
        "    u'tns:imageUrl': u'http://www.trafficnz.info/camera/140.jpg',\n",
        "    u'tns:mapx': u'113',\n",
        "    u'tns:mapy': u'232',\n",
        "    u'tns:name': u'SH16 2 Gt North Rd',\n",
        "    u'tns:offline': u'false',\n",
        "    u'tns:underMaintenance': u'false',\n",
        "    u'tns:viewUrl': u'http://www.trafficnz.info/camera/view/140'},\n",
        "   {u'tns:congestionLocation': [{u'tns:congestion': u'Free Flow',\n",
        "      u'tns:direction': u'Eastbound',\n",
        "      u'tns:name': u'Te Atatu Rd - Rosebank Rd'},\n",
        "     {u'tns:congestion': u'Free Flow',\n",
        "      u'tns:direction': u'Westbound',\n",
        "      u'tns:name': u'Rosebank Rd - Te Atatu Rd'}],\n",
        "    u'tns:description': u'Te Atatu Road looking east',\n",
        "    u'tns:id': u'150',\n",
        "    u'tns:imageUrl': u'http://www.trafficnz.info/camera/150.jpg',\n",
        "    u'tns:mapx': u'70',\n",
        "    u'tns:mapy': u'216',\n",
        "    u'tns:name': u'SH16 3 Te Atatu Rd',\n",
        "    u'tns:offline': u'false',\n",
        "    u'tns:underMaintenance': u'false',\n",
        "    u'tns:viewUrl': u'http://www.trafficnz.info/camera/view/150'},\n",
        "   {u'tns:congestionLocation': [{u'tns:congestion': u'Free Flow',\n",
        "      u'tns:direction': u'Westbound',\n",
        "      u'tns:name': u'Te Atatu Rd - Lincoln Rd'},\n",
        "     {u'tns:congestion': u'Free Flow',\n",
        "      u'tns:direction': u'Eastbound',\n",
        "      u'tns:name': u'Lincoln Rd - Te Atatu Rd'}],\n",
        "    u'tns:description': u'Lincoln Rd  looking west',\n",
        "    u'tns:id': u'160',\n",
        "    u'tns:imageUrl': u'http://www.trafficnz.info/camera/160.jpg',\n",
        "    u'tns:mapx': u'52',\n",
        "    u'tns:mapy': u'207',\n",
        "    u'tns:name': u'SH16 4 Lincoln Rd E',\n",
        "    u'tns:offline': u'false',\n",
        "    u'tns:underMaintenance': u'false',\n",
        "    u'tns:viewUrl': u'http://www.trafficnz.info/camera/view/160'},\n",
        "   {u'tns:congestionLocation': [{u'tns:congestion': u'Free Flow',\n",
        "      u'tns:direction': u'Westbound',\n",
        "      u'tns:name': u'Lincoln Rd - Royal Rd'},\n",
        "     {u'tns:congestion': u'Free Flow',\n",
        "      u'tns:direction': u'Eastbound',\n",
        "      u'tns:name': u'Royal Rd - Lincoln Rd'}],\n",
        "    u'tns:description': u'Lincoln Rd looking east',\n",
        "    u'tns:id': u'170',\n",
        "    u'tns:imageUrl': u'http://www.trafficnz.info/camera/170.jpg',\n",
        "    u'tns:mapx': u'35',\n",
        "    u'tns:mapy': u'207',\n",
        "    u'tns:name': u'SH16 5 Lincoln Rd W',\n",
        "    u'tns:offline': u'false',\n",
        "    u'tns:underMaintenance': u'false',\n",
        "    u'tns:viewUrl': u'http://www.trafficnz.info/camera/view/170'},\n",
        "   {u'tns:description': u'Hobsonville looking West towards Kumeu',\n",
        "    u'tns:id': u'270',\n",
        "    u'tns:imageUrl': u'http://www.trafficnz.info/camera/270.jpg',\n",
        "    u'tns:mapx': u'0',\n",
        "    u'tns:mapy': u'0',\n",
        "    u'tns:name': u'SH16 6 Hobsonville W',\n",
        "    u'tns:offline': u'false',\n",
        "    u'tns:underMaintenance': u'false',\n",
        "    u'tns:viewUrl': u'http://www.trafficnz.info/camera/view/270'},\n",
        "   {u'tns:description': u'Hobsonville Road looking East',\n",
        "    u'tns:id': u'271',\n",
        "    u'tns:imageUrl': u'http://www.trafficnz.info/camera/271.jpg',\n",
        "    u'tns:mapx': u'0',\n",
        "    u'tns:mapy': u'0',\n",
        "    u'tns:name': u'SH16 7 Hobsonville E',\n",
        "    u'tns:offline': u'false',\n",
        "    u'tns:underMaintenance': u'false',\n",
        "    u'tns:viewUrl': u'http://www.trafficnz.info/camera/view/271'},\n",
        "   {u'tns:description': u'Trig Rd looking west',\n",
        "    u'tns:id': u'221',\n",
        "    u'tns:imageUrl': u'http://www.trafficnz.info/camera/221.jpg',\n",
        "    u'tns:mapx': u'0',\n",
        "    u'tns:mapy': u'0',\n",
        "    u'tns:name': u'SH18 Trig Rd',\n",
        "    u'tns:offline': u'false',\n",
        "    u'tns:underMaintenance': u'false',\n",
        "    u'tns:viewUrl': u'http://www.trafficnz.info/camera/view/221'},\n",
        "   {u'tns:description': u'Upper harbour motorway looking west',\n",
        "    u'tns:id': u'222',\n",
        "    u'tns:imageUrl': u'http://www.trafficnz.info/camera/222.jpg',\n",
        "    u'tns:mapx': u'0',\n",
        "    u'tns:mapy': u'0',\n",
        "    u'tns:name': u'SH18 Waiahora Creek',\n",
        "    u'tns:offline': u'false',\n",
        "    u'tns:underMaintenance': u'false',\n",
        "    u'tns:viewUrl': u'http://www.trafficnz.info/camera/view/222'},\n",
        "   {u'tns:description': u'Upper harbour motorway looking East',\n",
        "    u'tns:id': u'223',\n",
        "    u'tns:imageUrl': u'http://www.trafficnz.info/camera/223.jpg',\n",
        "    u'tns:mapx': u'0',\n",
        "    u'tns:mapy': u'0',\n",
        "    u'tns:name': u'SH18 Brigham Creek',\n",
        "    u'tns:offline': u'false',\n",
        "    u'tns:underMaintenance': u'false',\n",
        "    u'tns:viewUrl': u'http://www.trafficnz.info/camera/view/223'},\n",
        "   {u'tns:description': u'Upper harbour motorway looking west',\n",
        "    u'tns:id': u'224',\n",
        "    u'tns:imageUrl': u'http://www.trafficnz.info/camera/224.jpg',\n",
        "    u'tns:mapx': u'0',\n",
        "    u'tns:mapy': u'0',\n",
        "    u'tns:name': u'SH18 Sinton Rd',\n",
        "    u'tns:offline': u'false',\n",
        "    u'tns:underMaintenance': u'false',\n",
        "    u'tns:viewUrl': u'http://www.trafficnz.info/camera/view/224'},\n",
        "   {u'tns:description': u'Upper harbour motorway looking east',\n",
        "    u'tns:id': u'225',\n",
        "    u'tns:imageUrl': u'http://www.trafficnz.info/camera/225.jpg',\n",
        "    u'tns:mapx': u'0',\n",
        "    u'tns:mapy': u'0',\n",
        "    u'tns:name': u'SH18 Squadron Dr',\n",
        "    u'tns:offline': u'false',\n",
        "    u'tns:underMaintenance': u'false',\n",
        "    u'tns:viewUrl': u'http://www.trafficnz.info/camera/view/225'},\n",
        "   {u'tns:description': u'Tauhinu bridge looking east',\n",
        "    u'tns:id': u'171',\n",
        "    u'tns:imageUrl': u'http://www.trafficnz.info/camera/171.jpg',\n",
        "    u'tns:mapx': u'60',\n",
        "    u'tns:mapy': u'207',\n",
        "    u'tns:name': u'SH18 6 Tauhinu BRG',\n",
        "    u'tns:offline': u'false',\n",
        "    u'tns:underMaintenance': u'false',\n",
        "    u'tns:viewUrl': u'http://www.trafficnz.info/camera/view/171'},\n",
        "   {u'tns:description': u'Albany Highway Looking East',\n",
        "    u'tns:id': u'172',\n",
        "    u'tns:imageUrl': u'http://www.trafficnz.info/camera/172.jpg',\n",
        "    u'tns:mapx': u'35',\n",
        "    u'tns:mapy': u'207',\n",
        "    u'tns:name': u'SH18 7 Albany HWY',\n",
        "    u'tns:offline': u'false',\n",
        "    u'tns:underMaintenance': u'false',\n",
        "    u'tns:viewUrl': u'http://www.trafficnz.info/camera/view/172'},\n",
        "   {u'tns:description': u'Tauhinu East Looking East',\n",
        "    u'tns:id': u'173',\n",
        "    u'tns:imageUrl': u'http://www.trafficnz.info/camera/173.jpg',\n",
        "    u'tns:mapx': u'35',\n",
        "    u'tns:mapy': u'207',\n",
        "    u'tns:name': u'SH18 8 Tauhinu East',\n",
        "    u'tns:offline': u'false',\n",
        "    u'tns:underMaintenance': u'false',\n",
        "    u'tns:viewUrl': u'http://www.trafficnz.info/camera/view/173'},\n",
        "   {u'tns:description': u'Paul matthews looking east',\n",
        "    u'tns:id': u'174',\n",
        "    u'tns:imageUrl': u'http://www.trafficnz.info/camera/174.jpg',\n",
        "    u'tns:mapx': u'35',\n",
        "    u'tns:mapy': u'207',\n",
        "    u'tns:name': u'SH18 9 Paul Matthews',\n",
        "    u'tns:offline': u'false',\n",
        "    u'tns:underMaintenance': u'false',\n",
        "    u'tns:viewUrl': u'http://www.trafficnz.info/camera/view/174'},\n",
        "   {u'tns:description': u'Greenhithe Rd looking east',\n",
        "    u'tns:id': u'175',\n",
        "    u'tns:imageUrl': u'http://www.trafficnz.info/camera/175.jpg',\n",
        "    u'tns:mapx': u'35',\n",
        "    u'tns:mapy': u'207',\n",
        "    u'tns:name': u'SH18 10 Greenhithe',\n",
        "    u'tns:offline': u'false',\n",
        "    u'tns:underMaintenance': u'false',\n",
        "    u'tns:viewUrl': u'http://www.trafficnz.info/camera/view/175'},\n",
        "   {u'tns:description': u'George deane looking east',\n",
        "    u'tns:id': u'176',\n",
        "    u'tns:imageUrl': u'http://www.trafficnz.info/camera/176.jpg',\n",
        "    u'tns:mapx': u'35',\n",
        "    u'tns:mapy': u'207',\n",
        "    u'tns:name': u'SH18 11 George Deane',\n",
        "    u'tns:offline': u'false',\n",
        "    u'tns:underMaintenance': u'false',\n",
        "    u'tns:viewUrl': u'http://www.trafficnz.info/camera/view/176'},\n",
        "   {u'tns:description': u'Upper harbour looking east',\n",
        "    u'tns:id': u'177',\n",
        "    u'tns:imageUrl': u'http://www.trafficnz.info/camera/177.jpg',\n",
        "    u'tns:mapx': u'35',\n",
        "    u'tns:mapy': u'207',\n",
        "    u'tns:name': u'SH18 12 Upper Hbr CW',\n",
        "    u'tns:offline': u'false',\n",
        "    u'tns:underMaintenance': u'false',\n",
        "    u'tns:viewUrl': u'http://www.trafficnz.info/camera/view/177'},\n",
        "   {u'tns:description': u'Wicklam Lane looking west',\n",
        "    u'tns:id': u'178',\n",
        "    u'tns:imageUrl': u'http://www.trafficnz.info/camera/178.jpg',\n",
        "    u'tns:mapx': u'35',\n",
        "    u'tns:mapy': u'207',\n",
        "    u'tns:name': u'SH18 13 Wicklam Lane',\n",
        "    u'tns:offline': u'false',\n",
        "    u'tns:underMaintenance': u'false',\n",
        "    u'tns:viewUrl': u'http://www.trafficnz.info/camera/view/178'},\n",
        "   {u'tns:congestionLocation': [{u'tns:congestion': u'Free Flow',\n",
        "      u'tns:direction': u'Northbound',\n",
        "      u'tns:name': u'Upper Harb Hwy - Oteha Valley Rd'},\n",
        "     {u'tns:congestion': u'Free Flow',\n",
        "      u'tns:direction': u'Southbound',\n",
        "      u'tns:name': u'Oteha Valley Rd - Upper Harb Hwy'}],\n",
        "    u'tns:description': u'Greville road looking south',\n",
        "    u'tns:id': u'10',\n",
        "    u'tns:imageUrl': u'http://www.trafficnz.info/camera/10.jpg',\n",
        "    u'tns:mapx': u'125',\n",
        "    u'tns:mapy': u'71',\n",
        "    u'tns:name': u'SH1 1 Greville Rd',\n",
        "    u'tns:offline': u'false',\n",
        "    u'tns:underMaintenance': u'false',\n",
        "    u'tns:viewUrl': u'http://www.trafficnz.info/camera/view/10'},\n",
        "   {u'tns:congestionLocation': [{u'tns:congestion': u'Free Flow',\n",
        "      u'tns:direction': u'Southbound',\n",
        "      u'tns:name': u'Tristram Ave - Esmonde Rd'},\n",
        "     {u'tns:congestion': u'Free Flow',\n",
        "      u'tns:direction': u'Northbound',\n",
        "      u'tns:name': u'Esmonde Rd - Tristram Ave'}],\n",
        "    u'tns:description': u'Tristram Avenue looking south',\n",
        "    u'tns:id': u'20',\n",
        "    u'tns:imageUrl': u'http://www.trafficnz.info/camera/20.jpg',\n",
        "    u'tns:mapx': u'148',\n",
        "    u'tns:mapy': u'118',\n",
        "    u'tns:name': u'SH1 2 Tristram Ave',\n",
        "    u'tns:offline': u'false',\n",
        "    u'tns:underMaintenance': u'false',\n",
        "    u'tns:viewUrl': u'http://www.trafficnz.info/camera/view/20'},\n",
        "   {u'tns:congestionLocation': [{u'tns:congestion': u'Free Flow',\n",
        "      u'tns:direction': u'Southbound',\n",
        "      u'tns:name': u'Tristram Ave - Esmonde Rd'},\n",
        "     {u'tns:congestion': u'Free Flow',\n",
        "      u'tns:direction': u'Northbound',\n",
        "      u'tns:name': u'Esmonde Rd - Tristram Ave'}],\n",
        "    u'tns:description': u'Northcote Rd looking north',\n",
        "    u'tns:id': u'30',\n",
        "    u'tns:imageUrl': u'http://www.trafficnz.info/camera/30.jpg',\n",
        "    u'tns:mapx': u'156',\n",
        "    u'tns:mapy': u'141',\n",
        "    u'tns:name': u'SH1 3 Northcote Rd',\n",
        "    u'tns:offline': u'false',\n",
        "    u'tns:underMaintenance': u'false',\n",
        "    u'tns:viewUrl': u'http://www.trafficnz.info/camera/view/30'},\n",
        "   {u'tns:congestionLocation': [{u'tns:congestion': u'Free Flow',\n",
        "      u'tns:direction': u'Southbound',\n",
        "      u'tns:name': u'Esmonde Rd - Onewa'},\n",
        "     {u'tns:congestion': u'Free Flow',\n",
        "      u'tns:direction': u'Northbound',\n",
        "      u'tns:name': u'Stafford Rd - Esmonde Rd'}],\n",
        "    u'tns:description': u'Esmonde Rd looking south',\n",
        "    u'tns:id': u'40',\n",
        "    u'tns:imageUrl': u'http://www.trafficnz.info/camera/40.jpg',\n",
        "    u'tns:mapx': u'178',\n",
        "    u'tns:mapy': u'146',\n",
        "    u'tns:name': u'SH1 4 Esmonde Rd',\n",
        "    u'tns:offline': u'false',\n",
        "    u'tns:underMaintenance': u'false',\n",
        "    u'tns:viewUrl': u'http://www.trafficnz.info/camera/view/40'},\n",
        "   {u'tns:congestionLocation': [{u'tns:congestion': u'Free Flow',\n",
        "      u'tns:direction': u'Southbound',\n",
        "      u'tns:name': u'Harbour Bridge'},\n",
        "     {u'tns:congestion': u'Free Flow',\n",
        "      u'tns:direction': u'Northbound',\n",
        "      u'tns:name': u'Stafford Rd - Esmonde Rd'}],\n",
        "    u'tns:description': u'Onewa Rd looking south',\n",
        "    u'tns:id': u'50',\n",
        "    u'tns:imageUrl': u'http://www.trafficnz.info/camera/50.jpg',\n",
        "    u'tns:mapx': u'157',\n",
        "    u'tns:mapy': u'162',\n",
        "    u'tns:name': u'SH1 5 Onewa Rd',\n",
        "    u'tns:offline': u'false',\n",
        "    u'tns:underMaintenance': u'false',\n",
        "    u'tns:viewUrl': u'http://www.trafficnz.info/camera/view/50'},\n",
        "   {u'tns:description': u'Johnstone hill tunnels looking south',\n",
        "    u'tns:id': u'215',\n",
        "    u'tns:imageUrl': u'http://www.trafficnz.info/camera/215.jpg',\n",
        "    u'tns:mapx': u'0',\n",
        "    u'tns:mapy': u'0',\n",
        "    u'tns:name': u'SH1 Alpurt Web cam',\n",
        "    u'tns:offline': u'false',\n",
        "    u'tns:underMaintenance': u'false',\n",
        "    u'tns:viewUrl': u'http://www.trafficnz.info/camera/view/215'},\n",
        "   {u'tns:description': u'Goodwood heights looking south',\n",
        "    u'tns:id': u'212',\n",
        "    u'tns:imageUrl': u'http://www.trafficnz.info/camera/212.jpg',\n",
        "    u'tns:mapx': u'0',\n",
        "    u'tns:mapy': u'0',\n",
        "    u'tns:name': u'SH1 17 Goodwood',\n",
        "    u'tns:offline': u'false',\n",
        "    u'tns:underMaintenance': u'false',\n",
        "    u'tns:viewUrl': u'http://www.trafficnz.info/camera/view/212'},\n",
        "   {u'tns:description': u'Rainbows End looking north at SH1 and SH20 link',\n",
        "    u'tns:id': u'214',\n",
        "    u'tns:imageUrl': u'http://www.trafficnz.info/camera/214.jpg',\n",
        "    u'tns:mapx': u'0',\n",
        "    u'tns:mapy': u'0',\n",
        "    u'tns:name': u'SH1 18 Rainbows End',\n",
        "    u'tns:offline': u'false',\n",
        "    u'tns:underMaintenance': u'false',\n",
        "    u'tns:viewUrl': u'http://www.trafficnz.info/camera/view/214'},\n",
        "   {u'tns:congestionLocation': {u'tns:congestion': u'Free Flow',\n",
        "     u'tns:direction': u'Southbound',\n",
        "     u'tns:name': u'Nelson St - Gillies Ave'},\n",
        "    u'tns:description': u'Central motorway junction looking south at the link between state highways 1 and 16',\n",
        "    u'tns:id': u'60',\n",
        "    u'tns:imageUrl': u'http://www.trafficnz.info/camera/60.jpg',\n",
        "    u'tns:mapx': u'162',\n",
        "    u'tns:mapy': u'217',\n",
        "    u'tns:name': u'SH1 1 CMJ',\n",
        "    u'tns:offline': u'false',\n",
        "    u'tns:underMaintenance': u'false',\n",
        "    u'tns:viewUrl': u'http://www.trafficnz.info/camera/view/60'},\n",
        "   {u'tns:congestionLocation': [{u'tns:congestion': u'Free Flow',\n",
        "      u'tns:direction': u'Southbound',\n",
        "      u'tns:name': u'Gillies Ave - Greenlane'},\n",
        "     {u'tns:congestion': u'Free Flow',\n",
        "      u'tns:direction': u'Northbound',\n",
        "      u'tns:name': u'Greenlane - Gillies Ave'}],\n",
        "    u'tns:description': u'Southern motorway at newmarket looking south towards the Market  Rd overbridge',\n",
        "    u'tns:id': u'70',\n",
        "    u'tns:imageUrl': u'http://www.trafficnz.info/camera/70.jpg',\n",
        "    u'tns:mapx': u'183',\n",
        "    u'tns:mapy': u'241',\n",
        "    u'tns:name': u'SH1 2 Market Rd',\n",
        "    u'tns:offline': u'false',\n",
        "    u'tns:underMaintenance': u'false',\n",
        "    u'tns:viewUrl': u'http://www.trafficnz.info/camera/view/70'},\n",
        "   {u'tns:congestionLocation': [{u'tns:congestion': u'Free Flow',\n",
        "      u'tns:direction': u'Southbound',\n",
        "      u'tns:name': u'Gillies Ave - Greenlane'},\n",
        "     {u'tns:congestion': u'Free Flow',\n",
        "      u'tns:direction': u'Northbound',\n",
        "      u'tns:name': u'Greenlane - Gillies Ave'}],\n",
        "    u'tns:description': u'Greenlane Rd looking north',\n",
        "    u'tns:id': u'80',\n",
        "    u'tns:imageUrl': u'http://www.trafficnz.info/camera/80.jpg',\n",
        "    u'tns:mapx': u'198',\n",
        "    u'tns:mapy': u'262',\n",
        "    u'tns:name': u'SH1 3 Greenlane Rd',\n",
        "    u'tns:offline': u'false',\n",
        "    u'tns:underMaintenance': u'false',\n",
        "    u'tns:viewUrl': u'http://www.trafficnz.info/camera/view/80'},\n",
        "   {u'tns:congestionLocation': [{u'tns:congestion': u'Free Flow',\n",
        "      u'tns:direction': u'Northbound',\n",
        "      u'tns:name': u'Mt Wellington Hway - SE Highway'},\n",
        "     {u'tns:congestion': u'Moderate',\n",
        "      u'tns:direction': u'Southbound',\n",
        "      u'tns:name': u'SE Highway - Mt Wellington Hway'}],\n",
        "    u'tns:description': u'South eastern highway looking south',\n",
        "    u'tns:id': u'90',\n",
        "    u'tns:imageUrl': u'http://www.trafficnz.info/camera/90.jpg',\n",
        "    u'tns:mapx': u'219',\n",
        "    u'tns:mapy': u'278',\n",
        "    u'tns:name': u'SH1 4 SE Highway',\n",
        "    u'tns:offline': u'false',\n",
        "    u'tns:underMaintenance': u'false',\n",
        "    u'tns:viewUrl': u'http://www.trafficnz.info/camera/view/90'},\n",
        "   {u'tns:congestionLocation': [{u'tns:congestion': u'Free Flow',\n",
        "      u'tns:direction': u'Southbound',\n",
        "      u'tns:name': u'Redoubt Rd - Hill Rd'},\n",
        "     {u'tns:congestion': u'Free Flow',\n",
        "      u'tns:direction': u'Northbound',\n",
        "      u'tns:name': u'Hill Rd - Redoubt Rd'}],\n",
        "    u'tns:description': u'Redoubt Rd looking north',\n",
        "    u'tns:id': u'100',\n",
        "    u'tns:imageUrl': u'http://www.trafficnz.info/camera/100.jpg',\n",
        "    u'tns:mapx': u'254',\n",
        "    u'tns:mapy': u'341',\n",
        "    u'tns:name': u'SH1 5 Redoubt Rd',\n",
        "    u'tns:offline': u'false',\n",
        "    u'tns:underMaintenance': u'false',\n",
        "    u'tns:viewUrl': u'http://www.trafficnz.info/camera/view/100'},\n",
        "   {u'tns:congestionLocation': [{u'tns:congestion': u'Free Flow',\n",
        "      u'tns:direction': u'Northbound',\n",
        "      u'tns:name': u'East Tamaki Rd - Princes St'},\n",
        "     {u'tns:congestion': u'Free Flow',\n",
        "      u'tns:direction': u'Southbound',\n",
        "      u'tns:name': u'Princes St - East Tamaki Rd'}],\n",
        "    u'tns:description': u'Bairds Rd looking north',\n",
        "    u'tns:id': u'110',\n",
        "    u'tns:imageUrl': u'http://www.trafficnz.info/camera/110.jpg',\n",
        "    u'tns:mapx': u'275',\n",
        "    u'tns:mapy': u'383',\n",
        "    u'tns:name': u'SH1 6 Bairds Rd',\n",
        "    u'tns:offline': u'false',\n",
        "    u'tns:underMaintenance': u'false',\n",
        "    u'tns:viewUrl': u'http://www.trafficnz.info/camera/view/110'},\n",
        "   {u'tns:congestionLocation': [{u'tns:congestion': u'Free Flow',\n",
        "      u'tns:direction': u'Northbound',\n",
        "      u'tns:name': u'Takanini - Hill Rd'},\n",
        "     {u'tns:congestion': u'Free Flow',\n",
        "      u'tns:direction': u'Southbound',\n",
        "      u'tns:name': u'Hill Rd - Takanini'}],\n",
        "    u'tns:description': u'Alfriston Rd looking north',\n",
        "    u'tns:id': u'120',\n",
        "    u'tns:imageUrl': u'http://www.trafficnz.info/camera/120.jpg',\n",
        "    u'tns:mapx': u'291',\n",
        "    u'tns:mapy': u'411',\n",
        "    u'tns:name': u'SH1 7 Alfriston Rd',\n",
        "    u'tns:offline': u'false',\n",
        "    u'tns:underMaintenance': u'false',\n",
        "    u'tns:viewUrl': u'http://www.trafficnz.info/camera/view/120'},\n",
        "   {u'tns:description': u'Takanini looking south',\n",
        "    u'tns:id': u'121',\n",
        "    u'tns:imageUrl': u'http://www.trafficnz.info/camera/121.jpg',\n",
        "    u'tns:mapx': u'290',\n",
        "    u'tns:mapy': u'380',\n",
        "    u'tns:name': u'SH1 8 Takanini',\n",
        "    u'tns:offline': u'false',\n",
        "    u'tns:underMaintenance': u'false',\n",
        "    u'tns:viewUrl': u'http://www.trafficnz.info/camera/view/121'},\n",
        "   {u'tns:description': u'Walter-Strevens Drive looking south',\n",
        "    u'tns:id': u'122',\n",
        "    u'tns:imageUrl': u'http://www.trafficnz.info/camera/122.jpg',\n",
        "    u'tns:mapx': u'285',\n",
        "    u'tns:mapy': u'400',\n",
        "    u'tns:name': u'SH1 9 Walter Streven',\n",
        "    u'tns:offline': u'false',\n",
        "    u'tns:underMaintenance': u'false',\n",
        "    u'tns:viewUrl': u'http://www.trafficnz.info/camera/view/122'},\n",
        "   {u'tns:description': u'Pahurehure looking south',\n",
        "    u'tns:id': u'123',\n",
        "    u'tns:imageUrl': u'http://www.trafficnz.info/camera/123.jpg',\n",
        "    u'tns:mapx': u'265',\n",
        "    u'tns:mapy': u'410',\n",
        "    u'tns:name': u'SH1 10 Pahurehure',\n",
        "    u'tns:offline': u'false',\n",
        "    u'tns:underMaintenance': u'false',\n",
        "    u'tns:viewUrl': u'http://www.trafficnz.info/camera/view/123'},\n",
        "   {u'tns:description': u'Rushgreen Ave looking south',\n",
        "    u'tns:id': u'124',\n",
        "    u'tns:imageUrl': u'http://www.trafficnz.info/camera/124.jpg',\n",
        "    u'tns:mapx': u'285',\n",
        "    u'tns:mapy': u'420',\n",
        "    u'tns:name': u'SH1 11 Rushgreen Ave',\n",
        "    u'tns:offline': u'false',\n",
        "    u'tns:underMaintenance': u'false',\n",
        "    u'tns:viewUrl': u'http://www.trafficnz.info/camera/view/124'},\n",
        "   {u'tns:description': u'Park estate looking south',\n",
        "    u'tns:id': u'125',\n",
        "    u'tns:imageUrl': u'http://www.trafficnz.info/camera/125.jpg',\n",
        "    u'tns:mapx': u'300',\n",
        "    u'tns:mapy': u'430',\n",
        "    u'tns:name': u'SH1 12 Park Estate',\n",
        "    u'tns:offline': u'false',\n",
        "    u'tns:underMaintenance': u'false',\n",
        "    u'tns:viewUrl': u'http://www.trafficnz.info/camera/view/125'},\n",
        "   {u'tns:description': u'Slippery Creek looking  south',\n",
        "    u'tns:id': u'126',\n",
        "    u'tns:imageUrl': u'http://www.trafficnz.info/camera/126.jpg',\n",
        "    u'tns:mapx': u'286',\n",
        "    u'tns:mapy': u'445',\n",
        "    u'tns:name': u'SH1 13 Slippery Crk',\n",
        "    u'tns:offline': u'false',\n",
        "    u'tns:underMaintenance': u'false',\n",
        "    u'tns:viewUrl': u'http://www.trafficnz.info/camera/view/126'},\n",
        "   {u'tns:description': u'Montgomerie Rd looking east',\n",
        "    u'tns:id': u'274',\n",
        "    u'tns:imageUrl': u'http://www.trafficnz.info/camera/274.jpg',\n",
        "    u'tns:mapx': u'0',\n",
        "    u'tns:mapy': u'0',\n",
        "    u'tns:name': u'SH20A Montgomerie Rd',\n",
        "    u'tns:offline': u'false',\n",
        "    u'tns:underMaintenance': u'false',\n",
        "    u'tns:viewUrl': u'http://www.trafficnz.info/camera/view/274'},\n",
        "   {u'tns:description': u'Kirkbride Rd looking east',\n",
        "    u'tns:id': u'275',\n",
        "    u'tns:imageUrl': u'http://www.trafficnz.info/camera/275.jpg',\n",
        "    u'tns:mapx': u'0',\n",
        "    u'tns:mapy': u'0',\n",
        "    u'tns:name': u'SH20A Kirkbride Road',\n",
        "    u'tns:offline': u'false',\n",
        "    u'tns:underMaintenance': u'false',\n",
        "    u'tns:viewUrl': u'http://www.trafficnz.info/camera/view/275'},\n",
        "   {u'tns:description': u'Bader Drive looking east',\n",
        "    u'tns:id': u'276',\n",
        "    u'tns:imageUrl': u'http://www.trafficnz.info/camera/276.jpg',\n",
        "    u'tns:mapx': u'0',\n",
        "    u'tns:mapy': u'0',\n",
        "    u'tns:name': u'SH20A Bader Drive',\n",
        "    u'tns:offline': u'false',\n",
        "    u'tns:underMaintenance': u'false',\n",
        "    u'tns:viewUrl': u'http://www.trafficnz.info/camera/view/276'},\n",
        "   {u'tns:description': u'Prices Rd looking east',\n",
        "    u'tns:id': u'272',\n",
        "    u'tns:imageUrl': u'http://www.trafficnz.info/camera/272.jpg',\n",
        "    u'tns:mapx': u'0',\n",
        "    u'tns:mapy': u'0',\n",
        "    u'tns:name': u'SH20B Prices Road',\n",
        "    u'tns:offline': u'false',\n",
        "    u'tns:underMaintenance': u'false',\n",
        "    u'tns:viewUrl': u'http://www.trafficnz.info/camera/view/272'},\n",
        "   {u'tns:description': u'Waokauri Creek looking west',\n",
        "    u'tns:id': u'273',\n",
        "    u'tns:imageUrl': u'http://www.trafficnz.info/camera/273.jpg',\n",
        "    u'tns:mapx': u'0',\n",
        "    u'tns:mapy': u'0',\n",
        "    u'tns:name': u'SH20B Waokauri Creek',\n",
        "    u'tns:offline': u'false',\n",
        "    u'tns:underMaintenance': u'false',\n",
        "    u'tns:viewUrl': u'http://www.trafficnz.info/camera/view/273'},\n",
        "   {u'tns:description': u'Queenstown Rd looking south',\n",
        "    u'tns:id': u'190',\n",
        "    u'tns:imageUrl': u'http://www.trafficnz.info/camera/190.jpg',\n",
        "    u'tns:mapx': u'35',\n",
        "    u'tns:mapy': u'207',\n",
        "    u'tns:name': u'SH20 1 Queenstown Rd',\n",
        "    u'tns:offline': u'false',\n",
        "    u'tns:underMaintenance': u'false',\n",
        "    u'tns:viewUrl': u'http://www.trafficnz.info/camera/view/190'},\n",
        "   {u'tns:description': u'Hillsborough Rd looking south',\n",
        "    u'tns:id': u'191',\n",
        "    u'tns:imageUrl': u'http://www.trafficnz.info/camera/191.jpg',\n",
        "    u'tns:mapx': u'35',\n",
        "    u'tns:mapy': u'207',\n",
        "    u'tns:name': u'SH20 2 Hillsborough',\n",
        "    u'tns:offline': u'false',\n",
        "    u'tns:underMaintenance': u'false',\n",
        "    u'tns:viewUrl': u'http://www.trafficnz.info/camera/view/191'},\n",
        "   {u'tns:description': u'Melrose looking south',\n",
        "    u'tns:id': u'192',\n",
        "    u'tns:imageUrl': u'http://www.trafficnz.info/camera/192.jpg',\n",
        "    u'tns:mapx': u'35',\n",
        "    u'tns:mapy': u'207',\n",
        "    u'tns:name': u'SH20 3 Melrose',\n",
        "    u'tns:offline': u'false',\n",
        "    u'tns:underMaintenance': u'false',\n",
        "    u'tns:viewUrl': u'http://www.trafficnz.info/camera/view/192'},\n",
        "   {u'tns:description': u'Dominion Rd looking south',\n",
        "    u'tns:id': u'193',\n",
        "    u'tns:imageUrl': u'http://www.trafficnz.info/camera/193.jpg',\n",
        "    u'tns:mapx': u'35',\n",
        "    u'tns:mapy': u'207',\n",
        "    u'tns:name': u'SH20 4 Dominion Rd',\n",
        "    u'tns:offline': u'false',\n",
        "    u'tns:underMaintenance': u'false',\n",
        "    u'tns:viewUrl': u'http://www.trafficnz.info/camera/view/193'},\n",
        "   {u'tns:description': u'Sandringham looking South',\n",
        "    u'tns:id': u'194',\n",
        "    u'tns:imageUrl': u'http://www.trafficnz.info/camera/194.jpg',\n",
        "    u'tns:mapx': u'35',\n",
        "    u'tns:mapy': u'207',\n",
        "    u'tns:name': u'SH20 5 Sandringham',\n",
        "    u'tns:offline': u'false',\n",
        "    u'tns:underMaintenance': u'false',\n",
        "    u'tns:viewUrl': u'http://www.trafficnz.info/camera/view/194'},\n",
        "   {u'tns:description': u'Gloucester Park looking north',\n",
        "    u'tns:id': u'201',\n",
        "    u'tns:imageUrl': u'http://www.trafficnz.info/camera/201.jpg',\n",
        "    u'tns:mapx': u'0',\n",
        "    u'tns:mapy': u'0',\n",
        "    u'tns:name': u'SH20 6 Gloucester Pk',\n",
        "    u'tns:offline': u'false',\n",
        "    u'tns:underMaintenance': u'false',\n",
        "    u'tns:viewUrl': u'http://www.trafficnz.info/camera/view/201'},\n",
        "   {u'tns:description': u'Onehunga wharf looking north',\n",
        "    u'tns:id': u'202',\n",
        "    u'tns:imageUrl': u'http://www.trafficnz.info/camera/202.jpg',\n",
        "    u'tns:mapx': u'0',\n",
        "    u'tns:mapy': u'0',\n",
        "    u'tns:name': u'SH20 7 Onehunga',\n",
        "    u'tns:offline': u'false',\n",
        "    u'tns:underMaintenance': u'false',\n",
        "    u'tns:viewUrl': u'http://www.trafficnz.info/camera/view/202'},\n",
        "   {u'tns:description': u'Rimu Rd looking north',\n",
        "    u'tns:id': u'203',\n",
        "    u'tns:imageUrl': u'http://www.trafficnz.info/camera/203.jpg',\n",
        "    u'tns:mapx': u'0',\n",
        "    u'tns:mapy': u'0',\n",
        "    u'tns:name': u'SH20 8 Rimu Rd',\n",
        "    u'tns:offline': u'false',\n",
        "    u'tns:underMaintenance': u'false',\n",
        "    u'tns:viewUrl': u'http://www.trafficnz.info/camera/view/203'},\n",
        "   {u'tns:description': u'Crawford Ave looking north',\n",
        "    u'tns:id': u'204',\n",
        "    u'tns:imageUrl': u'http://www.trafficnz.info/camera/204.jpg',\n",
        "    u'tns:mapx': u'0',\n",
        "    u'tns:mapy': u'0',\n",
        "    u'tns:name': u'SH20 9 Crawford Ave',\n",
        "    u'tns:offline': u'false',\n",
        "    u'tns:underMaintenance': u'false',\n",
        "    u'tns:viewUrl': u'http://www.trafficnz.info/camera/view/204'},\n",
        "   {u'tns:description': u'Coronation Rd looking east',\n",
        "    u'tns:id': u'205',\n",
        "    u'tns:imageUrl': u'http://www.trafficnz.info/camera/205.jpg',\n",
        "    u'tns:mapx': u'0',\n",
        "    u'tns:mapy': u'0',\n",
        "    u'tns:name': u'SH20 Coronation Rd',\n",
        "    u'tns:offline': u'false',\n",
        "    u'tns:underMaintenance': u'false',\n",
        "    u'tns:viewUrl': u'http://www.trafficnz.info/camera/view/205'},\n",
        "   {u'tns:description': u'Puhinui road interchange looking south',\n",
        "    u'tns:id': u'206',\n",
        "    u'tns:imageUrl': u'http://www.trafficnz.info/camera/206.jpg',\n",
        "    u'tns:mapx': u'0',\n",
        "    u'tns:mapy': u'0',\n",
        "    u'tns:name': u'SH20 11 Puhinui Rd',\n",
        "    u'tns:offline': u'false',\n",
        "    u'tns:underMaintenance': u'false',\n",
        "    u'tns:viewUrl': u'http://www.trafficnz.info/camera/view/206'},\n",
        "   {u'tns:description': u'Nesdale Rd looking east',\n",
        "    u'tns:id': u'207',\n",
        "    u'tns:imageUrl': u'http://www.trafficnz.info/camera/207.jpg',\n",
        "    u'tns:mapx': u'0',\n",
        "    u'tns:mapy': u'0',\n",
        "    u'tns:name': u'SH20 12 Nesdale Road',\n",
        "    u'tns:offline': u'false',\n",
        "    u'tns:underMaintenance': u'false',\n",
        "    u'tns:viewUrl': u'http://www.trafficnz.info/camera/view/207'},\n",
        "   {u'tns:description': u'Plunket Ave looking south',\n",
        "    u'tns:id': u'208',\n",
        "    u'tns:imageUrl': u'http://www.trafficnz.info/camera/208.jpg',\n",
        "    u'tns:mapx': u'0',\n",
        "    u'tns:mapy': u'0',\n",
        "    u'tns:name': u'SH20 13 Plunket Ave',\n",
        "    u'tns:offline': u'false',\n",
        "    u'tns:underMaintenance': u'false',\n",
        "    u'tns:viewUrl': u'http://www.trafficnz.info/camera/view/208'},\n",
        "   {u'tns:description': u'Lambie Drive looking south',\n",
        "    u'tns:id': u'209',\n",
        "    u'tns:imageUrl': u'http://www.trafficnz.info/camera/209.jpg',\n",
        "    u'tns:mapx': u'0',\n",
        "    u'tns:mapy': u'0',\n",
        "    u'tns:name': u'SH20 14 Lambie Drive',\n",
        "    u'tns:offline': u'false',\n",
        "    u'tns:underMaintenance': u'false',\n",
        "    u'tns:viewUrl': u'http://www.trafficnz.info/camera/view/209'},\n",
        "   {u'tns:description': u'Barrowcliffe Place looking west',\n",
        "    u'tns:id': u'210',\n",
        "    u'tns:imageUrl': u'http://www.trafficnz.info/camera/210.jpg',\n",
        "    u'tns:mapx': u'0',\n",
        "    u'tns:mapy': u'0',\n",
        "    u'tns:name': u'SH20 15 Barrowcliffe',\n",
        "    u'tns:offline': u'false',\n",
        "    u'tns:underMaintenance': u'false',\n",
        "    u'tns:viewUrl': u'http://www.trafficnz.info/camera/view/210'},\n",
        "   {u'tns:description': u'Great South Rd Looking westbound',\n",
        "    u'tns:id': u'211',\n",
        "    u'tns:imageUrl': u'http://www.trafficnz.info/camera/211.jpg',\n",
        "    u'tns:mapx': u'0',\n",
        "    u'tns:mapy': u'0',\n",
        "    u'tns:name': u'SH20 16 Great South',\n",
        "    u'tns:offline': u'false',\n",
        "    u'tns:underMaintenance': u'false',\n",
        "    u'tns:viewUrl': u'http://www.trafficnz.info/camera/view/211'}]}}"
       ]
      }
     ],
     "prompt_number": 37
    },
    {
     "cell_type": "code",
     "collapsed": false,
     "input": [
      "newdicli = []"
     ],
     "language": "python",
     "metadata": {},
     "outputs": [],
     "prompt_number": 38
    },
    {
     "cell_type": "code",
     "collapsed": false,
     "input": [
      "newDictionary.items"
     ],
     "language": "python",
     "metadata": {},
     "outputs": [
      {
       "output_type": "pyout",
       "prompt_number": 39,
       "text": [
        "<function items>"
       ]
      }
     ],
     "prompt_number": 39
    },
    {
     "cell_type": "code",
     "collapsed": false,
     "input": [
      "len(newDictionary)"
     ],
     "language": "python",
     "metadata": {},
     "outputs": [
      {
       "output_type": "pyout",
       "prompt_number": 40,
       "text": [
        "1"
       ]
      }
     ],
     "prompt_number": 40
    },
    {
     "cell_type": "code",
     "collapsed": false,
     "input": [
      "althere = newDictionary[u'tns:getCamerasResponse']"
     ],
     "language": "python",
     "metadata": {},
     "outputs": [],
     "prompt_number": 58
    },
    {
     "cell_type": "code",
     "collapsed": false,
     "input": [
      "len(althere)"
     ],
     "language": "python",
     "metadata": {},
     "outputs": [
      {
       "output_type": "pyout",
       "prompt_number": 81,
       "text": [
        "5"
       ]
      }
     ],
     "prompt_number": 81
    },
    {
     "cell_type": "code",
     "collapsed": false,
     "input": [
      "althere.keys()"
     ],
     "language": "python",
     "metadata": {},
     "outputs": [
      {
       "output_type": "pyout",
       "prompt_number": 83,
       "text": [
        "[u'@xmlns:xsi', u'@xmlns:xsd', u'tns:camera', u'@xmlns:rem', u'@xmlns:tns']"
       ]
      }
     ],
     "prompt_number": 83
    },
    {
     "cell_type": "code",
     "collapsed": false,
     "input": [
      "for alke in althere.keys():\n",
      "    print alke"
     ],
     "language": "python",
     "metadata": {},
     "outputs": [
      {
       "output_type": "stream",
       "stream": "stdout",
       "text": [
        "@xmlns:xsi\n",
        "@xmlns:xsd\n",
        "tns:camera\n",
        "@xmlns:rem\n",
        "@xmlns:tns\n"
       ]
      }
     ],
     "prompt_number": 92
    },
    {
     "cell_type": "code",
     "collapsed": false,
     "input": [
      "camgit = (althere(n'tns:camera')"
     ],
     "language": "python",
     "metadata": {},
     "outputs": [
      {
       "ename": "SyntaxError",
       "evalue": "invalid syntax (<ipython-input-95-3bd7362f6f43>, line 1)",
       "output_type": "pyerr",
       "traceback": [
        "\u001b[0;36m  File \u001b[0;32m\"<ipython-input-95-3bd7362f6f43>\"\u001b[0;36m, line \u001b[0;32m1\u001b[0m\n\u001b[0;31m    camgit = (althere(n'tns:camera')\u001b[0m\n\u001b[0m                                  ^\u001b[0m\n\u001b[0;31mSyntaxError\u001b[0m\u001b[0;31m:\u001b[0m invalid syntax\n"
       ]
      }
     ],
     "prompt_number": 95
    },
    {
     "cell_type": "code",
     "collapsed": false,
     "input": [],
     "language": "python",
     "metadata": {},
     "outputs": []
    },
    {
     "cell_type": "code",
     "collapsed": false,
     "input": [
      "print 'hello world'"
     ],
     "language": "python",
     "metadata": {},
     "outputs": [
      {
       "output_type": "stream",
       "stream": "stdout",
       "text": [
        "hello world\n"
       ]
      }
     ],
     "prompt_number": 60
    },
    {
     "cell_type": "code",
     "collapsed": false,
     "input": [
      "althere.keys()"
     ],
     "language": "python",
     "metadata": {},
     "outputs": [
      {
       "output_type": "pyout",
       "prompt_number": 67,
       "text": [
        "[u'@xmlns:xsi', u'@xmlns:xsd', u'tns:camera', u'@xmlns:rem', u'@xmlns:tns']"
       ]
      }
     ],
     "prompt_number": 67
    },
    {
     "cell_type": "code",
     "collapsed": false,
     "input": [
      "bthere = althere[u'tns:camera']"
     ],
     "language": "python",
     "metadata": {},
     "outputs": [],
     "prompt_number": 96
    },
    {
     "cell_type": "code",
     "collapsed": false,
     "input": [
      "bthere[0]"
     ],
     "language": "python",
     "metadata": {},
     "outputs": [
      {
       "output_type": "pyout",
       "prompt_number": 165,
       "text": [
        "{u'tns:congestionLocation': [{u'tns:congestion': u'Free Flow',\n",
        "   u'tns:direction': u'Eastbound',\n",
        "   u'tns:name': u'St Lukes Rd - Newton Rd'},\n",
        "  {u'tns:congestion': u'Free Flow',\n",
        "   u'tns:direction': u'Westbound',\n",
        "   u'tns:name': u'Newton Rd - St Lukes Rd'}],\n",
        " u'tns:description': u'Bond St looking east',\n",
        " u'tns:id': u'130',\n",
        " u'tns:imageUrl': u'http://www.trafficnz.info/camera/130.jpg',\n",
        " u'tns:mapx': u'142',\n",
        " u'tns:mapy': u'229',\n",
        " u'tns:name': u'SH16 1 Bond St',\n",
        " u'tns:offline': u'false',\n",
        " u'tns:underMaintenance': u'false',\n",
        " u'tns:viewUrl': u'http://www.trafficnz.info/camera/view/130'}"
       ]
      }
     ],
     "prompt_number": 165
    },
    {
     "cell_type": "code",
     "collapsed": false,
     "input": [
      "print bthere[0]"
     ],
     "language": "python",
     "metadata": {},
     "outputs": [
      {
       "output_type": "stream",
       "stream": "stdout",
       "text": [
        "{u'tns:id': u'130', u'tns:imageUrl': u'http://www.trafficnz.info/camera/130.jpg', u'tns:viewUrl': u'http://www.trafficnz.info/camera/view/130', u'tns:description': u'Bond St looking east', u'tns:mapx': u'142', u'tns:offline': u'false', u'tns:underMaintenance': u'false', u'tns:congestionLocation': [{u'tns:name': u'St Lukes Rd - Newton Rd', u'tns:direction': u'Eastbound', u'tns:congestion': u'Free Flow'}, {u'tns:name': u'Newton Rd - St Lukes Rd', u'tns:direction': u'Westbound', u'tns:congestion': u'Free Flow'}], u'tns:mapy': u'229', u'tns:name': u'SH16 1 Bond St'}\n"
       ]
      }
     ],
     "prompt_number": 166
    },
    {
     "cell_type": "code",
     "collapsed": false,
     "input": [
      "neth = len(bthere)"
     ],
     "language": "python",
     "metadata": {},
     "outputs": [],
     "prompt_number": 167
    },
    {
     "cell_type": "code",
     "collapsed": false,
     "input": [
      "print neth"
     ],
     "language": "python",
     "metadata": {},
     "outputs": [
      {
       "output_type": "stream",
       "stream": "stdout",
       "text": [
        "62\n"
       ]
      }
     ],
     "prompt_number": 168
    },
    {
     "cell_type": "code",
     "collapsed": false,
     "input": [
      "import random"
     ],
     "language": "python",
     "metadata": {},
     "outputs": [],
     "prompt_number": 169
    },
    {
     "cell_type": "code",
     "collapsed": false,
     "input": [
      "theimgz = random.randint(0,neth)"
     ],
     "language": "python",
     "metadata": {},
     "outputs": [],
     "prompt_number": 170
    },
    {
     "cell_type": "code",
     "collapsed": false,
     "input": [
      "bth = bthere[theimgz]"
     ],
     "language": "python",
     "metadata": {},
     "outputs": [],
     "prompt_number": 171
    },
    {
     "cell_type": "code",
     "collapsed": false,
     "input": [
      "bthkey = bth.keys()"
     ],
     "language": "python",
     "metadata": {},
     "outputs": [],
     "prompt_number": 172
    },
    {
     "cell_type": "code",
     "collapsed": false,
     "input": [
      "sindat = []"
     ],
     "language": "python",
     "metadata": {},
     "outputs": [],
     "prompt_number": 173
    },
    {
     "cell_type": "code",
     "collapsed": false,
     "input": [
      "sindat.index"
     ],
     "language": "python",
     "metadata": {},
     "outputs": [
      {
       "output_type": "pyout",
       "prompt_number": 193,
       "text": [
        "<function index>"
       ]
      }
     ],
     "prompt_number": 193
    },
    {
     "cell_type": "code",
     "collapsed": false,
     "input": [
      "for kez in bthkey:\n",
      "    #print kez\n",
      "    print bth[kez]\n",
      "    sindat.append(bth[kez])\n",
      "    "
     ],
     "language": "python",
     "metadata": {},
     "outputs": [
      {
       "output_type": "stream",
       "stream": "stdout",
       "text": [
        "160\n",
        "http://www.trafficnz.info/camera/160.jpg\n",
        "http://www.trafficnz.info/camera/view/160\n",
        "Lincoln Rd  looking west\n",
        "52\n",
        "false\n",
        "false\n",
        "[{u'tns:name': u'Te Atatu Rd - Lincoln Rd', u'tns:direction': u'Westbound', u'tns:congestion': u'Free Flow'}, {u'tns:name': u'Lincoln Rd - Te Atatu Rd', u'tns:direction': u'Eastbound', u'tns:congestion': u'Free Flow'}]\n",
        "207\n",
        "SH16 4 Lincoln Rd E\n"
       ]
      }
     ],
     "prompt_number": 174
    },
    {
     "cell_type": "code",
     "collapsed": false,
     "input": [
      "for tram in sindat:\n",
      "    print tram[0]"
     ],
     "language": "python",
     "metadata": {},
     "outputs": [
      {
       "output_type": "stream",
       "stream": "stdout",
       "text": [
        "1\n",
        "h\n",
        "h\n",
        "L\n",
        "5\n",
        "f\n",
        "f\n",
        "{u'tns:name': u'Te Atatu Rd - Lincoln Rd', u'tns:direction': u'Westbound', u'tns:congestion': u'Free Flow'}\n",
        "2\n",
        "S\n"
       ]
      }
     ],
     "prompt_number": 184
    },
    {
     "cell_type": "code",
     "collapsed": false,
     "input": [
      "from IPython.display import Image"
     ],
     "language": "python",
     "metadata": {},
     "outputs": [],
     "prompt_number": 176
    },
    {
     "cell_type": "code",
     "collapsed": false,
     "input": [
      "myfil = requests.get(sindat[1])"
     ],
     "language": "python",
     "metadata": {},
     "outputs": [],
     "prompt_number": 180
    },
    {
     "cell_type": "code",
     "collapsed": false,
     "input": [
      "myfil.text"
     ],
     "language": "python",
     "metadata": {},
     "outputs": [
      {
       "output_type": "pyout",
       "prompt_number": 194,
       "text": [
        "u'\\ufffd\\ufffd\\ufffd\\ufffd\\x00\\x10JFIF\\x00\\x01\\x02\\x00\\x00\\x01\\x00\\x01\\x00\\x00\\ufffd\\ufffd\\x00C\\x00\\x08\\x06\\x06\\x07\\x06\\x05\\x08\\x07\\x07\\x07\\t\\t\\x08\\n\\x0c\\x14\\r\\x0c\\x0b\\x0b\\x0c\\x19\\x12\\x13\\x0f\\x14\\x1d\\x1a\\x1f\\x1e\\x1d\\x1a\\x1c\\x1c $.\\' \",#\\x1c\\x1c(7),01444\\x1f\\'9=82<.342\\ufffd\\ufffd\\x00C\\x01\\t\\t\\t\\x0c\\x0b\\x0c\\x18\\r\\r\\x182!\\x1c!22222222222222222222222222222222222222222222222222\\ufffd\\ufffd\\x00\\x11\\x08\\x02@\\x02\\ufffd\\x03\\x01\"\\x00\\x02\\x11\\x01\\x03\\x11\\x01\\ufffd\\ufffd\\x00\\x1f\\x00\\x00\\x01\\x05\\x01\\x01\\x01\\x01\\x01\\x01\\x00\\x00\\x00\\x00\\x00\\x00\\x00\\x00\\x01\\x02\\x03\\x04\\x05\\x06\\x07\\x08\\t\\n\\x0b\\ufffd\\ufffd\\x00\\ufffd\\x10\\x00\\x02\\x01\\x03\\x03\\x02\\x04\\x03\\x05\\x05\\x04\\x04\\x00\\x00\\x01}\\x01\\x02\\x03\\x00\\x04\\x11\\x05\\x12!1A\\x06\\x13Qa\\x07\"q\\x142\\ufffd\\ufffd\\ufffd\\x08#B\\ufffd\\ufffd\\x15R\\ufffd\\ufffd$3br\\ufffd\\t\\n\\x16\\x17\\x18\\x19\\x1a%&\\'()*456789:CDEFGHIJSTUVWXYZcdefghijstuvwxyz\\ufffd\\ufffd\\ufffd\\ufffd\\ufffd\\ufffd\\ufffd\\ufffd\\ufffd\\ufffd\\ufffd\\ufffd\\ufffd\\ufffd\\ufffd\\ufffd\\ufffd\\ufffd\\ufffd\\ufffd\\ufffd\\ufffd\\ufffd\\ufffd\\ufffd\\ufffd\\ufffd\\ufffd\\ufffd\\ufffd\\ufffd\\ufffd\\ufffd\\ufffd\\ufffd\\ufffd\\ufffd\\ufffd\\ufffd\\ufffd\\ufffd\\ufffd\\ufffd\\ufffd\\ufffd\\ufffd\\ufffd\\ufffd\\ufffd\\ufffd\\ufffd\\ufffd\\ufffd\\ufffd\\ufffd\\ufffd\\ufffd\\ufffd\\ufffd\\ufffd\\ufffd\\ufffd\\ufffd\\ufffd\\ufffd\\ufffd\\ufffd\\ufffd\\ufffd\\ufffd\\ufffd\\ufffd\\ufffd\\ufffd\\ufffd\\x00\\x1f\\x01\\x00\\x03\\x01\\x01\\x01\\x01\\x01\\x01\\x01\\x01\\x01\\x00\\x00\\x00\\x00\\x00\\x00\\x01\\x02\\x03\\x04\\x05\\x06\\x07\\x08\\t\\n\\x0b\\ufffd\\ufffd\\x00\\ufffd\\x11\\x00\\x02\\x01\\x02\\x04\\x04\\x03\\x04\\x07\\x05\\x04\\x04\\x00\\x01\\x02w\\x00\\x01\\x02\\x03\\x11\\x04\\x05!1\\x06\\x12AQ\\x07aq\\x13\"2\\ufffd\\x08\\x14B\\ufffd\\ufffd\\ufffd\\ufffd\\t#3R\\ufffd\\x15br\\ufffd\\n\\x16$4\\ufffd%\\ufffd\\x17\\x18\\x19\\x1a&\\'()*56789:CDEFGHIJSTUVWXYZcdefghijstuvwxyz\\ufffd\\ufffd\\ufffd\\ufffd\\ufffd\\ufffd\\ufffd\\ufffd\\ufffd\\ufffd\\ufffd\\ufffd\\ufffd\\ufffd\\ufffd\\ufffd\\ufffd\\ufffd\\ufffd\\ufffd\\ufffd\\ufffd\\ufffd\\ufffd\\ufffd\\ufffd\\ufffd\\ufffd\\ufffd\\ufffd\\ufffd\\ufffd\\ufffd\\ufffd\\ufffd\\ufffd\\ufffd\\ufffd\\ufffd\\ufffd\\ufffd\\ufffd\\ufffd\\ufffd\\ufffd\\ufffd\\ufffd\\ufffd\\ufffd\\ufffd\\ufffd\\ufffd\\ufffd\\ufffd\\ufffd\\ufffd\\ufffd\\ufffd\\ufffd\\ufffd\\ufffd\\ufffd\\ufffd\\ufffd\\ufffd\\ufffd\\ufffd\\ufffd\\ufffd\\ufffd\\ufffd\\ufffd\\ufffd\\ufffd\\x00\\x0c\\x03\\x01\\x00\\x02\\x11\\x03\\x11\\x00?\\x00\\ufffd\\ufffd\\ufffd,\\ufffd>\\ufffd\\ufffds\\\\C\\ufffdX\\ufffd\\ufffd\\x14\\ufffd\\ufffd\\ufffd\\ufffd3<Q\\ufffdgl\\ufffd(\\ufffdTs\\ufffd\\ufffdX\\ufffd\\ufffd\\x07r\\ufffd\\ufffd\\ufffd\\ufffd\\ufffdY\\ufffd\\ufffd\\ufffd/>\\ufffdt\\ufffd\\ufffd}>\\ufffd5\\ufffd7\\ufffd\\ufffd.\\x0ecFC\\t>Z\\ufffd\\x18\\ufffda\\ufffd\\ufffd\\'\\ufffdM\\ufffd\\x06\\ufffd\\ufffd\\x0b\\ufffd\\x1c\\ufffd\\x1c\\ufffd^\\ufffdEv\\ufffd76\\ufffd\\ufffdF\\ufffd\\ufffd\\ufffd\\ufffdm\\ufffd\\ufffd\\ufffd;\\x13\\x1c\\ufffd1\\ufffd\\x19C\\ufffd+\\ufffd5\\x7f\\x06\\ufffd\\ufffd\\t{\\ufffdKM\\ufffd\\ufffd\\ufffd\\x16i\\ufffd\\ufffd\\ufffd\\ufffd\\ufffd\\x0e\\ufffd#\\ufffd9@\\ufffd\\ufffd\\ufffdDF\\ufffd-\\ufffd\\x06@\\ufffdm\\ufffd\\ufffd\\ufffd\\ufffd\\ufffdOip\\ufffd|\\ufffdkiM\\ufffd\\x02{\\ufffd2;9\\ufffd0\\ufffdZ\\ufffd\\ufffd\\ufffd\\ufffd\\ufffd\\ufffd\\ufffd#\\ufffd0\\ufffd5\\'\\nsN?\\x1b5\\ufffd-\\ufffd\\ufffd\\ufffd\\ufffdkF\\ufffd\\ufffd\\ufffd\\ufffd\\ufffd\\ufffd\\ufffd\\x04\\ufffdh\\ufffd2\\ufffd\\x14\\ufffd|\\ufffd\\ufffd\\ufffd\\ufffd\\ufffd\\ufffd\\ufffd\\x00(\\ufffd6\\ufffdW>\\n\\ufffd\\ufffd\\ufffd\\ufffd\\ufffd\\ufffd\\ufffd9o\\ufffd%\\ufffd\\ufffd6v\\ufffd\\ufffdF\\ufffd\\ufffd\\x19\\ufffd\\ufffd T\\ufffdY\\ufffdN\\ufffd\\x186\\ufffd\\ufffd\\x02?\\x06\\ufffd\\ufffd\\x00\\ufffd\\ufffd\\ufffd\\ufffdt\\ufffd\\ufffdK\\ufffd\\ufffdG+fDo!\\ufffd\\ufffd0\\ufffd$3\\x1c\\ufffd\\ufffd\\x03\\ufffd\\ufffdg+\\ufffd\\ufffd\\ufffd\\ufffdu\\'\\ufffd\\ufffdM\\ufffdN\\ufffd[\\ufffd\\ufffd\\ufffd*\\ufffd\\ufffd\\ufffd\\x0b\\x7f/\\ufffdH\\ufffdo\\ufffd8\\ufffd9\\ufffdeC\\ufffd>j\\ufffd\\ufffd\\ufffd\\x12x\\ufffdG\\ufffd\\ufffd\\ufffd\\ufffd\\ufffd\\ufffd[Co\\x14\\ufffd\\ufffd\\x04\\ufffd\\ufffdH\\ufffd\\x1c\\ufffd4S0\\ufffd*D\\ufffd\\x1b>c\\x16\\x03j\\ufffd\\ufffdUT\\x00S\\ufffd\\ufffdV\\ufffd\\ufffdk\\ufffd\\x1a^\\ufffd=\\ufffd\\ufffd_\"\\ufffd\\x05\\ufffd\\ufffd$\\x063!\\ufffd{\\x17Ue\\x02@S\\x05A-\\ufffd\\ufffd\\ufffd.i\\ufffd\\x1e\\x1b\\ufffd\\ufffd-nnc\\ufffd\\x08!\\ufffd)\\ufffdF\\ufffd\\ufffd\\ufffd\\ufffd(\\ufffd\\ufffd\\ufffd\\ufffd\\x0eX\"\\ufffdz(\\ufffd\\ufffdAe\\x06\\ufffdx\\ufffd\\x1bo\\x11\\ufffd\\x7fP\\ufffd\\ufffd\\ufffdl\\ufffd7\\ufffd\\ufffd\\ufffd\\ufffdp\\x1eGU\\ufffd\\ufffd!\\ufffd\\x08\\x01%\\ufffd\\ufffd!\\x06\\x068$\\x12d\\ufffd\\ufffdu\\ufffdh\\ufffdC\\x01\\ufffd\\ufffd\\ufffd\\ufffd\\x0bK\\ufffdh\\x16k\\x1bwx\\ufffd\\ufffd \\ufffd\\x00X\\ufffd\\ufffd*\\x1eVb\\ufffd\\ufffd\\ufffdS\\ufffd4\\x01\\ufffd\\ufffd\\ufffd\\r\\ufffdx\\ufffdQ\\ufffd\\ufffd\\ufffdH-\\ufffd\\ufffd\\ufffd\\x0f\\ufffd\\\\\\ufffdX\\ufffdI\\x0e\\ufffd\\ufffd \\x12Y\\ufffd@\\x018\\x0c\\ufffd\\n\\ufffdA\\ufffd\\ufffdcT\\ufffd\\x06\\ufffde\\ufffd\\ufffdA\\ufffd\\ufffd\\ufffd\\ufffd\\x1c\\ufffd\\ufffd\\ufffd \\ufffdO/yc\\ufffd;\\ufffdN3\\ufffd\\ufffd@,@7<3\\ufffdMC\\ufffdW\\x16\\x01\"\\ufffd\\ufffd\\ufffd\\ufffd\\ufffd\\x17\\ufffdD\\ufffd\\ufffd\\ufffdn\\ufffdn\\ufffd#\\ufffd4e\\ufffdj2\\ufffd0\\x0fQT\\ufffd\\ufffdm4\\ufffd\\x13iz\\ufffd\\ufffd\\ufffd5\\ufffd\\ufffd]\\ufffd\\x12\\ufffd\\ufffd\\ufffd\\ufffd\\ufffd\\ufffd\\x08\\ufffd\\ufffdF\\ufffd\\ufffd0\\x01\\ufffd\\t\\x1c\\x10\\ufffd\\x00\\ufffd<7y\\ufffdZ\\ufffd\\ufffd\\ufffd$\\x10C\\x0cSH\\ufffd;\\x11\\ufffd\\ufffdQ\\x19]#\\x00\\x1c\\ufffdE$\\ufffdQ\\ufffd\\x04\\ufffd\\ufffd\\x0c\\ufffdg\\ufffd\\ufffdu\\'\\ufffd\\x06\\ufffd\\ufffd\\ufffd\\ufffd\\ufffdt\\ufffd\\ufffd\\ufffd\\ufffd\\ufffd\\ufffd\\ufffd\\ufffdU\\ufffd(U!C\\x07L4\\ufffd\\x14\\ufffd\\ufffd\\ufffd\\x0cE\\ufffd\\x0f\\ufffdZ\\ufffd\\ufffd\\x140\\x18,n\\ufffd\\ufffd\\ufffd\\ufffd\\ufffd\\ufffdf\\ufffd\\ufffdw\\ufffdJ\\ufffd\\x0f\\ufffd\\ufffd\\x19b\\ufffd\\ufffdf*N\\x1b\\ufffd<\\x13Q\\ufffd^#\\ufffd\\ufffd\\ufffd\\ufffd\\ufffdN\\ufffdi\\ufffd\\x00\\n\\ufffdmI\\ufffdU\\ufffd\\x15\\ufffdl\\ufffd\\ufffd3.|\\ufffd\\ufffd\\ufffd\\ufffd\\ufffd7\\x04\\x00W\\x7f\\x0e\\ufffd<5.\\ufffd\\x16\\ufffd\\ufffd\\ufffd\\ufffd\\ufffd1\\ufffdl\\ufffd8\\ufffdd\\ufffd1T\\ufffd\\ufffd\\x08H\\x08\\ufffd\\ufffd\\ufffd\\ufffdO\\'#2i>\\x13\\ufffdW\\ufffd\\ufffd\\ufffdb\\ufffdla\\ufffd\\ufffd\\ufffd\\ufffd\\ufffd\\ufffd&\\ufffd|\\ufffd\\ufffd\\ufffdFv\\ufffdT(\\ufffd2\\ufffd\\x05\\ufffdFO$\\x01\\ufffd\\ufffd\\ufffd\\ufffd\\ufffd\\ufffd\\ufffd\\ufffd\\ufffdlp\\ufffdP\\ufffdy\\ufffd?\\ufffd\\ufffd\\ufffd\\ufffdF\\ufffd\\ufffd\\ufffd\\ufffd\\ufffd\\ufffd\\x12m\\ufffd?w\\ufffd\\ufffdj\\ufffd>)\\ufffd\\ufffd<*\\ufffd\\r\\ufffd\\ufffd\\ufffd\\ufffd\\rq<\\ufffd>M\\ufffd\"\\ufffd,\\ufffd\\x12lu\\x18\\x04\\x01\\x19\\ufffd\\ufffd\\ufffd<\\x0e\\ufffd\\x01\\ufffd\\ufffd\\ufffdm|?q\\x141\\ufffd\\ufffd\\ufffd\\ufffdv!d\\x00\\ufffd\\ufffd/\\ufffdQ\\ufffd\\ufffd\\ufffdv\\ufffd\\ufffd\\ufffd\\x18s\\ufffd\\x0c\\ufffd[M\\ufffdF\\ufffdo\\ufffd\\ufffd\\ufffd\\ufffd\\ufffd\\ufffd\\ufffd\\ufffd\\ufffdF\\ufffd\\ufffd\\ufffd\\ufffd\\ufffd\\ufffd2\\x01\\ufffdG\\ufffd\\ufffd\\ufffd\\ufffd\\ufffd\\x13Y\\ufffd~=*;\\x18\\ufffdK&\\ufffd\\x124\\ufffd\\ufffd1\\ufffd\\x05\\ufffd\\ufffd\\ufffd]\\ufffd\\ufffdo\\ufffd\\ufffd\\x1b8\\x05N\\x1e\\ufffd\\ufffd\\ufffd\\x00m\\ufffd\\ufffdS\\ufffd\\ufffd\\ufffd\\'\\ufffd\\ufffdr\\ufffd\\ufffd[\\ufffdl\\ufffd\\ufffd\\ufffd\\ufffd\\x038\\ufffd3\\ufffd@\\x19\\ufffdQE\\x00\\x14QE\\x00\\x14QE\\x00\\x14QE\\x00\\x14QE\\x00\\x14QE\\x00\\x14QE\\x00\\x14QE\\x00\\x14QE\\x00\\x14QE\\x00\\x14QE\\x00\\x14QE\\x00\\x14QE\\x00\\x14QE\\x00\\x14QE\\x00\\x14QE\\x00\\x14QE\\x00\\x14QE\\x00\\x14QE\\x00\\x14QE\\x00\\x14QE\\x00\\x14QE\\x00\\x14QE\\x00\\x14QE\\x00\\x14QE\\x00\\x14QE\\x00\\x14QE\\x00X\\ufffd\\ufffd\\ufffd\\ufffdo#\\ufffd\\ufffd\\ufffd\\ufffd\\ufffd\\ufffd@,\\x14\\x00\\x01,\\ufffd\\ufffd\\x01T\\x00Ib@\\x00\\x12H\\x02\\ufffd5\\ufffd\\x0b^\\ufffdv\\ufffd\\ufffdm$wVw\\x08\\ufffd\\ufffd0\\ufffd*/\\ufffd\\t^%Dl0RU\\ufffd\\ufffd\\ufffd\\ufffd\\ufffdJ\\ufffd\\\\\\ufffd/R\\ufffdI\\ufffd[\\ufffdV7!\\x1e7\\ufffd@J\\ufffd\\x1b\\ufffdGC\\ufffd\\x0e\\x19Y\\ufffd \\ufffd3\\ufffdA\\ufffd\\ufffd\\ufffd\\x11x\\ufffdk6\\ufffd\\ufffd\\ufffd\\ufffdKx\\x1d\\ufffd[\\ufffd\\ufffd\\ufffd\\ufffd{\\ufffdP8V\\ufffd\\ufffd8\\ufffd\\x10$\\x7f\\ufffd\\ufffdv.\\ufffd\\ufffd\\ufffd\\ufffd@\\x08\\ufffd\\x1bsp\\x03ZjZm\\ufffdF\\ufffd/\\x1e\\x19\\x1c\\ufffd\\ufffd\\x11\\ufffd\\ufffd{l\\ufffd\\ufffd\\ufffd\\ufffds\\x17\\ufffd\\x0f\\ufffdq\\ufffd\\ufffd\\ufffd\\ufffd\\ufffdZ\\ufffd\\ufffd\\ufffdXiz|\\ufffd\\ufffdI|\\ufffd$\\x17\\ufffd\\ufffd\\ufffd\\x18\\ufffd\\ufffd-\\ufffd]U\\ufffd\\t\\x01L\\x15\\x04\\ufffd\\x02\\ufffd\\ufffd\\ufffd\\ufffd\\'\\ufffd4xZ\\ufffdi\\ufffd-\\ufffd\\ufffd6\\ufffdKn\\ufffdI\\ufffd\\ufffd\\ufffd\\ufffd\\ufffd\\x13E3\\x0cB\\ufffdL\\ufffd\\ufffd\\ufffd1`6\\ufffd\\ufffdUUE4\\ufffdD6\\ufffd#\\ufffd\\ufffd\\ufffdia\"\\ufffd\\ufffdo\\x11\\ufffd\\ufffd\\ufffd\\ufffd<\\ufffd\\ufffd;NC\\ufffd\\x10\\x02K;\\ufffdB\\x0c\\x0cpH$\\ufffdS\\ufffd<7y\\ufffdZ\\ufffd\\ufffd\\ufffd$\\x10C\\x0cSH\\ufffd;\\x11\\ufffd\\ufffdQ\\x19]#\\x00\\x1c\\ufffdE$\\ufffdQ\\ufffd\\x04\\ufffd\\ufffd\\x0cvZ\\x05\\ufffd\\ufffd\\ufffd\\ufffdSZ\\ufffdX\\ufffd\\ufffdKx\\x16\\ufffd-\\ufffdQ)eV\\x03\\ufffd\\ufffd\\ufffd=\\ufffda\\ufffd2F\\ufffd\\ufffd\\ufffd\\ufffdKE\\ufffd\\x18\\x0c\\x167V\\ufffdZ\\\\[@\\ufffdX\\ufffd\\ufffd\\ufffd%Y\\x07\\ufffd\\ufffd\\ufffd\\ufffdP\\ufffd\\ufffd\\x15\\'\\r\\ufffd\\ufffd\\t\\ufffdz\\'\\ufffdf\\ufffd\\ufffd\\ufffd\\ufffd\\x0bx\\ufffdw\\ufffd\\ufffd\\ufffd>i%\\x1dcI\\ufffd\\ufffdu\\x1fy\\x1df!\\ufffdFFG9\\ufffd\\x03A|\\x0f\\ufffd\\ufffdF\\ufffd\\x7f\\x12h\\ufffd\\ufffd:s\\ufffd\\ufffdi*\\ufffdb!\\x13\\ufffd,XBW\\x04\\ufffd\\ufffd\\ufffd\\ufffd\\ufffd\\ufffd\\ufffdB\\ufffd_\\ufffd\\ufffd\\x11\\ufffd\\ufffd<#U\\ufffd\\ufffd\\ufffd(\\ufffdl]\\ufffd\\ufffd\\ufffdDi\\x1c\\ufffd.7\\ufffd\\ufffd\\ufffd\\ufffd\\ufffd\\ufffd\\ufffd\\ufffd\\ufffd\\ufffd<]\\ufffd\\ufffdF\\ufffd\\ufffd4-J3u{5\\ufffd\\ufffdi\\ufffd$k,\\ufffd#\\ufffd\\ufffd\\ufffd\\x03\\x12Q_`\\ufffd\\x03\\ufffd \\x02\\ufffd\\ufffdoF\\ufffd\\ufffd\\x00\\ufffd/\\ufffd\\ufffd\\ufffd|\\ufffd\\ufffd\\ufffd6\\ufffdwm\\ufffd\\ufffd\\x0b\\ufffd\\ufffd8=7\\ufffd\\x1d\\ufffd\\ufffd:\\ufffd\\x01\\ufffd\\ufffd\\x7f\\'\\ufffd,\\ufffdg\\ufffd\\ufffdk\\ufffd\\ufffd\\ufffduo\\x04\\ufffd9\\ufffd?u\\x10\\ufffd\\x04\\ufffd\\x18!H\\r\\ufffd\\ufffd\\ufffdo\\rk\\ufffd\\ufffd\\ufffd\\ufffd&\\ufffd\\x1e\\ufffd\\x03\\ufffd)\\ufffd|\\ufffd\\ufffdR\\ufffd\\ufffd\\ufffd\\ufffd\\n\\ufffdrq\\ufffd\\ufffd\\\\\\ufffd\\ufffdCggk\\ufffd\\ufffd\\ufffd\\ufffd_m\\ufffd\\ufffd\\ufffd\\ufffd\\ufffd)\\ufffd\\x05\\ufffd\\x1aX\\ufffdE\\ufffd\\ufffd\\ufffd\\ufffdh\\ufffda\\ufffd+t+\\ufffd\\ufffdbO\\ufffd(u\\ufffd\\ufffdE\\ufffd\\ufffd\\ufffdu\\r2\\ufffda\\ufffd\\ufffd`Y\\ufffd\\ufffd\\ufffd\\ufffd#U\\x1b\\ufffdg\\ufffdP\\x17\\x18\\x0b\\ufffd\\ufffd\\x1c\\ufffd\\ufffd\\ufffd\\ufffd\\ufffd\\ufffd{k\\ufffdM\\x13R\\ufffd\\x0b\\ufffd)o$V\\ufffd\\ufffd3\\x00\\ufffd\\ufffd a\\ufffd\\x08\\ufffd\\ufffd\\ufffd\\ufffd\\ufffdj\\ufffdi:\\ufffd\\ufffd\\x17v\\ufffd\\ufffd\\ufffd\\ufffd\\ufffdH\\ufffdu\\x1a\\ufffd\\ufffd\\ufffdT8r\\ufffd\\x19P\\ufffd\\ufffdN1\\ufffd\\ufffd\\ufffd#\\ufffd\\ufffd8\\ufffd\\ufffd+\\ufffd\\x19\\ufffd\\ufffd\\ufffd\\ufffdV\\ufffd]I24\\ufffd\\ufffd\\ufffd\\ufffd%\\ufffd\\x1db\\x04),\\ufffd<\\ufffd7`\\x08\\x01U\\x0c\\x1a\\ufffd\\ufffd\\ufffd\\ufffd\\ufffd\\ufffd\\ufffd\\ufffd\\ufffd\\ufffdG\\x14\\ufffdW\\x16q\\ufffd\\ufffd1\\ufffdg\\x19\\ufffd\\ufffd\\ufffdm\\ufffd\\ufffd]\\ufffd\\ufffd\\x00!c\\ufffd(8\\ufffd\\x0c\\ufffd\\x0f\\x08k\\ufffd\\ufffd\\ufffdy\\ufffd\\ufffd\\ufffd]\\ufffd\\x00g\\ufffd\\ufffd\\ufffd\\ufffdp`}\\ufffd*\\ufffd\\ufffd\\x04`\\ufffd%rX\\ufffd\\ufffdG=\\ufffd\\ufffd\\ufffd\\ufffd_j\\ufffdW\\ufffdv\\ufffd\\x19\\ufffd\\ufffd7>\\ufffd\\ufffdc\\ufffd\\ufffd*\\ufffd\\ufffd\\\\R\\ufffd8\\x18\\ufffd\\ufffd\\ufffd*\\ufffd\\ufffd\\x0f\\ufffd!]\\x1c\\ufffd\\ufffd\\ufffdH\\ufffd\\ufffd\\ufffd\\ufffdht\\ufffd\\nw}\\ufffd\\ufffd,\\ufffd\\ufffd\\ufffd6\\x14\\ufffdp\\x0f\\ufffd3\\ufffd\\ufffd7\\ufffd/|=g\\ufffd[\\ufffd\\ufffdv-\\ufffd+\\ufffd\\ufffdf\\ufffd\\ufffd\\ufffd\\ufffd\\ufffd\\ufffd\\ufffd\\ufffd,\\ufffd\\ufffd]\\ufffdF>B\\x1b;\\ufffd\\ufffd\\ufffd\\x14\\x03\\x0e=\\'R\\ufffdK\\ufffdT\\ufffdO\\ufffd}>\\x17\\ufffd-\\ufffd\\ufffd\\ufffd$n8g\\ufffd\\x01\\ufffd\\ufffd\\ufffd{\\ufffdZ\\ufffd4-bK\\ufffd[8\\ufffd\\ufffd\\ufffd\\ufffd\\ufffd\\ufffdOm\\n\\ufffd\\ufffdy\\ufffd \\ufffd\\ufffd\\ufffd\\ufffd.\\x019\\x1cpk\\ufffd}{B>\\x07\\ufffd\\ufffd\\ufffd\\ufffd\\ufffd\\ufffdht\\ufffdh\\x19\\ufffd1\\ufffd\\ufffd\\ufffdt\\x0b\\ufffd\\ufffd_\\ufffd\\ufffd\\x03)\\ufffd\\x0b\\ufffd`o&\\ufffd\\ufffd\\x10\\ufffd\\ufffd\\ufffd\\ufffd6\\ufffd\\ufffd\\ufffdb\\ufffd\\x13F\\ufffd\\nF\\ufffd\\ufffdBby\\x14$*\\ufffdp~v\\ufffd\\ufffdP7g$\\ufffdri\\ufffd\\ufffdR\\\\]\\ufffd\\ufffd\\ufffdv\\ufffd\\ufffd#\\ufffd\\ufffdk\\x0b\\x16\\ufffdP\\ufffd\\ufffd\\ufffdeB\\ufffd\\t8\\ufffdz\\ufffd\\ufffd/\\x13\\ufffd\\ufffdi:\\ufffdQ$\\ufffdf26F\\ufffdv\\ufffd\\ufffdS\\ufffd0z\\x1d\\ufffd\\ufffd+\\ufffd\\ufffd\\ufffd\\ufffd%f\\ufffdO\\ufffd\\ufffd%\\ufffd\\ufffd\"\\ufffdh\\ufffdg\\ufffd\\ufffd\\ufffd\\ufffd\\ufffd\\ufffd\\ufffd\\ufffd\\ufffd%Wkr0\\ufffd\\ufffd\\ufffd\\ufffd\\ufffd\\ufffd\\ufffd\\ufffd\\ufffd3EV\\ufffd\\ufffdG\\ufffd.\\ufffda\\ufffd#y\\ufffd%\\ufffd\\ufffd\\ufffd\\ufffdg-\\ufffd\\ufffd\\ufffdV\\x08!\\ufffd\\x00ze\\ufffd\\ufffd\\ufffdD\\ufffd\\ufffd\\x17\\ufffdU\\ufffd\\ufffdmYO\\ufffdT\\ufffd\\x18\\ufffdF~\\ufffdZ\\ufffd\\ufffd\\ufffd\\ufffd\\ufffdm\\ufffd\\ufffd\\ufffd\\ufffd\\ufffdR\\x02\\ufffd\\ufffd_\\ufffd2\\ufffd\\ufffd\\ufffd\\ufffdT\\x03\\ufffd\\ufffdsT>\\ufffd\\ufffdX\\ufffd\\ufffd\\'\\ufffd(\\ufffd\\ufffdW\\ufffd\\ufffd\\ufffd\\x17\\ufffd:I\\ufffd\\x15\\ufffd\\ufffd\\ufffd^8\\ufffds\\ufffd\\ufffd\\x00lk\\ufffd\\ufffdk\\ufffd\\ufffd\\ufffdv\\ufffd\\ufffd\\ufffd\\ufffd\\ufffd\\ufffd\\x0b\\x1a\\ufffdj\\ufffd\\ufffd\\ufffd\\ufffd\\ufffdH\\ufffd\\ufffdVW\\ufffdL\\ufffd\\ufffd\\ufffd\\ufffd\\ufffd\\x18\\ufffd\\x14\\ufffd\"?\\ufffd\\ufffd58\\ufffd\\ufffd\\x12\\ufffd\\ufffd\\ufffd\\x19k\\ufffd>C\\ufffd\\ufffd\\ufffd\\x00\\ufffdE2\\x1ca\\ufffd\\x11\\ufffdAP>|\\ufffd\\ufffdb\\ufffd\\ufffdm\\x03\\'\\x15a\\ufffd\\ufffd\\x18L\\ufffd\\ufffd\\ufffd\\ufffd\\ufffd\\ufffd\\ufffdI\\ufffdC\\ufffd\\ufffdU&m\\ufffdNs@\\x08\\ufffdz7Z\\ufffd\\ufffd\\ufffdb\\ufffd)\\ufffd\\ufffdl\\ufffd\\ufffd\\ufffd4l\\x08S\\ufffd(\\x02\\x1ct?\\ufffd\\n\\ufffdpZ(\\ufffd\\x01\\ufffd\\ufffd0\\ufffd\\ufffd\\ufffd\\ufffd\\x18\\x1d\\x0ej\\ufffd\\ufffd\\ufffd\\ufffd\\'\\ufffd4\\x00\\ufffdUV\\ufffdK\\ufffd\\ufffd\\x00@\\x1e\\ufffd\\ufffdnZ\\x0b\\ufffd\\ufffdN\\x19\\x01$z\\ufffd\\ufffd\\ufffd\\ufffd\\ufffd4,\\x00\\ufffd\\ufffd\\ufffd\\x07\\ufffd\\ufffd\\ufffd\\x15\\ufffd\\ufffd\\ufffdz\\x1c\\ufffd{P\"\\ufffd\\ufffd\\x10\\ufffd\\ufffd\\ufffd\\ufffd\\ufffd\\ufffdQ\\ufffd\\x0f\\ufffd\\ufffd\\x16\\ufffd~\\ufffd\\ufffd]C\\ufffd\\ufffd\\ufffdV\\ufffd\\ufffd\\ufffd\\ufffd\\ufffd6\\ufffdp\\x7fw0\\ufffd\\ufffd\\ufffd\\ufffd\\ufffd\\ufffd\\ufffd~\\ufffdu\\ufffd\\ufffd\\ufffd\\ufffd\\ufffd\\ufffd\\ufffd\\ufffdgE\\ufffdc\\ufffd\\x14\\ufffd\\x1e\\ufffdP\\ufffd\\ufffd\\x17\\x12\\ufffdG\\ufffdb)\\ufffd\\x00\\ufffd{\\ufffd\\ufffdm\\ufffd\\ufffd)Gq\\ufffd@\\t\\ufffd\\ufffd\\ufffd\\ufffd\\ufffd\\ufffd\\ufffdy\\ufffd\\x13\\ufffd\\ufffd\\ufffd>\\ufffd\\x00\\ufffd@\\ufffd\\ufffdv$\\ufffd\\x00:\\ufffd\\x07\\'\\x1d1V%\\ufffd\\x00\\ufffdu\\ufffd\\ufffd\\ufffd\\ufffd\\ufffd.6\\ufffdP\\x02\\x15\\x03L\\ufffd\\ufffd\\ufffd\\ufffdE\\x00E\\ufffd\\ufffd\\ufffd:b\\ufffd\\x19\\ufffd\\ufffdQ\\ufffd\\ufffd\\x04L\\ufffd\\ufffd|zU\\ufffd\\ufffdIA\\ufffd\\x18\\ufffd\\ufffd\\ufffdN;\\ufffd\\ufffd\\ufffd\\x12\\x0c\\ufffd\\ufffd(\\x19LFy\\ufffd\\ufffdV\\ufffd\\ufffd7\\x0f\\ufffd\\ufffd\\ufffdj\\ufffd#\\ufffd\\ufffdM\\ufffd6u\\x10?\\ufffd\\ufffdP\"\\x18\\x17\\ufffd\\ufffdsJ\\ufffd\\ufffd\\ufffd\\x19\\x14\\ufffd\\ufffdI\\ufffd\\ufffd\\ufffdX|\\ufffdq\\ufffd\\ufffd\\ufffd\\t\\ufffd\\ufffd-\\ufffdjx\\x0cH\\ufffdU\\ufffdH\\ufffd\\ufffd9\\ufffdj\\ufffd\\ufffd\\x04\\ufffd\\x1c\\ufffd\\ufffd\\x07\\ufffdUW_\\ufffd\\ufffd\\ufffd\\ufffd\\ufffd2\\x16S\\ufffd\\ufffd\\ufffd$\\x0e\\x0750\\ufffd\\ufffd\\ufffd\\ufffdiH\\ufffd\\x1dh\\x11j\\ufffd\\x17\\ufffd\\ufffd\\ufffd\\ufffd\\ufffdY\\ufffd\\ufffd\\ufffd\\ufffd\\ufffd \\ufffdUV\\x12#\\ufffd9\\ufffd\\ufffd\\n\\ufffd\\ufffdd\\ufffd\\ufffd\\x100D\\ufffd\\ufffd:\\x00\\ufffd##\\ufffd?\\x01M\\ufffd\\ufffd\\ufffd\\ufffd\\ufffdV[\\x10\\ufffd\\x7f\\x19\\x1d*\\ufffd\\ufffdpH\\ufffd\\x067\\ufffd%Oz\\ufffdd\\ufffd\\ufffd\\ufffdv\\ufffd#\\ufffd4\\ufffda\\ufffd%\\ufffdh\\x18\\ufffd\\ufffd\\ufffd\\x19\\ufffd\\ufffd\\ufffd\\t8\\ufffd\\ufffd\\x151\\ufffd.@\\x15\\x1eI\\ufffd4\\x01\\x01\\x05\\ufffd\\ufffd\\ufffd\\ufffd\\ufffd`\\x0c\\ufffd\\ufffd\\ufffd\\ufffds\\ufffd\\ufffd!\\x03\\ufffd=C\\x1ap\\ufffd\\ufffd\\ufffd\\ufffd\\ufffdOU\\ufffd(\\x10\\ufffdq\\ufffd\\ufffd\\x1c\\ufffd\\x02\\ufffdRzb\\ufffd\\ufffd\\x01\\ufffd\\ufffd\\x14\\x0cr\\ufffd\\ufffd$\\ufffd{T$\\ufffd\\ufffd\\ufffd\\ufffd\\ufffd\\ufffd=\\ufffd6`9c\\ufffd\\x00Ry\\x07=jL\\ufffd\\ufffd\\ufffd4\\ufffd{y\\ufffd!3$24k\\ufffd\\nr\\ufffd\\x10v\\ufffd@\\x01\\ufffd\\ufffd$\\x11\\ufffd*\\ufffd\\ufffd Z\\ufffd\\ufffd\\ufffd\\ufffdO\\ufffdBE.@\\ufffd\\ufffd@\\ufffd\\x19\\ufffd#\\x03\\ufffdI:\\ufffd\\ufffd\\ufffd\\ufffd\\ufffd\\ufffd\\ufffd\\ufffd\\ufffd\\ufffd%\\ufffdg\\ufffd\\x151\\ufffd)`\\ufffd\\'l\\x18\\ufffd\\x03\\ufffd\\ufffd)\\ufffd\\x04c8\\ufffd@m\\ufffd\\ufffd5q\\ufffdU\\ufffd\\ufffd\\ufffd\\ufffdl\\ufffd\\ufffd\\ufffd\\ufffd\\ufffdY\\ufffd\\x0b0\\'\\ufffd_Z\\x06E\\n\\ufffd\\ufffd\\ufffd\\ufffd\\ufffd\\ufffd\\ufffd\\ufffd\\ufffd\\ufffd;\\ufffdU\\x06\\ufffd\"\\ufffd I\\ufffd3K\\x10\\ufffd-a(\\x0e\\ufffd\\ufffd\\x14\\x01-\\ufffdk\\ufffd\\ufffd\\ufffd\\ufffd\\ufffd\\x05C.\\ufffd\\x1cl@\\ufffd\\x07\\x02\\ufffd\\ufffd\\x19\\ufffd.\\x18\\ufffd\\ufffd\\ufffd\\x07\\ufffd\\ufffddq$\\ufffd\\ufffd\\ufffd\\x1c{P!@\\ufffd>\\ufffd\\ufffd\\ufffd\\ufffd\\x03\\ufffd\\x14\\ufffd\\x12\\ufffdB9\\x0b\\ufffd\\x14\\ufffd\\ufffd\\x04\\ufffd<\\x0e\\ufffd\\x00\\ufffd\\ufffd\\ufffd\\r\\ufffd\\ufffd\\ufffd\\ufffd\\ufffd\\ufffdy\\x12\\ufffdg<\\ufffd\\ufffdU\\ufffdQ\\ufffd\\ufffd\\ufffd\\ufffd\\ufffd\\ufffd{?G\\ufffd@A\\ufffd\\n\\ufffdk\\ufffd\\ufffd\\ufffd\\ufffd:5\\x1b\\ufffd\\ufffd\\ufffd8\\ufffd\\x00qVuPM\\ufffd\\ufffdG\\ufffd\\ufffd\\x13\\ufffd\\ufffd\\ufffd\\ufffd\\ufffdd\\'\\ufffd\\x02i1\\ufffd\\ufffd<\\ufffd\\ufffd\\x13\\ufffd\\ufffdn\\ufffdOj\\ufffd\\ufffd\\ufffdm\\ufffd\\ufffd\\ufffd\\x07\\x0cwT`\\ufffd\\ufffd-\\ufffd\\'z\\ufffd\\ufffdv\\ufffd\\ufffd\\ufffd\\'\\ufffdI\\x1e\\t\\ufffd\\ufffd\\x0c\\ufffd;\\x0e}j}\\ufffd\\ufffds\\ufffdg\\ufffd\\x18\\x02\\ufffd\\ufffdA\\x04\\ufffd\\x1ab\\'\\x1cr\\x0f^\\ufffdn\\x02\\ufffd\\ufffd\\ufffd\\ufffd\\ufffdU\\ufffdp\\ufffd<\\ufffdT\\ufffd(\\'\\x14\\x00\\ufffd\\ufffd<f\\ufffd\\ufffd\\ufffd3\\ufffd\\ufffd\\ufffd\\ufffd\\ufffd\\ufffdJ\\ufffdLE\\ufffd8\\ufffd\\n\\ufffd\\x07\\ufffd\\'+\\ufffdpG~)H\\ufffd\\ufffd\\ufffdU\\ufffdn\\x02\\ufffd\\x00\\ufffd\\x02 \\ufffd\\ufffdM\\ufffd\\ufffdM-\\ufffd\\ufffd\\ufffd;\\ufffd\\x0c\\ufffd\\ufffd\\ufffd\\x12)^1\\ufffd\\ufffd$gV\\x06)W9\\ufffdGjI`+\\x08\\ufffd\\ufffd=\\ufffdT\\x0f&\\x147ztS\\ufffd|\\ufffd\\ufffd\\x01\\x18\\ufffd\\ufffdu\\ufffd\\ufffd5\\ufffd%m\\x1eo3\\x07\\x04\\x7f:\\ufffd\\x02\\x1b\\ufffd\\ufffd|\\ufffdt\\ufffd\\ufffdX\\ufffd\\ufffda\\ufffd\\ufffd\\x18c\\ufffd\\ufffd\\ufffd@\\ufffd\\ufffd\\ufffd\\ufffd%lm\\ufffd?\\ufffd?J\\ufffd5\\x06\\ufffduk\\ufffdr\\ufffd\\ufffd\\x1f\\ufffd\\ufffdO\\x0b\\ufffd.5}5q\\ufffdC\\ufffd\\x1f\\ufffd\\ufffd\\ufffd\\ufffdV\\x10\\ufffd\\x00\\ufffdF%\\ufffd\\ufffd\\x11\\ufffd{\\x01\\ufffd\\ufffd\\ufffd\\ufffd\\ufffd\\ufffd\\ufffd\\ufffd\\ufffd\\ufffd\\ufffd\\x14C\\ufffdZ\\ufffd\\ufffd\\x04[\\x1c\\x1f\\ufffdgF\\x0f\\ufffd1L\\r\\x1b9\\r\\ufffd\\ufffd\\'\\\\\\ufffd\\ufffd5j\\ufffd1\\x17\\ufffd\\ufffd\\ufffdw\\ufffd\\x18\\ufffd&\\ufffdh\\r\\ufffd]B\\ufffd\\ufffd2\\ufffd\\ufffd\\ufffdz>\\ufffd\\ufffdC\\x08\\x18\\ufffd\\ufffd>\\ufffd\\ufffd\\x01\\ufffd\\ufffd\\ufffd\\ufffd\\ufffd\\ufffd\\ufffdU\\ufffd\\ufffd[@\\ufffd\\ufffd\\ufffd\\ufffd\\ufffd%\\ufffd\\x1fg\\ufffd\\ufffdo\\ufffd\\ufffdd\\n\\ufffdd2G#1\\ufffd\\ufffd\\x17>f\\ufffdz\\ufffdQ\\x1f\\ufffdsO\\ufffd\\ufffd\\x00\\ufffd\\ufffd\\ufffdr*<\\x16<\\ufffdE\\x03\\x1aNy\\ufffdSF\\ufffd\\ufffd+u\\x1d\\rW\\x02\\ufffd\\x01\\ufffd\\ufffd\\ufffd@\\x12\\ufffd\\ufffd)\\x18\\ufffd\\ufffd\\ufffd\\ufffd\\x00.2\\ufffd\\ufffdr\\x05\\n|\\ufffd\\ufffd\\ufffd\\x07\\ufffd\\ufffd!R\"\\x11\\x1eOJ\\x00\\ufffdh\\ufffd\\ufffd\\ufffd\\x107\\x15\\ufffdq\\x1e\\ufffd\\ufffd\\ufffd\\ufffd\\ufffd\\ufffd6\\ufffd\\x0er*\\ufffd\\ufffd\\ufffd3\\x19c\\ufffd\\x0f\\ufffd\\ufffdAm\\x19[\\ufffd,06\\ufffd\\x04$\\ufffd\\ufffd\\ufffd\\ufffd\\ufffd\\ufffd.#\\ufffdh\\ufffd\\ufffd\\ufffdi\\ufffd~\\ufffd:\\ufffd\\x03\\x13FB\\ufffd\\x00\\ufffd\\ufffdW*w)\\ufffd\\x15\\ufffd\\ufffd^D\\ufffd\\ufffd\\x13\\ufffd\\x0c\\ufffdGbh\\x02\\ufffd\\ufffd\\x08MQ\\ufffd\\x7f\\ufffdA\\ufffd{\\ufffd3\\ufffd\\ufffd\\ufffd\\ufffd\\ufffdx\\ufffd\\ufffd\\x0e\\ufffdme\\x0eE\\x00)\\x18\\x19\\x14\\ufffd\\ufffd\\ufffdp\\x1cR\\ufffd\\x01@\\ufffd\\ufffd\\x1b\\ufffd\\ufffd\\ufffdm\\ufffd\\ufffd\\ufffd\\x1c\\ufffd\\x0ef\\ufffd\\ufffd-H&9\\ufffd\\ufffd\\ufffd\\ufffd\\x14\\x01#\\ufffd\\ufffd\\ufffd\\t\\ufffd\\x00\\ufffd\\ufffdP\\x0e\\x14\\ufffdZ\\ufffd\\ufffd<\\x1da\\ufffd\\ufffd\\ufffd&\\ufffd\\x1a[C)\\ufffd1\\ufffd\\x12z\\x1a\\ufffd<!\\x04\\ufffd\\x16\\ufffd\\ufffd\\ufffd\\ufffd\\ufffd\\ufffdNI\\ufffd\\ufffd0UG\\ufffdZ{Lh \\t\\x07\\x1d\\ufffdSG\\x1b\\ufffdi,3`<S\\x15$t\\ufffd(M\\ufffdg\\ufffd\\ufffd\\x00T\\ufffd1\\x13\\ufffd\\ufffd\\ufffd\\ufffd\\ufffd\\ufffd3\\ufffd\\ufffd\\x14\\ufffd\\x01m\\ufffd\\ufffd\\ufffd\\ufffd\\x00\\ufffdI\\ufffd\\x14\\x0f\\ufffd\\ufffd3q\\ufffd\\ufffd\\ufffd\\ufffd\\ufffd9\\ufffd\\ufffd_\\ufffdf\\ufffd\\ufffd\\ufffd\\ufffd\\t\\ufffd\\x156\\ufffd\\ufffdux:r\\x18~\\ufffd\\ufffdR\\ufffd\\ufffd\\ufffd\\n\\ufffdN\\ufffd\\ufffdTv\\ufffd\\ufffd\\ufffd\\ufffd>j\\ufffd\\x1b\\ufffd\\x1di\\x08\\ufffd\\ufffd\\ufffd\\ufffd \\ufffdbG\\ufffdQ\\x15$\\ufffd\\x07r*[0\\x06\\ufffdm\\ufffd\\ufffd)\\ufffd\\ufffdf\\ufffd/?1?\\ufffd\\x00BQ\\ufffdFW\\x1e\\ufffd\\ufffd\\ufffd3\\ufffd\\ufffd\\ufffd\\ufffd\\ufffd\\ufffdGJ\\ufffd\\ufffde\\ufffd/Lt\\x14\\x01\\x00%\\ufffd\\ufffdz~\\ufffd@\\ufffd\\ufffd\\ufffd\\ufffd\\n\\ufffd#\\n\\x07 W=\\ufffd\\ufffd\\ufffdG\\ufffdS\\x19\\ufffdk\\ufffd\\ufffdIe\\ufffd\\\\\\ufffd\\x01Q@\\ufffd\\ufffd\\ufffd[\\ufffd3\\ufffdUI!u\\ufffd\\x03w5\\ufffd4\\ufffd\\ufffdw\\ufffdZ\\ufffdt\\ufffd\\ufffd\\ufffd\\ufffd\\ufffdI\\ufffdG<\\ufffd\\ufffd\\ufffd\\x18`\\ufffd\\ufffd}*i2\\ufffd+\\ufffd\\ufffd_\\ufffd\\ufffd];\\ufffd2\\x01\\ufffdT$\\ufffd#\\x03\\ufffd\\x06Bd\\ufffd\\x13\\ufffdJ\\x06H\"\\ufffd_\\ufffd=\\ufffd\\ufffdH\\ufffd\\x0e;P\\x02\\ufffd\\ufffdY6\\ufffd\\ufffdEI\\ufffd\\ufffd=\\ufffd)$8\\x18\\x1dM3<\\ufffd\\x00\\ufffd\\r\\ufffds\\ufffdA=\\ufffd:\\ufffd\\ufffd\\x18\\x14\\ufffdI\\ufffdC\\ufffd1\\ufffd\\ufffd\\x0b`u\\ufffd8\\ufffdHy8\\ufffd\\x0bZ}\\ufffd\\ufffd\\ufffd.\\x04\\x1bA\\ufffdC|\\ufffd\\ufffdR\\ufffd\\ufffd\\x17`\\ufffd\\ufffdE\\ufffd\\ufffd2.\\ufffd\\ufffdq\\ufffd\\ufffd\\ufffd\\ufffd\\ufffd\\ufffd/\\x0c\\ufffd`\\ufffdP\\ufffd\\ufffd\\ufffd\\\\\\ufffd\\ufffd[\\ufffdN\"\\ufffd+*\\ufffd\\ufffd\\ufffd\\ufffd@\\x1b1\\ufffd\\ufffd\\ufffd\\ufffd\\x15\\ufffd\\r\\x0c\\x16\\ufffd\\ufffd\\ufffd\\ufffd/\\x04{\\ufffd\\ufffd\\ufffd\\x0cIs\\x10\\ufffd@\\ufffd\\ufffd\\ufffd\\x00-\\x14t5\\ufffd7\\ufffd\\ufffd\\ufffd\\ufffd8C\\ufffd\\x18\\x03\\ufffd\\ufffd\\x1d\\ufffd\\ufffd!\\ufffdD\\ufffd\\ufffd\\ufffd\\ufffd\\ufffd\\x00C\\x07\\ufffd.\\ufffd\\ufffd3\\ufffd@\\ufffdi\\x07\\ufffd.\\ufffd\\x13\\ufffd\\ufffd\\ufffd\\ufffd\\ufffd\\\\\\ufffdV\\ufffd\\x1aa\\ufffd8<R\\ufffd\\ufffd\\ufffd3\\ufffd,\\ufffdp0\\ufffd\\x03\\ufffd\\x16\\x02O\\ufffdEn\\x19ylT\\ufffdx%\\ufffd]\\ufffdO\\ufffd\\ufffd\\x00Zd\\ufffdw\\ufffd\\ufffd\\ufffd\\ufffd\\ufffd\\x0ct5\\ufffd6\\ufffdw\\x11\\r\\x05\\ufffd\\ufffd\\ufffd\\ufffd\\ufffd\\r\\ufffd\\ufffd\\ufffd\\ufffd\\ufffd\\ufffd\\x03\\ufffdj\\ufffd\\ufffd\\ufffd\\ufffd\\ufffd`\\ufffd\\ufffdD;\\ufffd\\x00\\ufffd5<\\ufffd5\\ufffd\\ufffdu;\\ufffd\\ufffd=\\ufffd\\ufffd=@8\\ufffdf\\ufffd\\ufffdF\\ufffd\\x12\\ufffd\\ufffd&\\ufffd\\x1a\\ufffd\\x7f\\ufffd3M\\ufffd\\ufffd2F3\\ufffd\\ufffdZ\\ufffd\\ufffd\\ufffd2\\x0b\\ufffd:C-\\ufffd\\ufffdDl\\ufffd\\ufffd\\ufffd\\ufffd\\ufffd\\ufffdT\\ufffdM\\ufffdhI\\x12.\\ufffd(\\ufffd;J\\ufffd\\ufffdZ\\ufffd y \\ufffd;\\ufffd\\x03\\ufffd\\ufffd\\ufffd\\ufffd\\ufffdw\\x07\\ufffd\\'\\ufffdD3\\x0f\\ufffd\\ufffd\\ufffd\\ufffd]\\ufffdo\\ufffdV\\ufffd\\ufffdN\\ufffd\\ufffd?=\\x16Nk\\ufffd2\\x0f>\\ufffd\\ufffd\\x1c3\\x1c\\ufffd\\ufffd$*\\ufffd\\ufffd\\x16\\x07\\ufffd\\ufffd\\x13\\ufffd1\\ufffdXjM\\x1e\\ufffd+=\\ufffd\\ufffd?\\ufffd9 \\ufffd\\x7f9s\\ufffdsL\\ufffd.i\\ufffd\\ufffd $}\\ufffd\\x00\\x0f\\ufffd\\ufffd\\ufffd\\ufffd?i\\x0c\\ufffd\\ufffdZjL|\\ufffd(\\ufffd`q\\ufffdY\\ufffd~\\ufffd\\ufffd[&F\\x18U\\ufffd\\ufffd\\ufffdE\\ufffdR\\x0b\\x06\\ufffdHH\\ufffd\\ufffd\\x00W\\ufffd\\x7frT\\ufffd\\ufffd\\ufffds\\x1a\\ufffdG\\ufffd/Q[\\ufffd\\ufffd\\ufffdqZv\\x16v\\ufffd\\ufffd\\ufffd\\ufffdv\\ufffd\\ufffd\\ufffd\\ufffd3\\ufffd\\ufffd\\ufffd[\\x17^FR\\x0c\\x020\\ufffd\\ufffd\\ufffd&\\ufffdg^\\r\\ufffdF\\ufffdr\\x01\\ufffd\\n\\ufffd\\ufffd\\ufffd\\ufffd\\ufffd?\\x03\\ufffd\\ufffdO>\\ufffdS\\ufffd\\ufffd\\ufffd\\x04\\ufffdD\\ufffd\\ufffd\\ufffdcS\\ufffdG\\x15\\ufffd\\ufffdu\\x12\\x12K)a\\ufffd\\ufffdt\\x03\\ufffd\\ufffd\\ufffd\\x1c\\ufffd\\ufffd\\ufffd\\ufffd\\r\\ufffde\\ufffd\\r:U\\ufffd\\ufffd\\x18\\ufffd6\\ufffd\\x17\\r\\ufffdj\\ufffd\\x141\\ufffds\\ufffd<\\ufffd\\x11bB\\ufffd\\x01\\x07+LGU\\ufffd\\x1e\\ufffd\\ufffd\\x1aNb\\x07w+C*\\ufffd\\ufffd\\ufffd8$P\\x05\\ufffd\\x0f\\ufffd\\ufffd\\ufffd\\ufffd\\ufffd\\ufffd\\x00DFMT\\ufffd\\ufffd\\ufffd\\t\\x13\\ufffd}{\\x1a\\ufffd\\ufffd\\x11a\\x7f\\ufffd@\\ufffdf`8\\ufffd\\ufffd\\r\\ufffd\\ufffd\\ufffd\\ufffd\\ufffd8\\ufffd\\ufffd\\x06}\\ufffd\\ufffd\\ufffd\\ufffd\\ufffd\\ufffdJ\\x01\\x12.\\n\\ufffd\\ufffd\\ufffd:\\ufffd\\ufffd;6A\\ufffd\\x01Q\\ufffd \\ufffd\\ufffd8\\ufffd\\ufffd\\ufffdA\\ufffd\\ufffdH`\\ufffd\\x13\\ufffd\\ufffdZg\\ufffdPGz{\\x1f\\ufffd1\\ufffd\\ufffd6\\ufffd\\ufffd\\ufffd\\ufffd1\\ufffd\\x189\\x1dk;\\\\\\ufffd\\ufffd\\ufffd0n\\ufffdc\\ufffd\\ufffd\\ufffd\\ufffd\\ufffd\\ufffdl\\ufffd\\x00\\ufffd\\ufffd\\ufffd{\\ufffd\\ufffd@\\ufffd\\ufffd\\ufffd\\ufffda\\ufffdmE\\ufffd\\ufffd8<\\ufffd\\ufffd\\rY\\ufffd\\ufffd\\ufffd,\\ufffd\\ufffd\\ufffd\\ufffd\\x00\\nO\\x03\\ufffd\\x08\\ufffd\\x19|\\ufffd\\ufffd\\x00\\x1fL\\x16<\\ufffd\\x00\\ufffd*\\x08Q\\ufffd\\ufffd07\\x04O\\ufffd\\ufffd(\\x03Je\\ufffd\\x04\\ufffd\\x19\\ufffd\\ufffd\\ufffdp\\ufffd3Z\\ufffd\\ufffdl=EP\\ufffdC\\x03\\ufffd\\x08\\ufffd\\x00A\\ufffdL-\\ufffd\\ufffdf8\\x0f\\ufffd\\ufffdC\\ufffd\\ufffd\\ufffd7\\ufffdW\\ufffdG\\x15\\ufffd\\ufffd\\ufffd\\ufffdH\\ufffd\\ufffd\\ufffd\\ufffd\\ufffd&\\x11\\ufffd\\ufffd\\ufffdj\\ufffd\\ufffdi?k\\ufffd\\ufffd\\x03\\ufffd\\ufffd\\ufffdR\\x19\\ufffd\\x1b<\\ufffd\\ufffd\\ufffd\\ufffd\\ufffdP\\ufffdeX\\ufffdLD\\ufffd#\\x18\\x15g9\\x19C\\ufffd#\\ufffd\\ufffd\\ufffd\\ufffdD\\x16\\ufffdr\\ufffd\\ufffd\\ufffd\\ufffd\\ufffd\\ufffd\\x18q\\ufffd*\\x07\\ufffd\\x13.G\\x19\\x15\\x13G3\\ufffd\\ufffd\",\\x01\\x00\\ufffdt\\ufffd\\ufffdM\\ufffd\\ufffd\\ufffd[\\x1c<G\\ufffd\\ufffd\\ufffd\\x1cC$E\\ufffd\\ufffd\\ufffd\\x1c\\n\\x04s\\ufffd6\\ufffd[M\\ufffd\\ufffd\\ufffd\\ufffd5\\x15\\ufffd\\x0f\\x1bf$c\\x17L\\ufffd\\ufffd/ob\\ufffd\\ufffd3\\ufffdH^\\ufffd\\ufffd\\r[\\ufffd\\ufffde\\ufffd\\ufffd4B8w\\ufffd\\t=Z\\ufffd9\\ufffd4\\ufffd\\ufffd\\ufffd\\ufffd()T\\ufffdY\\ufffd\\x00\\n\\ufffd>\\ufffd\\x1e\\ufffdol\\ufffd\\ufffd\\x11\\ufffd\\ufffd=\\ufffdl}\\ufffdo\\ufffd|\\x15H\\ufffdQ\\ufffd\\ufffd`{\\ufffd>\\ufffdo\\x02\\x00\\ufffd\\ufffd\\x01\\ufffd\\ufffd\\ufffd\\ufffd)_\\ufffd-\\ufffdI\\x14\\ufffd\\x0c%n}jP\\ufffd8rzc&\\ufffd\\ufffdl\\ufffd\\ufffd\\ufffdh\\ufffd\\ufffd\\ufffd\\ufffd\\x16\\ufffdX\\ufffd\\x1cV$\\ufffd\\ufffd\\x02H\\ufffd\\ufffdl\\ufffd\\ufffd\\ufffd{f\\ufffd+\\ufffd+\\ufffd d\\ufffd\\ufffd\\ufffdUP}\\ufffd\\ufffd[7\\ufffd\\x1a\\ufffdK\\ufffd\\ufffd\\ufffd\\ufffd\\x19\"=Gj\\ufffd\\ufffd{\\x1b\\ufffd\\ufffdK\\ufffdM\\ufffd+}\\ufffd\\x1d\\ufffd\\x15B\\ufffd\\x00RY\\ufffd)\\ufffd!\\ufffd\\x06F\\ufffd\\x00\\ufffd\\ufffde\\x1b\\ufffdi4\\ufffd\\x15\\ufffdo\\'\\ufffdd\\ufffd\\ufffdWv+\\ufffd\\ufffd,\\ufffdX\\x08\\ufffd)\\ufffdc\\ufffd\\ufffdA\\ufffd[\\x1c\\ufffdCq\\ufffd@\\ufffd\\x11\\ufffd\\ufffd\\ufffd\\ufffd\\ufffd\\ufffd\\ufffd\\ufffd\\ufffd\\x1c\\ufffd\\ufffd\\ufffd\\ufffdhAo\\ufffdq\\ufffdj\\ufffd\\ufffd\\ufffd\\ufffd\\ufffd\"x\\x10\\ufffd\\ufffd\\ufffd\\ufffd\\x07\\ufffdh\\ufffd\\ufffd&\\ufffdb\\ufffd\\ufffd\\ufffd\\ufffd\\ufffd\\ufffd*\\ufffd\\ufffdZ\\ufffd\\ufffd\\ufffd\\ufffd\\ufffdDT\\ufffd\\ufffd\\ufffd\\ufffd\\x15\\ufffdjoomy\\x15\\ufffd\\ufffd\\ufffd-\\ufffd\\ufffdc\\x03\\ufffdVe\\ufffd\\ufffd>\\ufffd\\x06\\ufffd\\ufffd\\ufffd\\ufffd\\ufffd\\ufffd\\ufffdJ@_\\ufffd\\ufffd\\ufffd\\ufffd\\x00I\\ufffd\\ufffdB\\ufffdT\\ufffd\\ufffd`{\\ufffd\\ufffdt\\x1e\\x1a\\ufffd\\ufffd\\ufffd\\ufffd\\ufffd00\\ufffd\\ufffd\\ufffd\\ufffd\\ufffd\\ufffd\\ufffdS\"\\ufffd\\x0b,e\\ufffd\\x1c\\ufffd\\ufffd\\ufffd\\ufffd%\\ufffd\\\\oo\\ufffd\\ufffd\\ufffd%\\ufffd\\ufffdit\\ufffd\\ufffd\\ufffd\\ufffd\\ufffd4\\ufffd\\x19\\ufffdO\\ufffdZ66\\ufffdt\\x19\\ufffd\\ufffd<\\ufffd&\\ufffd\\n\\ufffdZT\\ufffd\\ufffd\\ufffdN\\ufffd\\ufffd\\ufffd\\ufffd\\x1dh\\x03+\\ufffd,\\ufffd\\x06\\ufffd\\ufffd\\ufffd\\ufffd\\ufffda\\ufffd\\ufffd\\x19\\x14\\ufffd,\\ufffd\\ufffd\\ufffd\\ufffd\\ufffd#\\ufffd\\ufffd\\x15v\\ufffd!\\ufffd\\ufffd\\x08>M\\ufffd\\ufffd\\ufffd\\x01\\ufffdT\\ufffd\\ufffd\\x0c\\ufffd\\ufffdx\\ufffd,\\ufffd\\ufffdX~\\ufffd|\\ufffd<\\ufffd8\\ufffdKm\\x1a\\ufffd\\x00i[6\\x00!\\ufffd\\ufffd!\\ufffd\\ufffd\\ufffd\\ufffd*\\ufffdi\\x0e)\\ufffd\\ufffd\\x04\\ufffd\\ufffd`?1\\x1dw\\x13U\\ufffd&\\ufffd\\ufffd\\ufffdb$\\ufffd\\x02K\\ufffd\\ufffd\\ufffd\\ufffdx\\ufffd\\ufffd\\ufffd\\ufffd\\ufffd\\ufffd\\ufffdX\\ufffd\\x00:\\ufffdl\\ufffdn-z|\\ufffd\\ufffd\\ufffdEqnE\\ufffd\\ufffdc\\x05\\ufffd\\ufffdh\\x02\\ufffd\\ufffd\\x1d\\ufffd\\ufffd\\ufffd\\x00`\\ufffd\\ufffd\\x16\\ufffd\\ufffd#B\\ufffd\\ufffd\\ufffd\\x03#1\\x06\\ufffd\\ufffd\\ufffd\\ufffdW\\ufffd\\ufffd\\ufffd\\ufffde\\x12\\t_\\ufffdX\\ufffd\\ufffdZ\\ufffd\\x14-\\ufffd\\ufffd<\\x03\\x10\\ufffduf\\x15c\\ufffd\\ufffd\\x1f.(\\x01l\\ufffd\\x16e\\ufffd\\ufffd\\ufffd\\x07\\ufffdz\\ufffdg\\x0c\\ufffd\\ufffd\\x7f\\ufffd\\ufffd\\x00:\\ufffd\\ufffd\\ufffd\\ufffd\\x02\\ufffd\\ufffd\\ufffdR\\x11\\ufffd\\x05z\\ufffd\\x04\\x13\\ufffdw|\\ufffdry\\ufffdUX\\\\.H\\ufffd\\ufffd\\ufffdf\\ufffd\\'\\ufffd\\ufffd\\ufffd\\ufffdy\\ufffd\\x1ezP1\\x13\\ufffd\\ufffd\\ufffd\\nh+SN\\x7f\\ufffd\\ufffd%=\\\\0\\'\\ufffd\\x1a\\ufffd.\\ufffd\\ufffd\\x04<q\\ufffdDsO^[oJh\\x1dGq@\\t\\ufffd;\\ufffd\\ufffds\\ufffdR\\ufffd\\x04\\ufffd\\ufffd9\\ufffd\\x00\"\\ufffdq\\ufffd\\ufffd\\ufffd\\ufffd\\ufffd;u\\ufffd\\x00\\x0brh\\x01F\\x7f*z\\ufffdT\\ufffdL\\ufffd\\x07\\ufffd\\ufffdW\\ufffd\\ufffd\\ufffd\\ufffd\\x0b\\ufffd\\ufffd\\ufffd\\ufffd\\x0c=Nj\\ufffd\\ufffd\\ufffd\\ufffdV\\ufffdkd)\\ufffd\\x05f\\ufffd*pzT\\ufffd\\ufffd<\\ufffd1\\ufffd@\\ufffd\\ufffd\\ufffd\\ufffdE\\ufffd\\ufffd\\ufffd\\ufffd\\ufffd;\\ufffdI\\x04?`\\ufffdu\\x0b\\ufffd\\ufffd_i_L\\ufffd\\x1b\\ufffd\\ufffdw\\x00\\ufffd\\ufffd\\ufffd\\ufffdt\\x1cf\\ufffd\\ufffdJt\\ufffdb\\x0e\\ufffd}\\t\\ufffdE\\ufffd\\ufffdh^\\ufffd\\ufffd\\ufffd<w\\ufffd2\\ufffd\\x03&\\ufffd\\ufffd\\x02:\\x01U\\ufffd\\ufffd\\ufffdg\\ufffd\\ufffd\\ufffd\\x00I#\\ufffd\\ufffd\\ufffd\\ufffd\\ufffd|\\ufffd\\ufffd\\ufffdS\\ufffdL\\ufffd\\ufffdK\\x11U\\ufffdn\\ufffdc\\ufffd\\ufffd\\x02\\ufffd\\ufffd\\ufffd1Ybh\\ufffd\\ufffd\\ufffd\\ufffd\\ufffd\\x02MF\\x03\\ufffdJ[\\x7f*\\ufffd\\x00\\ufffd\\x19\\x19\\ufffd\\ufffd\\ufffd\\ufffd\\ufffdX\\ufffd\"\\ufffdD\\ufffd\\x1bv\\x1b\\ufffdP#(2\\x03\\'\\ufffd\\t$\\ufffd\\x02\\ufffd\\ufffd\\x00t\\ufffd)b\\ufffd\\ufffdG\\x116}qO[K\\ufffd\\x12\\ufffd1\\ufffdd2D\\ufffd\\ufffdq\\ufffd\\ufffdz\\ufffd\\ufffd\\ufffda\\ufffd\\x15b\\x0b\\x19\\ufffd\\ufffd\\ufffdvc84-\\ufffd\\ufffd\\ufffd;\\ufffd\\ufffd\\x08~U\\ufffd\\x04D\\r\\ufffdk\\ufffd\\ufffdv\\x14\\ufffd\\x7f\\ufffd\\ufffdL\\ufffd\\ufffd\\ufffd\\ufffdWL\\ufffd1u\\ufffdO\\ufffd\\ufffd\\ufffd0b\\ufffdb\\ufffd\\r\\x1bV;\\ufffdS\\ufffd\\ufffd0c\\ufffdT$\\ufffd1\\ufffd\\ufffdOL\\ufffd\\ufffd6\\ufffd\\ufffd3D\\x01*\\ufffd}\\ufffd&;G\\ufffdB\\ufffdv\\ufffd\\ufffd<\\ufffdT\\ufffd4>h\\x19T\\ufffd\\ufffd\\ufffd\\ufffd\\ufffdB\\ufffd\\ufffd\\ufffd\\x0c@\\ufffdE\"\\ufffdj\\ufffd\\ufffdy\\ufffd\\ufffdp\\ufffd\\ufffd\\ufffd\\ufffd\\ufffd\\ufffd\\ufffd\\ufffdN`M\\ufffd8 \\ufffd\\ufffd\\ufffd\\ufffd\\ufffdz\\ufffd\\ufffd \\ufffd1\\ufffd\\ufffd\\ufffd\\ufffd\\x13%\\ufffd+c+\\ufffdEFA\\ufffdN\\ufffd\\ufffd1\\x11\\x13\\ufffd@%O\\ufffd\\ufffd\\x154\\ufffd&\\ufffd\\\\\\n\\x04Od\\ufffdi\\ufffd\\ufffd\\'\\x19\\x04\\ufffd\\ufffd\\ufffdya\\ufffd\\ufffd\\x13\\ufffd^\\ufffd\\ufffdU8\\x17\\ufffd\\ufffd,6\\ufffd\\ufffd\\ufffd\\ufffdz\\ufffd#j>t2\\ufffd\\ufffdFI\\ufffd\\ufffd\\n\\r\\ufffd&\\ufffddc\\ufffd\\ufffd\\ufffd6\\ufffd\\ufffd5t\\\\\\ufffdAI\\ufffd>\\ufffd\\x01\\ufffd\\ufffd\\ufffd\\ufffd\\ufffdh\\x02\\ufffdI\\ufffd\\ufffd\\ufffd;r\\ufffd$\\ufffdb\\'#\\ufffd\\ufffdBq@\\x01\\ufffd\\ufffdGjB\\ufffd\\ufffd\\x1d\\ufffd\\ufffd\\ufffd\\ufffd\\ufffdZb\\ufffdA\\ufffd\\x05(?:\\x00\\ufffdFA_J\\ufffd\\ufffd\\ufffd\\ufffdI\\ufffdy\\ufffd\\ufffdu\\ufffd`1tY\\ufffd\\x14\\ufffdG5\\ufffd\\ufffd1\\x12\\ufffd2\\x08\\ufffdQ\\ufffd\\ufffd@\\x1d\\ufffd\\ufffd4>\\x1d\\ufffd%\\x1c$q,\\ufffd\\ufffd\\ufffd\\ufffdZ\\ufffdSwe4X\\x01\\ufffdq\\ufffd2\\ufffd\\ufffd\\ufffd\\ufffd\\ufffd\\ufffd\\ufffd\\x19]>\\x13\\ufffd\\ufffd\\ufffd\\ufffd\\ufffd\\ufffd\\ufffdb\\x07-k\\n\\ufffd>\\ufffd\\ufffd\\ufffd\\t\\ufffd\\x03z\\ufffdU\\x16\\'\\ufffdP\\x160\\x0c\\ufffd\\ufffd?AS\\ufffd\\ufffdaP\\ufffd@\\ufffd6\\ufffd\\ufffd>\\x1b\\ufffdH\\ufffdn\\ufffdR\\ufffd\\x01\\ufffd\"\\ufffd\\ufffd\\ufffd\\ufffd\\ufffd\\ufffd\\ufffd\\ufffd\\ufffd@W\\ufffd\\ufffd\\ufffd48\\ufffd&\\ufffd\\x0f\\x14\\ufffd\\ufffd\\ufffd\\ufffd e\\ufffd\\ufffd`\\ufffd\\ufffdou\\ufffd,\\ufffd\\ufffd\\x17\\ufffdO\\ufffd5\\ufffd\\ufffd\\ufffd\\ufffdz\\ufffd\\ufffd\\ufffd\\ufffd\\x02\\ufffd\\ufffdF9\\x1cSZH\\ufffd`\\ufffdT\\ufffd\\ufffdOS\\ufffdLhH8\\ufffd\\x0b\\ufffd#\\ufffd\\x03d\\ufffd\\ufffd5j\\ufffd\\ufffd(a[L\\ufffd\\ufffd\\'\\ufffd\\ufffd\\ufffd\\ufffd\\ufffd\\ufffd&\\ufffd\\x16\\ufffd\\ufffd\\ufffd\\ufffdU\\ufffd\\x00)4\\ufffdQ\\ufffd\\ufffd\\ufffd\\ufffdc\\ufffd\\ufffd\\ufffdP\\x06\\ufffd\\ufffdZ\\ufffdZ\\ufffdnH2\\x0eD~\\ufffd\\ufffdss\\x14\\ufffd\\ufffd\\ufffd\\ufffd\\x01\\x07h\\x15\\ufffdx\\ufffd\\ufffd#\\ufffd\\ufffd\\ufffd\\ufffd\\ufffd\\ufffd\\x05\\ufffd\\ufffd\\ufffd\\ufffd\\ufffd\\ufffd\\ufffdj\\x00tW+n%\\x10>|\\ufffd\\ufffd\\ufffdI/\\ufffd\\ufffd@O%8\\x14\\ufffd2\\ufffd@\\ufffd\\x0cs\\ufffd\\ufffd\\x0c\\ufffd\\ufffdN\\ufffd\\ufffd\\ufffd\\ufffd\\x05\\x025o<B\\ufffd\\x10\\ufffd\\ufffdn\\x1eU\\ufffd\\ufffd\\ufffd\\ufffdM[\\ufffd\\ufffdR\\ufffdW\\ufffd(\\x16\\ufffdA\\ufffd{UI\\ufffd-\\ufffd\\ufffd]N\\ufffd\\ufffd\\ufffd\\x023\\ufffdK\\ufffd^\\t\\ufffd.t\\ufffdCo\\ufffd\\ufffd\\ufffd\\ufffd\\ufffd\\ufffdh\\x02\\ufffd\\ufffd\\ufffdW\\x10\\ufffd%\\ufffdm<\\x01\\ufffd\\ufffd\\ufffd\\x17q\\\\_\\x08H\\ufffdT\\ufffd5J\\ufffdL\\ufffd\\ufffd\\ufffd6\\ufffd\\ufffdb\\x1b\\ufffdz\\x11V,PC\\ufffd\\\\\\ufffdc\\r1\\ufffd\\ufffd\\ufffd,\\ufffd;\\ufffd\\ufffd\\ufffd\\ufffdV9\\ufffd\\ufffd\\r2\\ufffd\\ufffdmo\\ufffd\\ufffd\\ufffd\\x08\\ufffd\\ufffd\\x1ab\\ufffd\\ufffdbV\\tA\\ufffdV\\ufffd\\ufffdn\\ufffdO\\x05\\ufffd\\x19\\x0e(\\x19\\x07\\ufffd\\ufffd\\ufffd~c\\ufffd\\ufffd\\x1a\\ufffd\\ufffd\\ufffd$\\x13\\ufffdV[`\\ufffdI\\ufffd\\ufffd\\\\P\\ufffd\\x03.6\\ufffd\\x03\\ufffd\\ufffd\\x00\\ufffd\\ufffd\\ufffd\\ufffd&\\ufffdmz\\ufffd\\ufffdM\\x14D\\ufffd\\ufffd\\ufffd3Q\\ufffdn\\ufffdd\\x01\\ufffd\\ufffd\\ufffd\\ufffdc\\x07\\x1c\\ufffd\"x\\ufffd$\\ufffd\\ufffd!3\\x12W\\ufffd\\ufffd^\\ufffd\\ufffd\\ufffd\\ufffd\\ufffdi>\\ufffd=)\\ufffdo\\ufffd\\ufffd/S@\\ufffd>\\ufffd\\x07Q\\ufffd\\ufffdi\\ufffd\\ufffdF\\x03\\ufffd)\\ufffdN:f\\ufffd\\x16\\ufffd\\ufffdI\\r\\ufffd\\ufffddP\\ufffd*2~\\ufffd\\x08\\ufffd\\ufffd\\x00\\ufffd\\ufffd\\x19\\x07\\ufffd\\ufffd\\ufffd,\\ufffd\\ufffd`\\ufffd\\ufffd5MGN\\ufffdV\\ufffd\\ufffd\\ufffd$\\x0f\\ufffd\\ufffdU\\x03l\\ufffdKc\\ufffdJj[)Pv\\ufffd\\ufffd\\x00Cu\\x11\\ufffdH\\ufffd\\ufffd\\ufffd\\x1b\\ufffdK\\ufffd\\ufffd\\'\\ufffd\\ufffdAn\\x0c\\ufffd\\ufffdp\\x07\\x7fZw\\ufffd\\ufffd$c\\ufffd\\x00O\\ufffd\\ufffd\\ufffd\\ufffdf\\ufffd$\\ufffd7QOkE\\ufffd\\ufffd\\ufffd\\ufffd{\\x1aO\\ufffd\\ufffdg\\x19\\ufffdP2\\ufffd\\ufffdG<M\\ufffd\\ufffd 4\\ufffd\\ufffd\\x11\\ufffd\\ufffd\\ufffd\\ufffd\\ufffdEO\\ufffd!\\ufffdI\\ufffd!\\ufffd\\x14\\x08#\\ufffd\\ufffd\\ufffdBz\\ufffd\\ufffd5\\ufffd\\ufffd\\ufffd\\ufffd\\ufffd\\x10\\x03\\ufffd\\x06\\ufffdDlz\\ufffdS\\x19,M\\x03\\ufffd\\ufffd9\\ufffd\\ufffd\\ufffdt\\ufffd2`\\ufffd?J\\ufffdN\\ufffd\\x19.\\ufffd\\ufffd\\ufffd\\ufffdB\"\\x11\\ufffdzP!\\ufffd\\ufffd\\ufffd\\ufffd\\ufffd\\x19c\\ufffd=(8\\ufffdHx\\x06\\ufffd\"\\ufffd\\'#9\\ufffd\\x158\\ufffd\\ufffd\\ufffd*#\\ufffd\\ufffdz\\ufffd\\ufffdP\\ufffd\\x03$b\\ufffd\\ufffd\\\\\\x0c\\ufffdv\\ufffd:\\t$\\x1f\\ufffdA\\ufffd\\ufffdv\\ufffd\\ufffdc\\ufffd\\x00\\x12kV\\x1d\\ufffd$Z\\ufffdRT{\\ufffd@\\x0c\\'\\x07u4\\ufffdy\\ufffd\\ufffd\\ufffdQ\\ufffd\\ufffd\\ufffd\\ufffd8\\ufffdJ\\x00`<\\x1a\\x01\\ufffd\\ufffd\\ufffd\\ufffd\\ufffd \\x06tV`\\ufffdz\\ufffdJ\\x04\\x18\\ufffd\\ufffd\\ufffdu\\ufffd9\\ufffd76\\ufffd\\x0c\\ufffd\\ufffdN\\x1c\\x1e\\ufffd\\ufffd\\ufffd!\\ufffd\\ufffd\\x19\\ufffd\\x08\\ufffdpNzR\\ufffd\\ufffd\\ufffd\\ufffdI\\ufffd\\ufffd \\ufffdN*\"\\ufffd\\ufffd\\ufffd\\ufffd\\x00r\\ufffd\\ufffd7z|\\ufffd\\ufffd\\ufffd\\ufffd\\ufffdQa\\ufffd8\\ufffdr\\ufffd\\ufffd\\ufffd\\ufffd\\ufffd\\ufffd\\ufffd\\ufffd1\\ufffd0\\ufffdJ\\ufffd\\ufffd*i\\n\\ufffd\\ufffd\\ufffd\\ufffd\\ufffdC\\x1byc\\ufffdO\\\\ScVh\\ufffd\\ufffd\\ufffd\\ufffd\\ufffdLE\\ufffd\\t{\\ufffd\\x00E\\ufffd\\ufffd\\ufffdV\\ufffd\\x06X\\ufffd\\ufffd/\\ufffd\\ufffd\\ufffd\\ufffdY\\ufffd\\ufffd\\ufffd\\ufffd\\x18\\ufffd\\ufffd[s\\ufffd\\ufffd\\ufffd\\ufffd\\ufffd\\ufffd6?*\\x00\\ufffd\\ufffd\\ufffd{\\ufffdAs\\x0c*Q\\ufffd\\ufffd;\\ufffd\\ufffd\\x0b\\x1b\\ufffd\\x1c\\ufffdX\\x14?`\\x05]\\ufffd\\ufffd3xj\\ufffdBB\\x14$I\\ufffd\\ufffd\\x00&\\ufffd\\ufffd\\ufffd\\x0cK{\\x0b\\ufffdL\\ufffd\\ufffd{\\x0e\\ufffdqV\\ufffdlqg \\ufffdG\\ufffdW%.\\ufffd\\x12\\ufffdx\\ufffdP\\ufffd\\x1f\\x11\\ufffdNB\\ufffd4\\x01C\\ufffdZ\\ufffd$+\\ufffd\\ufffdS\\ufffd\\ufffd\\ufffd\\ufffdo\\ufffd\\ufffd\\x0eF0*\\ufffd\\ufffd\\x01m\\ufffdx\\ufffd\\ufffdR\\ufffdG\\ufffd\\ufffd\\ufffd:f\\ufffd15\\x08\\ufffdl.\\ufffd\\ufffd\\ufffdo\\ufffdi\\x0e\\ufffd{\\ufffd#\\ufffd\\ufffd\\ufffd\"\\ufffd6bb@\\x03\\ufffdn\\\\\\ufffd%\\ufffd\\x10,\\ufffdr,\\ufffd\\x15\\x10\\ufffd\\ufffd\\x12\\tW\\ufffd\\x074\\ufffd\\ufffd,\\ufffd\\x04\\ufffd\\ufffdT\\ufffd\\t\\x0e\\ufffd=\\ufffd\\ufffd\\ufffd\\x13\\ufffd\\x00\\'\\ufffd5\\ufffdu\\ufffd\\ufffd\\ufffdu\\ufffd1\\ufffdK\\ufffd\\x10\\ufffd*\\ufffd2Kt\\ufffdH\\x07[\\ufffd|\\ufffd\\ufffd|\\ufffd?0\\x0c\\ufffd\\ufffd\\x17\\ufffd}\\ufffd+na\\ufffd\\x0e\\ufffd}s]\\x05\\ufffd\\ufffd\\ufffd3\\ufffd\\ufffd1\\ufffdq\\x1e\\ufffd\\ufffd\\ufffd\\ufffdZ\\ufffd%\\ufffdX\\ufffd\\ufffd\\ufffd  {\\x1aLh\\ufffd\\ufffd\\ufffd\\ufffdu/\\ufffd\\ufffd\\ufffdv\\x11\\ufffd\\ufffd\\ufffd\\ufffd\\ufffdB\\x18`\\ufffdmgTP\\ufffdv\\ufffd\\ufffdi\\ufffd\\ufffd5\\ufffdO_#\\n~\\ufffd\\ufffdj@\\ufffd \\ufffd\\ufffdR@x\\ufffd\\ufffd\\ufffd\\ufffdS\\ufffdl\"\\ufffd\\ufffd\\ufffd\"\\ufffd\\ufffd\\ufffd\\ufffdaY\\ufffd\\ufffde\\ufffd\\ufffd)Y\\ufffd.\\ufffd\\ufffd\\ufffd8\\ufffd\\ufffdS\\ufffd\\ufffd\\ufffd\\ufffd\\ufffd\\x00\\x12F\\x19~\\ufffdn\\ufffd\\ufffd\\x00\\ufffd6p\\ufffd\\ufffd\\x16^T\\ufffd\\x10g\\x10\\ufffd+w\\ufffd\\ufffd\\ufffd$\\x0c\\ufffd8\\ufffd\\ufffd\\ufffdH\\ufffd\\ufffd0|\\ufffd\\x04\\ufffd\\ufffd\\ufffd\\ufffd\\ufffd\\ufffd\\ufffd9\\ufffdJbx\\ufffdBq\\ufffd\\ufffd\\ufffdB[D&\\ufffd\\ufffd\\ufffd\\x00L\\ufffd~\\ufffd_$\\ufffd$\\ufffdSB\\x0cd\\ufffd\\ufffd\\ufffd\\ufffd\\ufffdl*\\ufffd\\ufffd\\x06\\x1c6A\\x03&\\ufffdY\\x19[\\x00\\ufffd\\ufffd\\ufffd\\x05\\ufffd\\ufffdTP\\x03!4\\x014\\ufffd\\ufffd;\\x1dF3\\ufffd\\ufffd\\n6v78\\ufffdP1\\x06\\x19OpE7\\ufffd\\x08\\ufffd\\ufffd\\ufffd\\ufffd\\ufffd\\x12\\x18\\ufffd)\\ufffdg\\x19\\x1b\\ufffd\\ufffd\\x17,\\ufffd\\ufffd\\\\)\\ufffd\\x1b\\ufffd8\\ufffd\\ufffdpz\\ufffd\\ufffd\\ufffd\\ufffd\\ufffd6\\ufffd\\x02\"D\\ufffd\\ufffd\\ufffd\\ufffd0\\ufffdMdyvW\\ufffd\\ufffd\\ufffdF3\\ufffd\\ufffd\\ufffd`\\ufffd\\r\\ufffd\\ufffdp\\ufffd.Q\\x06Mgx\\ufffdK[\\x0b+\\ufffd\\ufffd\\ufffdH\\ufffd~b\\ufffd\\ufffd\\ufffd\\x1a\\ufffdf[I:\\x0f\\ufffdE\\x19\\ufffd\\x05n\\ufffd\\ufffd\\ufffd\\ufffd\\\\\\ufffdJ\\x0f\\ufffdw\\x10U?J\\ufffd\\ufffd,\\ufffdlt\\ufffd/\\x06%\\ufffd\\ufffd]#\\x11|\\ufffd\\ufffd\\ufffd\\ufffd\\ufffdI\\x08\\ufffd\\ufffd\\x10\\ufffd\\ufffd\\r\\ufffd\\ufffd\\ufffdTlR\\\\q\"\\x0c\\ufffd2\\ufffd\\ufffd\\ufffd\\ufffdTq8R\\x19\\ufffd\\ufffd\\ufffdZ\\ufffd\\ufffd\\x16\\ufffd\\ufffdH\\x06\\ufffd\\ufffdh\\ufffd\\ufffd\\x00\\ufffd\\ufffdJA\\ufffdn,G\\ufffdK\\ufffd\\ufffd\\x06\\ufffd\\ufffd}Nh\\ufffd\\ufffd,\\ufffd0\\ufffdrG\\ufffd\\ufffd\\ufffdb;\\ufffdZ\\ufffdMs\\ufffd*\\ufffd\\x1b\\ufffd\\ufffd\\ufffd@\\ufffd\\ufffd\\ufffd\\ufffd\\ufffdH qS\\ufffd\\ufffd|\\ufffdfY\\ufffdO\\ufffdn\\x0f\\ufffdOR(6q[\\ufffd\\ufffd|\\ufffd$\\ufffd,\\x0e\\ufffd\\ufffd\\ufffd\\ufffd\\ufffd\\x1eD\\ufffd\\x01N\\x17\\x1cP\\x06\\ufffd\\ufffd\\ufffd\\ufffd\\ufffd\\ufffdP\\ufffd\\x0e\\ufffd\\ufffdV\\ufffdVq\\ufffd\\ufffd\\ufffd\\ufffd\\ufffd\\x15\"\\x18\\ufffd\\ufffd(\\ufffd\\ufffdK\\x11T\\ufffd;\\ufffd\\ufffd\\x08\\ufffd\\x06\\x08\\ufffd\\ufffd\\x12\\x03fD\\x1f\\ufffdG\\x12\\ufffdP\\ufffd.1\\ufffd\\ufffdM\\x12\\ufffdd\\ufffd\\x07\\x00u\\ufffd\\x131\\ufffdU\\ufffd\\x08\\x18\\x19\\ufffd\\ufffd\\x1b\\x0c\\x10H\\ufffd\\x10d\\ufffd\\ufffd&\\x18,\\ufffd\\ufffd3!\\x19\\ufffdU\\x0f,\\x0b#B\\ufffd+q\\ufffd\\ufffd<X\\ufffd(\\ufffdI\\ufffd\\x0b\\ufffd\\ufffd\\x06G&\\ufffda\\x06l\\ufffd\\ufffd\\ufffd\\ufffd\\ufffd\\ufffd\\t\\x1a\\ufffd\\ufffd |\\ufffd\\ufffd\\ufffdBO#\\x150\\ufffd\\ufffdF-\\ufffd\\ufffd\\ufffd*\\ufffd\\ufffd?\\ufffd\\ufffd\\ufffd\\ufffd\\ufffd\\ufffd\\ufffd!\\ufffd\\x00\\ufffd\\ufffd\\ufffdC\\ufffdCj\\ufffd\\ufffdC\\ufffd\\ufffdU\\ufffdQ\\ufffd\\x1d\\ufffd\\ufffdV\\r\\ufffd\\ufffd\\ufffdY\\ufffdX\\ufffd\\x04\\ufffd\\x16\\ufffdG\\ufffd\\ufffd\\ufffd%e\\ufffd\\ufffd{p\\x00\\x04\\ufffd\\ufffd\\ufffd\\ufffd\\ufffdX\\ufffd\\ufffd\\\\y\\ufffd\\ufffd\\ufffd\\ufffd\\ufffd5=(\\ufffd\\ufffdb[\\ufffd~\\ufffd,\\x1c\\x10\\ufffd\\ufffd\\ufffdlKq$\\ufffd\\x13\\ufffd\\ufffd0Z>\\x1b\\ufffd=\\ufffd5\\x0c\\ufffd\\x13kx=\\ufffdT\\ufffd\\x1aE\\ufffd\\ufffd\\ufffdwar\\ufffd\\ufffd\\ufffd\\ufffddP#\\t/%1\\ufffdp\\ufffd\\x0b\\ufffdz\\ufffd\\ufffd*\\ufffd\\x19\\ufffd\\ufffd\\ufffd\\ufffd\\rI\\ufffdj\\x00\\x7f\\ufffd\\ufffd\\ufffdn\\ufffd@\\ufffd\\ufffd+\\ufffd\\ufffdn=(\\x1f\\ufffd\\x00[\\ufffd.\\x1c\\ufffdp\\x18\\ufffd\\ufffd\\x18\\x07\\ufffdlG l\\t\\x14\\r\\ufffd\\ufffd+\\x1bAU\\ufffdT\\ufffd\\ufffd\\ufffd\\x1f\\ufffd\\x18\\ufffd\\ufffdF\\ufffd/\"-\\ufffd\\x1b\\ufffd\\x03#{h\\ufffd\\ufffd\\x04\\ufffd\\ufffdU\\x1e\\ufffd\\ufffd\\ufffdw\\ufffdgk\\ufffd\\ufffd[^[\\ufffd\\n\\ufffd\\ufffdbj\\ufffd\\ufffd-\\ufffd\\ufffd\\ufffd5]\\ufffdK\\ufffd\\x11\\'\\ufffd\\ufffd\\ufffd*\\x00\\ufffd\\x1c\\ufffdO\\ufffd\\ufffd\\ufffdf\\ufffdQ`KyW9\\ufffd\\ufffd8\\ufffd\\ufffd\\ufffd&\\ufffd\\ufffd<\\ufffd\\x0e2\\x04\\ufffd\\ufffd\\x0fZl\\ufffdL\\x121\\r\\ufffdI\\ufffd{\\ufffd\\ufffdp\"X\\ufffd<\\ufffd\\x06\\x05\\x1d@\\ufffdJm\\ufffd\\x05E4C\\ufffd#\\x00\\ufffd\\ufffd\\ufffdR\\ufffd\\ufffd\\ufffdO\\ufffdbIm\\ufffdB\\ufffd\\ufffd\\ufffd\\ufffd\\ufffd\\ufffdw\\ufffdZ!\\ufffd\\ufffd/\\ufffd\\ufffd\\x02&\\ufffd\\ufffdN\\ufffdm\\ufffd\\ufffd\\ufffdd\\ufffd-\\ufffd\\x18\\ufffd\\ufffd~P\\ufffd\\ufffdb^Y\\ufffdh\\ufffd\\ufffdg\\ufffdF|\\ufffd\\ufffdgp\\ufffd\\ufffdqR\\ufffd\\x14W6\\ufffd\\ufffd\\x0c{\\ufffdU\\ufffd\\ufffd\\ufffd\\ufffd|?\\ufffd\\ufffd$\\ufffd\\ufffdwY\\ufffd\\ufffd\\ufffdH\\ufffd\\ufffd\\ufffd\\ufffd\\x0e\\ufffd\\ufffd\\ufffd\\ufffdfy\\ufffd3\\x11A\\ufffdfQ\\ufffd\\x04\\ufffd\\ufffdf!i\\ufffd_@\\ufffd\\ufffdj\\ufffd\\ufffd\\ufffd\\ufffd\\ufffdzKhF\\ufffd\\ufffd\\ufffd4\\ufffd{N\\ufffd(\\ufffda9\\ufffd\\ufffdR\\ufffd{nu\\ufffd\\ufffdb`C\\x11\\ufffd;\\ufffdL\\n+&N3\\ufffd*\"\\x1f\\ufffdN\\ufffdn;]NEK \\t\\ufffdFx\\ufffdD\\ufffdtP\\ufffd\\ufffd\\x1b\\x14\\ufffdp(X\"\\ufffdy|\\ufffd\\ufffd\\ufffd\\ufffd\\ufffdS\\ufffdiI\\x19\\ufffd6\\ufffdu\\ufffd\\ufffd\\x1f\\ufffd\\ufffd\\ufffdQ9\\x12\\x05\\ufffdjb\\x0e\\ufffd\\ufffdRpFy\\ufffd\\ufffd\\ufffdv\\ufffd\\'\\ufffd\\ufffd(\\x02\\x06^\\ufffd\\ufffd\\ufffdq\\ufffd\\r\\ufffdP\\ufffd\\ufffd\\ufffd\\x0c\\ufffd\\ufffd\\ufffd\\tP3\\ufffd\\ufffd\\x07\\ufffd\\x7f`\\ufffd\\ufffd\\ufffd\\ufffdaU\\ufffdy\\ufffd\\ufffd\\ufffdE\\x1e|89\\ufffd/\\x0e\\x7f*\\ufffd\\ufffd\\x0e\\ufffd\\x0c\\ufffd\\ufffdN)\\ufffdI\\ufffd\\ufffd\\x02\\ufffd1\\ufffd\\ufffdL\\ufffdq\\ufffd\\ufffd\"#\\r\\ufffd\\x14\\ufffd\\x00+\\ufffd\\ufffd\\x06Fzb\\ufffd\\x05\\x04\\ufffd\\ufffd\\x00V\\x11\\x1c\\ufffd\\n\\ufffdF\\ufffd\\x01RsS\\ufffd|\\ufffd\\ufffd)\\ufffdaq\\ufffd\\ufffd\\ufffdC\\x16\\x7f\\ufffd\\x0c\\ufffd\\ufffd\\ufffdo$\\ufffd\\ufffd\\x11\\ufffd\\ufffd\\ufffd\\ufffd\\x15\\ufffd\\ufffd\\ufffd\\ufffd\\ufffdBW\\ufffd\\ufffd\\ufffd\\ufffd\\x02Y\\ufffd\\ufffdy\\x07\\ufffd\\x1bi\\ufffd>CrioUb\\ufffd\\ufffdV\\ufffd\\ufffd\\x13\\ufffd\\ufffd\\ufffd\\ufffd}\\ufffdP\\x04\\ufffd\\x0e\\ufffdI\\ufffd\\ufffd\\ufffd\\x08c\\ufffd\\ufffd\\x18\\x7f\\ufffd\\ufffd\\ufffdR3m\\ufffdU\\x1c\\ufffd\\ufffd\\x00\\ufffd4\\ufffdw\\x14\\ufffd\\ufffd!\\ufffdW\\ufffd\\\\y \\ufffd-\\ufffd-\\ufffd~\\ufffd\\ufffd\\ufffd\\x02\\x07z\\x13\\n\\ufffd(\\x19sN\\ufffd{]\\x16\\ufffd\\x05\\ufffd\\ufffd\\ufffd\\ufffd\\ufffd\\ufffd\\ufffdz\\ufffd\\ufffd\\ufffd\\ufffd\\ufffd\\ufffdm\\ufffd\\ufffd\\ufffd\\ufffd\\ufffd\\x01\\ufffdR\\x015\\\\6\\ufffd\\ufffd\\x04P#\\ufffd\\ufffd\\ufffd\\ufffdm3tl?\\ufffd\\x01\\ufffd\\ufffd\\ufffd>\\x11\\x12\\ufffd\\x18l#\\x15\\ufffd\\ufffd\\x07\\ufffd\\ufffd\\x18\\ufffd\\ufffd\\ufffdV\\ufffd\\ufffd?\\ufffdm6\\x0f\\ufffdH\\ufffd\\x0b\\ufffd{nf$\\x1c\\ufffdi\\ufffd\\ufffd\\x1b\\ufffd\\x04\\ufffd\\ufffdd\\ufffd\\ufffd\\x0eb\\x04\\x17\\ufffdi\\ufffdl\\x1d\\ufffdg\\x07\\ufffdP\\x06\\ufffd\\ufffd\\ufffdB$_)\\ufffd&\\ufffd\\ufffd\\ufffd\\ufffd\\ufffd*\\ufffd\\ufffd\\ufffd!\\ufffdt\\x1f,\\ufffd\\ufffd\\x0e\\ufffdS\\ufffd8<\\ufffd\\ufffd\\rYu2\\ufffd0L\\x10j\\x0b\\ufffd\\ufffd.\\ufffd\\x01\\ufffd\\ufffd8\\ufffd\\ufffd\\x1b\\ufffd\\x0eM0\\ufffd\\x1e\\ufffd\\ufffd0;\\ufffd5A\\x15\\ufffdv\\ufffd\\ufffdW,I\\ufffdPK\\x13\\ufffd%\\ufffd\\ufffd5Ug\\ufffd0\\ufffd\\ufffd,\\ufffdR>\\ufffd\\ufffd\\ufffd\\ufffd\\x01vb\\ufffd\\ufffdH;~\\ufffd\\ufffd\\x19\\ufffds\\x0b%\\ufffd\\ufffd\\ufffd\\ufffd\\ufffd)\\x05sV\\ufffd\\ufffd\\ufffdCtJ\\t\\ufffdX\\ufffd\\x0e\\ufffdP0\\ufffd?,C\\x1c\\ufffd5\\x08\\ufffd\\ufffd\\x1f<\\ufffd\\ufffd\\ufffd\\rE\\ufffd/\\ufffd\\ufffd&\\ufffd\\ufffd\\ufffd\\ufffd\\ufffdX\\ufffd}9\\ufffd\\ufffd\\ufffdq\\ufffd9\\ufffd@<v\\ufffdSy\\ufffd\\ufffd!\\ufffd\\ufffd\\ufffd\\ufffd\\ufffd\\ufffd\\ufffd\\ufffd\\ufffd\\ufffd\\ufffd\\x1cn\\ufffdr*\\ufffd\\ufffd,\\ufffd\\ufffd\\ufffdh\\ufffd\\ufffd<\\ufffd\\ufffd\\ufffdy\\ufffd\\x15\\ufffd+w?\\ufffdYL\\ufffd\\ufffd\\ufffd)w1\\x19\\ufffd\\x7f:i=i\\ufffdB\\ufffd\\ufffdd)\\ufffdUe9\\ufffdM\\ufffd-\\ufffd\\x1eI\\ufffd)\\ufffd\"w\\x0c\\ufffdl\\x1b\\ufffd\\ufffd\\x01J\\ufffd\\ufffdq\\ufffd]\\ufffd&\\ufffd\\ufffd\\x11Z\\ufffd=OJ\\ufffdp\\ufffd4\\ufffd\\ufffd\\ufffd\\ufffdjf;\\ufffdj:f\\ufffd\\x10\\ufffd\\ufffd\\x04\\ufffd\\ufffd)%8X\\x08\\ufffd:\\ufffd\\ufffd\\ufffd\\ufffd\\ufffdT\\ufffd\\x0e\\x00\\x1c\\ufffd\\ufffd\\x1a\\ufffd\\ufffd\\ufffd\\ufffd\\ufffd\\ufffd\\ufffd\\x1f7,:\\ufffdQ\\ufffd\\\\\\x13\\ufffdS\"\\x05.\\ufffd\\ufffd\\ufffd\\ufffd@\\x17\\ufffd\\ufffd\\ufffd\\ufffd\\\\\\ufffdC\\ufffd@_z\\ufffd\\ufffd9\\ufffd}\\x0e\\ufffd\\ufffdm\\ufffd#\\x00~b\\ufffd\\ufffd\\ufffd\\x1c\\ufffd\\ufffd\\ufffd\\x07\\x19\\ufffd}l\\x0f\\ufffd[\\ufffd\\ufffd\\ufffd\\ufffd\\ufffd\\ufffd\\x00\\ufffd|\\'p\\ufffd\\ufffd6)\\ufffd\\x0c\\ufffd`I>\\ufffd\\ufffd\\x0f\\x0c\\ufffd\\ufffd\\ufffdI*\\x00a\\ufffdF\\ufffd\\ufffd\\ufffd\\ufffd\\ufffdt\\x17?\\ufffd\\ufffd\\ufffd\\ufffd\\ufffd\\ufffd\\ufffd\\x0f\\ufffd@\\ufffd\\ufffd\\ufffdM>\\ufffdJ\\ufffd\\ufffd\\x0e\"\\\\4\\ufffd\\x0f\\ufffdc@\\ufffd\\ufffd\\ufffd~\\ufffd\\ufffdJ\\ufffd\\ufffd\\ufffd\"\\x1d\\ufffd\\x1a\\ufffdk9\\ufffd\\ufffd\\\\\\ufffd\\x13\\x05R\\x0cm\\ufffd\\ufffd\\ufffdM\\ufffd\\ufffdrO\\ufffd\\ufffd\\ufffd\\ufffd\\x1e\\ufffdT1\\ufffdHS\\ufffd\\ufffd\\ufffd\\x0254\\ufffdCI\\ufffd5\\x0b\\ufffd\\ufffdl$\\ufffd\\ufffd;F\\ufffd\\'\\ufffd\\ufffd\\ufffdaK8\\ufffd\\ufffd\\ufffdf \\ufffdW\\ufffd\\ufffdZ\\ufffd\\x05\\ufffd3^\\ufffd\\x10Z\\ufffd\\ufffd<P\\x00I\\x1c\\ufffdMr\\ufffd\\ufffd\\ufffd\\ufffdW\\x07=8\\ufffd\\t\\ufffd\\ufffd\\ufffdn\\ufffd\\x12\\ufffd\\ufffd\\ufffd\\x15$2\\ufffd\\ufffd$\\ufffd\\ufffd\\x01\\ufffd\\ufffdl\\ufffd%\\ufffd\\ufffd\\x7f\\ufffd\\ufffdj;\\ufffd\\ufffd\\ufffdIW!\\ufffdq@\\ufffd\\x02\\ufffdM\\ufffd\\ufffd\\x19\\x1bzU\\ufffdM\\ufffdv\\x18\\ufffd9\\ufffdbc\\ufffd0\\ufffd\\x12?:\\ufffd,\\ufffd\\x06\\ufffd\\\\\\ufffdjm\\ufffd\\ufffd=h\\x11<vf2|\\ufffd\\ufffd\\x16\\ufffd=jI\\ufffd\\ufffd\\ufffd\\ufffd\\ufffd\\ufffd8 \\ufffdSx/#\\ufffd$\\x0e\\ufffd\\ufffdef\\ufffd\\x19 \\ufffd\\ufffd\\ufffd@\\x1a\\x02\\ufffd\\ufffd\\ufffdu\\ufffdz\\ufffdOf\\ufffdnYT8\\ufffd\\ufffd\\ufffd\\ufffd6\\ufffd*\\ufffd9\\x13\\x0f\\ufffd\\ufffdrJ\\ufffd\\x08\\ufffd@\\x0f\\ufffd>U\\ufffd\\ufffd\\ufffd\\x01\\ufffd\\x0fj\\ufffd\\ufffd\\ufffds\\x19\\x12\\ufffd\\x07C\\ufffd\\ufffd\\ufffdIn\\ufffd\\ufffd\\ufffd\\x00\\ufffd\\ufffdl\\x0c\\ufffdj\\ufffd2E*\\ufffd7\\x01\\ufffd\\ufffd\\x12\\x0f\\x14\\x01-\\ufffd\\ufffd\\ufffdF\\ufffd\\ufffd\\ufffd\\ufffd\\ufffd\\ufffd\\ufffd\\ufffd\\ufffd\\ufffd\\ufffd\\ufffdI|tk\\ufffd\\ufffdsleV\\ufffd\\ufffd\\ufffd\\ufffdqim\\x02\\ufffd@\\ufffd\\ufffd\\ufffdM\\ufffd\\ufffd\\ufffdI\\ufffd]BU\\ufffd!\\ufffd\\ufffd(\\ufffd\\ufffd4\\ufffd\\x19\\ufffd-OO\\ufffd\\ufffd\\ufffd\\ufffd\\ufffd!8oQZ\\x1a%\\ufffd\\ufffd\\ufffd<\\ufffd\\ufffd\\ufffd&\\ufffd\\ufffd}j\\ufffd\\ufffd\\ufffd\\ufffd\\ufffd\\x0bX\\ufffd\\ufffd\\x10\\\\\\x0c\\ufffd=\\x18\\x0e\\ufffd\\x1d\\ufffd\\ufffd\\ufffd\\ufffd\\ufffd\\ufffd\\x1b\\ufffd\\x1c\\x02;R`c\\x1b\\t\\ufffd\\ufffd\\ufffdI\\x1eLd\\ufffd\\ufffdQB\\x1e}>K\\ufffd\\ufffd\\ufffdQ\\ufffd\\ufffd\\ufffd\\ufffd\\ufffdA\\ufffd\\ufffd]\\ufffd\\ufffd#\\ufffdq\\ufffdQ\\ufffd\\ufffdj\\x1d\\x05b\\ufffd\\ufffdW}\\ufffd\\ufffdsa\\ufffdFd\\ufffd\\ufffd\\ufffd4t\\x032\\x0b9\\ufffdU1\\ufffdCt>\\ufffd\"i\\ufffd\\x0fz\\ufffd\\ufffdj8\\ufffd\\ufffd\\ufffdK8\\x1bM\\x11\\ufffd1\\ufffd\\ufffd\\ufffd \\ufffd\\ufffd\\ufffduX\\x1f\\ufffd\\ufffd{\\x0c\\x07\\x03\\x06\\ufffd\\x10\\ufffd\\ufffdr\\ufffd\\x00O\\ufffd\\ufffd{\\ufffdso$?,\\ufffd\\ufffd\\ufffd\\x15\\ufffd\\ufffd\\ufffd\\ufffdYK\\x071\\ufffd\\x0fz\\ufffd\\ufffd7_\\ufffd\\ufffd\\ufffd.[jDq\\ufffd\\ufffd\\ufffdj\\ufffd\\ufffd\\ufffd\\ufffdYZ\\ufffdy\\ufffd\\x06@c\\ufffd\\ufffd\\ufffdL\\ufffdNC\\ufffdWa\\ufffd\\ufffd`\\ufffd\\ufffd\\x0e\\ufffd\\ufffd\\ufffd\\ufffd\\ufffdu\\r=\\ufffd)\\ufffd\\ufffd2m\\ufffd\\\\p\\ufffd\\ufffd4r\\ufffdI\\ufffda\\ufffd\\ufffd\\ufffdLV\\x1f\\x01\\ufffd\\ufffd\\ufffd\\ufffd7\\ufffd\\'\\ufffd\\ufffd\\ufffd\\ufffdl\\ufffd\\ufffdb\\ufffd\\x16R\\ufffd\\ufffdGqP\\ufffd\\ufffd\\ufffdV\\t\\ufffd\\x19\\ufffd>mW\\ufffd\\ufffd\\ufffd\\ufffd\\ufffdW\\n\\ufffd5O0\\ufffd\\ufffdqLC\\ufffd\\ufffd,m\\ufffd{o\\ufffd4\\x1ep$`u$\\ufffd\\ufffdnH\\ufffd`\\ufffd\\ufffd<\\ufffd\\ufffd%X\\ufffdmc\\ufffd\\x04W%}\\x07\\ufffd\\ufffd\\ufffd\\ufffd\\x04\\ufffd\\ufffd\\ufffd\\ufffdR\\ufffd\\ufffd6s].\\ufffdyi{\\ufffdk\\ufffd\\ufffdy\\ufffd\\ufffdj\\ufffd\\x1c\\ufffd\\ufffd\\x1d@\\ufffd\\x11\\ufffd\\ufffd\\ufffd\\ufffdj\\ufffd7\\ufffd/\\ufffd\\ufffd\\x18c\\x06kv\\ufffd\\ufffd\\ufffdR\\ufffdq\\r\\ufffd\\ufffd(e\\ufffd\\ufffd\\x18\\ufffd\\ufffd\\ufffd\\ufffd\\ufffd\\ufffd\\ufffd\\ufffd\\ufffd\\ufffd\\x1cp\\ufffdx\"\\ufffd;E\\ufffd\\ufffdW\\ufffd>\\ufffd\\ufffdV1L\\ufffdn\\ufffd\\ufffdd\\ufffd\\x7f\\ufffd\\ufffd9\\ufffdt\\ufffd|?\\ufffd\\ufffd\\x13\\x19,.\\ufffdu\\ufffd\\ufffd\\ufffd\\ufffd\\ufffd\\ufffd\\x0f\\ufffd\\ufffd:m\\ufffd\\ufffd\\ufffdH\\x1c`\\ufffd\\ufffd\\x7f\\ufffd\\ufffdM[H\\ufffd\\ufffd\\ufffd\\ufffd\\ufffdS\\ufffd6\\ufffd\\ufffd\\ufffd(\\ufffdn\\ufffd\\ufffd\\ufffd4\\ufffd\\ufffd\\ufffdI\\x038<\\ufffd\\ufffd\\ufffd\\ufffdd\\ufffd2\\x03sIse6\\ufffdM\\ufffd\\ufffdfP\\ufffd\\ufffd\\ufffd\\ufffd\\ufffdZ\\ufffd\\ufffd*\\ufffd\\ufffd\\ufffd9\\n\\ufffd\\ufffdHff\\ufffd\\x11\\ufffd\\ufffd\\ufffd8\\ufffd*qT\\ufffd\\ufffd\\ufffdo3\\ufffdN\\ufffd\\ufffd\\ufffd\\'\\ufffd<Eod\\ufffd<\\ufffd\\ufffd7\\ufffdX\\ufffd\\ufffd\\x15\\ufffd\\ufffd\\\\\\x12*\\ufffdj\\ufffd\\ufffd\\ufffdFI\\ufffdPp\\ufffd\\ufffd4\\ufffd\\ufffd\\x1c\\ufffd*\\x12\\ufffd\\x08U_N\\ufffd3\\x01\\ufffd\\ufffd\\ufffd\\ufffd/H\\x00\\ufffd5U\\ufffd\\x158=(\\x19a\\x06|;s\\ufffd6\\ufffd\\x03\\ufffdT@\\ufffd\\ufffd\\ufffdIlCx~\\ufffd\\x0e\\ufffdk\\ufffd\\ufffd\\ufffd\\x03\\ufffd\\ufffd\\x18\\ufffdC\\ufffd\\nI\\ufffd\\ufffd$\\ufffdZ\\ufffdQ\\ufffd\\ufffd{TD\\x02x\\x14\\x0c|j:T\\ufffd\\x1eY\\x18\\ufffd}*\\x00p\\x0f\\ufffd\\ufffd\\x0cwc\\ufffd\\ufffdC\\ufffd\\ufffd\\ufffdW\\ufffd\\x0b\\ufffd\\ufffdc\\x0f,q\\ufffd\\ufffd\\ufffd\\ufffd~y\\x02\\ufffd\\x1b\\ufffd11\\ufffd\\x14\\ufffd@\\ufffd(\\ufffd\\ufffd`\\ufffd>\\ufffdG\\ufffd\\ufffdXu\\'\\ufffd\\ufffd\\ufffd?)\\ufffdPG\\ufffd\\ufffdd\\ufffd\\ufffd\\ufffd[\\ufffdB?\\ufffdc\\ufffd\\ufffd\\ufffdHws\\ufffdt\\ufffdz\\ufffd\\x17\\ufffd\\x17\\ufffd\\x1dJ\\ufffd\\x00!T\\ufffd;O\\ufffd@\\ufffd\\ufffd\\x010\\ufffd\\ufffd\\ufffd\\ufffd9\\x1b\\ufffdZ\\ufffd\\ufffd\\ufffdi\\ufffdg\\ufffd\\x19\\ufffd\\ufffdE!\\ufffd{\\ufffd(\\x01A\\ufffdqG\\x18\\ufffd\\ufffd:Sm\\ufffd\\ufffd\\ufffdWH\\x11\\ufffd\\ufffdd\\ufffdOx&\\ufffdO*h\\ufffdI\\x14\\x01\\x16M\\x0e\\x0e\\ufffd\\x0e\\ufffd\\ufffd\\\\d\\ufffd\\x08\\ufffd\\x14d\\x1c\\ufffd\\ufffd2hp\\ufffd\\ufffd2;V\\ufffd\\ufffd\\x0e\\ufffd\\x0c g\\ufffd\\ufffd?Z\\ufffd\\ufffd\\ufffdJ\\ufffd\\x1f{\\ufffd[\\ufffd\\ufffd\\ufffd\\ufffd\\x00;\\ufffd9\\ufffd@\\x15\\x06H\\ufffd\\ufffd\\ufffd\\ufffdUc\\ufffd\\ufffd\\ufffd\\ufffd7\\ufffd\\ufffdt\\ufffdp\\x17\\ufffd\\ufffdH\\ufffd\\ufffd\\ufffd\\ufffd\\ufffd\\ufffd\\ufffdJ\\x06P\\ufffd\\ufffdeUc\\ufffd/@)\\ufffd8\\ufffdj\\ufffd>{\\ufffd\\ufffd\\x12>\\x17 \\x01Ie<\\ufffds]C\\ufffdC[\\ufffd<z\\ufffd\\x051\\ufffd })\\ufffdbs\\ufffd\\ufffdU\\ufffd\\ufffdNs\\ufffd\\ufffd\\ufffdB\\ufffd>\\ufffd\\x07n\\ufffdRzP#>\\x16\\x03K\\ufffd\\ufffd\\ufffd\\ufffd\\ufffd\\ufffd\\x07\\x15V0\\ufffdO\\x1b\\ufffd\\'\\rZ\\ufffdr\\ufffd}\\x03Jq\\ufffd<c\\ufffd\\ufffd\\ufffd\\x0b\\ufffd\\x16\\ufffd\\ufffde!e#\\ufffdj\\x00|\\ufffd\\ufffd\\ufffdJ\\x13\\ufffd\\x0f-P,\\x0cT3\\x03\\ufffdW\\x12\\x17hm\\ufffd6B\\ufffd\\ufffd5b\\ufffd\\ufffd\\ufffd\\ufffd@\\ufffdc\\ufffd\\x18\\ufffd\\ufffd\\ufffd\\ufffd\\ufffdA\\x0f;Cn\\ufffdFd\\x00\\ufffd3O\\ufffd\\ufffd\\ufffd\\ufffd\\x15^\\x12O.\\ufffd\\ufffdlm\\ufffd\\ufffd\\ufffds\\x10\\x04\\ufffdj+\\ufffd9Z\\x07\\ufffd<\\ufffd\\ufffd\\ufffd\\ufffd\\ufffd\\ufffd\\ufffd[\\ufffd\\ufffd6\\ufffdu\\x08p)>\\ufffd)\\x19\\ufffdE^\\ufffd\\ufffd\\ufffd\\ufffdm\\ufffdS\\ufffd\\ufffd\\ufffd\\ufffd\\ufffd\\ufffdm\\x04Y\\n\\ufffd\\n\\x08\\x1c\\ufffd\\ufffd\\ufffd\\x11\\ufffd\\ufffdYF\\x0e\\ufffdK\\ufffdi\\ufffdH\\x19\\ufffdk\\x08a\\ufffd\\x06\\ufffdaT\\ufffd\\ufffd\\ufffdB-\\ufffd\\ufffd\\ufffd|\\ufffds\\ufffd\\ufffd\\ufffd\\x05\\x11\\ufffd<\\ufffd\\ufffd\\x1cTM\\ufffdL\\t\\ufffdX\\x009\\ufffd\\ufffd\\ufffd\\ufffd\\ufffd\\x19\\ufffd\\x1c\\x0c\\ufffdXz\\ufffd.eX\\x1d\\ufffd\\x07\\x03\\ufffd\\ufffd\\ufffdea\\ufffd@\\ufffd\\ufffdrjy\\ufffd\\ufffd}@a\\ufffdO\\ufffd\\ufffd\\ufffd\\ufffdS?+\\ufffd\\x1c}j\\ufffd\\ufffdX\\ufffd[\\ufffdx4\\ufffd\\ufffd`\\x1b\\x00\\ufffd\\ufffd_\\ufffd\\ufffd\\ufffd$T\\ufffd\\x12\\ufffd\\ufffd?JhT\\x05\\x1a\\ufffd\\x0c\\ufffd\\x0e\\ufffd\\ufffduv-\\ufffd\\ufffdpG\\x02\\ufffdIT$\\x03\\ufffd\\ufffd\\ufffd\\ufffd\\x7f\\ufffdn\\ufffd|\\ufffd\\x01\\ufffdh\\ufffdM\\x0f\\ufffdE\\ufffd\\x00\\ufffdx\\ufffd\\ufffdGs\\ufffd\\ufffd\\ufffd\\ufffdy\\ufffd\\ufffd1\\x10O\\ufffd+;M\\ufffd\\ufffd\\ufffd\\ufffd3\\ufffd[F\\ufffd\\x1f\\ufffd\\ufffd\\x0f\\ufffd\\ufffd\\ufffd\\ufffdJ\\ufffd\\ufffd\\ufffdQ\\ufffd\\x0f\\ufffd\\ufffd\\ufffd\\ufffdF\\ufffd\\ufffd\\ufffd\\ufffd\\x12N\\ufffd\\ufffd\\ufffdu\\ufffd\\ufffd8\\x03\\ufffd\\ufffd\\ufffd\\ufffde8=zU=\\x1fRy\\ufffdi\\ufffd\\ufffd\\t\"L\\ufffd=\\ufffd\\ufffd\\ufffd\\ufffd)\\ufffd\\ufffd\\ufffdC\\x13\\ufffd\\ufffd\\ufffd|G/s4q\\ufffd\\ufffd\\ufffdr\\ufffd\\x195;\\ufffd\\ufffdY\\rt\\ufffd\\x04F\\ufffd\\ufffdU\\x7f\\ufffd\\ufffd\\x7f\\ufffd\\ufffdW-$\\ufffd\\ufffd\\ufffd\\ufffd\\ufffd\\ufffd\\ufffd\\ufffd@\\ufffd:[\\x13\\ufffd[E\\ufffd6jI\\ufffd\\x1b\\ufffd\\x15\\x14\\ufffd1\\ufffd\\x02\\ufffd\\ufffd\\x11\\ufffd\\ufffda\\ufffdW!I\\ufffd{\\x0e+]\\ufffd\\ufffdIY\\x16/\\ufffd]1\\ufffd\\ufffd\\ufffd\\ufffd%\\ufffd\\x08\\ufffd\\ufffd7\\ufffd\\x10\\ufffd\\x04q\\x1f\\ufffdC}+M*\\x17<\\x18\\ufffd\\ufffdj\\ufffd4\\ufffd.\\ufffds\\ufffd#\\ufffdR\\ufffd\\ufffd<\\ufffd\\ufffd\\x08\\ufffd\\x07\\ufffdA\\x05\\t\\ufffd\\x1c\\x1aw\\ufffd\\ufffd\\ufffd>\\ufffdM\\ufffd\\x1b2\\x0e\\rY\\ufffdt1(\\x1dq@\\ufffd\\x10\\ufffdt\\ufffd\\ufffd8\\ufffd\\ufffd\\ufffd\\ufffd^\\ufffd\\x06\\x07i\\ufffd9\\ufffd\\ufffd\\ufffd\\ufffdi\\ufffdu8\\t\\ufffd\\x00j\\ufffd\\ufffd\\ufffd\\ufffdw\\ufffd\\ufffd\\x1b\\ufffdU\\ufffd\\ufffdb\\ufffdA\\ufffd\\x14\\ufffd=\\ufffd/I\\ufffd\\ufffd\\ufffdS\\ufffd\\ufffd\\ufffdKJd\\ufffd\\ufffd\\x0ej}\\x08\\ufffd%\\ufffd=&?\\ufffdT\\ufffd\\ufffdl\\ufffd\\ufffd\\ufffd\\ufffd\\x1b\\t\\ufffd>\\ufffd\\ufffd\\x0b\\ufffd}\\x0c\\ufffd\\ufffd\\ufffd\\x18\\x01\\ufffd\\x14\\ufffd\\ufffdu\\ufffd\\ufffdx\\x19\\ufffd\\ufffd\\ufffdbF\\ufffd\\x07\\ufffd}sZ\\ufffdsd\\ufffd\\ufffdDy\\x02\\ufffd\\ufffd\\ufffd\\ufffd\\ufffd\\ufffd\\ufffd\\x15\\ufffd\\ufffd\\ufffd\\ufffd\\r\\x15\\ufffd`p\\ufffd\\ufffd\\ufffd\\ufffd.\\ufffd\\ufffd\\ufffd\\ufffd\\ufffd|\\ufffd}\\ufffd\\n\\ufffd\\ufffd\\x07\\ufffd\\ufffd\\x16\\ufffd\\ufffd\\ufffd\\ufffdy\\ufffdr*\\ufffd\\ufffd$3C\\'\\ufffd\\ufffd\\ufffd\\ufffd\\ufffd\\ufffdn\\ufffdv>\\ufffd\\ufffd\\ufffdrmf\\x1f\\ufffdi\\ufffd\\ufffd\\ufffdU9\\ufffdD-\\ufffd\\ufffd\\ufffd\\ufffd\\ufffd\\x00K\\ufffd\\ufffd\\ufffd\\ufffd\\ufffd\\ufffd\\ufffdtV\\ufffd\\x03a\\x06\\x03\\ufffd\\ufffd\\ufffd`\\ufffd\\ufffd\\ufffd\\ufffd`\\x1bH\\ufffd\\ufffdU\\x01sO\\ufffd\\ufffd\\ufffd\\ufffd\\ufffd\\ufffdi\\x1e^\\ufffdoR\\ufffd\\ufffd\\ufffd\\ufffd$\\ufffd\\ufffd\\x01\\x0c\\x11\\x00\\x00\\ufffd\\ufffd\\ufffd\\ufffdt\\ufffd\\ufffd\\x03yw(\\ufffd#\\ufffd\\ufffd\\ufffd0\\ufffd\\ufffdH\\ufffd\\ufffd\\ufffdx07\\x1e\\ufffd\\ufffd\\x02\\ufffd\\ufffd\\ufffd\\\\o\\x12\\ufffd\\ufffdA\\ufffd\\ufffd\\ufffd`\\x7f\\ufffd\\ufffd3\\ufffd\\ufffd\\x07\\ufffd\\ufffd\\x1e\\ufffd\\ufffd\\ufffd\\ufffd=\\ufffd\\ufffd\\ufffd\\ufffd\\ufffdL\\ufffd\\ufffdc\\ufffd=\\ufffd\\ufffd\\ufffd\"\\ufffd\\x0b\\x1b\\x16:\\ufffd\\ufffd\\ufffd/l/\\ufffd\\ufffd\\ufffd6\\ufffdn\\ufffdL\\ufffd\\ufffd6\\ufffd\\ufffd}\\ufffdkY>h\\ufffd\\x1dG\\ufffdY\\ufffd\\ufffd\\x06\\ufffde\\'\\ufffdsU\\ufffd\\x1br\\x18\\ufffd\\ufffd\\ufffdZv\\x1d\\ufffd\\x0f\\ufffd\\ufffd\\ufffd\\ufffd\\t\\ufffd#l\\t\\x10\\ufffd=\\ufffd\\ufffd\\ufffd\\ufffd\\ufffd\\ufffd\\ufffd]\\ufffdb\\ufffd\\x16K\\x0b\\ufffd:\\ufffd\\ufffd[\\ufffd\\t`\\ufffd\\ufffd\\ufffd\\ufffd\\ufffd\\x1b\\ufffd<\\ufffd\\ufffd\\ufffdWD\\ufffd\\ufffd#-\\ufffd2BG\\ufffd\\ufffd\\ufffd\\ufffd\\ufffd\\x15\\ufffd\\ufffdmcB\\ufffd&\\ufffdG\\ufffd[\\x10\\ufffd\\ufffd0\\x18\\x12\\x1c\\ufffd\\ufffd\\ufffd\\ufffd\\x00d\\ufffd1\\x07a\\ufffd\\ufffdH5w\\ufffd\\ufffd[\\ufffdx\\r-\\x19\\ufffd\\ufffd\\ufffd\\ufffdb\\ufffd?\\ufffd\\\\[\\x1b&\\ufffdU\\x17lYA<\\ufffd\\x16\\ufffd\\x1c\\ufffd\\x160\\ufffd\\ufffd\\ufffd^\\ufffd7b;\\ufffd2s\\ufffd=MI\\ufffdY\\ufffd\\ufffd5\\ufffd\\ufffd\\ufffd\\x0eV\\ufffdS\"$m\\ufffd\\ufffdM\\ufffd\\ufffd$O\\ufffd\\ufffd\\ufffd\\ufffdgu\\ufffdo\\ufffd\\x18\\ufffda\\x17\\ufffd\\ufffd\\ufffd]\\ufffds\\ufffd\\x1f2\\ufffd\\ufffd\\ufffd\\ufffd\\rk\\ufffd\\ufffd\\ufffd\\ufffd\\x00\\ufffd~\\ufffd\\x1e\\ufffd\\ufffd\\x00J\\ufffd\\ufffd+df\\ufffdu\\ufffd\\ufffd,c\\ufffd\\ufffd_*1\\ufffd\\'\\ufffd[@\\ufffd\\ufffd\\x01\\ufffd@:\\ufffd\\ufffd\\x03;\\roO\\ufffdY\\ufffd\\ufffd\\x1b\\ufffd=\\ufffdRU\\ufffd\\ufffd\\ufffd\\ufffdJ\\ufffd\\ufffd\\ufffdi\\ufffd\\ufffd\\ufffd\\ufffds\\ufffd\\ufffd\\t\\ufffd\\ufffd*\\ufffd\\ufffd\\ufffd.\\ufffd\\ufffd;\\ufffd1\\ufffd,\\ufffdl\\x05\\ufffd\\ufffd\\ufffd\\ufffd~\\ufffd\\ufffd\\ufffdEi\\r\\ufffd\\r\\ufffdh\\ufffd!\\ufffd3Y\\ufffd\\ufffd}\\ufffd\\ufffdi\\x03\\ufffdr\\ufffd|\\ufffd\\ufffdH\\ufffd\\x02r\\ufffd\\ufffdq\\ufffd\\ufffdW+n\\ufffd%\\ufffd\\ufffd\\x1e&a\\ufffd\\ufffd\\ufffd(4\\ufffd\\ufffd\\ufffd\\ufffd\\ufffd\\ufffd\\ufffd\\ufffd%a%\\ufffd\\ufffd\\ufffdR}+\\ufffd\\ufffd\\x19|\\ufffd\\ufffd\\ufffd\\ufffd\\ufffdJ\\ufffd\\x07&\\ufffd\\ufffd\\ufffd\\ufffd\\x1di\\ufffd\\ufffd^\\x05I\\ufffd\\ufffd\\ufffdq\\ufffd\\ufffd\\ufffdUx\\ufffd)\\ufffd\\ufffdzR\\ufffd\\x18\\ufffd=\\ufffdd-\\x1bt\\ufffdL\\ufffd\\x19\\x1d\\ufffd\\ufffdJ\\ufffd\\ufffd\\x0e\\ufffdUt=L\\x01\\ufffd\\ufffd?\\ufffd\\ufffd\\ufffdHc\\ufffd\\x15v\\ufffdy\\ufffd.\\ufffd\\x169\\x13\\ufffd\\ufffdg\\ufffd\\ufffd#\\ufffd\\ufffd,Ls\\ufffd\\ufffd\\ufffdP\\ufffd;\\ufffd\\ufffdR\\ufffd\\ufffd`\\ufffd\\ufffd\\ufffd\\ufffdb\\ufffd\\ufffdq\\ufffdR\\ufffd\\x1c\\ufffd\\ufffd0\\x08\\'\\ufffd\\ufffd\\x19\\ufffd\\x018\\ufffd)\\ufffd \\ufffdy\\ufffd)\\ufffd\\ufffd\\x19\\ufffd5\\ufffd\\x08\\ufffdcQ\\ufffd\\ufffd$\\ufffd\\ufffd\\x00O\\ufffd\\ufffdv\\ufffd5\\r\\ufffd\\ufffdZ\\ufffdW\\ufffd5e\\ufffd\\ufffd\\x19\\ufffdT\\ufffd\\ufffd\\ufffd\\ufffdg\\x1c~t\\x01\\ufffd\\ufffd\\ufffd=~\\ufffd\\ufffd\\ufffd\\x19\\x1f\\ufffd\\ufffd\\ufffde\\ufffd\\x1c\\ufffd\\ufffdo^\\x1f\\ufffd<\\ufffd\\x19\\ufffd\\ufffd\\ufffd\\ufffd\\x00A\\x15C\\ufffd\\x1e\\ufffd\\x01j\\ufffd\\ufffd\\x18\\x1e\\ufffd\\ufffd\\ufffd\\ufffd\\ufffd\\ufffdb`\\x1b9\\ufffd\\x15 \\x1b\\ufffd\\ufffd\\x07[H\\ufffd\\ufffd\\ufffd1Rz\\ufffdjc<\\ufffd!2\\ufffd\\ufffd\\ufffd\\ufffdj\\ufffd\\x01\\x18\\ufffdi\\ufffd\\ufffd\\ufffd\\r\\x02,\\t\\ufffdp\\ufffd\\ufffdZ\\x03\\ufffd\\ufffd\\ufffd\\ufffdM5\\ufffdls\\ufffd\\ufffdT\\x0e\\ufffd\\ufffd\\ufffd\\ufffd\\ufffd\\ufffd\\ufffd\\ufffdH\\ufffd\\ufffdeh[\\x0c0G5VA\\ufffd\\ufffd\\ufffd\\ufffd\\n\\ufffd\\ufffdJ\\x16\\ufffd\\x1f{u\\ufffd\\ufffd-i\\ufffd\\ufffd;2\\n\\ufffd\\ufffd\\x00\\ufffd\\ufffd\\ufffd\\ufffd@\\ufffd\\ufffd\\x18e8\\ufffd\\ufffd\\ufffdi\\ufffd\\ufffdxW\\ufffd\\ufffd\\x1a\\ufffd\\ufffd\\ufffd\\x1a\\ufffd\\ufffd\\ufffd/30\\x04\\ufffdj\\x042\\tE\\ufffd\\x06)\\ufffd\\x12\\x1f\\ufffd\\ufffd\\ufffd\\ufffdg\\ufffd\\ufffdl\\ufffdys$x?ATn/\\x05\\ufffd\\ufffdORA\"\\ufffd\\ufffd\\ufffd\\ufffd\\ufffd\\ufffd@\\x1b\\ufffdW\\ufffd\\ufffdB\\ufffd@\\ufffd\\ufffd\\ufffdS\\ufffdI\\ufffd\\ufffd\\ufffd\\ufffdA\\ufffd\\ufffd\\ufffd\\ufffd\\ufffdK+q\\ufffdzP3j\\ufffdY[{\\ufffd\\ufffd\\ufffdX\\ufffd\\ufffd\\x1fZ\\x0e,\\ufffd\\ufffd[d\\x02\\x1c\\ufffd\\ufffd\\x1d\\r`\\ufffd\\ufffd\\ufffd\\t\\ufffd\\ufffd\\ufffd\\ufffd\\ufffdBP\\ufffd\\ufffd\\ufffd\\ufffd\\x024\\x1e\\ufffd\\x16W\\ufffd)\\ufffdx\\x01q\\ufffdj\\ufffd\\ufffd\\ufffd8*\\ufffd\\x07\\ufffd\\x0eEI\\x06%\\ufffd\\ufffd\\x1f{\\ufffd\\ufffd\\ufffd\\ufffdQ\\ufffdy\\ufffd\\ufffd\\ufffd\\ufffd\\ufffdT\\ufffdL\\x1a\\ufffd\\ufffdi\\x13=\\ufffd\\ufffd#\\x067:\\ufffdHoZ\\ufffd\"\\ufffd\\ufffd\\ufffd7\\ufffd\\ufffd\\ufffd\\ufffdf\\ufffd\\ufffd \\ufffd\\x19\\ufffd\\ufffd#\\ufffdQhd\\x162\\ufffd\\ufffdf\\ufffd\\ufffd\\ufffd\\ufffdZ\\x19J\\x19\\ufffdo\\x12\\ufffd\\x1cu\\ufffd\\ufffd\\ufffd\\ufffd~\\ufffd\\ufffd\\ufffd\\ufffdH+\\ufffd\\ufffd\\ufffd2\\ufffd\\ufffd*\\ufffd\\x18I\\x1dI\\ufffd`b\\x11\\ufffd\\ufffd:\\ufffd~t\\ufffd\\ufffdf\\x07\\x03\\ufffdI:<\\ufffd\\ufffdF\\x17\\x1eJ\\ufffd\\ufffdEl\\ufffd1\\ufffd!\\ufffd\\ufffd0:\\ufffd\\ufffdH\\ufffdK)\\ufffdFh\\x19\\x16y\"\\ufffd<\\ufffd\\ufffd\\ufffd\\ufffd\\ufffd\\ufffd\\ufffd\\ufffd\\x1b\\t\\ufffd\\x04\\ufffd\\x14\\x08\\ufffd\\ufffd\\x19\\ufffd&\\ufffdlg+\\ufffd\\ufffd\\r\\ufffd\\ufffd\\ufffd\\ufffd\\ufffd\\ufffd\\n\\ufffd\\ufffd\\ufffd\\x1f\\ufffd\\ufffd\\ufffdq\\ufffd\\x1f\\ufffd\\ufffd\\ufffd\\ufffd\\ufffd\\x7f\\ufffd\\ufffd\\x0fcYz\\ufffd\\ufffdG\\ufffd\\ufffd0\\ufffdN\\x17\\ufffd\\ufffd\\ufffd6\\ufffdB\\ufffdh\\ufffda\\ufffd\\x02\\x06\\x04v\\ufffd\\ufffd]\\x12e\\ufffd\\ufffd\\t\\ufffd\\ufffd\\ufffd\\ufffdu\\ufffd\\ufffd\\ufffd\\ufffdU\\ufffd}?K\\ufffd\\ufffdr\\ufffdQ\\ufffd\\n\\ufffd\\ufffd5\\ufffd\\ufffdS4K\\ufffd\\ufffd\\ufffd\\x12\\ufffd\\x00f\\ufffd \\ufffd.\"?2\\x1c\\ufffd\\ufffd[\\ufffd\\ufffd\\x18\\ufffdJ\\ufffd\\ufffd1A\\ufffdb\\ufffd\\ufffd\\ufffd\\ufffd\\ufffd`e\\ufffdq\\ufffdzV\\ufffd\\ufffd<6\\ufffd\\ufffd9\\x04\\ufffdc\\ufffdz\\x00\\ufffd\\ufffd\\ufffdn\\ufffd\\ufffd\\ufffd\\x00\\ufffdd>\\ufffdW%\\ufffd\\ufffdK\\ufffd\\ufffdpG\\ufffd\\x07\\ufffdI\\ufffd\\ufffd^\\ufffd\\ufffd\\ufffd\\ufffdhVV\\x1b\\n\\ufffd\\ufffdOp\\ufffdZ\\ufffd\\x0c\\ufffd\\ufffd\\x10\\ufffd(\\x01\\ufffd\\ufffd[YK\\x1d\\ufffd\\ufffd\\ufffdwI\\ufffd\\ufffdV1\\ufffd\\ufffd\\ufffd\\ufffdg\\ufffdZ\\ufffd[E\\x04\\ufffdo\\ufffd/\\x00\\ufffd\\n\\ufffd\\ufffd\\x10)\\ufffd\\ufffdG4\\x0c\\ufffd\\ufffdu\\ufffd\\ufffdJ}\\ufffd!\\ufffd\\ufffd\\ufffd\\ufffd\\ufffd]k\\x1b<\\x1d\\ufffd4\\ufffd\\ufffd\\ufffd\\ufffd\\ufffd\\ufffd\\ufffd?\"\\ufffd\\ufffdFf\\ufffd\\ufffd>\\ufffd\\ufffdL\\ufffd\\ufffdV\\ufffd\\ufffd\\ufffd+\\ufffdq\\'\\ufffdJ\\ufffd\\ufffd\\t\\x19\\x1b\\ufffd\\ufffd\\ufffd2\\ufffd\\ufffdO\\ufffd\\ufffd)\\ufffd\\ufffd\\ufffd\\ufffdUZ\\ufffd\\ufffd\\x18\\ufffdK\\ufffd#\\ufffdlYE\\ufffd\\ufffd\\ufffd\\ufffd(2e\\ufffd1\\ufffd\\ufffdUt\\ufffd\\ufffdc_\\ufffd!\\ufffdh\\x10\\ufffd\\x0f\\ufffd\\x7f4\\ufffdeK\\x02\\ufffd\\ufffd\\ufffd,\\x16q\\ufffd\\ufffd\\x1f\\ufffdc+\\ufffd\\ufffdR\\ufffdV\\ufffd)\\x16\\x04`}I\\ufffd\\ufffd\\ufffdM\\ufffd5k\\ufffd\\ufffd\\ufffdL\\ufffd@\\x18\\ufffd@\\x07\\x07\\ufffdz\\ufffd\\ufffdm\\ufffd\\ufffd+\\ufffd\\ufffd\\n\\x1a\\ufffd6\\ufffd\\x1c+\\ufffdL\\x00\\ufffdj`\\ufffd\\ufffd\\ufffd\\ufffdfF\\ufffd\\ufffd\\ufffdp\\ufffdq\\ufffd\\x00\\ufffd\\ufffds\\x14\\ufffd\\ufffd\\x0e\\x0cc\\ufffd\\ufffd\\ufffdhYv3adB\\n\\ufffd*\\ufffdC\\ufffd\\ufffdn\\ufffd\\ufffd\\ufffd\\ufffd_\\ufffds\\ufffdL6\\ufffd!\\x1f$\\ufffd\\ufffd;\\ufffd`m\\ufffd\\ufffdW\\ufffdFO\\ufffd+!\\r\\ufffd\\ufffd\\\\\\ufffd\\ufffd\\ufffdmq*2\\ufffd\\ufffd\\ufffdG\\ufffd\\ufffd`mb\\ufffd\\x1bs#\\x11\\ufffd4\\ufffd6\\ufffd\\x0b\\ufffd\\ufffd\\ufffd\\ufffdb\\ufffdZ\\ufffd$\\ufffd\\ufffd\\ufffd\\ufffd\\x14\\'\\ufffd\\x11He\\ufffd\\ufffd\\ufffdr\\x08\\ufffd\\x04\\ufffdt\\ufffd.3\\x1c\\ufffd\\ufffdL\\ufffd\\ufffdIc\\ufffd\\ufffdo\\x12K!\\ufffd23\\ufffd\\ufffd\\x0f(|\\ufffd\\ufffdA\\ufffd41\\ufffd\\ufffd\\ufffdB\\ufffd\\x06\\ufffd\\ufffd\\ufffd\\x02\\ufffd:\\x1a\\ufffd\\ufffd\\ufffd\\ufffd\\x11\\x0c\\ufffd<,\\ufffd\\ufffdq\\ufffd\\ufffd\\ufffdes\\x14M\\x15\\ufffd\\ufffd\\ufffd\\x11\\ufffd\\ufffd\\ufffd\\r\\ufffd\\ufffd`\\ufffd\\ufffd\\ufffd\\ufffd-.\\x14\\ufffd\\ufffd\\ufffd\\ufffd\\ufffd\\ufffd\\ufffd\\ufffd\\n\\ufffd\\ufffd\\ufffd\\ufffd\\ufffd\\ufffdh\\x1c\\x1e\\ufffdl\\ufffd\\ufffdc\\ufffd`\\\\\\x0f\\ufffd}}\\ufffd\\x1d\\ufffd\\ufffd\\x02\\x14\"N\\ufffdOZd\\ufffdE$\\ufffd2\\ufffd\\ufffd\\ufffdA\\ufffd\\ufffd\\ufffd5\\ufffd\\ufffd\\ufffd6\\ufffd\\ufffd\\x12Mk\\ufffd\\ufffd\\ufffd\\ufffd\\ufffd\\ufffd\\\\\\ufffd\\ufffd\\ufffd\\ufffdN\\ufffd+\\ufffd\\x1al^u\\ufffd\\ufffdwV\\ufffd\\ufffd\\ufffd\\ufffd\\ufffd:\\x1f\\ufffdL\\ufffdr\\ufffd+\\x13\\ufffd\\x1a0\\ufffd\\ufffd\\ufffd\\ufffd\\ufffdi \\x0c\\x7fy\\x08\\ufffd\\ufffd\\ufffd\\ufffd\\ufffd\\ufffd2\\'9\\ufffd\\ufffd{\\ufffd\\ufffd\\ufffd8\\ufffd\\ufffd\\ufffd\\x1c\\ufffd\\x1d7T\\ufffd\\ufffd\\ufffd\\ufffd\\ufffd-Sm\\ufffd\\x1b\\ufffd\\ufffd\\ufffd\\ufffd\\ufffd\\ufffd9\\ufffd\\ufffdP\\ufffd\\ufffd\\x03\\ufffdS\\ufffd\\ufffd\\ufffd\\ufffd\\ufffd\\x13\\ufffd\\ufffdd3#\\x0cJ\\ufffdE\\x04\\ufffd\\ufffd\\ufffd\\ufffd\\ufffd\"1,\\ufffd-,\\ufffd\\ufffd\\x06`\\x04\\ufffd\\ufffd*\\x01w9\\ufffdB\\ufffd\\ufffd\\ufffdx\\ufffd\\ufffd\\ufffd\\ufffd\\x05{\\ufffd\\ufffd/<\\ufffd@\\x15m\\ufffd{\\ufffdt\\ufffd\\x14\\ufffd\\ufffd\\'\\ufffd\\ufffd\\ufffd\\ufffdZv\\ufffd\\ufffd\\ufffd\\x1e\\ufffdJ\\ufffd\\ufffd_\\ufffd\\ufffd\\ufffd\\ufffdY\\ufffd\\ufffdpi\\x17\\ufffd\\ufffdv\\ufffd\\x1euP\\ufffdp\\x0ej\\ufffd\\x00\\ufffd\\ufffd\\ufffd\\ufffd\\ufffd`\\ufffd\\ufffd\\ufffdn\\ufffd\\ufffd\\ufffdQ\\ufffd\\ufffd\\ufffd\\x11\\ufffdC\\ufffdi\\ufffd\\ufffd\\ufffd\\x17?\\ufffd\\ufffd\\ufffd\\ufffd\\ufffdU\\ufffd1\\ufffd\\ufffd\\x00J\\ufffd\\ufffdi\\x10\\ufffd\\ufffd-^ \\ufffd0\\x16\\ufffd!\\ufffdO\\ufffdqM4\\ufffd\\x16\\ufffdqdD\\ufffdM\\ufffdZu\\x1d\\x7f\\n\\ufffd\\ufffd7\\ufffd\\ufffd>\\ufffd\\x1f\\ufffd\\ufffd{\\ufffdR\\ufffd\\ufffd\\x0c\\ufffd\\x1f\\ufffd\\ufffd\\ufffd}\\x0c\\x1dCL\\ufffd\\ufffd\\ufffd\\t\\ufffd\\ufffd\\x03\\ufffd\\ufffd\\ufffd\\ufffd{\\ufffdh\\ufffd\\ufffd\\ufffd\\ufffd9\\ufffdEK(.-L\\ufffd\\\\\\ufffduf\\ufffd\\ufffd\\ufffd\\ufffd\\ufffd\\ufffd\\ufffd\\ufffd\\t|2\\ufffd\\ufffdi\\ufffd\\x1fa\\x0c\\x7f\\ufffd\\ufffd\\ufffd*l#\\x16u-\\ufffd\\ufffdQK\\t \\x1d\\ufffdc\\ufffd\\ufffdZf\\ufffd\\x7f\\ufffd\\ufffd\\ufffd\\ufffdn\\ufffdjV==\\x0fzhb\\ufffd\\ufffd\\ufffd\\ufffdj\\ufffd\\ufffd\\ufffd\\ufffd\\ufffdY\\ufffd(\\x12\\x0c\\x02kN\\ufffdn\\ufffdu\\ufffd\\ufffd\\ufffd\\ufffd\\x1e3U,\\ufffd-0\\ufffd2\\ufffd7@:\\ufffd\\x00\\ufffdF3\\ufffd\\ufffd5Y\\ufffd\\ufffd\\n\\ufffds\\ufffd\\x1b\\ufffd\\ufffd\\ufffd$^\\x18\\x1e\\ufffdY\\ufffd\\ufffd\\ufffd\\ufffd\\ufffd\\x00=y\\ufffd8\\ufffdE06:\\ufffd\\ufffd\\ufffdg\\ufffd\\ufffd\\ufffd\\ufffd8\\ufffd\\ufffd\\ufffd\\ufffd\\ufffd\\ufffd\\x08\\ufffd\\x12Af\\ufffd)\\ufffd\\ufffd\\ufffd\\ufffdJ\\ufffd\\ufffdUE\\ufffd\\ufffdj\\ufffdG\\ufffd\\ufffdh\\x01\\ufffd\\x7f{\\ufffd\\ufffd\\ufffdS\\ufffd3\\ufffdYA\\x1f\\ufffdV\\ufffd$0~\\ufffd\\ufffd\\ufffdjD\\ufffd\\ufffd\\ufffd\\ufffd]z\\ufffdP\\x06\\ufffd\\ufffd\\ufffd<D\\ufffd\\ufffd\\ufffd#\\ufffd\\ufffdEQ\\ufffd\\x00\\ufffd\\ufffd\\ufffd\\ufffd/\\ufffd9\\ufffd\\ufffdH\\ufffd\\ufffd;T$\\x18\\t\\ufffd\\ufffd\\x021\\ufffd\\ufffd\\ufffdx\\ufffd\\ufffd\\ufffd\\ufffdN\\ufffd\\x05\\ufffd\\ufffd\\x0fz`m\\ufffd\\ufffd; \\ufffd\\x7f!M\\ufffdJ`<\\x13\\ufffdRn\\ufffd9\\ufffd\\ufffdd{\\ufffd3\\ufffd\\ufffd@%\\ufffd\\x11\\x03\\ufffd\\ufffd\\ufffd\\ufffd\\ufffdA\\ufffd\\ufffd\\ufffd\\ufffd\\ufffdY\\ufffd\\ufffd\\ufffdp7G\\ufffd\\x7ft\\ufffd\\ufffdC\\ufffd<\\ufffdr{\\ufffd\\x7fZ\\x00\\ufffd\\ufffd\\x04\\x1c\\ufffd5b\\ufffdc4\\ufffd\\ufffd\\ufffd\\ufffd\\ufffd\\ufffdW\\x1d\\ufffdPXp3@\\x06Nj)e1#\\ufffd\\x1e\\ufffdi-\\ufffd\\ufffd\\ufffd\\x05I\\ufffdB=\\t\\ufffd\\t\\ufffdm\\ufffd\\ufffd[)^\\'\\ufffd\\ufffd\\x04\\ufffd\\x1b\\x06\\ufffdT\\ufffd\\ufffd5\\ufffd\\ufffd\\ufffd\\ufffd\\ufffdk\\ufffd\\ufffd\\ufffdD\\ufffd\\ufffd\\x14\\x0c6\\ufffd\\ufffd\\ufffda\\x03\\x19\\ufffd\\ufffdN=i\\ufffd\\ufffdz\\x04L\\ufffd\\ufffd\\ufffd\\ufffdP!\\ufffd98\\ufffd\\ufffdE\\ufffdt\\ufffdo;\\ufffd\\ufffdr\\ufffd\\ufffd\\ufffd\\ufffd\\ufffd\\ufffdu\\x10\\ufffd\\ufffd\\ufffd\\n>\\ufffd\\ufffd\\ufffd\\ufffd\\ufffd\\x16\\ufffd\\ufffd\\x04j\\ufffd*\\x1a)\\x0c\\ufffd\\x19U\\x16X[\\ufffd\\ufffd#\\ufffdO\\ufffd\\ufffd\\ufffd\\ufffd\\ufffd\\ufffd\\x1e\\x00\\ufffd\\ufffd\\ufffd21\\ufffdp\\x1aV \\x1f\\ufffd\\x14\\ufffd\\ufffd\\ufffd\\ufffd\\ufffd\\ufffd%\\ufffd\\x00\\x1fJ\\x11D\\x13\\x16Y\\ufffd\\ufffd\\ufffd8\\ufffd20\\ufffdN\\ufffd\\ufffd\\ufffd\\ufffd\\x05}\\x0f\\x14\\ufffd\\x13\\ufffd\\ufffdCV\\ufffd\\x1d\\ufffd\\ufffd\\ufffd4\\ufffd\\ufffdy\\ufffd\\ufffd\\x01\\ufffd\\ufffd\\ufffd\\ufffd\\ufffd\\ufffd\\x10\\ufffd\\ufffd\\ufffdA\\ufffd\\ufffd\\ufffdNYLG \\ufffd\\x04r2P\\ufffd\\ufffd@IH\\ufffd\\ufffd\\ufffd\\ufffd\\ufffd\\x06Os,v\\ufffd0c\\ufffd\\ufffd\\ufffdL\\ufffd\\ufffd\\ufffd\\ufffd\\ufffd\\ufffdn`d\\ufffd\\ufffd\\ufffd\\ufffd\\ufffd\\ufffdLL\\x10t\\ufffd\\ufffd\\ufffd\\ufffdk\\ufffd6\\x0bC\\x01\\ufffd\\x11\\ufffd4\\x01[\\ufffd7\\x13\\ufffd[\\ufffd\\ufffd\\ufffd\\ufffd\\x1f\\'=\\ufffd\\ufffd\\ufffd,\\ufffd:\\ufffd\\ufffd\\ufffd\\x01\\'>\\ufffdM\\ufffd\\ufffd\\ufffd\\x0f(\\ufffd\\ufffd\\ufffd\\x06j?\\ufffd\\ufffd\\ufffd\\ufffd8\\ufffd\\ufffd@\\ufffd\\ufffd_\\ufffd\\ufffdw0\\ufffd\\ufffd\\ufffdU\\ufffdu#\\ufffdR\\ufffdbs\\ufffd\\ufffd\\ufffd\\ufffd\\ufffd\\ufffd\\ufffd\\ufffd\\ufffd\\ufffd\\ufffd\\ufffdxfa\\ufffd\\ufffd\\x00nh7\\ufffd\\ufffdCi=\\ufffd\\x196\\ufffdFs\\ufffd+\\ufffd\\ufffd\\ufffd\\ufffd\\ufffd\\x1d\\ufffd\\ufffd\\ufffd\\ufffdt\\ufffd_\\ri\\x0f}\\ufffd\\ufffdK\\x13\\ufffd<\\ufffd\\x04\\x1f\\ufffd\\ufffd\\ufffd]\\x02\\ufffd\\ufffd\\t\\ufffd\\ufffd\\ufffd\\x19;\\ufffd\\ufffd\\ufffd\\ufffd\\ufffdN\\x0e}\\ufffd\\\\\\ufffd\\ufffd\\x1e\\ufffd8\\ufffd\\ufffdG^\\ufffd\\ufffdQ\\ufffdhz\\ufffdRD$\\ufffd\\ufffdR\\ufffd\\ufffdr-cib)\\ufffd9>\\ufffd\\x00\\ufffd\\ufffd\\ufffdi c\\ufffd:b\\ufffd\\x0c\\ufffd1\\ufffd\\ufffdE;t\\ufffd\\tb\\x00\\ufffd\\\\\\x10i\\ufffdM\\x16\\ufffd\\ufffdK0K\\ufffd8\\ufffd\\ufffdP\\x05y$`\\x00\\x1c\\ufffdS<\\ufffd\\ufffd\\ufffd(!\\ufffduq\\ufffdQ\\ufffd4\\ufffd\\x00\\ufffde\\r\\ufffd\\x03\\ufffd\\x1ef\\x18\\x13\\ufffdU\\x04\\ufffd\\ufffd\\ufffd\\ufffd\\ufffd\\r\\ufffd\\ufffd\\t\\ufffd1l\\ufffd\\ufffd\\x19\\x02\\ufffd2\\x10ylS\\ufffd\\ufffd\\x18\\x19\\ufffd*\\x16\\x07\\ufffdP1K1\\'\\x0ci\\ufffd\\ufffd\\ufffd\\ufffdm\\ufffd\\x19f\\x1dj6\\x0f-\\ufffd\\ufffd\\x04,\\ufffd\\ufffd\\x02\\ufffd\\ufffd\\ufffd\\ufffd\\ufffd\\ufffd\\ufffd\\x03\\ufffd\\ufffd\\ufffd\\ufffdd\\x1f\\ufffd\\ufffd(\\x10\\ufffd\\ufffd+s\\x1d\\ufffd-\\ufffd\\ufffd\\x1et\\ufffd\\ufffd\\ufffd\"-\\ufffd\\ufffd\\ufffd$\\ufffdU_2?R+\\ufffd\\\\\\ufffd\\ufffd\\ufffd\\ufffd\\ufffd\\x19\\ufffd=F\\ufffd\\ufffd\\ufffd\\ufffdv\\ufffd\\ufffdq\\x18\\ufffd(\\ufffd\\x06\\ufffd)\\x7f\\x08\\x18\\ufffdO\\ufffd3\\x06\\ufffd\\ufffdU\\ufffdN\\ufffd\\ufffd\\ufffd\\ufffdh\\r\\x05\\ufffd\\ufffd\\x10\\ufffdV~1\\ufffd#\\x14\\x0c[/\\ufffd;\\ufffdGHG\\ufffd\\ufffd\\ufffd\\ufffd\\ufffdZ\\ufffd\\ufffd\\ufffd \\ufffdq\\ufffd\\ufffd\\ufffd\\ufffd\\ufffd\\ufffd\\ufffd\\ufffd\\ufffd#\\ufffd\\x17\\x15\\x7f\\ufffdQ\\ufffd\\x12M{\\ufffd\\ufffdq\\ufffd\\ufffd\\ufffd\\x025\\ufffd\\ufffd[k8\\ufffdy\\ufffd\\ufffd\\ufffd\\ufffd\\ufffd\\ufffd6\\x0b%\\ufffdr\\ufffd0\\x07n~\\ufffd\\ufffd\\ufffdi\\ufffd\\ufffd\\x01\\ufffd\\x18\\x0e\\ufffd\\ufffd\\ufffd[]6\\ufffd%\\ufffd\\ufffdL~V\\x01\\ufffdf\\ufffd]\\ufffd$\\ufffdL@\\ufffdR~QT\\ufffd\\ufffdy`x\\ufffd\\x05yRz\\ufffd+\\r\\ufffd.v\\ufffdI\\x18\\x04b\\ufffd,\\x16\\ufffd}\\x15\\ufffd\\ufffd\\ufffdx\\ufffd\\ufffd\\ufffdOcHC\\ufffd\\ufffd#!\\ufffd\\ufffd\\ufffd\\ufffdO[\\ufffd \\ufffd1T\\ufffdr\\ufffd\\ufffd\\ufffd\\ufffd\\x16\\ufffd\\ufffd\\x18\\ufffd\\ufffd\\ufffdo,\\x17\\ufffd\\ufffd5U\\ufffdm\\ufffd)\\x1bP\\x06Z\\x10\\ufffd\\ufffd\\r\\ufffd\\x03\\ufffdc\\ufffd[\\ufffd\\ufffd$\\ufffd;\\ufffdnv]\\ufffd^\\ufffd\\ufffdJ\\ufffdev\\x0e\\ufffd\\x12Q\\ufffdH\\ufffd\\ufffdz\\ufffd[\\ufffd\\ufffd\\ufffd\\ufffd\\ufffd\\ufffd\\ufffd\\ufffd\\ufffd\\ufffd6\\ufffdTcr\\x19\\ufffdIn\\ufffd3\\x0cI\\ufffd>\\ufffd\\ufffd\\x03\\ufffd\\ufffd\\ufffdq\\ufffd\\ufffdo\\ufffd\\x02T\\x01*\\ufffd\\ufffd[r\\ufffd2\\ufffd\\ufffd$KVa\"6\\ufffd\\ufffd\\x19\\nJ\\ufffdu\\ufffdQ]&\\ufffd\\ufffd\\ufffd\\ufffdE\\ufffd\\ufffd\\x10_\\ufffd|\\ufffdt\\x12\\ufffd6\\x1b \\ufffd\\x7f\\x1aO-g-\\ufffd\\ufffd\\ufffdr\\ufffdS\\x03\\ufffd\\ufffd\\ufffd\\x05\\ufffdG\\ufffd\\ufffd\\ufffd\\ufffd.@\\ufffdp\\x1b\\ufffdX7\\x10\\ufffdgv\\ufffd\\ufffd\\x0b\\ufffd\\x1d\\x0ff\\x1e\\ufffd\\ufffd\\ufffd\\ufffd\\ufffdp\\ufffd\\ufffd\\ufffd~ks\\ufffdw\\x1d\\ufffd\\ufffdZr\\ufffd,j\"\\ufffd\\x0b\\ufffdG\\x1f\\ufffd\\ufffdu\\x1f\\ufffd!\\ufffd\\ufffd\\x06P\\ufffd\\ufffd\\ufffd\\ufffd\\ufffdf\\ufffdr\\x06\\ufffd\\ufffd\\ufffd>\\ufffdL\\ufffd\\ufffd\\x06T\\x1eu\\ufffd\\ufffd\\x08\\ufffd\\x07\\ufffdR\\ufffdP\\ufffd\\ufffd\\x04\\x1ab\\x1b\\ufffdY\\ufffd}h\\ufffdJ\\ufffd\\ufffd\\ufffd\\ufffdU\\t\\ufffd\\ufffdW\\ufffd\\\\\\ufffd\\ufffd\\ufffd4\\x11\\x08\\ufffd\\ufffd\\ufffd*+j\\x16@\\x1b \\ufffd\\ufffd\\ufffd\\x1d\\ufffd\\x18\\x0c3\\ufffd#\\ufffd\\ufffd\\x1c\\ufffd\\x0bu\\'\\ufffd\\ufffd\\ufffd\\ufffd\\ufffd\\x04\\ufffd1\\ufffd\\ufffdG\\x0e\\ufffd^\\ufffd\\ufffdk\\ufffd,.\\ufffd \\ufffd\\ufffde\\ufffd\\ufffdJ\\x19\\ufffd\\ufffd\\ufffd\\\\\\ufffd\\ufffd\\ufffdrEq\\x16\\x15\\ufffd\\ufffd\\x1d\\ufffd\\ufffd\\ufffd\\ufffd[\\ufffd\\ufffdxt\\ufffd<\\x08\\ufffd\\ufffd\\ufffd\\x1b\\ufffd\\ufffdTRcoK\\x12.\\ufffdq\\ufffdjo\\ufffd\\ufffd\\ufffd\\ufffd\\ufffdi\\x1f\\ufffdW\\ufffd}H\\ufffd\\ufffd\\ufffdZ\\ufffd\\ufffdE\\n1q\\x1c\\ufffd\\ufffde8\\ufffd\\ufffd\\ufffd\\ufffd\\\\x\\ufffdR\\ufffdn\\ufffd\\ufffd\\x00\\ufffd\\ufffd\\ufffd\\ufffd\\x19\\ufffd\\ufffd5UQ\\ufffd\\ufffdzf\\ufffd\\ufffd\\ufffd\\x014\\ufffd\\x03E\\ufffd\\ufffd\\ufffd\\ufffd\\x03q\\ufffd\\ufffdC\\ufffdqL<\\ufffd\\ufffdS\\ufffdR\\ufffd\"\\ufffd\\ufffd\\ufffd\\x068\\ufffd1\\ufffd+\\ufffd\\ufffd4\\x0b\\ufffd2/:\\ufffd\\ufffd.\\ufffd<m\\ufffd\\ufffd\\ufffdk?\\x115\\ufffd\\ufffd\\x06\\ufffd&\\ufffdl\\r\\ufffd\\ufffdV\\ufffd\\ufffd\\ufffd\\ufffd\\ufffd\\ufffd\\ufffd}\\ufffdIz\\ufffd\\ufffd\\x7f\\nV\\x03\\ufffd4\\ufffdV]\\x1bX*\\x7f\\ufffd0G\\ufffd\\ufffd\\ufffd|.\\ufffdu\\ufffd7\\x0eD9\\ufffd\\ufffd)\\ufffd\\ufffd\\ufffd\\ufffd\\ufffd\\ufffd\\ufffdGou V;x\\x12\\ufffdQY\\ufffd7\\x06\\ufffd\\ufffd\\ufffd\\x15~f\\ufffdm\\x02\\x1b\\ufffd\\ufffd|Aw\\ufffd\\ufffd*\\ufffd\\ufffd\\ufffd\\ufffd D,W\\ufffd\\x00t\\ufffd\\x13\\x1f>\\ufffdI\\ufffd\\ufffdn\\ufffd\\x1d\\ufffd\\ufffd\\ufffdN\\ufffd\\x1d\\ufffd\\ufffd\\ufffd\\ufffd\\ufffd,~\\ufffdz\\ufffd\\ufffd\\x04\\ufffde\\ufffdf\\x1f\\ufffd\\'\\ufffd\\ufffdk\\ufffdJ\\ufffd\\ufffdt\\ufffdd\\ufffdX\\ufffd\\ufffd\\ufffdI\\ufffd;\\ufffd\\ufffd\\ufffd\\x01\\ufffd\\ufffd\\ufffdqL\\ufffd\\ufffd\\ufffd\\x0eA\\ufffdM\\x01U\\ufffd\\ufffd\\ufffd\\ufffdl\\ufffd\\ufffd\\x16\\x07\\ufffd\\x0e=\\ufffd\\ufffd\\x00\\ufffdP\\ufffd\\x01P\\ufffd{\\ufffd^\\ufffd\\ufffd\\ufffdeF<\\ufffd\\ufffdU\\x1dL~\\ufffd\\ufffd\\x01\\ufffd\\x02\\ufffd/\\ufffd\\x11p\\ufffd1\\x03\\ufffd\\ufffd\\ufffd\\ufffd?c\\ufffd=J\\ufffd\\x03W\\ufffd\\ufffd\\x0e\\ufffd\\t\\ufffdm\"?\\ufffdf\\ufffd\\ufffd}3Z^\"\\x1f\\ufffd7\\ufffd\\x1d\\ufffd\\ufffd|\\ufffd\\x15\\ufffd\\ufffd\\ufffd\\ufffd\\x1cP!\\ufffd\\ufffd\\x05\\x1f\\ufffdG\\ufffd(\\ufffd\\ufffd\\ufffdHq\\ufffd3@\\x01\\ufffd\\ufffd\\ufffdh# P8\\x04\\ufffdNH\\x1e\\ufffd\\ufffdc\\ufffd\\ufffd\\x17\\x07\\ufffdL\\x04\\ufffd\\ufffdU\\ufffd}h\\x109\\x062{c\\ufffdS\\ufffd\\x1c\\ufffdz\\x13\\ufffd0\\ufffd\\ufffd\\x00\\ufffd\\ufffd\\ufffd\\ufffdX\\ufffd{T\\ufffd\\ufffd[K\\ufffd\\ufffd\\x0ed\\ufffd9Uq\\ufffd\\r@\\x10\\ufffdJ\\ufffd\\x0b\\ufffdk\\x13n@\\ufffd\\x0e\\ufffd\\x0b+\\ufffd\\ufffd\\ufffd\\ufffd\\'\\ufffd)\\ufffd\\ufffdj\\r\\x19\\ufffd\\ufffd\\ufffd#\\ufffd\\ufffd7b\\ufffd\\t-\\ufffd\\ufffd\\ufffd;\\ufffdV\\x1a\\ufffd(\\ufffd\\ufffd\\ufffdx\\x03&\\ufffdgo<Ze\\ufffd\\ufffd\\x187\\ufffd\\x18c\\ufffdt\\x0c\"1H\\x00\\ufffd\\ufffd\\x01\\ufffd@\\x1c\\ufffd\\ufffd\\x06\\te\\x16\\ufffd\"\\x00O\\x14\\ufffdu\\ufffd\\ufffd9\\x1d-G\\ufffdq\\ufffd\\ufffd\\x15\\ufffd\\ufffd\\x00g\\\\\\ufffdT\\ufffdu\\x18\\ufffd\\ufffd]&\\x06\\ufffd;\\ufffd\\ufffd\\x08\\ufffdT\\ufffd\\ufffd\\ufffd(In\\ufffdA$\\ufffd\\x02\\ufffd \\ufffd8\\ufffdU\\ufffd<\\ufffd\\ufffdJ\\ufffd\\ufffdlT\\x03\\ufffdn\\ufffd\\ufffd\\x0f\\ufffd5A\\ufffd\\ufffd\\ufffdzw\\ufffd[\\ufffdq\\ufffd\\x1a\\ufffd\\ufffd\\ufffd\\ufffd\\ufffdu\\ufffdt\\\\e\\ufffd9\\x1ayY\\ufffd\\ufffd_%\\ufffd8\\ufffd\\ufffd\\ufffd\\ufffd\\ufffd\\ufffd$\\ufffd\\ufffd\\x02V\\ufffd\\ufffd\\x1fz\\ufffd\\ufffdi\\r\\ufffd7w\\x03\\ufffd\\ufffdg>\\ufffd\\ufffdcq5\\ufffd\\ufffd+:\\ufffd\\ufffd\\ufffdA#\\ufffd\\x152\\ufffdhE\\ufffd2\\x1d\\ufffdD\\ufffd=\\ufffd#\\ufffd3^Z$QaY\\ufffd$\\ufffd\\n\\ufffda\\ufffd\\ufffd\\ufffd(\\ufffdL\\ufffd\\ufffd\\x1e\\ufffd\\ufffd\\ufffdC=\\ufffds\\ufffd\\ufffdE\\x1e\\ufffd&\\ufffdOz\\ufffdk\\ufffd\\ufffd.\\ufffd\\ufffd\\ufffdp\\x01F\\ufffd^\\ufffd\\n_\\ufffd\\ufffd\\x00E\\ufffd\\ufffdUH\\ufffdm:\\x07\\ufffdb)\\ufffd\\ufffd+Z\"Yt\\ufffd\\x12\\ufffd\\ufffdW\\ufffd\\ufffd\\ufffd\\ufffd\\ufffd\\ufffd\\ufffd\\ufffd\\ufffdT9\\ufffd4\\ufffd*\\ufffdZ\\ufffd\\ufffd\\ufffd\\ufffd\\ufffd\\ufffd\\ufffdR\\x7fi\\\\c\\ufffd\\ufffd~*\\ufffd\\x1c\\ufffd\\x1c\\ufffd\\x19h\\ufffd\\\\\\ufffd\\ufffdq\\ufffd\\ufffd\\ufffdo\\ufffd\\x18\\ufffd\\ufffd\\x19\\ufffd\\ufffd\\ufffdh\\ufffd\\ufffd\\ufffdg\\ufffd\\ufffd\\ufffd:s\\ufffd\\ufffd\\x12K<\\ufffd\\ufffd;d\\x0eqQ\\ufffd0x\\ufffdP\\ufffd\\ufffd\"R\\ufffd\\ufffd+j\\ufffd\\ufffd\\ufffd\\ufffd\\ufffdi\\ufffdv\\ufffd\\ufffd@\\ufffd Cp\\ufffd\\'\\ufffdT\\x1a\\ufffd\\ufffdz\\ufffd\\x1d\\ufffd\\ufffd\\ufffd+\\n(n\\x7f\\n\\ufffdM3\\ufffd\\ufffd\\ufffdx\\ufffd\\ufffd|u5K\\ufffd\\x16\\ufffd\\x17\\ufffd5]\\ufffd\\ufffd\"\\x1f\\ufffd\\x10\\ufffd\\x0eG@\\ufffd\\ufffd\\ufffdK\\ufffd\\ufffd%\\n\\x1a\\x15?\\ufffd\\ufffd\\ufffdy\\ufffd!\\ufffd\\ufffd\\ufffd<\\n\\ufffd\\ufffd\\ufffd\\ufffd\\ufffd\\ufffd\\ufffd\\ufffdCg\\x18\\ufffd\\ufffd+^&\\ufffd\\x00F\\ufffd\\ufffd84\\x00\\ufffd\\ufffdu\\x0bv\\ufffd\\ufffdd\\x04\\ufffd\\ufffdi\\ufffd=\\ufffd_*k\\ufffdwt\\x04\\ufffd\\ufffd\\ufffd\\ufffd\\ufffd\\ufffd1\\x1f2\\ufffd\\ufffd\\ufffd\\ufffd\\ufffdS{y\\x1e8 ~\\ufffd\\ufffdX\\ufffd\\ufffd!+y\\ufffd8\\ufffd\\ufffd\\ufffd-4\\ufffd\\ufffd\\ufffdd^A\\x1dk\\ufffd\\x11\\x03\\ufffd\\x11\\ufffd\\ufffdX\\ufffd6\\ufffd\\ufffd\\ufffd\\ufffd@h\\ufffd%\\ufffd~K\\ufffd\\x17J8n\\ufffdU\\x08\\x11L\\ufffdJ\\ufffd8\\ufffd\\ufffd\\ufffd\\ufffd^\\x08\\ufffdj\\ufffd\\ufffd\\ufffdWd\\ufffd-\\ufffd\\ufffd\\x02?\\ufffd\\ufffd\\ufffdH\\ufffd\\x16\\ufffd\\ufffd\\x0fz\\ufffdH\\ufffd\\ufffd@\\'\\x15`\\ufffd\\ufffdHU\\ufffd\\x04q\\ufffd\\ufffd a\\ufffdM\\x02\\x18\\x14\\ufffd\\ufffd\\ufffd(\\ufffd$$@\\ufffd\\ufffd\\ufffd\\x03\\ufffd4\\ufffdN0\\tf\\ufffd\\x01\\ufffd\\ufffd!\\ufffdh\\ufffd\\ufffdw\\x1b\\ufffd\\ufffd\\x1c\\x0f\\ufffd\\x0f\\ufffd\\ufffdb3\\r\"\\x10\\ufffd\\ufffd\\ufffd\\ufffd|\\ufffd\\ufffd\\ufffd\\ufffd\\ufffd\\ufffd\\ufffdv<\\ufffd\\ufffd4\\x13#obL\\ufffd\\ufffd\\ufffd9\\x02\\ufffd\\r\\ufffd\\ufffd\\ufffd\\ufffd\\x185\\ufffd\\ufffd\\ufffd\\ufffd\\ufffd\\ufffd\\ufffd\\ufffd\\ufffd\\ufffd\\ufffd\\ufffd\\ufffd>C\\ufffdU\\ufffdmK\\ufffd\\ufffd4\\ufffd\\ufffd+P\\x04vr>\\ufffd\\ufffdy!9\\ufffd^\\ufffd\\ufffdz\\ufffd\\ufffdpNd\\ufffd\\'\\x19\\ufffdzv\\ufffdrt\\ufffdZ+\\ufffd\\ufffd7\\x1f\\ufffd\\ufffd\\x0fCZr\\ufffd\\ufffdm\\ufffd=\\ufffd\\x19\\ufffd\\ufffd\\ufffd\\ufffdzQ\\ufffddZt\\r;\\ufffd\\ufffd6\\ufffd\\ufffdd\\ufffd\\ufffd\\ufffd\\ufffdJ\\ufffd\\x03\\ufffd\\ufffd\\ufffd\\ufffd\\ufffd\\ufffdw\\ufffdG\\t\\x1a\\ufffd\\x11\\x0f\\ufffd\\ufffd?\\ufffdS1\\x0cp9\\ufffdD0\\ufffd=\\ufffd\\ufffdY\\ufffd.\\ufffd\\x02\\ufffd4\\ufffd\\ufffd\\ufffd4\\ufffd\\ufffdf\\x002\\x0e=\\ufffd\\ufffdC\"_F5cK>N\\ufffdG\\ufffdH\\ufffd\\ufffd\\x0c[\\ufffd\\ufffdH\\ufffdD2pkgD\\ufffd!\\ufffd\\ufffd\\rb^H\\ufffd\\ufffd\\ufffdl\\ufffd\\ufffd\\t\\ufffd\\x1e\\ufffd^h\\ufffd\\ufffd\\ufffda=\\x14\\ufffdc\\\\^\\ufffd\\x18\\ufffd\\x12<\\ufffds\\ufffdP\\x06\\ufffd\\ufffd\\ufffdX\\ufffd7\\ufffd{+(\\ufffdFNA\\ufffd+$\\x13Z\\t\\ufffd\\ufffd\\ufffd\\ufffd\\x05\\x1c\\ufffdT\\ufffd\\ufffdP`pF{T\\ufffdy\\ufffd\\ufffd%\\ufffd \\ufffd\\ufffd\\x1e\\ufffd\\x01\\'\\ufffd-g9\\ufffdp\\ufffd\\ufffd\\ufffd\\ufffd\\ufffdO\\ufffd\\ufffd\\x00M1:\\ufffdu\\x08\\ufffd\\ufffd\\ufffd\\ufffdB\\ufffdktUY\\ufffd\\ufffd\\ufffd\\ufffd\\ufffd\\x1el\\ufffd|\\ufffdJF;f\\ufffd\\ufffd\\ufffdZ\\ufffd\\ufffd\\ufffd\\ufffd\\ufffd\\ufffd\\ufffd\\n\\r\\ufffd\\ufffdtaW\\x04\\x16\\ufffd[\\ufffd\\ufffd\\ufffd\\ufffd\\ufffd\\x12G\\ufffd\\ufffd\\ufffdP_=\\ufffd\\ufffd6\\ufffd\\ufffd\\ufffd}\\ufffd\\ufffd\\ufffdc\\ufffd\\ufffd\\ufffdM`.\\ufffd\\ufffd\\ufffd\\ufffd\\ufffd\\ufffd\\x12\\ufffd/C\\ufffdS\\ufffd\\x07\\ufffd\\x13(*>\\ufffd\\ufffd\\n\\ufffd\\ufffd\\x00\\ufffd\\ufffd\\\\\\ufffd\\ufffd\\x13\\ufffd\\ufffd\\ufffd\\ufffd\\ufffd\\ufffdp\\x0f\\ufffd5\\t8\\ufffd\\ufffd\\x1fC@\\x15\\ufffd\\ufffd\\'\\ufffd\\x14\\ufffd\\t\\x1f\\ufffdOc\\x7f6\\ufffd\\ufffdN\\ufffd%\\ufffd\\ufffdD\\ufffd\\ufffd\\ufffd\\x10\\x18g=*//|\\ufffd\\ufffd\\ufffd@\\ufffd{\\ufffd`\\ufffd\\ufffdo*O\\x11\\ufffd\\ufffd!\\ufffdl\\ufffd!=G\\ufffdd\\ufffd\\ufffdq}\\ufffd\\ufffd\\ufffd\\ufffdS\\ufffdH{\\ufffd\\ufffdV\\ufffd\\ufffdkK\\ufffdsj\\ufffdd\\x1fyOF\\x15\\ufffd\\ufffd^[\\ufffd\\ufffd\\ufffd\\ufffd \\ufffd\\x03-\\x17\\ufffdN\\ufffdnrv\\ufffd\\x022\\ufffd\\x1e\\ufffdjQ!X\\ufffd\\x0e3\\ufffd\\ufffd\\ufffd-*;\\ufffd\\ufffdx\\ufffd\\ufffd\\ufffd\\x07\\x03\\ufffd\\ufffd`\\ufffd\\ufffd>I\\ufffd1\\ufffd\\ufffdU\\ufffd\\rQ6\\'\\x03u\\ufffd\\ufffd\\ufffd{\\x11U\\ufffd\\ufffd\\x16\\ufffd\\ufffd\\ufffdO\\ufffd\\x18S\\ufffd\\ufffd\\ufffd\\ufffd\\ufffd\\ufffd\\ufffd\\x0c:\\ufffd\\ufffd#.\\ufffd\\x00O\\ufffdK\\'v\\ufffdqB\\x1b\\x1e\\ufffd\\ufffd]\\x15\\ufffd\\ufffdg\\ufffdO\\x07]^\\ufffd\\ufffd\\ufffd\\ufffd\\ufffd?g\\'\\ufffd\\x16\\ufffd\\x1c4EX}\\ufffdX\\x1a\"\\ufffd\\x1e\\x1d\\ufffdZ\\ufffd\\ufffdX\\ufffd\\ufffdRLe\\ufffdv\\ufffd\\ufffd\\ufffd\\ufffd\\ufffd\\ufffd\\ufffd~\\ufffd\\ufffd\\ufffd\\x1b\\x15\\ufffd=\\ufffd\\ufffd\\ufffdQ\\x12\\ufffdOC\\ufffdsZw\\x1a\\ufffd\\ufffd\\ufffd\\ufffd\\x1a\\ufffd\\ufffdJ\\ufffd$1\\ufffd\\ufffd`:\\x02:V/\\ufffd4\\ufffd\\ufffd\\ufffd\\x05\\ufffd\\ufffdny,e\\\\\\x02:\\ufffdkf\\ufffd)\\x1f\\ufffd:\\ufffd\\ufffd\\ufffd\\ufffdi\\ufffd;\\ufffd\\ufffd\\ufffdj\\ufffd\\ufffd\\ufffd\\ufffd\\ufffd\\ufffd\\ufffd\\ufffdn\\ufffd\\ufffd\\ufffd\\x02\\ufffdz\\x01\\ufffdL+\\x0f\\ufffdT\\ufffd\\ufffd\\ufffd\\ufffd\\ufffd\\x13\\ufffd\\rF\\ufffd\\t\\ufffd\\ufffd\\ufffd\\nq\\ufffd\\x08\\ufffd\\ufffd\\ufffd\\ufffd\\ufffd\\x03\\x04S\\ufffd\\x06\\ufffd\\x14g\\ufffd\\ufffd\\ufffd+\\x01gG\\ufffd\\ufffd4\\ufffdr\\ufffd\\ufffd\\ufffdm\\ufffdI\\ufffd\\ufffd\\ufffd2q\\ufffd\\ufffdKy\\ufffd\\ufffd\\ufffdX\\ufffd\\ufffd\\ufffdNSs\\x063=\\ufffd9t=\\ufffd\\ufffdUm\\ufffd.t\\ufffd\\ufffd\\ufffdj\\ufffd\\ufffdU=\\x1a\\ufffd\\ufffd\\ufffd\\x00\\ufffd\\ufffd\\ufffd\\ufffd\\ufffd\\x19\\ufffdX\\ufffd\\t\\ufffd:\\ufffd\\ufffd\\ufffd\\ufffd\\ufffd\\ufffd44\\x075mz.3\\ufffd\\ufffd\\ufffd\\ufffdS\\ufffdO\\ufffdLr\\x1b9\\ufffd\\ufffdf\\ufffd\\ufffd\\ufffd\\ufffd\\ufffdZ(\\ufffd<Qo\\ufffd\\ufffd\\ufffdN\\x03z\\ufffd:\\ufffd4\\ufffd\\ufffdY\\ufffd=\\ufffd\\ufffd\\x03Z\\ufffd)\\ufffdY8\\ufffd\\ufffd=\\ufffd$2i>`\\ufffd\\ufffd5\\ufffd\\ufffd\\ufffd\\ufffdR\\ufffd\\x1c\\ufffd\\ufffdS\\n\\x07\\x19\\ufffdz\\ufffd\\ufffd&\\ufffd\\ufffdE\\ufffdcM\\x08\\ufffd\\ufffd\\x01D\\ufffd\\ufffd\\x19\\ufffd\\ufffdm\\x16\\ufffd%\\ufffd\\ufffd\\ufffd\\ufffd\\ufffd\\ufffdZ\\ufffd$]\\ufffd\\ufffdj\\ufffd\\x01l9\\ufffd\\ufffd<\\ufffd\\ufffd\\x07\\ufffd)\\ufffd\\ufffd\\x0e\\t\\ufffd\\ufffd4\\ufffd7\\ufffd\\ufffdq\\ufffd\\ufffd\\x1a\\x18\\ufffd\\ufffd\\x03i<\\ufffd$\\ufffdv\\ufffd\\ufffd!\\ufffd\\ufffd\\x00g\\ufffdO\\x1d\\ufffd\\ufffd=q\\ufffd\\ufffd\\ufffdJ\\ufffdr\\ufffd(\\ufffdG\\ufffd,\\ufffd\\ufffdp\\ufffdx\\ufffd@\\x00\\ufffd&\\x04o\\ufffd6\\ufffdq)\\ufffd\\x04\\ufffd>\\ufffd\\x0f\\ufffd(\\x18\\ufffd\\ufffdJas\\ufffdB\\ufffdr\\ufffd\\ufffd~\\ufffd\\ufffdd\\ufffd!\\ufffdG8\\ufffd\\r\\x16(\\ufffd\\ufffd|\"\\ufffd\\x0c\\ufffd\\ufffdt\\ufffd\\ufffd\\ufffdY\\ufffd\\ufffdR\\ufffdm\\ufffdZz@ki<-<\\ufffdlh\\ufffdH\\ufffd\\ufffd\\ufffd\\x07m\\ufffd9\\ufffd\\ufffd \\x14\\x01\\ufffd\\ufffd\\ufffd\\ufffd\\ufffd\\ufffd\\ufffd\\x15F\\ufffd\\ufffd\\x1b\\ufffd\\\\\\ufffd\\ufffd\\ufffd\\ufffd\\ufffd\\ufffd\\x15\\ufffd\\ufffdO\\ufffd\\x19\\ufffd\\ufffdz\\x00\\ufffd\\ufffd\\ufffd\\x1c\\x17\\ufffd\\x03M\\ufffd.\\x7f\\ufffd\\ufffd\\\\\\ufffd_\\ufffdv#\\ufffd@\\ufffd\\x0eD\\ufffd\\ufffd\\ufffd\\x07R\\x03\\x1c\\ufffd49\\x14\\ufffd1\\ufffds\\x08=\\ufffd\\ufffdh\\x03\\ufffd\\ufffd\\ufffd\\ufffd\\ufffdDk\\ufffd\\ufffd\\ufffdZ\\x00\\ufffd\\ufffd0<O\\x13\\ufffd\\ufffd\\ufffd\\ufffd\\ufffd=k\\x17P\\ufffd\\ufffdLX\\ufffd\\ufffdubF\\x18g\\ufffd\\ufffd\\ufffd.zU}A\\ufffd6\\ufffdr\\ufffd\\ufffd@\\x19\\ufffd\\rI-%\\ufffd\\ufffd8\\ufffd\\ufffd\\ufffd>\\ufffd[=\\ufffdP\\ufffd\\ufffd\\ufffd\\ufffd\\ufffdy<@fF\\x08\\x08\\ufffd\\x15A\\ufffd[\\ufffd !\\x19@\\ufffd]\\ufffd\\ufffd\\ufffd\\ufffdt\\ufffd\\ufffd\\x03L\\ufffd\\ufffd\\ufffdJJ\\ufffd\\ufffdp\\ufffd\\ufffd\\ufffd\\ufffdE\\ufffdG\\x00\\ufffd\\x07\\ufffd\\ufffd=\\ufffdMf\\ufffdN\\ufffdM\\ufffd1\\ufffd\\ufffd`e\\ufffd\\ufffd\\ufffd\\ufffdy\\ufffd_\\ufffdG\\ufffd\\x1a\\ufffd7\\ufffd\\x0b}B\\ufffd,\\ufffd\\ufffd\\x05\\ufffd\\ufffd6*\\ufffdB\\ufffd\\ufffd\\ufffd\\x0c9\\ufffd\\ufffd\\ufffd\\ufffdV\\x1f\\ufffd\\ufffdq^G\\x11e\\x06L\\ufffdS!\\ufffd\"{Fn\\x1a\\ufffdRG\\ufffd\\x18\\ufffd\\ufffdkM\\ufffd\\ufffd\\ufffd\\x14Z\\ufffd\\ufffd\\ufffdi\\x19\\x0c@\\ufffd\\ufffd\\ufffd\\ufffdc\\ufffd,\\ufffd>\\x16\\ufffd\\nY\\ufffdaFN*\\ufffd\\ufffd\\ufffd7\\x13$I{\\x19\\ufffd\\ufffd\\ufffd\\ufffd\\ufffdk\\ufffd\\ufffd\\ufffd\\ufffd\\x0e\\ufffd\\ufffd\\ufffd\\ufffd\\ufffd\\ufffd\\ufffd\\t\\x14\\x1e\\ufffd+\\ufffd\\ufffd;6\\ufffd\\ufffd\\ufffd\\ufffd\\ufffd\\ufffd\\ufffdN[\\x19\\ufffd3M1\\x17\\ufffd-\\ufffd\\ufffd\\ufffd\\ufffd\\ufffd\\ufffd7\\ufffd\\x1c\\ufffdi\\ufffd!\\ufffd\\ufffd\\x13W\\ufffd\\ufffd\\ufffd\\ufffd\\ufffd\\ufffd>\\ufffd\\ufffd\\ufffdOB\\ufffd\\ufffd\\ufffdgxW\\ufffd/\\ufffdHz\\ufffd\\ufffd\\ufffdI\\ufffd\\ufffd.\\ufffd\\ufffdX\\ufffd\\ufffdd\\ufffd\\ufffdc8\\ufffd#\\ufffd5\\ufffd=\\ufffd(\\ufffd\\ufffdv\\ufffd\\ufffd\\ufffdS\\ufffd\\x02\\ufffdV\\ufffd\\ufffdI.\\ufffd\\ufffdj\\ufffd\\ufffd\\ufffd.\\ufffd\\ufffd\\ufffd\\x170,\\ufffd1\\ufffd\\ufffd\\x19\\ufffd@4;\\x18\\ufffd\\ufffdu\\ufffdE\\ufffd\\x1e\\x18\\n/`8\\ufffd\\ufffdS@\\ufffd\\ufffd\\ufffd\\ufffdm\\ufffd\\x1b\\ufffd\\ufffdVm\\ufffds-\\ufffd\\ufffd\\x0b{e.\\x06@\\x02\\ufffd\\ufffd\\ufffd>^\\ufffd\\x0c\\ufffd\\ufffd\\ufffd\\ufffd\\x07\\x15\\ufffd\\ufffd5C\\ufffd\\ufffd\\ufffd\\ufffd\\ufffd \\ufffd\\ufffd\\ufffd\\ufffd\\ufffdz^\\ufffd\\ufffd\\ufffd\\ufffd\\ufffd+\\ufffdh\\ufffd<\\ufffd\\ufffd\\ufffd?\\ufffd\\ufffd8\\ufffd\\x1f\\ufffd\\ufffdV\\ufffd\\ufffd\\ufffd\\ufffd\\ufffdj\\ufffd\\x10\\ufffd\\ufffdEzf\\ufffd\\ufffd\\ufffd\\ufffd\\ufffd\\t4\\ufffdB\\x19\\x1c\\ufffd\\ufffd\\ufffd\\ufffd^y\\ufffd_\\t\\ufffdi\\ufffd\\x10\\ufffd\\ufffdE\\ufffdyq\\x0c\\ufffd{\\ufffd\\x04\\x1e\\x1fe\\ufffd\\ufffdv\\ufffd\\ufffd\\x11\\ufffd\\ufffd?\\ufffd\\ufffd\\ufffd\\x0e\\ufffds0? \\ufffdY\\ufffd\\x0e\\x1en\\ufffd\\ufffd\\ufffd2\\x0c*@\\ufffd\\x05l@V]\\x15\\ufffd\\x02PNc\\ufffd\\x03,\\ufffd\\x1f;MM\\ufffd\\ufffd\\x1c\\ufffd}\\x06\\ufffd\\ufffdF\\x14\\ufffd\\x7f\\ufffd\\ufffd\\ufffd\\x15\\ufffd\\ufffd\\ufffdt\\ufffd\\ufffd\\x0b,\\ufffd\\x17\\x11\\x16\\x18\\ufffd:V\\ufffd5\\ufffd\\ufffd\\ufffd]\\ufffdU\\ufffd\\ufffd\\ufffd\\ufffd\\x07\\ufffd8\\ufffd\\x05K\\ufffd\\ufffd\\ufffd\\x1b\\ufffdP|\\ufffd\\ufffdT~u\\ufffd2\\x05\\ufffdE\\x1d7f\\ufffdn\\ufffd\\ufffdn\\x1b\\ufffd\\ufffd\\ufffd5\\ufffdql\\ufffd\\ufffd\\x16R\\x00<\\ufffd\\x02\\ufffd%j6\\'h`pA\\ufffd*\\ufffd\\ufffd\\ufffdS\\ufffdc\\x1fSP\\ufffd2\\\\\\ufffd\\ufffd\\x16=3H\\t\\ufffd\\ufffdj\\ufffd\\ufffd2\\ufffd\\ufffdh>V=\\x1e\\ufffdJZ\\x02Re\\ufffdzT\\ufffd\\ufffd\\ufffd\\x1b\\ufffd\\ufffd\\x1cl9\\x04\\x1e\\ufffd\\ufffd\\ufffd\\n#\\ufffd\\ufffd\\ufffdk]\\x05\\ufffd\\ufffd:7\\ufffd\\ufffd\\x14`\\ufffd4\\ufffdau:f\\ufffd\\ufffd\\ufffdD\\x7f\\ufffd\\ufffd\\ufffd\\ufffd<\\ufffd{\\ufffd.jU\\ufffd\\ufffd\\ufffd$\\ufffd\\ufffdj\\ufffd\\ufffd\\ufffd\\ufffd\\ufffdd\\ufffd\\ufffd11G\\ufffd\\ufffd\\ufffd\\ufffd\\x04Fm\\ufffd\\x1f*\\ufffd\\ufffdj\\ufffd\\ufffdL?\\ufffd\\ufffd~Ud^\\\\a\\x01a\\ufffdN\\x173\\x11\\ufffd\\ufffd\\ufffdZ\\x00\\ufffd\\ufffd;\\ufffd\\ufffd\\ufffd\\ufffd\\ufffd\\ufffd\\ufffd\\x04V\\ufffd\\ufffd-\\ufffd\\ufffd%\\ufffd\\x18s\\x16\\x005M\\ufffd\\ufffd\\ufffd\\ufffd\\ufffd5gO\\ufffd\\ufffd\\ufffd\\ufffd&BH\\x14\\x0c\\ufffd\\x06\\ufffdzc(\\ufffd\\ufffd\\x10G\\x07\\x15\\ufffdI\\ufffd\\x1d\\x1a4\\x03t\\ufffd\\ufffd\\x03\\x1e\\ufffd\\ufffdv\\ufffd\\\\i\\ufffd\\ufffdO+4\\ufffd\\ufffd3\\ufffdT\\ufffdx\\ufffd\\ufffd\\ufffd\\ufffd\\ufffd1\\ufffd<\\ufffdO\\x1c\\ufffd\\ufffd\\x11^\\ufffdO6=\\ufffd\\ufffd\\ufffd\\ufffdN=1S\\ufffd\\x1c6:\\ufffd\\ufffd\\ufffd0`\\ufffd\\ufffd\\ufffd\"\\ufffd\\ufffdF\\ufffd\\ufffd\\ufffdY\\ufffd\\ufffd\\x14\\x01RY<\\ufffdQ\\ufffd\\ufffd\\ufffd\\x17H0\\ufffdgk\\ufffd\\ufffd\\ufffd\\ufffd\\x16\\ufffd\\ufffdQ=\\ufffd\\ufffd\\ufffdF\\ufffdD\\x07\\ufffd\\ufffd\\ufffd\\ufffd\\ufffd\\x16rB&]\\ufffd\\ufffd\\ufffd:P2;\\ufffd\\x1f\\ufffdAsw\\x13\\ufffdu\\ufffd+\\ufffd\\x15\\ufffd\\x11\\ufffd\\ufffd3[zd\\ufffdX\\ufffdW9\\x13\\ufffd\\ufffd\\ufffd\\ufffd\\x18ch\\ufffd\\ufffdXr\\ufffd@\\ufffd\\ufffd db\\ufffd\\ufffda\\ufffd\\ufffd\\ufffd\\x7f\\ufffd;\\ufffdF+Ks+C\\ufffd2\\x08#\\ufffd\\ufffd\\ufffdp9\\ufffd)\\ufffd\\ufffd3\\ufffd\"\\ufffd\\ufffdQ1\\ufffdq\\ufffd\\x05\\ufffdI4\\x015\\ufffd\\ufffd\\ufffdo\\x0c\\ufffdE\\ufffd\\x0bi\\ufffd\\ufffdv\\ufffd\\ufffdYo\\x11\\ufffd]\\ufffd\\ufffd\\ufffd}EN<?\\ufffdD\\x0e\\ufffdy\\ufffdc\\ufffd\\ufffd\\ufffdS-\\ufffdE\\ufffdMva\\ufffd\\ufffd\\ufffd\\ufffd\\ufffd\\ufffd\\ufffdda\\ufffd\\x12\\ufffd\\ufffdN\\x19:\\ufffdZ\\ufffdS\\ufffdR\\x06\\ufffd`\\ufffd\\x0f\\ufffdo\\x1f\\ufffdM\\ufffd\\ufffd:8\\ufffd\\x1c`\\ufffdo9\\ufffd\\ufffd;CD\\ufffdH=\\ufffd \\x19cpI\\ufffdh\\ufffd\\ufffd{\\ufffdx\\ufffd\\ufffd\\ufffd;\\ufffdg\\ufffd!\\ufffd\\ufffd{i9I1\\ufffdV-\\ufffd\\ufffd\\ufffd\\'[\\ufffd_\\ufffd\\ufffd\\ufffd\\ufffd\\ufffd\\ufffd]\\ufffd\\ufffd\\ufffd8\\ufffdSe\\ufffd\\ufffd<\\ufffd\\x00\\ufffd}i\\ufffd\\ufffd\\ufffd\\ufffd\\\\\\ufffd\\x1a3\\ufffd\\ufffd\\ufffd\\ufffd\\ufffd\\ufffd\\ufffd\\ufffd\\ufffdLz\\x1ej\\tb{I|\\ufffdN\\ufffd?\\ufffd\\ufffdtaL1\\ufffdb\\ufffd;)\\ufffd=h\\x029\"0\\ufffd\\ufffd\\ufffd,\\ufffd\\ufffd\\ufffd\\ufffd\\ufffdA,M\\ufffdU\\ufffdG\\\\\\ufffd\\ufffd}p\\ufffd\\ufffdu\\ufffdu\\ufffda\\ufffd!\\ufffdO\\ufffd\\ufffd3\\ufffdA.1\\ufffd\\ufffd\\ufffd\\ufffd\\ufffd\\ufffdXo\\ufffd\\ufffd\\ufffd\\ufffd\\x00\\ufffd7}\\x16a\\ufffdj\\ufffd\\ufffdX-\\ufffd\\x02\\ufffd\\ufffdBM\\ufffd\\x00,\\ufffd\\ufffdd\\ufffd\\ufffd4\\ufffd\\ufffd\\ufffd\\ufffd0\\ufffd\\ufffd\\ufffdOm\\ufffd\\ufffdek\\ufffd\\x1deX\\ufffd\\x0e#\\ufffd\\ufffd)\\ufffd5/\\ufffdi\\ufffdX\\ufffd\\ufffd\\ufffd\\ufffdM\\ufffd\\ufffd\\ufffd\\ufffd\\ufffd\\ufffd\\ufffdZ\\ufffdJ\\ufffd\\ufffd+\\ufffd\\ufffd-!\\ufffd\\ufffdU\\ufffdqg*eY\\x7f\\ufffdq\\ufffd\\ufffd\\ufffd\\ufffd}\\ufffd\\ufffd\\ufffdt\\ufffd%G\\ufffd\\x07;\\x0f\\ufffd\\ufffd\\ufffd\\ufffdlB\\ufffd.\\ufffd(\\ufffd\\x18\\ufffd\\ufffd\\ufffd#e\\ufffd3\\ufffdda\\ufffd\\x15F%\\x1b\\ufffd6s\\ufffd=*\\ufffdfE\\x18\\ufffd\\ufffd4\\ufffd\\x19\\r\\ufffd\\ufffdo~\\ufffd\\ufffd\\ufffd$\\ufffdH\\ufffd\\x1a]S\\ufffd\\x16\\ufffd\\ufffd4\\ufffdCG\\ufffdrH\\ufffdN\\ufffd\\x08\\ufffd\\ufffdG\\ufffd9\\ufffd=+2\\ufffdO\\ufffd\\ufffd6\\ufffd\"\\ufffd\\ufffd\\ufffd\\ufffd\\ufffd\\ufffd\\ufffd\\ufffd\\x12\\ufffd\\x070\\ufffdi\\ufffd\\ufffd\\ufffd\\ufffd\\ufffd\\x04\\ufffd\\ufffdz\\ufffd\\x00\\ufffdOce,\\ufffd\\ufffd+\\ufffd\\ufffd3\\ufffd\\ufffd\\ufffd\\ufffd\\x1f\\ufffd\\\\\\ufffd\\ufffd\\ufffd\\ufffd\\ufffd\\ufffd\\ufffdSE\\ufffd\\x1fgm\\ufffd\\ufffd\\x07\\x1e`\\ufffdZ\\ufffd\\x1d\\x1b\\ufffd\\ufffd\\ufffd\\ufffd\\ufffdR\\ufffd\\ufffd\\x06\\x03qI\"\\ufffdM\\x19J\\ufffd\\ufffd`*M\\ufffd\\ufffd\\ufffd^\\ufffd\\x0b\\ufffd\\ufffd\\ufffd876\\ufffd\\x0cJ\\ufffd3\\ufffd\\ufffd\\ufffdR\\ufffd\\ufffdm\\n\\ufffdq\\x14\\ufffd\\x18\\ufffd\\ufffd^\\x14z\\ufffdd!\\ufffdA\\ufffdU\\ufffdS\\x0c\\ufffdx%1\\ufffd\\ufffd\\x15#\\ufffd\\ufffd\\ufffd<6\\ufffd\\ufffdFx\\ufffd7\\x19Y\\x03pj3\\ufffd\\ufffdF\\x0f\\ufffd\\r\\ufffd;\\x16\\ufffd\\ufffd*f\\ufffd\\ufffd\\ufffd\\x12\\ufffd\\ufffd\\ufffd\\ufffd\\x070^\\ufffd\\ufffd\\ufffd\\ufffd\\x00\\ufffd\\ufffd\\ufffd\\ufffd\\ufffd\\ufffd\\ufffd\\ufffd\\x0b\\ufffd\\ufffd\\ufffd\\ufffdb\\ufffd\\ufffd\\x00\\ufffd}M\\x06\\ufffd\\ufffd\\ufffd\\x07\\ufffdA\\ufffd\\ufffd\\ufffd\\x16\\ufffd\\ufffdv\\ufffdQ\\ufffd7D1\\ufffd\\ufffd\\ufffdWAdt\\ufffdz\\x01y\\ufffd\\ufffd\\x04\\ufffde\\ufffd\\ufffd\\ufffdf~\\ufffd\\ufffdj~\\x16b\\ufffd!\\ufffd\\ufffd\\ufffd\\x06;\\ufffd\\ufffdB/`\\ufffd\\ufffdUd\\ufffd.m\\x0c\\ufffdJ\\x0ce:\\ufffd\\ufffd\\ufffd[\\ufffd\\ufffdxb\\ufffd\\ufffd\\x16\\r\\ufffd\\ufffd\\ufffd\\ufffd#t\\'\\ufffd\\ufffd\\x05\\ufffdz\\ufffd\\ufffd\\ufffd\\ufffd\\ufffd\\ufffd\\ufffd\\ufffd&\\ufffd\\ufffd\\x13~\\ufffd#s=\\ufffd\\x1e3\\ufffd\\x07\\ufffd\\ufffd\\ufffd1\\x10k\\ufffd\\ufffd\\ufffdm]\\ufffd\\ufffd\\x03Y\\ufffd\\ufffd\\ufffd\\ufffd\\x1ct\\ufffd\\x1dB\\ufffdl\\ufffd6\\ufffdh\\ufffd\\ufffd\\ufffd\\x16\\x1a\\x1985\\x0e\\ufffd\\ufffd\\x0f4\\ufffd\\x05y\\ufffd\\x18\\ufffd9\\ufffd\\x13\\ufffdD\\x0c\\ufffd\\ufffd<\\x08\\ufffd\\ufffd\\ufffd3U\\ufffd\\ufffd\\ufffd\\ufffd\\x07\"\\ufffd\\ufffdjV\\x12DO\\\\w\\ufffd\\ufffd\\ufffd\\x19~^\\ufffd\\x14e\\ufffd0\\x07\\x04U\\ufffd\\ufffd\\ufffd\\x00w \\x1f{\\x19\\ufffd\\ufffd0+\\x10\\ufffd \\ufffd\"\\ufffd\\ufffd\\n\\ufffdq\\ufffd\\ufffd\\ufffddY#\\x0cz\\ufffd\\ufffd\\ufffds\\ufffd \\ufffd\\ufffd\\x08\\ufffdq\\ufffd8\\ufffd\\x15j-\\ufffdB\\ufffd\\ufffd\\x0f\\x13M\\ufffd\\ufffdp0\\ufffdA\\ufffd\\ufffd*\\ufffd\\ufffd\\x0f\\ufffd,_\\x1d\\'\\ufffdP\\x05\\ufffd\\x14\\ufffd\\ufffde\\x07\\ufffd*\\x12N\\ufffd\\x1e\\ufffdG\\ufffdU\\ufffd\\ufffd\\ufffd\\x15\\ufffd\\ufffd\\ufffd2\\ufffd\\ufffd;\\ufffd\\ufffd\\x19\\t\\ufffd\\ufffd\\x03\\ufffd\\ufffd\\ufffd\\ufffdW\\ufffd\\ufffd\\ufffd\\ufffdR\\x07\\x1ds@\\x12\\ufffd\\ufffd\\ufffd\\x17\\ufffd\\ufffdp\\ufffd\\ufffdlx\\ufffd\\ufffd@\\x12f\\ufffdj\\ufffd\\ufffd%\\ufffd\\x0f\\ufffd\\n\\ufffd\\ufffd\\n\\ufffd\\ufffd\\x1a\\ufffd\\ufffd8\\ufffd\\ufffd1\\ufffd\\ufffd\\ufffd8\\ufffd\\x0c=NW\\x1am\\ufffdt\":\\ufffdo\\x0eZ$\\ufffd\\\\\\ufffd\\ufffdo\\ufffd\\ufffde`q\\ufffd5\\ufffd\\ufffd\\ufffdf{\\x19b\\x00\\ufffd\\ufffd\\ufffdw\\x16\\ufffd\\ufffd\\ufffd.\\ufffd\\ufffdn\\ufffd\\ufffd\\ufffd\\ufffd\\ufffd8\\ufffd\\ufffdi1\\ufffd[\\x0f:MGU\\ufffdo\\ufffd\\x08\\ufffd\\ufffd\\ufffd2{\\ufffd\\ufffdfx\\ufffdN\\ufffd\\x17R^\\ufffd\\ufffd\\x11`I \\ufffd5n\\ufffd\\ufffd\\ufffd\\ufffd\"\\ufffdo\\t\\ufffdI \\x00\\ufffd\\x10j\\ufffd\\ufffds-\\ufffd\\ufffd}\\x01\\ufffd\\x10\\ufffd\\x17,\\x07\\ufffd\\ufffd\\ufffdZm\\x17c\\x17]\\ufffd\\ufffd\\ufffd\\ufffd\\ufffd\\ufffd\\ufffd\\ufffdpL\\x0f-{\\x03^\\ufffd)\\ufffd\\ufffd\\x17\\ufffd\\ufffd\\ufffdc\\ufffd\\x07\\ufffd\\ufffdy\\ufffd\\ufffd=\\ufffd\\ufffdot\\ufffd\\ufffd\\ufffdU\\ufffd\\ufffd\\x00\\x06+5\\ufffd\\ufffd\\ufffd\\ufffd\\x0bi4\\ufffdd\\x03$\\ufffd\\ufffd\\ufffd\\ufffd\\x1bY\\ufffdGk\\ufffd\\ufffd[\\ufffd\\ufffd3\\ufffd\\ufffdQ\\x18\\ufffd\\t$b\\ufffd\\ufffdyN\\ufffd;Ii\\ufffd\\ufffd\\t\\ufffd\\ufffdz\\ufffd\\ufffd\\x18?\\ufffd\\ufffd\\ufffd\\ufffd;\\ufffd\\ufffd\\ufffd\\ufffd\\ufffd\"\\ufffd\\ufffd<7\\ufffd\\ufffdi{\\ufffd\\ufffd\\ufffd7 g\\ufffd\\ufffd^\\ufffd\\ufffd\\ufffdD\\ufffd\\ufffd\\ufffd=\\ufffd5\\ufffdx\\x1b\\ufffdIo%\\ufffd\\ufffd\\ufffd\\ufffd\\ufffdA&\\ufffd\\ufffdv\\ufffd\\ufffd\\x17\\ufffdD\\ufffd\\x11\\ufffd\\ufffd\\ufffd\\ufffd\\ufffdS\\ufffd\\x0b|\\ufffdR\\x0b\\n\\ufffd#\\ufffdl\\ufffd\\ufffd>\\ufffda\\x143\\ufffdf\\ufffd\\x06j\\ufffd\\ufffd\\x00Z\\x02\\ufffdy\\ufffd\\r\\ufffdyb\\ufffd\\ufffd\\ufffd\\x19\\ufffd\\ufffd9\\ufffd\\ufffd\\ufffd\\ufffdM/\\ufffdQM\\ufffd\\ufffd1B>\\\\\\ufffdC\\x19\\ufffd\\ufffdT/\\ufffdYo!\\ufffd{ 5WD\\ufffd\\ufffd-b\\x07U\\ufffdI\\ufffdq\\ufffd\\ufffd+c\\ufffdk\\ufffd\\ufffdVXDK;K\\x18\\ufffd\\x1a\\ufffd\\ufffd\\x1a,v\\ufffdVQ,\\ufffdv\\x10(B=\\x16\\ufffd\\ufffd\\ufffd\\x0c\\ufffd\\ufffd\\\\\\ufffd\\ufffd\\ufffd|\\t\\ufffd\\x1f\\ufffd`?\\ufffd\\ufffd\\ufffd?\\x1a\\ufffdg\\ufffd\\ufffd\\x0c\\ufffd\\ufffd\\ufffd\\x0f\\ufffd\\ufffd\\ufffds\\ufffd/\\ufffd\\ufffd\\ufffd\\ufffd\\x1a\\ufffd,\\ufffd\\ufffd\\ufffd<\\\\\\ufffdNE\\x00W\\ufffdk\\ufffd\\ufffd\\ufffd\\ufffd\\ufffd\\ufffds\\ufffd\\n\\ufffd\\ufffd\\ufffdm,\\ufffd\\ufffd|\\ufffd\\ufffd\\ufffd)>\\ufffd\\ufffd\\\\\\ufffd\\ufffd\\ufffd\\ufffdkbq\\ufffd\\x05\\ufffdU\\ufffd\\ufffdm\\ufffd\\ufffd\\ufffd\\ufffdo@:\\ufffd1\\ufffd\\ufffd\\ufffd\\ufffd\\ufffd\\ufffd\\ufffd\\ufffdO\\ufffd\\ufffd\\ufffd\\ufffd\\ufffd+\\ufffdo\\x19Zly\\x04B\\ufffdve\\ufffd\\ufffdx\\ufffd\\ufffdD\\ufffde\\ufffd\\ufffdbo\\ufffdr\\x17\\ufffdf\\ufffdhs\\ufffdn\\ufffd\\ufffd#\\ufffd[\\ufffd_L\\ufffd\\x02L\\ufffd\\ufffd]G^3T51\\ufffdH\\ufffd\\ufffdc\\ufffd\\ufffd\\x12eu\\ufffd\\ufffd\\ufffd\\ufffd\\ufffdE3P\\ufffd\\ufffd\\ufffd\\x18\\x0eT\\ufffd\"\\ufffd\\ufffdc\\ufffdM\\ufffd\\ufffdf\\ufffd\\ufffd\\ufffd\\ufffd\"\\ufffdZ[\\ufffd\\x1f\\ufffdt\\x08\\x03\\ufffdG\\ufffdHb\\ufffd\\ufffdD\\ufffd\\ufffd\\ufffdy(\\ufffd1\\ufffd\\ufffd\\ufffd\\ufffdj+\\ufffd\\ufffd\\ufffd\\ufffdN\\ufffd\\ufffd\\ufffd@\\ufffd\\x14M;\\ufffd\\ufffd\\ufffd v\\x15\\x19$v\\ufffd\\x05\\ufffdh\\ufffdH\\ufffd3\\x10\\ufffd+\\ufffd\\ufffdN\\ufffd\\ufffd\\x01\\ufffd\\ufffd=\\ufffd\\ufffd\\ufffd`1\\ufffdP\\ufffd\\ufffd\\ufffd8=G\\ufffd]\\ufffd\\ufffdS_\"\\ufffd\\ufffd\\ufffdQ\\ufffdI\\ufffd\\ufffd\\x00\\ufffd,/\\x03bA\\ufffdb;\\ufffd=z\\ufffd\\ufffd\\x071\\x16\\ufffd\\ufffdS\\ufffd\\ufffd\\ufffd\\ufffd<&#\\ufffd\\ufffd\\x1ff\\ufffd\\x08\\ufffd\\ufffds\\ufffd+SF\\ufffd\\ufffd\\x19\\ufffdQ\\ufffd\\ufffd\\ufffd\\ufffd\\ufffdT,\\ufffd\\ufffd\\ufffd\\ufffd\\ufffd\\ufffd\\ufffd\\ufffd\\ufffd>\\ufffd\\ufffdj\\x0b\\ufffdq\\ufffd\\x10\\x06#\\x1c(\\ufffd\\x05\\ufffdGie\\x0f\\ufffd\\x04\\ufffd\\t@\\ufffdE*\\ufffd\\ufffd\\ufffdq\\ufffd\\ufffd\\ufffd]\\ufffdu\\x1b\\ufffd\\ufffd\\x00j\\ufffd\\ufffd\\ufffd\\x1d\\x00\\ufffd@\\ufffdY@\\ufffd\\ufffdc\\ufffdF\\x0f,\\x03i\\ufffd\"\\ufffd!|\\ufffd\\ufffd\\x037 \\ufffd\\ufffd\\ufffd\\ufffd\\ufffd\\ufffd\\x15\\ufffd\\ufffdd\\x18a\\ufffdU\\ufffd\\ufffd\\x11\\x15\\ufffd\\ufffd.\\ufffd\\ufffd\\ufffd\\ufffd\\ufffd+\\ufffdZ\\ufffd\\ufffd\\ufffd^\\ufffd\\ufffd{\\ufffd\\ufffd\\ufffdo\\ufffd\\ufffd\\ufffdc\\ufffd\\ufffd/2)\\x06T\\ufffd\\ufffdX\\ufffd>\\ufffdnP\\ufffd\\ufffd( \\ufffd\\ufffd~\\ufffd\\x02\\ufffdi\\ufffd:\\x15\\ufffdp\\ufffdu\\ufffd\\ufffd\\x07\\ufffd\\ufffd/\\ufffd\\ufffdQM\\x04\\ufffd\\ufffd\\ufffdV8:\\ufffd\\ufffdT\\'\\ufffd.dk\\ufffd\\ufffd\\ufffd\\ufffd\\ufffd\\ufffd\\ufffd\\ufffdg\\ufffd\\ufffd\\ufffdN\\ufffd\\ufffd\\ufffdpF\\rEm\\x00\\ufffd\\t \\ufffd\\x02LP1e]\\ufffd\\ufffd1\\ufffd\\ufffdi\\ufffd3\\x06\\ufffd\\x1cOl\\ufffdD\\ufffd\\ufffdU`\\ufffdH\\ufffdJ\\x08\\x07\\ufffd\\x01\\ufffd\\ufffd\\x024\\ufffdMvK\\ufffd#Q\\ufffd/leQ\\x0c\\ufffd\\x1c1\\ufffd\\ufffd\\ufffd\\ufffd6k\\ufffd\\x1b\\ufffd\\ufffd\\ufffd\\x13\\t\\x08\\ufffd\\ufffd\\ufffd5\\ufffd\\ufffd\\ufffd\\ufffd\\ufffdZVM\\ufffd\\ufffd\\x03\\ufffdh7\\ufffd\\ufffd\\ufffd\\x07\\ufffd\\ufffdh\\x01\\ufffd\\x1f\\ufffd\\ufffd4\\x0f\\ufffd\\ufffd?x\\ufffd\\ufffd\\x1e\\ufffd\\\\6\\ufffd\\ufffdb\\ufffd)\\ufffdR\\ufffd\\ufffd\\ufffdu<\\ufffd\\ufffd\\ufffdsl\\ufffd\\x11un\\x07\\ufffd\\ufffdx\\x7ft\\ufffd\\x19\\x15\\ufffd\\ufffdB\\r\\ufffd\\ufffd\\ufffd\\ufffd~\\x0e{{\\ufffd;\\ufffdy4\\ufffd\\ufffd)\\ufffd\\ufffdW\\ufffd&\\ufffd\\x15;b@G\\ufffdV-\\ufffdK\\ufffd\\x0e\\ufffd|\\x07\\ufffd\\x7f\\ufffdI\\ufffdM\\x00-\\ufffd\\ufffdyB\\ufffd\\ufffd\\ufffd\\ufffd\\ufffd\\ufffde\\ufffd\\ufffd\\ufffd\\ufffdN\\ufffd)m\\ufffd0O\\ufffd\\ufffd}}\\ufffd$\\x07\\ufffd\\ufffdm>\\ufffd\\ufffd\\x00\\ufffd\\ufffd\\ufffdkY\\ufffd\\x0b\\ufffd\\ufffd\\ufffd\\ufffd|H?\\ufffd\\ufffdc\\ufffd\\ufffd\\ufffdLB\\x11\\ufffd\\ufffd\\ufffd\\ufffd\\ufffd \\ufffd\\ufffdz\\\\<R<3\\x0c:\\ufffd\\x11@\\ufffds\\ufffd\\ufffd\\x0c\\ufffd8Y\\ufffdG\\ufffdR\\ufffd/<\\x1cf\\ufffd\\ufffdS\\ufffd\\ufffd\\ufffd\\ufffd;\\ufffd\\ufffd\\ufffd\\x18f\\ufffd@\\ufffd\\x1dj9\\x15D\\x0e\\ufffdq\"\\ufffd+\\ufffd(`jXj\\ufffd[)\\ufffd\\ufffdX\\ufffd`\\ufffd\\ufffd\\ufffd\\ufffd\\ufffd\\ufffdn`\\ufffd\\ufffd&\\ufffd\\ufffd}\\ufffd7\\x1eF~\\ufffdb\\ufffd\\ufffds\\ufffd\\ufffd\\ufffd\\ufffdm\\x16\\ufffdN\\n\\ufffd\\ufffd \\ufffd\\ufffd+\\x0e\\ufffd\\x04\\ufffd\\ufffd\\ufffdc\\ufffdZb\\ufffd\\ufffdm\\ufffd{F\\ufffd\\ufffd\\ufffdx\\ufffd\\ufffd\\ufffd\\x10q\\ufffdT\\ufffd\\x15\\ufffd\\ufffd?`\\ufffd\\ufffd\\ufffd=9<\\ufffd\\ufffdo5\\ufffd\\ufffdiu}9/\\ufffd\\ufffdx\\x13\\ufffd\\ufffd\\x14\\x01\\ufffd\\ufffdz\\x13\\x0e]\\x0eu\\x17\\ufffd\\x1a\\ufffd\\ufffd\\x1b\\ufffd\\ufffd\\ufffd\\x0f3\\x1dqZz\\ufffd\\ufffd\\ufffd\\ufffd\\ufffd\\ufffdmo\\ufffd\\ufffdl\\x0e+\\x18\\ufffd\\ufffd\\ufffdV\\ufffdZ\\ufffdd`@>\\ufffd\\ufffd\\ufffd\\x00\\x10\\ufffd{\\ufffdI6\\ufffd\\ufffdga\\ufffd\\ufffdL\\ufffd\\ufffd\\ufffd\\ufffd\\t\\x1a\\ufffdv\\x12G\\ufffd\\x08\\ufffd\\ufffd9\\ufffd\\ufffdV\\ufffd\\ufffd\\ufffd\\ufffd\\ufffdR\\ufffd\\ufffdO\\t\\ufffd\"\\ufffd\\ufffd\\ufffd\\ufffd\\n\\ufffd+$\\ufffdrAY:P\\x05\\ufffd\\x08G\\ufffdh\\ufffd\\ufffd\\ufffd\"y\\ufffd\\ufffd\\x16\\ufffd\\ufffdJ/\\ufffd~\\ufffdW\\ufffd\\x12\\ufffd\\ufffd\\ufffd\\ufffd\\x1b\\ufffd\\ufffd@!\\ufffd\\ufffd\\ufffdj\\ufffdCS\\x10\\ufffd\\ufffdj\\ufffd\\ufffd\\x1br\\ufffd\\x01\\ufffd\\ufffd\\ufffd\\ufffd\\ufffd\\ufffdV\\ufffd\\ufffdX\\ufffd\\x16\\ufffd \\x18\\ufffd\\ufffd\\x0c\\x1a\\x04\\ufffd!\\ufffd(v*\\ufffd\\ufffd\\ufffd\\x0e\\ufffd\\ufffd+-\\ufffd\\ufffd\\x12H`;\\ufffd\\x1e\\ufffd\\ufffdTz\\ufffd\\x1fi\\ufffd.n\\ufffdV\\x11G\\x00\\ufffdjp+\\x1cL\\x00\\ufffd\\ufffd\\ufffd\\x1f\\ufffd\\ufffd\\ufffdQ\\ufffd\\ufffdB\\ufffd\\ufffd\\\\\\ufffd;\\ufffd\\x0c\\ufffd9\\ufffdr\\ufffd*\\ufffd\\x00\\ufffd\\ufffd\\ufffdA\\ufffd6\\ufffd\\x00\\'\"Y\\x16<\\ufffd\\x05\\ufffd4\\ufffdJ\\ufffd\\x07j\\x04Ieyy\\ufffdLf\\ufffd|\\x0f\\ufffd\\ufffd\\ufffdV\\ufffd*\\ufffd\\ufffd\\ufffd\\ufffdn\\ufffd\\x00\\ufffd4+\\ufffd\\ufffdk\\ufffd\\ufffd\\ufffd?\\ufffd\\ufffd\\ufffd\\x00\\ufffdTD\\ufffd\\ufffd\\ufffdN\\ufffd\\ufffd1Y\\x01\\ufffde\\ufffd\\ufffd\\x00\\ufffd\\ufffd\\ufffdt\\ufffd_\\x1a/\\ufffdl?\\ufffd\\ufffd\\ufffd\\ufffd\\ufffd_\\ufffd1\\ufffdj\\ufffd\\ufffd<\\'\\ufffd\\ufffd/%\\ufffd\\ufffd:\\ufffd\\ufffd\\ufffd\\ufffdN]\\x17\\ufffd\\ufffd\\ufffd]\\\\j9\\ufffd5\\ufffd%\\ufffd\\ufffda\\ufffd\\ufffd\\x00\\x0e\\ufffd\\ufffdL\\ufffd\\ufffd\\ufffd\\ufffd\\ufffdY\\ufffd?{\\ufffd\\ufffd\\ufffd\\ufffd\\ufffd\\ufffd\\ufffd\\ufffdu\\x1e\\ufffd\\ufffd\\ufffdr6\\ufffdn$-\\x14\\ufffd\\ufffdpG\\ufffd\\ufffd\\ufffd\\'\\ufffda[\\ufffd\\x0f\\ufffd\\ufffds+\\x1bg:V\\ufffd\\ufffd\\ufffd\\ufffd\\ufffd\\\\7\\ufffd\\x1dk\\x13S\\ufffd\\ufffd\\ufffd\\x0e\\ufffd]V\\x03$#\\ufffd^\\ufffd_\\ufffd\\ufffd\\ufffd\\ufffd\\ufffd\\x08\\ufffdC\\x18\\ufffd\\ufffdR\\x00\\n}\\ufffd\\ufffd@VhRTpC\\x0e\\ufffd\\ufffd\\ufffd\\x15+\\ufffd)\\\\\\x08\\ufffdFr\\ufffd)\\ufffdj\\ufffdM;\\ufffd1d`\\ufffd\\ufffd\\ufffd\\ufffd\\ufffdH3T\\ufffd\\ufffdYv\\ufffd\\n\\ufffd\\x1a\\ufffd\\ufffd\\ufffd\\x10\\ufffdL\\x1eE\\ufffd\\ufffd\\x13I\\ufffd\\ufffd\\x15f\\x12?\\ufffd\\x17\\ufffd\\x05F>\\ufffd\\ufffdS\\x11J\\ufffdQ\\x14\\ufffd3t^*\\ufffd\\ufffd\\ufffd\\x7f\\ufffd\\ufffd\\ufffdsTM\\ufffdnp\\ufffd\\ufffd\\ufffdV\\ufffd\\ufffd\\x04j\\ufffd\\ufffd\\x14\\ufffd\\ufffd\\ufffdnz\\n\\ufffdY\\ufffd9cS\\ufffdd\\ufffdiL\\ufffd\\ufffd\\x06\\ufffd\\ufffdU\\ufffd\\n\\ufffd\\ufffd\\x1e\\ufffd\\ufffdd\\ufffd\\ufffd5+\\\\D\\x03\\ufffda\\ufffdZr\\ufffd\\ufffd\\x00\\ufffd\\ufffd:b\\ufffd\\ufffd!\\ufffd<X\\x18\\x03 \\ufffd\\ufffd\\t\\ufffd\\ufffdS\\ufffdO\\ufffdp2[\\ufffd\\x1e\\ufffd\\ufffd\\ufffd\\ufffd\\ufffdH2\\ufffd\\ufffd`h@A,\\ufffd\\ufffd\\ufffd\\ufffd\\ufffd\\ufffd}\\x00\\ufffd$\\ufffd\\ufffd\\ufffd\\ufffd\\ufffd\\ufffd\\ufffd)I\\ufffd\\ufffd\\ufffd\\x1fCY\\ufffd\\ufffdC\\r\\ufffd\\x10D7\\ufffd\\'\\ufffd\\ufffdO\\ufffd\\ufffdR\\x11j\\ufffd@T\\ufffd\\ufffdj\\ufffd\\ufffd\\ufffd\\ufffd&\\ufffdod\\ufffd\\ufffd\\ufffd\\\\\\x10|\\ufffd\\x1dqO\\ufffd\\ufffd\\ufffd\\ufffd\\ufffd\\ufffd:\\ufffdh\"\\'w\\ufffdrGU\\ufffdf\\ufffd\\ufffdoC\\x19\\ufffd\\ufffd\\ufffd5JK\\ufffd\\ufffd|\\ufffd\\ufffd\\x13K\\ufffd\\ufffd^:T4\\ufffda\\ufffd\\ufffd\\x14\\ufffd\\x11i\\x10.\\ufffd\\ufffdH\\ufffd!\\ufffd\\x1eN*\\ufffd\\ufffd\\ufffd0G\\x1cK\\x08i\\ufffd\\ufffd\\ufffdv5\\ufffdg*\\ufffd=\\ufffd<C\\x08\\ufffdC\\ufffd\\ufffd\\ufffd9V\\x1b\\ufffd\\ufffd\\ufffd]\\ufffdC\\ufffd\\x06\\ufffd]\\x00j\\ufffd\\ufffdE#\\ufffd\\ufffd\\ufffd\\ufffd\\ufffd\\ufffd8\\x15N\\ufffdI\\ufffd\\ufffd\\x12\\ufffdyk\\ufffd55\\ufffd0\\ufffd\\ufffd\\ufffd\\ufffd\\ufffd\\ufffd\\ufffd,\\ufffd\\ufffd\\ufffd&\\ufffdR_CZ\\x08\\ufffd4\\ufffdS\\ufffd\\x13\\\\\\ufffd\\ufffd\\ufffd\\n\\ufffd\\ufffdQ\\ufffd0\\ufffd\\ufffd\\x03\\r\\ufffd\\ufffd\\ufffd\\ufffd\\ufffd ky\\x0cd\\x03\\ufffd\\ufffd\\x1d\\rf\\\\M\\ufffd\\x0b@\\ufffd0\\ufffd\\x0b\\ufffd\\ufffd{\\ufffd\\ufffd\\ufffd\\ufffd\\ufffd}\\ufffd\\\\\\ufffda\\ufffd\\ufffd\\ufffdd\\ufffd\\ufffd\\ufffdXI\\ufffd\\ufffd\\x01\\x1d:P3S\\ufffd\\ufffd\\ufffd\\ufffd\\ufffdpRY\\ufffdm\\ufffd\\x00{U\\ufffd\\x15j\\ufffd\\ufffd\\x17p\\x18X8\\ufffd\\ufffd\\ufffd\\ufffdfK\\ufffd\\ufffd\\x07\\x14\\ufffdA\\ufffd<\\ufffd\\x11|\\ufffd\\x12\\ufffd\\ufffd\\ufffd\\ufffd\\ufffd\\ufffd\\x1f\\ufffd\\x17\\ufffd\\ufffd\\x19\\ufffdb\\ufffd\\ufffd\\ufffdzw\\ufffd\\ufffdl\\ufffdE\\ufffd#\\ufffd_\\ufffd\\ufffd\\x06\\ufffd\\ufffd\\x06\\ufffd]?\\ufffd\\ufffdS\\ufffdWW\\t{\\ufffd \\ufffd?\\ufffd\\ufffdo\\ufffd\\ufffd%\\ufffdJ\\x13N\\ufffdf\\ufffdl+\\ufffd\\ufffd]v\\ufffd\\ufffdZY\\\\<\\ufffd\\ufffd]\\ufffd\\ufffd\\x1e\\ufffd\\ufffd\\x10jdHmbN\\ufffd\\ufffd\\ufffd]#!d\\ufffd\\ufffda\\ufffd\\x15Fvh$\\ufffd\\x0b\\ufffdd\\ufffd\\ufffd\\ufffd\\ufffd\\ufffd\\ufffd;(\\ufffd\\ufffd\\ufffd!\\ufffd1\\ufffdD\\x01\\ufffd+Lf+NO\\ufffd\\ufffd\\x07\\ufffd\\ufffd*\\ufffd\\ufffd4vFD\\ufffd\\ufffd\\ufffd\\ufffd\\ufffd46\\ufffd\\ufffd\\x12\\ufffd3\\ufffd\\ufffdZ\\x1d\\x01=q\\ufffd\\ufffd\\x14R\\ufffdXGu0*\\x0f\"#\\ufffd5\\x0c\\ufffd\\x17\\x13HK+\\x01\\ufffd\\ufffd\\ufffd\\ufffd\\ufffdyn\\x04\\ufffd\\ufffd\\ufffd\\ufffdJ\\ufffd\\ufffd\\x1f\\ufffd\\x03\\ufffd\"zz\\x1a\\x06E\\ufffd\\ufffd\\ufffd5\\x11\\ufffd\\ufffdA\\ufffd\\x0bz\\ufffd\\ufffdX\\ufffd\\ufffdM7\\x10\\ufffd\\x0f\\x06\\x7f\\ufffd\\ufffd\\x08\\ufffd\\ufffd\\ufffd\\x05+3\\x1c0$\\x11R\\ufffd\\x0c3\\ufffd\\ufffd\\x19A\\ufffdV?\\ufffd\\ufffdio<\\'\\ufffd\\ufffd\\x00\\ufffd.WR_\\ufffd\\ufffdan\\ufffd\\ufffd$?\\ufffdP[\\ufffd\\ufffd\\ufffd\\ufffdIS1\\ufffd\\ufffd\\ufffd\\x1fv\\ufffd\\ufffdK\\ufffd\\ufffd@\\ufffdr\\x0c\\ufffd\\ufffd\\ufffd\\ufffdj\\ufffd\\ufffd\\ufffd;\\ufffd\\nYv\\ufffdvy?Z\\x04R\\ufffd\\ufffd\\ufffd\\n\\ufffd\\ufffd>\\ufffd\\ufffd\\ufffdZ\\ufffdo\\ufffd\\ufffdN9\\x15r!m\\x011\\x14\\ufffdS\\ufffda\\ufffdM\\ufffd\\ufffd\\x1f\\ufffd\\ufffd\\ufffdN6\\ufffd\\ufffd=E\\x00>\\ufffdcP$\\ufffd\\n\\ufffd\\ufffd\\ufffd\\x18+\\x1d\\ufffdp\\ufffd\\ufffd\\ufffd\\x1a`\\x1a,3\\x0c\\x0e*+}.y\\ufffd\\ufffd\\ufffdE\\x10\\ufffd\\ufffd\\ufffd\\x0c\\ufffd\\ufffd\\ufffdB\\x17\\ufffd\\ufffd=kL\\x1b\\ufffd\\ufffd\\x05\\ufffd\\ufffd\\ufffdH\\ufffd\\nq\\ufffd\\ufffd\\ufffdqMkd6\\ufffdB\\ufffd\\ufffd\\ufffdZH3M\\ufffd\\ufffd\\ufffd\\x1dR7iH\\ufffdG\\ufffd\\ufffd\\ufffd\\ufffd\\ufffd!\\x04S-\\ufffd\\x06\\\\%\\ufffd\\ufffd\\x1d\\ufffd\\ufffdq\\x1b\\ufffd\\ufffd4@\\ufffd\\ufffd\\ufffdqW&\\ufffd\\ufffdk\\ufffd-\\ufffd+o.U?,\\ufffdp\\x08\\ufffd\\ufffd\\ufffdib\\ufffd\\ufffd\\ufffd\\ufffd\\'\\ufffd\\ufffd\\x1fQ\\ufffd\\ufffd\\x01\\ufffd]\\ufffdk\\ufffdB>o\\ufffds\\ufffd\\ufffdj\\ufffd\\ufffd~M\\ufffd\\ufffdp\\t\\ufffd\\ufffdi\\ufffd\\ufffd6\\ufffdz\\ufffd:\\ufffd\\x19\\ufffd\\x085&\\ufffd\\ufffdJ0\\ufffdz{\\ufffd\\x05>\\ufffdS8U\\ufffd\\ufffd\\ufffdS\\ufffd\\ufffd]_\\ufffdZ\\ufffd\\ufffdI\\x14\\x1c\\x16\\x03\\ufffd\\ufffd\\ufffd\\ufffd=Eb.m\\ufffd\\ufffd4\\x01\\ufffd\\ufffd\\ufffd\\ufffd\\ufffd.M3\\ufffd\\ufffdg\\ufffd\\x18\\ufffd\\ufffd\\x16$\\ufffd\\ufffd\\x1diG \\ufffd@\\ufffd\\ufffd$PB\\ufffd\\n\\ufffd)~\\ufffd\\ufffd\\n\\ufffd\\ufffd\\ufffd\\ufffd\\x7f\\ufffd \\x04f\\ufffdh\\ufffd\\ufffd\\ufffd\\ufffd\\ufffd\\ufffd\\ufffd[\\ufffd\\ufffd\\ufffdY\\ufffdN0E\\x02 \\ufffd/\\ufffd\\ufffd\\x00\\ufffdD\\ufffd(\\ufffd\\ufffd\\ufffdPF\\x08#\\ufffd\\ufffd\\ufffd\\x7f\\x0c\\ufffdv\\ufffdV\\ufffd\\ufffd0\\ufffd\\x04\\ufffd\\ufffd\\ufffd\\ufffd\\ufffdmL~}\\ufffd\\ufffd\\ufffdg\\x05e<\\ufffdC#hS[\\ufffdK[\\ufffd-\\ufffd\\ufffd\\ufffd\\ufffd\\x7f\\ufffd=+ \\x12Y\\ufffd\\ufffds\\x0c\\ufffdx-\\ufffd\\x06\\ufffdv\\x02\\ufffd\\ufffda\\ufffdLS\\ufffd\\ufffd=qA\\ufffd>\\ufffd\\x08\\ufffdA\\ufffd*h\\t\\x16F\\ufffd\\ufffdl\\ufffd\\ufffd6!\\ufffd\\x0e\\ufffd\\x0f\\ufffd\\ufffdAk<\\ufffd\\ufffd\\ufffd\\x10\\ufffd\\x00\\ufffdX\\ufffd\\ufffd\\ufffd\\ufffdq\\ufffd.x[\\x18\\ufffd\\rl\\ufffd#jp\\ufffd\\ufffd\\ufffd\\ufffdx\\ufffd\\ufffd\\ufffd\\ufffd_qHE\\\\\\ufffd\\ufffd\\ufffd\\ufffd\\ufffdXd\\x1cT\\ufffdU\\ufffd\\ufffd!\\ufffd\\ufffdi\\ufffd\\x1c\\ufffd\\x08\\ufffdh\\ufffd\\x04\\x1f\\ufffd\\x7fZ\\ufffd#\\ufffdh\\ufffd\\'\\x1c$\\ufffd\\x14\\ufffd\\x17+\\ufffd9\\x1d\\ufffd\\ufffd\\ufffd\\ufffd\\ufffdvbR\\ufffd\\ufffd\\ufffd \\ufffd\\ufffd\\ufffd)\\ufffd\\ufffd)\\ufffdx\\t\\ufffdd9\\x04w\\ufffd\\ufffdEi\\ufffd&\\ufffd\\ufffd\\ufffd\\x02\\ufffd\\ufffd\\ufffd\\ufffd\\ufffd?\\ufffd\\ufffd\\ufffd\\ufffdx\\ufffd\\ufffd\\ufffdjChX\\ufffd\\ufffdXr\\x18u\\x14\\ufffdN\\ufffd\\ufffd\\ufffdg\\x0e\\ufffdn\\ufffd\\ufffd\\ufffdl\\ufffd_\\ufffdSc\\ufffd\\ufffd\\ufffd\\ufffd\\x1b\\ufffd\\x1d\\ufffd\\ufffd\\ufffdt\\t\\x0c~YGF\\ufffd\\ufffd\\ufffdVY\"\\ufffd\\x0e\\ufffd\\ufffd\\ufffd\\ufffdet?\\ufffdZ\\ufffd\\ufffd\\ufffd\\ufffd6\\ufffd\\ufffd\\ufffd[\\ufffd\\ufffd[\\x1c\\ufffd\\ufffd\\ufffd\\ufffd\\x1bW\\ufffd\\x1eqw\\x0c1G\\ufffd#\\ufffdn\\x17=3]\\x00\\x11xs\\ufffdZLZ\\ufffd\\ufffdnonK4\\ufffd\\ufffd\\x0c\\ufffdX\\ufffd.\\ufffd\\ufffd\\ufffd\\ufffd\\ufffd\\ufffd\\ufffd\\ufffd\\ufffd\\ufffdN\\ufffd,\\x7f\\ufffd\\ufffdZ\\ufffdt\\x1dZ\\ufffd\\ufffd\\ufffd\\t\\ufffd\\ufffdw\\ufffdu[A\\ufffd\\ufffd\\ufffd\\ufffd\\ufffd\\ufffdh \\ufffd\\ufffd\\ufffdO\\x12\\x19 \\ufffd~\\ufffd,\\ufffdTK\\x17\\x06\\ufffde\\ufffd\\ufffdIC\\ufffd\\ufffd\\ufffd\\x18\\ufffdv\\t\\ufffd\\ufffdJ\\ufffdo\\ufffdC=\\ufffd\\ufffd\\ufffdA\\ufffdD\\ufffd\\ufffd\\ufffdB\\ufffd`\\ufffd+3[\\ufffd\\ufffdJ\\ufffdD\\ufffd\\ufffd\\ufffd+;\\ufffd\\ufffd{\\x168\\x07\\ufffd\\ufffd\\ufffd\\ufffd\\ufffd\\x05\\ufffdMb\\x1b\\ufffdJ\\ufffd\\ufffd\\ufffd!=\\ufffd\\ufffd\\x1e-\\ufffd\\ufffd\\x03\\ufffdU\\x0b\\x7f\\x16\\ufffd\\ufffd%\\ufffd\\ufffd\\ufffd\\x0c\\ufffd1\\x12+v#\\ufffddO\\x04\\ufffd\\ufffd\\ufffd\\ufffd\\ufffd\\ufffda\\ufffd\\ufffd\\ufffd\\x18\\x7fZ\\ufffd\\x14*\\ufffd\\ufffd\\ufffd\\ufffdI$\\ufffdK1\\x1d\\ufffd\\x0c}\\r\\ufffd\\ufffd\\x10\\ufffd\\ufffdi\\x16\\ufffd\\x16\\ufffd\\x12\\ufffde5\\ufffd\\ufffd\\ufffd#\\ufffd$v\\ufffd\\t\\ufffd\\ufffd\\ufffd\\ufffd8<U/\\ufffdvw3\\ufffd_b\\ufffd\\ufffd\\x1d\\x16\\ufffdc?\\ufffd\\ufffd\\ufffd\\ufffd\\x1d~\\ufffd\\ufffd\\x0e\\ufffdu=\\ufffd\\ufffd\\ufffd\\ufffd\\ufffdD\\ufffd\\x0cb\\ufffd\\ufffd\\\\\\ufffdL,@\\ufffd\\x18\\ufffd\\x01o\\ufffdY\\ufffd\\ufffd\\ufffdnV\\ufffdP=H\\ufffd\\ufffdG\\ufffd\\ufffd\\x01\\x10\\ufffdm\\x19\\'\\ufffdV\\ufffd\\ufffd\\ufffd\\x00P!\\ufffdiX\\x7f\\ufffd\\ufffd\\x14\\ufffdY]\\x11\\ufffd\\ufffd\\ufffd\\ufffd\\x1bs\\ufffdMOd4\\ufffd\\x12\\ufffd\\ufffdK\\ufffd\\ufffd\\ufffd+\\ufffd\\x08\\ufffd\\ufffd5\\ufffd\\ufffd\\ufffd\\ufffd36}Ni\\ufffd\\ufffd8Q@\\x17\\ufffdn4mvY\\x05\\ufffd\\x12X\\ufffd\\ufffd\\ufffd\\ufffd\\ufffdGo\\ufffd\\ufffd\\ufffd\\x06\\ufffd\\ufffdO\\x0eFb\\ufffda\\x1a\\ufffd\\ufffd\\ufffd\\ufffdE\\\\\\ufffd=\\ufffd\\ufffd\\ufffd\\ufffd$|p*\\ufffd\\ufffd\\ufffd\\x7f\\ufffd\\ufffd a4\\x07\\ufffdA/#\\ufffd\\ufffd\\x05\\ufffd\\ufffd\\ufffd/\\x15\\ufffd.|3|,\\ufffd\\ufffd\\ufffd\\ufffdf\\ufffd\\ufffd\\ufffd\\ufffdajq_h2\\ufffd\\ufffd\\ufffdd\\ufffd3\\ufffd\\ufffd\\x1f!\\ufffd\\ufffd\\ufffd\\ufffd\\ufffd\\ufffd\\ufffd\\x00h\\ufffdv\\ufffd\\ufffdL\\ufffda\\ufffd\\ufffd\\x7f\\n\\ufffd\\ufffd\"\\ufffdtx\\ufffd\\ufffd\\ufffd:r\\ufffdX\\ufffd\\x13\\ufffd\\x021\\ufffd\\ufffd\\ufffd\\ufffds\\x10L\\ufffd(em\\ufffdG\\x04Q=\\ufffd\\ufffd6\\ufffd\\ufffd\\ufffdk\\ufffd\\ufffd\\x00\\ufffdWG\\ufffd\"7\\ufffd\\x14\\ufffdcI_\\ufffd\\ufffd\\ufffdW\\ufffd\\ufffd\\ufffd\\ufffd^\\ufffd\\ufffd\\ufffdH\\ufffdW\\ufffd\\ufffd\\ufffdn\\ufffd\\ufffdS\\ufffd[\\ufffdS\\ufffd\\x15\\ufffd\\ufffdu\\x000\\ufffdl\\ufffd\\ufffd\\x18\\ufffd\\ufffd/\\x1e\\ufffd\\x02\\ufffd\\ufffd\\rL\\ufffd\\t\\x00bG<\\ufffd\\ufffd-\\ufffd\\ufffd\\x04q\\x04-\\ufffd\\ufffdx\\ufffdL\\x0c\\ufffd\\ufffd\\ufffd\\ufffd\\ufffdOi\\ufffd\\ufffdr\\ufffd$\\ufffd.\\x14\\ufffd\\ufffdT\\ufffd\\ufffdE\\'\\ufffd}\\ufffd\\x7fs,\\ufffdz\\ufffd\\ufffd\\x08ArY\\ufffd\\x0cl\\ufffd\\x00AO0\\\\J7HD\\t\\ufffd\\ufffdZ\\ufffd\\ufffd\\ufffdd\\ufffd\\x10\\ufffdp\\x0e\\ufffd\\x1c\\ufffdV\\ufffd9\\x1el\\ufffdy\\ufffd\\ufffdv\\x02\\ufffd\\ufffd\\ufffd\\ufffd\\ufffd\\ufffd\\ufffdI\\ufffd8\\ufffd\\ufffd)\\ufffd\\ufffdl\\x17e\\ufffd!\\x14\\x0c\\ufffd*\\x05\\ufffd3\\ufffd\\x1b\\ufffd\\ufffdR P_ p8\\ufffddW7\\x0e\\ufffd\\ufffd\\ufffd\\ufffd\\ufffdQD\\ufffd\\ufffd\\ufffd\\ufffdZ\\ufffd&\\ufffdc\\ufffd\\x00\\x01\\ufffdD\\x11\\ufffda\\x18P\\r+\\ufffd\\ufffdn\\x14|\\ufffd\\ufffdK\\x0c\\ufffd\\ufffd\\ufffd\\ufffd\\ufffdE6\\ufffd-\\ufffd\\x1c\\x0e;UUm\\ufffdFs\\ufffd\\ufffdM1\\ufffdza1Ms\\ufffd1\\ufffd\\ufffd\\ufffd\\ufffd\\ufffd\\ufffd\\ufffd\\ufffd\\ufffd\\x19{w\\ufffd\\ufffd\\ufffdc\\'\\ufffd\\ufffd06\\ufffd7.x7\\x17#o\\ufffd\\ufffd\\ufffd\\ufffd#.\\ufffd\\ufffd\\ufffd\\ufffd#\\ufffdA\\ufffd\\t\\ufffd\\ufffde\\ufffd\"{[+\\ufffd\\ufffd\\t\\x00\\ufffd\\ufffd\\ufffd\\ufffd\\ufffdCj\\ufffdt\\ufffd\\x07\\ufffd\\ufffdV\\ufffd\\ufffd^\\ufffdID\\ufffd\\ufffd\\x0e\\ufffd\\ufffd\\ufffd\\ufffdq\\ufffdG8]\\ufffd\\ufffdK\\ufffd\\x1fQMn\\x0c\\ufffdS?\\ufffd1\\ufffd^\\ufffd~*59\\ufffd\\ufffd8\\ufffdR+\\ufffd\\ufffd|\\x0f\\ufffd\\ufffd\\ufffd\\ufffdM\\ufffdu=\\ufffdV\\ufffde\\ufffd\\ufffd\\ufffd<n8\\ufffd<\\ufffdW\\ufffd\\ufffd\\ufffd&\\ufffd>\\ufffd\\ufffd\\x0f\\ufffd\\ufffd\\ufffd\\ufffd\\ufffdK5\\x00Z\\ufffd`\\ufffd\\x01\\x04\\ufffd\\x1fF\\ufffdK;\\ufffd\\ufffd\\x00\\ufffd\\x00\\ufffd\\ufffd\\x02\\x00 \\ufffd\\ufffd\\ufffd\\ufffdi\\ufffd;\\x1c\\ufffd\\ufffdL\\x01\\ufffdus\\ufffd9\\ufffdIo\\ufffd\\x02N*\\ufffdZ\\ufffd\\ufffd_\\ufffd\\ufffd6\\ufffd\\ufffd5j\\ufffdd\\ufffd\\ufffdh-\\ufffd]\\ufffdU\\ufffd78\\ufffd\\ufffd 3\\ufffd\\ufffd.%\\ufffda\\ufffd\\x07\\ufffdT\\ufffd\\ufffd\\ufffd\\ufffdC\\ufffd_4<\\ufffdx\\x00\\ufffd\\ufffd\\ufffd,\\ufffd\\ufffd\\ufffd\\ufffdg=x\\x03\\ufffd\\ufffd\\ufffd\"X\\ufffd;\\ufffd\\ufffdd\\x7fQH\\r\\ufffd\\x042\\ufffd\\ufffdI\\ufffd\\ufffd\\ufffd\\x1f\\ufffdz\\t\\ufffd\\ufffd\\ufffd\\ufffd\\x7f\\ufffd\\ufffdAW\\x1d\\ufffd\\ufffd\\ufffd\\ufffd\\x02\\ufffd\\x0b\\x00H1\\ufffdn\\ufffd\\ufffd\\ufffd\\ufffd\\ufffdO&\\ufffd\\ufffdS)\\r\\ufffd\\x10\\x0502<ab\\ufffdD\\x16\\ufffd\\x1f\\ufffd\\x07\\ufffd\\ufffdGnk\\ufffd\\x0f\\x15\\ufffd\\ufffd\\ufffd\\ufffdb9\\ufffdk+I\\ufffd@\\ufffdq\\ufffd\\ufffdu\\ufffd\\ufffd~\\\\B\\ufffd1\\ufffdr;\\ufffd\\ufffd&\\ufffd`\\ufffd\\ufffd\\ufffd\\ufffd\\ufffd\\ufffd\\ufffd<\\x00\\ufffd\\ufffd\\ufffd4\\ufffd\\ufffdCg\\x15\\ufffd\\ufffdsJq\\ufffdt\\ufffd\\x0b\\ufffd\\ufffd\\ufffd\\ufffd\\x02Q$\\x1ej\\ufffd\\x01\\ufffd:\\x06\\ufffdT\\x11\\ufffd&\\ufffd\\x18\\ufffdar\\ufffd\\ufffd\\ufffd\\ufffdM\\ufffd\\x04\\ufffd\\ufffd-\\x1a\\ufffdBf\\ufffd\\ufffdDz\\ufffdU\\ufffd\\ufffdt\\ufffd\\ufffd#+\\x04\\x07\\ufffd\\ufffd\\ufffd[$\\ufffd?\\ufffd\\x034\\ufffd\\ufffd\\ufffd\\x08\\ufffd\\ufffd\\ufffd\\ufffd\\t\\ufffd\\x13Q\\ufffd\\ufffd\\n\\ufffd \\ufffd\\x03\\ufffd\\ufffdj\\ufffd\\ufffd\\ufffd\\ufffd.\\ufffd\\x19\\ufffd\\ufffdG\\ufffd-\\ufffd\"\\x00\\x1dN\\ufffd\\ufffd\\ufffd\\ufffd@\\x12I\\ufffd\\ufffd\\ufffd\\x01\\ufffd\\ufffd\\x00\\ufffd*\\tf\\ufffd\\ufffd\\ufffdfv\\ufffdsL,\\x02\\ufffdZV\\ufffd\\ufffd\\ufffdB\\ufffd\\ufffdfLe\\x17\\ufffd\\ufffd!a\\ufffdt\\ufffd7\\x11\\ufffd\\ufffd\\x07\\'?tU=\\ufffd\\ufffdw\\x1c\\ufffdi$\\ufffd\\ufffd\\ufffd\\ufffd~I\\ufffd\\x1a\\x06hZ\\ufffd\\x1b\\ufffd\\ufffd\\ufffd+\\ufffd\\ufffd\\x7f\\ufffd\\ufffd\\ufffd>\\ufffd\\ufffd5\\ufffd\\ufffd\\ufffd1]\\ufffd\\x06X\\ufffd\\ufffd+:P\\ufffdq\\ufffd\\ufffd\\ufffdkk\\ufffd\\ufffd\\ufffdX\\ufffdL\\x16\\ufffdH\\ufffd\\ufffd\\ufffd\\ufffdh\\x10\\ufffd<\\ufffd\\ufffd\\ufffd\\ufffd\\ufffd\\ufffd\\ufffdj\\x15\\ufffd\\ufffd\\ufffd\\ufffdi\\ufffd\\ufffd\\ufffdn\\x0f\\ufffd9cI\\ufffd9\\ufffd\\ufffd\\ufffd&\\ufffd\\ufffd\\ufffd\\ufffd\\ufffd\\ufffd\\ufffd\\ufffd\\x00\\x01\\ufffd\\ufffd@\\x17\"\\ufffd\\ufffd\\ufffd\\ufffd\\ufffd\\x03<\\ufffdt\\ufffd\\x06\\ufffd\\ufffd\\ufffd\\x11\\ufffd\\x1csUm\\t\\x13\\ufffd\\ufffd\\ufffd\\ufffd\\ufffd\\ufffdbx\\ufffdh\\x19\\ufffd\\ufffdE\\x7f\\ufffd}\\ufffd\\ufffd\\ufffd\\ufffd\\ufffdr\\x01\\ufffd\\ufffdBm\\ufffd\\ufffd\\ufffd\\ufffd\\ufffd\\x13\\ufffd\\x0f\\x14\\ufffdT\\ufffdm|m\\ufffd\\ufffd\\x0b\\ufffd\\ufffd\\x1e\\ufffd\\x14\\ufffd\\ufffd\\ufffd\\ufffd\\ufffd\\ufffd>\\ufffd\\ufffd\\ufffdP\\ufffdl5\\ufffdW\\ufffd\\ufffd+\\ufffd\\ufffdW\\ufffd\\ufffd\\ufffd\\ufffd\\ufffdJ>\\ufffd\\ufffd$\\ufffd\\ufffd\\ufffdgE\\ufffd\\ufffdX\\ufffd\\ufffd\\ufffd\\ufffd\\ufffd\\ufffdX\\ufffd\\x170&6\\x08\\ufffd~\\ufffd\\x00\\ufffd.\\ufffd\\ufffd\\ufffdSX\\ufffdj1\\ufffd\\\\<\\ufffdBX\\ufffd\\ufffdZ\\x0b\\x0b\\ufffd2y\\ufffd\\ufffd\\ufffd\\x1ep\\ufffd\\x04V]\\ufffd\\ufffdqk\\x0f\\ufffd\\ufffd\\ufffd\\ufffd\\t!\\ufffd\\ufffd\\ufffd:\\ufffd\\ufffd/\\x10\\ufffd?\\ufffd4\\ufffdZ\\ufffd\\x02;\\ufffd6\\x1c\\ufffd\\ufffd\\ufffdP\\ufffdQ\\ufffdu5\\ufffd-2\\ufffd\\ufffdA\\ufffd\\x7f\\ufffd\\ufffdT\\ufffd\\ufffd\\ufffdq\\ufffdU\\ufffd\\x0b\\ufffd\\ufffd\\ufffd\\ufffd\\x04%\\ufffd\\x062GQ\\ufffd\\ufffd\\x1b\\x07\\ufffd\\ufffd4\\ufffdx\\ufffdz\\x13\\ufffdP\\x05\\ufffd\\ufffd\\ufffd[u\\x1bG=\\ufffdD\\ufffd,1\\ufffd\\ufffd\\x04\\ufffd\\ufffd\\ufffd\\ufffd{j\\x0f)\\ufffd\\'\\ufffd\\ufffdI%\\ufffd\\ufffd\\ufffd\\ufffd\\ufffd\\ufffd[ \\ufffd\\ufffd\\ufffdE\\ufffdc\\ufffd\\ufffd\\ufffdR\\x1e2\\ufffd\\ufffdq\"\\x1c\\ufffd\\ufffd\\ufffde\\ufffdH3\"~\\ufffdG\\ufffd\\x07\\x7fzX\\ufffd\\ufffdOZC\\x1d{d\\ufffd\\ufffd\\x0f{c\\ufffd\\ufffdQ\\ufffd$#\\ufffd\\ufffd\\ufffd\\ufffd\\ufffd\\x17\\ufffdh\\x1bm\\ufffd|0=\\ufffdA\\ufffd\\ufffdKmp\\ufffdv\\ufffdQ\\ufffd\\ufffd\\ufffd\\ufffd\\ufffd\\x7fe\\x16\\ufffd\\x17\\ufffd\\ufffd\\ufffd\\ufffd.W\\ufffd\\ufffd=}\\ufffd\\x02,\\ufffd\\ufffd\\\\\\ufffd/\\ufffdF\\x17\\ufffd[E\\ufffd\\x1b\\ufffd)\\ufffdD\\ufffd\\ufffdY\\ufffdW\\ufffd\\x16\\ufffd]\\ufffd<bXOF\\x15\\ufffd0P\\ufffdum\\ufffd[I\\ufffd\\ufffdO\\ufffd1\\ufffd\\ufffd\\\\\\ufffd)\\ufffd1\\ufffd]`\\ufffd\\x13/\\ufffdL\\ufffd\\x15\\ufffd\\x078\\ufffd8\\ufffdN\\ufffd>\\ufffdr\\ufffd!]\\ufffd2I\\ufffd@\\ufffd\\ufffd%ef\\ufffd\\ufffd\\x04\\ufffd\\ufffdJr\\ufffd\\ufffdnW=i\\ufffd\\ufffd\\ufffd\\ufffd%\\ufffd\\x1b#\\x04\\x1a\\ufffd@29\\x1c\\x0e\\ufffd\\ufffd\\ufffdd\\ufffd{I\\x19I~`F9\\x15\\ufffd\\ufffd\\ufffdMd\\ufffd\\ufffd\\ufffd|\\ufffdC\\ufffdX\\ufffdJ\\ufffd\\ufffd+.\\ufffdqMX\\ufffd\\ufffdp~\\ufffdX\\x13\\ufffd\\ufffdo\\x1f\\ufffd\\x07\\ufffd-\\ufffd\\ufffdg\\'\\ufffdS\\ufffd\\ufffd\\ufffd\\ufffdwP\\ufffd\\ufffdP\\ufffd\\ufffd\\r\\ufffd$|\\ufffdm\\x0f$}*\\ufffd\\ufffd\\ufffd\\ufffd\\ufffd/\\ufffdn\\ufffd\\ufffd\\ufffd\\ufffd\\ufffd\\x06\\ufffd\\x1bya\\ufffd?m\\ufffdA\\ufffd\\ufffd\\ufffd\\x0fu5\\x0fB\\ufffdR<\\ufffd8\\ufffd\\ufffd\\ufffd\\ufffd\\ufffdA\\ufffdw\\x15b\\ufffd\\x07\\ufffd\\ufffd\\ufffdX\\ufffd\\ufffd\\ufffd}KI\\ufffd\\ufffd.\\ufffd\\ufffd\\ufffd\\ufffd\\ufffd\\ufffd\\ufffdc\\x1c\\x06\\ufffd=k\\ufffdYLr\\x18g\\x05%S\\ufffd\\rRw\\x14\\ufffda\\ufffdD\\x1aP\\ufffd\\ufffdw\\x7f\\x11\\ufffdx|\\ufffd\\x1d\\x1b\\x07\\x1e\\ufffd\\ufffd\\ufffd\\x063H\\ufffd\\r\\ufffd3L\\ufffdA\\ufffd\\ufffdd\\x19\\ufffd\\ufffdq\\ufffdx\\ufffd\\ufffdV\\ufffd\\ufffdK\\ufffd\\ufffd\\x0cS\\ufffd\\ufffd\\ufffd\\ufffd\\x1c\\ufffd\\ufffdr\\ufffdE\\ufffdO\\x0f\\ufffd\\ufffd%`ng\"\\ufffd\\t9(\\t\\ufffd>\\ufffd\\ufffd]\\ufffd\\ufffd\\ufffd\\ufffd@F@<\\x0c\\x10\\rf\\ufffd\\ufffd\\ufffdR\\ufffd\\ufffdep\\ufffd\\ufffdz\\ufffdV\\ufffdf\\ufffd\\ufffd\\x15\\ufffd\\ufffd\\ufffd\\ufffd\\ufffd\\ufffd~\\ufffd\\x18ShW\\ufffdc\\ufffdUl\\ufffd\\ufffd\\ufffd\\ufffd=\\ufffdf\\ufffd\\ufffd\\x19\\ufffd\\ufffd\\ufffd\\ufffd=\\ufffd\\ufffdYgbA\\ufffd\\x1d*\\ufffd\\x14\\ufffdA\\ufffd\\ufffd\\ufffd1%P\\ufffd2C\\x13\\x10\\x7f\\ufffd\\ufffd\\ufffdQ\\ufffd2\\ufffd\\ufffd\\x1eS<\\x11\\ufffd\\ufffdb\\ufffd\\ufffd\\ufffd\\ufffd\\ufffd8\\ufffdJ\\'e?+p{R\\x18\\ufffdnsR+g\\ufffdR\\t!\\ufffd\\x1d\\ufffd\\ufffd\\ufffd\\ufffdt4\\ufffd\\ufffd\\ufffd\\x11\\ufffd\\ufffd<P!e\\ufffd)W\\ufffd\\ufffd\\ufffd\\ufffd\\ufffd\\ufffd\\ufffd\\ufffd\\ufffd^K\\ufffd\\ufffd\\ufffd<\\x18\\ufffd\\x19?\\ufffdg\\ufffd\\ufffd?\\ufffd\\ufffd?*\\x00\\ufffd4m7P\\ufffd\\ufffdZ\\x05\\ufffdi\\ufffd\\ufffdrai0\\ufffd\\ufffd\\x05__\\x13_\\ufffdE\\ufffd\\x0f\\x17\\ufffd\\ufffds\\x01;D\\ufffd1\\ufffd\\ufffds\\ufffd+\\ufffd\\ufffd\\ufffd\\x0f\\x0c85~\\ufffd\\ufffdwv\\ufffd}\\ufffd\\ufffd\\ufffd_Zt\\ufffd.[\\x1fZ`\\\\\\ufffdD\\ufffd\\ufffd5\\ufffd-|=*\\ufffdko=\\x0b\\ufffd\\ufffd\\x07=++Q:\\ufffd\\ufffd\\ufffd\\ufffd\\ufffd\\ufffd\\ufffd\\ufffd\\ufffd|exV\\ufffd\\ufffd\\x176v\\ufffd3\\ufffdq\\ufffd\\ufffd.\\ufffd|\\ufffdc\\x04\\ufffd\\ufffd=+Zo\\x17]iZ3\\ufffd\\ufffd\\ufffd\\ufffdy\\x18\\x1f+\\x08\\ufffd#\\ufffd5#9\\x18\\ufffd\\x14\\ufffdd\\x07x\\'\\ufffdZ\\ufffdo\\x15\\ufffd\\ufffd>T\\x04\\ufffd\\ufffdV\\ufffd\\ufffd\\ufffd\\ufffdk\\ufffdr\\ufffd\\ufffdr\\ufffd\\ufffd.\\ufffd>`\\ufffd^B\\ufffdb\\ufffd\\ufffdnu\\ufffd\\x0f\\ufffd \\ufffd\\ufffde\\ufffd\\ufffd83\\ufffd\\ufffd\\ufffd\\ufffd\\ufffd\\ufffd<;\\ufffd\\ufffd\\ufffd\\x15\\x0fR\\x05P\\ufffd\\ufffd\\ufffd\\ufffd\\r\\x13\\ufffdRy\\ufffd>\\ufffdVi\\ufffd\\ufffdQ2\\ufffd\\ufffdp\\ufffd\\ufffd\\x14\\ufffdM \\x19m\\ufffd\\ufffdU\\\\fr\\ufffd\\x0c\\ufffdPA\\ufffdLH\\ufffd\\ufffd8\\ufffdYh\\ufffdAQ\\ufffd\\ufffd0nRv\\ufffd\\ufffdp(\\ufffdZ86\\ufffd\\ufffdd%\\ufffd\\ufffd\\x10N=\\ufffd\\ufffd[6\\ufffd\\x07zd\\ufffd\\ufffd$\\ufffd\\x00\"\\ufffd\\x10\\ufffd\\ufffd\\ufffd\\ufffd\\ufffd#\\ufffd\\ufffd\\ufffd\\ufffd\\ufffd\\ufffd\\ufffd\\ufffd\\x15\\ufffd8>\\ufffd\\x05\\ufffd*\\ufffd\\ufffd^\\ufffd\\ufffd\\ufffd;\\ufffdt\\ufffd$\\t\\ufffd:E\\ufffdG\\ufffdU\\ufffd\\ufffd\\ufffd\\ufffd\\ufffd%s\\ufffd6\\x02I\\ufffd*%iM\\ufffd\\ufffd\\ufffd\\ufffd\\x1eX\\ufffd\\ufffd\\ufffd\\ufffd6\\ufffd,v\\ufffd.#\\ufffd\\ufffd\\x01\\ufffd\\ufffd\\ufffdf^\\ufffd\\ufffd\\ufffdx\\ufffd\\ufffd\\ufffd\\ufffd\\x1d#\\ufffd\\ufffd\\ufffd\\ufffdj;\\ufffd\\ufffdK\\ufffd\\ufffd\\ufffd!\\x02c\\ufffd\\x00}U\\ufffd4\\ufffd\\ufffd\\ufffd\\ufffd\\ufffd\\x06\\'8\\ufffd\\ufffdT\\ufffd\\ufffdK\\ufffd7A\\ufffd\\x06\"\\x15W\\ufffdlG\\ufffdL\\ufffd\\ufffd\\ufffd\\ufffd\\ufffd\\ufffd\\ufffd\\ufffd\\ufffd*\\ufffd2x<\\ufffd\\ufffdj2<G\\ufffd.>\\ufffd\\x0f\\ufffdU\\x03\\x023\\ufffd\\x1e\\ufffd\\ufffdD\\x16`\\ufffdv\\ufffd<c\\ufffdE)\\ufffd\\x10zP\\x1blg\\ufffd\\ufffdi7\\x00\\x074\\ufffd;\\ufffd\\ufffd\\ufffdR!\\ufffd3\\ufffd\\ufffdNjr\\ufffdoN\\ufffd\\x004\\ufffd+\\ufffd\\ufffdV\\ufffd\\ufffd \\x1a\\ufffd\\x00s\\ufffd\\ufffd\\ufffd\\ufffdY\\ufffdFp\\ufffd\\ufffdr\\rX\\ufffdC\\x7fh\\x0c\\ufffd\\ufffdy\\ufffd(\\x01\\ufffd6\\ufffd\\ufffd\\ufffdV~\\ufffd\\ufffd\\x00 ;\\ufffd\\ufffd?\\ufffd]\\ufffd\\ufffd#\\x02\\ufffd\\ufffd\\ufffd\\ufffd\\ufffdv\\ufffd\\ufffd\\x19\\ufffdT\\x01\\ufffd\\ufffdE,\\ufffd/\\x10S\\ufffd\\ufffd`_\\ufffd\\x02\\ufffdt\\ufffd\\ufffd\\ufffd\\ufffd\\ufffdU\\ufffd\\ufffd\\x0eH\"\\ufffd\\ufffd\\x12\\'\\ufffdm\\x11\\ufffd\\x00\\ufffd\\ufffd\\ufffd\\x7f\\n\\ufffd\\ufffd`-\\ufffd\\ufffdr\\ufffdx\\x07\\ufffd(\\x032\\ufffdin\\ufffd\\ufffd\\ufffd \\ufffd9\\ufffdR3[\\ufffd\\ufffd\\ufffd\\x0f\\x0f\\ufffdA\\x02\\ufffda\\x11$\\ufffd\\'5\\ufffdj\\ufffd\\ufffd\\ufffd\\ufffd\\x1a\\ufffd\\ufffd\\ufffd\\ufffd&d\\ufffd\\ufffdt-\\x08\\ufffd\\ufffdzV\\ufffd\\x1eg\\ufffd\\ufffd\\ufffd\\ufffd\\\\\\ufffd\\ufffd([\\ufffd\\ufffd\\ufffd\\ufffd\\ufffd\\ufffd\\ufffd\\ufffdP\\ufffd\\ufffd@6\\ufffd\\ufffd\\x10\\x0fz\\ufffdd\\ufffd\\ufffd\\ufffd\\x7f\\x10\\ufffd^H\\ufffd3er\\r\\x17\\x02\\ufffd\\ufffd\\ufffdj\\x02U\\x1c:\\x03T\\ufffd\\ufffd\\ufffd\\ufffd\\ufffd\\ufffd\\ufffd\\ufffd\\ufffdx\\ufffdEf\\ufffd=Gq\\ufffd\\x00/\\x04\\x10j\\ufffd\\ufffd\\ufffd\\ufffd\\ufffdT\\ufffd4-\\ufffd\\ufffd\\x00\\rU\\ufffd\\x06j\\ufffd\\ufffd\\ufffd\\ufffd\\ufffdnH\\ufffd^]\\ufffd\\x01v\\x1b\\x15Y^\\ufffdr>\\ufffd\\ufffdw\\ufffd\\ufffd\\ufffdsp\\ufffdr\\ufffd\\ufffd\\x1d\\x00\\ufffd\\ufffd\\ufffd\\ufffd)\\ufffd6\\ufffdb\\ufffdF\\x14\\ufffdUV\\ufffd\\ufffd\\ufffd\\ufffd\\ufffd\\ufffd\\x1c\\x1fZc\\x138\\x1c\\ufffd\\ufffd\\x0b\\ufffd\\ufffdA\\ufffd\\ufffd\\ufffd\\ufffd\\ufffd[h\\x1e\\ufffd\\ufffd[\\ufffd\\ufffd\\x07,\\ufffd\\ufffd@\\ufffd\\ufffd|K\\x1co\\ufffd\\\\\\x0c\\ufffd\\x1f\\x11\\x0f\\ufffd5P\\ufffd\\ufffd\\ufffd\\ufffd\\ufffd\\ufffd\\x00\\ufffd79\\ufffd\\ufffd7\\ufffdkq8\\ufffd\\x0e-`\\x1bTz\\ufffd\\ufffdf\\ufffd<\\ufffd\\x06\\ufffd\\ufffd\\x00\\ufffd\\ufffdB\\x11;\\ufffd@\\ufffdH\\ufffd\\ufffd\\x14\\ufffdMXCiz\\ufffd\\ufffdu\\ufffd\\'\\ufffd\\ufffd\\ufffd\\ufffd\\x7f\\ufffd2\\ufffd>[~\\ufffd\\ufffdH\\ufffd:\\ufffd\\ufffd\\ufffd\\x17\\x0cL\\ufffd7C!\\ufffd\\ufffde\\ufffd\\ufffd\\ufffd\\ufffd\\ufffd5\\x1a\\ufffd\\ufffd\\ufffd\\ufffdM:$\\ufffd\\ufffd\\\\\\ufffd\\ufffdk\\ufffd\\ufffd>\\ufffd\\x10\\ufffd\\ufffd\\x10\\ufffd\\'&X@\\x07k\\ufffdA\\ufffd\\ufffd\\x0b\\ufffd?\\ufffd\\ufffdxu\\x14\\ufffdh?w0\\x1d\\ufffd><\\ufffd\\ufffd}\\ufffd\\ufffd\\ufffd/\\ufffd\\ufffd\\ufffd\\x03.\\ufffdi\\ufffd\\ufffd\\ufffd\\ufffd4\\x015\\ufffdX\\ufffd\\x13\\ufffd\\ufffd\\ufffd\\x0b\\x19\\ufffd\\ufffd\\ufffd\\ufffdk{\\ufffd\\ufffd\\ufffd\\ufffd\\ufffdf}j\\ufffd\\ufffdb\\ufffd#\\ufffda\\ufffd@\\x1eX\\ufffd\\x10\\ufffdy\\ufffdN_\\ufffd$\\ufffd\\x10\\ufffd\\ufffd\\ufffd\\x12\\ufffdDa\\ufffdM4\\ufffd\\x03\\ufffd*\\ufffd\\ufffd\\ufffd\\ufffdp0\\ufffdd\\ufffd\\ufffd_oj\\x00-\\ufffd\\x12^G\\x0b\\x03\\ufffd\\ufffdbG\\ufffdu\\ufffd\\ufffd\\x15\\ufffdn\\ufffd\\ufffd\\ufffdI\\ufffd\\ufffdq\\ufffdK\\ufffd5\\ufffd\\ufffd\\x00\\ufffdH\\ufffdr\\ufffd\\t\\ufffdU\\ufffd$6\\ufffdH7K\\ufffd\\ufffdp\\ufffdC\\ufffd@\\x1dU\\ufffd\\ufffd4Y\\x00\\ufffd_yr\\ufffd\\ufffd\\ufffdv\\ufffd\\ufffd\\ufffd\\x0e\\ufffd\\ufffd\\ufffd5\\ufffd\\ufffdS\\ufffdN\\ufffd-\\ufffdF;V<\\ufffd\\'\\ufffd\\ufffd\\ufffd\\ufffd\\ufffdFsV,\\ufffdE\\ufffd\\ufffdk\\x12y\\ufffd}\\ufffd\\x11O` \\x10:R\\ufffd\\x199\\x02\\ufffd\\ufffd\\ufffd\\ufffd\\ufffd4\\ufffdf\\ufffd\\x10n\\ufffd\\ufffdO\\x11\\ufffdv\\ufffd\\ufffd\\ufffd\\ufffdv\\ufffd\\ufffd\\ufffdc~N;\\x1a\\ufffd\\x0c\\ufffd[w\\x16\\ufffd:K\\ufffd\\ufffdO\\ufffd=\\x0f\\ufffd\\x03\\x1b\\ufffd\\ufffd\\ufffd\\ufffd\\ufffd\\x0c\\ufffd\\ufffdW\\ufffd\\ufffd\\ufffd\\t\\ufffd\\x1f\\ufffd\\x0fQ\\ufffd\\ufffd\\ufffdZ\\ufffd\\ufffd\\ufffd\\ufffd1\\ufffd>\\ufffd\\ufffd\\ufffdc\\x04\\ufffd)\\ufffd\\ufffd\\x15uK\\x03o\\ufffd\\ufffd\\ufffd\\ufffd7X\\ufffd\\r\\ufffdvC\\ufffdK\\x05\\ufffd6ET\\ufffd\\ufffd\\ufffd\\ufffd\\ufffd\\ufffd\\ufffd{\\ufffd\\ufffdmu\\x14M\\ufffdK\\ufffd\\ufffd)\\x01_L\\x1fZ\\ufffdyb\\ufffd\\x1d\\ufffd\\ufffdbd\\ufffd\\ufffd\\ufffdIT\\x06\\ufffd\\ufffd\\ufffd\\ufffdg\\ufffd\\ufffd\\ufffd\\x16\\ufffd9GB)\\ufffd\\ufffd\\ufffd\\ufffd{F@\\ufffd\\'\\ufffd\\ufffdZ\\ufffd,\\x00Z]|\\ufffd\\x12}\\ufffd\\ufffd\\x00\\ufffdG\\ufffd\\ufffd[[\\ufffdo\\x1e\\ufffd\\x04\\ufffd*ULL:0\\ufffd\\ufffd\\x05Ps\\x1e=\\x05\\x08\\ufffd\\x07s\\ufffd\\ufffd\\\\\\x1aH\\ufffdFqJyZ\\x04B\\ufffd`$\\x02@\\ufffd)\\ufffd\\ufffd\\x19P\\x7f\\n\\ufffd\\'0\\ufffd\\ufffdh!\\ufffd\\x1c\\ufffd+\\ufffdG\\ufffdx\\x14\\x0c\\ufffd7#\\ufffd\\ufffd\\ufffd\\ufffd\\x05\\ufffd\\ufffd\\ufffd\\ufffd\\x0b\\ufffdF\\ufffd\\ufffd\\ufffd/f\\ufffd\\ufffd\\x05\\ufffd\\ufffd9\\ufffd;\\ufffd\\x01\\ufffd\\x07\\ufffdT\\ufffd\\ufffd\\t\\ufffd\\ufffdsm\\ufffd\\ufffd}\\ufffd\\ufffdV\\ufffd\\ufffdG\\ufffd:n\\ufffd=Z\\x1b\\rg\\ufffd\\ufffd\\ufffd\\ufffd\\ufffd\\ufffd\\x1ed}\\x0f\\ufffd\\ufffdf\\ufffd\\x16\\ufffd\\ufffd4\\ufffd\\ufffd\\x02\\ufffd\\ufffdMv\\ufffd6\\ufffd\\ufffd\\ufffd\\x1d\\ufffd\\ufffd\\x00\\ufffd\\ufffd\\ufffd\"\\ufffd\\x07\\ufffd\\ufffd\\ufffd\\\\\\ufffd=\\r\\ufffd\\ufffd\\ufffd\\ufffd\\ufffd\\ufffd\\ufffd\\\\\\ufffdwb\\ufffd\\ufffd\\x13\\x1eq\\ufffdN\\ufffdY\\ufffdYC\\ufffdk1\\ufffd\\ufffd\\ufffd\\r\\x00\\ufffdf\"\\x0f\\x0c\\ufffd\\ufffdz5\\ufffd\\ufffdq\\ufffd\\ufffd\\ufffdm{h\\ufffdJ\\ufffd\\x08\\ufffd\\ufffd\\ufffdC^s\\ufffd\\r\\x12\\ufffd\\ufffd\\ufffd\\ufffd\\ufffd91#\\ufffd\\x1b\\ufffd\\ufffd\\ufffd\\ufffd\\x1a\\ufffd\\x195\\ufffd\\ufffd\\ufffd\\ufffd\\\\M\\ufffd\\ufffd|\\ufffd\\ufffd\\x1d\\ufffd\\x0b\\x0b\\ufffd\\ufffd\\ufffd\\x058\\ufffd\\ufffd\\ufffdII\\ufffd\\x06rk\\x17Y\\ufffd\\ufffd\\ufffd>\\ufffd}\\x0c\\x0f\\x15\\ufffd0m\\ufffd;F\\ufffd\\x0e{\\ufffd\\ufffdC\\ufffd\\ufffd\\ufffd\\ufffd\\ufffd(%\\ufffd\\ufffd\\ufffd\\ufffd;[\\ufffd\\ufffd;XMX\\ufffd\\ufffdu\\ufffdx\\ufffd:\\ufffd\\ufffd\\ufffd\\ufffd\\ufffd\\ufffd\\x16\\ufffd}k\\x7fa\\ufffd\\ufffd\\x1d\\ufffd\\ufffdp\\ufffd\\x13.\\ufffd\\ufffd\\x01\\ufffd\\x15m~\\ufffd\\x07\\ufffd\\x14\\x00,\\ufffdc0\\ufffd\\x0cN\\ufffd\\ufffd\\x1c\\ufffd\\ufffd\\ufffd\\x00\\ufffdx\\ufffdhT\\ufffd5\\x1d!$aA\\ufffd\\ufffd\\ufffd\\x00H\\x08jQ\\ufffd \\ufffd\\ufffdRO\\x12\\ufffd\\ufffd\\ufffd\\ufffd\\x10\\ufffd\\ufffd\\ufffd4O\\x12\\ufffd\\ufffd\\ufffd\\ufffd\\ufffd\\ufffd %n\\x0e\\x1a#\\ufffd\\ufffdJ(\\ufffd)\\r\\ufffd1\\x01\\ufffd\\ufffdL\\x17>p\\ufffd\\\\\\x0cvZa^A\\ufffd \\ufffd\\ufffd\\x03%2B\\ufffd\\x10I\\ufffdz<\\ufffd\\ufffd\\x00{S\\x16Q\\ufffd\\ufffd a\\ufffd\\ufffd\\ufffd\\x0b \\ufffd\\ufffd\\x02\\x7f\\ufffdO4\\x08|\\ufffde\\ufffd\\ufffd\\ufffd\\ufffd\\ufffdp\\x7f\\x1a\\ufffd\\x06\\ufffd{o\\x11\\ufffd\\ufffd\\ufffd+\\ufffd\\x120c\\ufffdrq\\ufffdT\\ufffd\\ufffd\\ufffd}\\ufffd\\ufffd \\ufffd\\ufffdu\\ufffd\\ufffd\\ufffd\\ufffd\\x17\\x07\\x10\\ufffd\\ufffd\\ufffd\\x1fx\\ufffd(\\x02\\ufffd\\ufffd\\ufffd}Jo\\ufffd\\ufffdz\\ufffd\\ufffd\\ufffd\\ufffd\\ufffdQl~\\x15\\x7f\\ufffd\\x12\\ufffdoA\\ufffdm\\ufffd\\ufffd3\\ufffd\\ufffd\\x1d\\x04\\ufffd\\ufffd\\ufffd9\\ufffd\\ufffd\\ufffd\\ufffd\\ufffdZ\\ufffd\\ufffd\\x0b@Gc\\ufffd\\x1f\\ufffdh\\ufffd\\ufffd\\ufffd\\ufffdzx\\ufffdk\\ufffd5\"{Jw\\x0f\\ufffd\\ufffd\\x0c\\ufffd\\ufffd\\x00\\x08\\ufffd\\ufffd\\ufffdY\\x0c\\ufffd^\\x1a\\ufffd\\x16W\\ufffd?\\ufffd\\x06\\ufffdG\\ufffdk\\ufffd\\ufffd\\ufffd\\x1d{A\\ufffd\\ufffd\\ufffd\\ufffd=\\ufffd\\ufffd\\ufffd\\ufffd\\x01\\ufffd\\ufffd5\\ufffdw\\ufffdx{Q\\ufffd\\ufffd\\ufffd\\ufffd}&\\ufffd\\ufffd\\x1bd\\ufffd\\ufffd\\ufffd\\ufffd\\t\\ufffd\\ufffd\\ufffd\\ufffd\\x00[\\ufffd\\ufffdcS\\ufffd\\x1d%\\ufffds\\ufffd\\ufffd\\ufffd\\ufffd\\x1c\\ufffd\\ufffd[\\ufffd+\\x0c\\ufffd\\ufffd\\ufffd\\ufffd\\ufffds\\'\\x07\\ufffd\\ufffd\\ufffd\\ufffdx\\'\\ufffd\\ufffd*\\ufffdN\\ufffd\\ufffd\\x11\\ufffdyd\\ufffd@\\ufffdX\\ufffd\\ufffd\\x04\\ufffd\\x06\\ufffd\\ufffd\\ufffd\\x03S\\ufffd\\ufffdG\\ufffd?x\\x07\\ufffd\\ufffd\\ufffd\\x08\\ufffd\\ufffdw\\x19\\ufffd \\ufffd\\ufffd\\ufffd$\\ufffd`\\ufffd\\ufffdj\\ufffdW\\ufffd/>\\ufffd80\\ufffd\\x071\\ufffd0G\\ufffd],\\x02\\ufffd\\ufffdR\\x18\\ufffd\\x1f\\ufffdr:\\ufffdk\\ufffd\\ufffd\\ufffd\\x18Q\\ufffdu\\ufffd\\x00\\ufffd\\ufffdw\\x1c\\x0c\\ufffd[\\ufffd\\ufffdU\\ufffd\\x02\\ufffd\\x08\\ufffdJ\\ufffd\\ufffd\\ufffd#\\ufffd\\ufffd\\ufffd\\ufffd}:\\ufffdybmS\\ufffd*IqppGaZv.\\x15\\ufffd\\x18\\ufffd\\ufffd\\ufffd\\x00*\\ufffd8\\ufffdH%\\ufffd\\ufffd\\ufffd\\ufffd\\ufffdzrk&\\ufffd--\\t \\ufffdk8\\x0c\\x12\\ufffd\\ufffd\\t\\x03\\ufffd\\ufffd\\ufffd\\x0f\\ufffd^\\ufffd\\ufffda!\\ufffd\\ufffd7\\ufffd:\\x11L\\ufffd{{H\\x08\\ufffd\\ufffdH\\ufffd&1N\\ufffd\\ufffd\\ufffd\\ufffd\\ufffd\\ufffd\\x1cC\\x14\\x01\\ufffd\\x1e\\ufffdQ\\ufffd\\ufffd\\ufffdS\\\\\\ufffd\\ufffd\\x16j\\x18\\ufffd\\ufffd\\x0f\\ufffdUd\\x18;\\ufffd\\rX\\ufffd\\ufffd\\ufffd\\ufffd\\ufffdr\\x0f g\\ufffd\\ufffdY\\ufffd\\'\\'\\x02\\ufffd[\\x12BX\\x15\\x19\\ufffd\\x0b\\ufffd\\ufffd\\ufffd\\x18\\ufffd\\ufffd\\ufffd\\ufffd,:dg\\x157\\ufffdO\\ufffd\\ufffd-1\\x14\\x12\\x16\\ufffd\\ufffd\\x0e;\\ufffd\\ufffd$\\ufffd$\\ufffd\\x15s \\x04\\ufffd\\x0f\\ufffd\\ufffd\\ufffdB\\ufffd\\ufffd\\ufffd\\x0e\\ufffd\\ufffd\\ufffdq\\x11Y7\\x1f\\ufffd\\x17\\x15{T\\ufffd\\ufffd\\x0f\\ufffd1_\\ufffd\\ufffdl\\ufffdD\\ufffdF\\x1f0\\ufffd*\\ufffd\\ufffd\\x15\\ufffd\\ufffd@<\\ufffd\\ufffd\\ufffd@\\x14T\\ufffd\\ufffd\\x1fZ\\ufffd\\ufffdI:u\\ufffd\\ufffd\\ufffd\\ufffd\\ufffd\\ufffdX\\x08R\\x14\\ufffd\\ufffdY\\ufffd\\ufffd\\ufffd\\ufffd\\ng=J\\ufffd\\x00Z\\x06ohx\\ufffd\\ufffd\\ufffd\\ufffdO\\x08\\ufffd\\ufffdV\\ufffd\\ufffd\\ufffd\\ufffd{\\ufffd$\\ufffd\\\\`\\ufffd\\ufffd6\\ufffd\\ufffd\\ufffd\\ufffd\\ufffd\\ufffd\\ufffd\\ufffdZ\\x15f\\ufffdn\\x05^\\ufffd7}\\ufffd\\ufffd\\ufffd\\ufffd\"\\ufffd\\ufffd\\ufffd\\ufffdC\\ufffd\\ufffd\\ufffdG\\ufffd>\\ufffd\\ufffd\\ufffd\\x00\\x12\\ufffd\\x00\\ufffd\\ufffd6\\ufffd\\ufffd\\x1b`\\ufffd\\x7fJ\\ufffd\\ufffdQ\\'\\ufffd\\ufffd\\ufffd\\ufffd\\x1c\\ufffdeU$\\x7f\\ufffd+\\ufffd\\ufffd\\ufffd\\ufffd\\x17\\ufffd;H\\ufffd\\ufffd\\ufffd\\x01\\ufffd\\ufffd/\\ufffd\"\\ufffd\\ufffdEo\\ufffd\\ufffd\\ufffd<\\ufffd-/0\\x7f\\ufffds]\\x05\\ufffd\\ufffd}\\ufffd/\\ufffd\\ufffd\\x1fj\\x06&\\ufffd\\x03X\\ufffd\\ufffd\\x06\\x1c\\ufffd1\\\\|\\ufffd\\ufffd\\ufffd\\ufffdo^\\ufffdnt\\ufffd\\ufffdQ\\ufffd\\ufffd\\ufffdX#tQ\\ufffd@\\x12\\ufffd\\ufffd\\ufffd\\ufffd\\x00E\\x0b\\ufffdL-\\ufffd\\ufffd\\ufffdS\\ufffd*\\ufffd\\ufffd\\ufffdk\\x12XZ\\ufffd\\ufffd\\ufffd\\ufffd\\ufffd\\ufffdid\\x0b\\ufffdZI\\n\\ufffd\\ufffdr\\x0c\\ufffd\\ufffd\\ufffd\\ufffd\\ufffd\\x17\\x12\\x06\\ufffdO4\\x01)\\ufffdq\\ufffd\\ufffd[M\\x14\\ufffd\\ufffdi\\ufffd?\\ufffd\\ufffd\\ufffda\\ufffdpi\\x02\\ufffd8\\x1dE\\x00>\\ufffd\\ufffd\\ufffd\\ufffd\\x19>v;T\\x0e\\ufffd\\ufffd&\\ufffd\\ufffd\\ufffd=\\ufffd\\x1c\\ufffd\\ufffd3;\\x0f\\ufffd\\x1e\\ufffd\\ufffdi\\ufffd\\ufffd\\x1bL\\x03O\\x08\\ufffd\\ufffdn\\ufffd\\ufffd\\ufffd\\ufffd\\ufffd\\ufffd3\\ufffd)\\ufffd\\ufffd\\ufffd\\ufffd\\x04B\\ufffdE\\x02\\ufffd\\ufffd\\ufffd\\rf\\ufffd\\ufffdVq\\ufffd\\ufffd\\ufffd\\ufffd\\ufffd\\ufffd\\x00?+@\\x17\\ufffd,\\x1by\\x13\\ufffd\\ufffd1\\ufffd\\ufffd\\ufffdiZ\\ufffdR\\ufffd\\ufffdd\\x08\\ufffd\\ufffdlz\\x13ZZY[3 G\\ufffd2\\ufffd v\\ufffd\\ufffd\\x00c\\ufffd\\\\4\\ufffd\\ufffd\\ufffd\\ufffd\\ufffdd\\ufffdv4\\x01n\\ufffdQ\\ufffd\\ufffd\\ufffd\\ufffdp\\ufffdF\\ufffd\\x04\\ufffd\\ufffd\\ufffd\\x1a\\tm%1L9\\ufffd}j[\\ufffd\\ufffd\\ufffd\\ufffd\\ufffd\\ufffd\\ufffd\\ufffd \\ufffdE\\ufffd\\ufffd\\ufffd\\ufffd\\ufffdW\\ufffd\\x01\\ufffd\\x00\\ufffdR\\ufffd\\ufffd\\ufffd\\x16\\x02%o,sW\\ufffdO\\ufffdi\\ufffd\\ufffd\\ufffd\\ufffd\\ufffds\\ufffdP[Y<z\\ufffd\\ufffd\\ufffdq\\r\\ufffd\\ufffd{1\\ufffd\\ufffdv\\ufffd\\ufffd\\ufffd{\\ufffd\\x07\\ufffd\\x00h]\\ufffd\\ufffdh\\ufffd\\ufffd\\ufffd76\\ufffdW\\ufffd\\ufffd\\ufffd.\\ufffd..\\ufffd \\ufffd?^*\\r6\\ufffd[\\\\I\\ufffd\\ufffd\\ufffde\\ufffd\\ufffdh\\x19\\ufffd\\ufffd\\ufffdT\\ufffd\\r\\ufffd\\ufffd\\ufffd\\ufffdu\\ufffd\\ufffd\\ufffdk\\ufffd\\x03\\ufffd8aUY\\ufffd\\x1b\\ufffd\\ufffdG\\x15\\ufffd\\x7f\\n\\ufffdYJ\\ufffd7n\\x00\\ufffd\\x1dk\\ufffd\\ufffd\\ufffd\\ufffd\\ufffdyr\\x1cz\\ufffd4\\x08\\ufffdb\\ufffd\\ufffd\\ufffd\\x13\\ufffd\\ufffd\\ufffd\\ufffd\\ufffd^\\ufffdI\\ufffd\\ufffd|\\ufffd\\ufffd4\\ufffd+C4Lz+\\x0c\\ufffd*[\\ufffd\\ufffdI\\ufffd\\ufffd]\\x07#\\ufffd\\ufffd\\x01\\ufffd3:\\ufffd\\ufffdw\\x15.\\ufffd\\ufffd\\ufffd\\ufffd\\ufffd$\\ufffdCq\\ufffdj\\ufffd\\ufffdX\\ufffdO\\ufffd\\ufffd\\ufffd\\n\\ufffd\\ufffd\\ufffd\\ufffd\\ufffd\\ufffd\\ufffd\\ufffd\\ufffd\\ufffd\\ufffd\\ufffd\\t\\ufffd\\ufffd\\ufffd\\x1c\\x1a\\ufffd\\ufffd\\x02\\ufffd\\ufffd\\ufffd\\ufffdR)\\ufffd\\ufffd\\x05\\ufffd1\\x14\\ufffd\\x15e98\\x14\\ufffd\\x1e\\ufffdiQ\\ufffd\\ufffd~\\ufffd\\x1f\\ufffda\\x19-?\\ufffd\\x14\\ufffd,W0O\\x18\\ufffd\\ufffd\\ufffdH?\\ufffd\\ufffdO\\ufffdQ\\ufffd\\ufffd\\x00\\ufffd6\\ufffd\\ufffd\\ufffdkd\\ufffd\\ufffd4\\ufffd\\x1f/I\\ufffd\\n\\ufffd\\x16\\ufffd<V^\\ufffdy\\x06\\ufffd\\ufffd[Kk\\x07\\ufffd|\\ufffd\\ufffd5\\ufffd\\ufffdR\\x04M\\x1aL\\ufffd\\ufffd\\ufffd\\ufffd\\ufffd6\\ufffd\\ufffdun\\ufffdf\\ufffds\\x13\\x7f\\ufffd\\ufffd\\ufffd\\x00\\t\\ufffd\\ufffdw#\\x18\\ufffdJ\\ufffd*\\ufffd>q\\ufffd\\x14\\\\e&\\ufffd]:i,/G\\ufffd\\ufffd\\ufffd9;\\x11\\ufffd[\\x1aE\\ufffd\\ufffdK\\ufffd\\ufffdY\\ufffd\\x1c\\x11\\ufffd\\ufffd#\\ufffd\\ufffd\\ufffd\\ufffd\\ufffd\\ufffd\\x1bI\\ufffd\\x0e\\ufffd\\ufffd\\ufffd\\ufffd\\ufffd\\ufffd\\ufffdxin\\ufffd\\ufffd\\ufffd\\ufffd\\ufffdR$\\ufffd*c\\ufffd\\ufffd\\ufffd\\ufffdU\\ufffd6\\ufffd]\\ufffd\\ufffd\\ufffd,\\n\\ufffdX\\ufffd\\ufffd\\x16\\ufffda\\ufffd\\ufffd\\x170\\ufffd\\ufffd\\x1cz\\x1fz\\ufffd9\\x19X\\ufffd0+ \\ufffd\\ufffd\\ufffd\\ufffd\\t\\ufffdehIU\\x16X\\ufffdC#\\ufffdN\\ufffd\\ufffd\\ufffd\\x19\\x14\\x1a\\x00\\ufffd\\x0f/\\ufffd\\ufffdLF\\x12I,\\ufffd\\ufffd<\\ufffd\\ufffdL8\\ufffdf]\\ufffd\\ufffd\\ufffd\\ufffdi\\ufffd#\\x12\\ufffd\\ufffd\\ufffdw\\x14\\x00\\ufffd\\ufffd\\ufffd4\\x16G$\\\\\\ufffd\"$\\ufffd\\x06\\ufffdyu\\ufffd\\ufffd\\ufffd\\ufffd.\\ufffd4\\ufffd\\ufffdO\\ufffd\\ufffd\\ufffd\\ufffd\\ufffd\\ufffd\\ufffd\\ufffdk\\ufffd\\ufffd]m\\ufffdE\\ufffd\\x03\\ufffd\\ufffdV\\ufffd\\ufffd\\ufffd&\\ufffd\\x13K\\ufffd\\ufffd\\ufffdM\\ufffd+x\\ufffd\\ufffd\\ufffd\\ufffd\\ufffd\\ufffd\\ufffd\\ufffd\\ufffd\\ufffd\\ufffdq\\ufffd\\ufffd\\x07]\\x1bL\\ufffd[t\\ufffdP\\ufffd\\ufffd\\ufffd\\ufffd\\x14w:t\\ufffdz\\ufffd1$R\\ufffd\\ufffd\\ufffd\\x13\\x0e9\\ufffd\\ufffd\\ufffd3x\\ufffd+\\x1b\\ufffd\\ufffd\\ufffd\\x0f\\x0bO\\x1c\\ufffd\\ufffd\\x1b\\ufffd\\x04?\\ufffd\\ufffd\\ufffd\\ufffd\\ufffd\\ufffd\\ufffd\\ufffdm\\x02K+E\\ufffd92\\ufffd\\ufffd\\x1d\\ufffdS\\x04\\ufffdV\\ufffd\\ufffd\\ufffdN\\ufffd\\ufffd\\x16\\ufffd\\ufffd\\ufffd\\ufffd\\ufffdTuATc\\ufffd\\ufffdh\\ufffd\\x02H5\\ufffdR\\ufffd\\ufffd\\x11\\ufffdyg\\'\\ufffdi/\\ufffd/#\\ufffdk\\x02\\ufffdF\\x17:\\ufffd\\ufffd\\ufffdi\\x0b\\ufffd\\ufffdy\\x01\\ufffd\\ufffd\\x14]\\x14\\ufffd\\ufffdm\\x041)Em\\ufffd\\ufffd\\ufffd\\ufffd\\x10\\rp\\ufffdJ\\ufffd\\x03\\ufffdj\\ufffd\\x102E\\ufffd\\ufffd\\x1d\\ufffd\\x1d\\ufffdR\\ufffd&\\ufffd\\ufffd\\ufffd\\x14\\x12H\\ufffdb\\ufffd\\ufffdb\\x0e\\ufffd\\ufffdw\\ufffd\\ufffd\\ufffd\\ufffd}\\ufffd\\ufffd\\ufffd)\\ufffd\\ufffdMJ\\ufffd\\x18\\ufffd\\x13+\\ufffd\\ufffd\\ufffd\\x02}\\r\\x00Ct\\x01\\ufffd\\ufffd=\\ufffd\\ufffd\\ufffd\\ufffd\\ufffd\\ufffd;\\ufffd`\\ufffd$\\ufffdx\\ufffd\\ufffd\\x1al\\ufffd\\ufffd\\ufffd}\\ufffdD@\\ufffdE\\ufffd\\ufffd\\ufffd\\ufffd\\ufffd$\\x10\\ufffd\\ufffd\\ufffd\\ufffd~\\ufffd,\\ufffd\\ufffd\\ufffd\\ufffd\\ufffdU+\\ufffd\\x13P\\ufffd\\ufffdx2\\ufffdh\\ufffdZ\\x1f\\ufffd\\ufffd\\ufffdT\\ufffdy\\ufffd\\ufffd\\ufffd\\ufffd\\x08r\\ufffd\\ufffd\\ufffd\\ufffdkX\\ufffd\\ufffd\\ufffd\"\\ufffd\\ufffd\\ufffd\\'H\\ufffdW\\ufffd\\ufffd\\ufffd\\ufffd434K\\x1b\\x1e\\ufffd#\\ufffd\\ufffd\\ufffd}\\ufffdpGB+\\ufffd\\ufffd\\x00\\ufffdmu=8O\\ufffd5\\ufffd\\ufffd\\ufffd\\ufffd\\r\\ufffd7\\ufffd\\ufffd\\ufffd?\\n\\ufffd\\ufffd|~u\\ufffd\\ufffd\\ufffdrx0\\ufffd\\x02\\ufffd\"\\x18\\ufffde\\ufffd\\ufffd4\\ufffd\\ufffd\\x04\\ufffds\\x02\\x18{\\ufffd\\ufffdkWWq\\ufffd\\r\\ufffd\\ufffd?\\ufffd\\ufffd\\ufffdK\\ufffd\\ufffd`\\ufffd\\ufffdJ\\ufffd!*z\\ufffdj\\ufffd\\ufffd\\ufffd\\ufffd\\x12\\ufffd\\ufffd\\x0f\\ufffd\\ufffd+\\ufffd\\ufffd\\x1c\\ufffdX\\ufffd \\ufffd\\x07aQ\\ufffd\\ufffd\\ufffd\\ufffd\\ufffd\\x03\\ufffdS\\ufffd\\ufffd\\ufffd\\ufffd3\\x04\\ufffd\\ufffdy\\x14\\x00\\ufffdH\\ufffd\\x1c\\ufffd\\ufffd\\ufffdY\\ufffd\\ufffd\\ufffd\\ufffd\\ufffdQ\\ufffd\\ufffd\\x07\\ufffd3\\x0c\\ufffd{E,C$nOQ@`O\\x07\"\\ufffd4o!\\ufffd\\ufffd\\ufffd\\ufffd\\ufffdV\\ufffd\\ufffd\\ufffd\\ufffd)\\ufffd?\\ufffd*\\ufffd\\ufffd<-\\ufffd\\ufffd\\ufffd\\ufffdJ\\ufffd\\ufffd\\ufffdn+1\\ufffd\\ufffd\\ufffd\\x02\\ufffd\\ufffd\\ufffd\\ufffd\\ufffd;\\ufffd\\ufffd\\x1b\\ufffd\\ufffd\\ufffd\\ufffd\\ufffdTn\\x06\\ufffd\\ufffdw\\ufffd5\\ufffd6\\ufffd \\ufffd\\ufffd\\ufffd\\ufffd\\ufffd4\\ufffd@\\ufffd\\ufffd\\ufffd\\ufffd\\ufffd\\ufffd\\ufffd\\'6\\ufffdq\\ufffd\\ufffd\\ufffd\\ufffdm\\x18p\\ufffd\\x1c\\ufffd\\ufffd\\ufffd\\ufffd\\ufffd\\ufffd\\ufffd\\ufffd\\ufffd]wL\\x11\\ufffd\\x7f\\ufffd\\ufffd\\x00\\x1fZ\\x0e\\ufffd\\x7f\\ufffdB\\ufffd\\ufffd\\x17\\ufffdV\\ufffd\\x04\\x1b\\ufffd$\\ufffd\\x7f*,\\x07\\',Wv\\ufffd\\ufffd\\ufffdA%\\ufffd!\\ufffdp\\ufffd\\ufffd\\ufffdN\\ufffdc\\ufffd\\ufffdLu\\x15\\ufffd\\ufffd\\ufffd\\x10\\ufffd%\\ufffdX<G\\ufffd+\\t\\ufffd\\x04\\ufffdX\\ufffd\\ufffd\\ufffd\\\\>\\x07\\ufffd5_6\\ufffd\\ufffd\\x1a\\ufffdI\\ufffd\\ufffd\\x13HYG\\ufffd\\ufffd\\ufffd\\x1c\\ufffd\\ufffd\\ufffd+\\ufffd\\x00\\ufffd\\ufffdf\\ufffdak\\ufffdI!\\ufffd\\ufffd\\ufffd\\ufffd\\x00D\\ufffd\\ufffd8\\ufffd\\x17\\ufffdNc@sr\\ufffd\\ufffd\\ufffd\\ufffdt\\x16V\\x0b\\ufffd\\ufffdX\\ufffdc\"\\ufffd\\ufffd}6\\ufffdQb\\ufffd\\ufffd1\\ufffd\\ufffd\\ufffd\\ufffd8\\ufffd\\x0by\\ufffdU\\ufffd3\\ufffd\\ufffdj\\ufffd\\ufffd\\ufffd\\ufffdPO\\'\\ufffd4\\ufffd.<\\ufffd\\x07\\ufffd]\\x1aQ\\ufffd\\ufffd\"\\ufffd(ML/\\ufffd\\ufffd\\ufffd\\ufffd\\ufffd\\ufffd\\ufffd\\ufffd$q\\ufffd\\ufffd\\ufffd\\ufffd\\ufffdW\\ufffd\\ufffd\\ufffd\\ufffd\\ufffd\\ufffd\\x0188.\\ufffd#\\ufffd5^{\\ufffd\\ufffdr\\ufffd\\x03\\x14\\ufffd\\ufffd@I\\r\\ufffdX\\t\\ufffd\\ufffd\\ufffd\\ufffd\\ufffd\\ufffd\\ufffd\\x08\\ufffd-\\ufffd\\t\\ufffdL\\ufffd\\ufffd\\ufffd\\x13D\\x0e\\ufffdG8\\ufffdb_\\ufffd\\x05\\x03\\ufffd\\x18\\ufffd\\ufffd}D\\ufffd\\ufffdEQ\\ufffdzz\\ufffd\\ufffd\\ufffd\\x13\\x12\\x07SI\\ufffd\\ufffd\\ufffdq\\ufffd\\x1elX\\'#\\nj\\ufffd+\\ufffd\\x07\\ufffd4\\ufffd\\ufffd\\ufffdG5j\\ufffd\\x12nw\\x1e\\ufffd\\ufffd\\x14\\ufffdu\\ufffd\\ufffd\\ufffd\\x19\\ufffd\\ufffdu6\\x0bu\\ufffd\\ufffd\\n\\x0f\\ufffdN\\ufffd U\\x0b\\ufffd.Me\\ufffd\\ufffd?\\ufffd\\ufffd\\ufffdn\\x1c\\ufffd\\ufffd\\ufffd\\ufffd3\\x10\\ufffd\\ufffd\\ufffd5\\ufffd\\ufffdL$\\ufffd\\ufffd\\ufffdG$w\\ufffd\\ufffd@[\\ufffd\\ufffdV\\ufffdA\\ufffdn\\ufffd\\ufffd\\ufffdV\"\\ufffdE_\\ufffd\\ufffd\\ufffd\\x05d\\ufffd\\x04\\x08\\ufffd\\ufffd80/?\\ufffdjY\\ufffd\\ufffd\\ufffdd}\\ufffd\\ufffd\\ufffdBE\\x03Akcmu\\x11\\x19\\ufffd\\ufffd\\n\\ufffdN\\x1a\\ufffd|Wy\\ufffd\\ufffd\\ufffdu\\x07// Vp\\ufffd\\ufffd\\ufffdu\\ufffd\\x0e\\ufffd\\ufffd3\\ufffd\\ufffd\\r\\ufffd\\ufffd\\x01\\ufffdme|\\ufffdFxm\\ufffdD\\ufffd\\ufffd@Gl\\ufffd3\\ufffd\\x02V\\ufffdD\\ufffd\\ufffd\\ufffdZ\\ufffd\\'\\ufffd \\ufffd)be\\ufffdddv\\ufffd\\ufffd\\ufffdw\\ufffdR\\x18\\ufffd\\ufffd\\x1c\\x11\\ufffd\\ufffdYjS\\ufffd\\ufffd$2\\ufffd\\ufffd\\ufffdP#_%bb\\ufffd8\\x19\\x15U\\ufffd\\ufffd\\ufffd\\x17\\ufffd\\ufffd\\ufffd\\ufffd^#=\\ufffd\\ufffd\\ufffdc2`\\ufffd\\ufffd\\x15\\ufffd\\ufffd-\\ufffd\\ufffd\\ufffdJ6(\\x02\\ufffd\\ufffd\\ufffd\\ufffd\\ufffd\\ufffd\\ufffd=\\ufffd\\ufffd\\x023O1)\\ufffd\\ufffdO\\ufffd\\ufffdYO\\ufffd:rM\\x004\\x01\\ufffd\\ufffd\\ufffd\\ufffd(S\\ufffd\\ufffd\\ufffd\\x03\\ufffda8\\x06\\ufffd\\ufffdnG^j\\ufffd\\x12\\ufffd\\ufffd\\ufffd-\\ufffd2\\ufffd?\\ufffd\\x15@\\ufffd\\x1c\\ufffdrr\\x19\\x0e\\x1cr\\r -\\x05\\ufffd\\ufffd\\ufffd\\x08#\\ufffd(\\ufffd\\x00\\'\\x03\\ufffdO\\x13.\\ufffd\\x13\\ufffd\\ufffdr\\ufffd\\ufffd\\ufffd\\ufffd%\\ufffd\\r\\x19\\x0c0\\ufffd\\ufffd\\ufffdD\\ufffd\\x00%\\ufffd8\\ufffd\\ufffdu\\ufffd\\ufffd\\ufffdl\\ufffdGS\\ufffdt\\'\\ufffd\\ufffd?\\x1a\\ufffd\\ufffdfL\\ufffd\\ufffd/\\x14\\\\\\x08]~T\\x1e\\ufffdUf\\ufffd6A\\x15u\\ufffdn\\ufffd=*\\ufffdaz\\ufffd\\ufffdW\\x194S\\ufffd\\ufffd\\ufffdY\\ufffd\\ufffd8\\ufffd\\ufffdZ\\x15\\ufffd\\ufffdD\\ufffd\\ufffd\\x1fZ\\ufffdv\\ufffd\\ufffdz\\ufffdmr\\ufffd\\ufffd\\ufffd\\ufffd\\ufffd\\ufffd\\ufffdN\\ufffdT!s\\x163Z\\x11\\ufffd-\\ufffd\\ufffd,\\ufffd+\\ufffdg\\x05H\\ufffdY\\ufffd\\ufffd\\ufffdi\\ufffd\\ufffd\\x18\\ufffdF\\ufffdj\\ufffd\\ufffd?\\ufffd&&^a\\ufffd\\ufffd\\ufffd\\ufffdh\\x18\\ufffd\\x0b\\ufffd\\ufffd\\ufffd\\ufffd\\x17\\ufffd=(\\ufffd=\\ufffdo/R\\ufffd`\\ufffd\\ufffd\\x00\\ufffduZH\\ufffd\\ufffd\\ufffdy?\\ufffd\\ufffd\\ufffdS\\ufffd]\\x16\\ufffd\\x1d\\ufffdN\\ufffd4D\\ufffd@{\\n\\x00\\ufffd\\x03\\x0b\\ufffdM\\ufffd\\x04\\ufffd\\x1a\\ufffd\\ufffdF\\x1c#\\ufffd\\ufffd\\ufffd[\\ufffd\\ufffd\\ufffd~\\ufffd\\ufffdZ\\\\\\ufffd\\ufffdC\\x0c\\x1e\\x0f\\x07\\ufffdh\\x11@\\ufffd9\\x07s\\ufffd}j\\ufffd\\ufffd\\ufffd\\ufffd\\ufffd\\ufffdq\\ufffdl\\x1bXw0<\\ufffd\\x1a~\\x01\\x15&\\ufffd\\ufffd=Z\\ufffdn\"Y\"\\ufffd\\ufffd\\x1c\\ufffdc\\x16+\\x1d%B\\x03\\x7f\\ufffd\\ufffd9\\ufffd\\ufffd\\ufffd\\x08\\ufffd\"\\ufffdo1A\\ufffdsY\\ufffd$9\\ufffd3/\\x07\\ufffd\\ufffd\\ufffd:\\ufffd\\ufffd\\ufffdB\\ufffd\\ufffdd\\nb.c\\ufffd\\ufffd\\ufffdV\\ufffd\\ufffdM\\ufffd\\ufffd!|\\ufffd \\ufffd#?)\\ufffd\\ufffd\\x18\\ufffd\\ufffd5\\x04\\ufffd\\ufffd\\ufffd\\ufffd\\ufffdh\\x03r\\ufffd\\ufffdJ\\ufffd\\ufffd6\\ufffdZFH\\ufffd\\ufffd/SY\\ufffd\\ufffd\\ufffd\\ufffd{\\ufffdK`\\ufffd\\ufffd!V\\x124c\\ufffd\\ufffd\\ufffd\\ufffd\\ufffd\\x01\\ufffdu\\ufffd(\\x0c,\\x17#\\'\\ufffd\\x036Y\\ufffd\\ufffd\\ufffd\\ufffd0<\\ufffd\\ufffd\\x00[\\x1f\\x7f\\ufffdA\\ufffd\\x15\\ufffd\\r@\\x04\\ufffd\\ufffd\\tb#p\\x1c\\ufffd_j\\ufffd\\ufffd\\ufffd\\ufffd\\\\C\\ufffd-\\ufffda\\ufffd\\ufffd\\ufffdH\\x08&\\ufffd\\ufffd]\\ufffd\\ufffd\\ufffd\\x0eA\\x15\\ufffdgq\\r\\ufffd\\ufffd\\ufffd\\ufffdqv#U\\ufffd\\ufffd\\ufffd\\ufffdx^\\ufffd\\x1e\\ufffdoH\\ufffd\\ufffdTd#yE4 2a\\ufffdH\\ufffd\\x16\\ufffd$1\\ufffd\\ufffd\\x03\\ufffd+Pm\\ufffdT\\ufffd\\ufffdj0\\x0f\\ufffd\\x7f\\ufffdQ\\ufffd*\\ufffd\\ufffd\\ufffd\\ufffd\\ufffd\\ufffdF\\ufffd\\ufffdt\\ufffd\\x00_\\x18\\ufffd=\\ufffdV\\ufffd\\ufffd7\\x11\\ufffd\\ufffdw\\ufffds\\x19\\ufffd;\\ufffd\\x00\\ufffd\\ufffd\\ufffd.\\ufffd.\\ufffd\\ufffd\\ufffd\\ufffd\\ufffd\\ufffd\\ufffd\\ufffdz\\ufffd\\ufffdMV\\ufffd\\ufffd\\ufffd\\x1e\\ufffd\\ufffd\\ufffd\\ufffd\\ufffdw\\ufffd\\x00hUx\\ufffdH\\ufffd\\x1e\\ufffd\\ufffdJ\\x04L\\x15X\\ufffd\\n\\ufffd\\ufffd\\ufffd3_$\\ufffd\\ufffd\\ufffd\\x08\\ufffdWb?0\\ufffd\\x1ao7\\ufffd\\ufffd\\ufffd\\x11\\ufffd\\ufffd\\x05\\ufffd\\x0f*X\\ufffds\\ufffd\\ufffd\\ufffd\\ufffd\\ufffdM^\\ufffd\\ufffd\\ufffdt,\\x1eO2Q(\\ufffd\\ufffd\\x1e\\ufffd\\ufffd\\x10V\\ufffd\\ufffd\\ufffdh#\\ufffd\\ufffd5RH\\x12I\\x00u\\x07\\x1d\\r$1/<W{s1}\\ufffdA\\ufffd\\x0f4\\ufffd|Q,\\ufffd\\ufffd\\ufffdhX\\ufffdd\\ufffd\\x10i\\x1a\\ufffd/JAe\\x00\\ufffd\\x0e\\ufffdq\\ufffdP\\ufffd{\\t\\ufffd\\ufffdd\\ufffd\\ufffd\\t\\ufffd\\ufffd\\ufffd#\\ufffd\\ufffd\\x00s\\ufffd\\ufffdU\\r\\ufffd\\ufffd\\ufffd\\ufffd\\ufffd\\ufffd!O\\ufffdby\\ufffd\\\\\\ufffd\\ufffd\\ufffdb\\ufffd\\ufffd\\ufffd)C\\ufffdbo\\ufffd\\x15Z}:\\ufffdP\\ufffde\\ufffdM\\ufffd\\ufffd\\ufffd\\x193\\ufffd\\ufffd\\ufffd\\ufffd\\ufffd)\\ufffd\\ufffd0\\ufffdw\\x00&I\\x07\\x1c\\ufffdu`c8\\ufffd\\ufffd[:\\ufffd\\ufffd47\\x08\\ufffdI\\ufffdp$\\ufffd\\ufffdU\\ufffd\\ufffd\\x0bJ\\ufffd\\ufffd\\ufffdi\\ufffd\\x19.\\x13\\ufffdbxSA69\\ufffd\\ufffd\\ufffd\\ufffd\\ufffdm\\ufffd\\x18\\ufffd\\x02\\ufffd\\ufffd\\ufffd.\\ufffd\\ufffd\\ufffd/\\r\\ufffd\\ufffd\\ufffd\\x04\\ufffd\\ufffdS\\ufffd\\ufffd\\ufffd*)\\ufffd\\ufffd\\x1c|\\ufffd\\ufffd\\x1c\\ufffd\\x02\\ufffdQ=\\ufffd\\ufffd\\ufffdj\\ufffdo\\ufffd\\ufffd\\ufffd(\\ufffd)\\ufffd\\ufffd\\ufffd\\ufffd\\ufffd\\ufffdA\\ufffdqR\\ufffd[Gk\\ufffd\\ufffdY\\ufffd\\ufffd\\ufffdd\\ufffdu\\t\\ufffd\\ufffd\\x17\\ufffd)\\ufffd?\\ufffdV\\ufffd\\x1a\\ufffd\\ufffd\\ufffdl\\ufffd\\ufffd\\ufffd\\ufffd\\ufffd\\x02 \\ufffd9\"\\ufffd\\ufffd\\ufffdU\\ufffdPi\\ufffd\\ufffdA\\ufffd\\ufffd\\ufffds\\x14\\ufffdX\\ufffd\\ufffd\\x0c\\x00\\ufffd\\ufffd\\ufffd\\x1fz\\ufffd>n\\ufffd\\x00C@\\x16luK\\ufffd\\x08^\\ufffd\\\\\\ufffdi\\ufffd\\ufffdBOO\\ufffd\\ufffd\\ufffd\\ufffdw\\ufffd\\ufffd&\\ufffd\\ufffd\\ufffd\\ufffd\\ufffd\\x1c\\ufffdC\\x1d\\ufffd\\ufffd\\ufffd\\ufffdq\\ufffd\\ufffd\\ufffdi\\ufffd\\ufffd\\ufffd\\ufffd\\ufffd\\ufffd0\\ufffd\\x19\\ufffd\\ufffd\\x08\\ufffd\\x14\\x01\\ufffd\\ufffdg5\\ufffd\\ufffdoc\\ufffd\\ufffd\\x04\\ufffd\\x12\\ufffdDv\\ufffd]C\\ufffd\\ufffd\\ufffd\\ufffdf\\ufffd\\ufffdM\\ufffd$\\ufffd\\x18\\ufffd\\ufffdTw\\ufffd\\ufffd\\ufffd\\ufffd\\ufffd\"\\ufffd\\ufffd\\ufffd\\ufffd\\ufffd\\r\\ufffd\\ufffdaU\\ufffd\\ufffd\\ufffd\\x042l\\ufffd}@\\ufffd\\ufffd\\ufffdX\\ufffd@\\x19\\ufffdJJa\\ufffdJH:\\ufffd\\x0c\\x11F7\\x0e\\ufffd\\ufffd\\ufffd\\ufffd\\ufffd\\ufffd\\ufffdZ\\ufffd\\ufffd5\\ufffdm\\ufffdH\\ufffd\\x06\\x1f\\ufffdR\\ufffd\\ufffd\\ufffdl\\ufffdv\\ufffd\\ufffd\\x18\\ufffd\\ufffdo8\"O\\ufffdh\\x03\\x1a9d\\ufffd\\ufffd[\\x1cz\\x1e\\ufffd(x&\\x1f\\ufffd]\\ufffd\\ufffd\\ufffd\\ufffdUe\\ufffd\\ufffd\\ufffd\\ufffd.\\ufffd\\ufffd\\ufffdo\\ufffd\\ufffd(\\ufffd\\ufffd\\ufffd\\ufffd\\ufffd\\ufffdP\\x04\\ufffd\\x17P\\ufffdH\\ufffdz\\ufffdj\\ufffd\\ufffd\\ufffdMY\\x1e6%[\\x15(\\ufffd\\x1cm\\ufffd<\\x13\\ufffd\\ufffd\\ufffd\\x00O\\ufffd\\ufffdsU\\ufffd\\ufffd}2=\\ufffd\\ufffd\\ufffd\\ufffd!#\\x01\\ufffd\\ufffd\\ufffd\\ufffd\\x0f&E\\ufffd\\ufffd\\ufffdek\\ufffd\\x046\\ufffd\\ufffdn\\x18\\ufffd\\ufffd\\ufffd\\ufffd\\ufffd1\\ufffdZ\\ufffd\\ufffdtmON[\\ufffdFX\\ufffd\\ufffd\\ufffd\\ufffdEl\\x0f\\r\\ufffd\\ufffd\\ufffd\\'\\ufffd\\ufffd\\ufffd\\ufffd\\ufffd\\x1f|\\ufffd\\ufffd\\x10I\\ufffdCG\\ufffd\\ufffd\\ufffd\\ufffdx\\x11\\ufffd\\ufffd=\\ufffdX\\ufffd3$\\ufffd\\ufffd\\ufffd\\ufffd\\ufffd#~\\ufffd\\ufffd\\ufffd\\ufffd\\ufffde6\\ufffd\\ufffd-1\\ufffd#\\ufffd3\\x14r*\\ufffdr1\\ufffd\\ufffd4\\ufffd\\'A\\ufffd\\x16\\ufffde(\\ufffd\\ufffd\\ufffdvh@\\ufffdc8\\ufffdUl<O\\ufffdY/\\ufffd|\\ufffd_Z\\ufffd\\x18\\ufffdr\\ufffd\\ufffd\\ufffdiZV\\ufffd\\ufffd\\ufffd\\ufffd47\\x12\\ufffd\\ufffd4\\ufffd\\ufffd\\ufffd8\\x18\\ufffdKCL\\ufffdq\\ufffd}j\\x18\\ufffd\\ufffd(\\ufffd\\ufffdL\\ufffd\\ufffdFH\\x15\\ufffd5\\ufffd;`\\ufffd\\x1a9D\\ufffd$YF\\x0fQ]&\\ufffd\\ufffd\\ufffd\\ufffd*\\\\Yy\\ufffdT\\ufffd]\\ufffd\\ufffdG\\ufffd\\ufffd\\ufffd\\ufffdi\\ufffd\\ufffd\\ufffd\\ufffdvTG\\ufffd\\ufffd\\x12\\ufffd\\ufffd3\\ufffd\\ufffd\\ufffdi\\ufffdax\\ufffd\\ufffd\\ufffd\\ufffd\\ufffd\\x01\\ufffd\\ufffd\\ufffdT\\ufffdp\\ufffd\\ufffdq[\\ufffd \\ufffd\\ufffd\\ufffd\"4\\ufffd\\ufffd\\ufffd\\x17\\x12\\ufffd\\ufffd\\ufffdO\\ufffdcj\\x00\\ufffd\\x03\\x14\\ufffdc\\ufffd?\\ufffd\\ufffdqFl\\ufffdh\\x0csFS\\x03 T\\ufffd-\\ufffdc\\ufffd^~\\ufffd\\\\\\ufffd\\ufffd\\ufffd\\ufffd\\ufffdv\\ufffdR\\ufffd8Y#f\\ufffd\\x1dM]\\ufffd~\\ufffd\\ufffdS\\ufffdP\\ufffd \\ufffdc\\r\\ufffd\\'4\\ufffd\\ufffd\\ufffd\\ufffdp\\ufffd9\\x1c\\x11\\ufffd\\ufffd)v\\ufffdX\\ufffd\\ufffd,\\x02K\\x1bC\\x10\\ufffd\\'\\ufffd\\ufffd\\ufffde\\ufffd\\x00<\\x0f(T3\\ufffd|\\ufffd\\t\\ufffd\\t\\ufffd\\ufffd\\ufffd\\ufffd\\x17,\\ufffdf\\ufffd\\ufffd\\ufffd\\x12\\ufffd\\ufffdj\\ufffd!\\ufffd\\ufffdV\\x1d=\\ufffd\\ufffd1\\x1c\\ufffdu\\ufffd\\ufffd\\ufffd>\\x1c\\ufffd v\\x1f\\ufffdWM=\\ufffd\\ufffd\\ufffd\\ufffd\"DK\\ufffdX#\\ufffd\\ufffdM}\\ufffdz\\x15\\ufffd\\x0c\\ufffd\\\\\\x0eA\\ufffd\\ufffd]@\\ufffd\\ufffd\\ufffd|\\ufffd.zD?\\ufffdl\\t|\\ufffdB&?\\ufffd\\ufffd\\ufffd\\x08\\x04vv\\x13\\' \\ufffd\\x1eq\\ufffd\\ufffd\\ufffd\\ufffd\\ufffd\\ufffd\\ufffd\\x06\\ufffdF\\ufffdC\\ufffdx\\ufffdG\\\\\\ufffd,\\ufffd\\ufffd\\ufffd\\x17\\ufffd,> \\ufffd\\ufffd#\\ufffd\\ufffdy>\\ufffd\\ufffd\\ufffdV\\ufffd\\x00\\ufffd\\ufffd\\ufffd2\\ufffdZ<\\ufffd\\ufffd\\ufffd?6\\ufffd\\ufffd\\x1c\\x08\\ufffd\\ufffd\\x06\\ufffd\\ufffd\\ufffd\\ufffd\\ufffd\\ufffd\\x1d\\ufffd\\ufffd\\x1e\\ufffdWN\\ufffd\\ufffd\\ufffd}\\ufffd\\ufffd\\ufffdA\\ufffdH}it\\ufffd_\\ufffd\\ufffd\\ufffdT\\ufffdl\\ufffd\\ufffd\\x03\\ufffd\\ufffd\\ufffd\\ufffd\\ufffd\\ufffd=\\ufffd\\ufffd\\ufffdM\\ufffd\\ufffdI\\ufffd\\ufffd\\ufffd\\x06\\ufffdl\\t\\x0c\\ufffd\\ufffd\\ufffd\\ufffd]\\ufffdK\\x1d\\ufffd\\ufffd\\ufffd[\\ufffdT\\ufffdL\\ufffd~\\ufffd\\x0bwQ\\ufffdN\\ufffd\\n$,\\ufffd\\ufffd\\x1cSCE\\x18\\ufffd\\ufffd;G\\'\\ufffd2I\\x1cpI\\ufffdf`\\ufffd\\ufffd\\ufffd4\\ufffd\\ufffd\\t\\ufffd\\x14\\ufffd1VN\\ufffd\\ufffd\\x1eO\\x1d}*6\\'\\x07\\ufffdi\\ufffd;,\\ufffd\\ufffd\\ufffd\\ufffd\\ufffd\\t\\x0e3\\ufffd\\ufffdg\\x07=\\ufffdy\\ufffd\"\\ufffd20Oj\\ufffd \\ufffd\\ufffd\\ufffd2Es\\x1c\\ufffd\\ufffd8q[\\x16\\ufffdEw\\tt\\x03\\ufffd_\\ufffd+\\x0b\\ufffd\\ufffd\\ufffdZ]\\ufffd\\ufffd\\ufffd\\ufffd\\ufffd\\x1cc\\ufffd 4\\x12\\\\L\\ufffd\\\\d\\ufffd\\ufffd\\ufffd3i\\ufffd^\\ufffdB\\x05\\ufffd\\x10\\ufffd\\ufffd\\x1e\\ufffd\\ufffd*\\ufffd\\ufffd\\x14\\ufffd\\ufffdh\\x0c\\x0b\\ufffd\\ufffdZ\\x12a\\ufffd\\nI\\ufffd$\\ufffd\\ufffdB@_\\ufffdL\\ufffd\\ufffd\\ufffdA\\ufffd#1\\ufffdH^\\ufffd-\\ufffd>\\x19\\ufffdWi\\ufffd\\ufffd\\ufffd\\x07\\x19n\\re,H\\ufffd\\ufffd\\ufffdA\\ufffd\\ufffd\\ufffdR\\ufffdK\\ufffdm=\\ufffd7i\\ufffdtp\\ufffd%d\\ufffd\\x14\\ufffd\\ufffd\\\\`\\x12\\ufffd\\ufffd\\x0e\\t \\x0e=i\\ufffd\\ufffdN\\x05X\\ufffd\\ufffd\\ufffd\\ufffd\\ufffd{\\ufffd\\ufffd<\\ufffd\\ufffd\\ufffd\\ufffd;\\ufffdW\\ro7\\x1b\\ufffdS\\ufffd\\ufffd\\ufffd\\ufffd3\\x19\\ufffd\\ufffdV\\ufffd\\ufffd\\ufffdM&\\ufffd\\ufffd\\ufffd\\x12P(\\x19\\x0c\\ufffd\\ufffd\\ufffd\\ufffd\\ufffd\\ufffd5\\ufffd\\ufffd\\x0c\\ufffd\\ufffd\\ufffdRjKi{k\\x13\\ufffd\\x00\\ufffd\\ufffd\\ufffd\\ufffd\\ufffd\\ufffd\\ufffd;i\\ufffd\\ufffd9R!\\ufffdbLt#\\ufffd\\ufffd\\ufffdM\\ufffd}&\\x19\\ufffd\\ufffd\\ufffd\\ufffd\\ufffd##\\ufffd\\ufffd6\\ufffd\\ufffd\\x0b\\ufffd\\x17\\ufffd\\ufffd\\ufffdE\\x04E\\'\\ufffd\\ufffd\\ufffd^\\ufffd\\ufffd\\x19d\\ufffd\\ufffd\\x1be\\ufffd\\ufffdf\\ufffd|=z5}6`\\ufffd-\\ufffd\\'q^\\ufffd\\ufffd\\ufffd\\ufffd\\ufffd\\ufffd\\ufffd\\ufffdZ\\ufffd\\ufffd\\ufffd2\\x05\\ufffdD\\ufffd\\ufffd\\x01\\ufffd\\ufffd\\x06\\ufffd\\ufffd8\\ufffdM\\ufffd\\x1c0l\\ufffd\\ufffdKo(\\ufffd\\ufffdM\\ufffd\\x0fqVt\\ufffd?\\ufffd\\ufffd\\ufffd\\ufffd\\ufffd\\r\\ufffd\\ufffdP\\x06\\x14\\x13\\ufffdRL\\ufffd\\x16\\ufffdd8oJu\\ufffd4wq\\x1cz\\ufffd\\ufffd|\\ufffd\\ufffdHQ\\ufffd\\ufffd\\ufffd\\ufffd\\ufffdF\\x00\\ufffd\\ufffd\\x0c\\x0eOOZx\\ufffd\\ufffd\\ufffd#\\ufffdp\\x0f\\x1e\\ufffd\\x08e\\ufffd\\ufffd4\\ufffd4\\ufffdu^c\\ufffd\\ufffdy\\ufffdVy\\x0cW\\x18#\\ufffdV\\ufffd\\ufffd\\x00\\ufffd\\ufffdS\\ufffd\\ufffd\\ufffd\\ufffd\\ufffdx<S\"\\ufffd\\ufffdJs\\ufffd/\\ufffd\\ufffd\\ufffdi9\\x07\\ufffd4\\ufffd\\x03/4\\x01,\\ufffdy \\ufffd\\ufffd\\ufffd\\ufffd\\ufffd}EM\\ufffd.\\ufffd\\ufffd\\ufffd\\ufffd\\ufffd5V\\ufffd\\ufffdCk1\\ufffd\\ufffd\\x1f\\ufffd\\ufffd\\ufffdj\\ufffd\\ufffd\\ufffd\\x1c\\ufffd\\ufffd/\\ufffd\\ufffd\\x11\\ufffd\\ufffdZ\\x08\\ufffdgr\\ufffd]\\ufffd\\ufffd)&\\x16\\ufffd\\ufffd\\ufffd5[Z\\ufffd\\x1al\\ufffd\\ufffd\\ufffdsc9\\ufffd\\x07\\ufffd\\x1fJ\\ufffd\\ufffd0+\\'9\\ufffd\\ufffd\\ufffd\\x0c\\x1en\\ufffdw\\ufffd\\ufffd\\ufffd\\ufffd\\ufffd\\ufffd\\ufffd\\x1b\\x19A\\'\\ufffd2\\ufffd\\ufffd\\ufffdm\\ufffdO#\\ufffd\\ufffd\\ufffd\\ufffd\\ufffd\\x1b\\ufffdC\\ufffd\\ufffd\\ufffd\\ufffd\\x7f\\ufffd\\ufffd\\x1d\\ufffd\\ufffd\\ufffd+*\\ufffd\\ufffd}\\x06\\ufffd\\tF\\ufffdIxY;\\x1a\\ufffd\\ufffdv\\ufffd\\ufffd\\ufffd\\ufffdm\\ufffd\\ufffd\\ufffd%\\ufffd\\ufffdu\\ufffd\\ufffd\\ufffd\\x11v\\ufffd\\ufffd\\ufffd\\x10\\ufffd\\ufffd\\x0f!Gz\\ufffd\\ufffd1\\x17\\ufffd\\ufffd\\ufffdRQ\\ufffd\\ufffdz\\ufffd\\ufffd\\ufffd\\ufffd\\ufffd\\ufffd\\ufffd\\ufffd{\\ufffd6\\ufffdb\\ufffdf\\ufffd\\ufffdOqYz$_\\ufffd\\ufffd2\\ufffd\\x0c\\x05\\ufffd\\ufffd\\ufffdh\\ufffdL\\ufffd\\ufffd-\\ufffd\\ufffd\\ufffdN\\ufffd\\ufffd\\ufffd\\ufffd\\ufffdD\\ufffd\\ufffd#\\ufffdM\\ufffdP\\ufffd\\ufffdH\\ufffd\\ufffd\\r=\\ufffd\\ufffd\\ufffd\\ufffd@\\ufffd\\ufffdD\\ufffd\\x14\\ufffd\\x04\\x1cQ\\ufffd\\ufffd\\ufffd^]\\ufffd~\\ufffd\\x00\\ufffd\\ufffd\\x02A(F\\x1cP\"\\ufffd\\ufffd\\ufffd\\ufffd\\ufffd\\ufffd\\ufffd2\\ufffd\\ufffd-\\ufffd\\ufffd\\ufffd\\ufffdP\\ufffd\\ufffd\\x17P\\ufffdc}\\ufffd$\\ufffdM\\ufffd\\ufffd\\ufffds\\ufffd\\ufffd\\ufffdx`0\\x08\\ufffd*\\ufffd\\ufffdA\\x0cp\\x0f\\ufffdhr\\x05+\\x17}\\n\\ufffd\\ufffd7WQy\\ufffd2\\x00<\\ufffdZ\\ufffde\\ufffd\\ufffd\\ufffd\\ufffda7\\ufffd\\ufffd\\nI$\\ufffd\\rMh\\ufffdYJ\\ufffd8v\\ufffd\\ufffd\\ufffd8<\\ufffd\\ufffd2\\ufffdL6l\\x14\\ufffd2#\\ufffdE0\\ufffd*b\\ufffdo\\ufffd\\ufffd3G\\ufffd[\\ufffd\\ufffd\\ufffdRG\\ufffdj\\ufffd\\ufffd\\ufffd\\ufffd,i*\\ufffd\\x1b\\ufffd\\ufffd\\ufffd\\ufffd\\ufffdO\\ufffd\\ufffd{\\ufffd\\ufffdIfa\\ufffdn\\ufffdU\\ufffdI\\ufffd\\ufffd\\ufffd\\ufffd+\\ufffd\\ufffd!\\x122\\ufffd\\ufffd3An)\\ufffd\\ufffd\\ufffd\\ufffd5\\ufffd|1\\ufffd;\\ufffd+PT\\ufffdH\\ufffd\\ufffd\\ufffd\\ufffd\\x19\\x10\\ufffdl\\ufffd\\ufffd\\ufffd\\ufffd\\ufffd\\ufffdQ\\ufffd\\ufffd\\x1b\\ufffdd\\ufffdi\\x19\\ufffde8+\\ufffdA\\ufffdZ\\ufffd\\ufffd$\\ufffd\\ufffd\\ufffd\\x19\\x0e\\x1b\\ufffd\\ufffd\\ufffd\\ufffdb\\x0f\\ufffds\\ufffd\\ufffddh\\ufffd\\x1a\\ufffd\\x12\\ufffd\\ufffd\\x1e!q(\\ufffd\\ufffdm\\ufffdF8\\ufffd\\ufffd\\x07\\ufffdf\\ufffd\\x11\\ufffd\\ufffdh\\x12\\ufffd\\ufffd\\x01 d\\ufffd\\ufffdP\\\\\\ufffd-\\ufffdbW\\ufffd\\ufffd\\ufffd\\ufffd\\x06k\\ufffd\\ufffd\\ufffdxO\\ufffd:\\ufffd\\ufffd\\ufffd\\ufffd\\ufffd\\ufffde\\ufffdr\\ufffd#\\ufffd\\x1c\\ufffd\\x1dA\\ufffd$\\ufffdc\\ufffd\\ufffd`p\\'Q\\ufffd\\ufffd\\ufffd+\\x00T\\ufffd=\\ufffd\\ufffd\\ufffd\\ufffd\\ufffd\\ufffd\\\\\\x16>\\x1c\\ufffd\\ufffd\\ufffd\\ufffd\\ufffd\\ufffd\\ufffd\\ufffd\\ufffdP\\ufffdmCF\\ufffd1\\ufffdc\\ufffd\\ufffd\\x03\\ufffd\\x1f_a@\\ufffd\\ufffd\\ufffd\\x7f\\x0c\\ufffd\\ufffd\\ufffd\\ufffd\\ufffdI0T\\ufffd\\ufffd\\ufffd}/\\ufffdz\\ufffd\\ufffdw\\ufffdm\\ufffd\\ufffdq\\ufffdt\\ufffd\\ufffd\\ufffd\\x18\\ufffd5\\ufffd!-\\ufffdM8\\ufffd\\ufffd\\ufffd6\\x7f:\\ufffd\\x00a\\ufffd\\x01H\\r{\\ufffd\\ufffdZ\\x0b\\ufffd*\\ufffd\\ufffd\\ufffd\\\\\\ufffd\\ufffd\\ufffd\\ufffd\\ufffd\\ufffd\\x14\\ufffd5\\ufffd\\\\\\ufffd\\x12\\ufffd\\ufffdY\\x1c\\x1e\\ufffd5SK\\ufffd\\ufffd\\ufffd\\ufffd\\ufffd[\\ufffdE\\ufffd\\ufffdy\\ufffd\\ufffdY~\\ufffd\\ufffdK\\ufffd\\x12\\\\Z\\x04\\ufffdG\\ufffd\\ufffd\\ufffd\\x1b\\x7f\\ufffde\\ufffd;}\\ufffd\\x00f\\ufffdkz\\ufffd\\ufffd\\ufffd\\ufffd\\ufffd.\\ufffd<\\x16\\ufffd0\\ufffd}j\\ufffd\\ufffd\\ufffd/\\x7f\\ufffd\\x15{\\ufffdY\\ufffd?d\\ufffd\\ufffd\\x7f\\x03Z\\r\\ufffd-^\\ufffd\\ufffd\\ufffd\\ufffd2=6\\ufffdP7\\ufffd\\ufffdV_\\ufffd\\r:B\\x0fxFh\\x03\\x1a\\ufffdn4\\ufffd\\ufffd\\ufffd\\x0c \\ufffd\\x06=\\x0f\\ufffdMV\\x0c\\x0b\\x02\\rtK\\ufffd\\ufffd*m\\ufffd=2\\ufffdxH\\ufffdv\\ufffd\\ufffdT\\x04\\x1e\\x1e\\ufffdD\\ufffd\\ufffd\\ufffd-c3s\\ufffdL\\ufffd\\x07\\ufffdL\\x0c\\ufffdJ\\ufffd\\ufffd\\ufffd\\ufffdP\\ufffd\\ufffd\\ufffd\\ufffdo\\ufffdpY[ \\ufffd\\ufffd\\ufffd\\ufffd\\ufffd\\ufffdl\\ufffdt\\ufffd7\\ufffd\\ufffdA\\ufffd5L\\ufffd\\ufffd\\ufffd:\\ufffd\"\\ufffd\\x14\\ufffdKr\\ufffd\\ufffd u\\x07\\ufffd\\ufffd\\ufffd\\ufffd{;d\\ufffd\\ufffd\\ufffd\\ufffdj\\ufffd\\ufffd0\\ufffd\\ufffd\\ufffde\\ufffd8\\ufffdb\\ufffd\\ufffd\\ufffd\\ufffd\\ufffdOC@\\x0e\\x1bI\\ufffd\\ufffd%\\ufffd\\ufffdO, \\x10U\\ufffd\\r7\\ufffd\\ufffdQ\\ufffd\\ufffdv8\\ufffd\\r\\ufffd\\ufffdeap\\ufffd\\ufffdJ\\x04;\\ufffd$1\\ufffdJKA\\ufffdq\"T\\ufffd\\ufffd\\ufffdQ\\ufffdG\\ufffd\\ufffd\\ufffd3\\x18mU\\ufffd?\\ufffd\\ufffd*;\\ufffdu\\ufffd\\ufffd{q<n\\x1a,\\ufffd\\ufffdD\\ufffd\\x16\\ufffd\\ufffd\\x07\\x00\\x0c\\ufffdXX\\ufffd\\ufffd\\x14\\ufffd^\\ufffd\\'O\\ufffd\\ufffdA\\x04T\\ufffd\\ufffd\\ufffd\\ufffd\\ufffd\\ufffdK\\ufffdM\\\\\\ufffd\\ufffdrB\\x07\\ufffdFpH\\ufffd\\ufffd\\ufffd\\ufffd\\\\\\x7f\\x1a\\ufffd\\ufffd\\ufffdm\\r\\ufffd\\ufffd\\ufffdHn5\\x0c\\ufffd\\x17 )\\ufffd\\ufffdXle%\\ufffd\\ufffdn\\ufffd\\x05i\\x7f\\x13\\ufffd\\ufffdkP\\ufffd$\\x02\"\\ufffd\\ufffd\\x05r\\ufffd\\ufffd~\\ufffd\\ufffdy\\ufffd\\ufffdX\\ufffd\\ufffd&\\ufffd\\ufffdFc\\ufffd\\ufffd\\ufffd\\ufffd\\ufffd\\ufffd\\ufffd|?\\ufffd\\ufffdx\\ufffd\\x1ePc\\ufffd\\ufffdZv\\ufffd6\\ufffd\\ufffd\\ufffd~\\ufffd\\ufffd];\\ufffd\\ufffdt\\ufffd\\ufffd\\ufffdj\\ufffd\\ufffd\\ufffd\\ufffd<S\\ufffde*F*s\\ufffd\\ufffd%T\\x12k\\ufffd\\ufffd\\x00\\ufffdk\\ufffd\\ufffd*\\ufffd\\ufffd\\ufffd\\x17\\x7fe\\ufffd\\ufffd\\n\\ufffd`\\x0f\\ufffd\\ufffd3\\ufffdxc\\ufffd^\\x1c\\x0e&\\ufffdk\\ufffd\\ufffd\\ufffd\\ufffd\\ufffd\\ufffd\\ufffdR\\ufffdei`\\ufffdB\\ufffd\\x17\\ufffd%x\\ufffd\\ufffd?SM\\x17Q\\ufffd\\ufffds\\x1c\\ufffd\\ufffd\\ufffd\"\\ufffd\\ufffd=H\\ufffd\\ufffd\\ufffdG\\ufffd\\ufffda\\ufffd\\ufffdEh_\\ufffd\\ufffd\\ufffdYq\\ufffd\\ufffd\\x1ei\\ufffd/\\ufffd\\x7f\\x00\\ufffd\\ufffd\\ufffd\\x1e\\ufffd\\ufffd\\ufffdK\\ufffd(%\\ufffd\\ufffd\\ufffd\\ufffd\\ufffdB\\ufffd\\ufffd^E]\\ufffdZ\\ufffd<\\ufffd\\x08\\ufffdY\\x1a\\ufffd\\x7f\\ufffd\\x1b\\ufffd\\ufffd\\ufffd\\x0f\\ufffd*@\\ufffd\\ufffd\\ufffd\\ufffd\\ufffd09\\ufffdZ%#\\ufffd\\ufffd\\ufffd\\ufffd\\x1b\\ufffd\\ufffdM\\ufffdt\\ufffd:M:\\ufffd\\ufffdv\\ufffd\\ufffdJ\\ufffd\\ufffd\\ufffd\\ufffd\\ufffd\\ufffdPL\\ufffd\\x06-\\x18\\x1c\\x1fZ\\ufffd\\x16%\\ufffd\\ufffd\\x17\\ufffd8\\ufffd\\ufffd-C\\ufffd\\x19\\x1a_\\x12\\ufffdo\\x10\\ufffd\\ufffd\\n\\x052\\ufffd\\ufffd\\ufffd\\ufffd\\x18w?\\ufffd\\ufffd/#\\ufffd\\ufffd\\ufffd6\\ufffd \\ufffd\\ufffdF\\ufffd\\ufffd\\ufffd\\ufffd2\\ufffdLZN\\ufffdl\\ufffdl\\ufffdH?{/\\ufffd\\ufffdGa2\\ufffd\\ufffd\\ufffd\\ufffd;\\x03*\\ufffd\\x1b\\x1e\\ufffdm\\ufffdE\\x133H\\ufffd\\ufffdO\\'4\\ufffd\\ufffd\\ufffd\\ufffd\\ufffd\\ufffdh\\ufffd\\ufffd);T\\ufffdh\\x02\\ufffd\\ufffdZ\\x13wm/TaZZ\\ufffd\\x16\\r\\ufffd@1\\ufffd\\ufffd\\ufffd1,\\ufffd\\ufffd@$-\\ufffd\\x1e\\ufffd,\\ufffd\\ufffd\\ufffd\\ufffd\\ufffd\\ufffd$A\\ufffd\\ufffd\\ufffd3\\x0f|R\\ufffd\\ufffd\\ufffd=\\ufffd$\\ufffd\\ufffd]\\x00\\ufffdx\\ufffdEl[\\ufffd\\ufffd\\ufffd\\ufffdV\\ufffd!\\ufffd\\ufffdoJ%\\ufffdB\\ufffd-\"#=B\\ufffd(@cH\\ufffdo\\ufffd\\x13g\\ufffdJt+24N\\ufffd\\ufffd\\ufffd\\x12\\n\\ufffd\\ufffd\\ufffd\\ufffd\\\\\\ufffdu\\x1fQ\\ufffd/\\ufffd\\ufffd\\ufffd\\ufffd\\x15A\\ufffdq@\\x19w\\x0bq-\\ufffd\\ufffd\\ufffd\\ufffdd\\ufffd\\ufffdQ\\ufffd\\ufffd\\ufffd\\x03\\ufffd\\ufffd9\\ufffd\\ufffd\\ufffdk\\rj\\ufffd\\ufffd\\ufffdU|\\ufffd\\rF5\\ufffdD\\ufffdC\\ufffdA\\ufffd\\x14\\x08\\ufffd6\\x1a\\ufffdk\\x19\\ufffd=\\ufffdh4\\ufffd\\ufffd\\x18\\x16\\ufffdeL\\ufffd\\x00\\x17\\x06\\ufffd:\\ufffd\\ufffdp\\ufffd\\x01M\\ufffdW\\ufffd\\'\\ufffd\\ufffd\\x02\\ufffd\\x1a+\\ufffd\\ufffd[\\ufffd\\x0c1n\\ufffd\\ufffd\\ufffd\\ufffd\\x04y\\ufffd\\ufffd\\x14\\x19\\ufffdnq\\ufffdX\\ufffd\\ufffd:\\ufffd\\ufffd}\\ufffdh%\\ufffd\\x17\\ufffd\\ufffdC\\ufffdEm\\ufffdl\\ufffd\\ufffd\\x10M\\ufffd\\x08Ys\\ufffd\\ufffd\\x01\\ufffda\\ufffd\\ufffd\\x18>\\ufffd!\\x1d\\ufffd\\x14\\x0bk\\ufffd\\\\Ie*\\x0c\\ufffdZ[mWX\\ufffdgI\\ufffd\\x03\\x158\\ufffd\\ufffdx\\ufffd\\ufffd\\x1f>\\x0e(\\x038\\ufffd\\ufffd\\x0c4Eq\\ufffd*?\\ufffd)Pw\\x00\\ufffd\\ufffd\\ufffd<K\\ufffd\\ufffdmc`=@\\ufffd\\rwO\\ufffd\\x05k\\x08\\x7f\\x15\\x14\\x01\\ufffd\\x1e%\\ufffd\\ufffd\\ufffd\\ufffdu\\ufffdhi\\ufffd\\x12\\ufffd\\x1a\\ufffdD\\ufffd\\ufffd\\ufffdW#\\ufffd\\ufffd\\x1d\\ufffd|\\ufffd\\ufffd\\ufffd8\\ufffd\\ufffd6\\ufffd\\x1a`\\ufffd\\ufffd\\ufffd\\ufffd\\x04\\ufffd\\x04\\ufffd\\x01\\ufffd\\x04\\ufffd\\ufffdjm\\ufffd9\\ufffd\\ufffd+\\x1f\\ufffd5n\\ufffdM.\\ufffducs\\ufffdl\\x1f+\\x0f\\ufffd\\x14\\ufffd\\ufffd\\ufffd\\ufffd\"-_nz\\ufffd\\r>\\x13ia\\x19+\\ufffdGu\\x19\\ufffd(\\ufffd(\\ufffd\\ufffdf\\x0b\\ufffd\\ufffd\\x1dB+\\ufffd3\\ufffd\\ufffdp;\\ufffdwz\\ufffd\\ufffd\\ufffdN\\ufffd\\ufffd\\ufffd\\ufffd\\ufffd\\x7f\\n\\ufffd\\ufffd\\ufffd+\\ufffdu2\\ufffd\\ufffd\\x08\\ufffd*]\\x0fP\\ufffd=J\\ufffd\\x04\\ufffd\\x00\\ufffdr\\ufffdG\\ufffd\\ufffd\\ufffd\\ufffd\\x02\\ufffd\\x13i\\ufffd\\ufffd\\ufffd\\t#\\ufffd\\ufffdn\\ufffd\\x18\\x04\\ufffd\\ufffd?\\x1f\\ufffdps\\ufffds\\ufffd\\ufffdW_\\ufffd\\ufffd\\x00d\\ufffd\\ufffdl\\ufffd\\x17\\ufffd\\ufffd\\ufffdM\\ufffd\\x08?4/\\ufffd\\\\6\\ufffd\\x0c\\ufffdZ\\ufffdVSN\\ufffd\\t\\x19a\\x1c\\ufffd\\ufffda\\ufffdS\\x19\\\\|\\ufffd\\ufffd\\ufffd\\ufffd\\ufffd\\ufffdO\\ufffd\\ufffde\\ufffd\\ufffd\\ufffd#\\ufffd\\ufffd=j0r\\ufffd}j\\ufffd\\ufffd\\ufffd\\ufffd\\ufffdD\\ufffd\\r\")\\ufffd\\ufffd\\ufffd\\x1e\\ufffdB$\\ufffd\\ufffd\\ufffd\\ufffdY!\\x16\\ufffdb\\x07\\ufffd\\x16\\ufffd\\ufffd\\ufffd4e_\\ufffdI\\ufffd\\ufffd\\ufffd\\ufffd\\ufffd\\r\\ufffd\\ufffd\\ufffd5\\ufffd\\x02\\x0e\\x01\\ufffdy\\ufffd\\x1b\\ufffdY#\\ufffdv\\ufffd\\x18s\\ufffd\\r\\x02/\\ufffd\\ufffd\\ufffd\\ufffd\\ufffdr\\ufffd\\ufffd]\\ufffd\\ufffdk\\ufffd\\ufffd\\ufffd\\ufffd\\ufffdb^\\x06&gY\\ufffdn\\x07^*\\ufffd\\ufffd\\x06\\ufffd\\x16Q\\ufffd\\ufffd\\ufffdzP2\\ufffdpN;\\x1a@j#(\\x04\\ufffdj5\\ufffd\\ufffd\\ufffd:w\\ufffd\\ufffd\\ufffd\\'\\ufffd\\x03\\x11\\x1d\\ufffdKF\\ufffdHo\\x03\\ufffd\\ufffd\\x00\\x01\\ufffdk\\x06Y\\ufffd\\ufffd&U8\\'\\ufffd\\ufffd\\ufffd\\ufffdTK\\ufffd\\ufffd\\ufffdbUU\\ufffd\\ufffdA\\ufffd\\ufffd\\ufffd@\\ufffd\\ufffd\\ufffd%#\\ufffd9\\ufffd)\\ufffd\\ufffd%B\\x1b\\ufffd5R\\ufffdf\\ufffdYB\\ufffdR\\ufffd\\ufffdc\\x1fJ\\ufffd\\ufffd\\ufffd\\ufffdhol\\ufffdG\\ufffd\\ufffdtN\\x7fu\\'u5\\ufffdgo6\\ufffdy%\\ufffd\\ufffd\\ufffdD\\ufffd\\ufffdGB=i\\r\\ufffddg\\ufffd:\\ufffd\\ufffd\\ufffd\\x00\\ufffd_$\\x0eKn\\x0cz\\ufffd &\\ufffd\\ufffd\\ufffdI\\ufffd\\ufffdE\\ufffd\\ufffd\\ufffd;\\x03\\ufffd\\ufffd*\\x03p\\ufffdk\\r\\ufffd)\\ufffd\\ufffd\\ufffd\\ufffdW\\ufffdj0\\ufffd\\x00\\ufffd\\ufffd\\ufffd\\ufffdW\\x0e\\ufffd\\x03\\ufffd\\x03\\ufffdS\\x03\\ufffd\\ufffd\\ufffd-\\ufffd9a\\x16\\ufffd\\ufffd\\ufffd)2\\ufffdc\\x00\\ufffd\\ufffdi/D1+}\\ufffd\\ufffd\\x15\\x05\\ufffdGcgj\\ufffd(\\x17.>c\\x1focT\\x19\\ufffdk\\ufffdrG4\\x08\\ufffd\\ufffd\\ufffdst\\ufffd#m\\ufffd\\x08>\\ufffd\\ufffd+\\ufffd\\ufffd\\ufffd\\ufffd\\ufffd\\x18\\ufffd\\ufffdXc\\ufffd\\ufffd#=\\ufffdk}\\ufffd\\x18\\ufffdQ\\ufffd\\ufffd\\x1dM\\x00I,\\ufffd\\x01\\ufffd\\x06TR\\x03\\ufffd\\ufffdt5\\ufffd};Mw*\\x1c\\x0c\\ufffd1\\ufffdQ\\r\\ufffd\\ufffd\\ufffd\\x1b\\ufffd\\ufffd\\ufffd@\\ufffd/\\ufffd\\ufffd\\ufffd5-\\ufffd\\ufffd\\ufffd\\ufffdK[\\ufffd/j\\ufffd\\ufffd\\ufffd\\ufffd\\x15\\ufffd\\ufffd\\ufffd\\ufffd\\ufffdS\\ufffdA\\x07\\ufffd\\ufffdu\\ufffd\\x0f,\\ufffd\\x0c\\ufffd\\ufffd\\x01\\ufffdqg\\ufffdf\\ufffd\\x1e#\\ufffdd\\x1d\\x08\\ufffd\\x15\\x15\\x0e\\ufffd\\x7f:v\\ufffdw\\x15\\ufffd\\ufffdK\\ufffd\\ufffd-\\ufffd\\\\\\ufffd\\ufffdO\\ufffd\\ufffd8Ho^\\ufffde\\x12c\\ufffd\\ufffd\\ufffd\\ufffd\\x13\\ufffd,S\\x08\\ufffd\\ufffd\\x17(\\'\\ufffdv\\ufffd\\ufffd\\ufffd\\ufffd\\ufffd\\x1a\\ufffd\\ufffd\\ufffd\\ufffd?{\\x0b\\t\\ufffd\\x18nYG\\ufffd\\ufffd:a\\ufffd[\\ufffd\\ufffdox\\ufffdp\\ufffd\\n\\ufffd\\ufffd\\x14\\ufffd\\ufffdz\\ufffd\\x1b\\ufffdz\\ufffd\\ufffd\\ufffd\\ufffdR\\ufffd.\\ufffd\\ufffdG\\ufffd5\\ufffd\\ufffd\\'N\\ufffdF\\ufffd&\\ufffd\\ufffd\\ufffd\\ufffd\\ufffd\\ufffd/\\ufffd\\ufffd;\\ufffd\\ufffd\\\\\\x15\\ufffd\\ufffd5\\ufffd\\x1b\\ufffd\\ufffd\\ufffd\\ufffdn\\ufffd\\ufffd$}j\\ufffd\\ufffd\\ufffdK\\ufffd\\x1a\\x1b\\ufffd\\x0b\\ufffd\\ufffdk\\ufffd\\ufffd\\x00g\\ufffd~n\\ufffd\\x0f\\ufffd\\t\\ufffdi\\ufffd\\ufffd\\ufffdl\\ufffd\\x15\\ufffdHa\\ufffd\\ufffd\\ufffd\\ufffd\\ufffd\\ufffd\\ufffdHo\\ufffdT\\ufffd\\ufffd\\ufffd\\ufffd|%\\ufffdO\\ufffdDm\\'\\ufffd\\x02\\ufffd\\ufffd1\\ufffd\\ufffd\\ufffd=\\ufffd\\ufffd\\ufffd\\ufffd>\\ufffd{\\ufffd\\ufffdI$Jr\\ufffdD\\ufffdUv\\ufffd\\ufffd\\ufffdS\\ufffd\\ufffd;<\\ufffd\\ufffd\\ufffd\\ufffd\\ufffda\\ufffdHD\\ufffd<\\ufffd\\ufffd\\ufffd\\ufffdS8!\\ufffdH\\t=\\ufffdi\\ufffdF1\\ufffd\\ufffd\\ufffd\\ufffd\\x10\\ufffd\\ufffd\\ufffd\\x17\\x10\\x03$\\ufffdz\\x03\\ufffd\\ufffd$rA#\\ufffd(\\ufffd\\ufffd\\ufffd\\ufffd0\\x19\\ufffd\\ufffd~\\ufffd5\\ufffd\\ufffd\\ufffd|\\ufffd\\ufffd\\ufffd\\ufffd\\ufffd\\ufffd\\x11\\x19\\rPr\\x05\\x03\\ufffd\\x00t\\ufffd%\\ufffd\\ufffd\\ufffd\\x18\\ufffd\\ufffd\\ufffd:<|\\ufffd\\ufffdy\\x1f\\ufffdj\\ufffd\\x0e\\ufffd\\ufffd\\ufffd\\x01\\x16\\x1aW\\ufffd\\ufffd\\ufffd\\ufffd\\x03\\\\\\ufffd\\x12\\ufffdmp&\\ufffdo.Pz\\ufffd\\ufffdkD=\\ufffd\\ufffd \\ufffd\\ufffd\\ufffd\\ufffdd\\ufffd\\ufffd\\ufffde\\ufffdP\\x06\\ufffd\\ufffd#\\ufffdiw6\\ufffd`Gm\\ufffd\\ufffd\\ufffdu\\ufffdiSE\\ufffd\\ufffd\\x165$}\\ufffd@\\x18\\ufffd\\ufffd1\\ufffdOS\\x11\\ufffd\\ufffd\\ufffd\\ufffd[\\x0fV\\ufffd\\ufffd\\x00\\ufffd\\ufffd;`\\x01\\ufffd\\ufffdZ\\ufffdE\\ufffd\\x11\\ufffd\\ufffd\\x0c\\ufffdm\\ufffd\\ufffd6\\ufffdO)/\\x02\\ufffd\\x069[r\\ufffd\\ufffdE\\ufffd\\ufffd\\ufffdu-\\ufffdZ]\\ufffd;\\ufffd|\\ufffd\\ufffd\\ufffd~\\ufffd\\r\\ufffd\\ufffd\\ufffd%\\ufffd\\ufffd=\\ufffd\\ufffdF\\\\\\x16\\ufffd\\ufffdIeo\\ufffd\\\\\\ufffdF\\ufffd\\ufffd?\\ufffd\\x1dO\\ufffd\\ufffd\\ufffdZ\\ufffd\\ufffd\\ufffd\\ufffd\\ufffdg\\ufffd\\ufffd\\r-n~Y\\ufffd$\\ufffd\\ufffd.\\ufffdj\\x12\\ufffds\\ufffd\\ufffdU\\ufffdi\\ufffd4\\x15\\ufffd\\ufffd\\ufffd\\ufffd\\ufffd\\ufffd\\ufffd1\\'*y\\ufffdEKq\\ufffd\\ufffd\\ufffd\\ufffd\\x0b\\ufffd`\\ufffd\\ufffd\\ufffd\\x12Fp\\ufffd\\ufffd*T\\ufffd\\tA\\ufffd\\ufffdX\\x0e\\ufffdQ\\ufffd\\ufffd\\ufffdFK\\ufffdUS\\ufffd=\\ufffd\\ufffd\\ufffd\\ufffdk\\x1a4\\ufffd\\ufffdm\\ufffd\\ufffdb3\\ufffd\\ufffd\\ufffd\\ufffdfE<S\\x15\\ufffd\\ufffd\\ufffd*\\ufffd\\ufffdE\\ufffd4Fx\\ufffdT\\x1b$\\x04\\x02z\\ufffd\\ufffd7\\ufffd6\\ufffd\\x01{W5s,\\ufffd\\ufffd\\x1b\\x186!\\ufffd\\ufffd\\ufffd\\ufffd\\ufffd\\ufffd=\\ufffd\\ufffd\\ufffd\\ufffd(\\ufffd\\ufffd\\x00\\ufffd\\ufffd\\ufffd\\ufffdj\\ufffd\\ufffd\\ufffd\"\\x02l\\ufffd0=q\\ufffd\\ufffd\\ufffdm\\ufffdv\\ufffd\\ufffdJ\\ufffd\\x00\\ufffdX\\ufffd\\ufffd\\ufffdd\\ufffdI\\ufffd\\ufffd\\ufffd\\ufffd\\ufffd\\ufffd\\ufffd\\ufffd\\ufffd\\ufffd\\ufffd(\\ufffd\\ufffd\\ufffd-\\ufffd\\ufffd\\ufffd\\ufffdv\\ufffd\\x04\\ufffdF\\ufffd\\ufffd\\ufffd\\ufffdZPx\\ufffdW\\ufffd\\ufffdMV\\ufffd;\\ufffdcl\\x16\\ufffd\\ufffd\\x01X\\ufffd\\ufffd\\x04\\x04kw\\x1b\\ufffd\\x075E\\ufffd\\ufffd\\x10\\x10v\\ufffd\\ufffd\\ufffdu\\ufffd\\ufffd\\x03\\ufffd\\x1e\\x18\\ufffd\\ufffd\\x0b\\ufffd?@\\ufffd\\x16\\ufffd\\x1f\\ufffd\\ufffd\\ufffd\\ufffd9\\ufffd*k\\x7f\\x13x\\ufffd\\ufffd-\\ufffd}b\\ufffd\\ufffd\\ufffd\\ufffd\\ufffd3\\x1c\\ufffd\\ufffd\\ufffd\\ufffd\\ufffd\\ufffd-\\x14\\x13#4s7\\x19\\x07\\x1c\\ufffd\\ufffd\\ufffd\\ufffd5\\x0bC\\ufffd\\ufffdE\\x1d\\ufffd\\x03\\ufffd\\ufffdd\\ufffd`5<\\ufffd\\x06\\ufffd\\ufffd\\ufffd/\\ufffd\\r\\ufffd\\ufffd\\ufffdg\\ufffdb\\x7f\\x0e\\ufffd\\ufffd_x\\x7fX\\ufffd\\ufffd\\ufffd->?\\ufffd\\ufffd\\ufffd\\x02q\\ufffd\\ufffd\\ufffdm\\r;\\ufffd\\ufffd g{\\x19\\ufffdN\\ufffd~v\\ufffd\\ufffd\\ufffd\\ufffdV\\ufffd\\ufffd\\ufffd\\ufffd=\\ufffd\\ufffd5\\ufffd\\ufffd\\ufffd\\ufffdE\\ufffd\\ufffd\\ufffd\\x1a\\ufffd09#zW\\ufffd7p\\ufffd\\ufffd\\ufffd\\ufffde\\x185\\ufffd\\ufffd\\ufffdm\\x0e\\ufffd\\ufffdL\\x0c~b\\ufffdJ\\x0f\\x14\\ufffdc\\ufffd\\ufffd\\ufffd]v\\ufffdmg\\ufffd\\ufffdZ0\\x03?\\ufffds\\ufffd8\\ufffdF\\ufffdc\\ufffd;\\ufffdKF\\ufffd\\x0c\\ufffd\\ufffd\\x06\\ufffd\\ufffd\\ufffdw\\x1d)\\ufffd\\ufffdt\\ufffd6\\ufffdm6\\ufffd\\ufffd}\\ufffd\\x05\\ufffd\\ufffd\\ufffd+I\\ufffd\\ufffd\\x08\\n\\ufffdU@\\ufffdei7\\ufffd\\ufffdl\\x00/\\ufffd _\\ufffd\\ufffd\\ufffd\\ufffdq\\x10\\x078\\ufffd\\ufffd=)\\ufffd\\ufffdccoh\\ufffd\\ufffd\\ufffd\\ufffd\\ufffdr\\ufffdu\\x14\\ufffd\\ufffd+k\\ufffdZP\\ufffd\\x07oSP\\ufffd^B\\ufffd\\x13p\\ufffd~\\\\\\ufffd77F9\\ufffd[N\\x18\\x1e\\ufffd\\ufffd\\ufffd\\ufffd\\ufffd\\ufffd\\ufffd\\ufffd\\ufffd\\ufffd\\x14\\ufffd\\ufffd\\ufffd\\ufffd\\ufffd6\\ufffdK\\ufffd\\ufffd\\x07\\x18\\ufffd\\x16Z\\ufffd\\ufffd\"\\\\,c+\\ufffd\\ufffd;\\ufffd\\ufffd\\ufffd\\ufffd6(\\ufffd\\ufffd\\ufffd\\ufffd\\ufffd8\\ufffd@\\ufffdJJ\\ufffd29`\\ufffd\\ufffd1\\ufffd\\ufffd\\ufffd\\'\\ufffd\\ufffd,\\ufffd\\ufffd5rO\\x10i\\ufffd\\ufffd\\ufffdm\\x03\\x1cq&\\ufffdk\\x16\\x1b\\ufffdf\\ufffd\\ufffdX#\\ufffdr;P0\\ufffd$\\ufffd\"\\x04\\ufffd\\ufffd\\ufffd\\ufffd\\ufffd\\x1cc\\ufffd\\x18<\\ufffdy\\ufffd\\x0b!Kpv\\ufffd\\x0ej\\x1c\\ufffd\\x1c\\x01@\\x17\\x0c6\\ufffd\\ufffd2\\ufffd\\ufffdN\\ufffd\\ufffd\\x1bK\\ufffd\\ufffd\\ufffdP\\r\\ufffd\\x01\\ufffd,g\\ufffd\\x00\\ufffd@\\x16\\ufffd\\ufffd|\\ufffdX\\ufffd\\ufffds\\ufffd\\ufffd\\ufffd\\x16\\ufffdK~\\ufffd{\\ufffdiX7=\\ufffd)\\x01\\x11u\\ufffd<\\ufffd\"\\ufffd\\ufffdY4\\ufffd\\ufffdUf\\ufffd_\\ufffd8\\ufffd\\ufffd\\ufffd\\ufffd\\ufffd\\ufffd\\x00P[Kkfc\\ufffd\\ufffdvQ\\ufffdSi\\ufffdf\\ufffdA\\ufffd\\ufffd\\ufffd;\\ufffdi\\ufffd\\x19\\ufffdVg1iVGN\\ufffd\\ufffd\\ufffd\\ufffd\\ufffd\\ufffd\\ufffdr}3@\\ufffdf\\ufffd\\ufffd\\ufffd\\ufffdkk@\\ufffd\\x0f\\ufffd*z\\ufffd\\ufffd\\ufffd\\ufffd@]T\\ufffdPN\\x01\\ufffd\\ufffd\\ufffd\\x10\\ufffd\\ufffd\\ufffd\\'s\\ufffd\\ufffd\\ufffd\\x1cLfR9\\ufffdF?\\n\\x00\\ufffd\\ufffd\\x16\\ufffd\\ufffd\\ufffd\",\\ufffd\\ufffd\\x0e3\\ufffdMF\\x184e\\ufffd8\\x15\\x1f\\ufffd\\ufffdP]\\\\\\ufffd\\ufffd\\x071\\\\\\x13\\ufffd\\ufffd\\ufffdM\\ufffd\\ufffd\\ufffd&\\ufffds\\ufffd\\ufffd\\ufffd\\ufffd:\\ufffd\\ufffd\\ufffd\\ufffd\\x1c\\x0ez\\ufffdF\\ufffdfUe\\x18\\ufffd\\rG\\x1fOLS\\x18\\ufffdwt\\ufffd4\\x0c\\ufffd,b)\\ufffd=\\ufffd\\ufffdx\\ufffd\\ufffd\\ufffdn\\x7ft\\ufffd\\ufffdJ\\ufffd\\ufffd\\ufffd\\ufffdI\\ufffdC(<SF\\ufffd\\ufffd#~T\\x00\\ufffd\\ufffd\\ufffd\\ufffds\\ufffd\\ufffd\\x10F\\x14\\ufffd\\x08\\x01O\\n1\\ufffd\\ufffd-\\ufffd\\ufffd\\ufffdp\\ufffdF\\ufffd\\ufffd3\\ufffd\\ufffd\\ufffd\\ufffd\\ufffd\\ufffd\\ufffd@q\\x1ad\\ufffd\\ufffdS\\x10\\ufffd\\ufffd\\ufffd]|\\ufffd\\x00\\ufffd\\ufffd\\ufffd\\ufffd*.\\ufffd\\x1d\\ufffdJU\\ufffd\\ufffd\\x1e\\ufffd\\ufffd~\\ufffd\\ufffd\\ufffd\\ufffd\\ufffdz7\\x19\\ufffd*NU\\ufffd\\ufffd\\ufffdR\\ufffdh%\\x02Y\\x0b|\\ufffd\\ufffd\\x1a\\ufffdJ\\ufffdY\\ufffd\\x00`s\\ufffd\\ufffdC\\ufffd\\ufffdpq\\ufffd\\ufffd\\ufffd\\ufffd\\ufffd\\ufffdZ\\ufffd\\ufffd~\\ufffd\\x12s\\ufffd\\x1a\\ufffdI\\ufffd\\x1dnK\\ufffd7\\ufffd\\ufffdH\\ufffd\\ufffd\\ufffd\\x11\\ufffdM\\ufffdFYa\\ufffd\\t\\x188`\\x0fQJ#\\ufffdn\\ufffdQ\\ufffdg$\\ufffd\\ufffd\\ufffd\\ufffd\\x1f.\\x110\\x19\\ufffd\\ufffd5t\\ufffdfe\\ufffdy\\ufffd\\ufffd\\x19\\ufffd\\ufffd\\ufffd\\x19\\ufffd\\ufffd\\ufffd1T\\x12K\\ufffd\\x063W\\ufffd3\\ufffdJ-\\ufffd\\ufffd\\ufffd\\x03=sHc!o*\\r\\ufffd\\ufffd\\ufffd\\ufffd\\x12O9\\ufffd\\ufffd4\\ufffd\\ufffd\\x13\\x0e\\ufffd\\ufffd\\x011\\ufffd\\ufffd\\x07\\x14\\x0137\\ufffd}\\ufffd\\x1c\\ufffd0*6\\ufffd\\ufffd\\ufffd\\ufffd4\\ufffd\\ufffdQ\\ufffd\\ufffdX\\x07\\ufffd\\ufffd\\ufffdqW<&\\ufffd\\ufffdZ\\ufffd\\ufffd\\ufffd\\ufffd\\ufffd\\ufffdh\\ufffdg\\x15\\ufffd\\ufffd|\\r[TU\\ufffd-W>\\ufffd\\ufffd\\x11\\r\\ufffd\\r\\ufffd\\x04\\ufffdc\\ufffdL\\ufffd\\ufffdN\\x068\\x14jX\\ufffdf\\ufffd\\ufffdj\\ufffd^F\\x1e\\ufffd\\ufffd%\\'\\ufffd\\ufffd)\\ufffdX\\ufffd\\ufffd\\ufffd/\\ufffd<\\ufffd\\ufffd:\\ufffdR~lp\\x15z{\\ufffd\\x04\\n\\ufffd#d\\ufffdL,\\x01\\ufffd}\\ufffdY%\\'\\ufffd\\ufffd\\ufffd\\x19\\ufffd\\ufffd\\ufffdP1I\\'%\\ufffd}=\\ufffd?\\ufffdF\\ufffd\\ufffd\\ufffd\\ufffd\\ufffd\\'9\\ufffd5\\t\\ufffd\\x12\\ufffd\\ufffd\\ufffd\\ufffdCA\\ufffd\\ufffd\\ufffd\\ufffd\\ufffd\\ufffd\\ufffd\\ufffd\\ufffdC|\\ufffd\\x13\\x1fjX\\ufffd\\ufffd\\ufffd~\\ufffd\\x01\\x0c\\ufffd\\ufffd\\ufffd\\ufffd\\ufffdqR3e_\\ufffd\\ufffd\\ufffd9#\\ufffd\\ufffdL\\ufffd_\\ufffd\\ufffd\\ufffd\\ufffd\\x08\\ufffd\\'\\x1d\\ufffd1\\ufffdz\\ufffd\\ufffd\\ufffd\\x19\\ufffdG\\ufffd\\x1f\\ufffd\\ufffdMFN$\\ufffd\\ufffd\\ufffde\\ufffd8S\\ufffdQV4\\ufffd\\ufffd\\ufffd\\ufffd\\x0e7+w\\ufffd*\\ufffd\\ufffdQ\\ufffdNh\\ufffdX\\ufffd\\ufffd\\x1f\\ufffd\\ufffd\\x1akz\\ufffd\\ufffd\\x1d\\ufffd\\x01\\ufffd\\ufffd\\ufffda\\ufffd6\\x07q\\ufffdX\\ufffd\\ufffd\\ufffdn\\x15\\ufffd\\ufffdn\\ufffd}+f\\ufffd\\ufffd[I\\ufffd\\ufffd\\ufffd8\\ufffd\\x18ta@\\ufffd\\ufffd\\ufffd\\ufffd]<\\ufffd\\\\\\ufffd&L\\ufffd\\ufffd\\ufffd\\ufffd\\ufffd\\ufffdi\\x11j\\ufffd\\ufffd\\\\\\ufffdd3\\t<\\ufffd\\ufffd,W\\x1b\\x14\\ufffdX\\\\\\x0b\\ufffdX\\ufffdg\\ufffd{WMc\\ufffd\\ufffd-\\ufffd/(H\\ufffdr\\x1b\\ufffd\\ufffda$\\ufffd\\ufffd\\ufffd\\ufffdRVg=\\ufffd\\ufffd@\\x1f\\ufffdq\\x14\\x1eaUc\\ufffd\\ufffd\\x05C.F\\x08\\ufffd\\ufffd\\ufffd\\ufffd\\ufffd\\ufffd\\ufffd4\\ufffd\\ufffdp`~\\ufffd\\ufffd\\x08\\ufffdW1\\ufffd-\\x06m\\x02\\x19\\'\\ufffd\\ufffd\\ufffd\\ufffd\\'i\\ufffd\\ufffd\\ufffd-\\ufffdS\\x1a\\ufffd\\ufffdz\\x11\\ufffd7xf\\ufffdO\\ufffd\\ufffd\\ufffd\\ufffd\\ufffd\\x12O,s\\ufffdZ\\ufffdd\\x13xGOu\\ufffd\\ufffd\\x7fZ\\ufffd\\x7f\\ufffd\\ufffd\\x1c\\ufffd\\ufffd$s\\ufffd\\ufffdB\\ufffd\\ufffd\\ufffd[\\ufffdn\\ufffd\\ufffdsN\\ufffd\\ufffd\\ufffd\\ufffd\\ufffd\\ufffd\\ufffd1\\ufffd8<\\ufffd\\ufffd\\ufffd\\ufffd`\\ufffd\\ufffd\\ufffd\\t\\ufffd0;\\ufffde\\ufffdL1\\ufffd\\x0ff\\x1c\\x11Ru8\\x14\\ufffd \\ufffdP\\x06\\ufffd\\ufffd\\ufffdf\\x08\\ufffdu[\\ufffdc\\ufffd\\x01\\ufffdn\\x03a[\\ufffd\\ufffdSh\\ufffd\\ufffd\\ufffd\\ufffdn !\\ufffd\\x103\\ufffd\\ufffdTL\\x01\\x04\\x1ekSB\\ufffd\\x14\\ufffdD\\ufffdE\\ufffdQ\\ufffdZ\\x11\\ufffdi\\x17sD}r{P\\ufffdt\\x16\\x1a\\ufffd\\ufffd\\ufffd\\r\\ufffd\\ufffd\\x11\\ufffd\\ufffd\\x15\\ufffd\\ufffd\\ufffdkP\\ufffd\\ufffd\\ufffd\\ufffd.\\x1a$\\ufffd\\x01\\ufffdm\\ufffd\\ufffd:\\ufffd\\ufffd\\ufffdG\\x0bd\\ufffdm\\ufffd9?\\ufffd\\ufffdn\\ufffd\\x07\\ufffd\\x00\\ufffdUb\\ufffd\\ufffd\\ufffd \\ufffds,\\ufffd\\x1c\\ufffd\\ufffdz\\ufffd\\ufffd\\ufffd\\ufffdlh3\\ufffdi\\ufffd\\ufffdm\\ufffdn\\ufffd\\ufffd\\ufffd\\ufffd\\ufffd\\ufffd\\ufffd\\ufffd\\ufffdM\\ufffd\\ufffd\\x04exn\\ufffd\\ufffdk\\ufffd\\ufffd\\x12[U3Z\\ufffd\\x05e$\\ufffdx5\\ufffdxu\\ufffdZ\\ufffd\\ufffd\\ufffd\\ufffd\\ufffdvNb\\ufffd=\\ufffdr{9E\\ufffd\\x1d\\\\\\ufffd\\ufffd\\ufffd\\ufffd\\ufffd\\ufffd\\ufffd\\ufffd\\ufffd\\ufffd\\ufffd\\ufffdZY\\ufffdf\\ufffdRH\\ufffdV\\ufffd\\ufffd\\ufffd\\ufffd\\ufffdI\\ufffd\\ufffdk\\ufffd\\ufffd\\ufffd!\\\\\\ufffd.\\x015\\ufffd<Q]4\\ufffdF\\ufffd\\x11\\n[1\\ufffd\\ufffd\\ufffd\\ufffd\\ufffd=>\\ufffd\\ufffd\\x1e\\ufffd\\ufffd\\ufffd\\ufffd\\ufffd#\\ufffds\\x1f\\ufffdEh\\ufffd\\ufffd4\\ufffd\\ufffd~\\ufffd5\\ufffd\\ufffdS\\x03r\\ufffd\\x1d\\ufffd\\x0eq\\ufffdU\\ufffddX\\ufffd\\ufffdR\\ufffd\\ufffd \\x0e{T\\ufffd\\ufffd\\ufffd\\ufffdC\\x15\\ufffd3\\x06\\x11DF\\ufffd=h\\ufffdH\\ufffd\\ufffd\\ufffd\\ufffdh\\ufffd\\ufffd0I\\ufffd?Z\\ufffd\\ufffd$M\\ufffd\\ufffd$\\ufffd\\ufffd\\ufffd\\x164\\ufffdBq\\ufffdY\\x13\\ufffd\\ufffd\\ufffd\\ufffd\\ufffd\\ufffd\\ufffd\\ufffd K3$\\ufffd>C\\ufffd\\r\\ufffd\\ufffdm\\ufffdc\\ufffd`\\ufffd\\ufffd\\ufffd\\ufffd\\x07\\ufffd\\ufffd\\ufffd\\ufffdL\\ufffd\\ufffd\\ufffdu\\ufffd\\ufffd\\ufffd\\ufffd\\ufffdf\\ufffdC\\ufffd\\ufffdh_X\\ufffd\\ufffdG0\\x15\\ufffd\\ufffd\\ufffd;V\\ufffd\\ufffd\\ufffd\\ufffd\\ufffd\\ufffd\\ufffd\\ufffd\\ufffd+u\\ufffd\\ufffd\\ufffd\\ufffd\\ufffd\\ufffd\\r\\ufffd{\\ufffd\\x088<\\ufffd[\\ufffdX\\ufffd]\\ufffdC\\ufffd\\x12\\t\\'%\\ufffd\\ufffd\\x02\\ufffd\\ufffd\\ufffd\\ufffd\\x15&\\ufffd\"]Z\\x0bR\\t\\x10\\ufffd3\\ufffd\\ufffd\\ufffd4\\x0c\\ufffd4L\\x19=\\x0fZb\\x0c\\x0c\\ufffd\\x1dGB;U\\ufffdMN\\ufffdI\\ufffd\\ufffd\\ufffd\\ufffd\\ufffd2F\\x04\\ufffd \\ufffd\\ufffdT<\\ufffd\\ufffd\\ufffd\\x18\\ufffd\\ufffd\\ufffd\\ufffd\\x1eI#\\ufffdu\\ufffd\\x0b\\ufffd\\r\\ufffd\\ufffd\\x10\\ufffd\\x11\\ufffd\\ufffdk\\x1b\\ufffd1\\ufffdG\\ufffd\\ufffd3\\ufffd\\ufffd\\r\\ufffdi>\\x16\\ufffd\\ufffd\\ufffd\\ufffd\\ufffd\\x16\\x07\\x1b\\ufffd\\ufffd r+O\\ufffdF\\x1ct\\ufffd\\ufffd\\x1f\\x12y\\ufffd\\ufffd\\x1b\\ufffdD\\ufffd\\ufffd,\\ufffdty8\\ufffd)\\x00\\ufffd\\n\\x0b\\ufffd\\ufffd\\ufffd\\ufffd\\x7fp\\ufffdH\\ufffd\\ufffdhl\\ufffd\\ufffd\\ufffd\\ufffd@8\\ufffdAe\\ufffdJ\\ufffd\\ufffd3\\ufffd\\x1b\\ufffd \\\\}0*\\ufffdJ-\\ufffd\\ufffd\\ufffd\\ufffdf\\ufffdy\\ufffd\\ufffd\\ufffd\\x13N\\ufffd\\x1b\\ufffdnD\\ufffd\\ufffdk\\ufffdUL\\ufffd\\x1a\\ufffd\\ufffdT\\ufffd\\ufffd\\ufffd\\ufffd\\ufffd\\ufffd\\ufffd\\x17T\\ufffd\\x13\\ufffd\\ufffdDESh\\ufffdHP\\ufffd\\ufffd\\ufffd\\ufffd/\\ufffd\\ufffd\\ufffd\\ufffd\\ufffd\\ufffd\\x07\\ufffd\\ufffd\\x0e;\\ufffd\\ufffde\\ufffdc\\ufffd\\ufffd\\x10(\\ufffd\\ufffd\\ufffdk~U\\ufffd\\x0c\\ufffdg1x\\ufffdQ\\ufffd\\ufffd\\ufffd\\ufffd\\ufffd!\\x12\\ufffdyb\\ufffd\\ufffdY\\x04\\ufffd\\ufffd(\\x03\\ufffd\\ufffd\\ufffd\\ufffd\\ufffd\\ufffdU\\ufffd+`\\n\\ufffd\\ufffd\\ufffd\\x11l\\ufffd3\\ufffdrO\\ufffdb\\ufffd-{\\ufffd\\ufffd:\\ufffdR[\\ufffd]\\x1d\\ufffd\\ufffd\\x0f\\ufffd}\\ufffd;E\\x00`N<\\ufffdFh\\ufffd\\r\\ufffd\\ufffd\\ufffd`\\ufffd\\ufffd\\ufffdpc\\ufffd\\ufffd\\x1fyA\\x157\\ufffd\\ufffd#\\ufffdf\\ufffd\\ufffd\\ufffd\\ufffd\\ufffd)\\ufffd\\ufffd\\ufffd\\ufffd\\ufffd\\ufffdG\\x03$\\ufffd\\ufffd\\x18\\x03\\x03\\ufffd\\ufffd\\x00\\ufffd\\x1c{\\ufffd2\\ufffdX,0\\ufffdyd8U\\x1dM_\\x11\\x00v.\\\\\\ufffd\\ufffdw\\ufffdX\\ufffd\\ufffdB\\ufffd,B\\ufffd\\ufffd \\ufffdz\\ufffdB\\ufffd\\x0f\\ufffd\\ufffd4\\ufffd&\\ufffd\\x18\\ufffdu\\ufffdF\\x1ab\\x0f\\x03=\\ufffd\\rn\\x7f\\ufffd9%rMY\\ufffd?{&\\ufffd\\ufffd\\ufffd\\ufffdKp\\ufffd\\ufffd\\ufffdg\\ufffd\\ufffd\\ufffd\\x07^\\ufffd \\x1e\\ufffd\\ufffdr:\\ufffd\\ufffd\\nC\\ufffd\\ufffdI\\ufffd05IP\\ufffdC\\ufffdWl\\x15\\ufffd\\ufffd\\ufffdJ\\ufffd4y\\ufffd\\ufffd\\x05\\ufffd\\ufffde\\ufffd\\ufffd\\ufffd\\ufffd\\ufffd\\ufffd\\ufffdG\\ufffd\\ufffduh\\ufffd\\ufffd\\x16\\ufffd\\ufffd.7\\ufffd\\ufffdc\\ufffd\\ufffd\\ufffd/\\ufffd\\ufffd\\x1d\\ufffd\\ufffd\\x19\\ufffd\\ufffd\\ufffd\\\\\\ufffd[\\ufffd\\ufffd\\'?\\ufffd\\ufffdRc\\ufffd4\\ufffd\\ufffdR\\x11\\ufffd8\\ufffdNX\\ufffdA\\ufffdO^\\ufffd\\ufffdY!\\ufffdHe\\x18\\ufffd\\x0e\\rLy\\ufffdS\\ufffd\\ufffd&\\ufffd\\ufffdc\\ufffdf\\ufffdH\\r\\r\\ufffdl\\ufffd&\\ufffd!\\x00\\ufffd\\x14\\ufffd\\ufffd\\ufffdQ\\ufffd\\ufffd\\ufffd\\ufffd\\ufffd\\ufffd\\x06o\\ufffd+\\ufffdG\\ufffdbY\\x1f\\ufffdif\\ufffd&\\x01\\ufffd~3\\ufffdVgu\\ufffd\\ufffdM\\ufffdm\\ufffd\\ufffdo\\ufffd\\ufffd\\ufffd\\ufffd\\ufffd\\x02{\\ufffdA\\x1acn\\ufffd\\t\\'\\ufffd*1\\ufffd\\ufffdd\\ufffdE\\ufffd\\ufffd\\ufffdE\\ufffd~5\\ufffd\\ufffd\\ufffd\\ufffd\\ufffd\\ufffd\\x02\\ufffd\\ufffd\\ufffdj\\ufffd\\ufffd\\x1e\\ufffd#7\\x1e{\\ufffd?\\n\\x18\\ufffd\\ufffd\\x02o\\ryC$\\ufffd\\ufffdR\\x19\\ufffd\\ufffd\\ufffd\\ufffd\\ufffd]\\x11\\ufffd\\x16>Js6\\ufffdl\\ufffd\\ufffd\\ufffd\\ufffd\\ufffd\\ufffd\\ufffd\\ufffdS,C\\x0cq\\ufffdq@\\r\\ufffd\\\\HA$g\\ufffd1[sD\\ufffd\\x00\\x07\\x14\\ufffd;\\ufffdb;`\\ufffdj\\ufffd\\ufffdh\\ufffdx\\x14\\ufffd;\\ufffd\\ufffd\\ufffd\\ufffd\\x06V\\x022\\ufffd~\\ufffd~\\ufffd6\\ufffd\\x0c\\ufffd\\x17\\x031Jw\\ufffd\\ufffd\\ufffd\\ufffdp\\ufffd t\\x04\\r\\ufffd\\x1f\\ufffd\\ufffd\\x0b\\ufffd\\x16O\\x04\\ufffd\\ufffd\\ufffd\\ufffd$g\\ufffd\\x1b\\ufffd\\ufffd\\ufffd\\ufffdO\\ufffd\\ufffd\\ufffd9\\ufffd\\ufffd\\ufffd\\ufffdX\\x0b\\ufffd\\ufffdU\\ufffdna\\ufffd\\ufffdu\\ufffd+\\r\\ufffd\\x7fuy\\x14\\ufffdt\\ufffds\\ufffd\\ufffd\\x00\\x0c\\ufffd\\ufffd\\x1e\\ufffd;\\x03/\\x07\\ufffd\\ufffd\\ufffd\\ufffd\\ufffd\\ufffdP\\x02I\\ufffd!ON\\x0f\\x15\\t|\\ufffd\\ufffdN2n\\ufffd\\ufffdu\\ufffdA\\ufffd\\ufffd\"\\ufffd\\ufffd\\ufffd\\x01\\x0b\\ufffd\\ufffd5s\\ufffd\\ufffd\\x1a\\ufffd\\ufffd\\ufffd\\ufffd}\\ufffd\\x7f\\ufffdS\\ufffd,eR@\\x0b\\ufffdW\\ufffd,\\x07\\ufffd\\ufffd\\ufffd\\x079\\ufffd\\x1f\\ufffd\\ufffd)\\ufffd\\ufffd[Q\\ufffd/%\\ufffd\\ufffd\\ufffd\\ufffd\\x11\\ufffd\\ufffdP%u+g\\ufffd\\x1b\\x08\\ufffd\\ufffd\\ufffd\\ufffd\\ufffdFh\\x02C7\\ufffd\\ufffd\\ufffd\\ufffd\\ufffd,\\ufffd\\x0c\\x1c\\ufffdCm9\\'\\ufffdqs\\ufffd\\x1c\\x0cP1H\\ufffd2=\\ufffd\\x19T\\ufffd\\ufffdQ\\ufffd\\ufffd\\ufffd%\\ufffd\\ufffd\\ufffd\\x01\\ufffdc\\x14\\x01\\x16\\t8\\ufffd\\ufffdI\\ufffd\\ufffd\\ufffd\\ufffdD\\x04H}\\x0fCJ\\ufffd.q\\ufffdz\\x04\\x1d3\\ufffd\\x1aS\\ufffd/\\ufffdJ\\ufffd\\ufffd\\ufffd\\ufffdD\\x0b6M1\\ufffdT\\ufffd\\x01<\\ufffd\\ufffd\\ufffd \\ufffd\\ufffdi\\ufffd\\'?6\\x08?\\ufffd\\x0b\\ufffd\\x0e\\ufffd\\ufffd\\ufffd\\ufffd\\ufffd\\ufffd\\ufffd\\ufffd\\ufffd\\ufffd\\x06\\ufffd\\ufffd\\ufffd\\ufffd\\ufffd\\ufffd\\ufffd\\ufffd=i\\ufffd%\\ufffd\\x1dOS\\ufffd\\x00D\\ufffd1\\ufffd\\x08>\\ufffdZFm\\ufffd\\ufffdx\\ufffdO\\ufffd\\ufffdq\\ufffd\\ufffd\\ufffd\\ufffd\\ufffd>A\\ufffd(\\x01\\x14\\ufffd]\\ufffd8\\ufffd\\ufffd\\ufffd\\x0e\\ufffd\\ufffd\\x0b\\ufffdx\\ufffd\\ufffd\\ufffdY\\ufffd\\x1e8s\\ufffdh`#\\ufffdZ\\x00\\ufffd\\ufffd\\ufffd\\'\\x18\\ufffd=\\rV\\ufffd\\ufffd\\ufffd.\\ufffd\\x1c\\ufffdV\\x0c\\ufffd\\ufffd\\x07\\ufffdS\\ufffdr\\ufffd\\'\\ufffdjZ^n\\ufffdk\\ufffd\\ufffd\\ufffd\\ufffd4\\ufffduz/\\ufffd\\ufffd\\ufffd\\ufffdke\\ufffd\\ufffd\\ufffd]@\\x1c,\\ufffdp\\ufffd\\ufffdCZ\\ufffd \\x7f>\\ufffd\\ufffd\\ufffd\\ufffd\\ufffd\\ufffd\\ufffd#\\ufffd5\\ufffd\\ufffd\\x16\\ufffdL\\ufffd\\ufffdF3\\ufffd\\ufffd\\ufffd\\ufffdG\\ufffd\\ufffdW\\ufffd\\x1b\\ufffdP\\ufffd\\ufffd\\ufffdL\\ufffd\\ufffd&\\ufffd\\ufffd\\x07\\ufffd&\\ufffd\\x0e\\ufffd\\ufffd\\ufffd\\ufffd[te\\ufffd\\ufffd\\ufffd\\x11\\ufffd\\ufffd\\ufffd\\ufffd@k\\ufffd\\ufffd\\ufffd[\\t\\x16\\ufffd\\ufffdJH\\ufffd\\ufffd>\\ufffd\\ufffd\\ufffd\\ufffdOo\\x7f&\\ufffd}\\ufffd1\\ufffd\\x19%b\\ufffd\\ufffd|\\ufffd\\ufffd\\ufffd)J\\ufffdn\\tYv\\ufffd.UFG n\\ufffd\\ufffd\\ufffdR\\ufffd\\ufffd\\ufffd3\\x0e8\\ufffd\\ufffdM\\ufffd\\ufffd\\ufffdT\\ufffd\\ufffdz\\x1a\\ufffd\\x19\\ufffd5kk\\ufffd\\ufffd\\ufffd\\ufffd-\\ufffdeD\\ufffdo\\x07\\ufffdc\\x7f\\ufffd\\ufffd0e\\ufffdg\\ufffd\\x0c\\x1d\\ufffd\\ufffdna\\ufffd\\ufffd\\ufffd\\ufffd\\ufffd\\ufffd\\ufffd\\ufffd#\\x7f\\ufffdRr?\\n\\ufffd0\\ufffd\\ufffd\\ufffd\\ufffdz\\ufffd1\\ufffdg\\ufffd\\x16a\\ufffd\\x00\\x02\\x14cI\\x1c\\x1d\"q\\ufffd\"\\ufffd\\ufffds\\ufffdn\\ufffd28\\ufffd\\ufffd1\\ufffd\\ufffd5\\ufffd\\ufffd\\ufffdF6\\ufffd\"\\ufffd\\ufffd\\ufffdp\\ufffd\\ufffd,\\ufffdZ)\\x1dt\\ufffd\\ufffd}\\ufffd;\\ufffd\\ufffd\\x14\\ufffds.\\ufffd\\ufffd\\ufffd\\ufffd\\ufffd(\\ufffd\\ufffd\\ufffd\\ufffd\\x0bs\\ufffdzU\\ufffd\\ufffd\\ufffdo\\ufffd\\ufffd5\\ufffd\\ufffd\\ufffd-\\x01?2\\ufffdtl9\\ufffdr\\ufffd\\ufffdKl\\x1dL\\ufffd\\x10?\\ufffd\\ufffd`\\ufffdP4\\x16W\\x0b\\ufffd\\ufffdV\\ufffd\\ufffd\\t\"\\ufffd\\ufffd\\x7f\\ufffd|[L`\\ufffdO\\ufffd\"\\ufffd\\ufffd\\ufffdRZM\\r\\ufffd\\ufffd\\ufffd\\ufffd\\ufffd\\ufffdi8\\ufffd\\x0f\\ufffd\\ufffd]^\\ufffdM\\ufffd#\\x19\\ufffd\\ufffd:5\\x03\\ufffd\\ufffdi\\x1a\\ufffd~1\\ufffd\\r\\ufffd\\ufffd,\\x1a\\ufffd\\ufffd\\ufffd\\ufffdo\\ufffd\\ufffd\\x1e\\ufffd\\ufffdq\\ufffd\\ufffd\\x06\\ufffd\\x00h\\ufffd\\ufffd\\ufffd\\ufffd\\ufffd\\ufffd\\ufffdf\\x19\"X\\ufffd\\ufffd0\\x1cK\\x1f\\x06\\ufffd4\\ufffd\\x15\\ufffd\\ufffd\\ufffdN\\ufffd\\tUo\\ufffd\\x15\\ufffd\\x18\\x0c{\\n\\ufffdl5\\ufffd\\ufffdj\\ufffd|Z^\\ufffdqa\\x03\\ufffd\\ufffd\\ufffd0QI\\ufffd\\ufffdJ\\ufffd\\ufffd\\ufffd\\ufffd\\ufffdYDa\\x17j\\ufffd\\ufffd\\ufffd\\ufffd\\ufffd\\x00\\x16B\\ufffd\\ufffd\\ufffd+\\x1d\\ufffd\\ufffd\\x10\\ufffd+\\x0e\\ufffd\\x15\\ufffdou\\x03N\\ufffd;s\\ufffd\\ufffd\\ufffd\\ufffd::lP\\ufffd\\ufffd\\ufffdF\\ufffdg\\ufffd\\ufffd\\ufffd\\ufffdT\\ufffd\\ufffd\\x12{\"W\\ufffdA\\ufffd\\ufffdi[O\\ufffd\\ufffd\\ufffd\\ufffd\\x18\\x00\\ufffd\\ufffd\\x00:\\ufffd\\ufffd\\'\\ufffdu\\x0b\\ufffd\\ufffdw$h\\ufffdi\\ufffdqZ@\\ufffdo@D\\ufffd\\ufffd\\x008l\\x00>\\ufffd\\ufffd\\ufffd\\x0c\\ufffd\\x02DM\\ufffd\\ufffd,+\\x03O\\ufffd\\ufffd\\ufffd\\x00\\ufffd^\\ufffdkX\\ufffd\\ufffd\\ufffdJ\\ufffd\\x18\\ufffd\\ufffd\\ufffd\\ufffdL!\\ufffd\\ufffd\\ufffdB\\ufffd\\ufffdm\\ufffd\\ufffdZ\\ufffd\\x13\\ufffd\\ufffd.\\x1a]\\x7fP\\ufffd\\x126\\ufffd#\\\\zT3\\ufffd\\ufffdi\\x1b\\ufffd\\ufffd;\\ufffd\\ufffd\\ufffd\\ufffd\\x17\\ufffdJ\\ufffd\\x1f|\\ufffd\\ufffd\\ufffd\\ufffd\\ufffd\\ufffdzZ%\\ufffd\\ufffd`~|U\\x10_\\ufffdVb\\x02P$B?\\x1a\\ufffd|\\x16E\\ufffd\\n\\ufffd?\\ufffd\\ufffd\\ufffd\\ufffd]\\ufffd\\ufffd\\ufffd\\ufffd\\ufffd\\ufffdc-\\ufffd\\ufffd\\x19\\ufffd\\x00\\ufffdnk:\\ufffd\\ufffdS$6\\ufffd\\t\\x1a!\\ufffd(\\ufffdn-\\x10\\ufffdX\\ufffd\\ufffdR@\\ufffd\\ufffdO\\x12\\ufffd\\ufffd\\ufffd\\ufffd\\ufffd\\ufffd\\x00\\x08\\ufffdb\\ufffd\\x04\\ufffd\\x03l\\ufffd\\ufffd\\ufffd\\x00u\\ufffd+\\ufffd\\ufffd\\x14\\ufffd\\x1c\\ufffdm\\ufffd\\ufffd\\x03\\ufffd\\ufffd\\ufffd\\ufffd\\ufffdO\\ufffd\\ufffd\\ufffd\\ufffd-\\ufffd\\ufffd\\ufffd\\ufffd\\x08\\x14\\ufffd\\ufffd\\ufffdx\\x15\\ufffd\\ufffd\\ufffdm\\ufffd\\ufffdR\\ufffdT\\ufffd\\ufffd\\ufffd\\ufffd\\ufffd\\ufffd\\ufffd\\x15\\ufffd\\ufffdhQ\\ufffd\\ufffd\\x08\\ufffd\\ufffd%\\ufffdOQ\\ufffd\\ufffd\\ufffd\\ufffd\\ufffd\\ufffd,\\ufffdX/\\ufffd\\ufffd\\ufffd\\ufffd\\ufffd?\\ufffd\\x00R\\ufffdc\\x06\\ufffd\\x0c\\ufffd\\ufffd\\x1cS\\ufffdh\\ufffd\\ufffdNLt\\x7f\\ufffd{\\ufffd$\\x00\\ufffd!\\x07\\ufffd^\\ufffd\\ufffd\\ufffd\\ufffd-\\ufffd:\\ufffd\\x1bI\\ufffdf`\\ufffd\\ufffdOj\\ufffd\\ufffd\\ufffd\"e\\ufffd8H#\\ufffdXL\\ufffd\\ufffd\\ufffd=\\ufffdjY\\ufffd\\ufffd\\ufffd\\x16x\\ufffd\\x07\\ufffd\\ufffd\\x02,\\ufffd\\ufffdVq\\ufffd\\ufffd\\ufffd?x\\ufffd\\ufffdQU|<KZN\\x1b\\ufffd\\x12\\ufffdSj\\ufffd\\ufffd\\ufffd]\\ufffd\"\\x1f&\\ufffdGb)\\ufffdz\\ufffd\\ufffd\\ufffd5\\ufffd\\ufffd\\ufffd\\ufffd\\ufffd\\ufffd\\ufffd\\ufffd\\ufffd\\ufffd\\x1ee\\ufffdSw\\x0b\\ufffd\\ufffd\\ufffd\\ufffdA\\ufffd\\ufffdz\\ufffd\\ufffd\\ufffd\\ufffd\\ufffdp2T\\ufffd\\ufffd\\ufffd\\ufffdFzdS\\x02\\ufffd\\ufffddl\\ufffd\\ufffd\\ufffdK$\\ufffd\\x11\\x18Bs\\ufffd\\ufffd9eKH\\ufffd\\x11\\ufffd\\ufffd\\ufffd\\ufffdo\\nY\\x11}r?x\\ufffd\\ufffd\\ufffd=\\ufffd\\ufffd\\x11%\\ufffd\\ufffd&\\ufffd\\ufffd\\ufffd\\x03^\\ufffd\\ufffd##\\ufffd\\n\\ufffd\\ufffdC{u+N\\ufffd-\\ufffd\\ufffd\\ufffd;\\ufffd\\ufffdE\\ufffdV$\\ufffdU\\x116\\ufffd\\ufffdEN\\ufffd\\x00\\ufffd\\x08/\\ufffd\\ufffd\\ufffdC\\ufffd\\ufffd\\ufffd\\x1fz\\ufffd\\ufffdB\\ufffd\\ufffd\\x1f\\ufffd5\\ufffd\\ufffd\\ufffd\\x17SM\\ufffd\\x06\\ufffd*j\\ufffdL\\x14\\ufffd\\ufffd\\ufffd\\t\\ufffd\\ufffd\\x04\\ufffdG5\\ufffde^O\\ufffd_\\ufffd\\ufffd\\x18\\ufffdfi\\ufffd\\ufffd\\ufffd\\ufffd5\\x14ryg\\ufffd\\x05\\ufffd\\x02\\ufffd\\ufffd\\ufffd\\ufffd\\ufffd}(\\x02V\\ufffd\\x17\\ufffd\\ufffd\\ufffd\\x11\\ufffdh\\ufffd=\\ufffd\\x19\\ufffd(W\\ufffd\\ufffd\\ufffd3\\ufffdN\\ufffd\\ufffd\\x11&:g\\ufffdN\\ufffd\\x11s\\ufffd\\x1d\\ufffd\\ufffdP\\x05\\ufffdSm\\ufffd\\x16\\ufffd\\ufffd=$\\x1bf\\x1e\\ufffdY\\ufffd\\ufffd\\ufffd\\x1at\\ufffd\\x03\\ufffd\\x18\\ufffd\\ufffdh\\ufffd\\ufffdib\\ufffd\\ufffd%\\ufffd\\x12C\\ufffd\\ufffd\\ufffd\\x03T\\ufffd\\ufffd\\n$k\\ufffd\\ufffd\\x10\\ufffd\\ufffdO\\ufffd\\x11I\\x01\\x1e\\ufffdl\\ufffd\\x16\\ufffd\\x17\\x13\\x00&\\ufffd7\\ufffdG\\ufffd\\ufffd\\ufffd\\ufffd\\ufffd\\ufffd\\ufffdPX\\ufffd\\ufffdI\\ufffd\\x19\\'\\ufffd\\ufffd\\ufffd\\ufffd\\ufffd\\ufffd\\ufffdT\\x0c\\ufffd\\ufffd\\ufffd_\\ufffd\\ufffd\\ufffd\\x16\\ufffdu5\\ufffd\\ufffd\\x00_3y\\ufffd\\ufffd`f\\ufffd\\ufffd\\ufffd\\ufffd\\ufffdd#\\x06\\ufffd\\ufffd\\x06\"\\ufffd\\ufffd#\\ufffd\\ufffd\\ufffd\\x7f:\\ufffdh\\ufffd\\ufffd\\ufffd\\x1eA\\ufffdZ\\ufffd\\ufffd\\ufffd\\ufffd(\\ufffd\\x11B\\ufffd\\x05\\ufffd&\\ufffdA\\ufffdC\\ufffd\\x03\\x1cSuO\\ufffd\\ufffd\\ufffdn\\x14gvA\\ufffd\\ufffd\\ufffd\\x05\\ufffdM\\x14\\ufffd\\ufffdTI\\x01\\x04\\ufffd\\ufffd\\ufffd\\ufffdD\\ufffd\\x17\\ufffd\\\\\\ufffd\\ufffd8\\ufffde\\ufffd\\ufffd\\ufffd@\\x19r\\x1089\\ufffd\\ufffdj\\ufffd\\ufffd\\ufffd\\ufffdDn\\ufffd\\ufffd\\x0c\\ufffd\\ufffdN(\\ufffd\\ufffd-9\\ufffdd\\ufffd>\\ufffd\\ufffdV\\ufffdR\\ufffd\\ufffd\\r\\ufffd\\ufffd\\ufffd\\ufffd\\ufffd\\x18\\ufffd\\ufffd\\x1f}o,\\n&\\x0e\\ufffd`C\\ufffd\\x1e\\ufffd\\ufffd\\ufffd\\ufffdjVW\\ufffd\\t%\\ufffd}\\ufffd8\\ufffd3\\ufffd\\ufffdJ\\ufffdK`\\ufffd\\ufffd\\ufffd\\ufffd:\\ufffdo$\\ufffdQ\\ufffd\\ufffd\\ufffd\\x0e\\ufffd\\ufffd\\x01)\\x07\\ufffdb\\ufffd\\ufffd\\ufffd\\ufffd3\\ufffdj\\ufffdC\\ufffd\\ufffd\\ufffdu\\ufffdM\\ufffd\"O\\ufffd\\x00G\\ufffd03\\ufffdQ\\ufffd\\ufffd\\ufffd\\ufffd4\\ufffd\\ufffd\\ufffd\\ufffd\\ufffd;{\\ufffd\\ufffd\\ufffd\\x1f66\\ufffd\\ufffd\\x15\\ufffd\\ufffdOj\\ufffdp\\ufffd\\ufffd\\x14\\ufffd\\ufffd\\x00\\x1c|\\ufffd\\ufffd\\x14\\ufffd\\r\\x19\\ufffd\\\\P!\\x19\\ufffd\\ufffd\\x1f\\ufffd\\\\\\ufffdkg\\ufffd\\x1a\\ufffd\\ufffd\\x1fb_\\ufffdY\\ufffd\\ufffd\\ufffde=\\ufffdix?\\ufffdC\\ufffd\\ufffd\\ufffd\\ufffdC\\ufffd\\ufffd\\ufffd\\x19\\ufffdqq\\x0e\\x7f\\ufffdj\\ufffd\\ufffd\\ufffd\\x02\\ufffd\\ufffdZ\\x18\\ufffd\\ufffd\\ufffd\\ufffdj\\x0bv\\ufffd\\x10l\\ufffd\\ufffd\\x00b_\\ufffd\\ufffd\\x1cTm\\x1f\\ufffd\\ufffd\\x0e\\ufffd\\ufffd*\\ufffd\\ufffd\\ufffdw\\ufffdn\\r\\x1fl\\ufffd\\ufffd\\x00#pG\"\\ufffdp\\x14\\ufffd\\ufffdP\\ufffdN0\\x07qR\\ufffd\\ufffdx\\ufffd@\\x0f\\x0c\\x14sM\\x07\\ufffd\\ufffdE&\\ufffd\\ufffd\\x11\\ufffd\\ufffd\\ufffd\\r\\ufffdP\\x01\\ufffd/AHe\\x0b\\ufffd9\\ufffd$\\x0eMD\\ufffdnzP0-\\ufffd\\ufffd\\ufffd\\ufffd\\x18\\ufffdA\\ufffd\\ufffdT-\\ufffdx\\ufffd\\ufffd\\ufffd\\ufffd\\ufffd\\x1c\\ufffd\\x03\\ufffd\\x1cd\\ufffd\\ufffd6I\\x17\\ufffd\\x18\\ufffd?Z\\\\\\x068\\ufffd\\ufffdf\\ufffdV9\\ufffd?\\ufffd\\x02\\t\\x07\\ufffd\\ufffd\\x0e\\ufffd\\ufffd\\ufffdS~\\t?\\ufffd;\\ufffd\\x04\\ufffdv\\ufffdMi\\x01\\x07o\\ufffd\\x00\\x12\\x15pT\\ufffd\\x1cTH\\x15@\\x1dF)7f.z\\ufffdW\\x00u\\ufffd@\\ufffd\\x0b\\ufffd\\ufffd\\ufffdM=e\\ufffd\\ufffdGS\\ufffd\\ufffd\\ufffdW2c\\ufffd\\ufffd\\x12\\ufffda\\ufffdN\\x1b#\\ufffd\\x04h[\\ufffdmDM\\ufffd\\ufffd\\ufffd\\\\\\ufffd\\ufffd\\ufffdVX\\ufffd\\ufffd)\\ufffd\\ufffd\\ufffd+\\ufffdK{K\\ufffdq\\x14\\ufffd\\x7f\\ufffd00<}+\\ufffd\\x12\\ufffd[X\\ufffdlg\\ufffdV\\ufffd\\ufffdeL8\\ufffd\\ufffd3\\ufffd8\\ufffd\\x0c\\ufffd\\ufffdU\\ufffdn\\ufffd\\ufffd\\ufffda\\ufffd\\ufffdfh\\ufffd_\\ufffdiX\\ufffd\\x7f\\ufffd_\\ufffd\\ufffd\\ufffd\\ufffd\\x1a$w6\\ufffd\\x13\\x04\\ufffd\\ufffd\\ufffd\\ufffdt$T\\ufffd\\ufffdV2i\\ufffdrh\\ufffd~\\ufffd\\x0b\\x05i=k&\\ufffd\\ufffdk\\x10\\ufffd\\ufffd\\ufffdMn\\ufffd\\ufffd\\x0e\\ufffd\\x1a\\x18\\ufffd\\ufffd_k7\\x07\\ufffdZ.\\ufffd9o\\ufffd\\ufffd\\ufffd\\ufffd\\x14\\ufffd\\ufffd\\ufffd+\\x1f\\ufffdw\\x17\\ufffd\\x17\\x11[?\\ufffd\\ufffd\\ufffd\\x00\\ufffd\\ufffdF:\\ufffd\\ufffd_a_\\x0e(\\ufffd\\x15\\ufffd\\x0f\\ufffd\\ufffd*\\x0f\\x1fm\\ufffd\\ufffd\\ufffd`\\ufffd\\ufffd\\x1b\\ufffd\\ufffd\\x15q\\ufffd\\ufffd\\ufffde}\\ufffd\\ufffd`\\x19x56\\ufffduw}\\ufffd\\ufffd\\ufffd\\ufffd\\ufffd\\x03,@\\ufffdT\\ufffd,T\\x04\\ufffd\\ufffd\\x15\\x7f\\ufffd\\ufffd\\x1e*\\ufffd\\x0e1\\ufffd\\x01\\ufffd\\x7f\\x1a\\ufffd\\ufffd$Be\\ufffd\\ufffd\\ufffd\\\\\\ufffd\\ufffd\\x1d\\ufffd\\ufffd\\ufffd\\ufffd\\\\\\ufffd\\ufffd\\ufffd\\ufffdY!\\ufffd\\ufffdIl\\ufffd\\ufffd\\x08\\ufffd~5cWSq\\ufffd\\ufffd\\ufffd\\x04\\ufffd\\ufffd}\\ufffd\\ufffd\\ufffd\\x12\\x06\\ufffdN\\ufffd,\\ufffd\\ufffd@\\ufffd\\ufffd\\ufffd.\\x17-\\ufffd\\x00\\ufffd6\\ufffd\\ufffdW4\\ufffd\\ufffd\\ufffd\\ufffd\\ufffddf\\ufffd\\ufffdC*1\\ufffdP\\ufffd\\ufffd*\\ufffd\\ufffd\\ufffdq0*\\ufffd\\ufffd\\ufffd\\ufffdi\\ufffd\\x1a\\ufffd\\ufffd\\ufffd.\\ufffd\\ufffd,DR\\ufffd\\ufffd\\ufffd\\ufffd\\ufffdF\\ufffd\\ufffd\\ufffd\\x16s\\ufffde\\ufffdxJ\\ufffd~\\ufffdf\\x0b\\ufffdaQ\\x13\\x01<$\\ufffd\\ufffd\\ufffd\\ufffd5\\ufffd5\\ufffd\\ufffd\\ufffdC\\x0c\\ufffd\\x17\\ufffd\\ufffd\\x1ekw\\ufffdt\\ufffd\\ufffd\\ufffd63\\ufffd-\\ufffdLL\\ufffdl\\ufffd\\ufffd@\\ufffda\\ufffd\\\\\\ufffd\\ufffd\\ufffd\\ufffd\\ufffd\\ufffd\\ufffd\\ufffd\\ufffd\\x01!1O\\x16\\ufffd\\x1d\\ufffdj\\ufffd,\\ufffd\\ufffd\\ufffdn0+^\\ufffdK\\ufffd[\\ufffd\\ufffd\\ufffd\\ufffd4s\\ufffde\\x0b\\ufffd\\ufffdb\\ufffd\\ufffd\\'t\\ufffd\\ufffd\\ufffd\\ufffd\\ufffdco\\x14j\\x0bv\\x1e\\ufffd\\x0e\\ufffd5\\x18\\ufffd\\x1bx\\ufffd\\x13\\ufffdw\\ufffd2E\\x02\\ufffdu,\\x17\\x05\\ufffd\\ufffd\\x00#\\x1c\\ufffdT6\\ufffd\\ufffd,\\ufffd\\ufffd\\ufffd\\ufffd3\\ufffd\\ufffd\\\\\\ufffd4gE7t\\x16\\ufffdE\\ufffd\\ufffd\\ufffd\\x1c\\ufffd\\ufffd \\ufffd\\ufffd\\ufffdr\\ufffdQI*\\ufffd\\ufffdi\\ufffdo\\ufffd\\ufffd\\ufffdD\\ufffdS\\ufffdK\\ufffdP\\ufffd\\ufffd\\x1b\\x06o\\ufffd\\x14\\ufffd\\x18\\ufffd\\ufffd\\x17\\ufffdMhA\\ufffdj\\x17\\x10\\ufffd\\ufffd\\x1d\\ufffd\\x18\\ufffd,\\ufffd\\x0e\\ufffd\\ufffd\\ufffd\\x0b\\ufffd\\ufffdm.\\x16b\\x0cn6\\ufffdqX>\\x05\\ufffd\\ufffdV\\ufffd-\\ufffd\\ufffd\\ufffd]M\\ufffdD\\ufffd\\ufffd\\ufffd\\x089=\\ufffdgS\\ufffd\\ufffd\\ufffd\\ufffd;+{\\ufffdrc\\ufffdn=\\ufffdOC]]\\x0e[\\ufffdXho\\ufffd\\ufffdhr\\ufffd\\x0c\\ufffd4\\ufffd\\x00\\x12C\\ufffd\\ufffd\\ufffd)\\x06\"z{TR\\ufffd\\ufffdz\\ufffd\\ufffd\\ufffd%\\ufffd\\ufffd\\x13Z\\x1a\\ufffd\\ufffdm\\ufffd~|[\\ufffd\\x0czP\\x07M\\ufffd\\ufffd\\ufffd_\\ufffd\\ufffd\\x12\\ufffd^F\\ufffd\\ufffd\\x01Z<\\ufffd\\ufffd8\\ufffdy7E\\ufffd\\ufffdK\\ufffdb\\\\\\ufffd\\ufffd\\ufffd\\ufffd\\ufffdL\\x0fn\\ufffd\\ufffd\\ufffdX\\x0es\\ufffd\\ufffd\\x19\\ufffd\\x1dOQ\\ufffd\\ufffd-lo\\ufffd_2F\\x18pFsI\"\\ufffd+\\ufffd\\x1d\\ufffd\\ufffd\\ufffd\\ufffd\\ufffd\\ufffd\\ufffdg\\ufffd\\ufffd\\ufffd\\ufffd\\ufffd\\ufffd\\ufffd\\x19xr\\x1b?\\x07\\ufffd^\\ufffd2\\ufffdE!O~Et\\ufffdj\\x16\\ufffd\\ufffd;4,\\ufffd\\ufffde\\ufffd8\\ufffd\\x15\\ufffd\\ufffdc\\ufffd\\ufffd\\ufffd\\t\\x15\\ufffd\\ufffd\\x10\\ufffd\\r\\ufffd\\ufffd\\ufffd\\ufffd2\\x0c]%\\ufffd\\ufffdl\\ufffdb\\ufffd\\n\\ufffdR\\ufffd\\ufffd\\ufffd\\ufffd\\ufffd\\x0f\\ufffd\\ufffd\\ufffd\\ufffd\\ufffd\\ufffdo\\ufffd\\ufffd\\ufffd\\ufffd]\\ufffdC\\ufffdS\\ufffdY\\ufffd\\ufffd\\ufffd\\ufffd%y\\ufffd[v\\ufffd\\ufffd\\ufffd\\ufffd\\ufffd\\ufffd\\ufffd\\ufffd\\x02<\\ufffd\\ufffd t\\ufffd\\ufffd\\x0eN\\ufffd\\ufffd\\ufffd\\x15\\ufffd\\ufffd\\ufffd\\x1a\\x15\\ufffd\\ufffd\\ufffd\\ufffd\\x18\\ufffd\\x045R\\ufffd!\\ufffd>\\ufffdw\\x0f\\ufffde\\ufffd\\ufffd\\ufffd)r\\ufffd-\\ufffd<|\\ufffd\\x00\\ufffd\\ufffdy\\ufffdD\\ufffd\\x00\\x18`\\ufffd\\ufffd\\ufffde\\x0f\\ufffde\\ufffd\\ufffdt\\x1c-5\\ufffd\\ufffd2\\ufffd-\\ufffd\\ufffd`3\\ufffd\\ufffd\\ufffd(\\ufffd\\x1e\\ufffd 0\\ufffd\\x16a@\\x14uxC@\\ufffd\\ufffd\\ufffdY\\ufffd\\ufffd^>\\ufffd&V\\ufffd\\ufffdNW\\ufffdkE*\\ufffdZ\\ufffd\\ufffd\\ufffd\\x04\\x1e;U\\x18ov\\ufffd\\ufffd \\ufffdA<\\ufffd1L\\x0b\\ufffdk\\ufffd[\\ufffd\\x1c\\ufffdXL\\ufffd7\\ufffd\\ufffd\\ufffdC\\ufffd\\ufffd\\ufffd\\ufffd\\ufffd\\x19\\ufffdf\\ufffd\\ufffd\\ufffd\\ufffd\\x7fh\\ufffd\\x03\\ufffd\\ufffd\\ufffd\\ufffd\\x1fx\\ufffd\\x18Y\\ufffdE\\x18MB\\ufffdt\\ufffd\\x00U\\x11\\ufffd#\\ufffdQK1\\ufffdig\\ufffd\\ufffd\\ufffd\\ufffd;\\ne\\ufffd\\ufffd\\ufffd\\r\\ufffd7\\ufffd\\x14\\ufffd\\ufffd;\\n\\ufffd\\x12T\\ufffd\\x11\\ufffd\\x00\\ufffd\\x05\\ufffd\\x01Iy\\x00\\ufffd\\ufffdQ\\ufffd\\x1e\\x0f\\ufffd\\ufffd|\\x7f\\ufffd\\x15\\x136\\t\\x1dI\\x15\\x1d\\ufffd\\ufffd\\x15\\ufffd\\ufffd\\ufffd(F\\x19OCHE\\ufffd*|kV\\ufffd\\ufffd1\\ufffdA.E\\ufffd\\ufffd=\\x18\\ufffd,\\ufffdI\\ufffdK+\\ufffdF\\ufffd\\ufffd\\ufffd\\ufffd#\\ufffdSoC\\r^\\ufffd\\x07\\ufffd\\ufffd?\\ufffd;\\x014S\\x19\\ufffd\\\\(\\ufffd(\\ufffdS\\ufffd1\\ufffd\\ufffdS\\ufffd\\ufffd\\ufffd*\\x08\\ufffd\\x1c\\ufffd\\ufffd\\ufffd\\t\\x12S&\\ufffd\\ufffd3\\ufffdh\\ufffd\\ufffd\\ufffdO\\ufffd\\ufffd\\ufffdUl\\x10\\ufffd:U\\ufffd\\x06\\ufffd\\ufffd7\\x03\\ufffd\\ufffd,V\\ufffdy\\ufffd\\ufffd\\x1bP\\ufffdd\\ufffd\\x14\\x08\\ufffd;G\\ufffd\\ufffd\\ufffdV\\ufffd\\ufffd\\'\\ufffd\\ufffd8\\ufffd\\ufffdU\\ufffdF#x\\ufffd|e\\ufffd\\x0fOjK\\ufffd\\ufffdS\\ufffd@\\ufffd\\ufffdTs\\ufffd\\ufffdO\\ufffdV\\ufffd\\ufffdF`U\\ufffdTv\\ufffd\\x0c\\ufffd\\ufffdk+\\ufffdvy\\ufffd\\ufffd\\ufffd\\ufffd\\ufffdn\\ufffdB\\ufffd\\ufffd)\\ufffd\\ufffd1\\ufffd\\ufffd\\ufffdfnN+&\\ufffd#o$\\ufffdV3\\ufffd\\ufffd\\ufffd\\ufffdL\\ufffd\\ufffd\\ufffd*`\\x16\\ufffd\\x1ei\\x0cK+Ka\\ufffd@\\ufffdcw\\x19\\ufffd\\ufffdF\\ufffd\\x03i\\ufffdm\\ufffd\\ufffdL\\ufffd/\\ufffd( \\x12\\ufffd\\ufffd\\ufffdiw~u\\ufffd\\ufffd\\ufffd\\ufffdxI\\ufffdP\\ufffd\\ufffd\"\\ufffd\\ufffd\\ufffd\\x17\\x1f\\ufffd\\ufffd\\ufffdl\\ufffd\\ufffd\\x1b\\ufffd\\ufffd\\x05\\ufffd\\ufffd\\x11\\ufffd#\"+u\\x7flqM\\ufffd\\x01\\ufffd\\ufffd\\ufffd\\x17\\ufffd\\x01\\ufffdo\\ufffdoj\\ufffd\\ufffd\\ufffd}:\\ufffdK9ONU\\ufffd\\ufffd+GA\\ufffd\\x00M\\ufffd\\ufffd\\ufffdb\\x7f\\ufffd,\\ufffd\\ufffd#6\\x16\\ufffd\\ufffd\\ufffd\\ufffd\\ufffd\\ufffd\\ufffd\\'\\ufffd\\ufffd,\\ufffd>H\\ufffdx\\ufffd\\ufffd\\ufffd:\\x1e\\ufffd\\x01#\\x11\\ufffd\\x1c\\ufffd\\ufffdv\\ufffdTc\\ufffd\\x1e\\ufffd*\\x101\\ufffd\\ufffd@M;?\\ufffd\\x11:\\ufffd\\ufffd\\ufffd\\ufffd0\\x13\\x07\\ufffd\\ufffd\\ufffd\\x04\\ufffd#\\x12:\\ufffd\\x1f1\\ufffd2\\ufffd\\ufffd\\x07A\\ufffd@\\ufffd\\ufffd\\r\\ufffd=)\\x1c\\ufffd\\x1c\\ufffd\\ufffd\\x0b#bRz\\x1e\\ufffd\\ufffd\\ufffd\\ufffd\\x009\\x1d\\ufffd\\ufffd\\ufffdX\\x00i\\x04\\ufffd8\\ufffd\\x16\\ufffd^\\ufffd\\x1a\\ufffd\\ufffd\\x0c\\ufffd\\ufffd4\\x08\\ufffdo\\ufffd\\ufffd\\ufffd\\ufffd< \\ufffd-wP\\ufffd$\\ufffd\\x0f\\ufffdT\\ufffd\\ufffd\\ufffd\\x0e\\x17=\\ufffd\\ufffd\\ufffd\\ufffdo\\x12\\ufffd\\x03\\ufffd\\ufffd\\x18\\ufffd\\ufffd\\x02=d~\\ufffd\\ufffd\\ufffd\\ufffd\\ufffdZ\\ufffd\\ufffdJ\\ufffd\\x12*\\ufffd\\ufffd9\\ufffd\\ufffd\\ufffd\\x15\\ufffd\\ufffd\\ufffd0\\ufffd\\ufffdS\\x01\\ufffd\\ufffd\\x19\\ufffdz\\x00\\ufffdS.:u\\ufffdsMu\\x0er01\\ufffd\\ufffd\\x0c`<\\ufffd|\\ufffdU\\ufffd\\ufffd\\ufffd\\x11\\ufffd\\x129\\ufffdB#\\ufffdG4\\x00\\ufffd\\x19\\x07\\ufffdx\\ufffd\\x03\\ufffdg\\ufffdS\\ufffd\\ufffdiT\\x0cb\\ufffd\\x03\\ufffdFNx\\ufffd\\ufffd\\ufffd\\ufffdo\"\\ufffd\\x04\\x11\\ufffd@\\x08\\ufffd\\ufffd9\\x1d\\ufffd\\ufffd\\x7fx\\x0ex\\ufffd4\\ufffdN8\\ufffd\\ufffd\\ufffd\\x06\\ufffd@\\x08H\\x1c\\ufffd\\ufffd\\ufffd\\ufffdu\\ufffd\\ufffd\\ufffd\\ufffd`\\x12)\\ufffd\\x04\\x12;P1\\ufffd\\ufffd\\ufffd\\x05F\\t\\x04\\ufffd\\ufffdD\\x0e\\x18\\ufffd\\ufffd\\ufffd\\ufffdz\\ufffd\\ufffd\\x02\\x11\\ufffd3\\ufffdQ\\ufffd8\\ufffd\\ufffd\\ufffdFNqN\\ufffd\\ufffd\\ufffd\\ufffd\\ufffd\\ufffd\\ufffd\"\\ufffd\\ufffdb\\ufffd\\x17<\\ufffd\\x02\\ufffd\\ufffd\\x10Dy\\ufffd\\ufffd\\ufffd\\ufffdT\\ufffd=h\\x19\\ufffd\\ufffd\\ufffd\\x01\\ufffdKyta\\ufffd\\ufffdLH\\x18\\ufffd\\ufffd%A\\ufffd\\ufffd\\ufffd\\x0fS]\\ufffd5\\ufffd@\\ufffd\\ufffd-q\\ufffd\\x00\\r\\ufffd!\\ufffd\\ufffd\\ufffdf\\x1b\\ufffd\\ufffd\\x17v\\ufffdX`q\\ufffdh\\ufffd\\ufffdhKokbN\\ufffd\\ufffd\\x14\\ufffd\\ufffd\\x19\\ufffd\\x1e\\ufffd\\ufffd#F}\"}*m\\x17C\\ufffd\\ufffd9L\\ufffd\\ufffd|\\ufffd\\ufffd\\ufffd5\\ufffd\\ufffd\\ufffd\\ufffd\\ufffdC\\ufffd\\ufffd\\ufffd\\ufffdDb7!\\ufffd\\ufffdx\\x04V\\ufffdA\\x0bxGIh\\ufffd\\ufffd\\ufffdLH\\ufffdF\\ufffd\\ufffd>\\ufffdS]\\ufffdK\\ufffd\"\\ufffd,\\ufffd\\x05\\x0e\\t\\ufffd\\ufffdz\\ufffd\\x06\\ufffdQ\\ufffd\\ufffd3N\\ufffdp\\ufffd\\x00G\\ufffd\\x03>\\ufffd\\ufffd\\x1f\\x19\\ufffd\\ufffd\\ufffd\\\\#\\ufffd\\x02@\\x18\\ufffdT\\ufffdQ\\ufffd\\ufffdZ\\ufffd\\x00\\x1e+3^\\ufffdZZ\\ufffd\\ufffd\\ufffd1\\ufffdZ\\ufffd\\ufffdhV\\ufffd{\\ufffd\\ufffd\\ufffd,-d\\ufffd\\ufffd\\ufffd\\x0c\\ufffd\\ufffd\\ufffd\\x03\\ufffd\\ufffd\\ufffd/o\\ufffd\\ufffd\\ufffd5\\x0b\\ufffd\\ufffd*\\ufffd\\ufffd\\ufffd\\ufffd\\ufffd\\ufffd\\x17\\x19\\ufffdY\\ufffd\\x04m\\ufffd\\ufffdu\\x0b\\ufffd\\ufffd1op\\ufffd\\ufffd\\ufffd1\\ufffd\\ufffd\\ufffd\\x05[\\ufffd\\ufffdSy\\x07\\ufffda\\r\\ufffd\\ufffd\\ufffd\\ufffdv\\ufffds\\ufffdn\\ufffd\\ufffdRV\\x14K:\\ufffd\\ufffd}\\x06w\\ufffd\\x19a\\x04\\x0c\\ufffd\\x1d\\ufffd\\ufffd[\\ufffd\\ufffd#\\x1d\\x00\\x15\\ufffd{\\ufffd\\ufffd\\ufffdSi}\\ufffdE4m\\ufffd0y\\x15\\ufffd\\ufffdOk0\\ufffd\\ufffd\\ufffd\\t-\\ufffd811\\ufffd}\\ufffdf>R[\\ufffd\\ufffd\\ufffd\\ufffd\\x18\\x01\\ufffd\\ufffd5\\ufffd\\ufffdq\\ufffd\\x04]\\x03\\ufffdW\\ufffd\\x15\\ufffd\\ufffd\\x1f?Ia\\ufffdas\\ufffd\\ufffdxt\\ufffd\\x00\\ufffd\\x08\\x07\\x1f5\\ufffddP\\x1b\"\\ufffdD\\ufffd\\ufffddw\\ufffdR\\ufffd\\t\\ufffd`\\ufffd\\ufffd\\x1c`\\x064\\ufffd\\ufffd\\ufffd@9\\x00\\ufffd\\ufffd\\ufffd\\ufffd4\\'\\x05\\ufffdwzPJ\\ufffd\\ufffdZ\\ufffd\\x18\\ufffdd%~`@\\ufffdo\\\\\\ufffd\\ufffdUN\\ufffdP\\ufffd\\ufffd\\x0cqma\\ufffd\\x02\\ufffdO\\ufffd\\ufffd<B\\'>b\\ufffd\\ufffd \\ufffd\\ufffd$Xt+\\ufffd\\ufffd\\ufffd\\ufffd\\x01\\ufffd\\ufffdf\\ufffd|$\\x0b\\ufffd1\\ufffd\\x08\\ufffd\\ufffd\\ufffd+$@<\\ufffd]q\\ufffdO\\ufffd\\ufffd\\ufffd|\\ufffd\\ufffdl;BqY6\\ufffdm\\x0c\\ufffd!F\\x08\\ufffd\\ufffd\\ufffd\\\\Y0\\ufffd\\ufffd\\ufffd\\ufffd\\ufffd\\ufffd\\x11\\ufffd\\ufffd\\ufffd\\ufffd\\\\\\ufffd [\\ufffd\\ufffd\\ufffd\\ufffd\\ufffdz\\ufffd#\\ufffd\\ufffdU):\\ufffd\\x10\\ufffd\\ufffd\\x1c\\ufffd\\ufffd1\\\\)2\\ufffd{\\ufffd\\ufffd\\ufffdq\\ufffd\\x1a\\ufffd\\x13O\\ufffdn-\\ufffdg\\ufffd\\ufffdH\\ufffd\\ufffd\\ufffd\\ufffd\\ufffd\\ufffd\\ufffd\\ufffde\\ufffd`r\\ufffd<\\ufffdz\\ufffd\\rUY\\ufffdxQ\\ufffdw<\\ufffd\\ufffd$f\\x0c\\x0beZ#\\ufffd\\ufffd\\ufffd\\x08\\ufffdG\\ufffdK\\ufffdE>\\ufffd6\\ufffd\\n\\ufffd-\\ufffd\\x06\\ufffd\\ufffd\\x1f\\ufffdjf\\ufffd\\ufffdWR\\ufffd-\\ufffd\\ufffdF\\x10`\\ufffd\\ufffd\\x10\\ufffdW\\ufffd\\x03\\x1fJz\\ufffdd9\\ufffd\\ufffd\\ufffd\\ufffd\\ufffd\\ufffd\\ufffd\\ufffd+O\\x0c\\ufffdY{di\\ufffd\\ufffd\\ufffd\\ufffd\\ufffd\\ufffdSf\\ufffd\\ufffd\\ufffd\\ufffd\\ufffd@\\ufffd\\ufffd\\ufffd\\ufffdqZ\\ufffd\\x1e\\ufffd\\ufffd\\x06\\ufffd\\ufffd\\ufffd\\ufffd\\ufffd\\x19\\x14\\ufffd\\ufffd\\x06\\x7fJ\\ufffd%\\ufffd\\ufffd\\x1e+\\x05_\\ufffdF\\x07#\\ufffd>S\\ufffd[-Q\\rX\\ufffd2\\x16B\\x16VL\\ufffd\\ufffd<VW\\ufffd\\ufffdU\\ufffd\\ufffd\\ufffd^n\\ufffd\\ufffd?\\ufffd\\ufffd\\ufffd\\x7f\\ufffd[c\\ufffd\\ufffdj\\x07`\\ufffd\\'\\ufffd\\ufffd\\ufffd?\\ufffd\\ufffd\\x1f\\ufffd\\ufffd\\ufffd\\x0f\\ufffd\\ufffd\\ufffdA\\ufffd\\x00bH\\ufffdu\\x15D\\ufffd\\ufffd#k+K8\\ufffd\\ufffd\\ufffd\\ufffd\\ufffd>\\ufffd\\ufffd\\ufffd\\ufffd\\ufffd\\ufffdz\\r\\ufffdg\\ufffd\\'\\ufffd\\x04\\ufffd\\ufffd\\ufffd\\x7f\\x0eh\\ufffd\\ufffdr-\\ufffd&\\ufffd\\ufffd\\ufffd\\ufffdF\\x1eo\\ufffd\\ufffdL\\x7f\\x01\\ufffd\\ufffd\\ufffd\\ufffd\\ufffd\\ufffd\\ufffdk\\ufffd:\\ufffd\\ufffdt\\ufffd)\\ufffd\"O\\ufffd\\x7f\\ufffd\\ufffdc\\ufffdj]pgP2\\ufffd;\\ufffdj\\ufffd\\ufffd\\ufffd:p\\ufffd\\ufffd\\ufffdq\\ufffdb5\\ufffd,j\\x12\\ufffd\\ufffd\\ufffd\\ufffd\\ufffd=\\ufffdU\\ufffd\\ufffd\\ufffd\\ufffd|\\ufffd\\ufffd\\ufffd\\ufffdY\\ufffdYd\\ufffd\\ufffd\\x10\\ufffdpWy\\ufffdV9}R\\ufffd(\\ufffd\\ufffd/\\x1f\\ufffd\\x03%\\ufffd_\\x02x\\x0f%y\\x02\\ufffdV\\ufffdL\\x02i\\ufffd\\ufffdp\\ufffd\\x00v?\\ufffd\\ufffdt~F\\ufffdp\\ufffd)-sq\\ufffd\\ufffdE\\ufffd\\ufffd\\ufffdL{\\ufffd\\ufffd<\\ufffd\\ufffd\\ufffd\\x0f\\ufffd\\ufffdZ\\x04[\\x18\\ufffdNG\\x0c:Vt\\ufffd\\ufffd\\ufffd_\\x15\\x0b\\ufffd8Wh\\x03\\ufffd+IY\\x1a@a\\ufffd\\x00U\\ufffd\\ufffd5\\ufffdp\\x04z\\ufffd\\ufffd=OJ\\x00\\ufffd$)qng\\ufffd\\x1bH\\ufffd\\ufffd\\ufffdY\\ufffdHg\\ufffd\\ufffd\\ufffd\\ufffdjq+\\ufffd\\x13,G\\ufffd\\x1dG\\ufffdL\\ufffdEq\\x13\\ufffd\\ufffd.\\ufffd\\x08\\ufffd\\ufffdt\\ufffd\\ufffd\\ufffd\\ufffd\\ufffd8%G\\x14\\ufffd\\ufffd\\ufffdN\\x0fV9\\ufffd=p\\ufffd\\ufffd\\ufffd\\ufffd\\ufffd\\ufffd\\ufffd\\x1b\\ufffd\\ufffd\\x14\\x0c\\ufffd\\x16\\ufffd\\ufffd\\ufffdE;O\\ufffd\\ufffd\\ufffd\\ufffd\\x08_W\\ufffd\\ufffdb;\\ufffd\\x08c\\ufffd\\ufffd\\ufffd[\\ufffd\\ufffd\\ufffd\\ufffd\\ufffd\\x15\\ufffd\\ufffd=tn\\ufffdI\\ufffd\\ufffdE#\\ufffd\\ufffd\\ufffd\\ufffd\\ufffd\\'\\ufffdv\\ufffd\\ufffdA\\x03\\x07\\ufffdF\\x19\\ufffd\\ufffd@\\x01\\ufffd\\ufffd\\ufffd\"\\ufffd6\\ufffdnNS\\x03\\r\\ufffdTs\\ufffd\\ufffd\\ufffdd\\x10\\ufffd\\ufffd\\ufffd`)\\x01\\ufffdb\\ufffd\\ufffd\\ufffd\\ufffd\\ufffdH\\ufffd\\ufffd{\\ufffd\\ufffd\\ufffdE\\x12\\ufffd\\nc\\ufffd_\\ufffd\\ufffdZ\\ufffd\\ufffd)\\ufffd\\ufffd\\ufffdi\\ufffd\\ufffdS\\ufffd\\ufffd=\\x05R\\ufffdZ=$g\\ufffdd\\ufffd\\ufffdO|P2\\x7f8C\\ufffd\\x1c\\ufffd\\ufffd\\x1fj\\ufffdq;\\ufffd\\x0cw\\x106\\ufffdQ\\ufffd\\ufffd\\ufffd\\ufffdD_8\\ufffd\\ufffdF_\\ufffd~Q\\x1d)n\\x06\\ufffd\\ufffdv>\\ufffdk\\ufffd\\ufffd\\ufffd\\ufffd\\x18\\ufffde\\ufffd\\ufffdzd\\ufffd_X\\ufffd,?,\\ufffd\\ufffd+\\ufffd\\ufffd\\ufffd\\ufffd\\x14\\ufffd<\\ufffdz\\x05\\ufffd\\x06+\\ufffd2A\\ufffd\\ufffdUH\\ufffd\\ufffd\\ufffd\\ufffd`\\x7f\\ufffdk+\\ufffd\\ufffd\\x1eE5\\ufffd\\x16m\\ufffdA\\ufffdj2`\\ufffd;,Y\\ufffdT\\ufffd\\ufffd%\\ufffd\\ufffd\\x11\\ufffd\\x03\\x03\\ufffdZ\\ufffdp\\ufffdi6\\ufffdt\\ufffdM\\ufffd\\x12$\\ufffd\\ufffd\\ufffdS\\ufffd6\\ufffd\\ufffd\\ufffdu$\\x1eU\\ufffd5\\x00>8&\\ufffd<<\\ufffdb?\\ufffd,\\ufffd\\x0cz\\ufffdu\\x0f\\ufffd\\ufffd\\ufffdx\\ufffd[v\\ufffdq\\x11\\x1f\\ufffd<]\\x1d>xo\\ufffd?\\ufffd\\x18p\\x06w/z\\ufffd\\ufffd\\ufffdl|E\\ufffd\\ufffd\\ufffd-\\ufffd\\ufffd\\ufffd\\ufffd)\\ufffd\\ufffd\\ufffdl\"\\ufffd\\ufffd\\ufffd\\ufffd\\ufffd=\\ufffd\\x18\\ufffd\\ufffd\\ufffd\\ufffd\\ufffd\\ufffd\\ufffd=kG\\ufffd\\x10\\ufffd|@\\'_\\ufffdl\\ufffd\\ufffd\\ufffdl\\ufffd4\\ufffdkz\\ufffd\\ufffdn\\ufffd\\x1b\\x06G5\\x1c\\x01H\\ufffd=\\ufffd\\ufffdQ\\ufffdK\\ufffd\\ufffd\"\\ufffd\\ufffd\\ufffd\\ufffd\\x12s\\ufffd;\\ufffdv\\ufffdH\\ufffds\\ufffdK,@\\x02X\\ufffdj\\ufffd0\\r\\ufffd\\x18\\x14\\ufffd\\x04\\ufffd\\ufffdP\\x01\\x02\\ufffd\\ufffd\\x04x\\x18\\ufffd9\\ufffdW\\ufffd\\ufffdG\\ufffd\\ufffdL\\ufffd\\ufffd\\ufffd\\ufffd\\t\\ufffd*?,\\ufffd\\ufffd\\ufffdf>{\\ufffd\\ufffd6\\ufffdF\\rY\\ufffd\\ufffd\\ufffd1\\ufffdpM\\x001\\ufffd\\ufffd\\x11\\ufffd\\ufffd\\ufffd\\ufffd\\x0e8\\ufffd5\\ufffdx\\ufffdc\\ufffd\\ufffdU\\ufffd\\ufffdrOnj\\ufffd\\ufffd\\x18\\ufffd\\x11j\\x03\\ufffd\\ufffd\\ufffd\\x7fZ\\x043\\ufffd \\ufffd\\x06\\x0795L*\\x009\\ufffd\\ufffd\\ufffdb83\\ufffd\\ufffd\\x15\\ufffdX`d\\ufffd2N{ri\\ufffd\\ufffd\\ufffd\\ufffd&\\ufffd\\ufffd\\ufffd\\ufffd)\\ufffd\\x13\\ufffdx\\ufffdD\\ufffd\\ufffd\\ufffd\\x07\\'\\ufffd\\ufffd\\ufffd \\ufffd\\ufffd\\ufffd0r:\\ufffdd\\x1d\\ufffd\\ufffd@\\ufffd\\x0b\\ufffd\\ufffd\\ufffd\\ufffd\\x11\\ufffdP\\ufffd\\ufffd\\ufffdNE\\x00 \\ufffdR}\\ufffd\\ufffd\\ufffd\\ufffd~4\\ufffd\\ufffd\\x14\\ufffd\\x7fz~\\ufffd\\x00\\ufffd`{\\ufffd\\x03\\ufffdNi\\x19\\ufffd^;\\x1a\\x01\\ufffd\\ufffdP!\\ufffdK\\x03H}*J\\ufffd\\ufffd\\ufffdc\\ufffdh\\x01\\ufffdz\\ufffdH\\ufffdh\\ufffd1\\ufffd\\x03\\ufffdv\\ufffd\\x10U\\ufffd\\ufffd\\ufffd\\ufffd\\t\\ufffde\\ufffd\\ufffd\\ufffdn\\ufffd\\x12y\\ufffd\\ufffd\\ufffd\\ufffd\\ufffdDy\\x00\\ufffd\\ufffd@\\x12Y\\ufffd\\ufffd\\ufffdHB\\ufffd\\ufffdc\\ufffdZ0Y\\ufffd]\\ufffd-\\ufffd,YO\\x12f\\ufffd\\x14)\\ufffd7#\\ufffd\\ufffd\\ufffd\\x16e$\\ufffd\\ufffd\\x0e1\\ufffd@\\x1b\\ufffd\\ufffd\\x1e\\x10F\\x16\\x19\\ufffd[\\x19\\x1d\\ufffd?\\ufffdG\\ufffd\\x1b\\ufffd\\ufffd\\ufffd\\ufffd\\ufffd0F3.y\\ufffd\\ufffd\\x03VK\\ufffd`xrm\\ufffd\\x0f3\\ufffd\\\\\\ufffd\\ufffd\\ufffd\\ufffd\\ufffd\\x02O1Ld0\\ufffd\\ufffd\\r\\x00R\\x16oe\\ufffd\\ufffdK\\x1b\\ufffd\\x12\\x18\\ufffd`\\ufffd\\ufffd\\x7f\\x17j\\ufffd\\x05\\ufffd[e-\\ufffd\\ufffd\\x199\\x01\\ufffd\"\\ufffdu6I\\ufffd+M\\ufffd\\t$\\ufffd\\ufffd\\ufffd\\ufffd\\ufffd\\x152e%R\\ufffd\\ufffd}i\\t\\x05\\ufffdSC\\ufffd\\ufffd\\ufffd\\ufffd\\ufffd\\x16\\ufffd\\ufffd4m\\ufffd9\\ufffdY\\ufffd:G\\ufffd\\ufffd\\ufffdR\\x16\\ufffdi\\ufffd\\ufffd\\ufffd\\x06\\ufffd\\ufffd\\ufffd\\ufffd\\x1e}\\ufffd\\ufffd=\\x19j\\ufffd\\ufffd\\x11M\\x0cPM\\x0c\\ufffd\\ufffdA\"\\ufffdCT\\ufffd\\ufffdQ\\ufffd\\ufffd\\ufffd\\ufffd\\ufffd\\ufffd\\ufffdx^;\\x1b\\ufffd\\ufffd[\\ufffd\\ufffd\\ufffd\\ufffd/\\ufffd\\ufffd\\ufffd\\x1dMV\\ufffdl<5\\ufffd\\ufffd\\ufffd\\ufffdR\\ufffd\\ufffd\\ufffd\\ufffd\\ufffd!\\x1a\\ufffd3\\ufffdp\\x00\\x02\\ufffd\\ufffd;_\\ufffd\\ufffdN\\ufffd-\\ufffd\\ufffd\\ufffd\\ufffd\\n\\ufffd\\x1cr;\\ufffd\\ufffd\\ufffd\\ufffd\\ufffd\\ufffd\\ufffd\\ufffdv\\ufffdy\\x13\\ufffdg\\x163 \\ufffd\\x0f\\ufffdi\\ufffdH\\ufffd\\ufffdY\\ufffd?\\ufffd\\ufffd\\ufffd\\x17\\x1a\\ufffd\\ufffdt\\x0f\\ufffd\\ufffd1\\x18\\ufffd\\ufffdM\"\\ufffdK\\ufffd\\ufffd\\ufffdK\\ufffdg\\ufffd`\\ufffd\\ufffd\\ufffd\\x1d\\ufffd#\\ufffd\\ufffd+\\x17S\\ufffdk\\ufffdR/\\ufffdhp.f\\x00\\ufffd\\x1a\\ufffdy\\ufffdZ\\ufffd\\ufffd\\ufffdj\\ufffd\\x11e\\x12A!\\n\\ufffd\\ufffd+6\\ufffd\\ufffdq\\ufffdh\\ufffd\\ufffd\\ufffd\\ufffd\\ufffd\\x03\\ufffd\"r\\ufffdR\\x02\\ufffd\\x11Q\\ufffd\\ufffdx#\\ufffd\\ufffdU\"\\x0cd\\ufffd=MH\\ufffdZK\"\\ufffd\\ufffduB\\ufffd\"3M\\ufffd+\\ufffd\\ufffd\\x16 |\\ufffd,m\\ufffdS\\ufffdQ\\ufffd\\ufffd\\ufffd\\ufffd\\ufffd\\ufffd\\ufffd\\x04\\ufffd\\x00:\\ufffd\\x04\\ufffd\\ufffd8\\ufffd 3v=*\\ufffd\\ufffd\\x0b\\x12c\\ufffd\\ufffdW\\ufffdX\\ufffd\\ufffd\\ufffd\\ufffdD\\x1f\\ufffdi\\x008$\\x03\\ufffd)\\x02V5\\ufffdde\\ufffdS\\ufffd$g\\ufffdU\\ufffdt\\ufffd\"[K\\ufffd\\ufffd\\ufffd\\ufffd\\x18`\\ufffd\\ufffd=z\\ufffd\\ufffd\\ufffd\\ufffd\\ufffd\\ufffd\"\\ufffd\\ufffdp\\ufffd\\ufffd\\ufffd\\x1e}R\\ufffdW\\ufffd\\ufffd\\ufffd\\ufffd\\ufffd4\\ufffdN\\ufffd\\ufffd\\x11\\ufffd\\ufffd\\ufffd[L\\ufffd6O*\\ufffd/p\\x07\\ufffd\\ufffd\\ufffd\\ufffd\\ufffd\\ufffd\\ufffd\\ufffd%8\\ufffd\\x1e\\ufffd\\ufffd\\x13\\ufffd\\ufffd\\x18~P\\ufffd2Gz\\ufffd\\ufffd\\ufffd)X30\\ufffdp\\ufffd\\ufffd\\x08\\ufffd\\x04s\\ufffd\\x7fdV+\\ufffd:\\ufffd\\x15\\ufffd\\ufffd\\ufffd\\ufffd\\ufffdEI\\x0bM\\x06\\ufffd%\\ufffd\\x00\\x15OC\\ufffdWg\\ufffdx\\ufffd[\\ufffd\\ufffd{\\ufffd\\ufffd\\ufffd\\ufffd\\ufffdX\\ufffdP\\ufffd\\x1f1\\n\\ufffd\\ufffdOM\\x1fA\\ufffd\\ufffd.\\ufffdM\\ufffd\\ufffd\\x0cb\\ufffd\\ufffd\\ufffd\\ufffdR\\ufffdr\\ufffd\\x19J\\ufffdY\\ufffd\\ufffd\\ufffd\\ufffd+\\ufffd\\ufffd\\x0cxYK\\x1c\\ufffdqX\\ufffd\\ufffd\\ufffdN\\ufffd\\ufffd\\ufffdd\\x1f\"\\ufffd[\\ufffd\\x158\\ufffd\\ufffd\\ufffd\\ufffd\\n{\\ufffdZ\\ufffd~Q\\ufffd\\x00\\ufffd(NA\\x1d\\ufffdg\\ufffdS \\ufffd\\ufffdH\\ufffd\\ufffdQ\\ufffdV\\x1e\\ufffd\\ufffd\\ufffd\\ufffd\\x17\\ufffd\\ufffd\\ufffd\\ufffdQ\\ufffd\\ufffd6\\ufffd\\ufffd\\ufffd5b\\x0f\\x03\\ufffd\\ufffd\\ufffd\\ufffdA\\ufffdb\\ufffd!_\\ufffdU\\ufffd-z\\ufffd\\x1e$\\ufffd>F\\ufffd\\ufffd\\ufffd\\ufffdvm\\ufffd\\ufffdY\\ufffd\\ufffd}\\n\\ufffd\\ufffdbK#;\\x1cr\\ufffd\\ufffd\\ufffd\\ufffd\\ufffd\\ufffd2oS/I\\ufffdo\\ufffd,\\ufffdBu{e\\ufffd\\ufffdT\\ufffd\\ufffd\\ufffdg\\ufffd\\ufffd\\x1dv\\x0f\\x04j\\ufffd\\ufffd\\x1bf\\ufffd\\x0b\\ufffd\\x1f\\ufffd\\ufffd\\ufffd\\ufffd>\\ufffd]>\\ufffd\\ufffdS\\ufffd\\ufffdD\\ufffd\\x04}\\ufffd\\ufffd9\\ufffd\\ufffd<_\\ufffd\\ufffdJ\\x0f\\x0ej7\\x0fqs\\ufffdh@\\ufffd\\x00Y)!\\ufffdaF\\ufffd\\ufffd{B\\ufffdK\\ufffd\\n}\\ufffd\\ufffdV%e\\ufffd\\ufffd?@\\x02\\x0f\\x15C4\\ufffd\\ufffd#\\ufffdL\\x13\\ufffd8\\ufffdT<9\\x15\\ufffd\\ufffd\\ufffd\\ufffd\\x1a\\x00\\x1e5\\x1b\\ufffd\\ufffd\\ufffd\\ufffd\\ufffd\\ufffd\\ufffdRE\\x17\\ufffd\\x1e1\\ufffdy\\ufffd\\ufffd+_\\\\\\ufffd1\\ufffd\\ufffdU\\ufffd\\x0c\\ufffd\\ufffdi>S4\\ufffd\\x15\\ufffdq\\ufffd\\ufffd5_S\\ufffdxX\\ufffd\\ufffd\\x0c\\x0e\\x02\\ufffd*\\ufffd\\ufffd?b\\ufffd\\x1bT#\\ufffd\\ufffdy\\ufffd\\ufffdJ\\x00[K\\ufffd\\ufffdm\\ufffdX\\x1f2\\t\\ufffd\\x1e\\ufffd\\x06\\ufffd\\'\\ufffd\\ufffd\\ufffd\\ufffd\\ufffd\\x0e\\ufffdc?\\ufffdh\\ufffdlm\\ufffd\\ufffd\\ufffd\\ufffd%\\ufffd\\ufffd\\x1d\\ufffd\"\\ufffdD\\ufffd\\ufffd\\ufffd\\ufffd\\x12$\\ufffd#\\ufffd\\ufffd\\x08\\ufffd`\\ufffd\\ufffd\\ufffdx\\ufffd\\ufffdP\\x1c\\ufffd+t\\x15\\ufffd{{=\\ufffd\\ufffd\\ufffd\\ufffd\\ufffd1\\ufffd\\x16\\x18\\ufffdaZV\\ufffdxz\\ufffd\\ufffd\\ufffd\\ufffd\\ufffd`\\x1f\\ufffd\\ufffd\\ufffd5\\x06\\ufffdam\\ufffd\\ufffdkmn\\ufffdkY\\x00\\\\\\ufffd\\ufffds@\\x15\\ufffd\\ufffdn32\\ufffd\\ufffd\\ufffd\\ufffd\\ufffd\\ufffd\\ufffdDN\\ufffd\\ufffd\\ufffdM\\ufffd\\ufffd\\ufffd\\ufffdZ^\\ufffd\\ufffd\\ufffd\\ufffd\\ufffd0Q\\ufffd\\ncB.d\\ufffd\\x00S,\\ufffdFq\\x1fZ\\x00\\ufffd\\ufffdN\\ufffd\\x06j\\ufffd\\ufffdX$\\ufffdS\\ufffd\\ufffd\\ufffd\\ufffd\\ufffd,V\\x0b?\\ufffd\\ufffd\\ufffd\\ufffd\\ufffdN)\\ufffd\\ufffd2a\\ufffd\\ufffd\\ufffd\\ufffd\\x19^U[\\ufffd\\ufffd\\ufffd\\x06\\x04\\ufffd\\ufffd\\ufffdU\\x1eUB\\ufffd8\\ufffdy\\ufffd\\ufffdht\\ufffd.\\x03\"\\ufffd\\ufffd\\x1e\\ufffdjU\\ufffd\\ufffd\\ufffd]\\ufffd \\ufffd\\ufffdA\\ufffdJv\\x11\\ufffd\\ufffdJ0\\ufffdp\\ufffd\\ufffd\\ufffdnD\\ufffd\\ufffde9\\ufffd\\ufffd\\ufffd\\ufffd\\ufffd-\\ufffd\\ufffd\\x14\\ufffd\\x13D\\ufffd\\ufffd1V\\ufffdo4\\ufffd\\ufffd\\ufffdI\\ufffd62\\ufffd,\\ufffd@\\ufffdgp\\x07\\x1c\\ufffdEji\\x11y0\\ufffd}p\\t\\ufffd\\x0f\\ufffd\\ufffdG\\ufffd5~\\ufffd}6\\ufffd\\ufffdt9\\ufffd\\x11\\ufffd;z\\ufffdTM\\ufffd\\ufffdO\\ufffd<\\ufffd(Q\\ufffd\\ufffd8\\ufffd\"\\x18\\ufffdk\\ufffdD\\ufffd\\ufffd-\\ufffd\\ufffdc\\ufffd\\ufffd\\ufffd\\x17\\x0b\\x15\\ufffd^DH1\\ufffd\\ufffd+\\ufffd,\\x0cP\\ufffd\\ufffdL\\ufffd\\ufffd\\ufffd\\x00\\ufffd\\ufffd\\ufffd\\ufffd\\ufffdk{H\\ufffd\\ufffd$M\\ufffd\\ufffd\\\\\\ufffd`r\\ufffd<M\\ufffd:\\ufffd{\\ufffd\\x19LG\\'\\'=k\\ufffdk\\ufffd&@V]5\\x0eG\\ufffd\\ufffd*\\ufffd\\ufffd\\ufffd\\ufffd\\ufffd\\ufffd\\ufffdh\\ufffd\\ufffds\\ufffd\\x00sw;\\ufffdX\\ufffd`m\\ufffd[\\ufffd\\ufffd[\\ufffd\\ufffd\\ufffdu\\ufffd\\ufffd\\ufffd\\ufffd\\ufffdX\\ufffd\\x03\\ufffd\\ufffd\\ufffd\\x0c\\ufffd\\x0e\\ufffd\\x03VN\\ufffd\\ufffd\\ufffdI\\ufffd\\ufffd\\x189j \\x16\\x16:l\\ufffdv\\ufffd\\ufffdO\\ufffd\\ufffdv\\ufffd\\ufffd\\ufffd\\ufffd\\x0c\\ufffd\\ufffdE\\x0e\\ufffdm\\ufffd\\ufffd\\ufffd\\x1b\\ufffd\\ufffdf\\ufffdi\\ufffd\\x05\\ufffd\\ufffdy\\ufffd\\ufffd\\ufffd=G\\ufffd\\ufffd\\ufffd\\ufffd]\\ufffd\\ufffd\\ufffd\\\\\\ufffd\\ufffd\\ufffd\\ufffd@U\\ufffd\\ufffdx\\x02\\ufffdxoa\\ufffd\\ufffdc<c\\ufffdj@\\ufffdK \\ufffd\\ufffd-\\ufffd\\x19##\\ufffd\\ufffd\\ufffd\\x1e\\ufffd!\\ufffd\\ufffd\\ufffdi[h\\ufffd\\ufffd\\ufffd\\ufffdz0\\ufffdU\\ufffd\\ufffdm\\ufffd>W1\\ufffd;\\x1e\\ufffd\\x00Z\\ufffd!\\ufffd\\ufffd\\ufffdZ\\'[k\\ufffd\\ufffdO\\ufffd\\ufffd\\ufffd\\ufffd!\\ufffd\\x1a\\ufffd-\\ufffdZL\\ufffdL\\ufffd\\ufffd\\ufffd\\ufffd\\ufffd\\ufffd\\ufffd\\ufffd`\\x01S\\ufffd\\ufffd9\\ufffd\\ufffd\\ufffdF/r\\ufffd\\ufffd07{\\ufffdZ\\ufffd\\x11(\\ufffd\\x0f\\x13d\\x15\\ufffd4\\ufffd\\ufffd\\ufffdbU\\ufffd\\ufffd\\ufffd3\\ufffd\\ufffdj\\ufffd\\ufffd\\ufffd\\ufffdw\\ufffdK+\\x10\\ufffdf\\ufffd\\ufffd\\x15L\\ufffd\\ufffd\\ufffd\\x7f\\x1aV\\x19+\\ufffd\\ufffdHy4\\ufffd\\x06!\\ufffd\\ufffdUh\\ufffd\\t9\\ufffd\\ufffdjS(+\\ufffdQ\\ufffd\\ufffd\\x12\\x12K\\ufffdv\\ufffd&\\ufffd<\\ufffd~\\ufffd\\ufffd\\ufffd\\ufffd5\\ufffdz\\x04N\\ufffdlk\\ufffd\\ufffd\\ufffd\\ufffd.#\\x00\\x0c\\x13\\ufffd\\ufffdr6\\ufffd\\'\\ufffd\\ufffdJd\\'=1@\\x10\\ufffdN[\\ufffd\\ufffd\\ufffd\\x16\\ufffd\\ufffdW]\\ufffd\\ufffdX\\ufffd\\ufffd\\ufffd\\ufffd\\ufffdW\\ufffd\\x18G\\ufffd&\\x17\\ufffd\\ufffd\\ufffdN?:\\x00\\ufffd\\ufffd\\n\\x02\\ufffd\\x07I\\ufffdd\\ufffd\\ufffd\\ufffd\\ufffdo\\x1eP\\ufffd\\ufffd\\ufffd\\ufffdr\\x08$\\x01\\ufffd\\ufffd\\x00 \\ufffd\\ufffdgn\\x058q\\ufffd\\ufffd\\x07<b\\ufffd\\ufffd\\t\\x07\\ufffd.=\\ufffd\\ufffd\\x1cP(\\x00*@\\ufffd\\x00dqFx#\\x1c\\ufffde\\ufffd\\ufffd\\ufffd\\ufffd\\x005\\ufffd\\ufffd\\ufffd\\ufffd\\ufffd4\\ufffdpx\"\\ufffd,\\n\\ufffdz\\ufffd\\ufffd\\ufffdd\\ufffd\\ufffd8\\ufffd@\\ufffd\\ufffd\\ufffd\\x14o\\n1JF\\x06j2\\t\\x06\\ufffd\\ufffdiG\\ufffdF>|\\ufffd\\ufffd\\ufffd\\x16\\ufffd\\ufffd\\x04\\ufffdV\\ufffd\\ufffd\\ufffd\\x11<\\x17@\\ufffd\\x7f\\ufffd\\ufffd:\\ufffd@\\ufffd\\ufffd\\ufffd\\ufffd\\x01\\ufffd\\ufffd\\ufffd1\\ufffd\\ufffdGR*\\x17\\x046\\ufffd\\ufffd\\x07\\x15)\\ufffdh\\x04\\x028\\ufffd@\\ufffd\\ufffd\\ufffd\\ufffd\\x01\\ufffd\\x14\\ufffd8\\x00\\x11R)%K\\ufffd\\ufffd\\ufffdM\\x0031a\\ufffd\\x7fJ\\x045\\ufffd\\ufffd\\ufffd\\ufffd\\ufffd\\ufffdPC\\x0fCH\\ufffd\\ufffd=\\ufffdR3\\x08\\ufffd\\ufffd:\\ufffd@\\x0eK\\ufffd\\ufffdK\\x18\\x1c&\\ufffd\\x03g\\x1e\\ufffd\\ufffdo\\ufffd\\ufffdW\\ufffdW\\ufffd+Xb\\ufffd\\x14\\ufffd|\\ufffd\\ufffd$R\\ufffd\\x07QR$\\ufffd,\\x1eJ\\ufffd\\ufffdl\\ufffd\\x00\\ufffd.\\x19\\ufffd\\ufffd6l\\ufffd\\ufffd\\ufffd\\ufffd+\\ufffd\\ufffdS\\ufffd,@m\\ufffd\\ufffdj\\x0bK\\ufffd\\ufffd\\ufffd\\ufffd\\ufffd\\ufffd\\ufffd\\ufffd\\ufffdN}>j\\ufffdm4I\\ufffd\\ufffd\\ufffd\\ufffd\\ufffd\\ufffd\\ufffd\\ufffd\\ufffd\\ufffd\\ufffd\\ufffd\\t\\x18\\ufffdK\\ufffd\\ufffd\\x0b\\ufffd6r\\ufffd\\x1e\\ufffd\\ufffd2\\ufffdI~6\\ufffdoZ\\ufffd\\ufffd{yS\\x02\\nJ\\x08\\ufffd\\x08\\ufffdQMn\\x1e\\x15h\\ufffdI\\x1c\\x1a\\n(2\\x1f/\\ufffdH\\ufffd\\'\\ufffd\\ufffd\\ufffd\\x1bH\\ufffdra\\ufffd[8\\ufffd\\ufffdU\\ufffd\\x00$\\ufffdX\\ufffd{\\n\\ufffd4/\\ufffd\\ufffd\\ufffd\\ufffd(\\x02\\ufffd\\ufffd\\ufffdm\\ufffd [\\ufffd\\ufffd\\ufffd\\ufffd(C\\ufffd5\\x14\\ufffdy\\ufffd\\ufffd\\x11n\\ufffdx]\\ufffdR\\ufffd,\\x05k\\ufffd\\ufffd\\ufffd\\ufffd\\ufffdb\\ufffdv\\ufffdN@8,p\\ufffd\\ufffd,t\\ufffd2\\x13\\ufffd\\ufffd\\x7f\\ufffd3\\ufffdb\\ufffd\\x11\\ufffdz\\x00\\ufffd\\ufffd\\ufffdv\\ufffd\\x1d\\ufffd\\ufffd\\ufffd^\\ufffd\\ufffd\\x11\\x0f\\ufffdp9\\x15\\ufffd1Ay\\ufffd\\ufffd\\ufffd\\ufffd\\ufffd>e<\\x13^\\ufffd\\ufffdj\\x11O\\ufffd\\ufffd\\x00f\\ufffd\\x16%\\ufffd\\ufffd<7\\x11\\ufffd\\ufffd\\ufffd\\ufffd\\ufffd\\ufffd*<Q\\ufffd\\ufffd\\ufffdax\\ufffd\\n\\ufffd\\ufffd#\\ufffd\\t\\ufffdv\\x1d\\ufffd_RnrS\\ufffd\\ufffd.X\\x1c\\ufffdy\\ufffdV\\ufffdb-\\n\\ufffdr\\ufffd|\\ufffd\\ufffd\\ufffd\\x00\\ufffd\\ufffd\\ufffd\\x17D\\ufffdy\\x1a5\\ufffd\\x18\\ufffd\\'J\\ufffd\\ufffd\\ufffd\\x0b\\ufffd\\ufffd\\x08\\ufffddE\\ufffdq\\ufffdgi\\ufffd\\ufffd4a\\ufffdiz\\ufffd\\ufffd\\x0b\\ufffd\\x18O\\ufffd9\\ufffd\\ufffd\\x7f\\ufffd\\x06\\ufffd}\\ufffd&\\ufffd\\ufffdv\\ufffd\\ufffdr\\ufffd\\ufffdW\\ufffd+\\ufffd\\ufffd\\ufffd\\ufffdO\\x04\\ufffd\\x14\\ufffd\\ufffd\\x19\\ufffd\\x07=Gj\\ufffd\\ufffd\\ufffdI\\ufffd\\ufffd\\ufffd\\ufffd\\ufffd\\ufffd\\ufffd\\x01\\ufffdd\\ufffd+\\ufffd\\ufffd\\ufffd\\ufffd\\ufffd~\\ufffd&\\ufffd\\ufffd\\ufffdHg\\ufffd\\ufffd\\x1f\\x7fz\\ufffd\\ufffd\\ufffdn\\ufffd\\x04\\ufffdi\\ufffd\\ufffd.a\\ufffd\\ufffd\\ufffd\\x0f\\ufffd\\ufffd\\x1a\\ufffd\\ufffd[\\ufffd\\ufffd,\\ufffd\\ufffd\\ufffd\\ufffd\\ufffdm\\ufffd\\ufffd\\ufffd\\ufffd[\\ufffd%\\ufffd$\\ufffd\\ufffd\\ufffd\\ufffd!\\ufffd\\ufffd\\x01\\ufffd\\ufffd\\x0c\\ufffd\\ufffd\\ufffdJ*\\ufffdob\\ufffdjY[\\ufffdE\\ufffd\\ufffdc\\ufffd\\ufffd\\r\\ufffd\\ufffd\\x08\\x01\\ufffd\\x03\\ufffd\\ufffd\\ufffdWCg\\x17\\ufffdu\\ufffd\\ufffd\\ufffdc\\ufffd\\ufffd^\\x15\\ufffd\\ufffd\\x19J\\ufffd\\ufffd\\x00^\\ufffd\\ufffdk\\ufffd\\ufffd\\ufffd\\ufffdn\\x18\\ufffd\\ufffd\\ufffd\\ufffd\\ufffd\\ufffd\\ufffd\\x14\\ufffd/\\ufffd\\ufffd\\ufffdu\\ufffd\"\\ufffd\\ufffd\\ufffd\\x16\\ufffd$\\ufffdr\\ufffd4\\ufffd\\ufffdAf\\\\\\ufffdBgU\\ufffd6<\\ufffd]6\\ufffd\\ufffd\\x7f\\x0eX\\ufffd<\\ufffd\\n[\\ufffda\\ufffd\\ufffd\\ufffd\\ufffd\\ufffd.5O\\x02\\ufffd\\ufffdD\\ufffd\\ufffd\\ufffd*\\ufffd\\ufffdN\\x0f\\ufffdE\\ufffdKw8\\ufffd\\x1dVio\\ufffd\\ufffdXa;\\ufffd^\\ufffd\\ufffdW\\ufffd\\ufffdx>\\ufffd\\ufffd\\ufffd\\ufffds\\x18\\ufffdrF\\ufffd3^o\\ufffdiz\\x141\\ufffd\\ufffdxvY\\ufffd$\\ufffd\\t\\ufffd\\ufffd\\ufffdi\\ufffd\\ufffd\\x00Z\\ufffd\\x0f\\ufffd\\ufffd?\\ufffd\\x00\\ufffd\\ufffdn\\ufffdb\\ufffd\\x15\\ufffd\\ufffd\\ufffd\\ufffd\\ufffd\\ufffd\\ufffd\\ufffd\\x00v\\ufffd\\ufffdC\\ufffd\\ufffd9i\\ufffd]\\ufffd\\ufffd\\x19\\ufffd\\x12\\ufffd\\ufffd\\ufffd\\x18\\ufffd\\ufffd\\ufffd=N\\x0f\\ufffdZ\\ufffd\\ufffd\\x15M\\ufffd\\ufffd\\ufffd\\ufffd\\ufffd\\ufffdc\\ufffdk?]\\ufffd\\ufffd\\ufffd\\ufffd^\\x14\\ufffd\\ufffdd\\ufffdg\\ufffd\\ufffdQ\\ufffdE8\\ufffd\\ufffdk\\ufffd\\ufffdS\\ufffd\\ufffd\\ufffd\\ufffd\\ufffdt\\ufffd\\ufffdu\\ufffd\\ufffd\\ufffd\\x05\\ufffdNJ60\\r&\\ufffd\\x07\\ufffdCb\\ufffdO\\ufffd4\\ufffd\\x12\\ufffd\\x06P\\ufffd\\ufffd^\\x01\\x19\\ufffd>\"j\\ufffdW\\ufffdkQy\\ufffdm\\ufffda\\x1a\\ufffd\\x0f\\x04\\x02*\\ufffd\\ufffd\\ufffd\\ufffd\\ufffdY\\ufffd2[dFU\\ufffd\\ufffd\\ufffdq\\ufffd\\ufffd\\ufffd/4\\ufffdV\\'\\ufffd\\ufffd\\ufffd!\\ufffd?\\ufffd\\n`u\\ufffd%\\ufffd\\ufffd\\ufffdM\\ufffd\\ufffdN\\ufffd\\ufffdQ\\ufffd\\ufffd\\ufffd\\x15\\ufffd_Y\\ufffd\\ufffd\\x12j!\\ufffdR\\ufffd\\ufffd\\ufffd\\ufffd\\ufffd\\x17N\\ufffd\\ufffd\\ufffdka\\x07\\ufffd\\ufffd\\ufffd\\ufffd6\\ufffd\\ufffd\\ufffdo\\ufffdq]e\\ufffd\\ufffd5\\ufffd\\ufffd\\x04\\x13\\ufffdA}\\ufffd\\ufffd\\ufffd\\x13\\ufffd\\ufffd\\x0cH\\ufffd\\ufffd\\ufffd\\ufffd\\ufffd,\\ufffd\\ufffd\\ufffd\\ufffd\\ufffdG\\ufffd\\ufffdN\\ufffd\\ufffd\\x0cH\\ufffd)\\ufffd\\ufffdK\\ufffdS!\\ufffd\\ufffdi\\ufffd\\x05\\r\\ufffd\\ufffd\\ufffd\\ufffd2\\x03\\ufffd\\ufffd\\ufffd\\x035N\\ufffd8(\\ufffd\\ufffd\\ufffd\\x0eH\\ufffdCg\\x17\\ufffd5\\ufffdm\\ufffd\\ufffd\\ufffdOzX,\\ufffd\\ufffd1;j\\x05Ppp\\x7fJ\\ufffd\\x00\\ufffd\\ufffd\\ufffdOr`\\x01\\ufffd\\t=h\\x11m\\ufffda\\ufffd\\ufffdH\\ufffd\\ufffd\\ufffd\\x05]K\\x19\\ufffd\\ufffd\\x1aY\\ufffd r2zU\\x18V\\ufffd\\ufffd\\x10\\ufffd\\ufffd.\\ufffd\\ufffd+b\\ufffdE\\ufffd\\ufffd\\ufffd\\ufffdnY\\ufffd\\ufffd\\x19\\ufffd\\x02\\ufffd\\ufffd3#\\ufffd\\x1bw\\ufffd\\ufffdc\\ufffdNSs,\\ufffd\\ufffd\\ufffd\\ufffd\\ufffd\\ufffdH=j\\x03mo\\x14a$i\\x03\\ufffd\\ufffd\\ufffd\\ufffdR\\ufffdl\\ufffdC\\'\\ufffd!y884\\x01\\ufffd\\x17\\ufffd\\x04\\x7fj\\ufffdf\\ufffd\\ufffd\\ufffd\\ufffd\\ufffd\\ufffd\\ufffd\\ufffd\\ufffd\\x00b\\ufffd\\r\\ufffd\\ufffd\\x08?\\ufffd\\ufffd\\ufffdq\\ufffd\\ufffd\\ufffdBJ\\ufffd\\ufffd9\\ufffde4\\ufffdS\\ufffd\\ufffd\\ufffd\\ufffd\\ufffd\\ufffd\\'\\x14\\x01\\ufffd\\ufffdh>\\x1a\\ufffd`\\ufffdvC\\ufffd\\x00L\\ufffd\\ufffdj\\ufffd\\ufffdcA\\ufffdB\\ufffd]\\\\\\ufffd\\ufffd\\ufffdI\\ufffd\\\\\\ufffdk*8[S\\ufffd\\ufffd\\'\\ufffd\\ufffd\\ufffd\\ufffd\\x00\\ufffd\\ufffd.\\x06\\ufffd\\ufffd\\ufffd[A\\ufffd\\ufffd\\x19\\ufffd\\x10\\ufffd0\\ufffd\\ufffd\\ufffd\\x1fCN\\ufffd\\ufffd\\ufffd\\ufffd\\ufffd5\\ufffd4M\\ufffdg\\ufffd\\x0b\\ufffd+\\n\\ufffd]\\ufffd{9\\x04\\ufffd\\ufffd\\ufffd\\ufffd\\ufffd\\ufffd\\ufffd\\ufffd\\ufffd\\x00\\ufffdq\\ufffd\\ufffdb\\ufffd\\r\\ufffd\\ufffd(\\x02\\ufffd\\ufffd\\ufffd\\x14\\to\\x01X\\ufffd^\\ufffd\\x1f{\\ufffd\\ufffd-g\\x04Vb\\ufffd\\ufffd\\ufffdlp0*\\ufffd\\ufffdyw\\ufffdH\\ufffd\\x13\\ufffdI\\ufffd\\ufffd\\ufffd,\\ufffd\\ufffd\\ufffdT\\ufffd\\ufffd\\x177\\x17R}\\ufffdcKm\\ufffdb\\ufffd\\ufffd\\ufffd\\x06\\ufffd\\ufffdm$\\ufffd\\ufffder\\x06\\x01\\ufffd[\\ufffd\\ufffdg\\ufffd\\ufffd\\ufffd\\ufffd\\ufffdJ\\ufffd\\ufffd&o\\ufffdO\\ufffd`C\\ufffd\\ufffd\\ufffd\\ufffd\\x123D#f\\ufffd\\x01y\\ufffdu\\ufffdZ\\ufffdL\\ufffd\\ufffd\\ufffd&\\ufffd\\x18\\ufffd\\ufffd\\x1e:\\ufffd\\ufffd\\x02t\\ufffd5YI\\x1f\\ufffd\\ufffdH\\ufffd\\ufffd\\ufffd\\ufffd]`\\ufffd~\\ufffd\\ufffd@\\ufffdx\\ufffd\\ufffd\\ufffd\\ufffd\\ufffd\\ufffd\\ufffd\\ufffd\\ufffd\\ufffd\\ufffdy\\x16\\ufffd\\x19\\ufffdk9o\\ufffd\\ufffd\\x19\\ufffd\\ufffd\\'\\ufffd\\ufffd4\\x16\\ufffdS\\ufffd~x\\ufffdzf\\ufffd\\ufffdn\\ufffddR\\ufffd8<\\ufffd\\ufffdG=\\ufffd\\ufffd\\ufffdq(\\ufffd\\x00\\ufffdT\\ufffdc3\\x7f\\ufffd\\ufffd\\x01y\\ufffd\\ufffd\\x02\\ufffd\\ufffd7\\ufffd\\ufffdZ\\x0b\\ufffd\\x1a\\ufffd\\ufffd\\ufffd\\ufffd\\ufffdZ\\ufffd\\ufffd\\ufffdu\\ufffdj10\\ufffd\\ufffd\\ufffd\\ufffd\\ufffd\\x1e\\ufffd\\ufffd\\x14\\ufffd5\\ufffd\\ufffdF\\ufffd\\ufffd\\ufffd\\x0e|\\ufffd\\ufffd\\ufffd \\ufffd\\ufffdC:X\\ufffd\\ufffdKf\\ufffd\\ufffd\\ufffd\\ufffdO\\ufffd\\ufffd$\\ufffd\\ufffdL\\ufffd\\ufffd-\\ufffd\\x04\\x0e\\ufffd\\ufffdc\\ufffd\\\\\\ufffd\\ufffd\\x13\\ufffd\\ufffd\\ufffd9T\\ufffdL-\\ufffd]\\ufffd!\\ufffd)\\ufffd\\x0e\\ufffd\\ufffd[)\\ufffd\\ufffd\\ufffd<\\ufffd\\x0e\\ufffd\\x1b\\ufffdl\\ufffd\\\\\\ufffd\\ufffd\\x11u\\ufffd\\ufffdA\\ufffd[9\\ufffd\\ufffd\\ufffdh4\\ufffdo\\ufffd\\ufffd\\ufffd\\ufffdz\\ufffd\\ufffd\\ufffdE\\ufffd}b\\ufffd\\x0cp\\x1b }i1\\x15.I\"0;T3\\x06\\ufffdI\\x07\\ufffdS\\ufffd\\ufffd\\ufffd\\ufffdJ\\ufffd\\ufffdL\\ufffdI\\ufffd\\x03\\ufffdw\\ufffd\\ufffd\\ufffd9\\ufffd\\ufffd\\ufffdHI\\x19\\ufffdV\"\\ufffdc\\ufffd\\ufffd\\ufffd\\ufffd\\ufffd\\ufffdS\\ufffd\\ufffd=\\r\\x00@\\x14\\ufffd)}jL\\ufffd\\ufffd3Q\\x11\\ufffd\\x1e\\ufffd\\ufffd5rX\\ufffd\\ufffd#$\\ufffdR*\\ufffd\\\\\\ufffd\\\\\\ufffd\\ufffd1\\ufffd\\ufffd4\\ufffd^\\ufffd\\x06\\ufffd\\ufffdD\\x05\\ufffd]\\ufffdz\\ufffd\\x11\\ufffd\\ufffdvz\\ufffdZ\\x1e\\x17\\x1eg\\ufffd\\ufffd\\ufffd\\ufffd\\ufffd\\ufffd\\ufffdh\\x11oY\\x1f\\ufffd<\\ufffd\\ufffd\\ufffd\\ufffd\\ufffd\\ufffd\\ufffd\\ufffd\\x1d\\ufffd\\ufffd\\ufffd\\ufffd+I6\\ufffd\\ufffdz\\ufffd\\ufffd\\ufffdg\\x07\\ufffd\\x00HT\\x1e\\ufffd\\ufffd0qM\\ufffd\\ufffd^{S\\ufffdU\\ufffd\\ufffd\\ufffd\\x02P21\\ufffd\\ufffd\\ufffdY \\ufffd\\ufffd)8-\\ufffd^\\ufffd\\ufffd\\ufffdu\\ufffd\\ufffd\\ufffd\\ufffd\\x04f\\ufffd\\x1b\\ufffd\\ufffd\\ufffd\\ufffd\\ufffdYP\\x7f\\x1aj\\ufffdE\\x00\\x03\\x18\\ufffd\\x07\\ufffd\\x01\\x07\\ufffdI\\ufffd\\ufffd\\ufffd\\ufffd5\\x1e0N:\\x13@\\ufffd#\\ufffd\\ufffd\\ufffd\\ufffd\\ufffd\\ufffd\\ufffdN-\\ufffd\\ufffd\\ufffd\\ufffd{z\\ufffd\\ufffd\\x03\\x1e\\ufffd\\nY:dTbB\\x17\\ufffd\\x00\\ufffdxU\\ufffd)\\x0c\\ufffd\\ufffd\\ufffd\\ufffd\\x14LJ\\ufffd\\ufffd\\ufffd\\x0f\\ufffd\\ufffd\\ufffd\\ufffd\\ufffd\\n\\x00\\ufffd\\ufffd\\ufffdv\\ufffdI\\ufffd\\x00\\x0e\\ufffd\\ufffd\\ufffdW\\ufffd\\x18\\ufffd\\ufffdF=*R6\\ufffd\\ufffdt q@\\ufffd\\n\\x07\\ufffd\\ufffd\\ufffdC\\ufffd\\x06\\ufffdv\\ufffd9d\\ufffd\\ufffd\\ufffd\\ufffd\\x00\\ufffd\\ufffd\\ufffd\\ufffd\\x16\\ufffd\\ufffd\\x00s\\ufffd;Sdd\\x0c\\x1aRv\\ufffd8\\x14\\ufffd\\\\/\\x074\\ufffd/\\ufffd7\\x01\\ufffdh\\ufffdb\\ufffd:\\ufffd\\x12\\ufffd?\\x0ea*\\ufffd\\ufffd\\ufffd\\ufffd\\x1f\\ufffd3D\\ufffd\\ufffd\\ufffd&\\ufffdX.%\\ufffd\\ufffdc\\ufffd\\ufffd\\x1a+,\\ufffd\\x0emY\\x14.L\\ufffd\\x0f\\\\\\ufffdo\\ufffd\\ufffd7\\ufffd\\ufffd\\ufffd\\ufffd\\ufffd\\ufffd\\x04w\\ufffd@\\ufffd7\\ufffd\\ufffdu\\x0bvfWW\\ufffd\\ufffd\\ufffd\\ufffd9\\ufffdO\\ufffd\\ufffd\\ufffd3q\\ufffd\\ufffdB\\ufffd\\x11\\x10\\ufffdk/ \\ufffd\\ufffd\\x0c\\ufffd\\ufffd\\ufffd\\ufffd\\x05\\x1b_\\ufffd\\ufffd\\x1a\\ufffd\\ufffd\\ufffd\\ufffd\\ufffd\\ufffd\\ufffd\\x07\\ufffd\\x03\\ufffdT\\ufffdc\\ufffd\\ufffd\\ufffd\\ufffd\\ufffd\\ufffd\\ufffd\\x021\\ufffdO\"\\ufffd\\ufffd\\ufffd\\x1d\\ufffd1\\ufffd\\ufffd\\ufffd\\ufffd\\ufffd\\ufffd\\x05\\x00uO\\ufffd\\ufffd\\ufffd\\ufffd\\ufffdZ=\\ufffd\\ufffds\\x1ck\\ufffd\\x12u?J\\ufffd4^ H\\ufffd\\ufffdt\\t\\ufffd\\ufffd\\ufffdy\\ufffd\\ufffdU=\\ufffd\\ufffdhQ\\ufffd?\\ufffd\\ufffde=\\ufffd\\ufffd\\ufffd[\\ufffdz\\ufffd\\ufffd\\ufffd5\\ufffd\\ufffd\\ufffd<\\ufffd\\ufffd$\\ufffd\\ufffdi\\x08\\ufffd\\ufffd\\ufffd\\ufffd\\ufffd\\ufffd\\ufffd\\ufffd\\ufffd[\\ufffdZ\\ufffd^\\ufffd\\x14D\\ufffd\\ufffdTg\\ufffd=\\ufffd\\ufffd\\ufffd\\ufffd\\ufffd\\ufffd\\ufffd\\x00\\x1f\\ufffd\\x06mFK{\\ufffd\\ufffd\\ufffd\\ufffde+\\ufffd\\ufffd\\ufffd\\ufffd\\ufffd\\ufffdm\\ufffdj\\ufffd\\ufffd\\ufffdXD\\ufffd\\ufffd\\ufffdNy\\x19\\ufffd\\ufffd\\ufffd~\\x12\\ufffdnE\\ufffd\\ufffd\\ufffdo\\ufffd\\ufffd\\x1f:6!\\ufffd\\x1e\\ufffd\\ufffd[\\ufffdV5.\\ufffd\\ufffdt\\ufffd\\ufffd\\ufffd\\ufffd1!v\\ufffd-\\ufffd\\ufffdi\\ufffd\\ufffd:\\ufffd=\\ufffd\\x12\\ufffd\\ufffd\\ufffd\\ufffd\\ufffd\\ufffdd\\ufffd\\ufffd$\\ufffd8\\ufffd/\\ufffd\\ufffdoF#\\ufffd\\ufffd}u\\ufffdM\\ufffd\\ufffd\\x11z\\ufffdf\\'$F0\\x7f:\\x00\\ufffdC\\ufffd\\ufffd7\\ufffdm\\ufffd\\ufffd\\ufffd\\ufffdE?6\\ufffd\\ufffd\\ufffd\\x15N\\x1f\\x0ek\\x1a|R%\\ufffd\\ufffd\\ufffd\\ufffd8\\ufffd\\ufffd\\ufffd\\rI\\x7f\\x7f\\ufffd\\ufffd\\ufffdA\\x06\\ufffdl\\ufffdu\\x00\\ufffdf`\\x1b\\ufffdz\\ufffdi\\ufffd+\\ufffd\\ufffd_Z+\\x1f\\ufffdA\\ufffd\\ufffd@\\x16\\ufffd\\ufffd]\\ufffdE\\x12\\ufffd\\ufffdD\\x01\\ufffd2\\ufffd\\ufffdS4\\ufffd\\ufffd\\ufffd\\ufffd?\\ufffd\\x18\\x16\\ufffd\\x06<\\ufffd\\ufffd\\ufffdx\\ufffd\\ufffdyc\\x16\\ufffd\\ufffd\\ufffd\\ufffd\\ufffd\\ufffd\\ufffd\\ufffd\\ufffd\\ufffdi/t\\ufffdg\\ufffdI\\x0c%\\x1c\\ufffd)\\ufffd4;\\ufffd\\x10\\ufffd\\ufffd/.\\ufffdEk\\ufffdYYX\\ufffd\\ufffd\\ufffd\\ufffd;\\x19I\\ufffdS\\ufffd\\x0e\\ufffd\\ufffd\\x0fOz\\ufffd\\x0b{\\ufffd7\\ufffdG\\ufffd\\ufffdir\\ufffdN\\ufffdC.\\ufffd\\x06\\ufffd\\ufffd\\ufffds\\ufffdM\\x16\\x19\\ufffd0Cy\\ufffdF2\\x00\\ufffdq\\ufffdN\\ufffd\\x08\\ufffd\\ufffd\\ufffd\\ri\\ufffd\\ufffd\\x04\\ufffd\\ufffdX\\ufffdH\\ufffd\\ufffd\\ufffd\\ufffd\\ufffd<9\\ufffd\\ufffd\\ufffda\\ufffd8\\ufffd$\\ufffd\\x0cz\\x0e\\ufffd\\ufffd\\ufffd-nQ\\ufffd~R\\ufffd@di\\ufffd\\x16\\ufffd5-*\"\\x15\\ufffd\\x01\\ufffd\\ufffd\\t\\ufffd3N\\ufffd5\\ufffd\\x0bj\\ufffd\\ufffdy\\x00\\ufffd\\x18!\\x18\\ufffd\\x18V\\ufffd\\ufffdv\\ufffdDq\\ufffdZ\\ufffd\\ufffd+H\\x17\\ufffd\\ufffdF\\ufffd\\ufffdy\\ufffd\\ufffd\\ufffd\\ufffd#\\t\\ufffd\\ufffd;\\ufffd\\ufffd\\ufffd\\x11\\ufffd\\x05\\ufffd\\ufffd$:e\\ufffd\\ufffdk\\x18\\ufffd6H\\ufffdt\\ufffd\\ufffdZ\\x01\\ufffd$\\ufffd\\ufffd\\ufffd\\ufffd\\ufffd[I\\ufffdXv\\ufffd!\\x02\\ufffd\\ufffd{\\ufffd\\ufffd\\ufffd\\ufffduxd\\x17J\\x06\\x0f\\ufffd\\ufffd\\ufffd\\ufffdh\\x17\\ufffd\\ufffd\\ufffd\\ufffd\\ufffdV\\ufffd\\ufffd\\ufffd;\\ufffdo0g\\x19\\ufffd\\ufffd\\ufffd`^\\ufffd\\ufffd\\ufffd_\\ufffd\\x16\\ufffd\\ufffd\\x18\\ufffd\\ufffd\\x12\\x0e{\\ufffd\\n\\ufffd\\ufffd\\x15\\ufffd\\x1e\\x1c\\ufffd\\x08\\ufffd\\ufffd]\\ufffd}\\ufffd\\ufffdl\\ufffdW.f\\ufffdO\\ufffd\\ufffd\\ufffd\\ufffd}\\ufffd\\x06\\x01\\x1d+?\\ufffd\\ufffd\\ufffd\\ufffd\\ufffd\\ufffdN.<\\ufffd\\ufffd\\ufffd#\\x19\\ufffdP\\x05\\ufffd>\\ufffd\\t,\\ufffd\\ufffd\\ufffd\\x19/\\n\\ufffd\\ufffd\\ufffd\\ufffd\\ufffdxb\\ufffd-\\ufffd;p\"\\'\\x0b)\\x04\\x13\\ufffd\\ufffd\\ufffd\\ufffd\\x00\\r\\ufffdt\\ufffdf\\ufffd\\ufffd@\\t\\ufffd\\ufffd\\ufffd\\ufffd\\x0b\\\\y\\ufffd\\n{\\ufffd\\ufffd\\x00-.\\'?\\ufffd\\ufffd\\x00`\\ufffd\\ufffd+\\ufffd\\ufffdP\\ufffd\\ufffd\\ufffdy\\ufffd\\ufffdy\\ufffd\\rZ\\ufffd\\ufffd\\ufffd\\ufffd\\x1f\\ufffd\\ufffd\\ufffd\\ufffd\\ufffd\\ufffd\\ufffd\\ufffd]\\ufffdc\\x12p\\ufffd{\\ufffd\\ufffd\\ufffd\\ufffd\\ufffdJ\\ufffd\\x12y\\x14\\x015\\ufffd\\ufffd\\x13ZX\\ufffd\\ufffd\\tF\\ufffd\\x00sU/\\ufffd\\ufffd1\\ufffd1\\ufffdw\\ufffd\\ufffdu\\ufffd\\ufffd\\ufffd=\\ufffd\\x06@;U;\\ufffd\\ufffd\\x1e\\ufffd\\ufffd\\x06WP\\ufffd+/\\ufffd*\\ufffd\\ufffd*\\ufffd\\ufffd\\ufffdM\\ufffd\\ufffdP\\x0f:>\\\\z\\ufffd\\ufffdr\\ufffd6{b\\ufffd\\ufffd\\ufffd\\ufffd\\ufffd\\x12\\ufffd\\ufffd3\\ufffd\\ufffd\\ufffd(\\x11\\ufffd1[\\ufffd6\\ufffda\\ufffd\\x047\\x15x2\\ufffd\\x1b\\ufffdFYqT\\ufffd\\x11E\\ufffd\\ufffd\\x1d\\ufffd\\x16\\ufffd\\ufffd(\\ufffdL7A\\ufffdv\\ufffd\\ufffdP\\x06\\n\\ufffd\\x06*\\ufffd\\x0e\\t\\x15(\\ufffd\\ufffd\\ufffd=\\ufffd[\\ufffd\\ufffd\\ufffd\\ufffd\\ufffdc?6y\\ufffd\\ufffd\\x12\\ufffd{\\ufffdP\\x04\\ufffd\\ufffdVS\\ufffd\\ufffd\\ufffd<\\ufffd3\\ufffdV \\x18\\ufffd\\ufffdD\\ufffd\\x16\\ufffddY\\ufffd[\\ufffd\\x03\\ufffd\\ufffd\\x05\\ufffd\"\\ufffd\\ufffdSR*\\x7f\\ufffd\\ufffd\\ufffd\\ufffd\\ufffd\\ufffd\\ufffd\\ufffd\\ufffd\\ufffd{.\\ufffd\\ufffd)\\ufffd\\ufffd7Y\\ufffda\\ufffd\\ufffd%\\ufffd\\ufffd\\ufffdD\\ufffd\\x16\\ufffd\\ufffd\\x1a\\ufffd\\ufffd}F\\ufffd\\ufffd\\ufffd\\ufffd\\ufffd#\\ufffd\\ufffd\\ufffd.-\\ufffd\\ufffd8\\ufffd\\x1akn\\'\\ufffd\\ufffd\\ufffdWo@i\\ufffd\\'\\ufffd$\\ufffdl\\ufffd\\ufffd,\\ufffd\\ufffd4.A\\x1f\\ufffd\\ufffd\\ufffd\\ufffdY\\x11\\ufffd\\ufffd\\ufffd\\x15gF\\ufffd\\ufffd\\ufffd\\x1a5\\ufffd\\ufffd\\ufffd\\ufffd\\ufffdH\\ufffd\\ufffdj)\\ufffd\\ufffd\\ufffd\\ufffdh%_\\ufffdO\\ufffd\\ufffd\\x064\\ufffdIn\\ufffd\\ufffd\\ufffdEk\\ufffd\\ufffd,\\ufffdV\\ufffd\\ufffd\\ufffd&3X3\\ufffd#$\\x7f\\t\\ufffd\\ufffdU>f\\ufffd\\x14\\ufffd\\ufffdd\\x07\\ufffd\\x14\\x0cf\\ufffd\\ufffd\\ufffdx_P\\ufffd\\ufffd\\x06\\ufffdNo6\\x06n\\ufffdz\\ufffdE\\ufffd\\ufffd|q\\ufffd\\ufffd\\x0e\\x1b\\ufffdN\\ufffd\\ufffd\\x0e\\ufffd\\ufffd[jJ\\tL\\ufffds.z\\ufffd\\ufffd\\ufffd\\ufffd\"\\ufffd\\x1aV\\ufffdZ\\x1c5\\ufffd\\ufffd\\ufffd\\ufffd#\\ufffdhb#Q\\ufffd\\ufffd\\ufffd\\ufffd\\ufffd\\ufffd\\ufffd?\\x01Qy\\ufffd\\ufffd\\ufffd\\ufffd4\\ufffd6BNz\\ufffd\\ufffd\\x03\\ufffdn\\x16\\ufffdT\\ufffd9\\ufffd\\ufffd\\ufffd\\ufffdR}i\\ufffd\\ufffdgw-\\ufffd\\ufffd\\x1bq\\ufffd\\ufffd\\ufffd1\\ufffd\\ufffd\\ufffd\\ufffd\\ufffdW\\ufffd*\\ufffd\\ufffd\\ufffd\\ufffd\\ufffd\\ufffd\\ufffd@\\ufffdG\\ufffd7\\ufffd\\ufffd\\ufffd\\ufffdf\\ufffdo\\ufffd99\\ufffd\\ufffdZ\\x01\\ufffd\\ufffdc\\ufffd>>\\ufffdr8\\x1f\\ufffdZ\\ufffd\\ufffd\\ufffd\\ufffd\\ufffdV\\ufffd\\x18\\ufffd\\ufffd\\ufffd\\ufffdO\\ufffd\\ufffdU\\ufffd\\ufffd[\\ufffd\\ufffd\\ufffd\\ufffd\\ufffd\\ufffdr=\\ufffd\\ufffd\"\\ufffd`\\x06\\ufffd\\ufffdZ,\\ufffd\\'\\ufffd\\ufffd|P\\ufffd5;K\\ufffd\\ufffdn!\\ufffd#\\ufffd\\ufffdoAm#\\x1d\\ufffd\\ufffd\\ufffd\\ufffd}P\\ufffd\\ufffd\\ufffd\\ufffd\\x17G\\ufffdd\\x0c\\x14\\ufffd@\\ufffd\\ufffd\\x19Z5$\\ufffd\\ufffd\\ufffdJ\\ufffd(\\x00\\ufffd\\ufffdz\\ufffdB\\x160\\ufffdi\\x00!\\ufffd\\ufffdz\\x00s\\ufffd\\ufffd\\ufffd\\ufffd3\\ufffd$\\ufffdS\\ufffdd\\ufffd\\ufffd(\\x11\\ufffdh\\x18\\x0c\\ufffd\\ufffd\\ufffd\\ufffd\\ufffdR\\ufffd#\"\\ufffd\\x1c\\ufffd\\ufffd\\x00H\\ufffd\\ufffd\\x1cTg\\ufffd\\ufffdY\\ufffd\\x0f\\x14\\ufffdg\\ufffdA@\\n0\\ufffd\\ufffd\\ufffd\\x16o\\ufffd\\ufffdB\\ufffd?\\ufffdrc\\ufffd\\ufffd\\x00U\\ufffd\\n\\ufffd\\ufffd2\\x03\\ufffd\\ufffdLP\\x05\\ufffdt\\x0f\\ufffd\\ufffd\\ufffd\\x00]G\\ufffd\\ufffd\\ufffdGQ\\ufffd\\ufffd\\ufffd\\ufffd\\ufffd\\ufffd\\ufffd\\ufffd\\x00\\ufffdA\\ufffda\\x0e\\ufffd\\x08\\ufffd\\ufffdO\\ufffd4.\\x07ZU<\\ufffd>A\\ufffd\\x06\\x13\\ufffd\\ufffd\\ufffd<\\x0fSA\\x14\\ufffd3&(\\x02R\\x08#=\\ufffdJ6\\ufffd\\ufffd\\ufffdqJ\\ufffd\\ufffd\\ufffd\\ufffd\\ufffd\\\\\\ufffd\\ufffd\\ufffd&\\ufffd\"R\\x01\\ufffd\\x1b\\ufffd\\ufffd\\ufffd\\ufffd\\x05IS\\ufffd4\\ufffd\\ufffd\\x18\\ufffdh\\x01\\x19\\ufffds\\ufffdJ\\x0eH\\ufffd\\ufffdiF8\\x14\\x00\\ufffd\\ufffd\\ufffd\\ufffd9\\ufffd<\\x06\\ufffd\\x1e\\ufffd\\ufffd\\ufffd\\ufffd\\ufffd\\x00\\'E\\x18\\x14\\ufffd=1O\\ufffd\\ufffd\\ufffd\\x054\\ufffd\\ufffd;\\ufffd\\x06E\\ufffd\\x15 \\ufffd\\x18\\'\\ufffd\\x18\\ufffd\\ufffd\\ufffd\\ufffdZ\\x00\\ufffd\\ufffd\\x0c\\ufffd\\ufffd@\\ufffdJ~~\\ufffd\\ufffd:s\\ufffd\\ufffd\\x0e-\\ufffd\\ufffd\\ufffd\\ufffdV\\ufffd\\x17\\x7ff\\ufffd\\x1f\\ufffdFBFI\\x03\\ufffdg\\ufffd\\ufffd=\\ufffd\\ufffd\\ufffd}\\ufffd2Mu\\x02\\x1cD\\x11c\\ufffd\\ufffd\\ufffd\\x00Y\\ufffd\\ufffd\\x1f\\x03\\ufffd\\ufffd$\\ufffd\\ufffd\\ufffd\\ufffdx\\ufffd\\ufffdX~\\x1dI\\ufffd\\ufffd\\ufffd\\ufffd\\ufffd#\\ufffd1\\'\\x1e\\ufffd\\ufffd\\ufffd1\\ufffd\\x00\\x08\\ufffd~\\ufffdcc\\x1fZ\\ufffd\\x12\\ufffd\\ufffdFS\\ufffdQ\\ufffd1$e\\ufffd\\ufffdK\\ufffd\\ufffd\\x1bX\\ufffd\\x1a\\ufffd\\ufffdb\\x1e\\ufffdg\\ufffdWGs\\ufffdi:v\\ufffdw\\ufffd[\\ufffd\\ufffdp\\ufffd\\x01L\\ufffd\\x10y\\ufffda\\ufffd\\x06\\ufffd\\ufffd\\ufffd\\ufffd;\\rvB\\r+\\ufffd\\ufffd\\x01\\ufffd\\ufffdx\\ufffd\\ufffd>w\\ufffd\\ufffdE\\x13\\ufffdZg\\ufffd\\'=\\ufffd\\ufffd&\\ufffd;M.\\x0b\\ufffdWXXm\\ufffd\\x14\\ufffd\\ufffdC\\ufffd<\\ufffd=\\ufffd\\ufffd\\x1a7\\ufffdO\\ufffd/\\ufffd\\x00?\\ufffd\\ufffd\\x15\\ufffd\\ufffd;\\ufffd\\ufffd+\\ufffd\\ufffd\\ufffd\\ufffd|\\ufffdxDJ\\t\\ufffdk\\ufffd\\ufffd\\ufffd\\ufffd\\ufffd\\ufffdyn\\ufffd\\ufffd\\ufffd\\ufffd\\ufffdc\\ufffd\\x04z\\ufffd\\ufffd\\ufffd\\x00\\ufffd\\ufffd\\ufffd\\x02\\\\_\\ufffd\\ufffdG>P\\ufffd\\ufffd\\ufffd\\ufffd\"\\ufffd+k#a\\ufffd\\ufffdb\\ufffd\\ufffd\\ufffdA\\ufffd\\ufffd\\ufffd\\ufffd9\\ufffd|\\ufffd~\\ufffd\\ufffdH\\ufffd\\ufffd(\\x03\\ufffd\\ufffd\\x0e\\ufffd=\\ufffd\\ufffd\\ufffd\\ufffd}l\\ufffd]\\ufffd\\x0c\\ufffdnd\\ufffd\\n\\ufffd!oqw\\ufffd\\ufffd\\ufffd&%\\ufffdFy\\ufffd>\\rh-\\ufffda\\ufffdR\\ufffd!\\ufffd\\ufffdh\\ufffd\\ufffd\\x00\\ufffd\\ufffd\\ufffdm \\ufffdH\\ufffd(\\ufffd\\ufffd\\x01\\ufffd\\ufffd4\\ufffd\\ufffd\\x14\\ufffd\\ufffdP=W\\ufffd\\ufffd\\ufffd\\ufffd\\ufffdi\\ufffd\\ufffd]\\ufffd\\x08oC\\ufffd\\ufffd\\x7f\\ufffd,\\ufffd;d\\ufffd\\x00\\ufffd\\ufffd\\x1aU\\ufffd1\\ufffd\\ufffd\\x13L\\x0c\\x04\\ufffdo\\ufffd\\x08\\x13#\\x0c\\ufffd\\ufffd\\ufffdul\\ufffd\\ufffd\\ufffd\\ufffd\\ufffdz\\ufffd4\\ufffd`Cm\\ufffd^\\ufffd\\ufffd\\ufffdy@\\ufffdA\\ufffd\\x08\\ufffd\\ufffd\\ufffdE%\\x1c\\x1es\\ufffdkW\\ufffd\\ufffd[\\ufffd4-\\ufffd\\ufffd\\ufffd\\\\{\\n\\ufffd\\x11\\'l\\ufffd\\ufffd)\\ufffd-Ho\\'h\\ufffd,\\ufffd\\ufffd\\x01\\ufffd\\ufffd\\ufffd\\ufffd\\ufffd\\ufffd\\ufffd\\x16!\\ufffdHnWp\\x1dF)\\ufffd\\x02cc\\ufffd2\\ufffd\\ufffd\\x18\\ufffd\\ufffd\\ufffd\\ufffd\\ufffdA\\ufffdi\\ufffd\\ufffd\\ufffd\\ufffd$w2\\ufffd\\ufffd\\ufffd=\\ufffd\\ufffd\\ufffd`\\ufffd\\ufffdO\\x10E\\ufffd7\\ufffdVc\\ufffd\\ufffd\\x17\\ufffd\\ufffdt\\ufffd\\x1e\\x13\\nU\\ufffd\\ufffd\\ufffd\\ufffdd\\ufffd1\\ufffd\\ufffd\\ufffd4kK\\x0b3u-\\ufffd\\ufffdX\\ufffd\\ufffdL\\ufffd\\ufffdW\\x18\\ufffd[V\\x02_8`\\ufffd0$\\ufffd\\ufffdi|\\ufffd\\\\y\\ufffd9h\\ufffd\\x03\\ufffd6ph\\x19\\ufffd\\ufffd\\ufffd\\x0e\\ufffd\\x05\\ufffdQ\\ufffd<\\ufffd\\x08\\ufffd\\\\\\ufffd\\ufffd\\ufffd\\ufffde\\ufffd\\ufffdX\\x1f=\\ufffdm\\ufffdn\\ufffdixy\\ufffd\\ufffd\\ufffd\\ufffdlJ\\ufffd:\\x11\\ufffd\\ufffd\\ufffd\\ufffd\\x07^o;\\ufffd\\ufffd\\ufffd\\ufffdL@\\ufffd\\x1d\\x00xm5\\ufffdD0\\ufffdK\\ufffd\\x03\\ufffd\\ufffd\\ufffd\\ufffd\\ufffd\\ufffd\\ufffd*b\\ufffd\\ufffd\\ufffdr\\ufffd\\ufffd\\ufffdJ\\ufffd\\x19\\ufffdj\\ufffd\\ufffd\\ufffd2}\\ufffdM\\ufffdcn\\ufffd@\\x17o\\ufffd\\ufffd\\ufffd\\ufffd\\ufffd\\ufffd\\ufffd\\ufffd,\\ufffd5\\ufffdj\\ufffd\\ufffdM\\ufffd\\x0b\\ufffd?.kP\\x02m>f\\'\\'\\ufffdk\\'S\\x00\\ufffd\\ufffd\\ufffd\\ufffd\\x03\\ufffd\\ufffd\\x07YhZ/\\r\\ufffdE\\n\\ufffdn\\t>\\ufffd\\x15\\ufffdxqE\\ufffd\\ufffd\\x0b\\x02~\\\\\\ufffd3\\x1c\\ufffd\\ufffds6.n4\\ufffdU\\ufffd\\ufffde\\x19\\ufffd+\\ufffd\\ufffd\\ufffd+\\ufffd\\r\\ufffd\\ufffd\\x0f\\ufffd\\ufffd\\ufffd\\ufffd9=Fs\\ufffd@`hV\\ufffd\"}B\\ufffdb(\\ufffd\\ufffd\\x1f\\ufffd5-\\ufffd\\ufffdu\\ufffd\\ufffd\\ufffdy\\ufffd\\ufffdOv\\ufffd<q\\ufffd\\ufffd1\\r\\ufffd\\x03\\ufffd\\ufffdyW\\x16x\\ufffd\\x14\\ufffd\\ufffd\\ufffdxn\\ufffd\\ufffd@^\\ufffd@\\x03\\x01\\ufffd\\ufffd}V\\x01\\x19IS&6\\ufffd\\ufffdWt\\ufffdXG\\x08\\ufffd\\ufffd\\ufffd\\x0c\\rC\\ufffd\\ufffd\\ufffd\\t\\ufffd\\ufffdhD\\ufffd\\x02{P\\x05\\x04P\\ufffd\\ufffd\\ufffdj`Pr\\ufffd\\ufffd\\ufffd$\\ufffd\\x10\\ufffd{\\ufffd\\n\\ufffd\\x15\\ufffd}\\ufffd\\ufffd\\ufffd\\ufffd\\x06Y\\ufffd%6\\ufffd\\x7ffs\\ufffd\\ufffd\\ufffd\\ufffd\\ufffd^8\\ufffdP\\ufffd\\ufffdO5\\ufffd\\ufffd\\x00-\\ufffd\\ufffd\\ufffd\\ufffd\\x1b\\ufffd\\ufffdi\\ufffdY%\\x0e@;\\ufffd4\\ufffd\\x19:\\ufffd`\\ufffd\\tGI\\x14b\\ufffd\\ufffd\\x03\\ufffd\\x1d+\\x7fU\\ufffd\\ufffd\\ufffd\\x12\\x06J\\ufffd@\\ufffd\\ufffdH\\ufffd\\'\\ufffd1\\x10\\ufffd#\\x1c\\ufffd\\rhh\\ufffd}\\ufffdf\\ufffd\\'M\\ufffd?wi\\x17w\\ufffd\\ufffd\\ufffdT[G\\ufffd\\ufffd\\ufffd\\ufffd\\x02Ku\\ufffda]N\\ufffd,:%\\ufffdA@7J\\ufffd\\ufffd.\\ufffd\\ufffd\\ufffd\\x14\\x01\\ufffdq;hqO\\ufffd\\ufffd\\ufffd\\ufffd\\ufffd7\\x12\\x0e~\\ufffd\\ufffd\\ufffdG\\ufffdaD\\ufffdW\\'\\ufffdw\\ufffd\\ufffd\\ufffdR\\ufffd3\\ufffd\\ufffd\\ufffd\\ufffdr\\ufffd\\x1e\\ufffd\\ufffd+\\ufffd\\ufffdq\\ufffd\\x00D\\ufffdK \\ufffd\\ufffd\\x1c\\ufffd[v7#[\\ufffdkK\\ufffd\\x06\\ufffdn?v\\ufffd\\ufffdZ\\ufffd\\ufffd\\ufffd\\ufffd{\\ufffd\\ufffd@\\ufffd\\ufffdx qW\\ufffd\\ufffdd\\ufffd\\ufffd\\x17W\\ufffdj\\ufffd \\ufffd\\ufffd\\x11\\ufffd\\ufffd\\x1a\\x06fG\\x18\\ufffd\\ufffd[\\ufffd,d,AP2kn\\ufffd\\x07\\ufffd@\\ufffd\\ufffd\\ufffd,\\ufffd\\ufffd\\ufffd\\ufffdq\\ufffdNo\\ufffd\\ufffd6K\\ufffd6\\x15YU\\ufffd\\ufffdJ\\ufffd\\ufffd\\ufffdS\\ufffdu\\x0b\\ufffd\\ufffd:\\ufffd\\ufffd\\x00\\ufffd9\\x04K\\x1br\\x1c\\x03\\ufffd\\ufffd0\\ufffd\\ufffdOnb#\\ufffd\\\\~5\\ufffdhO\\ufffd<\\x0e`P~\\ufffd\\ufffd\\ufffd\\x0ez\\ufffd\\ufffd\\ufffd\\ufffdZ\\ufffd\\ufffd\\ufffdcL\\x05\\ufffd\\ufffdO\\ufffd.r\\ufffd\\ufffd\\ufffd\\ufffd[B\\ufffd]+\\ufffdQ\\ufffdK\\ufffdkt\\ufffdL\\ufffd:s\\ufffd\\ufffd\"\\ufffd\\ufffd\\ufffd\\ufffd\\ufffd\\x0f\\ufffd\\ufffdX\\ufffdo\\x17\\ufffd\\ufffd]WMm\\x0fT\\ufffd\\ufffd\\x1f\\ufffd\\ufffd\\ufffd\\ufffd\\ufffd\\x1aIW\\ufffdP\\ufffd\\ufffd\\ufffd\\x00:\\x0faV|?f5\\x0b\\ufffd\\ufffd6p\\ufffd\\ufffd\\ufffdJX\\x7f\\t\\ufffd\\ufffd\\x1ek\\ufffd\\ufffd`]\\ufffd?\\x00\\n\\ufffd\\ufffd\\ufffd4[X\\ufffd\\ufffd<\\ufffd\\ufffd\\x185\\ufffd\\ufffd\\ufffd=(\\x02;\\ufffd\\ufffdz\\ufffd\\ufffd%\\ufffdkl|\\ufffd_\\ufffd\\ufffd\\ufffd\\ufffd\\ufffd\\ufffdW\\ufffdHQe\\ufffd\\ufffd\\x0c}\\ufffd\\ufffdn vj\\ufffd\"\\ufffd\\ufffd\\x1e\\ufffd\\ufffdc$\\ufffd\\ufffd\\ufffd\\x18s\\ufffdrkC\\ufffd\\ufffd_xGU\\ufffd\\ufffd\\ufffd %\\ufffd~\\ufffd\\ufffdx\\x0b\\ufffd\\x10:*\\ufffdU\\ufffd\\tH!\\ufffd\\x1d\\ufffd\\ufffd\\x1f%\\ufffd<\\ufffd\\x1e\\ufffd\\ufffd\\x11\\ufffdn\\ufffd\\ufffd\\ufffds\\ufffd\\ufffd\\ufffdp\\x00f\\ufffd\\ufffd\\n\\ufffd\\ufffd\\ufffdo\\ufffd]Z\\x1evJ@\\ufffdj\\ufffdy\\x11\\ufffd\\x14\\ufffd\\x13\\ufffd\\x0fjC*+d\\ufffdaJ$\\ufffd\\ufffd\\ufffd\\ufffd`\\ufffd9Q\\ufffd\\ufffd\\ufffd!L\\ufffd\\ufffd\\ufffd\\x10\\ufffdL\\ufffd{\\ufffd\\ufffd\\ufffdc\\ufffd\\ufffd\\ufffdm5,\\ufffd\\ufffd\\x07\\x1dE\\x03#\\ufffd\\x00\\x13Fy\\ufffdHA\\'\\ufffd\\n\\x1e\\x07s@\\ufffd\\ufffd\\x04g\\x1dj\\ufffd\\ufffd\\ufffd\\ufffdu\\ufffd\\ufffd\\x00\\ufffd\\ufffd\\ufffd\\ufffdg\\x0b\\ufffd\\ufffd\\n\\ufffd\\ufffd\\ufffd\\ufffd\\x1b\\ufffd\\ufffd1\\ufffd\\ufffd%\\x00lk\\ufffd\\ufffdt;\\t+\\ufffdS\\ufffdtZ\\ufffd\\ufffd\\r\\ufffdz\\x0c\\x11\\\\\\ufffdv4\\x00\\ufffd \\ufffd\\x1e\\ufffd\\ufffd\\ufffd\\ufffd\\x0fPi\\x02\\ufffd\\ufffd\\x7f*a9\\ufffd\\ufffd\\x03\\x0e\\ufffd\\ufffd\\ufffdHK\\ufffd\\x02\\ufffdi(\\x01\\x03|\\ufffd\\ufffd*\\ufffd\\x176\\ufffd\\ufffd?\\ufffdb\\x07J\\ufffd=\\x08\\ufffd<\\n\\x04-\\ufffd\\ufffd\\ufffd\\ufffd\\ufffd\\x06\\ufffd\\ufffd\\ufffdQ\\ufffd\\ufffd)0\\ufffd\\ufffdL\\ufffd\\ufffdV%\\ufffd4\\x00\\ufffd\\x04\\ufffd\\ufffd\\ufffd0\\ufffd\\ufffd\\ufffd\\ufffd\\ufffd \\x04.s\\ufffd\\x00\\x7f\\ufffdj9{\\x01\\ufffdO\\r\\ufffd\\ufffd\\ufffd\\ufffd\\ufffd\\x18\\'\\ufffdy\\ufffd\\x07t\\\\t\\ufffd\\x11\\ufffdG\\\\\\ufffd\\ufffd\\ufffd\\ufffdrHT\\ufffdGCUs\\ufffd\\x00\\ufffd\\ufffd\\x06\\ufffd\\ufffd\\x1d\\ufffd\\ufffd9\\x02\\ufffdD\\ufffd\\ufffd\\ufffd\\ufffd\\ufffd\\ufffdm\\ufffdL\\x14\\ufffd\\ufffd\\\\\\ufffdP2 \\ufffd\\x19\\ufffdg$\\ufffd\\ufffd\\ufffdX5\\ufffd\\ufffd7\\ufffd\\t\\ufffd\\ufffd\\ufffdq\\ufffd\\ufffd\\ufffd\\x1b\\ufffd\\ufffd\\ufffd\\x0b}(\\x03\\ufffd\\ufffd\\ufffd\\x0c3p2\\ufffd}k]]\\ufffd6Ul!\\ufffdX\\ufffd\\r\\ufffdX\\ufffd\\ufffd\\ufffd\\ufffd\\ufffd\\x1a\\ufffdc\\ufffd@\\ufffd\\ufffd\\ufffd\\ufffdE\\ufffd\\x03\\ufffd\\ufffd\\ufffd\\ufffd1yF\\x02\\ufffd\\ufffd \\ufffd=jR\\ufffd|4@\\x03if\\x1fNj\\ufffdC#\\ufffd\\ufffd\\ufffdEK\\x19\\ufffd\\r3\\ufffdRk\\ufffdd\\ufffd\\ufffd\\ufffd\\ufffdXna##\\ufffd\\\\Vv\\ufffd#\\ufffdx\\ufffd\\ufffd\\ufffda\\x08\\ufffd\\\\\\x01)\\ufffd\\ufffd\\x0c\\ufffd\\ufffd\\ufffd<\\ufffd\\ufffdf\\x06P\\ufffd_\\x07\\ufffd~u\\ufffd\\ufffd\\ufffd\\ufffd\\ufffd\\ufffd;\\ufffdp\\ufffd`\\x07=j\\x14]\\ufffd;\\ufffdzG\\ufffdk6\\ufffd\\ufffd\\ufffd%eY/\\ufffd\\ufffd\\x04\\ufffd\\ufffd\\\\&\\ufffd\\ufffdj0C\\x1c3D\\x10\\ufffd\\ufffd=\\ufffd\\ufffd\\ufffd%\\ufffd[\\ufffd\\ufffd7\\x1b\\ufffd_:\\ufffd\\ufffd\\ufffd\\x0cG\\x18\\ufffd\\ufffd\\ufffd\\ufffd\\ufffd(fsn\\ufffd:.@\\ufffd&\\ufffdG\\ufffd\\ufffd\\ufffdr\\ufffd<o4J1\\ufffd\\ufffd\\ufffd\\ufffd\\ufffd\\'i\\ufffd\\ufffd>\\ufffd\\ufffdv\\ufffd\\ufffd96K\\ufffd\\ufffd\\ufffd\\ufffd\\ufffd<\\ufffdU\\ufffd\\x0b\\ufffd\\ufffd\\ufffd1\\x06\\ufffd\\x18\\ufffd_\\r\\ufffd\\x0e\\x05 2,t\\ufffd\\ufffd\\ufffdkmJ\\ufffdS0\\ufffd%\\ufffd\\ufffd\\ufffdZ7\\x10\\ufffd\\ufffdom\\ufffd#\\ufffd\\ufffd\\x0fj\\ufffd\\ufffd\"\\ufffd\\ufffd\\ufffdS\\x10\\ufffd\\ufffd\\ufffd\\ufffd\\x1d\\ufffd\\ufffd\\x1fo\\x1d\\ufffd\\x08\\ufffd\\ufffdNd\\ufffd\\x03\\ufffd>\\ufffd\\ufffd\\ufffd2\\ufffdr\\x1084\\ufffdH\\ufffd\\x00\\x08\\x19\\x03\\ufffd\\ufffdd\\x0c\\ufffd\\ufffd0\\ufffd\\x06\\ufffd\\x01$\\x03\\ufffd~\\ufffd1\\ufffd\\x1c\\ufffd\\ufffd\\ufffd\\ufffd\\ufffd\\ufffd\\ufffd\\ufffd\\'\\ufffd\\ufffd\\x0388`W\\ufffd\\ufffd\\ufffd\\ufffd\\ufffdi\\ufffd%\\ufffd++\\x0e\\r[l\\ufffd\\ufffd98\\ufffd\\x0c\\ufffd\\ufffdP\\x06\\x1e\\ufffdw}>\\ufffdek0\\ufffd\\ufffdO\\ufffdOz\\ufffd\\x17\\ufffd}\\ufffdmk)\\ufffd\\ufffd\\x0fO\\ufffd\\ufffd`\\ufffd\\ufffd~e\\ufffd\\ufffd\\ufffd\\ufffd\"#\\ufffd\\ufffd\\ufffd\\ufffd\\ufffd\\x00\\ufffdmF\\ufffdLb\\ufffd\\ufffd\\x01\\ufffdCqUo\\ufffd%\\ufffd\\ufffdV\\ufffd)\\ufffd\\x100\\ufffd[\\ufffdt\\ufffd\\x10\\ufffd\\x00\\n\\ufffdT\\ufffd\\x14\\ufffd\\ufffd\\x1f\\ufffd\\x00c\\ufffd>\\x0f+\\ufffda\\ufffd6X\\ufffd\\ufffd\\ufffdMU\\ufffd\\ufffd\\ufffd\\ufffd\\ufffd\\ufffd\\ufffd\\ufffd\\ufffdng\\ufffd\\ufffd\\ufffd1\\ufffdx\\ufffdt\\ufffd-\\ufffd_k\\ufffd\\x18\\x1a8\\ufffd \\ufffd\\ufffdP\\ufffd\\x1f\\x03\\ufffdk\\ufffd\\ufffd\\ufffd\\ufffd\\ufffd\\ufffd\\ufffd\\ufffd\\ufffd%\\ufffd\\ufffd\\ufffd\\ufffd \\ufffd\\x07\\ufffd\\ufffdlK:\\\\\\ufffdO\\x0c\\ufffd\\ufffd\\ufffd\\ufffd\\ufffd\\ufffd\\ufffd\\ufffdn\\ufffdg\\ufffd\\ufffd\\ufffd9n\\ufffdn\\ufffdn\\ufffd\\ufffd\\ufffdd\\ufffd\\ufffdq\\ufffd\\ufffd\\ufffd\\ufffd9\\ufffd\\ufffd\\ufffd)\\x0c\\ufffd\\ufffd\\ufffd\\ufffd\\ufffd-\\ufffd\\ufffd\\ufffd\\ufffd<\\ufffdv\\ufffdx$\\ufffd\\ufffd\\ufffd}\\ufffdG\\ufffd>b\\ufffd\\ufffd\\ufffda$\\ufffdk?\\ufffd%\\ufffd\\ufffd@+\\ufffd\\ufffd\\ufffd\\ufffd4\\ufffd\\ufffd\\ufffd\\x14\\ufffd\\ufffdV\\ufffd\\ufffd\\x07\\ufffd\\ufffd\\ufffd\\ufffd\\ufffd\\x16\\ufffd\\ufffdE\\ufffd\\ufffdS\\ufffd\\x0bu\\ufffd\\ufffd\\x15\\ufffd\\ufffdV\\x1f\\ufffd\\ufffdY\\ufffd\\n\\ufffd\\ufffd\\nf\\ufffd\\ufffd+\\ufffd\\ufffd\\x02\\x0f\\x0eE4\\ufffd\\ufffdC\\x1a\\ufffd\\ufffd\\x05v\\ufffd\"<*7#\\ufffd\\ufffd\\x7f\\ufffd\\ufffd\\ufffd\\x1c\\ufffd\\ufffd\\ufffd\\ufffd\\ufffdu\\ufffdGy\\x10\\n\\x00\\ufffdb\\ufffdO\\ufffd\\ufffd\\x1d\\ufffd\\ufffdJ\\ufffd\\ufffd\\x0f-Xt\"\\ufffd#\\ufffd\\ufffd0`\\x7f\\x0b\\x1an\\ufffd/\\ufffdnC\\r\\ufffd\\ufffd\\ufffd0\\ufffd\\ufffd\\ufffd\\x1b>r\\ufffd\\ufffdh\\ufffd\\x1bY\\ufffd\\ufffd)\\x02\\ufffd4e\\ufffdh\\x0c\\ufffd|G\\ufffd\\ufffd\\ufffd,sW \\ufffda\\x0c\\ufffd\\ufffdL9\\x1e\\ufffd\\ufffdC\\ufffd\\ufffdV\\ufffd\\ufffd4\\ufffd\\x02\\ufffd\\ufffd\\ufffd&[\\ufffdz\\ufffd\\ufffd0!\\ufffd1\\ufffdW\\ufffdc\\'\\x1dOJ\\ufffd\\ufffd\\ufffdS\\ufffd~\\x02\\ufffd\\x03.\\x06m\\ufffdpj\\x05\\ufffd%]\\ufffd\\ufffd\\x15m\\ufffd\\ufffd\\ufffdN\\ufffd\\ufffdk\\ufffd\\x03\\ufffd\\x16\\ufffd2s\\ufffd\\ufffdS\\x01\\ufffdx\\ufffdEW\\ufffd\\'M\\ufffdr\\x0c@\\ufffd\\ufffd\\ufffd\\ufffd\\ufffdQ\\ufffde\\ufffd{\\ufffd\\ufffd3\\ufffd\\ufffd\\ufffd+Jx%\\ufffd\\ufffd3\\\\2\\ufffd\\n\\ufffd\\ufffd\\ufffd\\ufffd#Oo\\x07\\ufffdo\\x16\\ufffd\\t\\ufffd\\ufffd(\\x11\\ufffd\\x16\\ufffds$M\\ufffd \\ufffd\\ufffd\\x00\\ufffd\\ufffd\\ufffd\\ufffd;->\\ufffdG\\ufffd\\x1c\\ufffdL\\x0fH\\ufffdU\\ufffd\\ufffdy\\ufffd4\\ufffd\\ufffd\\ufffd@x\\ufffd\\ufffd\\ufffdA\\x00\\ufffd\\ufffdsJ\\ufffd\\x03}6\\ufffd\"X\\ufffd\\ufffd\\ufffdQ\\ufffd\\ufffdX\\ufffd\\x00~\\ufffd\\ufffdn:\\ufffdj\\ufffd\\ufffd\\ufffd\\ufffd\\\\\\ufffd\\x13\\ufffd)\\ufffd\\ufffdW\\ufffd\\ufffd\\ufffd\\ufffd )A3\\ufffd\\ufffd\\x7fi\\ufffd\\ufffd\\ufffd$}\\ufffdV\\ufffd\\ufffd\\ufffd\\n\\x16kc\\ufffd\\ufffd1<\\x7ft\\ufffd\\ufffd\\ufffd4xYN8\\n2j\\ufffd\\ufffd7\\ufffd^\\'\\ufffd\"s\\ufffdJv\\x11B\\ufffd\\ufffd}\\x1fQ\\ufffd\\ufffd\\ufffd\\ufffd\\ufffd\\ufffd\\x11slzJ\\ufffd\\ufffdV\\ufffd\\ufffd*\\x15\\ufffd}OL\\ufffd\\ufffd\\ufffdH\\ufffd^r`a\\ufffd\\ufffd\\x1al\\ufffd5\\ufffd\\ufffd\\ufffd\\ufffd\\ufffd\\ufffd\\ufffd\\ufffd\\ufffd\\ufffd\\ufffd[L\\ufffd\\ufffd(\\ufffdMkz\\ufffd\\\\\\ufffd\\x1e\\ufffd\\ufffd2=\\r\\x0c\\x07\\ufffd\\x7f\\ufffd(\\ufffd=\\ufffd\\ufffd\\ufffdZ\\ufffd\\ufffd\\ufffds}*\\ufffd\\ufffd\\ufffd\\ufffde\\ufffd\\ufffd\\x1c*\\n\\ufffd\\ufffd\\ufffdH\\ufffd1\\ufffd\\ufffd-\\ufffd}&\\ufffdHa\\ufffd\\ufffdc\\ufffd\\ufffd;\\ufffd\\ufffd\\ufffdN\\ufffdq\\ufffd_\\x0cXZ\\ufffd|\\ufffd\\x7f\\ufffd\\ufffd\\ufffdLe\\ufffda]\\x16\\ufffd\\ufffdJ3\\ufffd\\\\.#\\x07\\ufffd\\x05e\\ufffd\\x0b\\ufffd\\ufffd\\ufffds\\ufffd\\ufffd\\ufffd\\ufffd\\ufffd\\ufffd\\ufffdy\\ufffd\\\\w\\'\\x1e\\ufffd\\ufffdl\\ufffd\\ufffd\\x19\\ufffd\"1\\ufffd*[\\x02\\x1b8\\ufffd\\ufffd\\ufffd\\ufffd\\ufffd\\ufffde\\ufffd>bf\\ufffd[\\ufffd\\ufffd\\x079\\'\\ufffd\\ufffd\\ufffd\\x1bmA.W\\ufffdi\\x1e\\ufffd\\ufffd\\ufffd\\ufffdg\\ufffd\\ufffdD#\\ufffdf\\ufffd\\r;\\ufffd\\x06{\\x0432\\ufffd\\ufffdG\\ufffd\\ufffd\\ufffd\\ufffdz\\ufffd\\ufffd#\"(r\\x18\\ufffd2*\\ufffd\\ufffd\\ufffd\\ufffdaP\\x02\\x1c\\ufffdg\\ufffd\\ufffdZ\\ufffd\\ufffd\\x14\\ufffdFd\\ufffds\\ufffdR\\x02\\ufffd\\ufffd\\ufffd\\ufffd\\ufffd\\ufffdwu\\ufffd\\ufffdg\\ufffd\\ufffd\\ufffd5K\\ufffd>&\\ufffd\\n\\ufffd\\ufffdUl\\ufffdw\\x15\\ufffd|\\ufffd<V\\ufffd\\ufffd\\ufffd\\x05 \\ufffd\\ufffd\\x14\\x12>@R>\\ufffd\\x08\\ufffd}c\\t\\x06kv\\x1c\\x0c\\x15\\ufffd\\ufffdB&l\\x1c~\\x15\\ufffd\\x04\\x08\\ufffd\\ufffd\\ufffd\\ufffd\\ufffd\\ufffd\\ufffd6\\ufffd;\\ufffd\\ufffd\\ufffd8\\ufffd\\ufffd2Z\\x1e\\x00<s\\ufffd\\ufffdX\\ufffdF\\ufffd\\ufffd\\ufffd\\ufffd\\ufffd\\x16\\ufffd\\x19\\x07\\x1f!\\ufffd\\ufffd\\ufffd\\ufffd2H\\ufffd\\ufffdZ\\x00\\ufffd\\ufffdm\\ufffd\\x13\\ufffd\\ufffd=hX\\ufffd:68\\x06\\ufffd\\ufffdm\\ufffdd\\x12;pj\\ufffd\\ufffd\\ufffd\\ufffd\\ufffd\\x0fN3\\ufffd\\x13\\x02\\ufffd\\x0f\\ufffd6zf\\ufffd\\ufffd\\ufffd\\ufffd\\ufffd\\ufffd\\ufffd\\ufffd\\ufffd\\ufffd\\ufffd\\ufffd-\\ufffd\\ufffd\\ufffd\\'#9\\ufffdA\\\\x\\ufffd\\x16\\x1d\\ufffd\\ufffd\\ufffd\\ufffdT\\x06\\ufffd\\ufffd?qw\\\\\\ufffd\\ufffd\\ufffd\\x06;WK\\ufffd\\ufffd\\x00\\ufffd\\ufffd\\x07\\ufffd\\ufffd\\ufffd?v\\x0f\\ufffd!\\x0f\\ufffd\\ufffd\\ufffd={\\nf@\\ufffd\\ufffd\\ufffd<\\ufffd^\\x06)\\ufffd\\ufffd\\ufffd\\x07\\ufffdh\\x01\\r3\\ufffd=\\ufffdl\\ufffd\\ufffd\\ufffd\\ufffd\\x19\\ufffdJ\\x06/cHy\\x14\\ufffd\\ufffd\\x14\\ufffdh\\x10\\ufffd\\ufffd\\ufffdW\\ufffdb\\ufffd\\ufffd6b>u\\ufffd\\ufffdT1\\ufffd\\ufffd\\ufffd6(wFph\\x01\\ufffdBV\\ufffdP\\ufffds\\ufffd4\\ufffdb11_N\\ufffd\\ufffdn\\x1c\\ufffd\\x07\\x1c\\x1e\\ufffd\\ufffdVc9\\ufffd\\ufffd\\ufffd8\\ufffd\\x03(\\ufffd\\ufffd\\ufffd\\ufffd|\\ufffd\\ufffdj\\ufffd\\ufffd\\ufffdR\\ufffd\\ufffdn}\\ufffd\"2(\\x11z\\ufffdXdd\\ufffd\\ufffdq\\ufffd\\ufffd\\ufffd\\ufffd-\\ufffd\\ufffd7\\ufffd#\\ufffd\\x19\\x00VR\\x100s\\ufffdJ&*\\x08\\ufffd\\ufffd\\ufffd\\x0bm\\x0e\\ufffdct\\x1ca~\\ufffdjH\\ufffd\\ufffd\\ufffd\\ufffd\\x04\\x0e\\ufffd\\ufffd\\ufffd\\ufffdo)\\x15[n1\\ufffd\\ufffd\\ufffd/\\ufffd\\ufffd\\x1c\\x1e\\ufffd}\\ufffd\\ufffd\\ufffd&\\ufffd\\ufffd\\ufffdR\\ufffd\\ufffdm\\ufffd\\ufffd=:U\\x1b{\\x19\\ufffd\\ufffdQd\\ufffd\\x01\\ufffd@\\ufffd*\\ufffdJ\\ufffd\\x00!@\\x1d\\x00\\x14\\ufffd\\'\\ufffd\\ufffd\\x0b\\ufffd\\ufffd\\ufffd\\ufffd#\\x1fZKCIZ[\\x16\\ufffd@\\ufffd:o\\ufffd\\ufffd\\ufffd\\ufffdB~S\\ufffd\\ufffd\\ufffd\\ufffd\\x08a\\ufffd\\x1d\\ufffdU^\\x0cl\\ufffd\\ufffd\\ufffd\\ufffd\\ufffd^[\\ufffd7\\ufffd\\ufffd\\ufffd\\ufffdI\\ufffde=\\ufffd\\ufffd;\\x0e?\\ufffd,\\ufffd\\ufffd\\ufffd\\ufffd\\ufffdx\\ufffd\\ufffd1\\ufffdU\\ufffd\\ufffd\\ufffd\\ufffd\\x03\\x04\\ufffdb\\ufffd\\ufffda\\ufffdg\\ufffdQVQ\\x1f\\ufffd\\x022\\ufffd\\r)\\ufffdi%\\ufffd\\ufffd\\ufffd|\\ufffd=+.\\ufffdL\\ufffd\\ufffdKk\\ufffd\\x07\\ufffd%\\x07\\ufffd\\ufffdu^`\\ufffd\\ufffd\\ufffd\\ufffd\\x0e\\ufffd\\ufffd\\x140:-[Mmv\\ufffd\\ufffdVe\\ufffdKVYr\\ufffd9\\ufffdYd\\ufffd\\ufffd\\ufffd\\ufffd\\x06\\ufffd\\ufffdoZ7\\x1e\\x14+i8K\\ufffd\")\\x08\\ufffd\\ufffdW+l\\ufffd\\ufffd\\x0b\\ufffd\\\\\\ufffd\\ufffd\\x01\\ufffd\\ufffd\\r\\t\\ufffd\\ufffd\\ufffd\\ufffd\\ufffd\\ufffdK\\x1c\\ufffd\\ufffd:.\\x07\\ufffdP\\ufffd\\ufffd\\ufffd6>a\\ufffd\\ufffdL\\ufffd9j\\ufffd\\ufffd,\\ufffd\\ufffd\\x01\\ufffd\\x17L\\ufffd\\ufffdd&\\ufffd.\\ufffdq9\\ufffd\\x0e\\ufffd\\ufffd\\ufffd2\\ufffd=\\t\\ufffdI\\ufffd\\ufffdr\\ufffdp\\ufffd#\\x07-XS-\\ufffd\\ufffd\\ufffd\\ufffd\\ufffd\\ufffd6\\ufffd\\ufffdv\\ufffd\\ufffdq\\x12\\ufffdR\\ufffd\\ufffd\\x0c\\ufffd:WC\\ufffd\\ufffd\\ufffd\\x19b\\ufffd0\\ufffd\\ufffd\\x06\\ufffd\\ufffd1\\ufffd\\ufffd,\\nd\\ufffdk$;U0GqH\\ufffd\\ufffd\\x0e\\ufffd\\ufffd\\\\\\ufffd\\x13@\\ufffd\\ufffd\\x02\\ufffd@\\x07\\ufffd\\ufffd9\\ufffd\\ufffd\\ufffdk\\x0ed\\ufffd\\ufffd\\ufffdc\\ufffd\\ufffd\\ufffdh\\ufffd\\ufffd\\ufffd`i7!I\\ufffd\\ufffd8\\ufffd\"\\ufffd\\ufffd\\ufffd\\ufffdI\\ufffdH\\ufffdW\\ufffd\\ufffdZ\\ufffd\\x0eY\\x02\\x05\\ufffd\\ufffdT\\ufffd\\ufffd\\ufffd^M\\ufffd\\ufffd\\ufffd3\\ufffd\\ufffdy\\ufffd\\x0c\\ufffdP\\x1fza\\ufffd\\x03,O\\ufffdK\\ufffdi\\x1a\\ufffd\\ufffd\\ufffdmz\\ufffd$2\\x1cy\\ufffd\\ufffd\\x14\\ufffd\\x1a\\ufffd\\ufffd\\ufffddt\\ufffd\\x04\\ufffd\\ufffdq\\ufffdK\\x11\\ufffd\\ufffd\\ufffd.\\ufffd\\ufffd\\ufffd\\ufffd\\x1c~\\ufffd\\ufffd\\x1c\\ufffd\\n\\x00\\ufffd\\ufffd\\ufffd\\ufffdMgs\\x13\\x15;\\ufffd%\\ufffd\\ufffdW\\ufffd\\ufffd\\x19Ko\\ufffd\\ufffd\\ufffd4m\\ufffdi\\x17<\\ufffd\\ufffd\\x12\\ufffdr\\ufffdQ\\ufffd\\x00\\x01##85\\ufffd\"\\ufffd\\ufffd\\ufffd\\ufffd\\ufffd\\ufffd}i\\ufffd\\x06\\ufffd\\ufffd\\ufffdEu1X~\\ufffd\\ufffd\\ufffd\\x1dsQ\\ufffd\\ufffdr8\\ufffd\\x05K>\\ufffd}\\x11;\\ufffd\\ufffd\\ufffdq\\ufffdEc\\x1c\\ufffd\\ufffdf&\\x0b\"\\ufffd\\ufffdFqH{\\ufffd\\ufffd;\\ufffd\\\\i\\ufffd\\ufffd\\ufffd$\\ufffd\\ufffdPpFGJO\\x18_^\\ufffdhW\\x06\\ufffd\\x0bf\\ufffd\\ufffd\\x16,\\x11\\ufffd\\ufffdU@\\ufffd\\ufffdD\\ufffdN\\x08\\ufffd:\\ufffd<Cr$\\ufffd\\ufffd\\ufffdIw\\x08\\ufffd\\t=\\ufffd\\x14!\\ufffd\\ufffd\\ufffdm-\\ufffdt\\ufffd>\\ufffdU\\ufffdfy\\x16\\x15\\ufffd\\ufffdO<\\ufffd\\ufffd[^)\\x1em\\ufffd*p\\x03t?J\\ufffd\\ufffdHD\\ufffdh\\ufffdIvi\\ufffd\\ufffdNx\\ufffdu\\ufffd\"\\ufffd}\\ufffd\\ufffd\\ufffd\\ufffd\\x04d\\ufffd\\ufffd\\ufffd\\x19\\x0c\\ufffd\\ufffd\\ufffdY\\x17\\ufffdc\\ufffd\\ufffd\\ufffd\\ufffd\\ufffdx5\\x1d\\ufffd\\x12Z\\ufffd\\ufffd\\ufffdf\\ufffd(\\ufffd\\ufffd\\ufffd]J;0\\ufffd\\x1aV>\\ufffd\\ufffd[i\\ufffdOj\\ufffd\\x03b\\ufffd\\ufffd\\ufffd5\\ufffd`\\ufffd\\ufffd9\\x1dh\\ufffd\\x1am\\x14l\\x00\\ufffdp;\\ufffdV\\ufffd\\ufffd>mdH\\ufffd\\ufffdt\\x0b\\ufffdDp\\ufffd\\ufffdn\\ufffd\\x10Z\\ufffd*\\ufffd\\ufffd\\\\\\ufffdA5\\ufffd\\ufffd/\\ufffdt\\ufffd{#\\ufffd\\ufffdz\\x0bI \\ufffd\\ufffd\\ufffdi\\ufffdd);+\\ufffd\\x7f\\ufffd\\x0e\\ufffd1\\ufffd.!W\\ufffdI\\ufffd\\x00\\x08\\ufffd\\ufffd/\\x13\\ufffdN?:\\ufffdc{\\ufffd\\x18&\\ufffd\\ufffd9\\ufffd\\ufffd\\ufffd)\\ufffd\\ufffd8\\ufffd}\\ufffd\\ufffd\\x00\\ufffd\\ufffd\\ufffd\\ufffd\\ufffd#\\ufffd\\ufffd\\ufffd\\ufffd\\ufffd\\ufffdZ\\ufffdef\\ufffd%C\\ufffdj\\ufffd\\ufffd\\ufffd5(l\\ufffd\\ufffdH\\ufffd\\ufffd\\ufffd\\ufffd\\ufffd/\\x7f\\ufffdr\\ufffdh\\ufffd\\x19\\ufffd\\x00\\ufffd\\ufffd\\ufffd\\ufffd\\ufffdi\\ufffd}\\ufffd\\x1cj7C\\ufffd\\ufffd\\ufffd\\ufffd\\ufffd\\x05\\ufffdF\\ufffd^\\x13\\ufffd\\ufffd\\x07\\ufffd\\x02\\ufffd\\ufffd\\ufffd\\ufffdxSP\\x0b\\ufffd\\x02\\ufffd\\x1e>j\\ufffd\\ufffd]\\ufffdG\\ufffdLnG\\x1f\\ufffd\\ufffd\\x17\\ufffd\\ufffd\\x7f\\ufffdFs\\ufffd\\x00\\x03\\ufffd\\ufffdY\\x0f\\ufffd\\x11F\\ufffd\\ufffd\\ufffd\\ufffdW\\x02\\ufffdN=\\ufffd\\ufffd\\ufffd:\\ufffd#\\x16\\ufffd\\ufffd{\\ufffd7\\ufffd\\ufffd\\x1e\\ufffd\\ufffd\\ufffd\\ufffd\\ufffdS\\ufffd\\ufffd\\ufffd\\x0eF\\ufffd?\\ufffd\\ufffdG\\ufffdd\\x1fZ\\ufffd\\ufffd\\ufffd\\x1c\\ufffd\\ufffd\\x00ZC\\ufffd\\ufffdg\\ufffd\\ufffd \\x18\\ufffd\\ufffd>\\ufffdU5\\ufffduPI\\ufffd|\\ufffd:n\\ufffd\\ufffd\\ufffd\\ufffd\\ufffd\\x7f\\ufffd\\ufffd\\ufffd\\ufffd\\ufffd\\ufffd\\ufffd\\ufffd\\x11.\\ufffd\\x03^\\ufffdK\\ufffd\\ufffd{(\\ufffd;\\x0c\\x15Z\\ufffd\\x0f\\ufffd|@\\ufffd\\ufffd\\ufffd\\ufffd/\\ufffd\\x1c\\ufffd\\ufffd\\x00nj\\ufffds\\ufffd\\ufffd\\ufffd\\ufffdI\\x1e\\ufffd\\ufffd5\\ufffd\\ufffd%\\ufffd1\\ufffdp\\ufffd\\ufffd\\ufffd\\ufffd\\ufffd\\ufffd{t\\ufffd\\x13@\\ufffd\\ufffd\\ufffd\\ufffd\\ufffd{\\x1cG\\ufffd\\x00,f\\ufffd\\x0b\\ufffdk>\\ufffd\\ufffd\\ufffd#\\ufffd\\ufffd3\\ufffd\\ufffd\\ufffd$n\\ufffd\\x16!\\ufffd\\ufffd\\ufffd\\ufffd\\ufffd\\ufffd\\ufffd\\\\\\ufffd\\ufffdA\\ufffd\\ufffd6o\\x16k\\ufffd,\\ufffd+:\\ufffd\\x1ar\\ufffdG\\ufffd\\x03<St\\x1d\\ufffd\\n\\ufffdJ\\ufffd\\x1c\\ufffd7\\ufffd\\ufffd\\ufffd\\\\\\ufffd\\ufffd\\ufffd\\ufffd&\\ufffd)z\\x02==\\re\\ufffdW\\ufffd}\\ufffd\\x18!R\\ufffdv\\ufffd\\x11/\\ufffd\\ufffd\\ufffdt><\\ufffd[\\ufffd\\x0fF\\ufffd\\ufffd#\\t\\x1d\\ufffd\\ufffdr\\ufffd\\ufffds\\\\\\ufffd\\x16\\ufffd9/p\\ufffd\\x00\\ufffd\\x00u5\\ufffd\\ufffd:\\x13\\ufffd,$)+\\x1f\\ufffdX\\ufffd\\ufffd\\ufffdS\\ufffd\\ufffd6h\\ufffdQ\\ufffda\\n\\x01\\ufffd\\ufffd\\ufffd\\ufffdwq\\x11\\ufffd\\ufffd\"*Pp\\ufffd\\ufffdP\\ufffd\\ufffdQ\\x0e\\ufffd\\ufffd\\ufffd\\ufffdH\\x1a&\\ufffd+o\\ufffd$\\ufffd\\x0e>f\\ufffd.o\\x1d\\ufffda\\ufffd1\\ufffdD\\ufffd\\ufffd\\ufffdTL\\ufffd\\ufffdzv\\ufffd<M}\\x0bv\\x19\\ufffd\\x16\\x02\\ufffd\\ufffdKm&\\ufffdbm\\ufffd7\\ufffd}\\ufffd\\ufffdO\\ufffd\\ufffdN3\\ufffd\\ufffd\\ufffd\\ufffd?jB\\t\\ufffdd\\x0c\\ufffd\\ufffd\\ufffd\\ufffdQ\\t=\\ufffdHh\\ufffd\\x14\\ufffd\\ufffd\\ufffd\\ufffd\\ufffdh:\\ufffd\\x1b\\ufffd\\ufffd\\ufffd\\ufffd\\ufffd\\x1e\\ufffd\\x18\\ufffdVB\\ufffd~\\\\c\\x02\\ufffd\\x19*@\\ufffds\\ufffd\\ufffd\\x03\\ufffd\\ufffdF\\ufffd\\ufffd\\ufffd\\ufffd\\x19\\x15*\\ufffd\\ufffdB\\ufffdr@\"\\ufffd\\x08\\ufffdc\\x06r\\x0f#5\\x1b\\ta\\x12\\x02pG\\x18\\ufffd\\ufffd\\x00\\ufffdHg?  \\ufffd\\ufffd\\ufffd\\ufffd\\ufffd\\ufffd:\\ufffdwp\\x0e1I\\x15\\ufffd[X\\ufffd@\\ufffd\\ufffd\\ufffd\\ufffd\\ufffdK\\ufffd\\ufffd\\ufffd\\x00\\ufffd\\ufffd})\\ufffd\\x07\\ufffd\\ufffd\\ufffd\\x0f\\ufffd\\x12=j%\\ufffd\\ufffd\\ufffd:rX`\\ufffdR\\x0b\\ufffd\\ufffd\\r\\ufffd+\\nb\\ufffd\\x12\\ufffd\\ufffdE\\ufffd\\ufffd\\ufffd\\ufffdA\\ufffd\\ufffd9\\ufffd\\ufffd\\ufffd#\\ufffd\\ufffd\\ufffd\\ufffd[\\ufffd\\rB7\\ufffd\\ufffd(R\\x0f\\x7fj\\ufffd\\ufffdL\\ufffd\\ufffd\\ufffdY\\ufffd\\ufffdh%\\x07\\ufffd\\ufffd\\x0b\\x1a\\ufffd\\r-\\ufffd\\x03\\ufffdL\\ufffd>!\\x00g\\ufffd\\ufffdt:\\ufffd\\ufffd\\x00H\\ufffd~\\x18\\ufffd\\ufffd\\x10\\n\\x14\\ufffd\\x0fZw\\x02\\ufffd\\ufffdM\\ufffd\\ufffd8\\'\\ufffdPm\\x1eXn\\ufffd\\ufffd\\x19\\ufffdX\\ufffdA\\ufffd\\ufffd\\ufffdJ1 N}M\\t\\ufffd\\x03\\ufffdb\\ufffdQ\\ufffd\\ufffd\\ufffd\\ufffd\\ufffd\\ufffd!\\ufffd\\ufffd\\ufffd\\ufffd\\ufffd\\x02\\x19\\ufffd1=)\\ufffd0\\ufffd\\ufffd\\ufffd\\ufffd\\ufffd\\ufffd\\ufffd\\x17l>\\ufffd\\ufffdWB:U0\\ufffd\\ufffd\\x00\\ufffd\\ufffd\\ufffdb\\x1e\\ufffd\\ufffd\\ufffd\\ufffd\\x15\\ufffd\\ufffd:c\\ufffdb\\ufffd\\'\\ufffd\\ufffd\\x02\\x03\\ufffd4\\ufffdv\\ufffd\\ufffd\\ufffd\\ufffd\\ufffd\\ufffd74c\\ufffd\\x00\\ufffd\\ufffdo\\ufffdJ%\\x0b\\ufffd\\ufffd\\ufffdz\\x1a\\ufffd}1R\\x03\\ufffdz\\ufffd\\x18$g4\\x00\\ufffdx\\ufffd\\ufffd\\x00\\ufffdR\\ufffd\\ufffd~zU\\ufffd\\x08\\x12\\ufffd\\ufffdo\\ufffd\\ufffd\\x14\\x0c\\ufffdC\\ufffd8\\ufffd\\x0c|\\ufffd\\ufffd\\x16\\ufffd\\ufffd$\\x1c\\ufffd\\ufffd\\ufffd\\ufffd\\ufffdHK\\ufffd\\x0c\\ufffd\\ufffdRXf 1\\ufffdFj\\ufffd\\ufffd\\ufffd\\ufffd\\ufffd\\ufffd!\\ufffd@\\ufffd\\x14\\x08\\ufffd\\x1b\\t\\ufffd\\x0e\\ufffd\\r89H\\ufffd.\\x0ez\\ufffdUl\\ufffdh\\ufffd\\ufffdy\\x1d\\ufffdY\\ufffdPRv\\x1a\\ufffd\\ufffd\\x07<\\ufffd\\x7f:\\ufffd\\ufffd\\ufffd\\ufffd\\ufffd!\\ufffd\\ufffd^\\x08\\x15\\x16@`O#<\\ufffdt\\ufffd\\ufffd\\ufffdp\\ufffd\\x05p\\x01\\ufffdt\\ufffdVi\\ufffd\\ufffd\\ufffdB\\ufffd\\x15\\\\\\ufffdO\\ufffd9\\ufffd\\ufffdi\\ufffd\\ufffd\\ufffdPO\\ufffd\\ufffd\\x0eGj\\ufffd\\ufffd#\\ufffd\\ufffdg\\ufffdd\\ufffd\\ufffdPI\\ufffd\\ufffd\\ufffde\\'\\x13\\t\\x06q\\ufffd\\x14\\ufffd#\\ufffd\\ufffd\\ufffd\\ufffd\\ufffdsV\\x0cq\\\\\\ufffd\\ufffd\\ufffd\\x12\\x7f\\x14g\\ufffdT=>S\\ufffd\\ufffdZ\\x04d\\ufffdX\\ufffd\\ufffd\\ufffd\\ufffd\\x04\\ufffd\\ufffdn\"\\ufffdX\\ufffd\\ufffd\\x08\\x11\\x00\\ufffd\\ufffd\\ufffd\\ufffd\\ufffd\\ufffdGj\\\\\\ufffd\\ufffd\\x0c3\\x1e\\ufffd\\ufffd\\x1b\\ufffd>\\ufffd\\ufffd\\ufffd\\ufffd\\x07\\ufffd8\\ufffd\\ufffdn\\ufffd\\ufffd\\ufffd\\ufffdc4\\x01\\ufffd\\ufffd\\\\\\ufffd\\ufffd\\ufffd\\ufffd\\ufffd\\ufffdmh\\ufffd\\ufffd\\ufffd\\x1b\\ufffdi~4\\ufffdi\\ufffd\\n\\ufffd}OZr@\\x08\\x7f\\ufffdI\\ufffd\\ufffd\\ufffdG:\\ufffd,am\\ufffd+\\ufffd\\ufffd\\ufffd\\ufffd\\x03\\ufffd\\x1e\\ufffd$\\x7f\\x15$\\ufffd\\ufffd\\x05^\\x12#\\x0e2\\x01\\ufffd\\ufffd\\ufffd3\\ufffd\\ufffd\\ufffd\\ufffd\\ufffd\\ufffd};J \\ufffdB\\ufffd\\x19\\x1d\\x1b\\x1c\\ufffd\\ufffd\\x0b4\\ufffdF\\ufffd\\ufffd\\ufffdE\\ufffd\\ufffdu\\x0b9\\ufffd@\\x0f\\ufffd\\x17\\x1d\\x08\\ufffd<\\t\\ufffdE\\ufffd]CU\\t\\ufffd\\ufffd~U\\ufffd\\x02\\ufffd\\ufffd\\ufffdV\\ufffd\\ufffd}\\ufffdo\\x16\\ufffd\\ufffdA{eG\\x1c\\ufffd3U\\x1b\\ufffd^/ \\x0f\\ufffd\\x0bP\\x00\\ufffd\\x11\\x1a\\ufffd%\\ufffd\\ufffd\\ufffd2v\\ufffd\\ufffd5N]6\\ufffd$\\x19\\ufffd\\ufffd\\x03\\ufffd\\ufffd5|\\ufffd.\\x03^\\ufffd\\ufffd\\x18\\ufffd\\x0b\\ufffd.m\\ufffd\\ufffdR\\ufffd*\\ufffd\\ufffd\\ufffd-\\ufffd\\ufffdg\\x18\\ufffd?e\\ufffd\\ufffdf\\ufffd\\ufffd\\ufffd\\ufffdIc9\\ufffd\\ufffd\\ufffd~a\\ufffd=\\ufffd\\\\Z\\x19d)\\x1d\\r \\ufffd#\\ufffd\\x14\\ufffd\\ufffdx$\\n\\ufffd\\x04\\ufffda\\ufffd\\ufffd(\\x01%\\ufffd`\\ufffdW\\ufffd\\ufffd\\ufffds:t/5\\ufffd\\ufffd\\x1b\\ufffd\\ufffd\\ufffd\\ufffd\\ufffd\\ufffd\\ufffdV|\\ufffd?\\n\\ufffd\\ufffd\\ufffd\\ufffd\\ufffd\\x0f2\\x13\\ufffd\\ufffdM :\\ufffd\\ufffd\\ufffd1\\ufffd\\x1f(\\ufffdMa\\ufffd+|\\'\\ufffd\\x060\\ufffd1\\ufffd\\n\\ufffd\\ufffd\\ufffd\\ufffd\\ufffd\\ufffdICJ\\x17\\ufffd\\x14\\ufffdT\\ufffd6\\ufffd?\\ufffd\\ufffd\\ufffd\\ufffd^\"\\x01c\\ufffd\\x14 .\\ufffd\\ufffd\\ufffd\\\\j\\x7fj yp.O\\ufffd\\ufffd\\ufffdQ\\x1cR\\ufffd]\\ufffd\\ufffdN\\ufffdmp\\x01*;\\x1c\\ufffd~\\ufffdXFP\\x12\\x08\\ufffd\\ufffdU\\ufffd8\\ufffdze\\ufffd\\ufffd\\ufffd\\x0cp>\\ufffd=@\\ufffd4) \\ufffd-*\\ufffd\\ufffdo2\\x01\\x1b\\x0e{\\ufffdZ\\ufffd:\\ufffd\\ufffd\\ufffdym\\ufffdI\\ufffd&\\ufffd\\ufffdu\\ufffd\\ufffd{\\ufffd\\x07\\ufffd\\ufffdE\\ufffd\\ufffdH\\ufffd\\ufffd\\ufffd\\ufffd\\ufffds4\\ufffd\\ufffd\\x12c\\x1f\\ufffd\\x1dh\\x19EnTr-\\ufffd\\x1b\\ufffd\\ufffd\\ufffd\\tb\\x16\\ufffd\\ufffd\\ufffd\\ufffd\\ufffdvs\\x0f\\ufffdv\\ufffd\\ufffdE\\x1eYXfi\\ufffd\\ufffd\\ufffd\\x1eXc\\ufffd\\ufffd\\x0eVo\\ufffd^\\x00\\ufffd\\ufffdae\\ufffdX\\ufffdb\\x03\\x06\\x19\\x19%Oz\\ufffdUG\\ufffd\\ufffd/\\ufffd7\\x0b[\\ufffd\\ufffd\\ufffd1o\\ufffd\\x12;\\x0cP\\x04\\ufffd\\ufffd\\ufffdek\\x1b\\ufffd\\ufffd\\ufffd$\\ufffd\\x11\\x01{\\ufffd\\ufffdz\\x19 \\ufffdW\\ufffd\\ufffd\\ufffd\\ufffdER\\ufffdzu\\ufffdE\\ufffdO\\ufffd\\ufffd\\ufffd\\ufffdE=\\ufffd\\x15c\\ufffds\\ufffd\\ufffd\\x06\\ufffdS\\ufffd\\ufffd\\\\\\ufffd\\ufffd\\ufffdj\\ufffdi$gW\\ufffdf:\\ufffd\\x0ekO\\ufffdio<\\x17\\ufffd\\ufffd\\x13\\ufffdg\\x0b\\x11<\\ufffd\\ufffdYq6c#\\ufffd5kJ\\ufffd\\ufffd\\ufffdr\\ufffd0\\x17\\n\\ufffddm\\x19\\ufffd\\x07\\ufffd\\ufffd^\\ufffd\\ufffd\\ufffd\\ufffd\\ufffd\\x1d\\ufffd%\\ufffde\\ufffd\\ufffd\\x05\\ufffdY+JZA#7U!\\ufffd\\ufffd\\ufffdo\\x0f\\ufffd\\ufffd\\ufffd6\\ufffdowm\\ufffd=\\ufffd\\x02\\ufffd\\ufffd\\ufffdK\\ufffd\\ufffd\\ufffd\\ufffdg}\\ufffd2yG\\x00\\x12r3Q\\ufffdsey\\x0e\\ufffdq=\\ufffd\\ufffd\\ufffd\\ufffdh\\x0c\\x0f\\x04\\x03P\\ufffd\\ufffd=\\ufffdwQ\\ufffd\\ufffd\\ufffd\\ufffd*\\ufffd\\ufffd.\\ufffd\\ufffd\\ufffdpI\\ufffd\\ufffd\\x06\\ufffd\\ufffdM\\x0e\\ufffd\\x04\\x0c\\ufffd\\ufffd\\x19\\ufffdhI\\ufffd\\ufffd\\ufffd\\ufffd\\ufffd\\ufffdk\\ufffdJ\\x03\\x00K\\ufffd\\ufffd\\ufffd\\ufffd\\ufffd\\ufffdq\\ufffdS\\ufffd\\ufffdm\\ufffd\\ufffd\\ufffd]>\\ufffdQjd\\ufffd\\ufffd\\x15\\ufffdI2u\\ufffd5\\ufffdmJ|\\ufffd\\x15N\\ufffd&\\ufffd\\ufffdZ\\x07m;\\ufffd+8\\ufffd\\x1eA-\\ufffd\\ufffd\\ufffd\\ufffdE\\ufffd\\ufffdR\\ufffd&\\x07\\ufffdK\\x16\\ufffd\\ufffd8\\ufffd\\ufffd\\ufffdN7rY\\x1byF\\ufffd\\ufffdb\\x1c\\x7f\\x17\\ufffd\\ufffdT\\ufffdg\\x17\\ufffd\\ufffd\\ufffd\\ufffd\\ufffd(\\ufffd\\ufffd\\ufffd\\x07\\ufffd\\ufffd\\ufffd2\\ufffd\\ufffd\\x17\\ufffd\\ufffd2\\ufffd\\ufffd\\ufffd\\ufffd\\ufffd\\x18\\ufffd\\x0c\\ufffdY\\ufffd9\\ufffdO\\ufffd\\ufffds\\ufffd\\ufffd\\ufffdk+\\x19t\\ufffd\\x14\\x02U\\ufffdK\\x08\\ufffd\\x0eO\\x0c\\ufffd\\ufffd\\ufffdP\\ufffd^\\ufffd\\ufffdE\\ufffd\\ufffdw7\\ufffd\\ufffdsA0\\x1d\\ufffdt5h^\\ufffd\\ufffd\\ufffd\\x07\\ufffdJ\\ufffd\\ufffd\\ufffd\\x16\\ufffd\\ufffd\\ufffd\\ufffdE$\\ufffdq\\ufffd\\x1eS\\ufffd\\ufffd\\ufffd\\ufffd\\ufffd\\ufffd\\ufffd\\ufffd\\ufffd\\x0f\\ufffd\\ufffd\\x0b\\ufffd\\ufffd$\\x16\\ufffd\\x1a\\ufffd\\ufffd\\ufffd\\ufffdw\\ufffdL\\ufffd\\ufffd\\ufffd\\ufffd\\ufffd%\\ufffd\\x0b}\\ufffd3\\ufffd\\ufffd\\ufffds\\ufffd5\\ufffd\\ufffdP\\ufffd#\\ufffd\\ufffd\\x1b2\\ufffd\\ufffd\\ufffdzS\\ufffd\\ufffd\\ufffd\\ufffd\\ufffdmnR\\ufffd\\ufffd\\ufffd\\ufffdJ\\ufffd\\ufffd\\ufffdQ\\x0f\\ufffd}G\\x14\\ufffd\\ufffd\\ufffd\\ufffd\\ufffd\\ufffd\\x1f\\ufffdj+\\x19\\x1e\\ufffd(\\ufffdgg\\ufffdG\\ufffd\\ufffdMOw\\ufffd\\ufffd\\ufffd\\x00\\x7f\\ufffd\\ufffd\\ufffd\\ufffdu9\\ufffd\\ufffd\\x1f\\ufffd\\x13\\'\\ufffd]\\x15\\ufffd%/@\\ufffd\\ufffd\\\\\\ufffd\\x12\\ufffd\\ufffd\\x0f\\\\\\ufffd\\ufffd\\ufffd\\n\\ufffd\\ufffd6o\\ufffd\\ufffd\\ufffdq\\ufffd\\ufffd\\ufffd\\ufffdI\\ufffdw\\x1e\\ufffd\\ufffd\\ufffd\\ufffd\\x13=j.\\ufffdE\\ufffd%>Y\\x1e\\ufffd\\t\\ufffd#\\x14J\\ufffd\\x10s\\ufffd\\ufffd*\\x12\\ufffdn:T\\ufffd\\ufffdK\\ufffd\\ufffd\\ufffd\\ufffd\\ufffd\\ufffd`\\x06\\ufffd\\ufffd\\ufffdWV\\ufffd\\x1czw\\ufffd\\ufffd8\\ufffd\\ufffd\\x04\\ufffd`A\\ufffd\\ufffd\\ufffdh\\ufffdb\\ufffd[\\ufffdb\\ufffd\\ufffd\\x04\\x01S(\\x039\\ufffd\\ufffd\\ufffdL\\t\\ufffdey$v\\x1c\\ufffd\\ufffdO\\x1d\\ufffdU\\ufffd\\ufffd\\ufffd\\ufffd\\ufffd*\\ufffd\\ufffd-\\ufffd\\ufffdd\\x1aYe\\ufffd\\x159N\\ufffd\\ufffd\\ufffd[g\\x0c\\ufffd\\ufffd\\ufffd\\ufffdo.I\\ufffd\\ufffd\\ufffd\\ufffdK\\ufffd\\x1d\\ufffdQ\\ufffd\\ufffd\\ufffd}) \\x1aN\\x0f\\x14H\\ufffd\\ufffd\\ufffdM\\x1d\\x08\\ufffdJg\\x04\\x02N9\\ufffd\\x11iv\\ufffdC\\x12{\\ufffdR\\ufffd\\ufffd\\ufffd\\ufffd\\x01\\ufffd9\\ufffdTw\\x13\\ufffd\\ufffd8\\ufffdW\\x19\\ufffdHe\\ufffd\\ufffd0l\\ufffd2\\ufffd\\ufffd\\ufffdto\\ufffdK\\ufffdv\\x04\\ufffd\\x0c\\ufffd\\ufffdqU\\ufffd\\n\\ufffd-\\ufffd\\ufffd\\ufffd\\ufffd\\ufffd\\x11[\\ufffd\\ufffd\\x042\\x12}x\\ufffd\\t\\ufffd\\x12|\\ufffd}s\\ufffdT\\ufffd\\x02\\ufffd\\ufffd\\ufffd\\ufffd\\ufffd\\ufffd\\ufffd\\ufffd}\\x13\\ufffd\\ufffd\\ufffd\\ufffd\\ufffd\\ufffd8\\x1d\\ufffd`#FH\\n\\x07\\x1b\\ufffdj\\ufffd\\ufffdM\\ufffdC\\ufffd\\ufffd\\ufffdz\\ufffd\\ufffd\\ufffdL$\\x03\\ufffd*S\\ufffd\\ufffdg\\ufffd\\ufffd\\ufffd\\ufffd\\ufffd*/,\\ufffd\\ufffd\\ufffd\\ufffd\\ufffd\\x02\\ufffd\\ufffd\\ufffd\\ufffdko\\ufffd\\ufffd\\'\\ufffdU\\ufffdb\\ufffd\\x0c\\ufffd\\ufffd\\ufffd\\ufffd\\ufffdPy\\x07\\ufffd\\ufffd8&\\ufffd$\\ufffdXF\\x07\\x00\\ufffd\\ufffdE\\ufffd\\ufffd\\ufffd\\x00d\\ufffd>\\ufffd\\\\,g4[\\ufffdlv=\\ufffd6\\ufffdc)\\x0b\\ufffd\\ufffd\\ufffdhd/\\ufffd\\ufffd<T\\x10o\\ufffd\\x19\\ufffd8\\r\\ufffdi\\ufffd\\n\\ufffd\\x12H+\\ufffd\\ufffdNn8\\ufffd\\ufffd3\\ufffdk\\ufffd(\\x00\\x06\\ufffd0\\ufffd.\\ufffd\\ufffd\\ufffd\\x007\\x1d\\ufffdh\\ufffdsV-\\ufffd^GL\\ufffd\\ufffd\\ufffdz\\ufffd\\ufffdlK1I\\ufffd\\ufffd\"\\ufffd\\x19x\\ufffd\\ufffdixt\\x035\\ufffdl\\x0c\\ufffd\\rS\\ufffd\\ufffdkyv`\\ufffd?\\ufffdD\\x13\\ufffd\\ufffdR\\ufffd\\x18\\x18\\ufffd@\\ufffd\\ufffdM^;\\ufffd%\\ufffdH\\ufffd\\ufffd\\ufffd\\x1fZ\\ufffdB\\ufffdV\\x18\\ufffd\\x18\\ufffd\\ufffd\\ufffd\\ufffd[(\\ufffd\\ufffdPL\\ufffd\\x1c\\ufffd\\ufffd\\x0bU\\ufffd$\\ufffd\\ufffdn=\\ufffd$\\t\\x16V%P\\x02\\ufffd\\ufffdz\\ufffd\\ufffd\\t\\ufffd\\ufffd\\ufffd\\ufffd1\\ufffdO\\ufffd40\\ufffd\\ufffd\\ufffd4\\ufffd\\ufffdh\\ufffdy\\ufffd8\\x1bO\\ufffdY*\\ufffd2z\\ufffdyIX\\ufffd\\x07l\\ufffd\\ufffd\\ufffd\\ufffd$\\x1f\\rE\\ufffd&AY_0<\\x1c\\ufffd\\ufffdzt\\ufffd\\ufffd>{\\x0b?\\x08\\ufffd\\ufffdlFf\\ufffd\\ufffds\\x1fo\\ufffd\\x15\\ufffdq\\x1f\\ufffd\\ufffd]D\\ufffdJ,\\ufffd/\\ufffd\\ufffdR\\ufffd\\ufffdQ\\ufffd\\ufffd\\x18dl\\x1a\\ufffd\\x1b}\\ufffd\\ufffdG\\ufffd\\ufffd,\\ufffd\\ufffd\\ufffd\\ufffd\\nI\\ufffd\\ufffdSX\\ufffd\\ufffd\\ufffd\"\\ufffd\\ufffd$\\ufffd\\ufffdA\\ufffdTJD\\ufffdF\\ufffd0\\ufffd(z\\x11\\ufffd\\ufffdtCr\\ufffdn\\ufffd\\ufffdh\\ufffd`\\ufffd\\ufffd\\ufffd\\x07\\ufffd\\ufffd\\ufffd\\ufffd\\x03\\ufffdv\\ufffd\\x01\\ufffd3\\ufffd}i\\ufffd\\x04u\\ufffd\\ufffd\\x00\\ufffd8\\x14R\\x03\\ufffd\\ufffd\\ufffd\\ufffdP \\ufffd\\x14[3-\\ufffd|\\ufffd\\ufffd\\x074\\ufffd\\ufffdY\\ufffd]B5\\\\e\\ufffd\\ufffd=\\x054\\x046k\\ufffd)\\ufffd\\ufffd\\ufffd\\ufffd\\ufffd\\x0bg\\ufffd!y\\x03\\ufffd\\ufffd\\ufffd\\ufffd2\\ufffd\\ufffd%\\ufffd\\ufffd\\ufffd\\ufffd\\ufffd\\'p\\ufffd\\ufffd\\x1a\\x1b\\ufffd8\\ufffd\\ufffd\\ufffdu\\x1c2]\\ufffdM\\x14\\ufffd!\\ufffd\\ufffd\\ufffd\\ufffd\\ufffd\\ufffd\\ufffd\\ufffd\\x1b]\\ufffde\\ufffd\\ufffd\\'\\ufffd\\ufffd!\\ufffd\\ufffd\\x13\\ufffdCZ\\ufffd\\x17\\ufffd\\ufffd\\ufffd\\ufffd\\ufffd2&>\\ufffd\\ufffdU\\ufffd\\ufffd-&\\x0e\\ufffdc\\ufffd3\\ufffd\\ufffd\\x18\\ufffd>\\ufffd\\ufffd\\ufffd\\ufffdlO;\\ufffd\\ufffd\\ufffd[FI\\x1a\\x0bmn\\ufffd\\ufffd\\ufffd\\x07\\ufffdj\\x18\\x12\\x18u\\x00\\ufffd0bG@y\\ufffd\\x1b\\ufffdY6\\ufffd\\ufffd\\ufffd\\ufffd\\ufffd\\x19 \\ufffdR\\ufffd)8l\\ufffd:\\ufffd\\ufffdM\\x16\\ufffd\\ufffd\\ufffd\\ufffd\\ufffd9\\ufffd5(\\ufffd/ \\ufffd\\ufffdg\\ufffd\\ufffdB\\ufffd\\x17\\ufffdHm\\ufffd\\ufffd|\\ufffd\\x1b\\ufffd\\ufffd^\\ufffd\\ufffdY\\x14Q\\x19X\"\\ufffd\\ufffd\\ufffd\\ufffd[yab%M\\ufffd\\ufffd\\ufffdB\\ufffd\\x14\\ufffd!o\\ufffd\\ufffd\\ufffd\\x01\\ufffd)\\ufffd\\x05m\\ufffd\\ufffd\\rH\\x08\\ufffd3\\ufffd\\ufffd\\ufffd\\x16L\\ufffd$\\x07\\ufffd\\ufffd\\ufffd\\ufffd3F\\ufffdn\\ufffdv\\ufffd\\x0fZ\\ufffd\\ufffd,\\ufffd\\ufffdG\\ufffdpN@\\x1f\\ufffdWD\\ufffd\\ufffdG\\x0c\\ufffdV?\\ufffd\\x7f\\ufffd\\x07u\\ufffd\\x1f\\ufffdS\\x03\\ufffd\\ufffd\\x11\\ufffd\\x1a\\ufffd{\\ufffdc\\x12i\\ufffd\\ufffd\\ufffd;V\\ufffd\\ufffdJ\\ufffd\\x05\"\\ufffd\\ufffd\\x01\\ufffd\\n\\ufffdtH5x\\ufffd\\ufffd{\\\\\\ufffd\\ufffd\\ufffdN:\\x0e*\\ufffd\\ufffdQ\\ufffd\\x0ee;\\ufffd\\ufffdR3]\\ufffd\\ufffd\\ufffd\\ufffd\\ufffd\\ufffd\\ufffd=)\\ufffd\\ufffd\\ufffdOw\\x15\\ufffd\\ufffd\\ufffd\\ufffd\\x19osY\\ufffdmy\\x0f\\ufffd\\ufffdJ\\ufffd[\\ufffd\\ufffd\\ufffd\\x1b\\x1b\\ufffd!%\\ufffd\\ufffd\\ufffd\\ufffd+^\\ufffd&\\ufffd\\ufffdp\\ufffd\\ufffd\\ufffd!\\ufffdxbBn\\x15c\\ufffd\\x0b\\ufffdk\\ufffd\\ufffd\\x10\\ufffd\\ufffd]\\ufffd*Ht\\ufffd\\ufffd\\ufffd%\\x12\\ufffd\\ufffd\\ufffd\\ufffd\\ufffdn\\\\k\\ufffd\\ufffd\\ufffd\\x1bJg\\ufffdSi1K\\ufffd\\x1f\\x06\\ufffd\\ufffd\\ufffd\\ufffd\\ufffd\\ufffdo7)\\ufffd\\ufffd\\ufffd\\x1f\\ufffds\\ufffd\\ufffdy\\ufffd>\\ufffd\\ufffd\\ufffd}5\\ufffd\\ufffd\\x1f\\x14\\ufffd\\ufffdC0\\ufffdW\\x07\\ufffd\\ufffd\\t\\ufffd\\ufffd\\ufffd\\ufffdn/\\nj\\ufffd\\x18\\ufffd,-\\ufffd\\ufffd\\ufffd\\ufffd]]\\ufffd\\x02>+\\ufffd\\ufffd\\ufffd\\ufffdH\\ufffdu\\x0b\\ufffd\\ufffd\\ufffd\\ufffd\\ufffd\\ufffds\\ufffd\\ufffd\\ufffd\\ufffdw`\\x7f\\ufffdS]\\x1fX\\ufffdG\\x1f\\ufffd\\ufffd\\ufffd\\ufffd\\x00\\ufffd\\'\\ufffd\\x13\\ufffd\\ufffd\\ufffd\\x00Jo\\ufffd\"z\\ufffd80\\ufffd\\ufffdWP\\ufffdT\\x105[\\ufffd\\ufffdsR.\\ufffd\\ufffd\\ufffd1\\ufffd\\ufffd\\ufffd\\x00}SX\\ufffd/e\\x13\\ufffd\\ufffd\\x00\\ufffd[Z\\ufffd\\ufffd\\x18S[\\ufffdZ\\ufffd\\ufffd\\x00\\ufffdC\\ufffd\\ufffd\\x13\\\\\\ufffd\\ufffd\\ufffd\\ufffd\\ufffd7\\ufffdzT\\ufffd\\ufffd-|)\\ufffd\\ufffd}\\ufffd\\x15_[}\\ufffd\\ufffd#i\\ufffd9\\ufffdw\\ufffdc\\ufffd\\x14\\ufffd\\ufffdZ\\ufffd\\x03\\ufffd>_\\ufffd\\ufffdG\\ufffd|BN?\\ufffd\\ufffd\\x00\\x1e\\ufffd\\ufffd\\ufffd>)\\ufffd(\\x18]V\\x0fNc4\\ufffd\\ufffd\\ufffd\\x07\\ufffdL\\ufffdt=a[\\x1f\\ufffd\\ufffd\\ufffd\\ufffdSN\\ufffd\\ufffd\\ufffds\\ufffdO\\ufffd\\x00|\\ufffd1\\ufffd\\ufffd\\x16\\ufffd\\ufffd\\x00!\\x1b3\\ufffd]\\ufffd\\ufffd\\ufffd\\ufffd\\ufffd+S\\ufffd\\ufffd\\ufffd\\x1f\\ufffd\\ufffd\\x7f\\\\}\\ufffd\\ufffd\\ufffd\\ufffdHt\\ufffd[\\x18\\ufffd\\ufffd\\ufffd\\x07\\ufffd\\ufffd\\ufffdO\\ufffd\\ufffdt\\ufffd\\ufffd\\x0bk\\t@\\ufffd@\\ufffdez\\ufffdQ\\ufffd\\ufffd|\\\\U\\ufffd\\ufffd\\ufffd\\ufffd\\x1d6\\ufffd\\ufffd\\ufffd\\ufffd\\ufffd*v\\ufffd\\ufffd\\'\\ufffdhx\\ufffd\\ufffd*4R\\x16\\x1d/P\\ufffd\\x10\\ufffdN\\ufffd\\ufffd\\ufffdi.,\\ufffd\\x06\\ufffd\\ufffda>v\\ufffd6\\ufffd\\x1a\\ufffd\\ufffd\\ufffd\\x00\\ufffd\\ufffd\\ufffdKC\\ufffd\\ufffd\\ufffd\\ufffdO\\ufffd/\\x16A\\x0e\\ufffd\\r\\ufffd\\ufffd\\ufffd\\ufffd\\ufffd\\x00*k\\x17\\ufffd\\ufffd\\ufffd\\x08\\ufffd\\ufffd`\\ufffd\\ufffd\\ufffd\\ufffdks\\x03\\ufffd \\ufffd8V\\ufffd\\ufffd\\ufffd\\\\\\ufffdel\\ufffd\\ufffd\\ufffd\\ufffd}\\ufffd\\ufffd\\ufffd\\ufffdR\\ufffd)\\ufffdV\\ufffd\\ufffd\\x12+\\ufffd|\\x01H\\ufffd\\x01\\x03\\ufffdsQ\\x1f\\ufffdR=+\\ufffd\\ufffd\\ufffd\\ufffd\\ufffd\\ufffd\\ufffd\\ufffd\\ufffd\\x106\\ufffd\\ufffd\\x19l6\\ufffd2O4\\ufffd\\ufffd\\ufffd\\ufffdT0*9\\ufffdI\\ufffd\\ufffd\\ufffde\\ufffdB1I\\ufffd|\\ufffd\\ufffd\\ufffdX\\ufffd\\ufffd\\ufffd\\ufffdw=3@\\x0e\\x19b0;\\ufffd\\ufffdlp}qU\\ufffd\\ufffd(8\\x1d*\\ufffd\\ufffdy\\ufffdc\\x1f\\ufffd\\ufffd=\\ufffd\\x10\\ufffd\\ufffddy\\ufffd4)#<\\ufffdF1!\\x1d\\ufffd\\ufffd\\ufffde\\ufffd=(\\x02m\\ufffd`S\\ufffdp\\x00\\ufffd1\\ufffd\\ufffdJ\\\\\\ufffd#\\ufffdP2V$s@$\\ufffd\\ufffdJ\\ufffd\\ufffd\\ufffd}\\rY\\ufffdO#\\x08\\x01\\ufffd@\\ufffdF\\ufffdf\\ufffdjY\\te\\ufffd\\ufffd\\ufffdz\\ufffd\\ufffd|LZ0\\x14\\ufffd\\x0e;\\ufffd[\\ufffd\\ufffd\\ufffd\\ufffd\\ufffd\\ufffdc\\ufffd\\ufffd2~\\ufffd\\ufffdS\\ufffdr}\\ufffd.\\ufffdC\\ufffd\\ufffd\\ufffd\\x1f\\ufffdg\\ufffd8\\ufffd\\ufffd\\ufffd~\\x1d\\ufffd\\ufffd\\x00\\t\\ufffd\\ufffd\\x07\\ufffd\\ufffdf\\ufffd\\ufffd@\\x1b\\ufffd\\ufffd\\ufffd|\\x1c\\ufffd\\ufffdcYJe\\ufffd\\ufffdc\\ufffd15\\ufffd\\ufffd\\ufffd\\ufffd\\ufffd\\ufffd\\ufffdX3!\\ufffd\\ufffd\\x18\\ufffd\\ufffd\\ufffd~`=)1#I\\ufffd\\x17>\\ufffd*\"\\x08\\x07>\\ufffd8\\x00\\ufffd\\x14\\ufffd\\ufffd\\ufffd\\ufffd\\x1e\\ufffd\\ufffd\\ufffdh\\ufffdG\\ufffd\\ufffd\\ufffdy\\x1cs\\ufffd2x^:p(\\x19 R\\x01\\ufffd\\x06\\x05ON\\ufffd_\\x18\\ufffd\\ufffd\\x0f\\ufffdx\\ufffd=\\ufffd\\ufffd\\ufffd\\x11\\ufffd\\ufffdRz\\ufffdp+\\ufffd;\\ufffd\\ufffdZ\\ufffd\\ufffdL\\ufffd\\ufffd\\ufffd\\ufffd\\ufffdj\\ufffd\\ufffde#\\ufffdJ\\ufffdUS\\ufffd?\\n\\ufffd\\ufffd2\\ufffd\\ufffd\\ufffd\\ufffd\\ufffd\\ufffdZ\\ufffd\\x02%\\ufffd\\'\\x1cV\\ufffd6\\ufffd[;\\x03\\ufffd5X\\ufffd\\ufffd\\ufffd\\x0b\\x0eI\\ufffdU\\ufffdS\\x07\\x12\\ufffd\\ufffd;V\\ufffd?\\ufffd\\ufffd\\ufffd\\ufffdX\\ufffd\\ufffd\\ufffd\\ufffdPr8\\x15\\ufffd\\ufffd\\ufffd\\ufffd\\ufffd\\x0b\\ufffdS C\\ufffdV\\x040\\x0c\\x08\\ufffd\\ufffd\\ufffd\\r\\ufffd\\x08\\ufffd\\ufffd\\ufffd\\x03\\ufffd\\ufffd<ST\\x1d\\ufffd>\\ufffd\\ufffdlc\\x19O\\ufffd\\ufffd\\ufffdE\\ufffd\\ufffd\\ufffd2\\x14{\\ufffd\\ufffd6\\ufffd\\ufffd\\ufffdS\\ufffda\\ufffd\\ufffd\\ufffdp\\x0cf\\x0cw\\ufffd\\x14\\ufffd\\ufffd\\x0e:S\\ufffd\\ufffd\\ufffd\\x11\\ufffd\\ufffd\\x01\\x11\\ufffd\\ufffd\\ufffd\\ufffd\\x08\\ufffd\\ufffd\\ufffd\\x07\\x04\\ufffd\\x17js\\ufffd\\x07\\ufffdE^*T\\x0fj\\ufffd6\\x167v\\x1d\\x05m\\x16K%\\ufffd7\\x11\\ufffdgB0\\\\C\\x0f\\ufffd\\ufffd\\x12,\\ufffd\\ufffd\\ufffd\\ufffdOz\\ufffd\\ufffd\\x7f\\ufffdZ\\ufffd\\x0f\\ufffd\\x0f\\ufffd].\\ufffdio{\\ufffd\\ufffd;\\ufffd0\\ufffd\\ufffdZM\\ufffd\\ufffdNk\\ufffd\\ufffd\\x07\\ufffdj\\ufffd=\\x04\\ufffd}1TI\\x19\\ufffd\\ufffd\\ufffd\\ufffd\\ufffdLV14\\ufffd\\ufffd\\ufffdLg8\\ufffd)\\x08\\ufffd\\ufffd\\ufffde\\ufffd\\tS\\x16_<7\\ufffd&\\\\l\\ufffdD\\ufffdDS\\ufffd$\\ufffd\\ufffdU\\ufffd\\ufffd\\ufffd\\ufffd?\\ufffd\\ufffd9q\\n(\\x03*x5\\x1bNDd\\ufffd\\ufffd)\\ufffd\\ufffd-\\ufffd4\\ufffd\\x15x\\ufffd\\ufffd~\\ufffd\\ufffdP\\ufffd\\ufffd#\\ufffd\\ufffdO|\\ufffdC\\ufffd\\ufffd\\ufffd#\\ufffdh\\ufffdG\\ufffdQ\\x15W\\ufffd\\ufffd\\ufffd\\ufffd:\\ufffd\\ufffd\\x04\\ufffd\\ufffdJ\\r009\\ufffd\\x19\\ufffd\\ufffd\\ufffd\\x1c_\\ufffd5\\x14\\ufffd\\ufffd\\ufffd]\\ufffd,\\ufffd2\\ufffdl\\ufffd\\ufffd\\nn\\x07\\ufffdP\\x06\\r\\ufffd\\ufffd\\ufffdz5\\ufffd3\\ufffd7(\\ufffd\\x16\\ufffd8\\ufffd~d\\ufffdd\\ufffd\\ufffd\\ufffd\\ufffd\\ufffd\\ufffd\\ufffd\\ufffd\\x19\\ufffd\\ufffd\\ufffd\\ufffd\\x16\\x16\\ufffdci\\ufffd\\ufffd\\ufffd\\ufffd\\x1c\\ufffdp2I\\'\\ufffd\\ufffdd\\x16\\ufffd+\\ufffd\\x16\\x10\\x0f\\ufffdgJ-!S\\ufffdG\\ufffdT\\ufffdc\\ufffd\\ufffd\\';i\\ufffd@\\ufffd\\x00h\\ufffd\\ufffd\\x1c+g5\\ufffd\\ufffd\\ufffd x@i\\ufffdR\\ufffd\\ufffd\\ufffdea#\\ufffd\\ufffd\\ufffd\\ufffdy\\ufffd\\ufffd\\x18\\ufffd\\ufffd\\ufffd\\ufffd@\\ufffd\\ufffd\\ufffd\\ufffd\\ufffd\\ufffd\\ufffdq\\ufffdn\\ufffdb;e\\x1f\\ufffd\\ufffd\\ufffdv\\x0f\\x13\\x14\\ufffdJ\\ufffd\\ufffdRc\\x18\\ufffds\\ufffd*\\ufffd\\\\\\ufffd\\ufffd\\ufffd\\ufffdw\\'f\\ufffd)\\x01Dg\\ufffdi\\ufffd\\ufffd5f{3\\x1a\\ufffd\\ufffd\\x1d\\ufffd\\ufffd\\ufffd\\ufffdB1\\ufffd\\x00|w3E\\ufffd\\ufffd\\x03\\ufffd\\x18f\\ufffd\\ufffdE,Sh7\\ufffd\\ufffd\\ufffd\\ufffd\\x0cc\\ufffdQZ dc\\x1c\\ufffdG\\ufffd?\\ufffd\\x07u\\ufffd\\x07\\ufffd\\x14\\ufffd\\ufffd\\ufffd\\x19sq7\\ufffd\\ufffdr3\\x140\\ufffd\\x1e\\ufffd\\ufffd\\ufffd\\ufffd\\x1d\\ufffd;\\ufffd\\x00\\x01\\ufffd\\x1fj_\\nDm\\ufffd\\x11*\\ufffd\\ufffd\\ufffd\\ufffd<}\\x05W\\ufffdf\\x11\\ufffd\\ufffd/\\ufffd\\ufffd\\x1d\\ufffd{\\n@U\\ufffd\\ufffd\\ufffd\\ufffd\\x19\\ufffd>Z\\x0cD\\x0f\\ufffdJ%`w\\x0e\\ufffd\\ufffd\\x1c\\ufffd\\ufffd\\x18U\\ufffdG\\x15\\n\\ufffd(l\\x14\\'\\x02\\ufffdLd:\\ufffd\\ufffd/\\ufffd\\ufffdg5oBm\\ufffdyS\\ufffd\\ufffdMV\\ufffd\\ufffd\\x00\\ufffd1\\ufffd*M\\x12O.T\\x00|\\ufffd!\\ufffd\\ufffd\\ufffd[K\\ufffd\\ufffdfN0\\ufffd&\\ufffd|*\\ufffd\\ufffd\\ufffd\\x16\\x1cMb\\ufffdG\\ufffd\\ufffdk\\x0e\\ufffd\\ufffd\\ufffd\\ufffdX\\ufffd;\\ufffd\\ufffd\\ufffd\\ufffd\\x0f\\\\\\x19<k5\\ufffd\\ufffd\\ufffd\\ufffd\\tT{\\ufffdR\\ufffd\\ufffd\\ufffdG\\x05b\\ufffdC\\ufffd\\ufffd$\\ufffd\\ufffd\\ufffd\\ufffdt\\ufffd\\ufffdB\\ufffd\\ufffd\\ufffd\\ufffd\\x06\\ufffdv\\ufffd\\x03\\ufffd\\ufffd\\ufffdk1\\x00\\x17\\x13\\ufffde\\ufffd\\ufffdn\\ufffd:\\ufffdh\\ufffd\\x04\\ufffd~\\ufffd\\ufffd\\ufffdB\\x0fe\\ufffd\\ufffdQ\\ufffd\\ufffd\\x15\\ufffd\\ufffd}ik\\x1c\\ufffd\\ufffdd\\ufffd,K\\ufffd\\ufffd&\\ufffd\\ufffdk\\ufffdq+:\\x01\\x1ck\\ufffd\\ufffd\\ufffd\\ufffdA\\ufffd8\\'\\ufffd\\ufffd\\ufffdU$Z:\\ufffd?\\ufffd;zU}WW\\ufffdR\\ufffd\\ufffd\\ufffd\\x16)%\\ufffd\\ufffdLg\\ufffd\\x1dh\\ufffd\\ufffd\\ufffd\\ufffd\\ufffd\\ufffd\\ufffd\\ufffd}\\ufffd\\ufffd\\ufffd\"\\ufffds&{qQ\\ufffd\\ufffd\\ufffdg\\r\\ufffd\\ufffdZ)\\ufffd\\x10\\ufffd\\x1c\\ufffdj\\ufffd\\ufffd\\ufffdR\\x08\\ufffd\\ufffd\\'\\ufffd;su\\x06\"\\ufffdN\\ufffd\\ufffd\\x1a\\ufffdg&\\ufffdm\\ufffd\\ufffd?F[\\ufffd\\ufffd\\x16r\\ufffd\\ufffd\\ufffd\\ufffd\\ufffd\\ufffd\\ufffd%\\\\\\ufffd\\ufffd\\ufffd\\ufffd)\\ufffd\\ufffd\\ufffd\\ufffd\\ufffde\\ufffd\\ufffdRS\\ufffd\\ufffd5\\ufffd\\ufffd7\\ufffd\\ufffd\\ufffd\\ufffd\\ufffd\\ufffd\\ufffd\\ufffd\\ufffdE\\ufffd\\ufffd\\ufffdN\\ufffd\\ufffd\\ufffdB\\ufffdT\\ufffd\\ufffd\\ufffd\\ufffd\\ufffd\\ufffd\\ufffd\\ufffd\\ufffdB\\ufffd\\ufffdGl*\\ufffd\\ufffd\\ufffd\\ufffd\\x1e\\ufffd2\\x05\\ufffd\\x1f\\ufffdj\\ufffd\\ufffd/\\ufffd\\ufffd8\\ufffd\\x190\\ufffd\\ufffd \\x1e\\ufffdqT\\ufffd\\ufffd\\ufffd\\ufffd\\x00\\ufffd3\\ufffdq_\\ufffd\\ufffd\\ufffd5(\\ufffdV\\x1f4\\ufffd\\x03I\\x1bR\\ufffd\\ufffd\\ufffd_:N\\ufffd2M\\ufffd\\ufffd\\x07Z\\ufffd\\x1b\\ufffd9\\x1csW\\ufffd\\ufffd\\ufffd\\ufffd\\ufffd\\ufffd\\ufffdK\\ufffd\\ufffd4\\ufffd\\ufffd\\ufffdFd$\\x0f^\\ufffd\\x0e\\ufffd\\x12ZkWH\\ufffd\\x08\\ufffdX\\x0fL\\ufffdhaZ\\ufffd\\ufffd\\ufffd\\x1dGZI\\ufffdy_\\ufffd[\\ufffd{\\ufffd\\ufffd\\ufffd\\ufffd\\ufffd\\ufffd\\x1b(\\x00i\\ufffd\\ufffd\\ufffd;\\ufffd\\x172\\x08\\ufffd\\ufffdpRh\\ufffd\\x0c\\ufffd\\ufffd5\\':l\\ufffd\\ufffd\\ufffd\\ufffdL\\ufffd\\x14\\x1ebj8\\ufffd\\ufffdz\\ufffdE\\ufffd\\ufffdnA\\ufffd\\ufffd8\\ufffdxA?\\x01\\ufffd\\ufffd\\ufffd\\ufffd\\ufffd\\ufffd\\ufffd\\ufffd\\ufffd\\ufffdJ\\ufffd\\ufffd\\x18\\x00\\n\\ufffdv\\ufffd\\ufffd\\ufffd&B>\\ufffd\\x7f\\x11\\ufffdjM\\ufffd[n\\ufffd\\x01\\ufffd\\ufffd\\ufffd\\ufffd\\x00y\\ufffd\\ufffd\\ufffd\\ufffd\\x7f\\ufffd!\\x1f\\ufffd\\x1cg\\'\\x18\\ufffd#\\x0c\\ufffd\\ufffd\\x04\\ufffd\\x0b\\ufffd\\ufffd\\ufffd\\t\\ufffd\\ufffd\"\\ufffd\\ufffd\\x00\\x01\\ufffd\\ufffd\\ufffd\\ufffd>l\\ufffd\\n\\x00\\ufffd\\ufffdu;I\\ufffd4\\x0c\\ufffd2\\ufffd\\ufffd|\\ufffd$\\x1b\\ufffdV(\\x17\\'\\ufffd\\ufffdoX\\x0f\\'\\x04\\ufffdn)\\ufffd\\ufffd\\x1a1\\ufffd\\ufffd\\ufffd\\x11\\ufffd\\ufffd\\ufffd5\\x1eF\\ufffd\\x0eq\\ufffdG\\ufffd\\x07\\ufffd \\x1cg\\ufffd\\ufffd%\\ufffd1\\ufffd\\ufffd\\ufffd\\ufffd9\\ufffd\\ufffd\\ufffdz\\x0fj\\x06J\\ufffdp\\ufffd\\ufffd\\ufffd\\ufffd\\ufffdU\\ufffd\\ufffd \\ufffdd\\ufffd\\ufffd@\\x16C\\ufffd\\ufffd>\\x1a\\ufffd>;\\ufffd\\x1e\\ufffdJ\\x07\\ufffdY\\ufffd\\ufffd\\x1b\\ufffd\\ufffd\\ufffd\\ufffd\\ufffd|y\\ufffd\\ufffd`\\ufffd\\ufffd#?\\ufffd\\ufffd#\\ufffd\\ufffd\\ufffd\\ufffd\\ufffd\\ufffd\\ufffdX\\ufffdv\\ufffd\\ufffdv\\ufffds\\ufffd\\ufffd\\ufffd\\ufffd\\ufffd\\ufffd\\ufffd\\ufffd\\ufffd\\x19\\x18Q\\ufffd\\ufffdR\\ufffdaHbU3\\ufffd\\ufffd\\ufffdh\\ufffd3\\ufffd\\ufffd\\ufffd<f\\ufffdM.\\ufffd\\x0c\\ufffd\\ufffd\\ufffd\\ufffd&n\\x19s\\ufffd-H\\ufffd\\ufffd\\ufffd_\\ufffd\\ufffd\\ufffd\\ufffd\\x00\\ufffd\\ufffdVH\\ufffd\\ufffd\\ufffd\\ufffd\\ufffd\\ufffdP\\ufffd3\\ufffd\\ufffd`\\x08\\ufffd<\\ufffd\\ufffd\\ufffdo\\ufffd\\ufffdG\\ufffd_\\ufffd\\ufffd\\x18\\x01\\ufffdz\\ufffdH\\ufffd$\\ufffd_\\ufffd\\x02\\ufffd\\ufffd2!oCO\\ufffd<\\ufffd4\\ufffd\\ufffd=\\x00\\ufffdP\\ufffd\\ufffd=)\\ufffd\\x00s\\ufffd\\ufffd\\ufffd\\ufffd\\ufffdS\\x17\\ufffd\\ufffd\\ufffd\\ufffd\\ufffd\\ufffd$\\ufffdd@`\\ufffdr\\ufffd\\ufffd\\x1b\\ufffd\\x03\\ufffd\\ufffd)\\ufffd\\x114&!\\ufffd\\ufffd\\ufffd$\\x0e\\ufffd1\\ufffd&\\x03\\ufffdq\\ufffdBd\\x0c\\ufffd\\ufffd*\\ufffd\\ufffd\\x7fZ\\ufffdCfb0GRpi3\\ufffdI=9\\ufffdH\\ufffd-\\ufffd\\x03\\ufffd@\\ufffd\\ufffd\\ufffd\\x19\\ufffd\\ufffd\\x03\\x1f\\x16s\\ufffdJG\\ufffd\\ufffd)\\ufffdml\\x0e\\ufffd\\ufffdE<\\ufffd\\ufffdP\\ufffd\\x7f\\ufffd\\ufffd\\ufffd\\ufffd\\ufffd\\ufffd\\'\\ufffdF\\x00 )\\ufffd\\ufffd\\ufffdR)\\ufffd\\x14\\ufffd|\\ufffd|c\\ufffd\\x15\\x1c\\ufffd\\ufffd&A\\ufffd1O\\x1c\\ufffd\\ufffd\\ufffd\\ufffd\\ufffd6y\\ufffdB`k\\ufffd\\x1f\\ufffd\\ufffdm`\\x1cm$\\ufffd\\ufffd\\ufffd\\ufffdL\\x13\\ufffd\\ufffd\\x7f\\ufffd[\\ufffd\\x13\\ufffd\\ufffd\\n;1\\x185\\ufffd}\\x1eu+\\ufffd\\ufffd\\ufffd\\ufffd\\ufffdLE\\t0\\ufffd\\ufffdZ\\ufffd\\ufffd\\x07\\x15bU>f;\\ufffdv\\ufffdJb\\x13?\\ufffd\\ufffd\\ufffd\\ufffd\\ufffd\\ufffd)\\ufffd\\ufffd\\ufffd\\ufffd\\ufffdG^\\ufffd\\ufffd\\ufffd\\ufffd\\ufffd\\ufffd\\x1e\\x0b\\ufffdU0I=\\ufffd\\ufffd\\ufffdc\\x07\\ufffd\\ufffd\\ufffd\\ufffd4Q\\ufffde\\ufffdV\\ufffd{F%\\x1a,H\\x0fc\\ufffd\\ufffdHT\\ufffdZ\\ufffd\\ufffd~\\ufffd,\\ufffd,\"\\ufffd\\ufffd\\ufffd\\ufffd\\ufffda\\ufffd\\ufffd\\x05X\\ufffdJ$PI\\ufffd\\ufffd\\ufffd\\x15\"\\ufffd\\x16a\\ufffd\\x0e\\x0fqQ\\x06\\ufffd\\x06\\ufffd \\ufffd\\ufffd6p\\ufffd\\ufffd\\x13\\ufffd\\x15\\ufffd=\\x05J\\ufffd9o\\ufffdmI\\x0b\"9\\x11\\ufffdf\\x14\\x12G\\ufffd3\\ufffd\\ufffd2\\ufffd\\x04\\ufffd)F\\ufffd?Zi\\ufffd}\\ufffd\\x11!<\\ufffddf\\ufffdp\\ufffdi\\ufffd\\ufffd\\ufffd\\x008\\x11\\ufffd\\ufffd8\\ufffd\\ufffd\\r\\x19\\ufffdh\\x00\\ufffd\\x1e\\x7f\\x1a1\\ufffd\\ufffd1\\ufffd0\\x0c\\ufffdN\\ufffd\\ufffd@#9\\x14\\ufffd\\x07l~\\ufffdc\\x03\\ufffdG\\ufffd\\ufffdc\\x19\\ufffd\\x04\\ufffdg\\ufffd\\ufffd)\\ufffd\\ufffd5`}\\ufffd\\ufffd\\ufffd\\x069{g\\ufffd5\\\\\\ufffd\\x06\\x7fZ,\\ufffd\\ufffd\\ufffd.\\ufffd\\ufffd\\ufffd\\ufffd\\ufffd\\ufffdh\\ufffd$F9\\ufffd\\ufffd@$\\ufffdK\\x03\\x11*\\ufffd\\ufffd\\rck\\ufffd\\x1d\\n\\ufffd\\ufffd\\ufffd\\x7f:\\ufffd\\x0b\\x0f\\rx\\ufffdO\\ufffd]\\ufffd\\ufffd\\ufffd\\ufffd\\ufffd\\ufffd\\ufffd+\\x1b\\ufffd\\ufffd\\x04\\ufffd\\ufffd\\ufffd1\\x7f~g\\x1eJ\\x05\\ufffd\\ufffd\\ufffd\\ufffdH\\ufffd\\ufffd\\ufffd\\ufffd\\ufffd(%\\ufffd\\ufffd<\\ufffd\\ufffd\\x172\\x0c\\ufffdtDT\\x03q\\ufffdk\\ufffd\\ufffd\\ufffd<1\\ufffd\\\\2[\\ufffd<\\ufffd[l\\ufffd\\ufffd\\ufffd\\ufffd\\x1f^{}1Y:DgK\\ufffds\\ufffd\"\\ufffd\\ufffd\\ufffdD&\\ufffd\\ufffd\\ufffdX\\x03\\x03\\ufffd\\ufffd\\ufffd&\\ufffd\\ufffdu\\ufffd\\ufffd\\ufffd8$\\ufffd\\ufffd\\ufffd\\ufffd\\x07\\ufffd\\ufffd\\ufffdA\\ufffd\\ufffd\\ufffd\\ufffd\\ufffd\\x00\\ufffd\\ufffd\\x0c#2F02\\ufffdq\\ufffd<\\x03\\ufffd}\\ufffd\\ufffd\\r\\ufffd\\ufffd\\ufffd1L6\\ufffd?\\ufffd\\ufffd\\ufffdA\\ufffd\\ufffd\\ufffd\\x1a\\ufffd\\ufffdx\\x12\\ufffdI;\\ufffd\\x18\\ufffd>\\ufffdC\\ufffd\\ufffd|og\\ufffdo\\x13<\\ufffd\\ufffd\"eY@\\x1e\\ufffd\\x0f\\ufffd)K\\ufffd\\ufffdU\\ufffd\\ufffd\\ufffd[\\ufffd\\ufffd\\ufffd4\\n\\ufffd\\ufffd\\ufffd\\ufffd\\x18Q\\ufffd\\ufffd\\ufffd\\ufffd\\x1e\\ufffd\\x0c}A\\ufffd\\ufffd\\ufffd\\n\\ufffd\\ufffd\\ufffdn\\ufffd\\ufffdg\\ufffd-\\ufffd\\ufffd\\ufffd\\ufffd\\ufffd\\ufffdrI\\x0b\\ufffdg\\x1d\\ufffd\\ufffd\\ufffdS\\ufffd\\ufffd5\\ufffd\\ufffd\\ufffd\\ufffdJ\\ufffd\\ufffd\\ufffdw\\ufffd\\ufffdi\\ufffd\\ufffd\\x0f\\ufffd\\ufffdG\\ufffd\\ufffdi\\ufffd\\ufffd\\ufffd\\ufffdv\\ufffd\\ufffd\\x16\\x1f,j\\ufffd2\\ufffd@$\\ufffd\\ufffd#\\ufffd\\ufffd\\ufffd\\x01\\ufffdMj\\ufffdv\\ufffd\\x13\\ufffdYn\\ufffd\\ufffd\\ufffd\\ufffd\\ufffd\\ufffd\\ufffd\\ufffdq\\ufffdn\\ufffd^MA\\ufffd\\ufffdI\\ufffdo\\x14\\ufffd4\\ufffd\\ufffd\\ufffd<6\\ufffd\\ufffd\\ufffd\\ufffd\\x17\\ufffd\\ufffdZ\\ufffd\\ufffd59\\ufffdu\\x1f\\ufffd\\ufffd[y\\ufffdndX\\ufffd$\\ufffd\\ufffdnj\\x0f\\x0ek\\x12\\ufffd\\ufffd\\'X\\ufffd\\ufffd\\ufffd\\ufffd\\ufffd\\ufffd\\ufffd\\ufffd\\n\\x02s\\ufffd\\ufffd4\\ufffd\\ufffd\\ufffdO\\x1dX\\ufffd\\ufffd\\ufffd\\x16\\ufffdiko\\ufffd^\\ufffd\\ufffd\"Z\\ufffd\\x03\\ufffd\\ufffd?3c\\ufffd\\ufffd\\ufffd\\ufffd\\ufffdas\\ufffd\\ufffdco\\ufffd\\ufffdo\\ufffdF \\ufffd\\ufffdF\\ufffda@Z9r\\ufffd\\x06z\\ufffd\\ufffdU\\ufffd\\ufffdk\\ufffd\\ufffd\\ufffd\\ufffd\\ufffdo\\ufffdh\\ufffdy\\ufffdCr\\ufffdcq,\\r\\ufffd6$\\ufffd#\\ufffd\\x11\\ufffd\\ufffd\\ufffd\\ufffdM\\ufffd\\x1d\\ufffd\\ufffd\\ufffd\\ufffd\\ufffds\\x0c\\ufffdw\\ufffdj\\x05\\ufffd\\ufffd?(\\ufffd\\ufffdX\\ufffd\\\\\\ufffd\\ufffdw\\ufffd\\ufffd\\ufffdw5\\ufffd?\\ufffdi\\ufffd\\ufffd\\ufffd\\ufffd\\ufffdQ\\ufffd!-\\ufffd\\ufffd\\ufffd\\ufffd2\\ufffd\\x0bF\\ufffd\\ufffd\\ufffd\\ufffd\\ufffd\\ufffd\\ufffd\\ufffd\\x7f\\ufffd\\x1e\\ufffd\\ufffdO\\ri\\ufffd\\ufffd\\ufffd2\\x1f>\\x7f9\\ufffd\\x7f\\ufffdm\\x0cT\\x1e\\ufffdt\\ufffd=\\x7f\\ufffd\\ufffd%\\ufffd\\ufffdoe\\ufffdMn\\ufffd\\ufffd\\ufffd\\ufffd\\ufffd\\ufffdA \\ufffdr\\ufffd\\ufffd\\ufffdj\\ufffd\\ufffd\\ufffd\\ufffd\\ufffd\\ufffdF\\ufffd\\x1c:t\\ufffd\\ufffd\\ufffd\\ufffd\\ufffd\\ufffd\\ufffdo3y]\\ufffdH\\x1d\\ufffd\\ufffdu\\ufffd\\ufffd\\ufffd]G@\\ufffd\\ufffd\\ufffd#\\ufffdk=%\\ufffd\\ufffd\\ufffd\\ufffd\\x1c\\ufffd\\ufffd\\ufffd\\ufffdH\\ufffdF\\ufffd=\\x08\\ufffd]\\ufffd\\ufffd\\ufffd\\ufffdD[Z\\ufffd\\ufffd\\ufffdl \\ufffdm\\ufffd\\ufffd\\ufffdp\\ufffd\\x05\\ufffd0Pr\\x08\\ufffd\\ufffd\\ufffdY\\ufffd\\ufffd+\\ufffd\\ufffdQPt\\ufffd\\ufffd\\ufffdkI\\'\\ufffd2@\\ufffd\\ufffd\\ufffdm@I\\ufffdY\\ufffdx\\ufffd-w\\ufffd\\x1a\\ufffd\\ufffd\\ufffd\\x1bW\\ufffd\\ufffd\\ufffd1\\ufffd\\ufffd2m\\x01v\\ufffd\\ufffd3\\ufffd<\\ufffd\\ufffd\\ufffdO\\ufffd\\x17\\ufffdv\\ufffdi6\\ufffd\\ufffd\\ufffd\\ufffd\\x08\\ufffdIn\\ufffd\\ufffd\\ufffdyrz\\ufffd\\x07\\ufffd\\ufffd\\ufffd\\ufffd\\ufffd\\ufffd_\\ufffd\\x16:\\ufffd\\x161Go{\\ufffd\\ufffd^\\ufffd\\ufffd\\x14Wl\\x11\\ufffdzp\\x7fJ\\ufffd\\ufffd<_m\\ufffd\\x00\\x08\\ufffd\\x1am\\ufffd\\x16\\ufffd\\ufffd\\x16\\ufffd\\x0e\\ufffdI\\ufffd\\ufffd\\ufffdym\\ufffd\\ufffdU\\ufffd\\x1b\\ufffd\\ufffd\\x00k\\ufffd$\\ufffd\\ufffd{X\\ufffd[A\\x18\\ufffd\\ufffd\\ufffd\\ufffd\\ufffd~\\ufffd\\ufffd8\\ufffd\\ufffd\\ufffd\\ufffd,\\ufffd\\ufffd\\x0b+\\x0b\\ufffdcM\\ufffd\\ufffd5\\ufffd\\ufffdhm\\ufffd\\ufffd\\x01\\x0e\\ufffdy\\r\\ufffdA\\x1f\\ufffd\\ufffdW}th\\ufffd\\x0f\\ufffd\\ufffdn4\\ufffd9\\'\\ufffdQh\\ufffdX\\ufffd\\ufffd\\ufffd\\x03\\ufffd\\ufffd\\x07\\ufffd\\ufffd\\x075\\ufffd\\ufffd\\ufffd%\\ufffd\\ufffd\\ufffd\\ufffd\\ufffd\\\\\\ufffdAuo\\ufffd\\ufffd$\\ufffd>K\\ufffd\\ufffd\\ufffd\\ufffd\\x0f5\\ufffd\\x7f\\ufffdK\\ufffd\\ufffd\\nZ\\ufffd\\ufffd\\ufffd\\ufffd\\ufffd\\ufffdo6h\\ufffd;\\ufffd\\ufffd\\ufffd?:.mFqm&W\\ufffd\\ufffd\\ufffde\\ufffdY\\ufffdZ[\\ufffd7W\\ufffd\\x17YY\"]\\ufffd#\\ufffd5\\ufffd\\ufffd\\ufffd\\ufffd\\ufffd-\\ufffd\\ufffd\\ufffd.\\ufffd\\ufffd\\ufffd\\ufffd`\\x14\\n\\ufffd\\ufffd\\ufffd\\x7fd\\ufffd\\ufffd\\ufffdMDs \\ufffd\\x00G\\ufffd\\ufffdc\\ufffdj\\ufffd[\\ufffd\\ufffd\\ufffd&\\ufffdI\\x0e\\ufffdR\\ufffd\\x0cL\\ufffd\\ufffd\\ufffd_L\\ufffd:\\ufffdV\\x176\\ufffd\\ufffdK\\ufffd\\ufffd\\x1eJ\\ufffd\\ufffdO\\ufffd)\\ufffd\\x164\\ufffd6=9uU\\ufffd8u-\\ufffd*\\x03\\ufffd8}=}\\ufffd\\ufffd\\ufffd\\ufffd\\ufffd-R\\ufffd\\ufffdB\\ufffd%\\ufffd\\ufffd\\ufffdz\\ufffdv\\ufffdqq\\ufffd^\\ufffd\\ufffd\\ufffd\\ufffdIOA\\ufffdG\\ufffd\\ufffdL\\ufffdMX\\ufffd\\ufffd\\x15\\ufffd\\x05t\\ufffdymG\\'\\ufffdz\\ufffd\\ufffdP\\ufffdA\\ufffd\\ufffd\\ufffd#\\x07\\ufffd\\x14=\\ufffd\\x1f\\ufffd\\x13\\ufffd\\ufffd\\ufffd\\x1a\\ufffdc\\x12\\ufffd\\x01\\x03\\ufffdL\\ufffd[\\x0e\\ufffdCC+\\ufffd;qN\\ufffdnC~\\ufffd\\ufffdT,R\\x0ep\\ufffdsL\\ufffd[\\ufffd\\ufffd\\ufffdZ\\x06\"\\ufffd\\x00\\ufffd\\ufffd\\ufffd\\ufffd\\ufffd\\x06q#\\ufffd\\ufffd\\ufffd\\ufffd\\x0c\\ufffd\\ufffd\\ufffdc\\ufffd\\ufffd=h\\x02\\ufffd\\ufffd\\ufffdV\\ufffdT\\ufffd\\ufffd\\ufffd\\ufffd\\ufffd\\ufffd\\ufffd,\\x0e\\x18\\ufffdyl\\ufffdv\\ufffd\\ufffd\\ufffd\\x13\\ufffdNT\\ufffdEiKw\\x10\\ufffd\\ufffd\\x18 \\ufffdi\\x08\\ufffd\\ufffd\\ufffdC\\ufffd\\ufffd\\ufffdR>\\ufffdQ\\ufffd\\ufffd040\\ufffd\\ufffd\\ufffdx\\ufffd\"\\ufffd\\ufffd\\ufffd\\ufffd\\ufffd\\ufffd\\ufffd\\ufffd`E\\ufffd\\ufffd\\ufffd\\ufffd\\ufffd\\ufffd\\ufffd\\x1f1\\ufffdL\\ufffdJ\\ufffd`\\ufffd\\ufffd\\ufffd\\x03\\x1f\\ufffd~iG\\ufffd\\x08\\ufffdE5\\ufffd\\ufffd\\ufffd\\ufffd<P\\x03\\x1b \\ufffd\\ufffdO\\ufffd\\ufffd\\ufffd\\ufffd\\x0e\\ufffddY\\ufffd\\ufffdHN\\ufffd\\ufffd\\ufffd(\\x00\\\\+\\x1c\\ufffd5\\ufffd\\ufffd\\ufffd\\ufffdx\\ufffdL\\ufffd\\ufffd\\ufffd\\ufffdP?*\\ufffd*r[\\x1cV\\ufffd\\ufffd%\\x07\\ufffd\\ufffdh\\ufffd\\ufffdIx\\ufffd(\\x11\\ufffd\\ufffd\\ufffdxI\\ufffd\\x05`\\ufffdf\\ufffdC4\\ufffd`\\ufffd\\x1f\\ufffdm\\ufffdC\\ufffd0\\ufffd;\\x07\\x15\\ufffd\\ufffdn\\ufffdA\\'A\\ufffd\\ufffd\\x02H\\ufffd\\ufffdpNy\\ufffd\\ufffd \\ufffd\\ufffd\\ufffd\\ufffd\\ufffd\\ufffdL\\ufffd\\ufffd\\ufffd*3)kIv\\ufffd\\x00\\ufffd3\\ufffdPQ\\ufffdhv\\ufffdF\\ufffd\\ufffd\\ufffd+\\ufffd\\ufffd\\ufffd\\x0f8\\ufffdj\\x02\\x0c\\ufffd\\x13\\ufffd\\ufffdD\\ufffd\\ufffdd\\ufffd\\ufffd\\ufffd\\x08I9\"\\ufffd\\x0e\\ufffd\\ufffd\\ufffd\\ufffd\\ufffd7\\x03Q\\ufffdH\\ufffd\\ufffd\\ufffd\\ufffd@r\\ufffdzRg\\ufffdz\\ufffd\\ufffd\\ufffde\\ufffd\\x00\\ufffd\\ufffd5A\\ufffd\\ufffd\\ufffd\\ufffdd\\ufffd\\x03\\ufffd\\ufffdJC\\ufffd*zS\\t\\ufffd\\ufffd\\ufffdq#o\\ufffd+\\x08]\\ufffd \\ufffd#\\x14\\x00\\x15\\x00\\'4\\ufffd&($\\ufffd\\ufffd \\x1e\\ufffd\\x08#<\\x1aF\\x19Rz\\x0c\\ufffd\\ufffdN\\ufffd\\ufffdH\\ufffd\\ufffd\\ufffdRO\\x18\\ufffd\\r\\ufffd)X\\ufffd\\x1fji;\\ufffd\\ufffd\\ufffd\\ufffd\\ufffd\\x01\\ufffd\\x05=\\ufffd\\ufffd>6\\ufffd\\ufffdL\\x03\\ufffd\\ufffd#\\ufffd\\ufffdZ\\x01\\ufffd`\\x051\\x12\\ufffd\\ufffd\\ufffd]\\ufffd#\\ufffdT*{\\ufffd\\ufffd\\ufffd\\ufffd\\ufffdM\\x16\\x19~\\ufffdL\\ufffd\\ufffd\\ufffdH\\'\\ufffd\\ufffd\\ufffd\\ufffd\\ufffd\\ufffd\\ufffd\\ufffd\\ufffd\\ufffd*\\'[\\ufffd\\ufffdR\\ufffd\\ufffd\\ufffd\\ufffd\\ufffd[X#r>\\ufffdh\\ufffd\\reDg\\ufffd\\ufffd\\x1d\\ufffd\\ufffd\\x04u\\ufffd\\ufffd[\\x13r\\ufffd\\ufffdd\\ufffd\\ufffd\\x04\\x05\\x07\\ufffd@\\ufffd\\ufffd\\x0f\\ufffd\\ufffd\\ufffd\\r~\\x18\\ufffd\\ufffd\\ufffd\\x05a\\ufffd\\ufffdZ\\ufffd\\x1b\\ufffd\\ufffd\\ufffd+{\\x1dJ\\x18D7{\\ufffd1\\ufffd\\x10E0M\\x19r\\ufffd\\x18\\x1d=+\\ufffd\\ufffd\\ufffd\\x17\\ufffd8\\ufffd\\x07\\ufffd\\ufffd\\ufffd\\ufffd\\ufffd\\ufffd\\x1dm\\ufffd\\ufffd\\x0cs\\ufffd@\\ufffd\\ufffd\\x1a\\ufffd\\ufffd\\ufffdS\\ufffd\\ufffd\\ufffdU\\ufffd=\\ufffdH\\ufffd\\ufffd\\ufffd3L\\x06\\ufffd\\ufffdF\\ufffdS\\ufffd\\ufffdy\\ufffd\\ufffdBW=23X^O\\ufffd\\ufffd\\ufffd\\x0f\\ufffd*\\ufffd\\ufffd\\ufffdq\\ufffd\\ufffd\\ufffdu\\ufffd\\ufffd\\x15\\ufffd4\\ufffd\\ufffd\\ufffd\\ufffd\\ufffd\\x03\\x0b6Y\\ufffd;H\\x1d\\ufffd\\ufffdL\\x01>\\ufffd>\\ufffd\\x02\\ufffd\\ufffdM\\x0cR\\ufffd\\ufffd\\ufffd1 \\ufffdUDa\\ufffd\\ufffd9\\ufffd\\ufffd?\\ufffdI;\\ufffd$\\ufffd \\x1cg\\x1e\\ufffd-\\ufffdcX\\ufffd\\ufffd.Y[\\ufffd\\ufffdD\\x17\\ufffd\\ufffd3\\ufffdd\\x1dV\\ufffd\\ufffd\\'\\ufffd\\ufffd\\ufffd\\ufffd\\ufffd\\ufffd\\ufffd\\ufffd\\ufffd\\ufffd\\x11\\ufffd\\ufffd\\ufffd\\ufffd\\ufffd[BJ\\x1d\\ufffd\\ufffd6\\ufffdU\\x18\\ufffd\\ufffd\\x1es\\ufffdJ\\x08\\x19\\x1dj\\ufffd\\ufffdC|\\ufffd-\\ufffdm\\ufffdr\\ufffd\\ufffd_\\ufffd\\ufffd\\ufffd\\ufffd\\ufffd)W\\x1dA\\ufffd\\x03\\ufffd\\x0fCK\\ufffd9\\ufffdu\\ufffd\\ufffd\\ufffd\\x06\\ufffd\\n\\x0f\\x19\\ufffd<\\ufffdu\\ufffdh\\ufffdL\\x07\\ufffd\\ufffdL\\ufffd@\\ufffd\\ufffdt\\ufffdn$\\ufffd\\ufffd\\ufffd\\ufffd@\\ufffd\\x19\\ufffd\\x0c;\\ufffd\\ufffd;+\\ufffd~\\ufffd\\ufffd\\ufffd\\ufffd\\ufffd\\ufffdA\\ufffd\\'S\\ufffd\\x04\\ufffd\\ufffdE\\ufffd\\ufffdr\\ufffd\\ufffda\\ufffd\\ufffd5\\ufffd\\ufffd\\ufffdo\\ufffd\\ufffd\\ufffd-Ja\\ufffd\\ufffd5\\x05X\\ufffd\\ufffdg\\ufffdI\\x16\\ufffd7\\ufffd\\ufffd\\ufffd\\ufffdx\\ufffd\\ufffd\\ufffdZ?Z\\ufffde\\x1d\\ufffd\\ufffd\\ufffd{\\ufffd\\x11\\ufffdR\\ufffd2n\\x12/\\x04\\x0c\\ufffd\\x14\\ufffdd\\x05/\\ufffdZ>!\\ufffd\\ufffd\\ufffd\\ufffd\\ufffd\\ufffd x\\x12\\ufffd\\t\\ufffd\\ufffd\\ufffd|_\\ufffd\\ufffd\\x7fT\\ufffd\\ufffd\\ufffd7s\\ufffd\\ufffd>2#\\ufffd\\x1d\\ufffdn\\ufffd\\x0e\\ufffdc\\x1e\\x15s\\ufffd\\ufffd{\\ufffd/\\ufffd\\ufffd\\ufffdd\\ufffd\\ufffd\\ufffd0\\ufffd\\x06@\\ufffd\\ufffdNEH\\x1d\\ufffd\\ufffd\\ufffduX\\ufffd\\x1f\\ufffd]\\x19b\\x12\\ufffd\\ufffdc\\ufffdT\\x008\\ufffd\\x03\\x1cUu\\ufffd\\ufffd\\ufffd\\ufffd\\ufffd\\ufffd\\ufffd\\ufffdX\\x17\\ufffd+\\ufffd\\ufffd\\ufffd\\ufffd\\ufffd\\x16\\ufffd\\ufffd\\x7f\\ufffd\\x12\\ufffdm\\x1e\\ufffd\\x14\\ufffdk&\\x16\\x00\\x01\\ufffd\\ufffd\\ufffdw\\ufffdG\\ufffdh\\x1a\\ufffd\\ufffd\\ufffd\\ufffd\\ufffd\\ufffdv\\ufffd\\ufffd\\ufffd|\\ufffd\\ufffd\\x17\\ufffd\\ufffd:\\x0f\\ufffd\\ufffd\\ufffd\\ufffd\\ufffd\\ufffdM\\ufffd\\ufffd\\ufffd\\ufffd1\\ufffd#\\x11JJ\\x06\\ufffd\\ufffd\\ufffd\\x7f\\x1a\\ufffd<\\x15\\ufffd\\ufffd{\\ufffd\\ufffd\\ufffdo\\ufffdyI\\ufffdO\\ufffdT\\ufffd\\ufffd\\ufffd^\\ufffd\\ufffd\\ufffd7Z\\x0c0\\\\\\x18\\ufffd\\ufffd\\ufffd\\x11J\\x0e\\x08%x\\ufffd\\ufffd\\ufffd?\\ufffd(\\ufffd\\ufffd\\ufffd\\ufffd\\ufffdK\\ufffdMVD\\ufffd\\ufffd\\ufffdi\\\\\\ufffd\\ufffdJ\\ufffd}\\ufffd\\x1d+\\x1b\\ufffd\\ufffd\\ufffd\\ufffd<X\\ufffd$\\ufffdE\\ufffd\\ufffd@dP\\x00w\\x1fx\\ufffd{\\ufffd\\ufffdW]\\ufffdkZV\\ufffd\\ufffd\\ufffdZx}`YH!\\ufffd\\ufffdp\\ufffd\\ufffd=\\ufffd\\ufffd\\ufffd\\'\\ufffd\\ufffd_B\\ufffd\\ufffd5KD#\\ufffd\\ufffd\\ufffd4vz\\ufffd\\ufffd\\ufffd\\tl\\\\\\ufffd\\x16\\ufffd0\\'\\x0cFX\\ufffd\\x0c\\ufffd/\\ufffd\\ufffd&\\ufffdE\\ufffd+\\ufffdV\\ufffd\\x16i%\\ufffd76\\ufffdT\\ufffd\\ufffd@\\ufffdh<\\ufffd\\x01\\ufffd\\ufffd\\\\\\ufffd\\x16\\ufffd7SY@\\ufffd\\x1f\\ufffd\\ufffd\\ufffd\\ufffd\\ufffd\\x18\\x05\\ufffd\\ufffd\\ufffdH\\x0b\\ufffd\\ufffd\\ufffd\\ufffd\\ufffd\\ufffdO\\x18\\x1a\\ufffd\\ufffd\\ufffdY\\ufffd\\x07\\x00\\ufffd\\ufffd\\ufffd \\ufffd\\ufffd\\ufffd\\x7fOZ\\ufffd\\ufffd\\ufffdM\\ufffd_\\ufffd\\ufffd\\rr\\t\\ufffdM4\\ufffd\\x0b2y\\ufffd\\ufffd\\ufffd\\ufffd\\x04/N*\\ufffd\\ufffd\\ufffd,\\x06\\ufffd\\ufffdF\\ufffd\\ufffd\\ufffdp.\\x184.\\ufffdD>npwv\\ufffd\\ufffdj\\ufffd\\ufffd\\ufffd\\ufffd\\ufffdm\\ufffd\\ufffdK\\ufffde\\ufffda\\ufffd\\ufffd\\x14W\\ufffd\\x13\\ufffd\\x16\\ufffd\\ufffd\\'\\x04\\ufffd\\ufffd[w:\\ufffdJL7v\\ufffdx\\ufffd\\r\\ufffd\\ufffd P\\ufffd\\x01\\ufffdO\\ufffdo^*\\ufffd\\ufffde(\\ufffd\\ufffd\\ufffd\\ufffdI\\x1e\\ufffd{\\ufffd\\ufffd\\n\\ufffd\\ufffd\\x18`\\ufffd\\ufffd\\x03\\ufffd\\ufffdcC\"~\\x1fx~4\\ufffdji-\\ufffd|E=\\ufffd\\ufffd\\\\\\x7fi\\ufffdw/\\x17\\ufffdX\\ufffd\\ufffd9\\x1c\\ufffdZ\\ufffd\\ufffd\\ufffdK\\x1a\\ufffd\\\\\\ufffde[\\ufffd\\ufffdQd\\ufffd\\\\(\\ufffd\\ufffd\\ufffd\\ufffdd\\n-\\ufffdt\\ufffd:}F\\ufffde\\x13\\ufffd\\ufffd\\ufffdF\\ufffd\\x7f \\x1e}z\\ufffd\\x15\\ufffd\\ufffd\\ufffd\\ufffd\\ufffdA\\ufffd\\ufffd.\\ufffdy\\ufffdfSo4l\\ufffd\\ufffd6\\ufffd\\ufffd=\\ufffd\\x1f\\ufffd\\ufffd\\ufffdL\\ufffdZ\\ufffd&\\ufffdnG\\ufffd\\ufffd\\ufffd\\ufffd$`\\ufffd)\\ufffd\\ufffdG\\ufffd=\\ufffdt\\ufffd\\ufffd\\ufffd\\ufffd\\ufffde\\ufffd\\ufffdG9h\\ufffd\\ufffdP\\x17o\\ufffd*\\ufffd\\ufffd\\ufffd\\ufffd\\ufffdRy.\\ufffd\\ufffd\\ufffd\\ufffd\\ufffd\\ufffd\\ufffd[\\ufffd\\ufffd\\ufffdgk\\x1c\\x18\\n\\x0ep2h\\x11\\ufffd\\ufffd\\x06k\\ufffd\\ufffd\\ufffd\\ufffd\\x1a\\ufffd\\x1eU\\ufffd\\ufffd#<\\ufffdL>\\x1c\\ufffd/\\ufffd\\ufffd\\ufffd\\ufffd}Z\\ufffd\\ufffd\\x1c\\ufffd\\ufffdx\\ufffdx\\ufffd b\\ufffdM\\x13\\x15\\ufffd\\x1e\\ufffdq]\\ufffd\\ufffda\\x0b\\x1f\\ufffdP\\ufffd\\ufffd5\\x1f\\ufffd*\\ufffd\\ufffd\\ufffd\\ufffd\\x17\\x1f\\ufffd\\x1c\\ufffd\\ufffdG\\r)y\\ufffd\\ufffd<\\ufffd#\\ufffd\\ufffdsJ\\ufffd\\n\\ufffd[\\ufffd~\\ufffd\\x1c\\ufffd\\ufffd`#\\ufffdA\\ufffd\\x0f\\ufffdMy>\\ufffd\\ufffd\\ufffd\\x0f\\ufffd\\ufffd\\ufffdwg0:\\ufffd\\ufffd\\ufffdq\\ufffd\\ufffd\\ufffd\\x06\\ufffdG\\ufffd.\\ufffd\\t\\ufffd\\ufffd\\ufffd\\ufffd5\\ufffdy\\ufffd=m\\ufffdE\\x17\\ufffd\\ufffd1\\ufffd\\ufffdJv&\\ufffd\\ufffdj<\\ufffd\\ufffd\\ufffdJA\\x1f\\ufffd4\\ufffd\\ufffd\\ufffd\\ufffd\\ufffd<E)n\\ufffd\\n\\ufffd\\ufffdC\\ufffd\\ufffd\\x0c\\ufffd\\x13K\\ufffd\\ufffda,\\ufffdO\\ufffd\\ufffd \\ufffd\\ufffd\\ufffd\\\\\\ufffd\\ufffd\\ufffdL\\ufffdv`M\\x07dv\\x1ba\\x1ec\\ufffd[\\x19# \\ufffd\\ufffdW\\ufffd\\t)a\\ufffdC\\ufffd\\ufffdY\\x00\\ufffd\\n\\ufffd\\ufffdRJ\\ufffd)~\\ufffdH\\ufffd\\ufffd\\ufffd9\\x078\\ufffdi\\ufffds\\x16@\\ufffd*\\ufffdW\\ufffd\\x07\\ufffd9b\\ufffd#\\ufffd\\ufffd\\ufffd\"(\\ufffd\\ufffd&\\ufffd\\ufffd\\x0cR\\x049\\x0cz\\x02*\\ufffd\\x18\\ufffd\\ufffd\\ufffd\\ufffd\\ufffdJb\\x02&\\ufffda@\\ufffd\\ufffd\\ufffd\\ufffd7m\\ufffd\\x13rT\\ufffd\\ufffd\\ufffd\\ufffd\\ufffd\\x1eOaQyD,g\\ufffd\\t\\ufffd\\x08\\ufffd\\ufffd ]\\ufffdO\\'#&\\ufffd4\\ufffd\\r\\ufffdM+\\x05Q\\ufffd\\ufffd!\\ufffd|\\ufffd\\ufffd\\ufffd\\ufffd_\\ufffd\\ufffd;\\ufffd\\ufffd\\ufffd\\ufffd\\ufffd_M\\ufffd\\x1fm\\ufffd\\x18\\ufffd@\\x17\\ufffd\\ufffdL\\ufffd\\ufffd\\ufffdM\\ufffdbI[\\ufffdVkk\\ufffd`\\ufffd\\ufffd\\ufffd\\ufffd\\ufffdL\\ufffd\\ufffd\\ufffd\\ufffdp\\ufffd}\\ufffd\\x1ex\\ufffd@\\ufffd\\ufffd\\ufffd\\ufffd\\ufffd\\x15o\\ufffd\\ufffd\\x1e=\\ufffd\\ufffd<\\ufffd\\ufffd\\ufffd\\ufffd\\rb\\x7foi!\\x00\\x1a\\ufffd9\\x07\\ufffd\\ufffd\\ufffd\\x1e\"\\ufffd\\ufffd\\ufffd_\\ufffd]M\\ufffdB\\ufffd\\ufffd$\\ufffd\\ufffd\\ufffd28\\ufffdL\\ufffdu\\ufffdos\\ufffd\\ufffdu\\ufffd$\\ufffdK\\ufffd\\ufffdT\\ufffd\\ufffd\\ufffd\\ufffd?5\\ufffd\\ufffd5H\\x1dJ\\ufffd&\\ufffd\\ufffd5\\ufffd7\\ufffd\\ufffd\\ufffd\\ufffd\\ufffd\\'\\ufffdi\\t\\x1b\\ufffd(2\\x16\\ufffdn*He;J\\ufffd\\x08*A\\ufffd\\x7f\\ufffdsN\\ufffd\\ufffd\\ufffd@w\\ufffd\\ufffd\\ufffd^\\ufffdb\\ufffd\\ufffdl\\x7fL\\ufffd\\ufffdD\\ufffd\\ufffd\\x07\\ufffd\\ufffd\\ufffd1S\\ufffdc\\x15\\ufffd\\rgM\\ufffdn\\ufffd\\ufffd\\r\\ufffd\\x1d8\\ufffd~\\ufffd\\x16~\\ufffd\\ufffd\\x03n\\twn\\\\\\ufffd\\x06\\ufffd\\ufffd:\\n\\ufffd\\ufffd_\\ufffdT\\ufffd\\ufffd\\ufffd\\x03R\\r\\x7fL=o\\ufffd\\x1f\\ufffd+\\r3\\x7f9\\ufffd\\x01\\ufffd4\\ufffd\\'\\x04\\ufffd\\x03\\ufffdb\\ufffd\\x11\\ufffd@\\x0f\\ufffd\\ufffdi\\ufffd\\ufffd\\ufffdH9\\ufffd\\ufffd#\\ufffd\\ufffd\\ufffd\\ufffd\\ufffd\\ufffd\\ufffdI\\ufffd\\ufffdHr\\ufffdH\\ufffd\\ufffdY\\ufffd\\ufffd-\\x1d\\ufffd>\\ufffd\\x17\\ufffdI\\ufffd\\x00\\t\\x16\\ufffd\\ufffd\\x00A\\x08\\ufffd\\x03J\\ufffd\\ufffd\\ufffd\\x01\\ufffd4\\ufffd\\ufffd\\ufffd\\x15\\ufffd<G\\ufffd\\ufffd?\\ufffd\"\\ufffd\\ufffd\\ufffd\\ufffdH\\ufffdpq\\ufffd\\ufffd\\x0f\\ufffdS`5\\x15\\ufffd\\x00w\\ufffd\\ufffd\\ufffd\\ufffdzVW\\ufffd$Z68\\ufffda\\ufffd\\ufffdM\\ufffd\\ufffd\\ufffd?F\\ufffd\\ufffd\\ufffd5-\\x05\\ufffd\\ufffd\\x01\\ufffdTp\\x03\\ufffd\\ufffd\\ufffd\\ufffd\\x7f\\ufffd%\\ufffd\\ufffd\\ufffdQ\\ufffd\\ufffd4\\x0f\\x11\\ufffd\\ufffd\\x1f\\ufffd\\ufffd\\ufffd\\ufffd\\ufffd\\ufffd\\x1a\\ufffdN)\\ufffd\\ufffd{\\ufffd\\ufffd\\ufffd\\x00\\ufffd#\\ufffd\\ufffd\\x07Q\\ufffd\\x1d:\\ufffdV\\ufffd\\x1e\\ufffd\\ufffd\\x03P\\ufffd\\ufffd\\ufffdE\\ufffd\\ufffd\\ufffdx\\ufffd\\ufffd\\x14\\ufffd\\ufffd\\ufffd\\ufffd\\x00f\\ufffd?\\ufffd!\\ufffd\\ufffd\\x0f\\ufffd\\ufffd=}h\\ufffd\\ufffdZ;\\x03\\ufffd\\x00\\x13\\x18r}\\ufffd\\ufffd\\x1a2\\ufffdv\\ufffd&\\ufffd[\\x01\\ufffd\\ufffd\\ufffd=\\ufffd\\ufffd\\x00\\ufffdK>\\ufffd)\\ufffd6\\ufffd(8\\ufffd\\ufffdc\\ufffd\\ufffd:\\ufffd\\ufffdM\\ufffd[^\\ufffd \\ufffd0\\ufffd>\\ufffdU\\ufffd\\ufffd\\ufffd\\ufffdn#o<\\x00G\\ufffd\\x01\\ufffdZ\\ufffd9\\x1a\\x17\\x1a\\ufffd\\ufffd5\\ufffd\\ufffd\\ufffd\\ufffd\\ufffd1)\\ufffd#\\ufffd\\\\\\ufffdG\\ufffdk\\ufffd\\x11i[\\ufffdh\\ufffdHp\\ufffd\\ufffd\\x1a\\ufffd?\\x1f\\ufffd>\\\\\\ufffd,\\ufffd\\ufffd\\ufffdJ\\ufffdb\\ufffd/|K\\ufffd^x\\ufffdN\\ufffd\\x17q\\ufffdP\\ufffd\\x1b\\ufffd\\ufffd;\\x11c{8.\\x06y&\\ufffdxt\\ufffdx\\ufffdH\\ufffd?\\ufffdrO\\ufffd\\ufffd\\ufffd\\ufffd\\ufffd\\ufffd8\\ufffd\\ufffd\\x7f\\t\\\\\\ufffd\\ufffdM\\ufffdx\\ufffdF\\ufffd\\ufffd\\x16\\ufffdp\\ufffd\\ufffd)\\x1cl\\ufffd\\ufffd\\'\\ufffdF)-\\ufffd\\ufffdy\\x1bo\\ufffd\\ufffd\\ufffd\\x00\\ufffd\\ufffd\\ufffd\\ufffd\\ufffd\\ufffd$\\x1e\\ufffd\\x0c\\ufffd\\ufffd\\ufffd\\ufffd\\ufffd[5\\x08HyK\\ufffdd\\ufffd\\ufffd\\ufffd\\ufffd\\ufffdVs\\ufffd\\ufffd\\ufffd\\ufffd\\ufffd\\ufffd\\x06\\ufffd3\\x1bv\\ufffdv\\x03\\ufffd\\x02\\t\\x1d)\\x1egeu8\\ufffd\\ufffdx\\ufffd\\ufffd\\ufffd\\x0e\\ufffd[\\ufffd\\ufffd\\ufffdv\\ufffdG\\ufffd\\ufffd\\ufffd\\ufffd\\x7fh[ \\ufffdbh\\ufffdJ\\ufffdJ\\ufffd\\ufffd>W\\x1dG\\ufffd\\ufffdx<\\x03\\ufffd\\ufffd\\ufffd\\ufffd\\x00D\\x12\\x13s\\ufffdZ\\x14#\\x18\\x04\\ufffdjqs\\ufffdT`\\ufffdZ\\ufffd\\ufffd\\ufffd\\x15\\ufffd3;\\ufffd\\ufffdH\\ufffd[l\\ufffd\\ufffd\\x1a\\ufffd\\ufffd0j\\x1f\\ufffd\\ufffd\\ufffd\\ufffd\\ufffd\\x18\\ufffd\\x0e\\rY\\ufffd[\\ufffdU\\ufffd6\\ufffd\\x11I\\ufffd\\ufffd\\ufffd\\ufffd|g\\ufffd\\ufffd\\ufffd\\ufffd\\ufffd\\ufffd$t8\\ufffdw(\\ufffd\\ufffd\\ufffd\\ufffd9\\ufffd[\\ufffd\\ufffd\\ufffd\\ufffd\\ufffdS\\ufffd\\ufffd\\ufffdR\\ufffd\\ufffd%x\\ufffd4\\ufffd\\ufffd!i\\ufffd\\ufffdU\\ufffdC\\ufffd\\ufffd\\ufffd\\ufffd\\ufffd\\ufffd\\ufffd\\ufffdJ\\x15\\ufffdM\\x025\\ufffd\\ufffdS\\x10|\\ufffd\\ufffd@=*a\\ufffd\\ufffd\\ufffd\\x0c\\ufffdrXw\\ufffd\\ufffd\\ufffd\\ufffd\\ufffd\\x07\\ufffd\\ufffd\\ufffd?\\ufffd\\ufffd\\x7f\\ufffdC\\ufffd\\ufffd\\ufffd\\ufffdc9\\ufffd4\\\\GV\\x06\\ufffdk\\ufffdP\\x1b>\\ufffd\\ufffd\\ufffdm>\\x1e \\ufffd_\\ufffd\\ufffd\\x19u\\ufffd\\x11\\ufffd;o\\ufffd\\ufffd\\ufffd\\ufffd\\ufffd\\ufffd\\x00\\ufffd\\ufffdE\\ufffd\\x07\\ufffd\\ufffd\\x00\\ufffd\\ufffdv:6\\ufffd\\ufffd\\'\\t\\x16=\\ufffdU\\ufffdU\\ufffd\\ufffd=\\ufffd\\ufffd\\ufffd\\ufffdHtb9\\ufffd\\ufffd\\ufffd:?\\ufffd\\ufffd\\x10y\\ufffdb?Bh$\\ufffd\\ufffd\\\\\\ufffd\\x02\\ufffd~\\x15\\x11\\\\\\ufffdecUO\\ufffd\\ufffd\\x18\\ufffd[\\ufffd\\ufffd\\ufffd\\ufffd\\x17\\ufffdz<\\ufffd\\ufffdu\\x1b8\\ufffd\\ufffdHNE\\x05\\x13y?1\\ufffd\\ufffd\\ufffdZ\\ufffd\\ufffd$L\\ufffd\\x1d\\ufffd;q\\ufffd\\ufffdb\\ufffd^\\ufffd\\ufffd0D\\x1e-oO\\ufffdq\\x00\\ufffdy\\ufffd\\x1e\\ufffd\\ufffd\\ufffd\\ufffd\\ufffd\\tsouk\\x15\\ufffdsFz\\x11\\ufffd\\\\\\ufffdCG\\ufffd\\ufffd'"
       ]
      }
     ],
     "prompt_number": 194
    },
    {
     "cell_type": "code",
     "collapsed": false,
     "input": [
      "i = Image(filename=sindat[1])"
     ],
     "language": "python",
     "metadata": {},
     "outputs": [
      {
       "ename": "IOError",
       "evalue": "[Errno 2] No such file or directory: u'http://www.trafficnz.info/camera/160.jpg'",
       "output_type": "pyerr",
       "traceback": [
        "\u001b[0;31m---------------------------------------------------------------------------\u001b[0m\n\u001b[0;31mIOError\u001b[0m                                   Traceback (most recent call last)",
        "\u001b[0;32m<ipython-input-177-c52fc22dc494>\u001b[0m in \u001b[0;36m<module>\u001b[0;34m()\u001b[0m\n\u001b[0;32m----> 1\u001b[0;31m \u001b[0mi\u001b[0m \u001b[0;34m=\u001b[0m \u001b[0mImage\u001b[0m\u001b[0;34m(\u001b[0m\u001b[0mfilename\u001b[0m\u001b[0;34m=\u001b[0m\u001b[0msindat\u001b[0m\u001b[0;34m[\u001b[0m\u001b[0;36m1\u001b[0m\u001b[0;34m]\u001b[0m\u001b[0;34m)\u001b[0m\u001b[0;34m\u001b[0m\u001b[0m\n\u001b[0m",
        "\u001b[0;32m/usr/lib/python2.7/dist-packages/IPython/core/display.pyc\u001b[0m in \u001b[0;36m__init__\u001b[0;34m(self, data, url, filename, format, embed)\u001b[0m\n\u001b[1;32m    478\u001b[0m         \u001b[0mself\u001b[0m\u001b[0;34m.\u001b[0m\u001b[0mformat\u001b[0m \u001b[0;34m=\u001b[0m \u001b[0municode\u001b[0m\u001b[0;34m(\u001b[0m\u001b[0mformat\u001b[0m\u001b[0;34m)\u001b[0m\u001b[0;34m.\u001b[0m\u001b[0mlower\u001b[0m\u001b[0;34m(\u001b[0m\u001b[0;34m)\u001b[0m\u001b[0;34m\u001b[0m\u001b[0m\n\u001b[1;32m    479\u001b[0m         \u001b[0mself\u001b[0m\u001b[0;34m.\u001b[0m\u001b[0membed\u001b[0m \u001b[0;34m=\u001b[0m \u001b[0membed\u001b[0m \u001b[0;32mif\u001b[0m \u001b[0membed\u001b[0m \u001b[0;32mis\u001b[0m \u001b[0;32mnot\u001b[0m \u001b[0mNone\u001b[0m \u001b[0;32melse\u001b[0m \u001b[0;34m(\u001b[0m\u001b[0murl\u001b[0m \u001b[0;32mis\u001b[0m \u001b[0mNone\u001b[0m\u001b[0;34m)\u001b[0m\u001b[0;34m\u001b[0m\u001b[0m\n\u001b[0;32m--> 480\u001b[0;31m         \u001b[0msuper\u001b[0m\u001b[0;34m(\u001b[0m\u001b[0mImage\u001b[0m\u001b[0;34m,\u001b[0m \u001b[0mself\u001b[0m\u001b[0;34m)\u001b[0m\u001b[0;34m.\u001b[0m\u001b[0m__init__\u001b[0m\u001b[0;34m(\u001b[0m\u001b[0mdata\u001b[0m\u001b[0;34m=\u001b[0m\u001b[0mdata\u001b[0m\u001b[0;34m,\u001b[0m \u001b[0murl\u001b[0m\u001b[0;34m=\u001b[0m\u001b[0murl\u001b[0m\u001b[0;34m,\u001b[0m \u001b[0mfilename\u001b[0m\u001b[0;34m=\u001b[0m\u001b[0mfilename\u001b[0m\u001b[0;34m)\u001b[0m\u001b[0;34m\u001b[0m\u001b[0m\n\u001b[0m\u001b[1;32m    481\u001b[0m \u001b[0;34m\u001b[0m\u001b[0m\n\u001b[1;32m    482\u001b[0m     \u001b[0;32mdef\u001b[0m \u001b[0mreload\u001b[0m\u001b[0;34m(\u001b[0m\u001b[0mself\u001b[0m\u001b[0;34m)\u001b[0m\u001b[0;34m:\u001b[0m\u001b[0;34m\u001b[0m\u001b[0m\n",
        "\u001b[0;32m/usr/lib/python2.7/dist-packages/IPython/core/display.pyc\u001b[0m in \u001b[0;36m__init__\u001b[0;34m(self, data, url, filename)\u001b[0m\n\u001b[1;32m    263\u001b[0m             \u001b[0mself\u001b[0m\u001b[0;34m.\u001b[0m\u001b[0murl\u001b[0m \u001b[0;34m=\u001b[0m \u001b[0murl\u001b[0m\u001b[0;34m\u001b[0m\u001b[0m\n\u001b[1;32m    264\u001b[0m             \u001b[0mself\u001b[0m\u001b[0;34m.\u001b[0m\u001b[0mfilename\u001b[0m \u001b[0;34m=\u001b[0m \u001b[0mNone\u001b[0m \u001b[0;32mif\u001b[0m \u001b[0mfilename\u001b[0m \u001b[0;32mis\u001b[0m \u001b[0mNone\u001b[0m \u001b[0;32melse\u001b[0m \u001b[0municode\u001b[0m\u001b[0;34m(\u001b[0m\u001b[0mfilename\u001b[0m\u001b[0;34m)\u001b[0m\u001b[0;34m\u001b[0m\u001b[0m\n\u001b[0;32m--> 265\u001b[0;31m         \u001b[0mself\u001b[0m\u001b[0;34m.\u001b[0m\u001b[0mreload\u001b[0m\u001b[0;34m(\u001b[0m\u001b[0;34m)\u001b[0m\u001b[0;34m\u001b[0m\u001b[0m\n\u001b[0m\u001b[1;32m    266\u001b[0m \u001b[0;34m\u001b[0m\u001b[0m\n\u001b[1;32m    267\u001b[0m     \u001b[0;32mdef\u001b[0m \u001b[0mreload\u001b[0m\u001b[0;34m(\u001b[0m\u001b[0mself\u001b[0m\u001b[0;34m)\u001b[0m\u001b[0;34m:\u001b[0m\u001b[0;34m\u001b[0m\u001b[0m\n",
        "\u001b[0;32m/usr/lib/python2.7/dist-packages/IPython/core/display.pyc\u001b[0m in \u001b[0;36mreload\u001b[0;34m(self)\u001b[0m\n\u001b[1;32m    483\u001b[0m         \u001b[0;34m\"\"\"Reload the raw data from file or URL.\"\"\"\u001b[0m\u001b[0;34m\u001b[0m\u001b[0m\n\u001b[1;32m    484\u001b[0m         \u001b[0;32mif\u001b[0m \u001b[0mself\u001b[0m\u001b[0;34m.\u001b[0m\u001b[0membed\u001b[0m\u001b[0;34m:\u001b[0m\u001b[0;34m\u001b[0m\u001b[0m\n\u001b[0;32m--> 485\u001b[0;31m             \u001b[0msuper\u001b[0m\u001b[0;34m(\u001b[0m\u001b[0mImage\u001b[0m\u001b[0;34m,\u001b[0m\u001b[0mself\u001b[0m\u001b[0;34m)\u001b[0m\u001b[0;34m.\u001b[0m\u001b[0mreload\u001b[0m\u001b[0;34m(\u001b[0m\u001b[0;34m)\u001b[0m\u001b[0;34m\u001b[0m\u001b[0m\n\u001b[0m\u001b[1;32m    486\u001b[0m \u001b[0;34m\u001b[0m\u001b[0m\n\u001b[1;32m    487\u001b[0m     \u001b[0;32mdef\u001b[0m \u001b[0m_repr_html_\u001b[0m\u001b[0;34m(\u001b[0m\u001b[0mself\u001b[0m\u001b[0;34m)\u001b[0m\u001b[0;34m:\u001b[0m\u001b[0;34m\u001b[0m\u001b[0m\n",
        "\u001b[0;32m/usr/lib/python2.7/dist-packages/IPython/core/display.pyc\u001b[0m in \u001b[0;36mreload\u001b[0;34m(self)\u001b[0m\n\u001b[1;32m    268\u001b[0m         \u001b[0;34m\"\"\"Reload the raw data from file or URL.\"\"\"\u001b[0m\u001b[0;34m\u001b[0m\u001b[0m\n\u001b[1;32m    269\u001b[0m         \u001b[0;32mif\u001b[0m \u001b[0mself\u001b[0m\u001b[0;34m.\u001b[0m\u001b[0mfilename\u001b[0m \u001b[0;32mis\u001b[0m \u001b[0;32mnot\u001b[0m \u001b[0mNone\u001b[0m\u001b[0;34m:\u001b[0m\u001b[0;34m\u001b[0m\u001b[0m\n\u001b[0;32m--> 270\u001b[0;31m             \u001b[0;32mwith\u001b[0m \u001b[0mopen\u001b[0m\u001b[0;34m(\u001b[0m\u001b[0mself\u001b[0m\u001b[0;34m.\u001b[0m\u001b[0mfilename\u001b[0m\u001b[0;34m,\u001b[0m \u001b[0mself\u001b[0m\u001b[0;34m.\u001b[0m\u001b[0m_read_flags\u001b[0m\u001b[0;34m)\u001b[0m \u001b[0;32mas\u001b[0m \u001b[0mf\u001b[0m\u001b[0;34m:\u001b[0m\u001b[0;34m\u001b[0m\u001b[0m\n\u001b[0m\u001b[1;32m    271\u001b[0m                 \u001b[0mself\u001b[0m\u001b[0;34m.\u001b[0m\u001b[0mdata\u001b[0m \u001b[0;34m=\u001b[0m \u001b[0mf\u001b[0m\u001b[0;34m.\u001b[0m\u001b[0mread\u001b[0m\u001b[0;34m(\u001b[0m\u001b[0;34m)\u001b[0m\u001b[0;34m\u001b[0m\u001b[0m\n\u001b[1;32m    272\u001b[0m         \u001b[0;32melif\u001b[0m \u001b[0mself\u001b[0m\u001b[0;34m.\u001b[0m\u001b[0murl\u001b[0m \u001b[0;32mis\u001b[0m \u001b[0;32mnot\u001b[0m \u001b[0mNone\u001b[0m\u001b[0;34m:\u001b[0m\u001b[0;34m\u001b[0m\u001b[0m\n",
        "\u001b[0;31mIOError\u001b[0m: [Errno 2] No such file or directory: u'http://www.trafficnz.info/camera/160.jpg'"
       ]
      }
     ],
     "prompt_number": 177
    },
    {
     "cell_type": "code",
     "collapsed": false,
     "input": [
      "sindat"
     ],
     "language": "python",
     "metadata": {},
     "outputs": [
      {
       "output_type": "pyout",
       "prompt_number": 195,
       "text": [
        "[u'160',\n",
        " u'http://www.trafficnz.info/camera/160.jpg',\n",
        " u'http://www.trafficnz.info/camera/view/160',\n",
        " u'Lincoln Rd  looking west',\n",
        " u'52',\n",
        " u'false',\n",
        " u'false',\n",
        " [{u'tns:congestion': u'Free Flow',\n",
        "   u'tns:direction': u'Westbound',\n",
        "   u'tns:name': u'Te Atatu Rd - Lincoln Rd'},\n",
        "  {u'tns:congestion': u'Free Flow',\n",
        "   u'tns:direction': u'Eastbound',\n",
        "   u'tns:name': u'Lincoln Rd - Te Atatu Rd'}],\n",
        " u'207',\n",
        " u'SH16 4 Lincoln Rd E']"
       ]
      }
     ],
     "prompt_number": 195
    },
    {
     "cell_type": "code",
     "collapsed": false,
     "input": [
      "theaddrey = sindat[3]"
     ],
     "language": "python",
     "metadata": {},
     "outputs": [],
     "prompt_number": 145
    },
    {
     "cell_type": "code",
     "collapsed": false,
     "input": [
      "theend = sindat[8]"
     ],
     "language": "python",
     "metadata": {},
     "outputs": [],
     "prompt_number": 146
    },
    {
     "cell_type": "code",
     "collapsed": false,
     "input": [
      "fulladd = theaddrey + ' ' + theend"
     ],
     "language": "python",
     "metadata": {},
     "outputs": [],
     "prompt_number": 147
    },
    {
     "cell_type": "code",
     "collapsed": false,
     "input": [
      "fulladd"
     ],
     "language": "python",
     "metadata": {},
     "outputs": [
      {
       "output_type": "pyout",
       "prompt_number": 148,
       "text": [
        "u'Great South Rd Looking westbound SH20 16 Great South'"
       ]
      }
     ],
     "prompt_number": 148
    },
    {
     "cell_type": "code",
     "collapsed": false,
     "input": [
      "bth[u'tns:id']"
     ],
     "language": "python",
     "metadata": {},
     "outputs": [
      {
       "output_type": "pyout",
       "prompt_number": 149,
       "text": [
        "u'211'"
       ]
      }
     ],
     "prompt_number": 149
    },
    {
     "cell_type": "code",
     "collapsed": false,
     "input": [
      "print bthere"
     ],
     "language": "python",
     "metadata": {},
     "outputs": [
      {
       "output_type": "stream",
       "stream": "stdout",
       "text": [
        "[{u'tns:id': u'130', u'tns:imageUrl': u'http://www.trafficnz.info/camera/130.jpg', u'tns:viewUrl': u'http://www.trafficnz.info/camera/view/130', u'tns:description': u'Bond St looking east', u'tns:mapx': u'142', u'tns:offline': u'false', u'tns:underMaintenance': u'false', u'tns:congestionLocation': [{u'tns:name': u'St Lukes Rd - Newton Rd', u'tns:direction': u'Eastbound', u'tns:congestion': u'Free Flow'}, {u'tns:name': u'Newton Rd - St Lukes Rd', u'tns:direction': u'Westbound', u'tns:congestion': u'Free Flow'}], u'tns:mapy': u'229', u'tns:name': u'SH16 1 Bond St'}, {u'tns:id': u'140', u'tns:imageUrl': u'http://www.trafficnz.info/camera/140.jpg', u'tns:viewUrl': u'http://www.trafficnz.info/camera/view/140', u'tns:description': u'Gt North Road looking west', u'tns:mapx': u'113', u'tns:offline': u'false', u'tns:underMaintenance': u'false', u'tns:congestionLocation': [{u'tns:name': u'Rosebank Rd - Great Nth Rd Waterview', u'tns:direction': u'Eastbound', u'tns:congestion': u'Free Flow'}, {u'tns:name': u'Great Nth Rd Waterview - Rosebank Rd', u'tns:direction': u'Westbound', u'tns:congestion': u'Free Flow'}], u'tns:mapy': u'232', u'tns:name': u'SH16 2 Gt North Rd'}, {u'tns:id': u'150', u'tns:imageUrl': u'http://www.trafficnz.info/camera/150.jpg', u'tns:viewUrl': u'http://www.trafficnz.info/camera/view/150', u'tns:description': u'Te Atatu Road looking east', u'tns:mapx': u'70', u'tns:offline': u'false', u'tns:underMaintenance': u'false', u'tns:congestionLocation': [{u'tns:name': u'Te Atatu Rd - Rosebank Rd', u'tns:direction': u'Eastbound', u'tns:congestion': u'Free Flow'}, {u'tns:name': u'Rosebank Rd - Te Atatu Rd', u'tns:direction': u'Westbound', u'tns:congestion': u'Free Flow'}], u'tns:mapy': u'216', u'tns:name': u'SH16 3 Te Atatu Rd'}, {u'tns:id': u'160', u'tns:imageUrl': u'http://www.trafficnz.info/camera/160.jpg', u'tns:viewUrl': u'http://www.trafficnz.info/camera/view/160', u'tns:description': u'Lincoln Rd  looking west', u'tns:mapx': u'52', u'tns:offline': u'false', u'tns:underMaintenance': u'false', u'tns:congestionLocation': [{u'tns:name': u'Te Atatu Rd - Lincoln Rd', u'tns:direction': u'Westbound', u'tns:congestion': u'Free Flow'}, {u'tns:name': u'Lincoln Rd - Te Atatu Rd', u'tns:direction': u'Eastbound', u'tns:congestion': u'Free Flow'}], u'tns:mapy': u'207', u'tns:name': u'SH16 4 Lincoln Rd E'}, {u'tns:id': u'170', u'tns:imageUrl': u'http://www.trafficnz.info/camera/170.jpg', u'tns:viewUrl': u'http://www.trafficnz.info/camera/view/170', u'tns:description': u'Lincoln Rd looking east', u'tns:mapx': u'35', u'tns:offline': u'false', u'tns:underMaintenance': u'false', u'tns:congestionLocation': [{u'tns:name': u'Lincoln Rd - Royal Rd', u'tns:direction': u'Westbound', u'tns:congestion': u'Free Flow'}, {u'tns:name': u'Royal Rd - Lincoln Rd', u'tns:direction': u'Eastbound', u'tns:congestion': u'Free Flow'}], u'tns:mapy': u'207', u'tns:name': u'SH16 5 Lincoln Rd W'}, {u'tns:id': u'270', u'tns:imageUrl': u'http://www.trafficnz.info/camera/270.jpg', u'tns:viewUrl': u'http://www.trafficnz.info/camera/view/270', u'tns:description': u'Hobsonville looking West towards Kumeu', u'tns:mapx': u'0', u'tns:offline': u'false', u'tns:underMaintenance': u'false', u'tns:mapy': u'0', u'tns:name': u'SH16 6 Hobsonville W'}, {u'tns:id': u'271', u'tns:imageUrl': u'http://www.trafficnz.info/camera/271.jpg', u'tns:viewUrl': u'http://www.trafficnz.info/camera/view/271', u'tns:description': u'Hobsonville Road looking East', u'tns:mapx': u'0', u'tns:offline': u'false', u'tns:underMaintenance': u'false', u'tns:mapy': u'0', u'tns:name': u'SH16 7 Hobsonville E'}, {u'tns:id': u'221', u'tns:imageUrl': u'http://www.trafficnz.info/camera/221.jpg', u'tns:viewUrl': u'http://www.trafficnz.info/camera/view/221', u'tns:description': u'Trig Rd looking west', u'tns:mapx': u'0', u'tns:offline': u'false', u'tns:underMaintenance': u'false', u'tns:mapy': u'0', u'tns:name': u'SH18 Trig Rd'}, {u'tns:id': u'222', u'tns:imageUrl': u'http://www.trafficnz.info/camera/222.jpg', u'tns:viewUrl': u'http://www.trafficnz.info/camera/view/222', u'tns:description': u'Upper harbour motorway looking west', u'tns:mapx': u'0', u'tns:offline': u'false', u'tns:underMaintenance': u'false', u'tns:mapy': u'0', u'tns:name': u'SH18 Waiahora Creek'}, {u'tns:id': u'223', u'tns:imageUrl': u'http://www.trafficnz.info/camera/223.jpg', u'tns:viewUrl': u'http://www.trafficnz.info/camera/view/223', u'tns:description': u'Upper harbour motorway looking East', u'tns:mapx': u'0', u'tns:offline': u'false', u'tns:underMaintenance': u'false', u'tns:mapy': u'0', u'tns:name': u'SH18 Brigham Creek'}, {u'tns:id': u'224', u'tns:imageUrl': u'http://www.trafficnz.info/camera/224.jpg', u'tns:viewUrl': u'http://www.trafficnz.info/camera/view/224', u'tns:description': u'Upper harbour motorway looking west', u'tns:mapx': u'0', u'tns:offline': u'false', u'tns:underMaintenance': u'false', u'tns:mapy': u'0', u'tns:name': u'SH18 Sinton Rd'}, {u'tns:id': u'225', u'tns:imageUrl': u'http://www.trafficnz.info/camera/225.jpg', u'tns:viewUrl': u'http://www.trafficnz.info/camera/view/225', u'tns:description': u'Upper harbour motorway looking east', u'tns:mapx': u'0', u'tns:offline': u'false', u'tns:underMaintenance': u'false', u'tns:mapy': u'0', u'tns:name': u'SH18 Squadron Dr'}, {u'tns:id': u'171', u'tns:imageUrl': u'http://www.trafficnz.info/camera/171.jpg', u'tns:viewUrl': u'http://www.trafficnz.info/camera/view/171', u'tns:description': u'Tauhinu bridge looking east', u'tns:mapx': u'60', u'tns:offline': u'false', u'tns:underMaintenance': u'false', u'tns:mapy': u'207', u'tns:name': u'SH18 6 Tauhinu BRG'}, {u'tns:id': u'172', u'tns:imageUrl': u'http://www.trafficnz.info/camera/172.jpg', u'tns:viewUrl': u'http://www.trafficnz.info/camera/view/172', u'tns:description': u'Albany Highway Looking East', u'tns:mapx': u'35', u'tns:offline': u'false', u'tns:underMaintenance': u'false', u'tns:mapy': u'207', u'tns:name': u'SH18 7 Albany HWY'}, {u'tns:id': u'173', u'tns:imageUrl': u'http://www.trafficnz.info/camera/173.jpg', u'tns:viewUrl': u'http://www.trafficnz.info/camera/view/173', u'tns:description': u'Tauhinu East Looking East', u'tns:mapx': u'35', u'tns:offline': u'false', u'tns:underMaintenance': u'false', u'tns:mapy': u'207', u'tns:name': u'SH18 8 Tauhinu East'}, {u'tns:id': u'174', u'tns:imageUrl': u'http://www.trafficnz.info/camera/174.jpg', u'tns:viewUrl': u'http://www.trafficnz.info/camera/view/174', u'tns:description': u'Paul matthews looking east', u'tns:mapx': u'35', u'tns:offline': u'false', u'tns:underMaintenance': u'false', u'tns:mapy': u'207', u'tns:name': u'SH18 9 Paul Matthews'}, {u'tns:id': u'175', u'tns:imageUrl': u'http://www.trafficnz.info/camera/175.jpg', u'tns:viewUrl': u'http://www.trafficnz.info/camera/view/175', u'tns:description': u'Greenhithe Rd looking east', u'tns:mapx': u'35', u'tns:offline': u'false', u'tns:underMaintenance': u'false', u'tns:mapy': u'207', u'tns:name': u'SH18 10 Greenhithe'}, {u'tns:id': u'176', u'tns:imageUrl': u'http://www.trafficnz.info/camera/176.jpg', u'tns:viewUrl': u'http://www.trafficnz.info/camera/view/176', u'tns:description': u'George deane looking east', u'tns:mapx': u'35', u'tns:offline': u'false', u'tns:underMaintenance': u'false', u'tns:mapy': u'207', u'tns:name': u'SH18 11 George Deane'}, {u'tns:id': u'177', u'tns:imageUrl': u'http://www.trafficnz.info/camera/177.jpg', u'tns:viewUrl': u'http://www.trafficnz.info/camera/view/177', u'tns:description': u'Upper harbour looking east', u'tns:mapx': u'35', u'tns:offline': u'false', u'tns:underMaintenance': u'false', u'tns:mapy': u'207', u'tns:name': u'SH18 12 Upper Hbr CW'}, {u'tns:id': u'178', u'tns:imageUrl': u'http://www.trafficnz.info/camera/178.jpg', u'tns:viewUrl': u'http://www.trafficnz.info/camera/view/178', u'tns:description': u'Wicklam Lane looking west', u'tns:mapx': u'35', u'tns:offline': u'false', u'tns:underMaintenance': u'false', u'tns:mapy': u'207', u'tns:name': u'SH18 13 Wicklam Lane'}, {u'tns:id': u'10', u'tns:imageUrl': u'http://www.trafficnz.info/camera/10.jpg', u'tns:viewUrl': u'http://www.trafficnz.info/camera/view/10', u'tns:description': u'Greville road looking south', u'tns:mapx': u'125', u'tns:offline': u'false', u'tns:underMaintenance': u'false', u'tns:congestionLocation': [{u'tns:name': u'Upper Harb Hwy - Oteha Valley Rd', u'tns:direction': u'Northbound', u'tns:congestion': u'Free Flow'}, {u'tns:name': u'Oteha Valley Rd - Upper Harb Hwy', u'tns:direction': u'Southbound', u'tns:congestion': u'Free Flow'}], u'tns:mapy': u'71', u'tns:name': u'SH1 1 Greville Rd'}, {u'tns:id': u'20', u'tns:imageUrl': u'http://www.trafficnz.info/camera/20.jpg', u'tns:viewUrl': u'http://www.trafficnz.info/camera/view/20', u'tns:description': u'Tristram Avenue looking south', u'tns:mapx': u'148', u'tns:offline': u'false', u'tns:underMaintenance': u'false', u'tns:congestionLocation': [{u'tns:name': u'Tristram Ave - Esmonde Rd', u'tns:direction': u'Southbound', u'tns:congestion': u'Free Flow'}, {u'tns:name': u'Esmonde Rd - Tristram Ave', u'tns:direction': u'Northbound', u'tns:congestion': u'Free Flow'}], u'tns:mapy': u'118', u'tns:name': u'SH1 2 Tristram Ave'}, {u'tns:id': u'30', u'tns:imageUrl': u'http://www.trafficnz.info/camera/30.jpg', u'tns:viewUrl': u'http://www.trafficnz.info/camera/view/30', u'tns:description': u'Northcote Rd looking north', u'tns:mapx': u'156', u'tns:offline': u'false', u'tns:underMaintenance': u'false', u'tns:congestionLocation': [{u'tns:name': u'Tristram Ave - Esmonde Rd', u'tns:direction': u'Southbound', u'tns:congestion': u'Free Flow'}, {u'tns:name': u'Esmonde Rd - Tristram Ave', u'tns:direction': u'Northbound', u'tns:congestion': u'Free Flow'}], u'tns:mapy': u'141', u'tns:name': u'SH1 3 Northcote Rd'}, {u'tns:id': u'40', u'tns:imageUrl': u'http://www.trafficnz.info/camera/40.jpg', u'tns:viewUrl': u'http://www.trafficnz.info/camera/view/40', u'tns:description': u'Esmonde Rd looking south', u'tns:mapx': u'178', u'tns:offline': u'false', u'tns:underMaintenance': u'false', u'tns:congestionLocation': [{u'tns:name': u'Esmonde Rd - Onewa', u'tns:direction': u'Southbound', u'tns:congestion': u'Free Flow'}, {u'tns:name': u'Stafford Rd - Esmonde Rd', u'tns:direction': u'Northbound', u'tns:congestion': u'Free Flow'}], u'tns:mapy': u'146', u'tns:name': u'SH1 4 Esmonde Rd'}, {u'tns:id': u'50', u'tns:imageUrl': u'http://www.trafficnz.info/camera/50.jpg', u'tns:viewUrl': u'http://www.trafficnz.info/camera/view/50', u'tns:description': u'Onewa Rd looking south', u'tns:mapx': u'157', u'tns:offline': u'false', u'tns:underMaintenance': u'false', u'tns:congestionLocation': [{u'tns:name': u'Harbour Bridge', u'tns:direction': u'Southbound', u'tns:congestion': u'Free Flow'}, {u'tns:name': u'Stafford Rd - Esmonde Rd', u'tns:direction': u'Northbound', u'tns:congestion': u'Free Flow'}], u'tns:mapy': u'162', u'tns:name': u'SH1 5 Onewa Rd'}, {u'tns:id': u'215', u'tns:imageUrl': u'http://www.trafficnz.info/camera/215.jpg', u'tns:viewUrl': u'http://www.trafficnz.info/camera/view/215', u'tns:description': u'Johnstone hill tunnels looking south', u'tns:mapx': u'0', u'tns:offline': u'false', u'tns:underMaintenance': u'false', u'tns:mapy': u'0', u'tns:name': u'SH1 Alpurt Web cam'}, {u'tns:id': u'212', u'tns:imageUrl': u'http://www.trafficnz.info/camera/212.jpg', u'tns:viewUrl': u'http://www.trafficnz.info/camera/view/212', u'tns:description': u'Goodwood heights looking south', u'tns:mapx': u'0', u'tns:offline': u'false', u'tns:underMaintenance': u'false', u'tns:mapy': u'0', u'tns:name': u'SH1 17 Goodwood'}, {u'tns:id': u'214', u'tns:imageUrl': u'http://www.trafficnz.info/camera/214.jpg', u'tns:viewUrl': u'http://www.trafficnz.info/camera/view/214', u'tns:description': u'Rainbows End looking north at SH1 and SH20 link', u'tns:mapx': u'0', u'tns:offline': u'false', u'tns:underMaintenance': u'false', u'tns:mapy': u'0', u'tns:name': u'SH1 18 Rainbows End'}, {u'tns:id': u'60', u'tns:imageUrl': u'http://www.trafficnz.info/camera/60.jpg', u'tns:viewUrl': u'http://www.trafficnz.info/camera/view/60', u'tns:description': u'Central motorway junction looking south at the link between state highways 1 and 16', u'tns:mapx': u'162', u'tns:offline': u'false', u'tns:underMaintenance': u'false', u'tns:congestionLocation': {u'tns:name': u'Nelson St - Gillies Ave', u'tns:direction': u'Southbound', u'tns:congestion': u'Free Flow'}, u'tns:mapy': u'217', u'tns:name': u'SH1 1 CMJ'}, {u'tns:id': u'70', u'tns:imageUrl': u'http://www.trafficnz.info/camera/70.jpg', u'tns:viewUrl': u'http://www.trafficnz.info/camera/view/70', u'tns:description': u'Southern motorway at newmarket looking south towards the Market  Rd overbridge', u'tns:mapx': u'183', u'tns:offline': u'false', u'tns:underMaintenance': u'false', u'tns:congestionLocation': [{u'tns:name': u'Gillies Ave - Greenlane', u'tns:direction': u'Southbound', u'tns:congestion': u'Free Flow'}, {u'tns:name': u'Greenlane - Gillies Ave', u'tns:direction': u'Northbound', u'tns:congestion': u'Free Flow'}], u'tns:mapy': u'241', u'tns:name': u'SH1 2 Market Rd'}, {u'tns:id': u'80', u'tns:imageUrl': u'http://www.trafficnz.info/camera/80.jpg', u'tns:viewUrl': u'http://www.trafficnz.info/camera/view/80', u'tns:description': u'Greenlane Rd looking north', u'tns:mapx': u'198', u'tns:offline': u'false', u'tns:underMaintenance': u'false', u'tns:congestionLocation': [{u'tns:name': u'Gillies Ave - Greenlane', u'tns:direction': u'Southbound', u'tns:congestion': u'Free Flow'}, {u'tns:name': u'Greenlane - Gillies Ave', u'tns:direction': u'Northbound', u'tns:congestion': u'Free Flow'}], u'tns:mapy': u'262', u'tns:name': u'SH1 3 Greenlane Rd'}, {u'tns:id': u'90', u'tns:imageUrl': u'http://www.trafficnz.info/camera/90.jpg', u'tns:viewUrl': u'http://www.trafficnz.info/camera/view/90', u'tns:description': u'South eastern highway looking south', u'tns:mapx': u'219', u'tns:offline': u'false', u'tns:underMaintenance': u'false', u'tns:congestionLocation': [{u'tns:name': u'Mt Wellington Hway - SE Highway', u'tns:direction': u'Northbound', u'tns:congestion': u'Free Flow'}, {u'tns:name': u'SE Highway - Mt Wellington Hway', u'tns:direction': u'Southbound', u'tns:congestion': u'Moderate'}], u'tns:mapy': u'278', u'tns:name': u'SH1 4 SE Highway'}, {u'tns:id': u'100', u'tns:imageUrl': u'http://www.trafficnz.info/camera/100.jpg', u'tns:viewUrl': u'http://www.trafficnz.info/camera/view/100', u'tns:description': u'Redoubt Rd looking north', u'tns:mapx': u'254', u'tns:offline': u'false', u'tns:underMaintenance': u'false', u'tns:congestionLocation': [{u'tns:name': u'Redoubt Rd - Hill Rd', u'tns:direction': u'Southbound', u'tns:congestion': u'Free Flow'}, {u'tns:name': u'Hill Rd - Redoubt Rd', u'tns:direction': u'Northbound', u'tns:congestion': u'Free Flow'}], u'tns:mapy': u'341', u'tns:name': u'SH1 5 Redoubt Rd'}, {u'tns:id': u'110', u'tns:imageUrl': u'http://www.trafficnz.info/camera/110.jpg', u'tns:viewUrl': u'http://www.trafficnz.info/camera/view/110', u'tns:description': u'Bairds Rd looking north', u'tns:mapx': u'275', u'tns:offline': u'false', u'tns:underMaintenance': u'false', u'tns:congestionLocation': [{u'tns:name': u'East Tamaki Rd - Princes St', u'tns:direction': u'Northbound', u'tns:congestion': u'Free Flow'}, {u'tns:name': u'Princes St - East Tamaki Rd', u'tns:direction': u'Southbound', u'tns:congestion': u'Free Flow'}], u'tns:mapy': u'383', u'tns:name': u'SH1 6 Bairds Rd'}, {u'tns:id': u'120', u'tns:imageUrl': u'http://www.trafficnz.info/camera/120.jpg', u'tns:viewUrl': u'http://www.trafficnz.info/camera/view/120', u'tns:description': u'Alfriston Rd looking north', u'tns:mapx': u'291', u'tns:offline': u'false', u'tns:underMaintenance': u'false', u'tns:congestionLocation': [{u'tns:name': u'Takanini - Hill Rd', u'tns:direction': u'Northbound', u'tns:congestion': u'Free Flow'}, {u'tns:name': u'Hill Rd - Takanini', u'tns:direction': u'Southbound', u'tns:congestion': u'Free Flow'}], u'tns:mapy': u'411', u'tns:name': u'SH1 7 Alfriston Rd'}, {u'tns:id': u'121', u'tns:imageUrl': u'http://www.trafficnz.info/camera/121.jpg', u'tns:viewUrl': u'http://www.trafficnz.info/camera/view/121', u'tns:description': u'Takanini looking south', u'tns:mapx': u'290', u'tns:offline': u'false', u'tns:underMaintenance': u'false', u'tns:mapy': u'380', u'tns:name': u'SH1 8 Takanini'}, {u'tns:id': u'122', u'tns:imageUrl': u'http://www.trafficnz.info/camera/122.jpg', u'tns:viewUrl': u'http://www.trafficnz.info/camera/view/122', u'tns:description': u'Walter-Strevens Drive looking south', u'tns:mapx': u'285', u'tns:offline': u'false', u'tns:underMaintenance': u'false', u'tns:mapy': u'400', u'tns:name': u'SH1 9 Walter Streven'}, {u'tns:id': u'123', u'tns:imageUrl': u'http://www.trafficnz.info/camera/123.jpg', u'tns:viewUrl': u'http://www.trafficnz.info/camera/view/123', u'tns:description': u'Pahurehure looking south', u'tns:mapx': u'265', u'tns:offline': u'false', u'tns:underMaintenance': u'false', u'tns:mapy': u'410', u'tns:name': u'SH1 10 Pahurehure'}, {u'tns:id': u'124', u'tns:imageUrl': u'http://www.trafficnz.info/camera/124.jpg', u'tns:viewUrl': u'http://www.trafficnz.info/camera/view/124', u'tns:description': u'Rushgreen Ave looking south', u'tns:mapx': u'285', u'tns:offline': u'false', u'tns:underMaintenance': u'false', u'tns:mapy': u'420', u'tns:name': u'SH1 11 Rushgreen Ave'}, {u'tns:id': u'125', u'tns:imageUrl': u'http://www.trafficnz.info/camera/125.jpg', u'tns:viewUrl': u'http://www.trafficnz.info/camera/view/125', u'tns:description': u'Park estate looking south', u'tns:mapx': u'300', u'tns:offline': u'false', u'tns:underMaintenance': u'false', u'tns:mapy': u'430', u'tns:name': u'SH1 12 Park Estate'}, {u'tns:id': u'126', u'tns:imageUrl': u'http://www.trafficnz.info/camera/126.jpg', u'tns:viewUrl': u'http://www.trafficnz.info/camera/view/126', u'tns:description': u'Slippery Creek looking  south', u'tns:mapx': u'286', u'tns:offline': u'false', u'tns:underMaintenance': u'false', u'tns:mapy': u'445', u'tns:name': u'SH1 13 Slippery Crk'}, {u'tns:id': u'274', u'tns:imageUrl': u'http://www.trafficnz.info/camera/274.jpg', u'tns:viewUrl': u'http://www.trafficnz.info/camera/view/274', u'tns:description': u'Montgomerie Rd looking east', u'tns:mapx': u'0', u'tns:offline': u'false', u'tns:underMaintenance': u'false', u'tns:mapy': u'0', u'tns:name': u'SH20A Montgomerie Rd'}, {u'tns:id': u'275', u'tns:imageUrl': u'http://www.trafficnz.info/camera/275.jpg', u'tns:viewUrl': u'http://www.trafficnz.info/camera/view/275', u'tns:description': u'Kirkbride Rd looking east', u'tns:mapx': u'0', u'tns:offline': u'false', u'tns:underMaintenance': u'false', u'tns:mapy': u'0', u'tns:name': u'SH20A Kirkbride Road'}, {u'tns:id': u'276', u'tns:imageUrl': u'http://www.trafficnz.info/camera/276.jpg', u'tns:viewUrl': u'http://www.trafficnz.info/camera/view/276', u'tns:description': u'Bader Drive looking east', u'tns:mapx': u'0', u'tns:offline': u'false', u'tns:underMaintenance': u'false', u'tns:mapy': u'0', u'tns:name': u'SH20A Bader Drive'}, {u'tns:id': u'272', u'tns:imageUrl': u'http://www.trafficnz.info/camera/272.jpg', u'tns:viewUrl': u'http://www.trafficnz.info/camera/view/272', u'tns:description': u'Prices Rd looking east', u'tns:mapx': u'0', u'tns:offline': u'false', u'tns:underMaintenance': u'false', u'tns:mapy': u'0', u'tns:name': u'SH20B Prices Road'}, {u'tns:id': u'273', u'tns:imageUrl': u'http://www.trafficnz.info/camera/273.jpg', u'tns:viewUrl': u'http://www.trafficnz.info/camera/view/273', u'tns:description': u'Waokauri Creek looking west', u'tns:mapx': u'0', u'tns:offline': u'false', u'tns:underMaintenance': u'false', u'tns:mapy': u'0', u'tns:name': u'SH20B Waokauri Creek'}, {u'tns:id': u'190', u'tns:imageUrl': u'http://www.trafficnz.info/camera/190.jpg', u'tns:viewUrl': u'http://www.trafficnz.info/camera/view/190', u'tns:description': u'Queenstown Rd looking south', u'tns:mapx': u'35', u'tns:offline': u'false', u'tns:underMaintenance': u'false', u'tns:mapy': u'207', u'tns:name': u'SH20 1 Queenstown Rd'}, {u'tns:id': u'191', u'tns:imageUrl': u'http://www.trafficnz.info/camera/191.jpg', u'tns:viewUrl': u'http://www.trafficnz.info/camera/view/191', u'tns:description': u'Hillsborough Rd looking south', u'tns:mapx': u'35', u'tns:offline': u'false', u'tns:underMaintenance': u'false', u'tns:mapy': u'207', u'tns:name': u'SH20 2 Hillsborough'}, {u'tns:id': u'192', u'tns:imageUrl': u'http://www.trafficnz.info/camera/192.jpg', u'tns:viewUrl': u'http://www.trafficnz.info/camera/view/192', u'tns:description': u'Melrose looking south', u'tns:mapx': u'35', u'tns:offline': u'false', u'tns:underMaintenance': u'false', u'tns:mapy': u'207', u'tns:name': u'SH20 3 Melrose'}, {u'tns:id': u'193', u'tns:imageUrl': u'http://www.trafficnz.info/camera/193.jpg', u'tns:viewUrl': u'http://www.trafficnz.info/camera/view/193', u'tns:description': u'Dominion Rd looking south', u'tns:mapx': u'35', u'tns:offline': u'false', u'tns:underMaintenance': u'false', u'tns:mapy': u'207', u'tns:name': u'SH20 4 Dominion Rd'}, {u'tns:id': u'194', u'tns:imageUrl': u'http://www.trafficnz.info/camera/194.jpg', u'tns:viewUrl': u'http://www.trafficnz.info/camera/view/194', u'tns:description': u'Sandringham looking South', u'tns:mapx': u'35', u'tns:offline': u'false', u'tns:underMaintenance': u'false', u'tns:mapy': u'207', u'tns:name': u'SH20 5 Sandringham'}, {u'tns:id': u'201', u'tns:imageUrl': u'http://www.trafficnz.info/camera/201.jpg', u'tns:viewUrl': u'http://www.trafficnz.info/camera/view/201', u'tns:description': u'Gloucester Park looking north', u'tns:mapx': u'0', u'tns:offline': u'false', u'tns:underMaintenance': u'false', u'tns:mapy': u'0', u'tns:name': u'SH20 6 Gloucester Pk'}, {u'tns:id': u'202', u'tns:imageUrl': u'http://www.trafficnz.info/camera/202.jpg', u'tns:viewUrl': u'http://www.trafficnz.info/camera/view/202', u'tns:description': u'Onehunga wharf looking north', u'tns:mapx': u'0', u'tns:offline': u'false', u'tns:underMaintenance': u'false', u'tns:mapy': u'0', u'tns:name': u'SH20 7 Onehunga'}, {u'tns:id': u'203', u'tns:imageUrl': u'http://www.trafficnz.info/camera/203.jpg', u'tns:viewUrl': u'http://www.trafficnz.info/camera/view/203', u'tns:description': u'Rimu Rd looking north', u'tns:mapx': u'0', u'tns:offline': u'false', u'tns:underMaintenance': u'false', u'tns:mapy': u'0', u'tns:name': u'SH20 8 Rimu Rd'}, {u'tns:id': u'204', u'tns:imageUrl': u'http://www.trafficnz.info/camera/204.jpg', u'tns:viewUrl': u'http://www.trafficnz.info/camera/view/204', u'tns:description': u'Crawford Ave looking north', u'tns:mapx': u'0', u'tns:offline': u'false', u'tns:underMaintenance': u'false', u'tns:mapy': u'0', u'tns:name': u'SH20 9 Crawford Ave'}, {u'tns:id': u'205', u'tns:imageUrl': u'http://www.trafficnz.info/camera/205.jpg', u'tns:viewUrl': u'http://www.trafficnz.info/camera/view/205', u'tns:description': u'Coronation Rd looking east', u'tns:mapx': u'0', u'tns:offline': u'false', u'tns:underMaintenance': u'false', u'tns:mapy': u'0', u'tns:name': u'SH20 Coronation Rd'}, {u'tns:id': u'206', u'tns:imageUrl': u'http://www.trafficnz.info/camera/206.jpg', u'tns:viewUrl': u'http://www.trafficnz.info/camera/view/206', u'tns:description': u'Puhinui road interchange looking south', u'tns:mapx': u'0', u'tns:offline': u'false', u'tns:underMaintenance': u'false', u'tns:mapy': u'0', u'tns:name': u'SH20 11 Puhinui Rd'}, {u'tns:id': u'207', u'tns:imageUrl': u'http://www.trafficnz.info/camera/207.jpg', u'tns:viewUrl': u'http://www.trafficnz.info/camera/view/207', u'tns:description': u'Nesdale Rd looking east', u'tns:mapx': u'0', u'tns:offline': u'false', u'tns:underMaintenance': u'false', u'tns:mapy': u'0', u'tns:name': u'SH20 12 Nesdale Road'}, {u'tns:id': u'208', u'tns:imageUrl': u'http://www.trafficnz.info/camera/208.jpg', u'tns:viewUrl': u'http://www.trafficnz.info/camera/view/208', u'tns:description': u'Plunket Ave looking south', u'tns:mapx': u'0', u'tns:offline': u'false', u'tns:underMaintenance': u'false', u'tns:mapy': u'0', u'tns:name': u'SH20 13 Plunket Ave'}, {u'tns:id': u'209', u'tns:imageUrl': u'http://www.trafficnz.info/camera/209.jpg', u'tns:viewUrl': u'http://www.trafficnz.info/camera/view/209', u'tns:description': u'Lambie Drive looking south', u'tns:mapx': u'0', u'tns:offline': u'false', u'tns:underMaintenance': u'false', u'tns:mapy': u'0', u'tns:name': u'SH20 14 Lambie Drive'}, {u'tns:id': u'210', u'tns:imageUrl': u'http://www.trafficnz.info/camera/210.jpg', u'tns:viewUrl': u'http://www.trafficnz.info/camera/view/210', u'tns:description': u'Barrowcliffe Place looking west', u'tns:mapx': u'0', u'tns:offline': u'false', u'tns:underMaintenance': u'false', u'tns:mapy': u'0', u'tns:name': u'SH20 15 Barrowcliffe'}, {u'tns:id': u'211', u'tns:imageUrl': u'http://www.trafficnz.info/camera/211.jpg', u'tns:viewUrl': u'http://www.trafficnz.info/camera/view/211', u'tns:description': u'Great South Rd Looking westbound', u'tns:mapx': u'0', u'tns:offline': u'false', u'tns:underMaintenance': u'false', u'tns:mapy': u'0', u'tns:name': u'SH20 16 Great South'}]\n"
       ]
      }
     ],
     "prompt_number": 150
    },
    {
     "cell_type": "code",
     "collapsed": false,
     "input": [
      "print len(bthere)"
     ],
     "language": "python",
     "metadata": {},
     "outputs": [
      {
       "output_type": "stream",
       "stream": "stdout",
       "text": [
        "62\n"
       ]
      }
     ],
     "prompt_number": 151
    },
    {
     "cell_type": "code",
     "collapsed": false,
     "input": [],
     "language": "python",
     "metadata": {},
     "outputs": [],
     "prompt_number": 151
    },
    {
     "cell_type": "code",
     "collapsed": false,
     "input": [
      "print bthere"
     ],
     "language": "python",
     "metadata": {},
     "outputs": [
      {
       "output_type": "stream",
       "stream": "stdout",
       "text": [
        "[{u'tns:id': u'130', u'tns:imageUrl': u'http://www.trafficnz.info/camera/130.jpg', u'tns:viewUrl': u'http://www.trafficnz.info/camera/view/130', u'tns:description': u'Bond St looking east', u'tns:mapx': u'142', u'tns:offline': u'false', u'tns:underMaintenance': u'false', u'tns:congestionLocation': [{u'tns:name': u'St Lukes Rd - Newton Rd', u'tns:direction': u'Eastbound', u'tns:congestion': u'Free Flow'}, {u'tns:name': u'Newton Rd - St Lukes Rd', u'tns:direction': u'Westbound', u'tns:congestion': u'Free Flow'}], u'tns:mapy': u'229', u'tns:name': u'SH16 1 Bond St'}, {u'tns:id': u'140', u'tns:imageUrl': u'http://www.trafficnz.info/camera/140.jpg', u'tns:viewUrl': u'http://www.trafficnz.info/camera/view/140', u'tns:description': u'Gt North Road looking west', u'tns:mapx': u'113', u'tns:offline': u'false', u'tns:underMaintenance': u'false', u'tns:congestionLocation': [{u'tns:name': u'Rosebank Rd - Great Nth Rd Waterview', u'tns:direction': u'Eastbound', u'tns:congestion': u'Free Flow'}, {u'tns:name': u'Great Nth Rd Waterview - Rosebank Rd', u'tns:direction': u'Westbound', u'tns:congestion': u'Free Flow'}], u'tns:mapy': u'232', u'tns:name': u'SH16 2 Gt North Rd'}, {u'tns:id': u'150', u'tns:imageUrl': u'http://www.trafficnz.info/camera/150.jpg', u'tns:viewUrl': u'http://www.trafficnz.info/camera/view/150', u'tns:description': u'Te Atatu Road looking east', u'tns:mapx': u'70', u'tns:offline': u'false', u'tns:underMaintenance': u'false', u'tns:congestionLocation': [{u'tns:name': u'Te Atatu Rd - Rosebank Rd', u'tns:direction': u'Eastbound', u'tns:congestion': u'Free Flow'}, {u'tns:name': u'Rosebank Rd - Te Atatu Rd', u'tns:direction': u'Westbound', u'tns:congestion': u'Free Flow'}], u'tns:mapy': u'216', u'tns:name': u'SH16 3 Te Atatu Rd'}, {u'tns:id': u'160', u'tns:imageUrl': u'http://www.trafficnz.info/camera/160.jpg', u'tns:viewUrl': u'http://www.trafficnz.info/camera/view/160', u'tns:description': u'Lincoln Rd  looking west', u'tns:mapx': u'52', u'tns:offline': u'false', u'tns:underMaintenance': u'false', u'tns:congestionLocation': [{u'tns:name': u'Te Atatu Rd - Lincoln Rd', u'tns:direction': u'Westbound', u'tns:congestion': u'Free Flow'}, {u'tns:name': u'Lincoln Rd - Te Atatu Rd', u'tns:direction': u'Eastbound', u'tns:congestion': u'Free Flow'}], u'tns:mapy': u'207', u'tns:name': u'SH16 4 Lincoln Rd E'}, {u'tns:id': u'170', u'tns:imageUrl': u'http://www.trafficnz.info/camera/170.jpg', u'tns:viewUrl': u'http://www.trafficnz.info/camera/view/170', u'tns:description': u'Lincoln Rd looking east', u'tns:mapx': u'35', u'tns:offline': u'false', u'tns:underMaintenance': u'false', u'tns:congestionLocation': [{u'tns:name': u'Lincoln Rd - Royal Rd', u'tns:direction': u'Westbound', u'tns:congestion': u'Free Flow'}, {u'tns:name': u'Royal Rd - Lincoln Rd', u'tns:direction': u'Eastbound', u'tns:congestion': u'Free Flow'}], u'tns:mapy': u'207', u'tns:name': u'SH16 5 Lincoln Rd W'}, {u'tns:id': u'270', u'tns:imageUrl': u'http://www.trafficnz.info/camera/270.jpg', u'tns:viewUrl': u'http://www.trafficnz.info/camera/view/270', u'tns:description': u'Hobsonville looking West towards Kumeu', u'tns:mapx': u'0', u'tns:offline': u'false', u'tns:underMaintenance': u'false', u'tns:mapy': u'0', u'tns:name': u'SH16 6 Hobsonville W'}, {u'tns:id': u'271', u'tns:imageUrl': u'http://www.trafficnz.info/camera/271.jpg', u'tns:viewUrl': u'http://www.trafficnz.info/camera/view/271', u'tns:description': u'Hobsonville Road looking East', u'tns:mapx': u'0', u'tns:offline': u'false', u'tns:underMaintenance': u'false', u'tns:mapy': u'0', u'tns:name': u'SH16 7 Hobsonville E'}, {u'tns:id': u'221', u'tns:imageUrl': u'http://www.trafficnz.info/camera/221.jpg', u'tns:viewUrl': u'http://www.trafficnz.info/camera/view/221', u'tns:description': u'Trig Rd looking west', u'tns:mapx': u'0', u'tns:offline': u'false', u'tns:underMaintenance': u'false', u'tns:mapy': u'0', u'tns:name': u'SH18 Trig Rd'}, {u'tns:id': u'222', u'tns:imageUrl': u'http://www.trafficnz.info/camera/222.jpg', u'tns:viewUrl': u'http://www.trafficnz.info/camera/view/222', u'tns:description': u'Upper harbour motorway looking west', u'tns:mapx': u'0', u'tns:offline': u'false', u'tns:underMaintenance': u'false', u'tns:mapy': u'0', u'tns:name': u'SH18 Waiahora Creek'}, {u'tns:id': u'223', u'tns:imageUrl': u'http://www.trafficnz.info/camera/223.jpg', u'tns:viewUrl': u'http://www.trafficnz.info/camera/view/223', u'tns:description': u'Upper harbour motorway looking East', u'tns:mapx': u'0', u'tns:offline': u'false', u'tns:underMaintenance': u'false', u'tns:mapy': u'0', u'tns:name': u'SH18 Brigham Creek'}, {u'tns:id': u'224', u'tns:imageUrl': u'http://www.trafficnz.info/camera/224.jpg', u'tns:viewUrl': u'http://www.trafficnz.info/camera/view/224', u'tns:description': u'Upper harbour motorway looking west', u'tns:mapx': u'0', u'tns:offline': u'false', u'tns:underMaintenance': u'false', u'tns:mapy': u'0', u'tns:name': u'SH18 Sinton Rd'}, {u'tns:id': u'225', u'tns:imageUrl': u'http://www.trafficnz.info/camera/225.jpg', u'tns:viewUrl': u'http://www.trafficnz.info/camera/view/225', u'tns:description': u'Upper harbour motorway looking east', u'tns:mapx': u'0', u'tns:offline': u'false', u'tns:underMaintenance': u'false', u'tns:mapy': u'0', u'tns:name': u'SH18 Squadron Dr'}, {u'tns:id': u'171', u'tns:imageUrl': u'http://www.trafficnz.info/camera/171.jpg', u'tns:viewUrl': u'http://www.trafficnz.info/camera/view/171', u'tns:description': u'Tauhinu bridge looking east', u'tns:mapx': u'60', u'tns:offline': u'false', u'tns:underMaintenance': u'false', u'tns:mapy': u'207', u'tns:name': u'SH18 6 Tauhinu BRG'}, {u'tns:id': u'172', u'tns:imageUrl': u'http://www.trafficnz.info/camera/172.jpg', u'tns:viewUrl': u'http://www.trafficnz.info/camera/view/172', u'tns:description': u'Albany Highway Looking East', u'tns:mapx': u'35', u'tns:offline': u'false', u'tns:underMaintenance': u'false', u'tns:mapy': u'207', u'tns:name': u'SH18 7 Albany HWY'}, {u'tns:id': u'173', u'tns:imageUrl': u'http://www.trafficnz.info/camera/173.jpg', u'tns:viewUrl': u'http://www.trafficnz.info/camera/view/173', u'tns:description': u'Tauhinu East Looking East', u'tns:mapx': u'35', u'tns:offline': u'false', u'tns:underMaintenance': u'false', u'tns:mapy': u'207', u'tns:name': u'SH18 8 Tauhinu East'}, {u'tns:id': u'174', u'tns:imageUrl': u'http://www.trafficnz.info/camera/174.jpg', u'tns:viewUrl': u'http://www.trafficnz.info/camera/view/174', u'tns:description': u'Paul matthews looking east', u'tns:mapx': u'35', u'tns:offline': u'false', u'tns:underMaintenance': u'false', u'tns:mapy': u'207', u'tns:name': u'SH18 9 Paul Matthews'}, {u'tns:id': u'175', u'tns:imageUrl': u'http://www.trafficnz.info/camera/175.jpg', u'tns:viewUrl': u'http://www.trafficnz.info/camera/view/175', u'tns:description': u'Greenhithe Rd looking east', u'tns:mapx': u'35', u'tns:offline': u'false', u'tns:underMaintenance': u'false', u'tns:mapy': u'207', u'tns:name': u'SH18 10 Greenhithe'}, {u'tns:id': u'176', u'tns:imageUrl': u'http://www.trafficnz.info/camera/176.jpg', u'tns:viewUrl': u'http://www.trafficnz.info/camera/view/176', u'tns:description': u'George deane looking east', u'tns:mapx': u'35', u'tns:offline': u'false', u'tns:underMaintenance': u'false', u'tns:mapy': u'207', u'tns:name': u'SH18 11 George Deane'}, {u'tns:id': u'177', u'tns:imageUrl': u'http://www.trafficnz.info/camera/177.jpg', u'tns:viewUrl': u'http://www.trafficnz.info/camera/view/177', u'tns:description': u'Upper harbour looking east', u'tns:mapx': u'35', u'tns:offline': u'false', u'tns:underMaintenance': u'false', u'tns:mapy': u'207', u'tns:name': u'SH18 12 Upper Hbr CW'}, {u'tns:id': u'178', u'tns:imageUrl': u'http://www.trafficnz.info/camera/178.jpg', u'tns:viewUrl': u'http://www.trafficnz.info/camera/view/178', u'tns:description': u'Wicklam Lane looking west', u'tns:mapx': u'35', u'tns:offline': u'false', u'tns:underMaintenance': u'false', u'tns:mapy': u'207', u'tns:name': u'SH18 13 Wicklam Lane'}, {u'tns:id': u'10', u'tns:imageUrl': u'http://www.trafficnz.info/camera/10.jpg', u'tns:viewUrl': u'http://www.trafficnz.info/camera/view/10', u'tns:description': u'Greville road looking south', u'tns:mapx': u'125', u'tns:offline': u'false', u'tns:underMaintenance': u'false', u'tns:congestionLocation': [{u'tns:name': u'Upper Harb Hwy - Oteha Valley Rd', u'tns:direction': u'Northbound', u'tns:congestion': u'Free Flow'}, {u'tns:name': u'Oteha Valley Rd - Upper Harb Hwy', u'tns:direction': u'Southbound', u'tns:congestion': u'Free Flow'}], u'tns:mapy': u'71', u'tns:name': u'SH1 1 Greville Rd'}, {u'tns:id': u'20', u'tns:imageUrl': u'http://www.trafficnz.info/camera/20.jpg', u'tns:viewUrl': u'http://www.trafficnz.info/camera/view/20', u'tns:description': u'Tristram Avenue looking south', u'tns:mapx': u'148', u'tns:offline': u'false', u'tns:underMaintenance': u'false', u'tns:congestionLocation': [{u'tns:name': u'Tristram Ave - Esmonde Rd', u'tns:direction': u'Southbound', u'tns:congestion': u'Free Flow'}, {u'tns:name': u'Esmonde Rd - Tristram Ave', u'tns:direction': u'Northbound', u'tns:congestion': u'Free Flow'}], u'tns:mapy': u'118', u'tns:name': u'SH1 2 Tristram Ave'}, {u'tns:id': u'30', u'tns:imageUrl': u'http://www.trafficnz.info/camera/30.jpg', u'tns:viewUrl': u'http://www.trafficnz.info/camera/view/30', u'tns:description': u'Northcote Rd looking north', u'tns:mapx': u'156', u'tns:offline': u'false', u'tns:underMaintenance': u'false', u'tns:congestionLocation': [{u'tns:name': u'Tristram Ave - Esmonde Rd', u'tns:direction': u'Southbound', u'tns:congestion': u'Free Flow'}, {u'tns:name': u'Esmonde Rd - Tristram Ave', u'tns:direction': u'Northbound', u'tns:congestion': u'Free Flow'}], u'tns:mapy': u'141', u'tns:name': u'SH1 3 Northcote Rd'}, {u'tns:id': u'40', u'tns:imageUrl': u'http://www.trafficnz.info/camera/40.jpg', u'tns:viewUrl': u'http://www.trafficnz.info/camera/view/40', u'tns:description': u'Esmonde Rd looking south', u'tns:mapx': u'178', u'tns:offline': u'false', u'tns:underMaintenance': u'false', u'tns:congestionLocation': [{u'tns:name': u'Esmonde Rd - Onewa', u'tns:direction': u'Southbound', u'tns:congestion': u'Free Flow'}, {u'tns:name': u'Stafford Rd - Esmonde Rd', u'tns:direction': u'Northbound', u'tns:congestion': u'Free Flow'}], u'tns:mapy': u'146', u'tns:name': u'SH1 4 Esmonde Rd'}, {u'tns:id': u'50', u'tns:imageUrl': u'http://www.trafficnz.info/camera/50.jpg', u'tns:viewUrl': u'http://www.trafficnz.info/camera/view/50', u'tns:description': u'Onewa Rd looking south', u'tns:mapx': u'157', u'tns:offline': u'false', u'tns:underMaintenance': u'false', u'tns:congestionLocation': [{u'tns:name': u'Harbour Bridge', u'tns:direction': u'Southbound', u'tns:congestion': u'Free Flow'}, {u'tns:name': u'Stafford Rd - Esmonde Rd', u'tns:direction': u'Northbound', u'tns:congestion': u'Free Flow'}], u'tns:mapy': u'162', u'tns:name': u'SH1 5 Onewa Rd'}, {u'tns:id': u'215', u'tns:imageUrl': u'http://www.trafficnz.info/camera/215.jpg', u'tns:viewUrl': u'http://www.trafficnz.info/camera/view/215', u'tns:description': u'Johnstone hill tunnels looking south', u'tns:mapx': u'0', u'tns:offline': u'false', u'tns:underMaintenance': u'false', u'tns:mapy': u'0', u'tns:name': u'SH1 Alpurt Web cam'}, {u'tns:id': u'212', u'tns:imageUrl': u'http://www.trafficnz.info/camera/212.jpg', u'tns:viewUrl': u'http://www.trafficnz.info/camera/view/212', u'tns:description': u'Goodwood heights looking south', u'tns:mapx': u'0', u'tns:offline': u'false', u'tns:underMaintenance': u'false', u'tns:mapy': u'0', u'tns:name': u'SH1 17 Goodwood'}, {u'tns:id': u'214', u'tns:imageUrl': u'http://www.trafficnz.info/camera/214.jpg', u'tns:viewUrl': u'http://www.trafficnz.info/camera/view/214', u'tns:description': u'Rainbows End looking north at SH1 and SH20 link', u'tns:mapx': u'0', u'tns:offline': u'false', u'tns:underMaintenance': u'false', u'tns:mapy': u'0', u'tns:name': u'SH1 18 Rainbows End'}, {u'tns:id': u'60', u'tns:imageUrl': u'http://www.trafficnz.info/camera/60.jpg', u'tns:viewUrl': u'http://www.trafficnz.info/camera/view/60', u'tns:description': u'Central motorway junction looking south at the link between state highways 1 and 16', u'tns:mapx': u'162', u'tns:offline': u'false', u'tns:underMaintenance': u'false', u'tns:congestionLocation': {u'tns:name': u'Nelson St - Gillies Ave', u'tns:direction': u'Southbound', u'tns:congestion': u'Free Flow'}, u'tns:mapy': u'217', u'tns:name': u'SH1 1 CMJ'}, {u'tns:id': u'70', u'tns:imageUrl': u'http://www.trafficnz.info/camera/70.jpg', u'tns:viewUrl': u'http://www.trafficnz.info/camera/view/70', u'tns:description': u'Southern motorway at newmarket looking south towards the Market  Rd overbridge', u'tns:mapx': u'183', u'tns:offline': u'false', u'tns:underMaintenance': u'false', u'tns:congestionLocation': [{u'tns:name': u'Gillies Ave - Greenlane', u'tns:direction': u'Southbound', u'tns:congestion': u'Free Flow'}, {u'tns:name': u'Greenlane - Gillies Ave', u'tns:direction': u'Northbound', u'tns:congestion': u'Free Flow'}], u'tns:mapy': u'241', u'tns:name': u'SH1 2 Market Rd'}, {u'tns:id': u'80', u'tns:imageUrl': u'http://www.trafficnz.info/camera/80.jpg', u'tns:viewUrl': u'http://www.trafficnz.info/camera/view/80', u'tns:description': u'Greenlane Rd looking north', u'tns:mapx': u'198', u'tns:offline': u'false', u'tns:underMaintenance': u'false', u'tns:congestionLocation': [{u'tns:name': u'Gillies Ave - Greenlane', u'tns:direction': u'Southbound', u'tns:congestion': u'Free Flow'}, {u'tns:name': u'Greenlane - Gillies Ave', u'tns:direction': u'Northbound', u'tns:congestion': u'Free Flow'}], u'tns:mapy': u'262', u'tns:name': u'SH1 3 Greenlane Rd'}, {u'tns:id': u'90', u'tns:imageUrl': u'http://www.trafficnz.info/camera/90.jpg', u'tns:viewUrl': u'http://www.trafficnz.info/camera/view/90', u'tns:description': u'South eastern highway looking south', u'tns:mapx': u'219', u'tns:offline': u'false', u'tns:underMaintenance': u'false', u'tns:congestionLocation': [{u'tns:name': u'Mt Wellington Hway - SE Highway', u'tns:direction': u'Northbound', u'tns:congestion': u'Free Flow'}, {u'tns:name': u'SE Highway - Mt Wellington Hway', u'tns:direction': u'Southbound', u'tns:congestion': u'Moderate'}], u'tns:mapy': u'278', u'tns:name': u'SH1 4 SE Highway'}, {u'tns:id': u'100', u'tns:imageUrl': u'http://www.trafficnz.info/camera/100.jpg', u'tns:viewUrl': u'http://www.trafficnz.info/camera/view/100', u'tns:description': u'Redoubt Rd looking north', u'tns:mapx': u'254', u'tns:offline': u'false', u'tns:underMaintenance': u'false', u'tns:congestionLocation': [{u'tns:name': u'Redoubt Rd - Hill Rd', u'tns:direction': u'Southbound', u'tns:congestion': u'Free Flow'}, {u'tns:name': u'Hill Rd - Redoubt Rd', u'tns:direction': u'Northbound', u'tns:congestion': u'Free Flow'}], u'tns:mapy': u'341', u'tns:name': u'SH1 5 Redoubt Rd'}, {u'tns:id': u'110', u'tns:imageUrl': u'http://www.trafficnz.info/camera/110.jpg', u'tns:viewUrl': u'http://www.trafficnz.info/camera/view/110', u'tns:description': u'Bairds Rd looking north', u'tns:mapx': u'275', u'tns:offline': u'false', u'tns:underMaintenance': u'false', u'tns:congestionLocation': [{u'tns:name': u'East Tamaki Rd - Princes St', u'tns:direction': u'Northbound', u'tns:congestion': u'Free Flow'}, {u'tns:name': u'Princes St - East Tamaki Rd', u'tns:direction': u'Southbound', u'tns:congestion': u'Free Flow'}], u'tns:mapy': u'383', u'tns:name': u'SH1 6 Bairds Rd'}, {u'tns:id': u'120', u'tns:imageUrl': u'http://www.trafficnz.info/camera/120.jpg', u'tns:viewUrl': u'http://www.trafficnz.info/camera/view/120', u'tns:description': u'Alfriston Rd looking north', u'tns:mapx': u'291', u'tns:offline': u'false', u'tns:underMaintenance': u'false', u'tns:congestionLocation': [{u'tns:name': u'Takanini - Hill Rd', u'tns:direction': u'Northbound', u'tns:congestion': u'Free Flow'}, {u'tns:name': u'Hill Rd - Takanini', u'tns:direction': u'Southbound', u'tns:congestion': u'Free Flow'}], u'tns:mapy': u'411', u'tns:name': u'SH1 7 Alfriston Rd'}, {u'tns:id': u'121', u'tns:imageUrl': u'http://www.trafficnz.info/camera/121.jpg', u'tns:viewUrl': u'http://www.trafficnz.info/camera/view/121', u'tns:description': u'Takanini looking south', u'tns:mapx': u'290', u'tns:offline': u'false', u'tns:underMaintenance': u'false', u'tns:mapy': u'380', u'tns:name': u'SH1 8 Takanini'}, {u'tns:id': u'122', u'tns:imageUrl': u'http://www.trafficnz.info/camera/122.jpg', u'tns:viewUrl': u'http://www.trafficnz.info/camera/view/122', u'tns:description': u'Walter-Strevens Drive looking south', u'tns:mapx': u'285', u'tns:offline': u'false', u'tns:underMaintenance': u'false', u'tns:mapy': u'400', u'tns:name': u'SH1 9 Walter Streven'}, {u'tns:id': u'123', u'tns:imageUrl': u'http://www.trafficnz.info/camera/123.jpg', u'tns:viewUrl': u'http://www.trafficnz.info/camera/view/123', u'tns:description': u'Pahurehure looking south', u'tns:mapx': u'265', u'tns:offline': u'false', u'tns:underMaintenance': u'false', u'tns:mapy': u'410', u'tns:name': u'SH1 10 Pahurehure'}, {u'tns:id': u'124', u'tns:imageUrl': u'http://www.trafficnz.info/camera/124.jpg', u'tns:viewUrl': u'http://www.trafficnz.info/camera/view/124', u'tns:description': u'Rushgreen Ave looking south', u'tns:mapx': u'285', u'tns:offline': u'false', u'tns:underMaintenance': u'false', u'tns:mapy': u'420', u'tns:name': u'SH1 11 Rushgreen Ave'}, {u'tns:id': u'125', u'tns:imageUrl': u'http://www.trafficnz.info/camera/125.jpg', u'tns:viewUrl': u'http://www.trafficnz.info/camera/view/125', u'tns:description': u'Park estate looking south', u'tns:mapx': u'300', u'tns:offline': u'false', u'tns:underMaintenance': u'false', u'tns:mapy': u'430', u'tns:name': u'SH1 12 Park Estate'}, {u'tns:id': u'126', u'tns:imageUrl': u'http://www.trafficnz.info/camera/126.jpg', u'tns:viewUrl': u'http://www.trafficnz.info/camera/view/126', u'tns:description': u'Slippery Creek looking  south', u'tns:mapx': u'286', u'tns:offline': u'false', u'tns:underMaintenance': u'false', u'tns:mapy': u'445', u'tns:name': u'SH1 13 Slippery Crk'}, {u'tns:id': u'274', u'tns:imageUrl': u'http://www.trafficnz.info/camera/274.jpg', u'tns:viewUrl': u'http://www.trafficnz.info/camera/view/274', u'tns:description': u'Montgomerie Rd looking east', u'tns:mapx': u'0', u'tns:offline': u'false', u'tns:underMaintenance': u'false', u'tns:mapy': u'0', u'tns:name': u'SH20A Montgomerie Rd'}, {u'tns:id': u'275', u'tns:imageUrl': u'http://www.trafficnz.info/camera/275.jpg', u'tns:viewUrl': u'http://www.trafficnz.info/camera/view/275', u'tns:description': u'Kirkbride Rd looking east', u'tns:mapx': u'0', u'tns:offline': u'false', u'tns:underMaintenance': u'false', u'tns:mapy': u'0', u'tns:name': u'SH20A Kirkbride Road'}, {u'tns:id': u'276', u'tns:imageUrl': u'http://www.trafficnz.info/camera/276.jpg', u'tns:viewUrl': u'http://www.trafficnz.info/camera/view/276', u'tns:description': u'Bader Drive looking east', u'tns:mapx': u'0', u'tns:offline': u'false', u'tns:underMaintenance': u'false', u'tns:mapy': u'0', u'tns:name': u'SH20A Bader Drive'}, {u'tns:id': u'272', u'tns:imageUrl': u'http://www.trafficnz.info/camera/272.jpg', u'tns:viewUrl': u'http://www.trafficnz.info/camera/view/272', u'tns:description': u'Prices Rd looking east', u'tns:mapx': u'0', u'tns:offline': u'false', u'tns:underMaintenance': u'false', u'tns:mapy': u'0', u'tns:name': u'SH20B Prices Road'}, {u'tns:id': u'273', u'tns:imageUrl': u'http://www.trafficnz.info/camera/273.jpg', u'tns:viewUrl': u'http://www.trafficnz.info/camera/view/273', u'tns:description': u'Waokauri Creek looking west', u'tns:mapx': u'0', u'tns:offline': u'false', u'tns:underMaintenance': u'false', u'tns:mapy': u'0', u'tns:name': u'SH20B Waokauri Creek'}, {u'tns:id': u'190', u'tns:imageUrl': u'http://www.trafficnz.info/camera/190.jpg', u'tns:viewUrl': u'http://www.trafficnz.info/camera/view/190', u'tns:description': u'Queenstown Rd looking south', u'tns:mapx': u'35', u'tns:offline': u'false', u'tns:underMaintenance': u'false', u'tns:mapy': u'207', u'tns:name': u'SH20 1 Queenstown Rd'}, {u'tns:id': u'191', u'tns:imageUrl': u'http://www.trafficnz.info/camera/191.jpg', u'tns:viewUrl': u'http://www.trafficnz.info/camera/view/191', u'tns:description': u'Hillsborough Rd looking south', u'tns:mapx': u'35', u'tns:offline': u'false', u'tns:underMaintenance': u'false', u'tns:mapy': u'207', u'tns:name': u'SH20 2 Hillsborough'}, {u'tns:id': u'192', u'tns:imageUrl': u'http://www.trafficnz.info/camera/192.jpg', u'tns:viewUrl': u'http://www.trafficnz.info/camera/view/192', u'tns:description': u'Melrose looking south', u'tns:mapx': u'35', u'tns:offline': u'false', u'tns:underMaintenance': u'false', u'tns:mapy': u'207', u'tns:name': u'SH20 3 Melrose'}, {u'tns:id': u'193', u'tns:imageUrl': u'http://www.trafficnz.info/camera/193.jpg', u'tns:viewUrl': u'http://www.trafficnz.info/camera/view/193', u'tns:description': u'Dominion Rd looking south', u'tns:mapx': u'35', u'tns:offline': u'false', u'tns:underMaintenance': u'false', u'tns:mapy': u'207', u'tns:name': u'SH20 4 Dominion Rd'}, {u'tns:id': u'194', u'tns:imageUrl': u'http://www.trafficnz.info/camera/194.jpg', u'tns:viewUrl': u'http://www.trafficnz.info/camera/view/194', u'tns:description': u'Sandringham looking South', u'tns:mapx': u'35', u'tns:offline': u'false', u'tns:underMaintenance': u'false', u'tns:mapy': u'207', u'tns:name': u'SH20 5 Sandringham'}, {u'tns:id': u'201', u'tns:imageUrl': u'http://www.trafficnz.info/camera/201.jpg', u'tns:viewUrl': u'http://www.trafficnz.info/camera/view/201', u'tns:description': u'Gloucester Park looking north', u'tns:mapx': u'0', u'tns:offline': u'false', u'tns:underMaintenance': u'false', u'tns:mapy': u'0', u'tns:name': u'SH20 6 Gloucester Pk'}, {u'tns:id': u'202', u'tns:imageUrl': u'http://www.trafficnz.info/camera/202.jpg', u'tns:viewUrl': u'http://www.trafficnz.info/camera/view/202', u'tns:description': u'Onehunga wharf looking north', u'tns:mapx': u'0', u'tns:offline': u'false', u'tns:underMaintenance': u'false', u'tns:mapy': u'0', u'tns:name': u'SH20 7 Onehunga'}, {u'tns:id': u'203', u'tns:imageUrl': u'http://www.trafficnz.info/camera/203.jpg', u'tns:viewUrl': u'http://www.trafficnz.info/camera/view/203', u'tns:description': u'Rimu Rd looking north', u'tns:mapx': u'0', u'tns:offline': u'false', u'tns:underMaintenance': u'false', u'tns:mapy': u'0', u'tns:name': u'SH20 8 Rimu Rd'}, {u'tns:id': u'204', u'tns:imageUrl': u'http://www.trafficnz.info/camera/204.jpg', u'tns:viewUrl': u'http://www.trafficnz.info/camera/view/204', u'tns:description': u'Crawford Ave looking north', u'tns:mapx': u'0', u'tns:offline': u'false', u'tns:underMaintenance': u'false', u'tns:mapy': u'0', u'tns:name': u'SH20 9 Crawford Ave'}, {u'tns:id': u'205', u'tns:imageUrl': u'http://www.trafficnz.info/camera/205.jpg', u'tns:viewUrl': u'http://www.trafficnz.info/camera/view/205', u'tns:description': u'Coronation Rd looking east', u'tns:mapx': u'0', u'tns:offline': u'false', u'tns:underMaintenance': u'false', u'tns:mapy': u'0', u'tns:name': u'SH20 Coronation Rd'}, {u'tns:id': u'206', u'tns:imageUrl': u'http://www.trafficnz.info/camera/206.jpg', u'tns:viewUrl': u'http://www.trafficnz.info/camera/view/206', u'tns:description': u'Puhinui road interchange looking south', u'tns:mapx': u'0', u'tns:offline': u'false', u'tns:underMaintenance': u'false', u'tns:mapy': u'0', u'tns:name': u'SH20 11 Puhinui Rd'}, {u'tns:id': u'207', u'tns:imageUrl': u'http://www.trafficnz.info/camera/207.jpg', u'tns:viewUrl': u'http://www.trafficnz.info/camera/view/207', u'tns:description': u'Nesdale Rd looking east', u'tns:mapx': u'0', u'tns:offline': u'false', u'tns:underMaintenance': u'false', u'tns:mapy': u'0', u'tns:name': u'SH20 12 Nesdale Road'}, {u'tns:id': u'208', u'tns:imageUrl': u'http://www.trafficnz.info/camera/208.jpg', u'tns:viewUrl': u'http://www.trafficnz.info/camera/view/208', u'tns:description': u'Plunket Ave looking south', u'tns:mapx': u'0', u'tns:offline': u'false', u'tns:underMaintenance': u'false', u'tns:mapy': u'0', u'tns:name': u'SH20 13 Plunket Ave'}, {u'tns:id': u'209', u'tns:imageUrl': u'http://www.trafficnz.info/camera/209.jpg', u'tns:viewUrl': u'http://www.trafficnz.info/camera/view/209', u'tns:description': u'Lambie Drive looking south', u'tns:mapx': u'0', u'tns:offline': u'false', u'tns:underMaintenance': u'false', u'tns:mapy': u'0', u'tns:name': u'SH20 14 Lambie Drive'}, {u'tns:id': u'210', u'tns:imageUrl': u'http://www.trafficnz.info/camera/210.jpg', u'tns:viewUrl': u'http://www.trafficnz.info/camera/view/210', u'tns:description': u'Barrowcliffe Place looking west', u'tns:mapx': u'0', u'tns:offline': u'false', u'tns:underMaintenance': u'false', u'tns:mapy': u'0', u'tns:name': u'SH20 15 Barrowcliffe'}, {u'tns:id': u'211', u'tns:imageUrl': u'http://www.trafficnz.info/camera/211.jpg', u'tns:viewUrl': u'http://www.trafficnz.info/camera/view/211', u'tns:description': u'Great South Rd Looking westbound', u'tns:mapx': u'0', u'tns:offline': u'false', u'tns:underMaintenance': u'false', u'tns:mapy': u'0', u'tns:name': u'SH20 16 Great South'}]\n"
       ]
      }
     ],
     "prompt_number": 152
    },
    {
     "cell_type": "code",
     "collapsed": false,
     "input": [
      "nthere = blthere[1]"
     ],
     "language": "python",
     "metadata": {},
     "outputs": [
      {
       "ename": "NameError",
       "evalue": "name 'blthere' is not defined",
       "output_type": "pyerr",
       "traceback": [
        "\u001b[0;31m---------------------------------------------------------------------------\u001b[0m\n\u001b[0;31mNameError\u001b[0m                                 Traceback (most recent call last)",
        "\u001b[0;32m<ipython-input-153-ec04fb5738a2>\u001b[0m in \u001b[0;36m<module>\u001b[0;34m()\u001b[0m\n\u001b[0;32m----> 1\u001b[0;31m \u001b[0mnthere\u001b[0m \u001b[0;34m=\u001b[0m \u001b[0mblthere\u001b[0m\u001b[0;34m[\u001b[0m\u001b[0;36m1\u001b[0m\u001b[0;34m]\u001b[0m\u001b[0;34m\u001b[0m\u001b[0m\n\u001b[0m",
        "\u001b[0;31mNameError\u001b[0m: name 'blthere' is not defined"
       ]
      }
     ],
     "prompt_number": 153
    },
    {
     "cell_type": "code",
     "collapsed": false,
     "input": [
      "print blthere"
     ],
     "language": "python",
     "metadata": {},
     "outputs": [
      {
       "ename": "NameError",
       "evalue": "name 'blthere' is not defined",
       "output_type": "pyerr",
       "traceback": [
        "\u001b[0;31m---------------------------------------------------------------------------\u001b[0m\n\u001b[0;31mNameError\u001b[0m                                 Traceback (most recent call last)",
        "\u001b[0;32m<ipython-input-154-e0e21ce23b5e>\u001b[0m in \u001b[0;36m<module>\u001b[0;34m()\u001b[0m\n\u001b[0;32m----> 1\u001b[0;31m \u001b[0;32mprint\u001b[0m \u001b[0mblthere\u001b[0m\u001b[0;34m\u001b[0m\u001b[0m\n\u001b[0m",
        "\u001b[0;31mNameError\u001b[0m: name 'blthere' is not defined"
       ]
      }
     ],
     "prompt_number": 154
    },
    {
     "cell_type": "code",
     "collapsed": false,
     "input": [
      "blthere.keys()"
     ],
     "language": "python",
     "metadata": {},
     "outputs": [
      {
       "ename": "NameError",
       "evalue": "name 'blthere' is not defined",
       "output_type": "pyerr",
       "traceback": [
        "\u001b[0;31m---------------------------------------------------------------------------\u001b[0m\n\u001b[0;31mNameError\u001b[0m                                 Traceback (most recent call last)",
        "\u001b[0;32m<ipython-input-78-6ec7a8cee768>\u001b[0m in \u001b[0;36m<module>\u001b[0;34m()\u001b[0m\n\u001b[0;32m----> 1\u001b[0;31m \u001b[0mblthere\u001b[0m\u001b[0;34m.\u001b[0m\u001b[0mkeys\u001b[0m\u001b[0;34m(\u001b[0m\u001b[0;34m)\u001b[0m\u001b[0;34m\u001b[0m\u001b[0m\n\u001b[0m",
        "\u001b[0;31mNameError\u001b[0m: name 'blthere' is not defined"
       ]
      }
     ],
     "prompt_number": 78
    },
    {
     "cell_type": "code",
     "collapsed": false,
     "input": [
      "for nth in nthere:\n",
      "    print nthere[nth]"
     ],
     "language": "python",
     "metadata": {},
     "outputs": [
      {
       "ename": "NameError",
       "evalue": "name 'nthere' is not defined",
       "output_type": "pyerr",
       "traceback": [
        "\u001b[0;31m---------------------------------------------------------------------------\u001b[0m\n\u001b[0;31mNameError\u001b[0m                                 Traceback (most recent call last)",
        "\u001b[0;32m<ipython-input-46-f999b0beaad9>\u001b[0m in \u001b[0;36m<module>\u001b[0;34m()\u001b[0m\n\u001b[0;32m----> 1\u001b[0;31m \u001b[0;32mfor\u001b[0m \u001b[0mnth\u001b[0m \u001b[0;32min\u001b[0m \u001b[0mnthere\u001b[0m\u001b[0;34m:\u001b[0m\u001b[0;34m\u001b[0m\u001b[0m\n\u001b[0m\u001b[1;32m      2\u001b[0m     \u001b[0;32mprint\u001b[0m \u001b[0mnthere\u001b[0m\u001b[0;34m[\u001b[0m\u001b[0mnth\u001b[0m\u001b[0;34m]\u001b[0m\u001b[0;34m\u001b[0m\u001b[0m\n",
        "\u001b[0;31mNameError\u001b[0m: name 'nthere' is not defined"
       ]
      }
     ],
     "prompt_number": 46
    },
    {
     "cell_type": "code",
     "collapsed": false,
     "input": [
      "nthere[u'tns:id']"
     ],
     "language": "python",
     "metadata": {},
     "outputs": [
      {
       "ename": "NameError",
       "evalue": "name 'nthere' is not defined",
       "output_type": "pyerr",
       "traceback": [
        "\u001b[0;31m---------------------------------------------------------------------------\u001b[0m\n\u001b[0;31mNameError\u001b[0m                                 Traceback (most recent call last)",
        "\u001b[0;32m<ipython-input-47-e6bf4e6582c0>\u001b[0m in \u001b[0;36m<module>\u001b[0;34m()\u001b[0m\n\u001b[0;32m----> 1\u001b[0;31m \u001b[0mnthere\u001b[0m\u001b[0;34m[\u001b[0m\u001b[0;34mu'tns:id'\u001b[0m\u001b[0;34m]\u001b[0m\u001b[0;34m\u001b[0m\u001b[0m\n\u001b[0m",
        "\u001b[0;31mNameError\u001b[0m: name 'nthere' is not defined"
       ]
      }
     ],
     "prompt_number": 47
    },
    {
     "cell_type": "code",
     "collapsed": false,
     "input": [
      "althere = campos[u'tns:camera']"
     ],
     "language": "python",
     "metadata": {},
     "outputs": [
      {
       "ename": "NameError",
       "evalue": "name 'campos' is not defined",
       "output_type": "pyerr",
       "traceback": [
        "\u001b[0;31m---------------------------------------------------------------------------\u001b[0m\n\u001b[0;31mNameError\u001b[0m                                 Traceback (most recent call last)",
        "\u001b[0;32m<ipython-input-48-72481470d4ed>\u001b[0m in \u001b[0;36m<module>\u001b[0;34m()\u001b[0m\n\u001b[0;32m----> 1\u001b[0;31m \u001b[0malthere\u001b[0m \u001b[0;34m=\u001b[0m \u001b[0mcampos\u001b[0m\u001b[0;34m[\u001b[0m\u001b[0;34mu'tns:camera'\u001b[0m\u001b[0;34m]\u001b[0m\u001b[0;34m\u001b[0m\u001b[0m\n\u001b[0m",
        "\u001b[0;31mNameError\u001b[0m: name 'campos' is not defined"
       ]
      }
     ],
     "prompt_number": 48
    },
    {
     "cell_type": "code",
     "collapsed": false,
     "input": [
      "print althere()"
     ],
     "language": "python",
     "metadata": {},
     "outputs": [
      {
       "ename": "NameError",
       "evalue": "name 'althere' is not defined",
       "output_type": "pyerr",
       "traceback": [
        "\u001b[0;31m---------------------------------------------------------------------------\u001b[0m\n\u001b[0;31mNameError\u001b[0m                                 Traceback (most recent call last)",
        "\u001b[0;32m<ipython-input-49-072333a2010f>\u001b[0m in \u001b[0;36m<module>\u001b[0;34m()\u001b[0m\n\u001b[0;32m----> 1\u001b[0;31m \u001b[0;32mprint\u001b[0m \u001b[0malthere\u001b[0m\u001b[0;34m(\u001b[0m\u001b[0;34m)\u001b[0m\u001b[0;34m\u001b[0m\u001b[0m\n\u001b[0m",
        "\u001b[0;31mNameError\u001b[0m: name 'althere' is not defined"
       ]
      }
     ],
     "prompt_number": 49
    },
    {
     "cell_type": "code",
     "collapsed": false,
     "input": [
      "campos = newDictionary[u'tns:getCamerasResponse']"
     ],
     "language": "python",
     "metadata": {},
     "outputs": [],
     "prompt_number": 155
    },
    {
     "cell_type": "code",
     "collapsed": false,
     "input": [
      "campos.items"
     ],
     "language": "python",
     "metadata": {},
     "outputs": [
      {
       "output_type": "pyout",
       "prompt_number": 156,
       "text": [
        "<function items>"
       ]
      }
     ],
     "prompt_number": 156
    },
    {
     "cell_type": "code",
     "collapsed": false,
     "input": [
      "print 'hello world'"
     ],
     "language": "python",
     "metadata": {},
     "outputs": [
      {
       "output_type": "stream",
       "stream": "stdout",
       "text": [
        "hello world\n"
       ]
      }
     ],
     "prompt_number": 157
    },
    {
     "cell_type": "code",
     "collapsed": false,
     "input": [
      "for key, items in newDictionary.iteritems():\n",
      "    print key, items\n",
      "    newdicli.append(items)"
     ],
     "language": "python",
     "metadata": {},
     "outputs": [
      {
       "output_type": "stream",
       "stream": "stdout",
       "text": [
        "tns:getCamerasResponse {u'@xmlns:xsi': u'http://www.w3.org/2001/XMLSchema-instance', u'@xmlns:xsd': u'http://www.w3.org/2001/XMLSchema', u'tns:camera': [{u'tns:id': u'130', u'tns:imageUrl': u'http://www.trafficnz.info/camera/130.jpg', u'tns:viewUrl': u'http://www.trafficnz.info/camera/view/130', u'tns:description': u'Bond St looking east', u'tns:mapx': u'142', u'tns:offline': u'false', u'tns:underMaintenance': u'false', u'tns:congestionLocation': [{u'tns:name': u'St Lukes Rd - Newton Rd', u'tns:direction': u'Eastbound', u'tns:congestion': u'Free Flow'}, {u'tns:name': u'Newton Rd - St Lukes Rd', u'tns:direction': u'Westbound', u'tns:congestion': u'Free Flow'}], u'tns:mapy': u'229', u'tns:name': u'SH16 1 Bond St'}, {u'tns:id': u'140', u'tns:imageUrl': u'http://www.trafficnz.info/camera/140.jpg', u'tns:viewUrl': u'http://www.trafficnz.info/camera/view/140', u'tns:description': u'Gt North Road looking west', u'tns:mapx': u'113', u'tns:offline': u'false', u'tns:underMaintenance': u'false', u'tns:congestionLocation': [{u'tns:name': u'Rosebank Rd - Great Nth Rd Waterview', u'tns:direction': u'Eastbound', u'tns:congestion': u'Free Flow'}, {u'tns:name': u'Great Nth Rd Waterview - Rosebank Rd', u'tns:direction': u'Westbound', u'tns:congestion': u'Free Flow'}], u'tns:mapy': u'232', u'tns:name': u'SH16 2 Gt North Rd'}, {u'tns:id': u'150', u'tns:imageUrl': u'http://www.trafficnz.info/camera/150.jpg', u'tns:viewUrl': u'http://www.trafficnz.info/camera/view/150', u'tns:description': u'Te Atatu Road looking east', u'tns:mapx': u'70', u'tns:offline': u'false', u'tns:underMaintenance': u'false', u'tns:congestionLocation': [{u'tns:name': u'Te Atatu Rd - Rosebank Rd', u'tns:direction': u'Eastbound', u'tns:congestion': u'Free Flow'}, {u'tns:name': u'Rosebank Rd - Te Atatu Rd', u'tns:direction': u'Westbound', u'tns:congestion': u'Free Flow'}], u'tns:mapy': u'216', u'tns:name': u'SH16 3 Te Atatu Rd'}, {u'tns:id': u'160', u'tns:imageUrl': u'http://www.trafficnz.info/camera/160.jpg', u'tns:viewUrl': u'http://www.trafficnz.info/camera/view/160', u'tns:description': u'Lincoln Rd  looking west', u'tns:mapx': u'52', u'tns:offline': u'false', u'tns:underMaintenance': u'false', u'tns:congestionLocation': [{u'tns:name': u'Te Atatu Rd - Lincoln Rd', u'tns:direction': u'Westbound', u'tns:congestion': u'Free Flow'}, {u'tns:name': u'Lincoln Rd - Te Atatu Rd', u'tns:direction': u'Eastbound', u'tns:congestion': u'Free Flow'}], u'tns:mapy': u'207', u'tns:name': u'SH16 4 Lincoln Rd E'}, {u'tns:id': u'170', u'tns:imageUrl': u'http://www.trafficnz.info/camera/170.jpg', u'tns:viewUrl': u'http://www.trafficnz.info/camera/view/170', u'tns:description': u'Lincoln Rd looking east', u'tns:mapx': u'35', u'tns:offline': u'false', u'tns:underMaintenance': u'false', u'tns:congestionLocation': [{u'tns:name': u'Lincoln Rd - Royal Rd', u'tns:direction': u'Westbound', u'tns:congestion': u'Free Flow'}, {u'tns:name': u'Royal Rd - Lincoln Rd', u'tns:direction': u'Eastbound', u'tns:congestion': u'Free Flow'}], u'tns:mapy': u'207', u'tns:name': u'SH16 5 Lincoln Rd W'}, {u'tns:id': u'270', u'tns:imageUrl': u'http://www.trafficnz.info/camera/270.jpg', u'tns:viewUrl': u'http://www.trafficnz.info/camera/view/270', u'tns:description': u'Hobsonville looking West towards Kumeu', u'tns:mapx': u'0', u'tns:offline': u'false', u'tns:underMaintenance': u'false', u'tns:mapy': u'0', u'tns:name': u'SH16 6 Hobsonville W'}, {u'tns:id': u'271', u'tns:imageUrl': u'http://www.trafficnz.info/camera/271.jpg', u'tns:viewUrl': u'http://www.trafficnz.info/camera/view/271', u'tns:description': u'Hobsonville Road looking East', u'tns:mapx': u'0', u'tns:offline': u'false', u'tns:underMaintenance': u'false', u'tns:mapy': u'0', u'tns:name': u'SH16 7 Hobsonville E'}, {u'tns:id': u'221', u'tns:imageUrl': u'http://www.trafficnz.info/camera/221.jpg', u'tns:viewUrl': u'http://www.trafficnz.info/camera/view/221', u'tns:description': u'Trig Rd looking west', u'tns:mapx': u'0', u'tns:offline': u'false', u'tns:underMaintenance': u'false', u'tns:mapy': u'0', u'tns:name': u'SH18 Trig Rd'}, {u'tns:id': u'222', u'tns:imageUrl': u'http://www.trafficnz.info/camera/222.jpg', u'tns:viewUrl': u'http://www.trafficnz.info/camera/view/222', u'tns:description': u'Upper harbour motorway looking west', u'tns:mapx': u'0', u'tns:offline': u'false', u'tns:underMaintenance': u'false', u'tns:mapy': u'0', u'tns:name': u'SH18 Waiahora Creek'}, {u'tns:id': u'223', u'tns:imageUrl': u'http://www.trafficnz.info/camera/223.jpg', u'tns:viewUrl': u'http://www.trafficnz.info/camera/view/223', u'tns:description': u'Upper harbour motorway looking East', u'tns:mapx': u'0', u'tns:offline': u'false', u'tns:underMaintenance': u'false', u'tns:mapy': u'0', u'tns:name': u'SH18 Brigham Creek'}, {u'tns:id': u'224', u'tns:imageUrl': u'http://www.trafficnz.info/camera/224.jpg', u'tns:viewUrl': u'http://www.trafficnz.info/camera/view/224', u'tns:description': u'Upper harbour motorway looking west', u'tns:mapx': u'0', u'tns:offline': u'false', u'tns:underMaintenance': u'false', u'tns:mapy': u'0', u'tns:name': u'SH18 Sinton Rd'}, {u'tns:id': u'225', u'tns:imageUrl': u'http://www.trafficnz.info/camera/225.jpg', u'tns:viewUrl': u'http://www.trafficnz.info/camera/view/225', u'tns:description': u'Upper harbour motorway looking east', u'tns:mapx': u'0', u'tns:offline': u'false', u'tns:underMaintenance': u'false', u'tns:mapy': u'0', u'tns:name': u'SH18 Squadron Dr'}, {u'tns:id': u'171', u'tns:imageUrl': u'http://www.trafficnz.info/camera/171.jpg', u'tns:viewUrl': u'http://www.trafficnz.info/camera/view/171', u'tns:description': u'Tauhinu bridge looking east', u'tns:mapx': u'60', u'tns:offline': u'false', u'tns:underMaintenance': u'false', u'tns:mapy': u'207', u'tns:name': u'SH18 6 Tauhinu BRG'}, {u'tns:id': u'172', u'tns:imageUrl': u'http://www.trafficnz.info/camera/172.jpg', u'tns:viewUrl': u'http://www.trafficnz.info/camera/view/172', u'tns:description': u'Albany Highway Looking East', u'tns:mapx': u'35', u'tns:offline': u'false', u'tns:underMaintenance': u'false', u'tns:mapy': u'207', u'tns:name': u'SH18 7 Albany HWY'}, {u'tns:id': u'173', u'tns:imageUrl': u'http://www.trafficnz.info/camera/173.jpg', u'tns:viewUrl': u'http://www.trafficnz.info/camera/view/173', u'tns:description': u'Tauhinu East Looking East', u'tns:mapx': u'35', u'tns:offline': u'false', u'tns:underMaintenance': u'false', u'tns:mapy': u'207', u'tns:name': u'SH18 8 Tauhinu East'}, {u'tns:id': u'174', u'tns:imageUrl': u'http://www.trafficnz.info/camera/174.jpg', u'tns:viewUrl': u'http://www.trafficnz.info/camera/view/174', u'tns:description': u'Paul matthews looking east', u'tns:mapx': u'35', u'tns:offline': u'false', u'tns:underMaintenance': u'false', u'tns:mapy': u'207', u'tns:name': u'SH18 9 Paul Matthews'}, {u'tns:id': u'175', u'tns:imageUrl': u'http://www.trafficnz.info/camera/175.jpg', u'tns:viewUrl': u'http://www.trafficnz.info/camera/view/175', u'tns:description': u'Greenhithe Rd looking east', u'tns:mapx': u'35', u'tns:offline': u'false', u'tns:underMaintenance': u'false', u'tns:mapy': u'207', u'tns:name': u'SH18 10 Greenhithe'}, {u'tns:id': u'176', u'tns:imageUrl': u'http://www.trafficnz.info/camera/176.jpg', u'tns:viewUrl': u'http://www.trafficnz.info/camera/view/176', u'tns:description': u'George deane looking east', u'tns:mapx': u'35', u'tns:offline': u'false', u'tns:underMaintenance': u'false', u'tns:mapy': u'207', u'tns:name': u'SH18 11 George Deane'}, {u'tns:id': u'177', u'tns:imageUrl': u'http://www.trafficnz.info/camera/177.jpg', u'tns:viewUrl': u'http://www.trafficnz.info/camera/view/177', u'tns:description': u'Upper harbour looking east', u'tns:mapx': u'35', u'tns:offline': u'false', u'tns:underMaintenance': u'false', u'tns:mapy': u'207', u'tns:name': u'SH18 12 Upper Hbr CW'}, {u'tns:id': u'178', u'tns:imageUrl': u'http://www.trafficnz.info/camera/178.jpg', u'tns:viewUrl': u'http://www.trafficnz.info/camera/view/178', u'tns:description': u'Wicklam Lane looking west', u'tns:mapx': u'35', u'tns:offline': u'false', u'tns:underMaintenance': u'false', u'tns:mapy': u'207', u'tns:name': u'SH18 13 Wicklam Lane'}, {u'tns:id': u'10', u'tns:imageUrl': u'http://www.trafficnz.info/camera/10.jpg', u'tns:viewUrl': u'http://www.trafficnz.info/camera/view/10', u'tns:description': u'Greville road looking south', u'tns:mapx': u'125', u'tns:offline': u'false', u'tns:underMaintenance': u'false', u'tns:congestionLocation': [{u'tns:name': u'Upper Harb Hwy - Oteha Valley Rd', u'tns:direction': u'Northbound', u'tns:congestion': u'Free Flow'}, {u'tns:name': u'Oteha Valley Rd - Upper Harb Hwy', u'tns:direction': u'Southbound', u'tns:congestion': u'Free Flow'}], u'tns:mapy': u'71', u'tns:name': u'SH1 1 Greville Rd'}, {u'tns:id': u'20', u'tns:imageUrl': u'http://www.trafficnz.info/camera/20.jpg', u'tns:viewUrl': u'http://www.trafficnz.info/camera/view/20', u'tns:description': u'Tristram Avenue looking south', u'tns:mapx': u'148', u'tns:offline': u'false', u'tns:underMaintenance': u'false', u'tns:congestionLocation': [{u'tns:name': u'Tristram Ave - Esmonde Rd', u'tns:direction': u'Southbound', u'tns:congestion': u'Free Flow'}, {u'tns:name': u'Esmonde Rd - Tristram Ave', u'tns:direction': u'Northbound', u'tns:congestion': u'Free Flow'}], u'tns:mapy': u'118', u'tns:name': u'SH1 2 Tristram Ave'}, {u'tns:id': u'30', u'tns:imageUrl': u'http://www.trafficnz.info/camera/30.jpg', u'tns:viewUrl': u'http://www.trafficnz.info/camera/view/30', u'tns:description': u'Northcote Rd looking north', u'tns:mapx': u'156', u'tns:offline': u'false', u'tns:underMaintenance': u'false', u'tns:congestionLocation': [{u'tns:name': u'Tristram Ave - Esmonde Rd', u'tns:direction': u'Southbound', u'tns:congestion': u'Free Flow'}, {u'tns:name': u'Esmonde Rd - Tristram Ave', u'tns:direction': u'Northbound', u'tns:congestion': u'Free Flow'}], u'tns:mapy': u'141', u'tns:name': u'SH1 3 Northcote Rd'}, {u'tns:id': u'40', u'tns:imageUrl': u'http://www.trafficnz.info/camera/40.jpg', u'tns:viewUrl': u'http://www.trafficnz.info/camera/view/40', u'tns:description': u'Esmonde Rd looking south', u'tns:mapx': u'178', u'tns:offline': u'false', u'tns:underMaintenance': u'false', u'tns:congestionLocation': [{u'tns:name': u'Esmonde Rd - Onewa', u'tns:direction': u'Southbound', u'tns:congestion': u'Free Flow'}, {u'tns:name': u'Stafford Rd - Esmonde Rd', u'tns:direction': u'Northbound', u'tns:congestion': u'Free Flow'}], u'tns:mapy': u'146', u'tns:name': u'SH1 4 Esmonde Rd'}, {u'tns:id': u'50', u'tns:imageUrl': u'http://www.trafficnz.info/camera/50.jpg', u'tns:viewUrl': u'http://www.trafficnz.info/camera/view/50', u'tns:description': u'Onewa Rd looking south', u'tns:mapx': u'157', u'tns:offline': u'false', u'tns:underMaintenance': u'false', u'tns:congestionLocation': [{u'tns:name': u'Harbour Bridge', u'tns:direction': u'Southbound', u'tns:congestion': u'Free Flow'}, {u'tns:name': u'Stafford Rd - Esmonde Rd', u'tns:direction': u'Northbound', u'tns:congestion': u'Free Flow'}], u'tns:mapy': u'162', u'tns:name': u'SH1 5 Onewa Rd'}, {u'tns:id': u'215', u'tns:imageUrl': u'http://www.trafficnz.info/camera/215.jpg', u'tns:viewUrl': u'http://www.trafficnz.info/camera/view/215', u'tns:description': u'Johnstone hill tunnels looking south', u'tns:mapx': u'0', u'tns:offline': u'false', u'tns:underMaintenance': u'false', u'tns:mapy': u'0', u'tns:name': u'SH1 Alpurt Web cam'}, {u'tns:id': u'212', u'tns:imageUrl': u'http://www.trafficnz.info/camera/212.jpg', u'tns:viewUrl': u'http://www.trafficnz.info/camera/view/212', u'tns:description': u'Goodwood heights looking south', u'tns:mapx': u'0', u'tns:offline': u'false', u'tns:underMaintenance': u'false', u'tns:mapy': u'0', u'tns:name': u'SH1 17 Goodwood'}, {u'tns:id': u'214', u'tns:imageUrl': u'http://www.trafficnz.info/camera/214.jpg', u'tns:viewUrl': u'http://www.trafficnz.info/camera/view/214', u'tns:description': u'Rainbows End looking north at SH1 and SH20 link', u'tns:mapx': u'0', u'tns:offline': u'false', u'tns:underMaintenance': u'false', u'tns:mapy': u'0', u'tns:name': u'SH1 18 Rainbows End'}, {u'tns:id': u'60', u'tns:imageUrl': u'http://www.trafficnz.info/camera/60.jpg', u'tns:viewUrl': u'http://www.trafficnz.info/camera/view/60', u'tns:description': u'Central motorway junction looking south at the link between state highways 1 and 16', u'tns:mapx': u'162', u'tns:offline': u'false', u'tns:underMaintenance': u'false', u'tns:congestionLocation': {u'tns:name': u'Nelson St - Gillies Ave', u'tns:direction': u'Southbound', u'tns:congestion': u'Free Flow'}, u'tns:mapy': u'217', u'tns:name': u'SH1 1 CMJ'}, {u'tns:id': u'70', u'tns:imageUrl': u'http://www.trafficnz.info/camera/70.jpg', u'tns:viewUrl': u'http://www.trafficnz.info/camera/view/70', u'tns:description': u'Southern motorway at newmarket looking south towards the Market  Rd overbridge', u'tns:mapx': u'183', u'tns:offline': u'false', u'tns:underMaintenance': u'false', u'tns:congestionLocation': [{u'tns:name': u'Gillies Ave - Greenlane', u'tns:direction': u'Southbound', u'tns:congestion': u'Free Flow'}, {u'tns:name': u'Greenlane - Gillies Ave', u'tns:direction': u'Northbound', u'tns:congestion': u'Free Flow'}], u'tns:mapy': u'241', u'tns:name': u'SH1 2 Market Rd'}, {u'tns:id': u'80', u'tns:imageUrl': u'http://www.trafficnz.info/camera/80.jpg', u'tns:viewUrl': u'http://www.trafficnz.info/camera/view/80', u'tns:description': u'Greenlane Rd looking north', u'tns:mapx': u'198', u'tns:offline': u'false', u'tns:underMaintenance': u'false', u'tns:congestionLocation': [{u'tns:name': u'Gillies Ave - Greenlane', u'tns:direction': u'Southbound', u'tns:congestion': u'Free Flow'}, {u'tns:name': u'Greenlane - Gillies Ave', u'tns:direction': u'Northbound', u'tns:congestion': u'Free Flow'}], u'tns:mapy': u'262', u'tns:name': u'SH1 3 Greenlane Rd'}, {u'tns:id': u'90', u'tns:imageUrl': u'http://www.trafficnz.info/camera/90.jpg', u'tns:viewUrl': u'http://www.trafficnz.info/camera/view/90', u'tns:description': u'South eastern highway looking south', u'tns:mapx': u'219', u'tns:offline': u'false', u'tns:underMaintenance': u'false', u'tns:congestionLocation': [{u'tns:name': u'Mt Wellington Hway - SE Highway', u'tns:direction': u'Northbound', u'tns:congestion': u'Free Flow'}, {u'tns:name': u'SE Highway - Mt Wellington Hway', u'tns:direction': u'Southbound', u'tns:congestion': u'Moderate'}], u'tns:mapy': u'278', u'tns:name': u'SH1 4 SE Highway'}, {u'tns:id': u'100', u'tns:imageUrl': u'http://www.trafficnz.info/camera/100.jpg', u'tns:viewUrl': u'http://www.trafficnz.info/camera/view/100', u'tns:description': u'Redoubt Rd looking north', u'tns:mapx': u'254', u'tns:offline': u'false', u'tns:underMaintenance': u'false', u'tns:congestionLocation': [{u'tns:name': u'Redoubt Rd - Hill Rd', u'tns:direction': u'Southbound', u'tns:congestion': u'Free Flow'}, {u'tns:name': u'Hill Rd - Redoubt Rd', u'tns:direction': u'Northbound', u'tns:congestion': u'Free Flow'}], u'tns:mapy': u'341', u'tns:name': u'SH1 5 Redoubt Rd'}, {u'tns:id': u'110', u'tns:imageUrl': u'http://www.trafficnz.info/camera/110.jpg', u'tns:viewUrl': u'http://www.trafficnz.info/camera/view/110', u'tns:description': u'Bairds Rd looking north', u'tns:mapx': u'275', u'tns:offline': u'false', u'tns:underMaintenance': u'false', u'tns:congestionLocation': [{u'tns:name': u'East Tamaki Rd - Princes St', u'tns:direction': u'Northbound', u'tns:congestion': u'Free Flow'}, {u'tns:name': u'Princes St - East Tamaki Rd', u'tns:direction': u'Southbound', u'tns:congestion': u'Free Flow'}], u'tns:mapy': u'383', u'tns:name': u'SH1 6 Bairds Rd'}, {u'tns:id': u'120', u'tns:imageUrl': u'http://www.trafficnz.info/camera/120.jpg', u'tns:viewUrl': u'http://www.trafficnz.info/camera/view/120', u'tns:description': u'Alfriston Rd looking north', u'tns:mapx': u'291', u'tns:offline': u'false', u'tns:underMaintenance': u'false', u'tns:congestionLocation': [{u'tns:name': u'Takanini - Hill Rd', u'tns:direction': u'Northbound', u'tns:congestion': u'Free Flow'}, {u'tns:name': u'Hill Rd - Takanini', u'tns:direction': u'Southbound', u'tns:congestion': u'Free Flow'}], u'tns:mapy': u'411', u'tns:name': u'SH1 7 Alfriston Rd'}, {u'tns:id': u'121', u'tns:imageUrl': u'http://www.trafficnz.info/camera/121.jpg', u'tns:viewUrl': u'http://www.trafficnz.info/camera/view/121', u'tns:description': u'Takanini looking south', u'tns:mapx': u'290', u'tns:offline': u'false', u'tns:underMaintenance': u'false', u'tns:mapy': u'380', u'tns:name': u'SH1 8 Takanini'}, {u'tns:id': u'122', u'tns:imageUrl': u'http://www.trafficnz.info/camera/122.jpg', u'tns:viewUrl': u'http://www.trafficnz.info/camera/view/122', u'tns:description': u'Walter-Strevens Drive looking south', u'tns:mapx': u'285', u'tns:offline': u'false', u'tns:underMaintenance': u'false', u'tns:mapy': u'400', u'tns:name': u'SH1 9 Walter Streven'}, {u'tns:id': u'123', u'tns:imageUrl': u'http://www.trafficnz.info/camera/123.jpg', u'tns:viewUrl': u'http://www.trafficnz.info/camera/view/123', u'tns:description': u'Pahurehure looking south', u'tns:mapx': u'265', u'tns:offline': u'false', u'tns:underMaintenance': u'false', u'tns:mapy': u'410', u'tns:name': u'SH1 10 Pahurehure'}, {u'tns:id': u'124', u'tns:imageUrl': u'http://www.trafficnz.info/camera/124.jpg', u'tns:viewUrl': u'http://www.trafficnz.info/camera/view/124', u'tns:description': u'Rushgreen Ave looking south', u'tns:mapx': u'285', u'tns:offline': u'false', u'tns:underMaintenance': u'false', u'tns:mapy': u'420', u'tns:name': u'SH1 11 Rushgreen Ave'}, {u'tns:id': u'125', u'tns:imageUrl': u'http://www.trafficnz.info/camera/125.jpg', u'tns:viewUrl': u'http://www.trafficnz.info/camera/view/125', u'tns:description': u'Park estate looking south', u'tns:mapx': u'300', u'tns:offline': u'false', u'tns:underMaintenance': u'false', u'tns:mapy': u'430', u'tns:name': u'SH1 12 Park Estate'}, {u'tns:id': u'126', u'tns:imageUrl': u'http://www.trafficnz.info/camera/126.jpg', u'tns:viewUrl': u'http://www.trafficnz.info/camera/view/126', u'tns:description': u'Slippery Creek looking  south', u'tns:mapx': u'286', u'tns:offline': u'false', u'tns:underMaintenance': u'false', u'tns:mapy': u'445', u'tns:name': u'SH1 13 Slippery Crk'}, {u'tns:id': u'274', u'tns:imageUrl': u'http://www.trafficnz.info/camera/274.jpg', u'tns:viewUrl': u'http://www.trafficnz.info/camera/view/274', u'tns:description': u'Montgomerie Rd looking east', u'tns:mapx': u'0', u'tns:offline': u'false', u'tns:underMaintenance': u'false', u'tns:mapy': u'0', u'tns:name': u'SH20A Montgomerie Rd'}, {u'tns:id': u'275', u'tns:imageUrl': u'http://www.trafficnz.info/camera/275.jpg', u'tns:viewUrl': u'http://www.trafficnz.info/camera/view/275', u'tns:description': u'Kirkbride Rd looking east', u'tns:mapx': u'0', u'tns:offline': u'false', u'tns:underMaintenance': u'false', u'tns:mapy': u'0', u'tns:name': u'SH20A Kirkbride Road'}, {u'tns:id': u'276', u'tns:imageUrl': u'http://www.trafficnz.info/camera/276.jpg', u'tns:viewUrl': u'http://www.trafficnz.info/camera/view/276', u'tns:description': u'Bader Drive looking east', u'tns:mapx': u'0', u'tns:offline': u'false', u'tns:underMaintenance': u'false', u'tns:mapy': u'0', u'tns:name': u'SH20A Bader Drive'}, {u'tns:id': u'272', u'tns:imageUrl': u'http://www.trafficnz.info/camera/272.jpg', u'tns:viewUrl': u'http://www.trafficnz.info/camera/view/272', u'tns:description': u'Prices Rd looking east', u'tns:mapx': u'0', u'tns:offline': u'false', u'tns:underMaintenance': u'false', u'tns:mapy': u'0', u'tns:name': u'SH20B Prices Road'}, {u'tns:id': u'273', u'tns:imageUrl': u'http://www.trafficnz.info/camera/273.jpg', u'tns:viewUrl': u'http://www.trafficnz.info/camera/view/273', u'tns:description': u'Waokauri Creek looking west', u'tns:mapx': u'0', u'tns:offline': u'false', u'tns:underMaintenance': u'false', u'tns:mapy': u'0', u'tns:name': u'SH20B Waokauri Creek'}, {u'tns:id': u'190', u'tns:imageUrl': u'http://www.trafficnz.info/camera/190.jpg', u'tns:viewUrl': u'http://www.trafficnz.info/camera/view/190', u'tns:description': u'Queenstown Rd looking south', u'tns:mapx': u'35', u'tns:offline': u'false', u'tns:underMaintenance': u'false', u'tns:mapy': u'207', u'tns:name': u'SH20 1 Queenstown Rd'}, {u'tns:id': u'191', u'tns:imageUrl': u'http://www.trafficnz.info/camera/191.jpg', u'tns:viewUrl': u'http://www.trafficnz.info/camera/view/191', u'tns:description': u'Hillsborough Rd looking south', u'tns:mapx': u'35', u'tns:offline': u'false', u'tns:underMaintenance': u'false', u'tns:mapy': u'207', u'tns:name': u'SH20 2 Hillsborough'}, {u'tns:id': u'192', u'tns:imageUrl': u'http://www.trafficnz.info/camera/192.jpg', u'tns:viewUrl': u'http://www.trafficnz.info/camera/view/192', u'tns:description': u'Melrose looking south', u'tns:mapx': u'35', u'tns:offline': u'false', u'tns:underMaintenance': u'false', u'tns:mapy': u'207', u'tns:name': u'SH20 3 Melrose'}, {u'tns:id': u'193', u'tns:imageUrl': u'http://www.trafficnz.info/camera/193.jpg', u'tns:viewUrl': u'http://www.trafficnz.info/camera/view/193', u'tns:description': u'Dominion Rd looking south', u'tns:mapx': u'35', u'tns:offline': u'false', u'tns:underMaintenance': u'false', u'tns:mapy': u'207', u'tns:name': u'SH20 4 Dominion Rd'}, {u'tns:id': u'194', u'tns:imageUrl': u'http://www.trafficnz.info/camera/194.jpg', u'tns:viewUrl': u'http://www.trafficnz.info/camera/view/194', u'tns:description': u'Sandringham looking South', u'tns:mapx': u'35', u'tns:offline': u'false', u'tns:underMaintenance': u'false', u'tns:mapy': u'207', u'tns:name': u'SH20 5 Sandringham'}, {u'tns:id': u'201', u'tns:imageUrl': u'http://www.trafficnz.info/camera/201.jpg', u'tns:viewUrl': u'http://www.trafficnz.info/camera/view/201', u'tns:description': u'Gloucester Park looking north', u'tns:mapx': u'0', u'tns:offline': u'false', u'tns:underMaintenance': u'false', u'tns:mapy': u'0', u'tns:name': u'SH20 6 Gloucester Pk'}, {u'tns:id': u'202', u'tns:imageUrl': u'http://www.trafficnz.info/camera/202.jpg', u'tns:viewUrl': u'http://www.trafficnz.info/camera/view/202', u'tns:description': u'Onehunga wharf looking north', u'tns:mapx': u'0', u'tns:offline': u'false', u'tns:underMaintenance': u'false', u'tns:mapy': u'0', u'tns:name': u'SH20 7 Onehunga'}, {u'tns:id': u'203', u'tns:imageUrl': u'http://www.trafficnz.info/camera/203.jpg', u'tns:viewUrl': u'http://www.trafficnz.info/camera/view/203', u'tns:description': u'Rimu Rd looking north', u'tns:mapx': u'0', u'tns:offline': u'false', u'tns:underMaintenance': u'false', u'tns:mapy': u'0', u'tns:name': u'SH20 8 Rimu Rd'}, {u'tns:id': u'204', u'tns:imageUrl': u'http://www.trafficnz.info/camera/204.jpg', u'tns:viewUrl': u'http://www.trafficnz.info/camera/view/204', u'tns:description': u'Crawford Ave looking north', u'tns:mapx': u'0', u'tns:offline': u'false', u'tns:underMaintenance': u'false', u'tns:mapy': u'0', u'tns:name': u'SH20 9 Crawford Ave'}, {u'tns:id': u'205', u'tns:imageUrl': u'http://www.trafficnz.info/camera/205.jpg', u'tns:viewUrl': u'http://www.trafficnz.info/camera/view/205', u'tns:description': u'Coronation Rd looking east', u'tns:mapx': u'0', u'tns:offline': u'false', u'tns:underMaintenance': u'false', u'tns:mapy': u'0', u'tns:name': u'SH20 Coronation Rd'}, {u'tns:id': u'206', u'tns:imageUrl': u'http://www.trafficnz.info/camera/206.jpg', u'tns:viewUrl': u'http://www.trafficnz.info/camera/view/206', u'tns:description': u'Puhinui road interchange looking south', u'tns:mapx': u'0', u'tns:offline': u'false', u'tns:underMaintenance': u'false', u'tns:mapy': u'0', u'tns:name': u'SH20 11 Puhinui Rd'}, {u'tns:id': u'207', u'tns:imageUrl': u'http://www.trafficnz.info/camera/207.jpg', u'tns:viewUrl': u'http://www.trafficnz.info/camera/view/207', u'tns:description': u'Nesdale Rd looking east', u'tns:mapx': u'0', u'tns:offline': u'false', u'tns:underMaintenance': u'false', u'tns:mapy': u'0', u'tns:name': u'SH20 12 Nesdale Road'}, {u'tns:id': u'208', u'tns:imageUrl': u'http://www.trafficnz.info/camera/208.jpg', u'tns:viewUrl': u'http://www.trafficnz.info/camera/view/208', u'tns:description': u'Plunket Ave looking south', u'tns:mapx': u'0', u'tns:offline': u'false', u'tns:underMaintenance': u'false', u'tns:mapy': u'0', u'tns:name': u'SH20 13 Plunket Ave'}, {u'tns:id': u'209', u'tns:imageUrl': u'http://www.trafficnz.info/camera/209.jpg', u'tns:viewUrl': u'http://www.trafficnz.info/camera/view/209', u'tns:description': u'Lambie Drive looking south', u'tns:mapx': u'0', u'tns:offline': u'false', u'tns:underMaintenance': u'false', u'tns:mapy': u'0', u'tns:name': u'SH20 14 Lambie Drive'}, {u'tns:id': u'210', u'tns:imageUrl': u'http://www.trafficnz.info/camera/210.jpg', u'tns:viewUrl': u'http://www.trafficnz.info/camera/view/210', u'tns:description': u'Barrowcliffe Place looking west', u'tns:mapx': u'0', u'tns:offline': u'false', u'tns:underMaintenance': u'false', u'tns:mapy': u'0', u'tns:name': u'SH20 15 Barrowcliffe'}, {u'tns:id': u'211', u'tns:imageUrl': u'http://www.trafficnz.info/camera/211.jpg', u'tns:viewUrl': u'http://www.trafficnz.info/camera/view/211', u'tns:description': u'Great South Rd Looking westbound', u'tns:mapx': u'0', u'tns:offline': u'false', u'tns:underMaintenance': u'false', u'tns:mapy': u'0', u'tns:name': u'SH20 16 Great South'}], u'@xmlns:rem': u'http://remote.service.callcenter.nzta.govt.nz', u'@xmlns:tns': u'https://infoconnect.highwayinfo.govt.nz/schemas/camera'}\n"
       ]
      }
     ],
     "prompt_number": 158
    },
    {
     "cell_type": "code",
     "collapsed": false,
     "input": [
      "newDictionary.values()"
     ],
     "language": "python",
     "metadata": {},
     "outputs": [
      {
       "output_type": "pyout",
       "prompt_number": 159,
       "text": [
        "[{u'@xmlns:rem': u'http://remote.service.callcenter.nzta.govt.nz',\n",
        "  u'@xmlns:tns': u'https://infoconnect.highwayinfo.govt.nz/schemas/camera',\n",
        "  u'@xmlns:xsd': u'http://www.w3.org/2001/XMLSchema',\n",
        "  u'@xmlns:xsi': u'http://www.w3.org/2001/XMLSchema-instance',\n",
        "  u'tns:camera': [{u'tns:congestionLocation': [{u'tns:congestion': u'Free Flow',\n",
        "      u'tns:direction': u'Eastbound',\n",
        "      u'tns:name': u'St Lukes Rd - Newton Rd'},\n",
        "     {u'tns:congestion': u'Free Flow',\n",
        "      u'tns:direction': u'Westbound',\n",
        "      u'tns:name': u'Newton Rd - St Lukes Rd'}],\n",
        "    u'tns:description': u'Bond St looking east',\n",
        "    u'tns:id': u'130',\n",
        "    u'tns:imageUrl': u'http://www.trafficnz.info/camera/130.jpg',\n",
        "    u'tns:mapx': u'142',\n",
        "    u'tns:mapy': u'229',\n",
        "    u'tns:name': u'SH16 1 Bond St',\n",
        "    u'tns:offline': u'false',\n",
        "    u'tns:underMaintenance': u'false',\n",
        "    u'tns:viewUrl': u'http://www.trafficnz.info/camera/view/130'},\n",
        "   {u'tns:congestionLocation': [{u'tns:congestion': u'Free Flow',\n",
        "      u'tns:direction': u'Eastbound',\n",
        "      u'tns:name': u'Rosebank Rd - Great Nth Rd Waterview'},\n",
        "     {u'tns:congestion': u'Free Flow',\n",
        "      u'tns:direction': u'Westbound',\n",
        "      u'tns:name': u'Great Nth Rd Waterview - Rosebank Rd'}],\n",
        "    u'tns:description': u'Gt North Road looking west',\n",
        "    u'tns:id': u'140',\n",
        "    u'tns:imageUrl': u'http://www.trafficnz.info/camera/140.jpg',\n",
        "    u'tns:mapx': u'113',\n",
        "    u'tns:mapy': u'232',\n",
        "    u'tns:name': u'SH16 2 Gt North Rd',\n",
        "    u'tns:offline': u'false',\n",
        "    u'tns:underMaintenance': u'false',\n",
        "    u'tns:viewUrl': u'http://www.trafficnz.info/camera/view/140'},\n",
        "   {u'tns:congestionLocation': [{u'tns:congestion': u'Free Flow',\n",
        "      u'tns:direction': u'Eastbound',\n",
        "      u'tns:name': u'Te Atatu Rd - Rosebank Rd'},\n",
        "     {u'tns:congestion': u'Free Flow',\n",
        "      u'tns:direction': u'Westbound',\n",
        "      u'tns:name': u'Rosebank Rd - Te Atatu Rd'}],\n",
        "    u'tns:description': u'Te Atatu Road looking east',\n",
        "    u'tns:id': u'150',\n",
        "    u'tns:imageUrl': u'http://www.trafficnz.info/camera/150.jpg',\n",
        "    u'tns:mapx': u'70',\n",
        "    u'tns:mapy': u'216',\n",
        "    u'tns:name': u'SH16 3 Te Atatu Rd',\n",
        "    u'tns:offline': u'false',\n",
        "    u'tns:underMaintenance': u'false',\n",
        "    u'tns:viewUrl': u'http://www.trafficnz.info/camera/view/150'},\n",
        "   {u'tns:congestionLocation': [{u'tns:congestion': u'Free Flow',\n",
        "      u'tns:direction': u'Westbound',\n",
        "      u'tns:name': u'Te Atatu Rd - Lincoln Rd'},\n",
        "     {u'tns:congestion': u'Free Flow',\n",
        "      u'tns:direction': u'Eastbound',\n",
        "      u'tns:name': u'Lincoln Rd - Te Atatu Rd'}],\n",
        "    u'tns:description': u'Lincoln Rd  looking west',\n",
        "    u'tns:id': u'160',\n",
        "    u'tns:imageUrl': u'http://www.trafficnz.info/camera/160.jpg',\n",
        "    u'tns:mapx': u'52',\n",
        "    u'tns:mapy': u'207',\n",
        "    u'tns:name': u'SH16 4 Lincoln Rd E',\n",
        "    u'tns:offline': u'false',\n",
        "    u'tns:underMaintenance': u'false',\n",
        "    u'tns:viewUrl': u'http://www.trafficnz.info/camera/view/160'},\n",
        "   {u'tns:congestionLocation': [{u'tns:congestion': u'Free Flow',\n",
        "      u'tns:direction': u'Westbound',\n",
        "      u'tns:name': u'Lincoln Rd - Royal Rd'},\n",
        "     {u'tns:congestion': u'Free Flow',\n",
        "      u'tns:direction': u'Eastbound',\n",
        "      u'tns:name': u'Royal Rd - Lincoln Rd'}],\n",
        "    u'tns:description': u'Lincoln Rd looking east',\n",
        "    u'tns:id': u'170',\n",
        "    u'tns:imageUrl': u'http://www.trafficnz.info/camera/170.jpg',\n",
        "    u'tns:mapx': u'35',\n",
        "    u'tns:mapy': u'207',\n",
        "    u'tns:name': u'SH16 5 Lincoln Rd W',\n",
        "    u'tns:offline': u'false',\n",
        "    u'tns:underMaintenance': u'false',\n",
        "    u'tns:viewUrl': u'http://www.trafficnz.info/camera/view/170'},\n",
        "   {u'tns:description': u'Hobsonville looking West towards Kumeu',\n",
        "    u'tns:id': u'270',\n",
        "    u'tns:imageUrl': u'http://www.trafficnz.info/camera/270.jpg',\n",
        "    u'tns:mapx': u'0',\n",
        "    u'tns:mapy': u'0',\n",
        "    u'tns:name': u'SH16 6 Hobsonville W',\n",
        "    u'tns:offline': u'false',\n",
        "    u'tns:underMaintenance': u'false',\n",
        "    u'tns:viewUrl': u'http://www.trafficnz.info/camera/view/270'},\n",
        "   {u'tns:description': u'Hobsonville Road looking East',\n",
        "    u'tns:id': u'271',\n",
        "    u'tns:imageUrl': u'http://www.trafficnz.info/camera/271.jpg',\n",
        "    u'tns:mapx': u'0',\n",
        "    u'tns:mapy': u'0',\n",
        "    u'tns:name': u'SH16 7 Hobsonville E',\n",
        "    u'tns:offline': u'false',\n",
        "    u'tns:underMaintenance': u'false',\n",
        "    u'tns:viewUrl': u'http://www.trafficnz.info/camera/view/271'},\n",
        "   {u'tns:description': u'Trig Rd looking west',\n",
        "    u'tns:id': u'221',\n",
        "    u'tns:imageUrl': u'http://www.trafficnz.info/camera/221.jpg',\n",
        "    u'tns:mapx': u'0',\n",
        "    u'tns:mapy': u'0',\n",
        "    u'tns:name': u'SH18 Trig Rd',\n",
        "    u'tns:offline': u'false',\n",
        "    u'tns:underMaintenance': u'false',\n",
        "    u'tns:viewUrl': u'http://www.trafficnz.info/camera/view/221'},\n",
        "   {u'tns:description': u'Upper harbour motorway looking west',\n",
        "    u'tns:id': u'222',\n",
        "    u'tns:imageUrl': u'http://www.trafficnz.info/camera/222.jpg',\n",
        "    u'tns:mapx': u'0',\n",
        "    u'tns:mapy': u'0',\n",
        "    u'tns:name': u'SH18 Waiahora Creek',\n",
        "    u'tns:offline': u'false',\n",
        "    u'tns:underMaintenance': u'false',\n",
        "    u'tns:viewUrl': u'http://www.trafficnz.info/camera/view/222'},\n",
        "   {u'tns:description': u'Upper harbour motorway looking East',\n",
        "    u'tns:id': u'223',\n",
        "    u'tns:imageUrl': u'http://www.trafficnz.info/camera/223.jpg',\n",
        "    u'tns:mapx': u'0',\n",
        "    u'tns:mapy': u'0',\n",
        "    u'tns:name': u'SH18 Brigham Creek',\n",
        "    u'tns:offline': u'false',\n",
        "    u'tns:underMaintenance': u'false',\n",
        "    u'tns:viewUrl': u'http://www.trafficnz.info/camera/view/223'},\n",
        "   {u'tns:description': u'Upper harbour motorway looking west',\n",
        "    u'tns:id': u'224',\n",
        "    u'tns:imageUrl': u'http://www.trafficnz.info/camera/224.jpg',\n",
        "    u'tns:mapx': u'0',\n",
        "    u'tns:mapy': u'0',\n",
        "    u'tns:name': u'SH18 Sinton Rd',\n",
        "    u'tns:offline': u'false',\n",
        "    u'tns:underMaintenance': u'false',\n",
        "    u'tns:viewUrl': u'http://www.trafficnz.info/camera/view/224'},\n",
        "   {u'tns:description': u'Upper harbour motorway looking east',\n",
        "    u'tns:id': u'225',\n",
        "    u'tns:imageUrl': u'http://www.trafficnz.info/camera/225.jpg',\n",
        "    u'tns:mapx': u'0',\n",
        "    u'tns:mapy': u'0',\n",
        "    u'tns:name': u'SH18 Squadron Dr',\n",
        "    u'tns:offline': u'false',\n",
        "    u'tns:underMaintenance': u'false',\n",
        "    u'tns:viewUrl': u'http://www.trafficnz.info/camera/view/225'},\n",
        "   {u'tns:description': u'Tauhinu bridge looking east',\n",
        "    u'tns:id': u'171',\n",
        "    u'tns:imageUrl': u'http://www.trafficnz.info/camera/171.jpg',\n",
        "    u'tns:mapx': u'60',\n",
        "    u'tns:mapy': u'207',\n",
        "    u'tns:name': u'SH18 6 Tauhinu BRG',\n",
        "    u'tns:offline': u'false',\n",
        "    u'tns:underMaintenance': u'false',\n",
        "    u'tns:viewUrl': u'http://www.trafficnz.info/camera/view/171'},\n",
        "   {u'tns:description': u'Albany Highway Looking East',\n",
        "    u'tns:id': u'172',\n",
        "    u'tns:imageUrl': u'http://www.trafficnz.info/camera/172.jpg',\n",
        "    u'tns:mapx': u'35',\n",
        "    u'tns:mapy': u'207',\n",
        "    u'tns:name': u'SH18 7 Albany HWY',\n",
        "    u'tns:offline': u'false',\n",
        "    u'tns:underMaintenance': u'false',\n",
        "    u'tns:viewUrl': u'http://www.trafficnz.info/camera/view/172'},\n",
        "   {u'tns:description': u'Tauhinu East Looking East',\n",
        "    u'tns:id': u'173',\n",
        "    u'tns:imageUrl': u'http://www.trafficnz.info/camera/173.jpg',\n",
        "    u'tns:mapx': u'35',\n",
        "    u'tns:mapy': u'207',\n",
        "    u'tns:name': u'SH18 8 Tauhinu East',\n",
        "    u'tns:offline': u'false',\n",
        "    u'tns:underMaintenance': u'false',\n",
        "    u'tns:viewUrl': u'http://www.trafficnz.info/camera/view/173'},\n",
        "   {u'tns:description': u'Paul matthews looking east',\n",
        "    u'tns:id': u'174',\n",
        "    u'tns:imageUrl': u'http://www.trafficnz.info/camera/174.jpg',\n",
        "    u'tns:mapx': u'35',\n",
        "    u'tns:mapy': u'207',\n",
        "    u'tns:name': u'SH18 9 Paul Matthews',\n",
        "    u'tns:offline': u'false',\n",
        "    u'tns:underMaintenance': u'false',\n",
        "    u'tns:viewUrl': u'http://www.trafficnz.info/camera/view/174'},\n",
        "   {u'tns:description': u'Greenhithe Rd looking east',\n",
        "    u'tns:id': u'175',\n",
        "    u'tns:imageUrl': u'http://www.trafficnz.info/camera/175.jpg',\n",
        "    u'tns:mapx': u'35',\n",
        "    u'tns:mapy': u'207',\n",
        "    u'tns:name': u'SH18 10 Greenhithe',\n",
        "    u'tns:offline': u'false',\n",
        "    u'tns:underMaintenance': u'false',\n",
        "    u'tns:viewUrl': u'http://www.trafficnz.info/camera/view/175'},\n",
        "   {u'tns:description': u'George deane looking east',\n",
        "    u'tns:id': u'176',\n",
        "    u'tns:imageUrl': u'http://www.trafficnz.info/camera/176.jpg',\n",
        "    u'tns:mapx': u'35',\n",
        "    u'tns:mapy': u'207',\n",
        "    u'tns:name': u'SH18 11 George Deane',\n",
        "    u'tns:offline': u'false',\n",
        "    u'tns:underMaintenance': u'false',\n",
        "    u'tns:viewUrl': u'http://www.trafficnz.info/camera/view/176'},\n",
        "   {u'tns:description': u'Upper harbour looking east',\n",
        "    u'tns:id': u'177',\n",
        "    u'tns:imageUrl': u'http://www.trafficnz.info/camera/177.jpg',\n",
        "    u'tns:mapx': u'35',\n",
        "    u'tns:mapy': u'207',\n",
        "    u'tns:name': u'SH18 12 Upper Hbr CW',\n",
        "    u'tns:offline': u'false',\n",
        "    u'tns:underMaintenance': u'false',\n",
        "    u'tns:viewUrl': u'http://www.trafficnz.info/camera/view/177'},\n",
        "   {u'tns:description': u'Wicklam Lane looking west',\n",
        "    u'tns:id': u'178',\n",
        "    u'tns:imageUrl': u'http://www.trafficnz.info/camera/178.jpg',\n",
        "    u'tns:mapx': u'35',\n",
        "    u'tns:mapy': u'207',\n",
        "    u'tns:name': u'SH18 13 Wicklam Lane',\n",
        "    u'tns:offline': u'false',\n",
        "    u'tns:underMaintenance': u'false',\n",
        "    u'tns:viewUrl': u'http://www.trafficnz.info/camera/view/178'},\n",
        "   {u'tns:congestionLocation': [{u'tns:congestion': u'Free Flow',\n",
        "      u'tns:direction': u'Northbound',\n",
        "      u'tns:name': u'Upper Harb Hwy - Oteha Valley Rd'},\n",
        "     {u'tns:congestion': u'Free Flow',\n",
        "      u'tns:direction': u'Southbound',\n",
        "      u'tns:name': u'Oteha Valley Rd - Upper Harb Hwy'}],\n",
        "    u'tns:description': u'Greville road looking south',\n",
        "    u'tns:id': u'10',\n",
        "    u'tns:imageUrl': u'http://www.trafficnz.info/camera/10.jpg',\n",
        "    u'tns:mapx': u'125',\n",
        "    u'tns:mapy': u'71',\n",
        "    u'tns:name': u'SH1 1 Greville Rd',\n",
        "    u'tns:offline': u'false',\n",
        "    u'tns:underMaintenance': u'false',\n",
        "    u'tns:viewUrl': u'http://www.trafficnz.info/camera/view/10'},\n",
        "   {u'tns:congestionLocation': [{u'tns:congestion': u'Free Flow',\n",
        "      u'tns:direction': u'Southbound',\n",
        "      u'tns:name': u'Tristram Ave - Esmonde Rd'},\n",
        "     {u'tns:congestion': u'Free Flow',\n",
        "      u'tns:direction': u'Northbound',\n",
        "      u'tns:name': u'Esmonde Rd - Tristram Ave'}],\n",
        "    u'tns:description': u'Tristram Avenue looking south',\n",
        "    u'tns:id': u'20',\n",
        "    u'tns:imageUrl': u'http://www.trafficnz.info/camera/20.jpg',\n",
        "    u'tns:mapx': u'148',\n",
        "    u'tns:mapy': u'118',\n",
        "    u'tns:name': u'SH1 2 Tristram Ave',\n",
        "    u'tns:offline': u'false',\n",
        "    u'tns:underMaintenance': u'false',\n",
        "    u'tns:viewUrl': u'http://www.trafficnz.info/camera/view/20'},\n",
        "   {u'tns:congestionLocation': [{u'tns:congestion': u'Free Flow',\n",
        "      u'tns:direction': u'Southbound',\n",
        "      u'tns:name': u'Tristram Ave - Esmonde Rd'},\n",
        "     {u'tns:congestion': u'Free Flow',\n",
        "      u'tns:direction': u'Northbound',\n",
        "      u'tns:name': u'Esmonde Rd - Tristram Ave'}],\n",
        "    u'tns:description': u'Northcote Rd looking north',\n",
        "    u'tns:id': u'30',\n",
        "    u'tns:imageUrl': u'http://www.trafficnz.info/camera/30.jpg',\n",
        "    u'tns:mapx': u'156',\n",
        "    u'tns:mapy': u'141',\n",
        "    u'tns:name': u'SH1 3 Northcote Rd',\n",
        "    u'tns:offline': u'false',\n",
        "    u'tns:underMaintenance': u'false',\n",
        "    u'tns:viewUrl': u'http://www.trafficnz.info/camera/view/30'},\n",
        "   {u'tns:congestionLocation': [{u'tns:congestion': u'Free Flow',\n",
        "      u'tns:direction': u'Southbound',\n",
        "      u'tns:name': u'Esmonde Rd - Onewa'},\n",
        "     {u'tns:congestion': u'Free Flow',\n",
        "      u'tns:direction': u'Northbound',\n",
        "      u'tns:name': u'Stafford Rd - Esmonde Rd'}],\n",
        "    u'tns:description': u'Esmonde Rd looking south',\n",
        "    u'tns:id': u'40',\n",
        "    u'tns:imageUrl': u'http://www.trafficnz.info/camera/40.jpg',\n",
        "    u'tns:mapx': u'178',\n",
        "    u'tns:mapy': u'146',\n",
        "    u'tns:name': u'SH1 4 Esmonde Rd',\n",
        "    u'tns:offline': u'false',\n",
        "    u'tns:underMaintenance': u'false',\n",
        "    u'tns:viewUrl': u'http://www.trafficnz.info/camera/view/40'},\n",
        "   {u'tns:congestionLocation': [{u'tns:congestion': u'Free Flow',\n",
        "      u'tns:direction': u'Southbound',\n",
        "      u'tns:name': u'Harbour Bridge'},\n",
        "     {u'tns:congestion': u'Free Flow',\n",
        "      u'tns:direction': u'Northbound',\n",
        "      u'tns:name': u'Stafford Rd - Esmonde Rd'}],\n",
        "    u'tns:description': u'Onewa Rd looking south',\n",
        "    u'tns:id': u'50',\n",
        "    u'tns:imageUrl': u'http://www.trafficnz.info/camera/50.jpg',\n",
        "    u'tns:mapx': u'157',\n",
        "    u'tns:mapy': u'162',\n",
        "    u'tns:name': u'SH1 5 Onewa Rd',\n",
        "    u'tns:offline': u'false',\n",
        "    u'tns:underMaintenance': u'false',\n",
        "    u'tns:viewUrl': u'http://www.trafficnz.info/camera/view/50'},\n",
        "   {u'tns:description': u'Johnstone hill tunnels looking south',\n",
        "    u'tns:id': u'215',\n",
        "    u'tns:imageUrl': u'http://www.trafficnz.info/camera/215.jpg',\n",
        "    u'tns:mapx': u'0',\n",
        "    u'tns:mapy': u'0',\n",
        "    u'tns:name': u'SH1 Alpurt Web cam',\n",
        "    u'tns:offline': u'false',\n",
        "    u'tns:underMaintenance': u'false',\n",
        "    u'tns:viewUrl': u'http://www.trafficnz.info/camera/view/215'},\n",
        "   {u'tns:description': u'Goodwood heights looking south',\n",
        "    u'tns:id': u'212',\n",
        "    u'tns:imageUrl': u'http://www.trafficnz.info/camera/212.jpg',\n",
        "    u'tns:mapx': u'0',\n",
        "    u'tns:mapy': u'0',\n",
        "    u'tns:name': u'SH1 17 Goodwood',\n",
        "    u'tns:offline': u'false',\n",
        "    u'tns:underMaintenance': u'false',\n",
        "    u'tns:viewUrl': u'http://www.trafficnz.info/camera/view/212'},\n",
        "   {u'tns:description': u'Rainbows End looking north at SH1 and SH20 link',\n",
        "    u'tns:id': u'214',\n",
        "    u'tns:imageUrl': u'http://www.trafficnz.info/camera/214.jpg',\n",
        "    u'tns:mapx': u'0',\n",
        "    u'tns:mapy': u'0',\n",
        "    u'tns:name': u'SH1 18 Rainbows End',\n",
        "    u'tns:offline': u'false',\n",
        "    u'tns:underMaintenance': u'false',\n",
        "    u'tns:viewUrl': u'http://www.trafficnz.info/camera/view/214'},\n",
        "   {u'tns:congestionLocation': {u'tns:congestion': u'Free Flow',\n",
        "     u'tns:direction': u'Southbound',\n",
        "     u'tns:name': u'Nelson St - Gillies Ave'},\n",
        "    u'tns:description': u'Central motorway junction looking south at the link between state highways 1 and 16',\n",
        "    u'tns:id': u'60',\n",
        "    u'tns:imageUrl': u'http://www.trafficnz.info/camera/60.jpg',\n",
        "    u'tns:mapx': u'162',\n",
        "    u'tns:mapy': u'217',\n",
        "    u'tns:name': u'SH1 1 CMJ',\n",
        "    u'tns:offline': u'false',\n",
        "    u'tns:underMaintenance': u'false',\n",
        "    u'tns:viewUrl': u'http://www.trafficnz.info/camera/view/60'},\n",
        "   {u'tns:congestionLocation': [{u'tns:congestion': u'Free Flow',\n",
        "      u'tns:direction': u'Southbound',\n",
        "      u'tns:name': u'Gillies Ave - Greenlane'},\n",
        "     {u'tns:congestion': u'Free Flow',\n",
        "      u'tns:direction': u'Northbound',\n",
        "      u'tns:name': u'Greenlane - Gillies Ave'}],\n",
        "    u'tns:description': u'Southern motorway at newmarket looking south towards the Market  Rd overbridge',\n",
        "    u'tns:id': u'70',\n",
        "    u'tns:imageUrl': u'http://www.trafficnz.info/camera/70.jpg',\n",
        "    u'tns:mapx': u'183',\n",
        "    u'tns:mapy': u'241',\n",
        "    u'tns:name': u'SH1 2 Market Rd',\n",
        "    u'tns:offline': u'false',\n",
        "    u'tns:underMaintenance': u'false',\n",
        "    u'tns:viewUrl': u'http://www.trafficnz.info/camera/view/70'},\n",
        "   {u'tns:congestionLocation': [{u'tns:congestion': u'Free Flow',\n",
        "      u'tns:direction': u'Southbound',\n",
        "      u'tns:name': u'Gillies Ave - Greenlane'},\n",
        "     {u'tns:congestion': u'Free Flow',\n",
        "      u'tns:direction': u'Northbound',\n",
        "      u'tns:name': u'Greenlane - Gillies Ave'}],\n",
        "    u'tns:description': u'Greenlane Rd looking north',\n",
        "    u'tns:id': u'80',\n",
        "    u'tns:imageUrl': u'http://www.trafficnz.info/camera/80.jpg',\n",
        "    u'tns:mapx': u'198',\n",
        "    u'tns:mapy': u'262',\n",
        "    u'tns:name': u'SH1 3 Greenlane Rd',\n",
        "    u'tns:offline': u'false',\n",
        "    u'tns:underMaintenance': u'false',\n",
        "    u'tns:viewUrl': u'http://www.trafficnz.info/camera/view/80'},\n",
        "   {u'tns:congestionLocation': [{u'tns:congestion': u'Free Flow',\n",
        "      u'tns:direction': u'Northbound',\n",
        "      u'tns:name': u'Mt Wellington Hway - SE Highway'},\n",
        "     {u'tns:congestion': u'Moderate',\n",
        "      u'tns:direction': u'Southbound',\n",
        "      u'tns:name': u'SE Highway - Mt Wellington Hway'}],\n",
        "    u'tns:description': u'South eastern highway looking south',\n",
        "    u'tns:id': u'90',\n",
        "    u'tns:imageUrl': u'http://www.trafficnz.info/camera/90.jpg',\n",
        "    u'tns:mapx': u'219',\n",
        "    u'tns:mapy': u'278',\n",
        "    u'tns:name': u'SH1 4 SE Highway',\n",
        "    u'tns:offline': u'false',\n",
        "    u'tns:underMaintenance': u'false',\n",
        "    u'tns:viewUrl': u'http://www.trafficnz.info/camera/view/90'},\n",
        "   {u'tns:congestionLocation': [{u'tns:congestion': u'Free Flow',\n",
        "      u'tns:direction': u'Southbound',\n",
        "      u'tns:name': u'Redoubt Rd - Hill Rd'},\n",
        "     {u'tns:congestion': u'Free Flow',\n",
        "      u'tns:direction': u'Northbound',\n",
        "      u'tns:name': u'Hill Rd - Redoubt Rd'}],\n",
        "    u'tns:description': u'Redoubt Rd looking north',\n",
        "    u'tns:id': u'100',\n",
        "    u'tns:imageUrl': u'http://www.trafficnz.info/camera/100.jpg',\n",
        "    u'tns:mapx': u'254',\n",
        "    u'tns:mapy': u'341',\n",
        "    u'tns:name': u'SH1 5 Redoubt Rd',\n",
        "    u'tns:offline': u'false',\n",
        "    u'tns:underMaintenance': u'false',\n",
        "    u'tns:viewUrl': u'http://www.trafficnz.info/camera/view/100'},\n",
        "   {u'tns:congestionLocation': [{u'tns:congestion': u'Free Flow',\n",
        "      u'tns:direction': u'Northbound',\n",
        "      u'tns:name': u'East Tamaki Rd - Princes St'},\n",
        "     {u'tns:congestion': u'Free Flow',\n",
        "      u'tns:direction': u'Southbound',\n",
        "      u'tns:name': u'Princes St - East Tamaki Rd'}],\n",
        "    u'tns:description': u'Bairds Rd looking north',\n",
        "    u'tns:id': u'110',\n",
        "    u'tns:imageUrl': u'http://www.trafficnz.info/camera/110.jpg',\n",
        "    u'tns:mapx': u'275',\n",
        "    u'tns:mapy': u'383',\n",
        "    u'tns:name': u'SH1 6 Bairds Rd',\n",
        "    u'tns:offline': u'false',\n",
        "    u'tns:underMaintenance': u'false',\n",
        "    u'tns:viewUrl': u'http://www.trafficnz.info/camera/view/110'},\n",
        "   {u'tns:congestionLocation': [{u'tns:congestion': u'Free Flow',\n",
        "      u'tns:direction': u'Northbound',\n",
        "      u'tns:name': u'Takanini - Hill Rd'},\n",
        "     {u'tns:congestion': u'Free Flow',\n",
        "      u'tns:direction': u'Southbound',\n",
        "      u'tns:name': u'Hill Rd - Takanini'}],\n",
        "    u'tns:description': u'Alfriston Rd looking north',\n",
        "    u'tns:id': u'120',\n",
        "    u'tns:imageUrl': u'http://www.trafficnz.info/camera/120.jpg',\n",
        "    u'tns:mapx': u'291',\n",
        "    u'tns:mapy': u'411',\n",
        "    u'tns:name': u'SH1 7 Alfriston Rd',\n",
        "    u'tns:offline': u'false',\n",
        "    u'tns:underMaintenance': u'false',\n",
        "    u'tns:viewUrl': u'http://www.trafficnz.info/camera/view/120'},\n",
        "   {u'tns:description': u'Takanini looking south',\n",
        "    u'tns:id': u'121',\n",
        "    u'tns:imageUrl': u'http://www.trafficnz.info/camera/121.jpg',\n",
        "    u'tns:mapx': u'290',\n",
        "    u'tns:mapy': u'380',\n",
        "    u'tns:name': u'SH1 8 Takanini',\n",
        "    u'tns:offline': u'false',\n",
        "    u'tns:underMaintenance': u'false',\n",
        "    u'tns:viewUrl': u'http://www.trafficnz.info/camera/view/121'},\n",
        "   {u'tns:description': u'Walter-Strevens Drive looking south',\n",
        "    u'tns:id': u'122',\n",
        "    u'tns:imageUrl': u'http://www.trafficnz.info/camera/122.jpg',\n",
        "    u'tns:mapx': u'285',\n",
        "    u'tns:mapy': u'400',\n",
        "    u'tns:name': u'SH1 9 Walter Streven',\n",
        "    u'tns:offline': u'false',\n",
        "    u'tns:underMaintenance': u'false',\n",
        "    u'tns:viewUrl': u'http://www.trafficnz.info/camera/view/122'},\n",
        "   {u'tns:description': u'Pahurehure looking south',\n",
        "    u'tns:id': u'123',\n",
        "    u'tns:imageUrl': u'http://www.trafficnz.info/camera/123.jpg',\n",
        "    u'tns:mapx': u'265',\n",
        "    u'tns:mapy': u'410',\n",
        "    u'tns:name': u'SH1 10 Pahurehure',\n",
        "    u'tns:offline': u'false',\n",
        "    u'tns:underMaintenance': u'false',\n",
        "    u'tns:viewUrl': u'http://www.trafficnz.info/camera/view/123'},\n",
        "   {u'tns:description': u'Rushgreen Ave looking south',\n",
        "    u'tns:id': u'124',\n",
        "    u'tns:imageUrl': u'http://www.trafficnz.info/camera/124.jpg',\n",
        "    u'tns:mapx': u'285',\n",
        "    u'tns:mapy': u'420',\n",
        "    u'tns:name': u'SH1 11 Rushgreen Ave',\n",
        "    u'tns:offline': u'false',\n",
        "    u'tns:underMaintenance': u'false',\n",
        "    u'tns:viewUrl': u'http://www.trafficnz.info/camera/view/124'},\n",
        "   {u'tns:description': u'Park estate looking south',\n",
        "    u'tns:id': u'125',\n",
        "    u'tns:imageUrl': u'http://www.trafficnz.info/camera/125.jpg',\n",
        "    u'tns:mapx': u'300',\n",
        "    u'tns:mapy': u'430',\n",
        "    u'tns:name': u'SH1 12 Park Estate',\n",
        "    u'tns:offline': u'false',\n",
        "    u'tns:underMaintenance': u'false',\n",
        "    u'tns:viewUrl': u'http://www.trafficnz.info/camera/view/125'},\n",
        "   {u'tns:description': u'Slippery Creek looking  south',\n",
        "    u'tns:id': u'126',\n",
        "    u'tns:imageUrl': u'http://www.trafficnz.info/camera/126.jpg',\n",
        "    u'tns:mapx': u'286',\n",
        "    u'tns:mapy': u'445',\n",
        "    u'tns:name': u'SH1 13 Slippery Crk',\n",
        "    u'tns:offline': u'false',\n",
        "    u'tns:underMaintenance': u'false',\n",
        "    u'tns:viewUrl': u'http://www.trafficnz.info/camera/view/126'},\n",
        "   {u'tns:description': u'Montgomerie Rd looking east',\n",
        "    u'tns:id': u'274',\n",
        "    u'tns:imageUrl': u'http://www.trafficnz.info/camera/274.jpg',\n",
        "    u'tns:mapx': u'0',\n",
        "    u'tns:mapy': u'0',\n",
        "    u'tns:name': u'SH20A Montgomerie Rd',\n",
        "    u'tns:offline': u'false',\n",
        "    u'tns:underMaintenance': u'false',\n",
        "    u'tns:viewUrl': u'http://www.trafficnz.info/camera/view/274'},\n",
        "   {u'tns:description': u'Kirkbride Rd looking east',\n",
        "    u'tns:id': u'275',\n",
        "    u'tns:imageUrl': u'http://www.trafficnz.info/camera/275.jpg',\n",
        "    u'tns:mapx': u'0',\n",
        "    u'tns:mapy': u'0',\n",
        "    u'tns:name': u'SH20A Kirkbride Road',\n",
        "    u'tns:offline': u'false',\n",
        "    u'tns:underMaintenance': u'false',\n",
        "    u'tns:viewUrl': u'http://www.trafficnz.info/camera/view/275'},\n",
        "   {u'tns:description': u'Bader Drive looking east',\n",
        "    u'tns:id': u'276',\n",
        "    u'tns:imageUrl': u'http://www.trafficnz.info/camera/276.jpg',\n",
        "    u'tns:mapx': u'0',\n",
        "    u'tns:mapy': u'0',\n",
        "    u'tns:name': u'SH20A Bader Drive',\n",
        "    u'tns:offline': u'false',\n",
        "    u'tns:underMaintenance': u'false',\n",
        "    u'tns:viewUrl': u'http://www.trafficnz.info/camera/view/276'},\n",
        "   {u'tns:description': u'Prices Rd looking east',\n",
        "    u'tns:id': u'272',\n",
        "    u'tns:imageUrl': u'http://www.trafficnz.info/camera/272.jpg',\n",
        "    u'tns:mapx': u'0',\n",
        "    u'tns:mapy': u'0',\n",
        "    u'tns:name': u'SH20B Prices Road',\n",
        "    u'tns:offline': u'false',\n",
        "    u'tns:underMaintenance': u'false',\n",
        "    u'tns:viewUrl': u'http://www.trafficnz.info/camera/view/272'},\n",
        "   {u'tns:description': u'Waokauri Creek looking west',\n",
        "    u'tns:id': u'273',\n",
        "    u'tns:imageUrl': u'http://www.trafficnz.info/camera/273.jpg',\n",
        "    u'tns:mapx': u'0',\n",
        "    u'tns:mapy': u'0',\n",
        "    u'tns:name': u'SH20B Waokauri Creek',\n",
        "    u'tns:offline': u'false',\n",
        "    u'tns:underMaintenance': u'false',\n",
        "    u'tns:viewUrl': u'http://www.trafficnz.info/camera/view/273'},\n",
        "   {u'tns:description': u'Queenstown Rd looking south',\n",
        "    u'tns:id': u'190',\n",
        "    u'tns:imageUrl': u'http://www.trafficnz.info/camera/190.jpg',\n",
        "    u'tns:mapx': u'35',\n",
        "    u'tns:mapy': u'207',\n",
        "    u'tns:name': u'SH20 1 Queenstown Rd',\n",
        "    u'tns:offline': u'false',\n",
        "    u'tns:underMaintenance': u'false',\n",
        "    u'tns:viewUrl': u'http://www.trafficnz.info/camera/view/190'},\n",
        "   {u'tns:description': u'Hillsborough Rd looking south',\n",
        "    u'tns:id': u'191',\n",
        "    u'tns:imageUrl': u'http://www.trafficnz.info/camera/191.jpg',\n",
        "    u'tns:mapx': u'35',\n",
        "    u'tns:mapy': u'207',\n",
        "    u'tns:name': u'SH20 2 Hillsborough',\n",
        "    u'tns:offline': u'false',\n",
        "    u'tns:underMaintenance': u'false',\n",
        "    u'tns:viewUrl': u'http://www.trafficnz.info/camera/view/191'},\n",
        "   {u'tns:description': u'Melrose looking south',\n",
        "    u'tns:id': u'192',\n",
        "    u'tns:imageUrl': u'http://www.trafficnz.info/camera/192.jpg',\n",
        "    u'tns:mapx': u'35',\n",
        "    u'tns:mapy': u'207',\n",
        "    u'tns:name': u'SH20 3 Melrose',\n",
        "    u'tns:offline': u'false',\n",
        "    u'tns:underMaintenance': u'false',\n",
        "    u'tns:viewUrl': u'http://www.trafficnz.info/camera/view/192'},\n",
        "   {u'tns:description': u'Dominion Rd looking south',\n",
        "    u'tns:id': u'193',\n",
        "    u'tns:imageUrl': u'http://www.trafficnz.info/camera/193.jpg',\n",
        "    u'tns:mapx': u'35',\n",
        "    u'tns:mapy': u'207',\n",
        "    u'tns:name': u'SH20 4 Dominion Rd',\n",
        "    u'tns:offline': u'false',\n",
        "    u'tns:underMaintenance': u'false',\n",
        "    u'tns:viewUrl': u'http://www.trafficnz.info/camera/view/193'},\n",
        "   {u'tns:description': u'Sandringham looking South',\n",
        "    u'tns:id': u'194',\n",
        "    u'tns:imageUrl': u'http://www.trafficnz.info/camera/194.jpg',\n",
        "    u'tns:mapx': u'35',\n",
        "    u'tns:mapy': u'207',\n",
        "    u'tns:name': u'SH20 5 Sandringham',\n",
        "    u'tns:offline': u'false',\n",
        "    u'tns:underMaintenance': u'false',\n",
        "    u'tns:viewUrl': u'http://www.trafficnz.info/camera/view/194'},\n",
        "   {u'tns:description': u'Gloucester Park looking north',\n",
        "    u'tns:id': u'201',\n",
        "    u'tns:imageUrl': u'http://www.trafficnz.info/camera/201.jpg',\n",
        "    u'tns:mapx': u'0',\n",
        "    u'tns:mapy': u'0',\n",
        "    u'tns:name': u'SH20 6 Gloucester Pk',\n",
        "    u'tns:offline': u'false',\n",
        "    u'tns:underMaintenance': u'false',\n",
        "    u'tns:viewUrl': u'http://www.trafficnz.info/camera/view/201'},\n",
        "   {u'tns:description': u'Onehunga wharf looking north',\n",
        "    u'tns:id': u'202',\n",
        "    u'tns:imageUrl': u'http://www.trafficnz.info/camera/202.jpg',\n",
        "    u'tns:mapx': u'0',\n",
        "    u'tns:mapy': u'0',\n",
        "    u'tns:name': u'SH20 7 Onehunga',\n",
        "    u'tns:offline': u'false',\n",
        "    u'tns:underMaintenance': u'false',\n",
        "    u'tns:viewUrl': u'http://www.trafficnz.info/camera/view/202'},\n",
        "   {u'tns:description': u'Rimu Rd looking north',\n",
        "    u'tns:id': u'203',\n",
        "    u'tns:imageUrl': u'http://www.trafficnz.info/camera/203.jpg',\n",
        "    u'tns:mapx': u'0',\n",
        "    u'tns:mapy': u'0',\n",
        "    u'tns:name': u'SH20 8 Rimu Rd',\n",
        "    u'tns:offline': u'false',\n",
        "    u'tns:underMaintenance': u'false',\n",
        "    u'tns:viewUrl': u'http://www.trafficnz.info/camera/view/203'},\n",
        "   {u'tns:description': u'Crawford Ave looking north',\n",
        "    u'tns:id': u'204',\n",
        "    u'tns:imageUrl': u'http://www.trafficnz.info/camera/204.jpg',\n",
        "    u'tns:mapx': u'0',\n",
        "    u'tns:mapy': u'0',\n",
        "    u'tns:name': u'SH20 9 Crawford Ave',\n",
        "    u'tns:offline': u'false',\n",
        "    u'tns:underMaintenance': u'false',\n",
        "    u'tns:viewUrl': u'http://www.trafficnz.info/camera/view/204'},\n",
        "   {u'tns:description': u'Coronation Rd looking east',\n",
        "    u'tns:id': u'205',\n",
        "    u'tns:imageUrl': u'http://www.trafficnz.info/camera/205.jpg',\n",
        "    u'tns:mapx': u'0',\n",
        "    u'tns:mapy': u'0',\n",
        "    u'tns:name': u'SH20 Coronation Rd',\n",
        "    u'tns:offline': u'false',\n",
        "    u'tns:underMaintenance': u'false',\n",
        "    u'tns:viewUrl': u'http://www.trafficnz.info/camera/view/205'},\n",
        "   {u'tns:description': u'Puhinui road interchange looking south',\n",
        "    u'tns:id': u'206',\n",
        "    u'tns:imageUrl': u'http://www.trafficnz.info/camera/206.jpg',\n",
        "    u'tns:mapx': u'0',\n",
        "    u'tns:mapy': u'0',\n",
        "    u'tns:name': u'SH20 11 Puhinui Rd',\n",
        "    u'tns:offline': u'false',\n",
        "    u'tns:underMaintenance': u'false',\n",
        "    u'tns:viewUrl': u'http://www.trafficnz.info/camera/view/206'},\n",
        "   {u'tns:description': u'Nesdale Rd looking east',\n",
        "    u'tns:id': u'207',\n",
        "    u'tns:imageUrl': u'http://www.trafficnz.info/camera/207.jpg',\n",
        "    u'tns:mapx': u'0',\n",
        "    u'tns:mapy': u'0',\n",
        "    u'tns:name': u'SH20 12 Nesdale Road',\n",
        "    u'tns:offline': u'false',\n",
        "    u'tns:underMaintenance': u'false',\n",
        "    u'tns:viewUrl': u'http://www.trafficnz.info/camera/view/207'},\n",
        "   {u'tns:description': u'Plunket Ave looking south',\n",
        "    u'tns:id': u'208',\n",
        "    u'tns:imageUrl': u'http://www.trafficnz.info/camera/208.jpg',\n",
        "    u'tns:mapx': u'0',\n",
        "    u'tns:mapy': u'0',\n",
        "    u'tns:name': u'SH20 13 Plunket Ave',\n",
        "    u'tns:offline': u'false',\n",
        "    u'tns:underMaintenance': u'false',\n",
        "    u'tns:viewUrl': u'http://www.trafficnz.info/camera/view/208'},\n",
        "   {u'tns:description': u'Lambie Drive looking south',\n",
        "    u'tns:id': u'209',\n",
        "    u'tns:imageUrl': u'http://www.trafficnz.info/camera/209.jpg',\n",
        "    u'tns:mapx': u'0',\n",
        "    u'tns:mapy': u'0',\n",
        "    u'tns:name': u'SH20 14 Lambie Drive',\n",
        "    u'tns:offline': u'false',\n",
        "    u'tns:underMaintenance': u'false',\n",
        "    u'tns:viewUrl': u'http://www.trafficnz.info/camera/view/209'},\n",
        "   {u'tns:description': u'Barrowcliffe Place looking west',\n",
        "    u'tns:id': u'210',\n",
        "    u'tns:imageUrl': u'http://www.trafficnz.info/camera/210.jpg',\n",
        "    u'tns:mapx': u'0',\n",
        "    u'tns:mapy': u'0',\n",
        "    u'tns:name': u'SH20 15 Barrowcliffe',\n",
        "    u'tns:offline': u'false',\n",
        "    u'tns:underMaintenance': u'false',\n",
        "    u'tns:viewUrl': u'http://www.trafficnz.info/camera/view/210'},\n",
        "   {u'tns:description': u'Great South Rd Looking westbound',\n",
        "    u'tns:id': u'211',\n",
        "    u'tns:imageUrl': u'http://www.trafficnz.info/camera/211.jpg',\n",
        "    u'tns:mapx': u'0',\n",
        "    u'tns:mapy': u'0',\n",
        "    u'tns:name': u'SH20 16 Great South',\n",
        "    u'tns:offline': u'false',\n",
        "    u'tns:underMaintenance': u'false',\n",
        "    u'tns:viewUrl': u'http://www.trafficnz.info/camera/view/211'}]}]"
       ]
      }
     ],
     "prompt_number": 159
    },
    {
     "cell_type": "code",
     "collapsed": false,
     "input": [
      "for value in datadict.itervalues():\n",
      "    print value\n",
      "    dalist.append(value)\n",
      "    "
     ],
     "language": "python",
     "metadata": {},
     "outputs": [
      {
       "output_type": "stream",
       "stream": "stdout",
       "text": [
        "OrderedDict([(u'@xmlns:rem', u'http://remote.service.callcenter.nzta.govt.nz'), (u'@xmlns:tns', u'https://infoconnect.highwayinfo.govt.nz/schemas/camera'), (u'@xmlns:xsd', u'http://www.w3.org/2001/XMLSchema'), (u'@xmlns:xsi', u'http://www.w3.org/2001/XMLSchema-instance'), (u'tns:camera', [OrderedDict([(u'tns:id', u'130'), (u'tns:name', u'SH16 1 Bond St'), (u'tns:description', u'Bond St looking east'), (u'tns:offline', u'false'), (u'tns:underMaintenance', u'false'), (u'tns:imageUrl', u'http://www.trafficnz.info/camera/130.jpg'), (u'tns:viewUrl', u'http://www.trafficnz.info/camera/view/130'), (u'tns:mapx', u'142'), (u'tns:mapy', u'229'), (u'tns:congestionLocation', [OrderedDict([(u'tns:name', u'St Lukes Rd - Newton Rd'), (u'tns:direction', u'Eastbound'), (u'tns:congestion', u'Free Flow')]), OrderedDict([(u'tns:name', u'Newton Rd - St Lukes Rd'), (u'tns:direction', u'Westbound'), (u'tns:congestion', u'Free Flow')])])]), OrderedDict([(u'tns:id', u'140'), (u'tns:name', u'SH16 2 Gt North Rd'), (u'tns:description', u'Gt North Road looking west'), (u'tns:offline', u'false'), (u'tns:underMaintenance', u'false'), (u'tns:imageUrl', u'http://www.trafficnz.info/camera/140.jpg'), (u'tns:viewUrl', u'http://www.trafficnz.info/camera/view/140'), (u'tns:mapx', u'113'), (u'tns:mapy', u'232'), (u'tns:congestionLocation', [OrderedDict([(u'tns:name', u'Rosebank Rd - Great Nth Rd Waterview'), (u'tns:direction', u'Eastbound'), (u'tns:congestion', u'Free Flow')]), OrderedDict([(u'tns:name', u'Great Nth Rd Waterview - Rosebank Rd'), (u'tns:direction', u'Westbound'), (u'tns:congestion', u'Free Flow')])])]), OrderedDict([(u'tns:id', u'150'), (u'tns:name', u'SH16 3 Te Atatu Rd'), (u'tns:description', u'Te Atatu Road looking east'), (u'tns:offline', u'false'), (u'tns:underMaintenance', u'false'), (u'tns:imageUrl', u'http://www.trafficnz.info/camera/150.jpg'), (u'tns:viewUrl', u'http://www.trafficnz.info/camera/view/150'), (u'tns:mapx', u'70'), (u'tns:mapy', u'216'), (u'tns:congestionLocation', [OrderedDict([(u'tns:name', u'Te Atatu Rd - Rosebank Rd'), (u'tns:direction', u'Eastbound'), (u'tns:congestion', u'Free Flow')]), OrderedDict([(u'tns:name', u'Rosebank Rd - Te Atatu Rd'), (u'tns:direction', u'Westbound'), (u'tns:congestion', u'Free Flow')])])]), OrderedDict([(u'tns:id', u'160'), (u'tns:name', u'SH16 4 Lincoln Rd E'), (u'tns:description', u'Lincoln Rd  looking west'), (u'tns:offline', u'false'), (u'tns:underMaintenance', u'false'), (u'tns:imageUrl', u'http://www.trafficnz.info/camera/160.jpg'), (u'tns:viewUrl', u'http://www.trafficnz.info/camera/view/160'), (u'tns:mapx', u'52'), (u'tns:mapy', u'207'), (u'tns:congestionLocation', [OrderedDict([(u'tns:name', u'Te Atatu Rd - Lincoln Rd'), (u'tns:direction', u'Westbound'), (u'tns:congestion', u'Free Flow')]), OrderedDict([(u'tns:name', u'Lincoln Rd - Te Atatu Rd'), (u'tns:direction', u'Eastbound'), (u'tns:congestion', u'Free Flow')])])]), OrderedDict([(u'tns:id', u'170'), (u'tns:name', u'SH16 5 Lincoln Rd W'), (u'tns:description', u'Lincoln Rd looking east'), (u'tns:offline', u'false'), (u'tns:underMaintenance', u'false'), (u'tns:imageUrl', u'http://www.trafficnz.info/camera/170.jpg'), (u'tns:viewUrl', u'http://www.trafficnz.info/camera/view/170'), (u'tns:mapx', u'35'), (u'tns:mapy', u'207'), (u'tns:congestionLocation', [OrderedDict([(u'tns:name', u'Lincoln Rd - Royal Rd'), (u'tns:direction', u'Westbound'), (u'tns:congestion', u'Free Flow')]), OrderedDict([(u'tns:name', u'Royal Rd - Lincoln Rd'), (u'tns:direction', u'Eastbound'), (u'tns:congestion', u'Free Flow')])])]), OrderedDict([(u'tns:id', u'270'), (u'tns:name', u'SH16 6 Hobsonville W'), (u'tns:description', u'Hobsonville looking West towards Kumeu'), (u'tns:offline', u'false'), (u'tns:underMaintenance', u'false'), (u'tns:imageUrl', u'http://www.trafficnz.info/camera/270.jpg'), (u'tns:viewUrl', u'http://www.trafficnz.info/camera/view/270'), (u'tns:mapx', u'0'), (u'tns:mapy', u'0')]), OrderedDict([(u'tns:id', u'271'), (u'tns:name', u'SH16 7 Hobsonville E'), (u'tns:description', u'Hobsonville Road looking East'), (u'tns:offline', u'false'), (u'tns:underMaintenance', u'false'), (u'tns:imageUrl', u'http://www.trafficnz.info/camera/271.jpg'), (u'tns:viewUrl', u'http://www.trafficnz.info/camera/view/271'), (u'tns:mapx', u'0'), (u'tns:mapy', u'0')]), OrderedDict([(u'tns:id', u'221'), (u'tns:name', u'SH18 Trig Rd'), (u'tns:description', u'Trig Rd looking west'), (u'tns:offline', u'false'), (u'tns:underMaintenance', u'false'), (u'tns:imageUrl', u'http://www.trafficnz.info/camera/221.jpg'), (u'tns:viewUrl', u'http://www.trafficnz.info/camera/view/221'), (u'tns:mapx', u'0'), (u'tns:mapy', u'0')]), OrderedDict([(u'tns:id', u'222'), (u'tns:name', u'SH18 Waiahora Creek'), (u'tns:description', u'Upper harbour motorway looking west'), (u'tns:offline', u'false'), (u'tns:underMaintenance', u'false'), (u'tns:imageUrl', u'http://www.trafficnz.info/camera/222.jpg'), (u'tns:viewUrl', u'http://www.trafficnz.info/camera/view/222'), (u'tns:mapx', u'0'), (u'tns:mapy', u'0')]), OrderedDict([(u'tns:id', u'223'), (u'tns:name', u'SH18 Brigham Creek'), (u'tns:description', u'Upper harbour motorway looking East'), (u'tns:offline', u'false'), (u'tns:underMaintenance', u'false'), (u'tns:imageUrl', u'http://www.trafficnz.info/camera/223.jpg'), (u'tns:viewUrl', u'http://www.trafficnz.info/camera/view/223'), (u'tns:mapx', u'0'), (u'tns:mapy', u'0')]), OrderedDict([(u'tns:id', u'224'), (u'tns:name', u'SH18 Sinton Rd'), (u'tns:description', u'Upper harbour motorway looking west'), (u'tns:offline', u'false'), (u'tns:underMaintenance', u'false'), (u'tns:imageUrl', u'http://www.trafficnz.info/camera/224.jpg'), (u'tns:viewUrl', u'http://www.trafficnz.info/camera/view/224'), (u'tns:mapx', u'0'), (u'tns:mapy', u'0')]), OrderedDict([(u'tns:id', u'225'), (u'tns:name', u'SH18 Squadron Dr'), (u'tns:description', u'Upper harbour motorway looking east'), (u'tns:offline', u'false'), (u'tns:underMaintenance', u'false'), (u'tns:imageUrl', u'http://www.trafficnz.info/camera/225.jpg'), (u'tns:viewUrl', u'http://www.trafficnz.info/camera/view/225'), (u'tns:mapx', u'0'), (u'tns:mapy', u'0')]), OrderedDict([(u'tns:id', u'171'), (u'tns:name', u'SH18 6 Tauhinu BRG'), (u'tns:description', u'Tauhinu bridge looking east'), (u'tns:offline', u'false'), (u'tns:underMaintenance', u'false'), (u'tns:imageUrl', u'http://www.trafficnz.info/camera/171.jpg'), (u'tns:viewUrl', u'http://www.trafficnz.info/camera/view/171'), (u'tns:mapx', u'60'), (u'tns:mapy', u'207')]), OrderedDict([(u'tns:id', u'172'), (u'tns:name', u'SH18 7 Albany HWY'), (u'tns:description', u'Albany Highway Looking East'), (u'tns:offline', u'false'), (u'tns:underMaintenance', u'false'), (u'tns:imageUrl', u'http://www.trafficnz.info/camera/172.jpg'), (u'tns:viewUrl', u'http://www.trafficnz.info/camera/view/172'), (u'tns:mapx', u'35'), (u'tns:mapy', u'207')]), OrderedDict([(u'tns:id', u'173'), (u'tns:name', u'SH18 8 Tauhinu East'), (u'tns:description', u'Tauhinu East Looking East'), (u'tns:offline', u'false'), (u'tns:underMaintenance', u'false'), (u'tns:imageUrl', u'http://www.trafficnz.info/camera/173.jpg'), (u'tns:viewUrl', u'http://www.trafficnz.info/camera/view/173'), (u'tns:mapx', u'35'), (u'tns:mapy', u'207')]), OrderedDict([(u'tns:id', u'174'), (u'tns:name', u'SH18 9 Paul Matthews'), (u'tns:description', u'Paul matthews looking east'), (u'tns:offline', u'false'), (u'tns:underMaintenance', u'false'), (u'tns:imageUrl', u'http://www.trafficnz.info/camera/174.jpg'), (u'tns:viewUrl', u'http://www.trafficnz.info/camera/view/174'), (u'tns:mapx', u'35'), (u'tns:mapy', u'207')]), OrderedDict([(u'tns:id', u'175'), (u'tns:name', u'SH18 10 Greenhithe'), (u'tns:description', u'Greenhithe Rd looking east'), (u'tns:offline', u'false'), (u'tns:underMaintenance', u'false'), (u'tns:imageUrl', u'http://www.trafficnz.info/camera/175.jpg'), (u'tns:viewUrl', u'http://www.trafficnz.info/camera/view/175'), (u'tns:mapx', u'35'), (u'tns:mapy', u'207')]), OrderedDict([(u'tns:id', u'176'), (u'tns:name', u'SH18 11 George Deane'), (u'tns:description', u'George deane looking east'), (u'tns:offline', u'false'), (u'tns:underMaintenance', u'false'), (u'tns:imageUrl', u'http://www.trafficnz.info/camera/176.jpg'), (u'tns:viewUrl', u'http://www.trafficnz.info/camera/view/176'), (u'tns:mapx', u'35'), (u'tns:mapy', u'207')]), OrderedDict([(u'tns:id', u'177'), (u'tns:name', u'SH18 12 Upper Hbr CW'), (u'tns:description', u'Upper harbour looking east'), (u'tns:offline', u'false'), (u'tns:underMaintenance', u'false'), (u'tns:imageUrl', u'http://www.trafficnz.info/camera/177.jpg'), (u'tns:viewUrl', u'http://www.trafficnz.info/camera/view/177'), (u'tns:mapx', u'35'), (u'tns:mapy', u'207')]), OrderedDict([(u'tns:id', u'178'), (u'tns:name', u'SH18 13 Wicklam Lane'), (u'tns:description', u'Wicklam Lane looking west'), (u'tns:offline', u'false'), (u'tns:underMaintenance', u'false'), (u'tns:imageUrl', u'http://www.trafficnz.info/camera/178.jpg'), (u'tns:viewUrl', u'http://www.trafficnz.info/camera/view/178'), (u'tns:mapx', u'35'), (u'tns:mapy', u'207')]), OrderedDict([(u'tns:id', u'10'), (u'tns:name', u'SH1 1 Greville Rd'), (u'tns:description', u'Greville road looking south'), (u'tns:offline', u'false'), (u'tns:underMaintenance', u'false'), (u'tns:imageUrl', u'http://www.trafficnz.info/camera/10.jpg'), (u'tns:viewUrl', u'http://www.trafficnz.info/camera/view/10'), (u'tns:mapx', u'125'), (u'tns:mapy', u'71'), (u'tns:congestionLocation', [OrderedDict([(u'tns:name', u'Upper Harb Hwy - Oteha Valley Rd'), (u'tns:direction', u'Northbound'), (u'tns:congestion', u'Free Flow')]), OrderedDict([(u'tns:name', u'Oteha Valley Rd - Upper Harb Hwy'), (u'tns:direction', u'Southbound'), (u'tns:congestion', u'Free Flow')])])]), OrderedDict([(u'tns:id', u'20'), (u'tns:name', u'SH1 2 Tristram Ave'), (u'tns:description', u'Tristram Avenue looking south'), (u'tns:offline', u'false'), (u'tns:underMaintenance', u'false'), (u'tns:imageUrl', u'http://www.trafficnz.info/camera/20.jpg'), (u'tns:viewUrl', u'http://www.trafficnz.info/camera/view/20'), (u'tns:mapx', u'148'), (u'tns:mapy', u'118'), (u'tns:congestionLocation', [OrderedDict([(u'tns:name', u'Tristram Ave - Esmonde Rd'), (u'tns:direction', u'Southbound'), (u'tns:congestion', u'Free Flow')]), OrderedDict([(u'tns:name', u'Esmonde Rd - Tristram Ave'), (u'tns:direction', u'Northbound'), (u'tns:congestion', u'Free Flow')])])]), OrderedDict([(u'tns:id', u'30'), (u'tns:name', u'SH1 3 Northcote Rd'), (u'tns:description', u'Northcote Rd looking north'), (u'tns:offline', u'false'), (u'tns:underMaintenance', u'false'), (u'tns:imageUrl', u'http://www.trafficnz.info/camera/30.jpg'), (u'tns:viewUrl', u'http://www.trafficnz.info/camera/view/30'), (u'tns:mapx', u'156'), (u'tns:mapy', u'141'), (u'tns:congestionLocation', [OrderedDict([(u'tns:name', u'Tristram Ave - Esmonde Rd'), (u'tns:direction', u'Southbound'), (u'tns:congestion', u'Free Flow')]), OrderedDict([(u'tns:name', u'Esmonde Rd - Tristram Ave'), (u'tns:direction', u'Northbound'), (u'tns:congestion', u'Free Flow')])])]), OrderedDict([(u'tns:id', u'40'), (u'tns:name', u'SH1 4 Esmonde Rd'), (u'tns:description', u'Esmonde Rd looking south'), (u'tns:offline', u'false'), (u'tns:underMaintenance', u'false'), (u'tns:imageUrl', u'http://www.trafficnz.info/camera/40.jpg'), (u'tns:viewUrl', u'http://www.trafficnz.info/camera/view/40'), (u'tns:mapx', u'178'), (u'tns:mapy', u'146'), (u'tns:congestionLocation', [OrderedDict([(u'tns:name', u'Esmonde Rd - Onewa'), (u'tns:direction', u'Southbound'), (u'tns:congestion', u'Free Flow')]), OrderedDict([(u'tns:name', u'Stafford Rd - Esmonde Rd'), (u'tns:direction', u'Northbound'), (u'tns:congestion', u'Free Flow')])])]), OrderedDict([(u'tns:id', u'50'), (u'tns:name', u'SH1 5 Onewa Rd'), (u'tns:description', u'Onewa Rd looking south'), (u'tns:offline', u'false'), (u'tns:underMaintenance', u'false'), (u'tns:imageUrl', u'http://www.trafficnz.info/camera/50.jpg'), (u'tns:viewUrl', u'http://www.trafficnz.info/camera/view/50'), (u'tns:mapx', u'157'), (u'tns:mapy', u'162'), (u'tns:congestionLocation', [OrderedDict([(u'tns:name', u'Harbour Bridge'), (u'tns:direction', u'Southbound'), (u'tns:congestion', u'Free Flow')]), OrderedDict([(u'tns:name', u'Stafford Rd - Esmonde Rd'), (u'tns:direction', u'Northbound'), (u'tns:congestion', u'Free Flow')])])]), OrderedDict([(u'tns:id', u'215'), (u'tns:name', u'SH1 Alpurt Web cam'), (u'tns:description', u'Johnstone hill tunnels looking south'), (u'tns:offline', u'false'), (u'tns:underMaintenance', u'false'), (u'tns:imageUrl', u'http://www.trafficnz.info/camera/215.jpg'), (u'tns:viewUrl', u'http://www.trafficnz.info/camera/view/215'), (u'tns:mapx', u'0'), (u'tns:mapy', u'0')]), OrderedDict([(u'tns:id', u'212'), (u'tns:name', u'SH1 17 Goodwood'), (u'tns:description', u'Goodwood heights looking south'), (u'tns:offline', u'false'), (u'tns:underMaintenance', u'false'), (u'tns:imageUrl', u'http://www.trafficnz.info/camera/212.jpg'), (u'tns:viewUrl', u'http://www.trafficnz.info/camera/view/212'), (u'tns:mapx', u'0'), (u'tns:mapy', u'0')]), OrderedDict([(u'tns:id', u'214'), (u'tns:name', u'SH1 18 Rainbows End'), (u'tns:description', u'Rainbows End looking north at SH1 and SH20 link'), (u'tns:offline', u'false'), (u'tns:underMaintenance', u'false'), (u'tns:imageUrl', u'http://www.trafficnz.info/camera/214.jpg'), (u'tns:viewUrl', u'http://www.trafficnz.info/camera/view/214'), (u'tns:mapx', u'0'), (u'tns:mapy', u'0')]), OrderedDict([(u'tns:id', u'60'), (u'tns:name', u'SH1 1 CMJ'), (u'tns:description', u'Central motorway junction looking south at the link between state highways 1 and 16'), (u'tns:offline', u'false'), (u'tns:underMaintenance', u'false'), (u'tns:imageUrl', u'http://www.trafficnz.info/camera/60.jpg'), (u'tns:viewUrl', u'http://www.trafficnz.info/camera/view/60'), (u'tns:mapx', u'162'), (u'tns:mapy', u'217'), (u'tns:congestionLocation', OrderedDict([(u'tns:name', u'Nelson St - Gillies Ave'), (u'tns:direction', u'Southbound'), (u'tns:congestion', u'Free Flow')]))]), OrderedDict([(u'tns:id', u'70'), (u'tns:name', u'SH1 2 Market Rd'), (u'tns:description', u'Southern motorway at newmarket looking south towards the Market  Rd overbridge'), (u'tns:offline', u'false'), (u'tns:underMaintenance', u'false'), (u'tns:imageUrl', u'http://www.trafficnz.info/camera/70.jpg'), (u'tns:viewUrl', u'http://www.trafficnz.info/camera/view/70'), (u'tns:mapx', u'183'), (u'tns:mapy', u'241'), (u'tns:congestionLocation', [OrderedDict([(u'tns:name', u'Gillies Ave - Greenlane'), (u'tns:direction', u'Southbound'), (u'tns:congestion', u'Free Flow')]), OrderedDict([(u'tns:name', u'Greenlane - Gillies Ave'), (u'tns:direction', u'Northbound'), (u'tns:congestion', u'Free Flow')])])]), OrderedDict([(u'tns:id', u'80'), (u'tns:name', u'SH1 3 Greenlane Rd'), (u'tns:description', u'Greenlane Rd looking north'), (u'tns:offline', u'false'), (u'tns:underMaintenance', u'false'), (u'tns:imageUrl', u'http://www.trafficnz.info/camera/80.jpg'), (u'tns:viewUrl', u'http://www.trafficnz.info/camera/view/80'), (u'tns:mapx', u'198'), (u'tns:mapy', u'262'), (u'tns:congestionLocation', [OrderedDict([(u'tns:name', u'Gillies Ave - Greenlane'), (u'tns:direction', u'Southbound'), (u'tns:congestion', u'Free Flow')]), OrderedDict([(u'tns:name', u'Greenlane - Gillies Ave'), (u'tns:direction', u'Northbound'), (u'tns:congestion', u'Free Flow')])])]), OrderedDict([(u'tns:id', u'90'), (u'tns:name', u'SH1 4 SE Highway'), (u'tns:description', u'South eastern highway looking south'), (u'tns:offline', u'false'), (u'tns:underMaintenance', u'false'), (u'tns:imageUrl', u'http://www.trafficnz.info/camera/90.jpg'), (u'tns:viewUrl', u'http://www.trafficnz.info/camera/view/90'), (u'tns:mapx', u'219'), (u'tns:mapy', u'278'), (u'tns:congestionLocation', [OrderedDict([(u'tns:name', u'Mt Wellington Hway - SE Highway'), (u'tns:direction', u'Northbound'), (u'tns:congestion', u'Free Flow')]), OrderedDict([(u'tns:name', u'SE Highway - Mt Wellington Hway'), (u'tns:direction', u'Southbound'), (u'tns:congestion', u'Moderate')])])]), OrderedDict([(u'tns:id', u'100'), (u'tns:name', u'SH1 5 Redoubt Rd'), (u'tns:description', u'Redoubt Rd looking north'), (u'tns:offline', u'false'), (u'tns:underMaintenance', u'false'), (u'tns:imageUrl', u'http://www.trafficnz.info/camera/100.jpg'), (u'tns:viewUrl', u'http://www.trafficnz.info/camera/view/100'), (u'tns:mapx', u'254'), (u'tns:mapy', u'341'), (u'tns:congestionLocation', [OrderedDict([(u'tns:name', u'Redoubt Rd - Hill Rd'), (u'tns:direction', u'Southbound'), (u'tns:congestion', u'Free Flow')]), OrderedDict([(u'tns:name', u'Hill Rd - Redoubt Rd'), (u'tns:direction', u'Northbound'), (u'tns:congestion', u'Free Flow')])])]), OrderedDict([(u'tns:id', u'110'), (u'tns:name', u'SH1 6 Bairds Rd'), (u'tns:description', u'Bairds Rd looking north'), (u'tns:offline', u'false'), (u'tns:underMaintenance', u'false'), (u'tns:imageUrl', u'http://www.trafficnz.info/camera/110.jpg'), (u'tns:viewUrl', u'http://www.trafficnz.info/camera/view/110'), (u'tns:mapx', u'275'), (u'tns:mapy', u'383'), (u'tns:congestionLocation', [OrderedDict([(u'tns:name', u'East Tamaki Rd - Princes St'), (u'tns:direction', u'Northbound'), (u'tns:congestion', u'Free Flow')]), OrderedDict([(u'tns:name', u'Princes St - East Tamaki Rd'), (u'tns:direction', u'Southbound'), (u'tns:congestion', u'Free Flow')])])]), OrderedDict([(u'tns:id', u'120'), (u'tns:name', u'SH1 7 Alfriston Rd'), (u'tns:description', u'Alfriston Rd looking north'), (u'tns:offline', u'false'), (u'tns:underMaintenance', u'false'), (u'tns:imageUrl', u'http://www.trafficnz.info/camera/120.jpg'), (u'tns:viewUrl', u'http://www.trafficnz.info/camera/view/120'), (u'tns:mapx', u'291'), (u'tns:mapy', u'411'), (u'tns:congestionLocation', [OrderedDict([(u'tns:name', u'Takanini - Hill Rd'), (u'tns:direction', u'Northbound'), (u'tns:congestion', u'Free Flow')]), OrderedDict([(u'tns:name', u'Hill Rd - Takanini'), (u'tns:direction', u'Southbound'), (u'tns:congestion', u'Free Flow')])])]), OrderedDict([(u'tns:id', u'121'), (u'tns:name', u'SH1 8 Takanini'), (u'tns:description', u'Takanini looking south'), (u'tns:offline', u'false'), (u'tns:underMaintenance', u'false'), (u'tns:imageUrl', u'http://www.trafficnz.info/camera/121.jpg'), (u'tns:viewUrl', u'http://www.trafficnz.info/camera/view/121'), (u'tns:mapx', u'290'), (u'tns:mapy', u'380')]), OrderedDict([(u'tns:id', u'122'), (u'tns:name', u'SH1 9 Walter Streven'), (u'tns:description', u'Walter-Strevens Drive looking south'), (u'tns:offline', u'false'), (u'tns:underMaintenance', u'false'), (u'tns:imageUrl', u'http://www.trafficnz.info/camera/122.jpg'), (u'tns:viewUrl', u'http://www.trafficnz.info/camera/view/122'), (u'tns:mapx', u'285'), (u'tns:mapy', u'400')]), OrderedDict([(u'tns:id', u'123'), (u'tns:name', u'SH1 10 Pahurehure'), (u'tns:description', u'Pahurehure looking south'), (u'tns:offline', u'false'), (u'tns:underMaintenance', u'false'), (u'tns:imageUrl', u'http://www.trafficnz.info/camera/123.jpg'), (u'tns:viewUrl', u'http://www.trafficnz.info/camera/view/123'), (u'tns:mapx', u'265'), (u'tns:mapy', u'410')]), OrderedDict([(u'tns:id', u'124'), (u'tns:name', u'SH1 11 Rushgreen Ave'), (u'tns:description', u'Rushgreen Ave looking south'), (u'tns:offline', u'false'), (u'tns:underMaintenance', u'false'), (u'tns:imageUrl', u'http://www.trafficnz.info/camera/124.jpg'), (u'tns:viewUrl', u'http://www.trafficnz.info/camera/view/124'), (u'tns:mapx', u'285'), (u'tns:mapy', u'420')]), OrderedDict([(u'tns:id', u'125'), (u'tns:name', u'SH1 12 Park Estate'), (u'tns:description', u'Park estate looking south'), (u'tns:offline', u'false'), (u'tns:underMaintenance', u'false'), (u'tns:imageUrl', u'http://www.trafficnz.info/camera/125.jpg'), (u'tns:viewUrl', u'http://www.trafficnz.info/camera/view/125'), (u'tns:mapx', u'300'), (u'tns:mapy', u'430')]), OrderedDict([(u'tns:id', u'126'), (u'tns:name', u'SH1 13 Slippery Crk'), (u'tns:description', u'Slippery Creek looking  south'), (u'tns:offline', u'false'), (u'tns:underMaintenance', u'false'), (u'tns:imageUrl', u'http://www.trafficnz.info/camera/126.jpg'), (u'tns:viewUrl', u'http://www.trafficnz.info/camera/view/126'), (u'tns:mapx', u'286'), (u'tns:mapy', u'445')]), OrderedDict([(u'tns:id', u'274'), (u'tns:name', u'SH20A Montgomerie Rd'), (u'tns:description', u'Montgomerie Rd looking east'), (u'tns:offline', u'false'), (u'tns:underMaintenance', u'false'), (u'tns:imageUrl', u'http://www.trafficnz.info/camera/274.jpg'), (u'tns:viewUrl', u'http://www.trafficnz.info/camera/view/274'), (u'tns:mapx', u'0'), (u'tns:mapy', u'0')]), OrderedDict([(u'tns:id', u'275'), (u'tns:name', u'SH20A Kirkbride Road'), (u'tns:description', u'Kirkbride Rd looking east'), (u'tns:offline', u'false'), (u'tns:underMaintenance', u'false'), (u'tns:imageUrl', u'http://www.trafficnz.info/camera/275.jpg'), (u'tns:viewUrl', u'http://www.trafficnz.info/camera/view/275'), (u'tns:mapx', u'0'), (u'tns:mapy', u'0')]), OrderedDict([(u'tns:id', u'276'), (u'tns:name', u'SH20A Bader Drive'), (u'tns:description', u'Bader Drive looking east'), (u'tns:offline', u'false'), (u'tns:underMaintenance', u'false'), (u'tns:imageUrl', u'http://www.trafficnz.info/camera/276.jpg'), (u'tns:viewUrl', u'http://www.trafficnz.info/camera/view/276'), (u'tns:mapx', u'0'), (u'tns:mapy', u'0')]), OrderedDict([(u'tns:id', u'272'), (u'tns:name', u'SH20B Prices Road'), (u'tns:description', u'Prices Rd looking east'), (u'tns:offline', u'false'), (u'tns:underMaintenance', u'false'), (u'tns:imageUrl', u'http://www.trafficnz.info/camera/272.jpg'), (u'tns:viewUrl', u'http://www.trafficnz.info/camera/view/272'), (u'tns:mapx', u'0'), (u'tns:mapy', u'0')]), OrderedDict([(u'tns:id', u'273'), (u'tns:name', u'SH20B Waokauri Creek'), (u'tns:description', u'Waokauri Creek looking west'), (u'tns:offline', u'false'), (u'tns:underMaintenance', u'false'), (u'tns:imageUrl', u'http://www.trafficnz.info/camera/273.jpg'), (u'tns:viewUrl', u'http://www.trafficnz.info/camera/view/273'), (u'tns:mapx', u'0'), (u'tns:mapy', u'0')]), OrderedDict([(u'tns:id', u'190'), (u'tns:name', u'SH20 1 Queenstown Rd'), (u'tns:description', u'Queenstown Rd looking south'), (u'tns:offline', u'false'), (u'tns:underMaintenance', u'false'), (u'tns:imageUrl', u'http://www.trafficnz.info/camera/190.jpg'), (u'tns:viewUrl', u'http://www.trafficnz.info/camera/view/190'), (u'tns:mapx', u'35'), (u'tns:mapy', u'207')]), OrderedDict([(u'tns:id', u'191'), (u'tns:name', u'SH20 2 Hillsborough'), (u'tns:description', u'Hillsborough Rd looking south'), (u'tns:offline', u'false'), (u'tns:underMaintenance', u'false'), (u'tns:imageUrl', u'http://www.trafficnz.info/camera/191.jpg'), (u'tns:viewUrl', u'http://www.trafficnz.info/camera/view/191'), (u'tns:mapx', u'35'), (u'tns:mapy', u'207')]), OrderedDict([(u'tns:id', u'192'), (u'tns:name', u'SH20 3 Melrose'), (u'tns:description', u'Melrose looking south'), (u'tns:offline', u'false'), (u'tns:underMaintenance', u'false'), (u'tns:imageUrl', u'http://www.trafficnz.info/camera/192.jpg'), (u'tns:viewUrl', u'http://www.trafficnz.info/camera/view/192'), (u'tns:mapx', u'35'), (u'tns:mapy', u'207')]), OrderedDict([(u'tns:id', u'193'), (u'tns:name', u'SH20 4 Dominion Rd'), (u'tns:description', u'Dominion Rd looking south'), (u'tns:offline', u'false'), (u'tns:underMaintenance', u'false'), (u'tns:imageUrl', u'http://www.trafficnz.info/camera/193.jpg'), (u'tns:viewUrl', u'http://www.trafficnz.info/camera/view/193'), (u'tns:mapx', u'35'), (u'tns:mapy', u'207')]), OrderedDict([(u'tns:id', u'194'), (u'tns:name', u'SH20 5 Sandringham'), (u'tns:description', u'Sandringham looking South'), (u'tns:offline', u'false'), (u'tns:underMaintenance', u'false'), (u'tns:imageUrl', u'http://www.trafficnz.info/camera/194.jpg'), (u'tns:viewUrl', u'http://www.trafficnz.info/camera/view/194'), (u'tns:mapx', u'35'), (u'tns:mapy', u'207')]), OrderedDict([(u'tns:id', u'201'), (u'tns:name', u'SH20 6 Gloucester Pk'), (u'tns:description', u'Gloucester Park looking north'), (u'tns:offline', u'false'), (u'tns:underMaintenance', u'false'), (u'tns:imageUrl', u'http://www.trafficnz.info/camera/201.jpg'), (u'tns:viewUrl', u'http://www.trafficnz.info/camera/view/201'), (u'tns:mapx', u'0'), (u'tns:mapy', u'0')]), OrderedDict([(u'tns:id', u'202'), (u'tns:name', u'SH20 7 Onehunga'), (u'tns:description', u'Onehunga wharf looking north'), (u'tns:offline', u'false'), (u'tns:underMaintenance', u'false'), (u'tns:imageUrl', u'http://www.trafficnz.info/camera/202.jpg'), (u'tns:viewUrl', u'http://www.trafficnz.info/camera/view/202'), (u'tns:mapx', u'0'), (u'tns:mapy', u'0')]), OrderedDict([(u'tns:id', u'203'), (u'tns:name', u'SH20 8 Rimu Rd'), (u'tns:description', u'Rimu Rd looking north'), (u'tns:offline', u'false'), (u'tns:underMaintenance', u'false'), (u'tns:imageUrl', u'http://www.trafficnz.info/camera/203.jpg'), (u'tns:viewUrl', u'http://www.trafficnz.info/camera/view/203'), (u'tns:mapx', u'0'), (u'tns:mapy', u'0')]), OrderedDict([(u'tns:id', u'204'), (u'tns:name', u'SH20 9 Crawford Ave'), (u'tns:description', u'Crawford Ave looking north'), (u'tns:offline', u'false'), (u'tns:underMaintenance', u'false'), (u'tns:imageUrl', u'http://www.trafficnz.info/camera/204.jpg'), (u'tns:viewUrl', u'http://www.trafficnz.info/camera/view/204'), (u'tns:mapx', u'0'), (u'tns:mapy', u'0')]), OrderedDict([(u'tns:id', u'205'), (u'tns:name', u'SH20 Coronation Rd'), (u'tns:description', u'Coronation Rd looking east'), (u'tns:offline', u'false'), (u'tns:underMaintenance', u'false'), (u'tns:imageUrl', u'http://www.trafficnz.info/camera/205.jpg'), (u'tns:viewUrl', u'http://www.trafficnz.info/camera/view/205'), (u'tns:mapx', u'0'), (u'tns:mapy', u'0')]), OrderedDict([(u'tns:id', u'206'), (u'tns:name', u'SH20 11 Puhinui Rd'), (u'tns:description', u'Puhinui road interchange looking south'), (u'tns:offline', u'false'), (u'tns:underMaintenance', u'false'), (u'tns:imageUrl', u'http://www.trafficnz.info/camera/206.jpg'), (u'tns:viewUrl', u'http://www.trafficnz.info/camera/view/206'), (u'tns:mapx', u'0'), (u'tns:mapy', u'0')]), OrderedDict([(u'tns:id', u'207'), (u'tns:name', u'SH20 12 Nesdale Road'), (u'tns:description', u'Nesdale Rd looking east'), (u'tns:offline', u'false'), (u'tns:underMaintenance', u'false'), (u'tns:imageUrl', u'http://www.trafficnz.info/camera/207.jpg'), (u'tns:viewUrl', u'http://www.trafficnz.info/camera/view/207'), (u'tns:mapx', u'0'), (u'tns:mapy', u'0')]), OrderedDict([(u'tns:id', u'208'), (u'tns:name', u'SH20 13 Plunket Ave'), (u'tns:description', u'Plunket Ave looking south'), (u'tns:offline', u'false'), (u'tns:underMaintenance', u'false'), (u'tns:imageUrl', u'http://www.trafficnz.info/camera/208.jpg'), (u'tns:viewUrl', u'http://www.trafficnz.info/camera/view/208'), (u'tns:mapx', u'0'), (u'tns:mapy', u'0')]), OrderedDict([(u'tns:id', u'209'), (u'tns:name', u'SH20 14 Lambie Drive'), (u'tns:description', u'Lambie Drive looking south'), (u'tns:offline', u'false'), (u'tns:underMaintenance', u'false'), (u'tns:imageUrl', u'http://www.trafficnz.info/camera/209.jpg'), (u'tns:viewUrl', u'http://www.trafficnz.info/camera/view/209'), (u'tns:mapx', u'0'), (u'tns:mapy', u'0')]), OrderedDict([(u'tns:id', u'210'), (u'tns:name', u'SH20 15 Barrowcliffe'), (u'tns:description', u'Barrowcliffe Place looking west'), (u'tns:offline', u'false'), (u'tns:underMaintenance', u'false'), (u'tns:imageUrl', u'http://www.trafficnz.info/camera/210.jpg'), (u'tns:viewUrl', u'http://www.trafficnz.info/camera/view/210'), (u'tns:mapx', u'0'), (u'tns:mapy', u'0')]), OrderedDict([(u'tns:id', u'211'), (u'tns:name', u'SH20 16 Great South'), (u'tns:description', u'Great South Rd Looking westbound'), (u'tns:offline', u'false'), (u'tns:underMaintenance', u'false'), (u'tns:imageUrl', u'http://www.trafficnz.info/camera/211.jpg'), (u'tns:viewUrl', u'http://www.trafficnz.info/camera/view/211'), (u'tns:mapx', u'0'), (u'tns:mapy', u'0')])])])\n"
       ]
      }
     ],
     "prompt_number": 160
    },
    {
     "cell_type": "code",
     "collapsed": false,
     "input": [
      "dakey.im_self"
     ],
     "language": "python",
     "metadata": {},
     "outputs": [
      {
       "output_type": "pyout",
       "prompt_number": 161,
       "text": [
        "OrderedDict([(u'tns:getCamerasResponse', OrderedDict([(u'@xmlns:rem', u'http://remote.service.callcenter.nzta.govt.nz'), (u'@xmlns:tns', u'https://infoconnect.highwayinfo.govt.nz/schemas/camera'), (u'@xmlns:xsd', u'http://www.w3.org/2001/XMLSchema'), (u'@xmlns:xsi', u'http://www.w3.org/2001/XMLSchema-instance'), (u'tns:camera', [OrderedDict([(u'tns:id', u'130'), (u'tns:name', u'SH16 1 Bond St'), (u'tns:description', u'Bond St looking east'), (u'tns:offline', u'false'), (u'tns:underMaintenance', u'false'), (u'tns:imageUrl', u'http://www.trafficnz.info/camera/130.jpg'), (u'tns:viewUrl', u'http://www.trafficnz.info/camera/view/130'), (u'tns:mapx', u'142'), (u'tns:mapy', u'229'), (u'tns:congestionLocation', [OrderedDict([(u'tns:name', u'St Lukes Rd - Newton Rd'), (u'tns:direction', u'Eastbound'), (u'tns:congestion', u'Free Flow')]), OrderedDict([(u'tns:name', u'Newton Rd - St Lukes Rd'), (u'tns:direction', u'Westbound'), (u'tns:congestion', u'Free Flow')])])]), OrderedDict([(u'tns:id', u'140'), (u'tns:name', u'SH16 2 Gt North Rd'), (u'tns:description', u'Gt North Road looking west'), (u'tns:offline', u'false'), (u'tns:underMaintenance', u'false'), (u'tns:imageUrl', u'http://www.trafficnz.info/camera/140.jpg'), (u'tns:viewUrl', u'http://www.trafficnz.info/camera/view/140'), (u'tns:mapx', u'113'), (u'tns:mapy', u'232'), (u'tns:congestionLocation', [OrderedDict([(u'tns:name', u'Rosebank Rd - Great Nth Rd Waterview'), (u'tns:direction', u'Eastbound'), (u'tns:congestion', u'Free Flow')]), OrderedDict([(u'tns:name', u'Great Nth Rd Waterview - Rosebank Rd'), (u'tns:direction', u'Westbound'), (u'tns:congestion', u'Free Flow')])])]), OrderedDict([(u'tns:id', u'150'), (u'tns:name', u'SH16 3 Te Atatu Rd'), (u'tns:description', u'Te Atatu Road looking east'), (u'tns:offline', u'false'), (u'tns:underMaintenance', u'false'), (u'tns:imageUrl', u'http://www.trafficnz.info/camera/150.jpg'), (u'tns:viewUrl', u'http://www.trafficnz.info/camera/view/150'), (u'tns:mapx', u'70'), (u'tns:mapy', u'216'), (u'tns:congestionLocation', [OrderedDict([(u'tns:name', u'Te Atatu Rd - Rosebank Rd'), (u'tns:direction', u'Eastbound'), (u'tns:congestion', u'Free Flow')]), OrderedDict([(u'tns:name', u'Rosebank Rd - Te Atatu Rd'), (u'tns:direction', u'Westbound'), (u'tns:congestion', u'Free Flow')])])]), OrderedDict([(u'tns:id', u'160'), (u'tns:name', u'SH16 4 Lincoln Rd E'), (u'tns:description', u'Lincoln Rd  looking west'), (u'tns:offline', u'false'), (u'tns:underMaintenance', u'false'), (u'tns:imageUrl', u'http://www.trafficnz.info/camera/160.jpg'), (u'tns:viewUrl', u'http://www.trafficnz.info/camera/view/160'), (u'tns:mapx', u'52'), (u'tns:mapy', u'207'), (u'tns:congestionLocation', [OrderedDict([(u'tns:name', u'Te Atatu Rd - Lincoln Rd'), (u'tns:direction', u'Westbound'), (u'tns:congestion', u'Free Flow')]), OrderedDict([(u'tns:name', u'Lincoln Rd - Te Atatu Rd'), (u'tns:direction', u'Eastbound'), (u'tns:congestion', u'Free Flow')])])]), OrderedDict([(u'tns:id', u'170'), (u'tns:name', u'SH16 5 Lincoln Rd W'), (u'tns:description', u'Lincoln Rd looking east'), (u'tns:offline', u'false'), (u'tns:underMaintenance', u'false'), (u'tns:imageUrl', u'http://www.trafficnz.info/camera/170.jpg'), (u'tns:viewUrl', u'http://www.trafficnz.info/camera/view/170'), (u'tns:mapx', u'35'), (u'tns:mapy', u'207'), (u'tns:congestionLocation', [OrderedDict([(u'tns:name', u'Lincoln Rd - Royal Rd'), (u'tns:direction', u'Westbound'), (u'tns:congestion', u'Free Flow')]), OrderedDict([(u'tns:name', u'Royal Rd - Lincoln Rd'), (u'tns:direction', u'Eastbound'), (u'tns:congestion', u'Free Flow')])])]), OrderedDict([(u'tns:id', u'270'), (u'tns:name', u'SH16 6 Hobsonville W'), (u'tns:description', u'Hobsonville looking West towards Kumeu'), (u'tns:offline', u'false'), (u'tns:underMaintenance', u'false'), (u'tns:imageUrl', u'http://www.trafficnz.info/camera/270.jpg'), (u'tns:viewUrl', u'http://www.trafficnz.info/camera/view/270'), (u'tns:mapx', u'0'), (u'tns:mapy', u'0')]), OrderedDict([(u'tns:id', u'271'), (u'tns:name', u'SH16 7 Hobsonville E'), (u'tns:description', u'Hobsonville Road looking East'), (u'tns:offline', u'false'), (u'tns:underMaintenance', u'false'), (u'tns:imageUrl', u'http://www.trafficnz.info/camera/271.jpg'), (u'tns:viewUrl', u'http://www.trafficnz.info/camera/view/271'), (u'tns:mapx', u'0'), (u'tns:mapy', u'0')]), OrderedDict([(u'tns:id', u'221'), (u'tns:name', u'SH18 Trig Rd'), (u'tns:description', u'Trig Rd looking west'), (u'tns:offline', u'false'), (u'tns:underMaintenance', u'false'), (u'tns:imageUrl', u'http://www.trafficnz.info/camera/221.jpg'), (u'tns:viewUrl', u'http://www.trafficnz.info/camera/view/221'), (u'tns:mapx', u'0'), (u'tns:mapy', u'0')]), OrderedDict([(u'tns:id', u'222'), (u'tns:name', u'SH18 Waiahora Creek'), (u'tns:description', u'Upper harbour motorway looking west'), (u'tns:offline', u'false'), (u'tns:underMaintenance', u'false'), (u'tns:imageUrl', u'http://www.trafficnz.info/camera/222.jpg'), (u'tns:viewUrl', u'http://www.trafficnz.info/camera/view/222'), (u'tns:mapx', u'0'), (u'tns:mapy', u'0')]), OrderedDict([(u'tns:id', u'223'), (u'tns:name', u'SH18 Brigham Creek'), (u'tns:description', u'Upper harbour motorway looking East'), (u'tns:offline', u'false'), (u'tns:underMaintenance', u'false'), (u'tns:imageUrl', u'http://www.trafficnz.info/camera/223.jpg'), (u'tns:viewUrl', u'http://www.trafficnz.info/camera/view/223'), (u'tns:mapx', u'0'), (u'tns:mapy', u'0')]), OrderedDict([(u'tns:id', u'224'), (u'tns:name', u'SH18 Sinton Rd'), (u'tns:description', u'Upper harbour motorway looking west'), (u'tns:offline', u'false'), (u'tns:underMaintenance', u'false'), (u'tns:imageUrl', u'http://www.trafficnz.info/camera/224.jpg'), (u'tns:viewUrl', u'http://www.trafficnz.info/camera/view/224'), (u'tns:mapx', u'0'), (u'tns:mapy', u'0')]), OrderedDict([(u'tns:id', u'225'), (u'tns:name', u'SH18 Squadron Dr'), (u'tns:description', u'Upper harbour motorway looking east'), (u'tns:offline', u'false'), (u'tns:underMaintenance', u'false'), (u'tns:imageUrl', u'http://www.trafficnz.info/camera/225.jpg'), (u'tns:viewUrl', u'http://www.trafficnz.info/camera/view/225'), (u'tns:mapx', u'0'), (u'tns:mapy', u'0')]), OrderedDict([(u'tns:id', u'171'), (u'tns:name', u'SH18 6 Tauhinu BRG'), (u'tns:description', u'Tauhinu bridge looking east'), (u'tns:offline', u'false'), (u'tns:underMaintenance', u'false'), (u'tns:imageUrl', u'http://www.trafficnz.info/camera/171.jpg'), (u'tns:viewUrl', u'http://www.trafficnz.info/camera/view/171'), (u'tns:mapx', u'60'), (u'tns:mapy', u'207')]), OrderedDict([(u'tns:id', u'172'), (u'tns:name', u'SH18 7 Albany HWY'), (u'tns:description', u'Albany Highway Looking East'), (u'tns:offline', u'false'), (u'tns:underMaintenance', u'false'), (u'tns:imageUrl', u'http://www.trafficnz.info/camera/172.jpg'), (u'tns:viewUrl', u'http://www.trafficnz.info/camera/view/172'), (u'tns:mapx', u'35'), (u'tns:mapy', u'207')]), OrderedDict([(u'tns:id', u'173'), (u'tns:name', u'SH18 8 Tauhinu East'), (u'tns:description', u'Tauhinu East Looking East'), (u'tns:offline', u'false'), (u'tns:underMaintenance', u'false'), (u'tns:imageUrl', u'http://www.trafficnz.info/camera/173.jpg'), (u'tns:viewUrl', u'http://www.trafficnz.info/camera/view/173'), (u'tns:mapx', u'35'), (u'tns:mapy', u'207')]), OrderedDict([(u'tns:id', u'174'), (u'tns:name', u'SH18 9 Paul Matthews'), (u'tns:description', u'Paul matthews looking east'), (u'tns:offline', u'false'), (u'tns:underMaintenance', u'false'), (u'tns:imageUrl', u'http://www.trafficnz.info/camera/174.jpg'), (u'tns:viewUrl', u'http://www.trafficnz.info/camera/view/174'), (u'tns:mapx', u'35'), (u'tns:mapy', u'207')]), OrderedDict([(u'tns:id', u'175'), (u'tns:name', u'SH18 10 Greenhithe'), (u'tns:description', u'Greenhithe Rd looking east'), (u'tns:offline', u'false'), (u'tns:underMaintenance', u'false'), (u'tns:imageUrl', u'http://www.trafficnz.info/camera/175.jpg'), (u'tns:viewUrl', u'http://www.trafficnz.info/camera/view/175'), (u'tns:mapx', u'35'), (u'tns:mapy', u'207')]), OrderedDict([(u'tns:id', u'176'), (u'tns:name', u'SH18 11 George Deane'), (u'tns:description', u'George deane looking east'), (u'tns:offline', u'false'), (u'tns:underMaintenance', u'false'), (u'tns:imageUrl', u'http://www.trafficnz.info/camera/176.jpg'), (u'tns:viewUrl', u'http://www.trafficnz.info/camera/view/176'), (u'tns:mapx', u'35'), (u'tns:mapy', u'207')]), OrderedDict([(u'tns:id', u'177'), (u'tns:name', u'SH18 12 Upper Hbr CW'), (u'tns:description', u'Upper harbour looking east'), (u'tns:offline', u'false'), (u'tns:underMaintenance', u'false'), (u'tns:imageUrl', u'http://www.trafficnz.info/camera/177.jpg'), (u'tns:viewUrl', u'http://www.trafficnz.info/camera/view/177'), (u'tns:mapx', u'35'), (u'tns:mapy', u'207')]), OrderedDict([(u'tns:id', u'178'), (u'tns:name', u'SH18 13 Wicklam Lane'), (u'tns:description', u'Wicklam Lane looking west'), (u'tns:offline', u'false'), (u'tns:underMaintenance', u'false'), (u'tns:imageUrl', u'http://www.trafficnz.info/camera/178.jpg'), (u'tns:viewUrl', u'http://www.trafficnz.info/camera/view/178'), (u'tns:mapx', u'35'), (u'tns:mapy', u'207')]), OrderedDict([(u'tns:id', u'10'), (u'tns:name', u'SH1 1 Greville Rd'), (u'tns:description', u'Greville road looking south'), (u'tns:offline', u'false'), (u'tns:underMaintenance', u'false'), (u'tns:imageUrl', u'http://www.trafficnz.info/camera/10.jpg'), (u'tns:viewUrl', u'http://www.trafficnz.info/camera/view/10'), (u'tns:mapx', u'125'), (u'tns:mapy', u'71'), (u'tns:congestionLocation', [OrderedDict([(u'tns:name', u'Upper Harb Hwy - Oteha Valley Rd'), (u'tns:direction', u'Northbound'), (u'tns:congestion', u'Free Flow')]), OrderedDict([(u'tns:name', u'Oteha Valley Rd - Upper Harb Hwy'), (u'tns:direction', u'Southbound'), (u'tns:congestion', u'Free Flow')])])]), OrderedDict([(u'tns:id', u'20'), (u'tns:name', u'SH1 2 Tristram Ave'), (u'tns:description', u'Tristram Avenue looking south'), (u'tns:offline', u'false'), (u'tns:underMaintenance', u'false'), (u'tns:imageUrl', u'http://www.trafficnz.info/camera/20.jpg'), (u'tns:viewUrl', u'http://www.trafficnz.info/camera/view/20'), (u'tns:mapx', u'148'), (u'tns:mapy', u'118'), (u'tns:congestionLocation', [OrderedDict([(u'tns:name', u'Tristram Ave - Esmonde Rd'), (u'tns:direction', u'Southbound'), (u'tns:congestion', u'Free Flow')]), OrderedDict([(u'tns:name', u'Esmonde Rd - Tristram Ave'), (u'tns:direction', u'Northbound'), (u'tns:congestion', u'Free Flow')])])]), OrderedDict([(u'tns:id', u'30'), (u'tns:name', u'SH1 3 Northcote Rd'), (u'tns:description', u'Northcote Rd looking north'), (u'tns:offline', u'false'), (u'tns:underMaintenance', u'false'), (u'tns:imageUrl', u'http://www.trafficnz.info/camera/30.jpg'), (u'tns:viewUrl', u'http://www.trafficnz.info/camera/view/30'), (u'tns:mapx', u'156'), (u'tns:mapy', u'141'), (u'tns:congestionLocation', [OrderedDict([(u'tns:name', u'Tristram Ave - Esmonde Rd'), (u'tns:direction', u'Southbound'), (u'tns:congestion', u'Free Flow')]), OrderedDict([(u'tns:name', u'Esmonde Rd - Tristram Ave'), (u'tns:direction', u'Northbound'), (u'tns:congestion', u'Free Flow')])])]), OrderedDict([(u'tns:id', u'40'), (u'tns:name', u'SH1 4 Esmonde Rd'), (u'tns:description', u'Esmonde Rd looking south'), (u'tns:offline', u'false'), (u'tns:underMaintenance', u'false'), (u'tns:imageUrl', u'http://www.trafficnz.info/camera/40.jpg'), (u'tns:viewUrl', u'http://www.trafficnz.info/camera/view/40'), (u'tns:mapx', u'178'), (u'tns:mapy', u'146'), (u'tns:congestionLocation', [OrderedDict([(u'tns:name', u'Esmonde Rd - Onewa'), (u'tns:direction', u'Southbound'), (u'tns:congestion', u'Free Flow')]), OrderedDict([(u'tns:name', u'Stafford Rd - Esmonde Rd'), (u'tns:direction', u'Northbound'), (u'tns:congestion', u'Free Flow')])])]), OrderedDict([(u'tns:id', u'50'), (u'tns:name', u'SH1 5 Onewa Rd'), (u'tns:description', u'Onewa Rd looking south'), (u'tns:offline', u'false'), (u'tns:underMaintenance', u'false'), (u'tns:imageUrl', u'http://www.trafficnz.info/camera/50.jpg'), (u'tns:viewUrl', u'http://www.trafficnz.info/camera/view/50'), (u'tns:mapx', u'157'), (u'tns:mapy', u'162'), (u'tns:congestionLocation', [OrderedDict([(u'tns:name', u'Harbour Bridge'), (u'tns:direction', u'Southbound'), (u'tns:congestion', u'Free Flow')]), OrderedDict([(u'tns:name', u'Stafford Rd - Esmonde Rd'), (u'tns:direction', u'Northbound'), (u'tns:congestion', u'Free Flow')])])]), OrderedDict([(u'tns:id', u'215'), (u'tns:name', u'SH1 Alpurt Web cam'), (u'tns:description', u'Johnstone hill tunnels looking south'), (u'tns:offline', u'false'), (u'tns:underMaintenance', u'false'), (u'tns:imageUrl', u'http://www.trafficnz.info/camera/215.jpg'), (u'tns:viewUrl', u'http://www.trafficnz.info/camera/view/215'), (u'tns:mapx', u'0'), (u'tns:mapy', u'0')]), OrderedDict([(u'tns:id', u'212'), (u'tns:name', u'SH1 17 Goodwood'), (u'tns:description', u'Goodwood heights looking south'), (u'tns:offline', u'false'), (u'tns:underMaintenance', u'false'), (u'tns:imageUrl', u'http://www.trafficnz.info/camera/212.jpg'), (u'tns:viewUrl', u'http://www.trafficnz.info/camera/view/212'), (u'tns:mapx', u'0'), (u'tns:mapy', u'0')]), OrderedDict([(u'tns:id', u'214'), (u'tns:name', u'SH1 18 Rainbows End'), (u'tns:description', u'Rainbows End looking north at SH1 and SH20 link'), (u'tns:offline', u'false'), (u'tns:underMaintenance', u'false'), (u'tns:imageUrl', u'http://www.trafficnz.info/camera/214.jpg'), (u'tns:viewUrl', u'http://www.trafficnz.info/camera/view/214'), (u'tns:mapx', u'0'), (u'tns:mapy', u'0')]), OrderedDict([(u'tns:id', u'60'), (u'tns:name', u'SH1 1 CMJ'), (u'tns:description', u'Central motorway junction looking south at the link between state highways 1 and 16'), (u'tns:offline', u'false'), (u'tns:underMaintenance', u'false'), (u'tns:imageUrl', u'http://www.trafficnz.info/camera/60.jpg'), (u'tns:viewUrl', u'http://www.trafficnz.info/camera/view/60'), (u'tns:mapx', u'162'), (u'tns:mapy', u'217'), (u'tns:congestionLocation', OrderedDict([(u'tns:name', u'Nelson St - Gillies Ave'), (u'tns:direction', u'Southbound'), (u'tns:congestion', u'Free Flow')]))]), OrderedDict([(u'tns:id', u'70'), (u'tns:name', u'SH1 2 Market Rd'), (u'tns:description', u'Southern motorway at newmarket looking south towards the Market  Rd overbridge'), (u'tns:offline', u'false'), (u'tns:underMaintenance', u'false'), (u'tns:imageUrl', u'http://www.trafficnz.info/camera/70.jpg'), (u'tns:viewUrl', u'http://www.trafficnz.info/camera/view/70'), (u'tns:mapx', u'183'), (u'tns:mapy', u'241'), (u'tns:congestionLocation', [OrderedDict([(u'tns:name', u'Gillies Ave - Greenlane'), (u'tns:direction', u'Southbound'), (u'tns:congestion', u'Free Flow')]), OrderedDict([(u'tns:name', u'Greenlane - Gillies Ave'), (u'tns:direction', u'Northbound'), (u'tns:congestion', u'Free Flow')])])]), OrderedDict([(u'tns:id', u'80'), (u'tns:name', u'SH1 3 Greenlane Rd'), (u'tns:description', u'Greenlane Rd looking north'), (u'tns:offline', u'false'), (u'tns:underMaintenance', u'false'), (u'tns:imageUrl', u'http://www.trafficnz.info/camera/80.jpg'), (u'tns:viewUrl', u'http://www.trafficnz.info/camera/view/80'), (u'tns:mapx', u'198'), (u'tns:mapy', u'262'), (u'tns:congestionLocation', [OrderedDict([(u'tns:name', u'Gillies Ave - Greenlane'), (u'tns:direction', u'Southbound'), (u'tns:congestion', u'Free Flow')]), OrderedDict([(u'tns:name', u'Greenlane - Gillies Ave'), (u'tns:direction', u'Northbound'), (u'tns:congestion', u'Free Flow')])])]), OrderedDict([(u'tns:id', u'90'), (u'tns:name', u'SH1 4 SE Highway'), (u'tns:description', u'South eastern highway looking south'), (u'tns:offline', u'false'), (u'tns:underMaintenance', u'false'), (u'tns:imageUrl', u'http://www.trafficnz.info/camera/90.jpg'), (u'tns:viewUrl', u'http://www.trafficnz.info/camera/view/90'), (u'tns:mapx', u'219'), (u'tns:mapy', u'278'), (u'tns:congestionLocation', [OrderedDict([(u'tns:name', u'Mt Wellington Hway - SE Highway'), (u'tns:direction', u'Northbound'), (u'tns:congestion', u'Free Flow')]), OrderedDict([(u'tns:name', u'SE Highway - Mt Wellington Hway'), (u'tns:direction', u'Southbound'), (u'tns:congestion', u'Moderate')])])]), OrderedDict([(u'tns:id', u'100'), (u'tns:name', u'SH1 5 Redoubt Rd'), (u'tns:description', u'Redoubt Rd looking north'), (u'tns:offline', u'false'), (u'tns:underMaintenance', u'false'), (u'tns:imageUrl', u'http://www.trafficnz.info/camera/100.jpg'), (u'tns:viewUrl', u'http://www.trafficnz.info/camera/view/100'), (u'tns:mapx', u'254'), (u'tns:mapy', u'341'), (u'tns:congestionLocation', [OrderedDict([(u'tns:name', u'Redoubt Rd - Hill Rd'), (u'tns:direction', u'Southbound'), (u'tns:congestion', u'Free Flow')]), OrderedDict([(u'tns:name', u'Hill Rd - Redoubt Rd'), (u'tns:direction', u'Northbound'), (u'tns:congestion', u'Free Flow')])])]), OrderedDict([(u'tns:id', u'110'), (u'tns:name', u'SH1 6 Bairds Rd'), (u'tns:description', u'Bairds Rd looking north'), (u'tns:offline', u'false'), (u'tns:underMaintenance', u'false'), (u'tns:imageUrl', u'http://www.trafficnz.info/camera/110.jpg'), (u'tns:viewUrl', u'http://www.trafficnz.info/camera/view/110'), (u'tns:mapx', u'275'), (u'tns:mapy', u'383'), (u'tns:congestionLocation', [OrderedDict([(u'tns:name', u'East Tamaki Rd - Princes St'), (u'tns:direction', u'Northbound'), (u'tns:congestion', u'Free Flow')]), OrderedDict([(u'tns:name', u'Princes St - East Tamaki Rd'), (u'tns:direction', u'Southbound'), (u'tns:congestion', u'Free Flow')])])]), OrderedDict([(u'tns:id', u'120'), (u'tns:name', u'SH1 7 Alfriston Rd'), (u'tns:description', u'Alfriston Rd looking north'), (u'tns:offline', u'false'), (u'tns:underMaintenance', u'false'), (u'tns:imageUrl', u'http://www.trafficnz.info/camera/120.jpg'), (u'tns:viewUrl', u'http://www.trafficnz.info/camera/view/120'), (u'tns:mapx', u'291'), (u'tns:mapy', u'411'), (u'tns:congestionLocation', [OrderedDict([(u'tns:name', u'Takanini - Hill Rd'), (u'tns:direction', u'Northbound'), (u'tns:congestion', u'Free Flow')]), OrderedDict([(u'tns:name', u'Hill Rd - Takanini'), (u'tns:direction', u'Southbound'), (u'tns:congestion', u'Free Flow')])])]), OrderedDict([(u'tns:id', u'121'), (u'tns:name', u'SH1 8 Takanini'), (u'tns:description', u'Takanini looking south'), (u'tns:offline', u'false'), (u'tns:underMaintenance', u'false'), (u'tns:imageUrl', u'http://www.trafficnz.info/camera/121.jpg'), (u'tns:viewUrl', u'http://www.trafficnz.info/camera/view/121'), (u'tns:mapx', u'290'), (u'tns:mapy', u'380')]), OrderedDict([(u'tns:id', u'122'), (u'tns:name', u'SH1 9 Walter Streven'), (u'tns:description', u'Walter-Strevens Drive looking south'), (u'tns:offline', u'false'), (u'tns:underMaintenance', u'false'), (u'tns:imageUrl', u'http://www.trafficnz.info/camera/122.jpg'), (u'tns:viewUrl', u'http://www.trafficnz.info/camera/view/122'), (u'tns:mapx', u'285'), (u'tns:mapy', u'400')]), OrderedDict([(u'tns:id', u'123'), (u'tns:name', u'SH1 10 Pahurehure'), (u'tns:description', u'Pahurehure looking south'), (u'tns:offline', u'false'), (u'tns:underMaintenance', u'false'), (u'tns:imageUrl', u'http://www.trafficnz.info/camera/123.jpg'), (u'tns:viewUrl', u'http://www.trafficnz.info/camera/view/123'), (u'tns:mapx', u'265'), (u'tns:mapy', u'410')]), OrderedDict([(u'tns:id', u'124'), (u'tns:name', u'SH1 11 Rushgreen Ave'), (u'tns:description', u'Rushgreen Ave looking south'), (u'tns:offline', u'false'), (u'tns:underMaintenance', u'false'), (u'tns:imageUrl', u'http://www.trafficnz.info/camera/124.jpg'), (u'tns:viewUrl', u'http://www.trafficnz.info/camera/view/124'), (u'tns:mapx', u'285'), (u'tns:mapy', u'420')]), OrderedDict([(u'tns:id', u'125'), (u'tns:name', u'SH1 12 Park Estate'), (u'tns:description', u'Park estate looking south'), (u'tns:offline', u'false'), (u'tns:underMaintenance', u'false'), (u'tns:imageUrl', u'http://www.trafficnz.info/camera/125.jpg'), (u'tns:viewUrl', u'http://www.trafficnz.info/camera/view/125'), (u'tns:mapx', u'300'), (u'tns:mapy', u'430')]), OrderedDict([(u'tns:id', u'126'), (u'tns:name', u'SH1 13 Slippery Crk'), (u'tns:description', u'Slippery Creek looking  south'), (u'tns:offline', u'false'), (u'tns:underMaintenance', u'false'), (u'tns:imageUrl', u'http://www.trafficnz.info/camera/126.jpg'), (u'tns:viewUrl', u'http://www.trafficnz.info/camera/view/126'), (u'tns:mapx', u'286'), (u'tns:mapy', u'445')]), OrderedDict([(u'tns:id', u'274'), (u'tns:name', u'SH20A Montgomerie Rd'), (u'tns:description', u'Montgomerie Rd looking east'), (u'tns:offline', u'false'), (u'tns:underMaintenance', u'false'), (u'tns:imageUrl', u'http://www.trafficnz.info/camera/274.jpg'), (u'tns:viewUrl', u'http://www.trafficnz.info/camera/view/274'), (u'tns:mapx', u'0'), (u'tns:mapy', u'0')]), OrderedDict([(u'tns:id', u'275'), (u'tns:name', u'SH20A Kirkbride Road'), (u'tns:description', u'Kirkbride Rd looking east'), (u'tns:offline', u'false'), (u'tns:underMaintenance', u'false'), (u'tns:imageUrl', u'http://www.trafficnz.info/camera/275.jpg'), (u'tns:viewUrl', u'http://www.trafficnz.info/camera/view/275'), (u'tns:mapx', u'0'), (u'tns:mapy', u'0')]), OrderedDict([(u'tns:id', u'276'), (u'tns:name', u'SH20A Bader Drive'), (u'tns:description', u'Bader Drive looking east'), (u'tns:offline', u'false'), (u'tns:underMaintenance', u'false'), (u'tns:imageUrl', u'http://www.trafficnz.info/camera/276.jpg'), (u'tns:viewUrl', u'http://www.trafficnz.info/camera/view/276'), (u'tns:mapx', u'0'), (u'tns:mapy', u'0')]), OrderedDict([(u'tns:id', u'272'), (u'tns:name', u'SH20B Prices Road'), (u'tns:description', u'Prices Rd looking east'), (u'tns:offline', u'false'), (u'tns:underMaintenance', u'false'), (u'tns:imageUrl', u'http://www.trafficnz.info/camera/272.jpg'), (u'tns:viewUrl', u'http://www.trafficnz.info/camera/view/272'), (u'tns:mapx', u'0'), (u'tns:mapy', u'0')]), OrderedDict([(u'tns:id', u'273'), (u'tns:name', u'SH20B Waokauri Creek'), (u'tns:description', u'Waokauri Creek looking west'), (u'tns:offline', u'false'), (u'tns:underMaintenance', u'false'), (u'tns:imageUrl', u'http://www.trafficnz.info/camera/273.jpg'), (u'tns:viewUrl', u'http://www.trafficnz.info/camera/view/273'), (u'tns:mapx', u'0'), (u'tns:mapy', u'0')]), OrderedDict([(u'tns:id', u'190'), (u'tns:name', u'SH20 1 Queenstown Rd'), (u'tns:description', u'Queenstown Rd looking south'), (u'tns:offline', u'false'), (u'tns:underMaintenance', u'false'), (u'tns:imageUrl', u'http://www.trafficnz.info/camera/190.jpg'), (u'tns:viewUrl', u'http://www.trafficnz.info/camera/view/190'), (u'tns:mapx', u'35'), (u'tns:mapy', u'207')]), OrderedDict([(u'tns:id', u'191'), (u'tns:name', u'SH20 2 Hillsborough'), (u'tns:description', u'Hillsborough Rd looking south'), (u'tns:offline', u'false'), (u'tns:underMaintenance', u'false'), (u'tns:imageUrl', u'http://www.trafficnz.info/camera/191.jpg'), (u'tns:viewUrl', u'http://www.trafficnz.info/camera/view/191'), (u'tns:mapx', u'35'), (u'tns:mapy', u'207')]), OrderedDict([(u'tns:id', u'192'), (u'tns:name', u'SH20 3 Melrose'), (u'tns:description', u'Melrose looking south'), (u'tns:offline', u'false'), (u'tns:underMaintenance', u'false'), (u'tns:imageUrl', u'http://www.trafficnz.info/camera/192.jpg'), (u'tns:viewUrl', u'http://www.trafficnz.info/camera/view/192'), (u'tns:mapx', u'35'), (u'tns:mapy', u'207')]), OrderedDict([(u'tns:id', u'193'), (u'tns:name', u'SH20 4 Dominion Rd'), (u'tns:description', u'Dominion Rd looking south'), (u'tns:offline', u'false'), (u'tns:underMaintenance', u'false'), (u'tns:imageUrl', u'http://www.trafficnz.info/camera/193.jpg'), (u'tns:viewUrl', u'http://www.trafficnz.info/camera/view/193'), (u'tns:mapx', u'35'), (u'tns:mapy', u'207')]), OrderedDict([(u'tns:id', u'194'), (u'tns:name', u'SH20 5 Sandringham'), (u'tns:description', u'Sandringham looking South'), (u'tns:offline', u'false'), (u'tns:underMaintenance', u'false'), (u'tns:imageUrl', u'http://www.trafficnz.info/camera/194.jpg'), (u'tns:viewUrl', u'http://www.trafficnz.info/camera/view/194'), (u'tns:mapx', u'35'), (u'tns:mapy', u'207')]), OrderedDict([(u'tns:id', u'201'), (u'tns:name', u'SH20 6 Gloucester Pk'), (u'tns:description', u'Gloucester Park looking north'), (u'tns:offline', u'false'), (u'tns:underMaintenance', u'false'), (u'tns:imageUrl', u'http://www.trafficnz.info/camera/201.jpg'), (u'tns:viewUrl', u'http://www.trafficnz.info/camera/view/201'), (u'tns:mapx', u'0'), (u'tns:mapy', u'0')]), OrderedDict([(u'tns:id', u'202'), (u'tns:name', u'SH20 7 Onehunga'), (u'tns:description', u'Onehunga wharf looking north'), (u'tns:offline', u'false'), (u'tns:underMaintenance', u'false'), (u'tns:imageUrl', u'http://www.trafficnz.info/camera/202.jpg'), (u'tns:viewUrl', u'http://www.trafficnz.info/camera/view/202'), (u'tns:mapx', u'0'), (u'tns:mapy', u'0')]), OrderedDict([(u'tns:id', u'203'), (u'tns:name', u'SH20 8 Rimu Rd'), (u'tns:description', u'Rimu Rd looking north'), (u'tns:offline', u'false'), (u'tns:underMaintenance', u'false'), (u'tns:imageUrl', u'http://www.trafficnz.info/camera/203.jpg'), (u'tns:viewUrl', u'http://www.trafficnz.info/camera/view/203'), (u'tns:mapx', u'0'), (u'tns:mapy', u'0')]), OrderedDict([(u'tns:id', u'204'), (u'tns:name', u'SH20 9 Crawford Ave'), (u'tns:description', u'Crawford Ave looking north'), (u'tns:offline', u'false'), (u'tns:underMaintenance', u'false'), (u'tns:imageUrl', u'http://www.trafficnz.info/camera/204.jpg'), (u'tns:viewUrl', u'http://www.trafficnz.info/camera/view/204'), (u'tns:mapx', u'0'), (u'tns:mapy', u'0')]), OrderedDict([(u'tns:id', u'205'), (u'tns:name', u'SH20 Coronation Rd'), (u'tns:description', u'Coronation Rd looking east'), (u'tns:offline', u'false'), (u'tns:underMaintenance', u'false'), (u'tns:imageUrl', u'http://www.trafficnz.info/camera/205.jpg'), (u'tns:viewUrl', u'http://www.trafficnz.info/camera/view/205'), (u'tns:mapx', u'0'), (u'tns:mapy', u'0')]), OrderedDict([(u'tns:id', u'206'), (u'tns:name', u'SH20 11 Puhinui Rd'), (u'tns:description', u'Puhinui road interchange looking south'), (u'tns:offline', u'false'), (u'tns:underMaintenance', u'false'), (u'tns:imageUrl', u'http://www.trafficnz.info/camera/206.jpg'), (u'tns:viewUrl', u'http://www.trafficnz.info/camera/view/206'), (u'tns:mapx', u'0'), (u'tns:mapy', u'0')]), OrderedDict([(u'tns:id', u'207'), (u'tns:name', u'SH20 12 Nesdale Road'), (u'tns:description', u'Nesdale Rd looking east'), (u'tns:offline', u'false'), (u'tns:underMaintenance', u'false'), (u'tns:imageUrl', u'http://www.trafficnz.info/camera/207.jpg'), (u'tns:viewUrl', u'http://www.trafficnz.info/camera/view/207'), (u'tns:mapx', u'0'), (u'tns:mapy', u'0')]), OrderedDict([(u'tns:id', u'208'), (u'tns:name', u'SH20 13 Plunket Ave'), (u'tns:description', u'Plunket Ave looking south'), (u'tns:offline', u'false'), (u'tns:underMaintenance', u'false'), (u'tns:imageUrl', u'http://www.trafficnz.info/camera/208.jpg'), (u'tns:viewUrl', u'http://www.trafficnz.info/camera/view/208'), (u'tns:mapx', u'0'), (u'tns:mapy', u'0')]), OrderedDict([(u'tns:id', u'209'), (u'tns:name', u'SH20 14 Lambie Drive'), (u'tns:description', u'Lambie Drive looking south'), (u'tns:offline', u'false'), (u'tns:underMaintenance', u'false'), (u'tns:imageUrl', u'http://www.trafficnz.info/camera/209.jpg'), (u'tns:viewUrl', u'http://www.trafficnz.info/camera/view/209'), (u'tns:mapx', u'0'), (u'tns:mapy', u'0')]), OrderedDict([(u'tns:id', u'210'), (u'tns:name', u'SH20 15 Barrowcliffe'), (u'tns:description', u'Barrowcliffe Place looking west'), (u'tns:offline', u'false'), (u'tns:underMaintenance', u'false'), (u'tns:imageUrl', u'http://www.trafficnz.info/camera/210.jpg'), (u'tns:viewUrl', u'http://www.trafficnz.info/camera/view/210'), (u'tns:mapx', u'0'), (u'tns:mapy', u'0')]), OrderedDict([(u'tns:id', u'211'), (u'tns:name', u'SH20 16 Great South'), (u'tns:description', u'Great South Rd Looking westbound'), (u'tns:offline', u'false'), (u'tns:underMaintenance', u'false'), (u'tns:imageUrl', u'http://www.trafficnz.info/camera/211.jpg'), (u'tns:viewUrl', u'http://www.trafficnz.info/camera/view/211'), (u'tns:mapx', u'0'), (u'tns:mapy', u'0')])])]))])"
       ]
      }
     ],
     "prompt_number": 161
    },
    {
     "cell_type": "code",
     "collapsed": false,
     "input": [
      "#opcon.read()"
     ],
     "language": "python",
     "metadata": {},
     "outputs": [],
     "prompt_number": 162
    },
    {
     "cell_type": "code",
     "collapsed": false,
     "input": [
      "print hamxml"
     ],
     "language": "python",
     "metadata": {},
     "outputs": [
      {
       "ename": "NameError",
       "evalue": "name 'hamxml' is not defined",
       "output_type": "pyerr",
       "traceback": [
        "\u001b[0;31m---------------------------------------------------------------------------\u001b[0m\n\u001b[0;31mNameError\u001b[0m                                 Traceback (most recent call last)",
        "\u001b[0;32m<ipython-input-163-dbc9bca2efc7>\u001b[0m in \u001b[0;36m<module>\u001b[0;34m()\u001b[0m\n\u001b[0;32m----> 1\u001b[0;31m \u001b[0;32mprint\u001b[0m \u001b[0mhamxml\u001b[0m\u001b[0;34m\u001b[0m\u001b[0m\n\u001b[0m",
        "\u001b[0;31mNameError\u001b[0m: name 'hamxml' is not defined"
       ]
      }
     ],
     "prompt_number": 163
    },
    {
     "cell_type": "code",
     "collapsed": false,
     "input": [
      "gitlist = []"
     ],
     "language": "python",
     "metadata": {},
     "outputs": [],
     "prompt_number": 164
    },
    {
     "cell_type": "code",
     "collapsed": false,
     "input": [
      "searchpy = g.search_repositories(theuser)"
     ],
     "language": "python",
     "metadata": {},
     "outputs": [],
     "prompt_number": 13
    },
    {
     "cell_type": "code",
     "collapsed": false,
     "input": [
      "typy = g.search_users(theuser)"
     ],
     "language": "python",
     "metadata": {},
     "outputs": [],
     "prompt_number": 22
    },
    {
     "cell_type": "code",
     "collapsed": false,
     "input": [
      "blehgit = g.search_repositories('reddit')"
     ],
     "language": "python",
     "metadata": {},
     "outputs": [],
     "prompt_number": 82
    },
    {
     "cell_type": "raw",
     "metadata": {},
     "source": [
      "oh man, what have i got happening here. This started with a way of downloading repos in bulk from a user and ive started to bring in more github module. Here I am searching repositories on github for reddit. \n",
      "What things could i get it to search for?\n",
      "- list\n",
      "- search your repos on global to find similar named ones.\n",
      "- "
     ]
    },
    {
     "cell_type": "code",
     "collapsed": false,
     "input": [
      "repolis = []"
     ],
     "language": "python",
     "metadata": {},
     "outputs": [],
     "prompt_number": 83
    },
    {
     "cell_type": "code",
     "collapsed": false,
     "input": [
      "print repolis"
     ],
     "language": "python",
     "metadata": {},
     "outputs": [
      {
       "output_type": "stream",
       "stream": "stdout",
       "text": [
        "[]\n"
       ]
      }
     ],
     "prompt_number": 84
    },
    {
     "cell_type": "code",
     "collapsed": false,
     "input": [
      "for bleh in blehgit:\n",
      "    repolis.append(bleh)\n",
      "    #print bleh.full_name"
     ],
     "language": "python",
     "metadata": {},
     "outputs": [
      {
       "ename": "GithubException",
       "evalue": "403 {u'documentation_url': u'https://developer.github.com/v3/#rate-limiting', u'message': u\"API rate limit exceeded for 74.50.51.32. (But here's the good news: Authenticated requests get a higher rate limit. Check out the documentation for more details.)\"}",
       "output_type": "pyerr",
       "traceback": [
        "\u001b[0;31m---------------------------------------------------------------------------\u001b[0m\n\u001b[0;31mGithubException\u001b[0m                           Traceback (most recent call last)",
        "\u001b[0;32m<ipython-input-85-59f642db6a33>\u001b[0m in \u001b[0;36m<module>\u001b[0;34m()\u001b[0m\n\u001b[0;32m----> 1\u001b[0;31m \u001b[0;32mfor\u001b[0m \u001b[0mbleh\u001b[0m \u001b[0;32min\u001b[0m \u001b[0mblehgit\u001b[0m\u001b[0;34m:\u001b[0m\u001b[0;34m\u001b[0m\u001b[0m\n\u001b[0m\u001b[1;32m      2\u001b[0m     \u001b[0mrepolis\u001b[0m\u001b[0;34m.\u001b[0m\u001b[0mappend\u001b[0m\u001b[0;34m(\u001b[0m\u001b[0mbleh\u001b[0m\u001b[0;34m)\u001b[0m\u001b[0;34m\u001b[0m\u001b[0m\n\u001b[1;32m      3\u001b[0m     \u001b[0;31m#print bleh.full_name\u001b[0m\u001b[0;34m\u001b[0m\u001b[0;34m\u001b[0m\u001b[0m\n",
        "\u001b[0;32m/usr/local/lib/python2.7/dist-packages/github/PaginatedList.pyc\u001b[0m in \u001b[0;36m__iter__\u001b[0;34m(self)\u001b[0m\n\u001b[1;32m     46\u001b[0m             \u001b[0;32myield\u001b[0m \u001b[0melement\u001b[0m\u001b[0;34m\u001b[0m\u001b[0m\n\u001b[1;32m     47\u001b[0m         \u001b[0;32mwhile\u001b[0m \u001b[0mself\u001b[0m\u001b[0;34m.\u001b[0m\u001b[0m_couldGrow\u001b[0m\u001b[0;34m(\u001b[0m\u001b[0;34m)\u001b[0m\u001b[0;34m:\u001b[0m\u001b[0;34m\u001b[0m\u001b[0m\n\u001b[0;32m---> 48\u001b[0;31m             \u001b[0mnewElements\u001b[0m \u001b[0;34m=\u001b[0m \u001b[0mself\u001b[0m\u001b[0;34m.\u001b[0m\u001b[0m_grow\u001b[0m\u001b[0;34m(\u001b[0m\u001b[0;34m)\u001b[0m\u001b[0;34m\u001b[0m\u001b[0m\n\u001b[0m\u001b[1;32m     49\u001b[0m             \u001b[0;32mfor\u001b[0m \u001b[0melement\u001b[0m \u001b[0;32min\u001b[0m \u001b[0mnewElements\u001b[0m\u001b[0;34m:\u001b[0m\u001b[0;34m\u001b[0m\u001b[0m\n\u001b[1;32m     50\u001b[0m                 \u001b[0;32myield\u001b[0m \u001b[0melement\u001b[0m\u001b[0;34m\u001b[0m\u001b[0m\n",
        "\u001b[0;32m/usr/local/lib/python2.7/dist-packages/github/PaginatedList.pyc\u001b[0m in \u001b[0;36m_grow\u001b[0;34m(self)\u001b[0m\n\u001b[1;32m     58\u001b[0m \u001b[0;34m\u001b[0m\u001b[0m\n\u001b[1;32m     59\u001b[0m     \u001b[0;32mdef\u001b[0m \u001b[0m_grow\u001b[0m\u001b[0;34m(\u001b[0m\u001b[0mself\u001b[0m\u001b[0;34m)\u001b[0m\u001b[0;34m:\u001b[0m\u001b[0;34m\u001b[0m\u001b[0m\n\u001b[0;32m---> 60\u001b[0;31m         \u001b[0mnewElements\u001b[0m \u001b[0;34m=\u001b[0m \u001b[0mself\u001b[0m\u001b[0;34m.\u001b[0m\u001b[0m_fetchNextPage\u001b[0m\u001b[0;34m(\u001b[0m\u001b[0;34m)\u001b[0m\u001b[0;34m\u001b[0m\u001b[0m\n\u001b[0m\u001b[1;32m     61\u001b[0m         \u001b[0mself\u001b[0m\u001b[0;34m.\u001b[0m\u001b[0m__elements\u001b[0m \u001b[0;34m+=\u001b[0m \u001b[0mnewElements\u001b[0m\u001b[0;34m\u001b[0m\u001b[0m\n\u001b[1;32m     62\u001b[0m         \u001b[0;32mreturn\u001b[0m \u001b[0mnewElements\u001b[0m\u001b[0;34m\u001b[0m\u001b[0m\n",
        "\u001b[0;32m/usr/local/lib/python2.7/dist-packages/github/PaginatedList.pyc\u001b[0m in \u001b[0;36m_fetchNextPage\u001b[0;34m(self)\u001b[0m\n\u001b[1;32m    156\u001b[0m             \u001b[0;34m\"GET\"\u001b[0m\u001b[0;34m,\u001b[0m\u001b[0;34m\u001b[0m\u001b[0m\n\u001b[1;32m    157\u001b[0m             \u001b[0mself\u001b[0m\u001b[0;34m.\u001b[0m\u001b[0m__nextUrl\u001b[0m\u001b[0;34m,\u001b[0m\u001b[0;34m\u001b[0m\u001b[0m\n\u001b[0;32m--> 158\u001b[0;31m             \u001b[0mparameters\u001b[0m\u001b[0;34m=\u001b[0m\u001b[0mself\u001b[0m\u001b[0;34m.\u001b[0m\u001b[0m__nextParams\u001b[0m\u001b[0;34m\u001b[0m\u001b[0m\n\u001b[0m\u001b[1;32m    159\u001b[0m         )\n\u001b[1;32m    160\u001b[0m \u001b[0;34m\u001b[0m\u001b[0m\n",
        "\u001b[0;32m/usr/local/lib/python2.7/dist-packages/github/Requester.pyc\u001b[0m in \u001b[0;36mrequestJsonAndCheck\u001b[0;34m(self, verb, url, parameters, headers, input, cnx)\u001b[0m\n\u001b[1;32m    167\u001b[0m \u001b[0;34m\u001b[0m\u001b[0m\n\u001b[1;32m    168\u001b[0m     \u001b[0;32mdef\u001b[0m \u001b[0mrequestJsonAndCheck\u001b[0m\u001b[0;34m(\u001b[0m\u001b[0mself\u001b[0m\u001b[0;34m,\u001b[0m \u001b[0mverb\u001b[0m\u001b[0;34m,\u001b[0m \u001b[0murl\u001b[0m\u001b[0;34m,\u001b[0m \u001b[0mparameters\u001b[0m\u001b[0;34m=\u001b[0m\u001b[0mNone\u001b[0m\u001b[0;34m,\u001b[0m \u001b[0mheaders\u001b[0m\u001b[0;34m=\u001b[0m\u001b[0mNone\u001b[0m\u001b[0;34m,\u001b[0m \u001b[0minput\u001b[0m\u001b[0;34m=\u001b[0m\u001b[0mNone\u001b[0m\u001b[0;34m,\u001b[0m \u001b[0mcnx\u001b[0m\u001b[0;34m=\u001b[0m\u001b[0mNone\u001b[0m\u001b[0;34m)\u001b[0m\u001b[0;34m:\u001b[0m\u001b[0;34m\u001b[0m\u001b[0m\n\u001b[0;32m--> 169\u001b[0;31m         \u001b[0;32mreturn\u001b[0m \u001b[0mself\u001b[0m\u001b[0;34m.\u001b[0m\u001b[0m__check\u001b[0m\u001b[0;34m(\u001b[0m\u001b[0;34m*\u001b[0m\u001b[0mself\u001b[0m\u001b[0;34m.\u001b[0m\u001b[0mrequestJson\u001b[0m\u001b[0;34m(\u001b[0m\u001b[0mverb\u001b[0m\u001b[0;34m,\u001b[0m \u001b[0murl\u001b[0m\u001b[0;34m,\u001b[0m \u001b[0mparameters\u001b[0m\u001b[0;34m,\u001b[0m \u001b[0mheaders\u001b[0m\u001b[0;34m,\u001b[0m \u001b[0minput\u001b[0m\u001b[0;34m,\u001b[0m \u001b[0mcnx\u001b[0m\u001b[0;34m)\u001b[0m\u001b[0;34m)\u001b[0m\u001b[0;34m\u001b[0m\u001b[0m\n\u001b[0m\u001b[1;32m    170\u001b[0m \u001b[0;34m\u001b[0m\u001b[0m\n\u001b[1;32m    171\u001b[0m     \u001b[0;32mdef\u001b[0m \u001b[0mrequestMultipartAndCheck\u001b[0m\u001b[0;34m(\u001b[0m\u001b[0mself\u001b[0m\u001b[0;34m,\u001b[0m \u001b[0mverb\u001b[0m\u001b[0;34m,\u001b[0m \u001b[0murl\u001b[0m\u001b[0;34m,\u001b[0m \u001b[0mparameters\u001b[0m\u001b[0;34m=\u001b[0m\u001b[0mNone\u001b[0m\u001b[0;34m,\u001b[0m \u001b[0mheaders\u001b[0m\u001b[0;34m=\u001b[0m\u001b[0mNone\u001b[0m\u001b[0;34m,\u001b[0m \u001b[0minput\u001b[0m\u001b[0;34m=\u001b[0m\u001b[0mNone\u001b[0m\u001b[0;34m)\u001b[0m\u001b[0;34m:\u001b[0m\u001b[0;34m\u001b[0m\u001b[0m\n",
        "\u001b[0;32m/usr/local/lib/python2.7/dist-packages/github/Requester.pyc\u001b[0m in \u001b[0;36m__check\u001b[0;34m(self, status, responseHeaders, output)\u001b[0m\n\u001b[1;32m    175\u001b[0m         \u001b[0moutput\u001b[0m \u001b[0;34m=\u001b[0m \u001b[0mself\u001b[0m\u001b[0;34m.\u001b[0m\u001b[0m__structuredFromJson\u001b[0m\u001b[0;34m(\u001b[0m\u001b[0moutput\u001b[0m\u001b[0;34m)\u001b[0m\u001b[0;34m\u001b[0m\u001b[0m\n\u001b[1;32m    176\u001b[0m         \u001b[0;32mif\u001b[0m \u001b[0mstatus\u001b[0m \u001b[0;34m>=\u001b[0m \u001b[0;36m400\u001b[0m\u001b[0;34m:\u001b[0m\u001b[0;34m\u001b[0m\u001b[0m\n\u001b[0;32m--> 177\u001b[0;31m             \u001b[0;32mraise\u001b[0m \u001b[0mself\u001b[0m\u001b[0;34m.\u001b[0m\u001b[0m__createException\u001b[0m\u001b[0;34m(\u001b[0m\u001b[0mstatus\u001b[0m\u001b[0;34m,\u001b[0m \u001b[0mresponseHeaders\u001b[0m\u001b[0;34m,\u001b[0m \u001b[0moutput\u001b[0m\u001b[0;34m)\u001b[0m\u001b[0;34m\u001b[0m\u001b[0m\n\u001b[0m\u001b[1;32m    178\u001b[0m         \u001b[0;32mreturn\u001b[0m \u001b[0mresponseHeaders\u001b[0m\u001b[0;34m,\u001b[0m \u001b[0moutput\u001b[0m\u001b[0;34m\u001b[0m\u001b[0m\n\u001b[1;32m    179\u001b[0m \u001b[0;34m\u001b[0m\u001b[0m\n",
        "\u001b[0;31mGithubException\u001b[0m: 403 {u'documentation_url': u'https://developer.github.com/v3/#rate-limiting', u'message': u\"API rate limit exceeded for 74.50.51.32. (But here's the good news: Authenticated requests get a higher rate limit. Check out the documentation for more details.)\"}"
       ]
      }
     ],
     "prompt_number": 85
    },
    {
     "cell_type": "markdown",
     "metadata": {},
     "source": [
      "I'm having a problem with auth! Need to get myself loged in here. \n",
      "Needs better security for logging in. - SSH Key? - hash the password "
     ]
    },
    {
     "cell_type": "markdown",
     "metadata": {},
     "source": [
      "What to do with all the output i am geting from searching. appending it into a list. maybe turn to dict? Make a rest feed? \n"
     ]
    },
    {
     "cell_type": "code",
     "collapsed": false,
     "input": [
      "for blzgit in blehgit:\n",
      "    print blzgit.name"
     ],
     "language": "python",
     "metadata": {},
     "outputs": [
      {
       "output_type": "stream",
       "stream": "stdout",
       "text": [
        "reddit\n",
        "Reddit-Enhancement-Suite\n",
        "iReddit\n",
        "reddit-is-fun\n",
        "RedditSharp\n",
        "RedditJS\n",
        "reddit-i18n\n",
        "reddit_on_rails\n",
        "Reddit-Insight\n",
        "RedditKit\n",
        "reddit.tv\n",
        "RedReader\n",
        "praw\n",
        "jReddit\n",
        "redditfs\n",
        "reddit-analysis\n",
        "reddit-php-sdk\n",
        "Redditate\n",
        "cReddit\n",
        "reddit-top-2.5-million\n",
        "reddit-cloud\n",
        "RedditKit.rb\n",
        "flask_reddit\n",
        "reddit\n",
        "reddit-top\n",
        "AlienBlue\n",
        "jReddit\n",
        "reddit-sync-development\n",
        "reddit-api-client\n",
        "RubyRedditAPI\n",
        "reeddit\n",
        "snoo\n",
        "AutoModerator\n",
        "reddit-network-vis\n",
        "reddit-cli\n",
        "reddit\n",
        "Mostly-Harmless\n",
        "shine\n",
        "RedditImageGrab\n",
        "sublime-reddit\n",
        "Reddit-API\n",
        "reddit_scraper\n",
        "snudown\n",
        "bitcointip\n",
        "focus\n",
        "monitors\n",
        "RedditReader\n",
        "reddit-in-sinatra\n",
        "drum\n",
        "Mindashq.Reddit.Theme\n",
        "Naut-for-reddit\n",
        "redditp\n",
        "RedditWeather\n",
        "Reddit-Quick-Submit\n",
        "Edurne-CSS-Theme-for-Reddit\n",
        "redditron\n",
        "reddit-mode\n",
        "django-socialnews\n",
        "omniauth-reddit\n",
        "RedditAgain\n",
        "readdit\n",
        "redditvfs\n",
        "RedditBot\n",
        "RedditWeather\n",
        "OpenAnt\n",
        "push\n",
        "reddittweeter\n",
        "Reddit-Image-Scraper\n",
        "AlienFeed\n",
        "cortex\n",
        "redditexporter\n",
        "reddit-plugin-liveupdate\n",
        "reddit.clj\n",
        "altcointip\n",
        "reddit-plugin-about\n",
        "reddit\n",
        "reddit.js\n",
        "reddit_monitor\n",
        "RedditSaveTransfer\n",
        "reddit-hacks\n",
        "reddit\n",
        "redditedit\n",
        "metareddit\n",
        "reddit_irc\n",
        "node-reddit\n",
        "reddit\n",
        "reddit\n",
        "reddit\n",
        "reddit\n",
        "reddit\n",
        "Reddit\n",
        "reddit\n",
        "Reddit\n",
        "Reddit\n",
        "reddit\n",
        "reddit\n",
        "reddit\n",
        "reddit\n",
        "reddit\n",
        "reddit\n",
        "reddit\n",
        "reddit\n",
        "reddit\n",
        "reddit\n",
        "reddit\n",
        "reddit\n",
        "reddit\n",
        "reddit\n",
        "reddit\n",
        "reddit\n",
        "reddit\n",
        "reddit\n",
        "reddit\n",
        "reddit\n",
        "reddit\n",
        "reddit\n",
        "reddit\n",
        "reddit\n",
        "reddit\n",
        "reddit\n",
        "reddit\n",
        "reddit\n",
        "REDdit\n",
        "reddit\n",
        "reddit\n",
        "reddit\n",
        "reddit\n",
        "reddit\n",
        "Reddit\n",
        "reddit\n",
        "reddit\n",
        "Reddit\n",
        "reddit\n",
        "Reddit\n",
        "Reddit\n",
        "reddit\n",
        "reddit\n",
        "Reddit\n",
        "reddit\n",
        "reddit\n",
        "Reddit\n",
        "reddit\n",
        "reddit\n",
        "reddit\n",
        "reddit\n",
        "reddit\n",
        "reddit\n",
        "node-reddit\n",
        "reddit\n",
        "reddit\n",
        "reddit\n",
        "reddit\n",
        "reddit\n",
        "reddit\n",
        "reddit\n",
        "reddit\n",
        "reddit\n",
        "reddit\n",
        "reddit\n",
        "Reddit\n",
        "Reddit\n",
        "Reddit\n",
        "Reddit\n",
        "Reddit\n",
        "reddit\n",
        "reddit\n",
        "reddit\n",
        "reddit\n",
        "reddit\n",
        "reddit\n",
        "reddit\n",
        "reddit\n",
        "reddit\n",
        "reddit\n",
        "reddit\n",
        "reddit\n",
        "reddit\n",
        "Reddit\n",
        "Reddit\n",
        "reddit\n",
        "reddit\n",
        "reddit\n",
        "reddit\n",
        "reddit\n",
        "reddit\n",
        "reddit\n",
        "reddit\n",
        "reddit\n",
        "reddit\n",
        "reddit\n",
        "reddit\n",
        "reddit\n",
        "reddit\n",
        "reddit\n",
        "reddit\n",
        "reddit\n",
        "reddit\n",
        "reddit\n",
        "reddit\n",
        "reddit\n",
        "Reddit\n",
        "reddit\n",
        "Reddit\n",
        "socialite\n",
        "reddit-moderator-toolbox\n",
        "RedditVideos.bundle\n",
        "wdi_3_ruby_hw_activerecord_sinatra_reddit\n",
        "Boxed-css-theme-for-reddit\n",
        "ohlala\n",
        "handson-reddit\n",
        "redditmakesagame\n",
        "passport-reddit\n",
        "UbuntuPhoneRedditApp\n",
        "ember.js-dashboard\n",
        "reddit-clone\n",
        "Reddit.pm\n",
        "autowikibot-py\n",
        "Machine\n",
        "ui-comments\n",
        "twitter-bot\n",
        "redditbot_core\n",
        "Reddit-C--API\n",
        "reddit-plugin-adzerk\n",
        "Reddit-Free-Internet-Act\n",
        "ragechats\n",
        "share_counts\n",
        "alientube\n",
        "notreddit\n",
        "DailyProgrammer\n",
        "RedditWeather\n",
        "redditt\n",
        "redditplus\n",
        "rereddit\n",
        "redditmusicplayer\n",
        "redditbots\n",
        "redditscraper\n",
        "Reddit-Bots\n",
        "makeswordclouds\n",
        "reddit_comment_bot\n",
        "reddit-plugin-meatspace\n",
        "reddit-2.0\n",
        "DistributedRedditAnalyser\n",
        "Reddit-Rage-Faces\n",
        "backbone-reddit\n",
        "reddit_backbone\n",
        "RedditPortal\n",
        "HelloReddit\n",
        "reddit-river\n",
        "reddit-bots\n",
        "TweetPoster\n",
        "hreddit\n",
        "redditpaper\n",
        "redditmag\n",
        "reddits\n",
        "redditberry\n",
        "redditsw\n",
        "redditify\n",
        "redditp\n",
        "redditbot\n",
        "redditrecentcomments\n",
        "redditgrepclone\n",
        "redditpix\n",
        "Redditviewer\n",
        "redditgold\n",
        "redditmath\n",
        "reddittablegen\n",
        "redditbadges\n",
        "redditing\n",
        "redditish\n",
        "redditmon\n",
        "redditsd\n",
        "redditplayer\n",
        "redditwrap\n",
        "Redditor\n",
        "redditporn\n",
        "redditr\n",
        "redditchrome\n",
        "redditnflbot\n",
        "redditunes\n",
        "redditclone\n",
        "redditruby\n",
        "redditclone\n",
        "redditviewer\n",
        "redditwallpaper\n",
        "redditircbot\n",
        "redditclone\n",
        "redditr\n",
        "redditbackup\n",
        "redditlater\n",
        "Redditron\n",
        "redditposter\n",
        "reddithits\n",
        "redditapi\n",
        "redditapp\n",
        "redditvote\n",
        "redditviz\n",
        "Redditmon\n",
        "redditapiscript\n",
        "redditmvp\n",
        "redditeye\n",
        "redditbot"
       ]
      },
      {
       "output_type": "stream",
       "stream": "stdout",
       "text": [
        "\n",
        "redditbots\n",
        "redditunited\n",
        "redditaustin\n",
        "redditsearchengine\n",
        "redditparser\n",
        "redditnews\n",
        "redditclone\n",
        "redditwatch\n",
        "redditelly\n",
        "redditfaster\n",
        "redditpane\n",
        "redditps\n",
        "redditslideshow\n",
        "redditapi\n",
        "redditadvcal\n",
        "redditredux\n",
        "redditwordsapp\n",
        "redditpyproject\n",
        "redditpaper\n",
        "redditpy\n",
        "redditimager\n",
        "redditpics\n",
        "redditovermind\n",
        "redditor\n",
        "reddittracker\n",
        "redditfriendfinder\n",
        "redditstat\n",
        "redditistics\n",
        "redditail\n",
        "redditparser"
       ]
      },
      {
       "output_type": "stream",
       "stream": "stdout",
       "text": [
        "\n",
        "redditor\n",
        "redditure\n",
        "redditmap\n",
        "redditstats\n",
        "redditplus\n",
        "redditbar\n",
        "redditthreadcombobulator\n",
        "redditgiveaway\n",
        "redditss\n",
        "redditbot\n",
        "reddits\n",
        "redditwallpaperchanger\n",
        "redditmask\n",
        "redditbrowser\n",
        "redditclone\n",
        "redditclone\n",
        "redditface\n",
        "redditpicturegame\n",
        "redditwall\n",
        "redditclone\n",
        "redditjobs\n",
        "redditwunderground\n",
        "redditclone\n",
        "redditanalysis\n",
        "redditsito\n",
        "redditclient\n",
        "redditdailyprogrammer\n",
        "redditbot\n",
        "redditbingo\n",
        "redditviaemail"
       ]
      },
      {
       "output_type": "stream",
       "stream": "stdout",
       "text": [
        "\n",
        "redditnow\n",
        "Redditapi\n",
        "Redditmend\n",
        "redditpics\n",
        "REDDITFFA\n",
        "redditfeed\n",
        "redditcoin\n",
        "redditbetter\n",
        "redditalytics\n",
        "redditvis\n",
        "redditwatcher\n",
        "redditroll\n",
        "redditgithubproject\n",
        "reddited\n",
        "redditwebsockets\n",
        "Redditbot\n",
        "redditreader\n",
        "redditphotobot\n",
        "redditsaved\n",
        "redditclone\n",
        "redditspider\n",
        "redditsearcher\n",
        "redditfashion\n",
        "redditbot\n",
        "redditbot\n",
        "redditly\n",
        "redditwallgrab\n",
        "redditbots\n",
        "redditreader\n",
        "redditimages"
       ]
      },
      {
       "output_type": "stream",
       "stream": "stdout",
       "text": [
        "\n",
        "redditworld\n",
        "redditcss\n",
        "redditbrowser\n",
        "redditbots\n",
        "redditdailyprogrammer\n",
        "redditreader\n",
        "redditora\n",
        "redditcreep\n",
        "redditstalker\n",
        "redditfun\n",
        "redditdailyprogrammer\n",
        "redditcommenthistorysearch\n",
        "redditclone\n",
        "redditgifts\n",
        "redditomatic\n",
        "redditology\n",
        "redditgraph\n",
        "Redditbookmarks\n",
        "redditclone\n",
        "redditclone\n",
        "redditbot\n",
        "Reddits\n",
        "Redditjunk\n",
        "redditclient\n",
        "redditedit\n",
        "redditbots\n",
        "redditstats\n",
        "redditarchiver\n",
        "redditgfy\n",
        "redditoutloud"
       ]
      },
      {
       "output_type": "stream",
       "stream": "stdout",
       "text": [
        "\n",
        "redditchat\n",
        "reddittweeter\n",
        "redditscript\n",
        "redditext\n",
        "redditmash\n",
        "redditperl\n",
        "redditspider\n",
        "redditastic\n",
        "redditdownloader\n",
        "redditclone\n",
        "reddittail\n",
        "redditrss\n",
        "redditcoin\n",
        "redditkarma\n",
        "redditnewstracker\n",
        "redditpy\n",
        "redditsuction\n",
        "redditbot\n",
        "redditscraper\n",
        "redditbot\n",
        "redditlogger\n",
        "redditlog\n",
        "redditbots\n",
        "redditclone\n",
        "redditnames\n",
        "redditdespammer\n",
        "redditor\n",
        "Redditor\n",
        "android-reddit\n",
        "reddit-iama-bot"
       ]
      },
      {
       "output_type": "stream",
       "stream": "stdout",
       "text": [
        "\n",
        "FFFUU-Exception\n",
        "RedditCache\n",
        "RedditCache\n",
        "AnalyseReddit\n",
        "RedditCode\n",
        "fuel-reddit\n",
        "RedditApp\n",
        "RedditPHP\n",
        "Reddit-playlists\n",
        "reddit_sweep\n",
        "Reddit-Streambot\n",
        "RedditGUI\n",
        "RedditSearch\n",
        "reddit_reader\n",
        "reddit_pics\n",
        "Reddit-Zine\n",
        "RedditProfiler\n",
        "reddit_wallpaper\n",
        "supybot-Reddit-\n",
        "redditPoster\n",
        "reddit.js\n",
        "reddit.js\n",
        "Fallout-Reddit\n",
        "ext-reddit\n",
        "LazierReddit\n",
        "reddit_scraper\n",
        "reddit-clone\n",
        "RedditReader\n",
        "RedditGraph\n",
        "reddit_bot"
       ]
      },
      {
       "output_type": "stream",
       "stream": "stdout",
       "text": [
        "\n",
        "RedditPics\n",
        "reddit_thumbnails\n",
        "reddit-fun\n",
        "icenium-reddit\n",
        "reddit_achewood\n",
        "reddit_example\n",
        "RedditReader\n",
        "reddit-live\n",
        "redditAlien\n",
        "RedditChallenges\n",
        "RedditViewer\n",
        "reddit-sprites\n",
        "RedditScraper\n",
        "reddit-scraper\n",
        "RedditClone\n",
        "reddit-demo\n",
        "reddit-console\n",
        "redditChallenges\n",
        "reddit_clone\n",
        "reddit.coffee\n",
        "PyReddit\n",
        "reddit_playlist\n",
        "RedditClone\n",
        "Reddit-Clone\n",
        "Reddit-Jumpbar\n",
        "redditPull\n",
        "reddit-hd\n",
        "reddit-listentothis\n",
        "reddit-comments\n",
        "RedditReader"
       ]
      },
      {
       "output_type": "stream",
       "stream": "stdout",
       "text": [
        "\n",
        "RedditWallpaper\n",
        "iReddit\n",
        "RapidReddit\n",
        "csReddit\n",
        "Reddit-Markov\n",
        "Reddit-Election\n",
        "Reddit7\n",
        "RedditReader\n",
        "reddit-notify\n",
        "node-reddit\n",
        "fos-reddit\n",
        "RedditStalker\n",
        "redditHelper\n",
        "Reddit-Clone\n",
        "Reddit-Clone\n",
        "RedditClone\n",
        "Reddit-Mutilator\n",
        "reddit-rss\n",
        "Reddit-Clone\n",
        "ExtReddit\n",
        "reddit-scala\n",
        "twReddit\n",
        "reddit.js\n",
        "reddit-memebot\n",
        "reddit-clone\n",
        "mtv-reddit\n",
        "RedditWatch\n",
        "reddit-countdown\n",
        "reddit-scheduler\n",
        "RedditClone"
       ]
      },
      {
       "output_type": "stream",
       "stream": "stdout",
       "text": [
        "\n",
        "redditBirthday\n",
        "Reddit-Extension\n",
        "reddit-bg\n",
        "reddit-images\n",
        "LiveReddit\n",
        "YouReddit\n",
        "RedditMon\n",
        "reddit-image\n",
        "reddit_extension\n",
        "redditHelix\n",
        "RedditAndroid\n",
        "reddit-clone\n",
        "reddit_clone\n",
        "Reddit_Clone\n",
        "reddit-challenges\n",
        "RedditBot\n",
        "reddit_responder\n",
        "RedditLite\n",
        "reddit-modcard\n",
        "RedditDownloader\n",
        "simple-reddit\n",
        "redditBot\n",
        "reddit_clone\n",
        "RedditClone\n",
        "redditProject\n",
        "reddit-gae\n",
        "reddit_earthporn\n",
        "RedditComments\n",
        "jReddit\n",
        "nice-reddit"
       ]
      },
      {
       "ename": "GithubException",
       "evalue": "403 {u'documentation_url': u'https://developer.github.com/v3/#rate-limiting', u'message': u\"API rate limit exceeded for 74.50.51.32. (But here's the good news: Authenticated requests get a higher rate limit. Check out the documentation for more details.)\"}",
       "output_type": "pyerr",
       "traceback": [
        "\u001b[0;31m---------------------------------------------------------------------------\u001b[0m\n\u001b[0;31mGithubException\u001b[0m                           Traceback (most recent call last)",
        "\u001b[0;32m<ipython-input-87-05ee9106ce5e>\u001b[0m in \u001b[0;36m<module>\u001b[0;34m()\u001b[0m\n\u001b[0;32m----> 1\u001b[0;31m \u001b[0;32mfor\u001b[0m \u001b[0mblzgit\u001b[0m \u001b[0;32min\u001b[0m \u001b[0mblehgit\u001b[0m\u001b[0;34m:\u001b[0m\u001b[0;34m\u001b[0m\u001b[0m\n\u001b[0m\u001b[1;32m      2\u001b[0m     \u001b[0;32mprint\u001b[0m \u001b[0mblzgit\u001b[0m\u001b[0;34m.\u001b[0m\u001b[0mname\u001b[0m\u001b[0;34m\u001b[0m\u001b[0m\n",
        "\u001b[0;32m/usr/local/lib/python2.7/dist-packages/github/PaginatedList.pyc\u001b[0m in \u001b[0;36m__iter__\u001b[0;34m(self)\u001b[0m\n\u001b[1;32m     46\u001b[0m             \u001b[0;32myield\u001b[0m \u001b[0melement\u001b[0m\u001b[0;34m\u001b[0m\u001b[0m\n\u001b[1;32m     47\u001b[0m         \u001b[0;32mwhile\u001b[0m \u001b[0mself\u001b[0m\u001b[0;34m.\u001b[0m\u001b[0m_couldGrow\u001b[0m\u001b[0;34m(\u001b[0m\u001b[0;34m)\u001b[0m\u001b[0;34m:\u001b[0m\u001b[0;34m\u001b[0m\u001b[0m\n\u001b[0;32m---> 48\u001b[0;31m             \u001b[0mnewElements\u001b[0m \u001b[0;34m=\u001b[0m \u001b[0mself\u001b[0m\u001b[0;34m.\u001b[0m\u001b[0m_grow\u001b[0m\u001b[0;34m(\u001b[0m\u001b[0;34m)\u001b[0m\u001b[0;34m\u001b[0m\u001b[0m\n\u001b[0m\u001b[1;32m     49\u001b[0m             \u001b[0;32mfor\u001b[0m \u001b[0melement\u001b[0m \u001b[0;32min\u001b[0m \u001b[0mnewElements\u001b[0m\u001b[0;34m:\u001b[0m\u001b[0;34m\u001b[0m\u001b[0m\n\u001b[1;32m     50\u001b[0m                 \u001b[0;32myield\u001b[0m \u001b[0melement\u001b[0m\u001b[0;34m\u001b[0m\u001b[0m\n",
        "\u001b[0;32m/usr/local/lib/python2.7/dist-packages/github/PaginatedList.pyc\u001b[0m in \u001b[0;36m_grow\u001b[0;34m(self)\u001b[0m\n\u001b[1;32m     58\u001b[0m \u001b[0;34m\u001b[0m\u001b[0m\n\u001b[1;32m     59\u001b[0m     \u001b[0;32mdef\u001b[0m \u001b[0m_grow\u001b[0m\u001b[0;34m(\u001b[0m\u001b[0mself\u001b[0m\u001b[0;34m)\u001b[0m\u001b[0;34m:\u001b[0m\u001b[0;34m\u001b[0m\u001b[0m\n\u001b[0;32m---> 60\u001b[0;31m         \u001b[0mnewElements\u001b[0m \u001b[0;34m=\u001b[0m \u001b[0mself\u001b[0m\u001b[0;34m.\u001b[0m\u001b[0m_fetchNextPage\u001b[0m\u001b[0;34m(\u001b[0m\u001b[0;34m)\u001b[0m\u001b[0;34m\u001b[0m\u001b[0m\n\u001b[0m\u001b[1;32m     61\u001b[0m         \u001b[0mself\u001b[0m\u001b[0;34m.\u001b[0m\u001b[0m__elements\u001b[0m \u001b[0;34m+=\u001b[0m \u001b[0mnewElements\u001b[0m\u001b[0;34m\u001b[0m\u001b[0m\n\u001b[1;32m     62\u001b[0m         \u001b[0;32mreturn\u001b[0m \u001b[0mnewElements\u001b[0m\u001b[0;34m\u001b[0m\u001b[0m\n",
        "\u001b[0;32m/usr/local/lib/python2.7/dist-packages/github/PaginatedList.pyc\u001b[0m in \u001b[0;36m_fetchNextPage\u001b[0;34m(self)\u001b[0m\n\u001b[1;32m    156\u001b[0m             \u001b[0;34m\"GET\"\u001b[0m\u001b[0;34m,\u001b[0m\u001b[0;34m\u001b[0m\u001b[0m\n\u001b[1;32m    157\u001b[0m             \u001b[0mself\u001b[0m\u001b[0;34m.\u001b[0m\u001b[0m__nextUrl\u001b[0m\u001b[0;34m,\u001b[0m\u001b[0;34m\u001b[0m\u001b[0m\n\u001b[0;32m--> 158\u001b[0;31m             \u001b[0mparameters\u001b[0m\u001b[0;34m=\u001b[0m\u001b[0mself\u001b[0m\u001b[0;34m.\u001b[0m\u001b[0m__nextParams\u001b[0m\u001b[0;34m\u001b[0m\u001b[0m\n\u001b[0m\u001b[1;32m    159\u001b[0m         )\n\u001b[1;32m    160\u001b[0m \u001b[0;34m\u001b[0m\u001b[0m\n",
        "\u001b[0;32m/usr/local/lib/python2.7/dist-packages/github/Requester.pyc\u001b[0m in \u001b[0;36mrequestJsonAndCheck\u001b[0;34m(self, verb, url, parameters, headers, input, cnx)\u001b[0m\n\u001b[1;32m    167\u001b[0m \u001b[0;34m\u001b[0m\u001b[0m\n\u001b[1;32m    168\u001b[0m     \u001b[0;32mdef\u001b[0m \u001b[0mrequestJsonAndCheck\u001b[0m\u001b[0;34m(\u001b[0m\u001b[0mself\u001b[0m\u001b[0;34m,\u001b[0m \u001b[0mverb\u001b[0m\u001b[0;34m,\u001b[0m \u001b[0murl\u001b[0m\u001b[0;34m,\u001b[0m \u001b[0mparameters\u001b[0m\u001b[0;34m=\u001b[0m\u001b[0mNone\u001b[0m\u001b[0;34m,\u001b[0m \u001b[0mheaders\u001b[0m\u001b[0;34m=\u001b[0m\u001b[0mNone\u001b[0m\u001b[0;34m,\u001b[0m \u001b[0minput\u001b[0m\u001b[0;34m=\u001b[0m\u001b[0mNone\u001b[0m\u001b[0;34m,\u001b[0m \u001b[0mcnx\u001b[0m\u001b[0;34m=\u001b[0m\u001b[0mNone\u001b[0m\u001b[0;34m)\u001b[0m\u001b[0;34m:\u001b[0m\u001b[0;34m\u001b[0m\u001b[0m\n\u001b[0;32m--> 169\u001b[0;31m         \u001b[0;32mreturn\u001b[0m \u001b[0mself\u001b[0m\u001b[0;34m.\u001b[0m\u001b[0m__check\u001b[0m\u001b[0;34m(\u001b[0m\u001b[0;34m*\u001b[0m\u001b[0mself\u001b[0m\u001b[0;34m.\u001b[0m\u001b[0mrequestJson\u001b[0m\u001b[0;34m(\u001b[0m\u001b[0mverb\u001b[0m\u001b[0;34m,\u001b[0m \u001b[0murl\u001b[0m\u001b[0;34m,\u001b[0m \u001b[0mparameters\u001b[0m\u001b[0;34m,\u001b[0m \u001b[0mheaders\u001b[0m\u001b[0;34m,\u001b[0m \u001b[0minput\u001b[0m\u001b[0;34m,\u001b[0m \u001b[0mcnx\u001b[0m\u001b[0;34m)\u001b[0m\u001b[0;34m)\u001b[0m\u001b[0;34m\u001b[0m\u001b[0m\n\u001b[0m\u001b[1;32m    170\u001b[0m \u001b[0;34m\u001b[0m\u001b[0m\n\u001b[1;32m    171\u001b[0m     \u001b[0;32mdef\u001b[0m \u001b[0mrequestMultipartAndCheck\u001b[0m\u001b[0;34m(\u001b[0m\u001b[0mself\u001b[0m\u001b[0;34m,\u001b[0m \u001b[0mverb\u001b[0m\u001b[0;34m,\u001b[0m \u001b[0murl\u001b[0m\u001b[0;34m,\u001b[0m \u001b[0mparameters\u001b[0m\u001b[0;34m=\u001b[0m\u001b[0mNone\u001b[0m\u001b[0;34m,\u001b[0m \u001b[0mheaders\u001b[0m\u001b[0;34m=\u001b[0m\u001b[0mNone\u001b[0m\u001b[0;34m,\u001b[0m \u001b[0minput\u001b[0m\u001b[0;34m=\u001b[0m\u001b[0mNone\u001b[0m\u001b[0;34m)\u001b[0m\u001b[0;34m:\u001b[0m\u001b[0;34m\u001b[0m\u001b[0m\n",
        "\u001b[0;32m/usr/local/lib/python2.7/dist-packages/github/Requester.pyc\u001b[0m in \u001b[0;36m__check\u001b[0;34m(self, status, responseHeaders, output)\u001b[0m\n\u001b[1;32m    175\u001b[0m         \u001b[0moutput\u001b[0m \u001b[0;34m=\u001b[0m \u001b[0mself\u001b[0m\u001b[0;34m.\u001b[0m\u001b[0m__structuredFromJson\u001b[0m\u001b[0;34m(\u001b[0m\u001b[0moutput\u001b[0m\u001b[0;34m)\u001b[0m\u001b[0;34m\u001b[0m\u001b[0m\n\u001b[1;32m    176\u001b[0m         \u001b[0;32mif\u001b[0m \u001b[0mstatus\u001b[0m \u001b[0;34m>=\u001b[0m \u001b[0;36m400\u001b[0m\u001b[0;34m:\u001b[0m\u001b[0;34m\u001b[0m\u001b[0m\n\u001b[0;32m--> 177\u001b[0;31m             \u001b[0;32mraise\u001b[0m \u001b[0mself\u001b[0m\u001b[0;34m.\u001b[0m\u001b[0m__createException\u001b[0m\u001b[0;34m(\u001b[0m\u001b[0mstatus\u001b[0m\u001b[0;34m,\u001b[0m \u001b[0mresponseHeaders\u001b[0m\u001b[0;34m,\u001b[0m \u001b[0moutput\u001b[0m\u001b[0;34m)\u001b[0m\u001b[0;34m\u001b[0m\u001b[0m\n\u001b[0m\u001b[1;32m    178\u001b[0m         \u001b[0;32mreturn\u001b[0m \u001b[0mresponseHeaders\u001b[0m\u001b[0;34m,\u001b[0m \u001b[0moutput\u001b[0m\u001b[0;34m\u001b[0m\u001b[0m\n\u001b[1;32m    179\u001b[0m \u001b[0;34m\u001b[0m\u001b[0m\n",
        "\u001b[0;31mGithubException\u001b[0m: 403 {u'documentation_url': u'https://developer.github.com/v3/#rate-limiting', u'message': u\"API rate limit exceeded for 74.50.51.32. (But here's the good news: Authenticated requests get a higher rate limit. Check out the documentation for more details.)\"}"
       ]
      },
      {
       "output_type": "stream",
       "stream": "stdout",
       "text": [
        "\n",
        "RedditFPWAnalyzer\n",
        "RedditFlix\n",
        "reddit-dailyprogrammer\n",
        "RedditMention\n",
        "reddit_scraper\n",
        "youtube-reddit\n",
        "reddit-saved\n",
        "cwru-reddit\n",
        "CleanrReddit\n",
        "PirateReddit\n",
        "murmur-reddit\n",
        "Mobile-Reddit\n",
        "RedditBots\n",
        "Reddit-client\n",
        "proto-reddit\n",
        "Reddit-VM\n",
        "Reddit-Already\n",
        "reddit_bg\n",
        "RedditReader\n",
        "reddit-identifier\n",
        "Reddit-clone\n",
        "reddit-census\n",
        "reddit_upvote\n",
        "reddit_picture\n",
        "reddit_rabbithole\n",
        "reddit-recommender\n",
        "reddit-cleverbot\n",
        "Reddit-CLI\n",
        "reddit_client\n"
       ]
      }
     ],
     "prompt_number": 87
    },
    {
     "cell_type": "code",
     "collapsed": false,
     "input": [
      "print blehgit.totalCount"
     ],
     "language": "python",
     "metadata": {},
     "outputs": [
      {
       "output_type": "stream",
       "stream": "stdout",
       "text": [
        "3816\n"
       ]
      }
     ],
     "prompt_number": 75
    },
    {
     "cell_type": "code",
     "collapsed": false,
     "input": [
      "print typy.totalCount"
     ],
     "language": "python",
     "metadata": {},
     "outputs": [
      {
       "output_type": "stream",
       "stream": "stdout",
       "text": [
        "1\n"
       ]
      }
     ],
     "prompt_number": 28
    },
    {
     "cell_type": "code",
     "collapsed": false,
     "input": [
      "print typy\n"
     ],
     "language": "python",
     "metadata": {},
     "outputs": []
    },
    {
     "cell_type": "code",
     "collapsed": false,
     "input": [
      "gepy = g.get_organization('brobeur')"
     ],
     "language": "python",
     "metadata": {},
     "outputs": [],
     "prompt_number": 29
    },
    {
     "cell_type": "code",
     "collapsed": false,
     "input": [
      "gepy.email"
     ],
     "language": "python",
     "metadata": {},
     "outputs": [
      {
       "output_type": "pyout",
       "prompt_number": 30,
       "text": [
        "u'github@brobeur.com'"
       ]
      }
     ],
     "prompt_number": 30
    },
    {
     "cell_type": "code",
     "collapsed": false,
     "input": [
      "gepy.blog"
     ],
     "language": "python",
     "metadata": {},
     "outputs": [
      {
       "output_type": "pyout",
       "prompt_number": 31,
       "text": [
        "u'http://brobeur.com'"
       ]
      }
     ],
     "prompt_number": 31
    },
    {
     "cell_type": "code",
     "collapsed": false,
     "input": [
      "gepy.url"
     ],
     "language": "python",
     "metadata": {},
     "outputs": [
      {
       "output_type": "pyout",
       "prompt_number": 32,
       "text": [
        "u'https://api.github.com/orgs/brobeur'"
       ]
      }
     ],
     "prompt_number": 32
    },
    {
     "cell_type": "code",
     "collapsed": false,
     "input": [
      "gepy.created_at"
     ],
     "language": "python",
     "metadata": {},
     "outputs": [
      {
       "output_type": "pyout",
       "prompt_number": 38,
       "text": [
        "datetime.datetime(2013, 12, 18, 10, 23, 20)"
       ]
      }
     ],
     "prompt_number": 38
    },
    {
     "cell_type": "code",
     "collapsed": false,
     "input": [
      "brorepo.totalCount()"
     ],
     "language": "python",
     "metadata": {},
     "outputs": [
      {
       "ename": "AttributeError",
       "evalue": "'NoneType' object has no attribute 'startswith'",
       "output_type": "pyerr",
       "traceback": [
        "\u001b[0;31m---------------------------------------------------------------------------\u001b[0m\n\u001b[0;31mAttributeError\u001b[0m                            Traceback (most recent call last)",
        "\u001b[0;32m<ipython-input-44-c956f46f08b9>\u001b[0m in \u001b[0;36m<module>\u001b[0;34m()\u001b[0m\n\u001b[0;32m----> 1\u001b[0;31m \u001b[0mbrorepo\u001b[0m\u001b[0;34m.\u001b[0m\u001b[0mtotalCount\u001b[0m\u001b[0;34m(\u001b[0m\u001b[0;34m)\u001b[0m\u001b[0;34m\u001b[0m\u001b[0m\n\u001b[0m",
        "\u001b[0;32m/usr/local/lib/python2.7/dist-packages/github/PaginatedList.pyc\u001b[0m in \u001b[0;36mtotalCount\u001b[0;34m(self)\u001b[0m\n\u001b[1;32m    123\u001b[0m     \u001b[0;32mdef\u001b[0m \u001b[0mtotalCount\u001b[0m\u001b[0;34m(\u001b[0m\u001b[0mself\u001b[0m\u001b[0;34m)\u001b[0m\u001b[0;34m:\u001b[0m\u001b[0;34m\u001b[0m\u001b[0m\n\u001b[1;32m    124\u001b[0m         \u001b[0;32mif\u001b[0m \u001b[0;32mnot\u001b[0m \u001b[0mself\u001b[0m\u001b[0;34m.\u001b[0m\u001b[0m__totalCount\u001b[0m\u001b[0;34m:\u001b[0m\u001b[0;34m\u001b[0m\u001b[0m\n\u001b[0;32m--> 125\u001b[0;31m             \u001b[0mself\u001b[0m\u001b[0;34m.\u001b[0m\u001b[0m_grow\u001b[0m\u001b[0;34m(\u001b[0m\u001b[0;34m)\u001b[0m\u001b[0;34m\u001b[0m\u001b[0m\n\u001b[0m\u001b[1;32m    126\u001b[0m \u001b[0;34m\u001b[0m\u001b[0m\n\u001b[1;32m    127\u001b[0m         \u001b[0;32mreturn\u001b[0m \u001b[0mself\u001b[0m\u001b[0;34m.\u001b[0m\u001b[0m__totalCount\u001b[0m\u001b[0;34m\u001b[0m\u001b[0m\n",
        "\u001b[0;32m/usr/local/lib/python2.7/dist-packages/github/PaginatedList.pyc\u001b[0m in \u001b[0;36m_grow\u001b[0;34m(self)\u001b[0m\n\u001b[1;32m     58\u001b[0m \u001b[0;34m\u001b[0m\u001b[0m\n\u001b[1;32m     59\u001b[0m     \u001b[0;32mdef\u001b[0m \u001b[0m_grow\u001b[0m\u001b[0;34m(\u001b[0m\u001b[0mself\u001b[0m\u001b[0;34m)\u001b[0m\u001b[0;34m:\u001b[0m\u001b[0;34m\u001b[0m\u001b[0m\n\u001b[0;32m---> 60\u001b[0;31m         \u001b[0mnewElements\u001b[0m \u001b[0;34m=\u001b[0m \u001b[0mself\u001b[0m\u001b[0;34m.\u001b[0m\u001b[0m_fetchNextPage\u001b[0m\u001b[0;34m(\u001b[0m\u001b[0;34m)\u001b[0m\u001b[0;34m\u001b[0m\u001b[0m\n\u001b[0m\u001b[1;32m     61\u001b[0m         \u001b[0mself\u001b[0m\u001b[0;34m.\u001b[0m\u001b[0m__elements\u001b[0m \u001b[0;34m+=\u001b[0m \u001b[0mnewElements\u001b[0m\u001b[0;34m\u001b[0m\u001b[0m\n\u001b[1;32m     62\u001b[0m         \u001b[0;32mreturn\u001b[0m \u001b[0mnewElements\u001b[0m\u001b[0;34m\u001b[0m\u001b[0m\n",
        "\u001b[0;32m/usr/local/lib/python2.7/dist-packages/github/PaginatedList.pyc\u001b[0m in \u001b[0;36m_fetchNextPage\u001b[0;34m(self)\u001b[0m\n\u001b[1;32m    156\u001b[0m             \u001b[0;34m\"GET\"\u001b[0m\u001b[0;34m,\u001b[0m\u001b[0;34m\u001b[0m\u001b[0m\n\u001b[1;32m    157\u001b[0m             \u001b[0mself\u001b[0m\u001b[0;34m.\u001b[0m\u001b[0m__nextUrl\u001b[0m\u001b[0;34m,\u001b[0m\u001b[0;34m\u001b[0m\u001b[0m\n\u001b[0;32m--> 158\u001b[0;31m             \u001b[0mparameters\u001b[0m\u001b[0;34m=\u001b[0m\u001b[0mself\u001b[0m\u001b[0;34m.\u001b[0m\u001b[0m__nextParams\u001b[0m\u001b[0;34m\u001b[0m\u001b[0m\n\u001b[0m\u001b[1;32m    159\u001b[0m         )\n\u001b[1;32m    160\u001b[0m \u001b[0;34m\u001b[0m\u001b[0m\n",
        "\u001b[0;32m/usr/local/lib/python2.7/dist-packages/github/Requester.pyc\u001b[0m in \u001b[0;36mrequestJsonAndCheck\u001b[0;34m(self, verb, url, parameters, headers, input, cnx)\u001b[0m\n\u001b[1;32m    167\u001b[0m \u001b[0;34m\u001b[0m\u001b[0m\n\u001b[1;32m    168\u001b[0m     \u001b[0;32mdef\u001b[0m \u001b[0mrequestJsonAndCheck\u001b[0m\u001b[0;34m(\u001b[0m\u001b[0mself\u001b[0m\u001b[0;34m,\u001b[0m \u001b[0mverb\u001b[0m\u001b[0;34m,\u001b[0m \u001b[0murl\u001b[0m\u001b[0;34m,\u001b[0m \u001b[0mparameters\u001b[0m\u001b[0;34m=\u001b[0m\u001b[0mNone\u001b[0m\u001b[0;34m,\u001b[0m \u001b[0mheaders\u001b[0m\u001b[0;34m=\u001b[0m\u001b[0mNone\u001b[0m\u001b[0;34m,\u001b[0m \u001b[0minput\u001b[0m\u001b[0;34m=\u001b[0m\u001b[0mNone\u001b[0m\u001b[0;34m,\u001b[0m \u001b[0mcnx\u001b[0m\u001b[0;34m=\u001b[0m\u001b[0mNone\u001b[0m\u001b[0;34m)\u001b[0m\u001b[0;34m:\u001b[0m\u001b[0;34m\u001b[0m\u001b[0m\n\u001b[0;32m--> 169\u001b[0;31m         \u001b[0;32mreturn\u001b[0m \u001b[0mself\u001b[0m\u001b[0;34m.\u001b[0m\u001b[0m__check\u001b[0m\u001b[0;34m(\u001b[0m\u001b[0;34m*\u001b[0m\u001b[0mself\u001b[0m\u001b[0;34m.\u001b[0m\u001b[0mrequestJson\u001b[0m\u001b[0;34m(\u001b[0m\u001b[0mverb\u001b[0m\u001b[0;34m,\u001b[0m \u001b[0murl\u001b[0m\u001b[0;34m,\u001b[0m \u001b[0mparameters\u001b[0m\u001b[0;34m,\u001b[0m \u001b[0mheaders\u001b[0m\u001b[0;34m,\u001b[0m \u001b[0minput\u001b[0m\u001b[0;34m,\u001b[0m \u001b[0mcnx\u001b[0m\u001b[0;34m)\u001b[0m\u001b[0;34m)\u001b[0m\u001b[0;34m\u001b[0m\u001b[0m\n\u001b[0m\u001b[1;32m    170\u001b[0m \u001b[0;34m\u001b[0m\u001b[0m\n\u001b[1;32m    171\u001b[0m     \u001b[0;32mdef\u001b[0m \u001b[0mrequestMultipartAndCheck\u001b[0m\u001b[0;34m(\u001b[0m\u001b[0mself\u001b[0m\u001b[0;34m,\u001b[0m \u001b[0mverb\u001b[0m\u001b[0;34m,\u001b[0m \u001b[0murl\u001b[0m\u001b[0;34m,\u001b[0m \u001b[0mparameters\u001b[0m\u001b[0;34m=\u001b[0m\u001b[0mNone\u001b[0m\u001b[0;34m,\u001b[0m \u001b[0mheaders\u001b[0m\u001b[0;34m=\u001b[0m\u001b[0mNone\u001b[0m\u001b[0;34m,\u001b[0m \u001b[0minput\u001b[0m\u001b[0;34m=\u001b[0m\u001b[0mNone\u001b[0m\u001b[0;34m)\u001b[0m\u001b[0;34m:\u001b[0m\u001b[0;34m\u001b[0m\u001b[0m\n",
        "\u001b[0;32m/usr/local/lib/python2.7/dist-packages/github/Requester.pyc\u001b[0m in \u001b[0;36mrequestJson\u001b[0;34m(self, verb, url, parameters, headers, input, cnx)\u001b[0m\n\u001b[1;32m    208\u001b[0m             \u001b[0;32mreturn\u001b[0m \u001b[0;34m\"application/json\"\u001b[0m\u001b[0;34m,\u001b[0m \u001b[0mjson\u001b[0m\u001b[0;34m.\u001b[0m\u001b[0mdumps\u001b[0m\u001b[0;34m(\u001b[0m\u001b[0minput\u001b[0m\u001b[0;34m)\u001b[0m\u001b[0;34m\u001b[0m\u001b[0m\n\u001b[1;32m    209\u001b[0m \u001b[0;34m\u001b[0m\u001b[0m\n\u001b[0;32m--> 210\u001b[0;31m         \u001b[0;32mreturn\u001b[0m \u001b[0mself\u001b[0m\u001b[0;34m.\u001b[0m\u001b[0m__requestEncode\u001b[0m\u001b[0;34m(\u001b[0m\u001b[0mcnx\u001b[0m\u001b[0;34m,\u001b[0m \u001b[0mverb\u001b[0m\u001b[0;34m,\u001b[0m \u001b[0murl\u001b[0m\u001b[0;34m,\u001b[0m \u001b[0mparameters\u001b[0m\u001b[0;34m,\u001b[0m \u001b[0mheaders\u001b[0m\u001b[0;34m,\u001b[0m \u001b[0minput\u001b[0m\u001b[0;34m,\u001b[0m \u001b[0mencode\u001b[0m\u001b[0;34m)\u001b[0m\u001b[0;34m\u001b[0m\u001b[0m\n\u001b[0m\u001b[1;32m    211\u001b[0m \u001b[0;34m\u001b[0m\u001b[0m\n\u001b[1;32m    212\u001b[0m     \u001b[0;32mdef\u001b[0m \u001b[0mrequestMultipart\u001b[0m\u001b[0;34m(\u001b[0m\u001b[0mself\u001b[0m\u001b[0;34m,\u001b[0m \u001b[0mverb\u001b[0m\u001b[0;34m,\u001b[0m \u001b[0murl\u001b[0m\u001b[0;34m,\u001b[0m \u001b[0mparameters\u001b[0m\u001b[0;34m=\u001b[0m\u001b[0mNone\u001b[0m\u001b[0;34m,\u001b[0m \u001b[0mheaders\u001b[0m\u001b[0;34m=\u001b[0m\u001b[0mNone\u001b[0m\u001b[0;34m,\u001b[0m \u001b[0minput\u001b[0m\u001b[0;34m=\u001b[0m\u001b[0mNone\u001b[0m\u001b[0;34m)\u001b[0m\u001b[0;34m:\u001b[0m\u001b[0;34m\u001b[0m\u001b[0m\n",
        "\u001b[0;32m/usr/local/lib/python2.7/dist-packages/github/Requester.pyc\u001b[0m in \u001b[0;36m__requestEncode\u001b[0;34m(self, cnx, verb, url, parameters, requestHeaders, input, encode)\u001b[0m\n\u001b[1;32m    236\u001b[0m         \u001b[0mrequestHeaders\u001b[0m\u001b[0;34m[\u001b[0m\u001b[0;34m\"User-Agent\"\u001b[0m\u001b[0;34m]\u001b[0m \u001b[0;34m=\u001b[0m \u001b[0mself\u001b[0m\u001b[0;34m.\u001b[0m\u001b[0m__userAgent\u001b[0m\u001b[0;34m\u001b[0m\u001b[0m\n\u001b[1;32m    237\u001b[0m \u001b[0;34m\u001b[0m\u001b[0m\n\u001b[0;32m--> 238\u001b[0;31m         \u001b[0murl\u001b[0m \u001b[0;34m=\u001b[0m \u001b[0mself\u001b[0m\u001b[0;34m.\u001b[0m\u001b[0m__makeAbsoluteUrl\u001b[0m\u001b[0;34m(\u001b[0m\u001b[0murl\u001b[0m\u001b[0;34m)\u001b[0m\u001b[0;34m\u001b[0m\u001b[0m\n\u001b[0m\u001b[1;32m    239\u001b[0m         \u001b[0murl\u001b[0m \u001b[0;34m=\u001b[0m \u001b[0mself\u001b[0m\u001b[0;34m.\u001b[0m\u001b[0m__addParametersToUrl\u001b[0m\u001b[0;34m(\u001b[0m\u001b[0murl\u001b[0m\u001b[0;34m,\u001b[0m \u001b[0mparameters\u001b[0m\u001b[0;34m)\u001b[0m\u001b[0;34m\u001b[0m\u001b[0m\n\u001b[1;32m    240\u001b[0m \u001b[0;34m\u001b[0m\u001b[0m\n",
        "\u001b[0;32m/usr/local/lib/python2.7/dist-packages/github/Requester.pyc\u001b[0m in \u001b[0;36m__makeAbsoluteUrl\u001b[0;34m(self, url)\u001b[0m\n\u001b[1;32m    293\u001b[0m         \u001b[0;31m# URLs generated locally will be relative to __base_url\u001b[0m\u001b[0;34m\u001b[0m\u001b[0;34m\u001b[0m\u001b[0m\n\u001b[1;32m    294\u001b[0m         \u001b[0;31m# URLs returned from the server will start with __base_url\u001b[0m\u001b[0;34m\u001b[0m\u001b[0;34m\u001b[0m\u001b[0m\n\u001b[0;32m--> 295\u001b[0;31m         \u001b[0;32mif\u001b[0m \u001b[0murl\u001b[0m\u001b[0;34m.\u001b[0m\u001b[0mstartswith\u001b[0m\u001b[0;34m(\u001b[0m\u001b[0;34m\"/\"\u001b[0m\u001b[0;34m)\u001b[0m\u001b[0;34m:\u001b[0m\u001b[0;34m\u001b[0m\u001b[0m\n\u001b[0m\u001b[1;32m    296\u001b[0m             \u001b[0murl\u001b[0m \u001b[0;34m=\u001b[0m \u001b[0mself\u001b[0m\u001b[0;34m.\u001b[0m\u001b[0m__prefix\u001b[0m \u001b[0;34m+\u001b[0m \u001b[0murl\u001b[0m\u001b[0;34m\u001b[0m\u001b[0m\n\u001b[1;32m    297\u001b[0m         \u001b[0;32melse\u001b[0m\u001b[0;34m:\u001b[0m\u001b[0;34m\u001b[0m\u001b[0m\n",
        "\u001b[0;31mAttributeError\u001b[0m: 'NoneType' object has no attribute 'startswith'"
       ]
      }
     ],
     "prompt_number": 44
    },
    {
     "cell_type": "code",
     "collapsed": false,
     "input": [
      "gepy.public_repos"
     ],
     "language": "python",
     "metadata": {},
     "outputs": [
      {
       "output_type": "pyout",
       "prompt_number": 53,
       "text": [
        "12"
       ]
      }
     ],
     "prompt_number": 53
    },
    {
     "cell_type": "code",
     "collapsed": false,
     "input": [
      "gepic = gepy.avatar_url"
     ],
     "language": "python",
     "metadata": {},
     "outputs": [],
     "prompt_number": 58
    },
    {
     "cell_type": "code",
     "collapsed": false,
     "input": [
      "gepic"
     ],
     "language": "python",
     "metadata": {},
     "outputs": [
      {
       "output_type": "pyout",
       "prompt_number": 60,
       "text": [
        "u'https://avatars.githubusercontent.com/u/6213519?'"
       ]
      }
     ],
     "prompt_number": 60
    },
    {
     "cell_type": "code",
     "collapsed": false,
     "input": [
      "gepy.type"
     ],
     "language": "python",
     "metadata": {},
     "outputs": [
      {
       "output_type": "pyout",
       "prompt_number": 61,
       "text": [
        "u'Organization'"
       ]
      }
     ],
     "prompt_number": 61
    },
    {
     "cell_type": "code",
     "collapsed": false,
     "input": [
      "from IPython.core.display import Image \n",
      "Image(filename='test.png') "
     ],
     "language": "python",
     "metadata": {},
     "outputs": [
      {
       "ename": "IOError",
       "evalue": "[Errno 2] No such file or directory: u'test.png'",
       "output_type": "pyerr",
       "traceback": [
        "\u001b[0;31m---------------------------------------------------------------------------\u001b[0m\n\u001b[0;31mIOError\u001b[0m                                   Traceback (most recent call last)",
        "\u001b[0;32m<ipython-input-57-7575aea083b0>\u001b[0m in \u001b[0;36m<module>\u001b[0;34m()\u001b[0m\n\u001b[1;32m      1\u001b[0m \u001b[0;32mfrom\u001b[0m \u001b[0mIPython\u001b[0m\u001b[0;34m.\u001b[0m\u001b[0mcore\u001b[0m\u001b[0;34m.\u001b[0m\u001b[0mdisplay\u001b[0m \u001b[0;32mimport\u001b[0m \u001b[0mImage\u001b[0m\u001b[0;34m\u001b[0m\u001b[0m\n\u001b[0;32m----> 2\u001b[0;31m \u001b[0mImage\u001b[0m\u001b[0;34m(\u001b[0m\u001b[0mfilename\u001b[0m\u001b[0;34m=\u001b[0m\u001b[0;34m'test.png'\u001b[0m\u001b[0;34m)\u001b[0m\u001b[0;34m\u001b[0m\u001b[0m\n\u001b[0m",
        "\u001b[0;32m/usr/lib/python2.7/dist-packages/IPython/core/display.pyc\u001b[0m in \u001b[0;36m__init__\u001b[0;34m(self, data, url, filename, format, embed)\u001b[0m\n\u001b[1;32m    478\u001b[0m         \u001b[0mself\u001b[0m\u001b[0;34m.\u001b[0m\u001b[0mformat\u001b[0m \u001b[0;34m=\u001b[0m \u001b[0municode\u001b[0m\u001b[0;34m(\u001b[0m\u001b[0mformat\u001b[0m\u001b[0;34m)\u001b[0m\u001b[0;34m.\u001b[0m\u001b[0mlower\u001b[0m\u001b[0;34m(\u001b[0m\u001b[0;34m)\u001b[0m\u001b[0;34m\u001b[0m\u001b[0m\n\u001b[1;32m    479\u001b[0m         \u001b[0mself\u001b[0m\u001b[0;34m.\u001b[0m\u001b[0membed\u001b[0m \u001b[0;34m=\u001b[0m \u001b[0membed\u001b[0m \u001b[0;32mif\u001b[0m \u001b[0membed\u001b[0m \u001b[0;32mis\u001b[0m \u001b[0;32mnot\u001b[0m \u001b[0mNone\u001b[0m \u001b[0;32melse\u001b[0m \u001b[0;34m(\u001b[0m\u001b[0murl\u001b[0m \u001b[0;32mis\u001b[0m \u001b[0mNone\u001b[0m\u001b[0;34m)\u001b[0m\u001b[0;34m\u001b[0m\u001b[0m\n\u001b[0;32m--> 480\u001b[0;31m         \u001b[0msuper\u001b[0m\u001b[0;34m(\u001b[0m\u001b[0mImage\u001b[0m\u001b[0;34m,\u001b[0m \u001b[0mself\u001b[0m\u001b[0;34m)\u001b[0m\u001b[0;34m.\u001b[0m\u001b[0m__init__\u001b[0m\u001b[0;34m(\u001b[0m\u001b[0mdata\u001b[0m\u001b[0;34m=\u001b[0m\u001b[0mdata\u001b[0m\u001b[0;34m,\u001b[0m \u001b[0murl\u001b[0m\u001b[0;34m=\u001b[0m\u001b[0murl\u001b[0m\u001b[0;34m,\u001b[0m \u001b[0mfilename\u001b[0m\u001b[0;34m=\u001b[0m\u001b[0mfilename\u001b[0m\u001b[0;34m)\u001b[0m\u001b[0;34m\u001b[0m\u001b[0m\n\u001b[0m\u001b[1;32m    481\u001b[0m \u001b[0;34m\u001b[0m\u001b[0m\n\u001b[1;32m    482\u001b[0m     \u001b[0;32mdef\u001b[0m \u001b[0mreload\u001b[0m\u001b[0;34m(\u001b[0m\u001b[0mself\u001b[0m\u001b[0;34m)\u001b[0m\u001b[0;34m:\u001b[0m\u001b[0;34m\u001b[0m\u001b[0m\n",
        "\u001b[0;32m/usr/lib/python2.7/dist-packages/IPython/core/display.pyc\u001b[0m in \u001b[0;36m__init__\u001b[0;34m(self, data, url, filename)\u001b[0m\n\u001b[1;32m    263\u001b[0m             \u001b[0mself\u001b[0m\u001b[0;34m.\u001b[0m\u001b[0murl\u001b[0m \u001b[0;34m=\u001b[0m \u001b[0murl\u001b[0m\u001b[0;34m\u001b[0m\u001b[0m\n\u001b[1;32m    264\u001b[0m             \u001b[0mself\u001b[0m\u001b[0;34m.\u001b[0m\u001b[0mfilename\u001b[0m \u001b[0;34m=\u001b[0m \u001b[0mNone\u001b[0m \u001b[0;32mif\u001b[0m \u001b[0mfilename\u001b[0m \u001b[0;32mis\u001b[0m \u001b[0mNone\u001b[0m \u001b[0;32melse\u001b[0m \u001b[0municode\u001b[0m\u001b[0;34m(\u001b[0m\u001b[0mfilename\u001b[0m\u001b[0;34m)\u001b[0m\u001b[0;34m\u001b[0m\u001b[0m\n\u001b[0;32m--> 265\u001b[0;31m         \u001b[0mself\u001b[0m\u001b[0;34m.\u001b[0m\u001b[0mreload\u001b[0m\u001b[0;34m(\u001b[0m\u001b[0;34m)\u001b[0m\u001b[0;34m\u001b[0m\u001b[0m\n\u001b[0m\u001b[1;32m    266\u001b[0m \u001b[0;34m\u001b[0m\u001b[0m\n\u001b[1;32m    267\u001b[0m     \u001b[0;32mdef\u001b[0m \u001b[0mreload\u001b[0m\u001b[0;34m(\u001b[0m\u001b[0mself\u001b[0m\u001b[0;34m)\u001b[0m\u001b[0;34m:\u001b[0m\u001b[0;34m\u001b[0m\u001b[0m\n",
        "\u001b[0;32m/usr/lib/python2.7/dist-packages/IPython/core/display.pyc\u001b[0m in \u001b[0;36mreload\u001b[0;34m(self)\u001b[0m\n\u001b[1;32m    483\u001b[0m         \u001b[0;34m\"\"\"Reload the raw data from file or URL.\"\"\"\u001b[0m\u001b[0;34m\u001b[0m\u001b[0m\n\u001b[1;32m    484\u001b[0m         \u001b[0;32mif\u001b[0m \u001b[0mself\u001b[0m\u001b[0;34m.\u001b[0m\u001b[0membed\u001b[0m\u001b[0;34m:\u001b[0m\u001b[0;34m\u001b[0m\u001b[0m\n\u001b[0;32m--> 485\u001b[0;31m             \u001b[0msuper\u001b[0m\u001b[0;34m(\u001b[0m\u001b[0mImage\u001b[0m\u001b[0;34m,\u001b[0m\u001b[0mself\u001b[0m\u001b[0;34m)\u001b[0m\u001b[0;34m.\u001b[0m\u001b[0mreload\u001b[0m\u001b[0;34m(\u001b[0m\u001b[0;34m)\u001b[0m\u001b[0;34m\u001b[0m\u001b[0m\n\u001b[0m\u001b[1;32m    486\u001b[0m \u001b[0;34m\u001b[0m\u001b[0m\n\u001b[1;32m    487\u001b[0m     \u001b[0;32mdef\u001b[0m \u001b[0m_repr_html_\u001b[0m\u001b[0;34m(\u001b[0m\u001b[0mself\u001b[0m\u001b[0;34m)\u001b[0m\u001b[0;34m:\u001b[0m\u001b[0;34m\u001b[0m\u001b[0m\n",
        "\u001b[0;32m/usr/lib/python2.7/dist-packages/IPython/core/display.pyc\u001b[0m in \u001b[0;36mreload\u001b[0;34m(self)\u001b[0m\n\u001b[1;32m    268\u001b[0m         \u001b[0;34m\"\"\"Reload the raw data from file or URL.\"\"\"\u001b[0m\u001b[0;34m\u001b[0m\u001b[0m\n\u001b[1;32m    269\u001b[0m         \u001b[0;32mif\u001b[0m \u001b[0mself\u001b[0m\u001b[0;34m.\u001b[0m\u001b[0mfilename\u001b[0m \u001b[0;32mis\u001b[0m \u001b[0;32mnot\u001b[0m \u001b[0mNone\u001b[0m\u001b[0;34m:\u001b[0m\u001b[0;34m\u001b[0m\u001b[0m\n\u001b[0;32m--> 270\u001b[0;31m             \u001b[0;32mwith\u001b[0m \u001b[0mopen\u001b[0m\u001b[0;34m(\u001b[0m\u001b[0mself\u001b[0m\u001b[0;34m.\u001b[0m\u001b[0mfilename\u001b[0m\u001b[0;34m,\u001b[0m \u001b[0mself\u001b[0m\u001b[0;34m.\u001b[0m\u001b[0m_read_flags\u001b[0m\u001b[0;34m)\u001b[0m \u001b[0;32mas\u001b[0m \u001b[0mf\u001b[0m\u001b[0;34m:\u001b[0m\u001b[0;34m\u001b[0m\u001b[0m\n\u001b[0m\u001b[1;32m    271\u001b[0m                 \u001b[0mself\u001b[0m\u001b[0;34m.\u001b[0m\u001b[0mdata\u001b[0m \u001b[0;34m=\u001b[0m \u001b[0mf\u001b[0m\u001b[0;34m.\u001b[0m\u001b[0mread\u001b[0m\u001b[0;34m(\u001b[0m\u001b[0;34m)\u001b[0m\u001b[0;34m\u001b[0m\u001b[0m\n\u001b[1;32m    272\u001b[0m         \u001b[0;32melif\u001b[0m \u001b[0mself\u001b[0m\u001b[0;34m.\u001b[0m\u001b[0murl\u001b[0m \u001b[0;32mis\u001b[0m \u001b[0;32mnot\u001b[0m \u001b[0mNone\u001b[0m\u001b[0;34m:\u001b[0m\u001b[0;34m\u001b[0m\u001b[0m\n",
        "\u001b[0;31mIOError\u001b[0m: [Errno 2] No such file or directory: u'test.png'"
       ]
      }
     ],
     "prompt_number": 57
    },
    {
     "cell_type": "code",
     "collapsed": false,
     "input": [
      "gepy.raw_data"
     ],
     "language": "python",
     "metadata": {},
     "outputs": [
      {
       "output_type": "pyout",
       "prompt_number": 56,
       "text": [
        "{u'avatar_url': u'https://avatars.githubusercontent.com/u/6213519?',\n",
        " u'blog': u'http://brobeur.com',\n",
        " u'company': None,\n",
        " u'created_at': u'2013-12-18T10:23:20Z',\n",
        " u'email': u'github@brobeur.com',\n",
        " u'events_url': u'https://api.github.com/orgs/brobeur/events',\n",
        " u'followers': 0,\n",
        " u'following': 0,\n",
        " u'html_url': u'https://github.com/brobeur',\n",
        " u'id': 6213519,\n",
        " u'location': u'Hamilton, New Zealand',\n",
        " u'login': u'brobeur',\n",
        " u'members_url': u'https://api.github.com/orgs/brobeur/members{/member}',\n",
        " u'name': u'BroBeur Studios',\n",
        " u'public_gists': 0,\n",
        " u'public_members_url': u'https://api.github.com/orgs/brobeur/public_members{/member}',\n",
        " u'public_repos': 12,\n",
        " u'repos_url': u'https://api.github.com/orgs/brobeur/repos',\n",
        " u'type': u'Organization',\n",
        " u'updated_at': u'2014-04-21T23:34:26Z',\n",
        " u'url': u'https://api.github.com/orgs/brobeur'}"
       ]
      }
     ],
     "prompt_number": 56
    },
    {
     "cell_type": "code",
     "collapsed": false,
     "input": [
      "print alrepo"
     ],
     "language": "python",
     "metadata": {},
     "outputs": [
      {
       "output_type": "stream",
       "stream": "stdout",
       "text": [
        "https://api.github.com/orgs/brobeur/repos\n"
       ]
      }
     ],
     "prompt_number": 50
    },
    {
     "cell_type": "code",
     "collapsed": false,
     "input": [
      "brorepo = gepy.get_repo('linux')"
     ],
     "language": "python",
     "metadata": {},
     "outputs": [],
     "prompt_number": 47
    },
    {
     "cell_type": "code",
     "collapsed": false,
     "input": [
      "brorepo.size"
     ],
     "language": "python",
     "metadata": {},
     "outputs": [
      {
       "output_type": "pyout",
       "prompt_number": 48,
       "text": [
        "2520"
       ]
      }
     ],
     "prompt_number": 48
    },
    {
     "cell_type": "code",
     "collapsed": false,
     "input": [
      "gepy.get_public_members()"
     ],
     "language": "python",
     "metadata": {},
     "outputs": [
      {
       "output_type": "pyout",
       "prompt_number": 35,
       "text": [
        "<github.PaginatedList.PaginatedList instance at 0x15f2638>"
       ]
      }
     ],
     "prompt_number": 35
    },
    {
     "cell_type": "code",
     "collapsed": false,
     "input": [],
     "language": "python",
     "metadata": {},
     "outputs": []
    },
    {
     "cell_type": "code",
     "collapsed": false,
     "input": [
      "gepy.location"
     ],
     "language": "python",
     "metadata": {},
     "outputs": [
      {
       "output_type": "pyout",
       "prompt_number": 33,
       "text": [
        "u'Hamilton, New Zealand'"
       ]
      }
     ],
     "prompt_number": 33
    },
    {
     "cell_type": "code",
     "collapsed": false,
     "input": [
      "searchbleh = g.get_api_status()"
     ],
     "language": "python",
     "metadata": {},
     "outputs": [],
     "prompt_number": 14
    },
    {
     "cell_type": "code",
     "collapsed": false,
     "input": [
      "print searchbleh.status\n",
      "print searchbleh.last_modified"
     ],
     "language": "python",
     "metadata": {},
     "outputs": [
      {
       "output_type": "stream",
       "stream": "stdout",
       "text": [
        "good\n",
        "None\n"
       ]
      }
     ],
     "prompt_number": 15
    },
    {
     "cell_type": "code",
     "collapsed": false,
     "input": [
      "searchpy.totalCount"
     ],
     "language": "python",
     "metadata": {},
     "outputs": [
      {
       "output_type": "pyout",
       "prompt_number": 16,
       "text": [
        "0"
       ]
      }
     ],
     "prompt_number": 16
    },
    {
     "cell_type": "code",
     "collapsed": false,
     "input": [
      "import geopy"
     ],
     "language": "python",
     "metadata": {},
     "outputs": [],
     "prompt_number": 60
    },
    {
     "cell_type": "code",
     "collapsed": false,
     "input": [
      "koapi = ('d2b321e45a2041f19551a3f3b223fce0')"
     ],
     "language": "python",
     "metadata": {},
     "outputs": [],
     "prompt_number": 61
    },
    {
     "cell_type": "code",
     "collapsed": false,
     "input": [
      "geoloc = geopy.geocoders.GoogleV3()"
     ],
     "language": "python",
     "metadata": {},
     "outputs": [],
     "prompt_number": 63
    },
    {
     "cell_type": "code",
     "collapsed": false,
     "input": [
      "address = geoloc.geocode('8 Margaret Street Levin')"
     ],
     "language": "python",
     "metadata": {},
     "outputs": [],
     "prompt_number": 67
    },
    {
     "cell_type": "code",
     "collapsed": false,
     "input": [
      "print address"
     ],
     "language": "python",
     "metadata": {},
     "outputs": [
      {
       "output_type": "stream",
       "stream": "stdout",
       "text": [
        "8 Margaret Street, Levin 5510, New Zealand\n"
       ]
      }
     ],
     "prompt_number": 68
    },
    {
     "cell_type": "code",
     "collapsed": false,
     "input": [
      "address.point"
     ],
     "language": "python",
     "metadata": {},
     "outputs": [
      {
       "output_type": "pyout",
       "prompt_number": 66,
       "text": [
        "Point(-40.6165368, 175.277496, 0.0)"
       ]
      }
     ],
     "prompt_number": 66
    },
    {
     "cell_type": "code",
     "collapsed": false,
     "input": [
      "for se in searchpy:\n",
      "    print se.url"
     ],
     "language": "python",
     "metadata": {},
     "outputs": [
      {
       "ename": "GithubException",
       "evalue": "403 {u'documentation_url': u'https://developer.github.com/v3/#rate-limiting', u'message': u\"API rate limit exceeded for 74.50.51.32. (But here's the good news: Authenticated requests get a higher rate limit. Check out the documentation for more details.)\"}",
       "output_type": "pyerr",
       "traceback": [
        "\u001b[0;31m---------------------------------------------------------------------------\u001b[0m\n\u001b[0;31mGithubException\u001b[0m                           Traceback (most recent call last)",
        "\u001b[0;32m<ipython-input-51-e5b46de80eed>\u001b[0m in \u001b[0;36m<module>\u001b[0;34m()\u001b[0m\n\u001b[0;32m----> 1\u001b[0;31m \u001b[0;32mfor\u001b[0m \u001b[0mse\u001b[0m \u001b[0;32min\u001b[0m \u001b[0msearchpy\u001b[0m\u001b[0;34m:\u001b[0m\u001b[0;34m\u001b[0m\u001b[0m\n\u001b[0m\u001b[1;32m      2\u001b[0m     \u001b[0;32mprint\u001b[0m \u001b[0mse\u001b[0m\u001b[0;34m.\u001b[0m\u001b[0murl\u001b[0m\u001b[0;34m\u001b[0m\u001b[0m\n",
        "\u001b[0;32m/usr/local/lib/python2.7/dist-packages/github/PaginatedList.pyc\u001b[0m in \u001b[0;36m__iter__\u001b[0;34m(self)\u001b[0m\n\u001b[1;32m     46\u001b[0m             \u001b[0;32myield\u001b[0m \u001b[0melement\u001b[0m\u001b[0;34m\u001b[0m\u001b[0m\n\u001b[1;32m     47\u001b[0m         \u001b[0;32mwhile\u001b[0m \u001b[0mself\u001b[0m\u001b[0;34m.\u001b[0m\u001b[0m_couldGrow\u001b[0m\u001b[0;34m(\u001b[0m\u001b[0;34m)\u001b[0m\u001b[0;34m:\u001b[0m\u001b[0;34m\u001b[0m\u001b[0m\n\u001b[0;32m---> 48\u001b[0;31m             \u001b[0mnewElements\u001b[0m \u001b[0;34m=\u001b[0m \u001b[0mself\u001b[0m\u001b[0;34m.\u001b[0m\u001b[0m_grow\u001b[0m\u001b[0;34m(\u001b[0m\u001b[0;34m)\u001b[0m\u001b[0;34m\u001b[0m\u001b[0m\n\u001b[0m\u001b[1;32m     49\u001b[0m             \u001b[0;32mfor\u001b[0m \u001b[0melement\u001b[0m \u001b[0;32min\u001b[0m \u001b[0mnewElements\u001b[0m\u001b[0;34m:\u001b[0m\u001b[0;34m\u001b[0m\u001b[0m\n\u001b[1;32m     50\u001b[0m                 \u001b[0;32myield\u001b[0m \u001b[0melement\u001b[0m\u001b[0;34m\u001b[0m\u001b[0m\n",
        "\u001b[0;32m/usr/local/lib/python2.7/dist-packages/github/PaginatedList.pyc\u001b[0m in \u001b[0;36m_grow\u001b[0;34m(self)\u001b[0m\n\u001b[1;32m     58\u001b[0m \u001b[0;34m\u001b[0m\u001b[0m\n\u001b[1;32m     59\u001b[0m     \u001b[0;32mdef\u001b[0m \u001b[0m_grow\u001b[0m\u001b[0;34m(\u001b[0m\u001b[0mself\u001b[0m\u001b[0;34m)\u001b[0m\u001b[0;34m:\u001b[0m\u001b[0;34m\u001b[0m\u001b[0m\n\u001b[0;32m---> 60\u001b[0;31m         \u001b[0mnewElements\u001b[0m \u001b[0;34m=\u001b[0m \u001b[0mself\u001b[0m\u001b[0;34m.\u001b[0m\u001b[0m_fetchNextPage\u001b[0m\u001b[0;34m(\u001b[0m\u001b[0;34m)\u001b[0m\u001b[0;34m\u001b[0m\u001b[0m\n\u001b[0m\u001b[1;32m     61\u001b[0m         \u001b[0mself\u001b[0m\u001b[0;34m.\u001b[0m\u001b[0m__elements\u001b[0m \u001b[0;34m+=\u001b[0m \u001b[0mnewElements\u001b[0m\u001b[0;34m\u001b[0m\u001b[0m\n\u001b[1;32m     62\u001b[0m         \u001b[0;32mreturn\u001b[0m \u001b[0mnewElements\u001b[0m\u001b[0;34m\u001b[0m\u001b[0m\n",
        "\u001b[0;32m/usr/local/lib/python2.7/dist-packages/github/PaginatedList.pyc\u001b[0m in \u001b[0;36m_fetchNextPage\u001b[0;34m(self)\u001b[0m\n\u001b[1;32m    156\u001b[0m             \u001b[0;34m\"GET\"\u001b[0m\u001b[0;34m,\u001b[0m\u001b[0;34m\u001b[0m\u001b[0m\n\u001b[1;32m    157\u001b[0m             \u001b[0mself\u001b[0m\u001b[0;34m.\u001b[0m\u001b[0m__nextUrl\u001b[0m\u001b[0;34m,\u001b[0m\u001b[0;34m\u001b[0m\u001b[0m\n\u001b[0;32m--> 158\u001b[0;31m             \u001b[0mparameters\u001b[0m\u001b[0;34m=\u001b[0m\u001b[0mself\u001b[0m\u001b[0;34m.\u001b[0m\u001b[0m__nextParams\u001b[0m\u001b[0;34m\u001b[0m\u001b[0m\n\u001b[0m\u001b[1;32m    159\u001b[0m         )\n\u001b[1;32m    160\u001b[0m \u001b[0;34m\u001b[0m\u001b[0m\n",
        "\u001b[0;32m/usr/local/lib/python2.7/dist-packages/github/Requester.pyc\u001b[0m in \u001b[0;36mrequestJsonAndCheck\u001b[0;34m(self, verb, url, parameters, headers, input, cnx)\u001b[0m\n\u001b[1;32m    167\u001b[0m \u001b[0;34m\u001b[0m\u001b[0m\n\u001b[1;32m    168\u001b[0m     \u001b[0;32mdef\u001b[0m \u001b[0mrequestJsonAndCheck\u001b[0m\u001b[0;34m(\u001b[0m\u001b[0mself\u001b[0m\u001b[0;34m,\u001b[0m \u001b[0mverb\u001b[0m\u001b[0;34m,\u001b[0m \u001b[0murl\u001b[0m\u001b[0;34m,\u001b[0m \u001b[0mparameters\u001b[0m\u001b[0;34m=\u001b[0m\u001b[0mNone\u001b[0m\u001b[0;34m,\u001b[0m \u001b[0mheaders\u001b[0m\u001b[0;34m=\u001b[0m\u001b[0mNone\u001b[0m\u001b[0;34m,\u001b[0m \u001b[0minput\u001b[0m\u001b[0;34m=\u001b[0m\u001b[0mNone\u001b[0m\u001b[0;34m,\u001b[0m \u001b[0mcnx\u001b[0m\u001b[0;34m=\u001b[0m\u001b[0mNone\u001b[0m\u001b[0;34m)\u001b[0m\u001b[0;34m:\u001b[0m\u001b[0;34m\u001b[0m\u001b[0m\n\u001b[0;32m--> 169\u001b[0;31m         \u001b[0;32mreturn\u001b[0m \u001b[0mself\u001b[0m\u001b[0;34m.\u001b[0m\u001b[0m__check\u001b[0m\u001b[0;34m(\u001b[0m\u001b[0;34m*\u001b[0m\u001b[0mself\u001b[0m\u001b[0;34m.\u001b[0m\u001b[0mrequestJson\u001b[0m\u001b[0;34m(\u001b[0m\u001b[0mverb\u001b[0m\u001b[0;34m,\u001b[0m \u001b[0murl\u001b[0m\u001b[0;34m,\u001b[0m \u001b[0mparameters\u001b[0m\u001b[0;34m,\u001b[0m \u001b[0mheaders\u001b[0m\u001b[0;34m,\u001b[0m \u001b[0minput\u001b[0m\u001b[0;34m,\u001b[0m \u001b[0mcnx\u001b[0m\u001b[0;34m)\u001b[0m\u001b[0;34m)\u001b[0m\u001b[0;34m\u001b[0m\u001b[0m\n\u001b[0m\u001b[1;32m    170\u001b[0m \u001b[0;34m\u001b[0m\u001b[0m\n\u001b[1;32m    171\u001b[0m     \u001b[0;32mdef\u001b[0m \u001b[0mrequestMultipartAndCheck\u001b[0m\u001b[0;34m(\u001b[0m\u001b[0mself\u001b[0m\u001b[0;34m,\u001b[0m \u001b[0mverb\u001b[0m\u001b[0;34m,\u001b[0m \u001b[0murl\u001b[0m\u001b[0;34m,\u001b[0m \u001b[0mparameters\u001b[0m\u001b[0;34m=\u001b[0m\u001b[0mNone\u001b[0m\u001b[0;34m,\u001b[0m \u001b[0mheaders\u001b[0m\u001b[0;34m=\u001b[0m\u001b[0mNone\u001b[0m\u001b[0;34m,\u001b[0m \u001b[0minput\u001b[0m\u001b[0;34m=\u001b[0m\u001b[0mNone\u001b[0m\u001b[0;34m)\u001b[0m\u001b[0;34m:\u001b[0m\u001b[0;34m\u001b[0m\u001b[0m\n",
        "\u001b[0;32m/usr/local/lib/python2.7/dist-packages/github/Requester.pyc\u001b[0m in \u001b[0;36m__check\u001b[0;34m(self, status, responseHeaders, output)\u001b[0m\n\u001b[1;32m    175\u001b[0m         \u001b[0moutput\u001b[0m \u001b[0;34m=\u001b[0m \u001b[0mself\u001b[0m\u001b[0;34m.\u001b[0m\u001b[0m__structuredFromJson\u001b[0m\u001b[0;34m(\u001b[0m\u001b[0moutput\u001b[0m\u001b[0;34m)\u001b[0m\u001b[0;34m\u001b[0m\u001b[0m\n\u001b[1;32m    176\u001b[0m         \u001b[0;32mif\u001b[0m \u001b[0mstatus\u001b[0m \u001b[0;34m>=\u001b[0m \u001b[0;36m400\u001b[0m\u001b[0;34m:\u001b[0m\u001b[0;34m\u001b[0m\u001b[0m\n\u001b[0;32m--> 177\u001b[0;31m             \u001b[0;32mraise\u001b[0m \u001b[0mself\u001b[0m\u001b[0;34m.\u001b[0m\u001b[0m__createException\u001b[0m\u001b[0;34m(\u001b[0m\u001b[0mstatus\u001b[0m\u001b[0;34m,\u001b[0m \u001b[0mresponseHeaders\u001b[0m\u001b[0;34m,\u001b[0m \u001b[0moutput\u001b[0m\u001b[0;34m)\u001b[0m\u001b[0;34m\u001b[0m\u001b[0m\n\u001b[0m\u001b[1;32m    178\u001b[0m         \u001b[0;32mreturn\u001b[0m \u001b[0mresponseHeaders\u001b[0m\u001b[0;34m,\u001b[0m \u001b[0moutput\u001b[0m\u001b[0;34m\u001b[0m\u001b[0m\n\u001b[1;32m    179\u001b[0m \u001b[0;34m\u001b[0m\u001b[0m\n",
        "\u001b[0;31mGithubException\u001b[0m: 403 {u'documentation_url': u'https://developer.github.com/v3/#rate-limiting', u'message': u\"API rate limit exceeded for 74.50.51.32. (But here's the good news: Authenticated requests get a higher rate limit. Check out the documentation for more details.)\"}"
       ]
      },
      {
       "output_type": "stream",
       "stream": "stdout",
       "text": [
        "https://api.github.com/repos/kennethreitz/python-guide\n",
        "https://api.github.com/repos/poise/python\n",
        "https://api.github.com/repos/faif/python-patterns\n",
        "https://api.github.com/repos/gregmalcolm/python_koans\n",
        "https://api.github.com/repos/klen/python-mode\n",
        "https://api.github.com/repos/revolunet/PythonBooks\n",
        "https://api.github.com/repos/mikemaccana/python-docx\n",
        "https://api.github.com/repos/simplegeo/python-oauth2\n",
        "https://api.github.com/repos/getsentry/raven-python\n",
        "https://api.github.com/repos/utahta/pythonbrew\n",
        "https://api.github.com/repos/mongodb/mongo-python-driver\n",
        "https://api.github.com/repos/bear/python-twitter\n",
        "https://api.github.com/repos/Instagram/python-instagram\n",
        "https://api.github.com/repos/dotcloud/zerorpc-python\n",
        "https://api.github.com/repos/python-git/python\n",
        "https://api.github.com/repos/grangier/python-goose\n",
        "https://api.github.com/repos/waylan/Python-Markdown\n",
        "https://api.github.com/repos/kivy/python-for-android\n",
        "https://api.github.com/repos/bigmlcom/python\n",
        "https://api.github.com/repos/python/pythondotorg\n",
        "https://api.github.com/repos/kennethreitz/requests\n",
        "https://api.github.com/repos/gitpython-developers/GitPython\n",
        "https://api.github.com/repos/omab/python-social-auth\n",
        "https://api.github.com/repos/heroku/heroku-buildpack-python\n",
        "https://api.github.com/repos/gfxmonk/python-readability\n",
        "https://api.github.com/repos/openstack/python-novaclient\n",
        "https://api.github.com/repos/tavendo/AutobahnPython\n",
        "https://api.github.com/repos/lincolnloop/python-qrcode\n",
        "https://api.github.com/repos/tweepy/tweepy\n",
        "https://api.github.com/repos/twilio/twilio-python\n",
        "https://api.github.com/repos/openid/python-openid\n",
        "https://api.github.com/repos/daviddrysdale/python-phonenumbers\n",
        "https://api.github.com/repos/pgbovine/OnlinePythonTutor\n",
        "https://api.github.com/repos/rackerlabs/python-cloudfiles\n",
        "https://api.github.com/repos/fengli/alipay_python\n",
        "https://api.github.com/repos/adafruit/Adafruit-Raspberry-Pi-Python-Code\n",
        "https://api.github.com/repos/mumrah/kafka-python\n",
        "https://api.github.com/repos/trentm/python-markdown2\n",
        "https://api.github.com/repos/saghul/pythonz\n",
        "https://api.github.com/repos/sinacloud/sae-python-dev-guide\n",
        "https://api.github.com/repos/gabrielelanaro/emacs-for-python\n",
        "https://api.github.com/repos/serverdensity/python-daemon\n",
        "https://api.github.com/repos/googleglass/mirror-quickstart-python\n",
        "https://api.github.com/repos/msgpack/msgpack-python\n",
        "https://api.github.com/repos/dabeaz/python-cookbook\n",
        "https://api.github.com/repos/ocelma/python-recsys\n",
        "https://api.github.com/repos/jrjohansson/scientific-python-lectures\n",
        "https://api.github.com/repos/geeknam/python-gcm\n",
        "https://api.github.com/repos/adamn/python-webkit2png\n",
        "https://api.github.com/repos/boto/boto\n",
        "https://api.github.com/repos/scikit-learn/scikit-learn\n",
        "https://api.github.com/repos/openstack/python-swiftclient\n",
        "https://api.github.com/repos/openstack/python-keystoneclient\n",
        "https://api.github.com/repos/ahupp/python-magic\n",
        "https://api.github.com/repos/Yelp/python-gearman\n",
        "https://api.github.com/repos/Lawouach/WebSocket-for-Python\n",
        "https://api.github.com/repos/ganglia/gmond_python_modules\n",
        "https://api.github.com/repos/andymccurdy/redis-py\n",
        "https://api.github.com/repos/basho/riak-python-client\n",
        "https://api.github.com/repos/ozgur/python-linkedin\n",
        "https://api.github.com/repos/datastax/python-driver\n",
        "https://api.github.com/repos/matplotlib/matplotlib\n",
        "https://api.github.com/repos/samuel/python-munin\n",
        "https://api.github.com/repos/zedshaw/python-lust\n",
        "https://api.github.com/repos/stankevich/puppet-python\n",
        "https://api.github.com/repos/fabric/fabric\n",
        "https://api.github.com/repos/fgallina/python.el\n",
        "https://api.github.com/repos/clintecker/python-googleanalytics\n",
        "https://api.github.com/repos/nguyen-toan/Python3\n",
        "https://api.github.com/repos/pld-linux/python3\n",
        "https://api.github.com/repos/yhat/ggplot\n",
        "https://api.github.com/repos/lepture/python-livereload\n",
        "https://api.github.com/repos/jaybaird/python-bloomfilter\n",
        "https://api.github.com/repos/sendgrid/sendgrid-python\n",
        "https://api.github.com/repos/jdunck/python-unicodecsv\n",
        "https://api.github.com/repos/n0more/Python3\n",
        "https://api.github.com/repos/ldx/python-iptables\n",
        "https://api.github.com/repos/stripe/stripe-python\n",
        "https://api.github.com/repos/luispedro/BuildingMachineLearningSystemsWithPython\n",
        "https://api.github.com/repos/Mic92/python-mpd2\n",
        "https://api.github.com/repos/freddix/python3\n",
        "https://api.github.com/repos/themartorana/python-postmark\n",
        "https://api.github.com/repos/kennethreitz-archive/dive-into-python3\n",
        "https://api.github.com/repos/avokhmin/python3\n",
        "https://api.github.com/repos/Homebrew/homebrew-python\n",
        "https://api.github.com/repos/jgarzik/python-bitcoinrpc\n",
        "https://api.github.com/repos/evernote/evernote-sdk-python\n",
        "https://api.github.com/repos/davisp/python-spidermonkey\n",
        "https://api.github.com/repos/fonnesbeck/statistical-analysis-python-tutorial\n",
        "https://api.github.com/repos/soundcloud/soundcloud-python\n",
        "https://api.github.com/repos/mne-tools/mne-python\n",
        "https://api.github.com/repos/gittip/aspen-python\n",
        "https://api.github.com/repos/leah/python-oauth\n",
        "https://api.github.com/repos/shotgunsoftware/python-api\n",
        "https://api.github.com/repos/defunkt/pystache\n",
        "https://api.github.com/repos/yinwang0/pysonar2\n",
        "https://api.github.com/repos/fiorix/mongo-async-python-driver\n",
        "https://api.github.com/repos/swaroopch/byte_of_python\n",
        "https://api.github.com/repos/timotheus/ebaysdk-python\n",
        "https://api.github.com/repos/ask/python-github2\n",
        "https://api.github.com/repos/amoffat/sh\n",
        "https://api.github.com/repos/misja/python-boilerpipe\n",
        "https://api.github.com/repos/webpy/webpy\n",
        "https://api.github.com/repos/lizherui/spider_python\n",
        "https://api.github.com/repos/ContinuumIO/bokeh\n",
        "https://api.github.com/repos/sixohsix/twitter\n",
        "https://api.github.com/repos/openstack/python-neutronclient\n",
        "https://api.github.com/repos/pythonforfacebook/facebook-sdk\n",
        "https://api.github.com/repos/pypa/virtualenv\n",
        "https://api.github.com/repos/mbrochh/vim-as-a-python-ide\n",
        "https://api.github.com/repos/evernote/evernote-sdk-python3\n",
        "https://api.github.com/repos/rackerlabs/python-novaclient\n",
        "https://api.github.com/repos/scrapy/scrapy\n",
        "https://api.github.com/repos/nvie/rq\n",
        "https://api.github.com/repos/areski/python-nvd3\n",
        "https://api.github.com/repos/eguven/python3-memcached\n",
        "https://api.github.com/repos/eyeseast/python-tablefu\n",
        "https://api.github.com/repos/miohtama/python-Levenshtein\n",
        "https://api.github.com/repos/kirang89/pycrumbs\n",
        "https://api.github.com/repos/jcrocholl/pep8\n",
        "https://api.github.com/repos/gpoore/pythontex\n",
        "https://api.github.com/repos/hyde/hyde\n",
        "https://api.github.com/repos/alastair/python-musicbrainzngs\n",
        "https://api.github.com/repos/quantopian/zipline\n",
        "https://api.github.com/repos/abidrahmank/OpenCV2-Python\n",
        "https://api.github.com/repos/savon-noir/python-libnmap\n",
        "https://api.github.com/repos/jolicloud/python-apt\n",
        "https://api.github.com/repos/mitsuhiko/python-modernize\n",
        "https://api.github.com/repos/gabrielfalcao/lettuce\n",
        "https://api.github.com/repos/surfly/gevent\n",
        "https://api.github.com/repos/adafruit/adafruit-beaglebone-io-python\n",
        "https://api.github.com/repos/duointeractive/paypal-python\n",
        "https://api.github.com/repos/excid3/python-apt\n",
        "https://api.github.com/repos/html5lib/html5lib-python\n",
        "https://api.github.com/repos/PythonJS/PythonJS\n",
        "https://api.github.com/repos/Azure/azure-sdk-for-python\n",
        "https://api.github.com/repos/Mashape/unirest-python\n",
        "https://api.github.com/repos/balanced/balanced-python\n",
        "https://api.github.com/repos/paulproteus/python-scraping-code-samples\n",
        "https://api.github.com/repos/textmate/python.tmbundle\n",
        "https://api.github.com/repos/profjsb/python-seminar\n",
        "https://api.github.com/repos/akaihola/flymake-python\n",
        "https://api.github.com/repos/cython/cython\n",
        "https://api.github.com/repos/dasmith/stanford-corenlp-python\n",
        "https://api.github.com/repos/urbanairship/python-library\n",
        "https://api.github.com/repos/JosephSalisbury/python-bittorrent\n",
        "https://api.github.com/repos/getpelican/pelican\n",
        "https://api.github.com/repos/pypa/pip\n",
        "https://api.github.com/repos/sympy/sympy\n",
        "https://api.github.com/repos/baijum/selenium-python\n",
        "https://api.github.com/repos/venthur/python-ardrone\n",
        "https://api.github.com/repos/jgarzik/python-bitcoinlib\n",
        "https://api.github.com/repos/bitly/bitly-api-python\n",
        "https://api.github.com/repos/openstack/python-glanceclient\n",
        "https://api.github.com/repos/facebook/tornado\n",
        "https://api.github.com/repos/tpaviot/pythonocc\n",
        "https://api.github.com/repos/karan/Projects\n",
        "https://api.github.com/repos/nose-devs/nose\n",
        "https://api.github.com/repos/vishnubob/python-midi\n",
        "https://api.github.com/repos/collective/buildout.python\n",
        "https://api.github.com/repos/vincenting/weChat-python-sdk\n",
        "https://api.github.com/repos/rackerlabs/python-clouddns\n",
        "https://api.github.com/repos/ikotler/pythonect\n",
        "https://api.github.com/repos/rdio/rdio-python\n",
        "https://api.github.com/repos/celery/kombu\n",
        "https://api.github.com/repos/simplegeo/python-simplegeo\n",
        "https://api.github.com/repos/mesos/spark\n",
        "https://api.github.com/repos/metawilm/cl-python\n",
        "https://api.github.com/repos/openstack/python-openstackclient\n",
        "https://api.github.com/repos/orcasgit/python-fitbit\n",
        "https://api.github.com/repos/haypo/python-ipy\n",
        "https://api.github.com/repos/wrobstory/vincent\n",
        "https://api.github.com/repos/echonest/pyechonest\n",
        "https://api.github.com/repos/VerbalExpressions/PythonVerbalExpressions\n",
        "https://api.github.com/repos/charlierguo/gmail\n",
        "https://api.github.com/repos/fogleman/Minecraft\n",
        "https://api.github.com/repos/ewa/python-webcrawler\n",
        "https://api.github.com/repos/crsmithdev/arrow\n",
        "https://api.github.com/repos/justquick/python-varnish\n",
        "https://api.github.com/repos/maxcutler/python-wordpress-xmlrpc\n",
        "https://api.github.com/repos/scanny/python-pptx\n",
        "https://api.github.com/repos/pusher/pusher_client_python\n",
        "https://api.github.com/repos/qiniu/python-sdk\n",
        "https://api.github.com/repos/kennethreitz-archive/python-github3\n",
        "https://api.github.com/repos/kennethreitz/envoy\n",
        "https://api.github.com/repos/dlitz/pycrypto\n",
        "https://api.github.com/repos/yyuu/pyenv\n",
        "https://api.github.com/repos/koalalorenzo/python-digitalocean\n",
        "https://api.github.com/repos/carljv/Will_it_Python\n",
        "https://api.github.com/repos/libgit2/pygit2\n",
        "https://api.github.com/repos/coagulant/coveralls-python\n",
        "https://api.github.com/repos/sbp/phenny\n",
        "https://api.github.com/repos/tjfontaine/linode-python\n",
        "https://api.github.com/repos/euske/pdfminer\n",
        "https://api.github.com/repos/PythonCharmers/python-future\n",
        "https://api.github.com/repos/jelmer/dulwich\n",
        "https://api.github.com/repos/statsmodels/statsmodels\n",
        "https://api.github.com/repos/renxing/quora-python\n",
        "https://api.github.com/repos/linsomniac/python-memcached\n",
        "https://api.github.com/repos/profjsb/python-bootcamp\n",
        "https://api.github.com/repos/paramiko/paramiko\n",
        "https://api.github.com/repos/zeromq/pyzmq\n",
        "https://api.github.com/repos/plotly/python-api\n",
        "https://api.github.com/repos/patcoll/paypal-python\n",
        "https://api.github.com/repos/JulianEberius/SublimePythonIDE\n",
        "https://api.github.com/repos/kennethreitz/clint\n",
        "https://api.github.com/repos/splunk/splunk-sdk-python\n",
        "https://api.github.com/repos/joke2k/faker\n",
        "https://api.github.com/repos/issackelly/python-hue\n",
        "https://api.github.com/repos/couchbase/couchbase-python-client\n",
        "https://api.github.com/repos/python-quantities/python-quantities\n",
        "https://api.github.com/repos/couchbase/couchbase-python-client\n",
        "https://api.github.com/repos/seatgeek/fuzzywuzzy\n",
        "https://api.github.com/repos/braintree/braintree_python\n",
        "https://api.github.com/repos/twitter/commons\n",
        "https://api.github.com/repos/mkalinowski/python-mythes\n",
        "https://api.github.com/repos/softlayer/softlayer-python\n",
        "https://api.github.com/repos/skyl/vim-config-python-ide\n",
        "https://api.github.com/repos/madmaze/python-tesseract\n",
        "https://api.github.com/repos/todddeluca/python-vagrant\n",
        "https://api.github.com/repos/andrix/python-snappy\n",
        "https://api.github.com/repos/poise/application_python\n",
        "https://api.github.com/repos/wordnik/wordnik-python\n",
        "https://api.github.com/repos/grisha/mod_python\n",
        "https://api.github.com/repos/strawlab/python-pcl\n",
        "https://api.github.com/repos/jacobian/python-cloudservers\n",
        "https://api.github.com/repos/gtaylor/python-fedex\n",
        "https://api.github.com/repos/noplay/python-mysql-replication\n",
        "https://api.github.com/repos/rapidsms/rapidsms\n",
        "https://api.github.com/repos/WoLpH/python-statsd\n",
        "https://api.github.com/repos/douban/dpark\n",
        "https://api.github.com/repos/MongoEngine/mongoengine\n",
        "https://api.github.com/repos/nryoung/algorithms\n",
        "https://api.github.com/repos/defnull/bottle\n",
        "https://api.github.com/repos/BonsaiDen/twitter-text-python\n",
        "https://api.github.com/repos/unpingco/Python-for-Signal-Processing\n",
        "https://api.github.com/repos/metalshark/lesscss-python\n",
        "https://api.github.com/repos/binarydud/pyres\n",
        "https://api.github.com/repos/puppetmodules/puppet-module-python\n",
        "https://api.github.com/repos/alexis-mignon/python-flickr-api\n",
        "https://api.github.com/repos/sangelone/python-hashes\n",
        "https://api.github.com/repos/aparo/pyes\n",
        "https://api.github.com/repos/sibblegp/coinbase_python\n",
        "https://api.github.com/repos/roopeshvaddepally/python-ebay\n",
        "https://api.github.com/repos/shannonturner/python-lessons\n",
        "https://api.github.com/repos/braiden/python-ant-downloader\n",
        "https://api.github.com/repos/PythonJournos/LearningPython\n",
        "https://api.github.com/repos/etotheipi/BitcoinArmory\n",
        "https://api.github.com/repos/abidrahmank/OpenCV2-Python-Tutorials\n",
        "https://api.github.com/repos/gstarnberger/uncompyle\n",
        "https://api.github.com/repos/warner/python-ecdsa\n",
        "https://api.github.com/repos/lupeke/python-firmata\n",
        "https://api.github.com/repos/scraperwiki/scraperwiki-python\n",
        "https://api.github.com/repos/davidhalter/jedi\n",
        "https://api.github.com/repos/sbinet/go-python\n",
        "https://api.github.com/repos/sebix/python-textile\n",
        "https://api.github.com/repos/micropython/micropython\n",
        "https://api.github.com/repos/shuge/Qt-Python-Binding-Examples\n",
        "https://api.github.com/repos/miracle2k/webassets\n",
        "https://api.github.com/repos/pythonhackers/pythonhackers\n",
        "https://api.github.com/repos/DNSPod/dnspod-python\n",
        "https://api.github.com/repos/embedly/embedly-python\n",
        "https://api.github.com/repos/samuel/python-gearman\n",
        "https://api.github.com/repos/tianyu0915/pythoner.net\n",
        "https://api.github.com/repos/akloster/python-mindwave\n",
        "https://api.github.com/repos/aiti-ghana-2012/Lab_Python_02\n",
        "https://api.github.com/repos/thearn/Python-Arduino-Command-API\n",
        "https://api.github.com/repos/paypal/rest-api-sdk-python\n",
        "https://api.github.com/repos/dtcooper/python-fitparse\n",
        "https://api.github.com/repos/SolidCode/SolidPython\n",
        "https://api.github.com/repos/kennethreitz/inbox.py\n",
        "https://api.github.com/repos/jeanphix/Ghost.py\n",
        "https://api.github.com/repos/chrisglass/xhtml2pdf\n",
        "https://api.github.com/repos/twiecki/financial-analysis-python-tutorial\n",
        "https://api.github.com/repos/burnash/gspread\n",
        "https://api.github.com/repos/michaelhelmick/python-tumblpy\n",
        "https://api.github.com/repos/gorakhargosh/watchdog\n",
        "https://api.github.com/repos/mirumee/satchless\n",
        "https://api.github.com/repos/quick2wire/quick2wire-python-api\n",
        "https://api.github.com/repos/senko/python-video-converter\n",
        "https://api.github.com/repos/phusion/passenger\n",
        "https://api.github.com/repos/aiti-ghana-2012/Lab_Python_01\n",
        "https://api.github.com/repos/Cue/fast-python-pb\n",
        "https://api.github.com/repos/saymedia/python-simpledb\n",
        "https://api.github.com/repos/acmerfight/insight_python\n",
        "https://api.github.com/repos/yoavaviram/python-amazon-simple-product-api\n",
        "https://api.github.com/repos/brettviren/python-keepass\n",
        "https://api.github.com/repos/ocelma/python-itunes\n",
        "https://api.github.com/repos/aptana/Pydev\n",
        "https://api.github.com/repos/sahands/python-by-example\n",
        "https://api.github.com/repos/lxml/lxml\n",
        "https://api.github.com/repos/ajalt/fuckitpy\n",
        "https://api.github.com/repos/onelogin/python-saml\n",
        "https://api.github.com/repos/laurentluce/python-algorithms\n",
        "https://api.github.com/repos/dropbox/pyston\n",
        "https://api.github.com/repos/yusugomori/DeepLearning\n",
        "https://api.github.com/repos/aiti-ghana-2012/Lab_Python_03\n",
        "https://api.github.com/repos/dkm/python-vimeo\n",
        "https://api.github.com/repos/juanriaza/python-mega\n",
        "https://api.github.com/repos/zedshaw/lamson\n"
       ]
      }
     ],
     "prompt_number": 51
    },
    {
     "cell_type": "code",
     "collapsed": false,
     "input": [
      "for repo in g.get_user(theuser).get_repos():\n",
      "    gitlist.append(repo.name)"
     ],
     "language": "python",
     "metadata": {},
     "outputs": [],
     "prompt_number": 38
    },
    {
     "cell_type": "code",
     "collapsed": false,
     "input": [
      "os.mkdir('/home/wcmckee/github')"
     ],
     "language": "python",
     "metadata": {},
     "outputs": [
      {
       "ename": "OSError",
       "evalue": "[Errno 17] File exists: '/home/wcmckee/github'",
       "output_type": "pyerr",
       "traceback": [
        "\u001b[0;31m---------------------------------------------------------------------------\u001b[0m\n\u001b[0;31mOSError\u001b[0m                                   Traceback (most recent call last)",
        "\u001b[0;32m<ipython-input-39-29e69ba62084>\u001b[0m in \u001b[0;36m<module>\u001b[0;34m()\u001b[0m\n\u001b[0;32m----> 1\u001b[0;31m \u001b[0mos\u001b[0m\u001b[0;34m.\u001b[0m\u001b[0mmkdir\u001b[0m\u001b[0;34m(\u001b[0m\u001b[0;34m'/home/wcmckee/github'\u001b[0m\u001b[0;34m)\u001b[0m\u001b[0;34m\u001b[0m\u001b[0m\n\u001b[0m",
        "\u001b[0;31mOSError\u001b[0m: [Errno 17] File exists: '/home/wcmckee/github'"
       ]
      }
     ],
     "prompt_number": 39
    },
    {
     "cell_type": "code",
     "collapsed": false,
     "input": [
      "os.chdir('/home/' + theuser + '/github')"
     ],
     "language": "python",
     "metadata": {},
     "outputs": [],
     "prompt_number": 40
    },
    {
     "cell_type": "code",
     "collapsed": false,
     "input": [
      "lisdir = os.listdir('/home/wcmckee/github')\n",
      "curlist = []\n",
      "for ls in lisdir:\n",
      "    #print ls\n",
      "    curlist.append(ls)"
     ],
     "language": "python",
     "metadata": {},
     "outputs": [],
     "prompt_number": 41
    },
    {
     "cell_type": "code",
     "collapsed": false,
     "input": [
      "dlrepo = list(set(gitlist) - set(curlist))"
     ],
     "language": "python",
     "metadata": {},
     "outputs": [],
     "prompt_number": 42
    },
    {
     "cell_type": "code",
     "collapsed": false,
     "input": [
      "print dlrepo"
     ],
     "language": "python",
     "metadata": {},
     "outputs": [
      {
       "output_type": "stream",
       "stream": "stdout",
       "text": [
        "[u'LANs.py', u'godot', u'alien', u'RasPiWrite', u'ggj14', u'FinishYourGame-Jam', u'flask', u'4chan-API', u'game-of-life', u'BroBeurFishingDream', u'flamejam', u'art-lastfm', u'pywp-post', u'TPB', u'autopaintpy123', u'AsylumJamCrushGame', u'wirepil', u'Bukkit', u'SortPictures', u'Delicious-Chrome-Extension', u'intro_programming', u'python-guide', u'pyunderdog', u'python-wordpress-xmlrpc', u'skins', u'ouya-unity-plugin', u'soundcloud-dl', u'pybackupz', u'selfspy', u'gitignore', u'Projects', u'bgj05-hungry', u'BirdCage', u'pyroster', u'iamagamer', u'ipython', u'imgur-python', u'paintingautopy', u'brobeur-web', u'cocos2d-x', u'unityluainterface', u'requests', u'molyjam2013', u'prodo-game', u'reddit_bot', u'DeltaBot', u'marshmallow', u'python-patterns', u'linux', u'compohub', u'hackage-server', u'pithos', u'bbc2wp', u'Triger', u'RedditPress', u'tweepy', u'pytm', u'Cinnamon', u'HTML5-Tiny', u'artcontrol-api', u'miniprojects', u'SuburbNightmare', u'UniLua', u'raspi', u'UnityLuaIntegration', u'intercity', u'DailyProgBot', u'lolpy', u'UIToolkit', u'djtm', u'pymel', u'gimp', u'Rift-Notes', u'clint', u'bacongamejam05', u'lqt', u'wcmStringPY', u'testRepo', u'RPIO', u'html5lib-python', u'sshuttle', u'python-pandora', u'LD48-Skins', u'gjapi_python', u'battlenet', u'haskell-learn', u'BeOk', u'openfaux-server', u'summingbird', u'broLove', u'Koha', u'xboxdrv', u'massive-wright', u'django', u'python-twitter', u'WordPress', u'ruby-warrior', u'ihaskell-notebook', u'opencompetencies']\n"
       ]
      }
     ],
     "prompt_number": 43
    },
    {
     "cell_type": "code",
     "collapsed": false,
     "input": [],
     "language": "python",
     "metadata": {},
     "outputs": []
    },
    {
     "cell_type": "code",
     "collapsed": false,
     "input": [
      "'''\n",
      "for gi in gitlist:\n",
      "    #print gi\n",
      "    #git.Git().clone(\"https://github.com/\" + theuser + \"/\" + dlrepo)\n",
      "    print (\"Downloading: \" + theuser + \"/\" + dlrepo)\n",
      "\n",
      "\n",
      "\n",
      "'''"
     ],
     "language": "python",
     "metadata": {},
     "outputs": [
      {
       "output_type": "pyout",
       "prompt_number": 28,
       "text": [
        "'\\nfor gi in gitlist:\\n    #print gi\\n    #git.Git().clone(\"https://github.com/\" + theuser + \"/\" + dlrepo)\\n    print (\"Downloading: \" + theuser + \"/\" + dlrepo)\\n\\n\\n\\n'"
       ]
      }
     ],
     "prompt_number": 28
    },
    {
     "cell_type": "code",
     "collapsed": false,
     "input": [
      "from clint.textui import colored"
     ],
     "language": "python",
     "metadata": {},
     "outputs": [
      {
       "ename": "ImportError",
       "evalue": "No module named clint.textui",
       "output_type": "pyerr",
       "traceback": [
        "\u001b[0;31m---------------------------------------------------------------------------\u001b[0m\n\u001b[0;31mImportError\u001b[0m                               Traceback (most recent call last)",
        "\u001b[0;32m<ipython-input-29-ba72b8b4a1d5>\u001b[0m in \u001b[0;36m<module>\u001b[0;34m()\u001b[0m\n\u001b[0;32m----> 1\u001b[0;31m \u001b[0;32mfrom\u001b[0m \u001b[0mclint\u001b[0m\u001b[0;34m.\u001b[0m\u001b[0mtextui\u001b[0m \u001b[0;32mimport\u001b[0m \u001b[0mcolored\u001b[0m\u001b[0;34m\u001b[0m\u001b[0m\n\u001b[0m",
        "\u001b[0;31mImportError\u001b[0m: No module named clint.textui"
       ]
      }
     ],
     "prompt_number": 29
    },
    {
     "cell_type": "code",
     "collapsed": false,
     "input": [
      "for gitbl in dlrepo:\n",
      "        #print ('Downloading - ' + theuser + \" - \"  + gitbl)\n",
      "        print (colored.red('Downloading - ' + theuser + \" - \"  + gitbl))\n",
      "        git.Git().clone(\"https://github.com/\" + theuser + \"/\" + gitbl)\n"
     ],
     "language": "python",
     "metadata": {},
     "outputs": [
      {
       "ename": "SyntaxError",
       "evalue": "invalid syntax (<ipython-input-34-a1df4c118a5b>, line 3)",
       "output_type": "pyerr",
       "traceback": [
        "\u001b[0;36m  File \u001b[0;32m\"<ipython-input-34-a1df4c118a5b>\"\u001b[0;36m, line \u001b[0;32m3\u001b[0m\n\u001b[0;31m    puts colored.red('Downloading - ' + theuser + \" - \"  + gitbl)\u001b[0m\n\u001b[0m               ^\u001b[0m\n\u001b[0;31mSyntaxError\u001b[0m\u001b[0;31m:\u001b[0m invalid syntax\n"
       ]
      }
     ],
     "prompt_number": 34
    },
    {
     "cell_type": "code",
     "collapsed": false,
     "input": [],
     "language": "python",
     "metadata": {},
     "outputs": []
    }
   ],
   "metadata": {}
  }
 ]
}