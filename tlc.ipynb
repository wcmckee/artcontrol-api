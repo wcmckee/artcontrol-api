{
 "metadata": {
  "name": "tlc"
 },
 "nbformat": 3,
 "nbformat_minor": 0,
 "worksheets": [
  {
   "cells": [
    {
     "cell_type": "heading",
     "level": 1,
     "metadata": {},
     "source": "TLC"
    },
    {
     "cell_type": "code",
     "collapsed": false,
     "input": "import requests\nfrom bs4 import BeautifulSoup",
     "language": "python",
     "metadata": {},
     "outputs": [],
     "prompt_number": 27
    },
    {
     "cell_type": "code",
     "collapsed": false,
     "input": "urlReq = requests.get('http://www.tlcstudents.ac.nz/home')",
     "language": "python",
     "metadata": {},
     "outputs": [],
     "prompt_number": 28
    },
    {
     "cell_type": "code",
     "collapsed": false,
     "input": "for data in urlReq:\n    #print data\n    \n    endAte = BeautifulSoup(data)\n    \n    #print endAte\n    \n    laAte = endAte.get_text()\n    #print laAte\n    \n    liAte = endAte.find_all('a')\n    print liAte\n    \n    filAte.close()\n    cntAte = len(liAte)\n    #print cntAte\n    leAte = endAte.p\n    #print leAte\n    \n    ",
     "language": "python",
     "metadata": {},
     "outputs": [
      {
       "output_type": "stream",
       "stream": "stdout",
       "text": "[]\n[]\n[]\n[]\n[]\n[]\n[]\n[]\n[]\n[]\n[]\n[]\n[]\n[]\n[]\n[]\n[]\n[]\n[]\n[]\n[<a class=\"nActive\" href=\"home\">Home</a>, <a class=\"nHandcut\" href=\"classes\">Classes</a>]\n[<a class=\"nHandcut\" href=\"http://workroom.ac.nz\">The Workroom</a>, <a class=\"nHandcut\" href=\"http://tlcstuden\"></a>]\n[<a class=\"nHandcut\" href=\"tLCExhibition\">TLC Exhibition</a>, <a c=\"\"></a>]\n[<a class=\"nHandcut\" href=\"studentHandbook\">Student Handbook</a>]\n[<a class=\"nHandcut\" href=\"calendar\">Calendar</a>]\n[<a href=\"https://www.facebook.com/pages/The-Learning-Connexion/146166395402880\"><img src=\"images/social\"/></a>]\n[<a href=\"https://twitter.com/tlcxpress\"><img alt=\"\" src=\"images/social/tA.png\"/></a>]\n[<a href=\"http://www.youtube.com/user/learningconnexion\"><img alt=\"\" src=\"images/social/yA.png\"/></a>, <a href=\"http://w\"></a>]\n[]\n[]\n[]\n[]\n[<a href=\"classes\">Classes</a>]\n[<a href=\"stud\"></a>]\n[]\n[<a href=\"studentLife/twitter\"></a>]\n[]\n[<a href=\"http://workroom.ac.nz\">The Workroo</a>]\n[]\n[<a href=\"http://tlcstudents.ac.nz/videoLibrary/www/\">The Vid</a>]\n[]\n[<a href=\"http://www.tlc.ac.nz\">tlc.ac.nz</a>, <a href=\"http://www.tlcxpress.ac.nz\">Sign Up For Our </a>]\n[]\n[<a href=\"mailto:info@tlc.ac.nz\"><strong>info@tlc.ac.nz</strong></a>]\n[]\n"
      }
     ],
     "prompt_number": 47
    },
    {
     "cell_type": "markdown",
     "metadata": {},
     "source": "That's alot of [] that are totally not needed."
    },
    {
     "cell_type": "code",
     "collapsed": false,
     "input": "",
     "language": "python",
     "metadata": {},
     "outputs": [
      {
       "ename": "IndentationError",
       "evalue": "unexpected indent (<ipython-input-34-df2621d40ecf>, line 1)",
       "output_type": "pyerr",
       "traceback": [
        "\u001b[0;36m  File \u001b[0;32m\"<ipython-input-34-df2621d40ecf>\"\u001b[0;36m, line \u001b[0;32m1\u001b[0m\n\u001b[0;31m    liAte\u001b[0m\n\u001b[0m    ^\u001b[0m\n\u001b[0;31mIndentationError\u001b[0m\u001b[0;31m:\u001b[0m unexpected indent\n"
       ]
      }
     ],
     "prompt_number": 34
    },
    {
     "cell_type": "code",
     "collapsed": false,
     "input": "",
     "language": "python",
     "metadata": {},
     "outputs": [],
     "prompt_number": 29
    },
    {
     "cell_type": "code",
     "collapsed": false,
     "input": "",
     "language": "python",
     "metadata": {},
     "outputs": []
    }
   ],
   "metadata": {}
  }
 ]
}