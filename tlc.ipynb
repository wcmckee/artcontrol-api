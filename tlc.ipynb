{
 "metadata": {
  "name": "tlc"
 },
 "nbformat": 3,
 "nbformat_minor": 0,
 "worksheets": [
  {
   "cells": [
    {
     "cell_type": "heading",
     "level": 1,
     "metadata": {},
     "source": "TLC"
    },
    {
     "cell_type": "code",
     "collapsed": false,
     "input": "import requests\nfrom bs4 import BeautifulSoup",
     "language": "python",
     "metadata": {},
     "outputs": [],
     "prompt_number": 39
    },
    {
     "cell_type": "code",
     "collapsed": false,
     "input": "urlReq = requests.get('http://www.tlcstudents.ac.nz/home')",
     "language": "python",
     "metadata": {},
     "outputs": [],
     "prompt_number": 40
    },
    {
     "cell_type": "code",
     "collapsed": false,
     "input": "f = open(\"myfile.txt\", \"a\")\n\n",
     "language": "python",
     "metadata": {},
     "outputs": [],
     "prompt_number": 41
    },
    {
     "cell_type": "code",
     "collapsed": false,
     "input": "for data in urlReq:\n    #print data\n    \n    endAte = BeautifulSoup(data)\n    \n    print >> f, '>', endAte\n    \n    laAte = endAte.get_text()\n    #print laAte\n    \n    liAte = endAte.find_all('a')\n    print liAte\n    \n    cntAte = len(liAte)\n    #print cntAte\n    leAte = endAte.p\n    #print leAte\n    \n    ",
     "language": "python",
     "metadata": {},
     "outputs": [
      {
       "output_type": "stream",
       "stream": "stdout",
       "text": "[]\n[]\n[]\n[]\n[]\n[]\n[]\n[]\n[]\n[]\n[]\n[]\n[]\n[]\n[]\n[]\n[]\n[]\n[]\n[]\n[<a class=\"nActive\" href=\"home\">Home</a>, <a class=\"nHandcut\" href=\"classes\">Classes</a>]\n[<a class=\"nHandcut\" href=\"http://workroom.ac.nz\">The Workroom</a>, <a class=\"nHandcut\" href=\"http://tlcstuden\"></a>]\n[<a class=\"nHandcut\" href=\"tLCExhibition\">TLC Exhibition</a>, <a c=\"\"></a>]\n[<a class=\"nHandcut\" href=\"studentHandbook\">Student Handbook</a>]\n[<a class=\"nHandcut\" href=\"calendar\">Calendar</a>]\n[<a href=\"https://www.facebook.com/pages/The-Learning-Connexion/146166395402880\"><img src=\"images/social\"/></a>]\n[<a href=\"https://twitter.com/tlcxpress\"><img alt=\"\" src=\"images/social/tA.png\"/></a>]\n[<a href=\"http://www.youtube.com/user/learningconnexion\"><img alt=\"\" src=\"images/social/yA.png\"/></a>, <a href=\"http://w\"></a>]\n[]\n[]\n[]\n[]\n[<a href=\"classes\">Classes</a>]\n[<a href=\"stud\"></a>]\n[]\n[<a href=\"studentLife/twitter\"></a>]\n[]\n[<a href=\"http://workroom.ac.nz\">The Workroo</a>]\n[]\n[<a href=\"http://tlcstudents.ac.nz/videoLibrary/www/\">The Vid</a>]\n[]\n[<a href=\"http://www.tlc.ac.nz\">tlc.ac.nz</a>, <a href=\"http://www.tlcxpress.ac.nz\">Sign Up For Our </a>]\n[]\n[<a href=\"mailto:info@tlc.ac.nz\"><strong>info@tlc.ac.nz</strong></a>]\n[]\n"
      }
     ],
     "prompt_number": 42
    },
    {
     "cell_type": "markdown",
     "metadata": {},
     "source": "That's alot of [] that are totally not needed."
    },
    {
     "cell_type": "code",
     "collapsed": false,
     "input": "",
     "language": "python",
     "metadata": {},
     "outputs": [],
     "prompt_number": 42
    },
    {
     "cell_type": "code",
     "collapsed": false,
     "input": "",
     "language": "python",
     "metadata": {},
     "outputs": [],
     "prompt_number": 42
    },
    {
     "cell_type": "code",
     "collapsed": false,
     "input": "%%bash\n\nwget \\\n     --recursive \\\n     --no-clobber \\\n     --page-requisites \\\n     --html-extension \\\n     --convert-links \\\n     --restrict-file-names=windows \\\n     --domains website.org \\\n     --no-parent \\\n         http://www.tlcstudents.ac.nz/home\n",
     "language": "python",
     "metadata": {},
     "outputs": [
      {
       "output_type": "stream",
       "stream": "stderr",
       "text": "Both --no-clobber and --convert-links were specified, only --convert-links will be used.\n--2013-10-19 18:47:53--  http://www.tlcstudents.ac.nz/home\nResolving www.tlcstudents.ac.nz (www.tlcstudents.ac.nz)... 203.167.233.6\nConnecting to www.tlcstudents.ac.nz (www.tlcstudents.ac.nz)|203.167.233.6|:80... connected.\nHTTP request sent, awaiting response... 200 OK\nLength: 5657 (5.5K) [text/html]\nSaving to: \u2018www.tlcstudents.ac.nz/home.html\u2019\n\n     0K .....                                                 100%  467K=0.01s\n\n2013-10-19 18:47:53 (467 KB/s) - \u2018www.tlcstudents.ac.nz/home.html\u2019 saved [5657/5657]\n\nFINISHED --2013-10-19 18:47:53--\nTotal wall clock time: 0.1s\nDownloaded: 1 files, 5.5K in 0.01s (467 KB/s)\nConverting www.tlcstudents.ac.nz/home.html... 2-20\nConverted 1 files in 0.02 seconds.\n"
      }
     ],
     "prompt_number": 43
    },
    {
     "cell_type": "code",
     "collapsed": false,
     "input": "openSlc = open('home.html','r')\n",
     "language": "python",
     "metadata": {},
     "outputs": [],
     "prompt_number": 44
    },
    {
     "cell_type": "code",
     "collapsed": false,
     "input": "opz = open('result','w')\nfor slc in openSlc:\n    print slc[0]\n\nopz.write(slc)\n    \n    ",
     "language": "python",
     "metadata": {},
     "outputs": [
      {
       "output_type": "stream",
       "stream": "stdout",
       "text": "\n"
      },
      {
       "output_type": "stream",
       "stream": "stdout",
       "text": "\n\n\n\n\n\n\n\n\n\n\n<\n<\n<\n<\n<\n<\n\t\n\t\n\t\n\n\n\t\n\n\n\t\n\n\n\t\n\t\n<\n<\n<\n<\nt\nm\nt\nt\nt\nt\nt\nt\nt\ns\n{\n]\n}\n<\n<\n<\n<\n$\n$\n$\n}\n}\n<\n<\n\n\n\t\n\t\n\t\n\n\n\t\n\t\n\t\n\t\n\t\n\n\n\t\n<\n<\n<\n<\n<\n<\n<\n<\n<\n<\n<\n<\n<\n<\n<\n<\n<\n<\n<\n<\n<\n<\n<\n<\n<\n<\n<\n<\n<\n<\n<\n<\n<\n<\n<\n<\n<\n<\n<\n<\n<\n<\n<\n<\n<\n<\n<\n<\n<\n<\n<\n<\n<\n<\n<\n<\n<\n<\n<\n<\n<\n<\n<\n<\n<\n<\n<\n<\n<\n<\n<\n<\n<\n<\n<\n<\n<\n<\n<\n<\n<\n"
      }
     ],
     "prompt_number": 45
    },
    {
     "cell_type": "code",
     "collapsed": false,
     "input": "endAte = BeautifulSoup(slc)\nprint endAte\n    \nlaAte = endAte.get_text()\nprint laAte\n    \nliAte = endAte.find_all('a')\nprint liAte\ncntAte = len(liAte)\n#print cntAte\n\nleAte = endAte.p\n#print leAte",
     "language": "python",
     "metadata": {},
     "outputs": [
      {
       "output_type": "stream",
       "stream": "stdout",
       "text": "\n\n\n\n[]\n"
      }
     ],
     "prompt_number": 46
    },
    {
     "cell_type": "code",
     "collapsed": false,
     "input": "",
     "language": "python",
     "metadata": {},
     "outputs": [],
     "prompt_number": 46
    },
    {
     "cell_type": "code",
     "collapsed": false,
     "input": "",
     "language": "python",
     "metadata": {},
     "outputs": [],
     "prompt_number": 46
    },
    {
     "cell_type": "code",
     "collapsed": false,
     "input": "",
     "language": "python",
     "metadata": {},
     "outputs": []
    }
   ],
   "metadata": {}
  }
 ]
}