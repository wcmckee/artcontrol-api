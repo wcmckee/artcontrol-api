{
 "metadata": {
  "name": "tlc"
 },
 "nbformat": 3,
 "nbformat_minor": 0,
 "worksheets": [
  {
   "cells": [
    {
     "cell_type": "heading",
     "level": 1,
     "metadata": {},
     "source": "TLC"
    },
    {
     "cell_type": "code",
     "collapsed": false,
     "input": "import requests\nfrom bs4 import BeautifulSoup",
     "language": "python",
     "metadata": {},
     "outputs": [],
     "prompt_number": 3
    },
    {
     "cell_type": "code",
     "collapsed": false,
     "input": "urlReq = requests.get('http://www.tlcstudents.ac.nz/home')",
     "language": "python",
     "metadata": {},
     "outputs": [],
     "prompt_number": 4
    },
    {
     "cell_type": "code",
     "collapsed": false,
     "input": "f = open(\"myfile.txt\", \"a\")\n\n",
     "language": "python",
     "metadata": {},
     "outputs": [],
     "prompt_number": 5
    },
    {
     "cell_type": "code",
     "collapsed": false,
     "input": "for data in urlReq:\n    #print data\n    \n    endAte = BeautifulSoup(data)\n    \n    print >> f, '>', endAte\n    \n    laAte = endAte.get_text()\n    #print laAte\n    \n    liAte = endAte.find_all('a')\n    print liAte\n    \n    cntAte = len(liAte)\n    #print cntAte\n    leAte = endAte.p\n    #print leAte\n    \n    ",
     "language": "python",
     "metadata": {},
     "outputs": [
      {
       "output_type": "stream",
       "stream": "stdout",
       "text": "[]\n[]\n[]\n[]\n[]\n[]\n[]\n[]\n[]\n[]\n[]\n[]\n[]\n[]\n[]\n[]\n[]\n[]\n[]\n[]\n[<a class=\"nActive\" href=\"home\">Home</a>, <a class=\"nHandcut\" href=\"classes\">Classes</a>]\n[<a class=\"nHandcut\" href=\"http://workroom.ac.nz\">The Workroom</a>, <a class=\"nHandcut\" href=\"http://tlcstuden\"></a>]\n[<a class=\"nHandcut\" href=\"tLCExhibition\">TLC Exhibition</a>, <a c=\"\"></a>]\n[<a class=\"nHandcut\" href=\"studentHandbook\">Student Handbook</a>]\n[<a class=\"nHandcut\" href=\"calendar\">Calendar</a>]\n[<a href=\"https://www.facebook.com/pages/The-Learning-Connexion/146166395402880\"><img src=\"images/social\"/></a>]\n[<a href=\"https://twitter.com/tlcxpress\"><img alt=\"\" src=\"images/social/tA.png\"/></a>]\n[<a href=\"http://www.youtube.com/user/learningconnexion\"><img alt=\"\" src=\"images/social/yA.png\"/></a>, <a href=\"http://w\"></a>]\n[]\n[]\n[]\n[]\n[<a href=\"classes\">Classes</a>]\n[<a href=\"stud\"></a>]\n[]\n[<a href=\"studentLife/twitter\"></a>]\n[]\n[<a href=\"http://workroom.ac.nz\">The Workroo</a>]\n[]\n[<a href=\"http://tlcstudents.ac.nz/videoLibrary/www/\">The Vid</a>]\n[]\n[<a href=\"http://www.tlc.ac.nz\">tlc.ac.nz</a>, <a href=\"http://www.tlcxpress.ac.nz\">Sign Up For Our </a>]\n[]\n[<a href=\"mailto:info@tlc.ac.nz\"><strong>info@tlc.ac.nz</strong></a>]\n[]\n"
      }
     ],
     "prompt_number": 6
    },
    {
     "cell_type": "markdown",
     "metadata": {},
     "source": "That's alot of [] that are totally not needed."
    },
    {
     "cell_type": "code",
     "collapsed": false,
     "input": "",
     "language": "python",
     "metadata": {},
     "outputs": [],
     "prompt_number": 6
    },
    {
     "cell_type": "code",
     "collapsed": false,
     "input": "",
     "language": "python",
     "metadata": {},
     "outputs": [],
     "prompt_number": 6
    },
    {
     "cell_type": "code",
     "collapsed": false,
     "input": "%%bash\n\nwget \\\n     --recursive \\\n     --no-clobber \\\n     --page-requisites \\\n     --html-extension \\\n     --convert-links \\\n     --restrict-file-names=windows \\\n     --domains website.org \\\n     --no-parent \\\n         http://www.tlcstudents.ac.nz/home\n",
     "language": "python",
     "metadata": {},
     "outputs": [
      {
       "output_type": "stream",
       "stream": "stderr",
       "text": "Both --no-clobber and --convert-links were specified, only --convert-links will be used.\n--2013-10-19 20:21:03--  http://www.tlcstudents.ac.nz/home\nResolving www.tlcstudents.ac.nz (www.tlcstudents.ac.nz)... 203.167.233.6\nConnecting to www.tlcstudents.ac.nz (www.tlcstudents.ac.nz)|203.167.233.6|:80... connected.\nHTTP request sent, awaiting response... 200 OK\nLength: 5657 (5.5K) [text/html]\nSaving to: \u2018www.tlcstudents.ac.nz/home.html\u2019\n\n     0K .....                                                 100%  419K=0.01s\n\n2013-10-19 20:21:04 (419 KB/s) - \u2018www.tlcstudents.ac.nz/home.html\u2019 saved [5657/5657]\n\nFINISHED --2013-10-19 20:21:04--\nTotal wall clock time: 0.2s\nDownloaded: 1 files, 5.5K in 0.01s (419 KB/s)\nConverting www.tlcstudents.ac.nz/home.html... 2-20\nConverted 1 files in 0.001 seconds.\n"
      }
     ],
     "prompt_number": 7
    },
    {
     "cell_type": "code",
     "collapsed": false,
     "input": "openSlc = open('home.html','r')\n",
     "language": "python",
     "metadata": {},
     "outputs": [],
     "prompt_number": 8
    },
    {
     "cell_type": "code",
     "collapsed": false,
     "input": "opz = open('result','w')\nfor slc in openSlc:\n    print slc[0]\n\nopz.write(slc)\n    \n    ",
     "language": "python",
     "metadata": {},
     "outputs": [
      {
       "output_type": "stream",
       "stream": "stdout",
       "text": "\n"
      },
      {
       "output_type": "stream",
       "stream": "stdout",
       "text": "\n\n\n\n\n\n\n\n\n\n\n<\n<\n<\n<\n<\n<\n\t\n\t\n\t\n\n\n\t\n\n\n\t\n\n\n\t\n\t\n<\n<\n<\n<\nt\nm\nt\nt\nt\nt\nt\nt\nt\ns\n{\n]\n}\n<\n<\n<\n<\n$\n$\n$\n}\n}\n<\n<\n\n\n\t\n\t\n\t\n\n\n\t\n\t\n\t\n\t\n\t\n\n\n\t\n<\n<\n<\n<\n<\n<\n<\n<\n<\n<\n<\n<\n<\n<\n<\n<\n<\n<\n<\n<\n<\n<\n<\n<\n<\n<\n<\n<\n<\n<\n<\n<\n<\n<\n<\n<\n<\n<\n<\n<\n<\n<\n<\n<\n<\n<\n<\n<\n<\n<\n<\n<\n<\n<\n<\n<\n<\n<\n<\n<\n<\n<\n<\n<\n<\n<\n<\n<\n<\n<\n<\n<\n<\n<\n<\n<\n<\n<\n<\n<\n<\n"
      }
     ],
     "prompt_number": 9
    },
    {
     "cell_type": "code",
     "collapsed": false,
     "input": "endAte = BeautifulSoup(slc)\nprint endAte\n    \nlaAte = endAte.get_text()\nprint laAte\n    \nliAte = endAte.find_all('a')\nprint liAte\ncntAte = len(liAte)\n#print cntAte\n\nleAte = endAte.p\n#print leAte",
     "language": "python",
     "metadata": {},
     "outputs": [
      {
       "output_type": "stream",
       "stream": "stdout",
       "text": "\n\n\n\n[]\n"
      }
     ],
     "prompt_number": 10
    },
    {
     "cell_type": "code",
     "collapsed": false,
     "input": "ls",
     "language": "python",
     "metadata": {},
     "outputs": [
      {
       "output_type": "stream",
       "stream": "stdout",
       "text": "artcontrol.ipynb  LICENSE     README.md  tlc.ipynb  \u001b[0m\u001b[01;34mwww.tlcstudents.ac.nz\u001b[0m/\r\nhome.html         myfile.txt  result     tpb.ipynb\r\n"
      }
     ],
     "prompt_number": 11
    },
    {
     "cell_type": "code",
     "collapsed": false,
     "input": "filOpn = open('myfile.txt','r')\nblehDat = filOpn.read()",
     "language": "python",
     "metadata": {},
     "outputs": [],
     "prompt_number": 14
    },
    {
     "cell_type": "code",
     "collapsed": false,
     "input": "print blehDat",
     "language": "python",
     "metadata": {},
     "outputs": [
      {
       "output_type": "stream",
       "stream": "stdout",
       "text": "> <!DOCTYPE html>\n<html><head>\n<meta content=\"text/html; charset=utf-8\" http-equiv=\"Content-Type\"/>\n<meta http-equiv=\"X-UA-Compat\"/></head></html>\n> <html><body><p>ible\" content=\"IE=EmulateIE9\" &gt;\n</p><title>TLC - The Student Site</title>\n<meta content=\"index,follow\" name=\"robots\"/>\n<meta name=\"\"/></body></html>\n> <html><body><p>=\"distribution\" content=\"global\" /&gt;\n\t\t<meta content=\"weekly\" name=\"revisit-after\"/>\n<meta content=\"The Lea\" name=\"description\"/></p></body></html>\n> <html><body><p>rning Connexion - International School of Art and Creativity. Turn your life into a work of art.\" /&gt;\n\n\t\t<meta co=\"\" name=\"keywords\"/></p></body></html>\n> <html><body><p>ntent=\"Learning Connexion, The Learning Connection, Learning, Art, Creativity, Wellington Art Course, Kids Art Classes, Art Clas</p></body></html>\n> <html><body><p>s, Art Classes, Wellington Art Class, Wellington Art School, Art Students\" /&gt;\n\n\t\t<meta content=\"The Learning Connexion\" name=\"au\"/></p></body></html>\n> <html><body><p>thor\" /&gt;\n\n\t\t<meta content=\"The Learning Connexion\" name=\"copyright\"/>\n<meta content=\"The Learning Connexion\" name=\"publisher\"/></p></body></html>\n> <html><body><p>/&gt;\n<base href=\"http://www.tlcstudents.ac.nz/\"/>\n<link href=\"css/styles.css\" rel=\"stylesheet\" type=\"text/css\"/>\n<script type=\"te\"></script></p></body></html>\n> <html><body><p>xt/javascript\" src=\"js/tiny_mce/tiny_mce.js\"&gt;\n<script type=\"text/javascript\">\ntinyMCE.init({\nmode: 'textareas',\ntheme: </script></p></body></html>\n> <html><body><p>'advanced',\ntheme_advanced_buttons1: 'bold, italic, underline, |, justifyleft, justifycenter, justifyright, |, styleselect, font</p></body></html>\n> <html><body><p>select, fontsizeselect',\ntheme_advanced_buttons2: 'cut, copy, paste, |, bullist, numlist, |, outdent, indent, blockquote, |, und</p></body></html>\n> <html><body><p>o, redo, |, link, unlink, image, code, |, forecolor, backcolor',\ntheme_advanced_buttons3: 'hr, removeformat, visualaid, |, sub, </p></body></html>\n> <html><body><p>sup, |, charmap',\ntheme_advanced_toolbar_location: 'top',\ntheme_advanced_statusbar_location: 'bottom',\ntheme_advanced_resizing: </p></body></html>\n> <html><body><p>true,\nstyle_formats: [\n{title: 'Red text', inline: 'span', styles: {color: '#FF0000'}}\n]\n});\n\n<script src=\"http://ajax.\"></script></p></body></html>\n> <html><body><p>googleapis.com/ajax/libs/jquery/1.8.3/jquery.min.js\"&gt;\n<script src=\"js/responsiveslides.min.js\"></script>\n<script>\n$(fun</script></p></body></html>\n> <html><body><p>ction() {\n$(\".rslides\").responsiveSlides();\n$(\".rslides\").responsiveSlides({\n});\n});\n\n<script type=\"text/javascript\">\n</script></p></body></html>\n> <html><body><p>var _gaq = _gaq || [];\n\t\t  _gaq.push(['_setAccount', 'UA-3260176-2']);\n\t\t  _gaq.push(['_trackPageview']);\n\n\t\t  (function() {</p></body></html>\n> <html><body><p>var ga = document.createElement('script'); ga.type = 'text/javascript'; ga.async = true;\n\t\t    ga.src = ('https:' == docu</p></body></html>\n> <html><body><p>ment.location.protocol ? 'https://ssl' : 'http://www') + '.google-analytics.com/ga.js';\n\t\t    var s = document.getElementsByTagN</p></body></html>\n> <html><body><p>ame('script')[0]; s.parentNode.insertBefore(ga, s);\n\t\t  })();\n\n\t\t\n\n</p>\n<div id=\"wrapper\">\n<div id=\"navWrapper\"></div></div></body></html>\n> <html><body><p>\"&gt;\n</p><div id=\"navigation\">\n<ul>\n<li><a class=\"nActive\" href=\"home\">Home</a></li>\n<li><a class=\"nHandcut\" href=\"classes\">Classes</a></li></ul></div></body></html>\n> <html><body><p>&gt;\n</p><li><a class=\"nHandcut\" href=\"http://workroom.ac.nz\">The Workroom</a></li>\n<li><a class=\"nHandcut\" href=\"http://tlcstuden\"></a></li></body></html>\n> <html><body><p>ts.ac.nz/videoLibrary/www/\"&gt;Video Library\n</p><li><a class=\"nHandcut\" href=\"tLCExhibition\">TLC Exhibition</a></li>\n<li><a c=\"\"></a></li></body></html>\n> <html><body><p>lass=\"nHandcut\" href=\"studentLife\"&gt;Student Life\n</p><li><a class=\"nHandcut\" href=\"studentHandbook\">Student Handbook</a></li></body></html>\n> <html><body><p>&gt;\n</p><li><a class=\"nHandcut\" href=\"calendar\">Calendar</a></li>\n<div id=\"logo\">\n<img alt=\"\" src=\"imag> <!DOCTYPE html>\n<html><head>\n<meta content=\"text/html; charset=utf-8\" http-equiv=\"Content-Type\"/>\n<meta http-equiv=\"X-UA-Compat\"/></head></html>\n> <html><body><p>ible\" content=\"IE=EmulateIE9\" &gt;\n</p><title>TLC - The Student Site</title>\n<meta content=\"index,follow\" name=\"robots\"/>\n<meta name=\"\"/></body></html>\n> <html><body><p>=\"distribution\" content=\"global\" /&gt;\n\t\t<meta content=\"weekly\" name=\"revisit-after\"/>\n<meta content=\"The Lea\" name=\"description\"/></p></body></html>\n> <html><body><p>rning Connexion - International School of Art and Creativity. Turn your life into a work of art.\" /&gt;\n\n\t\t<meta co=\"\" name=\"keywords\"/></p></body></html>\n> <html><body><p>ntent=\"Learning Connexion, The Learning Connection, Learning, Art, Creativity, Wellington Art Course, Kids Art Classes, Art Clas</p></body></html>\n> <html><body><p>s, Art Classes, Wellington Art Class, Wellington Art School, Art Students\" /&gt;\n\n\t\t<meta content=\"The Learning Connexion\" name=\"au\"/></p></body></html>\n> <html><body><p>thor\" /&gt;\n\n\t\t<meta content=\"The Learning Connexion\" name=\"copyright\"/>\n<meta content=\"The Learning Connexion\" name=\"publisher\"/></p></body></html>\n> <html><body><p>/&gt;\n<base href=\"http://www.tlcstudents.ac.nz/\"/>\n<link href=\"css/styles.css\" rel=\"stylesheet\" type=\"text/css\"/>\n<script type=\"te\"></script></p></body></html>\n> <html><body><p>xt/javascript\" src=\"js/tiny_mce/tiny_mce.js\"&gt;\n<script type=\"text/javascript\">\ntinyMCE.init({\nmode: 'textareas',\ntheme: </script></p></body></html>\n> <html><body><p>'advanced',\ntheme_advanced_buttons1: 'bold, italic, underline, |, justifyleft, justifycenter, justifyright, |, styleselect, font</p></body></html>\n> <html><body><p>select, fontsizeselect',\ntheme_advanced_buttons2: 'cut, copy, paste, |, bullist, numlist, |, outdent, indent, blockquote, |, und</p></body></html>\n> <html><body><p>o, redo, |, link, unlink, image, code, |, forecolor, backcolor',\ntheme_advanced_buttons3: 'hr, removeformat, visualaid, |, sub, </p></body></html>\n> <html><body><p>sup, |, charmap',\ntheme_advanced_toolbar_location: 'top',\ntheme_advanced_statusbar_location: 'bottom',\ntheme_advanced_resizing: </p></body></html>\n> <html><body><p>true,\nstyle_formats: [\n{title: 'Red text', inline: 'span', styles: {color: '#FF0000'}}\n]\n});\n\n<script src=\"http://ajax.\"></script></p></body></html>\n> <html><body><p>googleapis.com/ajax/libs/jquery/1.8.3/jquery.min.js\"&gt;\n<script src=\"js/responsiveslides.min.js\"></script>\n<script>\n$(fun</script></p></body></html>\n> <html><body><p>ction() {\n$(\".rslides\").responsiveSlides();\n$(\".rslides\").responsiveSlides({\n});\n});\n\n<script type=\"text/javascript\">\n</script></p></body></html>\n> <html><body><p>var _gaq = _gaq || [];\n\t\t  _gaq.push(['_setAccount', 'UA-3260176-2']);\n\t\t  _gaq.push(['_trackPageview']);\n\n\t\t  (function() {</p></body></html>\n> <html><body><p>var ga = document.createElement('script'); ga.type = 'text/javascript'; ga.async = true;\n\t\t    ga.src = ('https:' == docu</p></body></html>\n> <html><body><p>ment.location.protocol ? 'https://ssl' : 'http://www') + '.google-analytics.com/ga.js';\n\t\t    var s = document.getElementsByTagN</p></body></html>\n> <html><body><p>ame('script')[0]; s.parentNode.insertBefore(ga, s);\n\t\t  })();\n\n\t\t\n\n</p>\n<div id=\"wrapper\">\n<div id=\"navWrapper\"></div></div></body></html>\n> <html><body><p>\"&gt;\n</p><div id=\"navigation\">\n<ul>\n<li><a class=\"nActive\" href=\"home\">Home</a></li>\n<li><a class=\"nHandcut\" href=\"classes\">Classes</a></li></ul></div></body></html>\n> <html><body><p>&gt;\n</p><li><a class=\"nHandcut\" href=\"http://workroom.ac.nz\">The Workroom</a></li>\n<li><a class=\"nHandcut\" href=\"http://tlcstuden\"></a></li></body></html>\n> <html><body><p>ts.ac.nz/videoLibrary/www/\"&gt;Video Library\n</p><li><a class=\"nHandcut\" href=\"tLCExhibition\">TLC Exhibition</a></li>\n<li><a c=\"\"></a></li></body></html>\n> <html><body><p>lass=\"nHandcut\" href=\"studentLife\"&gt;Student Life\n</p><li><a class=\"nHandcut\" href=\"studentHandbook\">Student Handbook</a></li></body></html>\n> <html><body><p>&gt;\n</p><li><a class=\"nHandcut\" href=\"calendar\">Calendar</a></li>\n<div id=\"logo\">\n<img alt=\"\" src=\"imag\n"
      }
     ],
     "prompt_number": 15
    },
    {
     "cell_type": "code",
     "collapsed": false,
     "input": "blehDat = BeautifulSoup(blehDat)",
     "language": "python",
     "metadata": {},
     "outputs": [],
     "prompt_number": 17
    },
    {
     "cell_type": "code",
     "collapsed": false,
     "input": "blehDat.find_all([\"a\"])",
     "language": "python",
     "metadata": {},
     "outputs": [
      {
       "output_type": "pyout",
       "prompt_number": 22,
       "text": "[<a class=\"nActive\" href=\"home\">Home</a>,\n <a class=\"nHandcut\" href=\"classes\">Classes</a>,\n <a class=\"nHandcut\" href=\"http://workroom.ac.nz\">The Workroom</a>,\n <a class=\"nHandcut\" href=\"http://tlcstuden\"></a>,\n <a class=\"nHandcut\" href=\"tLCExhibition\">TLC Exhibition</a>,\n <a c=\"\"></a>,\n <a class=\"nHandcut\" href=\"studentHandbook\">Student Handbook</a>,\n <a class=\"nHandcut\" href=\"calendar\">Calendar</a>,\n <a class=\"nActive\" href=\"home\">Home</a>,\n <a class=\"nHandcut\" href=\"classes\">Classes</a>,\n <a class=\"nHandcut\" href=\"http://workroom.ac.nz\">The Workroom</a>,\n <a class=\"nHandcut\" href=\"http://tlcstuden\"></a>,\n <a class=\"nHandcut\" href=\"tLCExhibition\">TLC Exhibition</a>,\n <a c=\"\"></a>,\n <a class=\"nHandcut\" href=\"studentHandbook\">Student Handbook</a>,\n <a class=\"nHandcut\" href=\"calendar\">Calendar</a>]"
      }
     ],
     "prompt_number": 22
    },
    {
     "cell_type": "code",
     "collapsed": false,
     "input": "last_link = blehDat.find(\"a\")",
     "language": "python",
     "metadata": {},
     "outputs": [],
     "prompt_number": 36
    },
    {
     "cell_type": "code",
     "collapsed": false,
     "input": "print last_link",
     "language": "python",
     "metadata": {},
     "outputs": [
      {
       "output_type": "stream",
       "stream": "stdout",
       "text": "<a class=\"nActive\" href=\"home\">Home</a>\n"
      }
     ],
     "prompt_number": 37
    },
    {
     "cell_type": "code",
     "collapsed": false,
     "input": "blehDat.title",
     "language": "python",
     "metadata": {},
     "outputs": [
      {
       "output_type": "pyout",
       "prompt_number": 38,
       "text": "<title>TLC - The Student Site</title>"
      }
     ],
     "prompt_number": 38
    },
    {
     "cell_type": "code",
     "collapsed": false,
     "input": "blehDat.title.name",
     "language": "python",
     "metadata": {},
     "outputs": [
      {
       "output_type": "pyout",
       "prompt_number": 39,
       "text": "'title'"
      }
     ],
     "prompt_number": 39
    },
    {
     "cell_type": "code",
     "collapsed": false,
     "input": "blehDat.title.string",
     "language": "python",
     "metadata": {},
     "outputs": [
      {
       "output_type": "pyout",
       "prompt_number": 40,
       "text": "u'TLC - The Student Site'"
      }
     ],
     "prompt_number": 40
    },
    {
     "cell_type": "code",
     "collapsed": false,
     "input": "",
     "language": "python",
     "metadata": {},
     "outputs": []
    }
   ],
   "metadata": {}
  }
 ]
}