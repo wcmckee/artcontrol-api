{
 "metadata": {
  "name": "",
  "signature": "sha256:3a47598fc34c8bfc671d3dd5b96f20a6db22dd71ad643b2fde00b35767159532"
 },
 "nbformat": 3,
 "nbformat_minor": 0,
 "worksheets": [
  {
   "cells": [
    {
     "cell_type": "code",
     "collapsed": false,
     "input": [
      "ls /bin"
     ],
     "language": "python",
     "metadata": {},
     "outputs": [
      {
       "output_type": "stream",
       "stream": "stdout",
       "text": [
        "\u001b[0m\u001b[01;32mbash\u001b[0m*          \u001b[01;32mdf\u001b[0m*             \u001b[01;36mlessfile\u001b[0m@        \u001b[01;36mopen\u001b[0m@        \u001b[01;32mtar\u001b[0m*\r\n",
        "\u001b[01;32mbunzip2\u001b[0m*       \u001b[01;32mdir\u001b[0m*            \u001b[01;32mlesskey\u001b[0m*         \u001b[01;32mopenvt\u001b[0m*      \u001b[01;32mtempfile\u001b[0m*\r\n",
        "\u001b[01;32mbusybox\u001b[0m*       \u001b[01;32mdmesg\u001b[0m*          \u001b[01;32mlesspipe\u001b[0m*        \u001b[01;36mpidof\u001b[0m@       \u001b[01;32mtouch\u001b[0m*\r\n",
        "\u001b[01;32mbzcat\u001b[0m*         \u001b[01;32mdnsdomainname\u001b[0m*  \u001b[01;32mln\u001b[0m*              \u001b[37;41mping\u001b[0m*        \u001b[01;32mtrue\u001b[0m*\r\n",
        "\u001b[01;36mbzcmp\u001b[0m@         \u001b[01;32mdomainname\u001b[0m*     \u001b[01;32mloadkeys\u001b[0m*        \u001b[37;41mping6\u001b[0m*       \u001b[37;41mumount\u001b[0m*\r\n",
        "\u001b[01;32mbzdiff\u001b[0m*        \u001b[01;32mdumpkeys\u001b[0m*       \u001b[01;32mlogin\u001b[0m*           \u001b[01;32mps\u001b[0m*          \u001b[01;32muname\u001b[0m*\r\n",
        "\u001b[01;36mbzegrep\u001b[0m@       \u001b[01;32mecho\u001b[0m*           \u001b[01;32mls\u001b[0m*              \u001b[01;32mpwd\u001b[0m*         \u001b[01;32muncompress\u001b[0m*\r\n",
        "\u001b[01;32mbzexe\u001b[0m*         \u001b[01;32megrep\u001b[0m*          \u001b[01;32mlsblk\u001b[0m*           \u001b[01;36mrbash\u001b[0m@       \u001b[01;32municode_start\u001b[0m*\r\n",
        "\u001b[01;36mbzfgrep\u001b[0m@       \u001b[01;32mfalse\u001b[0m*          \u001b[01;36mlsmod\u001b[0m@           \u001b[01;32mreadlink\u001b[0m*    \u001b[01;32mvdir\u001b[0m*\r\n",
        "\u001b[01;32mbzgrep\u001b[0m*        \u001b[01;32mfgconsole\u001b[0m*      \u001b[01;32mmkdir\u001b[0m*           \u001b[01;32mrm\u001b[0m*          \u001b[01;32mwhich\u001b[0m*\r\n",
        "\u001b[01;32mbzip2\u001b[0m*         \u001b[01;32mfgrep\u001b[0m*          \u001b[01;32mmknod\u001b[0m*           \u001b[01;32mrmdir\u001b[0m*       \u001b[01;32mypdomainname\u001b[0m*\r\n",
        "\u001b[01;32mbzip2recover\u001b[0m*  \u001b[01;32mfindmnt\u001b[0m*        \u001b[01;32mmktemp\u001b[0m*          \u001b[01;36mrnano\u001b[0m@       \u001b[01;32mzcat\u001b[0m*\r\n",
        "\u001b[01;36mbzless\u001b[0m@        \u001b[01;32mfuser\u001b[0m*          \u001b[01;32mmore\u001b[0m*            \u001b[01;32mrun-parts\u001b[0m*   \u001b[01;32mzcmp\u001b[0m*\r\n",
        "\u001b[01;32mbzmore\u001b[0m*        \u001b[01;32mgrep\u001b[0m*           \u001b[37;41mmount\u001b[0m*           \u001b[01;32msed\u001b[0m*         \u001b[01;32mzdiff\u001b[0m*\r\n",
        "\u001b[01;32mcat\u001b[0m*           \u001b[01;32mgunzip\u001b[0m*         \u001b[01;32mmountpoint\u001b[0m*      \u001b[01;32msetfont\u001b[0m*     \u001b[01;32mzegrep\u001b[0m*\r\n",
        "\u001b[01;32mchgrp\u001b[0m*         \u001b[01;32mgzexe\u001b[0m*          \u001b[01;36mmt\u001b[0m@              \u001b[01;32msetupcon\u001b[0m*    \u001b[01;32mzfgrep\u001b[0m*\r\n",
        "\u001b[01;32mchmod\u001b[0m*         \u001b[01;32mgzip\u001b[0m*           \u001b[01;32mmt-gnu\u001b[0m*          \u001b[01;36msh\u001b[0m@          \u001b[01;32mzforce\u001b[0m*\r\n",
        "\u001b[01;32mchown\u001b[0m*         \u001b[01;32mhostname\u001b[0m*       \u001b[01;32mmv\u001b[0m*              \u001b[01;36msh.distrib\u001b[0m@  \u001b[01;32mzgrep\u001b[0m*\r\n",
        "\u001b[01;32mchvt\u001b[0m*          \u001b[01;32mip\u001b[0m*             \u001b[01;32mnano\u001b[0m*            \u001b[01;32msleep\u001b[0m*       \u001b[01;32mzless\u001b[0m*\r\n",
        "\u001b[01;32mcp\u001b[0m*            \u001b[01;32mkbd_mode\u001b[0m*       \u001b[01;36mnc\u001b[0m@              \u001b[01;32mss\u001b[0m*          \u001b[01;32mzmore\u001b[0m*\r\n",
        "\u001b[01;32mcpio\u001b[0m*          \u001b[01;32mkill\u001b[0m*           \u001b[01;32mnc.traditional\u001b[0m*  \u001b[01;32mstty\u001b[0m*        \u001b[01;32mznew\u001b[0m*\r\n",
        "\u001b[01;32mdash\u001b[0m*          \u001b[01;32mkmod\u001b[0m*           \u001b[01;36mnetcat\u001b[0m@          \u001b[37;41msu\u001b[0m*\r\n",
        "\u001b[01;32mdate\u001b[0m*          \u001b[01;32mless\u001b[0m*           \u001b[01;32mnetstat\u001b[0m*         \u001b[01;32msync\u001b[0m*\r\n",
        "\u001b[01;32mdd\u001b[0m*            \u001b[01;32mlessecho\u001b[0m*       \u001b[01;32mnisdomainname\u001b[0m*   \u001b[01;32mtailf\u001b[0m*\r\n"
       ]
      }
     ],
     "prompt_number": 5
    },
    {
     "cell_type": "code",
     "collapsed": false,
     "input": [],
     "language": "python",
     "metadata": {},
     "outputs": []
    }
   ],
   "metadata": {}
  }
 ]
}