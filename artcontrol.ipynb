{
 "metadata": {
  "name": "artcontrol"
 },
 "nbformat": 3,
 "nbformat_minor": 0,
 "worksheets": [
  {
   "cells": [
    {
     "cell_type": "code",
     "collapsed": false,
     "input": [
      "ArtControl.me Python Development"
     ],
     "language": "python",
     "metadata": {},
     "outputs": [
      {
       "ename": "SyntaxError",
       "evalue": "invalid syntax (<ipython-input-11-c8f16155e9ec>, line 1)",
       "output_type": "pyerr",
       "traceback": [
        "\u001b[0;36m  File \u001b[0;32m\"<ipython-input-11-c8f16155e9ec>\"\u001b[0;36m, line \u001b[0;32m1\u001b[0m\n\u001b[0;31m    ArtControl.me Python Development\u001b[0m\n\u001b[0m                       ^\u001b[0m\n\u001b[0;31mSyntaxError\u001b[0m\u001b[0;31m:\u001b[0m invalid syntax\n"
       ]
      }
     ],
     "prompt_number": 11
    },
    {
     "cell_type": "code",
     "collapsed": false,
     "input": [
      "import requests\n",
      "import json"
     ],
     "language": "python",
     "metadata": {},
     "outputs": [],
     "prompt_number": 12
    },
    {
     "cell_type": "code",
     "collapsed": false,
     "input": [
      "webArt = ('http://artcontrol.me/?wpapi=search&dev=1&keyword=post&count=2&page=1&content=1')"
     ],
     "language": "python",
     "metadata": {},
     "outputs": [],
     "prompt_number": 13
    },
    {
     "cell_type": "code",
     "collapsed": false,
     "input": [
      "dawArt = requests.get(webArt)\n"
     ],
     "language": "python",
     "metadata": {},
     "outputs": [],
     "prompt_number": 14
    },
    {
     "cell_type": "code",
     "collapsed": false,
     "input": [
      "jawArt = json.loads(dawArt.text)\n",
      "print jawArt"
     ],
     "language": "python",
     "metadata": {},
     "outputs": [
      {
       "output_type": "stream",
       "stream": "stdout",
       "text": [
        "{u'status': u'ok', u'count': u'2', u'count_total': 10, u'posts': [{u'status': u'publish', u'category': [], u'name': u'api', u'parent': u'0', u'title': u'API', u'url': u'http://artcontrol.me/?page_id=5256', u'author': [{u'first_name': u'Will', u'last_name': u'mckee', u'name': u'Will', u'nicename': u'wmckee', u'url': u'', u'slug': u'wmckee', u'gravatar': u'http://www.gravatar.com/avatar/5e2931ce807064cea9fc263f5346ad86?s=100&d=mm&r=g', u'id': u'1', u'description': u''}], u'excerpt': u\"artcontrol.me uses the wp-api RESTful API system.\\r\\n\\r\\nHere's an example of the\", u'modified': u'2013-10-16 21:57:06', u'slug': u'API', u'content': u'artcontrol.me uses the wp-api RESTful API system.\\r\\n\\r\\nHere\\'s an example of the documentation:\\r\\n<table class=\"widefat\">\\r\\n<thead>\\r\\n<tr>\\r\\n<th width=\"100\">Method</th>\\r\\n<th width=\"200\">Description</th>\\r\\n<th>arguments</th>\\r\\n</tr>\\r\\n</thead>\\r\\n<tfoot>\\r\\n<tr>\\r\\n<th width=\"100\">Method</th>\\r\\n<th width=\"200\">Description</th>\\r\\n<th>arguments</th>\\r\\n</tr>\\r\\n</tfoot>\\r\\n<tbody>\\r\\n<tr>\\r\\n<td><code><a id=\"i_p\"></a>get_posts</code></td>\\r\\n<td id=\"p\">Call this method to get the recent posts/pages or specify the post/page id to get the specified post information.</td>\\r\\n<td id=\"p2\">argument: <b>dev</b> (optional)\\r\\nvalue: <b>1</b> &gt;&gt; pretty output in browser\\r\\nvalue: <b>0</b> &gt;&gt; default json format to use in your program\\r\\nexample: <a href=\"http://artcontrol.me/?wpapi=get_posts&amp;dev=1\" target=\"_blank\">http://artcontrol.me/?wpapi=get_posts&amp;<b>dev=1</b></a>\\r\\n\\r\\n<hr />\\r\\n\\r\\nargument: <b>id</b> (optional)\\r\\nvalue: <b>post or page id</b> &gt;&gt; show information about the specified post\\r\\nexample: <a href=\"http://artcontrol.me/?wpapi=get_posts&amp;dev=1&amp;id=1\" target=\"_blank\">http://artcontrol.me/?wpapi=get_posts&amp;dev=1&amp;<b>id=1</b></a>\\r\\n\\r\\n<hr />\\r\\n\\r\\nargument: <b>count</b> (optional)\\r\\nvalue: <b>number of items per page</b> &gt;&gt; specify the number of post items to be returned.\\r\\n\\r\\nargument: <b>page</b> (optional)\\r\\nvalue: <b>page number</b> &gt;&gt; if <i>count</i> is set, use the <i>page</i> argument to move forward through the rest of the items.\\r\\n\\r\\nexample: <a href=\"http://artcontrol.me/?wpapi=get_posts&amp;dev=1&amp;count=2&amp;page=1\" target=\"_blank\">http://artcontrol.me/?wpapi=get_posts&amp;dev=1&amp;<b>count=2</b>&amp;<b>page=1</b></a>\\r\\n\\r\\n<hr />\\r\\n\\r\\nargument: <b>comment</b> (optional)\\r\\nvalue: <b>1</b> &gt;&gt; Return comments if available\\r\\nvalue: <b>0</b> &gt;&gt; Don\\'t return comments\\r\\n\\r\\nargument: <b>content</b> (optional)\\r\\nvalue: <b>1</b> &gt;&gt; Return the content\\r\\nvalue: <b>0</b> &gt;&gt; Don\\'t return the content\\r\\n\\r\\nexample: <a href=\"http://artcontrol.me/?wpapi=get_posts&amp;dev=1&amp;comment=1&amp;content=1\" target=\"_blank\">http://artcontrol.me/?wpapi=get_posts&amp;dev=1&amp;<b>comment=1</b>&amp;<b>content=1</b></a></td>\\r\\n</tr>\\r\\n<tr>\\r\\n<td><code><a id=\"i_t\"></a>get_tags</code></td>\\r\\n<td id=\"t\">Call this method to retrieve all tag information</td>\\r\\n<td id=\"t2\">argument: <b>dev</b> (optional) Read more about it in <i>get_posts</i> method\\r\\nargument: <b>count</b> (optional) Read more about it in <i>get_posts</i> method\\r\\nargument: <b>page</b> (optional) Read more about it in <i>get_posts</i> method\\r\\nexample: <a href=\"http://artcontrol.me/?wpapi=get_tags&amp;dev=1\" target=\"_blank\">http://artcontrol.me/?wpapi=get_tags&amp;dev=1</a>\\r\\n\\r\\n<hr />\\r\\n\\r\\nargument: <b>id</b> (optional)\\r\\nvalue: <b>tag id</b> &gt;&gt; return information about the specified tag\\r\\nexample: <a href=\"http://artcontrol.me/?wpapi=get_tags&amp;dev=1&amp;id=1\" target=\"_blank\">http://artcontrol.me/?wpapi=get_tags&amp;dev=1&amp;<b>id=1</b></a>\\r\\n\\r\\n<hr />\\r\\n\\r\\nargument: <b>cat</b> (optional)\\r\\nvalue: <b>1</b> &gt;&gt; returns those tags with taxonomy of category\\r\\nvalue: <b>0</b> &gt;&gt; does not return tags with taxonomy of category\\r\\n\\r\\nargument: <b>tag</b> (optional)\\r\\nvalue: <b>1</b> &gt;&gt; returns normal tags\\r\\nvalue: <b>0</b> &gt;&gt; does not return normal tags\\r\\n\\r\\nexample: <a href=\"http://artcontrol.me/?wpapi=get_tags&amp;dev=1&amp;cat=1&amp;tag=1\" target=\"_blank\">http://artcontrol.me/?wpapi=get_tags&amp;dev=1&amp;<b>cat=1</b>&amp;<b>tag=1</b></a></td>\\r\\n</tr>\\r\\n<tr>\\r\\n<td><code><a id=\"i_a\"></a>get_author</code></td>\\r\\n<td id=\"a\">Call this method to retrieve information about authors registered in the wordpress blog</td>\\r\\n<td id=\"a2\">argument: <b>dev</b> (optional) Read more about it in <i>get_posts</i> method\\r\\nargument: <b>count</b> (optional) Read more about it in <i>get_posts</i> method\\r\\nargument: <b>page</b> (optional) Read more about it in <i>get_posts</i> method\\r\\nexample: <a href=\"http://artcontrol.me/?wpapi=get_author&amp;dev=1\" target=\"_blank\">http://artcontrol.me/?wpapi=get_author&amp;dev=1</a>\\r\\n\\r\\n<hr />\\r\\n\\r\\nargument: <b>id</b> (optional)\\r\\nvalue: <b>author id</b> &gt;&gt; return information about the specified author\\r\\nexample: <a href=\"http://artcontrol.me/?wpapi=get_author&amp;dev=1&amp;id=1\" target=\"_blank\">http://artcontrol.me/?wpapi=get_author&amp;dev=1&amp;<b>id=1</b></a></td>\\r\\n</tr>\\r\\n<tr>\\r\\n<td><code><a id=\"i_g\"></a>gravatar</code></td>\\r\\n<td id=\"g\">Call this method to connect to the gravatar api and retrieve the gravatar based on the email address you specify.</td>\\r\\n<td id=\"g2\">argument: <b>dev</b> (optional) Read more about it in <i>get_posts</i> method\\r\\nexample: <a href=\"http://artcontrol.me/?wpapi=gravatar&amp;dev=1\" target=\"_blank\">http://artcontrol.me/?wpapi=gravatar&amp;dev=1</a>\\r\\n\\r\\n<hr />\\r\\n\\r\\nargument: <b>email</b> (required)\\r\\nvalue: <b>standard email address</b> &gt;&gt; the email address to found its gravatar\\r\\n\\r\\nargument: <b>size</b> (optional)\\r\\nvalue: <b>size of the gravatar in pixel</b> &gt;&gt; size of the returned gravatar image, default value is 100 which means the returned gravatar image will be 100X100 pixel\\r\\n\\r\\nexample: <a href=\"http://artcontrol.me/?wpapi=gravatar&amp;dev=1&amp;email=email@site.com&amp;size=200\" target=\"_blank\">http://artcontrol.me/?wpapi=gravatar&amp;dev=1&amp;<b>email=email@site.com</b>&amp;<b>size=200</b></a></td>\\r\\n</tr>\\r\\n<tr>\\r\\n<td><code><a id=\"i_s\"></a>search</code></td>\\r\\n<td id=\"s\">Call this method and pass <i>keyword</i> argument to return the search results.</td>\\r\\n<td id=\"s2\">argument: <b>dev</b> (optional) Read more about it in <i>get_posts</i> method\\r\\nargument: <b>count</b> (optional) Read more about it in <i>get_posts</i> method\\r\\nargument: <b>page</b> (optional) Read more about it in <i>get_posts</i> method\\r\\nargument: <b>comment</b> (optional) Read more about it in <i>get_posts</i> method\\r\\nargument: <b>content</b> (optional) Read more about it in <i>get_posts</i> method\\r\\nexample: <a href=\"http://artcontrol.me/?wpapi=search&amp;dev=1&amp;keyword=post&amp;count=2&amp;page=1&amp;content=1&amp;comment=1\" target=\"_blank\">http://artcontrol.me/?wpapi=search&amp;dev=1&amp;keyword=post&amp;<b>count=2</b>&amp;<b>page=1</b>&amp;<b>content=1</b>&amp;<b>comment=1</b></a>\\r\\n\\r\\n<hr />\\r\\n\\r\\nargument: <b>keyword</b> (required)\\r\\nvalue: <b>search string</b> &gt;&gt; the keyword to be searched.\\r\\nexample: <a href=\"http://artcontrol.me/?wpapi=search&amp;dev=1&amp;keyword=something\" target=\"_blank\">http://artcontrol.me/?wpapi=search&amp;dev=1&amp;<b>keyword=something</b></a></td>\\r\\n</tr>\\r\\n<tr>\\r\\n<td><code><a id=\"i_c\"></a>comment</code></td>\\r\\n<td id=\"c\">Call this method to submit a comment on a post.</td>\\r\\n<td id=\"c2\">argument: <b>dev</b> (optional) Read more about it in <i>get_posts</i> method\\r\\nexample: <a href=\"http://artcontrol.me/?wpapi=comment&amp;dev=1\" target=\"_blank\">http://artcontrol.me/?wpapi=comment&amp;dev=1</a>\\r\\n\\r\\n<hr />\\r\\n\\r\\nargument: <b>name</b> (required)\\r\\nvalue: <b>author name</b> &gt;&gt; name of the person who\\'s leaving the comment\\r\\n\\r\\nargument: <b>email</b> (required)\\r\\nvalue: <b>author email address</b> &gt;&gt; email address of the person who\\'s leaving the comment\\r\\n\\r\\nargument: <b>content</b> (required)\\r\\nvalue: <b>comment content</b> &gt;&gt; content of the comment\\r\\n\\r\\nargument: <b>post_id</b> (required)\\r\\nvalue: <b>post id</b> &gt;&gt; id of the post which you are submitting your comment to\\r\\n\\r\\nexample: <a href=\"http://artcontrol.me/?wpapi=comment&amp;dev=1&amp;name=Hadi&amp;email=email@site.com&amp;content=some%20content%20to%20comment&amp;post_id=1\" target=\"_blank\">http://artcontrol.me/?wpapi=comment&amp;dev=1&amp;<b>name=Hadi</b>&amp;<b>email=email@site.com</b>&amp;<b>content=some content to comment</b>&amp;<b>post_id=1</b></a>\\r\\n\\r\\n<hr />\\r\\n\\r\\nargument: <b>website</b> (optional)\\r\\nvalue: <b>www.your-site.com</b> &gt;&gt; Optionally you can pass author\\'s website\\r\\n\\r\\nargument: <b>parent</b> (optional)</td>\\r\\n</tr>\\r\\n</tbody>\\r\\n</table>', u'comment_count': u'0', u'tag': [], u'date': u'2013-10-16 21:57:06', u'type': u'page', u'id': u'5256', u'comment_status': u'open'}, {u'status': u'publish', u'category': [{u'term_group': u'0', u'count': u'82', u'name': u'draw', u'parent': u'0', u'term_id': u'7', u'cat_ID': u'7', u'category_description': u'', u'category_parent': u'0', u'object_id': u'5195', u'cat_name': u'draw', u'category_count': u'82', u'term_taxonomy_id': u'7', u'taxonomy': u'category', u'category_nicename': u'draw', u'slug': u'draw', u'description': u''}], u'name': u'ludum-dare-pencil-sketches', u'parent': u'0', u'title': u'Ludum Dare Pencil Sketches', u'url': u'http://artcontrol.me/?p=5195', u'author': [{u'first_name': u'Will', u'last_name': u'mckee', u'name': u'Will', u'nicename': u'wmckee', u'url': u'', u'slug': u'wmckee', u'gravatar': u'http://www.gravatar.com/avatar/5e2931ce807064cea9fc263f5346ad86?s=100&d=mm&r=g', u'id': u'1', u'description': u''}], u'excerpt': u\"Here's thress pencil sketches that I've done recently.\\xa0\\r\\n\\r\\nThis is the view from outside my home. I was racing around on my Fathers hand wheel chair and decided to draw the\", u'modified': u'2013-08-23 07:15:23', u'slug': u'Ludum Dare Pencil Sketches', u'content': u'Here\\'s thress pencil sketches that I\\'ve done recently.\\xa0<a href=\"http://artcontrol.me/wp-content/uploads/2013/08/DSC_0708.jpg\"><img class=\"aligncenter size-large wp-image-5196\" alt=\"DSC_0708\" src=\"http://artcontrol.me/wp-content/uploads/2013/08/DSC_0708-628x1024.jpg\" width=\"625\" height=\"1019\" /></a>\\r\\n\\r\\nThis is the view from outside my home. I was racing around on my Fathers hand wheel chair and decided to draw the view. A fold up chair would be handy as I\\'m always having to draw scenes that involve a seat!\\r\\n<a href=\"http://artcontrol.me/wp-content/uploads/2013/08/DSC_0710.jpg\"><img class=\"aligncenter size-large wp-image-5198\" alt=\"DSC_0710\" src=\"http://artcontrol.me/wp-content/uploads/2013/08/DSC_0710-682x1024.jpg\" width=\"625\" height=\"938\" /></a>\\r\\n\\r\\nI have been using a 2h pencil. It\\'s a wonderful pencil and I could not go back to HB. No smudging, and takes awhile to blunt - shading still works alright with it.\\r\\n\\r\\nThis was drawn well walking down the road - starting sketching ideas for Ludum Dare - but ended up writing down ideas for a podcast I\\'d like to start with my friend Matt. I don\\'t know if it will go ahead because Matt is very unreliable - I might be better to just organize something myself.\\r\\n\\r\\n<a href=\"http://artcontrol.me/wp-content/uploads/2013/08/DSC_0712.jpg\"><img class=\"aligncenter size-large wp-image-5199\" alt=\"DSC_0712\" src=\"http://artcontrol.me/wp-content/uploads/2013/08/DSC_0712-e1377179011767-632x1024.jpg\" width=\"625\" height=\"1012\" /></a>Sitting outside the library. Again - another Ludum Dare logo, this time I sketched the lamppost and large pillar - adding in clouds, figure and tree.\\r\\n\\r\\n&nbsp;', u'comment_count': u'0', u'tag': {u'10': {u'term_group': u'0', u'count': u'34', u'name': u'pencil', u'parent': u'0', u'term_id': u'10', u'object_id': u'5195', u'term_taxonomy_id': u'10', u'taxonomy': u'post_tag', u'slug': u'pencil', u'description': u''}, u'110': {u'term_group': u'0', u'count': u'14', u'name': u'Street', u'parent': u'0', u'term_id': u'110', u'object_id': u'5195', u'term_taxonomy_id': u'114', u'taxonomy': u'post_tag', u'slug': u'street', u'description': u''}, u'84': {u'term_group': u'0', u'count': u'26', u'name': u'levin', u'parent': u'0', u'term_id': u'84', u'object_id': u'5195', u'term_taxonomy_id': u'86', u'taxonomy': u'post_tag', u'slug': u'levin', u'description': u''}}, u'date': u'2013-08-23 07:15:23', u'type': u'post', u'id': u'5195', u'comment_status': u'open'}], u'currPage': 1, u'pages': 5}\n"
       ]
      }
     ],
     "prompt_number": 15
    },
    {
     "cell_type": "code",
     "collapsed": false,
     "input": [
      "lodArt = jawArt['posts']"
     ],
     "language": "python",
     "metadata": {},
     "outputs": [],
     "prompt_number": 16
    },
    {
     "cell_type": "code",
     "collapsed": false,
     "input": [
      "print lodArt[1]"
     ],
     "language": "python",
     "metadata": {},
     "outputs": [
      {
       "output_type": "stream",
       "stream": "stdout",
       "text": [
        "{u'status': u'publish', u'category': [{u'term_group': u'0', u'count': u'82', u'name': u'draw', u'parent': u'0', u'term_id': u'7', u'cat_ID': u'7', u'category_description': u'', u'category_parent': u'0', u'object_id': u'5195', u'cat_name': u'draw', u'category_count': u'82', u'term_taxonomy_id': u'7', u'taxonomy': u'category', u'category_nicename': u'draw', u'slug': u'draw', u'description': u''}], u'name': u'ludum-dare-pencil-sketches', u'parent': u'0', u'title': u'Ludum Dare Pencil Sketches', u'url': u'http://artcontrol.me/?p=5195', u'author': [{u'first_name': u'Will', u'last_name': u'mckee', u'name': u'Will', u'nicename': u'wmckee', u'url': u'', u'slug': u'wmckee', u'gravatar': u'http://www.gravatar.com/avatar/5e2931ce807064cea9fc263f5346ad86?s=100&d=mm&r=g', u'id': u'1', u'description': u''}], u'excerpt': u\"Here's thress pencil sketches that I've done recently.\\xa0\\r\\n\\r\\nThis is the view from outside my home. I was racing around on my Fathers hand wheel chair and decided to draw the\", u'modified': u'2013-08-23 07:15:23', u'slug': u'Ludum Dare Pencil Sketches', u'content': u'Here\\'s thress pencil sketches that I\\'ve done recently.\\xa0<a href=\"http://artcontrol.me/wp-content/uploads/2013/08/DSC_0708.jpg\"><img class=\"aligncenter size-large wp-image-5196\" alt=\"DSC_0708\" src=\"http://artcontrol.me/wp-content/uploads/2013/08/DSC_0708-628x1024.jpg\" width=\"625\" height=\"1019\" /></a>\\r\\n\\r\\nThis is the view from outside my home. I was racing around on my Fathers hand wheel chair and decided to draw the view. A fold up chair would be handy as I\\'m always having to draw scenes that involve a seat!\\r\\n<a href=\"http://artcontrol.me/wp-content/uploads/2013/08/DSC_0710.jpg\"><img class=\"aligncenter size-large wp-image-5198\" alt=\"DSC_0710\" src=\"http://artcontrol.me/wp-content/uploads/2013/08/DSC_0710-682x1024.jpg\" width=\"625\" height=\"938\" /></a>\\r\\n\\r\\nI have been using a 2h pencil. It\\'s a wonderful pencil and I could not go back to HB. No smudging, and takes awhile to blunt - shading still works alright with it.\\r\\n\\r\\nThis was drawn well walking down the road - starting sketching ideas for Ludum Dare - but ended up writing down ideas for a podcast I\\'d like to start with my friend Matt. I don\\'t know if it will go ahead because Matt is very unreliable - I might be better to just organize something myself.\\r\\n\\r\\n<a href=\"http://artcontrol.me/wp-content/uploads/2013/08/DSC_0712.jpg\"><img class=\"aligncenter size-large wp-image-5199\" alt=\"DSC_0712\" src=\"http://artcontrol.me/wp-content/uploads/2013/08/DSC_0712-e1377179011767-632x1024.jpg\" width=\"625\" height=\"1012\" /></a>Sitting outside the library. Again - another Ludum Dare logo, this time I sketched the lamppost and large pillar - adding in clouds, figure and tree.\\r\\n\\r\\n&nbsp;', u'comment_count': u'0', u'tag': {u'10': {u'term_group': u'0', u'count': u'34', u'name': u'pencil', u'parent': u'0', u'term_id': u'10', u'object_id': u'5195', u'term_taxonomy_id': u'10', u'taxonomy': u'post_tag', u'slug': u'pencil', u'description': u''}, u'110': {u'term_group': u'0', u'count': u'14', u'name': u'Street', u'parent': u'0', u'term_id': u'110', u'object_id': u'5195', u'term_taxonomy_id': u'114', u'taxonomy': u'post_tag', u'slug': u'street', u'description': u''}, u'84': {u'term_group': u'0', u'count': u'26', u'name': u'levin', u'parent': u'0', u'term_id': u'84', u'object_id': u'5195', u'term_taxonomy_id': u'86', u'taxonomy': u'post_tag', u'slug': u'levin', u'description': u''}}, u'date': u'2013-08-23 07:15:23', u'type': u'post', u'id': u'5195', u'comment_status': u'open'}\n"
       ]
      }
     ],
     "prompt_number": 17
    },
    {
     "cell_type": "code",
     "collapsed": false,
     "input": [],
     "language": "python",
     "metadata": {},
     "outputs": [],
     "prompt_number": 17
    },
    {
     "cell_type": "code",
     "collapsed": false,
     "input": [],
     "language": "python",
     "metadata": {},
     "outputs": [],
     "prompt_number": 17
    },
    {
     "cell_type": "code",
     "collapsed": false,
     "input": [
      "print lodArt[1]"
     ],
     "language": "python",
     "metadata": {},
     "outputs": [
      {
       "output_type": "stream",
       "stream": "stdout",
       "text": [
        "{u'status': u'publish', u'category': [{u'term_group': u'0', u'count': u'82', u'name': u'draw', u'parent': u'0', u'term_id': u'7', u'cat_ID': u'7', u'category_description': u'', u'category_parent': u'0', u'object_id': u'5195', u'cat_name': u'draw', u'category_count': u'82', u'term_taxonomy_id': u'7', u'taxonomy': u'category', u'category_nicename': u'draw', u'slug': u'draw', u'description': u''}], u'name': u'ludum-dare-pencil-sketches', u'parent': u'0', u'title': u'Ludum Dare Pencil Sketches', u'url': u'http://artcontrol.me/?p=5195', u'author': [{u'first_name': u'Will', u'last_name': u'mckee', u'name': u'Will', u'nicename': u'wmckee', u'url': u'', u'slug': u'wmckee', u'gravatar': u'http://www.gravatar.com/avatar/5e2931ce807064cea9fc263f5346ad86?s=100&d=mm&r=g', u'id': u'1', u'description': u''}], u'excerpt': u\"Here's thress pencil sketches that I've done recently.\\xa0\\r\\n\\r\\nThis is the view from outside my home. I was racing around on my Fathers hand wheel chair and decided to draw the\", u'modified': u'2013-08-23 07:15:23', u'slug': u'Ludum Dare Pencil Sketches', u'content': u'Here\\'s thress pencil sketches that I\\'ve done recently.\\xa0<a href=\"http://artcontrol.me/wp-content/uploads/2013/08/DSC_0708.jpg\"><img class=\"aligncenter size-large wp-image-5196\" alt=\"DSC_0708\" src=\"http://artcontrol.me/wp-content/uploads/2013/08/DSC_0708-628x1024.jpg\" width=\"625\" height=\"1019\" /></a>\\r\\n\\r\\nThis is the view from outside my home. I was racing around on my Fathers hand wheel chair and decided to draw the view. A fold up chair would be handy as I\\'m always having to draw scenes that involve a seat!\\r\\n<a href=\"http://artcontrol.me/wp-content/uploads/2013/08/DSC_0710.jpg\"><img class=\"aligncenter size-large wp-image-5198\" alt=\"DSC_0710\" src=\"http://artcontrol.me/wp-content/uploads/2013/08/DSC_0710-682x1024.jpg\" width=\"625\" height=\"938\" /></a>\\r\\n\\r\\nI have been using a 2h pencil. It\\'s a wonderful pencil and I could not go back to HB. No smudging, and takes awhile to blunt - shading still works alright with it.\\r\\n\\r\\nThis was drawn well walking down the road - starting sketching ideas for Ludum Dare - but ended up writing down ideas for a podcast I\\'d like to start with my friend Matt. I don\\'t know if it will go ahead because Matt is very unreliable - I might be better to just organize something myself.\\r\\n\\r\\n<a href=\"http://artcontrol.me/wp-content/uploads/2013/08/DSC_0712.jpg\"><img class=\"aligncenter size-large wp-image-5199\" alt=\"DSC_0712\" src=\"http://artcontrol.me/wp-content/uploads/2013/08/DSC_0712-e1377179011767-632x1024.jpg\" width=\"625\" height=\"1012\" /></a>Sitting outside the library. Again - another Ludum Dare logo, this time I sketched the lamppost and large pillar - adding in clouds, figure and tree.\\r\\n\\r\\n&nbsp;', u'comment_count': u'0', u'tag': {u'10': {u'term_group': u'0', u'count': u'34', u'name': u'pencil', u'parent': u'0', u'term_id': u'10', u'object_id': u'5195', u'term_taxonomy_id': u'10', u'taxonomy': u'post_tag', u'slug': u'pencil', u'description': u''}, u'110': {u'term_group': u'0', u'count': u'14', u'name': u'Street', u'parent': u'0', u'term_id': u'110', u'object_id': u'5195', u'term_taxonomy_id': u'114', u'taxonomy': u'post_tag', u'slug': u'street', u'description': u''}, u'84': {u'term_group': u'0', u'count': u'26', u'name': u'levin', u'parent': u'0', u'term_id': u'84', u'object_id': u'5195', u'term_taxonomy_id': u'86', u'taxonomy': u'post_tag', u'slug': u'levin', u'description': u''}}, u'date': u'2013-08-23 07:15:23', u'type': u'post', u'id': u'5195', u'comment_status': u'open'}\n"
       ]
      }
     ],
     "prompt_number": 20
    },
    {
     "cell_type": "code",
     "collapsed": false,
     "input": [
      "neoArt = jawArt\n",
      "print neoArt['content']"
     ],
     "language": "python",
     "metadata": {},
     "outputs": [
      {
       "ename": "KeyError",
       "evalue": "'content'",
       "output_type": "pyerr",
       "traceback": [
        "\u001b[0;31m---------------------------------------------------------------------------\u001b[0m\n\u001b[0;31mKeyError\u001b[0m                                  Traceback (most recent call last)",
        "\u001b[0;32m<ipython-input-21-1014faf18a08>\u001b[0m in \u001b[0;36m<module>\u001b[0;34m()\u001b[0m\n\u001b[1;32m      1\u001b[0m \u001b[0mneoArt\u001b[0m \u001b[0;34m=\u001b[0m \u001b[0mjawArt\u001b[0m\u001b[0;34m\u001b[0m\u001b[0m\n\u001b[0;32m----> 2\u001b[0;31m \u001b[0;32mprint\u001b[0m \u001b[0mneoArt\u001b[0m\u001b[0;34m[\u001b[0m\u001b[0;34m'content'\u001b[0m\u001b[0;34m]\u001b[0m\u001b[0;34m\u001b[0m\u001b[0m\n\u001b[0m",
        "\u001b[0;31mKeyError\u001b[0m: 'content'"
       ]
      }
     ],
     "prompt_number": 21
    },
    {
     "cell_type": "code",
     "collapsed": false,
     "input": [
      "from bs4 import BeautifulSoup"
     ],
     "language": "python",
     "metadata": {},
     "outputs": [],
     "prompt_number": 24
    },
    {
     "cell_type": "code",
     "collapsed": false,
     "input": [
      "postData = BeautifulSoup(blahArt)\n",
      "#print postData\n",
      "\n",
      "linkData = postData.find_all('a')\n",
      "print linkData[0]"
     ],
     "language": "python",
     "metadata": {},
     "outputs": [
      {
       "output_type": "stream",
       "stream": "stdout",
       "text": [
        "<a href=\"http://artcontrol.me/wp-content/uploads/2013/08/DSC_0708.jpg\"><img alt=\"DSC_0708\" class=\"aligncenter size-large wp-image-5196\" height=\"1019\" src=\"http://artcontrol.me/wp-content/uploads/2013/08/DSC_0708-628x1024.jpg\" width=\"625\"/></a>\n"
       ]
      }
     ],
     "prompt_number": 28
    },
    {
     "cell_type": "code",
     "collapsed": false,
     "input": [
      "for link in postData.find_all('a'):\n",
      "    print(link.get('href'))"
     ],
     "language": "python",
     "metadata": {},
     "outputs": [
      {
       "output_type": "stream",
       "stream": "stdout",
       "text": [
        "http://artcontrol.me/wp-content/uploads/2013/08/DSC_0708.jpg\n",
        "http://artcontrol.me/wp-content/uploads/2013/08/DSC_0710.jpg\n",
        "http://artcontrol.me/wp-content/uploads/2013/08/DSC_0712.jpg\n"
       ]
      }
     ],
     "prompt_number": 33
    },
    {
     "cell_type": "code",
     "collapsed": false,
     "input": [
      "print(postData.get_text())"
     ],
     "language": "python",
     "metadata": {},
     "outputs": [
      {
       "output_type": "stream",
       "stream": "stdout",
       "text": [
        "Here's thress pencil sketches that I've done recently.\u00a0\r\n",
        "\r\n",
        "This is the view from outside my home. I was racing around on my Fathers hand wheel chair and decided to draw the view. A fold up chair would be handy as I'm always having to draw scenes that involve a seat!\r\n",
        "\r\n",
        "\r\n",
        "I have been using a 2h pencil. It's a wonderful pencil and I could not go back to HB. No smudging, and takes awhile to blunt - shading still works alright with it.\r\n",
        "\r\n",
        "This was drawn well walking down the road - starting sketching ideas for Ludum Dare - but ended up writing down ideas for a podcast I'd like to start with my friend Matt. I don't know if it will go ahead because Matt is very unreliable - I might be better to just organize something myself.\r\n",
        "\r\n",
        "Sitting outside the library. Again - another Ludum Dare logo, this time I sketched the lamppost and large pillar - adding in clouds, figure and tree.\r\n",
        "\r\n",
        "\u00a0\n"
       ]
      }
     ],
     "prompt_number": 34
    },
    {
     "cell_type": "code",
     "collapsed": false,
     "input": [
      "vegArt = neoArt['posts']\n",
      "#print vegArt[0]\n",
      "\n",
      "getArt = vegArt[1]\n",
      "blahArt = getArt['content']\n",
      "print blahArt"
     ],
     "language": "python",
     "metadata": {},
     "outputs": [
      {
       "output_type": "stream",
       "stream": "stdout",
       "text": [
        "Here's thress pencil sketches that I've done recently.\u00a0<a href=\"http://artcontrol.me/wp-content/uploads/2013/08/DSC_0708.jpg\"><img class=\"aligncenter size-large wp-image-5196\" alt=\"DSC_0708\" src=\"http://artcontrol.me/wp-content/uploads/2013/08/DSC_0708-628x1024.jpg\" width=\"625\" height=\"1019\" /></a>\r\n",
        "\r\n",
        "This is the view from outside my home. I was racing around on my Fathers hand wheel chair and decided to draw the view. A fold up chair would be handy as I'm always having to draw scenes that involve a seat!\r\n",
        "<a href=\"http://artcontrol.me/wp-content/uploads/2013/08/DSC_0710.jpg\"><img class=\"aligncenter size-large wp-image-5198\" alt=\"DSC_0710\" src=\"http://artcontrol.me/wp-content/uploads/2013/08/DSC_0710-682x1024.jpg\" width=\"625\" height=\"938\" /></a>\r\n",
        "\r\n",
        "I have been using a 2h pencil. It's a wonderful pencil and I could not go back to HB. No smudging, and takes awhile to blunt - shading still works alright with it.\r\n",
        "\r\n",
        "This was drawn well walking down the road - starting sketching ideas for Ludum Dare - but ended up writing down ideas for a podcast I'd like to start with my friend Matt. I don't know if it will go ahead because Matt is very unreliable - I might be better to just organize something myself.\r\n",
        "\r\n",
        "<a href=\"http://artcontrol.me/wp-content/uploads/2013/08/DSC_0712.jpg\"><img class=\"aligncenter size-large wp-image-5199\" alt=\"DSC_0712\" src=\"http://artcontrol.me/wp-content/uploads/2013/08/DSC_0712-e1377179011767-632x1024.jpg\" width=\"625\" height=\"1012\" /></a>Sitting outside the library. Again - another Ludum Dare logo, this time I sketched the lamppost and large pillar - adding in clouds, figure and tree.\r\n",
        "\r\n",
        "&nbsp;\n"
       ]
      }
     ],
     "prompt_number": 23
    },
    {
     "cell_type": "code",
     "collapsed": false,
     "input": [
      "getArt = requests.get('http://artcontrol.me/?wpapi=get_posts&dev=0')\n",
      "jsnArt = json.loads(getArt.text)\n",
      "print jsnArt"
     ],
     "language": "python",
     "metadata": {},
     "outputs": []
    },
    {
     "cell_type": "code",
     "collapsed": false,
     "input": [
      "jsnArt"
     ],
     "language": "python",
     "metadata": {},
     "outputs": []
    },
    {
     "cell_type": "code",
     "collapsed": false,
     "input": [
      "print titArtpoArt = jsnArt['posts']\n",
      "titArt =  poArt[0]\n",
      "print titArt"
     ],
     "language": "python",
     "metadata": {},
     "outputs": []
    },
    {
     "cell_type": "code",
     "collapsed": false,
     "input": [
      "yaeArt = len(titArt)\n",
      "print yaeArt"
     ],
     "language": "python",
     "metadata": {},
     "outputs": []
    },
    {
     "cell_type": "markdown",
     "metadata": {},
     "source": [
      "How can I get these 16 results in a list?"
     ]
    },
    {
     "cell_type": "markdown",
     "metadata": {},
     "source": [
      "After some thought I just made a list manually. This needs to be fixed to auto collect\n",
      "these items"
     ]
    },
    {
     "cell_type": "code",
     "collapsed": false,
     "input": [
      "lipArt = ('name','parent','title','url','author','excerpt','slug','comment_count','tag',\n",
      "          'date','type','page','id','comment_status')"
     ],
     "language": "python",
     "metadata": {},
     "outputs": [],
     "prompt_number": 161
    },
    {
     "cell_type": "code",
     "collapsed": false,
     "input": [
      "print lipArt"
     ],
     "language": "python",
     "metadata": {},
     "outputs": [
      {
       "output_type": "stream",
       "stream": "stdout",
       "text": [
        "('name', 'parent', 'title', 'url', 'author', 'excerpt', 'slug', 'comment_count', 'tag', 'date', 'type', 'page', 'id', 'comment_status')\n"
       ]
      }
     ],
     "prompt_number": 175
    },
    {
     "cell_type": "code",
     "collapsed": false,
     "input": [
      "contArt = len(lipArt)"
     ],
     "language": "python",
     "metadata": {},
     "outputs": [],
     "prompt_number": 176
    },
    {
     "cell_type": "code",
     "collapsed": false,
     "input": [
      "print contArt"
     ],
     "language": "python",
     "metadata": {},
     "outputs": [
      {
       "output_type": "stream",
       "stream": "stdout",
       "text": [
        "14\n"
       ]
      }
     ],
     "prompt_number": 207
    },
    {
     "cell_type": "code",
     "collapsed": false,
     "input": [
      "randArt = random.randint(0,14)"
     ],
     "language": "python",
     "metadata": {},
     "outputs": [],
     "prompt_number": 208
    },
    {
     "cell_type": "code",
     "collapsed": false,
     "input": [
      "jerArt = lipArt[randArt]\n",
      "print jerArt"
     ],
     "language": "python",
     "metadata": {},
     "outputs": [
      {
       "output_type": "stream",
       "stream": "stdout",
       "text": [
        "date\n"
       ]
      }
     ],
     "prompt_number": 209
    },
    {
     "cell_type": "code",
     "collapsed": false,
     "input": [
      "repArt = titArt[jerArt]\n",
      "print repArt"
     ],
     "language": "python",
     "metadata": {},
     "outputs": [
      {
       "output_type": "stream",
       "stream": "stdout",
       "text": [
        "2013-10-16 21:57:06\n"
       ]
      }
     ],
     "prompt_number": 210
    },
    {
     "cell_type": "code",
     "collapsed": false,
     "input": [
      "titleArt = titArt['title']\n",
      "print titleArt"
     ],
     "language": "python",
     "metadata": {},
     "outputs": [
      {
       "output_type": "stream",
       "stream": "stdout",
       "text": [
        "API\n"
       ]
      }
     ],
     "prompt_number": 232
    },
    {
     "cell_type": "code",
     "collapsed": false,
     "input": [
      "extrArt = titArt['excerpt']\n",
      "print extrArt"
     ],
     "language": "python",
     "metadata": {},
     "outputs": [
      {
       "output_type": "stream",
       "stream": "stdout",
       "text": [
        "artcontrol.me uses the wp-api RESTful API system.\r\n",
        "\r\n",
        "Here's an example of the\n"
       ]
      }
     ],
     "prompt_number": 233
    },
    {
     "cell_type": "code",
     "collapsed": false,
     "input": [
      "dateArt = titArt['date']\n",
      "print dateArt"
     ],
     "language": "python",
     "metadata": {},
     "outputs": [
      {
       "output_type": "stream",
       "stream": "stdout",
       "text": [
        "2013-10-16 21:57:06\n"
       ]
      }
     ],
     "prompt_number": 236
    },
    {
     "cell_type": "code",
     "collapsed": false,
     "input": [],
     "language": "python",
     "metadata": {},
     "outputs": [
      {
       "ename": "ImportError",
       "evalue": "No module named cocos2d",
       "output_type": "pyerr",
       "traceback": [
        "\u001b[0;31m---------------------------------------------------------------------------\u001b[0m\n\u001b[0;31mImportError\u001b[0m                               Traceback (most recent call last)",
        "\u001b[0;32m<ipython-input-237-56e77fe0710e>\u001b[0m in \u001b[0;36m<module>\u001b[0;34m()\u001b[0m\n\u001b[0;32m----> 1\u001b[0;31m \u001b[0;32mimport\u001b[0m \u001b[0mcocos2d\u001b[0m\u001b[0;34m\u001b[0m\u001b[0m\n\u001b[0m",
        "\u001b[0;31mImportError\u001b[0m: No module named cocos2d"
       ]
      }
     ],
     "prompt_number": 237
    },
    {
     "cell_type": "code",
     "collapsed": false,
     "input": [],
     "language": "python",
     "metadata": {},
     "outputs": []
    }
   ],
   "metadata": {}
  }
 ]
}