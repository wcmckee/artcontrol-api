{
 "metadata": {
  "name": "redTube"
 },
 "nbformat": 3,
 "nbformat_minor": 0,
 "worksheets": [
  {
   "cells": [
    {
     "cell_type": "heading",
     "level": 1,
     "metadata": {},
     "source": [
      "RedTube json Python"
     ]
    },
    {
     "cell_type": "markdown",
     "metadata": {},
     "source": [
      "'''\n",
      "copyright 2013 WCMCKEE\n",
      "will@artcontrol.me\n",
      "'''"
     ]
    },
    {
     "cell_type": "code",
     "collapsed": false,
     "input": [
      "import requests\n",
      "import json\n",
      "import random"
     ],
     "language": "python",
     "metadata": {},
     "outputs": [],
     "prompt_number": 41
    },
    {
     "cell_type": "code",
     "collapsed": false,
     "input": [
      "redhtp = ('http://api.redtube.com/?data=redtube.')\n",
      "redtagz = ('tags.getTagList')\n",
      "redcat = ('Categories.getCategoriesList')\n",
      "redstar = ('Stars.getStarList') \n",
      "redvid = ('Videos.searchVideos&page=1')\n",
      "redj = ('&output=json')"
     ],
     "language": "python",
     "metadata": {},
     "outputs": [],
     "prompt_number": 42
    },
    {
     "cell_type": "markdown",
     "metadata": {},
     "source": [
      "need to choose a random between tagz cat and star"
     ]
    },
    {
     "cell_type": "code",
     "collapsed": false,
     "input": [
      "endlist = [redtagz, redcat, redstar]"
     ],
     "language": "python",
     "metadata": {},
     "outputs": [],
     "prompt_number": 43
    },
    {
     "cell_type": "code",
     "collapsed": false,
     "input": [
      "ranclist = random.choice(endlist)"
     ],
     "language": "python",
     "metadata": {},
     "outputs": [],
     "prompt_number": 44
    },
    {
     "cell_type": "code",
     "collapsed": false,
     "input": [
      "print endlist"
     ],
     "language": "python",
     "metadata": {},
     "outputs": [
      {
       "output_type": "stream",
       "stream": "stdout",
       "text": [
        "['tags.getTagList', 'Categories.getCategoriesList', 'Stars.getStarList']\n"
       ]
      }
     ],
     "prompt_number": 45
    },
    {
     "cell_type": "code",
     "collapsed": false,
     "input": [
      "fullurlz = redhtp + ranclist + redj"
     ],
     "language": "python",
     "metadata": {},
     "outputs": [],
     "prompt_number": 46
    },
    {
     "cell_type": "code",
     "collapsed": false,
     "input": [
      "fulur = redhtp + redvid + redj"
     ],
     "language": "python",
     "metadata": {},
     "outputs": [],
     "prompt_number": 47
    },
    {
     "cell_type": "code",
     "collapsed": false,
     "input": [
      "print fullurlz"
     ],
     "language": "python",
     "metadata": {},
     "outputs": [
      {
       "output_type": "stream",
       "stream": "stdout",
       "text": [
        "http://api.redtube.com/?data=redtube.Categories.getCategoriesList&output=json\n"
       ]
      }
     ],
     "prompt_number": 48
    },
    {
     "cell_type": "code",
     "collapsed": false,
     "input": [
      "fuz = str(fullurlz)"
     ],
     "language": "python",
     "metadata": {},
     "outputs": [],
     "prompt_number": 49
    },
    {
     "cell_type": "code",
     "collapsed": false,
     "input": [
      "print fulur"
     ],
     "language": "python",
     "metadata": {},
     "outputs": [
      {
       "output_type": "stream",
       "stream": "stdout",
       "text": [
        "http://api.redtube.com/?data=redtube.Videos.searchVideos&page=1&output=json\n"
       ]
      }
     ],
     "prompt_number": 50
    },
    {
     "cell_type": "markdown",
     "metadata": {},
     "source": [
      "Requests and json are the two main modules used for this. Random can also be handy"
     ]
    },
    {
     "cell_type": "code",
     "collapsed": false,
     "input": [
      "getfullurl = requests.get(fullurlz)\n",
      "loazfullurl = json.loads(fullurlz)"
     ],
     "language": "python",
     "metadata": {},
     "outputs": [
      {
       "ename": "ValueError",
       "evalue": "No JSON object could be decoded",
       "output_type": "pyerr",
       "traceback": [
        "\u001b[0;31m---------------------------------------------------------------------------\u001b[0m\n\u001b[0;31mValueError\u001b[0m                                Traceback (most recent call last)",
        "\u001b[0;32m<ipython-input-51-d2eb598c22c7>\u001b[0m in \u001b[0;36m<module>\u001b[0;34m()\u001b[0m\n\u001b[1;32m      1\u001b[0m \u001b[0mgetfullurl\u001b[0m \u001b[0;34m=\u001b[0m \u001b[0mrequests\u001b[0m\u001b[0;34m.\u001b[0m\u001b[0mget\u001b[0m\u001b[0;34m(\u001b[0m\u001b[0mfullurlz\u001b[0m\u001b[0;34m)\u001b[0m\u001b[0;34m\u001b[0m\u001b[0m\n\u001b[0;32m----> 2\u001b[0;31m \u001b[0mloazfullurl\u001b[0m \u001b[0;34m=\u001b[0m \u001b[0mjson\u001b[0m\u001b[0;34m.\u001b[0m\u001b[0mloads\u001b[0m\u001b[0;34m(\u001b[0m\u001b[0mfullurlz\u001b[0m\u001b[0;34m)\u001b[0m\u001b[0;34m\u001b[0m\u001b[0m\n\u001b[0m",
        "\u001b[0;32m/usr/lib/python2.7/json/__init__.pyc\u001b[0m in \u001b[0;36mloads\u001b[0;34m(s, encoding, cls, object_hook, parse_float, parse_int, parse_constant, object_pairs_hook, **kw)\u001b[0m\n\u001b[1;32m    324\u001b[0m             \u001b[0mparse_int\u001b[0m \u001b[0;32mis\u001b[0m \u001b[0mNone\u001b[0m \u001b[0;32mand\u001b[0m \u001b[0mparse_float\u001b[0m \u001b[0;32mis\u001b[0m \u001b[0mNone\u001b[0m \u001b[0;32mand\u001b[0m\u001b[0;34m\u001b[0m\u001b[0m\n\u001b[1;32m    325\u001b[0m             parse_constant is None and object_pairs_hook is None and not kw):\n\u001b[0;32m--> 326\u001b[0;31m         \u001b[0;32mreturn\u001b[0m \u001b[0m_default_decoder\u001b[0m\u001b[0;34m.\u001b[0m\u001b[0mdecode\u001b[0m\u001b[0;34m(\u001b[0m\u001b[0ms\u001b[0m\u001b[0;34m)\u001b[0m\u001b[0;34m\u001b[0m\u001b[0m\n\u001b[0m\u001b[1;32m    327\u001b[0m     \u001b[0;32mif\u001b[0m \u001b[0mcls\u001b[0m \u001b[0;32mis\u001b[0m \u001b[0mNone\u001b[0m\u001b[0;34m:\u001b[0m\u001b[0;34m\u001b[0m\u001b[0m\n\u001b[1;32m    328\u001b[0m         \u001b[0mcls\u001b[0m \u001b[0;34m=\u001b[0m \u001b[0mJSONDecoder\u001b[0m\u001b[0;34m\u001b[0m\u001b[0m\n",
        "\u001b[0;32m/usr/lib/python2.7/json/decoder.pyc\u001b[0m in \u001b[0;36mdecode\u001b[0;34m(self, s, _w)\u001b[0m\n\u001b[1;32m    363\u001b[0m \u001b[0;34m\u001b[0m\u001b[0m\n\u001b[1;32m    364\u001b[0m         \"\"\"\n\u001b[0;32m--> 365\u001b[0;31m         \u001b[0mobj\u001b[0m\u001b[0;34m,\u001b[0m \u001b[0mend\u001b[0m \u001b[0;34m=\u001b[0m \u001b[0mself\u001b[0m\u001b[0;34m.\u001b[0m\u001b[0mraw_decode\u001b[0m\u001b[0;34m(\u001b[0m\u001b[0ms\u001b[0m\u001b[0;34m,\u001b[0m \u001b[0midx\u001b[0m\u001b[0;34m=\u001b[0m\u001b[0m_w\u001b[0m\u001b[0;34m(\u001b[0m\u001b[0ms\u001b[0m\u001b[0;34m,\u001b[0m \u001b[0;36m0\u001b[0m\u001b[0;34m)\u001b[0m\u001b[0;34m.\u001b[0m\u001b[0mend\u001b[0m\u001b[0;34m(\u001b[0m\u001b[0;34m)\u001b[0m\u001b[0;34m)\u001b[0m\u001b[0;34m\u001b[0m\u001b[0m\n\u001b[0m\u001b[1;32m    366\u001b[0m         \u001b[0mend\u001b[0m \u001b[0;34m=\u001b[0m \u001b[0m_w\u001b[0m\u001b[0;34m(\u001b[0m\u001b[0ms\u001b[0m\u001b[0;34m,\u001b[0m \u001b[0mend\u001b[0m\u001b[0;34m)\u001b[0m\u001b[0;34m.\u001b[0m\u001b[0mend\u001b[0m\u001b[0;34m(\u001b[0m\u001b[0;34m)\u001b[0m\u001b[0;34m\u001b[0m\u001b[0m\n\u001b[1;32m    367\u001b[0m         \u001b[0;32mif\u001b[0m \u001b[0mend\u001b[0m \u001b[0;34m!=\u001b[0m \u001b[0mlen\u001b[0m\u001b[0;34m(\u001b[0m\u001b[0ms\u001b[0m\u001b[0;34m)\u001b[0m\u001b[0;34m:\u001b[0m\u001b[0;34m\u001b[0m\u001b[0m\n",
        "\u001b[0;32m/usr/lib/python2.7/json/decoder.pyc\u001b[0m in \u001b[0;36mraw_decode\u001b[0;34m(self, s, idx)\u001b[0m\n\u001b[1;32m    381\u001b[0m             \u001b[0mobj\u001b[0m\u001b[0;34m,\u001b[0m \u001b[0mend\u001b[0m \u001b[0;34m=\u001b[0m \u001b[0mself\u001b[0m\u001b[0;34m.\u001b[0m\u001b[0mscan_once\u001b[0m\u001b[0;34m(\u001b[0m\u001b[0ms\u001b[0m\u001b[0;34m,\u001b[0m \u001b[0midx\u001b[0m\u001b[0;34m)\u001b[0m\u001b[0;34m\u001b[0m\u001b[0m\n\u001b[1;32m    382\u001b[0m         \u001b[0;32mexcept\u001b[0m \u001b[0mStopIteration\u001b[0m\u001b[0;34m:\u001b[0m\u001b[0;34m\u001b[0m\u001b[0m\n\u001b[0;32m--> 383\u001b[0;31m             \u001b[0;32mraise\u001b[0m \u001b[0mValueError\u001b[0m\u001b[0;34m(\u001b[0m\u001b[0;34m\"No JSON object could be decoded\"\u001b[0m\u001b[0;34m)\u001b[0m\u001b[0;34m\u001b[0m\u001b[0m\n\u001b[0m\u001b[1;32m    384\u001b[0m         \u001b[0;32mreturn\u001b[0m \u001b[0mobj\u001b[0m\u001b[0;34m,\u001b[0m \u001b[0mend\u001b[0m\u001b[0;34m\u001b[0m\u001b[0m\n",
        "\u001b[0;31mValueError\u001b[0m: No JSON object could be decoded"
       ]
      }
     ],
     "prompt_number": 51
    },
    {
     "cell_type": "code",
     "collapsed": false,
     "input": [
      "getPrn = requests.get(fulur)"
     ],
     "language": "python",
     "metadata": {},
     "outputs": [],
     "prompt_number": 53
    },
    {
     "cell_type": "markdown",
     "metadata": {},
     "source": [
      "Simple requests command to get the json object. This could be any json object - not just RedTube"
     ]
    },
    {
     "cell_type": "code",
     "collapsed": false,
     "input": [
      "loaPrn = json.loads(getPrn.text)\n",
      "print loaPrn"
     ],
     "language": "python",
     "metadata": {},
     "outputs": [
      {
       "output_type": "stream",
       "stream": "stdout",
       "text": [
        "{u'count': 272668, u'videos': [{u'video': {u'rating': u'4.12', u'thumb': u'http://img02.redtubefiles.com/_thumbs/0000042/0042807/0042807_007m.jpg', u'ratings': u'17', u'url': u'http://www.redtube.com/42807', u'views': 12133, u'video_id': u'42807', u'publish_date': u'2014-03-08 09:08:01', u'duration': u'5:07', u'title': u'Hands and tits are enough', u'tags': [{u'tag_name': u'Caucasian'}, {u'tag_name': u'Couple'}, {u'tag_name': u'Cum Shot'}, {u'tag_name': u'Handjob'}, {u'tag_name': u'Masturbation'}, {u'tag_name': u'POV'}, {u'tag_name': u'Titfuck'}], u'default_thumb': u'http://img02.redtubefiles.com/_thumbs/0000042/0042807/0042807_007m.jpg'}}, {u'video': {u'rating': u'4.14', u'thumb': u'http://img04.redtubefiles.com/_thumbs/0000282/0282501/0282501_009m.jpg', u'ratings': u'99', u'url': u'http://www.redtube.com/282501', u'views': 102145, u'video_id': u'282501', u'publish_date': u'2014-03-08 08:28:01', u'duration': u'2:01:29', u'title': u'First girlfriend', u'tags': [{u'tag_name': u'Blowjob'}, {u'tag_name': u'Caucasian'}, {u'tag_name': u'Compilation'}, {u'tag_name': u'Couple'}, {u'tag_name': u'Cum Shot'}, {u'tag_name': u'Masturbation'}, {u'tag_name': u'Oral Sex'}, {u'tag_name': u'Teen'}, {u'tag_name': u'Toys'}, {u'tag_name': u'Vaginal Masturbation'}, {u'tag_name': u'Vaginal Sex'}], u'default_thumb': u'http://img04.redtubefiles.com/_thumbs/0000282/0282501/0282501_009m.jpg'}}, {u'video': {u'rating': u'4.14', u'thumb': u'http://img03.redtubefiles.com/_thumbs/0000282/0282845/0282845_009m.jpg', u'ratings': u'160', u'url': u'http://www.redtube.com/282845', u'views': 70610, u'video_id': u'282845', u'publish_date': u'2014-03-08 07:36:02', u'duration': u'9:15', u'title': u'Ava Wood', u'tags': [{u'tag_name': u'Anal Sex'}, {u'tag_name': u'Big Tits'}, {u'tag_name': u'Blowjob'}, {u'tag_name': u'Couple'}, {u'tag_name': u'Cum Shot'}, {u'tag_name': u'Deepthroat'}, {u'tag_name': u'Oral Sex'}, {u'tag_name': u'Outdoor'}, {u'tag_name': u'Redhead'}, {u'tag_name': u'Uniform'}], u'default_thumb': u'http://img03.redtubefiles.com/_thumbs/0000282/0282845/0282845_009m.jpg'}}, {u'video': {u'rating': u'3.75', u'thumb': u'http://img02.redtubefiles.com/_thumbs/0000468/0468222/0468222_016m.jpg', u'ratings': u'208', u'url': u'http://www.redtube.com/468222', u'views': 139661, u'video_id': u'468222', u'publish_date': u'2014-03-08 07:00:02', u'duration': u'11:21', u'title': u'MILF seduces the handyman ', u'tags': [{u'tag_name': u'Blowjob'}, {u'tag_name': u'Caucasian'}, {u'tag_name': u'Couple'}, {u'tag_name': u'Cum Shot'}, {u'tag_name': u'Licking Vagina'}, {u'tag_name': u'MILF'}, {u'tag_name': u'Oral Sex'}, {u'tag_name': u'Small Tits'}, {u'tag_name': u'Stockings'}, {u'tag_name': u'Vaginal Sex'}], u'default_thumb': u'http://img02.redtubefiles.com/_thumbs/0000468/0468222/0468222_016m.jpg'}}, {u'video': {u'rating': u'3.86', u'thumb': u'http://img02.redtubefiles.com/_thumbs/0000435/0435375/0435375_001m.jpg', u'ratings': u'165', u'url': u'http://www.redtube.com/435375', u'views': 153178, u'video_id': u'435375', u'publish_date': u'2014-03-08 06:24:02', u'duration': u'30:33', u'title': u'Putalocura en la cama con torbe Sonia Madrid', u'tags': [{u'tag_name': u'Big Ass'}, {u'tag_name': u'Big Tits'}, {u'tag_name': u'Blowjob'}, {u'tag_name': u'Brunette'}, {u'tag_name': u'Caucasian'}, {u'tag_name': u'Couple'}, {u'tag_name': u'Cum Shot'}, {u'tag_name': u'Oral Sex'}, {u'tag_name': u'Swallow'}, {u'tag_name': u'Vaginal Sex'}], u'default_thumb': u'http://img02.redtubefiles.com/_thumbs/0000435/0435375/0435375_001m.jpg'}}, {u'video': {u'rating': u'3.71', u'thumb': u'http://img03.redtubefiles.com/_thumbs/0000122/0122588/0122588_006m.jpg', u'ratings': u'150', u'url': u'http://www.redtube.com/122588', u'views': 94909, u'video_id': u'122588', u'publish_date': u'2014-03-08 05:30:01', u'stars': [{u'star_name': u'Trina Michaels'}], u'duration': u'32:21', u'title': u'Pornstar needs two cocks', u'tags': [{u'tag_name': u'Anal Sex'}, {u'tag_name': u'Big Tits'}, {u'tag_name': u'Blonde'}, {u'tag_name': u'Blowjob'}, {u'tag_name': u'Caucasian'}, {u'tag_name': u'Cum Shot'}, {u'tag_name': u'Deepthroat'}, {u'tag_name': u'Double Penetration'}, {u'tag_name': u'Facial'}, {u'tag_name': u'Gagging'}, {u'tag_name': u'Masturbation'}, {u'tag_name': u'Oral Sex'}, {u'tag_name': u'Pornstar'}, {u'tag_name': u'Threesome'}, {u'tag_name': u'Toys'}, {u'tag_name': u'Vaginal Masturbation'}, {u'tag_name': u'Vaginal Sex'}], u'default_thumb': u'http://img03.redtubefiles.com/_thumbs/0000122/0122588/0122588_006m.jpg'}}, {u'video': {u'rating': u'4.20', u'thumb': u'http://img04.redtubefiles.com/_thumbs/0000149/0149625/0149625_013m.jpg', u'ratings': u'229', u'url': u'http://www.redtube.com/149625', u'views': 159838, u'video_id': u'149625', u'publish_date': u'2014-03-08 04:58:01', u'stars': [{u'star_name': u'Kortney Kane'}], u'duration': u'31:26', u'title': u'Kourtney Kane in undercover ho', u'tags': [{u'tag_name': u'Big Tits'}, {u'tag_name': u'Blowjob'}, {u'tag_name': u'Brunette'}, {u'tag_name': u'Couple'}, {u'tag_name': u'Cum Shot'}, {u'tag_name': u'Licking Vagina'}, {u'tag_name': u'Masturbation'}, {u'tag_name': u'Oral Sex'}, {u'tag_name': u'Pornstar'}, {u'tag_name': u'Stockings'}, {u'tag_name': u'Titfuck'}, {u'tag_name': u'Vaginal Masturbation'}, {u'tag_name': u'Vaginal Sex'}], u'default_thumb': u'http://img04.redtubefiles.com/_thumbs/0000149/0149625/0149625_013m.jpg'}}, {u'video': {u'rating': u'3.56', u'thumb': u'http://img01.redtubefiles.com/_thumbs/0000089/0089271/0089271_008m.jpg', u'ratings': u'97', u'url': u'http://www.redtube.com/89271', u'views': 60311, u'video_id': u'89271', u'publish_date': u'2014-03-08 04:16:01', u'duration': u'20:50', u'title': u'Tug away', u'tags': [{u'tag_name': u'Brunette'}, {u'tag_name': u'Caucasian'}, {u'tag_name': u'Couple'}, {u'tag_name': u'Cum Shot'}, {u'tag_name': u'Handjob'}, {u'tag_name': u'Masturbation'}, {u'tag_name': u'POV'}, {u'tag_name': u'Vaginal Masturbation'}, {u'tag_name': u'Vaginal Sex'}], u'default_thumb': u'http://img01.redtubefiles.com/_thumbs/0000089/0089271/0089271_008m.jpg'}}, {u'video': {u'rating': u'4.17', u'thumb': u'http://img04.redtubefiles.com/_thumbs/0000580/0580775/0580775_010m.jpg', u'ratings': u'768', u'url': u'http://www.redtube.com/580775', u'views': 618158, u'video_id': u'580775', u'publish_date': u'2014-03-08 03:38:01', u'duration': u'30:35', u'title': u'Nia - Can I put it in', u'tags': [{u'tag_name': u'Blowjob'}, {u'tag_name': u'Brunette'}, {u'tag_name': u'Caucasian'}, {u'tag_name': u'Couple'}, {u'tag_name': u'Cum Shot'}, {u'tag_name': u'Oral Sex'}, {u'tag_name': u'POV'}, {u'tag_name': u'Vaginal Sex'}], u'default_thumb': u'http://img04.redtubefiles.com/_thumbs/0000580/0580775/0580775_010m.jpg'}}, {u'video': {u'rating': u'3.53', u'thumb': u'http://img01.redtubefiles.com/_thumbs/0000663/0663273/0663273_011m.jpg', u'ratings': u'192', u'url': u'http://www.redtube.com/663273', u'views': 164551, u'video_id': u'663273', u'publish_date': u'2014-03-08 02:50:01', u'duration': u'5:25', u'title': u'Beautiful MILF sucks and slides on cock', u'tags': [{u'tag_name': u'Big Tits'}, {u'tag_name': u'Black-haired'}, {u'tag_name': u'Blowjob'}, {u'tag_name': u'Couple'}, {u'tag_name': u'Cum Shot'}, {u'tag_name': u'Latin'}, {u'tag_name': u'Lingerie'}, {u'tag_name': u'MILF'}, {u'tag_name': u'Masturbation'}, {u'tag_name': u'Oral Sex'}, {u'tag_name': u'POV'}, {u'tag_name': u'Titfuck'}, {u'tag_name': u'Vaginal Sex'}], u'default_thumb': u'http://img01.redtubefiles.com/_thumbs/0000663/0663273/0663273_011m.jpg'}}, {u'video': {u'rating': u'4.02', u'thumb': u'http://img03.redtubefiles.com/_thumbs/0000142/0142135/0142135_003m.jpg', u'ratings': u'389', u'url': u'http://www.redtube.com/142135', u'views': 234913, u'video_id': u'142135', u'publish_date': u'2014-03-08 02:12:01', u'stars': [{u'star_name': u'Celeste Star'}, {u'star_name': u'Malena Morgan'}], u'duration': u'26:59', u'title': u'Celeste Star, Malena Morgan in the morning af', u'tags': [{u'tag_name': u'Brunette'}, {u'tag_name': u'Caucasian'}, {u'tag_name': u'Lesbian'}, {u'tag_name': u'Licking Vagina'}, {u'tag_name': u'Masturbation'}, {u'tag_name': u'Oral Sex'}, {u'tag_name': u'Tribbing'}, {u'tag_name': u'Vaginal Masturbation'}], u'default_thumb': u'http://img03.redtubefiles.com/_thumbs/0000142/0142135/0142135_003m.jpg'}}, {u'video': {u'rating': u'3.41', u'thumb': u'http://img02.redtubefiles.com/_thumbs/0000263/0263187/0263187_010m.jpg', u'ratings': u'177', u'url': u'http://www.redtube.com/263187', u'views': 141139, u'video_id': u'263187', u'publish_date': u'2014-03-08 01:28:02', u'duration': u'8:24', u'title': u'Cute Asian giving a hot outdoor blowjob', u'tags': [{u'tag_name': u'Amateur'}, {u'tag_name': u'Asian'}, {u'tag_name': u'Blowjob'}, {u'tag_name': u'Brunette'}, {u'tag_name': u'Couple'}, {u'tag_name': u'Japanese'}, {u'tag_name': u'Masturbation'}, {u'tag_name': u'Oral Sex'}, {u'tag_name': u'Outdoor'}, {u'tag_name': u'Public'}, {u'tag_name': u'Vaginal Masturbation'}, {u'tag_name': u'Vaginal Sex'}], u'default_thumb': u'http://img02.redtubefiles.com/_thumbs/0000263/0263187/0263187_010m.jpg'}}, {u'video': {u'rating': u'3.86', u'thumb': u'http://img03.redtubefiles.com/_thumbs/0000072/0072979/0072979_010m.jpg', u'ratings': u'443', u'url': u'http://www.redtube.com/72979', u'views': 249965, u'video_id': u'72979', u'publish_date': u'2014-03-08 00:48:01', u'stars': [{u'star_name': u'Savannah Stern'}], u'duration': u'22:39', u'title': u'Super hot cock ride with Savannah Stern', u'tags': [{u'tag_name': u'Big Ass'}, {u'tag_name': u'Big Tits'}, {u'tag_name': u'Blowjob'}, {u'tag_name': u'Brunette'}, {u'tag_name': u'Car'}, {u'tag_name': u'Caucasian'}, {u'tag_name': u'Couple'}, {u'tag_name': u'Cum Shot'}, {u'tag_name': u'Facial'}, {u'tag_name': u'Oral Sex'}, {u'tag_name': u'POV'}, {u'tag_name': u'Pornstar'}, {u'tag_name': u'Tattoos'}, {u'tag_name': u'Vaginal Sex'}], u'default_thumb': u'http://img03.redtubefiles.com/_thumbs/0000072/0072979/0072979_010m.jpg'}}, {u'video': {u'rating': u'4.17', u'thumb': u'http://img03.redtubefiles.com/_thumbs/0000597/0597809/0597809_009m.jpg', u'ratings': u'372', u'url': u'http://www.redtube.com/597809', u'views': 315778, u'video_id': u'597809', u'publish_date': u'2014-03-08 00:18:01', u'duration': u'30:35', u'title': u\"Summer - I've just had a bit of an accident\", u'tags': [{u'tag_name': u'Blonde'}, {u'tag_name': u'Blowjob'}, {u'tag_name': u'Car'}, {u'tag_name': u'Caucasian'}, {u'tag_name': u'Couple'}, {u'tag_name': u'Cum Shot'}, {u'tag_name': u'Licking Vagina'}, {u'tag_name': u'MILF'}, {u'tag_name': u'Masturbation'}, {u'tag_name': u'Oral Sex'}, {u'tag_name': u'Vaginal Masturbation'}, {u'tag_name': u'Vaginal Sex'}], u'default_thumb': u'http://img03.redtubefiles.com/_thumbs/0000597/0597809/0597809_009m.jpg'}}, {u'video': {u'rating': u'3.80', u'thumb': u'http://img04.redtubefiles.com/_thumbs/0000680/0680918/0680918_007m.jpg', u'ratings': u'773', u'url': u'http://www.redtube.com/680918', u'views': 530223, u'video_id': u'680918', u'publish_date': u'2014-03-07 23:04:02', u'stars': [{u'star_name': u'Ava Lauren'}], u'duration': u'28:51', u'title': u'Ava Lauren-The cleaning mom', u'tags': [{u'tag_name': u'Big Tits'}, {u'tag_name': u'Blowjob'}, {u'tag_name': u'Brunette'}, {u'tag_name': u'Caucasian'}, {u'tag_name': u'Couple'}, {u'tag_name': u'Licking Vagina'}, {u'tag_name': u'MILF'}, {u'tag_name': u'Oral Sex'}, {u'tag_name': u'Pornstar'}], u'default_thumb': u'http://img04.redtubefiles.com/_thumbs/0000680/0680918/0680918_007m.jpg'}}, {u'video': {u'rating': u'5.00', u'thumb': u'http://img04.redtubefiles.com/_thumbs/0000692/0692581/0692581_015m.jpg', u'ratings': u'1', u'url': u'http://www.redtube.com/692581', u'views': 1324, u'video_id': u'692581', u'publish_date': u'2014-03-07 23:00:18', u'duration': u'1:53', u'title': u'Bath time!', u'tags': [{u'tag_name': u'Amateur'}, {u'tag_name': u'Anal Masturbation'}, {u'tag_name': u'Masturbation'}, {u'tag_name': u'Solo Girl'}], u'default_thumb': u'http://img04.redtubefiles.com/_thumbs/0000692/0692581/0692581_015m.jpg'}}, {u'video': {u'rating': u'2.00', u'thumb': u'http://img02.redtubefiles.com/_thumbs/0000692/0692379/0692379_015m.jpg', u'ratings': u'1', u'url': u'http://www.redtube.com/692379', u'views': 1678, u'video_id': u'692379', u'publish_date': u'2014-03-07 22:57:37', u'duration': u'51:38', u'title': u'Japanese sailor girl shame excretion', u'tags': [{u'tag_name': u'Amateur'}, {u'tag_name': u'Asian'}, {u'tag_name': u'Gangbang'}, {u'tag_name': u'Japanese'}, {u'tag_name': u'Oral Sex'}], u'default_thumb': u'http://img02.redtubefiles.com/_thumbs/0000692/0692379/0692379_015m.jpg'}}, {u'video': {u'rating': u'0.00', u'thumb': u'http://img01.redtubefiles.com/_thumbs/0000692/0692371/0692371_015m.jpg', u'ratings': u'0', u'url': u'http://www.redtube.com/692371', u'views': 1516, u'video_id': u'692371', u'publish_date': u'2014-03-07 22:56:16', u'duration': u'3:27', u'title': u'Real slut needs to get whipped', u'tags': [{u'tag_name': u'Amateur'}, {u'tag_name': u'Bondage'}, {u'tag_name': u'Couple'}, {u'tag_name': u'Domination'}, {u'tag_name': u'Fetish'}, {u'tag_name': u'Spanking'}], u'default_thumb': u'http://img01.redtubefiles.com/_thumbs/0000692/0692371/0692371_015m.jpg'}}, {u'video': {u'rating': u'0.00', u'thumb': u'http://img01.redtubefiles.com/_thumbs/0000692/0692222/0692222_015m.jpg', u'ratings': u'0', u'url': u'http://www.redtube.com/692222', u'views': 363, u'video_id': u'692222', u'publish_date': u'2014-03-07 22:53:11', u'duration': u'0:42', u'title': u'Anal beads', u'tags': [{u'tag_name': u'Couple'}], u'default_thumb': u'http://img01.redtubefiles.com/_thumbs/0000692/0692222/0692222_015m.jpg'}}, {u'video': {u'rating': u'0.00', u'thumb': u'http://img03.redtubefiles.com/_thumbs/0000692/0692015/0692015_007m.jpg', u'ratings': u'0', u'url': u'http://www.redtube.com/692015', u'views': 681, u'video_id': u'692015', u'publish_date': u'2014-03-07 22:50:58', u'duration': u'2:20', u'title': u'Una Jovensita Con Pasion Juvenil', u'tags': [{u'tag_name': u'Solo Girl'}], u'default_thumb': u'http://img03.redtubefiles.com/_thumbs/0000692/0692015/0692015_007m.jpg'}}]}\n"
       ]
      }
     ],
     "prompt_number": 54
    },
    {
     "cell_type": "markdown",
     "metadata": {},
     "source": [
      "Convert it into readable text that you can work with"
     ]
    },
    {
     "cell_type": "code",
     "collapsed": false,
     "input": [
      "for feed in loaPrn[u'videos']:\n",
      "    print feed\n",
      "    #for entry in feed[u'video']:\n",
      "        #print entry"
     ],
     "language": "python",
     "metadata": {},
     "outputs": [
      {
       "output_type": "stream",
       "stream": "stdout",
       "text": [
        "{u'video': {u'rating': u'4.12', u'thumb': u'http://img02.redtubefiles.com/_thumbs/0000042/0042807/0042807_007m.jpg', u'ratings': u'17', u'url': u'http://www.redtube.com/42807', u'views': 12133, u'video_id': u'42807', u'publish_date': u'2014-03-08 09:08:01', u'duration': u'5:07', u'title': u'Hands and tits are enough', u'tags': [{u'tag_name': u'Caucasian'}, {u'tag_name': u'Couple'}, {u'tag_name': u'Cum Shot'}, {u'tag_name': u'Handjob'}, {u'tag_name': u'Masturbation'}, {u'tag_name': u'POV'}, {u'tag_name': u'Titfuck'}], u'default_thumb': u'http://img02.redtubefiles.com/_thumbs/0000042/0042807/0042807_007m.jpg'}}\n",
        "{u'video': {u'rating': u'4.14', u'thumb': u'http://img04.redtubefiles.com/_thumbs/0000282/0282501/0282501_009m.jpg', u'ratings': u'99', u'url': u'http://www.redtube.com/282501', u'views': 102145, u'video_id': u'282501', u'publish_date': u'2014-03-08 08:28:01', u'duration': u'2:01:29', u'title': u'First girlfriend', u'tags': [{u'tag_name': u'Blowjob'}, {u'tag_name': u'Caucasian'}, {u'tag_name': u'Compilation'}, {u'tag_name': u'Couple'}, {u'tag_name': u'Cum Shot'}, {u'tag_name': u'Masturbation'}, {u'tag_name': u'Oral Sex'}, {u'tag_name': u'Teen'}, {u'tag_name': u'Toys'}, {u'tag_name': u'Vaginal Masturbation'}, {u'tag_name': u'Vaginal Sex'}], u'default_thumb': u'http://img04.redtubefiles.com/_thumbs/0000282/0282501/0282501_009m.jpg'}}\n",
        "{u'video': {u'rating': u'4.14', u'thumb': u'http://img03.redtubefiles.com/_thumbs/0000282/0282845/0282845_009m.jpg', u'ratings': u'160', u'url': u'http://www.redtube.com/282845', u'views': 70610, u'video_id': u'282845', u'publish_date': u'2014-03-08 07:36:02', u'duration': u'9:15', u'title': u'Ava Wood', u'tags': [{u'tag_name': u'Anal Sex'}, {u'tag_name': u'Big Tits'}, {u'tag_name': u'Blowjob'}, {u'tag_name': u'Couple'}, {u'tag_name': u'Cum Shot'}, {u'tag_name': u'Deepthroat'}, {u'tag_name': u'Oral Sex'}, {u'tag_name': u'Outdoor'}, {u'tag_name': u'Redhead'}, {u'tag_name': u'Uniform'}], u'default_thumb': u'http://img03.redtubefiles.com/_thumbs/0000282/0282845/0282845_009m.jpg'}}\n",
        "{u'video': {u'rating': u'3.75', u'thumb': u'http://img02.redtubefiles.com/_thumbs/0000468/0468222/0468222_016m.jpg', u'ratings': u'208', u'url': u'http://www.redtube.com/468222', u'views': 139661, u'video_id': u'468222', u'publish_date': u'2014-03-08 07:00:02', u'duration': u'11:21', u'title': u'MILF seduces the handyman ', u'tags': [{u'tag_name': u'Blowjob'}, {u'tag_name': u'Caucasian'}, {u'tag_name': u'Couple'}, {u'tag_name': u'Cum Shot'}, {u'tag_name': u'Licking Vagina'}, {u'tag_name': u'MILF'}, {u'tag_name': u'Oral Sex'}, {u'tag_name': u'Small Tits'}, {u'tag_name': u'Stockings'}, {u'tag_name': u'Vaginal Sex'}], u'default_thumb': u'http://img02.redtubefiles.com/_thumbs/0000468/0468222/0468222_016m.jpg'}}\n",
        "{u'video': {u'rating': u'3.86', u'thumb': u'http://img02.redtubefiles.com/_thumbs/0000435/0435375/0435375_001m.jpg', u'ratings': u'165', u'url': u'http://www.redtube.com/435375', u'views': 153178, u'video_id': u'435375', u'publish_date': u'2014-03-08 06:24:02', u'duration': u'30:33', u'title': u'Putalocura en la cama con torbe Sonia Madrid', u'tags': [{u'tag_name': u'Big Ass'}, {u'tag_name': u'Big Tits'}, {u'tag_name': u'Blowjob'}, {u'tag_name': u'Brunette'}, {u'tag_name': u'Caucasian'}, {u'tag_name': u'Couple'}, {u'tag_name': u'Cum Shot'}, {u'tag_name': u'Oral Sex'}, {u'tag_name': u'Swallow'}, {u'tag_name': u'Vaginal Sex'}], u'default_thumb': u'http://img02.redtubefiles.com/_thumbs/0000435/0435375/0435375_001m.jpg'}}\n",
        "{u'video': {u'rating': u'3.71', u'thumb': u'http://img03.redtubefiles.com/_thumbs/0000122/0122588/0122588_006m.jpg', u'ratings': u'150', u'url': u'http://www.redtube.com/122588', u'views': 94909, u'video_id': u'122588', u'publish_date': u'2014-03-08 05:30:01', u'stars': [{u'star_name': u'Trina Michaels'}], u'duration': u'32:21', u'title': u'Pornstar needs two cocks', u'tags': [{u'tag_name': u'Anal Sex'}, {u'tag_name': u'Big Tits'}, {u'tag_name': u'Blonde'}, {u'tag_name': u'Blowjob'}, {u'tag_name': u'Caucasian'}, {u'tag_name': u'Cum Shot'}, {u'tag_name': u'Deepthroat'}, {u'tag_name': u'Double Penetration'}, {u'tag_name': u'Facial'}, {u'tag_name': u'Gagging'}, {u'tag_name': u'Masturbation'}, {u'tag_name': u'Oral Sex'}, {u'tag_name': u'Pornstar'}, {u'tag_name': u'Threesome'}, {u'tag_name': u'Toys'}, {u'tag_name': u'Vaginal Masturbation'}, {u'tag_name': u'Vaginal Sex'}], u'default_thumb': u'http://img03.redtubefiles.com/_thumbs/0000122/0122588/0122588_006m.jpg'}}\n",
        "{u'video': {u'rating': u'4.20', u'thumb': u'http://img04.redtubefiles.com/_thumbs/0000149/0149625/0149625_013m.jpg', u'ratings': u'229', u'url': u'http://www.redtube.com/149625', u'views': 159838, u'video_id': u'149625', u'publish_date': u'2014-03-08 04:58:01', u'stars': [{u'star_name': u'Kortney Kane'}], u'duration': u'31:26', u'title': u'Kourtney Kane in undercover ho', u'tags': [{u'tag_name': u'Big Tits'}, {u'tag_name': u'Blowjob'}, {u'tag_name': u'Brunette'}, {u'tag_name': u'Couple'}, {u'tag_name': u'Cum Shot'}, {u'tag_name': u'Licking Vagina'}, {u'tag_name': u'Masturbation'}, {u'tag_name': u'Oral Sex'}, {u'tag_name': u'Pornstar'}, {u'tag_name': u'Stockings'}, {u'tag_name': u'Titfuck'}, {u'tag_name': u'Vaginal Masturbation'}, {u'tag_name': u'Vaginal Sex'}], u'default_thumb': u'http://img04.redtubefiles.com/_thumbs/0000149/0149625/0149625_013m.jpg'}}\n",
        "{u'video': {u'rating': u'3.56', u'thumb': u'http://img01.redtubefiles.com/_thumbs/0000089/0089271/0089271_008m.jpg', u'ratings': u'97', u'url': u'http://www.redtube.com/89271', u'views': 60311, u'video_id': u'89271', u'publish_date': u'2014-03-08 04:16:01', u'duration': u'20:50', u'title': u'Tug away', u'tags': [{u'tag_name': u'Brunette'}, {u'tag_name': u'Caucasian'}, {u'tag_name': u'Couple'}, {u'tag_name': u'Cum Shot'}, {u'tag_name': u'Handjob'}, {u'tag_name': u'Masturbation'}, {u'tag_name': u'POV'}, {u'tag_name': u'Vaginal Masturbation'}, {u'tag_name': u'Vaginal Sex'}], u'default_thumb': u'http://img01.redtubefiles.com/_thumbs/0000089/0089271/0089271_008m.jpg'}}\n",
        "{u'video': {u'rating': u'4.17', u'thumb': u'http://img04.redtubefiles.com/_thumbs/0000580/0580775/0580775_010m.jpg', u'ratings': u'768', u'url': u'http://www.redtube.com/580775', u'views': 618158, u'video_id': u'580775', u'publish_date': u'2014-03-08 03:38:01', u'duration': u'30:35', u'title': u'Nia - Can I put it in', u'tags': [{u'tag_name': u'Blowjob'}, {u'tag_name': u'Brunette'}, {u'tag_name': u'Caucasian'}, {u'tag_name': u'Couple'}, {u'tag_name': u'Cum Shot'}, {u'tag_name': u'Oral Sex'}, {u'tag_name': u'POV'}, {u'tag_name': u'Vaginal Sex'}], u'default_thumb': u'http://img04.redtubefiles.com/_thumbs/0000580/0580775/0580775_010m.jpg'}}\n",
        "{u'video': {u'rating': u'3.53', u'thumb': u'http://img01.redtubefiles.com/_thumbs/0000663/0663273/0663273_011m.jpg', u'ratings': u'192', u'url': u'http://www.redtube.com/663273', u'views': 164551, u'video_id': u'663273', u'publish_date': u'2014-03-08 02:50:01', u'duration': u'5:25', u'title': u'Beautiful MILF sucks and slides on cock', u'tags': [{u'tag_name': u'Big Tits'}, {u'tag_name': u'Black-haired'}, {u'tag_name': u'Blowjob'}, {u'tag_name': u'Couple'}, {u'tag_name': u'Cum Shot'}, {u'tag_name': u'Latin'}, {u'tag_name': u'Lingerie'}, {u'tag_name': u'MILF'}, {u'tag_name': u'Masturbation'}, {u'tag_name': u'Oral Sex'}, {u'tag_name': u'POV'}, {u'tag_name': u'Titfuck'}, {u'tag_name': u'Vaginal Sex'}], u'default_thumb': u'http://img01.redtubefiles.com/_thumbs/0000663/0663273/0663273_011m.jpg'}}\n",
        "{u'video': {u'rating': u'4.02', u'thumb': u'http://img03.redtubefiles.com/_thumbs/0000142/0142135/0142135_003m.jpg', u'ratings': u'389', u'url': u'http://www.redtube.com/142135', u'views': 234913, u'video_id': u'142135', u'publish_date': u'2014-03-08 02:12:01', u'stars': [{u'star_name': u'Celeste Star'}, {u'star_name': u'Malena Morgan'}], u'duration': u'26:59', u'title': u'Celeste Star, Malena Morgan in the morning af', u'tags': [{u'tag_name': u'Brunette'}, {u'tag_name': u'Caucasian'}, {u'tag_name': u'Lesbian'}, {u'tag_name': u'Licking Vagina'}, {u'tag_name': u'Masturbation'}, {u'tag_name': u'Oral Sex'}, {u'tag_name': u'Tribbing'}, {u'tag_name': u'Vaginal Masturbation'}], u'default_thumb': u'http://img03.redtubefiles.com/_thumbs/0000142/0142135/0142135_003m.jpg'}}\n",
        "{u'video': {u'rating': u'3.41', u'thumb': u'http://img02.redtubefiles.com/_thumbs/0000263/0263187/0263187_010m.jpg', u'ratings': u'177', u'url': u'http://www.redtube.com/263187', u'views': 141139, u'video_id': u'263187', u'publish_date': u'2014-03-08 01:28:02', u'duration': u'8:24', u'title': u'Cute Asian giving a hot outdoor blowjob', u'tags': [{u'tag_name': u'Amateur'}, {u'tag_name': u'Asian'}, {u'tag_name': u'Blowjob'}, {u'tag_name': u'Brunette'}, {u'tag_name': u'Couple'}, {u'tag_name': u'Japanese'}, {u'tag_name': u'Masturbation'}, {u'tag_name': u'Oral Sex'}, {u'tag_name': u'Outdoor'}, {u'tag_name': u'Public'}, {u'tag_name': u'Vaginal Masturbation'}, {u'tag_name': u'Vaginal Sex'}], u'default_thumb': u'http://img02.redtubefiles.com/_thumbs/0000263/0263187/0263187_010m.jpg'}}\n",
        "{u'video': {u'rating': u'3.86', u'thumb': u'http://img03.redtubefiles.com/_thumbs/0000072/0072979/0072979_010m.jpg', u'ratings': u'443', u'url': u'http://www.redtube.com/72979', u'views': 249965, u'video_id': u'72979', u'publish_date': u'2014-03-08 00:48:01', u'stars': [{u'star_name': u'Savannah Stern'}], u'duration': u'22:39', u'title': u'Super hot cock ride with Savannah Stern', u'tags': [{u'tag_name': u'Big Ass'}, {u'tag_name': u'Big Tits'}, {u'tag_name': u'Blowjob'}, {u'tag_name': u'Brunette'}, {u'tag_name': u'Car'}, {u'tag_name': u'Caucasian'}, {u'tag_name': u'Couple'}, {u'tag_name': u'Cum Shot'}, {u'tag_name': u'Facial'}, {u'tag_name': u'Oral Sex'}, {u'tag_name': u'POV'}, {u'tag_name': u'Pornstar'}, {u'tag_name': u'Tattoos'}, {u'tag_name': u'Vaginal Sex'}], u'default_thumb': u'http://img03.redtubefiles.com/_thumbs/0000072/0072979/0072979_010m.jpg'}}\n",
        "{u'video': {u'rating': u'4.17', u'thumb': u'http://img03.redtubefiles.com/_thumbs/0000597/0597809/0597809_009m.jpg', u'ratings': u'372', u'url': u'http://www.redtube.com/597809', u'views': 315778, u'video_id': u'597809', u'publish_date': u'2014-03-08 00:18:01', u'duration': u'30:35', u'title': u\"Summer - I've just had a bit of an accident\", u'tags': [{u'tag_name': u'Blonde'}, {u'tag_name': u'Blowjob'}, {u'tag_name': u'Car'}, {u'tag_name': u'Caucasian'}, {u'tag_name': u'Couple'}, {u'tag_name': u'Cum Shot'}, {u'tag_name': u'Licking Vagina'}, {u'tag_name': u'MILF'}, {u'tag_name': u'Masturbation'}, {u'tag_name': u'Oral Sex'}, {u'tag_name': u'Vaginal Masturbation'}, {u'tag_name': u'Vaginal Sex'}], u'default_thumb': u'http://img03.redtubefiles.com/_thumbs/0000597/0597809/0597809_009m.jpg'}}\n",
        "{u'video': {u'rating': u'3.80', u'thumb': u'http://img04.redtubefiles.com/_thumbs/0000680/0680918/0680918_007m.jpg', u'ratings': u'773', u'url': u'http://www.redtube.com/680918', u'views': 530223, u'video_id': u'680918', u'publish_date': u'2014-03-07 23:04:02', u'stars': [{u'star_name': u'Ava Lauren'}], u'duration': u'28:51', u'title': u'Ava Lauren-The cleaning mom', u'tags': [{u'tag_name': u'Big Tits'}, {u'tag_name': u'Blowjob'}, {u'tag_name': u'Brunette'}, {u'tag_name': u'Caucasian'}, {u'tag_name': u'Couple'}, {u'tag_name': u'Licking Vagina'}, {u'tag_name': u'MILF'}, {u'tag_name': u'Oral Sex'}, {u'tag_name': u'Pornstar'}], u'default_thumb': u'http://img04.redtubefiles.com/_thumbs/0000680/0680918/0680918_007m.jpg'}}\n",
        "{u'video': {u'rating': u'5.00', u'thumb': u'http://img04.redtubefiles.com/_thumbs/0000692/0692581/0692581_015m.jpg', u'ratings': u'1', u'url': u'http://www.redtube.com/692581', u'views': 1324, u'video_id': u'692581', u'publish_date': u'2014-03-07 23:00:18', u'duration': u'1:53', u'title': u'Bath time!', u'tags': [{u'tag_name': u'Amateur'}, {u'tag_name': u'Anal Masturbation'}, {u'tag_name': u'Masturbation'}, {u'tag_name': u'Solo Girl'}], u'default_thumb': u'http://img04.redtubefiles.com/_thumbs/0000692/0692581/0692581_015m.jpg'}}\n",
        "{u'video': {u'rating': u'2.00', u'thumb': u'http://img02.redtubefiles.com/_thumbs/0000692/0692379/0692379_015m.jpg', u'ratings': u'1', u'url': u'http://www.redtube.com/692379', u'views': 1678, u'video_id': u'692379', u'publish_date': u'2014-03-07 22:57:37', u'duration': u'51:38', u'title': u'Japanese sailor girl shame excretion', u'tags': [{u'tag_name': u'Amateur'}, {u'tag_name': u'Asian'}, {u'tag_name': u'Gangbang'}, {u'tag_name': u'Japanese'}, {u'tag_name': u'Oral Sex'}], u'default_thumb': u'http://img02.redtubefiles.com/_thumbs/0000692/0692379/0692379_015m.jpg'}}\n",
        "{u'video': {u'rating': u'0.00', u'thumb': u'http://img01.redtubefiles.com/_thumbs/0000692/0692371/0692371_015m.jpg', u'ratings': u'0', u'url': u'http://www.redtube.com/692371', u'views': 1516, u'video_id': u'692371', u'publish_date': u'2014-03-07 22:56:16', u'duration': u'3:27', u'title': u'Real slut needs to get whipped', u'tags': [{u'tag_name': u'Amateur'}, {u'tag_name': u'Bondage'}, {u'tag_name': u'Couple'}, {u'tag_name': u'Domination'}, {u'tag_name': u'Fetish'}, {u'tag_name': u'Spanking'}], u'default_thumb': u'http://img01.redtubefiles.com/_thumbs/0000692/0692371/0692371_015m.jpg'}}\n",
        "{u'video': {u'rating': u'0.00', u'thumb': u'http://img01.redtubefiles.com/_thumbs/0000692/0692222/0692222_015m.jpg', u'ratings': u'0', u'url': u'http://www.redtube.com/692222', u'views': 363, u'video_id': u'692222', u'publish_date': u'2014-03-07 22:53:11', u'duration': u'0:42', u'title': u'Anal beads', u'tags': [{u'tag_name': u'Couple'}], u'default_thumb': u'http://img01.redtubefiles.com/_thumbs/0000692/0692222/0692222_015m.jpg'}}\n",
        "{u'video': {u'rating': u'0.00', u'thumb': u'http://img03.redtubefiles.com/_thumbs/0000692/0692015/0692015_007m.jpg', u'ratings': u'0', u'url': u'http://www.redtube.com/692015', u'views': 681, u'video_id': u'692015', u'publish_date': u'2014-03-07 22:50:58', u'duration': u'2:20', u'title': u'Una Jovensita Con Pasion Juvenil', u'tags': [{u'tag_name': u'Solo Girl'}], u'default_thumb': u'http://img03.redtubefiles.com/_thumbs/0000692/0692015/0692015_007m.jpg'}}\n"
       ]
      }
     ],
     "prompt_number": 55
    },
    {
     "cell_type": "code",
     "collapsed": false,
     "input": [
      "titlost = []"
     ],
     "language": "python",
     "metadata": {},
     "outputs": [],
     "prompt_number": 59
    },
    {
     "cell_type": "code",
     "collapsed": false,
     "input": [
      "for nums in range(20):\n",
      "    naoPrn = loaPrn[u'videos'][nums]\n",
      "    #print naoPrn\n",
      "    \n",
      "    ngePrn = naoPrn[u'video']\n",
      "    #print ngePrn\n",
      "    urlPrn = ngePrn[u'title']\n",
      "    titlost.append(urlPrn)\n",
      "    print urlPrn"
     ],
     "language": "python",
     "metadata": {},
     "outputs": [
      {
       "output_type": "stream",
       "stream": "stdout",
       "text": [
        "Hands and tits are enough\n",
        "First girlfriend\n",
        "Ava Wood\n",
        "MILF seduces the handyman \n",
        "Putalocura en la cama con torbe Sonia Madrid\n",
        "Pornstar needs two cocks\n",
        "Kourtney Kane in undercover ho\n",
        "Tug away\n",
        "Nia - Can I put it in\n",
        "Beautiful MILF sucks and slides on cock\n",
        "Celeste Star, Malena Morgan in the morning af\n",
        "Cute Asian giving a hot outdoor blowjob\n",
        "Super hot cock ride with Savannah Stern\n",
        "Summer - I've just had a bit of an accident\n",
        "Ava Lauren-The cleaning mom\n",
        "Bath time!\n",
        "Japanese sailor girl shame excretion\n",
        "Real slut needs to get whipped\n",
        "Anal beads\n",
        "Una Jovensita Con Pasion Juvenil\n"
       ]
      }
     ],
     "prompt_number": 60
    },
    {
     "cell_type": "code",
     "collapsed": false,
     "input": [
      "print titlost"
     ],
     "language": "python",
     "metadata": {},
     "outputs": [
      {
       "output_type": "stream",
       "stream": "stdout",
       "text": [
        "[u'Hands and tits are enough', u'First girlfriend', u'Ava Wood', u'MILF seduces the handyman ', u'Putalocura en la cama con torbe Sonia Madrid', u'Pornstar needs two cocks', u'Kourtney Kane in undercover ho', u'Tug away', u'Nia - Can I put it in', u'Beautiful MILF sucks and slides on cock', u'Celeste Star, Malena Morgan in the morning af', u'Cute Asian giving a hot outdoor blowjob', u'Super hot cock ride with Savannah Stern', u\"Summer - I've just had a bit of an accident\", u'Ava Lauren-The cleaning mom', u'Bath time!', u'Japanese sailor girl shame excretion', u'Real slut needs to get whipped', u'Anal beads', u'Una Jovensita Con Pasion Juvenil']\n"
       ]
      }
     ],
     "prompt_number": 61
    },
    {
     "cell_type": "code",
     "collapsed": false,
     "input": [],
     "language": "python",
     "metadata": {},
     "outputs": [],
     "prompt_number": 56
    },
    {
     "cell_type": "code",
     "collapsed": false,
     "input": [
      "naoPrn = loaPrn[u'videos'][5]\n",
      "print naoPrn"
     ],
     "language": "python",
     "metadata": {},
     "outputs": [
      {
       "output_type": "stream",
       "stream": "stdout",
       "text": [
        "{u'video': {u'rating': u'3.71', u'thumb': u'http://img03.redtubefiles.com/_thumbs/0000122/0122588/0122588_006m.jpg', u'ratings': u'150', u'url': u'http://www.redtube.com/122588', u'views': 94909, u'video_id': u'122588', u'publish_date': u'2014-03-08 05:30:01', u'stars': [{u'star_name': u'Trina Michaels'}], u'duration': u'32:21', u'title': u'Pornstar needs two cocks', u'tags': [{u'tag_name': u'Anal Sex'}, {u'tag_name': u'Big Tits'}, {u'tag_name': u'Blonde'}, {u'tag_name': u'Blowjob'}, {u'tag_name': u'Caucasian'}, {u'tag_name': u'Cum Shot'}, {u'tag_name': u'Deepthroat'}, {u'tag_name': u'Double Penetration'}, {u'tag_name': u'Facial'}, {u'tag_name': u'Gagging'}, {u'tag_name': u'Masturbation'}, {u'tag_name': u'Oral Sex'}, {u'tag_name': u'Pornstar'}, {u'tag_name': u'Threesome'}, {u'tag_name': u'Toys'}, {u'tag_name': u'Vaginal Masturbation'}, {u'tag_name': u'Vaginal Sex'}], u'default_thumb': u'http://img03.redtubefiles.com/_thumbs/0000122/0122588/0122588_006m.jpg'}}\n"
       ]
      }
     ],
     "prompt_number": 57
    },
    {
     "cell_type": "markdown",
     "metadata": {},
     "source": [
      "Compress down - look at first element of json object. You could cycle through older elements\n",
      "by increasing the int"
     ]
    },
    {
     "cell_type": "code",
     "collapsed": false,
     "input": [
      "ngePrn = naoPrn[u'video']\n",
      "print ngePrn"
     ],
     "language": "python",
     "metadata": {},
     "outputs": [
      {
       "output_type": "stream",
       "stream": "stdout",
       "text": [
        "{u'rating': u'0.00', u'thumb': u'http://img04.redtubefiles.com/_thumbs/0000688/0688797/0688797_015m.jpg', u'ratings': u'0', u'url': u'http://www.redtube.com/688797', u'views': 3, u'video_id': u'688797', u'publish_date': u'2014-03-05 13:15:55', u'duration': u'6:05', u'title': u'tossing salad - lick ass 2', u'tags': [{u'tag_name': u'Anal Sex'}, {u'tag_name': u'Big Ass'}, {u'tag_name': u'Couple'}, {u'tag_name': u'Fetish'}, {u'tag_name': u'Licking Vagina'}, {u'tag_name': u'Oral Sex'}, {u'tag_name': u'Swallow'}, {u'tag_name': u'Vaginal Sex'}], u'default_thumb': u'http://img04.redtubefiles.com/_thumbs/0000688/0688797/0688797_015m.jpg'}\n"
       ]
      }
     ],
     "prompt_number": 16
    },
    {
     "cell_type": "markdown",
     "metadata": {},
     "source": [
      "Compress down again - this time video. It's always a bit of a trial and error to figure out\n",
      "navagating json objects, IPython is perfect for this. "
     ]
    },
    {
     "cell_type": "heading",
     "level": 2,
     "metadata": {},
     "source": [
      "Individual Data!"
     ]
    },
    {
     "cell_type": "markdown",
     "metadata": {},
     "source": [
      "This could be imporoved by turning the following unicode into a list and get the program\n",
      "to cycle though - saving off each element. Maybe save to a list?"
     ]
    },
    {
     "cell_type": "code",
     "collapsed": false,
     "input": [
      "ratPrn = ngePrn[u'title']"
     ],
     "language": "python",
     "metadata": {},
     "outputs": [],
     "prompt_number": 55
    },
    {
     "cell_type": "code",
     "collapsed": false,
     "input": [
      "for k in naoPrn:\n",
      "    print k"
     ],
     "language": "python",
     "metadata": {},
     "outputs": [
      {
       "output_type": "stream",
       "stream": "stdout",
       "text": [
        "video\n"
       ]
      }
     ],
     "prompt_number": 56
    },
    {
     "cell_type": "code",
     "collapsed": false,
     "input": [
      "from PIL import Image"
     ],
     "language": "python",
     "metadata": {},
     "outputs": [],
     "prompt_number": 57
    },
    {
     "cell_type": "code",
     "collapsed": false,
     "input": [
      "im = Image.open('ratPrn')"
     ],
     "language": "python",
     "metadata": {},
     "outputs": [
      {
       "ename": "IOError",
       "evalue": "[Errno 2] No such file or directory: 'ratPrn'",
       "output_type": "pyerr",
       "traceback": [
        "\u001b[1;31m---------------------------------------------------------------------------\u001b[0m\n\u001b[1;31mIOError\u001b[0m                                   Traceback (most recent call last)",
        "\u001b[1;32m<ipython-input-58-87bb26467892>\u001b[0m in \u001b[0;36m<module>\u001b[1;34m()\u001b[0m\n\u001b[1;32m----> 1\u001b[1;33m \u001b[0mim\u001b[0m \u001b[1;33m=\u001b[0m \u001b[0mImage\u001b[0m\u001b[1;33m.\u001b[0m\u001b[0mopen\u001b[0m\u001b[1;33m(\u001b[0m\u001b[1;34m'ratPrn'\u001b[0m\u001b[1;33m)\u001b[0m\u001b[1;33m\u001b[0m\u001b[0m\n\u001b[0m",
        "\u001b[1;32m/usr/lib/python2.7/site-packages/PIL/Image.pyc\u001b[0m in \u001b[0;36mopen\u001b[1;34m(fp, mode)\u001b[0m\n\u001b[0;32m   1973\u001b[0m     \u001b[1;32mif\u001b[0m \u001b[0misPath\u001b[0m\u001b[1;33m(\u001b[0m\u001b[0mfp\u001b[0m\u001b[1;33m)\u001b[0m\u001b[1;33m:\u001b[0m\u001b[1;33m\u001b[0m\u001b[0m\n\u001b[0;32m   1974\u001b[0m         \u001b[0mfilename\u001b[0m \u001b[1;33m=\u001b[0m \u001b[0mfp\u001b[0m\u001b[1;33m\u001b[0m\u001b[0m\n\u001b[1;32m-> 1975\u001b[1;33m         \u001b[0mfp\u001b[0m \u001b[1;33m=\u001b[0m \u001b[0mbuiltins\u001b[0m\u001b[1;33m.\u001b[0m\u001b[0mopen\u001b[0m\u001b[1;33m(\u001b[0m\u001b[0mfp\u001b[0m\u001b[1;33m,\u001b[0m \u001b[1;34m\"rb\"\u001b[0m\u001b[1;33m)\u001b[0m\u001b[1;33m\u001b[0m\u001b[0m\n\u001b[0m\u001b[0;32m   1976\u001b[0m     \u001b[1;32melse\u001b[0m\u001b[1;33m:\u001b[0m\u001b[1;33m\u001b[0m\u001b[0m\n\u001b[0;32m   1977\u001b[0m         \u001b[0mfilename\u001b[0m \u001b[1;33m=\u001b[0m \u001b[1;34m\"\"\u001b[0m\u001b[1;33m\u001b[0m\u001b[0m\n",
        "\u001b[1;31mIOError\u001b[0m: [Errno 2] No such file or directory: 'ratPrn'"
       ]
      }
     ],
     "prompt_number": 58
    },
    {
     "cell_type": "code",
     "collapsed": false,
     "input": [
      "thumPrn = ratPrn[u'thumb']"
     ],
     "language": "python",
     "metadata": {},
     "outputs": [
      {
       "ename": "TypeError",
       "evalue": "string indices must be integers",
       "output_type": "pyerr",
       "traceback": [
        "\u001b[1;31m---------------------------------------------------------------------------\u001b[0m\n\u001b[1;31mTypeError\u001b[0m                                 Traceback (most recent call last)",
        "\u001b[1;32m<ipython-input-59-6deebaa3e6c8>\u001b[0m in \u001b[0;36m<module>\u001b[1;34m()\u001b[0m\n\u001b[1;32m----> 1\u001b[1;33m \u001b[0mthumPrn\u001b[0m \u001b[1;33m=\u001b[0m \u001b[0mratPrn\u001b[0m\u001b[1;33m[\u001b[0m\u001b[1;34mu'thumb'\u001b[0m\u001b[1;33m]\u001b[0m\u001b[1;33m\u001b[0m\u001b[0m\n\u001b[0m",
        "\u001b[1;31mTypeError\u001b[0m: string indices must be integers"
       ]
      }
     ],
     "prompt_number": 59
    },
    {
     "cell_type": "code",
     "collapsed": false,
     "input": [
      "print thumPrn"
     ],
     "language": "python",
     "metadata": {},
     "outputs": [
      {
       "ename": "NameError",
       "evalue": "name 'thumPrn' is not defined",
       "output_type": "pyerr",
       "traceback": [
        "\u001b[1;31m---------------------------------------------------------------------------\u001b[0m\n\u001b[1;31mNameError\u001b[0m                                 Traceback (most recent call last)",
        "\u001b[1;32m<ipython-input-60-cdc52c814fc5>\u001b[0m in \u001b[0;36m<module>\u001b[1;34m()\u001b[0m\n\u001b[1;32m----> 1\u001b[1;33m \u001b[1;32mprint\u001b[0m \u001b[0mthumPrn\u001b[0m\u001b[1;33m\u001b[0m\u001b[0m\n\u001b[0m",
        "\u001b[1;31mNameError\u001b[0m: name 'thumPrn' is not defined"
       ]
      }
     ],
     "prompt_number": 60
    },
    {
     "cell_type": "code",
     "collapsed": false,
     "input": [
      "ratPrn = ngePrn[u'ratings']\n",
      "print ratPrn"
     ],
     "language": "python",
     "metadata": {},
     "outputs": [
      {
       "output_type": "stream",
       "stream": "stdout",
       "text": [
        "0\n"
       ]
      }
     ],
     "prompt_number": 61
    },
    {
     "cell_type": "code",
     "collapsed": false,
     "input": [
      "urlPrn = ngePrn[u'url']\n",
      "print urlPrn"
     ],
     "language": "python",
     "metadata": {},
     "outputs": [
      {
       "output_type": "stream",
       "stream": "stdout",
       "text": [
        "http://www.redtube.com/688797\n"
       ]
      }
     ],
     "prompt_number": 62
    },
    {
     "cell_type": "code",
     "collapsed": false,
     "input": [
      "viwPrn = ngePrn[u'views']\n",
      "print viwPrn"
     ],
     "language": "python",
     "metadata": {},
     "outputs": [
      {
       "output_type": "stream",
       "stream": "stdout",
       "text": [
        "178927\n"
       ]
      }
     ],
     "prompt_number": 19
    },
    {
     "cell_type": "code",
     "collapsed": false,
     "input": [
      "idPrn = ngePrn[u'video_id']\n",
      "print idPrn"
     ],
     "language": "python",
     "metadata": {},
     "outputs": [
      {
       "output_type": "stream",
       "stream": "stdout",
       "text": [
        "398052\n"
       ]
      }
     ],
     "prompt_number": 20
    },
    {
     "cell_type": "code",
     "collapsed": false,
     "input": [
      "pdaPrn = ngePrn[u'publish_date']\n",
      "print pdaPrn"
     ],
     "language": "python",
     "metadata": {},
     "outputs": [
      {
       "output_type": "stream",
       "stream": "stdout",
       "text": [
        "2014-03-04 00:18:01\n"
       ]
      }
     ],
     "prompt_number": 21
    },
    {
     "cell_type": "code",
     "collapsed": false,
     "input": [
      "timPrn = ngePrn[u'duration']\n",
      "print timPrn"
     ],
     "language": "python",
     "metadata": {},
     "outputs": [
      {
       "output_type": "stream",
       "stream": "stdout",
       "text": [
        "17:03\n"
       ]
      }
     ],
     "prompt_number": 22
    },
    {
     "cell_type": "code",
     "collapsed": false,
     "input": [
      "titPrn = ngePrn[u'title']\n",
      "print titPrn"
     ],
     "language": "python",
     "metadata": {},
     "outputs": [
      {
       "output_type": "stream",
       "stream": "stdout",
       "text": [
        "April Flowers stockings fingering\n"
       ]
      }
     ],
     "prompt_number": 23
    },
    {
     "cell_type": "code",
     "collapsed": false,
     "input": [
      "tagPrn = ngePrn[u'tags']\n",
      "print tagPrn"
     ],
     "language": "python",
     "metadata": {},
     "outputs": [
      {
       "output_type": "stream",
       "stream": "stdout",
       "text": [
        "[{u'tag_name': u'Brunette'}, {u'tag_name': u'Caucasian'}, {u'tag_name': u'High Heels'}, {u'tag_name': u'Lingerie'}, {u'tag_name': u'Masturbation'}, {u'tag_name': u'Solo Girl'}, {u'tag_name': u'Vaginal Masturbation'}]\n"
       ]
      }
     ],
     "prompt_number": 24
    },
    {
     "cell_type": "code",
     "collapsed": false,
     "input": [
      "derbPrn = (tagPrn, 'tag_name')\n",
      "print derbPrn"
     ],
     "language": "python",
     "metadata": {},
     "outputs": [
      {
       "output_type": "stream",
       "stream": "stdout",
       "text": [
        "([{u'tag_name': u'Brunette'}, {u'tag_name': u'Caucasian'}, {u'tag_name': u'High Heels'}, {u'tag_name': u'Lingerie'}, {u'tag_name': u'Masturbation'}, {u'tag_name': u'Solo Girl'}, {u'tag_name': u'Vaginal Masturbation'}], 'tag_name')\n"
       ]
      }
     ],
     "prompt_number": 25
    },
    {
     "cell_type": "code",
     "collapsed": false,
     "input": [
      "thNum = 0\n",
      "taTrn = tagPrn[thNum]\n",
      "print taTrn\n",
      "thNum + 1"
     ],
     "language": "python",
     "metadata": {},
     "outputs": [
      {
       "output_type": "stream",
       "stream": "stdout",
       "text": [
        "{u'tag_name': u'Brunette'}\n"
       ]
      },
      {
       "output_type": "pyout",
       "prompt_number": 26,
       "text": [
        "1"
       ]
      }
     ],
     "prompt_number": 26
    },
    {
     "cell_type": "markdown",
     "metadata": {},
     "source": [
      "TODO: Cycle the list and print all tags"
     ]
    },
    {
     "cell_type": "code",
     "collapsed": false,
     "input": [
      "naTrn = taTrn['tag_name']\n",
      "print naTrn"
     ],
     "language": "python",
     "metadata": {},
     "outputs": [
      {
       "output_type": "stream",
       "stream": "stdout",
       "text": [
        "Brunette\n"
       ]
      }
     ],
     "prompt_number": 27
    },
    {
     "cell_type": "code",
     "collapsed": false,
     "input": [
      "demHub = (titlHub, titPrn, naTrn, urlPrn, pdaPrn, thumPrn, imgHub, linHub)"
     ],
     "language": "python",
     "metadata": {},
     "outputs": [
      {
       "ename": "NameError",
       "evalue": "name 'titlHub' is not defined",
       "output_type": "pyerr",
       "traceback": [
        "\u001b[0;31m---------------------------------------------------------------------------\u001b[0m\n\u001b[0;31mNameError\u001b[0m                                 Traceback (most recent call last)",
        "\u001b[0;32m<ipython-input-28-92c00aef343e>\u001b[0m in \u001b[0;36m<module>\u001b[0;34m()\u001b[0m\n\u001b[0;32m----> 1\u001b[0;31m \u001b[0mdemHub\u001b[0m \u001b[0;34m=\u001b[0m \u001b[0;34m(\u001b[0m\u001b[0mtitlHub\u001b[0m\u001b[0;34m,\u001b[0m \u001b[0mtitPrn\u001b[0m\u001b[0;34m,\u001b[0m \u001b[0mnaTrn\u001b[0m\u001b[0;34m,\u001b[0m \u001b[0murlPrn\u001b[0m\u001b[0;34m,\u001b[0m \u001b[0mpdaPrn\u001b[0m\u001b[0;34m,\u001b[0m \u001b[0mthumPrn\u001b[0m\u001b[0;34m,\u001b[0m \u001b[0mimgHub\u001b[0m\u001b[0;34m,\u001b[0m \u001b[0mlinHub\u001b[0m\u001b[0;34m)\u001b[0m\u001b[0;34m\u001b[0m\u001b[0m\n\u001b[0m",
        "\u001b[0;31mNameError\u001b[0m: name 'titlHub' is not defined"
       ]
      }
     ],
     "prompt_number": 28
    },
    {
     "cell_type": "code",
     "collapsed": false,
     "input": [
      "print demHub"
     ],
     "language": "python",
     "metadata": {},
     "outputs": [
      {
       "ename": "NameError",
       "evalue": "name 'demHub' is not defined",
       "output_type": "pyerr",
       "traceback": [
        "\u001b[0;31m---------------------------------------------------------------------------\u001b[0m\n\u001b[0;31mNameError\u001b[0m                                 Traceback (most recent call last)",
        "\u001b[0;32m<ipython-input-29-6eb63e43e38f>\u001b[0m in \u001b[0;36m<module>\u001b[0;34m()\u001b[0m\n\u001b[0;32m----> 1\u001b[0;31m \u001b[0;32mprint\u001b[0m \u001b[0mdemHub\u001b[0m\u001b[0;34m\u001b[0m\u001b[0m\n\u001b[0m",
        "\u001b[0;31mNameError\u001b[0m: name 'demHub' is not defined"
       ]
      }
     ],
     "prompt_number": 29
    },
    {
     "cell_type": "heading",
     "level": 2,
     "metadata": {},
     "source": [
      "Saving Data"
     ]
    },
    {
     "cell_type": "markdown",
     "metadata": {},
     "source": []
    },
    {
     "cell_type": "code",
     "collapsed": false,
     "input": [
      "savPrn = open('savPrn','w')\n",
      "savPrn.write('<h3 style=\"text-align: center;\"><a href=\"' + urlPrn + '\">')\n",
      "savPrn.write(titPrn + '</a></h3>')\n",
      "savPrn.write('<p style=\"text-align: right;\">' + pdaPrn)\n",
      "savPrn.write('</a></h3><img class=\"aligncenter\" alt=\"null\" src=\"' + thumPrn)\n",
      "savPrn.write('\" />')\n",
      "savPrn.close()"
     ],
     "language": "python",
     "metadata": {},
     "outputs": [
      {
       "ename": "NameError",
       "evalue": "name 'thumPrn' is not defined",
       "output_type": "pyerr",
       "traceback": [
        "\u001b[0;31m---------------------------------------------------------------------------\u001b[0m\n\u001b[0;31mNameError\u001b[0m                                 Traceback (most recent call last)",
        "\u001b[0;32m<ipython-input-30-a9276e043280>\u001b[0m in \u001b[0;36m<module>\u001b[0;34m()\u001b[0m\n\u001b[1;32m      3\u001b[0m \u001b[0msavPrn\u001b[0m\u001b[0;34m.\u001b[0m\u001b[0mwrite\u001b[0m\u001b[0;34m(\u001b[0m\u001b[0mtitPrn\u001b[0m \u001b[0;34m+\u001b[0m \u001b[0;34m'</a></h3>'\u001b[0m\u001b[0;34m)\u001b[0m\u001b[0;34m\u001b[0m\u001b[0m\n\u001b[1;32m      4\u001b[0m \u001b[0msavPrn\u001b[0m\u001b[0;34m.\u001b[0m\u001b[0mwrite\u001b[0m\u001b[0;34m(\u001b[0m\u001b[0;34m'<p style=\"text-align: right;\">'\u001b[0m \u001b[0;34m+\u001b[0m \u001b[0mpdaPrn\u001b[0m\u001b[0;34m)\u001b[0m\u001b[0;34m\u001b[0m\u001b[0m\n\u001b[0;32m----> 5\u001b[0;31m \u001b[0msavPrn\u001b[0m\u001b[0;34m.\u001b[0m\u001b[0mwrite\u001b[0m\u001b[0;34m(\u001b[0m\u001b[0;34m'</a></h3><img class=\"aligncenter\" alt=\"null\" src=\"'\u001b[0m \u001b[0;34m+\u001b[0m \u001b[0mthumPrn\u001b[0m\u001b[0;34m)\u001b[0m\u001b[0;34m\u001b[0m\u001b[0m\n\u001b[0m\u001b[1;32m      6\u001b[0m \u001b[0msavPrn\u001b[0m\u001b[0;34m.\u001b[0m\u001b[0mwrite\u001b[0m\u001b[0;34m(\u001b[0m\u001b[0;34m'\" />'\u001b[0m\u001b[0;34m)\u001b[0m\u001b[0;34m\u001b[0m\u001b[0m\n\u001b[1;32m      7\u001b[0m \u001b[0msavPrn\u001b[0m\u001b[0;34m.\u001b[0m\u001b[0mclose\u001b[0m\u001b[0;34m(\u001b[0m\u001b[0;34m)\u001b[0m\u001b[0;34m\u001b[0m\u001b[0m\n",
        "\u001b[0;31mNameError\u001b[0m: name 'thumPrn' is not defined"
       ]
      }
     ],
     "prompt_number": 30
    },
    {
     "cell_type": "code",
     "collapsed": false,
     "input": [
      "savTub"
     ],
     "language": "python",
     "metadata": {},
     "outputs": [
      {
       "ename": "NameError",
       "evalue": "name 'savTub' is not defined",
       "output_type": "pyerr",
       "traceback": [
        "\u001b[0;31m---------------------------------------------------------------------------\u001b[0m\n\u001b[0;31mNameError\u001b[0m                                 Traceback (most recent call last)",
        "\u001b[0;32m<ipython-input-31-cc9a9cacfd90>\u001b[0m in \u001b[0;36m<module>\u001b[0;34m()\u001b[0m\n\u001b[0;32m----> 1\u001b[0;31m \u001b[0msavTub\u001b[0m\u001b[0;34m\u001b[0m\u001b[0m\n\u001b[0m",
        "\u001b[0;31mNameError\u001b[0m: name 'savTub' is not defined"
       ]
      }
     ],
     "prompt_number": 31
    },
    {
     "cell_type": "code",
     "collapsed": false,
     "input": [
      "ls"
     ],
     "language": "python",
     "metadata": {},
     "outputs": [
      {
       "output_type": "stream",
       "stream": "stdout",
       "text": [
        "LICENSE           linkz          savPrn        \u001b[0m\u001b[01;34mwww.tlcstudents.ac.nz\u001b[0m/\r\n",
        "README.md         myfile.txt     tlc.ipynb\r\n",
        "artcontrol.ipynb  redTube.ipynb  tpb.ipynb\r\n",
        "home.html         result         uploads.html\r\n"
       ]
      }
     ],
     "prompt_number": 32
    },
    {
     "cell_type": "code",
     "collapsed": false,
     "input": [
      "opPrn = open('savPrn','r')\n",
      "for op in opPrn:\n",
      "    print op"
     ],
     "language": "python",
     "metadata": {},
     "outputs": [],
     "prompt_number": 33
    },
    {
     "cell_type": "code",
     "collapsed": false,
     "input": [],
     "language": "python",
     "metadata": {},
     "outputs": [],
     "prompt_number": 36
    },
    {
     "cell_type": "heading",
     "level": 1,
     "metadata": {},
     "source": [
      "PornHub"
     ]
    },
    {
     "cell_type": "code",
     "collapsed": false,
     "input": [
      "import feedparser"
     ],
     "language": "python",
     "metadata": {},
     "outputs": [
      {
       "ename": "ImportError",
       "evalue": "No module named feedparser",
       "output_type": "pyerr",
       "traceback": [
        "\u001b[0;31m---------------------------------------------------------------------------\u001b[0m\n\u001b[0;31mImportError\u001b[0m                               Traceback (most recent call last)",
        "\u001b[0;32m<ipython-input-64-83ad40c5a32f>\u001b[0m in \u001b[0;36m<module>\u001b[0;34m()\u001b[0m\n\u001b[0;32m----> 1\u001b[0;31m \u001b[0;32mimport\u001b[0m \u001b[0mfeedparser\u001b[0m\u001b[0;34m\u001b[0m\u001b[0m\n\u001b[0m",
        "\u001b[0;31mImportError\u001b[0m: No module named feedparser"
       ]
      }
     ],
     "prompt_number": 64
    },
    {
     "cell_type": "code",
     "collapsed": false,
     "input": [
      "urlHub = feedparser.parse('http://www.pornhub.com/video/webmasterss')"
     ],
     "language": "python",
     "metadata": {},
     "outputs": [],
     "prompt_number": 18
    },
    {
     "cell_type": "code",
     "collapsed": false,
     "input": [
      "urlHub['feed']['title']"
     ],
     "language": "python",
     "metadata": {},
     "outputs": [
      {
       "output_type": "pyout",
       "prompt_number": 19,
       "text": [
        "u'Pornhub - RSS Video Feed'"
       ]
      }
     ],
     "prompt_number": 19
    },
    {
     "cell_type": "code",
     "collapsed": false,
     "input": [
      "tlinHub = urlHub['feed']['link']"
     ],
     "language": "python",
     "metadata": {},
     "outputs": [],
     "prompt_number": 20
    },
    {
     "cell_type": "code",
     "collapsed": false,
     "input": [
      "pubHub = urlHub['feed']['published']"
     ],
     "language": "python",
     "metadata": {},
     "outputs": [],
     "prompt_number": 21
    },
    {
     "cell_type": "code",
     "collapsed": false,
     "input": [
      "linHub = urlHub.entries[0].link"
     ],
     "language": "python",
     "metadata": {},
     "outputs": [],
     "prompt_number": 22
    },
    {
     "cell_type": "code",
     "collapsed": false,
     "input": [
      "titlHub = urlHub.entries[0].title"
     ],
     "language": "python",
     "metadata": {},
     "outputs": [],
     "prompt_number": 23
    },
    {
     "cell_type": "code",
     "collapsed": false,
     "input": [
      "imgHub = urlHub.entries[0].thumb_large"
     ],
     "language": "python",
     "metadata": {},
     "outputs": [],
     "prompt_number": 24
    },
    {
     "cell_type": "code",
     "collapsed": false,
     "input": [
      "urlHub.entries[0]"
     ],
     "language": "python",
     "metadata": {},
     "outputs": [
      {
       "output_type": "pyout",
       "prompt_number": 25,
       "text": [
        "{'duration': u'304',\n",
        " 'embed': u'<iframe src=\"http://www.pornhub.com/embed/2061171094\" frameborder=\"0\" width=\"608\" height=\"468\" scrolling=\"no\"><a href=\"http://www.pornhub.com/view_video.php?viewkey=2061171094\">She rides his hard dick and lets him fuck her</a></iframe>',\n",
        " 'link': u'http://www.pornhub.com/view_video.php?viewkey=2061171094',\n",
        " 'links': [{'href': u'http://www.pornhub.com/view_video.php?viewkey=2061171094',\n",
        "   'rel': u'alternate',\n",
        "   'type': u'text/html'}],\n",
        " 'published': u'Wed, 05 Mar 2014 07:12:21 -0500',\n",
        " 'published_parsed': time.struct_time(tm_year=2014, tm_mon=3, tm_mday=5, tm_hour=12, tm_min=12, tm_sec=21, tm_wday=2, tm_yday=64, tm_isdst=0),\n",
        " 'thumb': u'http://thumb1.cdn1a.image.pornhub.phncdn.com/videos/201309/24/17767201/180x135/6.jpg',\n",
        " 'thumb_large': u'http://thumb1.cdn1a.image.pornhub.phncdn.com/videos/201309/24/17767201/320x240/6.jpg',\n",
        " 'title': u'She rides his hard dick and lets him fuck her',\n",
        " 'title_detail': {'base': u'http://www.pornhub.com/video/webmasterss',\n",
        "  'language': None,\n",
        "  'type': u'text/plain',\n",
        "  'value': u'She rides his hard dick and lets him fuck her'}}"
       ]
      }
     ],
     "prompt_number": 25
    },
    {
     "cell_type": "code",
     "collapsed": false,
     "input": [],
     "language": "python",
     "metadata": {},
     "outputs": [
      {
       "ename": "NameError",
       "evalue": "name 'titHub' is not defined",
       "output_type": "pyerr",
       "traceback": [
        "\u001b[0;31m---------------------------------------------------------------------------\u001b[0m\n\u001b[0;31mNameError\u001b[0m                                 Traceback (most recent call last)",
        "\u001b[0;32m<ipython-input-62-00a8291d9934>\u001b[0m in \u001b[0;36m<module>\u001b[0;34m()\u001b[0m\n\u001b[0;32m----> 1\u001b[0;31m \u001b[0mtitlost\u001b[0m\u001b[0;34m.\u001b[0m\u001b[0mappend\u001b[0m\u001b[0;34m(\u001b[0m\u001b[0mtitHub\u001b[0m\u001b[0;34m)\u001b[0m\u001b[0;34m\u001b[0m\u001b[0m\n\u001b[0m",
        "\u001b[0;31mNameError\u001b[0m: name 'titHub' is not defined"
       ]
      }
     ],
     "prompt_number": 62
    },
    {
     "cell_type": "code",
     "collapsed": false,
     "input": [
      "for daHub, da in enumerate([titlHub, linHub, pubHub, imgHub]):\n",
      "    titlost.append(titHub)\n",
      "    print daHub, da"
     ],
     "language": "python",
     "metadata": {},
     "outputs": [
      {
       "ename": "NameError",
       "evalue": "name 'titlHub' is not defined",
       "output_type": "pyerr",
       "traceback": [
        "\u001b[0;31m---------------------------------------------------------------------------\u001b[0m\n\u001b[0;31mNameError\u001b[0m                                 Traceback (most recent call last)",
        "\u001b[0;32m<ipython-input-63-35020232ce99>\u001b[0m in \u001b[0;36m<module>\u001b[0;34m()\u001b[0m\n\u001b[0;32m----> 1\u001b[0;31m \u001b[0;32mfor\u001b[0m \u001b[0mdaHub\u001b[0m\u001b[0;34m,\u001b[0m \u001b[0mda\u001b[0m \u001b[0;32min\u001b[0m \u001b[0menumerate\u001b[0m\u001b[0;34m(\u001b[0m\u001b[0;34m[\u001b[0m\u001b[0mtitlHub\u001b[0m\u001b[0;34m,\u001b[0m \u001b[0mlinHub\u001b[0m\u001b[0;34m,\u001b[0m \u001b[0mpubHub\u001b[0m\u001b[0;34m,\u001b[0m \u001b[0mimgHub\u001b[0m\u001b[0;34m]\u001b[0m\u001b[0;34m)\u001b[0m\u001b[0;34m:\u001b[0m\u001b[0;34m\u001b[0m\u001b[0m\n\u001b[0m\u001b[1;32m      2\u001b[0m     \u001b[0;32mprint\u001b[0m \u001b[0mdaHub\u001b[0m\u001b[0;34m,\u001b[0m \u001b[0mda\u001b[0m\u001b[0;34m\u001b[0m\u001b[0m\n",
        "\u001b[0;31mNameError\u001b[0m: name 'titlHub' is not defined"
       ]
      }
     ],
     "prompt_number": 63
    },
    {
     "cell_type": "code",
     "collapsed": false,
     "input": [],
     "language": "python",
     "metadata": {},
     "outputs": [],
     "prompt_number": 43
    },
    {
     "cell_type": "code",
     "collapsed": false,
     "input": [],
     "language": "python",
     "metadata": {},
     "outputs": [],
     "prompt_number": 43
    },
    {
     "cell_type": "code",
     "collapsed": false,
     "input": [],
     "language": "python",
     "metadata": {},
     "outputs": []
    }
   ],
   "metadata": {}
  }
 ]
}