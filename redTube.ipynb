{
 "metadata": {
  "name": "redTube"
 },
 "nbformat": 3,
 "nbformat_minor": 0,
 "worksheets": [
  {
   "cells": [
    {
     "cell_type": "heading",
     "level": 1,
     "metadata": {},
     "source": [
      "RedTube json Python"
     ]
    },
    {
     "cell_type": "markdown",
     "metadata": {},
     "source": [
      "'''\n",
      "copyright 2013 WCMCKEE\n",
      "will@artcontrol.me\n",
      "'''"
     ]
    },
    {
     "cell_type": "code",
     "collapsed": false,
     "input": [
      "import requests\n",
      "import json\n",
      "import random"
     ],
     "language": "python",
     "metadata": {},
     "outputs": [],
     "prompt_number": 33
    },
    {
     "cell_type": "code",
     "collapsed": false,
     "input": [
      "redhtp = ('http://api.redtube.com/?data=redtube.')\n",
      "redtagz = ('tags.getTagList')\n",
      "redcat = ('Categories.getCategoriesList')\n",
      "redstar = ('Stars.getStarList') \n",
      "redvid = ('Videos.searchVideos&page=1')\n",
      "redj = ('&output=json')"
     ],
     "language": "python",
     "metadata": {},
     "outputs": [],
     "prompt_number": 34
    },
    {
     "cell_type": "markdown",
     "metadata": {},
     "source": [
      "need to choose a random between tagz cat and star"
     ]
    },
    {
     "cell_type": "code",
     "collapsed": false,
     "input": [
      "endlist = [redtagz, redcat, redstar]"
     ],
     "language": "python",
     "metadata": {},
     "outputs": [],
     "prompt_number": 35
    },
    {
     "cell_type": "code",
     "collapsed": false,
     "input": [
      "ranclist = random.choice(endlist)"
     ],
     "language": "python",
     "metadata": {},
     "outputs": [],
     "prompt_number": 36
    },
    {
     "cell_type": "code",
     "collapsed": false,
     "input": [
      "print endlist"
     ],
     "language": "python",
     "metadata": {},
     "outputs": [
      {
       "output_type": "stream",
       "stream": "stdout",
       "text": [
        "['tags.getTagList', 'Categories.getCategoriesList', 'Stars.getStarList']\n"
       ]
      }
     ],
     "prompt_number": 37
    },
    {
     "cell_type": "code",
     "collapsed": false,
     "input": [
      "fullurlz = redhtp + ranclist + redj"
     ],
     "language": "python",
     "metadata": {},
     "outputs": [],
     "prompt_number": 38
    },
    {
     "cell_type": "code",
     "collapsed": false,
     "input": [
      "fulur = redhtp + redvid + redj"
     ],
     "language": "python",
     "metadata": {},
     "outputs": [],
     "prompt_number": 39
    },
    {
     "cell_type": "code",
     "collapsed": false,
     "input": [
      "print fullurlz"
     ],
     "language": "python",
     "metadata": {},
     "outputs": [
      {
       "output_type": "stream",
       "stream": "stdout",
       "text": [
        "http://api.redtube.com/?data=redtube.Stars.getStarList&output=json\n"
       ]
      }
     ],
     "prompt_number": 40
    },
    {
     "cell_type": "code",
     "collapsed": false,
     "input": [
      "fuz = str(fullurlz)"
     ],
     "language": "python",
     "metadata": {},
     "outputs": [],
     "prompt_number": 44
    },
    {
     "cell_type": "code",
     "collapsed": false,
     "input": [
      "print fulur"
     ],
     "language": "python",
     "metadata": {},
     "outputs": [
      {
       "output_type": "stream",
       "stream": "stdout",
       "text": [
        "http://api.redtube.com/?data=redtube.Videos.searchVideos&page=1&output=json\n"
       ]
      }
     ],
     "prompt_number": 45
    },
    {
     "cell_type": "markdown",
     "metadata": {},
     "source": [
      "Requests and json are the two main modules used for this. Random can also be handy"
     ]
    },
    {
     "cell_type": "code",
     "collapsed": false,
     "input": [
      "getfullurl = requests.get(fullurlz)\n",
      "loazfullurl = json.loads(fullurlz)"
     ],
     "language": "python",
     "metadata": {},
     "outputs": [
      {
       "ename": "ValueError",
       "evalue": "No JSON object could be decoded",
       "output_type": "pyerr",
       "traceback": [
        "\u001b[1;31m---------------------------------------------------------------------------\u001b[0m\n\u001b[1;31mValueError\u001b[0m                                Traceback (most recent call last)",
        "\u001b[1;32m<ipython-input-47-d2eb598c22c7>\u001b[0m in \u001b[0;36m<module>\u001b[1;34m()\u001b[0m\n\u001b[0;32m      1\u001b[0m \u001b[0mgetfullurl\u001b[0m \u001b[1;33m=\u001b[0m \u001b[0mrequests\u001b[0m\u001b[1;33m.\u001b[0m\u001b[0mget\u001b[0m\u001b[1;33m(\u001b[0m\u001b[0mfullurlz\u001b[0m\u001b[1;33m)\u001b[0m\u001b[1;33m\u001b[0m\u001b[0m\n\u001b[1;32m----> 2\u001b[1;33m \u001b[0mloazfullurl\u001b[0m \u001b[1;33m=\u001b[0m \u001b[0mjson\u001b[0m\u001b[1;33m.\u001b[0m\u001b[0mloads\u001b[0m\u001b[1;33m(\u001b[0m\u001b[0mfullurlz\u001b[0m\u001b[1;33m)\u001b[0m\u001b[1;33m\u001b[0m\u001b[0m\n\u001b[0m",
        "\u001b[1;32m/usr/lib/python2.7/json/__init__.pyc\u001b[0m in \u001b[0;36mloads\u001b[1;34m(s, encoding, cls, object_hook, parse_float, parse_int, parse_constant, object_pairs_hook, **kw)\u001b[0m\n\u001b[0;32m    336\u001b[0m             \u001b[0mparse_int\u001b[0m \u001b[1;32mis\u001b[0m \u001b[0mNone\u001b[0m \u001b[1;32mand\u001b[0m \u001b[0mparse_float\u001b[0m \u001b[1;32mis\u001b[0m \u001b[0mNone\u001b[0m \u001b[1;32mand\u001b[0m\u001b[1;33m\u001b[0m\u001b[0m\n\u001b[0;32m    337\u001b[0m             parse_constant is None and object_pairs_hook is None and not kw):\n\u001b[1;32m--> 338\u001b[1;33m         \u001b[1;32mreturn\u001b[0m \u001b[0m_default_decoder\u001b[0m\u001b[1;33m.\u001b[0m\u001b[0mdecode\u001b[0m\u001b[1;33m(\u001b[0m\u001b[0ms\u001b[0m\u001b[1;33m)\u001b[0m\u001b[1;33m\u001b[0m\u001b[0m\n\u001b[0m\u001b[0;32m    339\u001b[0m     \u001b[1;32mif\u001b[0m \u001b[0mcls\u001b[0m \u001b[1;32mis\u001b[0m \u001b[0mNone\u001b[0m\u001b[1;33m:\u001b[0m\u001b[1;33m\u001b[0m\u001b[0m\n\u001b[0;32m    340\u001b[0m         \u001b[0mcls\u001b[0m \u001b[1;33m=\u001b[0m \u001b[0mJSONDecoder\u001b[0m\u001b[1;33m\u001b[0m\u001b[0m\n",
        "\u001b[1;32m/usr/lib/python2.7/json/decoder.pyc\u001b[0m in \u001b[0;36mdecode\u001b[1;34m(self, s, _w)\u001b[0m\n\u001b[0;32m    363\u001b[0m \u001b[1;33m\u001b[0m\u001b[0m\n\u001b[0;32m    364\u001b[0m         \"\"\"\n\u001b[1;32m--> 365\u001b[1;33m         \u001b[0mobj\u001b[0m\u001b[1;33m,\u001b[0m \u001b[0mend\u001b[0m \u001b[1;33m=\u001b[0m \u001b[0mself\u001b[0m\u001b[1;33m.\u001b[0m\u001b[0mraw_decode\u001b[0m\u001b[1;33m(\u001b[0m\u001b[0ms\u001b[0m\u001b[1;33m,\u001b[0m \u001b[0midx\u001b[0m\u001b[1;33m=\u001b[0m\u001b[0m_w\u001b[0m\u001b[1;33m(\u001b[0m\u001b[0ms\u001b[0m\u001b[1;33m,\u001b[0m \u001b[1;36m0\u001b[0m\u001b[1;33m)\u001b[0m\u001b[1;33m.\u001b[0m\u001b[0mend\u001b[0m\u001b[1;33m(\u001b[0m\u001b[1;33m)\u001b[0m\u001b[1;33m)\u001b[0m\u001b[1;33m\u001b[0m\u001b[0m\n\u001b[0m\u001b[0;32m    366\u001b[0m         \u001b[0mend\u001b[0m \u001b[1;33m=\u001b[0m \u001b[0m_w\u001b[0m\u001b[1;33m(\u001b[0m\u001b[0ms\u001b[0m\u001b[1;33m,\u001b[0m \u001b[0mend\u001b[0m\u001b[1;33m)\u001b[0m\u001b[1;33m.\u001b[0m\u001b[0mend\u001b[0m\u001b[1;33m(\u001b[0m\u001b[1;33m)\u001b[0m\u001b[1;33m\u001b[0m\u001b[0m\n\u001b[0;32m    367\u001b[0m         \u001b[1;32mif\u001b[0m \u001b[0mend\u001b[0m \u001b[1;33m!=\u001b[0m \u001b[0mlen\u001b[0m\u001b[1;33m(\u001b[0m\u001b[0ms\u001b[0m\u001b[1;33m)\u001b[0m\u001b[1;33m:\u001b[0m\u001b[1;33m\u001b[0m\u001b[0m\n",
        "\u001b[1;32m/usr/lib/python2.7/json/decoder.pyc\u001b[0m in \u001b[0;36mraw_decode\u001b[1;34m(self, s, idx)\u001b[0m\n\u001b[0;32m    381\u001b[0m             \u001b[0mobj\u001b[0m\u001b[1;33m,\u001b[0m \u001b[0mend\u001b[0m \u001b[1;33m=\u001b[0m \u001b[0mself\u001b[0m\u001b[1;33m.\u001b[0m\u001b[0mscan_once\u001b[0m\u001b[1;33m(\u001b[0m\u001b[0ms\u001b[0m\u001b[1;33m,\u001b[0m \u001b[0midx\u001b[0m\u001b[1;33m)\u001b[0m\u001b[1;33m\u001b[0m\u001b[0m\n\u001b[0;32m    382\u001b[0m         \u001b[1;32mexcept\u001b[0m \u001b[0mStopIteration\u001b[0m\u001b[1;33m:\u001b[0m\u001b[1;33m\u001b[0m\u001b[0m\n\u001b[1;32m--> 383\u001b[1;33m             \u001b[1;32mraise\u001b[0m \u001b[0mValueError\u001b[0m\u001b[1;33m(\u001b[0m\u001b[1;34m\"No JSON object could be decoded\"\u001b[0m\u001b[1;33m)\u001b[0m\u001b[1;33m\u001b[0m\u001b[0m\n\u001b[0m\u001b[0;32m    384\u001b[0m         \u001b[1;32mreturn\u001b[0m \u001b[0mobj\u001b[0m\u001b[1;33m,\u001b[0m \u001b[0mend\u001b[0m\u001b[1;33m\u001b[0m\u001b[0m\n",
        "\u001b[1;31mValueError\u001b[0m: No JSON object could be decoded"
       ]
      }
     ],
     "prompt_number": 47
    },
    {
     "cell_type": "code",
     "collapsed": false,
     "input": [
      "getPrn = requests.get(fulur)"
     ],
     "language": "python",
     "metadata": {},
     "outputs": [],
     "prompt_number": 11
    },
    {
     "cell_type": "markdown",
     "metadata": {},
     "source": [
      "Simple requests command to get the json object. This could be any json object - not just RedTube"
     ]
    },
    {
     "cell_type": "code",
     "collapsed": false,
     "input": [
      "loaPrn = json.loads(getPrn.text)\n",
      "print loaPrn"
     ],
     "language": "python",
     "metadata": {},
     "outputs": [
      {
       "output_type": "stream",
       "stream": "stdout",
       "text": [
        "{u'count': 270794, u'videos': [{u'video': {u'rating': u'0.00', u'thumb': u'http://img01.redtubefiles.com/_thumbs/0000690/0690185/0690185_015m.jpg', u'ratings': u'0', u'url': u'http://www.redtube.com/690185', u'views': 8, u'video_id': u'690185', u'publish_date': u'2014-03-05 13:17:53', u'duration': u'10:00', u'title': u'Teen amateur with hot ass sucks on cock', u'tags': [{u'tag_name': u'Amateur'}, {u'tag_name': u'Blowjob'}, {u'tag_name': u'Oral Sex'}, {u'tag_name': u'Stockings'}, {u'tag_name': u'Teen'}], u'default_thumb': u'http://img01.redtubefiles.com/_thumbs/0000690/0690185/0690185_015m.jpg'}}, {u'video': {u'rating': u'5.00', u'thumb': u'http://img02.redtubefiles.com/_thumbs/0000688/0688810/0688810_015m.jpg', u'ratings': u'1', u'url': u'http://www.redtube.com/688810', u'views': 9, u'video_id': u'688810', u'publish_date': u'2014-03-05 13:17:28', u'stars': [{u'star_name': u'Kagney Linn Karter'}], u'duration': u'33:39', u'title': u'Kagney Linn Karter Chest Pains Brazzers', u'tags': [{u'tag_name': u'Couple'}], u'default_thumb': u'http://img02.redtubefiles.com/_thumbs/0000688/0688810/0688810_015m.jpg'}}, {u'video': {u'rating': u'0.00', u'thumb': u'http://img04.redtubefiles.com/_thumbs/0000688/0688815/0688815_015m.jpg', u'ratings': u'0', u'url': u'http://www.redtube.com/688815', u'views': 3, u'video_id': u'688815', u'publish_date': u'2014-03-05 13:16:10', u'stars': [{u'star_name': u'Esperanza Gomez'}], u'duration': u'7:21', u'title': u'Slut From Spain Esperanza Gomez', u'tags': [{u'tag_name': u'Big Tits'}, {u'tag_name': u'Couple'}, {u'tag_name': u'Facial'}, {u'tag_name': u'Latin'}], u'default_thumb': u'http://img04.redtubefiles.com/_thumbs/0000688/0688815/0688815_015m.jpg'}}, {u'video': {u'rating': u'4.55', u'thumb': u'http://img04.redtubefiles.com/_thumbs/0000567/0567602/0567602_013m.jpg', u'ratings': u'103', u'url': u'http://www.redtube.com/567602', u'views': 108835, u'video_id': u'567602', u'publish_date': u'2014-03-05 13:16:01', u'stars': [{u'star_name': u'Shione Cooper'}], u'duration': u'39:36', u'title': u'A-casting 16', u'tags': [{u'tag_name': u'Big Tits'}, {u'tag_name': u'Black-haired'}, {u'tag_name': u'Blowjob'}, {u'tag_name': u'Caucasian'}, {u'tag_name': u'Couple'}, {u'tag_name': u'Cum Shot'}, {u'tag_name': u'Masturbation'}, {u'tag_name': u'Oral Sex'}, {u'tag_name': u'Shaved'}, {u'tag_name': u'Titfuck'}, {u'tag_name': u'Vaginal Masturbation'}, {u'tag_name': u'Vaginal Sex'}], u'default_thumb': u'http://img04.redtubefiles.com/_thumbs/0000567/0567602/0567602_013m.jpg'}}, {u'video': {u'rating': u'0.00', u'thumb': u'http://img02.redtubefiles.com/_thumbs/0000688/0688806/0688806_015m.jpg', u'ratings': u'0', u'url': u'http://www.redtube.com/688806', u'views': 3, u'video_id': u'688806', u'publish_date': u'2014-03-05 13:16:00', u'duration': u'33:30', u'title': u'Triple pussy', u'tags': [{u'tag_name': u'Group Sex'}], u'default_thumb': u'http://img02.redtubefiles.com/_thumbs/0000688/0688806/0688806_015m.jpg'}}, {u'video': {u'rating': u'0.00', u'thumb': u'http://img04.redtubefiles.com/_thumbs/0000688/0688797/0688797_015m.jpg', u'ratings': u'0', u'url': u'http://www.redtube.com/688797', u'views': 3, u'video_id': u'688797', u'publish_date': u'2014-03-05 13:15:55', u'duration': u'6:05', u'title': u'tossing salad - lick ass 2', u'tags': [{u'tag_name': u'Anal Sex'}, {u'tag_name': u'Big Ass'}, {u'tag_name': u'Couple'}, {u'tag_name': u'Fetish'}, {u'tag_name': u'Licking Vagina'}, {u'tag_name': u'Oral Sex'}, {u'tag_name': u'Swallow'}, {u'tag_name': u'Vaginal Sex'}], u'default_thumb': u'http://img04.redtubefiles.com/_thumbs/0000688/0688797/0688797_015m.jpg'}}, {u'video': {u'rating': u'0.00', u'thumb': u'http://img02.redtubefiles.com/_thumbs/0000688/0688805/0688805_015m.jpg', u'ratings': u'0', u'url': u'http://www.redtube.com/688805', u'views': 2, u'video_id': u'688805', u'publish_date': u'2014-03-05 13:15:39', u'duration': u'18:01', u'title': u'triple action', u'tags': [{u'tag_name': u'Group Sex'}], u'default_thumb': u'http://img02.redtubefiles.com/_thumbs/0000688/0688805/0688805_015m.jpg'}}, {u'video': {u'rating': u'0.00', u'thumb': u'http://img01.redtubefiles.com/_thumbs/0000688/0688796/0688796_015m.jpg', u'ratings': u'0', u'url': u'http://www.redtube.com/688796', u'views': 2, u'video_id': u'688796', u'publish_date': u'2014-03-05 13:15:31', u'duration': u'9:55', u'title': u'Homemade fuck with german blonde teen', u'tags': [{u'tag_name': u'Blonde'}, {u'tag_name': u'Blowjob'}, {u'tag_name': u'Couple'}, {u'tag_name': u'Oral Sex'}, {u'tag_name': u'Teen'}, {u'tag_name': u'Webcam'}], u'default_thumb': u'http://img01.redtubefiles.com/_thumbs/0000688/0688796/0688796_015m.jpg'}}, {u'video': {u'rating': u'0.00', u'thumb': u'http://img04.redtubefiles.com/_thumbs/0000688/0688795/0688795_015m.jpg', u'ratings': u'0', u'url': u'http://www.redtube.com/688795', u'views': 2, u'video_id': u'688795', u'publish_date': u'2014-03-05 13:14:58', u'duration': u'43:55', u'title': u'Schoolgirl- tight pussy', u'tags': [{u'tag_name': u'Couple'}], u'default_thumb': u'http://img04.redtubefiles.com/_thumbs/0000688/0688795/0688795_015m.jpg'}}, {u'video': {u'rating': u'0.00', u'thumb': u'http://img01.redtubefiles.com/_thumbs/0000688/0688790/0688790_015m.jpg', u'ratings': u'0', u'url': u'http://www.redtube.com/688790', u'views': 3, u'video_id': u'688790', u'publish_date': u'2014-03-05 13:13:55', u'duration': u'12:16', u'title': u'Fudendo a esposa na webcam', u'tags': [{u'tag_name': u'Amateur'}, {u'tag_name': u'Big Ass'}, {u'tag_name': u'Blonde'}, {u'tag_name': u'Couple'}, {u'tag_name': u'Webcam'}], u'default_thumb': u'http://img01.redtubefiles.com/_thumbs/0000688/0688790/0688790_015m.jpg'}}, {u'video': {u'rating': u'5.00', u'thumb': u'http://img01.redtubefiles.com/_thumbs/0000690/0690156/0690156_015m.jpg', u'ratings': u'1', u'url': u'http://www.redtube.com/690156', u'views': 9, u'video_id': u'690156', u'publish_date': u'2014-03-05 13:13:44', u'duration': u'7:07', u'title': u'Busted and made a cuckold', u'tags': [{u'tag_name': u'Blowjob'}, {u'tag_name': u'Brunette'}, {u'tag_name': u'Couple'}, {u'tag_name': u'Cum Shot'}, {u'tag_name': u'Licking Vagina'}, {u'tag_name': u'Masturbation'}, {u'tag_name': u'Oral Sex'}, {u'tag_name': u'Shaved'}, {u'tag_name': u'Teen'}, {u'tag_name': u'Vaginal Sex'}, {u'tag_name': u'Wanking'}], u'default_thumb': u'http://img01.redtubefiles.com/_thumbs/0000690/0690156/0690156_015m.jpg'}}, {u'video': {u'rating': u'0.00', u'thumb': u'http://img03.redtubefiles.com/_thumbs/0000688/0688786/0688786_015m.jpg', u'ratings': u'0', u'url': u'http://www.redtube.com/688786', u'views': 9, u'video_id': u'688786', u'publish_date': u'2014-03-05 13:13:17', u'duration': u'32:51', u'title': u'Gorgeous ex girlfriend cuminmouth', u'tags': [{u'tag_name': u'Bondage'}, {u'tag_name': u'Couple'}], u'default_thumb': u'http://img03.redtubefiles.com/_thumbs/0000688/0688786/0688786_015m.jpg'}}, {u'video': {u'rating': u'0.00', u'thumb': u'http://img02.redtubefiles.com/_thumbs/0000688/0688784/0688784_015m.jpg', u'ratings': u'0', u'url': u'http://www.redtube.com/688784', u'views': 3, u'video_id': u'688784', u'publish_date': u'2014-03-05 13:12:36', u'duration': u'15:05', u'title': u'Young amateur realsex', u'tags': [{u'tag_name': u'Solo Girl'}], u'default_thumb': u'http://img02.redtubefiles.com/_thumbs/0000688/0688784/0688784_015m.jpg'}}, {u'video': {u'rating': u'0.00', u'thumb': u'http://img04.redtubefiles.com/_thumbs/0000690/0690153/0690153_015m.jpg', u'ratings': u'0', u'url': u'http://www.redtube.com/690153', u'views': 18, u'video_id': u'690153', u'publish_date': u'2014-03-05 13:11:53', u'duration': u'10:16', u'title': u'Tight pussy babe fingering', u'tags': [{u'tag_name': u'Amateur'}, {u'tag_name': u'Anal Masturbation'}, {u'tag_name': u'Blowjob'}, {u'tag_name': u'Brunette'}, {u'tag_name': u'Caucasian'}, {u'tag_name': u'Masturbation'}, {u'tag_name': u'Oral Sex'}, {u'tag_name': u'Shaved'}, {u'tag_name': u'Solo Girl'}, {u'tag_name': u'Vaginal Masturbation'}, {u'tag_name': u'Webcam'}], u'default_thumb': u'http://img04.redtubefiles.com/_thumbs/0000690/0690153/0690153_015m.jpg'}}, {u'video': {u'rating': u'0.00', u'thumb': u'http://img01.redtubefiles.com/_thumbs/0000688/0688799/0688799_015m.jpg', u'ratings': u'0', u'url': u'http://www.redtube.com/688799', u'views': 8, u'video_id': u'688799', u'publish_date': u'2014-03-05 13:11:36', u'duration': u'5:07', u'title': u'Tori Black outdoor fucking', u'tags': [{u'tag_name': u'Blowjob'}, {u'tag_name': u'Brunette'}, {u'tag_name': u'Couple'}, {u'tag_name': u'Deepthroat'}, {u'tag_name': u'Handjob'}, {u'tag_name': u'Masturbation'}, {u'tag_name': u'Oral Sex'}, {u'tag_name': u'Outdoor'}, {u'tag_name': u'Small Tits'}], u'default_thumb': u'http://img01.redtubefiles.com/_thumbs/0000688/0688799/0688799_015m.jpg'}}, {u'video': {u'rating': u'0.00', u'thumb': u'http://img04.redtubefiles.com/_thumbs/0000688/0688777/0688777_015m.jpg', u'ratings': u'0', u'url': u'http://www.redtube.com/688777', u'views': 14, u'video_id': u'688777', u'publish_date': u'2014-03-05 13:10:52', u'duration': u'28:12', u'title': u'Sweet slut striptease', u'tags': [{u'tag_name': u'Couple'}], u'default_thumb': u'http://img04.redtubefiles.com/_thumbs/0000688/0688777/0688777_015m.jpg'}}, {u'video': {u'rating': u'0.00', u'thumb': u'http://img01.redtubefiles.com/_thumbs/0000690/0690151/0690151_015m.jpg', u'ratings': u'0', u'url': u'http://www.redtube.com/690151', u'views': 54, u'video_id': u'690151', u'publish_date': u'2014-03-05 13:10:48', u'duration': u'7:04', u'title': u'Hot sex with great orgasms', u'tags': [{u'tag_name': u'Amateur'}, {u'tag_name': u'Blowjob'}, {u'tag_name': u'Brunette'}, {u'tag_name': u'Couple'}, {u'tag_name': u'Cum Shot'}, {u'tag_name': u'Kissing'}, {u'tag_name': u'Oral Sex'}, {u'tag_name': u'Teen'}, {u'tag_name': u'Vaginal Sex'}], u'default_thumb': u'http://img01.redtubefiles.com/_thumbs/0000690/0690151/0690151_015m.jpg'}}, {u'video': {u'rating': u'0.00', u'thumb': u'http://img03.redtubefiles.com/_thumbs/0000688/0688794/0688794_015m.jpg', u'ratings': u'0', u'url': u'http://www.redtube.com/688794', u'views': 8, u'video_id': u'688794', u'publish_date': u'2014-03-05 13:10:47', u'duration': u'5:26', u'title': u'Sexy blonde babe gets horny getting her', u'tags': [{u'tag_name': u'Amateur'}, {u'tag_name': u'Lesbian'}], u'default_thumb': u'http://img03.redtubefiles.com/_thumbs/0000688/0688794/0688794_015m.jpg'}}, {u'video': {u'rating': u'0.00', u'thumb': u'http://img04.redtubefiles.com/_thumbs/0000688/0688773/0688773_015m.jpg', u'ratings': u'0', u'url': u'http://www.redtube.com/688773', u'views': 4, u'video_id': u'688773', u'publish_date': u'2014-03-05 13:10:05', u'duration': u'25:29', u'title': u'18 yearsold girlfriend oral', u'tags': [{u'tag_name': u'Group Sex'}, {u'tag_name': u'Stockings'}], u'default_thumb': u'http://img04.redtubefiles.com/_thumbs/0000688/0688773/0688773_015m.jpg'}}, {u'video': {u'rating': u'0.00', u'thumb': u'http://img04.redtubefiles.com/_thumbs/0000688/0688789/0688789_015m.jpg', u'ratings': u'0', u'url': u'http://www.redtube.com/688789', u'views': 34, u'video_id': u'688789', u'publish_date': u'2014-03-05 13:09:52', u'duration': u'4:00', u'title': u'kacey from behind', u'tags': [{u'tag_name': u'Big Tits'}, {u'tag_name': u'Blonde'}, {u'tag_name': u'Caucasian'}, {u'tag_name': u'Couple'}, {u'tag_name': u'Oral Sex'}, {u'tag_name': u'Secretary'}, {u'tag_name': u'Vaginal Sex'}], u'default_thumb': u'http://img04.redtubefiles.com/_thumbs/0000688/0688789/0688789_015m.jpg'}}]}\n"
       ]
      }
     ],
     "prompt_number": 12
    },
    {
     "cell_type": "markdown",
     "metadata": {},
     "source": [
      "Convert it into readable text that you can work with"
     ]
    },
    {
     "cell_type": "code",
     "collapsed": false,
     "input": [
      "for feed in loaPrn[u'videos']:\n",
      "    for entry in feed[u'video']:\n",
      "        print entry"
     ],
     "language": "python",
     "metadata": {},
     "outputs": [
      {
       "output_type": "stream",
       "stream": "stdout",
       "text": [
        "rating\n",
        "thumb\n",
        "ratings\n",
        "url\n",
        "views\n",
        "video_id\n",
        "publish_date\n",
        "duration\n",
        "title\n",
        "tags\n",
        "default_thumb\n",
        "rating\n",
        "thumb\n",
        "ratings\n",
        "url\n",
        "views\n",
        "video_id\n",
        "publish_date\n",
        "stars\n",
        "duration\n",
        "title\n",
        "tags\n",
        "default_thumb\n",
        "rating\n",
        "thumb\n",
        "ratings\n",
        "url\n",
        "views\n",
        "video_id\n",
        "publish_date\n",
        "stars\n",
        "duration\n",
        "title\n",
        "tags\n",
        "default_thumb\n",
        "rating\n",
        "thumb\n",
        "ratings\n",
        "url\n",
        "views\n",
        "video_id\n",
        "publish_date\n",
        "stars\n",
        "duration\n",
        "title\n",
        "tags\n",
        "default_thumb\n",
        "rating\n",
        "thumb\n",
        "ratings\n",
        "url\n",
        "views\n",
        "video_id\n",
        "publish_date\n",
        "duration\n",
        "title\n",
        "tags\n",
        "default_thumb\n",
        "rating\n",
        "thumb\n",
        "ratings\n",
        "url\n",
        "views\n",
        "video_id\n",
        "publish_date\n",
        "duration\n",
        "title\n",
        "tags\n",
        "default_thumb\n",
        "rating\n",
        "thumb\n",
        "ratings\n",
        "url\n",
        "views\n",
        "video_id\n",
        "publish_date\n",
        "duration\n",
        "title\n",
        "tags\n",
        "default_thumb\n",
        "rating\n",
        "thumb\n",
        "ratings\n",
        "url\n",
        "views\n",
        "video_id\n",
        "publish_date\n",
        "duration\n",
        "title\n",
        "tags\n",
        "default_thumb\n",
        "rating\n",
        "thumb\n",
        "ratings\n",
        "url\n",
        "views\n",
        "video_id\n",
        "publish_date\n",
        "duration\n",
        "title\n",
        "tags\n",
        "default_thumb\n",
        "rating\n",
        "thumb\n",
        "ratings\n",
        "url\n",
        "views\n",
        "video_id\n",
        "publish_date\n",
        "duration\n",
        "title\n",
        "tags\n",
        "default_thumb\n",
        "rating\n",
        "thumb\n",
        "ratings\n",
        "url\n",
        "views\n",
        "video_id\n",
        "publish_date\n",
        "duration\n",
        "title\n",
        "tags\n",
        "default_thumb\n",
        "rating\n",
        "thumb\n",
        "ratings\n",
        "url\n",
        "views\n",
        "video_id\n",
        "publish_date\n",
        "duration\n",
        "title\n",
        "tags\n",
        "default_thumb\n",
        "rating\n",
        "thumb\n",
        "ratings\n",
        "url\n",
        "views\n",
        "video_id\n",
        "publish_date\n",
        "duration\n",
        "title\n",
        "tags\n",
        "default_thumb\n",
        "rating\n",
        "thumb\n",
        "ratings\n",
        "url\n",
        "views\n",
        "video_id\n",
        "publish_date\n",
        "duration\n",
        "title\n",
        "tags\n",
        "default_thumb\n",
        "rating\n",
        "thumb\n",
        "ratings\n",
        "url\n",
        "views\n",
        "video_id\n",
        "publish_date\n",
        "duration\n",
        "title\n",
        "tags\n",
        "default_thumb\n",
        "rating\n",
        "thumb\n",
        "ratings\n",
        "url\n",
        "views\n",
        "video_id\n",
        "publish_date\n",
        "duration\n",
        "title\n",
        "tags\n",
        "default_thumb\n",
        "rating\n",
        "thumb\n",
        "ratings\n",
        "url\n",
        "views\n",
        "video_id\n",
        "publish_date\n",
        "duration\n",
        "title\n",
        "tags\n",
        "default_thumb\n",
        "rating\n",
        "thumb\n",
        "ratings\n",
        "url\n",
        "views\n",
        "video_id\n",
        "publish_date\n",
        "duration\n",
        "title\n",
        "tags\n",
        "default_thumb\n",
        "rating\n",
        "thumb\n",
        "ratings\n",
        "url\n",
        "views\n",
        "video_id\n",
        "publish_date\n",
        "duration\n",
        "title\n",
        "tags\n",
        "default_thumb\n",
        "rating\n",
        "thumb\n",
        "ratings\n",
        "url\n",
        "views\n",
        "video_id\n",
        "publish_date\n",
        "duration\n",
        "title\n",
        "tags\n",
        "default_thumb\n"
       ]
      }
     ],
     "prompt_number": 13
    },
    {
     "cell_type": "code",
     "collapsed": false,
     "input": [
      "for nums in range(20):\n",
      "    naoPrn = loaPrn[u'videos'][nums]\n",
      "    #print naoPrn\n",
      "    \n",
      "    ngePrn = naoPrn[u'video']\n",
      "    #print ngePrn\n",
      "    urlPrn = ngePrn[u'url']\n",
      "    print urlPrn"
     ],
     "language": "python",
     "metadata": {},
     "outputs": [
      {
       "output_type": "stream",
       "stream": "stdout",
       "text": [
        "http://www.redtube.com/690185\n",
        "http://www.redtube.com/688810\n",
        "http://www.redtube.com/688815\n",
        "http://www.redtube.com/567602\n",
        "http://www.redtube.com/688806\n",
        "http://www.redtube.com/688797\n",
        "http://www.redtube.com/688805\n",
        "http://www.redtube.com/688796\n",
        "http://www.redtube.com/688795\n",
        "http://www.redtube.com/688790\n",
        "http://www.redtube.com/690156\n",
        "http://www.redtube.com/688786\n",
        "http://www.redtube.com/688784\n",
        "http://www.redtube.com/690153\n",
        "http://www.redtube.com/688799\n",
        "http://www.redtube.com/688777\n",
        "http://www.redtube.com/690151\n",
        "http://www.redtube.com/688794\n",
        "http://www.redtube.com/688773\n",
        "http://www.redtube.com/688789\n"
       ]
      }
     ],
     "prompt_number": 63
    },
    {
     "cell_type": "code",
     "collapsed": false,
     "input": [],
     "language": "python",
     "metadata": {},
     "outputs": [],
     "prompt_number": 53
    },
    {
     "cell_type": "code",
     "collapsed": false,
     "input": [
      "naoPrn = loaPrn[u'videos'][5]\n",
      "print naoPrn"
     ],
     "language": "python",
     "metadata": {},
     "outputs": [
      {
       "output_type": "stream",
       "stream": "stdout",
       "text": [
        "{u'video': {u'rating': u'0.00', u'thumb': u'http://img04.redtubefiles.com/_thumbs/0000688/0688797/0688797_015m.jpg', u'ratings': u'0', u'url': u'http://www.redtube.com/688797', u'views': 3, u'video_id': u'688797', u'publish_date': u'2014-03-05 13:15:55', u'duration': u'6:05', u'title': u'tossing salad - lick ass 2', u'tags': [{u'tag_name': u'Anal Sex'}, {u'tag_name': u'Big Ass'}, {u'tag_name': u'Couple'}, {u'tag_name': u'Fetish'}, {u'tag_name': u'Licking Vagina'}, {u'tag_name': u'Oral Sex'}, {u'tag_name': u'Swallow'}, {u'tag_name': u'Vaginal Sex'}], u'default_thumb': u'http://img04.redtubefiles.com/_thumbs/0000688/0688797/0688797_015m.jpg'}}\n"
       ]
      }
     ],
     "prompt_number": 54
    },
    {
     "cell_type": "markdown",
     "metadata": {},
     "source": [
      "Compress down - look at first element of json object. You could cycle through older elements\n",
      "by increasing the int"
     ]
    },
    {
     "cell_type": "code",
     "collapsed": false,
     "input": [
      "ngePrn = naoPrn[u'video']\n",
      "print ngePrn"
     ],
     "language": "python",
     "metadata": {},
     "outputs": [
      {
       "output_type": "stream",
       "stream": "stdout",
       "text": [
        "{u'rating': u'0.00', u'thumb': u'http://img04.redtubefiles.com/_thumbs/0000688/0688797/0688797_015m.jpg', u'ratings': u'0', u'url': u'http://www.redtube.com/688797', u'views': 3, u'video_id': u'688797', u'publish_date': u'2014-03-05 13:15:55', u'duration': u'6:05', u'title': u'tossing salad - lick ass 2', u'tags': [{u'tag_name': u'Anal Sex'}, {u'tag_name': u'Big Ass'}, {u'tag_name': u'Couple'}, {u'tag_name': u'Fetish'}, {u'tag_name': u'Licking Vagina'}, {u'tag_name': u'Oral Sex'}, {u'tag_name': u'Swallow'}, {u'tag_name': u'Vaginal Sex'}], u'default_thumb': u'http://img04.redtubefiles.com/_thumbs/0000688/0688797/0688797_015m.jpg'}\n"
       ]
      }
     ],
     "prompt_number": 16
    },
    {
     "cell_type": "markdown",
     "metadata": {},
     "source": [
      "Compress down again - this time video. It's always a bit of a trial and error to figure out\n",
      "navagating json objects, IPython is perfect for this. "
     ]
    },
    {
     "cell_type": "heading",
     "level": 2,
     "metadata": {},
     "source": [
      "Individual Data!"
     ]
    },
    {
     "cell_type": "markdown",
     "metadata": {},
     "source": [
      "This could be imporoved by turning the following unicode into a list and get the program\n",
      "to cycle though - saving off each element. Maybe save to a list?"
     ]
    },
    {
     "cell_type": "code",
     "collapsed": false,
     "input": [
      "ratPrn = ngePrn[u'title']"
     ],
     "language": "python",
     "metadata": {},
     "outputs": [],
     "prompt_number": 55
    },
    {
     "cell_type": "code",
     "collapsed": false,
     "input": [
      "for k in naoPrn:\n",
      "    print k"
     ],
     "language": "python",
     "metadata": {},
     "outputs": [
      {
       "output_type": "stream",
       "stream": "stdout",
       "text": [
        "video\n"
       ]
      }
     ],
     "prompt_number": 56
    },
    {
     "cell_type": "code",
     "collapsed": false,
     "input": [
      "from PIL import Image"
     ],
     "language": "python",
     "metadata": {},
     "outputs": [],
     "prompt_number": 57
    },
    {
     "cell_type": "code",
     "collapsed": false,
     "input": [
      "im = Image.open('ratPrn')"
     ],
     "language": "python",
     "metadata": {},
     "outputs": [
      {
       "ename": "IOError",
       "evalue": "[Errno 2] No such file or directory: 'ratPrn'",
       "output_type": "pyerr",
       "traceback": [
        "\u001b[1;31m---------------------------------------------------------------------------\u001b[0m\n\u001b[1;31mIOError\u001b[0m                                   Traceback (most recent call last)",
        "\u001b[1;32m<ipython-input-58-87bb26467892>\u001b[0m in \u001b[0;36m<module>\u001b[1;34m()\u001b[0m\n\u001b[1;32m----> 1\u001b[1;33m \u001b[0mim\u001b[0m \u001b[1;33m=\u001b[0m \u001b[0mImage\u001b[0m\u001b[1;33m.\u001b[0m\u001b[0mopen\u001b[0m\u001b[1;33m(\u001b[0m\u001b[1;34m'ratPrn'\u001b[0m\u001b[1;33m)\u001b[0m\u001b[1;33m\u001b[0m\u001b[0m\n\u001b[0m",
        "\u001b[1;32m/usr/lib/python2.7/site-packages/PIL/Image.pyc\u001b[0m in \u001b[0;36mopen\u001b[1;34m(fp, mode)\u001b[0m\n\u001b[0;32m   1973\u001b[0m     \u001b[1;32mif\u001b[0m \u001b[0misPath\u001b[0m\u001b[1;33m(\u001b[0m\u001b[0mfp\u001b[0m\u001b[1;33m)\u001b[0m\u001b[1;33m:\u001b[0m\u001b[1;33m\u001b[0m\u001b[0m\n\u001b[0;32m   1974\u001b[0m         \u001b[0mfilename\u001b[0m \u001b[1;33m=\u001b[0m \u001b[0mfp\u001b[0m\u001b[1;33m\u001b[0m\u001b[0m\n\u001b[1;32m-> 1975\u001b[1;33m         \u001b[0mfp\u001b[0m \u001b[1;33m=\u001b[0m \u001b[0mbuiltins\u001b[0m\u001b[1;33m.\u001b[0m\u001b[0mopen\u001b[0m\u001b[1;33m(\u001b[0m\u001b[0mfp\u001b[0m\u001b[1;33m,\u001b[0m \u001b[1;34m\"rb\"\u001b[0m\u001b[1;33m)\u001b[0m\u001b[1;33m\u001b[0m\u001b[0m\n\u001b[0m\u001b[0;32m   1976\u001b[0m     \u001b[1;32melse\u001b[0m\u001b[1;33m:\u001b[0m\u001b[1;33m\u001b[0m\u001b[0m\n\u001b[0;32m   1977\u001b[0m         \u001b[0mfilename\u001b[0m \u001b[1;33m=\u001b[0m \u001b[1;34m\"\"\u001b[0m\u001b[1;33m\u001b[0m\u001b[0m\n",
        "\u001b[1;31mIOError\u001b[0m: [Errno 2] No such file or directory: 'ratPrn'"
       ]
      }
     ],
     "prompt_number": 58
    },
    {
     "cell_type": "code",
     "collapsed": false,
     "input": [
      "thumPrn = ratPrn[u'thumb']"
     ],
     "language": "python",
     "metadata": {},
     "outputs": [
      {
       "ename": "TypeError",
       "evalue": "string indices must be integers",
       "output_type": "pyerr",
       "traceback": [
        "\u001b[1;31m---------------------------------------------------------------------------\u001b[0m\n\u001b[1;31mTypeError\u001b[0m                                 Traceback (most recent call last)",
        "\u001b[1;32m<ipython-input-59-6deebaa3e6c8>\u001b[0m in \u001b[0;36m<module>\u001b[1;34m()\u001b[0m\n\u001b[1;32m----> 1\u001b[1;33m \u001b[0mthumPrn\u001b[0m \u001b[1;33m=\u001b[0m \u001b[0mratPrn\u001b[0m\u001b[1;33m[\u001b[0m\u001b[1;34mu'thumb'\u001b[0m\u001b[1;33m]\u001b[0m\u001b[1;33m\u001b[0m\u001b[0m\n\u001b[0m",
        "\u001b[1;31mTypeError\u001b[0m: string indices must be integers"
       ]
      }
     ],
     "prompt_number": 59
    },
    {
     "cell_type": "code",
     "collapsed": false,
     "input": [
      "print thumPrn"
     ],
     "language": "python",
     "metadata": {},
     "outputs": [
      {
       "ename": "NameError",
       "evalue": "name 'thumPrn' is not defined",
       "output_type": "pyerr",
       "traceback": [
        "\u001b[1;31m---------------------------------------------------------------------------\u001b[0m\n\u001b[1;31mNameError\u001b[0m                                 Traceback (most recent call last)",
        "\u001b[1;32m<ipython-input-60-cdc52c814fc5>\u001b[0m in \u001b[0;36m<module>\u001b[1;34m()\u001b[0m\n\u001b[1;32m----> 1\u001b[1;33m \u001b[1;32mprint\u001b[0m \u001b[0mthumPrn\u001b[0m\u001b[1;33m\u001b[0m\u001b[0m\n\u001b[0m",
        "\u001b[1;31mNameError\u001b[0m: name 'thumPrn' is not defined"
       ]
      }
     ],
     "prompt_number": 60
    },
    {
     "cell_type": "code",
     "collapsed": false,
     "input": [
      "ratPrn = ngePrn[u'ratings']\n",
      "print ratPrn"
     ],
     "language": "python",
     "metadata": {},
     "outputs": [
      {
       "output_type": "stream",
       "stream": "stdout",
       "text": [
        "0\n"
       ]
      }
     ],
     "prompt_number": 61
    },
    {
     "cell_type": "code",
     "collapsed": false,
     "input": [
      "urlPrn = ngePrn[u'url']\n",
      "print urlPrn"
     ],
     "language": "python",
     "metadata": {},
     "outputs": [
      {
       "output_type": "stream",
       "stream": "stdout",
       "text": [
        "http://www.redtube.com/688797\n"
       ]
      }
     ],
     "prompt_number": 62
    },
    {
     "cell_type": "code",
     "collapsed": false,
     "input": [
      "viwPrn = ngePrn[u'views']\n",
      "print viwPrn"
     ],
     "language": "python",
     "metadata": {},
     "outputs": [
      {
       "output_type": "stream",
       "stream": "stdout",
       "text": [
        "178927\n"
       ]
      }
     ],
     "prompt_number": 19
    },
    {
     "cell_type": "code",
     "collapsed": false,
     "input": [
      "idPrn = ngePrn[u'video_id']\n",
      "print idPrn"
     ],
     "language": "python",
     "metadata": {},
     "outputs": [
      {
       "output_type": "stream",
       "stream": "stdout",
       "text": [
        "398052\n"
       ]
      }
     ],
     "prompt_number": 20
    },
    {
     "cell_type": "code",
     "collapsed": false,
     "input": [
      "pdaPrn = ngePrn[u'publish_date']\n",
      "print pdaPrn"
     ],
     "language": "python",
     "metadata": {},
     "outputs": [
      {
       "output_type": "stream",
       "stream": "stdout",
       "text": [
        "2014-03-04 00:18:01\n"
       ]
      }
     ],
     "prompt_number": 21
    },
    {
     "cell_type": "code",
     "collapsed": false,
     "input": [
      "timPrn = ngePrn[u'duration']\n",
      "print timPrn"
     ],
     "language": "python",
     "metadata": {},
     "outputs": [
      {
       "output_type": "stream",
       "stream": "stdout",
       "text": [
        "17:03\n"
       ]
      }
     ],
     "prompt_number": 22
    },
    {
     "cell_type": "code",
     "collapsed": false,
     "input": [
      "titPrn = ngePrn[u'title']\n",
      "print titPrn"
     ],
     "language": "python",
     "metadata": {},
     "outputs": [
      {
       "output_type": "stream",
       "stream": "stdout",
       "text": [
        "April Flowers stockings fingering\n"
       ]
      }
     ],
     "prompt_number": 23
    },
    {
     "cell_type": "code",
     "collapsed": false,
     "input": [
      "tagPrn = ngePrn[u'tags']\n",
      "print tagPrn"
     ],
     "language": "python",
     "metadata": {},
     "outputs": [
      {
       "output_type": "stream",
       "stream": "stdout",
       "text": [
        "[{u'tag_name': u'Brunette'}, {u'tag_name': u'Caucasian'}, {u'tag_name': u'High Heels'}, {u'tag_name': u'Lingerie'}, {u'tag_name': u'Masturbation'}, {u'tag_name': u'Solo Girl'}, {u'tag_name': u'Vaginal Masturbation'}]\n"
       ]
      }
     ],
     "prompt_number": 24
    },
    {
     "cell_type": "code",
     "collapsed": false,
     "input": [
      "derbPrn = (tagPrn, 'tag_name')\n",
      "print derbPrn"
     ],
     "language": "python",
     "metadata": {},
     "outputs": [
      {
       "output_type": "stream",
       "stream": "stdout",
       "text": [
        "([{u'tag_name': u'Brunette'}, {u'tag_name': u'Caucasian'}, {u'tag_name': u'High Heels'}, {u'tag_name': u'Lingerie'}, {u'tag_name': u'Masturbation'}, {u'tag_name': u'Solo Girl'}, {u'tag_name': u'Vaginal Masturbation'}], 'tag_name')\n"
       ]
      }
     ],
     "prompt_number": 25
    },
    {
     "cell_type": "code",
     "collapsed": false,
     "input": [
      "thNum = 0\n",
      "taTrn = tagPrn[thNum]\n",
      "print taTrn\n",
      "thNum + 1"
     ],
     "language": "python",
     "metadata": {},
     "outputs": [
      {
       "output_type": "stream",
       "stream": "stdout",
       "text": [
        "{u'tag_name': u'Brunette'}\n"
       ]
      },
      {
       "output_type": "pyout",
       "prompt_number": 26,
       "text": [
        "1"
       ]
      }
     ],
     "prompt_number": 26
    },
    {
     "cell_type": "markdown",
     "metadata": {},
     "source": [
      "TODO: Cycle the list and print all tags"
     ]
    },
    {
     "cell_type": "code",
     "collapsed": false,
     "input": [
      "naTrn = taTrn['tag_name']\n",
      "print naTrn"
     ],
     "language": "python",
     "metadata": {},
     "outputs": [
      {
       "output_type": "stream",
       "stream": "stdout",
       "text": [
        "Brunette\n"
       ]
      }
     ],
     "prompt_number": 27
    },
    {
     "cell_type": "code",
     "collapsed": false,
     "input": [
      "demHub = (titlHub, titPrn, naTrn, urlPrn, pdaPrn, thumPrn, imgHub, linHub)"
     ],
     "language": "python",
     "metadata": {},
     "outputs": [
      {
       "ename": "NameError",
       "evalue": "name 'titlHub' is not defined",
       "output_type": "pyerr",
       "traceback": [
        "\u001b[0;31m---------------------------------------------------------------------------\u001b[0m\n\u001b[0;31mNameError\u001b[0m                                 Traceback (most recent call last)",
        "\u001b[0;32m<ipython-input-28-92c00aef343e>\u001b[0m in \u001b[0;36m<module>\u001b[0;34m()\u001b[0m\n\u001b[0;32m----> 1\u001b[0;31m \u001b[0mdemHub\u001b[0m \u001b[0;34m=\u001b[0m \u001b[0;34m(\u001b[0m\u001b[0mtitlHub\u001b[0m\u001b[0;34m,\u001b[0m \u001b[0mtitPrn\u001b[0m\u001b[0;34m,\u001b[0m \u001b[0mnaTrn\u001b[0m\u001b[0;34m,\u001b[0m \u001b[0murlPrn\u001b[0m\u001b[0;34m,\u001b[0m \u001b[0mpdaPrn\u001b[0m\u001b[0;34m,\u001b[0m \u001b[0mthumPrn\u001b[0m\u001b[0;34m,\u001b[0m \u001b[0mimgHub\u001b[0m\u001b[0;34m,\u001b[0m \u001b[0mlinHub\u001b[0m\u001b[0;34m)\u001b[0m\u001b[0;34m\u001b[0m\u001b[0m\n\u001b[0m",
        "\u001b[0;31mNameError\u001b[0m: name 'titlHub' is not defined"
       ]
      }
     ],
     "prompt_number": 28
    },
    {
     "cell_type": "code",
     "collapsed": false,
     "input": [
      "print demHub"
     ],
     "language": "python",
     "metadata": {},
     "outputs": [
      {
       "ename": "NameError",
       "evalue": "name 'demHub' is not defined",
       "output_type": "pyerr",
       "traceback": [
        "\u001b[0;31m---------------------------------------------------------------------------\u001b[0m\n\u001b[0;31mNameError\u001b[0m                                 Traceback (most recent call last)",
        "\u001b[0;32m<ipython-input-29-6eb63e43e38f>\u001b[0m in \u001b[0;36m<module>\u001b[0;34m()\u001b[0m\n\u001b[0;32m----> 1\u001b[0;31m \u001b[0;32mprint\u001b[0m \u001b[0mdemHub\u001b[0m\u001b[0;34m\u001b[0m\u001b[0m\n\u001b[0m",
        "\u001b[0;31mNameError\u001b[0m: name 'demHub' is not defined"
       ]
      }
     ],
     "prompt_number": 29
    },
    {
     "cell_type": "heading",
     "level": 2,
     "metadata": {},
     "source": [
      "Saving Data"
     ]
    },
    {
     "cell_type": "markdown",
     "metadata": {},
     "source": []
    },
    {
     "cell_type": "code",
     "collapsed": false,
     "input": [
      "savPrn = open('savPrn','w')\n",
      "savPrn.write('<h3 style=\"text-align: center;\"><a href=\"' + urlPrn + '\">')\n",
      "savPrn.write(titPrn + '</a></h3>')\n",
      "savPrn.write('<p style=\"text-align: right;\">' + pdaPrn)\n",
      "savPrn.write('</a></h3><img class=\"aligncenter\" alt=\"null\" src=\"' + thumPrn)\n",
      "savPrn.write('\" />')\n",
      "savPrn.close()"
     ],
     "language": "python",
     "metadata": {},
     "outputs": [
      {
       "ename": "NameError",
       "evalue": "name 'thumPrn' is not defined",
       "output_type": "pyerr",
       "traceback": [
        "\u001b[0;31m---------------------------------------------------------------------------\u001b[0m\n\u001b[0;31mNameError\u001b[0m                                 Traceback (most recent call last)",
        "\u001b[0;32m<ipython-input-30-a9276e043280>\u001b[0m in \u001b[0;36m<module>\u001b[0;34m()\u001b[0m\n\u001b[1;32m      3\u001b[0m \u001b[0msavPrn\u001b[0m\u001b[0;34m.\u001b[0m\u001b[0mwrite\u001b[0m\u001b[0;34m(\u001b[0m\u001b[0mtitPrn\u001b[0m \u001b[0;34m+\u001b[0m \u001b[0;34m'</a></h3>'\u001b[0m\u001b[0;34m)\u001b[0m\u001b[0;34m\u001b[0m\u001b[0m\n\u001b[1;32m      4\u001b[0m \u001b[0msavPrn\u001b[0m\u001b[0;34m.\u001b[0m\u001b[0mwrite\u001b[0m\u001b[0;34m(\u001b[0m\u001b[0;34m'<p style=\"text-align: right;\">'\u001b[0m \u001b[0;34m+\u001b[0m \u001b[0mpdaPrn\u001b[0m\u001b[0;34m)\u001b[0m\u001b[0;34m\u001b[0m\u001b[0m\n\u001b[0;32m----> 5\u001b[0;31m \u001b[0msavPrn\u001b[0m\u001b[0;34m.\u001b[0m\u001b[0mwrite\u001b[0m\u001b[0;34m(\u001b[0m\u001b[0;34m'</a></h3><img class=\"aligncenter\" alt=\"null\" src=\"'\u001b[0m \u001b[0;34m+\u001b[0m \u001b[0mthumPrn\u001b[0m\u001b[0;34m)\u001b[0m\u001b[0;34m\u001b[0m\u001b[0m\n\u001b[0m\u001b[1;32m      6\u001b[0m \u001b[0msavPrn\u001b[0m\u001b[0;34m.\u001b[0m\u001b[0mwrite\u001b[0m\u001b[0;34m(\u001b[0m\u001b[0;34m'\" />'\u001b[0m\u001b[0;34m)\u001b[0m\u001b[0;34m\u001b[0m\u001b[0m\n\u001b[1;32m      7\u001b[0m \u001b[0msavPrn\u001b[0m\u001b[0;34m.\u001b[0m\u001b[0mclose\u001b[0m\u001b[0;34m(\u001b[0m\u001b[0;34m)\u001b[0m\u001b[0;34m\u001b[0m\u001b[0m\n",
        "\u001b[0;31mNameError\u001b[0m: name 'thumPrn' is not defined"
       ]
      }
     ],
     "prompt_number": 30
    },
    {
     "cell_type": "code",
     "collapsed": false,
     "input": [
      "savTub"
     ],
     "language": "python",
     "metadata": {},
     "outputs": [
      {
       "ename": "NameError",
       "evalue": "name 'savTub' is not defined",
       "output_type": "pyerr",
       "traceback": [
        "\u001b[0;31m---------------------------------------------------------------------------\u001b[0m\n\u001b[0;31mNameError\u001b[0m                                 Traceback (most recent call last)",
        "\u001b[0;32m<ipython-input-31-cc9a9cacfd90>\u001b[0m in \u001b[0;36m<module>\u001b[0;34m()\u001b[0m\n\u001b[0;32m----> 1\u001b[0;31m \u001b[0msavTub\u001b[0m\u001b[0;34m\u001b[0m\u001b[0m\n\u001b[0m",
        "\u001b[0;31mNameError\u001b[0m: name 'savTub' is not defined"
       ]
      }
     ],
     "prompt_number": 31
    },
    {
     "cell_type": "code",
     "collapsed": false,
     "input": [
      "ls"
     ],
     "language": "python",
     "metadata": {},
     "outputs": [
      {
       "output_type": "stream",
       "stream": "stdout",
       "text": [
        "LICENSE           linkz          savPrn        \u001b[0m\u001b[01;34mwww.tlcstudents.ac.nz\u001b[0m/\r\n",
        "README.md         myfile.txt     tlc.ipynb\r\n",
        "artcontrol.ipynb  redTube.ipynb  tpb.ipynb\r\n",
        "home.html         result         uploads.html\r\n"
       ]
      }
     ],
     "prompt_number": 32
    },
    {
     "cell_type": "code",
     "collapsed": false,
     "input": [
      "opPrn = open('savPrn','r')\n",
      "for op in opPrn:\n",
      "    print op"
     ],
     "language": "python",
     "metadata": {},
     "outputs": [],
     "prompt_number": 33
    },
    {
     "cell_type": "code",
     "collapsed": false,
     "input": [],
     "language": "python",
     "metadata": {},
     "outputs": [],
     "prompt_number": 36
    },
    {
     "cell_type": "heading",
     "level": 1,
     "metadata": {},
     "source": [
      "PornHub"
     ]
    },
    {
     "cell_type": "code",
     "collapsed": false,
     "input": [
      "import feedparser"
     ],
     "language": "python",
     "metadata": {},
     "outputs": [],
     "prompt_number": 17
    },
    {
     "cell_type": "code",
     "collapsed": false,
     "input": [
      "urlHub = feedparser.parse('http://www.pornhub.com/video/webmasterss')"
     ],
     "language": "python",
     "metadata": {},
     "outputs": [],
     "prompt_number": 18
    },
    {
     "cell_type": "code",
     "collapsed": false,
     "input": [
      "urlHub['feed']['title']"
     ],
     "language": "python",
     "metadata": {},
     "outputs": [
      {
       "output_type": "pyout",
       "prompt_number": 19,
       "text": [
        "u'Pornhub - RSS Video Feed'"
       ]
      }
     ],
     "prompt_number": 19
    },
    {
     "cell_type": "code",
     "collapsed": false,
     "input": [
      "tlinHub = urlHub['feed']['link']"
     ],
     "language": "python",
     "metadata": {},
     "outputs": [],
     "prompt_number": 20
    },
    {
     "cell_type": "code",
     "collapsed": false,
     "input": [
      "pubHub = urlHub['feed']['published']"
     ],
     "language": "python",
     "metadata": {},
     "outputs": [],
     "prompt_number": 21
    },
    {
     "cell_type": "code",
     "collapsed": false,
     "input": [
      "linHub = urlHub.entries[0].link"
     ],
     "language": "python",
     "metadata": {},
     "outputs": [],
     "prompt_number": 22
    },
    {
     "cell_type": "code",
     "collapsed": false,
     "input": [
      "titlHub = urlHub.entries[0].title"
     ],
     "language": "python",
     "metadata": {},
     "outputs": [],
     "prompt_number": 23
    },
    {
     "cell_type": "code",
     "collapsed": false,
     "input": [
      "imgHub = urlHub.entries[0].thumb_large"
     ],
     "language": "python",
     "metadata": {},
     "outputs": [],
     "prompt_number": 24
    },
    {
     "cell_type": "code",
     "collapsed": false,
     "input": [
      "urlHub.entries[0]"
     ],
     "language": "python",
     "metadata": {},
     "outputs": [
      {
       "output_type": "pyout",
       "prompt_number": 25,
       "text": [
        "{'duration': u'304',\n",
        " 'embed': u'<iframe src=\"http://www.pornhub.com/embed/2061171094\" frameborder=\"0\" width=\"608\" height=\"468\" scrolling=\"no\"><a href=\"http://www.pornhub.com/view_video.php?viewkey=2061171094\">She rides his hard dick and lets him fuck her</a></iframe>',\n",
        " 'link': u'http://www.pornhub.com/view_video.php?viewkey=2061171094',\n",
        " 'links': [{'href': u'http://www.pornhub.com/view_video.php?viewkey=2061171094',\n",
        "   'rel': u'alternate',\n",
        "   'type': u'text/html'}],\n",
        " 'published': u'Wed, 05 Mar 2014 07:12:21 -0500',\n",
        " 'published_parsed': time.struct_time(tm_year=2014, tm_mon=3, tm_mday=5, tm_hour=12, tm_min=12, tm_sec=21, tm_wday=2, tm_yday=64, tm_isdst=0),\n",
        " 'thumb': u'http://thumb1.cdn1a.image.pornhub.phncdn.com/videos/201309/24/17767201/180x135/6.jpg',\n",
        " 'thumb_large': u'http://thumb1.cdn1a.image.pornhub.phncdn.com/videos/201309/24/17767201/320x240/6.jpg',\n",
        " 'title': u'She rides his hard dick and lets him fuck her',\n",
        " 'title_detail': {'base': u'http://www.pornhub.com/video/webmasterss',\n",
        "  'language': None,\n",
        "  'type': u'text/plain',\n",
        "  'value': u'She rides his hard dick and lets him fuck her'}}"
       ]
      }
     ],
     "prompt_number": 25
    },
    {
     "cell_type": "code",
     "collapsed": false,
     "input": [
      "for daHub, da in enumerate([titlHub, linHub, pubHub, imgHub]):\n",
      "    print daHub, da"
     ],
     "language": "python",
     "metadata": {},
     "outputs": [
      {
       "output_type": "stream",
       "stream": "stdout",
       "text": [
        "0 Lilian Lee interracial\n",
        "1 http://www.pornhub.com/view_video.php?viewkey=1174256645\n",
        "2 Mon, 03 Feb 2014 09:10:32 -0500\n",
        "3 http://thumb6.cdn1a.image.pornhub.phncdn.com/videos/201001/02/1014746/320x240/13.jpg\n"
       ]
      }
     ],
     "prompt_number": 43
    },
    {
     "cell_type": "code",
     "collapsed": false,
     "input": [],
     "language": "python",
     "metadata": {},
     "outputs": [],
     "prompt_number": 43
    },
    {
     "cell_type": "code",
     "collapsed": false,
     "input": [],
     "language": "python",
     "metadata": {},
     "outputs": [],
     "prompt_number": 43
    },
    {
     "cell_type": "code",
     "collapsed": false,
     "input": [],
     "language": "python",
     "metadata": {},
     "outputs": []
    }
   ],
   "metadata": {}
  }
 ]
}