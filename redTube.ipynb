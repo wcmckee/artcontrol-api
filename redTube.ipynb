{
 "metadata": {
  "name": "redTube"
 },
 "nbformat": 3,
 "nbformat_minor": 0,
 "worksheets": [
  {
   "cells": [
    {
     "cell_type": "heading",
     "level": 1,
     "metadata": {},
     "source": "RedTube json Python"
    },
    {
     "cell_type": "markdown",
     "metadata": {},
     "source": "'''\ncopyright 2013 WCMCKEE\napi@wcmckee.com\n'''"
    },
    {
     "cell_type": "code",
     "collapsed": false,
     "input": "",
     "language": "python",
     "metadata": {},
     "outputs": [],
     "prompt_number": 9
    },
    {
     "cell_type": "code",
     "collapsed": false,
     "input": "",
     "language": "python",
     "metadata": {},
     "outputs": [],
     "prompt_number": 9
    },
    {
     "cell_type": "code",
     "collapsed": false,
     "input": "import requests\nimport json\nimport random",
     "language": "python",
     "metadata": {},
     "outputs": [],
     "prompt_number": 10
    },
    {
     "cell_type": "markdown",
     "metadata": {},
     "source": "Requests and json are the two main modules used for this. Random can also be handy"
    },
    {
     "cell_type": "code",
     "collapsed": false,
     "input": "getPrn = requests.get('http://api.redtube.com/?output=json&data=redtube.Videos.searchVideos&page=1')",
     "language": "python",
     "metadata": {},
     "outputs": [],
     "prompt_number": 11
    },
    {
     "cell_type": "markdown",
     "metadata": {},
     "source": "Simple requests command to get the json object. This could be any json object - not just RedTube"
    },
    {
     "cell_type": "code",
     "collapsed": false,
     "input": "loaPrn = json.loads(getPrn.text)\n#print loaUrl",
     "language": "python",
     "metadata": {},
     "outputs": [],
     "prompt_number": 12
    },
    {
     "cell_type": "markdown",
     "metadata": {},
     "source": "Convert it into readable text that you can work with"
    },
    {
     "cell_type": "code",
     "collapsed": false,
     "input": "naoPrn = loaPrn[u'videos'][0]\nprint naoPrn",
     "language": "python",
     "metadata": {},
     "outputs": [
      {
       "output_type": "stream",
       "stream": "stdout",
       "text": "{u'video': {u'rating': u'0.00', u'thumb': u'http://img04.redtubefiles.com/_thumbs/0000574/0574219/0574219_012m.jpg', u'ratings': u'0', u'url': u'http://www.redtube.com/574219', u'views': 4, u'video_id': u'574219', u'publish_date': u'2013-10-22 12:34:50', u'duration': u'17:18', u'title': u'Tie up', u'tags': [{u'tag_name': u'Lesbian'}, {u'tag_name': u'Licking Vagina'}, {u'tag_name': u'Masturbation'}, {u'tag_name': u'Oral Sex'}, {u'tag_name': u'Strap-on'}, {u'tag_name': u'Toys'}, {u'tag_name': u'Vaginal Masturbation'}], u'default_thumb': u'http://img04.redtubefiles.com/_thumbs/0000574/0574219/0574219_012m.jpg'}}\n"
      }
     ],
     "prompt_number": 13
    },
    {
     "cell_type": "markdown",
     "metadata": {},
     "source": "Compress down - look at first element of json object. You could cycle through older elements\nby increasing the int"
    },
    {
     "cell_type": "code",
     "collapsed": false,
     "input": "ngePrn = naoPrn[u'video']\nprint ngePrn",
     "language": "python",
     "metadata": {},
     "outputs": [
      {
       "output_type": "stream",
       "stream": "stdout",
       "text": "{u'rating': u'0.00', u'thumb': u'http://img04.redtubefiles.com/_thumbs/0000574/0574219/0574219_012m.jpg', u'ratings': u'0', u'url': u'http://www.redtube.com/574219', u'views': 4, u'video_id': u'574219', u'publish_date': u'2013-10-22 12:34:50', u'duration': u'17:18', u'title': u'Tie up', u'tags': [{u'tag_name': u'Lesbian'}, {u'tag_name': u'Licking Vagina'}, {u'tag_name': u'Masturbation'}, {u'tag_name': u'Oral Sex'}, {u'tag_name': u'Strap-on'}, {u'tag_name': u'Toys'}, {u'tag_name': u'Vaginal Masturbation'}], u'default_thumb': u'http://img04.redtubefiles.com/_thumbs/0000574/0574219/0574219_012m.jpg'}\n"
      }
     ],
     "prompt_number": 14
    },
    {
     "cell_type": "markdown",
     "metadata": {},
     "source": "Compress down again - this time video. It's always a bit of a trial and error to figure out\nnavagating json objects, IPython is perfect for this. "
    },
    {
     "cell_type": "heading",
     "level": 2,
     "metadata": {},
     "source": "Individual Data!"
    },
    {
     "cell_type": "markdown",
     "metadata": {},
     "source": "This could be imporoved by turning the following unicode into a list and get the program\nto cycle though - saving off each element. Maybe save to a list?"
    },
    {
     "cell_type": "code",
     "collapsed": false,
     "input": "ratPrn = ngePrn[u'rating']",
     "language": "python",
     "metadata": {},
     "outputs": [],
     "prompt_number": 15
    },
    {
     "cell_type": "code",
     "collapsed": false,
     "input": "print popPrn",
     "language": "python",
     "metadata": {},
     "outputs": [
      {
       "ename": "NameError",
       "evalue": "name 'popPrn' is not defined",
       "output_type": "pyerr",
       "traceback": [
        "\u001b[0;31m---------------------------------------------------------------------------\u001b[0m\n\u001b[0;31mNameError\u001b[0m                                 Traceback (most recent call last)",
        "\u001b[0;32m<ipython-input-16-790748ed8ec2>\u001b[0m in \u001b[0;36m<module>\u001b[0;34m()\u001b[0m\n\u001b[0;32m----> 1\u001b[0;31m \u001b[0;32mprint\u001b[0m \u001b[0mpopPrn\u001b[0m\u001b[0;34m\u001b[0m\u001b[0m\n\u001b[0m",
        "\u001b[0;31mNameError\u001b[0m: name 'popPrn' is not defined"
       ]
      }
     ],
     "prompt_number": 16
    },
    {
     "cell_type": "code",
     "collapsed": false,
     "input": "thumPrn = ngePrn[u'thumb']",
     "language": "python",
     "metadata": {},
     "outputs": [],
     "prompt_number": 17
    },
    {
     "cell_type": "code",
     "collapsed": false,
     "input": "print thumPrn",
     "language": "python",
     "metadata": {},
     "outputs": [
      {
       "output_type": "stream",
       "stream": "stdout",
       "text": "http://img04.redtubefiles.com/_thumbs/0000574/0574219/0574219_012m.jpg\n"
      }
     ],
     "prompt_number": 18
    },
    {
     "cell_type": "code",
     "collapsed": false,
     "input": "ratPrn = ngePrn[u'ratings']\nprint ratPrn",
     "language": "python",
     "metadata": {},
     "outputs": [
      {
       "output_type": "stream",
       "stream": "stdout",
       "text": "0\n"
      }
     ],
     "prompt_number": 19
    },
    {
     "cell_type": "code",
     "collapsed": false,
     "input": "urlPrn = ngePrn[u'url']\nprint urlPrn",
     "language": "python",
     "metadata": {},
     "outputs": [
      {
       "output_type": "stream",
       "stream": "stdout",
       "text": "http://www.redtube.com/574219\n"
      }
     ],
     "prompt_number": 20
    },
    {
     "cell_type": "code",
     "collapsed": false,
     "input": "viwPrn = ngePrn[u'views']\nprint viwPrn",
     "language": "python",
     "metadata": {},
     "outputs": [
      {
       "output_type": "stream",
       "stream": "stdout",
       "text": "4\n"
      }
     ],
     "prompt_number": 21
    },
    {
     "cell_type": "code",
     "collapsed": false,
     "input": "idPrn = ngePrn[u'video_id']\nprint idPrn",
     "language": "python",
     "metadata": {},
     "outputs": [
      {
       "output_type": "stream",
       "stream": "stdout",
       "text": "574219\n"
      }
     ],
     "prompt_number": 22
    },
    {
     "cell_type": "code",
     "collapsed": false,
     "input": "pdaPrn = ngePrn[u'publish_date']\nprint pdaPrn",
     "language": "python",
     "metadata": {},
     "outputs": [
      {
       "output_type": "stream",
       "stream": "stdout",
       "text": "2013-10-22 12:34:50\n"
      }
     ],
     "prompt_number": 23
    },
    {
     "cell_type": "code",
     "collapsed": false,
     "input": "timPrn = ngePrn[u'duration']\nprint timPrn",
     "language": "python",
     "metadata": {},
     "outputs": [
      {
       "output_type": "stream",
       "stream": "stdout",
       "text": "17:18\n"
      }
     ],
     "prompt_number": 24
    },
    {
     "cell_type": "code",
     "collapsed": false,
     "input": "titPrn = ngePrn[u'title']\nprint titPrn",
     "language": "python",
     "metadata": {},
     "outputs": [
      {
       "output_type": "stream",
       "stream": "stdout",
       "text": "Tie up\n"
      }
     ],
     "prompt_number": 25
    },
    {
     "cell_type": "code",
     "collapsed": false,
     "input": "tagPrn = ngePrn[u'tags']\nprint tagPrn",
     "language": "python",
     "metadata": {},
     "outputs": [
      {
       "output_type": "stream",
       "stream": "stdout",
       "text": "[{u'tag_name': u'Lesbian'}, {u'tag_name': u'Licking Vagina'}, {u'tag_name': u'Masturbation'}, {u'tag_name': u'Oral Sex'}, {u'tag_name': u'Strap-on'}, {u'tag_name': u'Toys'}, {u'tag_name': u'Vaginal Masturbation'}]\n"
      }
     ],
     "prompt_number": 26
    },
    {
     "cell_type": "code",
     "collapsed": false,
     "input": "derbPrn = (tagPrn, 'tag_name')\nprint derbPrn",
     "language": "python",
     "metadata": {},
     "outputs": [
      {
       "output_type": "stream",
       "stream": "stdout",
       "text": "([{u'tag_name': u'Lesbian'}, {u'tag_name': u'Licking Vagina'}, {u'tag_name': u'Masturbation'}, {u'tag_name': u'Oral Sex'}, {u'tag_name': u'Strap-on'}, {u'tag_name': u'Toys'}, {u'tag_name': u'Vaginal Masturbation'}], 'tag_name')\n"
      }
     ],
     "prompt_number": 27
    },
    {
     "cell_type": "code",
     "collapsed": false,
     "input": "thNum = 0\ntaTrn = tagPrn[thNum]\nprint taTrn\nthNum + 1",
     "language": "python",
     "metadata": {},
     "outputs": [
      {
       "output_type": "stream",
       "stream": "stdout",
       "text": "{u'tag_name': u'Lesbian'}\n"
      },
      {
       "output_type": "pyout",
       "prompt_number": 28,
       "text": "1"
      }
     ],
     "prompt_number": 28
    },
    {
     "cell_type": "markdown",
     "metadata": {},
     "source": "TODO: Cycle the list and print all tags"
    },
    {
     "cell_type": "code",
     "collapsed": false,
     "input": "naTrn = taTrn['tag_name']\nprint naTrn",
     "language": "python",
     "metadata": {},
     "outputs": [
      {
       "output_type": "stream",
       "stream": "stdout",
       "text": "Lesbian\n"
      }
     ],
     "prompt_number": 29
    },
    {
     "cell_type": "code",
     "collapsed": false,
     "input": "demHub = (titlHub, titPrn, naTrn, urlPrn, pdaPrn, thumPrn, imgHub, linHub)",
     "language": "python",
     "metadata": {},
     "outputs": [],
     "prompt_number": 88
    },
    {
     "cell_type": "code",
     "collapsed": false,
     "input": "print demHub",
     "language": "python",
     "metadata": {},
     "outputs": [
      {
       "output_type": "stream",
       "stream": "stdout",
       "text": "(u'Cute teen babe gets fucked', u'Tie up', u'Lesbian', u'http://www.redtube.com/574219', u'2013-10-22 12:34:50', u'http://img04.redtubefiles.com/_thumbs/0000574/0574219/0574219_012m.jpg', u'http://thumb1.cdn1a.image.pornhub.phncdn.com/videos/201310/04/18140271/320x240/2.jpg', u'http://www.pornhub.com/view_video.php?viewkey=616535023')\n"
      }
     ],
     "prompt_number": 89
    },
    {
     "cell_type": "heading",
     "level": 2,
     "metadata": {},
     "source": "Saving Data"
    },
    {
     "cell_type": "markdown",
     "metadata": {},
     "source": ""
    },
    {
     "cell_type": "code",
     "collapsed": false,
     "input": "savPrn = open('savPrn','w')\nsavPrn.write('<h3 style=\"text-align: center;\"><a href=\"' + urlPrn + '\">')\nsavPrn.write(titPrn + '</a></h3>')\nsavPrn.write('<p style=\"text-align: right;\">' + pdaPrn)\nsavPrn.write('</a></h3><img class=\"aligncenter\" alt=\"null\" src=\"' + thumPrn)\nsavPrn.write('\" />')\nsavPrn.close()",
     "language": "python",
     "metadata": {},
     "outputs": [],
     "prompt_number": 90
    },
    {
     "cell_type": "code",
     "collapsed": false,
     "input": "savTub",
     "language": "python",
     "metadata": {},
     "outputs": [
      {
       "ename": "NameError",
       "evalue": "name 'savTub' is not defined",
       "output_type": "pyerr",
       "traceback": [
        "\u001b[0;31m---------------------------------------------------------------------------\u001b[0m\n\u001b[0;31mNameError\u001b[0m                                 Traceback (most recent call last)",
        "\u001b[0;32m<ipython-input-91-cc9a9cacfd90>\u001b[0m in \u001b[0;36m<module>\u001b[0;34m()\u001b[0m\n\u001b[0;32m----> 1\u001b[0;31m \u001b[0msavTub\u001b[0m\u001b[0;34m\u001b[0m\u001b[0m\n\u001b[0m",
        "\u001b[0;31mNameError\u001b[0m: name 'savTub' is not defined"
       ]
      }
     ],
     "prompt_number": 91
    },
    {
     "cell_type": "code",
     "collapsed": false,
     "input": "ls",
     "language": "python",
     "metadata": {},
     "outputs": [
      {
       "output_type": "stream",
       "stream": "stdout",
       "text": "ang.png           CV2.ipynb        depTlc         savPrn\r\nartcontrol.ipynb  CV.ipynb         land.png       savTlc\r\naslyum.ipynb      \u001b[0m\u001b[01;34mCV.ipynb_files\u001b[0m/  LICENSE        start.py\r\nciv               \u001b[01;34mCVipynb_files\u001b[0m/   Linux          tweet\r\nciv.html          CV.ipynb.html    README.md      twitter.py\r\ncode.html         CVipynb.html     redTube.ipynb  \u001b[01;34mwww.website.org\u001b[0m/\r\n"
      }
     ],
     "prompt_number": 92
    },
    {
     "cell_type": "code",
     "collapsed": false,
     "input": "opPrn = open('savPrn','r')\nfor op in opPrn:\n    print op",
     "language": "python",
     "metadata": {},
     "outputs": [
      {
       "output_type": "stream",
       "stream": "stdout",
       "text": "<h3 style=\"text-align: center;\"><a href=\"http://www.redtube.com/574219\">Tie up</a></h3><p style=\"text-align: right;\">2013-10-22 12:34:50</a></h3><img class=\"aligncenter\" alt=\"null\" src=\"http://img04.redtubefiles.com/_thumbs/0000574/0574219/0574219_012m.jpg\" />\n"
      }
     ],
     "prompt_number": 93
    },
    {
     "cell_type": "code",
     "collapsed": false,
     "input": "",
     "language": "python",
     "metadata": {},
     "outputs": [],
     "prompt_number": 93
    },
    {
     "cell_type": "heading",
     "level": 1,
     "metadata": {},
     "source": "PornHub"
    },
    {
     "cell_type": "code",
     "collapsed": false,
     "input": "import feedparser",
     "language": "python",
     "metadata": {},
     "outputs": [],
     "prompt_number": 94
    },
    {
     "cell_type": "code",
     "collapsed": false,
     "input": "urlHub = feedparser.parse('http://www.pornhub.com/video/webmasterss')",
     "language": "python",
     "metadata": {},
     "outputs": [],
     "prompt_number": "*"
    },
    {
     "cell_type": "code",
     "collapsed": false,
     "input": "urlHub['feed']['title']",
     "language": "python",
     "metadata": {},
     "outputs": [],
     "prompt_number": "*"
    },
    {
     "cell_type": "code",
     "collapsed": false,
     "input": "tlinHub = urlHub['feed']['link']",
     "language": "python",
     "metadata": {},
     "outputs": [],
     "prompt_number": "*"
    },
    {
     "cell_type": "code",
     "collapsed": false,
     "input": "pubHub = urlHub['feed']['published']",
     "language": "python",
     "metadata": {},
     "outputs": [],
     "prompt_number": "*"
    },
    {
     "cell_type": "code",
     "collapsed": false,
     "input": "linHub = urlHub.entries[0].link",
     "language": "python",
     "metadata": {},
     "outputs": [],
     "prompt_number": "*"
    },
    {
     "cell_type": "code",
     "collapsed": false,
     "input": "titlHub = urlHub.entries[0].title",
     "language": "python",
     "metadata": {},
     "outputs": [],
     "prompt_number": "*"
    },
    {
     "cell_type": "code",
     "collapsed": false,
     "input": "imgHub = urlHub.entries[0].thumb_large",
     "language": "python",
     "metadata": {},
     "outputs": [],
     "prompt_number": "*"
    },
    {
     "cell_type": "code",
     "collapsed": false,
     "input": "urlHub.entries[0]",
     "language": "python",
     "metadata": {},
     "outputs": [],
     "prompt_number": "*"
    },
    {
     "cell_type": "code",
     "collapsed": false,
     "input": "for daHub, da in enumerate([titlHub, linHub, pubHub, imgHub]):\n    print daHub, da",
     "language": "python",
     "metadata": {},
     "outputs": [],
     "prompt_number": "*"
    },
    {
     "cell_type": "code",
     "collapsed": false,
     "input": "",
     "language": "python",
     "metadata": {},
     "outputs": [],
     "prompt_number": 42
    },
    {
     "cell_type": "code",
     "collapsed": false,
     "input": "",
     "language": "python",
     "metadata": {},
     "outputs": []
    }
   ],
   "metadata": {}
  }
 ]
}