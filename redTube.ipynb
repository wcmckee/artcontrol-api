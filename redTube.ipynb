{
 "metadata": {
  "name": "redTube"
 },
 "nbformat": 3,
 "nbformat_minor": 0,
 "worksheets": [
  {
   "cells": [
    {
     "cell_type": "heading",
     "level": 1,
     "metadata": {},
     "source": [
      "RedTube json Python"
     ]
    },
    {
     "cell_type": "markdown",
     "metadata": {},
     "source": [
      "'''\n",
      "copyright 2013 WCMCKEE\n",
      "will@artcontrol.me\n",
      "'''"
     ]
    },
    {
     "cell_type": "code",
     "collapsed": false,
     "input": [
      "import requests\n",
      "import json\n",
      "import random"
     ],
     "language": "python",
     "metadata": {},
     "outputs": [],
     "prompt_number": 61
    },
    {
     "cell_type": "code",
     "collapsed": false,
     "input": [
      "redhtp = ('http://api.redtube.com/?data=redtube.')\n",
      "redtagz = ('tags.getTagList')\n",
      "redcat = ('Categories.getCategoriesList')\n",
      "redstar = ('Stars.getStarList') \n",
      "redvid = ('Videos.searchVideos&page=1')\n",
      "redj = ('&output=json')"
     ],
     "language": "python",
     "metadata": {},
     "outputs": [],
     "prompt_number": 62
    },
    {
     "cell_type": "markdown",
     "metadata": {},
     "source": [
      "need to choose a random between tagz cat and star"
     ]
    },
    {
     "cell_type": "code",
     "collapsed": false,
     "input": [
      "endlist = [redtagz, redcat, redstar]"
     ],
     "language": "python",
     "metadata": {},
     "outputs": [],
     "prompt_number": 63
    },
    {
     "cell_type": "code",
     "collapsed": false,
     "input": [
      "ranclist = random.choice(endlist)"
     ],
     "language": "python",
     "metadata": {},
     "outputs": [],
     "prompt_number": 64
    },
    {
     "cell_type": "code",
     "collapsed": false,
     "input": [
      "print endlist"
     ],
     "language": "python",
     "metadata": {},
     "outputs": [
      {
       "output_type": "stream",
       "stream": "stdout",
       "text": [
        "['tags.getTagList', 'Categories.getCategoriesList', 'Stars.getStarList']\n"
       ]
      }
     ],
     "prompt_number": 65
    },
    {
     "cell_type": "code",
     "collapsed": false,
     "input": [],
     "language": "python",
     "metadata": {},
     "outputs": []
    },
    {
     "cell_type": "code",
     "collapsed": false,
     "input": [
      "fullurlz = redhtp + ranclist + redj"
     ],
     "language": "python",
     "metadata": {},
     "outputs": [],
     "prompt_number": 66
    },
    {
     "cell_type": "code",
     "collapsed": false,
     "input": [
      "fulur = redhtp + redvid + redj"
     ],
     "language": "python",
     "metadata": {},
     "outputs": [],
     "prompt_number": 67
    },
    {
     "cell_type": "code",
     "collapsed": false,
     "input": [
      "print fullurlz"
     ],
     "language": "python",
     "metadata": {},
     "outputs": [
      {
       "output_type": "stream",
       "stream": "stdout",
       "text": [
        "http://api.redtube.com/?data=redtube.Stars.getStarList&output=json\n"
       ]
      }
     ],
     "prompt_number": 69
    },
    {
     "cell_type": "code",
     "collapsed": false,
     "input": [
      "fuz = str(fullurlz)"
     ],
     "language": "python",
     "metadata": {},
     "outputs": [],
     "prompt_number": 70
    },
    {
     "cell_type": "code",
     "collapsed": false,
     "input": [
      "print fulur"
     ],
     "language": "python",
     "metadata": {},
     "outputs": [
      {
       "output_type": "stream",
       "stream": "stdout",
       "text": [
        "http://api.redtube.com/?data=redtube.Videos.searchVideos&page=1&output=json\n"
       ]
      }
     ],
     "prompt_number": 71
    },
    {
     "cell_type": "markdown",
     "metadata": {},
     "source": [
      "Requests and json are the two main modules used for this. Random can also be handy"
     ]
    },
    {
     "cell_type": "code",
     "collapsed": false,
     "input": [
      "getfullurl = requests.get(fullurlz)"
     ],
     "language": "python",
     "metadata": {},
     "outputs": [],
     "prompt_number": 72
    },
    {
     "cell_type": "code",
     "collapsed": false,
     "input": [
      "strprn = json.loads(getfullurl.text)"
     ],
     "language": "python",
     "metadata": {},
     "outputs": [],
     "prompt_number": 73
    },
    {
     "cell_type": "code",
     "collapsed": false,
     "input": [
      "ssp = strprn['stars']\n",
      "\n"
     ],
     "language": "python",
     "metadata": {},
     "outputs": [],
     "prompt_number": 77
    },
    {
     "cell_type": "code",
     "collapsed": false,
     "input": [
      "getPrn = requests.get(fulur)"
     ],
     "language": "python",
     "metadata": {},
     "outputs": [],
     "prompt_number": 36
    },
    {
     "cell_type": "markdown",
     "metadata": {},
     "source": [
      "Simple requests command to get the json object. This could be any json object - not just RedTube"
     ]
    },
    {
     "cell_type": "code",
     "collapsed": false,
     "input": [
      "loaPrn = json.loads(getPrn.text)\n",
      "print loaPrn"
     ],
     "language": "python",
     "metadata": {},
     "outputs": [
      {
       "output_type": "stream",
       "stream": "stdout",
       "text": [
        "{u'count': 272632, u'videos': [{u'video': {u'rating': u'3.84', u'thumb': u'http://img02.redtubefiles.com/_thumbs/0000565/0565609/0565609_015m.jpg', u'ratings': u'93', u'url': u'http://www.redtube.com/565609', u'views': 95060, u'video_id': u'565609', u'publish_date': u'2014-03-09 12:00:01', u'duration': u'5:14', u'title': u'Hot body blonde creampie fisting', u'tags': [{u'tag_name': u'Amateur'}, {u'tag_name': u'Blonde'}, {u'tag_name': u'Caucasian'}, {u'tag_name': u'Fisting'}, {u'tag_name': u'Masturbation'}, {u'tag_name': u'Solo Girl'}, {u'tag_name': u'Vaginal Masturbation'}, {u'tag_name': u'Webcam'}], u'default_thumb': u'http://img02.redtubefiles.com/_thumbs/0000565/0565609/0565609_015m.jpg'}}, {u'video': {u'rating': u'3.08', u'thumb': u'http://img02.redtubefiles.com/_thumbs/0000369/0369308/0369308_012m.jpg', u'ratings': u'24', u'url': u'http://www.redtube.com/369308', u'views': 16990, u'video_id': u'369308', u'publish_date': u'2014-03-09 11:10:02', u'duration': u'8:59', u'title': u'Vintage couple pussy fuck', u'tags': [{u'tag_name': u'Caucasian'}, {u'tag_name': u'Couple'}, {u'tag_name': u'Masturbation'}, {u'tag_name': u'Vaginal Masturbation'}, {u'tag_name': u'Vaginal Sex'}, {u'tag_name': u'Vintage'}], u'default_thumb': u'http://img02.redtubefiles.com/_thumbs/0000369/0369308/0369308_012m.jpg'}}, {u'video': {u'rating': u'3.81', u'thumb': u'http://img02.redtubefiles.com/_thumbs/0000398/0398022/0398022_012m.jpg', u'ratings': u'201', u'url': u'http://www.redtube.com/398022', u'views': 157537, u'video_id': u'398022', u'publish_date': u'2014-03-09 10:32:01', u'duration': u'24:35', u'title': u'Father figure 1', u'tags': [{u'tag_name': u'Big Cock'}, {u'tag_name': u'Blonde'}, {u'tag_name': u'Blowjob'}, {u'tag_name': u'Caucasian'}, {u'tag_name': u'Couple'}, {u'tag_name': u'Domination'}, {u'tag_name': u'Licking Vagina'}, {u'tag_name': u'Masturbation'}, {u'tag_name': u'Oral Sex'}, {u'tag_name': u'Teen'}, {u'tag_name': u'Vaginal Masturbation'}, {u'tag_name': u'Vaginal Sex'}], u'default_thumb': u'http://img02.redtubefiles.com/_thumbs/0000398/0398022/0398022_012m.jpg'}}, {u'video': {u'rating': u'4.01', u'thumb': u'http://img02.redtubefiles.com/_thumbs/0000324/0324105/0324105_013m.jpg', u'ratings': u'202', u'url': u'http://www.redtube.com/324105', u'views': 131971, u'video_id': u'324105', u'publish_date': u'2014-03-09 09:54:02', u'duration': u'21:58', u'title': u'Bruna Ferraz 300', u'tags': [{u'tag_name': u'Anal Sex'}, {u'tag_name': u'Big Ass'}, {u'tag_name': u'Big Tits'}, {u'tag_name': u'Black-haired'}, {u'tag_name': u'Blowjob'}, {u'tag_name': u'Couple'}, {u'tag_name': u'Cum Shot'}, {u'tag_name': u'Latin'}, {u'tag_name': u'Licking Vagina'}, {u'tag_name': u'Oral Sex'}, {u'tag_name': u'Vaginal Sex'}], u'default_thumb': u'http://img02.redtubefiles.com/_thumbs/0000324/0324105/0324105_013m.jpg'}}, {u'video': {u'rating': u'3.97', u'thumb': u'http://img02.redtubefiles.com/_thumbs/0000320/0320870/0320870_012m.jpg', u'ratings': u'234', u'url': u'http://www.redtube.com/320870', u'views': 162584, u'video_id': u'320870', u'publish_date': u'2014-03-09 09:02:01', u'stars': [{u'star_name': u'Macy Cartel'}], u'duration': u'11:38', u'title': u'Kinky Macy Lee makes a sex tape ', u'tags': [{u'tag_name': u'Big Tits'}, {u'tag_name': u'Blonde'}, {u'tag_name': u'Blowjob'}, {u'tag_name': u'Caucasian'}, {u'tag_name': u'Couple'}, {u'tag_name': u'Cum Shot'}, {u'tag_name': u'Facial'}, {u'tag_name': u'Masturbation'}, {u'tag_name': u'Oral Sex'}, {u'tag_name': u'POV'}, {u'tag_name': u'Shaved'}, {u'tag_name': u'Vaginal Masturbation'}, {u'tag_name': u'Vaginal Sex'}], u'default_thumb': u'http://img02.redtubefiles.com/_thumbs/0000320/0320870/0320870_012m.jpg'}}, {u'video': {u'rating': u'4.28', u'thumb': u'http://img04.redtubefiles.com/_thumbs/0000250/0250256/0250256_008m.jpg', u'ratings': u'644', u'url': u'http://www.redtube.com/250256', u'views': 586966, u'video_id': u'250256', u'publish_date': u'2014-03-09 08:24:01', u'duration': u'8:34', u'title': u'Kinki Joe chestbuster fisting', u'tags': [{u'tag_name': u'Anal Masturbation'}, {u'tag_name': u'Black-haired'}, {u'tag_name': u'Caucasian'}, {u'tag_name': u'Fisting'}, {u'tag_name': u'Lesbian'}, {u'tag_name': u'Masturbation'}, {u'tag_name': u'Spectacular'}, {u'tag_name': u'Vaginal Masturbation'}], u'default_thumb': u'http://img04.redtubefiles.com/_thumbs/0000250/0250256/0250256_008m.jpg'}}, {u'video': {u'rating': u'3.88', u'thumb': u'http://img01.redtubefiles.com/_thumbs/0000052/0052223/0052223_008m.jpg', u'ratings': u'149', u'url': u'http://www.redtube.com/52223', u'views': 103230, u'video_id': u'52223', u'publish_date': u'2014-03-09 07:36:01', u'stars': [{u'star_name': u'Nicole Sheridan'}], u'duration': u'22:11', u'title': u'Nicole milks her husband in the garden', u'tags': [{u'tag_name': u'Blonde'}, {u'tag_name': u'Blowjob'}, {u'tag_name': u'Caucasian'}, {u'tag_name': u'Couple'}, {u'tag_name': u'Cum Shot'}, {u'tag_name': u'Facial'}, {u'tag_name': u'Licking Vagina'}, {u'tag_name': u'Masturbation'}, {u'tag_name': u'Oral Sex'}, {u'tag_name': u'Outdoor'}, {u'tag_name': u'Pornstar'}, {u'tag_name': u'Vaginal Masturbation'}, {u'tag_name': u'Vaginal Sex'}], u'default_thumb': u'http://img01.redtubefiles.com/_thumbs/0000052/0052223/0052223_008m.jpg'}}, {u'video': {u'rating': u'3.53', u'thumb': u'http://img04.redtubefiles.com/_thumbs/0000022/0022338/0022338_011m.jpg', u'ratings': u'159', u'url': u'http://www.redtube.com/22338', u'views': 125227, u'video_id': u'22338', u'publish_date': u'2014-03-09 06:56:01', u'stars': [{u'star_name': u'Liliane Tiger'}], u'duration': u'4:18', u'title': u'Slut getting sandwiched', u'tags': [{u'tag_name': u'Blonde'}, {u'tag_name': u'Blowjob'}, {u'tag_name': u'Caucasian'}, {u'tag_name': u'Lingerie'}, {u'tag_name': u'Oral Sex'}, {u'tag_name': u'Piercings'}, {u'tag_name': u'Rimming'}, {u'tag_name': u'Threesome'}, {u'tag_name': u'Vaginal Sex'}], u'default_thumb': u'http://img04.redtubefiles.com/_thumbs/0000022/0022338/0022338_011m.jpg'}}, {u'video': {u'rating': u'3.43', u'thumb': u'http://img02.redtubefiles.com/_thumbs/0000656/0656557/0656557_012m.jpg', u'ratings': u'149', u'url': u'http://www.redtube.com/656557', u'views': 94805, u'video_id': u'656557', u'publish_date': u'2014-03-09 06:14:02', u'stars': [{u'star_name': u'Adrianna Nicole'}], u'duration': u'7:01', u'title': u'Adrianna Nicole sucks and fucks', u'tags': [{u'tag_name': u'Anal Sex'}, {u'tag_name': u'Blonde'}, {u'tag_name': u'Blowjob'}, {u'tag_name': u'Caucasian'}, {u'tag_name': u'Couple'}, {u'tag_name': u'Cum Shot'}, {u'tag_name': u'Deepthroat'}, {u'tag_name': u'Masturbation'}, {u'tag_name': u'Oral Sex'}, {u'tag_name': u'Pornstar'}, {u'tag_name': u'Tattoos'}, {u'tag_name': u'Vaginal Masturbation'}], u'default_thumb': u'http://img02.redtubefiles.com/_thumbs/0000656/0656557/0656557_012m.jpg'}}, {u'video': {u'rating': u'3.66', u'thumb': u'http://img02.redtubefiles.com/_thumbs/0000555/0555260/0555260_014m.jpg', u'ratings': u'242', u'url': u'http://www.redtube.com/555260', u'views': 164451, u'video_id': u'555260', u'publish_date': u'2014-03-09 05:40:01', u'duration': u'12:00', u'title': u'Hot tanned teen brunette gets stuffed', u'tags': [{u'tag_name': u'Blowjob'}, {u'tag_name': u'Brunette'}, {u'tag_name': u'Caucasian'}, {u'tag_name': u'Couple'}, {u'tag_name': u'Cum Shot'}, {u'tag_name': u'Oral Sex'}, {u'tag_name': u'Shaved'}, {u'tag_name': u'Teen'}, {u'tag_name': u'Vaginal Sex'}], u'default_thumb': u'http://img02.redtubefiles.com/_thumbs/0000555/0555260/0555260_014m.jpg'}}, {u'video': {u'rating': u'3.66', u'thumb': u'http://img02.redtubefiles.com/_thumbs/0000480/0480216/0480216_010m.jpg', u'ratings': u'242', u'url': u'http://www.redtube.com/480216', u'views': 121512, u'video_id': u'480216', u'publish_date': u'2014-03-09 05:00:01', u'duration': u'15:17', u'title': u'Addicted to black cock', u'tags': [{u'tag_name': u'Big Ass'}, {u'tag_name': u'Big Cock'}, {u'tag_name': u'Blonde'}, {u'tag_name': u'Blowjob'}, {u'tag_name': u'Caucasian'}, {u'tag_name': u'Cum Shot'}, {u'tag_name': u'Gangbang'}, {u'tag_name': u'Interracial'}, {u'tag_name': u'Licking Vagina'}, {u'tag_name': u'Oral Sex'}], u'default_thumb': u'http://img02.redtubefiles.com/_thumbs/0000480/0480216/0480216_010m.jpg'}}, {u'video': {u'rating': u'3.59', u'thumb': u'http://img03.redtubefiles.com/_thumbs/0000337/0337641/0337641_013m.jpg', u'ratings': u'278', u'url': u'http://www.redtube.com/337641', u'views': 235311, u'video_id': u'337641', u'publish_date': u'2014-03-09 04:20:02', u'duration': u'10:31', u'title': u'Big tit ebony masseuse tug therapy ', u'tags': [{u'tag_name': u'Big Tits'}, {u'tag_name': u'Brunette'}, {u'tag_name': u'Couple'}, {u'tag_name': u'Cum Shot'}, {u'tag_name': u'Ebony'}, {u'tag_name': u'Handjob'}, {u'tag_name': u'Interracial'}, {u'tag_name': u'Massage'}, {u'tag_name': u'Masturbation'}, {u'tag_name': u'Oral Sex'}, {u'tag_name': u'Position 69'}, {u'tag_name': u'Shaved'}], u'default_thumb': u'http://img03.redtubefiles.com/_thumbs/0000337/0337641/0337641_013m.jpg'}}, {u'video': {u'rating': u'3.17', u'thumb': u'http://img03.redtubefiles.com/_thumbs/0000025/0025336/0025336_006m.jpg', u'ratings': u'162', u'url': u'http://www.redtube.com/25336', u'views': 124260, u'video_id': u'25336', u'publish_date': u'2014-03-09 03:34:01', u'stars': [{u'star_name': u'Amber Wild'}], u'duration': u'6:59', u'title': u'Smoke this shit, bitch!', u'tags': [{u'tag_name': u'Blonde'}, {u'tag_name': u'Blowjob'}, {u'tag_name': u'Caucasian'}, {u'tag_name': u'Couple'}, {u'tag_name': u'Cum Shot'}, {u'tag_name': u'Deepthroat'}, {u'tag_name': u'Oral Sex'}, {u'tag_name': u'Pornstar'}, {u'tag_name': u'Tattoos'}], u'default_thumb': u'http://img03.redtubefiles.com/_thumbs/0000025/0025336/0025336_006m.jpg'}}, {u'video': {u'rating': u'3.86', u'thumb': u'http://img01.redtubefiles.com/_thumbs/0000194/0194222/0194222_005m.jpg', u'ratings': u'402', u'url': u'http://www.redtube.com/194222', u'views': 279629, u'video_id': u'194222', u'publish_date': u'2014-03-09 02:44:01', u'duration': u'25:22', u'title': u'Know breast', u'tags': [{u'tag_name': u'Big Tits'}, {u'tag_name': u'Blowjob'}, {u'tag_name': u'Couple'}, {u'tag_name': u'Hentai'}, {u'tag_name': u'Oral Sex'}, {u'tag_name': u'Vaginal Sex'}], u'default_thumb': u'http://img01.redtubefiles.com/_thumbs/0000194/0194222/0194222_005m.jpg'}}, {u'video': {u'rating': u'3.48', u'thumb': u'http://img03.redtubefiles.com/_thumbs/0000357/0357915/0357915_015m.jpg', u'ratings': u'267', u'url': u'http://www.redtube.com/357915', u'views': 153220, u'video_id': u'357915', u'publish_date': u'2014-03-09 02:08:01', u'stars': [{u'star_name': u'Lindsay Kay'}], u'duration': u'20:23', u'title': u'She loves to stuff her mouth full of cocks', u'tags': [{u'tag_name': u'Black-haired'}, {u'tag_name': u'Blowjob'}, {u'tag_name': u'Caucasian'}, {u'tag_name': u'Cum Shot'}, {u'tag_name': u'Facial'}, {u'tag_name': u'Gangbang'}, {u'tag_name': u'Oral Sex'}, {u'tag_name': u'Pantyhose'}, {u'tag_name': u'Shaved'}, {u'tag_name': u'Small Tits'}, {u'tag_name': u'Vaginal Sex'}], u'default_thumb': u'http://img03.redtubefiles.com/_thumbs/0000357/0357915/0357915_015m.jpg'}}, {u'video': {u'rating': u'4.13', u'thumb': u'http://img03.redtubefiles.com/_thumbs/0000548/0548408/0548408_014m.jpg', u'ratings': u'541', u'url': u'http://www.redtube.com/548408', u'views': 337535, u'video_id': u'548408', u'publish_date': u'2014-03-09 01:24:01', u'stars': [{u'star_name': u'Franceska Jaimes'}], u'duration': u'46:58', u'title': u'Anal with hot Franceska Jaimes', u'tags': [{u'tag_name': u'Anal Sex'}, {u'tag_name': u'Big Ass'}, {u'tag_name': u'Big Tits'}, {u'tag_name': u'Blowjob'}, {u'tag_name': u'Brunette'}, {u'tag_name': u'Couple'}, {u'tag_name': u'Cum Shot'}, {u'tag_name': u'High Heels'}, {u'tag_name': u'Latin'}, {u'tag_name': u'Oral Sex'}, {u'tag_name': u'Pornstar'}, {u'tag_name': u'Vaginal Sex'}], u'default_thumb': u'http://img03.redtubefiles.com/_thumbs/0000548/0548408/0548408_014m.jpg'}}, {u'video': {u'rating': u'4.00', u'thumb': u'http://img02.redtubefiles.com/_thumbs/0000613/0613746/0613746_013m.jpg', u'ratings': u'607', u'url': u'http://www.redtube.com/613746', u'views': 410139, u'video_id': u'613746', u'publish_date': u'2014-03-09 00:40:01', u'stars': [{u'star_name': u'Alexis Texas'}, {u'star_name': u'Kortney Kane'}, {u'star_name': u'Madison Ivy'}, {u'star_name': u'Monique Alexander'}], u'duration': u'1:06:43', u'title': u'One night in the valley - Part 2', u'tags': [{u'tag_name': u'Anal Sex'}, {u'tag_name': u'Blowjob'}, {u'tag_name': u'Caucasian'}, {u'tag_name': u'Compilation'}, {u'tag_name': u'Couple'}, {u'tag_name': u'Cum Shot'}, {u'tag_name': u'Oral Sex'}, {u'tag_name': u'Pornstar'}, {u'tag_name': u'Vaginal Sex'}], u'default_thumb': u'http://img02.redtubefiles.com/_thumbs/0000613/0613746/0613746_013m.jpg'}}, {u'video': {u'rating': u'4.05', u'thumb': u'http://img04.redtubefiles.com/_thumbs/0000400/0400614/0400614_015m.jpg', u'ratings': u'1392', u'url': u'http://www.redtube.com/400614', u'views': 999807, u'video_id': u'400614', u'publish_date': u'2014-03-09 00:18:02', u'duration': u'12:31', u'title': u'Got milk?', u'tags': [{u'tag_name': u'Big Tits'}, {u'tag_name': u'Brunette'}, {u'tag_name': u'Caucasian'}, {u'tag_name': u'Kissing'}, {u'tag_name': u'Lesbian'}], u'default_thumb': u'http://img04.redtubefiles.com/_thumbs/0000400/0400614/0400614_015m.jpg'}}, {u'video': {u'rating': u'3.88', u'thumb': u'http://img01.redtubefiles.com/_thumbs/0000670/0670578/0670578_002m.jpg', u'ratings': u'615', u'url': u'http://www.redtube.com/670578', u'views': 415079, u'video_id': u'670578', u'publish_date': u'2014-03-08 23:02:01', u'duration': u'2:03:15', u'title': u'Japanese mothers oral sex sex sex first night', u'tags': [{u'tag_name': u'Asian'}, {u'tag_name': u'Blowjob'}, {u'tag_name': u'Brunette'}, {u'tag_name': u'Censored'}, {u'tag_name': u'Couple'}, {u'tag_name': u'Cream Pie'}, {u'tag_name': u'Japanese'}, {u'tag_name': u'MILF'}, {u'tag_name': u'Oral Sex'}, {u'tag_name': u'Vaginal Sex'}], u'default_thumb': u'http://img01.redtubefiles.com/_thumbs/0000670/0670578/0670578_002m.jpg'}}, {u'video': {u'rating': u'3.31', u'thumb': u'http://img03.redtubefiles.com/_thumbs/0000084/0084464/0084464_011m.jpg', u'ratings': u'261', u'url': u'http://www.redtube.com/84464', u'views': 197835, u'video_id': u'84464', u'publish_date': u'2014-03-08 22:24:01', u'duration': u'21:06', u'title': u'Threesome masturbation', u'tags': [{u'tag_name': u'Anal Masturbation'}, {u'tag_name': u'Anal Sex'}, {u'tag_name': u'Blowjob'}, {u'tag_name': u'Brunette'}, {u'tag_name': u'Caucasian'}, {u'tag_name': u'Cream Pie'}, {u'tag_name': u'Cum Shot'}, {u'tag_name': u'Fetish'}, {u'tag_name': u'High Heels'}, {u'tag_name': u'Masturbation'}, {u'tag_name': u'Oral Sex'}, {u'tag_name': u'Threesome'}], u'default_thumb': u'http://img03.redtubefiles.com/_thumbs/0000084/0084464/0084464_011m.jpg'}}]}\n"
       ]
      }
     ],
     "prompt_number": 37
    },
    {
     "cell_type": "markdown",
     "metadata": {},
     "source": [
      "Convert it into readable text that you can work with"
     ]
    },
    {
     "cell_type": "code",
     "collapsed": false,
     "input": [
      "for feed in loaPrn[u'videos']:\n",
      "    print feed\n",
      "    #for entry in feed[u'video']:\n",
      "        #print entry"
     ],
     "language": "python",
     "metadata": {},
     "outputs": [
      {
       "output_type": "stream",
       "stream": "stdout",
       "text": [
        "{u'video': {u'rating': u'3.84', u'thumb': u'http://img02.redtubefiles.com/_thumbs/0000565/0565609/0565609_015m.jpg', u'ratings': u'93', u'url': u'http://www.redtube.com/565609', u'views': 95060, u'video_id': u'565609', u'publish_date': u'2014-03-09 12:00:01', u'duration': u'5:14', u'title': u'Hot body blonde creampie fisting', u'tags': [{u'tag_name': u'Amateur'}, {u'tag_name': u'Blonde'}, {u'tag_name': u'Caucasian'}, {u'tag_name': u'Fisting'}, {u'tag_name': u'Masturbation'}, {u'tag_name': u'Solo Girl'}, {u'tag_name': u'Vaginal Masturbation'}, {u'tag_name': u'Webcam'}], u'default_thumb': u'http://img02.redtubefiles.com/_thumbs/0000565/0565609/0565609_015m.jpg'}}\n",
        "{u'video': {u'rating': u'3.08', u'thumb': u'http://img02.redtubefiles.com/_thumbs/0000369/0369308/0369308_012m.jpg', u'ratings': u'24', u'url': u'http://www.redtube.com/369308', u'views': 16990, u'video_id': u'369308', u'publish_date': u'2014-03-09 11:10:02', u'duration': u'8:59', u'title': u'Vintage couple pussy fuck', u'tags': [{u'tag_name': u'Caucasian'}, {u'tag_name': u'Couple'}, {u'tag_name': u'Masturbation'}, {u'tag_name': u'Vaginal Masturbation'}, {u'tag_name': u'Vaginal Sex'}, {u'tag_name': u'Vintage'}], u'default_thumb': u'http://img02.redtubefiles.com/_thumbs/0000369/0369308/0369308_012m.jpg'}}\n",
        "{u'video': {u'rating': u'3.81', u'thumb': u'http://img02.redtubefiles.com/_thumbs/0000398/0398022/0398022_012m.jpg', u'ratings': u'201', u'url': u'http://www.redtube.com/398022', u'views': 157537, u'video_id': u'398022', u'publish_date': u'2014-03-09 10:32:01', u'duration': u'24:35', u'title': u'Father figure 1', u'tags': [{u'tag_name': u'Big Cock'}, {u'tag_name': u'Blonde'}, {u'tag_name': u'Blowjob'}, {u'tag_name': u'Caucasian'}, {u'tag_name': u'Couple'}, {u'tag_name': u'Domination'}, {u'tag_name': u'Licking Vagina'}, {u'tag_name': u'Masturbation'}, {u'tag_name': u'Oral Sex'}, {u'tag_name': u'Teen'}, {u'tag_name': u'Vaginal Masturbation'}, {u'tag_name': u'Vaginal Sex'}], u'default_thumb': u'http://img02.redtubefiles.com/_thumbs/0000398/0398022/0398022_012m.jpg'}}\n",
        "{u'video': {u'rating': u'4.01', u'thumb': u'http://img02.redtubefiles.com/_thumbs/0000324/0324105/0324105_013m.jpg', u'ratings': u'202', u'url': u'http://www.redtube.com/324105', u'views': 131971, u'video_id': u'324105', u'publish_date': u'2014-03-09 09:54:02', u'duration': u'21:58', u'title': u'Bruna Ferraz 300', u'tags': [{u'tag_name': u'Anal Sex'}, {u'tag_name': u'Big Ass'}, {u'tag_name': u'Big Tits'}, {u'tag_name': u'Black-haired'}, {u'tag_name': u'Blowjob'}, {u'tag_name': u'Couple'}, {u'tag_name': u'Cum Shot'}, {u'tag_name': u'Latin'}, {u'tag_name': u'Licking Vagina'}, {u'tag_name': u'Oral Sex'}, {u'tag_name': u'Vaginal Sex'}], u'default_thumb': u'http://img02.redtubefiles.com/_thumbs/0000324/0324105/0324105_013m.jpg'}}\n",
        "{u'video': {u'rating': u'3.97', u'thumb': u'http://img02.redtubefiles.com/_thumbs/0000320/0320870/0320870_012m.jpg', u'ratings': u'234', u'url': u'http://www.redtube.com/320870', u'views': 162584, u'video_id': u'320870', u'publish_date': u'2014-03-09 09:02:01', u'stars': [{u'star_name': u'Macy Cartel'}], u'duration': u'11:38', u'title': u'Kinky Macy Lee makes a sex tape ', u'tags': [{u'tag_name': u'Big Tits'}, {u'tag_name': u'Blonde'}, {u'tag_name': u'Blowjob'}, {u'tag_name': u'Caucasian'}, {u'tag_name': u'Couple'}, {u'tag_name': u'Cum Shot'}, {u'tag_name': u'Facial'}, {u'tag_name': u'Masturbation'}, {u'tag_name': u'Oral Sex'}, {u'tag_name': u'POV'}, {u'tag_name': u'Shaved'}, {u'tag_name': u'Vaginal Masturbation'}, {u'tag_name': u'Vaginal Sex'}], u'default_thumb': u'http://img02.redtubefiles.com/_thumbs/0000320/0320870/0320870_012m.jpg'}}\n",
        "{u'video': {u'rating': u'4.28', u'thumb': u'http://img04.redtubefiles.com/_thumbs/0000250/0250256/0250256_008m.jpg', u'ratings': u'644', u'url': u'http://www.redtube.com/250256', u'views': 586966, u'video_id': u'250256', u'publish_date': u'2014-03-09 08:24:01', u'duration': u'8:34', u'title': u'Kinki Joe chestbuster fisting', u'tags': [{u'tag_name': u'Anal Masturbation'}, {u'tag_name': u'Black-haired'}, {u'tag_name': u'Caucasian'}, {u'tag_name': u'Fisting'}, {u'tag_name': u'Lesbian'}, {u'tag_name': u'Masturbation'}, {u'tag_name': u'Spectacular'}, {u'tag_name': u'Vaginal Masturbation'}], u'default_thumb': u'http://img04.redtubefiles.com/_thumbs/0000250/0250256/0250256_008m.jpg'}}\n",
        "{u'video': {u'rating': u'3.88', u'thumb': u'http://img01.redtubefiles.com/_thumbs/0000052/0052223/0052223_008m.jpg', u'ratings': u'149', u'url': u'http://www.redtube.com/52223', u'views': 103230, u'video_id': u'52223', u'publish_date': u'2014-03-09 07:36:01', u'stars': [{u'star_name': u'Nicole Sheridan'}], u'duration': u'22:11', u'title': u'Nicole milks her husband in the garden', u'tags': [{u'tag_name': u'Blonde'}, {u'tag_name': u'Blowjob'}, {u'tag_name': u'Caucasian'}, {u'tag_name': u'Couple'}, {u'tag_name': u'Cum Shot'}, {u'tag_name': u'Facial'}, {u'tag_name': u'Licking Vagina'}, {u'tag_name': u'Masturbation'}, {u'tag_name': u'Oral Sex'}, {u'tag_name': u'Outdoor'}, {u'tag_name': u'Pornstar'}, {u'tag_name': u'Vaginal Masturbation'}, {u'tag_name': u'Vaginal Sex'}], u'default_thumb': u'http://img01.redtubefiles.com/_thumbs/0000052/0052223/0052223_008m.jpg'}}\n",
        "{u'video': {u'rating': u'3.53', u'thumb': u'http://img04.redtubefiles.com/_thumbs/0000022/0022338/0022338_011m.jpg', u'ratings': u'159', u'url': u'http://www.redtube.com/22338', u'views': 125227, u'video_id': u'22338', u'publish_date': u'2014-03-09 06:56:01', u'stars': [{u'star_name': u'Liliane Tiger'}], u'duration': u'4:18', u'title': u'Slut getting sandwiched', u'tags': [{u'tag_name': u'Blonde'}, {u'tag_name': u'Blowjob'}, {u'tag_name': u'Caucasian'}, {u'tag_name': u'Lingerie'}, {u'tag_name': u'Oral Sex'}, {u'tag_name': u'Piercings'}, {u'tag_name': u'Rimming'}, {u'tag_name': u'Threesome'}, {u'tag_name': u'Vaginal Sex'}], u'default_thumb': u'http://img04.redtubefiles.com/_thumbs/0000022/0022338/0022338_011m.jpg'}}\n",
        "{u'video': {u'rating': u'3.43', u'thumb': u'http://img02.redtubefiles.com/_thumbs/0000656/0656557/0656557_012m.jpg', u'ratings': u'149', u'url': u'http://www.redtube.com/656557', u'views': 94805, u'video_id': u'656557', u'publish_date': u'2014-03-09 06:14:02', u'stars': [{u'star_name': u'Adrianna Nicole'}], u'duration': u'7:01', u'title': u'Adrianna Nicole sucks and fucks', u'tags': [{u'tag_name': u'Anal Sex'}, {u'tag_name': u'Blonde'}, {u'tag_name': u'Blowjob'}, {u'tag_name': u'Caucasian'}, {u'tag_name': u'Couple'}, {u'tag_name': u'Cum Shot'}, {u'tag_name': u'Deepthroat'}, {u'tag_name': u'Masturbation'}, {u'tag_name': u'Oral Sex'}, {u'tag_name': u'Pornstar'}, {u'tag_name': u'Tattoos'}, {u'tag_name': u'Vaginal Masturbation'}], u'default_thumb': u'http://img02.redtubefiles.com/_thumbs/0000656/0656557/0656557_012m.jpg'}}\n",
        "{u'video': {u'rating': u'3.66', u'thumb': u'http://img02.redtubefiles.com/_thumbs/0000555/0555260/0555260_014m.jpg', u'ratings': u'242', u'url': u'http://www.redtube.com/555260', u'views': 164451, u'video_id': u'555260', u'publish_date': u'2014-03-09 05:40:01', u'duration': u'12:00', u'title': u'Hot tanned teen brunette gets stuffed', u'tags': [{u'tag_name': u'Blowjob'}, {u'tag_name': u'Brunette'}, {u'tag_name': u'Caucasian'}, {u'tag_name': u'Couple'}, {u'tag_name': u'Cum Shot'}, {u'tag_name': u'Oral Sex'}, {u'tag_name': u'Shaved'}, {u'tag_name': u'Teen'}, {u'tag_name': u'Vaginal Sex'}], u'default_thumb': u'http://img02.redtubefiles.com/_thumbs/0000555/0555260/0555260_014m.jpg'}}\n",
        "{u'video': {u'rating': u'3.66', u'thumb': u'http://img02.redtubefiles.com/_thumbs/0000480/0480216/0480216_010m.jpg', u'ratings': u'242', u'url': u'http://www.redtube.com/480216', u'views': 121512, u'video_id': u'480216', u'publish_date': u'2014-03-09 05:00:01', u'duration': u'15:17', u'title': u'Addicted to black cock', u'tags': [{u'tag_name': u'Big Ass'}, {u'tag_name': u'Big Cock'}, {u'tag_name': u'Blonde'}, {u'tag_name': u'Blowjob'}, {u'tag_name': u'Caucasian'}, {u'tag_name': u'Cum Shot'}, {u'tag_name': u'Gangbang'}, {u'tag_name': u'Interracial'}, {u'tag_name': u'Licking Vagina'}, {u'tag_name': u'Oral Sex'}], u'default_thumb': u'http://img02.redtubefiles.com/_thumbs/0000480/0480216/0480216_010m.jpg'}}\n",
        "{u'video': {u'rating': u'3.59', u'thumb': u'http://img03.redtubefiles.com/_thumbs/0000337/0337641/0337641_013m.jpg', u'ratings': u'278', u'url': u'http://www.redtube.com/337641', u'views': 235311, u'video_id': u'337641', u'publish_date': u'2014-03-09 04:20:02', u'duration': u'10:31', u'title': u'Big tit ebony masseuse tug therapy ', u'tags': [{u'tag_name': u'Big Tits'}, {u'tag_name': u'Brunette'}, {u'tag_name': u'Couple'}, {u'tag_name': u'Cum Shot'}, {u'tag_name': u'Ebony'}, {u'tag_name': u'Handjob'}, {u'tag_name': u'Interracial'}, {u'tag_name': u'Massage'}, {u'tag_name': u'Masturbation'}, {u'tag_name': u'Oral Sex'}, {u'tag_name': u'Position 69'}, {u'tag_name': u'Shaved'}], u'default_thumb': u'http://img03.redtubefiles.com/_thumbs/0000337/0337641/0337641_013m.jpg'}}\n",
        "{u'video': {u'rating': u'3.17', u'thumb': u'http://img03.redtubefiles.com/_thumbs/0000025/0025336/0025336_006m.jpg', u'ratings': u'162', u'url': u'http://www.redtube.com/25336', u'views': 124260, u'video_id': u'25336', u'publish_date': u'2014-03-09 03:34:01', u'stars': [{u'star_name': u'Amber Wild'}], u'duration': u'6:59', u'title': u'Smoke this shit, bitch!', u'tags': [{u'tag_name': u'Blonde'}, {u'tag_name': u'Blowjob'}, {u'tag_name': u'Caucasian'}, {u'tag_name': u'Couple'}, {u'tag_name': u'Cum Shot'}, {u'tag_name': u'Deepthroat'}, {u'tag_name': u'Oral Sex'}, {u'tag_name': u'Pornstar'}, {u'tag_name': u'Tattoos'}], u'default_thumb': u'http://img03.redtubefiles.com/_thumbs/0000025/0025336/0025336_006m.jpg'}}\n",
        "{u'video': {u'rating': u'3.86', u'thumb': u'http://img01.redtubefiles.com/_thumbs/0000194/0194222/0194222_005m.jpg', u'ratings': u'402', u'url': u'http://www.redtube.com/194222', u'views': 279629, u'video_id': u'194222', u'publish_date': u'2014-03-09 02:44:01', u'duration': u'25:22', u'title': u'Know breast', u'tags': [{u'tag_name': u'Big Tits'}, {u'tag_name': u'Blowjob'}, {u'tag_name': u'Couple'}, {u'tag_name': u'Hentai'}, {u'tag_name': u'Oral Sex'}, {u'tag_name': u'Vaginal Sex'}], u'default_thumb': u'http://img01.redtubefiles.com/_thumbs/0000194/0194222/0194222_005m.jpg'}}\n",
        "{u'video': {u'rating': u'3.48', u'thumb': u'http://img03.redtubefiles.com/_thumbs/0000357/0357915/0357915_015m.jpg', u'ratings': u'267', u'url': u'http://www.redtube.com/357915', u'views': 153220, u'video_id': u'357915', u'publish_date': u'2014-03-09 02:08:01', u'stars': [{u'star_name': u'Lindsay Kay'}], u'duration': u'20:23', u'title': u'She loves to stuff her mouth full of cocks', u'tags': [{u'tag_name': u'Black-haired'}, {u'tag_name': u'Blowjob'}, {u'tag_name': u'Caucasian'}, {u'tag_name': u'Cum Shot'}, {u'tag_name': u'Facial'}, {u'tag_name': u'Gangbang'}, {u'tag_name': u'Oral Sex'}, {u'tag_name': u'Pantyhose'}, {u'tag_name': u'Shaved'}, {u'tag_name': u'Small Tits'}, {u'tag_name': u'Vaginal Sex'}], u'default_thumb': u'http://img03.redtubefiles.com/_thumbs/0000357/0357915/0357915_015m.jpg'}}\n",
        "{u'video': {u'rating': u'4.13', u'thumb': u'http://img03.redtubefiles.com/_thumbs/0000548/0548408/0548408_014m.jpg', u'ratings': u'541', u'url': u'http://www.redtube.com/548408', u'views': 337535, u'video_id': u'548408', u'publish_date': u'2014-03-09 01:24:01', u'stars': [{u'star_name': u'Franceska Jaimes'}], u'duration': u'46:58', u'title': u'Anal with hot Franceska Jaimes', u'tags': [{u'tag_name': u'Anal Sex'}, {u'tag_name': u'Big Ass'}, {u'tag_name': u'Big Tits'}, {u'tag_name': u'Blowjob'}, {u'tag_name': u'Brunette'}, {u'tag_name': u'Couple'}, {u'tag_name': u'Cum Shot'}, {u'tag_name': u'High Heels'}, {u'tag_name': u'Latin'}, {u'tag_name': u'Oral Sex'}, {u'tag_name': u'Pornstar'}, {u'tag_name': u'Vaginal Sex'}], u'default_thumb': u'http://img03.redtubefiles.com/_thumbs/0000548/0548408/0548408_014m.jpg'}}\n",
        "{u'video': {u'rating': u'4.00', u'thumb': u'http://img02.redtubefiles.com/_thumbs/0000613/0613746/0613746_013m.jpg', u'ratings': u'607', u'url': u'http://www.redtube.com/613746', u'views': 410139, u'video_id': u'613746', u'publish_date': u'2014-03-09 00:40:01', u'stars': [{u'star_name': u'Alexis Texas'}, {u'star_name': u'Kortney Kane'}, {u'star_name': u'Madison Ivy'}, {u'star_name': u'Monique Alexander'}], u'duration': u'1:06:43', u'title': u'One night in the valley - Part 2', u'tags': [{u'tag_name': u'Anal Sex'}, {u'tag_name': u'Blowjob'}, {u'tag_name': u'Caucasian'}, {u'tag_name': u'Compilation'}, {u'tag_name': u'Couple'}, {u'tag_name': u'Cum Shot'}, {u'tag_name': u'Oral Sex'}, {u'tag_name': u'Pornstar'}, {u'tag_name': u'Vaginal Sex'}], u'default_thumb': u'http://img02.redtubefiles.com/_thumbs/0000613/0613746/0613746_013m.jpg'}}\n",
        "{u'video': {u'rating': u'4.05', u'thumb': u'http://img04.redtubefiles.com/_thumbs/0000400/0400614/0400614_015m.jpg', u'ratings': u'1392', u'url': u'http://www.redtube.com/400614', u'views': 999807, u'video_id': u'400614', u'publish_date': u'2014-03-09 00:18:02', u'duration': u'12:31', u'title': u'Got milk?', u'tags': [{u'tag_name': u'Big Tits'}, {u'tag_name': u'Brunette'}, {u'tag_name': u'Caucasian'}, {u'tag_name': u'Kissing'}, {u'tag_name': u'Lesbian'}], u'default_thumb': u'http://img04.redtubefiles.com/_thumbs/0000400/0400614/0400614_015m.jpg'}}\n",
        "{u'video': {u'rating': u'3.88', u'thumb': u'http://img01.redtubefiles.com/_thumbs/0000670/0670578/0670578_002m.jpg', u'ratings': u'615', u'url': u'http://www.redtube.com/670578', u'views': 415079, u'video_id': u'670578', u'publish_date': u'2014-03-08 23:02:01', u'duration': u'2:03:15', u'title': u'Japanese mothers oral sex sex sex first night', u'tags': [{u'tag_name': u'Asian'}, {u'tag_name': u'Blowjob'}, {u'tag_name': u'Brunette'}, {u'tag_name': u'Censored'}, {u'tag_name': u'Couple'}, {u'tag_name': u'Cream Pie'}, {u'tag_name': u'Japanese'}, {u'tag_name': u'MILF'}, {u'tag_name': u'Oral Sex'}, {u'tag_name': u'Vaginal Sex'}], u'default_thumb': u'http://img01.redtubefiles.com/_thumbs/0000670/0670578/0670578_002m.jpg'}}\n",
        "{u'video': {u'rating': u'3.31', u'thumb': u'http://img03.redtubefiles.com/_thumbs/0000084/0084464/0084464_011m.jpg', u'ratings': u'261', u'url': u'http://www.redtube.com/84464', u'views': 197835, u'video_id': u'84464', u'publish_date': u'2014-03-08 22:24:01', u'duration': u'21:06', u'title': u'Threesome masturbation', u'tags': [{u'tag_name': u'Anal Masturbation'}, {u'tag_name': u'Anal Sex'}, {u'tag_name': u'Blowjob'}, {u'tag_name': u'Brunette'}, {u'tag_name': u'Caucasian'}, {u'tag_name': u'Cream Pie'}, {u'tag_name': u'Cum Shot'}, {u'tag_name': u'Fetish'}, {u'tag_name': u'High Heels'}, {u'tag_name': u'Masturbation'}, {u'tag_name': u'Oral Sex'}, {u'tag_name': u'Threesome'}], u'default_thumb': u'http://img03.redtubefiles.com/_thumbs/0000084/0084464/0084464_011m.jpg'}}\n"
       ]
      }
     ],
     "prompt_number": 38
    },
    {
     "cell_type": "code",
     "collapsed": false,
     "input": [
      "titlost = []"
     ],
     "language": "python",
     "metadata": {},
     "outputs": [],
     "prompt_number": 39
    },
    {
     "cell_type": "code",
     "collapsed": false,
     "input": [
      "for nums in range(20):\n",
      "    naoPrn = loaPrn[u'videos'][nums]\n",
      "    #print naoPrn\n",
      "    \n",
      "    ngePrn = naoPrn[u'video']\n",
      "    #print ngePrn\n",
      "    urlPrn = ngePrn[u'title']\n",
      "    titlost.append(urlPrn)\n",
      "    print urlPrn"
     ],
     "language": "python",
     "metadata": {},
     "outputs": [
      {
       "output_type": "stream",
       "stream": "stdout",
       "text": [
        "Hot body blonde creampie fisting\n",
        "Vintage couple pussy fuck\n",
        "Father figure 1\n",
        "Bruna Ferraz 300\n",
        "Kinky Macy Lee makes a sex tape \n",
        "Kinki Joe chestbuster fisting\n",
        "Nicole milks her husband in the garden\n",
        "Slut getting sandwiched\n",
        "Adrianna Nicole sucks and fucks\n",
        "Hot tanned teen brunette gets stuffed\n",
        "Addicted to black cock\n",
        "Big tit ebony masseuse tug therapy \n",
        "Smoke this shit, bitch!\n",
        "Know breast\n",
        "She loves to stuff her mouth full of cocks\n",
        "Anal with hot Franceska Jaimes\n",
        "One night in the valley - Part 2\n",
        "Got milk?\n",
        "Japanese mothers oral sex sex sex first night\n",
        "Threesome masturbation\n"
       ]
      }
     ],
     "prompt_number": 40
    },
    {
     "cell_type": "code",
     "collapsed": false,
     "input": [
      "print titlost"
     ],
     "language": "python",
     "metadata": {},
     "outputs": [
      {
       "output_type": "stream",
       "stream": "stdout",
       "text": [
        "[u'Hot body blonde creampie fisting', u'Vintage couple pussy fuck', u'Father figure 1', u'Bruna Ferraz 300', u'Kinky Macy Lee makes a sex tape ', u'Kinki Joe chestbuster fisting', u'Nicole milks her husband in the garden', u'Slut getting sandwiched', u'Adrianna Nicole sucks and fucks', u'Hot tanned teen brunette gets stuffed', u'Addicted to black cock', u'Big tit ebony masseuse tug therapy ', u'Smoke this shit, bitch!', u'Know breast', u'She loves to stuff her mouth full of cocks', u'Anal with hot Franceska Jaimes', u'One night in the valley - Part 2', u'Got milk?', u'Japanese mothers oral sex sex sex first night', u'Threesome masturbation']\n"
       ]
      }
     ],
     "prompt_number": 41
    },
    {
     "cell_type": "code",
     "collapsed": false,
     "input": [
      "strlost = str(titlost)"
     ],
     "language": "python",
     "metadata": {},
     "outputs": [],
     "prompt_number": 42
    },
    {
     "cell_type": "code",
     "collapsed": false,
     "input": [
      "savedoc = open('prnsav', 'w')"
     ],
     "language": "python",
     "metadata": {},
     "outputs": [],
     "prompt_number": 43
    },
    {
     "cell_type": "code",
     "collapsed": false,
     "input": [
      "savedoc.write(strlost)"
     ],
     "language": "python",
     "metadata": {},
     "outputs": [],
     "prompt_number": 44
    },
    {
     "cell_type": "code",
     "collapsed": false,
     "input": [
      "savedoc.close()"
     ],
     "language": "python",
     "metadata": {},
     "outputs": [],
     "prompt_number": 45
    },
    {
     "cell_type": "code",
     "collapsed": false,
     "input": [
      "opendoc = open('prnsav', 'r')\n",
      "opendoc.read()"
     ],
     "language": "python",
     "metadata": {},
     "outputs": [
      {
       "output_type": "pyout",
       "prompt_number": 46,
       "text": [
        "\"[u'Hot body blonde creampie fisting', u'Vintage couple pussy fuck', u'Father figure 1', u'Bruna Ferraz 300', u'Kinky Macy Lee makes a sex tape ', u'Kinki Joe chestbuster fisting', u'Nicole milks her husband in the garden', u'Slut getting sandwiched', u'Adrianna Nicole sucks and fucks', u'Hot tanned teen brunette gets stuffed', u'Addicted to black cock', u'Big tit ebony masseuse tug therapy ', u'Smoke this shit, bitch!', u'Know breast', u'She loves to stuff her mouth full of cocks', u'Anal with hot Franceska Jaimes', u'One night in the valley - Part 2', u'Got milk?', u'Japanese mothers oral sex sex sex first night', u'Threesome masturbation']\""
       ]
      }
     ],
     "prompt_number": 46
    },
    {
     "cell_type": "code",
     "collapsed": false,
     "input": [
      "naoPrn = loaPrn[u'videos'][5]\n",
      "print naoPrn"
     ],
     "language": "python",
     "metadata": {},
     "outputs": [
      {
       "output_type": "stream",
       "stream": "stdout",
       "text": [
        "{u'video': {u'rating': u'4.28', u'thumb': u'http://img04.redtubefiles.com/_thumbs/0000250/0250256/0250256_008m.jpg', u'ratings': u'644', u'url': u'http://www.redtube.com/250256', u'views': 586966, u'video_id': u'250256', u'publish_date': u'2014-03-09 08:24:01', u'duration': u'8:34', u'title': u'Kinki Joe chestbuster fisting', u'tags': [{u'tag_name': u'Anal Masturbation'}, {u'tag_name': u'Black-haired'}, {u'tag_name': u'Caucasian'}, {u'tag_name': u'Fisting'}, {u'tag_name': u'Lesbian'}, {u'tag_name': u'Masturbation'}, {u'tag_name': u'Spectacular'}, {u'tag_name': u'Vaginal Masturbation'}], u'default_thumb': u'http://img04.redtubefiles.com/_thumbs/0000250/0250256/0250256_008m.jpg'}}\n"
       ]
      }
     ],
     "prompt_number": 47
    },
    {
     "cell_type": "markdown",
     "metadata": {},
     "source": [
      "Compress down - look at first element of json object. You could cycle through older elements\n",
      "by increasing the int"
     ]
    },
    {
     "cell_type": "code",
     "collapsed": false,
     "input": [
      "ngePrn = naoPrn[u'video']\n",
      "print ngePrn"
     ],
     "language": "python",
     "metadata": {},
     "outputs": [
      {
       "output_type": "stream",
       "stream": "stdout",
       "text": [
        "{u'rating': u'4.28', u'thumb': u'http://img04.redtubefiles.com/_thumbs/0000250/0250256/0250256_008m.jpg', u'ratings': u'644', u'url': u'http://www.redtube.com/250256', u'views': 586966, u'video_id': u'250256', u'publish_date': u'2014-03-09 08:24:01', u'duration': u'8:34', u'title': u'Kinki Joe chestbuster fisting', u'tags': [{u'tag_name': u'Anal Masturbation'}, {u'tag_name': u'Black-haired'}, {u'tag_name': u'Caucasian'}, {u'tag_name': u'Fisting'}, {u'tag_name': u'Lesbian'}, {u'tag_name': u'Masturbation'}, {u'tag_name': u'Spectacular'}, {u'tag_name': u'Vaginal Masturbation'}], u'default_thumb': u'http://img04.redtubefiles.com/_thumbs/0000250/0250256/0250256_008m.jpg'}\n"
       ]
      }
     ],
     "prompt_number": 48
    },
    {
     "cell_type": "markdown",
     "metadata": {},
     "source": [
      "Compress down again - this time video. It's always a bit of a trial and error to figure out\n",
      "navagating json objects, IPython is perfect for this. "
     ]
    },
    {
     "cell_type": "code",
     "collapsed": false,
     "input": [
      "prnkey = ngePrn.keys()"
     ],
     "language": "python",
     "metadata": {},
     "outputs": [],
     "prompt_number": 51
    },
    {
     "cell_type": "code",
     "collapsed": false,
     "input": [
      "print prnkey"
     ],
     "language": "python",
     "metadata": {},
     "outputs": [
      {
       "output_type": "stream",
       "stream": "stdout",
       "text": [
        "[u'rating', u'thumb', u'ratings', u'url', u'views', u'video_id', u'publish_date', u'duration', u'title', u'tags', u'default_thumb']\n"
       ]
      }
     ],
     "prompt_number": 55
    },
    {
     "cell_type": "code",
     "collapsed": false,
     "input": [
      "prnls = []"
     ],
     "language": "python",
     "metadata": {},
     "outputs": [],
     "prompt_number": 56
    },
    {
     "cell_type": "code",
     "collapsed": false,
     "input": [
      "for x in prnkey:\n",
      "    prnls.append(ngePrn[x])\n",
      "    print ngePrn[x]"
     ],
     "language": "python",
     "metadata": {},
     "outputs": [
      {
       "output_type": "stream",
       "stream": "stdout",
       "text": [
        "4.28\n",
        "http://img04.redtubefiles.com/_thumbs/0000250/0250256/0250256_008m.jpg\n",
        "644\n",
        "http://www.redtube.com/250256\n",
        "586966\n",
        "250256\n",
        "2014-03-09 08:24:01\n",
        "8:34\n",
        "Kinki Joe chestbuster fisting\n",
        "[{u'tag_name': u'Anal Masturbation'}, {u'tag_name': u'Black-haired'}, {u'tag_name': u'Caucasian'}, {u'tag_name': u'Fisting'}, {u'tag_name': u'Lesbian'}, {u'tag_name': u'Masturbation'}, {u'tag_name': u'Spectacular'}, {u'tag_name': u'Vaginal Masturbation'}]\n",
        "http://img04.redtubefiles.com/_thumbs/0000250/0250256/0250256_008m.jpg\n"
       ]
      }
     ],
     "prompt_number": 59
    },
    {
     "cell_type": "heading",
     "level": 2,
     "metadata": {},
     "source": [
      "Individual Data!"
     ]
    },
    {
     "cell_type": "code",
     "collapsed": false,
     "input": [
      "print prnls"
     ],
     "language": "python",
     "metadata": {},
     "outputs": [
      {
       "output_type": "stream",
       "stream": "stdout",
       "text": [
        "[u'rating', u'thumb', u'ratings', u'url', u'views', u'video_id', u'publish_date', u'duration', u'title', u'tags', u'default_thumb', u'4.28', u'http://img04.redtubefiles.com/_thumbs/0000250/0250256/0250256_008m.jpg', u'644', u'http://www.redtube.com/250256', 586966, u'250256', u'2014-03-09 08:24:01', u'8:34', u'Kinki Joe chestbuster fisting', [{u'tag_name': u'Anal Masturbation'}, {u'tag_name': u'Black-haired'}, {u'tag_name': u'Caucasian'}, {u'tag_name': u'Fisting'}, {u'tag_name': u'Lesbian'}, {u'tag_name': u'Masturbation'}, {u'tag_name': u'Spectacular'}, {u'tag_name': u'Vaginal Masturbation'}], u'http://img04.redtubefiles.com/_thumbs/0000250/0250256/0250256_008m.jpg']\n"
       ]
      }
     ],
     "prompt_number": 60
    },
    {
     "cell_type": "markdown",
     "metadata": {},
     "source": [
      "This could be imporoved by turning the following unicode into a list and get the program\n",
      "to cycle though - saving off each element. Maybe save to a list?"
     ]
    },
    {
     "cell_type": "code",
     "collapsed": false,
     "input": [
      "ratPrn = ngePrn[u'title']"
     ],
     "language": "python",
     "metadata": {},
     "outputs": [],
     "prompt_number": 26
    },
    {
     "cell_type": "code",
     "collapsed": false,
     "input": [
      "for k in naoPrn:\n",
      "    print k"
     ],
     "language": "python",
     "metadata": {},
     "outputs": [
      {
       "output_type": "stream",
       "stream": "stdout",
       "text": [
        "video\n"
       ]
      }
     ],
     "prompt_number": 27
    },
    {
     "cell_type": "code",
     "collapsed": false,
     "input": [
      "from PIL import Image"
     ],
     "language": "python",
     "metadata": {},
     "outputs": [],
     "prompt_number": 28
    },
    {
     "cell_type": "code",
     "collapsed": false,
     "input": [
      "im = Image.open('ratPrn')"
     ],
     "language": "python",
     "metadata": {},
     "outputs": [
      {
       "ename": "IOError",
       "evalue": "[Errno 2] No such file or directory: 'ratPrn'",
       "output_type": "pyerr",
       "traceback": [
        "\u001b[0;31m---------------------------------------------------------------------------\u001b[0m\n\u001b[0;31mIOError\u001b[0m                                   Traceback (most recent call last)",
        "\u001b[0;32m<ipython-input-29-87bb26467892>\u001b[0m in \u001b[0;36m<module>\u001b[0;34m()\u001b[0m\n\u001b[0;32m----> 1\u001b[0;31m \u001b[0mim\u001b[0m \u001b[0;34m=\u001b[0m \u001b[0mImage\u001b[0m\u001b[0;34m.\u001b[0m\u001b[0mopen\u001b[0m\u001b[0;34m(\u001b[0m\u001b[0;34m'ratPrn'\u001b[0m\u001b[0;34m)\u001b[0m\u001b[0;34m\u001b[0m\u001b[0m\n\u001b[0m",
        "\u001b[0;32m/usr/lib/python2.7/dist-packages/PIL/Image.pyc\u001b[0m in \u001b[0;36mopen\u001b[0;34m(fp, mode)\u001b[0m\n\u001b[1;32m   1950\u001b[0m         \u001b[0;32mimport\u001b[0m \u001b[0m__builtin__\u001b[0m\u001b[0;34m\u001b[0m\u001b[0m\n\u001b[1;32m   1951\u001b[0m         \u001b[0mfilename\u001b[0m \u001b[0;34m=\u001b[0m \u001b[0mfp\u001b[0m\u001b[0;34m\u001b[0m\u001b[0m\n\u001b[0;32m-> 1952\u001b[0;31m         \u001b[0mfp\u001b[0m \u001b[0;34m=\u001b[0m \u001b[0m__builtin__\u001b[0m\u001b[0;34m.\u001b[0m\u001b[0mopen\u001b[0m\u001b[0;34m(\u001b[0m\u001b[0mfp\u001b[0m\u001b[0;34m,\u001b[0m \u001b[0;34m\"rb\"\u001b[0m\u001b[0;34m)\u001b[0m\u001b[0;34m\u001b[0m\u001b[0m\n\u001b[0m\u001b[1;32m   1953\u001b[0m     \u001b[0;32melse\u001b[0m\u001b[0;34m:\u001b[0m\u001b[0;34m\u001b[0m\u001b[0m\n\u001b[1;32m   1954\u001b[0m         \u001b[0mfilename\u001b[0m \u001b[0;34m=\u001b[0m \u001b[0;34m\"\"\u001b[0m\u001b[0;34m\u001b[0m\u001b[0m\n",
        "\u001b[0;31mIOError\u001b[0m: [Errno 2] No such file or directory: 'ratPrn'"
       ]
      }
     ],
     "prompt_number": 29
    },
    {
     "cell_type": "code",
     "collapsed": false,
     "input": [
      "thumPrn = ratPrn[u'thumb']"
     ],
     "language": "python",
     "metadata": {},
     "outputs": [
      {
       "ename": "TypeError",
       "evalue": "string indices must be integers",
       "output_type": "pyerr",
       "traceback": [
        "\u001b[0;31m---------------------------------------------------------------------------\u001b[0m\n\u001b[0;31mTypeError\u001b[0m                                 Traceback (most recent call last)",
        "\u001b[0;32m<ipython-input-30-6deebaa3e6c8>\u001b[0m in \u001b[0;36m<module>\u001b[0;34m()\u001b[0m\n\u001b[0;32m----> 1\u001b[0;31m \u001b[0mthumPrn\u001b[0m \u001b[0;34m=\u001b[0m \u001b[0mratPrn\u001b[0m\u001b[0;34m[\u001b[0m\u001b[0;34mu'thumb'\u001b[0m\u001b[0;34m]\u001b[0m\u001b[0;34m\u001b[0m\u001b[0m\n\u001b[0m",
        "\u001b[0;31mTypeError\u001b[0m: string indices must be integers"
       ]
      }
     ],
     "prompt_number": 30
    },
    {
     "cell_type": "code",
     "collapsed": false,
     "input": [
      "print thumPrn"
     ],
     "language": "python",
     "metadata": {},
     "outputs": [
      {
       "ename": "NameError",
       "evalue": "name 'thumPrn' is not defined",
       "output_type": "pyerr",
       "traceback": [
        "\u001b[0;31m---------------------------------------------------------------------------\u001b[0m\n\u001b[0;31mNameError\u001b[0m                                 Traceback (most recent call last)",
        "\u001b[0;32m<ipython-input-31-cdc52c814fc5>\u001b[0m in \u001b[0;36m<module>\u001b[0;34m()\u001b[0m\n\u001b[0;32m----> 1\u001b[0;31m \u001b[0;32mprint\u001b[0m \u001b[0mthumPrn\u001b[0m\u001b[0;34m\u001b[0m\u001b[0m\n\u001b[0m",
        "\u001b[0;31mNameError\u001b[0m: name 'thumPrn' is not defined"
       ]
      }
     ],
     "prompt_number": 31
    },
    {
     "cell_type": "code",
     "collapsed": false,
     "input": [
      "ratPrn = ngePrn[u'ratings']\n",
      "print ratPrn"
     ],
     "language": "python",
     "metadata": {},
     "outputs": [
      {
       "output_type": "stream",
       "stream": "stdout",
       "text": [
        "634\n"
       ]
      }
     ],
     "prompt_number": 32
    },
    {
     "cell_type": "code",
     "collapsed": false,
     "input": [
      "urlPrn = ngePrn[u'url']\n",
      "print urlPrn"
     ],
     "language": "python",
     "metadata": {},
     "outputs": [
      {
       "output_type": "stream",
       "stream": "stdout",
       "text": [
        "http://www.redtube.com/250256\n"
       ]
      }
     ],
     "prompt_number": 33
    },
    {
     "cell_type": "code",
     "collapsed": false,
     "input": [
      "viwPrn = ngePrn[u'views']\n",
      "print viwPrn"
     ],
     "language": "python",
     "metadata": {},
     "outputs": [
      {
       "output_type": "stream",
       "stream": "stdout",
       "text": [
        "579729\n"
       ]
      }
     ],
     "prompt_number": 34
    },
    {
     "cell_type": "code",
     "collapsed": false,
     "input": [
      "idPrn = ngePrn[u'video_id']\n",
      "print idPrn"
     ],
     "language": "python",
     "metadata": {},
     "outputs": [
      {
       "output_type": "stream",
       "stream": "stdout",
       "text": [
        "250256\n"
       ]
      }
     ],
     "prompt_number": 35
    },
    {
     "cell_type": "code",
     "collapsed": false,
     "input": [
      "pdaPrn = ngePrn[u'publish_date']\n",
      "print pdaPrn"
     ],
     "language": "python",
     "metadata": {},
     "outputs": [
      {
       "output_type": "stream",
       "stream": "stdout",
       "text": [
        "2014-03-09 08:24:01\n"
       ]
      }
     ],
     "prompt_number": 36
    },
    {
     "cell_type": "code",
     "collapsed": false,
     "input": [
      "timPrn = ngePrn[u'duration']\n",
      "print timPrn"
     ],
     "language": "python",
     "metadata": {},
     "outputs": [
      {
       "output_type": "stream",
       "stream": "stdout",
       "text": [
        "8:34\n"
       ]
      }
     ],
     "prompt_number": 37
    },
    {
     "cell_type": "code",
     "collapsed": false,
     "input": [
      "titPrn = ngePrn[u'title']\n",
      "print titPrn"
     ],
     "language": "python",
     "metadata": {},
     "outputs": [
      {
       "output_type": "stream",
       "stream": "stdout",
       "text": [
        "Kinki Joe chestbuster fisting\n"
       ]
      }
     ],
     "prompt_number": 38
    },
    {
     "cell_type": "code",
     "collapsed": false,
     "input": [
      "tagPrn = ngePrn[u'tags']\n",
      "print tagPrn"
     ],
     "language": "python",
     "metadata": {},
     "outputs": [
      {
       "output_type": "stream",
       "stream": "stdout",
       "text": [
        "[{u'tag_name': u'Anal Masturbation'}, {u'tag_name': u'Black-haired'}, {u'tag_name': u'Caucasian'}, {u'tag_name': u'Fisting'}, {u'tag_name': u'Lesbian'}, {u'tag_name': u'Masturbation'}, {u'tag_name': u'Spectacular'}, {u'tag_name': u'Vaginal Masturbation'}]\n"
       ]
      }
     ],
     "prompt_number": 39
    },
    {
     "cell_type": "code",
     "collapsed": false,
     "input": [
      "derbPrn = (tagPrn, 'tag_name')\n",
      "print derbPrn"
     ],
     "language": "python",
     "metadata": {},
     "outputs": [
      {
       "output_type": "stream",
       "stream": "stdout",
       "text": [
        "([{u'tag_name': u'Anal Masturbation'}, {u'tag_name': u'Black-haired'}, {u'tag_name': u'Caucasian'}, {u'tag_name': u'Fisting'}, {u'tag_name': u'Lesbian'}, {u'tag_name': u'Masturbation'}, {u'tag_name': u'Spectacular'}, {u'tag_name': u'Vaginal Masturbation'}], 'tag_name')\n"
       ]
      }
     ],
     "prompt_number": 40
    },
    {
     "cell_type": "code",
     "collapsed": false,
     "input": [
      "thNum = 0\n",
      "taTrn = tagPrn[thNum]\n",
      "print taTrn\n",
      "thNum + 1"
     ],
     "language": "python",
     "metadata": {},
     "outputs": [
      {
       "output_type": "stream",
       "stream": "stdout",
       "text": [
        "{u'tag_name': u'Anal Masturbation'}\n"
       ]
      },
      {
       "output_type": "pyout",
       "prompt_number": 61,
       "text": [
        "1"
       ]
      }
     ],
     "prompt_number": 61
    },
    {
     "cell_type": "markdown",
     "metadata": {},
     "source": [
      "TODO: Cycle the list and print all tags"
     ]
    },
    {
     "cell_type": "code",
     "collapsed": false,
     "input": [
      "naTrn = taTrn['tag_name']\n",
      "print naTrn"
     ],
     "language": "python",
     "metadata": {},
     "outputs": [
      {
       "output_type": "stream",
       "stream": "stdout",
       "text": [
        "Anal Masturbation\n"
       ]
      }
     ],
     "prompt_number": 62
    },
    {
     "cell_type": "code",
     "collapsed": false,
     "input": [
      "demHub = (titlHub, titPrn, naTrn, urlPrn, pdaPrn, thumPrn, imgHub, linHub)"
     ],
     "language": "python",
     "metadata": {},
     "outputs": [
      {
       "ename": "NameError",
       "evalue": "name 'thumPrn' is not defined",
       "output_type": "pyerr",
       "traceback": [
        "\u001b[0;31m---------------------------------------------------------------------------\u001b[0m\n\u001b[0;31mNameError\u001b[0m                                 Traceback (most recent call last)",
        "\u001b[0;32m<ipython-input-63-92c00aef343e>\u001b[0m in \u001b[0;36m<module>\u001b[0;34m()\u001b[0m\n\u001b[0;32m----> 1\u001b[0;31m \u001b[0mdemHub\u001b[0m \u001b[0;34m=\u001b[0m \u001b[0;34m(\u001b[0m\u001b[0mtitlHub\u001b[0m\u001b[0;34m,\u001b[0m \u001b[0mtitPrn\u001b[0m\u001b[0;34m,\u001b[0m \u001b[0mnaTrn\u001b[0m\u001b[0;34m,\u001b[0m \u001b[0murlPrn\u001b[0m\u001b[0;34m,\u001b[0m \u001b[0mpdaPrn\u001b[0m\u001b[0;34m,\u001b[0m \u001b[0mthumPrn\u001b[0m\u001b[0;34m,\u001b[0m \u001b[0mimgHub\u001b[0m\u001b[0;34m,\u001b[0m \u001b[0mlinHub\u001b[0m\u001b[0;34m)\u001b[0m\u001b[0;34m\u001b[0m\u001b[0m\n\u001b[0m",
        "\u001b[0;31mNameError\u001b[0m: name 'thumPrn' is not defined"
       ]
      }
     ],
     "prompt_number": 63
    },
    {
     "cell_type": "code",
     "collapsed": false,
     "input": [
      "print demHub"
     ],
     "language": "python",
     "metadata": {},
     "outputs": [
      {
       "ename": "NameError",
       "evalue": "name 'demHub' is not defined",
       "output_type": "pyerr",
       "traceback": [
        "\u001b[0;31m---------------------------------------------------------------------------\u001b[0m\n\u001b[0;31mNameError\u001b[0m                                 Traceback (most recent call last)",
        "\u001b[0;32m<ipython-input-64-6eb63e43e38f>\u001b[0m in \u001b[0;36m<module>\u001b[0;34m()\u001b[0m\n\u001b[0;32m----> 1\u001b[0;31m \u001b[0;32mprint\u001b[0m \u001b[0mdemHub\u001b[0m\u001b[0;34m\u001b[0m\u001b[0m\n\u001b[0m",
        "\u001b[0;31mNameError\u001b[0m: name 'demHub' is not defined"
       ]
      }
     ],
     "prompt_number": 64
    },
    {
     "cell_type": "heading",
     "level": 2,
     "metadata": {},
     "source": [
      "Saving Data"
     ]
    },
    {
     "cell_type": "markdown",
     "metadata": {},
     "source": []
    },
    {
     "cell_type": "code",
     "collapsed": false,
     "input": [
      "savPrn = open('savPrn','w')\n",
      "savPrn.write('<h3 style=\"text-align: center;\"><a href=\"' + urlPrn + '\">')\n",
      "savPrn.write(titPrn + '</a></h3>')\n",
      "savPrn.write('<p style=\"text-align: right;\">' + pdaPrn)\n",
      "savPrn.write('</a></h3><img class=\"aligncenter\" alt=\"null\" src=\"' + thumPrn)\n",
      "savPrn.write('\" />')\n",
      "savPrn.close()"
     ],
     "language": "python",
     "metadata": {},
     "outputs": [
      {
       "ename": "NameError",
       "evalue": "name 'thumPrn' is not defined",
       "output_type": "pyerr",
       "traceback": [
        "\u001b[0;31m---------------------------------------------------------------------------\u001b[0m\n\u001b[0;31mNameError\u001b[0m                                 Traceback (most recent call last)",
        "\u001b[0;32m<ipython-input-65-a9276e043280>\u001b[0m in \u001b[0;36m<module>\u001b[0;34m()\u001b[0m\n\u001b[1;32m      3\u001b[0m \u001b[0msavPrn\u001b[0m\u001b[0;34m.\u001b[0m\u001b[0mwrite\u001b[0m\u001b[0;34m(\u001b[0m\u001b[0mtitPrn\u001b[0m \u001b[0;34m+\u001b[0m \u001b[0;34m'</a></h3>'\u001b[0m\u001b[0;34m)\u001b[0m\u001b[0;34m\u001b[0m\u001b[0m\n\u001b[1;32m      4\u001b[0m \u001b[0msavPrn\u001b[0m\u001b[0;34m.\u001b[0m\u001b[0mwrite\u001b[0m\u001b[0;34m(\u001b[0m\u001b[0;34m'<p style=\"text-align: right;\">'\u001b[0m \u001b[0;34m+\u001b[0m \u001b[0mpdaPrn\u001b[0m\u001b[0;34m)\u001b[0m\u001b[0;34m\u001b[0m\u001b[0m\n\u001b[0;32m----> 5\u001b[0;31m \u001b[0msavPrn\u001b[0m\u001b[0;34m.\u001b[0m\u001b[0mwrite\u001b[0m\u001b[0;34m(\u001b[0m\u001b[0;34m'</a></h3><img class=\"aligncenter\" alt=\"null\" src=\"'\u001b[0m \u001b[0;34m+\u001b[0m \u001b[0mthumPrn\u001b[0m\u001b[0;34m)\u001b[0m\u001b[0;34m\u001b[0m\u001b[0m\n\u001b[0m\u001b[1;32m      6\u001b[0m \u001b[0msavPrn\u001b[0m\u001b[0;34m.\u001b[0m\u001b[0mwrite\u001b[0m\u001b[0;34m(\u001b[0m\u001b[0;34m'\" />'\u001b[0m\u001b[0;34m)\u001b[0m\u001b[0;34m\u001b[0m\u001b[0m\n\u001b[1;32m      7\u001b[0m \u001b[0msavPrn\u001b[0m\u001b[0;34m.\u001b[0m\u001b[0mclose\u001b[0m\u001b[0;34m(\u001b[0m\u001b[0;34m)\u001b[0m\u001b[0;34m\u001b[0m\u001b[0m\n",
        "\u001b[0;31mNameError\u001b[0m: name 'thumPrn' is not defined"
       ]
      }
     ],
     "prompt_number": 65
    },
    {
     "cell_type": "code",
     "collapsed": false,
     "input": [
      "savTub"
     ],
     "language": "python",
     "metadata": {},
     "outputs": [
      {
       "ename": "NameError",
       "evalue": "name 'savTub' is not defined",
       "output_type": "pyerr",
       "traceback": [
        "\u001b[0;31m---------------------------------------------------------------------------\u001b[0m\n\u001b[0;31mNameError\u001b[0m                                 Traceback (most recent call last)",
        "\u001b[0;32m<ipython-input-66-cc9a9cacfd90>\u001b[0m in \u001b[0;36m<module>\u001b[0;34m()\u001b[0m\n\u001b[0;32m----> 1\u001b[0;31m \u001b[0msavTub\u001b[0m\u001b[0;34m\u001b[0m\u001b[0m\n\u001b[0m",
        "\u001b[0;31mNameError\u001b[0m: name 'savTub' is not defined"
       ]
      }
     ],
     "prompt_number": 66
    },
    {
     "cell_type": "code",
     "collapsed": false,
     "input": [
      "ls"
     ],
     "language": "python",
     "metadata": {},
     "outputs": [
      {
       "output_type": "stream",
       "stream": "stdout",
       "text": [
        "LICENSE                                myfile.txt     savPrn\r\n",
        "README.md                              prnsav         tlc.ipynb\r\n",
        "artcontrol.ipynb                       redTube.ipynb  tlc.py\r\n",
        "artcontrolme.wordpress.2014-02-10.xml  redTube.py     tpb.ipynb\r\n",
        "config                                 result         uploads.html\r\n",
        "home.html                              salecus.ipynb  \u001b[0m\u001b[01;34mwww.tlcstudents.ac.nz\u001b[0m/\r\n",
        "linkz                                  salecus.py\r\n"
       ]
      }
     ],
     "prompt_number": 67
    },
    {
     "cell_type": "code",
     "collapsed": false,
     "input": [
      "opPrn = open('savPrn','r')\n",
      "for op in opPrn:\n",
      "    print op"
     ],
     "language": "python",
     "metadata": {},
     "outputs": [
      {
       "output_type": "stream",
       "stream": "stdout",
       "text": [
        "<h3 style=\"text-align: center;\"><a href=\"http://www.redtube.com/250256\">Kinki Joe chestbuster fisting</a></h3><p style=\"text-align: right;\">2014-03-09 08:24:01\n"
       ]
      }
     ],
     "prompt_number": 68
    },
    {
     "cell_type": "code",
     "collapsed": false,
     "input": [],
     "language": "python",
     "metadata": {},
     "outputs": [],
     "prompt_number": 68
    },
    {
     "cell_type": "heading",
     "level": 1,
     "metadata": {},
     "source": [
      "PornHub"
     ]
    },
    {
     "cell_type": "code",
     "collapsed": false,
     "input": [
      "import feedparser"
     ],
     "language": "python",
     "metadata": {},
     "outputs": [],
     "prompt_number": 1
    },
    {
     "cell_type": "code",
     "collapsed": false,
     "input": [
      "urlHub = feedparser.parse('http://www.pornhub.com/video/webmasterss')"
     ],
     "language": "python",
     "metadata": {},
     "outputs": [],
     "prompt_number": 2
    },
    {
     "cell_type": "code",
     "collapsed": false,
     "input": [
      "urlHub['feed']['title']"
     ],
     "language": "python",
     "metadata": {},
     "outputs": [
      {
       "output_type": "pyout",
       "prompt_number": 3,
       "text": [
        "u'Pornhub - RSS Video Feed'"
       ]
      }
     ],
     "prompt_number": 3
    },
    {
     "cell_type": "code",
     "collapsed": false,
     "input": [
      "tlinHub = urlHub['feed']['link']"
     ],
     "language": "python",
     "metadata": {},
     "outputs": [],
     "prompt_number": 4
    },
    {
     "cell_type": "code",
     "collapsed": false,
     "input": [
      "pubHub = urlHub['feed']['published']"
     ],
     "language": "python",
     "metadata": {},
     "outputs": [],
     "prompt_number": 5
    },
    {
     "cell_type": "code",
     "collapsed": false,
     "input": [
      "linHub = urlHub.entries[0].link"
     ],
     "language": "python",
     "metadata": {},
     "outputs": [],
     "prompt_number": 6
    },
    {
     "cell_type": "code",
     "collapsed": false,
     "input": [
      "titlHub = urlHub.entries[0].title"
     ],
     "language": "python",
     "metadata": {},
     "outputs": [],
     "prompt_number": 7
    },
    {
     "cell_type": "code",
     "collapsed": false,
     "input": [
      "imgHub = urlHub.entries[0].thumb_large"
     ],
     "language": "python",
     "metadata": {},
     "outputs": [],
     "prompt_number": 8
    },
    {
     "cell_type": "code",
     "collapsed": false,
     "input": [
      "urlHub.entries[0]"
     ],
     "language": "python",
     "metadata": {},
     "outputs": [
      {
       "output_type": "pyout",
       "prompt_number": 9,
       "text": [
        "{'duration': u'396',\n",
        " 'embed': u'<iframe src=\"http://www.pornhub.com/embed/1580387144\" frameborder=\"0\" width=\"608\" height=\"338\" scrolling=\"no\"><a href=\"http://www.pornhub.com/view_video.php?viewkey=1580387144\">Deep Stars 3D - Hot Finger lickin&#39; Lesbos Go Deep in the Pink</a></iframe>',\n",
        " 'link': u'http://www.pornhub.com/view_video.php?viewkey=1580387144',\n",
        " 'links': [{'href': u'http://www.pornhub.com/view_video.php?viewkey=1580387144',\n",
        "   'rel': u'alternate',\n",
        "   'type': u'text/html'}],\n",
        " 'published': u'Sun, 09 Mar 2014 07:12:20 -0400',\n",
        " 'published_parsed': time.struct_time(tm_year=2014, tm_mon=3, tm_mday=9, tm_hour=11, tm_min=12, tm_sec=20, tm_wday=6, tm_yday=68, tm_isdst=0),\n",
        " 'thumb': u'http://thumb2.cdn1a.image.pornhub.phncdn.com/videos/201403/04/23972592/180x135/7.jpg',\n",
        " 'thumb_large': u'http://thumb2.cdn1a.image.pornhub.phncdn.com/videos/201403/04/23972592/320x240/7.jpg',\n",
        " 'title': u\"Deep Stars 3D - Hot Finger lickin' Lesbos Go Deep in the Pink\",\n",
        " 'title_detail': {'base': u'http://www.pornhub.com/video/webmasterss',\n",
        "  'language': None,\n",
        "  'type': u'text/plain',\n",
        "  'value': u\"Deep Stars 3D - Hot Finger lickin' Lesbos Go Deep in the Pink\"}}"
       ]
      }
     ],
     "prompt_number": 9
    },
    {
     "cell_type": "code",
     "collapsed": false,
     "input": [
      "urlHub.keys()"
     ],
     "language": "python",
     "metadata": {},
     "outputs": [
      {
       "output_type": "pyout",
       "prompt_number": 10,
       "text": [
        "['feed',\n",
        " 'status',\n",
        " 'version',\n",
        " 'encoding',\n",
        " 'bozo',\n",
        " 'headers',\n",
        " 'href',\n",
        " 'namespaces',\n",
        " 'entries']"
       ]
      }
     ],
     "prompt_number": 10
    },
    {
     "cell_type": "code",
     "collapsed": false,
     "input": [
      "feeding = urlHub['feed']"
     ],
     "language": "python",
     "metadata": {},
     "outputs": [],
     "prompt_number": 11
    },
    {
     "cell_type": "code",
     "collapsed": false,
     "input": [
      "print feeding"
     ],
     "language": "python",
     "metadata": {},
     "outputs": [
      {
       "output_type": "stream",
       "stream": "stdout",
       "text": [
        "{'updated': u'Sun, 09 Mar 2014 07:28:44 -0400', 'published_parsed': time.struct_time(tm_year=2014, tm_mon=3, tm_mday=9, tm_hour=11, tm_min=28, tm_sec=44, tm_wday=6, tm_yday=68, tm_isdst=0), 'subtitle': u'Lastest Videos Released on Pornhub', 'language': u'en-us', 'links': [{'href': u'http://www.pornhub.com/', 'type': u'text/html', 'rel': u'alternate'}], 'title': u'Pornhub - RSS Video Feed', 'image': {'title_detail': {'base': u'http://www.pornhub.com/video/webmasterss', 'type': u'text/plain', 'value': u'Pornhub', 'language': None}, 'href': u'http://cdn1.static.pornhub.phncdn.com/images/pornhub_logo.gif', 'link': u'http://www.pornhub.com/', 'links': [{'href': u'http://www.pornhub.com/', 'type': u'text/html', 'rel': u'alternate'}], 'title': u'Pornhub'}, 'subtitle_detail': {'base': u'http://www.pornhub.com/video/webmasterss', 'type': u'text/html', 'value': u'Lastest Videos Released on Pornhub', 'language': None}, 'title_detail': {'base': u'http://www.pornhub.com/video/webmasterss', 'type': u'text/plain', 'value': u'Pornhub - RSS Video Feed', 'language': None}, 'link': u'http://www.pornhub.com/', 'published': u'Sun, 09 Mar 2014 07:28:44 -0400', 'updated_parsed': time.struct_time(tm_year=2014, tm_mon=3, tm_mday=9, tm_hour=11, tm_min=28, tm_sec=44, tm_wday=6, tm_yday=68, tm_isdst=0)}\n"
       ]
      }
     ],
     "prompt_number": 12
    },
    {
     "cell_type": "code",
     "collapsed": false,
     "input": [
      "feeding.keys()"
     ],
     "language": "python",
     "metadata": {},
     "outputs": [
      {
       "output_type": "pyout",
       "prompt_number": 13,
       "text": [
        "['updated',\n",
        " 'published_parsed',\n",
        " 'subtitle',\n",
        " 'language',\n",
        " 'links',\n",
        " 'title',\n",
        " 'image',\n",
        " 'subtitle_detail',\n",
        " 'title_detail',\n",
        " 'link',\n",
        " 'published',\n",
        " 'updated_parsed']"
       ]
      }
     ],
     "prompt_number": 13
    },
    {
     "cell_type": "code",
     "collapsed": false,
     "input": [
      "for n in feeding.keys():\n",
      "    #print n\n",
      "    for b in range(1):\n",
      "        print (b, feeding[n])"
     ],
     "language": "python",
     "metadata": {},
     "outputs": [
      {
       "output_type": "stream",
       "stream": "stdout",
       "text": [
        "(0, u'Sun, 09 Mar 2014 07:28:44 -0400')\n",
        "(0, time.struct_time(tm_year=2014, tm_mon=3, tm_mday=9, tm_hour=11, tm_min=28, tm_sec=44, tm_wday=6, tm_yday=68, tm_isdst=0))\n",
        "(0, u'Lastest Videos Released on Pornhub')\n",
        "(0, u'en-us')\n",
        "(0, [{'href': u'http://www.pornhub.com/', 'type': u'text/html', 'rel': u'alternate'}])\n",
        "(0, u'Pornhub - RSS Video Feed')\n",
        "(0, {'title_detail': {'base': u'http://www.pornhub.com/video/webmasterss', 'type': u'text/plain', 'value': u'Pornhub', 'language': None}, 'href': u'http://cdn1.static.pornhub.phncdn.com/images/pornhub_logo.gif', 'link': u'http://www.pornhub.com/', 'links': [{'href': u'http://www.pornhub.com/', 'type': u'text/html', 'rel': u'alternate'}], 'title': u'Pornhub'})\n",
        "(0, {'base': u'http://www.pornhub.com/video/webmasterss', 'type': u'text/html', 'value': u'Lastest Videos Released on Pornhub', 'language': None})\n",
        "(0, {'base': u'http://www.pornhub.com/video/webmasterss', 'type': u'text/plain', 'value': u'Pornhub - RSS Video Feed', 'language': None})\n",
        "(0, u'http://www.pornhub.com/')\n",
        "(0, u'Sun, 09 Mar 2014 07:28:44 -0400')\n",
        "(0, time.struct_time(tm_year=2014, tm_mon=3, tm_mday=9, tm_hour=11, tm_min=28, tm_sec=44, tm_wday=6, tm_yday=68, tm_isdst=0))\n"
       ]
      }
     ],
     "prompt_number": 23
    },
    {
     "cell_type": "code",
     "collapsed": false,
     "input": [
      "|for daHub, da in enumerate([titlHub, linHub, pubHub, imgHub]):\n",
      "    titlost.append(titHub)\n",
      "    print daHub, da"
     ],
     "language": "python",
     "metadata": {},
     "outputs": [
      {
       "ename": "SyntaxError",
       "evalue": "invalid syntax (<ipython-input-15-293e60b2b80c>, line 1)",
       "output_type": "pyerr",
       "traceback": [
        "\u001b[0;36m  File \u001b[0;32m\"<ipython-input-15-293e60b2b80c>\"\u001b[0;36m, line \u001b[0;32m1\u001b[0m\n\u001b[0;31m    |for daHub, da in enumerate([titlHub, linHub, pubHub, imgHub]):\u001b[0m\n\u001b[0m    ^\u001b[0m\n\u001b[0;31mSyntaxError\u001b[0m\u001b[0;31m:\u001b[0m invalid syntax\n"
       ]
      }
     ],
     "prompt_number": 15
    },
    {
     "cell_type": "code",
     "collapsed": false,
     "input": [
      "fstar = ssp[0]"
     ],
     "language": "python",
     "metadata": {},
     "outputs": [],
     "prompt_number": 90
    },
    {
     "cell_type": "code",
     "collapsed": false,
     "input": [
      "cstart = fstar()\u0010"
     ],
     "language": "python",
     "metadata": {},
     "outputs": [
      {
       "ename": "SyntaxError",
       "evalue": "invalid syntax (<ipython-input-94-c5be964c4ef9>, line 1)",
       "output_type": "pyerr",
       "traceback": [
        "\u001b[0;36m  File \u001b[0;32m\"<ipython-input-94-c5be964c4ef9>\"\u001b[0;36m, line \u001b[0;32m1\u001b[0m\n\u001b[0;31m    cstart = fstar()\u0010\u001b[0m\n\u001b[0m                    ^\u001b[0m\n\u001b[0;31mSyntaxError\u001b[0m\u001b[0;31m:\u001b[0m invalid syntax\n"
       ]
      }
     ],
     "prompt_number": 94
    },
    {
     "cell_type": "code",
     "collapsed": false,
     "input": [
      "fstar"
     ],
     "language": "python",
     "metadata": {},
     "outputs": [
      {
       "output_type": "pyout",
       "prompt_number": 92,
       "text": [
        "{u'star': {u'star_name': u'Aaliyah Jolie'}}"
       ]
      }
     ],
     "prompt_number": 92
    },
    {
     "cell_type": "code",
     "collapsed": false,
     "input": [],
     "language": "python",
     "metadata": {},
     "outputs": []
    }
   ],
   "metadata": {}
  }
 ]
}