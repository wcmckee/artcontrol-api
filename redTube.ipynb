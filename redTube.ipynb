{
 "metadata": {
  "name": "redTube"
 },
 "nbformat": 3,
 "nbformat_minor": 0,
 "worksheets": [
  {
   "cells": [
    {
     "cell_type": "heading",
     "level": 1,
     "metadata": {},
     "source": [
      "RedTube json Python"
     ]
    },
    {
     "cell_type": "markdown",
     "metadata": {},
     "source": [
      "'''\n",
      "copyright 2013 WCMCKEE\n",
      "will@artcontrol.me\n",
      "'''"
     ]
    },
    {
     "cell_type": "code",
     "collapsed": false,
     "input": [
      "import requests\n",
      "import json\n",
      "import random"
     ],
     "language": "python",
     "metadata": {},
     "outputs": [],
     "prompt_number": 48
    },
    {
     "cell_type": "code",
     "collapsed": false,
     "input": [
      "redhtp = ('http://api.redtube.com/?data=redtube.')\n",
      "redtagz = ('tags.getTagList')\n",
      "redcat = ('Categories.getCategoriesList')\n",
      "redstar = ('Stars.getStarList') \n",
      "redvid = ('Videos.searchVideos&page=1')\n",
      "redj = ('&output=json')"
     ],
     "language": "python",
     "metadata": {},
     "outputs": [],
     "prompt_number": 67
    },
    {
     "cell_type": "markdown",
     "metadata": {},
     "source": [
      "need to choose a random between ragz cat and star"
     ]
    },
    {
     "cell_type": "code",
     "collapsed": false,
     "input": [
      "fulur = redhtp + redvid + redj"
     ],
     "language": "python",
     "metadata": {},
     "outputs": [],
     "prompt_number": 70
    },
    {
     "cell_type": "code",
     "collapsed": false,
     "input": [
      "print fulur"
     ],
     "language": "python",
     "metadata": {},
     "outputs": [
      {
       "output_type": "stream",
       "stream": "stdout",
       "text": [
        "http://api.redtube.com/?data=redtube.Videos.searchVideos&page=1&output=json\n"
       ]
      }
     ],
     "prompt_number": 71
    },
    {
     "cell_type": "markdown",
     "metadata": {},
     "source": [
      "Requests and json are the two main modules used for this. Random can also be handy"
     ]
    },
    {
     "cell_type": "code",
     "collapsed": false,
     "input": [
      "getPrn = requests.get(fulur)"
     ],
     "language": "python",
     "metadata": {},
     "outputs": [],
     "prompt_number": 73
    },
    {
     "cell_type": "markdown",
     "metadata": {},
     "source": [
      "Simple requests command to get the json object. This could be any json object - not just RedTube"
     ]
    },
    {
     "cell_type": "code",
     "collapsed": false,
     "input": [
      "loaPrn = json.loads(getPrn.text)\n",
      "#print loaUrl"
     ],
     "language": "python",
     "metadata": {},
     "outputs": [],
     "prompt_number": 74
    },
    {
     "cell_type": "markdown",
     "metadata": {},
     "source": [
      "Convert it into readable text that you can work with"
     ]
    },
    {
     "cell_type": "code",
     "collapsed": false,
     "input": [
      "for feed in loaPrn[u'videos']:\n",
      "    for entry in feed[u'video']:\n",
      "        print entry"
     ],
     "language": "python",
     "metadata": {},
     "outputs": [
      {
       "output_type": "stream",
       "stream": "stdout",
       "text": [
        "rating\n",
        "thumb\n",
        "ratings\n",
        "url\n",
        "views\n",
        "video_id\n",
        "publish_date\n",
        "duration\n",
        "title\n",
        "tags\n",
        "default_thumb\n",
        "rating\n",
        "thumb\n",
        "ratings\n",
        "url\n",
        "views\n",
        "video_id\n",
        "publish_date\n",
        "duration\n",
        "title\n",
        "tags\n",
        "default_thumb\n",
        "rating\n",
        "thumb\n",
        "ratings\n",
        "url\n",
        "views\n",
        "video_id\n",
        "publish_date\n",
        "duration\n",
        "title\n",
        "tags\n",
        "default_thumb\n",
        "rating\n",
        "thumb\n",
        "ratings\n",
        "url\n",
        "views\n",
        "video_id\n",
        "publish_date\n",
        "duration\n",
        "title\n",
        "tags\n",
        "default_thumb\n",
        "rating\n",
        "thumb\n",
        "ratings\n",
        "url\n",
        "views\n",
        "video_id\n",
        "publish_date\n",
        "duration\n",
        "title\n",
        "tags\n",
        "default_thumb\n",
        "rating\n",
        "thumb\n",
        "ratings\n",
        "url\n",
        "views\n",
        "video_id\n",
        "publish_date\n",
        "duration\n",
        "title\n",
        "tags\n",
        "default_thumb\n",
        "rating\n",
        "thumb\n",
        "ratings\n",
        "url\n",
        "views\n",
        "video_id\n",
        "publish_date\n",
        "duration\n",
        "title\n",
        "tags\n",
        "default_thumb\n",
        "rating\n",
        "thumb\n",
        "ratings\n",
        "url\n",
        "views\n",
        "video_id\n",
        "publish_date\n",
        "duration\n",
        "title\n",
        "tags\n",
        "default_thumb\n",
        "rating\n",
        "thumb\n",
        "ratings\n",
        "url\n",
        "views\n",
        "video_id\n",
        "publish_date\n",
        "duration\n",
        "title\n",
        "tags\n",
        "default_thumb\n",
        "rating\n",
        "thumb\n",
        "ratings\n",
        "url\n",
        "views\n",
        "video_id\n",
        "publish_date\n",
        "duration\n",
        "title\n",
        "tags\n",
        "default_thumb\n",
        "rating\n",
        "thumb\n",
        "ratings\n",
        "url\n",
        "views\n",
        "video_id\n",
        "publish_date\n",
        "duration\n",
        "title\n",
        "tags\n",
        "default_thumb\n",
        "rating\n",
        "thumb\n",
        "ratings\n",
        "url\n",
        "views\n",
        "video_id\n",
        "publish_date\n",
        "duration\n",
        "title\n",
        "tags\n",
        "default_thumb\n",
        "rating\n",
        "thumb\n",
        "ratings\n",
        "url\n",
        "views\n",
        "video_id\n",
        "publish_date\n",
        "duration\n",
        "title\n",
        "tags\n",
        "default_thumb\n",
        "rating\n",
        "thumb\n",
        "ratings\n",
        "url\n",
        "views\n",
        "video_id\n",
        "publish_date\n",
        "duration\n",
        "title\n",
        "tags\n",
        "default_thumb\n",
        "rating\n",
        "thumb\n",
        "ratings\n",
        "url\n",
        "views\n",
        "video_id\n",
        "publish_date\n",
        "duration\n",
        "title\n",
        "tags\n",
        "default_thumb\n",
        "rating\n",
        "thumb\n",
        "ratings\n",
        "url\n",
        "views\n",
        "video_id\n",
        "publish_date\n",
        "duration\n",
        "title\n",
        "tags\n",
        "default_thumb\n",
        "rating\n",
        "thumb\n",
        "ratings\n",
        "url\n",
        "views\n",
        "video_id\n",
        "publish_date\n",
        "duration\n",
        "title\n",
        "tags\n",
        "default_thumb\n",
        "rating\n",
        "thumb\n",
        "ratings\n",
        "url\n",
        "views\n",
        "video_id\n",
        "publish_date\n",
        "duration\n",
        "title\n",
        "tags\n",
        "default_thumb\n",
        "rating\n",
        "thumb\n",
        "ratings\n",
        "url\n",
        "views\n",
        "video_id\n",
        "publish_date\n",
        "stars\n",
        "duration\n",
        "title\n",
        "tags\n",
        "default_thumb\n",
        "rating\n",
        "thumb\n",
        "ratings\n",
        "url\n",
        "views\n",
        "video_id\n",
        "publish_date\n",
        "duration\n",
        "title\n",
        "tags\n",
        "default_thumb\n"
       ]
      }
     ],
     "prompt_number": 76
    },
    {
     "cell_type": "code",
     "collapsed": false,
     "input": [
      "addnums = 0\n",
      "\n",
      "for nums in range(100):\n",
      "    naoPrn = loaPrn[u'videos'][addnums]\n",
      "    print naoPrn\n",
      "    addnums + 1 "
     ],
     "language": "python",
     "metadata": {},
     "outputs": [
      {
       "output_type": "stream",
       "stream": "stdout",
       "text": [
        "{u'video': {u'rating': u'0.00', u'thumb': u'http://img03.redtubefiles.com/_thumbs/0000666/0666343/0666343_015m.jpg', u'ratings': u'0', u'url': u'http://www.redtube.com/666343', u'views': 1, u'video_id': u'666343', u'publish_date': u'2014-02-11 13:51:41', u'duration': u'6:10', u'title': u'Heather Night takes a quick sex break', u'tags': [{u'tag_name': u'Big Cock'}, {u'tag_name': u'Couple'}, {u'tag_name': u'Pornstar'}, {u'tag_name': u'Teen'}], u'default_thumb': u'http://img03.redtubefiles.com/_thumbs/0000666/0666343/0666343_015m.jpg'}}\n",
        "{u'video': {u'rating': u'0.00', u'thumb': u'http://img03.redtubefiles.com/_thumbs/0000666/0666343/0666343_015m.jpg', u'ratings': u'0', u'url': u'http://www.redtube.com/666343', u'views': 1, u'video_id': u'666343', u'publish_date': u'2014-02-11 13:51:41', u'duration': u'6:10', u'title': u'Heather Night takes a quick sex break', u'tags': [{u'tag_name': u'Big Cock'}, {u'tag_name': u'Couple'}, {u'tag_name': u'Pornstar'}, {u'tag_name': u'Teen'}], u'default_thumb': u'http://img03.redtubefiles.com/_thumbs/0000666/0666343/0666343_015m.jpg'}}\n",
        "{u'video': {u'rating': u'0.00', u'thumb': u'http://img03.redtubefiles.com/_thumbs/0000666/0666343/0666343_015m.jpg', u'ratings': u'0', u'url': u'http://www.redtube.com/666343', u'views': 1, u'video_id': u'666343', u'publish_date': u'2014-02-11 13:51:41', u'duration': u'6:10', u'title': u'Heather Night takes a quick sex break', u'tags': [{u'tag_name': u'Big Cock'}, {u'tag_name': u'Couple'}, {u'tag_name': u'Pornstar'}, {u'tag_name': u'Teen'}], u'default_thumb': u'http://img03.redtubefiles.com/_thumbs/0000666/0666343/0666343_015m.jpg'}}\n",
        "{u'video': {u'rating': u'0.00', u'thumb': u'http://img03.redtubefiles.com/_thumbs/0000666/0666343/0666343_015m.jpg', u'ratings': u'0', u'url': u'http://www.redtube.com/666343', u'views': 1, u'video_id': u'666343', u'publish_date': u'2014-02-11 13:51:41', u'duration': u'6:10', u'title': u'Heather Night takes a quick sex break', u'tags': [{u'tag_name': u'Big Cock'}, {u'tag_name': u'Couple'}, {u'tag_name': u'Pornstar'}, {u'tag_name': u'Teen'}], u'default_thumb': u'http://img03.redtubefiles.com/_thumbs/0000666/0666343/0666343_015m.jpg'}}\n",
        "{u'video': {u'rating': u'0.00', u'thumb': u'http://img03.redtubefiles.com/_thumbs/0000666/0666343/0666343_015m.jpg', u'ratings': u'0', u'url': u'http://www.redtube.com/666343', u'views': 1, u'video_id': u'666343', u'publish_date': u'2014-02-11 13:51:41', u'duration': u'6:10', u'title': u'Heather Night takes a quick sex break', u'tags': [{u'tag_name': u'Big Cock'}, {u'tag_name': u'Couple'}, {u'tag_name': u'Pornstar'}, {u'tag_name': u'Teen'}], u'default_thumb': u'http://img03.redtubefiles.com/_thumbs/0000666/0666343/0666343_015m.jpg'}}\n",
        "{u'video': {u'rating': u'0.00', u'thumb': u'http://img03.redtubefiles.com/_thumbs/0000666/0666343/0666343_015m.jpg', u'ratings': u'0', u'url': u'http://www.redtube.com/666343', u'views': 1, u'video_id': u'666343', u'publish_date': u'2014-02-11 13:51:41', u'duration': u'6:10', u'title': u'Heather Night takes a quick sex break', u'tags': [{u'tag_name': u'Big Cock'}, {u'tag_name': u'Couple'}, {u'tag_name': u'Pornstar'}, {u'tag_name': u'Teen'}], u'default_thumb': u'http://img03.redtubefiles.com/_thumbs/0000666/0666343/0666343_015m.jpg'}}\n",
        "{u'video': {u'rating': u'0.00', u'thumb': u'http://img03.redtubefiles.com/_thumbs/0000666/0666343/0666343_015m.jpg', u'ratings': u'0', u'url': u'http://www.redtube.com/666343', u'views': 1, u'video_id': u'666343', u'publish_date': u'2014-02-11 13:51:41', u'duration': u'6:10', u'title': u'Heather Night takes a quick sex break', u'tags': [{u'tag_name': u'Big Cock'}, {u'tag_name': u'Couple'}, {u'tag_name': u'Pornstar'}, {u'tag_name': u'Teen'}], u'default_thumb': u'http://img03.redtubefiles.com/_thumbs/0000666/0666343/0666343_015m.jpg'}}\n",
        "{u'video': {u'rating': u'0.00', u'thumb': u'http://img03.redtubefiles.com/_thumbs/0000666/0666343/0666343_015m.jpg', u'ratings': u'0', u'url': u'http://www.redtube.com/666343', u'views': 1, u'video_id': u'666343', u'publish_date': u'2014-02-11 13:51:41', u'duration': u'6:10', u'title': u'Heather Night takes a quick sex break', u'tags': [{u'tag_name': u'Big Cock'}, {u'tag_name': u'Couple'}, {u'tag_name': u'Pornstar'}, {u'tag_name': u'Teen'}], u'default_thumb': u'http://img03.redtubefiles.com/_thumbs/0000666/0666343/0666343_015m.jpg'}}\n",
        "{u'video': {u'rating': u'0.00', u'thumb': u'http://img03.redtubefiles.com/_thumbs/0000666/0666343/0666343_015m.jpg', u'ratings': u'0', u'url': u'http://www.redtube.com/666343', u'views': 1, u'video_id': u'666343', u'publish_date': u'2014-02-11 13:51:41', u'duration': u'6:10', u'title': u'Heather Night takes a quick sex break', u'tags': [{u'tag_name': u'Big Cock'}, {u'tag_name': u'Couple'}, {u'tag_name': u'Pornstar'}, {u'tag_name': u'Teen'}], u'default_thumb': u'http://img03.redtubefiles.com/_thumbs/0000666/0666343/0666343_015m.jpg'}}\n",
        "{u'video': {u'rating': u'0.00', u'thumb': u'http://img03.redtubefiles.com/_thumbs/0000666/0666343/0666343_015m.jpg', u'ratings': u'0', u'url': u'http://www.redtube.com/666343', u'views': 1, u'video_id': u'666343', u'publish_date': u'2014-02-11 13:51:41', u'duration': u'6:10', u'title': u'Heather Night takes a quick sex break', u'tags': [{u'tag_name': u'Big Cock'}, {u'tag_name': u'Couple'}, {u'tag_name': u'Pornstar'}, {u'tag_name': u'Teen'}], u'default_thumb': u'http://img03.redtubefiles.com/_thumbs/0000666/0666343/0666343_015m.jpg'}}\n",
        "{u'video': {u'rating': u'0.00', u'thumb': u'http://img03.redtubefiles.com/_thumbs/0000666/0666343/0666343_015m.jpg', u'ratings': u'0', u'url': u'http://www.redtube.com/666343', u'views': 1, u'video_id': u'666343', u'publish_date': u'2014-02-11 13:51:41', u'duration': u'6:10', u'title': u'Heather Night takes a quick sex break', u'tags': [{u'tag_name': u'Big Cock'}, {u'tag_name': u'Couple'}, {u'tag_name': u'Pornstar'}, {u'tag_name': u'Teen'}], u'default_thumb': u'http://img03.redtubefiles.com/_thumbs/0000666/0666343/0666343_015m.jpg'}}\n",
        "{u'video': {u'rating': u'0.00', u'thumb': u'http://img03.redtubefiles.com/_thumbs/0000666/0666343/0666343_015m.jpg', u'ratings': u'0', u'url': u'http://www.redtube.com/666343', u'views': 1, u'video_id': u'666343', u'publish_date': u'2014-02-11 13:51:41', u'duration': u'6:10', u'title': u'Heather Night takes a quick sex break', u'tags': [{u'tag_name': u'Big Cock'}, {u'tag_name': u'Couple'}, {u'tag_name': u'Pornstar'}, {u'tag_name': u'Teen'}], u'default_thumb': u'http://img03.redtubefiles.com/_thumbs/0000666/0666343/0666343_015m.jpg'}}\n",
        "{u'video': {u'rating': u'0.00', u'thumb': u'http://img03.redtubefiles.com/_thumbs/0000666/0666343/0666343_015m.jpg', u'ratings': u'0', u'url': u'http://www.redtube.com/666343', u'views': 1, u'video_id': u'666343', u'publish_date': u'2014-02-11 13:51:41', u'duration': u'6:10', u'title': u'Heather Night takes a quick sex break', u'tags': [{u'tag_name': u'Big Cock'}, {u'tag_name': u'Couple'}, {u'tag_name': u'Pornstar'}, {u'tag_name': u'Teen'}], u'default_thumb': u'http://img03.redtubefiles.com/_thumbs/0000666/0666343/0666343_015m.jpg'}}\n",
        "{u'video': {u'rating': u'0.00', u'thumb': u'http://img03.redtubefiles.com/_thumbs/0000666/0666343/0666343_015m.jpg', u'ratings': u'0', u'url': u'http://www.redtube.com/666343', u'views': 1, u'video_id': u'666343', u'publish_date': u'2014-02-11 13:51:41', u'duration': u'6:10', u'title': u'Heather Night takes a quick sex break', u'tags': [{u'tag_name': u'Big Cock'}, {u'tag_name': u'Couple'}, {u'tag_name': u'Pornstar'}, {u'tag_name': u'Teen'}], u'default_thumb': u'http://img03.redtubefiles.com/_thumbs/0000666/0666343/0666343_015m.jpg'}}\n",
        "{u'video': {u'rating': u'0.00', u'thumb': u'http://img03.redtubefiles.com/_thumbs/0000666/0666343/0666343_015m.jpg', u'ratings': u'0', u'url': u'http://www.redtube.com/666343', u'views': 1, u'video_id': u'666343', u'publish_date': u'2014-02-11 13:51:41', u'duration': u'6:10', u'title': u'Heather Night takes a quick sex break', u'tags': [{u'tag_name': u'Big Cock'}, {u'tag_name': u'Couple'}, {u'tag_name': u'Pornstar'}, {u'tag_name': u'Teen'}], u'default_thumb': u'http://img03.redtubefiles.com/_thumbs/0000666/0666343/0666343_015m.jpg'}}\n",
        "{u'video': {u'rating': u'0.00', u'thumb': u'http://img03.redtubefiles.com/_thumbs/0000666/0666343/0666343_015m.jpg', u'ratings': u'0', u'url': u'http://www.redtube.com/666343', u'views': 1, u'video_id': u'666343', u'publish_date': u'2014-02-11 13:51:41', u'duration': u'6:10', u'title': u'Heather Night takes a quick sex break', u'tags': [{u'tag_name': u'Big Cock'}, {u'tag_name': u'Couple'}, {u'tag_name': u'Pornstar'}, {u'tag_name': u'Teen'}], u'default_thumb': u'http://img03.redtubefiles.com/_thumbs/0000666/0666343/0666343_015m.jpg'}}\n",
        "{u'video': {u'rating': u'0.00', u'thumb': u'http://img03.redtubefiles.com/_thumbs/0000666/0666343/0666343_015m.jpg', u'ratings': u'0', u'url': u'http://www.redtube.com/666343', u'views': 1, u'video_id': u'666343', u'publish_date': u'2014-02-11 13:51:41', u'duration': u'6:10', u'title': u'Heather Night takes a quick sex break', u'tags': [{u'tag_name': u'Big Cock'}, {u'tag_name': u'Couple'}, {u'tag_name': u'Pornstar'}, {u'tag_name': u'Teen'}], u'default_thumb': u'http://img03.redtubefiles.com/_thumbs/0000666/0666343/0666343_015m.jpg'}}\n",
        "{u'video': {u'rating': u'0.00', u'thumb': u'http://img03.redtubefiles.com/_thumbs/0000666/0666343/0666343_015m.jpg', u'ratings': u'0', u'url': u'http://www.redtube.com/666343', u'views': 1, u'video_id': u'666343', u'publish_date': u'2014-02-11 13:51:41', u'duration': u'6:10', u'title': u'Heather Night takes a quick sex break', u'tags': [{u'tag_name': u'Big Cock'}, {u'tag_name': u'Couple'}, {u'tag_name': u'Pornstar'}, {u'tag_name': u'Teen'}], u'default_thumb': u'http://img03.redtubefiles.com/_thumbs/0000666/0666343/0666343_015m.jpg'}}\n",
        "{u'video': {u'rating': u'0.00', u'thumb': u'http://img03.redtubefiles.com/_thumbs/0000666/0666343/0666343_015m.jpg', u'ratings': u'0', u'url': u'http://www.redtube.com/666343', u'views': 1, u'video_id': u'666343', u'publish_date': u'2014-02-11 13:51:41', u'duration': u'6:10', u'title': u'Heather Night takes a quick sex break', u'tags': [{u'tag_name': u'Big Cock'}, {u'tag_name': u'Couple'}, {u'tag_name': u'Pornstar'}, {u'tag_name': u'Teen'}], u'default_thumb': u'http://img03.redtubefiles.com/_thumbs/0000666/0666343/0666343_015m.jpg'}}\n",
        "{u'video': {u'rating': u'0.00', u'thumb': u'http://img03.redtubefiles.com/_thumbs/0000666/0666343/0666343_015m.jpg', u'ratings': u'0', u'url': u'http://www.redtube.com/666343', u'views': 1, u'video_id': u'666343', u'publish_date': u'2014-02-11 13:51:41', u'duration': u'6:10', u'title': u'Heather Night takes a quick sex break', u'tags': [{u'tag_name': u'Big Cock'}, {u'tag_name': u'Couple'}, {u'tag_name': u'Pornstar'}, {u'tag_name': u'Teen'}], u'default_thumb': u'http://img03.redtubefiles.com/_thumbs/0000666/0666343/0666343_015m.jpg'}}\n",
        "{u'video': {u'rating': u'0.00', u'thumb': u'http://img03.redtubefiles.com/_thumbs/0000666/0666343/0666343_015m.jpg', u'ratings': u'0', u'url': u'http://www.redtube.com/666343', u'views': 1, u'video_id': u'666343', u'publish_date': u'2014-02-11 13:51:41', u'duration': u'6:10', u'title': u'Heather Night takes a quick sex break', u'tags': [{u'tag_name': u'Big Cock'}, {u'tag_name': u'Couple'}, {u'tag_name': u'Pornstar'}, {u'tag_name': u'Teen'}], u'default_thumb': u'http://img03.redtubefiles.com/_thumbs/0000666/0666343/0666343_015m.jpg'}}\n",
        "{u'video': {u'rating': u'0.00', u'thumb': u'http://img03.redtubefiles.com/_thumbs/0000666/0666343/0666343_015m.jpg', u'ratings': u'0', u'url': u'http://www.redtube.com/666343', u'views': 1, u'video_id': u'666343', u'publish_date': u'2014-02-11 13:51:41', u'duration': u'6:10', u'title': u'Heather Night takes a quick sex break', u'tags': [{u'tag_name': u'Big Cock'}, {u'tag_name': u'Couple'}, {u'tag_name': u'Pornstar'}, {u'tag_name': u'Teen'}], u'default_thumb': u'http://img03.redtubefiles.com/_thumbs/0000666/0666343/0666343_015m.jpg'}}\n",
        "{u'video': {u'rating': u'0.00', u'thumb': u'http://img03.redtubefiles.com/_thumbs/0000666/0666343/0666343_015m.jpg', u'ratings': u'0', u'url': u'http://www.redtube.com/666343', u'views': 1, u'video_id': u'666343', u'publish_date': u'2014-02-11 13:51:41', u'duration': u'6:10', u'title': u'Heather Night takes a quick sex break', u'tags': [{u'tag_name': u'Big Cock'}, {u'tag_name': u'Couple'}, {u'tag_name': u'Pornstar'}, {u'tag_name': u'Teen'}], u'default_thumb': u'http://img03.redtubefiles.com/_thumbs/0000666/0666343/0666343_015m.jpg'}}\n",
        "{u'video': {u'rating': u'0.00', u'thumb': u'http://img03.redtubefiles.com/_thumbs/0000666/0666343/0666343_015m.jpg', u'ratings': u'0', u'url': u'http://www.redtube.com/666343', u'views': 1, u'video_id': u'666343', u'publish_date': u'2014-02-11 13:51:41', u'duration': u'6:10', u'title': u'Heather Night takes a quick sex break', u'tags': [{u'tag_name': u'Big Cock'}, {u'tag_name': u'Couple'}, {u'tag_name': u'Pornstar'}, {u'tag_name': u'Teen'}], u'default_thumb': u'http://img03.redtubefiles.com/_thumbs/0000666/0666343/0666343_015m.jpg'}}\n",
        "{u'video': {u'rating': u'0.00', u'thumb': u'http://img03.redtubefiles.com/_thumbs/0000666/0666343/0666343_015m.jpg', u'ratings': u'0', u'url': u'http://www.redtube.com/666343', u'views': 1, u'video_id': u'666343', u'publish_date': u'2014-02-11 13:51:41', u'duration': u'6:10', u'title': u'Heather Night takes a quick sex break', u'tags': [{u'tag_name': u'Big Cock'}, {u'tag_name': u'Couple'}, {u'tag_name': u'Pornstar'}, {u'tag_name': u'Teen'}], u'default_thumb': u'http://img03.redtubefiles.com/_thumbs/0000666/0666343/0666343_015m.jpg'}}\n",
        "{u'video': {u'rating': u'0.00', u'thumb': u'http://img03.redtubefiles.com/_thumbs/0000666/0666343/0666343_015m.jpg', u'ratings': u'0', u'url': u'http://www.redtube.com/666343', u'views': 1, u'video_id': u'666343', u'publish_date': u'2014-02-11 13:51:41', u'duration': u'6:10', u'title': u'Heather Night takes a quick sex break', u'tags': [{u'tag_name': u'Big Cock'}, {u'tag_name': u'Couple'}, {u'tag_name': u'Pornstar'}, {u'tag_name': u'Teen'}], u'default_thumb': u'http://img03.redtubefiles.com/_thumbs/0000666/0666343/0666343_015m.jpg'}}\n",
        "{u'video': {u'rating': u'0.00', u'thumb': u'http://img03.redtubefiles.com/_thumbs/0000666/0666343/0666343_015m.jpg', u'ratings': u'0', u'url': u'http://www.redtube.com/666343', u'views': 1, u'video_id': u'666343', u'publish_date': u'2014-02-11 13:51:41', u'duration': u'6:10', u'title': u'Heather Night takes a quick sex break', u'tags': [{u'tag_name': u'Big Cock'}, {u'tag_name': u'Couple'}, {u'tag_name': u'Pornstar'}, {u'tag_name': u'Teen'}], u'default_thumb': u'http://img03.redtubefiles.com/_thumbs/0000666/0666343/0666343_015m.jpg'}}\n",
        "{u'video': {u'rating': u'0.00', u'thumb': u'http://img03.redtubefiles.com/_thumbs/0000666/0666343/0666343_015m.jpg', u'ratings': u'0', u'url': u'http://www.redtube.com/666343', u'views': 1, u'video_id': u'666343', u'publish_date': u'2014-02-11 13:51:41', u'duration': u'6:10', u'title': u'Heather Night takes a quick sex break', u'tags': [{u'tag_name': u'Big Cock'}, {u'tag_name': u'Couple'}, {u'tag_name': u'Pornstar'}, {u'tag_name': u'Teen'}], u'default_thumb': u'http://img03.redtubefiles.com/_thumbs/0000666/0666343/0666343_015m.jpg'}}\n",
        "{u'video': {u'rating': u'0.00', u'thumb': u'http://img03.redtubefiles.com/_thumbs/0000666/0666343/0666343_015m.jpg', u'ratings': u'0', u'url': u'http://www.redtube.com/666343', u'views': 1, u'video_id': u'666343', u'publish_date': u'2014-02-11 13:51:41', u'duration': u'6:10', u'title': u'Heather Night takes a quick sex break', u'tags': [{u'tag_name': u'Big Cock'}, {u'tag_name': u'Couple'}, {u'tag_name': u'Pornstar'}, {u'tag_name': u'Teen'}], u'default_thumb': u'http://img03.redtubefiles.com/_thumbs/0000666/0666343/0666343_015m.jpg'}}\n",
        "{u'video': {u'rating': u'0.00', u'thumb': u'http://img03.redtubefiles.com/_thumbs/0000666/0666343/0666343_015m.jpg', u'ratings': u'0', u'url': u'http://www.redtube.com/666343', u'views': 1, u'video_id': u'666343', u'publish_date': u'2014-02-11 13:51:41', u'duration': u'6:10', u'title': u'Heather Night takes a quick sex break', u'tags': [{u'tag_name': u'Big Cock'}, {u'tag_name': u'Couple'}, {u'tag_name': u'Pornstar'}, {u'tag_name': u'Teen'}], u'default_thumb': u'http://img03.redtubefiles.com/_thumbs/0000666/0666343/0666343_015m.jpg'}}\n",
        "{u'video': {u'rating': u'0.00', u'thumb': u'http://img03.redtubefiles.com/_thumbs/0000666/0666343/0666343_015m.jpg', u'ratings': u'0', u'url': u'http://www.redtube.com/666343', u'views': 1, u'video_id': u'666343', u'publish_date': u'2014-02-11 13:51:41', u'duration': u'6:10', u'title': u'Heather Night takes a quick sex break', u'tags': [{u'tag_name': u'Big Cock'}, {u'tag_name': u'Couple'}, {u'tag_name': u'Pornstar'}, {u'tag_name': u'Teen'}], u'default_thumb': u'http://img03.redtubefiles.com/_thumbs/0000666/0666343/0666343_015m.jpg'}}\n",
        "{u'video': {u'rating': u'0.00', u'thumb': u'http://img03.redtubefiles.com/_thumbs/0000666/0666343/0666343_015m.jpg', u'ratings': u'0', u'url': u'http://www.redtube.com/666343', u'views': 1, u'video_id': u'666343', u'publish_date': u'2014-02-11 13:51:41', u'duration': u'6:10', u'title': u'Heather Night takes a quick sex break', u'tags': [{u'tag_name': u'Big Cock'}, {u'tag_name': u'Couple'}, {u'tag_name': u'Pornstar'}, {u'tag_name': u'Teen'}], u'default_thumb': u'http://img03.redtubefiles.com/_thumbs/0000666/0666343/0666343_015m.jpg'}}\n",
        "{u'video': {u'rating': u'0.00', u'thumb': u'http://img03.redtubefiles.com/_thumbs/0000666/0666343/0666343_015m.jpg', u'ratings': u'0', u'url': u'http://www.redtube.com/666343', u'views': 1, u'video_id': u'666343', u'publish_date': u'2014-02-11 13:51:41', u'duration': u'6:10', u'title': u'Heather Night takes a quick sex break', u'tags': [{u'tag_name': u'Big Cock'}, {u'tag_name': u'Couple'}, {u'tag_name': u'Pornstar'}, {u'tag_name': u'Teen'}], u'default_thumb': u'http://img03.redtubefiles.com/_thumbs/0000666/0666343/0666343_015m.jpg'}}\n",
        "{u'video': {u'rating': u'0.00', u'thumb': u'http://img03.redtubefiles.com/_thumbs/0000666/0666343/0666343_015m.jpg', u'ratings': u'0', u'url': u'http://www.redtube.com/666343', u'views': 1, u'video_id': u'666343', u'publish_date': u'2014-02-11 13:51:41', u'duration': u'6:10', u'title': u'Heather Night takes a quick sex break', u'tags': [{u'tag_name': u'Big Cock'}, {u'tag_name': u'Couple'}, {u'tag_name': u'Pornstar'}, {u'tag_name': u'Teen'}], u'default_thumb': u'http://img03.redtubefiles.com/_thumbs/0000666/0666343/0666343_015m.jpg'}}\n",
        "{u'video': {u'rating': u'0.00', u'thumb': u'http://img03.redtubefiles.com/_thumbs/0000666/0666343/0666343_015m.jpg', u'ratings': u'0', u'url': u'http://www.redtube.com/666343', u'views': 1, u'video_id': u'666343', u'publish_date': u'2014-02-11 13:51:41', u'duration': u'6:10', u'title': u'Heather Night takes a quick sex break', u'tags': [{u'tag_name': u'Big Cock'}, {u'tag_name': u'Couple'}, {u'tag_name': u'Pornstar'}, {u'tag_name': u'Teen'}], u'default_thumb': u'http://img03.redtubefiles.com/_thumbs/0000666/0666343/0666343_015m.jpg'}}\n",
        "{u'video': {u'rating': u'0.00', u'thumb': u'http://img03.redtubefiles.com/_thumbs/0000666/0666343/0666343_015m.jpg', u'ratings': u'0', u'url': u'http://www.redtube.com/666343', u'views': 1, u'video_id': u'666343', u'publish_date': u'2014-02-11 13:51:41', u'duration': u'6:10', u'title': u'Heather Night takes a quick sex break', u'tags': [{u'tag_name': u'Big Cock'}, {u'tag_name': u'Couple'}, {u'tag_name': u'Pornstar'}, {u'tag_name': u'Teen'}], u'default_thumb': u'http://img03.redtubefiles.com/_thumbs/0000666/0666343/0666343_015m.jpg'}}\n",
        "{u'video': {u'rating': u'0.00', u'thumb': u'http://img03.redtubefiles.com/_thumbs/0000666/0666343/0666343_015m.jpg', u'ratings': u'0', u'url': u'http://www.redtube.com/666343', u'views': 1, u'video_id': u'666343', u'publish_date': u'2014-02-11 13:51:41', u'duration': u'6:10', u'title': u'Heather Night takes a quick sex break', u'tags': [{u'tag_name': u'Big Cock'}, {u'tag_name': u'Couple'}, {u'tag_name': u'Pornstar'}, {u'tag_name': u'Teen'}], u'default_thumb': u'http://img03.redtubefiles.com/_thumbs/0000666/0666343/0666343_015m.jpg'}}\n",
        "{u'video': {u'rating': u'0.00', u'thumb': u'http://img03.redtubefiles.com/_thumbs/0000666/0666343/0666343_015m.jpg', u'ratings': u'0', u'url': u'http://www.redtube.com/666343', u'views': 1, u'video_id': u'666343', u'publish_date': u'2014-02-11 13:51:41', u'duration': u'6:10', u'title': u'Heather Night takes a quick sex break', u'tags': [{u'tag_name': u'Big Cock'}, {u'tag_name': u'Couple'}, {u'tag_name': u'Pornstar'}, {u'tag_name': u'Teen'}], u'default_thumb': u'http://img03.redtubefiles.com/_thumbs/0000666/0666343/0666343_015m.jpg'}}\n",
        "{u'video': {u'rating': u'0.00', u'thumb': u'http://img03.redtubefiles.com/_thumbs/0000666/0666343/0666343_015m.jpg', u'ratings': u'0', u'url': u'http://www.redtube.com/666343', u'views': 1, u'video_id': u'666343', u'publish_date': u'2014-02-11 13:51:41', u'duration': u'6:10', u'title': u'Heather Night takes a quick sex break', u'tags': [{u'tag_name': u'Big Cock'}, {u'tag_name': u'Couple'}, {u'tag_name': u'Pornstar'}, {u'tag_name': u'Teen'}], u'default_thumb': u'http://img03.redtubefiles.com/_thumbs/0000666/0666343/0666343_015m.jpg'}}\n",
        "{u'video': {u'rating': u'0.00', u'thumb': u'http://img03.redtubefiles.com/_thumbs/0000666/0666343/0666343_015m.jpg', u'ratings': u'0', u'url': u'http://www.redtube.com/666343', u'views': 1, u'video_id': u'666343', u'publish_date': u'2014-02-11 13:51:41', u'duration': u'6:10', u'title': u'Heather Night takes a quick sex break', u'tags': [{u'tag_name': u'Big Cock'}, {u'tag_name': u'Couple'}, {u'tag_name': u'Pornstar'}, {u'tag_name': u'Teen'}], u'default_thumb': u'http://img03.redtubefiles.com/_thumbs/0000666/0666343/0666343_015m.jpg'}}\n",
        "{u'video': {u'rating': u'0.00', u'thumb': u'http://img03.redtubefiles.com/_thumbs/0000666/0666343/0666343_015m.jpg', u'ratings': u'0', u'url': u'http://www.redtube.com/666343', u'views': 1, u'video_id': u'666343', u'publish_date': u'2014-02-11 13:51:41', u'duration': u'6:10', u'title': u'Heather Night takes a quick sex break', u'tags': [{u'tag_name': u'Big Cock'}, {u'tag_name': u'Couple'}, {u'tag_name': u'Pornstar'}, {u'tag_name': u'Teen'}], u'default_thumb': u'http://img03.redtubefiles.com/_thumbs/0000666/0666343/0666343_015m.jpg'}}\n",
        "{u'video': {u'rating': u'0.00', u'thumb': u'http://img03.redtubefiles.com/_thumbs/0000666/0666343/0666343_015m.jpg', u'ratings': u'0', u'url': u'http://www.redtube.com/666343', u'views': 1, u'video_id': u'666343', u'publish_date': u'2014-02-11 13:51:41', u'duration': u'6:10', u'title': u'Heather Night takes a quick sex break', u'tags': [{u'tag_name': u'Big Cock'}, {u'tag_name': u'Couple'}, {u'tag_name': u'Pornstar'}, {u'tag_name': u'Teen'}], u'default_thumb': u'http://img03.redtubefiles.com/_thumbs/0000666/0666343/0666343_015m.jpg'}}\n",
        "{u'video': {u'rating': u'0.00', u'thumb': u'http://img03.redtubefiles.com/_thumbs/0000666/0666343/0666343_015m.jpg', u'ratings': u'0', u'url': u'http://www.redtube.com/666343', u'views': 1, u'video_id': u'666343', u'publish_date': u'2014-02-11 13:51:41', u'duration': u'6:10', u'title': u'Heather Night takes a quick sex break', u'tags': [{u'tag_name': u'Big Cock'}, {u'tag_name': u'Couple'}, {u'tag_name': u'Pornstar'}, {u'tag_name': u'Teen'}], u'default_thumb': u'http://img03.redtubefiles.com/_thumbs/0000666/0666343/0666343_015m.jpg'}}\n",
        "{u'video': {u'rating': u'0.00', u'thumb': u'http://img03.redtubefiles.com/_thumbs/0000666/0666343/0666343_015m.jpg', u'ratings': u'0', u'url': u'http://www.redtube.com/666343', u'views': 1, u'video_id': u'666343', u'publish_date': u'2014-02-11 13:51:41', u'duration': u'6:10', u'title': u'Heather Night takes a quick sex break', u'tags': [{u'tag_name': u'Big Cock'}, {u'tag_name': u'Couple'}, {u'tag_name': u'Pornstar'}, {u'tag_name': u'Teen'}], u'default_thumb': u'http://img03.redtubefiles.com/_thumbs/0000666/0666343/0666343_015m.jpg'}}\n",
        "{u'video': {u'rating': u'0.00', u'thumb': u'http://img03.redtubefiles.com/_thumbs/0000666/0666343/0666343_015m.jpg', u'ratings': u'0', u'url': u'http://www.redtube.com/666343', u'views': 1, u'video_id': u'666343', u'publish_date': u'2014-02-11 13:51:41', u'duration': u'6:10', u'title': u'Heather Night takes a quick sex break', u'tags': [{u'tag_name': u'Big Cock'}, {u'tag_name': u'Couple'}, {u'tag_name': u'Pornstar'}, {u'tag_name': u'Teen'}], u'default_thumb': u'http://img03.redtubefiles.com/_thumbs/0000666/0666343/0666343_015m.jpg'}}\n",
        "{u'video': {u'rating': u'0.00', u'thumb': u'http://img03.redtubefiles.com/_thumbs/0000666/0666343/0666343_015m.jpg', u'ratings': u'0', u'url': u'http://www.redtube.com/666343', u'views': 1, u'video_id': u'666343', u'publish_date': u'2014-02-11 13:51:41', u'duration': u'6:10', u'title': u'Heather Night takes a quick sex break', u'tags': [{u'tag_name': u'Big Cock'}, {u'tag_name': u'Couple'}, {u'tag_name': u'Pornstar'}, {u'tag_name': u'Teen'}], u'default_thumb': u'http://img03.redtubefiles.com/_thumbs/0000666/0666343/0666343_015m.jpg'}}\n",
        "{u'video': {u'rating': u'0.00', u'thumb': u'http://img03.redtubefiles.com/_thumbs/0000666/0666343/0666343_015m.jpg', u'ratings': u'0', u'url': u'http://www.redtube.com/666343', u'views': 1, u'video_id': u'666343', u'publish_date': u'2014-02-11 13:51:41', u'duration': u'6:10', u'title': u'Heather Night takes a quick sex break', u'tags': [{u'tag_name': u'Big Cock'}, {u'tag_name': u'Couple'}, {u'tag_name': u'Pornstar'}, {u'tag_name': u'Teen'}], u'default_thumb': u'http://img03.redtubefiles.com/_thumbs/0000666/0666343/0666343_015m.jpg'}}\n",
        "{u'video': {u'rating': u'0.00', u'thumb': u'http://img03.redtubefiles.com/_thumbs/0000666/0666343/0666343_015m.jpg', u'ratings': u'0', u'url': u'http://www.redtube.com/666343', u'views': 1, u'video_id': u'666343', u'publish_date': u'2014-02-11 13:51:41', u'duration': u'6:10', u'title': u'Heather Night takes a quick sex break', u'tags': [{u'tag_name': u'Big Cock'}, {u'tag_name': u'Couple'}, {u'tag_name': u'Pornstar'}, {u'tag_name': u'Teen'}], u'default_thumb': u'http://img03.redtubefiles.com/_thumbs/0000666/0666343/0666343_015m.jpg'}}\n",
        "{u'video': {u'rating': u'0.00', u'thumb': u'http://img03.redtubefiles.com/_thumbs/0000666/0666343/0666343_015m.jpg', u'ratings': u'0', u'url': u'http://www.redtube.com/666343', u'views': 1, u'video_id': u'666343', u'publish_date': u'2014-02-11 13:51:41', u'duration': u'6:10', u'title': u'Heather Night takes a quick sex break', u'tags': [{u'tag_name': u'Big Cock'}, {u'tag_name': u'Couple'}, {u'tag_name': u'Pornstar'}, {u'tag_name': u'Teen'}], u'default_thumb': u'http://img03.redtubefiles.com/_thumbs/0000666/0666343/0666343_015m.jpg'}}\n",
        "{u'video': {u'rating': u'0.00', u'thumb': u'http://img03.redtubefiles.com/_thumbs/0000666/0666343/0666343_015m.jpg', u'ratings': u'0', u'url': u'http://www.redtube.com/666343', u'views': 1, u'video_id': u'666343', u'publish_date': u'2014-02-11 13:51:41', u'duration': u'6:10', u'title': u'Heather Night takes a quick sex break', u'tags': [{u'tag_name': u'Big Cock'}, {u'tag_name': u'Couple'}, {u'tag_name': u'Pornstar'}, {u'tag_name': u'Teen'}], u'default_thumb': u'http://img03.redtubefiles.com/_thumbs/0000666/0666343/0666343_015m.jpg'}}\n",
        "{u'video': {u'rating': u'0.00', u'thumb': u'http://img03.redtubefiles.com/_thumbs/0000666/0666343/0666343_015m.jpg', u'ratings': u'0', u'url': u'http://www.redtube.com/666343', u'views': 1, u'video_id': u'666343', u'publish_date': u'2014-02-11 13:51:41', u'duration': u'6:10', u'title': u'Heather Night takes a quick sex break', u'tags': [{u'tag_name': u'Big Cock'}, {u'tag_name': u'Couple'}, {u'tag_name': u'Pornstar'}, {u'tag_name': u'Teen'}], u'default_thumb': u'http://img03.redtubefiles.com/_thumbs/0000666/0666343/0666343_015m.jpg'}}\n",
        "{u'video': {u'rating': u'0.00', u'thumb': u'http://img03.redtubefiles.com/_thumbs/0000666/0666343/0666343_015m.jpg', u'ratings': u'0', u'url': u'http://www.redtube.com/666343', u'views': 1, u'video_id': u'666343', u'publish_date': u'2014-02-11 13:51:41', u'duration': u'6:10', u'title': u'Heather Night takes a quick sex break', u'tags': [{u'tag_name': u'Big Cock'}, {u'tag_name': u'Couple'}, {u'tag_name': u'Pornstar'}, {u'tag_name': u'Teen'}], u'default_thumb': u'http://img03.redtubefiles.com/_thumbs/0000666/0666343/0666343_015m.jpg'}}\n",
        "{u'video': {u'rating': u'0.00', u'thumb': u'http://img03.redtubefiles.com/_thumbs/0000666/0666343/0666343_015m.jpg', u'ratings': u'0', u'url': u'http://www.redtube.com/666343', u'views': 1, u'video_id': u'666343', u'publish_date': u'2014-02-11 13:51:41', u'duration': u'6:10', u'title': u'Heather Night takes a quick sex break', u'tags': [{u'tag_name': u'Big Cock'}, {u'tag_name': u'Couple'}, {u'tag_name': u'Pornstar'}, {u'tag_name': u'Teen'}], u'default_thumb': u'http://img03.redtubefiles.com/_thumbs/0000666/0666343/0666343_015m.jpg'}}\n",
        "{u'video': {u'rating': u'0.00', u'thumb': u'http://img03.redtubefiles.com/_thumbs/0000666/0666343/0666343_015m.jpg', u'ratings': u'0', u'url': u'http://www.redtube.com/666343', u'views': 1, u'video_id': u'666343', u'publish_date': u'2014-02-11 13:51:41', u'duration': u'6:10', u'title': u'Heather Night takes a quick sex break', u'tags': [{u'tag_name': u'Big Cock'}, {u'tag_name': u'Couple'}, {u'tag_name': u'Pornstar'}, {u'tag_name': u'Teen'}], u'default_thumb': u'http://img03.redtubefiles.com/_thumbs/0000666/0666343/0666343_015m.jpg'}}\n",
        "{u'video': {u'rating': u'0.00', u'thumb': u'http://img03.redtubefiles.com/_thumbs/0000666/0666343/0666343_015m.jpg', u'ratings': u'0', u'url': u'http://www.redtube.com/666343', u'views': 1, u'video_id': u'666343', u'publish_date': u'2014-02-11 13:51:41', u'duration': u'6:10', u'title': u'Heather Night takes a quick sex break', u'tags': [{u'tag_name': u'Big Cock'}, {u'tag_name': u'Couple'}, {u'tag_name': u'Pornstar'}, {u'tag_name': u'Teen'}], u'default_thumb': u'http://img03.redtubefiles.com/_thumbs/0000666/0666343/0666343_015m.jpg'}}\n",
        "{u'video': {u'rating': u'0.00', u'thumb': u'http://img03.redtubefiles.com/_thumbs/0000666/0666343/0666343_015m.jpg', u'ratings': u'0', u'url': u'http://www.redtube.com/666343', u'views': 1, u'video_id': u'666343', u'publish_date': u'2014-02-11 13:51:41', u'duration': u'6:10', u'title': u'Heather Night takes a quick sex break', u'tags': [{u'tag_name': u'Big Cock'}, {u'tag_name': u'Couple'}, {u'tag_name': u'Pornstar'}, {u'tag_name': u'Teen'}], u'default_thumb': u'http://img03.redtubefiles.com/_thumbs/0000666/0666343/0666343_015m.jpg'}}\n",
        "{u'video': {u'rating': u'0.00', u'thumb': u'http://img03.redtubefiles.com/_thumbs/0000666/0666343/0666343_015m.jpg', u'ratings': u'0', u'url': u'http://www.redtube.com/666343', u'views': 1, u'video_id': u'666343', u'publish_date': u'2014-02-11 13:51:41', u'duration': u'6:10', u'title': u'Heather Night takes a quick sex break', u'tags': [{u'tag_name': u'Big Cock'}, {u'tag_name': u'Couple'}, {u'tag_name': u'Pornstar'}, {u'tag_name': u'Teen'}], u'default_thumb': u'http://img03.redtubefiles.com/_thumbs/0000666/0666343/0666343_015m.jpg'}}\n",
        "{u'video': {u'rating': u'0.00', u'thumb': u'http://img03.redtubefiles.com/_thumbs/0000666/0666343/0666343_015m.jpg', u'ratings': u'0', u'url': u'http://www.redtube.com/666343', u'views': 1, u'video_id': u'666343', u'publish_date': u'2014-02-11 13:51:41', u'duration': u'6:10', u'title': u'Heather Night takes a quick sex break', u'tags': [{u'tag_name': u'Big Cock'}, {u'tag_name': u'Couple'}, {u'tag_name': u'Pornstar'}, {u'tag_name': u'Teen'}], u'default_thumb': u'http://img03.redtubefiles.com/_thumbs/0000666/0666343/0666343_015m.jpg'}}\n",
        "{u'video': {u'rating': u'0.00', u'thumb': u'http://img03.redtubefiles.com/_thumbs/0000666/0666343/0666343_015m.jpg', u'ratings': u'0', u'url': u'http://www.redtube.com/666343', u'views': 1, u'video_id': u'666343', u'publish_date': u'2014-02-11 13:51:41', u'duration': u'6:10', u'title': u'Heather Night takes a quick sex break', u'tags': [{u'tag_name': u'Big Cock'}, {u'tag_name': u'Couple'}, {u'tag_name': u'Pornstar'}, {u'tag_name': u'Teen'}], u'default_thumb': u'http://img03.redtubefiles.com/_thumbs/0000666/0666343/0666343_015m.jpg'}}\n",
        "{u'video': {u'rating': u'0.00', u'thumb': u'http://img03.redtubefiles.com/_thumbs/0000666/0666343/0666343_015m.jpg', u'ratings': u'0', u'url': u'http://www.redtube.com/666343', u'views': 1, u'video_id': u'666343', u'publish_date': u'2014-02-11 13:51:41', u'duration': u'6:10', u'title': u'Heather Night takes a quick sex break', u'tags': [{u'tag_name': u'Big Cock'}, {u'tag_name': u'Couple'}, {u'tag_name': u'Pornstar'}, {u'tag_name': u'Teen'}], u'default_thumb': u'http://img03.redtubefiles.com/_thumbs/0000666/0666343/0666343_015m.jpg'}}\n",
        "{u'video': {u'rating': u'0.00', u'thumb': u'http://img03.redtubefiles.com/_thumbs/0000666/0666343/0666343_015m.jpg', u'ratings': u'0', u'url': u'http://www.redtube.com/666343', u'views': 1, u'video_id': u'666343', u'publish_date': u'2014-02-11 13:51:41', u'duration': u'6:10', u'title': u'Heather Night takes a quick sex break', u'tags': [{u'tag_name': u'Big Cock'}, {u'tag_name': u'Couple'}, {u'tag_name': u'Pornstar'}, {u'tag_name': u'Teen'}], u'default_thumb': u'http://img03.redtubefiles.com/_thumbs/0000666/0666343/0666343_015m.jpg'}}\n",
        "{u'video': {u'rating': u'0.00', u'thumb': u'http://img03.redtubefiles.com/_thumbs/0000666/0666343/0666343_015m.jpg', u'ratings': u'0', u'url': u'http://www.redtube.com/666343', u'views': 1, u'video_id': u'666343', u'publish_date': u'2014-02-11 13:51:41', u'duration': u'6:10', u'title': u'Heather Night takes a quick sex break', u'tags': [{u'tag_name': u'Big Cock'}, {u'tag_name': u'Couple'}, {u'tag_name': u'Pornstar'}, {u'tag_name': u'Teen'}], u'default_thumb': u'http://img03.redtubefiles.com/_thumbs/0000666/0666343/0666343_015m.jpg'}}\n",
        "{u'video': {u'rating': u'0.00', u'thumb': u'http://img03.redtubefiles.com/_thumbs/0000666/0666343/0666343_015m.jpg', u'ratings': u'0', u'url': u'http://www.redtube.com/666343', u'views': 1, u'video_id': u'666343', u'publish_date': u'2014-02-11 13:51:41', u'duration': u'6:10', u'title': u'Heather Night takes a quick sex break', u'tags': [{u'tag_name': u'Big Cock'}, {u'tag_name': u'Couple'}, {u'tag_name': u'Pornstar'}, {u'tag_name': u'Teen'}], u'default_thumb': u'http://img03.redtubefiles.com/_thumbs/0000666/0666343/0666343_015m.jpg'}}\n",
        "{u'video': {u'rating': u'0.00', u'thumb': u'http://img03.redtubefiles.com/_thumbs/0000666/0666343/0666343_015m.jpg', u'ratings': u'0', u'url': u'http://www.redtube.com/666343', u'views': 1, u'video_id': u'666343', u'publish_date': u'2014-02-11 13:51:41', u'duration': u'6:10', u'title': u'Heather Night takes a quick sex break', u'tags': [{u'tag_name': u'Big Cock'}, {u'tag_name': u'Couple'}, {u'tag_name': u'Pornstar'}, {u'tag_name': u'Teen'}], u'default_thumb': u'http://img03.redtubefiles.com/_thumbs/0000666/0666343/0666343_015m.jpg'}}\n",
        "{u'video': {u'rating': u'0.00', u'thumb': u'http://img03.redtubefiles.com/_thumbs/0000666/0666343/0666343_015m.jpg', u'ratings': u'0', u'url': u'http://www.redtube.com/666343', u'views': 1, u'video_id': u'666343', u'publish_date': u'2014-02-11 13:51:41', u'duration': u'6:10', u'title': u'Heather Night takes a quick sex break', u'tags': [{u'tag_name': u'Big Cock'}, {u'tag_name': u'Couple'}, {u'tag_name': u'Pornstar'}, {u'tag_name': u'Teen'}], u'default_thumb': u'http://img03.redtubefiles.com/_thumbs/0000666/0666343/0666343_015m.jpg'}}\n",
        "{u'video': {u'rating': u'0.00', u'thumb': u'http://img03.redtubefiles.com/_thumbs/0000666/0666343/0666343_015m.jpg', u'ratings': u'0', u'url': u'http://www.redtube.com/666343', u'views': 1, u'video_id': u'666343', u'publish_date': u'2014-02-11 13:51:41', u'duration': u'6:10', u'title': u'Heather Night takes a quick sex break', u'tags': [{u'tag_name': u'Big Cock'}, {u'tag_name': u'Couple'}, {u'tag_name': u'Pornstar'}, {u'tag_name': u'Teen'}], u'default_thumb': u'http://img03.redtubefiles.com/_thumbs/0000666/0666343/0666343_015m.jpg'}}\n",
        "{u'video': {u'rating': u'0.00', u'thumb': u'http://img03.redtubefiles.com/_thumbs/0000666/0666343/0666343_015m.jpg', u'ratings': u'0', u'url': u'http://www.redtube.com/666343', u'views': 1, u'video_id': u'666343', u'publish_date': u'2014-02-11 13:51:41', u'duration': u'6:10', u'title': u'Heather Night takes a quick sex break', u'tags': [{u'tag_name': u'Big Cock'}, {u'tag_name': u'Couple'}, {u'tag_name': u'Pornstar'}, {u'tag_name': u'Teen'}], u'default_thumb': u'http://img03.redtubefiles.com/_thumbs/0000666/0666343/0666343_015m.jpg'}}\n",
        "{u'video': {u'rating': u'0.00', u'thumb': u'http://img03.redtubefiles.com/_thumbs/0000666/0666343/0666343_015m.jpg', u'ratings': u'0', u'url': u'http://www.redtube.com/666343', u'views': 1, u'video_id': u'666343', u'publish_date': u'2014-02-11 13:51:41', u'duration': u'6:10', u'title': u'Heather Night takes a quick sex break', u'tags': [{u'tag_name': u'Big Cock'}, {u'tag_name': u'Couple'}, {u'tag_name': u'Pornstar'}, {u'tag_name': u'Teen'}], u'default_thumb': u'http://img03.redtubefiles.com/_thumbs/0000666/0666343/0666343_015m.jpg'}}\n",
        "{u'video': {u'rating': u'0.00', u'thumb': u'http://img03.redtubefiles.com/_thumbs/0000666/0666343/0666343_015m.jpg', u'ratings': u'0', u'url': u'http://www.redtube.com/666343', u'views': 1, u'video_id': u'666343', u'publish_date': u'2014-02-11 13:51:41', u'duration': u'6:10', u'title': u'Heather Night takes a quick sex break', u'tags': [{u'tag_name': u'Big Cock'}, {u'tag_name': u'Couple'}, {u'tag_name': u'Pornstar'}, {u'tag_name': u'Teen'}], u'default_thumb': u'http://img03.redtubefiles.com/_thumbs/0000666/0666343/0666343_015m.jpg'}}\n",
        "{u'video': {u'rating': u'0.00', u'thumb': u'http://img03.redtubefiles.com/_thumbs/0000666/0666343/0666343_015m.jpg', u'ratings': u'0', u'url': u'http://www.redtube.com/666343', u'views': 1, u'video_id': u'666343', u'publish_date': u'2014-02-11 13:51:41', u'duration': u'6:10', u'title': u'Heather Night takes a quick sex break', u'tags': [{u'tag_name': u'Big Cock'}, {u'tag_name': u'Couple'}, {u'tag_name': u'Pornstar'}, {u'tag_name': u'Teen'}], u'default_thumb': u'http://img03.redtubefiles.com/_thumbs/0000666/0666343/0666343_015m.jpg'}}\n",
        "{u'video': {u'rating': u'0.00', u'thumb': u'http://img03.redtubefiles.com/_thumbs/0000666/0666343/0666343_015m.jpg', u'ratings': u'0', u'url': u'http://www.redtube.com/666343', u'views': 1, u'video_id': u'666343', u'publish_date': u'2014-02-11 13:51:41', u'duration': u'6:10', u'title': u'Heather Night takes a quick sex break', u'tags': [{u'tag_name': u'Big Cock'}, {u'tag_name': u'Couple'}, {u'tag_name': u'Pornstar'}, {u'tag_name': u'Teen'}], u'default_thumb': u'http://img03.redtubefiles.com/_thumbs/0000666/0666343/0666343_015m.jpg'}}\n",
        "{u'video': {u'rating': u'0.00', u'thumb': u'http://img03.redtubefiles.com/_thumbs/0000666/0666343/0666343_015m.jpg', u'ratings': u'0', u'url': u'http://www.redtube.com/666343', u'views': 1, u'video_id': u'666343', u'publish_date': u'2014-02-11 13:51:41', u'duration': u'6:10', u'title': u'Heather Night takes a quick sex break', u'tags': [{u'tag_name': u'Big Cock'}, {u'tag_name': u'Couple'}, {u'tag_name': u'Pornstar'}, {u'tag_name': u'Teen'}], u'default_thumb': u'http://img03.redtubefiles.com/_thumbs/0000666/0666343/0666343_015m.jpg'}}\n",
        "{u'video': {u'rating': u'0.00', u'thumb': u'http://img03.redtubefiles.com/_thumbs/0000666/0666343/0666343_015m.jpg', u'ratings': u'0', u'url': u'http://www.redtube.com/666343', u'views': 1, u'video_id': u'666343', u'publish_date': u'2014-02-11 13:51:41', u'duration': u'6:10', u'title': u'Heather Night takes a quick sex break', u'tags': [{u'tag_name': u'Big Cock'}, {u'tag_name': u'Couple'}, {u'tag_name': u'Pornstar'}, {u'tag_name': u'Teen'}], u'default_thumb': u'http://img03.redtubefiles.com/_thumbs/0000666/0666343/0666343_015m.jpg'}}\n",
        "{u'video': {u'rating': u'0.00', u'thumb': u'http://img03.redtubefiles.com/_thumbs/0000666/0666343/0666343_015m.jpg', u'ratings': u'0', u'url': u'http://www.redtube.com/666343', u'views': 1, u'video_id': u'666343', u'publish_date': u'2014-02-11 13:51:41', u'duration': u'6:10', u'title': u'Heather Night takes a quick sex break', u'tags': [{u'tag_name': u'Big Cock'}, {u'tag_name': u'Couple'}, {u'tag_name': u'Pornstar'}, {u'tag_name': u'Teen'}], u'default_thumb': u'http://img03.redtubefiles.com/_thumbs/0000666/0666343/0666343_015m.jpg'}}\n",
        "{u'video': {u'rating': u'0.00', u'thumb': u'http://img03.redtubefiles.com/_thumbs/0000666/0666343/0666343_015m.jpg', u'ratings': u'0', u'url': u'http://www.redtube.com/666343', u'views': 1, u'video_id': u'666343', u'publish_date': u'2014-02-11 13:51:41', u'duration': u'6:10', u'title': u'Heather Night takes a quick sex break', u'tags': [{u'tag_name': u'Big Cock'}, {u'tag_name': u'Couple'}, {u'tag_name': u'Pornstar'}, {u'tag_name': u'Teen'}], u'default_thumb': u'http://img03.redtubefiles.com/_thumbs/0000666/0666343/0666343_015m.jpg'}}\n",
        "{u'video': {u'rating': u'0.00', u'thumb': u'http://img03.redtubefiles.com/_thumbs/0000666/0666343/0666343_015m.jpg', u'ratings': u'0', u'url': u'http://www.redtube.com/666343', u'views': 1, u'video_id': u'666343', u'publish_date': u'2014-02-11 13:51:41', u'duration': u'6:10', u'title': u'Heather Night takes a quick sex break', u'tags': [{u'tag_name': u'Big Cock'}, {u'tag_name': u'Couple'}, {u'tag_name': u'Pornstar'}, {u'tag_name': u'Teen'}], u'default_thumb': u'http://img03.redtubefiles.com/_thumbs/0000666/0666343/0666343_015m.jpg'}}\n",
        "{u'video': {u'rating': u'0.00', u'thumb': u'http://img03.redtubefiles.com/_thumbs/0000666/0666343/0666343_015m.jpg', u'ratings': u'0', u'url': u'http://www.redtube.com/666343', u'views': 1, u'video_id': u'666343', u'publish_date': u'2014-02-11 13:51:41', u'duration': u'6:10', u'title': u'Heather Night takes a quick sex break', u'tags': [{u'tag_name': u'Big Cock'}, {u'tag_name': u'Couple'}, {u'tag_name': u'Pornstar'}, {u'tag_name': u'Teen'}], u'default_thumb': u'http://img03.redtubefiles.com/_thumbs/0000666/0666343/0666343_015m.jpg'}}\n",
        "{u'video': {u'rating': u'0.00', u'thumb': u'http://img03.redtubefiles.com/_thumbs/0000666/0666343/0666343_015m.jpg', u'ratings': u'0', u'url': u'http://www.redtube.com/666343', u'views': 1, u'video_id': u'666343', u'publish_date': u'2014-02-11 13:51:41', u'duration': u'6:10', u'title': u'Heather Night takes a quick sex break', u'tags': [{u'tag_name': u'Big Cock'}, {u'tag_name': u'Couple'}, {u'tag_name': u'Pornstar'}, {u'tag_name': u'Teen'}], u'default_thumb': u'http://img03.redtubefiles.com/_thumbs/0000666/0666343/0666343_015m.jpg'}}\n",
        "{u'video': {u'rating': u'0.00', u'thumb': u'http://img03.redtubefiles.com/_thumbs/0000666/0666343/0666343_015m.jpg', u'ratings': u'0', u'url': u'http://www.redtube.com/666343', u'views': 1, u'video_id': u'666343', u'publish_date': u'2014-02-11 13:51:41', u'duration': u'6:10', u'title': u'Heather Night takes a quick sex break', u'tags': [{u'tag_name': u'Big Cock'}, {u'tag_name': u'Couple'}, {u'tag_name': u'Pornstar'}, {u'tag_name': u'Teen'}], u'default_thumb': u'http://img03.redtubefiles.com/_thumbs/0000666/0666343/0666343_015m.jpg'}}\n",
        "{u'video': {u'rating': u'0.00', u'thumb': u'http://img03.redtubefiles.com/_thumbs/0000666/0666343/0666343_015m.jpg', u'ratings': u'0', u'url': u'http://www.redtube.com/666343', u'views': 1, u'video_id': u'666343', u'publish_date': u'2014-02-11 13:51:41', u'duration': u'6:10', u'title': u'Heather Night takes a quick sex break', u'tags': [{u'tag_name': u'Big Cock'}, {u'tag_name': u'Couple'}, {u'tag_name': u'Pornstar'}, {u'tag_name': u'Teen'}], u'default_thumb': u'http://img03.redtubefiles.com/_thumbs/0000666/0666343/0666343_015m.jpg'}}\n",
        "{u'video': {u'rating': u'0.00', u'thumb': u'http://img03.redtubefiles.com/_thumbs/0000666/0666343/0666343_015m.jpg', u'ratings': u'0', u'url': u'http://www.redtube.com/666343', u'views': 1, u'video_id': u'666343', u'publish_date': u'2014-02-11 13:51:41', u'duration': u'6:10', u'title': u'Heather Night takes a quick sex break', u'tags': [{u'tag_name': u'Big Cock'}, {u'tag_name': u'Couple'}, {u'tag_name': u'Pornstar'}, {u'tag_name': u'Teen'}], u'default_thumb': u'http://img03.redtubefiles.com/_thumbs/0000666/0666343/0666343_015m.jpg'}}\n",
        "{u'video': {u'rating': u'0.00', u'thumb': u'http://img03.redtubefiles.com/_thumbs/0000666/0666343/0666343_015m.jpg', u'ratings': u'0', u'url': u'http://www.redtube.com/666343', u'views': 1, u'video_id': u'666343', u'publish_date': u'2014-02-11 13:51:41', u'duration': u'6:10', u'title': u'Heather Night takes a quick sex break', u'tags': [{u'tag_name': u'Big Cock'}, {u'tag_name': u'Couple'}, {u'tag_name': u'Pornstar'}, {u'tag_name': u'Teen'}], u'default_thumb': u'http://img03.redtubefiles.com/_thumbs/0000666/0666343/0666343_015m.jpg'}}\n",
        "{u'video': {u'rating': u'0.00', u'thumb': u'http://img03.redtubefiles.com/_thumbs/0000666/0666343/0666343_015m.jpg', u'ratings': u'0', u'url': u'http://www.redtube.com/666343', u'views': 1, u'video_id': u'666343', u'publish_date': u'2014-02-11 13:51:41', u'duration': u'6:10', u'title': u'Heather Night takes a quick sex break', u'tags': [{u'tag_name': u'Big Cock'}, {u'tag_name': u'Couple'}, {u'tag_name': u'Pornstar'}, {u'tag_name': u'Teen'}], u'default_thumb': u'http://img03.redtubefiles.com/_thumbs/0000666/0666343/0666343_015m.jpg'}}\n",
        "{u'video': {u'rating': u'0.00', u'thumb': u'http://img03.redtubefiles.com/_thumbs/0000666/0666343/0666343_015m.jpg', u'ratings': u'0', u'url': u'http://www.redtube.com/666343', u'views': 1, u'video_id': u'666343', u'publish_date': u'2014-02-11 13:51:41', u'duration': u'6:10', u'title': u'Heather Night takes a quick sex break', u'tags': [{u'tag_name': u'Big Cock'}, {u'tag_name': u'Couple'}, {u'tag_name': u'Pornstar'}, {u'tag_name': u'Teen'}], u'default_thumb': u'http://img03.redtubefiles.com/_thumbs/0000666/0666343/0666343_015m.jpg'}}\n",
        "{u'video': {u'rating': u'0.00', u'thumb': u'http://img03.redtubefiles.com/_thumbs/0000666/0666343/0666343_015m.jpg', u'ratings': u'0', u'url': u'http://www.redtube.com/666343', u'views': 1, u'video_id': u'666343', u'publish_date': u'2014-02-11 13:51:41', u'duration': u'6:10', u'title': u'Heather Night takes a quick sex break', u'tags': [{u'tag_name': u'Big Cock'}, {u'tag_name': u'Couple'}, {u'tag_name': u'Pornstar'}, {u'tag_name': u'Teen'}], u'default_thumb': u'http://img03.redtubefiles.com/_thumbs/0000666/0666343/0666343_015m.jpg'}}\n",
        "{u'video': {u'rating': u'0.00', u'thumb': u'http://img03.redtubefiles.com/_thumbs/0000666/0666343/0666343_015m.jpg', u'ratings': u'0', u'url': u'http://www.redtube.com/666343', u'views': 1, u'video_id': u'666343', u'publish_date': u'2014-02-11 13:51:41', u'duration': u'6:10', u'title': u'Heather Night takes a quick sex break', u'tags': [{u'tag_name': u'Big Cock'}, {u'tag_name': u'Couple'}, {u'tag_name': u'Pornstar'}, {u'tag_name': u'Teen'}], u'default_thumb': u'http://img03.redtubefiles.com/_thumbs/0000666/0666343/0666343_015m.jpg'}}\n",
        "{u'video': {u'rating': u'0.00', u'thumb': u'http://img03.redtubefiles.com/_thumbs/0000666/0666343/0666343_015m.jpg', u'ratings': u'0', u'url': u'http://www.redtube.com/666343', u'views': 1, u'video_id': u'666343', u'publish_date': u'2014-02-11 13:51:41', u'duration': u'6:10', u'title': u'Heather Night takes a quick sex break', u'tags': [{u'tag_name': u'Big Cock'}, {u'tag_name': u'Couple'}, {u'tag_name': u'Pornstar'}, {u'tag_name': u'Teen'}], u'default_thumb': u'http://img03.redtubefiles.com/_thumbs/0000666/0666343/0666343_015m.jpg'}}\n",
        "{u'video': {u'rating': u'0.00', u'thumb': u'http://img03.redtubefiles.com/_thumbs/0000666/0666343/0666343_015m.jpg', u'ratings': u'0', u'url': u'http://www.redtube.com/666343', u'views': 1, u'video_id': u'666343', u'publish_date': u'2014-02-11 13:51:41', u'duration': u'6:10', u'title': u'Heather Night takes a quick sex break', u'tags': [{u'tag_name': u'Big Cock'}, {u'tag_name': u'Couple'}, {u'tag_name': u'Pornstar'}, {u'tag_name': u'Teen'}], u'default_thumb': u'http://img03.redtubefiles.com/_thumbs/0000666/0666343/0666343_015m.jpg'}}\n",
        "{u'video': {u'rating': u'0.00', u'thumb': u'http://img03.redtubefiles.com/_thumbs/0000666/0666343/0666343_015m.jpg', u'ratings': u'0', u'url': u'http://www.redtube.com/666343', u'views': 1, u'video_id': u'666343', u'publish_date': u'2014-02-11 13:51:41', u'duration': u'6:10', u'title': u'Heather Night takes a quick sex break', u'tags': [{u'tag_name': u'Big Cock'}, {u'tag_name': u'Couple'}, {u'tag_name': u'Pornstar'}, {u'tag_name': u'Teen'}], u'default_thumb': u'http://img03.redtubefiles.com/_thumbs/0000666/0666343/0666343_015m.jpg'}}\n",
        "{u'video': {u'rating': u'0.00', u'thumb': u'http://img03.redtubefiles.com/_thumbs/0000666/0666343/0666343_015m.jpg', u'ratings': u'0', u'url': u'http://www.redtube.com/666343', u'views': 1, u'video_id': u'666343', u'publish_date': u'2014-02-11 13:51:41', u'duration': u'6:10', u'title': u'Heather Night takes a quick sex break', u'tags': [{u'tag_name': u'Big Cock'}, {u'tag_name': u'Couple'}, {u'tag_name': u'Pornstar'}, {u'tag_name': u'Teen'}], u'default_thumb': u'http://img03.redtubefiles.com/_thumbs/0000666/0666343/0666343_015m.jpg'}}\n",
        "{u'video': {u'rating': u'0.00', u'thumb': u'http://img03.redtubefiles.com/_thumbs/0000666/0666343/0666343_015m.jpg', u'ratings': u'0', u'url': u'http://www.redtube.com/666343', u'views': 1, u'video_id': u'666343', u'publish_date': u'2014-02-11 13:51:41', u'duration': u'6:10', u'title': u'Heather Night takes a quick sex break', u'tags': [{u'tag_name': u'Big Cock'}, {u'tag_name': u'Couple'}, {u'tag_name': u'Pornstar'}, {u'tag_name': u'Teen'}], u'default_thumb': u'http://img03.redtubefiles.com/_thumbs/0000666/0666343/0666343_015m.jpg'}}\n",
        "{u'video': {u'rating': u'0.00', u'thumb': u'http://img03.redtubefiles.com/_thumbs/0000666/0666343/0666343_015m.jpg', u'ratings': u'0', u'url': u'http://www.redtube.com/666343', u'views': 1, u'video_id': u'666343', u'publish_date': u'2014-02-11 13:51:41', u'duration': u'6:10', u'title': u'Heather Night takes a quick sex break', u'tags': [{u'tag_name': u'Big Cock'}, {u'tag_name': u'Couple'}, {u'tag_name': u'Pornstar'}, {u'tag_name': u'Teen'}], u'default_thumb': u'http://img03.redtubefiles.com/_thumbs/0000666/0666343/0666343_015m.jpg'}}\n",
        "{u'video': {u'rating': u'0.00', u'thumb': u'http://img03.redtubefiles.com/_thumbs/0000666/0666343/0666343_015m.jpg', u'ratings': u'0', u'url': u'http://www.redtube.com/666343', u'views': 1, u'video_id': u'666343', u'publish_date': u'2014-02-11 13:51:41', u'duration': u'6:10', u'title': u'Heather Night takes a quick sex break', u'tags': [{u'tag_name': u'Big Cock'}, {u'tag_name': u'Couple'}, {u'tag_name': u'Pornstar'}, {u'tag_name': u'Teen'}], u'default_thumb': u'http://img03.redtubefiles.com/_thumbs/0000666/0666343/0666343_015m.jpg'}}\n",
        "{u'video': {u'rating': u'0.00', u'thumb': u'http://img03.redtubefiles.com/_thumbs/0000666/0666343/0666343_015m.jpg', u'ratings': u'0', u'url': u'http://www.redtube.com/666343', u'views': 1, u'video_id': u'666343', u'publish_date': u'2014-02-11 13:51:41', u'duration': u'6:10', u'title': u'Heather Night takes a quick sex break', u'tags': [{u'tag_name': u'Big Cock'}, {u'tag_name': u'Couple'}, {u'tag_name': u'Pornstar'}, {u'tag_name': u'Teen'}], u'default_thumb': u'http://img03.redtubefiles.com/_thumbs/0000666/0666343/0666343_015m.jpg'}}\n",
        "{u'video': {u'rating': u'0.00', u'thumb': u'http://img03.redtubefiles.com/_thumbs/0000666/0666343/0666343_015m.jpg', u'ratings': u'0', u'url': u'http://www.redtube.com/666343', u'views': 1, u'video_id': u'666343', u'publish_date': u'2014-02-11 13:51:41', u'duration': u'6:10', u'title': u'Heather Night takes a quick sex break', u'tags': [{u'tag_name': u'Big Cock'}, {u'tag_name': u'Couple'}, {u'tag_name': u'Pornstar'}, {u'tag_name': u'Teen'}], u'default_thumb': u'http://img03.redtubefiles.com/_thumbs/0000666/0666343/0666343_015m.jpg'}}\n",
        "{u'video': {u'rating': u'0.00', u'thumb': u'http://img03.redtubefiles.com/_thumbs/0000666/0666343/0666343_015m.jpg', u'ratings': u'0', u'url': u'http://www.redtube.com/666343', u'views': 1, u'video_id': u'666343', u'publish_date': u'2014-02-11 13:51:41', u'duration': u'6:10', u'title': u'Heather Night takes a quick sex break', u'tags': [{u'tag_name': u'Big Cock'}, {u'tag_name': u'Couple'}, {u'tag_name': u'Pornstar'}, {u'tag_name': u'Teen'}], u'default_thumb': u'http://img03.redtubefiles.com/_thumbs/0000666/0666343/0666343_015m.jpg'}}\n",
        "{u'video': {u'rating': u'0.00', u'thumb': u'http://img03.redtubefiles.com/_thumbs/0000666/0666343/0666343_015m.jpg', u'ratings': u'0', u'url': u'http://www.redtube.com/666343', u'views': 1, u'video_id': u'666343', u'publish_date': u'2014-02-11 13:51:41', u'duration': u'6:10', u'title': u'Heather Night takes a quick sex break', u'tags': [{u'tag_name': u'Big Cock'}, {u'tag_name': u'Couple'}, {u'tag_name': u'Pornstar'}, {u'tag_name': u'Teen'}], u'default_thumb': u'http://img03.redtubefiles.com/_thumbs/0000666/0666343/0666343_015m.jpg'}}\n",
        "{u'video': {u'rating': u'0.00', u'thumb': u'http://img03.redtubefiles.com/_thumbs/0000666/0666343/0666343_015m.jpg', u'ratings': u'0', u'url': u'http://www.redtube.com/666343', u'views': 1, u'video_id': u'666343', u'publish_date': u'2014-02-11 13:51:41', u'duration': u'6:10', u'title': u'Heather Night takes a quick sex break', u'tags': [{u'tag_name': u'Big Cock'}, {u'tag_name': u'Couple'}, {u'tag_name': u'Pornstar'}, {u'tag_name': u'Teen'}], u'default_thumb': u'http://img03.redtubefiles.com/_thumbs/0000666/0666343/0666343_015m.jpg'}}\n",
        "{u'video': {u'rating': u'0.00', u'thumb': u'http://img03.redtubefiles.com/_thumbs/0000666/0666343/0666343_015m.jpg', u'ratings': u'0', u'url': u'http://www.redtube.com/666343', u'views': 1, u'video_id': u'666343', u'publish_date': u'2014-02-11 13:51:41', u'duration': u'6:10', u'title': u'Heather Night takes a quick sex break', u'tags': [{u'tag_name': u'Big Cock'}, {u'tag_name': u'Couple'}, {u'tag_name': u'Pornstar'}, {u'tag_name': u'Teen'}], u'default_thumb': u'http://img03.redtubefiles.com/_thumbs/0000666/0666343/0666343_015m.jpg'}}\n",
        "{u'video': {u'rating': u'0.00', u'thumb': u'http://img03.redtubefiles.com/_thumbs/0000666/0666343/0666343_015m.jpg', u'ratings': u'0', u'url': u'http://www.redtube.com/666343', u'views': 1, u'video_id': u'666343', u'publish_date': u'2014-02-11 13:51:41', u'duration': u'6:10', u'title': u'Heather Night takes a quick sex break', u'tags': [{u'tag_name': u'Big Cock'}, {u'tag_name': u'Couple'}, {u'tag_name': u'Pornstar'}, {u'tag_name': u'Teen'}], u'default_thumb': u'http://img03.redtubefiles.com/_thumbs/0000666/0666343/0666343_015m.jpg'}}\n"
       ]
      }
     ],
     "prompt_number": 5
    },
    {
     "cell_type": "code",
     "collapsed": false,
     "input": [
      "naoPrn = loaPrn[u'videos'][5]\n",
      "print naoPrn"
     ],
     "language": "python",
     "metadata": {},
     "outputs": [
      {
       "output_type": "stream",
       "stream": "stdout",
       "text": [
        "{u'video': {u'rating': u'0.00', u'thumb': u'http://img04.redtubefiles.com/_thumbs/0000666/0666326/0666326_015m.jpg', u'ratings': u'0', u'url': u'http://www.redtube.com/666326', u'views': 5, u'video_id': u'666326', u'publish_date': u'2014-02-11 13:47:33', u'stars': [{u'star_name': u'Nesty'}], u'duration': u'24:29', u'title': u' Nesty - Pix and Video ', u'tags': [{u'tag_name': u'Big Ass'}, {u'tag_name': u'Big Tits'}, {u'tag_name': u'Blonde'}, {u'tag_name': u'Couple'}], u'default_thumb': u'http://img04.redtubefiles.com/_thumbs/0000666/0666326/0666326_015m.jpg'}}\n"
       ]
      }
     ],
     "prompt_number": 6
    },
    {
     "cell_type": "markdown",
     "metadata": {},
     "source": [
      "Compress down - look at first element of json object. You could cycle through older elements\n",
      "by increasing the int"
     ]
    },
    {
     "cell_type": "code",
     "collapsed": false,
     "input": [
      "ngePrn = naoPrn[u'video']\n",
      "print ngePrn"
     ],
     "language": "python",
     "metadata": {},
     "outputs": [
      {
       "output_type": "stream",
       "stream": "stdout",
       "text": [
        "{u'rating': u'0.00', u'thumb': u'http://img04.redtubefiles.com/_thumbs/0000666/0666326/0666326_015m.jpg', u'ratings': u'0', u'url': u'http://www.redtube.com/666326', u'views': 5, u'video_id': u'666326', u'publish_date': u'2014-02-11 13:47:33', u'stars': [{u'star_name': u'Nesty'}], u'duration': u'24:29', u'title': u' Nesty - Pix and Video ', u'tags': [{u'tag_name': u'Big Ass'}, {u'tag_name': u'Big Tits'}, {u'tag_name': u'Blonde'}, {u'tag_name': u'Couple'}], u'default_thumb': u'http://img04.redtubefiles.com/_thumbs/0000666/0666326/0666326_015m.jpg'}\n"
       ]
      }
     ],
     "prompt_number": 8
    },
    {
     "cell_type": "markdown",
     "metadata": {},
     "source": [
      "Compress down again - this time video. It's always a bit of a trial and error to figure out\n",
      "navagating json objects, IPython is perfect for this. "
     ]
    },
    {
     "cell_type": "heading",
     "level": 2,
     "metadata": {},
     "source": [
      "Individual Data!"
     ]
    },
    {
     "cell_type": "markdown",
     "metadata": {},
     "source": [
      "This could be imporoved by turning the following unicode into a list and get the program\n",
      "to cycle though - saving off each element. Maybe save to a list?"
     ]
    },
    {
     "cell_type": "code",
     "collapsed": false,
     "input": [
      "ratPrn = ngePrn[u'title']"
     ],
     "language": "python",
     "metadata": {},
     "outputs": [],
     "prompt_number": 9
    },
    {
     "cell_type": "code",
     "collapsed": false,
     "input": [
      "for k in naoPrn:\n",
      "    print k"
     ],
     "language": "python",
     "metadata": {},
     "outputs": [
      {
       "output_type": "stream",
       "stream": "stdout",
       "text": [
        "video\n"
       ]
      }
     ],
     "prompt_number": 10
    },
    {
     "cell_type": "code",
     "collapsed": false,
     "input": [
      "from PIL import Image"
     ],
     "language": "python",
     "metadata": {},
     "outputs": [],
     "prompt_number": 11
    },
    {
     "cell_type": "code",
     "collapsed": false,
     "input": [
      "im = Image.open('ratPrn')"
     ],
     "language": "python",
     "metadata": {},
     "outputs": [
      {
       "ename": "IOError",
       "evalue": "[Errno 2] No such file or directory: 'ratPrn'",
       "output_type": "pyerr",
       "traceback": [
        "\u001b[1;31m---------------------------------------------------------------------------\u001b[0m\n\u001b[1;31mIOError\u001b[0m                                   Traceback (most recent call last)",
        "\u001b[1;32m<ipython-input-12-87bb26467892>\u001b[0m in \u001b[0;36m<module>\u001b[1;34m()\u001b[0m\n\u001b[1;32m----> 1\u001b[1;33m \u001b[0mim\u001b[0m \u001b[1;33m=\u001b[0m \u001b[0mImage\u001b[0m\u001b[1;33m.\u001b[0m\u001b[0mopen\u001b[0m\u001b[1;33m(\u001b[0m\u001b[1;34m'ratPrn'\u001b[0m\u001b[1;33m)\u001b[0m\u001b[1;33m\u001b[0m\u001b[0m\n\u001b[0m",
        "\u001b[1;32m/usr/lib/python2.7/site-packages/PIL/Image.pyc\u001b[0m in \u001b[0;36mopen\u001b[1;34m(fp, mode)\u001b[0m\n\u001b[0;32m   1973\u001b[0m     \u001b[1;32mif\u001b[0m \u001b[0misPath\u001b[0m\u001b[1;33m(\u001b[0m\u001b[0mfp\u001b[0m\u001b[1;33m)\u001b[0m\u001b[1;33m:\u001b[0m\u001b[1;33m\u001b[0m\u001b[0m\n\u001b[0;32m   1974\u001b[0m         \u001b[0mfilename\u001b[0m \u001b[1;33m=\u001b[0m \u001b[0mfp\u001b[0m\u001b[1;33m\u001b[0m\u001b[0m\n\u001b[1;32m-> 1975\u001b[1;33m         \u001b[0mfp\u001b[0m \u001b[1;33m=\u001b[0m \u001b[0mbuiltins\u001b[0m\u001b[1;33m.\u001b[0m\u001b[0mopen\u001b[0m\u001b[1;33m(\u001b[0m\u001b[0mfp\u001b[0m\u001b[1;33m,\u001b[0m \u001b[1;34m\"rb\"\u001b[0m\u001b[1;33m)\u001b[0m\u001b[1;33m\u001b[0m\u001b[0m\n\u001b[0m\u001b[0;32m   1976\u001b[0m     \u001b[1;32melse\u001b[0m\u001b[1;33m:\u001b[0m\u001b[1;33m\u001b[0m\u001b[0m\n\u001b[0;32m   1977\u001b[0m         \u001b[0mfilename\u001b[0m \u001b[1;33m=\u001b[0m \u001b[1;34m\"\"\u001b[0m\u001b[1;33m\u001b[0m\u001b[0m\n",
        "\u001b[1;31mIOError\u001b[0m: [Errno 2] No such file or directory: 'ratPrn'"
       ]
      }
     ],
     "prompt_number": 12
    },
    {
     "cell_type": "code",
     "collapsed": false,
     "input": [
      "thumPrn = ratPrn[u'thumb']"
     ],
     "language": "python",
     "metadata": {},
     "outputs": [
      {
       "ename": "TypeError",
       "evalue": "string indices must be integers",
       "output_type": "pyerr",
       "traceback": [
        "\u001b[1;31m---------------------------------------------------------------------------\u001b[0m\n\u001b[1;31mTypeError\u001b[0m                                 Traceback (most recent call last)",
        "\u001b[1;32m<ipython-input-13-6deebaa3e6c8>\u001b[0m in \u001b[0;36m<module>\u001b[1;34m()\u001b[0m\n\u001b[1;32m----> 1\u001b[1;33m \u001b[0mthumPrn\u001b[0m \u001b[1;33m=\u001b[0m \u001b[0mratPrn\u001b[0m\u001b[1;33m[\u001b[0m\u001b[1;34mu'thumb'\u001b[0m\u001b[1;33m]\u001b[0m\u001b[1;33m\u001b[0m\u001b[0m\n\u001b[0m",
        "\u001b[1;31mTypeError\u001b[0m: string indices must be integers"
       ]
      }
     ],
     "prompt_number": 13
    },
    {
     "cell_type": "code",
     "collapsed": false,
     "input": [
      "print thumPrn"
     ],
     "language": "python",
     "metadata": {},
     "outputs": [
      {
       "ename": "NameError",
       "evalue": "name 'thumPrn' is not defined",
       "output_type": "pyerr",
       "traceback": [
        "\u001b[1;31m---------------------------------------------------------------------------\u001b[0m\n\u001b[1;31mNameError\u001b[0m                                 Traceback (most recent call last)",
        "\u001b[1;32m<ipython-input-14-cdc52c814fc5>\u001b[0m in \u001b[0;36m<module>\u001b[1;34m()\u001b[0m\n\u001b[1;32m----> 1\u001b[1;33m \u001b[1;32mprint\u001b[0m \u001b[0mthumPrn\u001b[0m\u001b[1;33m\u001b[0m\u001b[0m\n\u001b[0m",
        "\u001b[1;31mNameError\u001b[0m: name 'thumPrn' is not defined"
       ]
      }
     ],
     "prompt_number": 14
    },
    {
     "cell_type": "code",
     "collapsed": false,
     "input": [
      "ratPrn = ngePrn[u'ratings']\n",
      "print ratPrn"
     ],
     "language": "python",
     "metadata": {},
     "outputs": [
      {
       "output_type": "stream",
       "stream": "stdout",
       "text": [
        "0\n"
       ]
      }
     ],
     "prompt_number": 15
    },
    {
     "cell_type": "code",
     "collapsed": false,
     "input": [
      "urlPrn = ngePrn[u'url']\n",
      "print urlPrn"
     ],
     "language": "python",
     "metadata": {},
     "outputs": [
      {
       "output_type": "stream",
       "stream": "stdout",
       "text": [
        "http://www.redtube.com/666326\n"
       ]
      }
     ],
     "prompt_number": 16
    },
    {
     "cell_type": "code",
     "collapsed": false,
     "input": [
      "viwPrn = ngePrn[u'views']\n",
      "print viwPrn"
     ],
     "language": "python",
     "metadata": {},
     "outputs": [
      {
       "output_type": "stream",
       "stream": "stdout",
       "text": [
        "5\n"
       ]
      }
     ],
     "prompt_number": 17
    },
    {
     "cell_type": "code",
     "collapsed": false,
     "input": [
      "idPrn = ngePrn[u'video_id']\n",
      "print idPrn"
     ],
     "language": "python",
     "metadata": {},
     "outputs": [
      {
       "output_type": "stream",
       "stream": "stdout",
       "text": [
        "666326\n"
       ]
      }
     ],
     "prompt_number": 18
    },
    {
     "cell_type": "code",
     "collapsed": false,
     "input": [
      "pdaPrn = ngePrn[u'publish_date']\n",
      "print pdaPrn"
     ],
     "language": "python",
     "metadata": {},
     "outputs": [
      {
       "output_type": "stream",
       "stream": "stdout",
       "text": [
        "2014-02-11 13:47:33\n"
       ]
      }
     ],
     "prompt_number": 19
    },
    {
     "cell_type": "code",
     "collapsed": false,
     "input": [
      "timPrn = ngePrn[u'duration']\n",
      "print timPrn"
     ],
     "language": "python",
     "metadata": {},
     "outputs": [
      {
       "output_type": "stream",
       "stream": "stdout",
       "text": [
        "24:29\n"
       ]
      }
     ],
     "prompt_number": 25
    },
    {
     "cell_type": "code",
     "collapsed": false,
     "input": [
      "titPrn = ngePrn[u'title']\n",
      "print titPrn"
     ],
     "language": "python",
     "metadata": {},
     "outputs": [
      {
       "output_type": "stream",
       "stream": "stdout",
       "text": [
        " Nesty - Pix and Video \n"
       ]
      }
     ],
     "prompt_number": 26
    },
    {
     "cell_type": "code",
     "collapsed": false,
     "input": [
      "tagPrn = ngePrn[u'tags']\n",
      "print tagPrn"
     ],
     "language": "python",
     "metadata": {},
     "outputs": [
      {
       "output_type": "stream",
       "stream": "stdout",
       "text": [
        "[{u'tag_name': u'Big Ass'}, {u'tag_name': u'Big Tits'}, {u'tag_name': u'Blonde'}, {u'tag_name': u'Couple'}]\n"
       ]
      }
     ],
     "prompt_number": 27
    },
    {
     "cell_type": "code",
     "collapsed": false,
     "input": [
      "derbPrn = (tagPrn, 'tag_name')\n",
      "print derbPrn"
     ],
     "language": "python",
     "metadata": {},
     "outputs": [
      {
       "output_type": "stream",
       "stream": "stdout",
       "text": [
        "([{u'tag_name': u'Big Ass'}, {u'tag_name': u'Big Tits'}, {u'tag_name': u'Blonde'}, {u'tag_name': u'Couple'}], 'tag_name')\n"
       ]
      }
     ],
     "prompt_number": 28
    },
    {
     "cell_type": "code",
     "collapsed": false,
     "input": [
      "thNum = 0\n",
      "taTrn = tagPrn[thNum]\n",
      "print taTrn\n",
      "thNum + 1"
     ],
     "language": "python",
     "metadata": {},
     "outputs": [
      {
       "output_type": "stream",
       "stream": "stdout",
       "text": [
        "{u'tag_name': u'Big Ass'}\n"
       ]
      },
      {
       "output_type": "pyout",
       "prompt_number": 29,
       "text": [
        "1"
       ]
      }
     ],
     "prompt_number": 29
    },
    {
     "cell_type": "markdown",
     "metadata": {},
     "source": [
      "TODO: Cycle the list and print all tags"
     ]
    },
    {
     "cell_type": "code",
     "collapsed": false,
     "input": [
      "naTrn = taTrn['tag_name']\n",
      "print naTrn"
     ],
     "language": "python",
     "metadata": {},
     "outputs": [
      {
       "output_type": "stream",
       "stream": "stdout",
       "text": [
        "Big Ass\n"
       ]
      }
     ],
     "prompt_number": 30
    },
    {
     "cell_type": "code",
     "collapsed": false,
     "input": [
      "demHub = (titlHub, titPrn, naTrn, urlPrn, pdaPrn, thumPrn, imgHub, linHub)"
     ],
     "language": "python",
     "metadata": {},
     "outputs": [
      {
       "ename": "NameError",
       "evalue": "name 'titlHub' is not defined",
       "output_type": "pyerr",
       "traceback": [
        "\u001b[1;31m---------------------------------------------------------------------------\u001b[0m\n\u001b[1;31mNameError\u001b[0m                                 Traceback (most recent call last)",
        "\u001b[1;32m<ipython-input-31-92c00aef343e>\u001b[0m in \u001b[0;36m<module>\u001b[1;34m()\u001b[0m\n\u001b[1;32m----> 1\u001b[1;33m \u001b[0mdemHub\u001b[0m \u001b[1;33m=\u001b[0m \u001b[1;33m(\u001b[0m\u001b[0mtitlHub\u001b[0m\u001b[1;33m,\u001b[0m \u001b[0mtitPrn\u001b[0m\u001b[1;33m,\u001b[0m \u001b[0mnaTrn\u001b[0m\u001b[1;33m,\u001b[0m \u001b[0murlPrn\u001b[0m\u001b[1;33m,\u001b[0m \u001b[0mpdaPrn\u001b[0m\u001b[1;33m,\u001b[0m \u001b[0mthumPrn\u001b[0m\u001b[1;33m,\u001b[0m \u001b[0mimgHub\u001b[0m\u001b[1;33m,\u001b[0m \u001b[0mlinHub\u001b[0m\u001b[1;33m)\u001b[0m\u001b[1;33m\u001b[0m\u001b[0m\n\u001b[0m",
        "\u001b[1;31mNameError\u001b[0m: name 'titlHub' is not defined"
       ]
      }
     ],
     "prompt_number": 31
    },
    {
     "cell_type": "code",
     "collapsed": false,
     "input": [
      "print demHub"
     ],
     "language": "python",
     "metadata": {},
     "outputs": [
      {
       "ename": "NameError",
       "evalue": "name 'demHub' is not defined",
       "output_type": "pyerr",
       "traceback": [
        "\u001b[1;31m---------------------------------------------------------------------------\u001b[0m\n\u001b[1;31mNameError\u001b[0m                                 Traceback (most recent call last)",
        "\u001b[1;32m<ipython-input-32-6eb63e43e38f>\u001b[0m in \u001b[0;36m<module>\u001b[1;34m()\u001b[0m\n\u001b[1;32m----> 1\u001b[1;33m \u001b[1;32mprint\u001b[0m \u001b[0mdemHub\u001b[0m\u001b[1;33m\u001b[0m\u001b[0m\n\u001b[0m",
        "\u001b[1;31mNameError\u001b[0m: name 'demHub' is not defined"
       ]
      }
     ],
     "prompt_number": 32
    },
    {
     "cell_type": "heading",
     "level": 2,
     "metadata": {},
     "source": [
      "Saving Data"
     ]
    },
    {
     "cell_type": "markdown",
     "metadata": {},
     "source": []
    },
    {
     "cell_type": "code",
     "collapsed": false,
     "input": [
      "savPrn = open('savPrn','w')\n",
      "savPrn.write('<h3 style=\"text-align: center;\"><a href=\"' + urlPrn + '\">')\n",
      "savPrn.write(titPrn + '</a></h3>')\n",
      "savPrn.write('<p style=\"text-align: right;\">' + pdaPrn)\n",
      "savPrn.write('</a></h3><img class=\"aligncenter\" alt=\"null\" src=\"' + thumPrn)\n",
      "savPrn.write('\" />')\n",
      "savPrn.close()"
     ],
     "language": "python",
     "metadata": {},
     "outputs": [
      {
       "ename": "NameError",
       "evalue": "name 'thumPrn' is not defined",
       "output_type": "pyerr",
       "traceback": [
        "\u001b[1;31m---------------------------------------------------------------------------\u001b[0m\n\u001b[1;31mNameError\u001b[0m                                 Traceback (most recent call last)",
        "\u001b[1;32m<ipython-input-33-a9276e043280>\u001b[0m in \u001b[0;36m<module>\u001b[1;34m()\u001b[0m\n\u001b[0;32m      3\u001b[0m \u001b[0msavPrn\u001b[0m\u001b[1;33m.\u001b[0m\u001b[0mwrite\u001b[0m\u001b[1;33m(\u001b[0m\u001b[0mtitPrn\u001b[0m \u001b[1;33m+\u001b[0m \u001b[1;34m'</a></h3>'\u001b[0m\u001b[1;33m)\u001b[0m\u001b[1;33m\u001b[0m\u001b[0m\n\u001b[0;32m      4\u001b[0m \u001b[0msavPrn\u001b[0m\u001b[1;33m.\u001b[0m\u001b[0mwrite\u001b[0m\u001b[1;33m(\u001b[0m\u001b[1;34m'<p style=\"text-align: right;\">'\u001b[0m \u001b[1;33m+\u001b[0m \u001b[0mpdaPrn\u001b[0m\u001b[1;33m)\u001b[0m\u001b[1;33m\u001b[0m\u001b[0m\n\u001b[1;32m----> 5\u001b[1;33m \u001b[0msavPrn\u001b[0m\u001b[1;33m.\u001b[0m\u001b[0mwrite\u001b[0m\u001b[1;33m(\u001b[0m\u001b[1;34m'</a></h3><img class=\"aligncenter\" alt=\"null\" src=\"'\u001b[0m \u001b[1;33m+\u001b[0m \u001b[0mthumPrn\u001b[0m\u001b[1;33m)\u001b[0m\u001b[1;33m\u001b[0m\u001b[0m\n\u001b[0m\u001b[0;32m      6\u001b[0m \u001b[0msavPrn\u001b[0m\u001b[1;33m.\u001b[0m\u001b[0mwrite\u001b[0m\u001b[1;33m(\u001b[0m\u001b[1;34m'\" />'\u001b[0m\u001b[1;33m)\u001b[0m\u001b[1;33m\u001b[0m\u001b[0m\n\u001b[0;32m      7\u001b[0m \u001b[0msavPrn\u001b[0m\u001b[1;33m.\u001b[0m\u001b[0mclose\u001b[0m\u001b[1;33m(\u001b[0m\u001b[1;33m)\u001b[0m\u001b[1;33m\u001b[0m\u001b[0m\n",
        "\u001b[1;31mNameError\u001b[0m: name 'thumPrn' is not defined"
       ]
      }
     ],
     "prompt_number": 33
    },
    {
     "cell_type": "code",
     "collapsed": false,
     "input": [
      "savTub"
     ],
     "language": "python",
     "metadata": {},
     "outputs": [
      {
       "ename": "NameError",
       "evalue": "name 'savTub' is not defined",
       "output_type": "pyerr",
       "traceback": [
        "\u001b[1;31m---------------------------------------------------------------------------\u001b[0m\n\u001b[1;31mNameError\u001b[0m                                 Traceback (most recent call last)",
        "\u001b[1;32m<ipython-input-34-cc9a9cacfd90>\u001b[0m in \u001b[0;36m<module>\u001b[1;34m()\u001b[0m\n\u001b[1;32m----> 1\u001b[1;33m \u001b[0msavTub\u001b[0m\u001b[1;33m\u001b[0m\u001b[0m\n\u001b[0m",
        "\u001b[1;31mNameError\u001b[0m: name 'savTub' is not defined"
       ]
      }
     ],
     "prompt_number": 34
    },
    {
     "cell_type": "code",
     "collapsed": false,
     "input": [
      "ls"
     ],
     "language": "python",
     "metadata": {},
     "outputs": [
      {
       "output_type": "stream",
       "stream": "stdout",
       "text": [
        "artcontrol.ipynb  myfile.txt     savPrn        \u001b[0m\u001b[38;5;27mwww.tlcstudents.ac.nz\u001b[0m/\r\n",
        "home.html         README.md      tlc.ipynb\r\n",
        "LICENSE           redTube.ipynb  tpb.ipynb\r\n",
        "linkz             result         uploads.html\r\n"
       ]
      }
     ],
     "prompt_number": 35
    },
    {
     "cell_type": "code",
     "collapsed": false,
     "input": [
      "opPrn = open('savPrn','r')\n",
      "for op in opPrn:\n",
      "    print op"
     ],
     "language": "python",
     "metadata": {},
     "outputs": [],
     "prompt_number": 36
    },
    {
     "cell_type": "code",
     "collapsed": false,
     "input": [],
     "language": "python",
     "metadata": {},
     "outputs": [],
     "prompt_number": 36
    },
    {
     "cell_type": "heading",
     "level": 1,
     "metadata": {},
     "source": [
      "PornHub"
     ]
    },
    {
     "cell_type": "code",
     "collapsed": false,
     "input": [
      "import feedparser"
     ],
     "language": "python",
     "metadata": {},
     "outputs": [],
     "prompt_number": 39
    },
    {
     "cell_type": "code",
     "collapsed": false,
     "input": [
      "urlHub = feedparser.parse('http://www.pornhub.com/video/webmasterss')"
     ],
     "language": "python",
     "metadata": {},
     "outputs": [],
     "prompt_number": 40
    },
    {
     "cell_type": "code",
     "collapsed": false,
     "input": [
      "urlHub['feed']['title']"
     ],
     "language": "python",
     "metadata": {},
     "outputs": [
      {
       "output_type": "pyout",
       "prompt_number": 41,
       "text": [
        "u'Pornhub - RSS Video Feed'"
       ]
      }
     ],
     "prompt_number": 41
    },
    {
     "cell_type": "code",
     "collapsed": false,
     "input": [
      "tlinHub = urlHub['feed']['link']"
     ],
     "language": "python",
     "metadata": {},
     "outputs": [],
     "prompt_number": 42
    },
    {
     "cell_type": "code",
     "collapsed": false,
     "input": [
      "pubHub = urlHub['feed']['published']"
     ],
     "language": "python",
     "metadata": {},
     "outputs": [],
     "prompt_number": 43
    },
    {
     "cell_type": "code",
     "collapsed": false,
     "input": [
      "linHub = urlHub.entries[0].link"
     ],
     "language": "python",
     "metadata": {},
     "outputs": [],
     "prompt_number": 44
    },
    {
     "cell_type": "code",
     "collapsed": false,
     "input": [
      "titlHub = urlHub.entries[0].title"
     ],
     "language": "python",
     "metadata": {},
     "outputs": [],
     "prompt_number": 45
    },
    {
     "cell_type": "code",
     "collapsed": false,
     "input": [
      "imgHub = urlHub.entries[0].thumb_large"
     ],
     "language": "python",
     "metadata": {},
     "outputs": [],
     "prompt_number": 46
    },
    {
     "cell_type": "code",
     "collapsed": false,
     "input": [
      "urlHub.entries[0]"
     ],
     "language": "python",
     "metadata": {},
     "outputs": [
      {
       "output_type": "pyout",
       "prompt_number": 47,
       "text": [
        "{'duration': u'1830',\n",
        " 'embed': u'<iframe src=\"http://www.pornhub.com/embed/837610145\" frameborder=\"0\" width=\"608\" height=\"468\" scrolling=\"no\"><a href=\"http://www.pornhub.com/view_video.php?viewkey=837610145\">Bigboobs teenager hardfuck</a></iframe>',\n",
        " 'link': u'http://www.pornhub.com/view_video.php?viewkey=837610145',\n",
        " 'links': [{'href': u'http://www.pornhub.com/view_video.php?viewkey=837610145',\n",
        "   'rel': u'alternate',\n",
        "   'type': u'text/html'}],\n",
        " 'published': u'Tue, 11 Feb 2014 07:59:38 -0500',\n",
        " 'published_parsed': time.struct_time(tm_year=2014, tm_mon=2, tm_mday=11, tm_hour=12, tm_min=59, tm_sec=38, tm_wday=1, tm_yday=42, tm_isdst=0),\n",
        " 'thumb': u'http://thumb2.cdn1a.image.pornhub.phncdn.com/videos/201402/11/23053152/180x135/12.jpg',\n",
        " 'thumb_large': u'http://thumb2.cdn1a.image.pornhub.phncdn.com/videos/201402/11/23053152/320x240/12.jpg',\n",
        " 'title': u'Bigboobs teenager hardfuck',\n",
        " 'title_detail': {'base': u'http://www.pornhub.com/video/webmasterss',\n",
        "  'language': None,\n",
        "  'type': u'text/plain',\n",
        "  'value': u'Bigboobs teenager hardfuck'}}"
       ]
      }
     ],
     "prompt_number": 47
    },
    {
     "cell_type": "code",
     "collapsed": false,
     "input": [
      "for daHub, da in enumerate([titlHub, linHub, pubHub, imgHub]):\n",
      "    print daHub, da"
     ],
     "language": "python",
     "metadata": {},
     "outputs": [
      {
       "output_type": "stream",
       "stream": "stdout",
       "text": [
        "0 Lilian Lee interracial\n",
        "1 http://www.pornhub.com/view_video.php?viewkey=1174256645\n",
        "2 Mon, 03 Feb 2014 09:10:32 -0500\n",
        "3 http://thumb6.cdn1a.image.pornhub.phncdn.com/videos/201001/02/1014746/320x240/13.jpg\n"
       ]
      }
     ],
     "prompt_number": 43
    },
    {
     "cell_type": "code",
     "collapsed": false,
     "input": [],
     "language": "python",
     "metadata": {},
     "outputs": [],
     "prompt_number": 43
    },
    {
     "cell_type": "code",
     "collapsed": false,
     "input": [],
     "language": "python",
     "metadata": {},
     "outputs": [],
     "prompt_number": 43
    },
    {
     "cell_type": "code",
     "collapsed": false,
     "input": [],
     "language": "python",
     "metadata": {},
     "outputs": []
    }
   ],
   "metadata": {}
  }
 ]
}