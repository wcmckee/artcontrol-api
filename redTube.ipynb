{
 "metadata": {
  "name": "redTube"
 },
 "nbformat": 3,
 "nbformat_minor": 0,
 "worksheets": [
  {
   "cells": [
    {
     "cell_type": "heading",
     "level": 1,
     "metadata": {},
     "source": [
      "RedTube json Python"
     ]
    },
    {
     "cell_type": "markdown",
     "metadata": {},
     "source": [
      "'''\n",
      "copyright 2013 WCMCKEE\n",
      "will@artcontrol.me\n",
      "'''"
     ]
    },
    {
     "cell_type": "code",
     "collapsed": false,
     "input": [
      "import requests\n",
      "import json\n",
      "import random"
     ],
     "language": "python",
     "metadata": {},
     "outputs": [],
     "prompt_number": 1
    },
    {
     "cell_type": "code",
     "collapsed": false,
     "input": [
      "redhtp = ('http://api.redtube.com/?data=redtube.')\n",
      "redtagz = ('tags.getTagList')\n",
      "redcat = ('Categories.getCategoriesList')\n",
      "redstar = ('Stars.getStarList') \n",
      "redvid = ('Videos.searchVideos&page=1')\n",
      "redj = ('&output=json')"
     ],
     "language": "python",
     "metadata": {},
     "outputs": [],
     "prompt_number": 62
    },
    {
     "cell_type": "markdown",
     "metadata": {},
     "source": [
      "need to choose a random between tagz cat and star"
     ]
    },
    {
     "cell_type": "code",
     "collapsed": false,
     "input": [
      "endlist = [redtagz, redcat, redstar]"
     ],
     "language": "python",
     "metadata": {},
     "outputs": [],
     "prompt_number": 63
    },
    {
     "cell_type": "code",
     "collapsed": false,
     "input": [
      "ranclist = random.choice(endlist)"
     ],
     "language": "python",
     "metadata": {},
     "outputs": [],
     "prompt_number": 64
    },
    {
     "cell_type": "code",
     "collapsed": false,
     "input": [
      "print endlist"
     ],
     "language": "python",
     "metadata": {},
     "outputs": [
      {
       "output_type": "stream",
       "stream": "stdout",
       "text": [
        "['tags.getTagList', 'Categories.getCategoriesList', 'Stars.getStarList']\n"
       ]
      }
     ],
     "prompt_number": 65
    },
    {
     "cell_type": "code",
     "collapsed": false,
     "input": [
      "fullurlz = redhtp + ranclist + redj"
     ],
     "language": "python",
     "metadata": {},
     "outputs": [],
     "prompt_number": 66
    },
    {
     "cell_type": "code",
     "collapsed": false,
     "input": [
      "fulur = redhtp + redvid + redj"
     ],
     "language": "python",
     "metadata": {},
     "outputs": [],
     "prompt_number": 67
    },
    {
     "cell_type": "code",
     "collapsed": false,
     "input": [
      "print fullurlz"
     ],
     "language": "python",
     "metadata": {},
     "outputs": [
      {
       "output_type": "stream",
       "stream": "stdout",
       "text": [
        "http://api.redtube.com/?data=redtube.Stars.getStarList&output=json\n"
       ]
      }
     ],
     "prompt_number": 68
    },
    {
     "cell_type": "code",
     "collapsed": false,
     "input": [
      "print fulur"
     ],
     "language": "python",
     "metadata": {},
     "outputs": [
      {
       "output_type": "stream",
       "stream": "stdout",
       "text": [
        "http://api.redtube.com/?data=redtube.Videos.searchVideos&page=1&output=json\n"
       ]
      }
     ],
     "prompt_number": 69
    },
    {
     "cell_type": "markdown",
     "metadata": {},
     "source": [
      "Requests and json are the two main modules used for this. Random can also be handy"
     ]
    },
    {
     "cell_type": "code",
     "collapsed": false,
     "input": [
      "getfullurl = requests.get(fullurlz)\n",
      "loazfullurl = json.loads(getfullurl)"
     ],
     "language": "python",
     "metadata": {},
     "outputs": [
      {
       "ename": "TypeError",
       "evalue": "expected string or buffer",
       "output_type": "pyerr",
       "traceback": [
        "\u001b[0;31m---------------------------------------------------------------------------\u001b[0m\n\u001b[0;31mTypeError\u001b[0m                                 Traceback (most recent call last)",
        "\u001b[0;32m<ipython-input-70-649025da0bf5>\u001b[0m in \u001b[0;36m<module>\u001b[0;34m()\u001b[0m\n\u001b[1;32m      1\u001b[0m \u001b[0mgetfullurl\u001b[0m \u001b[0;34m=\u001b[0m \u001b[0mrequests\u001b[0m\u001b[0;34m.\u001b[0m\u001b[0mget\u001b[0m\u001b[0;34m(\u001b[0m\u001b[0mfullurlz\u001b[0m\u001b[0;34m)\u001b[0m\u001b[0;34m\u001b[0m\u001b[0m\n\u001b[0;32m----> 2\u001b[0;31m \u001b[0mloazfullurl\u001b[0m \u001b[0;34m=\u001b[0m \u001b[0mjson\u001b[0m\u001b[0;34m.\u001b[0m\u001b[0mloads\u001b[0m\u001b[0;34m(\u001b[0m\u001b[0mgetfullurl\u001b[0m\u001b[0;34m)\u001b[0m\u001b[0;34m\u001b[0m\u001b[0m\n\u001b[0m",
        "\u001b[0;32m/usr/lib/python2.7/json/__init__.pyc\u001b[0m in \u001b[0;36mloads\u001b[0;34m(s, encoding, cls, object_hook, parse_float, parse_int, parse_constant, object_pairs_hook, **kw)\u001b[0m\n\u001b[1;32m    324\u001b[0m             \u001b[0mparse_int\u001b[0m \u001b[0;32mis\u001b[0m \u001b[0mNone\u001b[0m \u001b[0;32mand\u001b[0m \u001b[0mparse_float\u001b[0m \u001b[0;32mis\u001b[0m \u001b[0mNone\u001b[0m \u001b[0;32mand\u001b[0m\u001b[0;34m\u001b[0m\u001b[0m\n\u001b[1;32m    325\u001b[0m             parse_constant is None and object_pairs_hook is None and not kw):\n\u001b[0;32m--> 326\u001b[0;31m         \u001b[0;32mreturn\u001b[0m \u001b[0m_default_decoder\u001b[0m\u001b[0;34m.\u001b[0m\u001b[0mdecode\u001b[0m\u001b[0;34m(\u001b[0m\u001b[0ms\u001b[0m\u001b[0;34m)\u001b[0m\u001b[0;34m\u001b[0m\u001b[0m\n\u001b[0m\u001b[1;32m    327\u001b[0m     \u001b[0;32mif\u001b[0m \u001b[0mcls\u001b[0m \u001b[0;32mis\u001b[0m \u001b[0mNone\u001b[0m\u001b[0;34m:\u001b[0m\u001b[0;34m\u001b[0m\u001b[0m\n\u001b[1;32m    328\u001b[0m         \u001b[0mcls\u001b[0m \u001b[0;34m=\u001b[0m \u001b[0mJSONDecoder\u001b[0m\u001b[0;34m\u001b[0m\u001b[0m\n",
        "\u001b[0;32m/usr/lib/python2.7/json/decoder.pyc\u001b[0m in \u001b[0;36mdecode\u001b[0;34m(self, s, _w)\u001b[0m\n\u001b[1;32m    363\u001b[0m \u001b[0;34m\u001b[0m\u001b[0m\n\u001b[1;32m    364\u001b[0m         \"\"\"\n\u001b[0;32m--> 365\u001b[0;31m         \u001b[0mobj\u001b[0m\u001b[0;34m,\u001b[0m \u001b[0mend\u001b[0m \u001b[0;34m=\u001b[0m \u001b[0mself\u001b[0m\u001b[0;34m.\u001b[0m\u001b[0mraw_decode\u001b[0m\u001b[0;34m(\u001b[0m\u001b[0ms\u001b[0m\u001b[0;34m,\u001b[0m \u001b[0midx\u001b[0m\u001b[0;34m=\u001b[0m\u001b[0m_w\u001b[0m\u001b[0;34m(\u001b[0m\u001b[0ms\u001b[0m\u001b[0;34m,\u001b[0m \u001b[0;36m0\u001b[0m\u001b[0;34m)\u001b[0m\u001b[0;34m.\u001b[0m\u001b[0mend\u001b[0m\u001b[0;34m(\u001b[0m\u001b[0;34m)\u001b[0m\u001b[0;34m)\u001b[0m\u001b[0;34m\u001b[0m\u001b[0m\n\u001b[0m\u001b[1;32m    366\u001b[0m         \u001b[0mend\u001b[0m \u001b[0;34m=\u001b[0m \u001b[0m_w\u001b[0m\u001b[0;34m(\u001b[0m\u001b[0ms\u001b[0m\u001b[0;34m,\u001b[0m \u001b[0mend\u001b[0m\u001b[0;34m)\u001b[0m\u001b[0;34m.\u001b[0m\u001b[0mend\u001b[0m\u001b[0;34m(\u001b[0m\u001b[0;34m)\u001b[0m\u001b[0;34m\u001b[0m\u001b[0m\n\u001b[1;32m    367\u001b[0m         \u001b[0;32mif\u001b[0m \u001b[0mend\u001b[0m \u001b[0;34m!=\u001b[0m \u001b[0mlen\u001b[0m\u001b[0;34m(\u001b[0m\u001b[0ms\u001b[0m\u001b[0;34m)\u001b[0m\u001b[0;34m:\u001b[0m\u001b[0;34m\u001b[0m\u001b[0m\n",
        "\u001b[0;31mTypeError\u001b[0m: expected string or buffer"
       ]
      }
     ],
     "prompt_number": 70
    },
    {
     "cell_type": "code",
     "collapsed": false,
     "input": [
      "getPrn = requests.get(fulur)"
     ],
     "language": "python",
     "metadata": {},
     "outputs": [],
     "prompt_number": 5
    },
    {
     "cell_type": "markdown",
     "metadata": {},
     "source": [
      "Simple requests command to get the json object. This could be any json object - not just RedTube"
     ]
    },
    {
     "cell_type": "code",
     "collapsed": false,
     "input": [
      "loaPrn = json.loads(getPrn.text)\n",
      "print loaPrn"
     ],
     "language": "python",
     "metadata": {},
     "outputs": [
      {
       "output_type": "stream",
       "stream": "stdout",
       "text": [
        "{u'count': 269869, u'videos': [{u'video': {u'rating': u'4.13', u'thumb': u'http://img04.redtubefiles.com/_thumbs/0000628/0628050/0628050_013m.jpg', u'ratings': u'39', u'url': u'http://www.redtube.com/628050', u'views': 19742, u'video_id': u'628050', u'publish_date': u'2014-03-04 03:26:01', u'stars': [{u'star_name': u'Amirah Adara'}], u'duration': u'9:00', u'title': u'Skinny Amirah Adara fingering pussy', u'tags': [{u'tag_name': u'Brunette'}, {u'tag_name': u'High Heels'}, {u'tag_name': u'Masturbation'}, {u'tag_name': u'Oriental'}, {u'tag_name': u'Outdoor'}, {u'tag_name': u'Solo Girl'}, {u'tag_name': u'Vaginal Masturbation'}], u'default_thumb': u'http://img04.redtubefiles.com/_thumbs/0000628/0628050/0628050_013m.jpg'}}, {u'video': {u'rating': u'3.76', u'thumb': u'http://img01.redtubefiles.com/_thumbs/0000519/0519797/0519797_008m.jpg', u'ratings': u'72', u'url': u'http://www.redtube.com/519797', u'views': 50715, u'video_id': u'519797', u'publish_date': u'2014-03-04 02:48:02', u'duration': u'6:31', u'title': u'Student fuck in jacuzzi and finish on face    ', u'tags': [{u'tag_name': u'Blonde'}, {u'tag_name': u'Blowjob'}, {u'tag_name': u'Caucasian'}, {u'tag_name': u'Cum Shot'}, {u'tag_name': u'Oral Sex'}, {u'tag_name': u'Shaved'}, {u'tag_name': u'Small Tits'}, {u'tag_name': u'Teen'}, {u'tag_name': u'Threesome'}, {u'tag_name': u'Vaginal Sex'}], u'default_thumb': u'http://img01.redtubefiles.com/_thumbs/0000519/0519797/0519797_008m.jpg'}}, {u'video': {u'rating': u'3.97', u'thumb': u'http://img01.redtubefiles.com/_thumbs/0000532/0532500/0532500_011m.jpg', u'ratings': u'76', u'url': u'http://www.redtube.com/532500', u'views': 71600, u'video_id': u'532500', u'publish_date': u'2014-03-04 02:08:01', u'duration': u'5:00', u'title': u'Monster cock', u'tags': [{u'tag_name': u'Big Tits'}, {u'tag_name': u'Blowjob'}, {u'tag_name': u'Couple'}, {u'tag_name': u'Cream Pie'}, {u'tag_name': u'Cum Shot'}, {u'tag_name': u'Hentai'}, {u'tag_name': u'Masturbation'}, {u'tag_name': u'Oral Sex'}, {u'tag_name': u'Vaginal Masturbation'}, {u'tag_name': u'Vaginal Sex'}], u'default_thumb': u'http://img01.redtubefiles.com/_thumbs/0000532/0532500/0532500_011m.jpg'}}, {u'video': {u'rating': u'3.97', u'thumb': u'http://img01.redtubefiles.com/_thumbs/0000226/0226306/0226306_013m.jpg', u'ratings': u'319', u'url': u'http://www.redtube.com/226306', u'views': 213678, u'video_id': u'226306', u'publish_date': u'2014-03-04 01:20:04', u'stars': [{u'star_name': u'Sarah Vandella'}], u'duration': u'21:38', u'title': u'Housewife', u'tags': [{u'tag_name': u'Big Ass'}, {u'tag_name': u'Big Tits'}, {u'tag_name': u'Blonde'}, {u'tag_name': u'Blowjob'}, {u'tag_name': u'Couple'}, {u'tag_name': u'Cum Shot'}, {u'tag_name': u'Masturbation'}, {u'tag_name': u'Oral Sex'}, {u'tag_name': u'POV'}, {u'tag_name': u'Pornstar'}, {u'tag_name': u'Vaginal Sex'}], u'default_thumb': u'http://img01.redtubefiles.com/_thumbs/0000226/0226306/0226306_013m.jpg'}}, {u'video': {u'rating': u'3.95', u'thumb': u'http://img04.redtubefiles.com/_thumbs/0000623/0623521/0623521_004m.jpg', u'ratings': u'122', u'url': u'http://www.redtube.com/623521', u'views': 72583, u'video_id': u'623521', u'publish_date': u'2014-03-04 00:38:02', u'duration': u'20:56', u'title': u'Black lesbian lezdom', u'tags': [{u'tag_name': u'Brunette'}, {u'tag_name': u'Ebony'}, {u'tag_name': u'Lesbian'}, {u'tag_name': u'Licking Vagina'}, {u'tag_name': u'Masturbation'}, {u'tag_name': u'Oral Sex'}, {u'tag_name': u'Toys'}, {u'tag_name': u'Vaginal Masturbation'}], u'default_thumb': u'http://img04.redtubefiles.com/_thumbs/0000623/0623521/0623521_004m.jpg'}}, {u'video': {u'rating': u'4.01', u'thumb': u'http://img03.redtubefiles.com/_thumbs/0000398/0398052/0398052_004m.jpg', u'ratings': u'152', u'url': u'http://www.redtube.com/398052', u'views': 178927, u'video_id': u'398052', u'publish_date': u'2014-03-04 00:18:01', u'stars': [{u'star_name': u'April Flowers'}], u'duration': u'17:03', u'title': u'April Flowers stockings fingering', u'tags': [{u'tag_name': u'Brunette'}, {u'tag_name': u'Caucasian'}, {u'tag_name': u'High Heels'}, {u'tag_name': u'Lingerie'}, {u'tag_name': u'Masturbation'}, {u'tag_name': u'Solo Girl'}, {u'tag_name': u'Vaginal Masturbation'}], u'default_thumb': u'http://img03.redtubefiles.com/_thumbs/0000398/0398052/0398052_004m.jpg'}}, {u'video': {u'rating': u'1.00', u'thumb': u'http://img02.redtubefiles.com/_thumbs/0000686/0686150/0686150_015m.jpg', u'ratings': u'1', u'url': u'http://www.redtube.com/686150', u'views': 678, u'video_id': u'686150', u'publish_date': u'2014-03-04 00:04:32', u'duration': u'19:43', u'title': u'Oil-Catfight800', u'tags': [{u'tag_name': u'Lesbian'}], u'default_thumb': u'http://img02.redtubefiles.com/_thumbs/0000686/0686150/0686150_015m.jpg'}}, {u'video': {u'rating': u'0.00', u'thumb': u'http://img02.redtubefiles.com/_thumbs/0000686/0686215/0686215_015m.jpg', u'ratings': u'0', u'url': u'http://www.redtube.com/686215', u'views': 356, u'video_id': u'686215', u'publish_date': u'2014-03-04 00:03:36', u'duration': u'1:40', u'title': u'As Putas do Ferreira pt.11', u'tags': [{u'tag_name': u'Couple'}], u'default_thumb': u'http://img02.redtubefiles.com/_thumbs/0000686/0686215/0686215_015m.jpg'}}, {u'video': {u'rating': u'0.00', u'thumb': u'http://img02.redtubefiles.com/_thumbs/0000686/0686414/0686414_015m.jpg', u'ratings': u'0', u'url': u'http://www.redtube.com/686414', u'views': 414, u'video_id': u'686414', u'publish_date': u'2014-03-04 00:01:25', u'duration': u'29:56', u'title': u'Stream Eroge! H mo Game mo Kaihatsu Zanmai 1', u'tags': [{u'tag_name': u'Couple'}], u'default_thumb': u'http://img02.redtubefiles.com/_thumbs/0000686/0686414/0686414_015m.jpg'}}, {u'video': {u'rating': u'0.00', u'thumb': u'http://img03.redtubefiles.com/_thumbs/0000686/0686420/0686420_015m.jpg', u'ratings': u'0', u'url': u'http://www.redtube.com/686420', u'views': 402, u'video_id': u'686420', u'publish_date': u'2014-03-04 00:00:22', u'duration': u'30:59', u'title': u'Stream Eroge! H mo Game mo Kaihatsu Zanmai 2', u'tags': [{u'tag_name': u'Couple'}], u'default_thumb': u'http://img03.redtubefiles.com/_thumbs/0000686/0686420/0686420_015m.jpg'}}, {u'video': {u'rating': u'4.33', u'thumb': u'http://img02.redtubefiles.com/_thumbs/0000686/0686444/0686444_015m.jpg', u'ratings': u'3', u'url': u'http://www.redtube.com/686444', u'views': 944, u'video_id': u'686444', u'publish_date': u'2014-03-03 23:58:44', u'duration': u'2:24:33', u'title': u'Riki 134cm. of sunburn', u'tags': [{u'tag_name': u'Asian'}, {u'tag_name': u'Couple'}, {u'tag_name': u'Japanese'}, {u'tag_name': u'Teen'}], u'default_thumb': u'http://img02.redtubefiles.com/_thumbs/0000686/0686444/0686444_015m.jpg'}}, {u'video': {u'rating': u'0.00', u'thumb': u'http://img02.redtubefiles.com/_thumbs/0000686/0686489/0686489_015m.jpg', u'ratings': u'0', u'url': u'http://www.redtube.com/686489', u'views': 190, u'video_id': u'686489', u'publish_date': u'2014-03-03 23:56:13', u'duration': u'5:14', u'title': u'SAMANTHA COLOMBIANA SEXY WHASAP 3127811513 TW', u'tags': [{u'tag_name': u'Couple'}], u'default_thumb': u'http://img02.redtubefiles.com/_thumbs/0000686/0686489/0686489_015m.jpg'}}, {u'video': {u'rating': u'0.00', u'thumb': u'http://img02.redtubefiles.com/_thumbs/0000686/0686535/0686535_015m.jpg', u'ratings': u'0', u'url': u'http://www.redtube.com/686535', u'views': 152, u'video_id': u'686535', u'publish_date': u'2014-03-03 23:55:53', u'duration': u'19:18', u'title': u'Game penalty is Pies', u'tags': [{u'tag_name': u'Couple'}], u'default_thumb': u'http://img02.redtubefiles.com/_thumbs/0000686/0686535/0686535_015m.jpg'}}, {u'video': {u'rating': u'5.00', u'thumb': u'http://img04.redtubefiles.com/_thumbs/0000686/0686657/0686657_015m.jpg', u'ratings': u'1', u'url': u'http://www.redtube.com/686657', u'views': 651, u'video_id': u'686657', u'publish_date': u'2014-03-03 23:55:12', u'duration': u'20:23', u'title': u'zombie le rompe y le llena la cola de leche', u'tags': [{u'tag_name': u'Anal Sex'}, {u'tag_name': u'Asian'}, {u'tag_name': u'Big Ass'}, {u'tag_name': u'Big Cock'}, {u'tag_name': u'Couple'}, {u'tag_name': u'Cream Pie'}, {u'tag_name': u'Pornstar'}], u'default_thumb': u'http://img04.redtubefiles.com/_thumbs/0000686/0686657/0686657_015m.jpg'}}, {u'video': {u'rating': u'4.00', u'thumb': u'http://img01.redtubefiles.com/_thumbs/0000686/0686668/0686668_015m.jpg', u'ratings': u'1', u'url': u'http://www.redtube.com/686668', u'views': 471, u'video_id': u'686668', u'publish_date': u'2014-03-03 23:54:04', u'duration': u'34:10', u'title': u'Sweet ex girlfriend swallow', u'tags': [{u'tag_name': u'Threesome'}], u'default_thumb': u'http://img01.redtubefiles.com/_thumbs/0000686/0686668/0686668_015m.jpg'}}, {u'video': {u'rating': u'2.00', u'thumb': u'http://img02.redtubefiles.com/_thumbs/0000686/0686694/0686694_015m.jpg', u'ratings': u'1', u'url': u'http://www.redtube.com/686694', u'views': 225, u'video_id': u'686694', u'publish_date': u'2014-03-03 23:52:22', u'duration': u'26:35', u'title': u'hairypussy Creampie big spanking sextoys', u'tags': [{u'tag_name': u'Amateur'}, {u'tag_name': u'Couple'}], u'default_thumb': u'http://img02.redtubefiles.com/_thumbs/0000686/0686694/0686694_015m.jpg'}}, {u'video': {u'rating': u'4.05', u'thumb': u'http://img01.redtubefiles.com/_thumbs/0000197/0197453/0197453_012m.jpg', u'ratings': u'664', u'url': u'http://www.redtube.com/197453', u'views': 402275, u'video_id': u'197453', u'publish_date': u'2014-03-03 23:06:01', u'duration': u'28:11', u'title': u'I wanna a sex teacher too', u'tags': [{u'tag_name': u'Big Tits'}, {u'tag_name': u'Blowjob'}, {u'tag_name': u'Brunette'}, {u'tag_name': u'Caucasian'}, {u'tag_name': u'Couple'}, {u'tag_name': u'Cum Shot'}, {u'tag_name': u'Licking Vagina'}, {u'tag_name': u'Masturbation'}, {u'tag_name': u'Oral Sex'}, {u'tag_name': u'School'}, {u'tag_name': u'Shaved'}, {u'tag_name': u'Tattoos'}, {u'tag_name': u'Vaginal Masturbation'}, {u'tag_name': u'Vaginal Sex'}], u'default_thumb': u'http://img01.redtubefiles.com/_thumbs/0000197/0197453/0197453_012m.jpg'}}, {u'video': {u'rating': u'3.54', u'thumb': u'http://img01.redtubefiles.com/_thumbs/0000351/0351412/0351412_002m.jpg', u'ratings': u'379', u'url': u'http://www.redtube.com/351412', u'views': 338824, u'video_id': u'351412', u'publish_date': u'2014-03-03 22:18:01', u'duration': u'19:56', u'title': u'Russian bride Laki', u'tags': [{u'tag_name': u'Blonde'}, {u'tag_name': u'Caucasian'}, {u'tag_name': u'High Heels'}, {u'tag_name': u'Masturbation'}, {u'tag_name': u'Russian'}, {u'tag_name': u'Shaved'}, {u'tag_name': u'Solo Girl'}, {u'tag_name': u'Striptease'}, {u'tag_name': u'Toys'}, {u'tag_name': u'Vaginal Masturbation'}], u'default_thumb': u'http://img01.redtubefiles.com/_thumbs/0000351/0351412/0351412_002m.jpg'}}, {u'video': {u'rating': u'3.46', u'thumb': u'http://img04.redtubefiles.com/_thumbs/0000088/0088604/0088604_012m.jpg', u'ratings': u'294', u'url': u'http://www.redtube.com/88604', u'views': 142174, u'video_id': u'88604', u'publish_date': u'2014-03-03 21:36:01', u'duration': u'38:09', u'title': u'Preggo black bitch is hot as hell', u'tags': [{u'tag_name': u'Black-haired'}, {u'tag_name': u'Blowjob'}, {u'tag_name': u'Cum Shot'}, {u'tag_name': u'Ebony'}, {u'tag_name': u'Fetish'}, {u'tag_name': u'Licking Vagina'}, {u'tag_name': u'Masturbation'}, {u'tag_name': u'Oral Sex'}, {u'tag_name': u'Piercings'}, {u'tag_name': u'Pregnant'}, {u'tag_name': u'Shaved'}, {u'tag_name': u'Stockings'}, {u'tag_name': u'Threesome'}, {u'tag_name': u'Vaginal Masturbation'}, {u'tag_name': u'Vaginal Sex'}], u'default_thumb': u'http://img04.redtubefiles.com/_thumbs/0000088/0088604/0088604_012m.jpg'}}, {u'video': {u'rating': u'3.91', u'thumb': u'http://img01.redtubefiles.com/_thumbs/0000272/0272084/0272084_003m.jpg', u'ratings': u'530', u'url': u'http://www.redtube.com/272084', u'views': 326741, u'video_id': u'272084', u'publish_date': u'2014-03-03 21:00:01', u'stars': [{u'star_name': u'Julia Paes'}], u'duration': u'25:35', u'title': u'Julia Paes encantos de una sereia', u'tags': [{u'tag_name': u'Bikini'}, {u'tag_name': u'Blowjob'}, {u'tag_name': u'Brunette'}, {u'tag_name': u'Couple'}, {u'tag_name': u'Cum Shot'}, {u'tag_name': u'Glamour'}, {u'tag_name': u'Latin'}, {u'tag_name': u'Licking Vagina'}, {u'tag_name': u'Oral Sex'}, {u'tag_name': u'Vaginal Sex'}], u'default_thumb': u'http://img01.redtubefiles.com/_thumbs/0000272/0272084/0272084_003m.jpg'}}]}\n"
       ]
      }
     ],
     "prompt_number": 61
    },
    {
     "cell_type": "markdown",
     "metadata": {},
     "source": [
      "Convert it into readable text that you can work with"
     ]
    },
    {
     "cell_type": "code",
     "collapsed": false,
     "input": [
      "for feed in loaPrn[u'videos']:\n",
      "    for entry in feed[u'video']:\n",
      "        print entry"
     ],
     "language": "python",
     "metadata": {},
     "outputs": [
      {
       "output_type": "stream",
       "stream": "stdout",
       "text": [
        "rating\n",
        "thumb\n",
        "ratings\n",
        "url\n",
        "views\n",
        "video_id\n",
        "publish_date\n",
        "stars\n",
        "duration\n",
        "title\n",
        "tags\n",
        "default_thumb\n",
        "rating\n",
        "thumb\n",
        "ratings\n",
        "url\n",
        "views\n",
        "video_id\n",
        "publish_date\n",
        "duration\n",
        "title\n",
        "tags\n",
        "default_thumb\n",
        "rating\n",
        "thumb\n",
        "ratings\n",
        "url\n",
        "views\n",
        "video_id\n",
        "publish_date\n",
        "duration\n",
        "title\n",
        "tags\n",
        "default_thumb\n",
        "rating\n",
        "thumb\n",
        "ratings\n",
        "url\n",
        "views\n",
        "video_id\n",
        "publish_date\n",
        "stars\n",
        "duration\n",
        "title\n",
        "tags\n",
        "default_thumb\n",
        "rating\n",
        "thumb\n",
        "ratings\n",
        "url\n",
        "views\n",
        "video_id\n",
        "publish_date\n",
        "duration\n",
        "title\n",
        "tags\n",
        "default_thumb\n",
        "rating\n",
        "thumb\n",
        "ratings\n",
        "url\n",
        "views\n",
        "video_id\n",
        "publish_date\n",
        "stars\n",
        "duration\n",
        "title\n",
        "tags\n",
        "default_thumb\n",
        "rating\n",
        "thumb\n",
        "ratings\n",
        "url\n",
        "views\n",
        "video_id\n",
        "publish_date\n",
        "duration\n",
        "title\n",
        "tags\n",
        "default_thumb\n",
        "rating\n",
        "thumb\n",
        "ratings\n",
        "url\n",
        "views\n",
        "video_id\n",
        "publish_date\n",
        "duration\n",
        "title\n",
        "tags\n",
        "default_thumb\n",
        "rating\n",
        "thumb\n",
        "ratings\n",
        "url\n",
        "views\n",
        "video_id\n",
        "publish_date\n",
        "duration\n",
        "title\n",
        "tags\n",
        "default_thumb\n",
        "rating\n",
        "thumb\n",
        "ratings\n",
        "url\n",
        "views\n",
        "video_id\n",
        "publish_date\n",
        "duration\n",
        "title\n",
        "tags\n",
        "default_thumb\n",
        "rating\n",
        "thumb\n",
        "ratings\n",
        "url\n",
        "views\n",
        "video_id\n",
        "publish_date\n",
        "duration\n",
        "title\n",
        "tags\n",
        "default_thumb\n",
        "rating\n",
        "thumb\n",
        "ratings\n",
        "url\n",
        "views\n",
        "video_id\n",
        "publish_date\n",
        "duration\n",
        "title\n",
        "tags\n",
        "default_thumb\n",
        "rating\n",
        "thumb\n",
        "ratings\n",
        "url\n",
        "views\n",
        "video_id\n",
        "publish_date\n",
        "duration\n",
        "title\n",
        "tags\n",
        "default_thumb\n",
        "rating\n",
        "thumb\n",
        "ratings\n",
        "url\n",
        "views\n",
        "video_id\n",
        "publish_date\n",
        "duration\n",
        "title\n",
        "tags\n",
        "default_thumb\n",
        "rating\n",
        "thumb\n",
        "ratings\n",
        "url\n",
        "views\n",
        "video_id\n",
        "publish_date\n",
        "duration\n",
        "title\n",
        "tags\n",
        "default_thumb\n",
        "rating\n",
        "thumb\n",
        "ratings\n",
        "url\n",
        "views\n",
        "video_id\n",
        "publish_date\n",
        "duration\n",
        "title\n",
        "tags\n",
        "default_thumb\n",
        "rating\n",
        "thumb\n",
        "ratings\n",
        "url\n",
        "views\n",
        "video_id\n",
        "publish_date\n",
        "duration\n",
        "title\n",
        "tags\n",
        "default_thumb\n",
        "rating\n",
        "thumb\n",
        "ratings\n",
        "url\n",
        "views\n",
        "video_id\n",
        "publish_date\n",
        "duration\n",
        "title\n",
        "tags\n",
        "default_thumb\n",
        "rating\n",
        "thumb\n",
        "ratings\n",
        "url\n",
        "views\n",
        "video_id\n",
        "publish_date\n",
        "duration\n",
        "title\n",
        "tags\n",
        "default_thumb\n",
        "rating\n",
        "thumb\n",
        "ratings\n",
        "url\n",
        "views\n",
        "video_id\n",
        "publish_date\n",
        "stars\n",
        "duration\n",
        "title\n",
        "tags\n",
        "default_thumb\n"
       ]
      }
     ],
     "prompt_number": 7
    },
    {
     "cell_type": "code",
     "collapsed": false,
     "input": [
      "addnums = 0\n",
      "\n",
      "for nums in range(100):\n",
      "    naoPrn = loaPrn[u'videos'][addnums]\n",
      "    print naoPrn\n",
      "    addnums + 1 "
     ],
     "language": "python",
     "metadata": {},
     "outputs": [
      {
       "output_type": "stream",
       "stream": "stdout",
       "text": [
        "{u'video': {u'rating': u'4.13', u'thumb': u'http://img04.redtubefiles.com/_thumbs/0000628/0628050/0628050_013m.jpg', u'ratings': u'39', u'url': u'http://www.redtube.com/628050', u'views': 19742, u'video_id': u'628050', u'publish_date': u'2014-03-04 03:26:01', u'stars': [{u'star_name': u'Amirah Adara'}], u'duration': u'9:00', u'title': u'Skinny Amirah Adara fingering pussy', u'tags': [{u'tag_name': u'Brunette'}, {u'tag_name': u'High Heels'}, {u'tag_name': u'Masturbation'}, {u'tag_name': u'Oriental'}, {u'tag_name': u'Outdoor'}, {u'tag_name': u'Solo Girl'}, {u'tag_name': u'Vaginal Masturbation'}], u'default_thumb': u'http://img04.redtubefiles.com/_thumbs/0000628/0628050/0628050_013m.jpg'}}\n",
        "{u'video': {u'rating': u'4.13', u'thumb': u'http://img04.redtubefiles.com/_thumbs/0000628/0628050/0628050_013m.jpg', u'ratings': u'39', u'url': u'http://www.redtube.com/628050', u'views': 19742, u'video_id': u'628050', u'publish_date': u'2014-03-04 03:26:01', u'stars': [{u'star_name': u'Amirah Adara'}], u'duration': u'9:00', u'title': u'Skinny Amirah Adara fingering pussy', u'tags': [{u'tag_name': u'Brunette'}, {u'tag_name': u'High Heels'}, {u'tag_name': u'Masturbation'}, {u'tag_name': u'Oriental'}, {u'tag_name': u'Outdoor'}, {u'tag_name': u'Solo Girl'}, {u'tag_name': u'Vaginal Masturbation'}], u'default_thumb': u'http://img04.redtubefiles.com/_thumbs/0000628/0628050/0628050_013m.jpg'}}\n",
        "{u'video': {u'rating': u'4.13', u'thumb': u'http://img04.redtubefiles.com/_thumbs/0000628/0628050/0628050_013m.jpg', u'ratings': u'39', u'url': u'http://www.redtube.com/628050', u'views': 19742, u'video_id': u'628050', u'publish_date': u'2014-03-04 03:26:01', u'stars': [{u'star_name': u'Amirah Adara'}], u'duration': u'9:00', u'title': u'Skinny Amirah Adara fingering pussy', u'tags': [{u'tag_name': u'Brunette'}, {u'tag_name': u'High Heels'}, {u'tag_name': u'Masturbation'}, {u'tag_name': u'Oriental'}, {u'tag_name': u'Outdoor'}, {u'tag_name': u'Solo Girl'}, {u'tag_name': u'Vaginal Masturbation'}], u'default_thumb': u'http://img04.redtubefiles.com/_thumbs/0000628/0628050/0628050_013m.jpg'}}\n",
        "{u'video': {u'rating': u'4.13', u'thumb': u'http://img04.redtubefiles.com/_thumbs/0000628/0628050/0628050_013m.jpg', u'ratings': u'39', u'url': u'http://www.redtube.com/628050', u'views': 19742, u'video_id': u'628050', u'publish_date': u'2014-03-04 03:26:01', u'stars': [{u'star_name': u'Amirah Adara'}], u'duration': u'9:00', u'title': u'Skinny Amirah Adara fingering pussy', u'tags': [{u'tag_name': u'Brunette'}, {u'tag_name': u'High Heels'}, {u'tag_name': u'Masturbation'}, {u'tag_name': u'Oriental'}, {u'tag_name': u'Outdoor'}, {u'tag_name': u'Solo Girl'}, {u'tag_name': u'Vaginal Masturbation'}], u'default_thumb': u'http://img04.redtubefiles.com/_thumbs/0000628/0628050/0628050_013m.jpg'}}\n",
        "{u'video': {u'rating': u'4.13', u'thumb': u'http://img04.redtubefiles.com/_thumbs/0000628/0628050/0628050_013m.jpg', u'ratings': u'39', u'url': u'http://www.redtube.com/628050', u'views': 19742, u'video_id': u'628050', u'publish_date': u'2014-03-04 03:26:01', u'stars': [{u'star_name': u'Amirah Adara'}], u'duration': u'9:00', u'title': u'Skinny Amirah Adara fingering pussy', u'tags': [{u'tag_name': u'Brunette'}, {u'tag_name': u'High Heels'}, {u'tag_name': u'Masturbation'}, {u'tag_name': u'Oriental'}, {u'tag_name': u'Outdoor'}, {u'tag_name': u'Solo Girl'}, {u'tag_name': u'Vaginal Masturbation'}], u'default_thumb': u'http://img04.redtubefiles.com/_thumbs/0000628/0628050/0628050_013m.jpg'}}\n",
        "{u'video': {u'rating': u'4.13', u'thumb': u'http://img04.redtubefiles.com/_thumbs/0000628/0628050/0628050_013m.jpg', u'ratings': u'39', u'url': u'http://www.redtube.com/628050', u'views': 19742, u'video_id': u'628050', u'publish_date': u'2014-03-04 03:26:01', u'stars': [{u'star_name': u'Amirah Adara'}], u'duration': u'9:00', u'title': u'Skinny Amirah Adara fingering pussy', u'tags': [{u'tag_name': u'Brunette'}, {u'tag_name': u'High Heels'}, {u'tag_name': u'Masturbation'}, {u'tag_name': u'Oriental'}, {u'tag_name': u'Outdoor'}, {u'tag_name': u'Solo Girl'}, {u'tag_name': u'Vaginal Masturbation'}], u'default_thumb': u'http://img04.redtubefiles.com/_thumbs/0000628/0628050/0628050_013m.jpg'}}\n",
        "{u'video': {u'rating': u'4.13', u'thumb': u'http://img04.redtubefiles.com/_thumbs/0000628/0628050/0628050_013m.jpg', u'ratings': u'39', u'url': u'http://www.redtube.com/628050', u'views': 19742, u'video_id': u'628050', u'publish_date': u'2014-03-04 03:26:01', u'stars': [{u'star_name': u'Amirah Adara'}], u'duration': u'9:00', u'title': u'Skinny Amirah Adara fingering pussy', u'tags': [{u'tag_name': u'Brunette'}, {u'tag_name': u'High Heels'}, {u'tag_name': u'Masturbation'}, {u'tag_name': u'Oriental'}, {u'tag_name': u'Outdoor'}, {u'tag_name': u'Solo Girl'}, {u'tag_name': u'Vaginal Masturbation'}], u'default_thumb': u'http://img04.redtubefiles.com/_thumbs/0000628/0628050/0628050_013m.jpg'}}\n",
        "{u'video': {u'rating': u'4.13', u'thumb': u'http://img04.redtubefiles.com/_thumbs/0000628/0628050/0628050_013m.jpg', u'ratings': u'39', u'url': u'http://www.redtube.com/628050', u'views': 19742, u'video_id': u'628050', u'publish_date': u'2014-03-04 03:26:01', u'stars': [{u'star_name': u'Amirah Adara'}], u'duration': u'9:00', u'title': u'Skinny Amirah Adara fingering pussy', u'tags': [{u'tag_name': u'Brunette'}, {u'tag_name': u'High Heels'}, {u'tag_name': u'Masturbation'}, {u'tag_name': u'Oriental'}, {u'tag_name': u'Outdoor'}, {u'tag_name': u'Solo Girl'}, {u'tag_name': u'Vaginal Masturbation'}], u'default_thumb': u'http://img04.redtubefiles.com/_thumbs/0000628/0628050/0628050_013m.jpg'}}\n",
        "{u'video': {u'rating': u'4.13', u'thumb': u'http://img04.redtubefiles.com/_thumbs/0000628/0628050/0628050_013m.jpg', u'ratings': u'39', u'url': u'http://www.redtube.com/628050', u'views': 19742, u'video_id': u'628050', u'publish_date': u'2014-03-04 03:26:01', u'stars': [{u'star_name': u'Amirah Adara'}], u'duration': u'9:00', u'title': u'Skinny Amirah Adara fingering pussy', u'tags': [{u'tag_name': u'Brunette'}, {u'tag_name': u'High Heels'}, {u'tag_name': u'Masturbation'}, {u'tag_name': u'Oriental'}, {u'tag_name': u'Outdoor'}, {u'tag_name': u'Solo Girl'}, {u'tag_name': u'Vaginal Masturbation'}], u'default_thumb': u'http://img04.redtubefiles.com/_thumbs/0000628/0628050/0628050_013m.jpg'}}\n",
        "{u'video': {u'rating': u'4.13', u'thumb': u'http://img04.redtubefiles.com/_thumbs/0000628/0628050/0628050_013m.jpg', u'ratings': u'39', u'url': u'http://www.redtube.com/628050', u'views': 19742, u'video_id': u'628050', u'publish_date': u'2014-03-04 03:26:01', u'stars': [{u'star_name': u'Amirah Adara'}], u'duration': u'9:00', u'title': u'Skinny Amirah Adara fingering pussy', u'tags': [{u'tag_name': u'Brunette'}, {u'tag_name': u'High Heels'}, {u'tag_name': u'Masturbation'}, {u'tag_name': u'Oriental'}, {u'tag_name': u'Outdoor'}, {u'tag_name': u'Solo Girl'}, {u'tag_name': u'Vaginal Masturbation'}], u'default_thumb': u'http://img04.redtubefiles.com/_thumbs/0000628/0628050/0628050_013m.jpg'}}\n",
        "{u'video': {u'rating': u'4.13', u'thumb': u'http://img04.redtubefiles.com/_thumbs/0000628/0628050/0628050_013m.jpg', u'ratings': u'39', u'url': u'http://www.redtube.com/628050', u'views': 19742, u'video_id': u'628050', u'publish_date': u'2014-03-04 03:26:01', u'stars': [{u'star_name': u'Amirah Adara'}], u'duration': u'9:00', u'title': u'Skinny Amirah Adara fingering pussy', u'tags': [{u'tag_name': u'Brunette'}, {u'tag_name': u'High Heels'}, {u'tag_name': u'Masturbation'}, {u'tag_name': u'Oriental'}, {u'tag_name': u'Outdoor'}, {u'tag_name': u'Solo Girl'}, {u'tag_name': u'Vaginal Masturbation'}], u'default_thumb': u'http://img04.redtubefiles.com/_thumbs/0000628/0628050/0628050_013m.jpg'}}\n",
        "{u'video': {u'rating': u'4.13', u'thumb': u'http://img04.redtubefiles.com/_thumbs/0000628/0628050/0628050_013m.jpg', u'ratings': u'39', u'url': u'http://www.redtube.com/628050', u'views': 19742, u'video_id': u'628050', u'publish_date': u'2014-03-04 03:26:01', u'stars': [{u'star_name': u'Amirah Adara'}], u'duration': u'9:00', u'title': u'Skinny Amirah Adara fingering pussy', u'tags': [{u'tag_name': u'Brunette'}, {u'tag_name': u'High Heels'}, {u'tag_name': u'Masturbation'}, {u'tag_name': u'Oriental'}, {u'tag_name': u'Outdoor'}, {u'tag_name': u'Solo Girl'}, {u'tag_name': u'Vaginal Masturbation'}], u'default_thumb': u'http://img04.redtubefiles.com/_thumbs/0000628/0628050/0628050_013m.jpg'}}\n",
        "{u'video': {u'rating': u'4.13', u'thumb': u'http://img04.redtubefiles.com/_thumbs/0000628/0628050/0628050_013m.jpg', u'ratings': u'39', u'url': u'http://www.redtube.com/628050', u'views': 19742, u'video_id': u'628050', u'publish_date': u'2014-03-04 03:26:01', u'stars': [{u'star_name': u'Amirah Adara'}], u'duration': u'9:00', u'title': u'Skinny Amirah Adara fingering pussy', u'tags': [{u'tag_name': u'Brunette'}, {u'tag_name': u'High Heels'}, {u'tag_name': u'Masturbation'}, {u'tag_name': u'Oriental'}, {u'tag_name': u'Outdoor'}, {u'tag_name': u'Solo Girl'}, {u'tag_name': u'Vaginal Masturbation'}], u'default_thumb': u'http://img04.redtubefiles.com/_thumbs/0000628/0628050/0628050_013m.jpg'}}\n",
        "{u'video': {u'rating': u'4.13', u'thumb': u'http://img04.redtubefiles.com/_thumbs/0000628/0628050/0628050_013m.jpg', u'ratings': u'39', u'url': u'http://www.redtube.com/628050', u'views': 19742, u'video_id': u'628050', u'publish_date': u'2014-03-04 03:26:01', u'stars': [{u'star_name': u'Amirah Adara'}], u'duration': u'9:00', u'title': u'Skinny Amirah Adara fingering pussy', u'tags': [{u'tag_name': u'Brunette'}, {u'tag_name': u'High Heels'}, {u'tag_name': u'Masturbation'}, {u'tag_name': u'Oriental'}, {u'tag_name': u'Outdoor'}, {u'tag_name': u'Solo Girl'}, {u'tag_name': u'Vaginal Masturbation'}], u'default_thumb': u'http://img04.redtubefiles.com/_thumbs/0000628/0628050/0628050_013m.jpg'}}\n",
        "{u'video': {u'rating': u'4.13', u'thumb': u'http://img04.redtubefiles.com/_thumbs/0000628/0628050/0628050_013m.jpg', u'ratings': u'39', u'url': u'http://www.redtube.com/628050', u'views': 19742, u'video_id': u'628050', u'publish_date': u'2014-03-04 03:26:01', u'stars': [{u'star_name': u'Amirah Adara'}], u'duration': u'9:00', u'title': u'Skinny Amirah Adara fingering pussy', u'tags': [{u'tag_name': u'Brunette'}, {u'tag_name': u'High Heels'}, {u'tag_name': u'Masturbation'}, {u'tag_name': u'Oriental'}, {u'tag_name': u'Outdoor'}, {u'tag_name': u'Solo Girl'}, {u'tag_name': u'Vaginal Masturbation'}], u'default_thumb': u'http://img04.redtubefiles.com/_thumbs/0000628/0628050/0628050_013m.jpg'}}\n",
        "{u'video': {u'rating': u'4.13', u'thumb': u'http://img04.redtubefiles.com/_thumbs/0000628/0628050/0628050_013m.jpg', u'ratings': u'39', u'url': u'http://www.redtube.com/628050', u'views': 19742, u'video_id': u'628050', u'publish_date': u'2014-03-04 03:26:01', u'stars': [{u'star_name': u'Amirah Adara'}], u'duration': u'9:00', u'title': u'Skinny Amirah Adara fingering pussy', u'tags': [{u'tag_name': u'Brunette'}, {u'tag_name': u'High Heels'}, {u'tag_name': u'Masturbation'}, {u'tag_name': u'Oriental'}, {u'tag_name': u'Outdoor'}, {u'tag_name': u'Solo Girl'}, {u'tag_name': u'Vaginal Masturbation'}], u'default_thumb': u'http://img04.redtubefiles.com/_thumbs/0000628/0628050/0628050_013m.jpg'}}\n",
        "{u'video': {u'rating': u'4.13', u'thumb': u'http://img04.redtubefiles.com/_thumbs/0000628/0628050/0628050_013m.jpg', u'ratings': u'39', u'url': u'http://www.redtube.com/628050', u'views': 19742, u'video_id': u'628050', u'publish_date': u'2014-03-04 03:26:01', u'stars': [{u'star_name': u'Amirah Adara'}], u'duration': u'9:00', u'title': u'Skinny Amirah Adara fingering pussy', u'tags': [{u'tag_name': u'Brunette'}, {u'tag_name': u'High Heels'}, {u'tag_name': u'Masturbation'}, {u'tag_name': u'Oriental'}, {u'tag_name': u'Outdoor'}, {u'tag_name': u'Solo Girl'}, {u'tag_name': u'Vaginal Masturbation'}], u'default_thumb': u'http://img04.redtubefiles.com/_thumbs/0000628/0628050/0628050_013m.jpg'}}\n",
        "{u'video': {u'rating': u'4.13', u'thumb': u'http://img04.redtubefiles.com/_thumbs/0000628/0628050/0628050_013m.jpg', u'ratings': u'39', u'url': u'http://www.redtube.com/628050', u'views': 19742, u'video_id': u'628050', u'publish_date': u'2014-03-04 03:26:01', u'stars': [{u'star_name': u'Amirah Adara'}], u'duration': u'9:00', u'title': u'Skinny Amirah Adara fingering pussy', u'tags': [{u'tag_name': u'Brunette'}, {u'tag_name': u'High Heels'}, {u'tag_name': u'Masturbation'}, {u'tag_name': u'Oriental'}, {u'tag_name': u'Outdoor'}, {u'tag_name': u'Solo Girl'}, {u'tag_name': u'Vaginal Masturbation'}], u'default_thumb': u'http://img04.redtubefiles.com/_thumbs/0000628/0628050/0628050_013m.jpg'}}\n",
        "{u'video': {u'rating': u'4.13', u'thumb': u'http://img04.redtubefiles.com/_thumbs/0000628/0628050/0628050_013m.jpg', u'ratings': u'39', u'url': u'http://www.redtube.com/628050', u'views': 19742, u'video_id': u'628050', u'publish_date': u'2014-03-04 03:26:01', u'stars': [{u'star_name': u'Amirah Adara'}], u'duration': u'9:00', u'title': u'Skinny Amirah Adara fingering pussy', u'tags': [{u'tag_name': u'Brunette'}, {u'tag_name': u'High Heels'}, {u'tag_name': u'Masturbation'}, {u'tag_name': u'Oriental'}, {u'tag_name': u'Outdoor'}, {u'tag_name': u'Solo Girl'}, {u'tag_name': u'Vaginal Masturbation'}], u'default_thumb': u'http://img04.redtubefiles.com/_thumbs/0000628/0628050/0628050_013m.jpg'}}\n",
        "{u'video': {u'rating': u'4.13', u'thumb': u'http://img04.redtubefiles.com/_thumbs/0000628/0628050/0628050_013m.jpg', u'ratings': u'39', u'url': u'http://www.redtube.com/628050', u'views': 19742, u'video_id': u'628050', u'publish_date': u'2014-03-04 03:26:01', u'stars': [{u'star_name': u'Amirah Adara'}], u'duration': u'9:00', u'title': u'Skinny Amirah Adara fingering pussy', u'tags': [{u'tag_name': u'Brunette'}, {u'tag_name': u'High Heels'}, {u'tag_name': u'Masturbation'}, {u'tag_name': u'Oriental'}, {u'tag_name': u'Outdoor'}, {u'tag_name': u'Solo Girl'}, {u'tag_name': u'Vaginal Masturbation'}], u'default_thumb': u'http://img04.redtubefiles.com/_thumbs/0000628/0628050/0628050_013m.jpg'}}\n",
        "{u'video': {u'rating': u'4.13', u'thumb': u'http://img04.redtubefiles.com/_thumbs/0000628/0628050/0628050_013m.jpg', u'ratings': u'39', u'url': u'http://www.redtube.com/628050', u'views': 19742, u'video_id': u'628050', u'publish_date': u'2014-03-04 03:26:01', u'stars': [{u'star_name': u'Amirah Adara'}], u'duration': u'9:00', u'title': u'Skinny Amirah Adara fingering pussy', u'tags': [{u'tag_name': u'Brunette'}, {u'tag_name': u'High Heels'}, {u'tag_name': u'Masturbation'}, {u'tag_name': u'Oriental'}, {u'tag_name': u'Outdoor'}, {u'tag_name': u'Solo Girl'}, {u'tag_name': u'Vaginal Masturbation'}], u'default_thumb': u'http://img04.redtubefiles.com/_thumbs/0000628/0628050/0628050_013m.jpg'}}\n",
        "{u'video': {u'rating': u'4.13', u'thumb': u'http://img04.redtubefiles.com/_thumbs/0000628/0628050/0628050_013m.jpg', u'ratings': u'39', u'url': u'http://www.redtube.com/628050', u'views': 19742, u'video_id': u'628050', u'publish_date': u'2014-03-04 03:26:01', u'stars': [{u'star_name': u'Amirah Adara'}], u'duration': u'9:00', u'title': u'Skinny Amirah Adara fingering pussy', u'tags': [{u'tag_name': u'Brunette'}, {u'tag_name': u'High Heels'}, {u'tag_name': u'Masturbation'}, {u'tag_name': u'Oriental'}, {u'tag_name': u'Outdoor'}, {u'tag_name': u'Solo Girl'}, {u'tag_name': u'Vaginal Masturbation'}], u'default_thumb': u'http://img04.redtubefiles.com/_thumbs/0000628/0628050/0628050_013m.jpg'}}\n",
        "{u'video': {u'rating': u'4.13', u'thumb': u'http://img04.redtubefiles.com/_thumbs/0000628/0628050/0628050_013m.jpg', u'ratings': u'39', u'url': u'http://www.redtube.com/628050', u'views': 19742, u'video_id': u'628050', u'publish_date': u'2014-03-04 03:26:01', u'stars': [{u'star_name': u'Amirah Adara'}], u'duration': u'9:00', u'title': u'Skinny Amirah Adara fingering pussy', u'tags': [{u'tag_name': u'Brunette'}, {u'tag_name': u'High Heels'}, {u'tag_name': u'Masturbation'}, {u'tag_name': u'Oriental'}, {u'tag_name': u'Outdoor'}, {u'tag_name': u'Solo Girl'}, {u'tag_name': u'Vaginal Masturbation'}], u'default_thumb': u'http://img04.redtubefiles.com/_thumbs/0000628/0628050/0628050_013m.jpg'}}\n",
        "{u'video': {u'rating': u'4.13', u'thumb': u'http://img04.redtubefiles.com/_thumbs/0000628/0628050/0628050_013m.jpg', u'ratings': u'39', u'url': u'http://www.redtube.com/628050', u'views': 19742, u'video_id': u'628050', u'publish_date': u'2014-03-04 03:26:01', u'stars': [{u'star_name': u'Amirah Adara'}], u'duration': u'9:00', u'title': u'Skinny Amirah Adara fingering pussy', u'tags': [{u'tag_name': u'Brunette'}, {u'tag_name': u'High Heels'}, {u'tag_name': u'Masturbation'}, {u'tag_name': u'Oriental'}, {u'tag_name': u'Outdoor'}, {u'tag_name': u'Solo Girl'}, {u'tag_name': u'Vaginal Masturbation'}], u'default_thumb': u'http://img04.redtubefiles.com/_thumbs/0000628/0628050/0628050_013m.jpg'}}\n",
        "{u'video': {u'rating': u'4.13', u'thumb': u'http://img04.redtubefiles.com/_thumbs/0000628/0628050/0628050_013m.jpg', u'ratings': u'39', u'url': u'http://www.redtube.com/628050', u'views': 19742, u'video_id': u'628050', u'publish_date': u'2014-03-04 03:26:01', u'stars': [{u'star_name': u'Amirah Adara'}], u'duration': u'9:00', u'title': u'Skinny Amirah Adara fingering pussy', u'tags': [{u'tag_name': u'Brunette'}, {u'tag_name': u'High Heels'}, {u'tag_name': u'Masturbation'}, {u'tag_name': u'Oriental'}, {u'tag_name': u'Outdoor'}, {u'tag_name': u'Solo Girl'}, {u'tag_name': u'Vaginal Masturbation'}], u'default_thumb': u'http://img04.redtubefiles.com/_thumbs/0000628/0628050/0628050_013m.jpg'}}\n",
        "{u'video': {u'rating': u'4.13', u'thumb': u'http://img04.redtubefiles.com/_thumbs/0000628/0628050/0628050_013m.jpg', u'ratings': u'39', u'url': u'http://www.redtube.com/628050', u'views': 19742, u'video_id': u'628050', u'publish_date': u'2014-03-04 03:26:01', u'stars': [{u'star_name': u'Amirah Adara'}], u'duration': u'9:00', u'title': u'Skinny Amirah Adara fingering pussy', u'tags': [{u'tag_name': u'Brunette'}, {u'tag_name': u'High Heels'}, {u'tag_name': u'Masturbation'}, {u'tag_name': u'Oriental'}, {u'tag_name': u'Outdoor'}, {u'tag_name': u'Solo Girl'}, {u'tag_name': u'Vaginal Masturbation'}], u'default_thumb': u'http://img04.redtubefiles.com/_thumbs/0000628/0628050/0628050_013m.jpg'}}\n",
        "{u'video': {u'rating': u'4.13', u'thumb': u'http://img04.redtubefiles.com/_thumbs/0000628/0628050/0628050_013m.jpg', u'ratings': u'39', u'url': u'http://www.redtube.com/628050', u'views': 19742, u'video_id': u'628050', u'publish_date': u'2014-03-04 03:26:01', u'stars': [{u'star_name': u'Amirah Adara'}], u'duration': u'9:00', u'title': u'Skinny Amirah Adara fingering pussy', u'tags': [{u'tag_name': u'Brunette'}, {u'tag_name': u'High Heels'}, {u'tag_name': u'Masturbation'}, {u'tag_name': u'Oriental'}, {u'tag_name': u'Outdoor'}, {u'tag_name': u'Solo Girl'}, {u'tag_name': u'Vaginal Masturbation'}], u'default_thumb': u'http://img04.redtubefiles.com/_thumbs/0000628/0628050/0628050_013m.jpg'}}\n",
        "{u'video': {u'rating': u'4.13', u'thumb': u'http://img04.redtubefiles.com/_thumbs/0000628/0628050/0628050_013m.jpg', u'ratings': u'39', u'url': u'http://www.redtube.com/628050', u'views': 19742, u'video_id': u'628050', u'publish_date': u'2014-03-04 03:26:01', u'stars': [{u'star_name': u'Amirah Adara'}], u'duration': u'9:00', u'title': u'Skinny Amirah Adara fingering pussy', u'tags': [{u'tag_name': u'Brunette'}, {u'tag_name': u'High Heels'}, {u'tag_name': u'Masturbation'}, {u'tag_name': u'Oriental'}, {u'tag_name': u'Outdoor'}, {u'tag_name': u'Solo Girl'}, {u'tag_name': u'Vaginal Masturbation'}], u'default_thumb': u'http://img04.redtubefiles.com/_thumbs/0000628/0628050/0628050_013m.jpg'}}\n",
        "{u'video': {u'rating': u'4.13', u'thumb': u'http://img04.redtubefiles.com/_thumbs/0000628/0628050/0628050_013m.jpg', u'ratings': u'39', u'url': u'http://www.redtube.com/628050', u'views': 19742, u'video_id': u'628050', u'publish_date': u'2014-03-04 03:26:01', u'stars': [{u'star_name': u'Amirah Adara'}], u'duration': u'9:00', u'title': u'Skinny Amirah Adara fingering pussy', u'tags': [{u'tag_name': u'Brunette'}, {u'tag_name': u'High Heels'}, {u'tag_name': u'Masturbation'}, {u'tag_name': u'Oriental'}, {u'tag_name': u'Outdoor'}, {u'tag_name': u'Solo Girl'}, {u'tag_name': u'Vaginal Masturbation'}], u'default_thumb': u'http://img04.redtubefiles.com/_thumbs/0000628/0628050/0628050_013m.jpg'}}\n",
        "{u'video': {u'rating': u'4.13', u'thumb': u'http://img04.redtubefiles.com/_thumbs/0000628/0628050/0628050_013m.jpg', u'ratings': u'39', u'url': u'http://www.redtube.com/628050', u'views': 19742, u'video_id': u'628050', u'publish_date': u'2014-03-04 03:26:01', u'stars': [{u'star_name': u'Amirah Adara'}], u'duration': u'9:00', u'title': u'Skinny Amirah Adara fingering pussy', u'tags': [{u'tag_name': u'Brunette'}, {u'tag_name': u'High Heels'}, {u'tag_name': u'Masturbation'}, {u'tag_name': u'Oriental'}, {u'tag_name': u'Outdoor'}, {u'tag_name': u'Solo Girl'}, {u'tag_name': u'Vaginal Masturbation'}], u'default_thumb': u'http://img04.redtubefiles.com/_thumbs/0000628/0628050/0628050_013m.jpg'}}\n",
        "{u'video': {u'rating': u'4.13', u'thumb': u'http://img04.redtubefiles.com/_thumbs/0000628/0628050/0628050_013m.jpg', u'ratings': u'39', u'url': u'http://www.redtube.com/628050', u'views': 19742, u'video_id': u'628050', u'publish_date': u'2014-03-04 03:26:01', u'stars': [{u'star_name': u'Amirah Adara'}], u'duration': u'9:00', u'title': u'Skinny Amirah Adara fingering pussy', u'tags': [{u'tag_name': u'Brunette'}, {u'tag_name': u'High Heels'}, {u'tag_name': u'Masturbation'}, {u'tag_name': u'Oriental'}, {u'tag_name': u'Outdoor'}, {u'tag_name': u'Solo Girl'}, {u'tag_name': u'Vaginal Masturbation'}], u'default_thumb': u'http://img04.redtubefiles.com/_thumbs/0000628/0628050/0628050_013m.jpg'}}\n",
        "{u'video': {u'rating': u'4.13', u'thumb': u'http://img04.redtubefiles.com/_thumbs/0000628/0628050/0628050_013m.jpg', u'ratings': u'39', u'url': u'http://www.redtube.com/628050', u'views': 19742, u'video_id': u'628050', u'publish_date': u'2014-03-04 03:26:01', u'stars': [{u'star_name': u'Amirah Adara'}], u'duration': u'9:00', u'title': u'Skinny Amirah Adara fingering pussy', u'tags': [{u'tag_name': u'Brunette'}, {u'tag_name': u'High Heels'}, {u'tag_name': u'Masturbation'}, {u'tag_name': u'Oriental'}, {u'tag_name': u'Outdoor'}, {u'tag_name': u'Solo Girl'}, {u'tag_name': u'Vaginal Masturbation'}], u'default_thumb': u'http://img04.redtubefiles.com/_thumbs/0000628/0628050/0628050_013m.jpg'}}\n",
        "{u'video': {u'rating': u'4.13', u'thumb': u'http://img04.redtubefiles.com/_thumbs/0000628/0628050/0628050_013m.jpg', u'ratings': u'39', u'url': u'http://www.redtube.com/628050', u'views': 19742, u'video_id': u'628050', u'publish_date': u'2014-03-04 03:26:01', u'stars': [{u'star_name': u'Amirah Adara'}], u'duration': u'9:00', u'title': u'Skinny Amirah Adara fingering pussy', u'tags': [{u'tag_name': u'Brunette'}, {u'tag_name': u'High Heels'}, {u'tag_name': u'Masturbation'}, {u'tag_name': u'Oriental'}, {u'tag_name': u'Outdoor'}, {u'tag_name': u'Solo Girl'}, {u'tag_name': u'Vaginal Masturbation'}], u'default_thumb': u'http://img04.redtubefiles.com/_thumbs/0000628/0628050/0628050_013m.jpg'}}\n",
        "{u'video': {u'rating': u'4.13', u'thumb': u'http://img04.redtubefiles.com/_thumbs/0000628/0628050/0628050_013m.jpg', u'ratings': u'39', u'url': u'http://www.redtube.com/628050', u'views': 19742, u'video_id': u'628050', u'publish_date': u'2014-03-04 03:26:01', u'stars': [{u'star_name': u'Amirah Adara'}], u'duration': u'9:00', u'title': u'Skinny Amirah Adara fingering pussy', u'tags': [{u'tag_name': u'Brunette'}, {u'tag_name': u'High Heels'}, {u'tag_name': u'Masturbation'}, {u'tag_name': u'Oriental'}, {u'tag_name': u'Outdoor'}, {u'tag_name': u'Solo Girl'}, {u'tag_name': u'Vaginal Masturbation'}], u'default_thumb': u'http://img04.redtubefiles.com/_thumbs/0000628/0628050/0628050_013m.jpg'}}\n",
        "{u'video': {u'rating': u'4.13', u'thumb': u'http://img04.redtubefiles.com/_thumbs/0000628/0628050/0628050_013m.jpg', u'ratings': u'39', u'url': u'http://www.redtube.com/628050', u'views': 19742, u'video_id': u'628050', u'publish_date': u'2014-03-04 03:26:01', u'stars': [{u'star_name': u'Amirah Adara'}], u'duration': u'9:00', u'title': u'Skinny Amirah Adara fingering pussy', u'tags': [{u'tag_name': u'Brunette'}, {u'tag_name': u'High Heels'}, {u'tag_name': u'Masturbation'}, {u'tag_name': u'Oriental'}, {u'tag_name': u'Outdoor'}, {u'tag_name': u'Solo Girl'}, {u'tag_name': u'Vaginal Masturbation'}], u'default_thumb': u'http://img04.redtubefiles.com/_thumbs/0000628/0628050/0628050_013m.jpg'}}\n",
        "{u'video': {u'rating': u'4.13', u'thumb': u'http://img04.redtubefiles.com/_thumbs/0000628/0628050/0628050_013m.jpg', u'ratings': u'39', u'url': u'http://www.redtube.com/628050', u'views': 19742, u'video_id': u'628050', u'publish_date': u'2014-03-04 03:26:01', u'stars': [{u'star_name': u'Amirah Adara'}], u'duration': u'9:00', u'title': u'Skinny Amirah Adara fingering pussy', u'tags': [{u'tag_name': u'Brunette'}, {u'tag_name': u'High Heels'}, {u'tag_name': u'Masturbation'}, {u'tag_name': u'Oriental'}, {u'tag_name': u'Outdoor'}, {u'tag_name': u'Solo Girl'}, {u'tag_name': u'Vaginal Masturbation'}], u'default_thumb': u'http://img04.redtubefiles.com/_thumbs/0000628/0628050/0628050_013m.jpg'}}\n",
        "{u'video': {u'rating': u'4.13', u'thumb': u'http://img04.redtubefiles.com/_thumbs/0000628/0628050/0628050_013m.jpg', u'ratings': u'39', u'url': u'http://www.redtube.com/628050', u'views': 19742, u'video_id': u'628050', u'publish_date': u'2014-03-04 03:26:01', u'stars': [{u'star_name': u'Amirah Adara'}], u'duration': u'9:00', u'title': u'Skinny Amirah Adara fingering pussy', u'tags': [{u'tag_name': u'Brunette'}, {u'tag_name': u'High Heels'}, {u'tag_name': u'Masturbation'}, {u'tag_name': u'Oriental'}, {u'tag_name': u'Outdoor'}, {u'tag_name': u'Solo Girl'}, {u'tag_name': u'Vaginal Masturbation'}], u'default_thumb': u'http://img04.redtubefiles.com/_thumbs/0000628/0628050/0628050_013m.jpg'}}\n",
        "{u'video': {u'rating': u'4.13', u'thumb': u'http://img04.redtubefiles.com/_thumbs/0000628/0628050/0628050_013m.jpg', u'ratings': u'39', u'url': u'http://www.redtube.com/628050', u'views': 19742, u'video_id': u'628050', u'publish_date': u'2014-03-04 03:26:01', u'stars': [{u'star_name': u'Amirah Adara'}], u'duration': u'9:00', u'title': u'Skinny Amirah Adara fingering pussy', u'tags': [{u'tag_name': u'Brunette'}, {u'tag_name': u'High Heels'}, {u'tag_name': u'Masturbation'}, {u'tag_name': u'Oriental'}, {u'tag_name': u'Outdoor'}, {u'tag_name': u'Solo Girl'}, {u'tag_name': u'Vaginal Masturbation'}], u'default_thumb': u'http://img04.redtubefiles.com/_thumbs/0000628/0628050/0628050_013m.jpg'}}\n",
        "{u'video': {u'rating': u'4.13', u'thumb': u'http://img04.redtubefiles.com/_thumbs/0000628/0628050/0628050_013m.jpg', u'ratings': u'39', u'url': u'http://www.redtube.com/628050', u'views': 19742, u'video_id': u'628050', u'publish_date': u'2014-03-04 03:26:01', u'stars': [{u'star_name': u'Amirah Adara'}], u'duration': u'9:00', u'title': u'Skinny Amirah Adara fingering pussy', u'tags': [{u'tag_name': u'Brunette'}, {u'tag_name': u'High Heels'}, {u'tag_name': u'Masturbation'}, {u'tag_name': u'Oriental'}, {u'tag_name': u'Outdoor'}, {u'tag_name': u'Solo Girl'}, {u'tag_name': u'Vaginal Masturbation'}], u'default_thumb': u'http://img04.redtubefiles.com/_thumbs/0000628/0628050/0628050_013m.jpg'}}\n",
        "{u'video': {u'rating': u'4.13', u'thumb': u'http://img04.redtubefiles.com/_thumbs/0000628/0628050/0628050_013m.jpg', u'ratings': u'39', u'url': u'http://www.redtube.com/628050', u'views': 19742, u'video_id': u'628050', u'publish_date': u'2014-03-04 03:26:01', u'stars': [{u'star_name': u'Amirah Adara'}], u'duration': u'9:00', u'title': u'Skinny Amirah Adara fingering pussy', u'tags': [{u'tag_name': u'Brunette'}, {u'tag_name': u'High Heels'}, {u'tag_name': u'Masturbation'}, {u'tag_name': u'Oriental'}, {u'tag_name': u'Outdoor'}, {u'tag_name': u'Solo Girl'}, {u'tag_name': u'Vaginal Masturbation'}], u'default_thumb': u'http://img04.redtubefiles.com/_thumbs/0000628/0628050/0628050_013m.jpg'}}\n",
        "{u'video': {u'rating': u'4.13', u'thumb': u'http://img04.redtubefiles.com/_thumbs/0000628/0628050/0628050_013m.jpg', u'ratings': u'39', u'url': u'http://www.redtube.com/628050', u'views': 19742, u'video_id': u'628050', u'publish_date': u'2014-03-04 03:26:01', u'stars': [{u'star_name': u'Amirah Adara'}], u'duration': u'9:00', u'title': u'Skinny Amirah Adara fingering pussy', u'tags': [{u'tag_name': u'Brunette'}, {u'tag_name': u'High Heels'}, {u'tag_name': u'Masturbation'}, {u'tag_name': u'Oriental'}, {u'tag_name': u'Outdoor'}, {u'tag_name': u'Solo Girl'}, {u'tag_name': u'Vaginal Masturbation'}], u'default_thumb': u'http://img04.redtubefiles.com/_thumbs/0000628/0628050/0628050_013m.jpg'}}\n",
        "{u'video': {u'rating': u'4.13', u'thumb': u'http://img04.redtubefiles.com/_thumbs/0000628/0628050/0628050_013m.jpg', u'ratings': u'39', u'url': u'http://www.redtube.com/628050', u'views': 19742, u'video_id': u'628050', u'publish_date': u'2014-03-04 03:26:01', u'stars': [{u'star_name': u'Amirah Adara'}], u'duration': u'9:00', u'title': u'Skinny Amirah Adara fingering pussy', u'tags': [{u'tag_name': u'Brunette'}, {u'tag_name': u'High Heels'}, {u'tag_name': u'Masturbation'}, {u'tag_name': u'Oriental'}, {u'tag_name': u'Outdoor'}, {u'tag_name': u'Solo Girl'}, {u'tag_name': u'Vaginal Masturbation'}], u'default_thumb': u'http://img04.redtubefiles.com/_thumbs/0000628/0628050/0628050_013m.jpg'}}\n",
        "{u'video': {u'rating': u'4.13', u'thumb': u'http://img04.redtubefiles.com/_thumbs/0000628/0628050/0628050_013m.jpg', u'ratings': u'39', u'url': u'http://www.redtube.com/628050', u'views': 19742, u'video_id': u'628050', u'publish_date': u'2014-03-04 03:26:01', u'stars': [{u'star_name': u'Amirah Adara'}], u'duration': u'9:00', u'title': u'Skinny Amirah Adara fingering pussy', u'tags': [{u'tag_name': u'Brunette'}, {u'tag_name': u'High Heels'}, {u'tag_name': u'Masturbation'}, {u'tag_name': u'Oriental'}, {u'tag_name': u'Outdoor'}, {u'tag_name': u'Solo Girl'}, {u'tag_name': u'Vaginal Masturbation'}], u'default_thumb': u'http://img04.redtubefiles.com/_thumbs/0000628/0628050/0628050_013m.jpg'}}\n",
        "{u'video': {u'rating': u'4.13', u'thumb': u'http://img04.redtubefiles.com/_thumbs/0000628/0628050/0628050_013m.jpg', u'ratings': u'39', u'url': u'http://www.redtube.com/628050', u'views': 19742, u'video_id': u'628050', u'publish_date': u'2014-03-04 03:26:01', u'stars': [{u'star_name': u'Amirah Adara'}], u'duration': u'9:00', u'title': u'Skinny Amirah Adara fingering pussy', u'tags': [{u'tag_name': u'Brunette'}, {u'tag_name': u'High Heels'}, {u'tag_name': u'Masturbation'}, {u'tag_name': u'Oriental'}, {u'tag_name': u'Outdoor'}, {u'tag_name': u'Solo Girl'}, {u'tag_name': u'Vaginal Masturbation'}], u'default_thumb': u'http://img04.redtubefiles.com/_thumbs/0000628/0628050/0628050_013m.jpg'}}\n",
        "{u'video': {u'rating': u'4.13', u'thumb': u'http://img04.redtubefiles.com/_thumbs/0000628/0628050/0628050_013m.jpg', u'ratings': u'39', u'url': u'http://www.redtube.com/628050', u'views': 19742, u'video_id': u'628050', u'publish_date': u'2014-03-04 03:26:01', u'stars': [{u'star_name': u'Amirah Adara'}], u'duration': u'9:00', u'title': u'Skinny Amirah Adara fingering pussy', u'tags': [{u'tag_name': u'Brunette'}, {u'tag_name': u'High Heels'}, {u'tag_name': u'Masturbation'}, {u'tag_name': u'Oriental'}, {u'tag_name': u'Outdoor'}, {u'tag_name': u'Solo Girl'}, {u'tag_name': u'Vaginal Masturbation'}], u'default_thumb': u'http://img04.redtubefiles.com/_thumbs/0000628/0628050/0628050_013m.jpg'}}\n",
        "{u'video': {u'rating': u'4.13', u'thumb': u'http://img04.redtubefiles.com/_thumbs/0000628/0628050/0628050_013m.jpg', u'ratings': u'39', u'url': u'http://www.redtube.com/628050', u'views': 19742, u'video_id': u'628050', u'publish_date': u'2014-03-04 03:26:01', u'stars': [{u'star_name': u'Amirah Adara'}], u'duration': u'9:00', u'title': u'Skinny Amirah Adara fingering pussy', u'tags': [{u'tag_name': u'Brunette'}, {u'tag_name': u'High Heels'}, {u'tag_name': u'Masturbation'}, {u'tag_name': u'Oriental'}, {u'tag_name': u'Outdoor'}, {u'tag_name': u'Solo Girl'}, {u'tag_name': u'Vaginal Masturbation'}], u'default_thumb': u'http://img04.redtubefiles.com/_thumbs/0000628/0628050/0628050_013m.jpg'}}\n",
        "{u'video': {u'rating': u'4.13', u'thumb': u'http://img04.redtubefiles.com/_thumbs/0000628/0628050/0628050_013m.jpg', u'ratings': u'39', u'url': u'http://www.redtube.com/628050', u'views': 19742, u'video_id': u'628050', u'publish_date': u'2014-03-04 03:26:01', u'stars': [{u'star_name': u'Amirah Adara'}], u'duration': u'9:00', u'title': u'Skinny Amirah Adara fingering pussy', u'tags': [{u'tag_name': u'Brunette'}, {u'tag_name': u'High Heels'}, {u'tag_name': u'Masturbation'}, {u'tag_name': u'Oriental'}, {u'tag_name': u'Outdoor'}, {u'tag_name': u'Solo Girl'}, {u'tag_name': u'Vaginal Masturbation'}], u'default_thumb': u'http://img04.redtubefiles.com/_thumbs/0000628/0628050/0628050_013m.jpg'}}\n",
        "{u'video': {u'rating': u'4.13', u'thumb': u'http://img04.redtubefiles.com/_thumbs/0000628/0628050/0628050_013m.jpg', u'ratings': u'39', u'url': u'http://www.redtube.com/628050', u'views': 19742, u'video_id': u'628050', u'publish_date': u'2014-03-04 03:26:01', u'stars': [{u'star_name': u'Amirah Adara'}], u'duration': u'9:00', u'title': u'Skinny Amirah Adara fingering pussy', u'tags': [{u'tag_name': u'Brunette'}, {u'tag_name': u'High Heels'}, {u'tag_name': u'Masturbation'}, {u'tag_name': u'Oriental'}, {u'tag_name': u'Outdoor'}, {u'tag_name': u'Solo Girl'}, {u'tag_name': u'Vaginal Masturbation'}], u'default_thumb': u'http://img04.redtubefiles.com/_thumbs/0000628/0628050/0628050_013m.jpg'}}\n",
        "{u'video': {u'rating': u'4.13', u'thumb': u'http://img04.redtubefiles.com/_thumbs/0000628/0628050/0628050_013m.jpg', u'ratings': u'39', u'url': u'http://www.redtube.com/628050', u'views': 19742, u'video_id': u'628050', u'publish_date': u'2014-03-04 03:26:01', u'stars': [{u'star_name': u'Amirah Adara'}], u'duration': u'9:00', u'title': u'Skinny Amirah Adara fingering pussy', u'tags': [{u'tag_name': u'Brunette'}, {u'tag_name': u'High Heels'}, {u'tag_name': u'Masturbation'}, {u'tag_name': u'Oriental'}, {u'tag_name': u'Outdoor'}, {u'tag_name': u'Solo Girl'}, {u'tag_name': u'Vaginal Masturbation'}], u'default_thumb': u'http://img04.redtubefiles.com/_thumbs/0000628/0628050/0628050_013m.jpg'}}\n",
        "{u'video': {u'rating': u'4.13', u'thumb': u'http://img04.redtubefiles.com/_thumbs/0000628/0628050/0628050_013m.jpg', u'ratings': u'39', u'url': u'http://www.redtube.com/628050', u'views': 19742, u'video_id': u'628050', u'publish_date': u'2014-03-04 03:26:01', u'stars': [{u'star_name': u'Amirah Adara'}], u'duration': u'9:00', u'title': u'Skinny Amirah Adara fingering pussy', u'tags': [{u'tag_name': u'Brunette'}, {u'tag_name': u'High Heels'}, {u'tag_name': u'Masturbation'}, {u'tag_name': u'Oriental'}, {u'tag_name': u'Outdoor'}, {u'tag_name': u'Solo Girl'}, {u'tag_name': u'Vaginal Masturbation'}], u'default_thumb': u'http://img04.redtubefiles.com/_thumbs/0000628/0628050/0628050_013m.jpg'}}\n",
        "{u'video': {u'rating': u'4.13', u'thumb': u'http://img04.redtubefiles.com/_thumbs/0000628/0628050/0628050_013m.jpg', u'ratings': u'39', u'url': u'http://www.redtube.com/628050', u'views': 19742, u'video_id': u'628050', u'publish_date': u'2014-03-04 03:26:01', u'stars': [{u'star_name': u'Amirah Adara'}], u'duration': u'9:00', u'title': u'Skinny Amirah Adara fingering pussy', u'tags': [{u'tag_name': u'Brunette'}, {u'tag_name': u'High Heels'}, {u'tag_name': u'Masturbation'}, {u'tag_name': u'Oriental'}, {u'tag_name': u'Outdoor'}, {u'tag_name': u'Solo Girl'}, {u'tag_name': u'Vaginal Masturbation'}], u'default_thumb': u'http://img04.redtubefiles.com/_thumbs/0000628/0628050/0628050_013m.jpg'}}\n",
        "{u'video': {u'rating': u'4.13', u'thumb': u'http://img04.redtubefiles.com/_thumbs/0000628/0628050/0628050_013m.jpg', u'ratings': u'39', u'url': u'http://www.redtube.com/628050', u'views': 19742, u'video_id': u'628050', u'publish_date': u'2014-03-04 03:26:01', u'stars': [{u'star_name': u'Amirah Adara'}], u'duration': u'9:00', u'title': u'Skinny Amirah Adara fingering pussy', u'tags': [{u'tag_name': u'Brunette'}, {u'tag_name': u'High Heels'}, {u'tag_name': u'Masturbation'}, {u'tag_name': u'Oriental'}, {u'tag_name': u'Outdoor'}, {u'tag_name': u'Solo Girl'}, {u'tag_name': u'Vaginal Masturbation'}], u'default_thumb': u'http://img04.redtubefiles.com/_thumbs/0000628/0628050/0628050_013m.jpg'}}\n",
        "{u'video': {u'rating': u'4.13', u'thumb': u'http://img04.redtubefiles.com/_thumbs/0000628/0628050/0628050_013m.jpg', u'ratings': u'39', u'url': u'http://www.redtube.com/628050', u'views': 19742, u'video_id': u'628050', u'publish_date': u'2014-03-04 03:26:01', u'stars': [{u'star_name': u'Amirah Adara'}], u'duration': u'9:00', u'title': u'Skinny Amirah Adara fingering pussy', u'tags': [{u'tag_name': u'Brunette'}, {u'tag_name': u'High Heels'}, {u'tag_name': u'Masturbation'}, {u'tag_name': u'Oriental'}, {u'tag_name': u'Outdoor'}, {u'tag_name': u'Solo Girl'}, {u'tag_name': u'Vaginal Masturbation'}], u'default_thumb': u'http://img04.redtubefiles.com/_thumbs/0000628/0628050/0628050_013m.jpg'}}\n",
        "{u'video': {u'rating': u'4.13', u'thumb': u'http://img04.redtubefiles.com/_thumbs/0000628/0628050/0628050_013m.jpg', u'ratings': u'39', u'url': u'http://www.redtube.com/628050', u'views': 19742, u'video_id': u'628050', u'publish_date': u'2014-03-04 03:26:01', u'stars': [{u'star_name': u'Amirah Adara'}], u'duration': u'9:00', u'title': u'Skinny Amirah Adara fingering pussy', u'tags': [{u'tag_name': u'Brunette'}, {u'tag_name': u'High Heels'}, {u'tag_name': u'Masturbation'}, {u'tag_name': u'Oriental'}, {u'tag_name': u'Outdoor'}, {u'tag_name': u'Solo Girl'}, {u'tag_name': u'Vaginal Masturbation'}], u'default_thumb': u'http://img04.redtubefiles.com/_thumbs/0000628/0628050/0628050_013m.jpg'}}\n",
        "{u'video': {u'rating': u'4.13', u'thumb': u'http://img04.redtubefiles.com/_thumbs/0000628/0628050/0628050_013m.jpg', u'ratings': u'39', u'url': u'http://www.redtube.com/628050', u'views': 19742, u'video_id': u'628050', u'publish_date': u'2014-03-04 03:26:01', u'stars': [{u'star_name': u'Amirah Adara'}], u'duration': u'9:00', u'title': u'Skinny Amirah Adara fingering pussy', u'tags': [{u'tag_name': u'Brunette'}, {u'tag_name': u'High Heels'}, {u'tag_name': u'Masturbation'}, {u'tag_name': u'Oriental'}, {u'tag_name': u'Outdoor'}, {u'tag_name': u'Solo Girl'}, {u'tag_name': u'Vaginal Masturbation'}], u'default_thumb': u'http://img04.redtubefiles.com/_thumbs/0000628/0628050/0628050_013m.jpg'}}\n",
        "{u'video': {u'rating': u'4.13', u'thumb': u'http://img04.redtubefiles.com/_thumbs/0000628/0628050/0628050_013m.jpg', u'ratings': u'39', u'url': u'http://www.redtube.com/628050', u'views': 19742, u'video_id': u'628050', u'publish_date': u'2014-03-04 03:26:01', u'stars': [{u'star_name': u'Amirah Adara'}], u'duration': u'9:00', u'title': u'Skinny Amirah Adara fingering pussy', u'tags': [{u'tag_name': u'Brunette'}, {u'tag_name': u'High Heels'}, {u'tag_name': u'Masturbation'}, {u'tag_name': u'Oriental'}, {u'tag_name': u'Outdoor'}, {u'tag_name': u'Solo Girl'}, {u'tag_name': u'Vaginal Masturbation'}], u'default_thumb': u'http://img04.redtubefiles.com/_thumbs/0000628/0628050/0628050_013m.jpg'}}\n",
        "{u'video': {u'rating': u'4.13', u'thumb': u'http://img04.redtubefiles.com/_thumbs/0000628/0628050/0628050_013m.jpg', u'ratings': u'39', u'url': u'http://www.redtube.com/628050', u'views': 19742, u'video_id': u'628050', u'publish_date': u'2014-03-04 03:26:01', u'stars': [{u'star_name': u'Amirah Adara'}], u'duration': u'9:00', u'title': u'Skinny Amirah Adara fingering pussy', u'tags': [{u'tag_name': u'Brunette'}, {u'tag_name': u'High Heels'}, {u'tag_name': u'Masturbation'}, {u'tag_name': u'Oriental'}, {u'tag_name': u'Outdoor'}, {u'tag_name': u'Solo Girl'}, {u'tag_name': u'Vaginal Masturbation'}], u'default_thumb': u'http://img04.redtubefiles.com/_thumbs/0000628/0628050/0628050_013m.jpg'}}\n",
        "{u'video': {u'rating': u'4.13', u'thumb': u'http://img04.redtubefiles.com/_thumbs/0000628/0628050/0628050_013m.jpg', u'ratings': u'39', u'url': u'http://www.redtube.com/628050', u'views': 19742, u'video_id': u'628050', u'publish_date': u'2014-03-04 03:26:01', u'stars': [{u'star_name': u'Amirah Adara'}], u'duration': u'9:00', u'title': u'Skinny Amirah Adara fingering pussy', u'tags': [{u'tag_name': u'Brunette'}, {u'tag_name': u'High Heels'}, {u'tag_name': u'Masturbation'}, {u'tag_name': u'Oriental'}, {u'tag_name': u'Outdoor'}, {u'tag_name': u'Solo Girl'}, {u'tag_name': u'Vaginal Masturbation'}], u'default_thumb': u'http://img04.redtubefiles.com/_thumbs/0000628/0628050/0628050_013m.jpg'}}\n",
        "{u'video': {u'rating': u'4.13', u'thumb': u'http://img04.redtubefiles.com/_thumbs/0000628/0628050/0628050_013m.jpg', u'ratings': u'39', u'url': u'http://www.redtube.com/628050', u'views': 19742, u'video_id': u'628050', u'publish_date': u'2014-03-04 03:26:01', u'stars': [{u'star_name': u'Amirah Adara'}], u'duration': u'9:00', u'title': u'Skinny Amirah Adara fingering pussy', u'tags': [{u'tag_name': u'Brunette'}, {u'tag_name': u'High Heels'}, {u'tag_name': u'Masturbation'}, {u'tag_name': u'Oriental'}, {u'tag_name': u'Outdoor'}, {u'tag_name': u'Solo Girl'}, {u'tag_name': u'Vaginal Masturbation'}], u'default_thumb': u'http://img04.redtubefiles.com/_thumbs/0000628/0628050/0628050_013m.jpg'}}\n",
        "{u'video': {u'rating': u'4.13', u'thumb': u'http://img04.redtubefiles.com/_thumbs/0000628/0628050/0628050_013m.jpg', u'ratings': u'39', u'url': u'http://www.redtube.com/628050', u'views': 19742, u'video_id': u'628050', u'publish_date': u'2014-03-04 03:26:01', u'stars': [{u'star_name': u'Amirah Adara'}], u'duration': u'9:00', u'title': u'Skinny Amirah Adara fingering pussy', u'tags': [{u'tag_name': u'Brunette'}, {u'tag_name': u'High Heels'}, {u'tag_name': u'Masturbation'}, {u'tag_name': u'Oriental'}, {u'tag_name': u'Outdoor'}, {u'tag_name': u'Solo Girl'}, {u'tag_name': u'Vaginal Masturbation'}], u'default_thumb': u'http://img04.redtubefiles.com/_thumbs/0000628/0628050/0628050_013m.jpg'}}\n",
        "{u'video': {u'rating': u'4.13', u'thumb': u'http://img04.redtubefiles.com/_thumbs/0000628/0628050/0628050_013m.jpg', u'ratings': u'39', u'url': u'http://www.redtube.com/628050', u'views': 19742, u'video_id': u'628050', u'publish_date': u'2014-03-04 03:26:01', u'stars': [{u'star_name': u'Amirah Adara'}], u'duration': u'9:00', u'title': u'Skinny Amirah Adara fingering pussy', u'tags': [{u'tag_name': u'Brunette'}, {u'tag_name': u'High Heels'}, {u'tag_name': u'Masturbation'}, {u'tag_name': u'Oriental'}, {u'tag_name': u'Outdoor'}, {u'tag_name': u'Solo Girl'}, {u'tag_name': u'Vaginal Masturbation'}], u'default_thumb': u'http://img04.redtubefiles.com/_thumbs/0000628/0628050/0628050_013m.jpg'}}\n",
        "{u'video': {u'rating': u'4.13', u'thumb': u'http://img04.redtubefiles.com/_thumbs/0000628/0628050/0628050_013m.jpg', u'ratings': u'39', u'url': u'http://www.redtube.com/628050', u'views': 19742, u'video_id': u'628050', u'publish_date': u'2014-03-04 03:26:01', u'stars': [{u'star_name': u'Amirah Adara'}], u'duration': u'9:00', u'title': u'Skinny Amirah Adara fingering pussy', u'tags': [{u'tag_name': u'Brunette'}, {u'tag_name': u'High Heels'}, {u'tag_name': u'Masturbation'}, {u'tag_name': u'Oriental'}, {u'tag_name': u'Outdoor'}, {u'tag_name': u'Solo Girl'}, {u'tag_name': u'Vaginal Masturbation'}], u'default_thumb': u'http://img04.redtubefiles.com/_thumbs/0000628/0628050/0628050_013m.jpg'}}\n",
        "{u'video': {u'rating': u'4.13', u'thumb': u'http://img04.redtubefiles.com/_thumbs/0000628/0628050/0628050_013m.jpg', u'ratings': u'39', u'url': u'http://www.redtube.com/628050', u'views': 19742, u'video_id': u'628050', u'publish_date': u'2014-03-04 03:26:01', u'stars': [{u'star_name': u'Amirah Adara'}], u'duration': u'9:00', u'title': u'Skinny Amirah Adara fingering pussy', u'tags': [{u'tag_name': u'Brunette'}, {u'tag_name': u'High Heels'}, {u'tag_name': u'Masturbation'}, {u'tag_name': u'Oriental'}, {u'tag_name': u'Outdoor'}, {u'tag_name': u'Solo Girl'}, {u'tag_name': u'Vaginal Masturbation'}], u'default_thumb': u'http://img04.redtubefiles.com/_thumbs/0000628/0628050/0628050_013m.jpg'}}\n",
        "{u'video': {u'rating': u'4.13', u'thumb': u'http://img04.redtubefiles.com/_thumbs/0000628/0628050/0628050_013m.jpg', u'ratings': u'39', u'url': u'http://www.redtube.com/628050', u'views': 19742, u'video_id': u'628050', u'publish_date': u'2014-03-04 03:26:01', u'stars': [{u'star_name': u'Amirah Adara'}], u'duration': u'9:00', u'title': u'Skinny Amirah Adara fingering pussy', u'tags': [{u'tag_name': u'Brunette'}, {u'tag_name': u'High Heels'}, {u'tag_name': u'Masturbation'}, {u'tag_name': u'Oriental'}, {u'tag_name': u'Outdoor'}, {u'tag_name': u'Solo Girl'}, {u'tag_name': u'Vaginal Masturbation'}], u'default_thumb': u'http://img04.redtubefiles.com/_thumbs/0000628/0628050/0628050_013m.jpg'}}\n",
        "{u'video': {u'rating': u'4.13', u'thumb': u'http://img04.redtubefiles.com/_thumbs/0000628/0628050/0628050_013m.jpg', u'ratings': u'39', u'url': u'http://www.redtube.com/628050', u'views': 19742, u'video_id': u'628050', u'publish_date': u'2014-03-04 03:26:01', u'stars': [{u'star_name': u'Amirah Adara'}], u'duration': u'9:00', u'title': u'Skinny Amirah Adara fingering pussy', u'tags': [{u'tag_name': u'Brunette'}, {u'tag_name': u'High Heels'}, {u'tag_name': u'Masturbation'}, {u'tag_name': u'Oriental'}, {u'tag_name': u'Outdoor'}, {u'tag_name': u'Solo Girl'}, {u'tag_name': u'Vaginal Masturbation'}], u'default_thumb': u'http://img04.redtubefiles.com/_thumbs/0000628/0628050/0628050_013m.jpg'}}\n",
        "{u'video': {u'rating': u'4.13', u'thumb': u'http://img04.redtubefiles.com/_thumbs/0000628/0628050/0628050_013m.jpg', u'ratings': u'39', u'url': u'http://www.redtube.com/628050', u'views': 19742, u'video_id': u'628050', u'publish_date': u'2014-03-04 03:26:01', u'stars': [{u'star_name': u'Amirah Adara'}], u'duration': u'9:00', u'title': u'Skinny Amirah Adara fingering pussy', u'tags': [{u'tag_name': u'Brunette'}, {u'tag_name': u'High Heels'}, {u'tag_name': u'Masturbation'}, {u'tag_name': u'Oriental'}, {u'tag_name': u'Outdoor'}, {u'tag_name': u'Solo Girl'}, {u'tag_name': u'Vaginal Masturbation'}], u'default_thumb': u'http://img04.redtubefiles.com/_thumbs/0000628/0628050/0628050_013m.jpg'}}\n",
        "{u'video': {u'rating': u'4.13', u'thumb': u'http://img04.redtubefiles.com/_thumbs/0000628/0628050/0628050_013m.jpg', u'ratings': u'39', u'url': u'http://www.redtube.com/628050', u'views': 19742, u'video_id': u'628050', u'publish_date': u'2014-03-04 03:26:01', u'stars': [{u'star_name': u'Amirah Adara'}], u'duration': u'9:00', u'title': u'Skinny Amirah Adara fingering pussy', u'tags': [{u'tag_name': u'Brunette'}, {u'tag_name': u'High Heels'}, {u'tag_name': u'Masturbation'}, {u'tag_name': u'Oriental'}, {u'tag_name': u'Outdoor'}, {u'tag_name': u'Solo Girl'}, {u'tag_name': u'Vaginal Masturbation'}], u'default_thumb': u'http://img04.redtubefiles.com/_thumbs/0000628/0628050/0628050_013m.jpg'}}\n",
        "{u'video': {u'rating': u'4.13', u'thumb': u'http://img04.redtubefiles.com/_thumbs/0000628/0628050/0628050_013m.jpg', u'ratings': u'39', u'url': u'http://www.redtube.com/628050', u'views': 19742, u'video_id': u'628050', u'publish_date': u'2014-03-04 03:26:01', u'stars': [{u'star_name': u'Amirah Adara'}], u'duration': u'9:00', u'title': u'Skinny Amirah Adara fingering pussy', u'tags': [{u'tag_name': u'Brunette'}, {u'tag_name': u'High Heels'}, {u'tag_name': u'Masturbation'}, {u'tag_name': u'Oriental'}, {u'tag_name': u'Outdoor'}, {u'tag_name': u'Solo Girl'}, {u'tag_name': u'Vaginal Masturbation'}], u'default_thumb': u'http://img04.redtubefiles.com/_thumbs/0000628/0628050/0628050_013m.jpg'}}\n",
        "{u'video': {u'rating': u'4.13', u'thumb': u'http://img04.redtubefiles.com/_thumbs/0000628/0628050/0628050_013m.jpg', u'ratings': u'39', u'url': u'http://www.redtube.com/628050', u'views': 19742, u'video_id': u'628050', u'publish_date': u'2014-03-04 03:26:01', u'stars': [{u'star_name': u'Amirah Adara'}], u'duration': u'9:00', u'title': u'Skinny Amirah Adara fingering pussy', u'tags': [{u'tag_name': u'Brunette'}, {u'tag_name': u'High Heels'}, {u'tag_name': u'Masturbation'}, {u'tag_name': u'Oriental'}, {u'tag_name': u'Outdoor'}, {u'tag_name': u'Solo Girl'}, {u'tag_name': u'Vaginal Masturbation'}], u'default_thumb': u'http://img04.redtubefiles.com/_thumbs/0000628/0628050/0628050_013m.jpg'}}\n",
        "{u'video': {u'rating': u'4.13', u'thumb': u'http://img04.redtubefiles.com/_thumbs/0000628/0628050/0628050_013m.jpg', u'ratings': u'39', u'url': u'http://www.redtube.com/628050', u'views': 19742, u'video_id': u'628050', u'publish_date': u'2014-03-04 03:26:01', u'stars': [{u'star_name': u'Amirah Adara'}], u'duration': u'9:00', u'title': u'Skinny Amirah Adara fingering pussy', u'tags': [{u'tag_name': u'Brunette'}, {u'tag_name': u'High Heels'}, {u'tag_name': u'Masturbation'}, {u'tag_name': u'Oriental'}, {u'tag_name': u'Outdoor'}, {u'tag_name': u'Solo Girl'}, {u'tag_name': u'Vaginal Masturbation'}], u'default_thumb': u'http://img04.redtubefiles.com/_thumbs/0000628/0628050/0628050_013m.jpg'}}\n",
        "{u'video': {u'rating': u'4.13', u'thumb': u'http://img04.redtubefiles.com/_thumbs/0000628/0628050/0628050_013m.jpg', u'ratings': u'39', u'url': u'http://www.redtube.com/628050', u'views': 19742, u'video_id': u'628050', u'publish_date': u'2014-03-04 03:26:01', u'stars': [{u'star_name': u'Amirah Adara'}], u'duration': u'9:00', u'title': u'Skinny Amirah Adara fingering pussy', u'tags': [{u'tag_name': u'Brunette'}, {u'tag_name': u'High Heels'}, {u'tag_name': u'Masturbation'}, {u'tag_name': u'Oriental'}, {u'tag_name': u'Outdoor'}, {u'tag_name': u'Solo Girl'}, {u'tag_name': u'Vaginal Masturbation'}], u'default_thumb': u'http://img04.redtubefiles.com/_thumbs/0000628/0628050/0628050_013m.jpg'}}\n",
        "{u'video': {u'rating': u'4.13', u'thumb': u'http://img04.redtubefiles.com/_thumbs/0000628/0628050/0628050_013m.jpg', u'ratings': u'39', u'url': u'http://www.redtube.com/628050', u'views': 19742, u'video_id': u'628050', u'publish_date': u'2014-03-04 03:26:01', u'stars': [{u'star_name': u'Amirah Adara'}], u'duration': u'9:00', u'title': u'Skinny Amirah Adara fingering pussy', u'tags': [{u'tag_name': u'Brunette'}, {u'tag_name': u'High Heels'}, {u'tag_name': u'Masturbation'}, {u'tag_name': u'Oriental'}, {u'tag_name': u'Outdoor'}, {u'tag_name': u'Solo Girl'}, {u'tag_name': u'Vaginal Masturbation'}], u'default_thumb': u'http://img04.redtubefiles.com/_thumbs/0000628/0628050/0628050_013m.jpg'}}\n",
        "{u'video': {u'rating': u'4.13', u'thumb': u'http://img04.redtubefiles.com/_thumbs/0000628/0628050/0628050_013m.jpg', u'ratings': u'39', u'url': u'http://www.redtube.com/628050', u'views': 19742, u'video_id': u'628050', u'publish_date': u'2014-03-04 03:26:01', u'stars': [{u'star_name': u'Amirah Adara'}], u'duration': u'9:00', u'title': u'Skinny Amirah Adara fingering pussy', u'tags': [{u'tag_name': u'Brunette'}, {u'tag_name': u'High Heels'}, {u'tag_name': u'Masturbation'}, {u'tag_name': u'Oriental'}, {u'tag_name': u'Outdoor'}, {u'tag_name': u'Solo Girl'}, {u'tag_name': u'Vaginal Masturbation'}], u'default_thumb': u'http://img04.redtubefiles.com/_thumbs/0000628/0628050/0628050_013m.jpg'}}\n",
        "{u'video': {u'rating': u'4.13', u'thumb': u'http://img04.redtubefiles.com/_thumbs/0000628/0628050/0628050_013m.jpg', u'ratings': u'39', u'url': u'http://www.redtube.com/628050', u'views': 19742, u'video_id': u'628050', u'publish_date': u'2014-03-04 03:26:01', u'stars': [{u'star_name': u'Amirah Adara'}], u'duration': u'9:00', u'title': u'Skinny Amirah Adara fingering pussy', u'tags': [{u'tag_name': u'Brunette'}, {u'tag_name': u'High Heels'}, {u'tag_name': u'Masturbation'}, {u'tag_name': u'Oriental'}, {u'tag_name': u'Outdoor'}, {u'tag_name': u'Solo Girl'}, {u'tag_name': u'Vaginal Masturbation'}], u'default_thumb': u'http://img04.redtubefiles.com/_thumbs/0000628/0628050/0628050_013m.jpg'}}\n",
        "{u'video': {u'rating': u'4.13', u'thumb': u'http://img04.redtubefiles.com/_thumbs/0000628/0628050/0628050_013m.jpg', u'ratings': u'39', u'url': u'http://www.redtube.com/628050', u'views': 19742, u'video_id': u'628050', u'publish_date': u'2014-03-04 03:26:01', u'stars': [{u'star_name': u'Amirah Adara'}], u'duration': u'9:00', u'title': u'Skinny Amirah Adara fingering pussy', u'tags': [{u'tag_name': u'Brunette'}, {u'tag_name': u'High Heels'}, {u'tag_name': u'Masturbation'}, {u'tag_name': u'Oriental'}, {u'tag_name': u'Outdoor'}, {u'tag_name': u'Solo Girl'}, {u'tag_name': u'Vaginal Masturbation'}], u'default_thumb': u'http://img04.redtubefiles.com/_thumbs/0000628/0628050/0628050_013m.jpg'}}\n",
        "{u'video': {u'rating': u'4.13', u'thumb': u'http://img04.redtubefiles.com/_thumbs/0000628/0628050/0628050_013m.jpg', u'ratings': u'39', u'url': u'http://www.redtube.com/628050', u'views': 19742, u'video_id': u'628050', u'publish_date': u'2014-03-04 03:26:01', u'stars': [{u'star_name': u'Amirah Adara'}], u'duration': u'9:00', u'title': u'Skinny Amirah Adara fingering pussy', u'tags': [{u'tag_name': u'Brunette'}, {u'tag_name': u'High Heels'}, {u'tag_name': u'Masturbation'}, {u'tag_name': u'Oriental'}, {u'tag_name': u'Outdoor'}, {u'tag_name': u'Solo Girl'}, {u'tag_name': u'Vaginal Masturbation'}], u'default_thumb': u'http://img04.redtubefiles.com/_thumbs/0000628/0628050/0628050_013m.jpg'}}\n",
        "{u'video': {u'rating': u'4.13', u'thumb': u'http://img04.redtubefiles.com/_thumbs/0000628/0628050/0628050_013m.jpg', u'ratings': u'39', u'url': u'http://www.redtube.com/628050', u'views': 19742, u'video_id': u'628050', u'publish_date': u'2014-03-04 03:26:01', u'stars': [{u'star_name': u'Amirah Adara'}], u'duration': u'9:00', u'title': u'Skinny Amirah Adara fingering pussy', u'tags': [{u'tag_name': u'Brunette'}, {u'tag_name': u'High Heels'}, {u'tag_name': u'Masturbation'}, {u'tag_name': u'Oriental'}, {u'tag_name': u'Outdoor'}, {u'tag_name': u'Solo Girl'}, {u'tag_name': u'Vaginal Masturbation'}], u'default_thumb': u'http://img04.redtubefiles.com/_thumbs/0000628/0628050/0628050_013m.jpg'}}\n",
        "{u'video': {u'rating': u'4.13', u'thumb': u'http://img04.redtubefiles.com/_thumbs/0000628/0628050/0628050_013m.jpg', u'ratings': u'39', u'url': u'http://www.redtube.com/628050', u'views': 19742, u'video_id': u'628050', u'publish_date': u'2014-03-04 03:26:01', u'stars': [{u'star_name': u'Amirah Adara'}], u'duration': u'9:00', u'title': u'Skinny Amirah Adara fingering pussy', u'tags': [{u'tag_name': u'Brunette'}, {u'tag_name': u'High Heels'}, {u'tag_name': u'Masturbation'}, {u'tag_name': u'Oriental'}, {u'tag_name': u'Outdoor'}, {u'tag_name': u'Solo Girl'}, {u'tag_name': u'Vaginal Masturbation'}], u'default_thumb': u'http://img04.redtubefiles.com/_thumbs/0000628/0628050/0628050_013m.jpg'}}\n",
        "{u'video': {u'rating': u'4.13', u'thumb': u'http://img04.redtubefiles.com/_thumbs/0000628/0628050/0628050_013m.jpg', u'ratings': u'39', u'url': u'http://www.redtube.com/628050', u'views': 19742, u'video_id': u'628050', u'publish_date': u'2014-03-04 03:26:01', u'stars': [{u'star_name': u'Amirah Adara'}], u'duration': u'9:00', u'title': u'Skinny Amirah Adara fingering pussy', u'tags': [{u'tag_name': u'Brunette'}, {u'tag_name': u'High Heels'}, {u'tag_name': u'Masturbation'}, {u'tag_name': u'Oriental'}, {u'tag_name': u'Outdoor'}, {u'tag_name': u'Solo Girl'}, {u'tag_name': u'Vaginal Masturbation'}], u'default_thumb': u'http://img04.redtubefiles.com/_thumbs/0000628/0628050/0628050_013m.jpg'}}\n",
        "{u'video': {u'rating': u'4.13', u'thumb': u'http://img04.redtubefiles.com/_thumbs/0000628/0628050/0628050_013m.jpg', u'ratings': u'39', u'url': u'http://www.redtube.com/628050', u'views': 19742, u'video_id': u'628050', u'publish_date': u'2014-03-04 03:26:01', u'stars': [{u'star_name': u'Amirah Adara'}], u'duration': u'9:00', u'title': u'Skinny Amirah Adara fingering pussy', u'tags': [{u'tag_name': u'Brunette'}, {u'tag_name': u'High Heels'}, {u'tag_name': u'Masturbation'}, {u'tag_name': u'Oriental'}, {u'tag_name': u'Outdoor'}, {u'tag_name': u'Solo Girl'}, {u'tag_name': u'Vaginal Masturbation'}], u'default_thumb': u'http://img04.redtubefiles.com/_thumbs/0000628/0628050/0628050_013m.jpg'}}\n",
        "{u'video': {u'rating': u'4.13', u'thumb': u'http://img04.redtubefiles.com/_thumbs/0000628/0628050/0628050_013m.jpg', u'ratings': u'39', u'url': u'http://www.redtube.com/628050', u'views': 19742, u'video_id': u'628050', u'publish_date': u'2014-03-04 03:26:01', u'stars': [{u'star_name': u'Amirah Adara'}], u'duration': u'9:00', u'title': u'Skinny Amirah Adara fingering pussy', u'tags': [{u'tag_name': u'Brunette'}, {u'tag_name': u'High Heels'}, {u'tag_name': u'Masturbation'}, {u'tag_name': u'Oriental'}, {u'tag_name': u'Outdoor'}, {u'tag_name': u'Solo Girl'}, {u'tag_name': u'Vaginal Masturbation'}], u'default_thumb': u'http://img04.redtubefiles.com/_thumbs/0000628/0628050/0628050_013m.jpg'}}\n",
        "{u'video': {u'rating': u'4.13', u'thumb': u'http://img04.redtubefiles.com/_thumbs/0000628/0628050/0628050_013m.jpg', u'ratings': u'39', u'url': u'http://www.redtube.com/628050', u'views': 19742, u'video_id': u'628050', u'publish_date': u'2014-03-04 03:26:01', u'stars': [{u'star_name': u'Amirah Adara'}], u'duration': u'9:00', u'title': u'Skinny Amirah Adara fingering pussy', u'tags': [{u'tag_name': u'Brunette'}, {u'tag_name': u'High Heels'}, {u'tag_name': u'Masturbation'}, {u'tag_name': u'Oriental'}, {u'tag_name': u'Outdoor'}, {u'tag_name': u'Solo Girl'}, {u'tag_name': u'Vaginal Masturbation'}], u'default_thumb': u'http://img04.redtubefiles.com/_thumbs/0000628/0628050/0628050_013m.jpg'}}\n",
        "{u'video': {u'rating': u'4.13', u'thumb': u'http://img04.redtubefiles.com/_thumbs/0000628/0628050/0628050_013m.jpg', u'ratings': u'39', u'url': u'http://www.redtube.com/628050', u'views': 19742, u'video_id': u'628050', u'publish_date': u'2014-03-04 03:26:01', u'stars': [{u'star_name': u'Amirah Adara'}], u'duration': u'9:00', u'title': u'Skinny Amirah Adara fingering pussy', u'tags': [{u'tag_name': u'Brunette'}, {u'tag_name': u'High Heels'}, {u'tag_name': u'Masturbation'}, {u'tag_name': u'Oriental'}, {u'tag_name': u'Outdoor'}, {u'tag_name': u'Solo Girl'}, {u'tag_name': u'Vaginal Masturbation'}], u'default_thumb': u'http://img04.redtubefiles.com/_thumbs/0000628/0628050/0628050_013m.jpg'}}\n",
        "{u'video': {u'rating': u'4.13', u'thumb': u'http://img04.redtubefiles.com/_thumbs/0000628/0628050/0628050_013m.jpg', u'ratings': u'39', u'url': u'http://www.redtube.com/628050', u'views': 19742, u'video_id': u'628050', u'publish_date': u'2014-03-04 03:26:01', u'stars': [{u'star_name': u'Amirah Adara'}], u'duration': u'9:00', u'title': u'Skinny Amirah Adara fingering pussy', u'tags': [{u'tag_name': u'Brunette'}, {u'tag_name': u'High Heels'}, {u'tag_name': u'Masturbation'}, {u'tag_name': u'Oriental'}, {u'tag_name': u'Outdoor'}, {u'tag_name': u'Solo Girl'}, {u'tag_name': u'Vaginal Masturbation'}], u'default_thumb': u'http://img04.redtubefiles.com/_thumbs/0000628/0628050/0628050_013m.jpg'}}\n",
        "{u'video': {u'rating': u'4.13', u'thumb': u'http://img04.redtubefiles.com/_thumbs/0000628/0628050/0628050_013m.jpg', u'ratings': u'39', u'url': u'http://www.redtube.com/628050', u'views': 19742, u'video_id': u'628050', u'publish_date': u'2014-03-04 03:26:01', u'stars': [{u'star_name': u'Amirah Adara'}], u'duration': u'9:00', u'title': u'Skinny Amirah Adara fingering pussy', u'tags': [{u'tag_name': u'Brunette'}, {u'tag_name': u'High Heels'}, {u'tag_name': u'Masturbation'}, {u'tag_name': u'Oriental'}, {u'tag_name': u'Outdoor'}, {u'tag_name': u'Solo Girl'}, {u'tag_name': u'Vaginal Masturbation'}], u'default_thumb': u'http://img04.redtubefiles.com/_thumbs/0000628/0628050/0628050_013m.jpg'}}\n",
        "{u'video': {u'rating': u'4.13', u'thumb': u'http://img04.redtubefiles.com/_thumbs/0000628/0628050/0628050_013m.jpg', u'ratings': u'39', u'url': u'http://www.redtube.com/628050', u'views': 19742, u'video_id': u'628050', u'publish_date': u'2014-03-04 03:26:01', u'stars': [{u'star_name': u'Amirah Adara'}], u'duration': u'9:00', u'title': u'Skinny Amirah Adara fingering pussy', u'tags': [{u'tag_name': u'Brunette'}, {u'tag_name': u'High Heels'}, {u'tag_name': u'Masturbation'}, {u'tag_name': u'Oriental'}, {u'tag_name': u'Outdoor'}, {u'tag_name': u'Solo Girl'}, {u'tag_name': u'Vaginal Masturbation'}], u'default_thumb': u'http://img04.redtubefiles.com/_thumbs/0000628/0628050/0628050_013m.jpg'}}\n",
        "{u'video': {u'rating': u'4.13', u'thumb': u'http://img04.redtubefiles.com/_thumbs/0000628/0628050/0628050_013m.jpg', u'ratings': u'39', u'url': u'http://www.redtube.com/628050', u'views': 19742, u'video_id': u'628050', u'publish_date': u'2014-03-04 03:26:01', u'stars': [{u'star_name': u'Amirah Adara'}], u'duration': u'9:00', u'title': u'Skinny Amirah Adara fingering pussy', u'tags': [{u'tag_name': u'Brunette'}, {u'tag_name': u'High Heels'}, {u'tag_name': u'Masturbation'}, {u'tag_name': u'Oriental'}, {u'tag_name': u'Outdoor'}, {u'tag_name': u'Solo Girl'}, {u'tag_name': u'Vaginal Masturbation'}], u'default_thumb': u'http://img04.redtubefiles.com/_thumbs/0000628/0628050/0628050_013m.jpg'}}\n",
        "{u'video': {u'rating': u'4.13', u'thumb': u'http://img04.redtubefiles.com/_thumbs/0000628/0628050/0628050_013m.jpg', u'ratings': u'39', u'url': u'http://www.redtube.com/628050', u'views': 19742, u'video_id': u'628050', u'publish_date': u'2014-03-04 03:26:01', u'stars': [{u'star_name': u'Amirah Adara'}], u'duration': u'9:00', u'title': u'Skinny Amirah Adara fingering pussy', u'tags': [{u'tag_name': u'Brunette'}, {u'tag_name': u'High Heels'}, {u'tag_name': u'Masturbation'}, {u'tag_name': u'Oriental'}, {u'tag_name': u'Outdoor'}, {u'tag_name': u'Solo Girl'}, {u'tag_name': u'Vaginal Masturbation'}], u'default_thumb': u'http://img04.redtubefiles.com/_thumbs/0000628/0628050/0628050_013m.jpg'}}\n",
        "{u'video': {u'rating': u'4.13', u'thumb': u'http://img04.redtubefiles.com/_thumbs/0000628/0628050/0628050_013m.jpg', u'ratings': u'39', u'url': u'http://www.redtube.com/628050', u'views': 19742, u'video_id': u'628050', u'publish_date': u'2014-03-04 03:26:01', u'stars': [{u'star_name': u'Amirah Adara'}], u'duration': u'9:00', u'title': u'Skinny Amirah Adara fingering pussy', u'tags': [{u'tag_name': u'Brunette'}, {u'tag_name': u'High Heels'}, {u'tag_name': u'Masturbation'}, {u'tag_name': u'Oriental'}, {u'tag_name': u'Outdoor'}, {u'tag_name': u'Solo Girl'}, {u'tag_name': u'Vaginal Masturbation'}], u'default_thumb': u'http://img04.redtubefiles.com/_thumbs/0000628/0628050/0628050_013m.jpg'}}\n",
        "{u'video': {u'rating': u'4.13', u'thumb': u'http://img04.redtubefiles.com/_thumbs/0000628/0628050/0628050_013m.jpg', u'ratings': u'39', u'url': u'http://www.redtube.com/628050', u'views': 19742, u'video_id': u'628050', u'publish_date': u'2014-03-04 03:26:01', u'stars': [{u'star_name': u'Amirah Adara'}], u'duration': u'9:00', u'title': u'Skinny Amirah Adara fingering pussy', u'tags': [{u'tag_name': u'Brunette'}, {u'tag_name': u'High Heels'}, {u'tag_name': u'Masturbation'}, {u'tag_name': u'Oriental'}, {u'tag_name': u'Outdoor'}, {u'tag_name': u'Solo Girl'}, {u'tag_name': u'Vaginal Masturbation'}], u'default_thumb': u'http://img04.redtubefiles.com/_thumbs/0000628/0628050/0628050_013m.jpg'}}\n",
        "{u'video': {u'rating': u'4.13', u'thumb': u'http://img04.redtubefiles.com/_thumbs/0000628/0628050/0628050_013m.jpg', u'ratings': u'39', u'url': u'http://www.redtube.com/628050', u'views': 19742, u'video_id': u'628050', u'publish_date': u'2014-03-04 03:26:01', u'stars': [{u'star_name': u'Amirah Adara'}], u'duration': u'9:00', u'title': u'Skinny Amirah Adara fingering pussy', u'tags': [{u'tag_name': u'Brunette'}, {u'tag_name': u'High Heels'}, {u'tag_name': u'Masturbation'}, {u'tag_name': u'Oriental'}, {u'tag_name': u'Outdoor'}, {u'tag_name': u'Solo Girl'}, {u'tag_name': u'Vaginal Masturbation'}], u'default_thumb': u'http://img04.redtubefiles.com/_thumbs/0000628/0628050/0628050_013m.jpg'}}\n",
        "{u'video': {u'rating': u'4.13', u'thumb': u'http://img04.redtubefiles.com/_thumbs/0000628/0628050/0628050_013m.jpg', u'ratings': u'39', u'url': u'http://www.redtube.com/628050', u'views': 19742, u'video_id': u'628050', u'publish_date': u'2014-03-04 03:26:01', u'stars': [{u'star_name': u'Amirah Adara'}], u'duration': u'9:00', u'title': u'Skinny Amirah Adara fingering pussy', u'tags': [{u'tag_name': u'Brunette'}, {u'tag_name': u'High Heels'}, {u'tag_name': u'Masturbation'}, {u'tag_name': u'Oriental'}, {u'tag_name': u'Outdoor'}, {u'tag_name': u'Solo Girl'}, {u'tag_name': u'Vaginal Masturbation'}], u'default_thumb': u'http://img04.redtubefiles.com/_thumbs/0000628/0628050/0628050_013m.jpg'}}\n",
        "{u'video': {u'rating': u'4.13', u'thumb': u'http://img04.redtubefiles.com/_thumbs/0000628/0628050/0628050_013m.jpg', u'ratings': u'39', u'url': u'http://www.redtube.com/628050', u'views': 19742, u'video_id': u'628050', u'publish_date': u'2014-03-04 03:26:01', u'stars': [{u'star_name': u'Amirah Adara'}], u'duration': u'9:00', u'title': u'Skinny Amirah Adara fingering pussy', u'tags': [{u'tag_name': u'Brunette'}, {u'tag_name': u'High Heels'}, {u'tag_name': u'Masturbation'}, {u'tag_name': u'Oriental'}, {u'tag_name': u'Outdoor'}, {u'tag_name': u'Solo Girl'}, {u'tag_name': u'Vaginal Masturbation'}], u'default_thumb': u'http://img04.redtubefiles.com/_thumbs/0000628/0628050/0628050_013m.jpg'}}\n",
        "{u'video': {u'rating': u'4.13', u'thumb': u'http://img04.redtubefiles.com/_thumbs/0000628/0628050/0628050_013m.jpg', u'ratings': u'39', u'url': u'http://www.redtube.com/628050', u'views': 19742, u'video_id': u'628050', u'publish_date': u'2014-03-04 03:26:01', u'stars': [{u'star_name': u'Amirah Adara'}], u'duration': u'9:00', u'title': u'Skinny Amirah Adara fingering pussy', u'tags': [{u'tag_name': u'Brunette'}, {u'tag_name': u'High Heels'}, {u'tag_name': u'Masturbation'}, {u'tag_name': u'Oriental'}, {u'tag_name': u'Outdoor'}, {u'tag_name': u'Solo Girl'}, {u'tag_name': u'Vaginal Masturbation'}], u'default_thumb': u'http://img04.redtubefiles.com/_thumbs/0000628/0628050/0628050_013m.jpg'}}\n",
        "{u'video': {u'rating': u'4.13', u'thumb': u'http://img04.redtubefiles.com/_thumbs/0000628/0628050/0628050_013m.jpg', u'ratings': u'39', u'url': u'http://www.redtube.com/628050', u'views': 19742, u'video_id': u'628050', u'publish_date': u'2014-03-04 03:26:01', u'stars': [{u'star_name': u'Amirah Adara'}], u'duration': u'9:00', u'title': u'Skinny Amirah Adara fingering pussy', u'tags': [{u'tag_name': u'Brunette'}, {u'tag_name': u'High Heels'}, {u'tag_name': u'Masturbation'}, {u'tag_name': u'Oriental'}, {u'tag_name': u'Outdoor'}, {u'tag_name': u'Solo Girl'}, {u'tag_name': u'Vaginal Masturbation'}], u'default_thumb': u'http://img04.redtubefiles.com/_thumbs/0000628/0628050/0628050_013m.jpg'}}\n",
        "{u'video': {u'rating': u'4.13', u'thumb': u'http://img04.redtubefiles.com/_thumbs/0000628/0628050/0628050_013m.jpg', u'ratings': u'39', u'url': u'http://www.redtube.com/628050', u'views': 19742, u'video_id': u'628050', u'publish_date': u'2014-03-04 03:26:01', u'stars': [{u'star_name': u'Amirah Adara'}], u'duration': u'9:00', u'title': u'Skinny Amirah Adara fingering pussy', u'tags': [{u'tag_name': u'Brunette'}, {u'tag_name': u'High Heels'}, {u'tag_name': u'Masturbation'}, {u'tag_name': u'Oriental'}, {u'tag_name': u'Outdoor'}, {u'tag_name': u'Solo Girl'}, {u'tag_name': u'Vaginal Masturbation'}], u'default_thumb': u'http://img04.redtubefiles.com/_thumbs/0000628/0628050/0628050_013m.jpg'}}\n",
        "{u'video': {u'rating': u'4.13', u'thumb': u'http://img04.redtubefiles.com/_thumbs/0000628/0628050/0628050_013m.jpg', u'ratings': u'39', u'url': u'http://www.redtube.com/628050', u'views': 19742, u'video_id': u'628050', u'publish_date': u'2014-03-04 03:26:01', u'stars': [{u'star_name': u'Amirah Adara'}], u'duration': u'9:00', u'title': u'Skinny Amirah Adara fingering pussy', u'tags': [{u'tag_name': u'Brunette'}, {u'tag_name': u'High Heels'}, {u'tag_name': u'Masturbation'}, {u'tag_name': u'Oriental'}, {u'tag_name': u'Outdoor'}, {u'tag_name': u'Solo Girl'}, {u'tag_name': u'Vaginal Masturbation'}], u'default_thumb': u'http://img04.redtubefiles.com/_thumbs/0000628/0628050/0628050_013m.jpg'}}\n",
        "{u'video': {u'rating': u'4.13', u'thumb': u'http://img04.redtubefiles.com/_thumbs/0000628/0628050/0628050_013m.jpg', u'ratings': u'39', u'url': u'http://www.redtube.com/628050', u'views': 19742, u'video_id': u'628050', u'publish_date': u'2014-03-04 03:26:01', u'stars': [{u'star_name': u'Amirah Adara'}], u'duration': u'9:00', u'title': u'Skinny Amirah Adara fingering pussy', u'tags': [{u'tag_name': u'Brunette'}, {u'tag_name': u'High Heels'}, {u'tag_name': u'Masturbation'}, {u'tag_name': u'Oriental'}, {u'tag_name': u'Outdoor'}, {u'tag_name': u'Solo Girl'}, {u'tag_name': u'Vaginal Masturbation'}], u'default_thumb': u'http://img04.redtubefiles.com/_thumbs/0000628/0628050/0628050_013m.jpg'}}\n",
        "{u'video': {u'rating': u'4.13', u'thumb': u'http://img04.redtubefiles.com/_thumbs/0000628/0628050/0628050_013m.jpg', u'ratings': u'39', u'url': u'http://www.redtube.com/628050', u'views': 19742, u'video_id': u'628050', u'publish_date': u'2014-03-04 03:26:01', u'stars': [{u'star_name': u'Amirah Adara'}], u'duration': u'9:00', u'title': u'Skinny Amirah Adara fingering pussy', u'tags': [{u'tag_name': u'Brunette'}, {u'tag_name': u'High Heels'}, {u'tag_name': u'Masturbation'}, {u'tag_name': u'Oriental'}, {u'tag_name': u'Outdoor'}, {u'tag_name': u'Solo Girl'}, {u'tag_name': u'Vaginal Masturbation'}], u'default_thumb': u'http://img04.redtubefiles.com/_thumbs/0000628/0628050/0628050_013m.jpg'}}\n",
        "{u'video': {u'rating': u'4.13', u'thumb': u'http://img04.redtubefiles.com/_thumbs/0000628/0628050/0628050_013m.jpg', u'ratings': u'39', u'url': u'http://www.redtube.com/628050', u'views': 19742, u'video_id': u'628050', u'publish_date': u'2014-03-04 03:26:01', u'stars': [{u'star_name': u'Amirah Adara'}], u'duration': u'9:00', u'title': u'Skinny Amirah Adara fingering pussy', u'tags': [{u'tag_name': u'Brunette'}, {u'tag_name': u'High Heels'}, {u'tag_name': u'Masturbation'}, {u'tag_name': u'Oriental'}, {u'tag_name': u'Outdoor'}, {u'tag_name': u'Solo Girl'}, {u'tag_name': u'Vaginal Masturbation'}], u'default_thumb': u'http://img04.redtubefiles.com/_thumbs/0000628/0628050/0628050_013m.jpg'}}\n"
       ]
      }
     ],
     "prompt_number": 8
    },
    {
     "cell_type": "code",
     "collapsed": false,
     "input": [
      "naoPrn = loaPrn[u'videos'][5]\n",
      "print naoPrn"
     ],
     "language": "python",
     "metadata": {},
     "outputs": [
      {
       "output_type": "stream",
       "stream": "stdout",
       "text": [
        "{u'video': {u'rating': u'4.01', u'thumb': u'http://img03.redtubefiles.com/_thumbs/0000398/0398052/0398052_004m.jpg', u'ratings': u'152', u'url': u'http://www.redtube.com/398052', u'views': 178927, u'video_id': u'398052', u'publish_date': u'2014-03-04 00:18:01', u'stars': [{u'star_name': u'April Flowers'}], u'duration': u'17:03', u'title': u'April Flowers stockings fingering', u'tags': [{u'tag_name': u'Brunette'}, {u'tag_name': u'Caucasian'}, {u'tag_name': u'High Heels'}, {u'tag_name': u'Lingerie'}, {u'tag_name': u'Masturbation'}, {u'tag_name': u'Solo Girl'}, {u'tag_name': u'Vaginal Masturbation'}], u'default_thumb': u'http://img03.redtubefiles.com/_thumbs/0000398/0398052/0398052_004m.jpg'}}\n"
       ]
      }
     ],
     "prompt_number": 9
    },
    {
     "cell_type": "markdown",
     "metadata": {},
     "source": [
      "Compress down - look at first element of json object. You could cycle through older elements\n",
      "by increasing the int"
     ]
    },
    {
     "cell_type": "code",
     "collapsed": false,
     "input": [
      "ngePrn = naoPrn[u'video']\n",
      "print ngePrn"
     ],
     "language": "python",
     "metadata": {},
     "outputs": [
      {
       "output_type": "stream",
       "stream": "stdout",
       "text": [
        "{u'rating': u'4.01', u'thumb': u'http://img03.redtubefiles.com/_thumbs/0000398/0398052/0398052_004m.jpg', u'ratings': u'152', u'url': u'http://www.redtube.com/398052', u'views': 178927, u'video_id': u'398052', u'publish_date': u'2014-03-04 00:18:01', u'stars': [{u'star_name': u'April Flowers'}], u'duration': u'17:03', u'title': u'April Flowers stockings fingering', u'tags': [{u'tag_name': u'Brunette'}, {u'tag_name': u'Caucasian'}, {u'tag_name': u'High Heels'}, {u'tag_name': u'Lingerie'}, {u'tag_name': u'Masturbation'}, {u'tag_name': u'Solo Girl'}, {u'tag_name': u'Vaginal Masturbation'}], u'default_thumb': u'http://img03.redtubefiles.com/_thumbs/0000398/0398052/0398052_004m.jpg'}\n"
       ]
      }
     ],
     "prompt_number": 10
    },
    {
     "cell_type": "markdown",
     "metadata": {},
     "source": [
      "Compress down again - this time video. It's always a bit of a trial and error to figure out\n",
      "navagating json objects, IPython is perfect for this. "
     ]
    },
    {
     "cell_type": "heading",
     "level": 2,
     "metadata": {},
     "source": [
      "Individual Data!"
     ]
    },
    {
     "cell_type": "markdown",
     "metadata": {},
     "source": [
      "This could be imporoved by turning the following unicode into a list and get the program\n",
      "to cycle though - saving off each element. Maybe save to a list?"
     ]
    },
    {
     "cell_type": "code",
     "collapsed": false,
     "input": [
      "ratPrn = ngePrn[u'title']"
     ],
     "language": "python",
     "metadata": {},
     "outputs": [],
     "prompt_number": 11
    },
    {
     "cell_type": "code",
     "collapsed": false,
     "input": [
      "for k in naoPrn:\n",
      "    print k"
     ],
     "language": "python",
     "metadata": {},
     "outputs": [
      {
       "output_type": "stream",
       "stream": "stdout",
       "text": [
        "video\n"
       ]
      }
     ],
     "prompt_number": 12
    },
    {
     "cell_type": "code",
     "collapsed": false,
     "input": [
      "from PIL import Image"
     ],
     "language": "python",
     "metadata": {},
     "outputs": [],
     "prompt_number": 13
    },
    {
     "cell_type": "code",
     "collapsed": false,
     "input": [
      "im = Image.open('ratPrn')"
     ],
     "language": "python",
     "metadata": {},
     "outputs": [
      {
       "ename": "IOError",
       "evalue": "[Errno 2] No such file or directory: 'ratPrn'",
       "output_type": "pyerr",
       "traceback": [
        "\u001b[0;31m---------------------------------------------------------------------------\u001b[0m\n\u001b[0;31mIOError\u001b[0m                                   Traceback (most recent call last)",
        "\u001b[0;32m<ipython-input-14-87bb26467892>\u001b[0m in \u001b[0;36m<module>\u001b[0;34m()\u001b[0m\n\u001b[0;32m----> 1\u001b[0;31m \u001b[0mim\u001b[0m \u001b[0;34m=\u001b[0m \u001b[0mImage\u001b[0m\u001b[0;34m.\u001b[0m\u001b[0mopen\u001b[0m\u001b[0;34m(\u001b[0m\u001b[0;34m'ratPrn'\u001b[0m\u001b[0;34m)\u001b[0m\u001b[0;34m\u001b[0m\u001b[0m\n\u001b[0m",
        "\u001b[0;32m/usr/lib/python2.7/dist-packages/PIL/Image.pyc\u001b[0m in \u001b[0;36mopen\u001b[0;34m(fp, mode)\u001b[0m\n\u001b[1;32m   1950\u001b[0m         \u001b[0;32mimport\u001b[0m \u001b[0m__builtin__\u001b[0m\u001b[0;34m\u001b[0m\u001b[0m\n\u001b[1;32m   1951\u001b[0m         \u001b[0mfilename\u001b[0m \u001b[0;34m=\u001b[0m \u001b[0mfp\u001b[0m\u001b[0;34m\u001b[0m\u001b[0m\n\u001b[0;32m-> 1952\u001b[0;31m         \u001b[0mfp\u001b[0m \u001b[0;34m=\u001b[0m \u001b[0m__builtin__\u001b[0m\u001b[0;34m.\u001b[0m\u001b[0mopen\u001b[0m\u001b[0;34m(\u001b[0m\u001b[0mfp\u001b[0m\u001b[0;34m,\u001b[0m \u001b[0;34m\"rb\"\u001b[0m\u001b[0;34m)\u001b[0m\u001b[0;34m\u001b[0m\u001b[0m\n\u001b[0m\u001b[1;32m   1953\u001b[0m     \u001b[0;32melse\u001b[0m\u001b[0;34m:\u001b[0m\u001b[0;34m\u001b[0m\u001b[0m\n\u001b[1;32m   1954\u001b[0m         \u001b[0mfilename\u001b[0m \u001b[0;34m=\u001b[0m \u001b[0;34m\"\"\u001b[0m\u001b[0;34m\u001b[0m\u001b[0m\n",
        "\u001b[0;31mIOError\u001b[0m: [Errno 2] No such file or directory: 'ratPrn'"
       ]
      }
     ],
     "prompt_number": 14
    },
    {
     "cell_type": "code",
     "collapsed": false,
     "input": [
      "thumPrn = ratPrn[u'thumb']"
     ],
     "language": "python",
     "metadata": {},
     "outputs": [
      {
       "ename": "TypeError",
       "evalue": "string indices must be integers",
       "output_type": "pyerr",
       "traceback": [
        "\u001b[0;31m---------------------------------------------------------------------------\u001b[0m\n\u001b[0;31mTypeError\u001b[0m                                 Traceback (most recent call last)",
        "\u001b[0;32m<ipython-input-15-6deebaa3e6c8>\u001b[0m in \u001b[0;36m<module>\u001b[0;34m()\u001b[0m\n\u001b[0;32m----> 1\u001b[0;31m \u001b[0mthumPrn\u001b[0m \u001b[0;34m=\u001b[0m \u001b[0mratPrn\u001b[0m\u001b[0;34m[\u001b[0m\u001b[0;34mu'thumb'\u001b[0m\u001b[0;34m]\u001b[0m\u001b[0;34m\u001b[0m\u001b[0m\n\u001b[0m",
        "\u001b[0;31mTypeError\u001b[0m: string indices must be integers"
       ]
      }
     ],
     "prompt_number": 15
    },
    {
     "cell_type": "code",
     "collapsed": false,
     "input": [
      "print thumPrn"
     ],
     "language": "python",
     "metadata": {},
     "outputs": [
      {
       "ename": "NameError",
       "evalue": "name 'thumPrn' is not defined",
       "output_type": "pyerr",
       "traceback": [
        "\u001b[0;31m---------------------------------------------------------------------------\u001b[0m\n\u001b[0;31mNameError\u001b[0m                                 Traceback (most recent call last)",
        "\u001b[0;32m<ipython-input-16-cdc52c814fc5>\u001b[0m in \u001b[0;36m<module>\u001b[0;34m()\u001b[0m\n\u001b[0;32m----> 1\u001b[0;31m \u001b[0;32mprint\u001b[0m \u001b[0mthumPrn\u001b[0m\u001b[0;34m\u001b[0m\u001b[0m\n\u001b[0m",
        "\u001b[0;31mNameError\u001b[0m: name 'thumPrn' is not defined"
       ]
      }
     ],
     "prompt_number": 16
    },
    {
     "cell_type": "code",
     "collapsed": false,
     "input": [
      "ratPrn = ngePrn[u'ratings']\n",
      "print ratPrn"
     ],
     "language": "python",
     "metadata": {},
     "outputs": [
      {
       "output_type": "stream",
       "stream": "stdout",
       "text": [
        "152\n"
       ]
      }
     ],
     "prompt_number": 17
    },
    {
     "cell_type": "code",
     "collapsed": false,
     "input": [
      "urlPrn = ngePrn[u'url']\n",
      "print urlPrn"
     ],
     "language": "python",
     "metadata": {},
     "outputs": [
      {
       "output_type": "stream",
       "stream": "stdout",
       "text": [
        "http://www.redtube.com/398052\n"
       ]
      }
     ],
     "prompt_number": 18
    },
    {
     "cell_type": "code",
     "collapsed": false,
     "input": [
      "viwPrn = ngePrn[u'views']\n",
      "print viwPrn"
     ],
     "language": "python",
     "metadata": {},
     "outputs": [
      {
       "output_type": "stream",
       "stream": "stdout",
       "text": [
        "178927\n"
       ]
      }
     ],
     "prompt_number": 19
    },
    {
     "cell_type": "code",
     "collapsed": false,
     "input": [
      "idPrn = ngePrn[u'video_id']\n",
      "print idPrn"
     ],
     "language": "python",
     "metadata": {},
     "outputs": [
      {
       "output_type": "stream",
       "stream": "stdout",
       "text": [
        "398052\n"
       ]
      }
     ],
     "prompt_number": 20
    },
    {
     "cell_type": "code",
     "collapsed": false,
     "input": [
      "pdaPrn = ngePrn[u'publish_date']\n",
      "print pdaPrn"
     ],
     "language": "python",
     "metadata": {},
     "outputs": [
      {
       "output_type": "stream",
       "stream": "stdout",
       "text": [
        "2014-03-04 00:18:01\n"
       ]
      }
     ],
     "prompt_number": 21
    },
    {
     "cell_type": "code",
     "collapsed": false,
     "input": [
      "timPrn = ngePrn[u'duration']\n",
      "print timPrn"
     ],
     "language": "python",
     "metadata": {},
     "outputs": [
      {
       "output_type": "stream",
       "stream": "stdout",
       "text": [
        "17:03\n"
       ]
      }
     ],
     "prompt_number": 22
    },
    {
     "cell_type": "code",
     "collapsed": false,
     "input": [
      "titPrn = ngePrn[u'title']\n",
      "print titPrn"
     ],
     "language": "python",
     "metadata": {},
     "outputs": [
      {
       "output_type": "stream",
       "stream": "stdout",
       "text": [
        "April Flowers stockings fingering\n"
       ]
      }
     ],
     "prompt_number": 23
    },
    {
     "cell_type": "code",
     "collapsed": false,
     "input": [
      "tagPrn = ngePrn[u'tags']\n",
      "print tagPrn"
     ],
     "language": "python",
     "metadata": {},
     "outputs": [
      {
       "output_type": "stream",
       "stream": "stdout",
       "text": [
        "[{u'tag_name': u'Brunette'}, {u'tag_name': u'Caucasian'}, {u'tag_name': u'High Heels'}, {u'tag_name': u'Lingerie'}, {u'tag_name': u'Masturbation'}, {u'tag_name': u'Solo Girl'}, {u'tag_name': u'Vaginal Masturbation'}]\n"
       ]
      }
     ],
     "prompt_number": 24
    },
    {
     "cell_type": "code",
     "collapsed": false,
     "input": [
      "derbPrn = (tagPrn, 'tag_name')\n",
      "print derbPrn"
     ],
     "language": "python",
     "metadata": {},
     "outputs": [
      {
       "output_type": "stream",
       "stream": "stdout",
       "text": [
        "([{u'tag_name': u'Brunette'}, {u'tag_name': u'Caucasian'}, {u'tag_name': u'High Heels'}, {u'tag_name': u'Lingerie'}, {u'tag_name': u'Masturbation'}, {u'tag_name': u'Solo Girl'}, {u'tag_name': u'Vaginal Masturbation'}], 'tag_name')\n"
       ]
      }
     ],
     "prompt_number": 25
    },
    {
     "cell_type": "code",
     "collapsed": false,
     "input": [
      "thNum = 0\n",
      "taTrn = tagPrn[thNum]\n",
      "print taTrn\n",
      "thNum + 1"
     ],
     "language": "python",
     "metadata": {},
     "outputs": [
      {
       "output_type": "stream",
       "stream": "stdout",
       "text": [
        "{u'tag_name': u'Brunette'}\n"
       ]
      },
      {
       "output_type": "pyout",
       "prompt_number": 26,
       "text": [
        "1"
       ]
      }
     ],
     "prompt_number": 26
    },
    {
     "cell_type": "markdown",
     "metadata": {},
     "source": [
      "TODO: Cycle the list and print all tags"
     ]
    },
    {
     "cell_type": "code",
     "collapsed": false,
     "input": [
      "naTrn = taTrn['tag_name']\n",
      "print naTrn"
     ],
     "language": "python",
     "metadata": {},
     "outputs": [
      {
       "output_type": "stream",
       "stream": "stdout",
       "text": [
        "Brunette\n"
       ]
      }
     ],
     "prompt_number": 27
    },
    {
     "cell_type": "code",
     "collapsed": false,
     "input": [
      "demHub = (titlHub, titPrn, naTrn, urlPrn, pdaPrn, thumPrn, imgHub, linHub)"
     ],
     "language": "python",
     "metadata": {},
     "outputs": [
      {
       "ename": "NameError",
       "evalue": "name 'titlHub' is not defined",
       "output_type": "pyerr",
       "traceback": [
        "\u001b[0;31m---------------------------------------------------------------------------\u001b[0m\n\u001b[0;31mNameError\u001b[0m                                 Traceback (most recent call last)",
        "\u001b[0;32m<ipython-input-28-92c00aef343e>\u001b[0m in \u001b[0;36m<module>\u001b[0;34m()\u001b[0m\n\u001b[0;32m----> 1\u001b[0;31m \u001b[0mdemHub\u001b[0m \u001b[0;34m=\u001b[0m \u001b[0;34m(\u001b[0m\u001b[0mtitlHub\u001b[0m\u001b[0;34m,\u001b[0m \u001b[0mtitPrn\u001b[0m\u001b[0;34m,\u001b[0m \u001b[0mnaTrn\u001b[0m\u001b[0;34m,\u001b[0m \u001b[0murlPrn\u001b[0m\u001b[0;34m,\u001b[0m \u001b[0mpdaPrn\u001b[0m\u001b[0;34m,\u001b[0m \u001b[0mthumPrn\u001b[0m\u001b[0;34m,\u001b[0m \u001b[0mimgHub\u001b[0m\u001b[0;34m,\u001b[0m \u001b[0mlinHub\u001b[0m\u001b[0;34m)\u001b[0m\u001b[0;34m\u001b[0m\u001b[0m\n\u001b[0m",
        "\u001b[0;31mNameError\u001b[0m: name 'titlHub' is not defined"
       ]
      }
     ],
     "prompt_number": 28
    },
    {
     "cell_type": "code",
     "collapsed": false,
     "input": [
      "print demHub"
     ],
     "language": "python",
     "metadata": {},
     "outputs": [
      {
       "ename": "NameError",
       "evalue": "name 'demHub' is not defined",
       "output_type": "pyerr",
       "traceback": [
        "\u001b[0;31m---------------------------------------------------------------------------\u001b[0m\n\u001b[0;31mNameError\u001b[0m                                 Traceback (most recent call last)",
        "\u001b[0;32m<ipython-input-29-6eb63e43e38f>\u001b[0m in \u001b[0;36m<module>\u001b[0;34m()\u001b[0m\n\u001b[0;32m----> 1\u001b[0;31m \u001b[0;32mprint\u001b[0m \u001b[0mdemHub\u001b[0m\u001b[0;34m\u001b[0m\u001b[0m\n\u001b[0m",
        "\u001b[0;31mNameError\u001b[0m: name 'demHub' is not defined"
       ]
      }
     ],
     "prompt_number": 29
    },
    {
     "cell_type": "heading",
     "level": 2,
     "metadata": {},
     "source": [
      "Saving Data"
     ]
    },
    {
     "cell_type": "markdown",
     "metadata": {},
     "source": []
    },
    {
     "cell_type": "code",
     "collapsed": false,
     "input": [
      "savPrn = open('savPrn','w')\n",
      "savPrn.write('<h3 style=\"text-align: center;\"><a href=\"' + urlPrn + '\">')\n",
      "savPrn.write(titPrn + '</a></h3>')\n",
      "savPrn.write('<p style=\"text-align: right;\">' + pdaPrn)\n",
      "savPrn.write('</a></h3><img class=\"aligncenter\" alt=\"null\" src=\"' + thumPrn)\n",
      "savPrn.write('\" />')\n",
      "savPrn.close()"
     ],
     "language": "python",
     "metadata": {},
     "outputs": [
      {
       "ename": "NameError",
       "evalue": "name 'thumPrn' is not defined",
       "output_type": "pyerr",
       "traceback": [
        "\u001b[0;31m---------------------------------------------------------------------------\u001b[0m\n\u001b[0;31mNameError\u001b[0m                                 Traceback (most recent call last)",
        "\u001b[0;32m<ipython-input-30-a9276e043280>\u001b[0m in \u001b[0;36m<module>\u001b[0;34m()\u001b[0m\n\u001b[1;32m      3\u001b[0m \u001b[0msavPrn\u001b[0m\u001b[0;34m.\u001b[0m\u001b[0mwrite\u001b[0m\u001b[0;34m(\u001b[0m\u001b[0mtitPrn\u001b[0m \u001b[0;34m+\u001b[0m \u001b[0;34m'</a></h3>'\u001b[0m\u001b[0;34m)\u001b[0m\u001b[0;34m\u001b[0m\u001b[0m\n\u001b[1;32m      4\u001b[0m \u001b[0msavPrn\u001b[0m\u001b[0;34m.\u001b[0m\u001b[0mwrite\u001b[0m\u001b[0;34m(\u001b[0m\u001b[0;34m'<p style=\"text-align: right;\">'\u001b[0m \u001b[0;34m+\u001b[0m \u001b[0mpdaPrn\u001b[0m\u001b[0;34m)\u001b[0m\u001b[0;34m\u001b[0m\u001b[0m\n\u001b[0;32m----> 5\u001b[0;31m \u001b[0msavPrn\u001b[0m\u001b[0;34m.\u001b[0m\u001b[0mwrite\u001b[0m\u001b[0;34m(\u001b[0m\u001b[0;34m'</a></h3><img class=\"aligncenter\" alt=\"null\" src=\"'\u001b[0m \u001b[0;34m+\u001b[0m \u001b[0mthumPrn\u001b[0m\u001b[0;34m)\u001b[0m\u001b[0;34m\u001b[0m\u001b[0m\n\u001b[0m\u001b[1;32m      6\u001b[0m \u001b[0msavPrn\u001b[0m\u001b[0;34m.\u001b[0m\u001b[0mwrite\u001b[0m\u001b[0;34m(\u001b[0m\u001b[0;34m'\" />'\u001b[0m\u001b[0;34m)\u001b[0m\u001b[0;34m\u001b[0m\u001b[0m\n\u001b[1;32m      7\u001b[0m \u001b[0msavPrn\u001b[0m\u001b[0;34m.\u001b[0m\u001b[0mclose\u001b[0m\u001b[0;34m(\u001b[0m\u001b[0;34m)\u001b[0m\u001b[0;34m\u001b[0m\u001b[0m\n",
        "\u001b[0;31mNameError\u001b[0m: name 'thumPrn' is not defined"
       ]
      }
     ],
     "prompt_number": 30
    },
    {
     "cell_type": "code",
     "collapsed": false,
     "input": [
      "savTub"
     ],
     "language": "python",
     "metadata": {},
     "outputs": [
      {
       "ename": "NameError",
       "evalue": "name 'savTub' is not defined",
       "output_type": "pyerr",
       "traceback": [
        "\u001b[0;31m---------------------------------------------------------------------------\u001b[0m\n\u001b[0;31mNameError\u001b[0m                                 Traceback (most recent call last)",
        "\u001b[0;32m<ipython-input-31-cc9a9cacfd90>\u001b[0m in \u001b[0;36m<module>\u001b[0;34m()\u001b[0m\n\u001b[0;32m----> 1\u001b[0;31m \u001b[0msavTub\u001b[0m\u001b[0;34m\u001b[0m\u001b[0m\n\u001b[0m",
        "\u001b[0;31mNameError\u001b[0m: name 'savTub' is not defined"
       ]
      }
     ],
     "prompt_number": 31
    },
    {
     "cell_type": "code",
     "collapsed": false,
     "input": [
      "ls"
     ],
     "language": "python",
     "metadata": {},
     "outputs": [
      {
       "output_type": "stream",
       "stream": "stdout",
       "text": [
        "LICENSE           linkz          savPrn        \u001b[0m\u001b[01;34mwww.tlcstudents.ac.nz\u001b[0m/\r\n",
        "README.md         myfile.txt     tlc.ipynb\r\n",
        "artcontrol.ipynb  redTube.ipynb  tpb.ipynb\r\n",
        "home.html         result         uploads.html\r\n"
       ]
      }
     ],
     "prompt_number": 32
    },
    {
     "cell_type": "code",
     "collapsed": false,
     "input": [
      "opPrn = open('savPrn','r')\n",
      "for op in opPrn:\n",
      "    print op"
     ],
     "language": "python",
     "metadata": {},
     "outputs": [],
     "prompt_number": 33
    },
    {
     "cell_type": "code",
     "collapsed": false,
     "input": [],
     "language": "python",
     "metadata": {},
     "outputs": [],
     "prompt_number": 36
    },
    {
     "cell_type": "heading",
     "level": 1,
     "metadata": {},
     "source": [
      "PornHub"
     ]
    },
    {
     "cell_type": "code",
     "collapsed": false,
     "input": [
      "import feedparser"
     ],
     "language": "python",
     "metadata": {},
     "outputs": [],
     "prompt_number": 39
    },
    {
     "cell_type": "code",
     "collapsed": false,
     "input": [
      "urlHub = feedparser.parse('http://www.pornhub.com/video/webmasterss')"
     ],
     "language": "python",
     "metadata": {},
     "outputs": [],
     "prompt_number": 40
    },
    {
     "cell_type": "code",
     "collapsed": false,
     "input": [
      "urlHub['feed']['title']"
     ],
     "language": "python",
     "metadata": {},
     "outputs": [
      {
       "output_type": "pyout",
       "prompt_number": 41,
       "text": [
        "u'Pornhub - RSS Video Feed'"
       ]
      }
     ],
     "prompt_number": 41
    },
    {
     "cell_type": "code",
     "collapsed": false,
     "input": [
      "tlinHub = urlHub['feed']['link']"
     ],
     "language": "python",
     "metadata": {},
     "outputs": [],
     "prompt_number": 42
    },
    {
     "cell_type": "code",
     "collapsed": false,
     "input": [
      "pubHub = urlHub['feed']['published']"
     ],
     "language": "python",
     "metadata": {},
     "outputs": [],
     "prompt_number": 43
    },
    {
     "cell_type": "code",
     "collapsed": false,
     "input": [
      "linHub = urlHub.entries[0].link"
     ],
     "language": "python",
     "metadata": {},
     "outputs": [],
     "prompt_number": 44
    },
    {
     "cell_type": "code",
     "collapsed": false,
     "input": [
      "titlHub = urlHub.entries[0].title"
     ],
     "language": "python",
     "metadata": {},
     "outputs": [],
     "prompt_number": 45
    },
    {
     "cell_type": "code",
     "collapsed": false,
     "input": [
      "imgHub = urlHub.entries[0].thumb_large"
     ],
     "language": "python",
     "metadata": {},
     "outputs": [],
     "prompt_number": 46
    },
    {
     "cell_type": "code",
     "collapsed": false,
     "input": [
      "urlHub.entries[0]"
     ],
     "language": "python",
     "metadata": {},
     "outputs": [
      {
       "output_type": "pyout",
       "prompt_number": 47,
       "text": [
        "{'duration': u'1830',\n",
        " 'embed': u'<iframe src=\"http://www.pornhub.com/embed/837610145\" frameborder=\"0\" width=\"608\" height=\"468\" scrolling=\"no\"><a href=\"http://www.pornhub.com/view_video.php?viewkey=837610145\">Bigboobs teenager hardfuck</a></iframe>',\n",
        " 'link': u'http://www.pornhub.com/view_video.php?viewkey=837610145',\n",
        " 'links': [{'href': u'http://www.pornhub.com/view_video.php?viewkey=837610145',\n",
        "   'rel': u'alternate',\n",
        "   'type': u'text/html'}],\n",
        " 'published': u'Tue, 11 Feb 2014 07:59:38 -0500',\n",
        " 'published_parsed': time.struct_time(tm_year=2014, tm_mon=2, tm_mday=11, tm_hour=12, tm_min=59, tm_sec=38, tm_wday=1, tm_yday=42, tm_isdst=0),\n",
        " 'thumb': u'http://thumb2.cdn1a.image.pornhub.phncdn.com/videos/201402/11/23053152/180x135/12.jpg',\n",
        " 'thumb_large': u'http://thumb2.cdn1a.image.pornhub.phncdn.com/videos/201402/11/23053152/320x240/12.jpg',\n",
        " 'title': u'Bigboobs teenager hardfuck',\n",
        " 'title_detail': {'base': u'http://www.pornhub.com/video/webmasterss',\n",
        "  'language': None,\n",
        "  'type': u'text/plain',\n",
        "  'value': u'Bigboobs teenager hardfuck'}}"
       ]
      }
     ],
     "prompt_number": 47
    },
    {
     "cell_type": "code",
     "collapsed": false,
     "input": [
      "for daHub, da in enumerate([titlHub, linHub, pubHub, imgHub]):\n",
      "    print daHub, da"
     ],
     "language": "python",
     "metadata": {},
     "outputs": [
      {
       "output_type": "stream",
       "stream": "stdout",
       "text": [
        "0 Lilian Lee interracial\n",
        "1 http://www.pornhub.com/view_video.php?viewkey=1174256645\n",
        "2 Mon, 03 Feb 2014 09:10:32 -0500\n",
        "3 http://thumb6.cdn1a.image.pornhub.phncdn.com/videos/201001/02/1014746/320x240/13.jpg\n"
       ]
      }
     ],
     "prompt_number": 43
    },
    {
     "cell_type": "code",
     "collapsed": false,
     "input": [],
     "language": "python",
     "metadata": {},
     "outputs": [],
     "prompt_number": 43
    },
    {
     "cell_type": "code",
     "collapsed": false,
     "input": [],
     "language": "python",
     "metadata": {},
     "outputs": [],
     "prompt_number": 43
    },
    {
     "cell_type": "code",
     "collapsed": false,
     "input": [],
     "language": "python",
     "metadata": {},
     "outputs": []
    }
   ],
   "metadata": {}
  }
 ]
}