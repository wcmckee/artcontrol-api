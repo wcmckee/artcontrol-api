{
 "metadata": {
  "name": "pynztacam"
 },
 "nbformat": 3,
 "nbformat_minor": 0,
 "worksheets": [
  {
   "cells": [
    {
     "cell_type": "heading",
     "level": 1,
     "metadata": {},
     "source": [
      "pynztacam"
     ]
    },
    {
     "cell_type": "code",
     "collapsed": false,
     "input": [
      "import xmltodict"
     ],
     "language": "python",
     "metadata": {},
     "outputs": [],
     "prompt_number": 2
    },
    {
     "cell_type": "code",
     "collapsed": false,
     "input": [
      "thexml = ('<?xml version=\\'1.0\\' encoding=\\'UTF-8\\'?><tns:getCamerasResponse xmlns:rem=\"http://remote.service.callcenter.nzta.govt.nz\" xmlns:tns=\"https://infoconnect.highwayinfo.govt.nz/schemas/camera\" xmlns:xsd=\"http://www.w3.org/2001/XMLSchema\" xmlns:xsi=\"http://www.w3.org/2001/XMLSchema-instance\"><tns:camera><tns:id>130</tns:id><tns:name>SH16 1 Bond St</tns:name><tns:description>Bond St looking east</tns:description><tns:offline>false</tns:offline><tns:underMaintenance>false</tns:underMaintenance><tns:imageUrl>http://www.trafficnz.info/camera/130.jpg</tns:imageUrl><tns:viewUrl>http://www.trafficnz.info/camera/view/130</tns:viewUrl><tns:mapx>142</tns:mapx><tns:mapy>229</tns:mapy><tns:congestionLocation><tns:name>St Lukes Rd - Newton Rd</tns:name><tns:direction>Eastbound</tns:direction><tns:congestion>Free Flow</tns:congestion></tns:congestionLocation><tns:congestionLocation><tns:name>Newton Rd - St Lukes Rd</tns:name><tns:direction>Westbound</tns:direction><tns:congestion>Free Flow</tns:congestion></tns:congestionLocation></tns:camera><tns:camera><tns:id>140</tns:id><tns:name>SH16 2 Gt North Rd</tns:name><tns:description>Gt North Road looking west</tns:description><tns:offline>false</tns:offline><tns:underMaintenance>false</tns:underMaintenance><tns:imageUrl>http://www.trafficnz.info/camera/140.jpg</tns:imageUrl><tns:viewUrl>http://www.trafficnz.info/camera/view/140</tns:viewUrl><tns:mapx>113</tns:mapx><tns:mapy>232</tns:mapy><tns:congestionLocation><tns:name>Rosebank Rd - Great Nth Rd Waterview</tns:name><tns:direction>Eastbound</tns:direction><tns:congestion>Free Flow</tns:congestion></tns:congestionLocation><tns:congestionLocation><tns:name>Great Nth Rd Waterview - Rosebank Rd</tns:name><tns:direction>Westbound</tns:direction><tns:congestion>Free Flow</tns:congestion></tns:congestionLocation></tns:camera><tns:camera><tns:id>150</tns:id><tns:name>SH16 3 Te Atatu Rd</tns:name><tns:description>Te Atatu Road looking east</tns:description><tns:offline>false</tns:offline><tns:underMaintenance>false</tns:underMaintenance><tns:imageUrl>http://www.trafficnz.info/camera/150.jpg</tns:imageUrl><tns:viewUrl>http://www.trafficnz.info/camera/view/150</tns:viewUrl><tns:mapx>70</tns:mapx><tns:mapy>216</tns:mapy><tns:congestionLocation><tns:name>Te Atatu Rd - Rosebank Rd</tns:name><tns:direction>Eastbound</tns:direction><tns:congestion>Free Flow</tns:congestion></tns:congestionLocation><tns:congestionLocation><tns:name>Rosebank Rd - Te Atatu Rd</tns:name><tns:direction>Westbound</tns:direction><tns:congestion>Free Flow</tns:congestion></tns:congestionLocation></tns:camera><tns:camera><tns:id>160</tns:id><tns:name>SH16 4 Lincoln Rd E</tns:name><tns:description>Lincoln Rd  looking west</tns:description><tns:offline>false</tns:offline><tns:underMaintenance>false</tns:underMaintenance><tns:imageUrl>http://www.trafficnz.info/camera/160.jpg</tns:imageUrl><tns:viewUrl>http://www.trafficnz.info/camera/view/160</tns:viewUrl><tns:mapx>52</tns:mapx><tns:mapy>207</tns:mapy><tns:congestionLocation><tns:name>Te Atatu Rd - Lincoln Rd</tns:name><tns:direction>Westbound</tns:direction><tns:congestion>Free Flow</tns:congestion></tns:congestionLocation><tns:congestionLocation><tns:name>Lincoln Rd - Te Atatu Rd</tns:name><tns:direction>Eastbound</tns:direction><tns:congestion>Free Flow</tns:congestion></tns:congestionLocation></tns:camera><tns:camera><tns:id>170</tns:id><tns:name>SH16 5 Lincoln Rd W</tns:name><tns:description>Lincoln Rd looking east</tns:description><tns:offline>false</tns:offline><tns:underMaintenance>false</tns:underMaintenance><tns:imageUrl>http://www.trafficnz.info/camera/170.jpg</tns:imageUrl><tns:viewUrl>http://www.trafficnz.info/camera/view/170</tns:viewUrl><tns:mapx>35</tns:mapx><tns:mapy>207</tns:mapy><tns:congestionLocation><tns:name>Lincoln Rd - Royal Rd</tns:name><tns:direction>Westbound</tns:direction><tns:congestion>Free Flow</tns:congestion></tns:congestionLocation><tns:congestionLocation><tns:name>Royal Rd - Lincoln Rd</tns:name><tns:direction>Eastbound</tns:direction><tns:congestion>Free Flow</tns:congestion></tns:congestionLocation></tns:camera><tns:camera><tns:id>270</tns:id><tns:name>SH16 6 Hobsonville W</tns:name><tns:description>Hobsonville looking West towards Kumeu</tns:description><tns:offline>false</tns:offline><tns:underMaintenance>false</tns:underMaintenance><tns:imageUrl>http://www.trafficnz.info/camera/270.jpg</tns:imageUrl><tns:viewUrl>http://www.trafficnz.info/camera/view/270</tns:viewUrl><tns:mapx>0</tns:mapx><tns:mapy>0</tns:mapy></tns:camera><tns:camera><tns:id>271</tns:id><tns:name>SH16 7 Hobsonville E</tns:name><tns:description>Hobsonville Road looking East</tns:description><tns:offline>false</tns:offline><tns:underMaintenance>false</tns:underMaintenance><tns:imageUrl>http://www.trafficnz.info/camera/271.jpg</tns:imageUrl><tns:viewUrl>http://www.trafficnz.info/camera/view/271</tns:viewUrl><tns:mapx>0</tns:mapx><tns:mapy>0</tns:mapy></tns:camera><tns:camera><tns:id>221</tns:id><tns:name>SH18 Trig Rd</tns:name><tns:description>Trig Rd looking west</tns:description><tns:offline>false</tns:offline><tns:underMaintenance>false</tns:underMaintenance><tns:imageUrl>http://www.trafficnz.info/camera/221.jpg</tns:imageUrl><tns:viewUrl>http://www.trafficnz.info/camera/view/221</tns:viewUrl><tns:mapx>0</tns:mapx><tns:mapy>0</tns:mapy></tns:camera><tns:camera><tns:id>222</tns:id><tns:name>SH18 Waiahora Creek</tns:name><tns:description>Upper harbour motorway looking west</tns:description><tns:offline>false</tns:offline><tns:underMaintenance>false</tns:underMaintenance><tns:imageUrl>http://www.trafficnz.info/camera/222.jpg</tns:imageUrl><tns:viewUrl>http://www.trafficnz.info/camera/view/222</tns:viewUrl><tns:mapx>0</tns:mapx><tns:mapy>0</tns:mapy></tns:camera><tns:camera><tns:id>223</tns:id><tns:name>SH18 Brigham Creek</tns:name><tns:description>Upper harbour motorway looking East</tns:description><tns:offline>false</tns:offline><tns:underMaintenance>false</tns:underMaintenance><tns:imageUrl>http://www.trafficnz.info/camera/223.jpg</tns:imageUrl><tns:viewUrl>http://www.trafficnz.info/camera/view/223</tns:viewUrl><tns:mapx>0</tns:mapx><tns:mapy>0</tns:mapy></tns:camera><tns:camera><tns:id>224</tns:id><tns:name>SH18 Sinton Rd</tns:name><tns:description>Upper harbour motorway looking west</tns:description><tns:offline>false</tns:offline><tns:underMaintenance>false</tns:underMaintenance><tns:imageUrl>http://www.trafficnz.info/camera/224.jpg</tns:imageUrl><tns:viewUrl>http://www.trafficnz.info/camera/view/224</tns:viewUrl><tns:mapx>0</tns:mapx><tns:mapy>0</tns:mapy></tns:camera><tns:camera><tns:id>225</tns:id><tns:name>SH18 Squadron Dr</tns:name><tns:description>Upper harbour motorway looking east</tns:description><tns:offline>false</tns:offline><tns:underMaintenance>false</tns:underMaintenance><tns:imageUrl>http://www.trafficnz.info/camera/225.jpg</tns:imageUrl><tns:viewUrl>http://www.trafficnz.info/camera/view/225</tns:viewUrl><tns:mapx>0</tns:mapx><tns:mapy>0</tns:mapy></tns:camera><tns:camera><tns:id>171</tns:id><tns:name>SH18 6 Tauhinu BRG</tns:name><tns:description>Tauhinu bridge looking east</tns:description><tns:offline>false</tns:offline><tns:underMaintenance>false</tns:underMaintenance><tns:imageUrl>http://www.trafficnz.info/camera/171.jpg</tns:imageUrl><tns:viewUrl>http://www.trafficnz.info/camera/view/171</tns:viewUrl><tns:mapx>60</tns:mapx><tns:mapy>207</tns:mapy></tns:camera><tns:camera><tns:id>172</tns:id><tns:name>SH18 7 Albany HWY</tns:name><tns:description>Albany Highway Looking East</tns:description><tns:offline>false</tns:offline><tns:underMaintenance>false</tns:underMaintenance><tns:imageUrl>http://www.trafficnz.info/camera/172.jpg</tns:imageUrl><tns:viewUrl>http://www.trafficnz.info/camera/view/172</tns:viewUrl><tns:mapx>35</tns:mapx><tns:mapy>207</tns:mapy></tns:camera><tns:camera><tns:id>173</tns:id><tns:name>SH18 8 Tauhinu East</tns:name><tns:description>Tauhinu East Looking East</tns:description><tns:offline>false</tns:offline><tns:underMaintenance>false</tns:underMaintenance><tns:imageUrl>http://www.trafficnz.info/camera/173.jpg</tns:imageUrl><tns:viewUrl>http://www.trafficnz.info/camera/view/173</tns:viewUrl><tns:mapx>35</tns:mapx><tns:mapy>207</tns:mapy></tns:camera><tns:camera><tns:id>174</tns:id><tns:name>SH18 9 Paul Matthews</tns:name><tns:description>Paul matthews looking east</tns:description><tns:offline>false</tns:offline><tns:underMaintenance>false</tns:underMaintenance><tns:imageUrl>http://www.trafficnz.info/camera/174.jpg</tns:imageUrl><tns:viewUrl>http://www.trafficnz.info/camera/view/174</tns:viewUrl><tns:mapx>35</tns:mapx><tns:mapy>207</tns:mapy></tns:camera><tns:camera><tns:id>175</tns:id><tns:name>SH18 10 Greenhithe</tns:name><tns:description>Greenhithe Rd looking east</tns:description><tns:offline>false</tns:offline><tns:underMaintenance>false</tns:underMaintenance><tns:imageUrl>http://www.trafficnz.info/camera/175.jpg</tns:imageUrl><tns:viewUrl>http://www.trafficnz.info/camera/view/175</tns:viewUrl><tns:mapx>35</tns:mapx><tns:mapy>207</tns:mapy></tns:camera><tns:camera><tns:id>176</tns:id><tns:name>SH18 11 George Deane</tns:name><tns:description>George deane looking east</tns:description><tns:offline>false</tns:offline><tns:underMaintenance>false</tns:underMaintenance><tns:imageUrl>http://www.trafficnz.info/camera/176.jpg</tns:imageUrl><tns:viewUrl>http://www.trafficnz.info/camera/view/176</tns:viewUrl><tns:mapx>35</tns:mapx><tns:mapy>207</tns:mapy></tns:camera><tns:camera><tns:id>177</tns:id><tns:name>SH18 12 Upper Hbr CW</tns:name><tns:description>Upper harbour looking east</tns:description><tns:offline>false</tns:offline><tns:underMaintenance>false</tns:underMaintenance><tns:imageUrl>http://www.trafficnz.info/camera/177.jpg</tns:imageUrl><tns:viewUrl>http://www.trafficnz.info/camera/view/177</tns:viewUrl><tns:mapx>35</tns:mapx><tns:mapy>207</tns:mapy></tns:camera><tns:camera><tns:id>178</tns:id><tns:name>SH18 13 Wicklam Lane</tns:name><tns:description>Wicklam Lane looking west</tns:description><tns:offline>false</tns:offline><tns:underMaintenance>false</tns:underMaintenance><tns:imageUrl>http://www.trafficnz.info/camera/178.jpg</tns:imageUrl><tns:viewUrl>http://www.trafficnz.info/camera/view/178</tns:viewUrl><tns:mapx>35</tns:mapx><tns:mapy>207</tns:mapy></tns:camera><tns:camera><tns:id>10</tns:id><tns:name>SH1 1 Greville Rd</tns:name><tns:description>Greville road looking south</tns:description><tns:offline>false</tns:offline><tns:underMaintenance>false</tns:underMaintenance><tns:imageUrl>http://www.trafficnz.info/camera/10.jpg</tns:imageUrl><tns:viewUrl>http://www.trafficnz.info/camera/view/10</tns:viewUrl><tns:mapx>125</tns:mapx><tns:mapy>71</tns:mapy><tns:congestionLocation><tns:name>Upper Harb Hwy - Oteha Valley Rd</tns:name><tns:direction>Northbound</tns:direction><tns:congestion>Free Flow</tns:congestion></tns:congestionLocation><tns:congestionLocation><tns:name>Oteha Valley Rd - Upper Harb Hwy</tns:name><tns:direction>Southbound</tns:direction><tns:congestion>Free Flow</tns:congestion></tns:congestionLocation></tns:camera><tns:camera><tns:id>20</tns:id><tns:name>SH1 2 Tristram Ave</tns:name><tns:description>Tristram Avenue looking south</tns:description><tns:offline>false</tns:offline><tns:underMaintenance>false</tns:underMaintenance><tns:imageUrl>http://www.trafficnz.info/camera/20.jpg</tns:imageUrl><tns:viewUrl>http://www.trafficnz.info/camera/view/20</tns:viewUrl><tns:mapx>148</tns:mapx><tns:mapy>118</tns:mapy><tns:congestionLocation><tns:name>Tristram Ave - Esmonde Rd</tns:name><tns:direction>Southbound</tns:direction><tns:congestion>Free Flow</tns:congestion></tns:congestionLocation><tns:congestionLocation><tns:name>Esmonde Rd - Tristram Ave</tns:name><tns:direction>Northbound</tns:direction><tns:congestion>Free Flow</tns:congestion></tns:congestionLocation></tns:camera><tns:camera><tns:id>30</tns:id><tns:name>SH1 3 Northcote Rd</tns:name><tns:description>Northcote Rd looking north</tns:description><tns:offline>false</tns:offline><tns:underMaintenance>false</tns:underMaintenance><tns:imageUrl>http://www.trafficnz.info/camera/30.jpg</tns:imageUrl><tns:viewUrl>http://www.trafficnz.info/camera/view/30</tns:viewUrl><tns:mapx>156</tns:mapx><tns:mapy>141</tns:mapy><tns:congestionLocation><tns:name>Tristram Ave - Esmonde Rd</tns:name><tns:direction>Southbound</tns:direction><tns:congestion>Free Flow</tns:congestion></tns:congestionLocation><tns:congestionLocation><tns:name>Esmonde Rd - Tristram Ave</tns:name><tns:direction>Northbound</tns:direction><tns:congestion>Free Flow</tns:congestion></tns:congestionLocation></tns:camera><tns:camera><tns:id>40</tns:id><tns:name>SH1 4 Esmonde Rd</tns:name><tns:description>Esmonde Rd looking south</tns:description><tns:offline>false</tns:offline><tns:underMaintenance>false</tns:underMaintenance><tns:imageUrl>http://www.trafficnz.info/camera/40.jpg</tns:imageUrl><tns:viewUrl>http://www.trafficnz.info/camera/view/40</tns:viewUrl><tns:mapx>178</tns:mapx><tns:mapy>146</tns:mapy><tns:congestionLocation><tns:name>Esmonde Rd - Onewa</tns:name><tns:direction>Southbound</tns:direction><tns:congestion>Free Flow</tns:congestion></tns:congestionLocation><tns:congestionLocation><tns:name>Stafford Rd - Esmonde Rd</tns:name><tns:direction>Northbound</tns:direction><tns:congestion>Free Flow</tns:congestion></tns:congestionLocation></tns:camera><tns:camera><tns:id>50</tns:id><tns:name>SH1 5 Onewa Rd</tns:name><tns:description>Onewa Rd looking south</tns:description><tns:offline>false</tns:offline><tns:underMaintenance>false</tns:underMaintenance><tns:imageUrl>http://www.trafficnz.info/camera/50.jpg</tns:imageUrl><tns:viewUrl>http://www.trafficnz.info/camera/view/50</tns:viewUrl><tns:mapx>157</tns:mapx><tns:mapy>162</tns:mapy><tns:congestionLocation><tns:name>Harbour Bridge</tns:name><tns:direction>Southbound</tns:direction><tns:congestion>Free Flow</tns:congestion></tns:congestionLocation><tns:congestionLocation><tns:name>Stafford Rd - Esmonde Rd</tns:name><tns:direction>Northbound</tns:direction><tns:congestion>Free Flow</tns:congestion></tns:congestionLocation></tns:camera><tns:camera><tns:id>215</tns:id><tns:name>SH1 Alpurt Web cam</tns:name><tns:description>Johnstone hill tunnels looking south</tns:description><tns:offline>false</tns:offline><tns:underMaintenance>false</tns:underMaintenance><tns:imageUrl>http://www.trafficnz.info/camera/215.jpg</tns:imageUrl><tns:viewUrl>http://www.trafficnz.info/camera/view/215</tns:viewUrl><tns:mapx>0</tns:mapx><tns:mapy>0</tns:mapy></tns:camera><tns:camera><tns:id>212</tns:id><tns:name>SH1 17 Goodwood</tns:name><tns:description>Goodwood heights looking south</tns:description><tns:offline>false</tns:offline><tns:underMaintenance>false</tns:underMaintenance><tns:imageUrl>http://www.trafficnz.info/camera/212.jpg</tns:imageUrl><tns:viewUrl>http://www.trafficnz.info/camera/view/212</tns:viewUrl><tns:mapx>0</tns:mapx><tns:mapy>0</tns:mapy></tns:camera><tns:camera><tns:id>214</tns:id><tns:name>SH1 18 Rainbows End</tns:name><tns:description>Rainbows End looking north at SH1 and SH20 link</tns:description><tns:offline>false</tns:offline><tns:underMaintenance>false</tns:underMaintenance><tns:imageUrl>http://www.trafficnz.info/camera/214.jpg</tns:imageUrl><tns:viewUrl>http://www.trafficnz.info/camera/view/214</tns:viewUrl><tns:mapx>0</tns:mapx><tns:mapy>0</tns:mapy></tns:camera><tns:camera><tns:id>60</tns:id><tns:name>SH1 1 CMJ</tns:name><tns:description>Central motorway junction looking south at the link between state highways 1 and 16</tns:description><tns:offline>false</tns:offline><tns:underMaintenance>false</tns:underMaintenance><tns:imageUrl>http://www.trafficnz.info/camera/60.jpg</tns:imageUrl><tns:viewUrl>http://www.trafficnz.info/camera/view/60</tns:viewUrl><tns:mapx>162</tns:mapx><tns:mapy>217</tns:mapy><tns:congestionLocation><tns:name>Nelson St - Gillies Ave</tns:name><tns:direction>Southbound</tns:direction><tns:congestion>Free Flow</tns:congestion></tns:congestionLocation></tns:camera><tns:camera><tns:id>70</tns:id><tns:name>SH1 2 Market Rd</tns:name><tns:description>Southern motorway at newmarket looking south towards the Market  Rd overbridge</tns:description><tns:offline>false</tns:offline><tns:underMaintenance>false</tns:underMaintenance><tns:imageUrl>http://www.trafficnz.info/camera/70.jpg</tns:imageUrl><tns:viewUrl>http://www.trafficnz.info/camera/view/70</tns:viewUrl><tns:mapx>183</tns:mapx><tns:mapy>241</tns:mapy><tns:congestionLocation><tns:name>Gillies Ave - Greenlane</tns:name><tns:direction>Southbound</tns:direction><tns:congestion>Free Flow</tns:congestion></tns:congestionLocation><tns:congestionLocation><tns:name>Greenlane - Gillies Ave</tns:name><tns:direction>Northbound</tns:direction><tns:congestion>Free Flow</tns:congestion></tns:congestionLocation></tns:camera><tns:camera><tns:id>80</tns:id><tns:name>SH1 3 Greenlane Rd</tns:name><tns:description>Greenlane Rd looking north</tns:description><tns:offline>false</tns:offline><tns:underMaintenance>false</tns:underMaintenance><tns:imageUrl>http://www.trafficnz.info/camera/80.jpg</tns:imageUrl><tns:viewUrl>http://www.trafficnz.info/camera/view/80</tns:viewUrl><tns:mapx>198</tns:mapx><tns:mapy>262</tns:mapy><tns:congestionLocation><tns:name>Gillies Ave - Greenlane</tns:name><tns:direction>Southbound</tns:direction><tns:congestion>Free Flow</tns:congestion></tns:congestionLocation><tns:congestionLocation><tns:name>Greenlane - Gillies Ave</tns:name><tns:direction>Northbound</tns:direction><tns:congestion>Free Flow</tns:congestion></tns:congestionLocation></tns:camera><tns:camera><tns:id>90</tns:id><tns:name>SH1 4 SE Highway</tns:name><tns:description>South eastern highway looking south</tns:description><tns:offline>false</tns:offline><tns:underMaintenance>false</tns:underMaintenance><tns:imageUrl>http://www.trafficnz.info/camera/90.jpg</tns:imageUrl><tns:viewUrl>http://www.trafficnz.info/camera/view/90</tns:viewUrl><tns:mapx>219</tns:mapx><tns:mapy>278</tns:mapy><tns:congestionLocation><tns:name>Mt Wellington Hway - SE Highway</tns:name><tns:direction>Northbound</tns:direction><tns:congestion>Free Flow</tns:congestion></tns:congestionLocation><tns:congestionLocation><tns:name>SE Highway - Mt Wellington Hway</tns:name><tns:direction>Southbound</tns:direction><tns:congestion>Moderate</tns:congestion></tns:congestionLocation></tns:camera><tns:camera><tns:id>100</tns:id><tns:name>SH1 5 Redoubt Rd</tns:name><tns:description>Redoubt Rd looking north</tns:description><tns:offline>false</tns:offline><tns:underMaintenance>false</tns:underMaintenance><tns:imageUrl>http://www.trafficnz.info/camera/100.jpg</tns:imageUrl><tns:viewUrl>http://www.trafficnz.info/camera/view/100</tns:viewUrl><tns:mapx>254</tns:mapx><tns:mapy>341</tns:mapy><tns:congestionLocation><tns:name>Redoubt Rd - Hill Rd</tns:name><tns:direction>Southbound</tns:direction><tns:congestion>Free Flow</tns:congestion></tns:congestionLocation><tns:congestionLocation><tns:name>Hill Rd - Redoubt Rd</tns:name><tns:direction>Northbound</tns:direction><tns:congestion>Free Flow</tns:congestion></tns:congestionLocation></tns:camera><tns:camera><tns:id>110</tns:id><tns:name>SH1 6 Bairds Rd</tns:name><tns:description>Bairds Rd looking north</tns:description><tns:offline>false</tns:offline><tns:underMaintenance>false</tns:underMaintenance><tns:imageUrl>http://www.trafficnz.info/camera/110.jpg</tns:imageUrl><tns:viewUrl>http://www.trafficnz.info/camera/view/110</tns:viewUrl><tns:mapx>275</tns:mapx><tns:mapy>383</tns:mapy><tns:congestionLocation><tns:name>East Tamaki Rd - Princes St</tns:name><tns:direction>Northbound</tns:direction><tns:congestion>Free Flow</tns:congestion></tns:congestionLocation><tns:congestionLocation><tns:name>Princes St - East Tamaki Rd</tns:name><tns:direction>Southbound</tns:direction><tns:congestion>Free Flow</tns:congestion></tns:congestionLocation></tns:camera><tns:camera><tns:id>120</tns:id><tns:name>SH1 7 Alfriston Rd</tns:name><tns:description>Alfriston Rd looking north</tns:description><tns:offline>false</tns:offline><tns:underMaintenance>false</tns:underMaintenance><tns:imageUrl>http://www.trafficnz.info/camera/120.jpg</tns:imageUrl><tns:viewUrl>http://www.trafficnz.info/camera/view/120</tns:viewUrl><tns:mapx>291</tns:mapx><tns:mapy>411</tns:mapy><tns:congestionLocation><tns:name>Takanini - Hill Rd</tns:name><tns:direction>Northbound</tns:direction><tns:congestion>Free Flow</tns:congestion></tns:congestionLocation><tns:congestionLocation><tns:name>Hill Rd - Takanini</tns:name><tns:direction>Southbound</tns:direction><tns:congestion>Free Flow</tns:congestion></tns:congestionLocation></tns:camera><tns:camera><tns:id>121</tns:id><tns:name>SH1 8 Takanini</tns:name><tns:description>Takanini looking south</tns:description><tns:offline>false</tns:offline><tns:underMaintenance>false</tns:underMaintenance><tns:imageUrl>http://www.trafficnz.info/camera/121.jpg</tns:imageUrl><tns:viewUrl>http://www.trafficnz.info/camera/view/121</tns:viewUrl><tns:mapx>290</tns:mapx><tns:mapy>380</tns:mapy></tns:camera><tns:camera><tns:id>122</tns:id><tns:name>SH1 9 Walter Streven</tns:name><tns:description>Walter-Strevens Drive looking south</tns:description><tns:offline>false</tns:offline><tns:underMaintenance>false</tns:underMaintenance><tns:imageUrl>http://www.trafficnz.info/camera/122.jpg</tns:imageUrl><tns:viewUrl>http://www.trafficnz.info/camera/view/122</tns:viewUrl><tns:mapx>285</tns:mapx><tns:mapy>400</tns:mapy></tns:camera><tns:camera><tns:id>123</tns:id><tns:name>SH1 10 Pahurehure</tns:name><tns:description>Pahurehure looking south</tns:description><tns:offline>false</tns:offline><tns:underMaintenance>false</tns:underMaintenance><tns:imageUrl>http://www.trafficnz.info/camera/123.jpg</tns:imageUrl><tns:viewUrl>http://www.trafficnz.info/camera/view/123</tns:viewUrl><tns:mapx>265</tns:mapx><tns:mapy>410</tns:mapy></tns:camera><tns:camera><tns:id>124</tns:id><tns:name>SH1 11 Rushgreen Ave</tns:name><tns:description>Rushgreen Ave looking south</tns:description><tns:offline>false</tns:offline><tns:underMaintenance>false</tns:underMaintenance><tns:imageUrl>http://www.trafficnz.info/camera/124.jpg</tns:imageUrl><tns:viewUrl>http://www.trafficnz.info/camera/view/124</tns:viewUrl><tns:mapx>285</tns:mapx><tns:mapy>420</tns:mapy></tns:camera><tns:camera><tns:id>125</tns:id><tns:name>SH1 12 Park Estate</tns:name><tns:description>Park estate looking south</tns:description><tns:offline>false</tns:offline><tns:underMaintenance>false</tns:underMaintenance><tns:imageUrl>http://www.trafficnz.info/camera/125.jpg</tns:imageUrl><tns:viewUrl>http://www.trafficnz.info/camera/view/125</tns:viewUrl><tns:mapx>300</tns:mapx><tns:mapy>430</tns:mapy></tns:camera><tns:camera><tns:id>126</tns:id><tns:name>SH1 13 Slippery Crk</tns:name><tns:description>Slippery Creek looking  south</tns:description><tns:offline>false</tns:offline><tns:underMaintenance>false</tns:underMaintenance><tns:imageUrl>http://www.trafficnz.info/camera/126.jpg</tns:imageUrl><tns:viewUrl>http://www.trafficnz.info/camera/view/126</tns:viewUrl><tns:mapx>286</tns:mapx><tns:mapy>445</tns:mapy></tns:camera><tns:camera><tns:id>274</tns:id><tns:name>SH20A Montgomerie Rd</tns:name><tns:description>Montgomerie Rd looking east</tns:description><tns:offline>false</tns:offline><tns:underMaintenance>false</tns:underMaintenance><tns:imageUrl>http://www.trafficnz.info/camera/274.jpg</tns:imageUrl><tns:viewUrl>http://www.trafficnz.info/camera/view/274</tns:viewUrl><tns:mapx>0</tns:mapx><tns:mapy>0</tns:mapy></tns:camera><tns:camera><tns:id>275</tns:id><tns:name>SH20A Kirkbride Road</tns:name><tns:description>Kirkbride Rd looking east</tns:description><tns:offline>false</tns:offline><tns:underMaintenance>false</tns:underMaintenance><tns:imageUrl>http://www.trafficnz.info/camera/275.jpg</tns:imageUrl><tns:viewUrl>http://www.trafficnz.info/camera/view/275</tns:viewUrl><tns:mapx>0</tns:mapx><tns:mapy>0</tns:mapy></tns:camera><tns:camera><tns:id>276</tns:id><tns:name>SH20A Bader Drive</tns:name><tns:description>Bader Drive looking east</tns:description><tns:offline>false</tns:offline><tns:underMaintenance>false</tns:underMaintenance><tns:imageUrl>http://www.trafficnz.info/camera/276.jpg</tns:imageUrl><tns:viewUrl>http://www.trafficnz.info/camera/view/276</tns:viewUrl><tns:mapx>0</tns:mapx><tns:mapy>0</tns:mapy></tns:camera><tns:camera><tns:id>272</tns:id><tns:name>SH20B Prices Road</tns:name><tns:description>Prices Rd looking east</tns:description><tns:offline>false</tns:offline><tns:underMaintenance>false</tns:underMaintenance><tns:imageUrl>http://www.trafficnz.info/camera/272.jpg</tns:imageUrl><tns:viewUrl>http://www.trafficnz.info/camera/view/272</tns:viewUrl><tns:mapx>0</tns:mapx><tns:mapy>0</tns:mapy></tns:camera><tns:camera><tns:id>273</tns:id><tns:name>SH20B Waokauri Creek</tns:name><tns:description>Waokauri Creek looking west</tns:description><tns:offline>false</tns:offline><tns:underMaintenance>false</tns:underMaintenance><tns:imageUrl>http://www.trafficnz.info/camera/273.jpg</tns:imageUrl><tns:viewUrl>http://www.trafficnz.info/camera/view/273</tns:viewUrl><tns:mapx>0</tns:mapx><tns:mapy>0</tns:mapy></tns:camera><tns:camera><tns:id>190</tns:id><tns:name>SH20 1 Queenstown Rd</tns:name><tns:description>Queenstown Rd looking south</tns:description><tns:offline>false</tns:offline><tns:underMaintenance>false</tns:underMaintenance><tns:imageUrl>http://www.trafficnz.info/camera/190.jpg</tns:imageUrl><tns:viewUrl>http://www.trafficnz.info/camera/view/190</tns:viewUrl><tns:mapx>35</tns:mapx><tns:mapy>207</tns:mapy></tns:camera><tns:camera><tns:id>191</tns:id><tns:name>SH20 2 Hillsborough</tns:name><tns:description>Hillsborough Rd looking south</tns:description><tns:offline>false</tns:offline><tns:underMaintenance>false</tns:underMaintenance><tns:imageUrl>http://www.trafficnz.info/camera/191.jpg</tns:imageUrl><tns:viewUrl>http://www.trafficnz.info/camera/view/191</tns:viewUrl><tns:mapx>35</tns:mapx><tns:mapy>207</tns:mapy></tns:camera><tns:camera><tns:id>192</tns:id><tns:name>SH20 3 Melrose</tns:name><tns:description>Melrose looking south</tns:description><tns:offline>false</tns:offline><tns:underMaintenance>false</tns:underMaintenance><tns:imageUrl>http://www.trafficnz.info/camera/192.jpg</tns:imageUrl><tns:viewUrl>http://www.trafficnz.info/camera/view/192</tns:viewUrl><tns:mapx>35</tns:mapx><tns:mapy>207</tns:mapy></tns:camera><tns:camera><tns:id>193</tns:id><tns:name>SH20 4 Dominion Rd</tns:name><tns:description>Dominion Rd looking south</tns:description><tns:offline>false</tns:offline><tns:underMaintenance>false</tns:underMaintenance><tns:imageUrl>http://www.trafficnz.info/camera/193.jpg</tns:imageUrl><tns:viewUrl>http://www.trafficnz.info/camera/view/193</tns:viewUrl><tns:mapx>35</tns:mapx><tns:mapy>207</tns:mapy></tns:camera><tns:camera><tns:id>194</tns:id><tns:name>SH20 5 Sandringham</tns:name><tns:description>Sandringham looking South</tns:description><tns:offline>false</tns:offline><tns:underMaintenance>false</tns:underMaintenance><tns:imageUrl>http://www.trafficnz.info/camera/194.jpg</tns:imageUrl><tns:viewUrl>http://www.trafficnz.info/camera/view/194</tns:viewUrl><tns:mapx>35</tns:mapx><tns:mapy>207</tns:mapy></tns:camera><tns:camera><tns:id>201</tns:id><tns:name>SH20 6 Gloucester Pk</tns:name><tns:description>Gloucester Park looking north</tns:description><tns:offline>false</tns:offline><tns:underMaintenance>false</tns:underMaintenance><tns:imageUrl>http://www.trafficnz.info/camera/201.jpg</tns:imageUrl><tns:viewUrl>http://www.trafficnz.info/camera/view/201</tns:viewUrl><tns:mapx>0</tns:mapx><tns:mapy>0</tns:mapy></tns:camera><tns:camera><tns:id>202</tns:id><tns:name>SH20 7 Onehunga</tns:name><tns:description>Onehunga wharf looking north</tns:description><tns:offline>false</tns:offline><tns:underMaintenance>false</tns:underMaintenance><tns:imageUrl>http://www.trafficnz.info/camera/202.jpg</tns:imageUrl><tns:viewUrl>http://www.trafficnz.info/camera/view/202</tns:viewUrl><tns:mapx>0</tns:mapx><tns:mapy>0</tns:mapy></tns:camera><tns:camera><tns:id>203</tns:id><tns:name>SH20 8 Rimu Rd</tns:name><tns:description>Rimu Rd looking north</tns:description><tns:offline>false</tns:offline><tns:underMaintenance>false</tns:underMaintenance><tns:imageUrl>http://www.trafficnz.info/camera/203.jpg</tns:imageUrl><tns:viewUrl>http://www.trafficnz.info/camera/view/203</tns:viewUrl><tns:mapx>0</tns:mapx><tns:mapy>0</tns:mapy></tns:camera><tns:camera><tns:id>204</tns:id><tns:name>SH20 9 Crawford Ave</tns:name><tns:description>Crawford Ave looking north</tns:description><tns:offline>false</tns:offline><tns:underMaintenance>false</tns:underMaintenance><tns:imageUrl>http://www.trafficnz.info/camera/204.jpg</tns:imageUrl><tns:viewUrl>http://www.trafficnz.info/camera/view/204</tns:viewUrl><tns:mapx>0</tns:mapx><tns:mapy>0</tns:mapy></tns:camera><tns:camera><tns:id>205</tns:id><tns:name>SH20 Coronation Rd</tns:name><tns:description>Coronation Rd looking east</tns:description><tns:offline>false</tns:offline><tns:underMaintenance>false</tns:underMaintenance><tns:imageUrl>http://www.trafficnz.info/camera/205.jpg</tns:imageUrl><tns:viewUrl>http://www.trafficnz.info/camera/view/205</tns:viewUrl><tns:mapx>0</tns:mapx><tns:mapy>0</tns:mapy></tns:camera><tns:camera><tns:id>206</tns:id><tns:name>SH20 11 Puhinui Rd</tns:name><tns:description>Puhinui road interchange looking south</tns:description><tns:offline>false</tns:offline><tns:underMaintenance>false</tns:underMaintenance><tns:imageUrl>http://www.trafficnz.info/camera/206.jpg</tns:imageUrl><tns:viewUrl>http://www.trafficnz.info/camera/view/206</tns:viewUrl><tns:mapx>0</tns:mapx><tns:mapy>0</tns:mapy></tns:camera><tns:camera><tns:id>207</tns:id><tns:name>SH20 12 Nesdale Road</tns:name><tns:description>Nesdale Rd looking east</tns:description><tns:offline>false</tns:offline><tns:underMaintenance>false</tns:underMaintenance><tns:imageUrl>http://www.trafficnz.info/camera/207.jpg</tns:imageUrl><tns:viewUrl>http://www.trafficnz.info/camera/view/207</tns:viewUrl><tns:mapx>0</tns:mapx><tns:mapy>0</tns:mapy></tns:camera><tns:camera><tns:id>208</tns:id><tns:name>SH20 13 Plunket Ave</tns:name><tns:description>Plunket Ave looking south</tns:description><tns:offline>false</tns:offline><tns:underMaintenance>false</tns:underMaintenance><tns:imageUrl>http://www.trafficnz.info/camera/208.jpg</tns:imageUrl><tns:viewUrl>http://www.trafficnz.info/camera/view/208</tns:viewUrl><tns:mapx>0</tns:mapx><tns:mapy>0</tns:mapy></tns:camera><tns:camera><tns:id>209</tns:id><tns:name>SH20 14 Lambie Drive</tns:name><tns:description>Lambie Drive looking south</tns:description><tns:offline>false</tns:offline><tns:underMaintenance>false</tns:underMaintenance><tns:imageUrl>http://www.trafficnz.info/camera/209.jpg</tns:imageUrl><tns:viewUrl>http://www.trafficnz.info/camera/view/209</tns:viewUrl><tns:mapx>0</tns:mapx><tns:mapy>0</tns:mapy></tns:camera><tns:camera><tns:id>210</tns:id><tns:name>SH20 15 Barrowcliffe</tns:name><tns:description>Barrowcliffe Place looking west</tns:description><tns:offline>false</tns:offline><tns:underMaintenance>false</tns:underMaintenance><tns:imageUrl>http://www.trafficnz.info/camera/210.jpg</tns:imageUrl><tns:viewUrl>http://www.trafficnz.info/camera/view/210</tns:viewUrl><tns:mapx>0</tns:mapx><tns:mapy>0</tns:mapy></tns:camera><tns:camera><tns:id>211</tns:id><tns:name>SH20 16 Great South</tns:name><tns:description>Great South Rd Looking westbound</tns:description><tns:offline>false</tns:offline><tns:underMaintenance>false</tns:underMaintenance><tns:imageUrl>http://www.trafficnz.info/camera/211.jpg</tns:imageUrl><tns:viewUrl>http://www.trafficnz.info/camera/view/211</tns:viewUrl><tns:mapx>0</tns:mapx><tns:mapy>0</tns:mapy></tns:camera></tns:getCamerasResponse>')"
     ],
     "language": "python",
     "metadata": {},
     "outputs": [],
     "prompt_number": 3
    },
    {
     "cell_type": "code",
     "collapsed": false,
     "input": [
      "oplinz = open('linkz', 'r')"
     ],
     "language": "python",
     "metadata": {},
     "outputs": [],
     "prompt_number": 11
    },
    {
     "cell_type": "code",
     "collapsed": false,
     "input": [
      "oplinz.read()"
     ],
     "language": "python",
     "metadata": {},
     "outputs": [
      {
       "output_type": "pyout",
       "prompt_number": 13,
       "text": [
        "''"
       ]
      }
     ],
     "prompt_number": 13
    },
    {
     "cell_type": "code",
     "collapsed": false,
     "input": [
      "datadict = xmltodict.parse(thexml)"
     ],
     "language": "python",
     "metadata": {},
     "outputs": [],
<<<<<<< HEAD
     "prompt_number": 14
=======
     "prompt_number": 4
>>>>>>> 18c1676a5e0215d214b60883f5083eb5eed844f7
    },
    {
     "cell_type": "code",
     "collapsed": false,
     "input": [
      "import geopy\n",
      "geoloc = geopy.geocoders.GoogleV3()"
     ],
     "language": "python",
     "metadata": {},
     "outputs": [],
<<<<<<< HEAD
     "prompt_number": 15
=======
     "prompt_number": 20
>>>>>>> 18c1676a5e0215d214b60883f5083eb5eed844f7
    },
    {
     "cell_type": "code",
     "collapsed": false,
     "input": [
      "import json\n",
      "\n",
      "#write the dictionary to a file\n",
      "outfile = open('linkz', 'w')\n",
      "json.dump(datadict, outfile)\n",
      "\n",
      "#read the data back in\n",
      "with open('linkz') as infile:\n",
      "    newDictionary = json.load(infile)"
     ],
     "language": "python",
     "metadata": {},
     "outputs": [],
<<<<<<< HEAD
     "prompt_number": 16
=======
     "prompt_number": 21
    },
    {
     "cell_type": "code",
     "collapsed": false,
     "input": [
      "savtran = open('/home/wcmckee/Desktop/brobeur-w/output/brobeur-static/feeds/aklmcam.json', 'w')"
     ],
     "language": "python",
     "metadata": {},
     "outputs": [],
     "prompt_number": 73
    },
    {
     "cell_type": "code",
     "collapsed": false,
     "input": [
      "savtran.write(str(newDictionary))"
     ],
     "language": "python",
     "metadata": {},
     "outputs": [],
     "prompt_number": 75
    },
    {
     "cell_type": "code",
     "collapsed": false,
     "input": [
      "newDictionary"
     ],
     "language": "python",
     "metadata": {},
     "outputs": [
      {
       "output_type": "pyout",
       "prompt_number": 69,
       "text": [
        "{u'tns:getCamerasResponse': {u'@xmlns:rem': u'http://remote.service.callcenter.nzta.govt.nz',\n",
        "  u'@xmlns:tns': u'https://infoconnect.highwayinfo.govt.nz/schemas/camera',\n",
        "  u'@xmlns:xsd': u'http://www.w3.org/2001/XMLSchema',\n",
        "  u'@xmlns:xsi': u'http://www.w3.org/2001/XMLSchema-instance',\n",
        "  u'tns:camera': [{u'tns:congestionLocation': [{u'tns:congestion': u'Free Flow',\n",
        "      u'tns:direction': u'Eastbound',\n",
        "      u'tns:name': u'St Lukes Rd - Newton Rd'},\n",
        "     {u'tns:congestion': u'Free Flow',\n",
        "      u'tns:direction': u'Westbound',\n",
        "      u'tns:name': u'Newton Rd - St Lukes Rd'}],\n",
        "    u'tns:description': u'Bond St looking east',\n",
        "    u'tns:id': u'130',\n",
        "    u'tns:imageUrl': u'http://www.trafficnz.info/camera/130.jpg',\n",
        "    u'tns:mapx': u'142',\n",
        "    u'tns:mapy': u'229',\n",
        "    u'tns:name': u'SH16 1 Bond St',\n",
        "    u'tns:offline': u'false',\n",
        "    u'tns:underMaintenance': u'false',\n",
        "    u'tns:viewUrl': u'http://www.trafficnz.info/camera/view/130'},\n",
        "   {u'tns:congestionLocation': [{u'tns:congestion': u'Free Flow',\n",
        "      u'tns:direction': u'Eastbound',\n",
        "      u'tns:name': u'Rosebank Rd - Great Nth Rd Waterview'},\n",
        "     {u'tns:congestion': u'Free Flow',\n",
        "      u'tns:direction': u'Westbound',\n",
        "      u'tns:name': u'Great Nth Rd Waterview - Rosebank Rd'}],\n",
        "    u'tns:description': u'Gt North Road looking west',\n",
        "    u'tns:id': u'140',\n",
        "    u'tns:imageUrl': u'http://www.trafficnz.info/camera/140.jpg',\n",
        "    u'tns:mapx': u'113',\n",
        "    u'tns:mapy': u'232',\n",
        "    u'tns:name': u'SH16 2 Gt North Rd',\n",
        "    u'tns:offline': u'false',\n",
        "    u'tns:underMaintenance': u'false',\n",
        "    u'tns:viewUrl': u'http://www.trafficnz.info/camera/view/140'},\n",
        "   {u'tns:congestionLocation': [{u'tns:congestion': u'Free Flow',\n",
        "      u'tns:direction': u'Eastbound',\n",
        "      u'tns:name': u'Te Atatu Rd - Rosebank Rd'},\n",
        "     {u'tns:congestion': u'Free Flow',\n",
        "      u'tns:direction': u'Westbound',\n",
        "      u'tns:name': u'Rosebank Rd - Te Atatu Rd'}],\n",
        "    u'tns:description': u'Te Atatu Road looking east',\n",
        "    u'tns:id': u'150',\n",
        "    u'tns:imageUrl': u'http://www.trafficnz.info/camera/150.jpg',\n",
        "    u'tns:mapx': u'70',\n",
        "    u'tns:mapy': u'216',\n",
        "    u'tns:name': u'SH16 3 Te Atatu Rd',\n",
        "    u'tns:offline': u'false',\n",
        "    u'tns:underMaintenance': u'false',\n",
        "    u'tns:viewUrl': u'http://www.trafficnz.info/camera/view/150'},\n",
        "   {u'tns:congestionLocation': [{u'tns:congestion': u'Free Flow',\n",
        "      u'tns:direction': u'Westbound',\n",
        "      u'tns:name': u'Te Atatu Rd - Lincoln Rd'},\n",
        "     {u'tns:congestion': u'Free Flow',\n",
        "      u'tns:direction': u'Eastbound',\n",
        "      u'tns:name': u'Lincoln Rd - Te Atatu Rd'}],\n",
        "    u'tns:description': u'Lincoln Rd  looking west',\n",
        "    u'tns:id': u'160',\n",
        "    u'tns:imageUrl': u'http://www.trafficnz.info/camera/160.jpg',\n",
        "    u'tns:mapx': u'52',\n",
        "    u'tns:mapy': u'207',\n",
        "    u'tns:name': u'SH16 4 Lincoln Rd E',\n",
        "    u'tns:offline': u'false',\n",
        "    u'tns:underMaintenance': u'false',\n",
        "    u'tns:viewUrl': u'http://www.trafficnz.info/camera/view/160'},\n",
        "   {u'tns:congestionLocation': [{u'tns:congestion': u'Free Flow',\n",
        "      u'tns:direction': u'Westbound',\n",
        "      u'tns:name': u'Lincoln Rd - Royal Rd'},\n",
        "     {u'tns:congestion': u'Free Flow',\n",
        "      u'tns:direction': u'Eastbound',\n",
        "      u'tns:name': u'Royal Rd - Lincoln Rd'}],\n",
        "    u'tns:description': u'Lincoln Rd looking east',\n",
        "    u'tns:id': u'170',\n",
        "    u'tns:imageUrl': u'http://www.trafficnz.info/camera/170.jpg',\n",
        "    u'tns:mapx': u'35',\n",
        "    u'tns:mapy': u'207',\n",
        "    u'tns:name': u'SH16 5 Lincoln Rd W',\n",
        "    u'tns:offline': u'false',\n",
        "    u'tns:underMaintenance': u'false',\n",
        "    u'tns:viewUrl': u'http://www.trafficnz.info/camera/view/170'},\n",
        "   {u'tns:description': u'Hobsonville looking West towards Kumeu',\n",
        "    u'tns:id': u'270',\n",
        "    u'tns:imageUrl': u'http://www.trafficnz.info/camera/270.jpg',\n",
        "    u'tns:mapx': u'0',\n",
        "    u'tns:mapy': u'0',\n",
        "    u'tns:name': u'SH16 6 Hobsonville W',\n",
        "    u'tns:offline': u'false',\n",
        "    u'tns:underMaintenance': u'false',\n",
        "    u'tns:viewUrl': u'http://www.trafficnz.info/camera/view/270'},\n",
        "   {u'tns:description': u'Hobsonville Road looking East',\n",
        "    u'tns:id': u'271',\n",
        "    u'tns:imageUrl': u'http://www.trafficnz.info/camera/271.jpg',\n",
        "    u'tns:mapx': u'0',\n",
        "    u'tns:mapy': u'0',\n",
        "    u'tns:name': u'SH16 7 Hobsonville E',\n",
        "    u'tns:offline': u'false',\n",
        "    u'tns:underMaintenance': u'false',\n",
        "    u'tns:viewUrl': u'http://www.trafficnz.info/camera/view/271'},\n",
        "   {u'tns:description': u'Trig Rd looking west',\n",
        "    u'tns:id': u'221',\n",
        "    u'tns:imageUrl': u'http://www.trafficnz.info/camera/221.jpg',\n",
        "    u'tns:mapx': u'0',\n",
        "    u'tns:mapy': u'0',\n",
        "    u'tns:name': u'SH18 Trig Rd',\n",
        "    u'tns:offline': u'false',\n",
        "    u'tns:underMaintenance': u'false',\n",
        "    u'tns:viewUrl': u'http://www.trafficnz.info/camera/view/221'},\n",
        "   {u'tns:description': u'Upper harbour motorway looking west',\n",
        "    u'tns:id': u'222',\n",
        "    u'tns:imageUrl': u'http://www.trafficnz.info/camera/222.jpg',\n",
        "    u'tns:mapx': u'0',\n",
        "    u'tns:mapy': u'0',\n",
        "    u'tns:name': u'SH18 Waiahora Creek',\n",
        "    u'tns:offline': u'false',\n",
        "    u'tns:underMaintenance': u'false',\n",
        "    u'tns:viewUrl': u'http://www.trafficnz.info/camera/view/222'},\n",
        "   {u'tns:description': u'Upper harbour motorway looking East',\n",
        "    u'tns:id': u'223',\n",
        "    u'tns:imageUrl': u'http://www.trafficnz.info/camera/223.jpg',\n",
        "    u'tns:mapx': u'0',\n",
        "    u'tns:mapy': u'0',\n",
        "    u'tns:name': u'SH18 Brigham Creek',\n",
        "    u'tns:offline': u'false',\n",
        "    u'tns:underMaintenance': u'false',\n",
        "    u'tns:viewUrl': u'http://www.trafficnz.info/camera/view/223'},\n",
        "   {u'tns:description': u'Upper harbour motorway looking west',\n",
        "    u'tns:id': u'224',\n",
        "    u'tns:imageUrl': u'http://www.trafficnz.info/camera/224.jpg',\n",
        "    u'tns:mapx': u'0',\n",
        "    u'tns:mapy': u'0',\n",
        "    u'tns:name': u'SH18 Sinton Rd',\n",
        "    u'tns:offline': u'false',\n",
        "    u'tns:underMaintenance': u'false',\n",
        "    u'tns:viewUrl': u'http://www.trafficnz.info/camera/view/224'},\n",
        "   {u'tns:description': u'Upper harbour motorway looking east',\n",
        "    u'tns:id': u'225',\n",
        "    u'tns:imageUrl': u'http://www.trafficnz.info/camera/225.jpg',\n",
        "    u'tns:mapx': u'0',\n",
        "    u'tns:mapy': u'0',\n",
        "    u'tns:name': u'SH18 Squadron Dr',\n",
        "    u'tns:offline': u'false',\n",
        "    u'tns:underMaintenance': u'false',\n",
        "    u'tns:viewUrl': u'http://www.trafficnz.info/camera/view/225'},\n",
        "   {u'tns:description': u'Tauhinu bridge looking east',\n",
        "    u'tns:id': u'171',\n",
        "    u'tns:imageUrl': u'http://www.trafficnz.info/camera/171.jpg',\n",
        "    u'tns:mapx': u'60',\n",
        "    u'tns:mapy': u'207',\n",
        "    u'tns:name': u'SH18 6 Tauhinu BRG',\n",
        "    u'tns:offline': u'false',\n",
        "    u'tns:underMaintenance': u'false',\n",
        "    u'tns:viewUrl': u'http://www.trafficnz.info/camera/view/171'},\n",
        "   {u'tns:description': u'Albany Highway Looking East',\n",
        "    u'tns:id': u'172',\n",
        "    u'tns:imageUrl': u'http://www.trafficnz.info/camera/172.jpg',\n",
        "    u'tns:mapx': u'35',\n",
        "    u'tns:mapy': u'207',\n",
        "    u'tns:name': u'SH18 7 Albany HWY',\n",
        "    u'tns:offline': u'false',\n",
        "    u'tns:underMaintenance': u'false',\n",
        "    u'tns:viewUrl': u'http://www.trafficnz.info/camera/view/172'},\n",
        "   {u'tns:description': u'Tauhinu East Looking East',\n",
        "    u'tns:id': u'173',\n",
        "    u'tns:imageUrl': u'http://www.trafficnz.info/camera/173.jpg',\n",
        "    u'tns:mapx': u'35',\n",
        "    u'tns:mapy': u'207',\n",
        "    u'tns:name': u'SH18 8 Tauhinu East',\n",
        "    u'tns:offline': u'false',\n",
        "    u'tns:underMaintenance': u'false',\n",
        "    u'tns:viewUrl': u'http://www.trafficnz.info/camera/view/173'},\n",
        "   {u'tns:description': u'Paul matthews looking east',\n",
        "    u'tns:id': u'174',\n",
        "    u'tns:imageUrl': u'http://www.trafficnz.info/camera/174.jpg',\n",
        "    u'tns:mapx': u'35',\n",
        "    u'tns:mapy': u'207',\n",
        "    u'tns:name': u'SH18 9 Paul Matthews',\n",
        "    u'tns:offline': u'false',\n",
        "    u'tns:underMaintenance': u'false',\n",
        "    u'tns:viewUrl': u'http://www.trafficnz.info/camera/view/174'},\n",
        "   {u'tns:description': u'Greenhithe Rd looking east',\n",
        "    u'tns:id': u'175',\n",
        "    u'tns:imageUrl': u'http://www.trafficnz.info/camera/175.jpg',\n",
        "    u'tns:mapx': u'35',\n",
        "    u'tns:mapy': u'207',\n",
        "    u'tns:name': u'SH18 10 Greenhithe',\n",
        "    u'tns:offline': u'false',\n",
        "    u'tns:underMaintenance': u'false',\n",
        "    u'tns:viewUrl': u'http://www.trafficnz.info/camera/view/175'},\n",
        "   {u'tns:description': u'George deane looking east',\n",
        "    u'tns:id': u'176',\n",
        "    u'tns:imageUrl': u'http://www.trafficnz.info/camera/176.jpg',\n",
        "    u'tns:mapx': u'35',\n",
        "    u'tns:mapy': u'207',\n",
        "    u'tns:name': u'SH18 11 George Deane',\n",
        "    u'tns:offline': u'false',\n",
        "    u'tns:underMaintenance': u'false',\n",
        "    u'tns:viewUrl': u'http://www.trafficnz.info/camera/view/176'},\n",
        "   {u'tns:description': u'Upper harbour looking east',\n",
        "    u'tns:id': u'177',\n",
        "    u'tns:imageUrl': u'http://www.trafficnz.info/camera/177.jpg',\n",
        "    u'tns:mapx': u'35',\n",
        "    u'tns:mapy': u'207',\n",
        "    u'tns:name': u'SH18 12 Upper Hbr CW',\n",
        "    u'tns:offline': u'false',\n",
        "    u'tns:underMaintenance': u'false',\n",
        "    u'tns:viewUrl': u'http://www.trafficnz.info/camera/view/177'},\n",
        "   {u'tns:description': u'Wicklam Lane looking west',\n",
        "    u'tns:id': u'178',\n",
        "    u'tns:imageUrl': u'http://www.trafficnz.info/camera/178.jpg',\n",
        "    u'tns:mapx': u'35',\n",
        "    u'tns:mapy': u'207',\n",
        "    u'tns:name': u'SH18 13 Wicklam Lane',\n",
        "    u'tns:offline': u'false',\n",
        "    u'tns:underMaintenance': u'false',\n",
        "    u'tns:viewUrl': u'http://www.trafficnz.info/camera/view/178'},\n",
        "   {u'tns:congestionLocation': [{u'tns:congestion': u'Free Flow',\n",
        "      u'tns:direction': u'Northbound',\n",
        "      u'tns:name': u'Upper Harb Hwy - Oteha Valley Rd'},\n",
        "     {u'tns:congestion': u'Free Flow',\n",
        "      u'tns:direction': u'Southbound',\n",
        "      u'tns:name': u'Oteha Valley Rd - Upper Harb Hwy'}],\n",
        "    u'tns:description': u'Greville road looking south',\n",
        "    u'tns:id': u'10',\n",
        "    u'tns:imageUrl': u'http://www.trafficnz.info/camera/10.jpg',\n",
        "    u'tns:mapx': u'125',\n",
        "    u'tns:mapy': u'71',\n",
        "    u'tns:name': u'SH1 1 Greville Rd',\n",
        "    u'tns:offline': u'false',\n",
        "    u'tns:underMaintenance': u'false',\n",
        "    u'tns:viewUrl': u'http://www.trafficnz.info/camera/view/10'},\n",
        "   {u'tns:congestionLocation': [{u'tns:congestion': u'Free Flow',\n",
        "      u'tns:direction': u'Southbound',\n",
        "      u'tns:name': u'Tristram Ave - Esmonde Rd'},\n",
        "     {u'tns:congestion': u'Free Flow',\n",
        "      u'tns:direction': u'Northbound',\n",
        "      u'tns:name': u'Esmonde Rd - Tristram Ave'}],\n",
        "    u'tns:description': u'Tristram Avenue looking south',\n",
        "    u'tns:id': u'20',\n",
        "    u'tns:imageUrl': u'http://www.trafficnz.info/camera/20.jpg',\n",
        "    u'tns:mapx': u'148',\n",
        "    u'tns:mapy': u'118',\n",
        "    u'tns:name': u'SH1 2 Tristram Ave',\n",
        "    u'tns:offline': u'false',\n",
        "    u'tns:underMaintenance': u'false',\n",
        "    u'tns:viewUrl': u'http://www.trafficnz.info/camera/view/20'},\n",
        "   {u'tns:congestionLocation': [{u'tns:congestion': u'Free Flow',\n",
        "      u'tns:direction': u'Southbound',\n",
        "      u'tns:name': u'Tristram Ave - Esmonde Rd'},\n",
        "     {u'tns:congestion': u'Free Flow',\n",
        "      u'tns:direction': u'Northbound',\n",
        "      u'tns:name': u'Esmonde Rd - Tristram Ave'}],\n",
        "    u'tns:description': u'Northcote Rd looking north',\n",
        "    u'tns:id': u'30',\n",
        "    u'tns:imageUrl': u'http://www.trafficnz.info/camera/30.jpg',\n",
        "    u'tns:mapx': u'156',\n",
        "    u'tns:mapy': u'141',\n",
        "    u'tns:name': u'SH1 3 Northcote Rd',\n",
        "    u'tns:offline': u'false',\n",
        "    u'tns:underMaintenance': u'false',\n",
        "    u'tns:viewUrl': u'http://www.trafficnz.info/camera/view/30'},\n",
        "   {u'tns:congestionLocation': [{u'tns:congestion': u'Free Flow',\n",
        "      u'tns:direction': u'Southbound',\n",
        "      u'tns:name': u'Esmonde Rd - Onewa'},\n",
        "     {u'tns:congestion': u'Free Flow',\n",
        "      u'tns:direction': u'Northbound',\n",
        "      u'tns:name': u'Stafford Rd - Esmonde Rd'}],\n",
        "    u'tns:description': u'Esmonde Rd looking south',\n",
        "    u'tns:id': u'40',\n",
        "    u'tns:imageUrl': u'http://www.trafficnz.info/camera/40.jpg',\n",
        "    u'tns:mapx': u'178',\n",
        "    u'tns:mapy': u'146',\n",
        "    u'tns:name': u'SH1 4 Esmonde Rd',\n",
        "    u'tns:offline': u'false',\n",
        "    u'tns:underMaintenance': u'false',\n",
        "    u'tns:viewUrl': u'http://www.trafficnz.info/camera/view/40'},\n",
        "   {u'tns:congestionLocation': [{u'tns:congestion': u'Free Flow',\n",
        "      u'tns:direction': u'Southbound',\n",
        "      u'tns:name': u'Harbour Bridge'},\n",
        "     {u'tns:congestion': u'Free Flow',\n",
        "      u'tns:direction': u'Northbound',\n",
        "      u'tns:name': u'Stafford Rd - Esmonde Rd'}],\n",
        "    u'tns:description': u'Onewa Rd looking south',\n",
        "    u'tns:id': u'50',\n",
        "    u'tns:imageUrl': u'http://www.trafficnz.info/camera/50.jpg',\n",
        "    u'tns:mapx': u'157',\n",
        "    u'tns:mapy': u'162',\n",
        "    u'tns:name': u'SH1 5 Onewa Rd',\n",
        "    u'tns:offline': u'false',\n",
        "    u'tns:underMaintenance': u'false',\n",
        "    u'tns:viewUrl': u'http://www.trafficnz.info/camera/view/50'},\n",
        "   {u'tns:description': u'Johnstone hill tunnels looking south',\n",
        "    u'tns:id': u'215',\n",
        "    u'tns:imageUrl': u'http://www.trafficnz.info/camera/215.jpg',\n",
        "    u'tns:mapx': u'0',\n",
        "    u'tns:mapy': u'0',\n",
        "    u'tns:name': u'SH1 Alpurt Web cam',\n",
        "    u'tns:offline': u'false',\n",
        "    u'tns:underMaintenance': u'false',\n",
        "    u'tns:viewUrl': u'http://www.trafficnz.info/camera/view/215'},\n",
        "   {u'tns:description': u'Goodwood heights looking south',\n",
        "    u'tns:id': u'212',\n",
        "    u'tns:imageUrl': u'http://www.trafficnz.info/camera/212.jpg',\n",
        "    u'tns:mapx': u'0',\n",
        "    u'tns:mapy': u'0',\n",
        "    u'tns:name': u'SH1 17 Goodwood',\n",
        "    u'tns:offline': u'false',\n",
        "    u'tns:underMaintenance': u'false',\n",
        "    u'tns:viewUrl': u'http://www.trafficnz.info/camera/view/212'},\n",
        "   {u'tns:description': u'Rainbows End looking north at SH1 and SH20 link',\n",
        "    u'tns:id': u'214',\n",
        "    u'tns:imageUrl': u'http://www.trafficnz.info/camera/214.jpg',\n",
        "    u'tns:mapx': u'0',\n",
        "    u'tns:mapy': u'0',\n",
        "    u'tns:name': u'SH1 18 Rainbows End',\n",
        "    u'tns:offline': u'false',\n",
        "    u'tns:underMaintenance': u'false',\n",
        "    u'tns:viewUrl': u'http://www.trafficnz.info/camera/view/214'},\n",
        "   {u'tns:congestionLocation': {u'tns:congestion': u'Free Flow',\n",
        "     u'tns:direction': u'Southbound',\n",
        "     u'tns:name': u'Nelson St - Gillies Ave'},\n",
        "    u'tns:description': u'Central motorway junction looking south at the link between state highways 1 and 16',\n",
        "    u'tns:id': u'60',\n",
        "    u'tns:imageUrl': u'http://www.trafficnz.info/camera/60.jpg',\n",
        "    u'tns:mapx': u'162',\n",
        "    u'tns:mapy': u'217',\n",
        "    u'tns:name': u'SH1 1 CMJ',\n",
        "    u'tns:offline': u'false',\n",
        "    u'tns:underMaintenance': u'false',\n",
        "    u'tns:viewUrl': u'http://www.trafficnz.info/camera/view/60'},\n",
        "   {u'tns:congestionLocation': [{u'tns:congestion': u'Free Flow',\n",
        "      u'tns:direction': u'Southbound',\n",
        "      u'tns:name': u'Gillies Ave - Greenlane'},\n",
        "     {u'tns:congestion': u'Free Flow',\n",
        "      u'tns:direction': u'Northbound',\n",
        "      u'tns:name': u'Greenlane - Gillies Ave'}],\n",
        "    u'tns:description': u'Southern motorway at newmarket looking south towards the Market  Rd overbridge',\n",
        "    u'tns:id': u'70',\n",
        "    u'tns:imageUrl': u'http://www.trafficnz.info/camera/70.jpg',\n",
        "    u'tns:mapx': u'183',\n",
        "    u'tns:mapy': u'241',\n",
        "    u'tns:name': u'SH1 2 Market Rd',\n",
        "    u'tns:offline': u'false',\n",
        "    u'tns:underMaintenance': u'false',\n",
        "    u'tns:viewUrl': u'http://www.trafficnz.info/camera/view/70'},\n",
        "   {u'tns:congestionLocation': [{u'tns:congestion': u'Free Flow',\n",
        "      u'tns:direction': u'Southbound',\n",
        "      u'tns:name': u'Gillies Ave - Greenlane'},\n",
        "     {u'tns:congestion': u'Free Flow',\n",
        "      u'tns:direction': u'Northbound',\n",
        "      u'tns:name': u'Greenlane - Gillies Ave'}],\n",
        "    u'tns:description': u'Greenlane Rd looking north',\n",
        "    u'tns:id': u'80',\n",
        "    u'tns:imageUrl': u'http://www.trafficnz.info/camera/80.jpg',\n",
        "    u'tns:mapx': u'198',\n",
        "    u'tns:mapy': u'262',\n",
        "    u'tns:name': u'SH1 3 Greenlane Rd',\n",
        "    u'tns:offline': u'false',\n",
        "    u'tns:underMaintenance': u'false',\n",
        "    u'tns:viewUrl': u'http://www.trafficnz.info/camera/view/80'},\n",
        "   {u'tns:congestionLocation': [{u'tns:congestion': u'Free Flow',\n",
        "      u'tns:direction': u'Northbound',\n",
        "      u'tns:name': u'Mt Wellington Hway - SE Highway'},\n",
        "     {u'tns:congestion': u'Moderate',\n",
        "      u'tns:direction': u'Southbound',\n",
        "      u'tns:name': u'SE Highway - Mt Wellington Hway'}],\n",
        "    u'tns:description': u'South eastern highway looking south',\n",
        "    u'tns:id': u'90',\n",
        "    u'tns:imageUrl': u'http://www.trafficnz.info/camera/90.jpg',\n",
        "    u'tns:mapx': u'219',\n",
        "    u'tns:mapy': u'278',\n",
        "    u'tns:name': u'SH1 4 SE Highway',\n",
        "    u'tns:offline': u'false',\n",
        "    u'tns:underMaintenance': u'false',\n",
        "    u'tns:viewUrl': u'http://www.trafficnz.info/camera/view/90'},\n",
        "   {u'tns:congestionLocation': [{u'tns:congestion': u'Free Flow',\n",
        "      u'tns:direction': u'Southbound',\n",
        "      u'tns:name': u'Redoubt Rd - Hill Rd'},\n",
        "     {u'tns:congestion': u'Free Flow',\n",
        "      u'tns:direction': u'Northbound',\n",
        "      u'tns:name': u'Hill Rd - Redoubt Rd'}],\n",
        "    u'tns:description': u'Redoubt Rd looking north',\n",
        "    u'tns:id': u'100',\n",
        "    u'tns:imageUrl': u'http://www.trafficnz.info/camera/100.jpg',\n",
        "    u'tns:mapx': u'254',\n",
        "    u'tns:mapy': u'341',\n",
        "    u'tns:name': u'SH1 5 Redoubt Rd',\n",
        "    u'tns:offline': u'false',\n",
        "    u'tns:underMaintenance': u'false',\n",
        "    u'tns:viewUrl': u'http://www.trafficnz.info/camera/view/100'},\n",
        "   {u'tns:congestionLocation': [{u'tns:congestion': u'Free Flow',\n",
        "      u'tns:direction': u'Northbound',\n",
        "      u'tns:name': u'East Tamaki Rd - Princes St'},\n",
        "     {u'tns:congestion': u'Free Flow',\n",
        "      u'tns:direction': u'Southbound',\n",
        "      u'tns:name': u'Princes St - East Tamaki Rd'}],\n",
        "    u'tns:description': u'Bairds Rd looking north',\n",
        "    u'tns:id': u'110',\n",
        "    u'tns:imageUrl': u'http://www.trafficnz.info/camera/110.jpg',\n",
        "    u'tns:mapx': u'275',\n",
        "    u'tns:mapy': u'383',\n",
        "    u'tns:name': u'SH1 6 Bairds Rd',\n",
        "    u'tns:offline': u'false',\n",
        "    u'tns:underMaintenance': u'false',\n",
        "    u'tns:viewUrl': u'http://www.trafficnz.info/camera/view/110'},\n",
        "   {u'tns:congestionLocation': [{u'tns:congestion': u'Free Flow',\n",
        "      u'tns:direction': u'Northbound',\n",
        "      u'tns:name': u'Takanini - Hill Rd'},\n",
        "     {u'tns:congestion': u'Free Flow',\n",
        "      u'tns:direction': u'Southbound',\n",
        "      u'tns:name': u'Hill Rd - Takanini'}],\n",
        "    u'tns:description': u'Alfriston Rd looking north',\n",
        "    u'tns:id': u'120',\n",
        "    u'tns:imageUrl': u'http://www.trafficnz.info/camera/120.jpg',\n",
        "    u'tns:mapx': u'291',\n",
        "    u'tns:mapy': u'411',\n",
        "    u'tns:name': u'SH1 7 Alfriston Rd',\n",
        "    u'tns:offline': u'false',\n",
        "    u'tns:underMaintenance': u'false',\n",
        "    u'tns:viewUrl': u'http://www.trafficnz.info/camera/view/120'},\n",
        "   {u'tns:description': u'Takanini looking south',\n",
        "    u'tns:id': u'121',\n",
        "    u'tns:imageUrl': u'http://www.trafficnz.info/camera/121.jpg',\n",
        "    u'tns:mapx': u'290',\n",
        "    u'tns:mapy': u'380',\n",
        "    u'tns:name': u'SH1 8 Takanini',\n",
        "    u'tns:offline': u'false',\n",
        "    u'tns:underMaintenance': u'false',\n",
        "    u'tns:viewUrl': u'http://www.trafficnz.info/camera/view/121'},\n",
        "   {u'tns:description': u'Walter-Strevens Drive looking south',\n",
        "    u'tns:id': u'122',\n",
        "    u'tns:imageUrl': u'http://www.trafficnz.info/camera/122.jpg',\n",
        "    u'tns:mapx': u'285',\n",
        "    u'tns:mapy': u'400',\n",
        "    u'tns:name': u'SH1 9 Walter Streven',\n",
        "    u'tns:offline': u'false',\n",
        "    u'tns:underMaintenance': u'false',\n",
        "    u'tns:viewUrl': u'http://www.trafficnz.info/camera/view/122'},\n",
        "   {u'tns:description': u'Pahurehure looking south',\n",
        "    u'tns:id': u'123',\n",
        "    u'tns:imageUrl': u'http://www.trafficnz.info/camera/123.jpg',\n",
        "    u'tns:mapx': u'265',\n",
        "    u'tns:mapy': u'410',\n",
        "    u'tns:name': u'SH1 10 Pahurehure',\n",
        "    u'tns:offline': u'false',\n",
        "    u'tns:underMaintenance': u'false',\n",
        "    u'tns:viewUrl': u'http://www.trafficnz.info/camera/view/123'},\n",
        "   {u'tns:description': u'Rushgreen Ave looking south',\n",
        "    u'tns:id': u'124',\n",
        "    u'tns:imageUrl': u'http://www.trafficnz.info/camera/124.jpg',\n",
        "    u'tns:mapx': u'285',\n",
        "    u'tns:mapy': u'420',\n",
        "    u'tns:name': u'SH1 11 Rushgreen Ave',\n",
        "    u'tns:offline': u'false',\n",
        "    u'tns:underMaintenance': u'false',\n",
        "    u'tns:viewUrl': u'http://www.trafficnz.info/camera/view/124'},\n",
        "   {u'tns:description': u'Park estate looking south',\n",
        "    u'tns:id': u'125',\n",
        "    u'tns:imageUrl': u'http://www.trafficnz.info/camera/125.jpg',\n",
        "    u'tns:mapx': u'300',\n",
        "    u'tns:mapy': u'430',\n",
        "    u'tns:name': u'SH1 12 Park Estate',\n",
        "    u'tns:offline': u'false',\n",
        "    u'tns:underMaintenance': u'false',\n",
        "    u'tns:viewUrl': u'http://www.trafficnz.info/camera/view/125'},\n",
        "   {u'tns:description': u'Slippery Creek looking  south',\n",
        "    u'tns:id': u'126',\n",
        "    u'tns:imageUrl': u'http://www.trafficnz.info/camera/126.jpg',\n",
        "    u'tns:mapx': u'286',\n",
        "    u'tns:mapy': u'445',\n",
        "    u'tns:name': u'SH1 13 Slippery Crk',\n",
        "    u'tns:offline': u'false',\n",
        "    u'tns:underMaintenance': u'false',\n",
        "    u'tns:viewUrl': u'http://www.trafficnz.info/camera/view/126'},\n",
        "   {u'tns:description': u'Montgomerie Rd looking east',\n",
        "    u'tns:id': u'274',\n",
        "    u'tns:imageUrl': u'http://www.trafficnz.info/camera/274.jpg',\n",
        "    u'tns:mapx': u'0',\n",
        "    u'tns:mapy': u'0',\n",
        "    u'tns:name': u'SH20A Montgomerie Rd',\n",
        "    u'tns:offline': u'false',\n",
        "    u'tns:underMaintenance': u'false',\n",
        "    u'tns:viewUrl': u'http://www.trafficnz.info/camera/view/274'},\n",
        "   {u'tns:description': u'Kirkbride Rd looking east',\n",
        "    u'tns:id': u'275',\n",
        "    u'tns:imageUrl': u'http://www.trafficnz.info/camera/275.jpg',\n",
        "    u'tns:mapx': u'0',\n",
        "    u'tns:mapy': u'0',\n",
        "    u'tns:name': u'SH20A Kirkbride Road',\n",
        "    u'tns:offline': u'false',\n",
        "    u'tns:underMaintenance': u'false',\n",
        "    u'tns:viewUrl': u'http://www.trafficnz.info/camera/view/275'},\n",
        "   {u'tns:description': u'Bader Drive looking east',\n",
        "    u'tns:id': u'276',\n",
        "    u'tns:imageUrl': u'http://www.trafficnz.info/camera/276.jpg',\n",
        "    u'tns:mapx': u'0',\n",
        "    u'tns:mapy': u'0',\n",
        "    u'tns:name': u'SH20A Bader Drive',\n",
        "    u'tns:offline': u'false',\n",
        "    u'tns:underMaintenance': u'false',\n",
        "    u'tns:viewUrl': u'http://www.trafficnz.info/camera/view/276'},\n",
        "   {u'tns:description': u'Prices Rd looking east',\n",
        "    u'tns:id': u'272',\n",
        "    u'tns:imageUrl': u'http://www.trafficnz.info/camera/272.jpg',\n",
        "    u'tns:mapx': u'0',\n",
        "    u'tns:mapy': u'0',\n",
        "    u'tns:name': u'SH20B Prices Road',\n",
        "    u'tns:offline': u'false',\n",
        "    u'tns:underMaintenance': u'false',\n",
        "    u'tns:viewUrl': u'http://www.trafficnz.info/camera/view/272'},\n",
        "   {u'tns:description': u'Waokauri Creek looking west',\n",
        "    u'tns:id': u'273',\n",
        "    u'tns:imageUrl': u'http://www.trafficnz.info/camera/273.jpg',\n",
        "    u'tns:mapx': u'0',\n",
        "    u'tns:mapy': u'0',\n",
        "    u'tns:name': u'SH20B Waokauri Creek',\n",
        "    u'tns:offline': u'false',\n",
        "    u'tns:underMaintenance': u'false',\n",
        "    u'tns:viewUrl': u'http://www.trafficnz.info/camera/view/273'},\n",
        "   {u'tns:description': u'Queenstown Rd looking south',\n",
        "    u'tns:id': u'190',\n",
        "    u'tns:imageUrl': u'http://www.trafficnz.info/camera/190.jpg',\n",
        "    u'tns:mapx': u'35',\n",
        "    u'tns:mapy': u'207',\n",
        "    u'tns:name': u'SH20 1 Queenstown Rd',\n",
        "    u'tns:offline': u'false',\n",
        "    u'tns:underMaintenance': u'false',\n",
        "    u'tns:viewUrl': u'http://www.trafficnz.info/camera/view/190'},\n",
        "   {u'tns:description': u'Hillsborough Rd looking south',\n",
        "    u'tns:id': u'191',\n",
        "    u'tns:imageUrl': u'http://www.trafficnz.info/camera/191.jpg',\n",
        "    u'tns:mapx': u'35',\n",
        "    u'tns:mapy': u'207',\n",
        "    u'tns:name': u'SH20 2 Hillsborough',\n",
        "    u'tns:offline': u'false',\n",
        "    u'tns:underMaintenance': u'false',\n",
        "    u'tns:viewUrl': u'http://www.trafficnz.info/camera/view/191'},\n",
        "   {u'tns:description': u'Melrose looking south',\n",
        "    u'tns:id': u'192',\n",
        "    u'tns:imageUrl': u'http://www.trafficnz.info/camera/192.jpg',\n",
        "    u'tns:mapx': u'35',\n",
        "    u'tns:mapy': u'207',\n",
        "    u'tns:name': u'SH20 3 Melrose',\n",
        "    u'tns:offline': u'false',\n",
        "    u'tns:underMaintenance': u'false',\n",
        "    u'tns:viewUrl': u'http://www.trafficnz.info/camera/view/192'},\n",
        "   {u'tns:description': u'Dominion Rd looking south',\n",
        "    u'tns:id': u'193',\n",
        "    u'tns:imageUrl': u'http://www.trafficnz.info/camera/193.jpg',\n",
        "    u'tns:mapx': u'35',\n",
        "    u'tns:mapy': u'207',\n",
        "    u'tns:name': u'SH20 4 Dominion Rd',\n",
        "    u'tns:offline': u'false',\n",
        "    u'tns:underMaintenance': u'false',\n",
        "    u'tns:viewUrl': u'http://www.trafficnz.info/camera/view/193'},\n",
        "   {u'tns:description': u'Sandringham looking South',\n",
        "    u'tns:id': u'194',\n",
        "    u'tns:imageUrl': u'http://www.trafficnz.info/camera/194.jpg',\n",
        "    u'tns:mapx': u'35',\n",
        "    u'tns:mapy': u'207',\n",
        "    u'tns:name': u'SH20 5 Sandringham',\n",
        "    u'tns:offline': u'false',\n",
        "    u'tns:underMaintenance': u'false',\n",
        "    u'tns:viewUrl': u'http://www.trafficnz.info/camera/view/194'},\n",
        "   {u'tns:description': u'Gloucester Park looking north',\n",
        "    u'tns:id': u'201',\n",
        "    u'tns:imageUrl': u'http://www.trafficnz.info/camera/201.jpg',\n",
        "    u'tns:mapx': u'0',\n",
        "    u'tns:mapy': u'0',\n",
        "    u'tns:name': u'SH20 6 Gloucester Pk',\n",
        "    u'tns:offline': u'false',\n",
        "    u'tns:underMaintenance': u'false',\n",
        "    u'tns:viewUrl': u'http://www.trafficnz.info/camera/view/201'},\n",
        "   {u'tns:description': u'Onehunga wharf looking north',\n",
        "    u'tns:id': u'202',\n",
        "    u'tns:imageUrl': u'http://www.trafficnz.info/camera/202.jpg',\n",
        "    u'tns:mapx': u'0',\n",
        "    u'tns:mapy': u'0',\n",
        "    u'tns:name': u'SH20 7 Onehunga',\n",
        "    u'tns:offline': u'false',\n",
        "    u'tns:underMaintenance': u'false',\n",
        "    u'tns:viewUrl': u'http://www.trafficnz.info/camera/view/202'},\n",
        "   {u'tns:description': u'Rimu Rd looking north',\n",
        "    u'tns:id': u'203',\n",
        "    u'tns:imageUrl': u'http://www.trafficnz.info/camera/203.jpg',\n",
        "    u'tns:mapx': u'0',\n",
        "    u'tns:mapy': u'0',\n",
        "    u'tns:name': u'SH20 8 Rimu Rd',\n",
        "    u'tns:offline': u'false',\n",
        "    u'tns:underMaintenance': u'false',\n",
        "    u'tns:viewUrl': u'http://www.trafficnz.info/camera/view/203'},\n",
        "   {u'tns:description': u'Crawford Ave looking north',\n",
        "    u'tns:id': u'204',\n",
        "    u'tns:imageUrl': u'http://www.trafficnz.info/camera/204.jpg',\n",
        "    u'tns:mapx': u'0',\n",
        "    u'tns:mapy': u'0',\n",
        "    u'tns:name': u'SH20 9 Crawford Ave',\n",
        "    u'tns:offline': u'false',\n",
        "    u'tns:underMaintenance': u'false',\n",
        "    u'tns:viewUrl': u'http://www.trafficnz.info/camera/view/204'},\n",
        "   {u'tns:description': u'Coronation Rd looking east',\n",
        "    u'tns:id': u'205',\n",
        "    u'tns:imageUrl': u'http://www.trafficnz.info/camera/205.jpg',\n",
        "    u'tns:mapx': u'0',\n",
        "    u'tns:mapy': u'0',\n",
        "    u'tns:name': u'SH20 Coronation Rd',\n",
        "    u'tns:offline': u'false',\n",
        "    u'tns:underMaintenance': u'false',\n",
        "    u'tns:viewUrl': u'http://www.trafficnz.info/camera/view/205'},\n",
        "   {u'tns:description': u'Puhinui road interchange looking south',\n",
        "    u'tns:id': u'206',\n",
        "    u'tns:imageUrl': u'http://www.trafficnz.info/camera/206.jpg',\n",
        "    u'tns:mapx': u'0',\n",
        "    u'tns:mapy': u'0',\n",
        "    u'tns:name': u'SH20 11 Puhinui Rd',\n",
        "    u'tns:offline': u'false',\n",
        "    u'tns:underMaintenance': u'false',\n",
        "    u'tns:viewUrl': u'http://www.trafficnz.info/camera/view/206'},\n",
        "   {u'tns:description': u'Nesdale Rd looking east',\n",
        "    u'tns:id': u'207',\n",
        "    u'tns:imageUrl': u'http://www.trafficnz.info/camera/207.jpg',\n",
        "    u'tns:mapx': u'0',\n",
        "    u'tns:mapy': u'0',\n",
        "    u'tns:name': u'SH20 12 Nesdale Road',\n",
        "    u'tns:offline': u'false',\n",
        "    u'tns:underMaintenance': u'false',\n",
        "    u'tns:viewUrl': u'http://www.trafficnz.info/camera/view/207'},\n",
        "   {u'tns:description': u'Plunket Ave looking south',\n",
        "    u'tns:id': u'208',\n",
        "    u'tns:imageUrl': u'http://www.trafficnz.info/camera/208.jpg',\n",
        "    u'tns:mapx': u'0',\n",
        "    u'tns:mapy': u'0',\n",
        "    u'tns:name': u'SH20 13 Plunket Ave',\n",
        "    u'tns:offline': u'false',\n",
        "    u'tns:underMaintenance': u'false',\n",
        "    u'tns:viewUrl': u'http://www.trafficnz.info/camera/view/208'},\n",
        "   {u'tns:description': u'Lambie Drive looking south',\n",
        "    u'tns:id': u'209',\n",
        "    u'tns:imageUrl': u'http://www.trafficnz.info/camera/209.jpg',\n",
        "    u'tns:mapx': u'0',\n",
        "    u'tns:mapy': u'0',\n",
        "    u'tns:name': u'SH20 14 Lambie Drive',\n",
        "    u'tns:offline': u'false',\n",
        "    u'tns:underMaintenance': u'false',\n",
        "    u'tns:viewUrl': u'http://www.trafficnz.info/camera/view/209'},\n",
        "   {u'tns:description': u'Barrowcliffe Place looking west',\n",
        "    u'tns:id': u'210',\n",
        "    u'tns:imageUrl': u'http://www.trafficnz.info/camera/210.jpg',\n",
        "    u'tns:mapx': u'0',\n",
        "    u'tns:mapy': u'0',\n",
        "    u'tns:name': u'SH20 15 Barrowcliffe',\n",
        "    u'tns:offline': u'false',\n",
        "    u'tns:underMaintenance': u'false',\n",
        "    u'tns:viewUrl': u'http://www.trafficnz.info/camera/view/210'},\n",
        "   {u'tns:description': u'Great South Rd Looking westbound',\n",
        "    u'tns:id': u'211',\n",
        "    u'tns:imageUrl': u'http://www.trafficnz.info/camera/211.jpg',\n",
        "    u'tns:mapx': u'0',\n",
        "    u'tns:mapy': u'0',\n",
        "    u'tns:name': u'SH20 16 Great South',\n",
        "    u'tns:offline': u'false',\n",
        "    u'tns:underMaintenance': u'false',\n",
        "    u'tns:viewUrl': u'http://www.trafficnz.info/camera/view/211'}]}}"
       ]
      }
     ],
     "prompt_number": 69
>>>>>>> 18c1676a5e0215d214b60883f5083eb5eed844f7
    },
    {
     "cell_type": "code",
     "collapsed": false,
     "input": [
      "althere = newDictionary[u'tns:getCamerasResponse']\n",
      "bthere = althere[u'tns:camera']"
     ],
     "language": "python",
     "metadata": {},
     "outputs": [],
<<<<<<< HEAD
     "prompt_number": 17
=======
     "prompt_number": 22
>>>>>>> 18c1676a5e0215d214b60883f5083eb5eed844f7
    },
    {
     "cell_type": "code",
     "collapsed": false,
     "input": [
      "neth = len(bthere)"
     ],
     "language": "python",
     "metadata": {},
     "outputs": [],
<<<<<<< HEAD
     "prompt_number": 18
=======
     "prompt_number": 23
>>>>>>> 18c1676a5e0215d214b60883f5083eb5eed844f7
    },
    {
     "cell_type": "code",
     "collapsed": false,
     "input": [
      "print neth"
     ],
     "language": "python",
     "metadata": {},
     "outputs": [
      {
       "output_type": "stream",
       "stream": "stdout",
       "text": [
        "62\n"
       ]
      }
     ],
<<<<<<< HEAD
     "prompt_number": 19
=======
     "prompt_number": 24
>>>>>>> 18c1676a5e0215d214b60883f5083eb5eed844f7
    },
    {
     "cell_type": "code",
     "collapsed": false,
     "input": [
      "import random"
     ],
     "language": "python",
     "metadata": {},
     "outputs": [],
<<<<<<< HEAD
     "prompt_number": 20
=======
     "prompt_number": 25
>>>>>>> 18c1676a5e0215d214b60883f5083eb5eed844f7
    },
    {
     "cell_type": "code",
     "collapsed": false,
     "input": [
      "theimgz = random.randint(0,neth)"
     ],
     "language": "python",
     "metadata": {},
     "outputs": [],
<<<<<<< HEAD
     "prompt_number": 45
=======
     "prompt_number": 26
>>>>>>> 18c1676a5e0215d214b60883f5083eb5eed844f7
    },
    {
     "cell_type": "code",
     "collapsed": false,
     "input": [
      "bth = bthere[theimgz]"
     ],
     "language": "python",
     "metadata": {},
     "outputs": [],
<<<<<<< HEAD
     "prompt_number": 46
=======
     "prompt_number": 27
>>>>>>> 18c1676a5e0215d214b60883f5083eb5eed844f7
    },
    {
     "cell_type": "code",
     "collapsed": false,
     "input": [
      "bthkey = bth.keys()"
     ],
     "language": "python",
     "metadata": {},
     "outputs": [],
<<<<<<< HEAD
     "prompt_number": 47
=======
     "prompt_number": 28
>>>>>>> 18c1676a5e0215d214b60883f5083eb5eed844f7
    },
    {
     "cell_type": "code",
     "collapsed": false,
     "input": [
      "sindat = []"
     ],
     "language": "python",
     "metadata": {},
     "outputs": [],
<<<<<<< HEAD
     "prompt_number": 48
=======
     "prompt_number": 29
>>>>>>> 18c1676a5e0215d214b60883f5083eb5eed844f7
    },
    {
     "cell_type": "code",
     "collapsed": false,
     "input": [
      "for kez in bthkey:\n",
      "    #print kez\n",
      "    print bth[kez]\n",
      "    sindat.append(bth[kez])\n",
      "    "
     ],
     "language": "python",
     "metadata": {},
     "outputs": [
      {
       "output_type": "stream",
       "stream": "stdout",
       "text": [
<<<<<<< HEAD
        "270\n",
        "http://www.trafficnz.info/camera/270.jpg\n",
        "http://www.trafficnz.info/camera/view/270\n",
        "Hobsonville looking West towards Kumeu\n",
        "0\n",
        "false\n",
        "false\n",
        "0\n",
        "SH16 6 Hobsonville W\n"
       ]
      }
     ],
     "prompt_number": 49
=======
        "177\n",
        "http://www.trafficnz.info/camera/177.jpg\n",
        "http://www.trafficnz.info/camera/view/177\n",
        "Upper harbour looking east\n",
        "35\n",
        "false\n",
        "false\n",
        "207\n",
        "SH18 12 Upper Hbr CW\n"
       ]
      }
     ],
     "prompt_number": 30
>>>>>>> 18c1676a5e0215d214b60883f5083eb5eed844f7
    },
    {
     "cell_type": "code",
     "collapsed": false,
     "input": [
      "sindat"
     ],
     "language": "python",
     "metadata": {},
     "outputs": [
      {
       "output_type": "pyout",
       "prompt_number": 50,
       "text": [
        "[u'270',\n",
        " u'http://www.trafficnz.info/camera/270.jpg',\n",
        " u'http://www.trafficnz.info/camera/view/270',\n",
        " u'Hobsonville looking West towards Kumeu',\n",
        " u'0',\n",
        " u'false',\n",
        " u'false',\n",
        " u'0',\n",
        " u'SH16 6 Hobsonville W']"
       ]
      }
     ],
     "prompt_number": 50
    },
    {
     "cell_type": "code",
     "collapsed": false,
     "input": [
      "idnum = sindat[0]"
     ],
     "language": "python",
     "metadata": {},
     "outputs": [],
<<<<<<< HEAD
     "prompt_number": 51
=======
     "prompt_number": 31
>>>>>>> 18c1676a5e0215d214b60883f5083eb5eed844f7
    },
    {
     "cell_type": "code",
     "collapsed": false,
     "input": [
      "print idnum"
     ],
     "language": "python",
     "metadata": {},
     "outputs": [
      {
<<<<<<< HEAD
       "output_type": "stream",
       "stream": "stdout",
       "text": [
        "270\n"
       ]
      }
     ],
     "prompt_number": 52
    },
    {
     "cell_type": "code",
     "collapsed": false,
     "input": [
      "topz = stad[0]"
     ],
     "language": "python",
     "metadata": {},
     "outputs": [],
     "prompt_number": 53
    },
    {
     "cell_type": "code",
     "collapsed": false,
     "input": [
      "snam = topz[0]"
     ],
     "language": "python",
     "metadata": {},
     "outputs": [],
     "prompt_number": 54
=======
       "ename": "KeyError",
       "evalue": "0",
       "output_type": "pyerr",
       "traceback": [
        "\u001b[1;31m---------------------------------------------------------------------------\u001b[0m\n\u001b[1;31mKeyError\u001b[0m                                  Traceback (most recent call last)",
        "\u001b[1;32m<ipython-input-32-af5dba46ecf1>\u001b[0m in \u001b[0;36m<module>\u001b[1;34m()\u001b[0m\n\u001b[1;32m----> 1\u001b[1;33m \u001b[0msnam\u001b[0m \u001b[1;33m=\u001b[0m \u001b[0mtopz\u001b[0m\u001b[1;33m[\u001b[0m\u001b[1;36m0\u001b[0m\u001b[1;33m]\u001b[0m\u001b[1;33m\u001b[0m\u001b[0m\n\u001b[0m",
        "\u001b[1;31mKeyError\u001b[0m: 0"
       ]
      }
     ],
     "prompt_number": 32
>>>>>>> 18c1676a5e0215d214b60883f5083eb5eed844f7
    },
    {
     "cell_type": "code",
     "collapsed": false,
     "input": [
      "jpgcam = sindat[1]\n",
      "numcam = sindat[0]\n",
      "addyo = sindat[3]\n",
      "addyi = sindat[8]\n",
      "stad = sindat[7]\n",
      "\n",
      "faddy = stad + ' new zealand'\n",
      "jnacam = numcam + '.jpg'\n",
      "print faddy"
     ],
     "language": "python",
     "metadata": {},
     "outputs": [
      {
       "output_type": "stream",
       "stream": "stdout",
       "text": [
        "207 new zealand\n"
       ]
      }
     ],
<<<<<<< HEAD
     "prompt_number": 55
=======
     "prompt_number": 33
>>>>>>> 18c1676a5e0215d214b60883f5083eb5eed844f7
    },
    {
     "cell_type": "code",
     "collapsed": false,
     "input": [
      "stad[0]"
     ],
     "language": "python",
     "metadata": {},
     "outputs": [
      {
       "output_type": "pyout",
<<<<<<< HEAD
       "prompt_number": 56,
=======
       "prompt_number": 34,
>>>>>>> 18c1676a5e0215d214b60883f5083eb5eed844f7
       "text": [
        "u'2'"
       ]
      }
     ],
<<<<<<< HEAD
     "prompt_number": 56
=======
     "prompt_number": 34
>>>>>>> 18c1676a5e0215d214b60883f5083eb5eed844f7
    },
    {
     "cell_type": "code",
     "collapsed": false,
     "input": [
      "address = geoloc.geocode(faddy)"
     ],
     "language": "python",
     "metadata": {},
     "outputs": [],
<<<<<<< HEAD
     "prompt_number": 57
=======
     "prompt_number": 35
>>>>>>> 18c1676a5e0215d214b60883f5083eb5eed844f7
    },
    {
     "cell_type": "code",
     "collapsed": false,
     "input": [
      "print address"
     ],
     "language": "python",
     "metadata": {},
     "outputs": [
      {
       "output_type": "stream",
       "stream": "stdout",
       "text": [
        "207, Northland, New Zealand\n"
       ]
      }
     ],
<<<<<<< HEAD
     "prompt_number": 58
=======
     "prompt_number": 36
>>>>>>> 18c1676a5e0215d214b60883f5083eb5eed844f7
    },
    {
     "cell_type": "code",
     "collapsed": false,
     "input": [
      "address.raw"
     ],
     "language": "python",
     "metadata": {},
     "outputs": [
      {
       "output_type": "pyout",
<<<<<<< HEAD
       "prompt_number": 59,
=======
       "prompt_number": 37,
>>>>>>> 18c1676a5e0215d214b60883f5083eb5eed844f7
       "text": [
        "{u'address_components': [{u'long_name': u'207',\n",
        "   u'short_name': u'207',\n",
        "   u'types': [u'natural_feature', u'establishment']},\n",
        "  {u'long_name': u'Northland',\n",
        "   u'short_name': u'Northland',\n",
        "   u'types': [u'administrative_area_level_1', u'political']},\n",
        "  {u'long_name': u'New Zealand',\n",
        "   u'short_name': u'NZ',\n",
        "   u'types': [u'country', u'political']}],\n",
        " u'formatted_address': u'207, Northland, New Zealand',\n",
        " u'geometry': {u'location': {u'lat': -34.1753466, u'lng': 172.0697594},\n",
        "  u'location_type': u'APPROXIMATE',\n",
        "  u'viewport': {u'northeast': {u'lat': -34.1661148, u'lng': 172.0857668},\n",
        "   u'southwest': {u'lat': -34.1845773, u'lng': 172.053752}}},\n",
        " u'types': [u'natural_feature', u'establishment']}"
       ]
      }
     ],
<<<<<<< HEAD
     "prompt_number": 59
=======
     "prompt_number": 37
>>>>>>> 18c1676a5e0215d214b60883f5083eb5eed844f7
    },
    {
     "cell_type": "code",
     "collapsed": false,
     "input": [
      "bthere[0]"
     ],
     "language": "python",
     "metadata": {},
     "outputs": [
      {
       "output_type": "pyout",
<<<<<<< HEAD
       "prompt_number": 60,
=======
       "prompt_number": 38,
>>>>>>> 18c1676a5e0215d214b60883f5083eb5eed844f7
       "text": [
        "{u'tns:congestionLocation': [{u'tns:congestion': u'Free Flow',\n",
        "   u'tns:direction': u'Eastbound',\n",
        "   u'tns:name': u'St Lukes Rd - Newton Rd'},\n",
        "  {u'tns:congestion': u'Free Flow',\n",
        "   u'tns:direction': u'Westbound',\n",
        "   u'tns:name': u'Newton Rd - St Lukes Rd'}],\n",
        " u'tns:description': u'Bond St looking east',\n",
        " u'tns:id': u'130',\n",
        " u'tns:imageUrl': u'http://www.trafficnz.info/camera/130.jpg',\n",
        " u'tns:mapx': u'142',\n",
        " u'tns:mapy': u'229',\n",
        " u'tns:name': u'SH16 1 Bond St',\n",
        " u'tns:offline': u'false',\n",
        " u'tns:underMaintenance': u'false',\n",
        " u'tns:viewUrl': u'http://www.trafficnz.info/camera/view/130'}"
       ]
      }
     ],
<<<<<<< HEAD
     "prompt_number": 60
=======
     "prompt_number": 38
>>>>>>> 18c1676a5e0215d214b60883f5083eb5eed844f7
    },
    {
     "cell_type": "code",
     "collapsed": false,
     "input": [
      "import requests"
     ],
     "language": "python",
     "metadata": {},
     "outputs": [],
<<<<<<< HEAD
     "prompt_number": 61
=======
     "prompt_number": 39
>>>>>>> 18c1676a5e0215d214b60883f5083eb5eed844f7
    },
    {
     "cell_type": "code",
     "collapsed": false,
     "input": [
      "import os"
     ],
     "language": "python",
     "metadata": {},
     "outputs": [],
<<<<<<< HEAD
     "prompt_number": 62
=======
     "prompt_number": 40
>>>>>>> 18c1676a5e0215d214b60883f5083eb5eed844f7
    },
    {
     "cell_type": "code",
     "collapsed": false,
     "input": [
      "pwd"
     ],
     "language": "python",
     "metadata": {},
<<<<<<< HEAD
     "outputs": [],
     "prompt_number": 63
=======
     "outputs": [
      {
       "output_type": "pyout",
       "prompt_number": 59,
       "text": [
        "u'/home/wcmckee/Desktop/artcontrol-api'"
       ]
      }
     ],
     "prompt_number": 59
    },
    {
     "cell_type": "code",
     "collapsed": false,
     "input": [
      "os.mkdir('home/wcmckee/Desktop/highwaypiz')"
     ],
     "language": "python",
     "metadata": {},
     "outputs": [
      {
       "ename": "OSError",
       "evalue": "[Errno 2] No such file or directory: 'home/wcmckee/Desktop/highwaypiz'",
       "output_type": "pyerr",
       "traceback": [
        "\u001b[1;31m---------------------------------------------------------------------------\u001b[0m\n\u001b[1;31mOSError\u001b[0m                                   Traceback (most recent call last)",
        "\u001b[1;32m<ipython-input-60-c5e94eae17ca>\u001b[0m in \u001b[0;36m<module>\u001b[1;34m()\u001b[0m\n\u001b[1;32m----> 1\u001b[1;33m \u001b[0mos\u001b[0m\u001b[1;33m.\u001b[0m\u001b[0mmkdir\u001b[0m\u001b[1;33m(\u001b[0m\u001b[1;34m'home/wcmckee/Desktop/highwaypiz'\u001b[0m\u001b[1;33m)\u001b[0m\u001b[1;33m\u001b[0m\u001b[0m\n\u001b[0m",
        "\u001b[1;31mOSError\u001b[0m: [Errno 2] No such file or directory: 'home/wcmckee/Desktop/highwaypiz'"
       ]
      }
     ],
     "prompt_number": 60
    },
    {
     "cell_type": "code",
     "collapsed": false,
     "input": [
      "os.chdir('/home/wcmckee/Desktop/highwaypiz')"
     ],
     "language": "python",
     "metadata": {},
     "outputs": [
      {
       "ename": "OSError",
       "evalue": "[Errno 2] No such file or directory: '/home/wcmckee/Desktop/highwaypiz'",
       "output_type": "pyerr",
       "traceback": [
        "\u001b[1;31m---------------------------------------------------------------------------\u001b[0m\n\u001b[1;31mOSError\u001b[0m                                   Traceback (most recent call last)",
        "\u001b[1;32m<ipython-input-61-88cf1915413b>\u001b[0m in \u001b[0;36m<module>\u001b[1;34m()\u001b[0m\n\u001b[1;32m----> 1\u001b[1;33m \u001b[0mos\u001b[0m\u001b[1;33m.\u001b[0m\u001b[0mchdir\u001b[0m\u001b[1;33m(\u001b[0m\u001b[1;34m'/home/wcmckee/Desktop/highwaypiz'\u001b[0m\u001b[1;33m)\u001b[0m\u001b[1;33m\u001b[0m\u001b[0m\n\u001b[0m",
        "\u001b[1;31mOSError\u001b[0m: [Errno 2] No such file or directory: '/home/wcmckee/Desktop/highwaypiz'"
       ]
      }
     ],
     "prompt_number": 61
>>>>>>> 18c1676a5e0215d214b60883f5083eb5eed844f7
    },
    {
     "cell_type": "code",
     "collapsed": false,
     "input": [
      "with open(jnacam, 'wb') as handle:\n",
      "    response = requests.get(jpgcam, stream=True)\n",
      "\n",
      "    for block in response.iter_content(1024):\n",
      "        if not block:\n",
      "            break\n",
      "        handle.write(block)\n"
     ],
     "language": "python",
     "metadata": {},
     "outputs": [],
<<<<<<< HEAD
     "prompt_number": 64
=======
     "prompt_number": 62
>>>>>>> 18c1676a5e0215d214b60883f5083eb5eed844f7
    },
    {
     "cell_type": "code",
     "collapsed": false,
     "input": [
      "from IPython.display import Image \n",
      "    \n",
      "Image(filename=jnacam)"
     ],
     "language": "python",
     "metadata": {},
     "outputs": [
      {
<<<<<<< HEAD
       "jpeg": "/9j/4AAQSkZJRgABAgAAAQABAAD/2wBDAAgGBgcGBQgHBwcJCQgKDBQNDAsLDBkSEw8UHRofHh0a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\nADmgAc7uhyee+c/n1oxkcYJJ7/5xQyIQSAcDOaYBhCcYxwenWgD/2Q==\n",
       "output_type": "pyout",
       "prompt_number": 65,
       "text": [
        "<IPython.core.display.Image at 0x3543490>"
       ]
      }
     ],
     "prompt_number": 65
=======
       "ename": "ImportError",
       "evalue": "cannot import name _safe_get_formatter_method",
       "output_type": "pyerr",
       "traceback": [
        "\u001b[1;31m---------------------------------------------------------------------------\u001b[0m\n\u001b[1;31mImportError\u001b[0m                               Traceback (most recent call last)",
        "\u001b[1;32m<ipython-input-63-a3811f1e6aae>\u001b[0m in \u001b[0;36m<module>\u001b[1;34m()\u001b[0m\n\u001b[1;32m----> 1\u001b[1;33m \u001b[1;32mfrom\u001b[0m \u001b[0mIPython\u001b[0m\u001b[1;33m.\u001b[0m\u001b[0mdisplay\u001b[0m \u001b[1;32mimport\u001b[0m \u001b[0mImage\u001b[0m\u001b[1;33m\u001b[0m\u001b[0m\n\u001b[0m\u001b[0;32m      2\u001b[0m \u001b[1;33m\u001b[0m\u001b[0m\n\u001b[0;32m      3\u001b[0m \u001b[0mImage\u001b[0m\u001b[1;33m(\u001b[0m\u001b[0mfilename\u001b[0m\u001b[1;33m=\u001b[0m\u001b[0mjnacam\u001b[0m\u001b[1;33m)\u001b[0m\u001b[1;33m\u001b[0m\u001b[0m\n",
        "\u001b[1;32m/usr/lib/python2.7/site-packages/IPython/display.py\u001b[0m in \u001b[0;36m<module>\u001b[1;34m()\u001b[0m\n\u001b[0;32m     13\u001b[0m \u001b[1;31m#-----------------------------------------------------------------------------\u001b[0m\u001b[1;33m\u001b[0m\u001b[1;33m\u001b[0m\u001b[0m\n\u001b[0;32m     14\u001b[0m \u001b[1;33m\u001b[0m\u001b[0m\n\u001b[1;32m---> 15\u001b[1;33m \u001b[1;32mfrom\u001b[0m \u001b[0mIPython\u001b[0m\u001b[1;33m.\u001b[0m\u001b[0mcore\u001b[0m\u001b[1;33m.\u001b[0m\u001b[0mdisplay\u001b[0m \u001b[1;32mimport\u001b[0m \u001b[1;33m*\u001b[0m\u001b[1;33m\u001b[0m\u001b[0m\n\u001b[0m\u001b[0;32m     16\u001b[0m \u001b[1;32mfrom\u001b[0m \u001b[0mIPython\u001b[0m\u001b[1;33m.\u001b[0m\u001b[0mlib\u001b[0m\u001b[1;33m.\u001b[0m\u001b[0mdisplay\u001b[0m \u001b[1;32mimport\u001b[0m \u001b[1;33m*\u001b[0m\u001b[1;33m\u001b[0m\u001b[0m\n",
        "\u001b[1;32m/usr/lib/python2.7/site-packages/IPython/core/display.py\u001b[0m in \u001b[0;36m<module>\u001b[1;34m()\u001b[0m\n\u001b[0;32m     23\u001b[0m \u001b[1;32mimport\u001b[0m \u001b[0mstruct\u001b[0m\u001b[1;33m\u001b[0m\u001b[0m\n\u001b[0;32m     24\u001b[0m \u001b[1;33m\u001b[0m\u001b[0m\n\u001b[1;32m---> 25\u001b[1;33m \u001b[1;32mfrom\u001b[0m \u001b[0mIPython\u001b[0m\u001b[1;33m.\u001b[0m\u001b[0mcore\u001b[0m\u001b[1;33m.\u001b[0m\u001b[0mformatters\u001b[0m \u001b[1;32mimport\u001b[0m \u001b[0m_safe_get_formatter_method\u001b[0m\u001b[1;33m\u001b[0m\u001b[0m\n\u001b[0m\u001b[0;32m     26\u001b[0m from IPython.utils.py3compat import (string_types, cast_bytes_py2, cast_unicode,\n\u001b[0;32m     27\u001b[0m                                      unicode_type)\n",
        "\u001b[1;31mImportError\u001b[0m: cannot import name _safe_get_formatter_method"
       ]
      }
     ],
     "prompt_number": 63
>>>>>>> 18c1676a5e0215d214b60883f5083eb5eed844f7
    },
    {
     "cell_type": "code",
     "collapsed": false,
     "input": [
      "print jpgcam"
     ],
     "language": "python",
     "metadata": {},
     "outputs": [
      {
       "output_type": "stream",
       "stream": "stdout",
       "text": [
<<<<<<< HEAD
        "http://www.trafficnz.info/camera/212.jpg\n"
       ]
      }
     ],
     "prompt_number": 39
    },
    {
     "cell_type": "code",
     "collapsed": false,
     "input": [
      "opstatic = requests.get('https://raw.githubusercontent.com/wcmckee/brobeur-static/master/index.html')"
     ],
     "language": "python",
     "metadata": {},
     "outputs": [],
     "prompt_number": 112
    },
    {
     "cell_type": "code",
     "collapsed": false,
     "input": [
      "blehstat = opstatic.text"
     ],
     "language": "python",
     "metadata": {},
     "outputs": [],
     "prompt_number": 113
    },
    {
     "cell_type": "code",
     "collapsed": false,
     "input": [
      "import BeautifulSoup"
     ],
     "language": "python",
     "metadata": {},
     "outputs": [],
     "prompt_number": 114
    },
    {
     "cell_type": "code",
     "collapsed": false,
     "input": [
      "soupz = BeautifulSoup.BeautifulSoup(blehstat)"
     ],
     "language": "python",
     "metadata": {},
     "outputs": [],
     "prompt_number": 116
    },
    {
     "cell_type": "code",
     "collapsed": false,
     "input": [
      "newta = soupz.a"
     ],
     "language": "python",
     "metadata": {},
     "outputs": [],
     "prompt_number": 117
    },
    {
     "cell_type": "code",
     "collapsed": false,
     "input": [
      "newta"
     ],
     "language": "python",
     "metadata": {},
     "outputs": [
      {
       "output_type": "pyout",
       "prompt_number": 118,
       "text": [
        "<a href=\"/\">BroBeur Studios</a>"
       ]
      }
     ],
     "prompt_number": 118
    },
    {
     "cell_type": "code",
     "collapsed": false,
     "input": [
      "soupz.h2"
     ],
     "language": "python",
     "metadata": {},
     "outputs": [
      {
       "output_type": "pyout",
       "prompt_number": 119,
       "text": [
        "<h2><a href=\"#pages\">Pages</a></h2>"
       ]
      }
     ],
     "prompt_number": 119
    },
    {
     "cell_type": "code",
     "collapsed": false,
     "input": [
      "incimg = ('<img src=\"' + jpgcam + '\" alt=\"Smiley face\" width=\"250\" height=\"200\">')"
     ],
     "language": "python",
     "metadata": {},
     "outputs": [],
     "prompt_number": 128
    },
    {
     "cell_type": "code",
     "collapsed": false,
     "input": [
      "soupz.h2.replaceWith(incimg)"
     ],
     "language": "python",
     "metadata": {},
     "outputs": [],
     "prompt_number": 129
    },
    {
     "cell_type": "code",
     "collapsed": false,
     "input": [
      "print soupz"
     ],
     "language": "python",
     "metadata": {},
     "outputs": [
      {
       "output_type": "stream",
       "stream": "stdout",
       "text": [
        "<!DOCTYPE html>\n",
        "<html lang=\"en\">\n",
        "<head>\n",
        "<meta charset=\"utf-8\" />\n",
        "<title>BroBeur Studios</title>\n",
        "<link rel=\"stylesheet\" href=\"/theme/css/main.css\" />\n",
        "<link href=\"/feeds/all.atom.xml\" type=\"application/atom+xml\" rel=\"alternate\" title=\"A Pelican Blog Atom Feed\" />\n",
        "<!--[if IE]&gt;\n",
        "            &lt;script src=\"http://html5shiv.googlecode.com/svn/trunk/html5.js\"&gt;&lt;/script&gt;\n",
        "        &lt;![endif]-->\n",
        "</head>\n",
        "<body id=\"index\" class=\"home\">\n",
        "<header id=\"banner\" class=\"body\">\n",
        "<img src=\"/imgs/bro.png\" alt=\"brobeur\" width=\"800\" height=\"180\" />\n",
        "<h1><a href=\"/\">BroBeur Studios</a></h1>\n",
        "<nav><ul>\n",
        "</ul></nav>\n",
        "</header><!-- /#banner -->\n",
        "<section id=\"content\" class=\"body\">\n",
        "test!&lt;img src=\"http://www.trafficnz.info/camera/270.jpg\" alt=\"Smiley face\" width=\"250\" height=\"200\"&gt;&lt;<h2>Contact</h2>\n",
        "<img src=\"imgs/party.png\" alt=\"party moon nightmare\" width=\"300\" height=\"186\" />\n",
        "</section>\n",
        "<section id=\"extras\" class=\"body\">\n",
        "<div class=\"social\">\n",
        "<h2>xml feeds</h2>\n",
        "<ul>\n",
        "<li><a href=\"/feeds/all.atom.xml\" type=\"application/atom+xml\" rel=\"alternate\">atom feed</a></li>\n",
        "</ul>\n",
        "</div><!-- /.social -->\n",
        "</section><!-- /#extras -->\n",
        "</body>\n",
        "</html>\n",
        "\n"
       ]
      }
     ],
     "prompt_number": 130
    },
    {
     "cell_type": "code",
     "collapsed": false,
     "input": [
      "brohtm = opstatic.text"
     ],
     "language": "python",
     "metadata": {},
     "outputs": [],
     "prompt_number": 85
=======
        "http://www.trafficnz.info/camera/177.jpg\n"
       ]
      }
     ],
     "prompt_number": 64
>>>>>>> 18c1676a5e0215d214b60883f5083eb5eed844f7
    },
    {
     "cell_type": "code",
     "collapsed": false,
     "input": [
      "ls"
     ],
     "language": "python",
     "metadata": {},
     "outputs": [
      {
       "output_type": "stream",
       "stream": "stdout",
       "text": [
<<<<<<< HEAD
        "\u001b[0m\u001b[38;5;13m121.jpg\u001b[0m  \u001b[38;5;13m170.jpg\u001b[0m  \u001b[38;5;13m223.jpg\u001b[0m  \u001b[38;5;13m273.jpg\u001b[0m  linkz\r\n",
        "\u001b[38;5;13m130.jpg\u001b[0m  \u001b[38;5;13m212.jpg\u001b[0m  \u001b[38;5;13m270.jpg\u001b[0m  \u001b[38;5;13m274.jpg\u001b[0m  lorde\r\n"
       ]
      }
     ],
     "prompt_number": 86
=======
        "\u001b[0m\u001b[38;5;13m120.jpg\u001b[0m                                ipython_log.py       README.md\r\n",
        "\u001b[38;5;13m121.jpg\u001b[0m                                ipython_log.py.001~  redTube.ipynb\r\n",
        "\u001b[38;5;13m177.jpg\u001b[0m                                ipython_log.py.002~  redTube.py\r\n",
        "\u001b[38;5;13m178.jpg\u001b[0m                                LICENSE              result\r\n",
        "\u001b[38;5;13m211.jpg\u001b[0m                                linkz                salecus.ipynb\r\n",
        "\u001b[38;5;13m222.jpg\u001b[0m                                myfile.txt           salecus.py\r\n",
        "\u001b[38;5;13m223.jpg\u001b[0m                                notesforpymeetup.py  savPrn\r\n",
        "artcontrol.ipynb                       prnsav               testing123\r\n",
        "artcontrolme.wordpress.2014-02-10.xml  pyblen.py            tlchome.html\r\n",
        "artcontrol.py                          pynztacam.ipynb      tlc.ipynb\r\n",
        "config                                 pynztacam.py         tlc.py\r\n",
        "dhcpd.leases                           pyssh.ipynb          tpb.ipynb\r\n",
        "dh.ipynb                               pyssh.py             Untitled0.ipynb\r\n",
        "dh.py                                  pywgit.ipynb         uploads.html\r\n",
        "example.xls                            pywgit.py\r\n",
        "home.html                              pywgitz.py\r\n"
       ]
      }
     ],
     "prompt_number": 65
>>>>>>> 18c1676a5e0215d214b60883f5083eb5eed844f7
    },
    {
     "cell_type": "code",
     "collapsed": false,
     "input": [
      "import PIL"
     ],
     "language": "python",
     "metadata": {},
     "outputs": [],
     "prompt_number": 66
    },
    {
     "cell_type": "code",
     "collapsed": false,
     "input": [
      "from PIL import Image, ImageFilter, ImageEnhance, ImageChops, ImageColor"
     ],
     "language": "python",
     "metadata": {},
     "outputs": [],
     "prompt_number": 67
    },
    {
     "cell_type": "code",
     "collapsed": false,
     "input": [
      "imx = Image.open('130.jpg')"
     ],
     "language": "python",
     "metadata": {},
     "outputs": [
      {
       "ename": "IOError",
       "evalue": "[Errno 2] No such file or directory: '130.jpg'",
       "output_type": "pyerr",
       "traceback": [
        "\u001b[1;31m---------------------------------------------------------------------------\u001b[0m\n\u001b[1;31mIOError\u001b[0m                                   Traceback (most recent call last)",
        "\u001b[1;32m<ipython-input-68-b325e18ff4c4>\u001b[0m in \u001b[0;36m<module>\u001b[1;34m()\u001b[0m\n\u001b[1;32m----> 1\u001b[1;33m \u001b[0mimx\u001b[0m \u001b[1;33m=\u001b[0m \u001b[0mImage\u001b[0m\u001b[1;33m.\u001b[0m\u001b[0mopen\u001b[0m\u001b[1;33m(\u001b[0m\u001b[1;34m'130.jpg'\u001b[0m\u001b[1;33m)\u001b[0m\u001b[1;33m\u001b[0m\u001b[0m\n\u001b[0m",
        "\u001b[1;32m/usr/lib64/python2.7/site-packages/PIL/Image.pyc\u001b[0m in \u001b[0;36mopen\u001b[1;34m(fp, mode)\u001b[0m\n\u001b[0;32m   1996\u001b[0m     \u001b[1;32mif\u001b[0m \u001b[0misStringType\u001b[0m\u001b[1;33m(\u001b[0m\u001b[0mfp\u001b[0m\u001b[1;33m)\u001b[0m\u001b[1;33m:\u001b[0m\u001b[1;33m\u001b[0m\u001b[0m\n\u001b[0;32m   1997\u001b[0m         \u001b[0mfilename\u001b[0m \u001b[1;33m=\u001b[0m \u001b[0mfp\u001b[0m\u001b[1;33m\u001b[0m\u001b[0m\n\u001b[1;32m-> 1998\u001b[1;33m         \u001b[0mfp\u001b[0m \u001b[1;33m=\u001b[0m \u001b[0mbuiltins\u001b[0m\u001b[1;33m.\u001b[0m\u001b[0mopen\u001b[0m\u001b[1;33m(\u001b[0m\u001b[0mfp\u001b[0m\u001b[1;33m,\u001b[0m \u001b[1;34m\"rb\"\u001b[0m\u001b[1;33m)\u001b[0m\u001b[1;33m\u001b[0m\u001b[0m\n\u001b[0m\u001b[0;32m   1999\u001b[0m     \u001b[1;32melse\u001b[0m\u001b[1;33m:\u001b[0m\u001b[1;33m\u001b[0m\u001b[0m\n\u001b[0;32m   2000\u001b[0m         \u001b[0mfilename\u001b[0m \u001b[1;33m=\u001b[0m \u001b[1;34m\"\"\u001b[0m\u001b[1;33m\u001b[0m\u001b[0m\n",
        "\u001b[1;31mIOError\u001b[0m: [Errno 2] No such file or directory: '130.jpg'"
       ]
      }
     ],
     "prompt_number": 68
    },
    {
     "cell_type": "code",
     "collapsed": false,
     "input": [],
     "language": "python",
     "metadata": {},
     "outputs": [],
     "prompt_number": 48
    },
    {
     "cell_type": "code",
     "collapsed": false,
     "input": [
      "im = Image.open('121.jpg')"
     ],
     "language": "python",
     "metadata": {},
     "outputs": [],
     "prompt_number": 49
    },
    {
     "cell_type": "code",
     "collapsed": false,
     "input": [
      "imx.show()"
     ],
     "language": "python",
     "metadata": {},
     "outputs": [
      {
       "ename": "NameError",
       "evalue": "name 'imx' is not defined",
       "output_type": "pyerr",
       "traceback": [
        "\u001b[1;31m---------------------------------------------------------------------------\u001b[0m\n\u001b[1;31mNameError\u001b[0m                                 Traceback (most recent call last)",
        "\u001b[1;32m<ipython-input-50-1e83809a843f>\u001b[0m in \u001b[0;36m<module>\u001b[1;34m()\u001b[0m\n\u001b[1;32m----> 1\u001b[1;33m \u001b[0mimx\u001b[0m\u001b[1;33m.\u001b[0m\u001b[0mshow\u001b[0m\u001b[1;33m(\u001b[0m\u001b[1;33m)\u001b[0m\u001b[1;33m\u001b[0m\u001b[0m\n\u001b[0m",
        "\u001b[1;31mNameError\u001b[0m: name 'imx' is not defined"
       ]
      }
     ],
     "prompt_number": 50
    },
    {
     "cell_type": "code",
     "collapsed": false,
     "input": [
      "imresiz = imx.resize((512, 512))"
     ],
     "language": "python",
     "metadata": {},
     "outputs": [],
     "prompt_number": 506
    },
    {
     "cell_type": "code",
     "collapsed": false,
     "input": [
      "izresiz = im.resize((512, 512))"
     ],
     "language": "python",
     "metadata": {},
     "outputs": [],
     "prompt_number": 507
    },
    {
     "cell_type": "code",
     "collapsed": false,
     "input": [
      "izresiz.show()"
     ],
     "language": "python",
     "metadata": {},
     "outputs": [],
     "prompt_number": 489
    },
    {
     "cell_type": "code",
     "collapsed": false,
     "input": [
      "imresiz.show()"
     ],
     "language": "python",
     "metadata": {},
     "outputs": [],
     "prompt_number": 487
    },
    {
     "cell_type": "code",
     "collapsed": false,
     "input": [
      "im.size"
     ],
     "language": "python",
     "metadata": {},
     "outputs": [
      {
       "output_type": "pyout",
       "prompt_number": 508,
       "text": [
        "(352, 240)"
       ]
      }
     ],
     "prompt_number": 508
    },
    {
     "cell_type": "code",
     "collapsed": false,
     "input": [
      "imx.size"
     ],
     "language": "python",
     "metadata": {},
     "outputs": [
      {
       "output_type": "pyout",
       "prompt_number": 509,
       "text": [
        "(704, 576)"
       ]
      }
     ],
     "prompt_number": 509
    },
    {
     "cell_type": "code",
     "collapsed": false,
     "input": [
      "pilspi = im.split()"
     ],
     "language": "python",
     "metadata": {},
     "outputs": [],
     "prompt_number": 510
    },
    {
     "cell_type": "code",
     "collapsed": false,
     "input": [
      "for otwo in pilspi:\n",
      "    print otwo.show\n",
      "    otwo.show()"
     ],
     "language": "python",
     "metadata": {},
     "outputs": [
      {
       "output_type": "stream",
       "stream": "stdout",
       "text": [
        "<bound method Image.show of <PIL.Image.Image image mode=L size=352x240 at 0x3549758>>\n",
        "<bound method Image.show of <PIL.Image.Image image mode=L size=352x240 at 0x3549710>>"
       ]
      },
      {
       "output_type": "stream",
       "stream": "stdout",
       "text": [
        "\n",
        "<bound method Image.show of <PIL.Image.Image image mode=L size=352x240 at 0x3549368>>\n"
       ]
      }
     ],
     "prompt_number": 511
    },
    {
     "cell_type": "code",
     "collapsed": false,
     "input": [
      "otwo.show()"
     ],
     "language": "python",
     "metadata": {},
     "outputs": [],
     "prompt_number": 473
    },
    {
     "cell_type": "code",
     "collapsed": false,
     "input": [
      "iz = ImageEnhance.Contrast(im)"
     ],
     "language": "python",
     "metadata": {},
     "outputs": [],
     "prompt_number": 474
    },
    {
     "cell_type": "code",
     "collapsed": false,
     "input": [
      "iz.enhance(1.10).show()"
     ],
     "language": "python",
     "metadata": {},
     "outputs": [],
     "prompt_number": 475
    },
    {
     "cell_type": "code",
     "collapsed": false,
     "input": [
      "im.show()"
     ],
     "language": "python",
     "metadata": {},
     "outputs": [],
     "prompt_number": 461
    },
    {
     "cell_type": "code",
     "collapsed": false,
     "input": [
      "imz = ImageChops.difference(izresiz, imresiz)"
     ],
     "language": "python",
     "metadata": {},
     "outputs": [],
     "prompt_number": 490
    },
    {
     "cell_type": "code",
     "collapsed": false,
     "input": [
      "imz.show()"
     ],
     "language": "python",
     "metadata": {},
     "outputs": [],
     "prompt_number": 491
    },
    {
     "cell_type": "code",
     "collapsed": false,
     "input": [
      "inb = ImageChops.subtract(izresiz, imz)"
     ],
     "language": "python",
     "metadata": {},
     "outputs": [],
     "prompt_number": 492
    },
    {
     "cell_type": "code",
     "collapsed": false,
     "input": [
      "incv = ImageChops.darker(inb, izresiz)"
     ],
     "language": "python",
     "metadata": {},
     "outputs": [],
     "prompt_number": 499
    },
    {
     "cell_type": "code",
     "collapsed": false,
     "input": [
      "incv.show()"
     ],
     "language": "python",
     "metadata": {},
     "outputs": [],
     "prompt_number": 500
    },
    {
     "cell_type": "code",
     "collapsed": false,
     "input": [
      "incv.mode"
     ],
     "language": "python",
     "metadata": {},
     "outputs": [
      {
       "output_type": "pyout",
       "prompt_number": 501,
       "text": [
        "'RGB'"
       ]
      }
     ],
     "prompt_number": 501
    },
    {
     "cell_type": "code",
     "collapsed": false,
     "input": [
      "inzx = incv.getcolors(12)"
     ],
     "language": "python",
     "metadata": {},
     "outputs": [],
     "prompt_number": 515
    },
    {
     "cell_type": "code",
     "collapsed": false,
     "input": [
      "inzx."
     ],
     "language": "python",
     "metadata": {},
     "outputs": [
      {
       "ename": "SyntaxError",
       "evalue": "invalid syntax (<ipython-input-518-1e973386cac6>, line 1)",
       "output_type": "pyerr",
       "traceback": [
        "\u001b[1;36m  File \u001b[1;32m\"<ipython-input-518-1e973386cac6>\"\u001b[1;36m, line \u001b[1;32m1\u001b[0m\n\u001b[1;33m    inzx.\u001b[0m\n\u001b[1;37m         ^\u001b[0m\n\u001b[1;31mSyntaxError\u001b[0m\u001b[1;31m:\u001b[0m invalid syntax\n"
       ]
      }
     ],
     "prompt_number": 518
    },
    {
     "cell_type": "code",
     "collapsed": false,
     "input": [
      "inb.show()"
     ],
     "language": "python",
     "metadata": {},
     "outputs": [],
     "prompt_number": 493
    },
    {
     "cell_type": "code",
     "collapsed": false,
     "input": [
      "%%bash\n",
      "curl -k -H \"username: williammckee\" -H \"password: J3e6t8q5y2\" -o linkz https://infoconnect1.highwayinfo.govt.nz/ic/jbi/TrafficConditions2/REST/FeedService/?wsdl"
     ],
     "language": "python",
     "metadata": {},
     "outputs": [
      {
       "output_type": "stream",
       "stream": "stderr",
       "text": [
        "  % Total    % Received % Xferd  Average Speed   Time    Time     Time  Current\n",
        "                                 Dload  Upload   Total   Spent    Left  Speed\n",
        "\r",
        "  0     0    0     0    0     0      0      0 --:--:-- --:--:-- --:--:--     0\r",
        "  0     0    0     0    0     0      0      0 --:--:-- --:--:-- --:--:--     0\r",
        "100 28422    0 28422    0     0  31210      0 --:--:-- --:--:-- --:--:-- 31198\n"
       ]
      }
     ],
     "prompt_number": 519
    },
    {
     "cell_type": "code",
     "collapsed": false,
     "input": [
      "%%bash\n",
      "curl -k -H \"username: williammckee\" -H \"password: J3e6t8q5y2\" -o linkz https://infoconnect1.highwayinfo.govt.nz/ic/jbi/VariableMessageSigns2/REST/FeedService/?wsdl"
     ],
     "language": "python",
     "metadata": {},
     "outputs": [
      {
       "output_type": "stream",
       "stream": "stderr",
       "text": [
        "  % Total    % Received % Xferd  Average Speed   Time    Time     Time  Current\n",
        "                                 Dload  Upload   Total   Spent    Left  Speed\n",
        "\r",
        "  0     0    0     0    0     0      0      0 --:--:-- --:--:-- --:--:--     0\r",
        "100   165    0   165    0     0    265      0 --:--:-- --:--:-- --:--:--   266\n"
       ]
      }
     ],
     "prompt_number": 522
    },
    {
     "cell_type": "code",
     "collapsed": false,
     "input": [
      "opzli = open('linkz', 'r')"
     ],
     "language": "python",
     "metadata": {},
     "outputs": [],
     "prompt_number": 88
    },
    {
     "cell_type": "code",
     "collapsed": false,
     "input": [
      "opzli.read()"
     ],
     "language": "python",
     "metadata": {},
     "outputs": [
      {
       "output_type": "pyout",
       "prompt_number": 89,
       "text": [
        "\"<?xml version='1.0' encoding='UTF-8'?><Fault><faultcode>Server</faultcode><faultstring>You are not authorised to access the requested resource.</faultstring></Fault>\""
       ]
      }
     ],
     "prompt_number": 89
    },
    {
     "cell_type": "code",
     "collapsed": false,
     "input": [
      "import pylast"
     ],
     "language": "python",
     "metadata": {},
     "outputs": [],
     "prompt_number": 527
    },
    {
     "cell_type": "code",
     "collapsed": false,
     "input": [
      "password_hash = pylast.md5(passworz)\n",
      "network = pylast.LastFMNetwork(API_KEY, api_secret =\n",
      "API_SECRET, username=username, password_hash=password_hash)"
     ],
     "language": "python",
     "metadata": {},
     "outputs": [],
     "prompt_number": 529
    },
    {
     "cell_type": "code",
     "collapsed": false,
     "input": [
      "artLord = 'lorde'"
     ],
     "language": "python",
     "metadata": {},
     "outputs": [],
     "prompt_number": 532
    },
    {
     "cell_type": "code",
     "collapsed": false,
     "input": [
      "artist = network.get_artist(artLord)"
     ],
     "language": "python",
     "metadata": {},
     "outputs": [],
     "prompt_number": 533
    },
    {
     "cell_type": "code",
     "collapsed": false,
     "input": [
      "artist.get_bio_content()"
     ],
     "language": "python",
     "metadata": {},
     "outputs": [
      {
       "output_type": "pyout",
       "prompt_number": 539,
       "text": [
        "u''"
       ]
      }
     ],
     "prompt_number": 539
    },
    {
     "cell_type": "code",
     "collapsed": false,
     "input": [
      "hercov = artist.get_cover_image()"
     ],
     "language": "python",
     "metadata": {},
     "outputs": [],
     "prompt_number": 541
    },
    {
     "cell_type": "code",
     "collapsed": false,
     "input": [
      "Image(filename=hercov)"
     ],
     "language": "python",
     "metadata": {},
     "outputs": [
      {
       "ename": "TypeError",
       "evalue": "'module' object is not callable",
       "output_type": "pyerr",
       "traceback": [
        "\u001b[1;31m---------------------------------------------------------------------------\u001b[0m\n\u001b[1;31mTypeError\u001b[0m                                 Traceback (most recent call last)",
        "\u001b[1;32m<ipython-input-544-8b0ccdd95cd1>\u001b[0m in \u001b[0;36m<module>\u001b[1;34m()\u001b[0m\n\u001b[1;32m----> 1\u001b[1;33m \u001b[0mImage\u001b[0m\u001b[1;33m(\u001b[0m\u001b[0mfilename\u001b[0m\u001b[1;33m=\u001b[0m\u001b[0mhercov\u001b[0m\u001b[1;33m)\u001b[0m\u001b[1;33m\u001b[0m\u001b[0m\n\u001b[0m",
        "\u001b[1;31mTypeError\u001b[0m: 'module' object is not callable"
       ]
      }
     ],
     "prompt_number": 544
    },
    {
     "cell_type": "code",
     "collapsed": false,
     "input": [
      "with open('lorde', 'wb') as handle:\n",
      "    response = requests.get(hercov, stream=True)\n",
      "\n",
      "    for block in response.iter_content(1024):\n",
      "        if not block:\n",
      "            break\n",
      "        handle.write(block)"
     ],
     "language": "python",
     "metadata": {},
     "outputs": [],
     "prompt_number": 546
    },
    {
     "cell_type": "code",
     "collapsed": false,
     "input": [
      "pwd"
     ],
     "language": "python",
     "metadata": {},
     "outputs": [
      {
       "output_type": "pyout",
       "prompt_number": 550,
       "text": [
        "u'/home/will/Desktop/highwaypiz'"
       ]
      }
     ],
     "prompt_number": 550
    },
    {
     "cell_type": "code",
     "collapsed": false,
     "input": [
      "artist.get_cover_image()"
     ],
     "language": "python",
     "metadata": {},
     "outputs": [
      {
       "output_type": "pyout",
       "prompt_number": 540,
       "text": [
        "u'http://userserve-ak.last.fm/serve/_/97285461/Lorde+PNG.png'"
       ]
      }
     ],
     "prompt_number": 540
    },
    {
     "cell_type": "code",
     "collapsed": false,
     "input": [
      "Image(filename='lorde')"
     ],
     "language": "python",
     "metadata": {},
     "outputs": [
      {
       "ename": "TypeError",
       "evalue": "'module' object is not callable",
       "output_type": "pyerr",
       "traceback": [
        "\u001b[1;31m---------------------------------------------------------------------------\u001b[0m\n\u001b[1;31mTypeError\u001b[0m                                 Traceback (most recent call last)",
        "\u001b[1;32m<ipython-input-549-cab19ed4ba85>\u001b[0m in \u001b[0;36m<module>\u001b[1;34m()\u001b[0m\n\u001b[1;32m----> 1\u001b[1;33m \u001b[0mImage\u001b[0m\u001b[1;33m(\u001b[0m\u001b[0mfilename\u001b[0m\u001b[1;33m=\u001b[0m\u001b[1;34m'lorde'\u001b[0m\u001b[1;33m)\u001b[0m\u001b[1;33m\u001b[0m\u001b[0m\n\u001b[0m",
        "\u001b[1;31mTypeError\u001b[0m: 'module' object is not callable"
       ]
      }
     ],
     "prompt_number": 549
    },
    {
     "cell_type": "code",
     "collapsed": false,
     "input": [
      "artist.get_bio_content"
     ],
     "language": "python",
     "metadata": {},
     "outputs": [
      {
       "output_type": "pyout",
       "prompt_number": 536,
       "text": [
        "<bound method Artist.get_bio_content of pylast.Artist('lorde', pylast.LastFMNetwork('917060f2353e4ad89224f2295e146ddf', '9407d29e78647abbc1bc440d94aa1f70', '8f59f42472508b10d337a6ae069ca0a5', 'galf666', '02854afb05227c613afda7d9e5303a9f'))>"
       ]
      }
     ],
     "prompt_number": 536
    },
    {
     "cell_type": "code",
     "collapsed": false,
     "input": [
      "'''\n",
      "Created on 6/12/2012\n",
      " \n",
      "@author: Will\n",
      "'''\n",
      "import pylast\n",
      "import pprint\n",
      "#from subprocess import Popen\n",
      "\n",
      "password_hash = pylast.md5(passworz)\n",
      " \n",
      "network = pylast.LastFMNetwork(API_KEY, api_secret =\n",
      "API_SECRET, username=username, password_hash=password_hash)\n",
      " \n",
      "#arti = input(\"Enter the artist name: \")\n",
      " \n",
      "artLord = input('Artist: ')\n",
      "artist = network.get_artist(artLord)\n",
      " \n",
      "#album = network.get_album(artist)\n",
      " \n",
      " \n",
      "artBio = artist.get_bio_content()\n",
      "#pprint.pprint(artBio)\n",
      "#artSimilar = artist.get_similar(20)\n",
      "#artSimilar = str(artSimilar)\n",
      "#pprint.pprint(artSimilar)\n",
      " \n",
      "artImage = artist.get_cover_image(size=4)\n",
      "#pprint.pprint(artImage)\n",
      "#Popen([\"firefox\", artImage])\n",
      " \n",
      "#artDefulat = artist.get_top_albums()\n",
      "#artDefalat = str(artDefulat)\n",
      "#pprint.pprint(artDefulat)\n",
      " \n",
      "artPower = artist.get_bio_summary()\n",
      "artPower = str(artPower)\n",
      "#pprint.pprint(artPower)\n",
      " \n",
      " \n",
      " \n",
      "doc = open('LastData', 'w')\n",
      "doc.write('<h2><b>')\n",
      "doc.write(artLord)\n",
      "doc.write('</h2></b>')\n",
      "#doc.write(artBio)\n",
      "doc.write('Breaking News: ')\n",
      "#doc.write(artPower)\n",
      "doc.write(' - ')\n",
      "#doc.write(artDefalat)\n",
      "doc.write('<img class=\\\"aligncenter\\\" alt=\\\"\\\" src =\\\"')\n",
      "doc.write(artImage)\n",
      "doc.write('\\\" width=\\\"60\\\" height=\\\"30\\\" />')\n",
      "#doc.write(artSimilar)\n",
      "doc.close"
     ],
     "language": "python",
     "metadata": {},
     "outputs": []
    }
   ],
   "metadata": {}
  }
 ]
}