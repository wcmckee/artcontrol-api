{
 "metadata": {
  "name": "",
  "signature": "sha256:4d056e8ed4d519682de5dd5564310f0ceb8b452ceb4915d35de43022af1b2966"
 },
 "nbformat": 3,
 "nbformat_minor": 0,
 "worksheets": [
  {
   "cells": [
    {
     "cell_type": "code",
     "collapsed": false,
     "input": [
      "# Taking off from where I had left off! Lists and Tuples"
     ],
     "language": "python",
     "metadata": {},
     "outputs": [],
     "prompt_number": 1
    },
    {
     "cell_type": "code",
     "collapsed": false,
     "input": [
      "# First list"
     ],
     "language": "python",
     "metadata": {},
     "outputs": [],
     "prompt_number": 2
    },
    {
     "cell_type": "code",
     "collapsed": false,
     "input": [
      "values = ['python', 'c' , 'java']\n",
      "\n",
      "values = values[-3]\n",
      "print(values.title())"
     ],
     "language": "python",
     "metadata": {},
     "outputs": [
      {
       "output_type": "stream",
       "stream": "stdout",
       "text": [
        "Python\n"
       ]
      }
     ],
     "prompt_number": 6
    },
    {
     "cell_type": "code",
     "collapsed": false,
     "input": [
      "values = ['python' , 'c' , 'java']\n",
      "values = values[-1]\n",
      "print(values.title())"
     ],
     "language": "python",
     "metadata": {},
     "outputs": [
      {
       "output_type": "stream",
       "stream": "stdout",
       "text": [
        "Java\n"
       ]
      }
     ],
     "prompt_number": 14
    },
    {
     "cell_type": "code",
     "collapsed": false,
     "input": [
      "values = ['python' , 'c' , 'java']\n",
      "values = values[-2]\n",
      "print(values.title())"
     ],
     "language": "python",
     "metadata": {},
     "outputs": [
      {
       "output_type": "stream",
       "stream": "stdout",
       "text": [
        "C\n"
       ]
      }
     ],
     "prompt_number": 16
    },
    {
     "cell_type": "code",
     "collapsed": false,
     "input": [
      "values =['python' , 'c' , 'java']\n",
      "values = values[-3]\n",
      "print(values.title())"
     ],
     "language": "python",
     "metadata": {},
     "outputs": [
      {
       "output_type": "stream",
       "stream": "stdout",
       "text": [
        "Python\n"
       ]
      }
     ],
     "prompt_number": 18
    },
    {
     "cell_type": "code",
     "collapsed": false,
     "input": [
      "#Creating an empty list - and then using it!"
     ],
     "language": "python",
     "metadata": {},
     "outputs": [],
     "prompt_number": 19
    },
    {
     "cell_type": "code",
     "collapsed": false,
     "input": [
      "usernames = []\n",
      "\n",
      "# then adding some users\n",
      "usernames.append( 'peter')\n",
      "usernames.append('mary')\n",
      "usernames.append('roderick')\n",
      "usernames.append('claire')\n",
      "usernames.append('paul')\n",
      "\n",
      "#Greet all of our users\n",
      "for username in usernames:\n",
      "    print(\"Welcome, \" + username.title()+ '!')"
     ],
     "language": "python",
     "metadata": {},
     "outputs": [
      {
       "output_type": "stream",
       "stream": "stdout",
       "text": [
        "Welcome, Peter!\n",
        "Welcome, Mary!\n",
        "Welcome, Roderick!\n",
        "Welcome, Claire!\n",
        "Welcome, Paul!\n"
       ]
      }
     ],
     "prompt_number": 23
    },
    {
     "cell_type": "code",
     "collapsed": false,
     "input": [],
     "language": "python",
     "metadata": {},
     "outputs": []
    }
   ],
   "metadata": {}
  }
 ]
}