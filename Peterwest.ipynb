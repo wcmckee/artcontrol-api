{
 "metadata": {
  "name": "",
  "signature": "sha256:d193ad66f48fd11421aedec4239bda5dcfdd67da841a23623df76cfebc53e82e"
 },
 "nbformat": 3,
 "nbformat_minor": 0,
 "worksheets": [
  {
   "cells": [
    {
     "cell_type": "code",
     "collapsed": false,
     "input": [
      "# First list"
     ],
     "language": "python",
     "metadata": {},
     "outputs": [],
     "prompt_number": 2
    },
    {
     "cell_type": "code",
     "collapsed": false,
     "input": [
      "# Taking off from where I had left off! Lists and Tuples"
     ],
     "language": "python",
     "metadata": {},
     "outputs": [],
     "prompt_number": 1
    },
    {
     "cell_type": "code",
     "collapsed": false,
     "input": [],
     "language": "python",
     "metadata": {},
     "outputs": []
    },
    {
     "cell_type": "code",
     "collapsed": false,
     "input": [
      "values = ['python', 'c' , 'java']\n",
      "\n",
      "values = values[-3]\n",
      "print(values.title())"
     ],
     "language": "python",
     "metadata": {},
     "outputs": [
      {
       "output_type": "stream",
       "stream": "stdout",
       "text": [
        "Python\n"
       ]
      }
     ],
     "prompt_number": 6
    },
    {
     "cell_type": "code",
     "collapsed": false,
     "input": [
      "values = ['python' , 'c' , 'java']\n",
      "values = values[-1]\n",
      "print(values.title())"
     ],
     "language": "python",
     "metadata": {},
     "outputs": [
      {
       "output_type": "stream",
       "stream": "stdout",
       "text": [
        "Java\n"
       ]
      }
     ],
     "prompt_number": 14
    },
    {
     "cell_type": "code",
     "collapsed": false,
     "input": [
      "values = ['python' , 'c' , 'java']\n",
      "values = values[-2]\n",
      "print(values.title())"
     ],
     "language": "python",
     "metadata": {},
     "outputs": [
      {
       "output_type": "stream",
       "stream": "stdout",
       "text": [
        "C\n"
       ]
      }
     ],
     "prompt_number": 16
    },
    {
     "cell_type": "code",
     "collapsed": false,
     "input": [
      "values =['python' , 'c' , 'java']\n",
      "values = values[-3]\n",
      "print(values.title())"
     ],
     "language": "python",
     "metadata": {},
     "outputs": [
      {
       "output_type": "stream",
       "stream": "stdout",
       "text": [
        "Python\n"
       ]
      }
     ],
     "prompt_number": 18
    },
    {
     "cell_type": "code",
     "collapsed": false,
     "input": [
      "#Creating an empty list - and then using it!"
     ],
     "language": "python",
     "metadata": {},
     "outputs": [],
     "prompt_number": 19
    },
    {
     "cell_type": "code",
     "collapsed": false,
     "input": [
      "usernames = []\n",
      "\n",
      "# then adding some users\n",
      "usernames.append( 'peter')\n",
      "usernames.append('mary')\n",
      "usernames.append('roderick')\n",
      "usernames.append('claire')\n",
      "usernames.append('paul')\n",
      "\n",
      "#Greet all of our users\n",
      "for username in usernames:\n",
      "    print(\"Welcome, \" + username.title()+ '!')"
     ],
     "language": "python",
     "metadata": {},
     "outputs": [
      {
       "output_type": "stream",
       "stream": "stdout",
       "text": [
        "Welcome, Peter!\n",
        "Welcome, Mary!\n",
        "Welcome, Roderick!\n",
        "Welcome, Claire!\n",
        "Welcome, Paul!\n"
       ]
      }
     ],
     "prompt_number": 23
    },
    {
     "cell_type": "code",
     "collapsed": false,
     "input": [
      "# functions! Wow!"
     ],
     "language": "python",
     "metadata": {},
     "outputs": [],
     "prompt_number": 52
    },
    {
     "cell_type": "code",
     "collapsed": false,
     "input": [
      "# Defining a function\n",
      "def function_name(argument_1, argument_2):\n",
      "    \n",
      "    def Thank_you(name):\n",
      "     #This function prints a two lined note of thanks \n",
      "        print(\"You are doing good work, %s!\" %name)\n",
      "        print(\"Thank you very much for your efforts at home!\")\n",
      "        \n",
      "        \"Thank_you('Mary')\n",
      "        \"Thank_you('Paul')\n",
      "        \"Thank_you('Claire')\n",
      "        \n",
      "        "
     ],
     "language": "python",
     "metadata": {},
     "outputs": [
      {
       "ename": "SyntaxError",
       "evalue": "EOL while scanning string literal (<ipython-input-55-a66928dd37f8>, line 9)",
       "output_type": "pyerr",
       "traceback": [
        "\u001b[1;36m  File \u001b[1;32m\"<ipython-input-55-a66928dd37f8>\"\u001b[1;36m, line \u001b[1;32m9\u001b[0m\n\u001b[1;33m    \"Thank_you('Mary')\u001b[0m\n\u001b[1;37m                     ^\u001b[0m\n\u001b[1;31mSyntaxError\u001b[0m\u001b[1;31m:\u001b[0m EOL while scanning string literal\n"
       ]
      }
     ],
     "prompt_number": 55
    },
    {
     "cell_type": "code",
     "collapsed": false,
     "input": [
      "#Try again!!\n",
      "def show_students(students, message):\n",
      "    \n",
      "    \n"
     ],
     "language": "python",
     "metadata": {},
     "outputs": []
    }
   ],
   "metadata": {}
  }
 ]
}