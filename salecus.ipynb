{
 "metadata": {
  "name": "salecus"
 },
 "nbformat": 3,
 "nbformat_minor": 0,
 "worksheets": [
  {
   "cells": [
    {
     "cell_type": "markdown",
     "metadata": {},
     "source": [
      "Challenge Description:\n",
      "\n",
      "Our marketing department has just negotiated a deal with several local merchants that will allow us to offer exclusive discounts on various products to our top customers every day. The catch is that we can only offer each product to one customer and we may only offer one product to each customer.\n",
      "\n",
      "Each day we will get the list of products that are eligible for these special discounts. We then have to decide which products to offer to which of our customers. Fortunately, our team of highly skilled statisticians has developed an amazing mathematical model for determining how likely a given customer is to buy an offered product by calculating what we call the \"suitability score\" (SS). The top-secret algorithm to calculate the SS between a customer and a product is this:\n",
      "\n",
      "1. If the number of letters in the product's name is even then the SS is the number of vowels (a, e, i, o, u, y) in the customer's name multiplied by 1.5.\n",
      "2. If the number of letters in the product's name is odd then the SS is the number of consonants in the customer's name.\n",
      "3. If the number of letters in the product's name shares any common factors (besides 1) with the number of letters in the customer's name then the SS is multiplied by 1.5.\n",
      "\n",
      "Your task is to implement a program that assigns each customer a product to be offered in a way that maximizes the combined total SS across all of the chosen offers. Note that there may be a different number of products and customers. You may include code from external libraries as long as you cite the source.\n",
      "Input sample:\n",
      "\n",
      "Your program should accept as its only argument a path to a file. Each line in this file is one test case. Each test case will be a comma delimited set of customer names followed by a semicolon and then a comma delimited set of product names. Assume the input file is ASCII encoded. For example (NOTE: The example below has 3 test cases):\n",
      "\n",
      "Jack Abraham,John Evans,Ted Dziuba;iPad 2 - 4-pack,Girl Scouts Thin Mints,Nerf Crossbow\n",
      "\n",
      "Jeffery Lebowski,Walter Sobchak,Theodore Donald Kerabatsos,Peter Gibbons,Michael Bolton,Samir Nagheenanajar;Half & Half,Colt M1911A1,16lb bowling ball,Red Swingline Stapler,Printer paper,Vibe Magazine Subscriptions - 40 pack\n",
      "\n",
      "Jareau Wade,Rob Eroh,Mahmoud Abdelkader,Wenyi Cai,Justin Van Winkle,Gabriel Sinkin,Aaron Adelson;Batman No. 1,Football - Official Size,Bass Amplifying Headphones,Elephant food - 1024 lbs,Three Wolf One Moon T-shirt,Dom Perignon 2000 Vintage\n",
      "\n",
      "Output sample:\n",
      "\n",
      "For each line of input, print out the maximum total score to two decimal places. For the example input above, the output should look like this:\n",
      "\n",
      "21.00\n",
      "83.50\n",
      "71.25"
     ]
    },
    {
     "cell_type": "code",
     "collapsed": false,
     "input": [
      "import math\n",
      "import random"
     ],
     "language": "python",
     "metadata": {},
     "outputs": [],
     "prompt_number": 1
    },
    {
     "cell_type": "code",
     "collapsed": false,
     "input": [
      "nlist = []"
     ],
     "language": "python",
     "metadata": {},
     "outputs": [],
     "prompt_number": 2
    },
    {
     "cell_type": "code",
     "collapsed": false,
     "input": [
      "lowra = random.randint(0,5)\n",
      "\n",
      "\n",
      "\n",
      "\n",
      "highra = random.randint(10,20)\n",
      "\n",
      "nlist.append(lowra)"
     ],
     "language": "python",
     "metadata": {},
     "outputs": [],
     "prompt_number": 3
    },
    {
     "cell_type": "code",
     "collapsed": false,
     "input": [
      "def fib(n):\n",
      "    a,b = lowra, highra\n",
      "    while b < n:\n",
      "        print b, \n",
      "        sab = a, b = b, a+b\n",
      "        print sab\n",
      "        nlist.append(sab)\n",
      "        "
     ],
     "language": "python",
     "metadata": {},
     "outputs": [],
     "prompt_number": 4
    },
    {
     "cell_type": "code",
     "collapsed": false,
     "input": [
      "chfib = fib(200)\n"
     ],
     "language": "python",
     "metadata": {},
     "outputs": [
      {
       "output_type": "stream",
       "stream": "stdout",
       "text": [
        "15 (15, 18)\n",
        "18 (18, 33)\n",
        "33 (33, 51)\n",
        "51 (51, 84)\n",
        "84 (84, 135)\n",
        "135 (135, 219)\n"
       ]
      }
     ],
     "prompt_number": 5
    },
    {
     "cell_type": "code",
     "collapsed": false,
     "input": [
      "print nlist"
     ],
     "language": "python",
     "metadata": {},
     "outputs": [
      {
       "output_type": "stream",
       "stream": "stdout",
       "text": [
        "[3, (15, 18), (18, 33), (33, 51), (51, 84), (84, 135), (135, 219)]\n"
       ]
      }
     ],
     "prompt_number": 6
    },
    {
     "cell_type": "code",
     "collapsed": false,
     "input": [
      "snlist = nlist.count(')')\n",
      "\n",
      "for sn in enumerate(nlist):\n",
      "    print sn"
     ],
     "language": "python",
     "metadata": {},
     "outputs": [
      {
       "output_type": "stream",
       "stream": "stdout",
       "text": [
        "(0, 3)\n",
        "(1, (15, 18))\n",
        "(2, (18, 33))\n",
        "(3, (33, 51))\n",
        "(4, (51, 84))\n",
        "(5, (84, 135))\n",
        "(6, (135, 219))\n"
       ]
      }
     ],
     "prompt_number": 7
    },
    {
     "cell_type": "code",
     "collapsed": false,
     "input": [
      "print len(nlist)"
     ],
     "language": "python",
     "metadata": {},
     "outputs": [
      {
       "output_type": "stream",
       "stream": "stdout",
       "text": [
        "7\n"
       ]
      }
     ],
     "prompt_number": 8
    },
    {
     "cell_type": "code",
     "collapsed": false,
     "input": [
      "print len('blahblahlbah')"
     ],
     "language": "python",
     "metadata": {},
     "outputs": [
      {
       "output_type": "stream",
       "stream": "stdout",
       "text": [
        "12\n"
       ]
      }
     ],
     "prompt_number": 9
    },
    {
     "cell_type": "code",
     "collapsed": false,
     "input": [
      "print snlist\n",
      "print nlist"
     ],
     "language": "python",
     "metadata": {},
     "outputs": [
      {
       "output_type": "stream",
       "stream": "stdout",
       "text": [
        "0\n",
        "[3, (15, 18), (18, 33), (33, 51), (51, 84), (84, 135), (135, 219)]\n"
       ]
      }
     ],
     "prompt_number": 10
    },
    {
     "cell_type": "code",
     "collapsed": false,
     "input": [
      "for blehz in nlist:\n",
      "    print blehz"
     ],
     "language": "python",
     "metadata": {},
     "outputs": [
      {
       "output_type": "stream",
       "stream": "stdout",
       "text": [
        "3\n",
        "(15, 18)\n",
        "(18, 33)\n",
        "(33, 51)\n",
        "(51, 84)\n",
        "(84, 135)\n",
        "(135, 219)\n"
       ]
      }
     ],
     "prompt_number": 11
    },
    {
     "cell_type": "code",
     "collapsed": false,
     "input": [],
     "language": "python",
     "metadata": {},
     "outputs": [],
     "prompt_number": 11
    },
    {
     "cell_type": "code",
     "collapsed": false,
     "input": [
      "fib(50)"
     ],
     "language": "python",
     "metadata": {},
     "outputs": [
      {
       "output_type": "stream",
       "stream": "stdout",
       "text": [
        "15 (15, 18)\n",
        "18 (18, 33)\n",
        "33 (33, 51)\n"
       ]
      }
     ],
     "prompt_number": 12
    },
    {
     "cell_type": "code",
     "collapsed": false,
     "input": [
      "for f in chfib:\n",
      "    print chfib"
     ],
     "language": "python",
     "metadata": {},
     "outputs": [
      {
       "ename": "TypeError",
       "evalue": "'NoneType' object is not iterable",
       "output_type": "pyerr",
       "traceback": [
        "\u001b[1;31m---------------------------------------------------------------------------\u001b[0m\n\u001b[1;31mTypeError\u001b[0m                                 Traceback (most recent call last)",
        "\u001b[1;32m<ipython-input-13-d3d06ab47597>\u001b[0m in \u001b[0;36m<module>\u001b[1;34m()\u001b[0m\n\u001b[1;32m----> 1\u001b[1;33m \u001b[1;32mfor\u001b[0m \u001b[0mf\u001b[0m \u001b[1;32min\u001b[0m \u001b[0mchfib\u001b[0m\u001b[1;33m:\u001b[0m\u001b[1;33m\u001b[0m\u001b[0m\n\u001b[0m\u001b[0;32m      2\u001b[0m     \u001b[1;32mprint\u001b[0m \u001b[0mchfib\u001b[0m\u001b[1;33m\u001b[0m\u001b[0m\n",
        "\u001b[1;31mTypeError\u001b[0m: 'NoneType' object is not iterable"
       ]
      }
     ],
     "prompt_number": 13
    },
    {
     "cell_type": "code",
     "collapsed": false,
     "input": [
      "def fib2(n):\n",
      "    result= []\n",
      "    a, b = 0, 1\n",
      "    while b < n:\n",
      "        result.append(b)\n",
      "        a, b = b, a+b"
     ],
     "language": "python",
     "metadata": {},
     "outputs": [],
     "prompt_number": 14
    },
    {
     "cell_type": "code",
     "collapsed": false,
     "input": [
      "thefib = fib2(20000)"
     ],
     "language": "python",
     "metadata": {},
     "outputs": [],
     "prompt_number": 15
    },
    {
     "cell_type": "code",
     "collapsed": false,
     "input": [
      "pi = math.pi"
     ],
     "language": "python",
     "metadata": {},
     "outputs": [],
     "prompt_number": 16
    },
    {
     "cell_type": "code",
     "collapsed": false,
     "input": [
      "import sys\n",
      "import os\n",
      "import socket"
     ],
     "language": "python",
     "metadata": {},
     "outputs": [],
     "prompt_number": 17
    },
    {
     "cell_type": "code",
     "collapsed": false,
     "input": [
      "complis = []"
     ],
     "language": "python",
     "metadata": {},
     "outputs": [],
     "prompt_number": 110
    },
    {
     "cell_type": "code",
     "collapsed": false,
     "input": [
      "def hostgit():\n",
      "    return getpass.getuser() + '@' + socket.gethostname()"
     ],
     "language": "python",
     "metadata": {},
     "outputs": [],
     "prompt_number": 113
    },
    {
     "cell_type": "code",
     "collapsed": false,
     "input": [
      "hostgit()"
     ],
     "language": "python",
     "metadata": {},
     "outputs": [
      {
       "output_type": "pyout",
       "prompt_number": 114,
       "text": [
        "'will@fendesk'"
       ]
      }
     ],
     "prompt_number": 114
    },
    {
     "cell_type": "code",
     "collapsed": false,
     "input": [
      "thehost = socket.gethostname()"
     ],
     "language": "python",
     "metadata": {},
     "outputs": [],
     "prompt_number": 115
    },
    {
     "cell_type": "code",
     "collapsed": false,
     "input": [
      "thehost"
     ],
     "language": "python",
     "metadata": {},
     "outputs": [
      {
       "output_type": "pyout",
       "prompt_number": 116,
       "text": [
        "'fendesk'"
       ]
      }
     ],
     "prompt_number": 116
    },
    {
     "cell_type": "code",
     "collapsed": false,
     "input": [
      "import getpass"
     ],
     "language": "python",
     "metadata": {},
     "outputs": [],
     "prompt_number": 20
    },
    {
     "cell_type": "code",
     "collapsed": false,
     "input": [
      "theuser = getpass.getuser()"
     ],
     "language": "python",
     "metadata": {},
     "outputs": [],
     "prompt_number": 21
    },
    {
     "cell_type": "code",
     "collapsed": false,
     "input": [
      "print theuser"
     ],
     "language": "python",
     "metadata": {},
     "outputs": [
      {
       "output_type": "stream",
       "stream": "stdout",
       "text": [
        "will\n"
       ]
      }
     ],
     "prompt_number": 22
    },
    {
     "cell_type": "code",
     "collapsed": false,
     "input": [
      "upass = theuser + '@' + thehost"
     ],
     "language": "python",
     "metadata": {},
     "outputs": [],
     "prompt_number": 23
    },
    {
     "cell_type": "code",
     "collapsed": false,
     "input": [
      "print upass"
     ],
     "language": "python",
     "metadata": {},
     "outputs": [
      {
       "output_type": "stream",
       "stream": "stdout",
       "text": [
        "will@fendesk\n"
       ]
      }
     ],
     "prompt_number": 24
    },
    {
     "cell_type": "code",
     "collapsed": false,
     "input": [
      "os.defpath"
     ],
     "language": "python",
     "metadata": {},
     "outputs": [
      {
       "output_type": "pyout",
       "prompt_number": 25,
       "text": [
        "':/bin:/usr/bin'"
       ]
      }
     ],
     "prompt_number": 25
    },
    {
     "cell_type": "code",
     "collapsed": false,
     "input": [
      "os.getresuid()"
     ],
     "language": "python",
     "metadata": {},
     "outputs": [
      {
       "output_type": "pyout",
       "prompt_number": 26,
       "text": [
        "(1000, 1000, 1000)"
       ]
      }
     ],
     "prompt_number": 26
    },
    {
     "cell_type": "code",
     "collapsed": false,
     "input": [
      "os.curdir"
     ],
     "language": "python",
     "metadata": {},
     "outputs": [
      {
       "output_type": "pyout",
       "prompt_number": 27,
       "text": [
        "'.'"
       ]
      }
     ],
     "prompt_number": 27
    },
    {
     "cell_type": "code",
     "collapsed": false,
     "input": [
      "os.getppid()"
     ],
     "language": "python",
     "metadata": {},
     "outputs": [
      {
       "output_type": "pyout",
       "prompt_number": 28,
       "text": [
        "24675"
       ]
      }
     ],
     "prompt_number": 28
    },
    {
     "cell_type": "code",
     "collapsed": false,
     "input": [
      "def gethusr():\n",
      "    return os.listdir('/home')"
     ],
     "language": "python",
     "metadata": {},
     "outputs": [],
     "prompt_number": 117
    },
    {
     "cell_type": "code",
     "collapsed": false,
     "input": [
      "for hustr in gethusr():\n",
      "    print hustr"
     ],
     "language": "python",
     "metadata": {},
     "outputs": [
      {
       "output_type": "stream",
       "stream": "stdout",
       "text": [
        "git\n",
        "shared\n",
        "lost+found\n",
        "wcmckee\n",
        "will\n"
       ]
      }
     ],
     "prompt_number": 122
    },
    {
     "cell_type": "code",
     "collapsed": false,
     "input": [
      "os.listdir('/home')"
     ],
     "language": "python",
     "metadata": {},
     "outputs": [
      {
       "output_type": "pyout",
       "prompt_number": 29,
       "text": [
        "['git', 'shared', 'lost+found', 'wcmckee', 'will']"
       ]
      }
     ],
     "prompt_number": 29
    },
    {
     "cell_type": "code",
     "collapsed": false,
     "input": [
      "os.times()"
     ],
     "language": "python",
     "metadata": {},
     "outputs": [
      {
       "output_type": "pyout",
       "prompt_number": 30,
       "text": [
        "(1.87, 0.8, 0.02, 0.13, 4455905.8)"
       ]
      }
     ],
     "prompt_number": 30
    },
    {
     "cell_type": "code",
     "collapsed": false,
     "input": [
      "os.ctermid()"
     ],
     "language": "python",
     "metadata": {},
     "outputs": [
      {
       "output_type": "pyout",
       "prompt_number": 31,
       "text": [
        "'/dev/tty'"
       ]
      }
     ],
     "prompt_number": 31
    },
    {
     "cell_type": "code",
     "collapsed": false,
     "input": [
      "from github import Github"
     ],
     "language": "python",
     "metadata": {},
     "outputs": [],
     "prompt_number": 85
    },
    {
     "cell_type": "code",
     "collapsed": false,
     "input": [
      "g = Github()"
     ],
     "language": "python",
     "metadata": {},
     "outputs": [],
     "prompt_number": 86
    },
    {
     "cell_type": "code",
     "collapsed": false,
     "input": [
      "gitlist = []"
     ],
     "language": "python",
     "metadata": {},
     "outputs": [],
     "prompt_number": 87
    },
    {
     "cell_type": "code",
     "collapsed": false,
     "input": [
      "def gitusrz(gitn):\n",
      "    for repo in g.get_user(gitn).get_repos():\n",
      "        print repo.name\n",
      "        gitlist.append(repo.name)"
     ],
     "language": "python",
     "metadata": {},
     "outputs": [],
     "prompt_number": 88
    },
    {
     "cell_type": "code",
     "collapsed": false,
     "input": [
      "gitusrz('ipython')"
     ],
     "language": "python",
     "metadata": {},
     "outputs": [
      {
       "output_type": "stream",
       "stream": "stdout",
       "text": [
        "ipython\n",
        "ipython-components\n",
        "ipython-doc\n",
        "ipython-hubot\n",
        "ipython-in-depth\n",
        "ipython-py3k\n",
        "ipython-website\n",
        "ipython.github.com\n",
        "jsplugins\n",
        "marketing\n",
        "nbconvert\n",
        "nbconvert-examples\n",
        "nbviewer\n",
        "paper-notebook2013\n",
        "salt-states-nbviewer\n",
        "sloan-2013-reports\n",
        "talks\n",
        "traitlets\n",
        "usersurveys\n",
        "xkcd-font\n"
       ]
      }
     ],
     "prompt_number": 89
    },
    {
     "cell_type": "code",
     "collapsed": false,
     "input": [
      "regit()"
     ],
     "language": "python",
     "metadata": {},
     "outputs": [
      {
       "output_type": "stream",
       "stream": "stdout",
       "text": [
        "https://github.com/wcmckee/LANs.py\n",
        "https://github.com/wcmckee/godot\n",
        "https://github.com/wcmckee/brobeur-site\n",
        "https://github.com/wcmckee/alien\n",
        "https://github.com/wcmckee/RasPiWrite\n",
        "https://github.com/wcmckee/ggj14\n",
        "https://github.com/wcmckee/FinishYourGame-Jam\n",
        "https://github.com/wcmckee/flask\n",
        "https://github.com/wcmckee/4chan-API\n",
        "https://github.com/wcmckee/game-of-life\n",
        "https://github.com/wcmckee/BroBeurFishingDream\n",
        "https://github.com/wcmckee/flamejam\n",
        "https://github.com/wcmckee/art-lastfm\n",
        "https://github.com/wcmckee/pywp-post\n",
        "https://github.com/wcmckee/TPB\n",
        "https://github.com/wcmckee/autopaintpy123\n",
        "https://github.com/wcmckee/AsylumJamCrushGame\n",
        "https://github.com/wcmckee/Bukkit\n",
        "https://github.com/wcmckee/SortPictures\n",
        "https://github.com/wcmckee/Delicious-Chrome-Extension\n",
        "https://github.com/wcmckee/intro_programming\n",
        "https://github.com/wcmckee/python-patterns\n",
        "https://github.com/wcmckee/pyunderdog\n",
        "https://github.com/wcmckee/python-wordpress-xmlrpc\n",
        "https://github.com/wcmckee/skins\n",
        "https://github.com/wcmckee/ouya-unity-plugin\n",
        "https://github.com/wcmckee/gamejam\n",
        "https://github.com/wcmckee/soundcloud-dl\n",
        "https://github.com/wcmckee/pybackupz\n",
        "https://github.com/wcmckee/flask-brobeur\n",
        "https://github.com/wcmckee/gitignore\n",
        "https://github.com/wcmckee/Projects\n",
        "https://github.com/wcmckee/SpotWalker-LD48\n",
        "https://github.com/wcmckee/BirdCage\n",
        "https://github.com/wcmckee/pyroster\n",
        "https://github.com/wcmckee/iamagamer\n",
        "https://github.com/wcmckee/ipython\n",
        "https://github.com/wcmckee/imgur-python\n",
        "https://github.com/wcmckee/paintingautopy\n",
        "https://github.com/wcmckee/brobeur-web\n",
        "https://github.com/wcmckee/cocos2d-x\n",
        "https://github.com/wcmckee/unityluainterface\n",
        "https://github.com/wcmckee/requests\n",
        "https://github.com/wcmckee/molyjam2013\n",
        "https://github.com/wcmckee/prodo-game\n",
        "https://github.com/wcmckee/reddit_bot\n",
        "https://github.com/wcmckee/DeltaBot\n",
        "https://github.com/wcmckee/marshmallow\n",
        "https://github.com/wcmckee/linux\n",
        "https://github.com/wcmckee/python-guide\n",
        "https://github.com/wcmckee/hackage-server\n",
        "https://github.com/wcmckee/pithos\n",
        "https://github.com/wcmckee/bbc2wp\n",
        "https://github.com/wcmckee/Triger\n",
        "https://github.com/wcmckee/RedditPress\n",
        "https://github.com/wcmckee/tweepy\n",
        "https://github.com/wcmckee/pytm\n",
        "https://github.com/wcmckee/Cinnamon\n",
        "https://github.com/wcmckee/HTML5-Tiny\n",
        "https://github.com/wcmckee/miniprojects\n",
        "https://github.com/wcmckee/unity-rts-demo\n",
        "https://github.com/wcmckee/SuburbNightmare\n",
        "https://github.com/wcmckee/UniLua\n",
        "https://github.com/wcmckee/raspi\n",
        "https://github.com/wcmckee/cafrin\n",
        "https://github.com/wcmckee/UnityLuaIntegration\n",
        "https://github.com/wcmckee/intercity\n",
        "https://github.com/wcmckee/DailyProgBot\n",
        "https://github.com/wcmckee/lolpy\n",
        "https://github.com/wcmckee/UIToolkit\n",
        "https://github.com/wcmckee/djtm\n",
        "https://github.com/wcmckee/pymel\n",
        "https://github.com/wcmckee/gimp\n",
        "https://github.com/wcmckee/Rift-Notes\n",
        "https://github.com/wcmckee/clint\n",
        "https://github.com/wcmckee/bacongamejam05\n",
        "https://github.com/wcmckee/lqt\n",
        "https://github.com/wcmckee/wcmStringPY\n",
        "https://github.com/wcmckee/testRepo\n",
        "https://github.com/wcmckee/RPIO\n",
        "https://github.com/wcmckee/html5lib-python\n",
        "https://github.com/wcmckee/python-pandora\n",
        "https://github.com/wcmckee/LD48-Skins\n",
        "https://github.com/wcmckee/battlenet\n",
        "https://github.com/wcmckee/haskell-learn\n",
        "https://github.com/wcmckee/BeOk\n",
        "https://github.com/wcmckee/openfaux-server\n",
        "https://github.com/wcmckee/summingbird\n",
        "https://github.com/wcmckee/broLove\n",
        "https://github.com/wcmckee/Koha\n",
        "https://github.com/wcmckee/xboxdrv\n",
        "https://github.com/wcmckee/massive-wright\n",
        "https://github.com/wcmckee/django\n",
        "https://github.com/wcmckee/python-twitter\n",
        "https://github.com/wcmckee/WordPress\n",
        "https://github.com/wcmckee/ruby-warrior\n",
        "https://github.com/wcmckee/ihaskell-notebook\n",
        "https://github.com/wcmckee/opencompetencies\n"
       ]
      }
     ],
     "prompt_number": 90
    },
    {
     "cell_type": "code",
     "collapsed": false,
     "input": [
      "gitlist"
     ],
     "language": "python",
     "metadata": {},
     "outputs": [
      {
       "output_type": "pyout",
       "prompt_number": 91,
       "text": [
        "[u'ipython',\n",
        " u'ipython-components',\n",
        " u'ipython-doc',\n",
        " u'ipython-hubot',\n",
        " u'ipython-in-depth',\n",
        " u'ipython-py3k',\n",
        " u'ipython-website',\n",
        " u'ipython.github.com',\n",
        " u'jsplugins',\n",
        " u'marketing',\n",
        " u'nbconvert',\n",
        " u'nbconvert-examples',\n",
        " u'nbviewer',\n",
        " u'paper-notebook2013',\n",
        " u'salt-states-nbviewer',\n",
        " u'sloan-2013-reports',\n",
        " u'talks',\n",
        " u'traitlets',\n",
        " u'usersurveys',\n",
        " u'xkcd-font']"
       ]
      }
     ],
     "prompt_number": 91
    },
    {
     "cell_type": "code",
     "collapsed": false,
     "input": [
      "os.chdir('/home/will/Desktop/')"
     ],
     "language": "python",
     "metadata": {},
     "outputs": [],
     "prompt_number": 92
    },
    {
     "cell_type": "code",
     "collapsed": false,
     "input": [
      "lisdir = os.listdir('/home/will/Desktop/')"
     ],
     "language": "python",
     "metadata": {},
     "outputs": [],
     "prompt_number": 93
    },
    {
     "cell_type": "code",
     "collapsed": false,
     "input": [
      "curlist = []"
     ],
     "language": "python",
     "metadata": {},
     "outputs": [],
     "prompt_number": 94
    },
    {
     "cell_type": "code",
     "collapsed": false,
     "input": [
      "for ls in lisdir:\n",
      "    print ls\n",
      "    curlist.append(ls)"
     ],
     "language": "python",
     "metadata": {},
     "outputs": [
      {
       "output_type": "stream",
       "stream": "stdout",
       "text": [
        "bikesteal\n",
        "46-20140202123120-snapshot.jpg\n",
        "misty-linux.zip\n",
        "fend.dae\n",
        "pirate-party.svg\n",
        "01-2014-01-30--23--57--37.avi\n",
        "bikesteal.tar.gz\n",
        "artcontrol-api\n",
        "46-20140202123130-snapshot.jpg\n",
        "20140203-22-13-22.avi\n",
        "Octocat.png\n",
        "vids\n",
        "misty-linux.x86\n",
        "20140203-22-45-51.avi\n",
        "20140203-22-52-53.avi\n",
        "46-20140202123150-snapshot.jpg\n",
        "fend.blend1\n",
        "2014-02-02-timelapse.mpg\n",
        "wcm-ggj.svg\n",
        "fend.blend\n",
        "bleh\n",
        "pythonspeech.svg\n",
        "2014-01-31-timelapse.mpg\n",
        "2014-02-03-timelapse.mpg\n",
        "46-20140202123200-snapshot.jpg\n",
        "20140203-22-24-47.avi\n",
        ".directory\n",
        "misty-linux.x86_64\n",
        "lastsnap.jpg\n",
        "radio edit.mp3\n",
        "wirepil\n",
        "46-20140202123140-snapshot.jpg\n",
        "2014-01-30-timelapse.mpg\n",
        "46-20140202123110-snapshot.jpg\n",
        "2014-02-01-timelapse.mpg\n"
       ]
      }
     ],
     "prompt_number": 95
    },
    {
     "cell_type": "code",
     "collapsed": false,
     "input": [
      "dlrepo = list(set(gitlist) - set(curlist))"
     ],
     "language": "python",
     "metadata": {},
     "outputs": [],
     "prompt_number": 96
    },
    {
     "cell_type": "code",
     "collapsed": false,
     "input": [
      "dlrepo"
     ],
     "language": "python",
     "metadata": {},
     "outputs": [
      {
       "output_type": "pyout",
       "prompt_number": 97,
       "text": [
        "[u'sloan-2013-reports',\n",
        " u'nbconvert-examples',\n",
        " u'ipython-in-depth',\n",
        " u'salt-states-nbviewer',\n",
        " u'usersurveys',\n",
        " u'marketing',\n",
        " u'nbviewer',\n",
        " u'ipython-py3k',\n",
        " u'paper-notebook2013',\n",
        " u'ipython-doc',\n",
        " u'traitlets',\n",
        " u'nbconvert',\n",
        " u'jsplugins',\n",
        " u'ipython-hubot',\n",
        " u'talks',\n",
        " u'ipython-website',\n",
        " u'ipython',\n",
        " u'ipython.github.com',\n",
        " u'ipython-components',\n",
        " u'xkcd-font']"
       ]
      }
     ],
     "prompt_number": 97
    },
    {
     "cell_type": "code",
     "collapsed": false,
     "input": [
      "geetrepl = []"
     ],
     "language": "python",
     "metadata": {},
     "outputs": [],
     "prompt_number": 98
    },
    {
     "cell_type": "code",
     "collapsed": false,
     "input": [
      "gitusrz('ipython')"
     ],
     "language": "python",
     "metadata": {},
     "outputs": [
      {
       "output_type": "stream",
       "stream": "stdout",
       "text": [
        "ipython\n",
        "ipython-components\n",
        "ipython-doc\n",
        "ipython-hubot\n",
        "ipython-in-depth\n",
        "ipython-py3k\n",
        "ipython-website\n",
        "ipython.github.com\n",
        "jsplugins\n",
        "marketing\n",
        "nbconvert\n",
        "nbconvert-examples\n",
        "nbviewer\n",
        "paper-notebook2013\n",
        "salt-states-nbviewer\n",
        "sloan-2013-reports\n",
        "talks\n",
        "traitlets\n",
        "usersurveys\n",
        "xkcd-font\n"
       ]
      }
     ],
     "prompt_number": 99
    },
    {
     "cell_type": "code",
     "collapsed": false,
     "input": [],
     "language": "python",
     "metadata": {},
     "outputs": [],
     "prompt_number": 99
    },
    {
     "cell_type": "code",
     "collapsed": false,
     "input": [
      "gitusr = ('wcmckee')"
     ],
     "language": "python",
     "metadata": {},
     "outputs": [],
     "prompt_number": 100
    },
    {
     "cell_type": "code",
     "collapsed": false,
     "input": [
      "def regit():\n",
      "    for gitbl in dlrepo:\n",
      "        print ('https://github.com/' + gitusr + '/' +  gitbl)\n",
      "        geetrepl.append(gitbl)"
     ],
     "language": "python",
     "metadata": {},
     "outputs": [],
     "prompt_number": 101
    },
    {
     "cell_type": "code",
     "collapsed": false,
     "input": [
      "print geetrepl"
     ],
     "language": "python",
     "metadata": {},
     "outputs": [
      {
       "output_type": "stream",
       "stream": "stdout",
       "text": [
        "[]\n"
       ]
      }
     ],
     "prompt_number": 102
    },
    {
     "cell_type": "code",
     "collapsed": false,
     "input": [
      "regit()"
     ],
     "language": "python",
     "metadata": {},
     "outputs": [
      {
       "output_type": "stream",
       "stream": "stdout",
       "text": [
        "https://github.com/wcmckee/sloan-2013-reports\n",
        "https://github.com/wcmckee/nbconvert-examples\n",
        "https://github.com/wcmckee/ipython-in-depth\n",
        "https://github.com/wcmckee/salt-states-nbviewer\n",
        "https://github.com/wcmckee/usersurveys\n",
        "https://github.com/wcmckee/marketing\n",
        "https://github.com/wcmckee/nbviewer\n",
        "https://github.com/wcmckee/ipython-py3k\n",
        "https://github.com/wcmckee/paper-notebook2013\n",
        "https://github.com/wcmckee/ipython-doc\n",
        "https://github.com/wcmckee/traitlets\n",
        "https://github.com/wcmckee/nbconvert\n",
        "https://github.com/wcmckee/jsplugins\n",
        "https://github.com/wcmckee/ipython-hubot\n",
        "https://github.com/wcmckee/talks\n",
        "https://github.com/wcmckee/ipython-website\n",
        "https://github.com/wcmckee/ipython\n",
        "https://github.com/wcmckee/ipython.github.com\n",
        "https://github.com/wcmckee/ipython-components\n",
        "https://github.com/wcmckee/xkcd-font\n"
       ]
      }
     ],
     "prompt_number": 103
    },
    {
     "cell_type": "code",
     "collapsed": false,
     "input": [
      "import sh"
     ],
     "language": "python",
     "metadata": {},
     "outputs": [],
     "prompt_number": 65
    },
    {
     "cell_type": "code",
     "collapsed": false,
     "input": [
      "gitre = sh.git.bake(_cwd='/home/will/Desktop/artcontrol-api/')"
     ],
     "language": "python",
     "metadata": {},
     "outputs": [],
     "prompt_number": 66
    },
    {
     "cell_type": "code",
     "collapsed": false,
     "input": [
      "print gitre.status()"
     ],
     "language": "python",
     "metadata": {},
     "outputs": [
      {
       "output_type": "stream",
       "stream": "stdout",
       "text": [
        "# On branch master\n",
        "# Your branch is ahead of 'origin/master' by 1 commit.\n",
        "#   (use \"git push\" to publish your local commits)\n",
        "#\n",
        "nothing to commit, working directory clean\n",
        "\n"
       ]
      }
     ],
     "prompt_number": 70
    },
    {
     "cell_type": "code",
     "collapsed": false,
     "input": [
      "print gitre.add('.')"
     ],
     "language": "python",
     "metadata": {},
     "outputs": [
      {
       "output_type": "stream",
       "stream": "stdout",
       "text": [
        "\n"
       ]
      }
     ],
     "prompt_number": 68
    },
    {
     "cell_type": "code",
     "collapsed": false,
     "input": [
      "print gitre.commit(m='added for git')"
     ],
     "language": "python",
     "metadata": {},
     "outputs": [
      {
       "output_type": "stream",
       "stream": "stdout",
       "text": [
        "[master 94b8a8c] added for git\n",
        " 1 file changed, 488 insertions(+), 108 deletions(-)\n",
        "\n"
       ]
      }
     ],
     "prompt_number": 69
    },
    {
     "cell_type": "code",
     "collapsed": false,
     "input": [
      "os.environ"
     ],
     "language": "python",
     "metadata": {},
     "outputs": []
    },
    {
     "cell_type": "code",
     "collapsed": false,
     "input": [
      "def printinfo(name, age):\n",
      "   \"This prints a passed info into this function\"\n",
      "   print \"hostname: \", name;\n",
      "   print \"time left \", age;\n",
      "   return;\n"
     ],
     "language": "python",
     "metadata": {},
     "outputs": []
    },
    {
     "cell_type": "code",
     "collapsed": false,
     "input": [
      "def f(x):\n",
      "    return x**pi"
     ],
     "language": "python",
     "metadata": {},
     "outputs": []
    },
    {
     "cell_type": "code",
     "collapsed": false,
     "input": [
      "print f(24)"
     ],
     "language": "python",
     "metadata": {},
     "outputs": []
    },
    {
     "cell_type": "code",
     "collapsed": false,
     "input": [
      "g = lambda x: x**pi"
     ],
     "language": "python",
     "metadata": {},
     "outputs": []
    },
    {
     "cell_type": "code",
     "collapsed": false,
     "input": [
      "blehg =  g(80)"
     ],
     "language": "python",
     "metadata": {},
     "outputs": []
    },
    {
     "cell_type": "code",
     "collapsed": false,
     "input": [],
     "language": "python",
     "metadata": {},
     "outputs": []
    },
    {
     "cell_type": "code",
     "collapsed": false,
     "input": [
      "print blehg"
     ],
     "language": "python",
     "metadata": {},
     "outputs": []
    },
    {
     "cell_type": "code",
     "collapsed": false,
     "input": [
      "def makn(n): \n",
      "    return lambda x: x + n"
     ],
     "language": "python",
     "metadata": {},
     "outputs": []
    },
    {
     "cell_type": "code",
     "collapsed": false,
     "input": [
      "f = makn(4)\n",
      "g = makn(20)"
     ],
     "language": "python",
     "metadata": {},
     "outputs": []
    },
    {
     "cell_type": "code",
     "collapsed": false,
     "input": [
      "print f(2)\n",
      "print g(7)"
     ],
     "language": "python",
     "metadata": {},
     "outputs": []
    },
    {
     "cell_type": "code",
     "collapsed": false,
     "input": [
      "printinfo('william', 34)"
     ],
     "language": "python",
     "metadata": {},
     "outputs": []
    },
    {
     "cell_type": "code",
     "collapsed": false,
     "input": [],
     "language": "python",
     "metadata": {},
     "outputs": [],
     "prompt_number": 509
    },
    {
     "cell_type": "code",
     "collapsed": false,
     "input": [
      "import collections"
     ],
     "language": "python",
     "metadata": {},
     "outputs": [],
     "prompt_number": 510
    },
    {
     "cell_type": "code",
     "collapsed": false,
     "input": [
      "newfile = open('config', 'w')"
     ],
     "language": "python",
     "metadata": {},
     "outputs": [],
     "prompt_number": 511
    },
    {
     "cell_type": "code",
     "collapsed": false,
     "input": [
      "#cusname1 = 'figlet holley'"
     ],
     "language": "python",
     "metadata": {},
     "outputs": [],
     "prompt_number": 512
    },
    {
     "cell_type": "code",
     "collapsed": false,
     "input": [
      "datlist = []"
     ],
     "language": "python",
     "metadata": {},
     "outputs": [],
     "prompt_number": 513
    },
    {
     "cell_type": "code",
     "collapsed": false,
     "input": [
      "cusname = 'figlet mckee'\n",
      "datlist.append(cusname)"
     ],
     "language": "python",
     "metadata": {},
     "outputs": [],
     "prompt_number": 514
    },
    {
     "cell_type": "code",
     "collapsed": false,
     "input": [
      "productname1 = 'figlufets food yu'"
     ],
     "language": "python",
     "metadata": {},
     "outputs": [],
     "prompt_number": 515
    },
    {
     "cell_type": "code",
     "collapsed": false,
     "input": [
      "productname = 'debian linux'\n",
      "datlist.append(productname)"
     ],
     "language": "python",
     "metadata": {},
     "outputs": [],
     "prompt_number": 516
    },
    {
     "cell_type": "code",
     "collapsed": false,
     "input": [
      "set(datlist)"
     ],
     "language": "python",
     "metadata": {},
     "outputs": [
      {
       "ename": "NameError",
       "evalue": "name 'datlist' is not defined",
       "output_type": "pyerr",
       "traceback": [
        "\u001b[1;31m---------------------------------------------------------------------------\u001b[0m\n\u001b[1;31mNameError\u001b[0m                                 Traceback (most recent call last)",
        "\u001b[1;32m<ipython-input-67-b293f1c9f671>\u001b[0m in \u001b[0;36m<module>\u001b[1;34m()\u001b[0m\n\u001b[1;32m----> 1\u001b[1;33m \u001b[0mset\u001b[0m\u001b[1;33m(\u001b[0m\u001b[0mdatlist\u001b[0m\u001b[1;33m)\u001b[0m\u001b[1;33m\u001b[0m\u001b[0m\n\u001b[0m",
        "\u001b[1;31mNameError\u001b[0m: name 'datlist' is not defined"
       ]
      }
     ],
     "prompt_number": 67
    },
    {
     "cell_type": "code",
     "collapsed": false,
     "input": [],
     "language": "python",
     "metadata": {},
     "outputs": [],
     "prompt_number": 67
    },
    {
     "cell_type": "code",
     "collapsed": false,
     "input": [],
     "language": "python",
     "metadata": {},
     "outputs": [],
     "prompt_number": 67
    },
    {
     "cell_type": "code",
     "collapsed": false,
     "input": [],
     "language": "python",
     "metadata": {},
     "outputs": []
    }
   ],
   "metadata": {}
  }
 ]
}