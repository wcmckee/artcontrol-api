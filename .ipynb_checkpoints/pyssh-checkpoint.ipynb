{
 "metadata": {
  "name": "pyssh"
 },
 "nbformat": 3,
 "nbformat_minor": 0,
 "worksheets": [
  {
   "cells": [
    {
     "cell_type": "heading",
     "level": 1,
     "metadata": {},
     "source": [
      "pydigdrop"
     ]
    },
    {
     "cell_type": "markdown",
     "metadata": {},
     "source": [
      "<h2>pydigdrop</h2>\n",
      "\n",
      "<p>This Python script uses Digital Ocean api services. Importing the features from the Python module digitalocean. Data is pulled and edited. \n",
      "\n",
      "<p>Here is a list of features and ideas.</p>\n",
      "<li>Returns user server list. </li>\n",
      "<li>Returns info about servers - name/ip/location/status/distro id/distro.</li>\n",
      "<li>shutdown, make snapshot, startup all servers (or just one!)</li>\n",
      "<li>save info off as json/html</li>\n",
      "\n",
      "Plans start as little as $5.00 a month. Servers are charged per the hour. \n",
      "[Digital Ocean](http://digitalocean.com/)\n"
     ]
    },
    {
     "cell_type": "code",
     "collapsed": false,
     "input": [
      "import os\n",
      "import json\n",
      "import digitalocean"
     ],
     "language": "python",
     "metadata": {},
     "outputs": [],
     "prompt_number": 1
    },
    {
     "cell_type": "code",
     "collapsed": false,
     "input": [
      "opcli = open('passwd', 'r')\n",
      "opapi = open('passap', 'r')"
     ],
     "language": "python",
     "metadata": {},
     "outputs": [],
     "prompt_number": 9
    },
    {
     "cell_type": "code",
     "collapsed": false,
     "input": [
      "digclip = str(opcli.read())"
     ],
     "language": "python",
     "metadata": {},
     "outputs": [],
     "prompt_number": 7
    },
    {
     "cell_type": "code",
     "collapsed": false,
     "input": [
      "digcli = str(opapi.read())"
     ],
     "language": "python",
     "metadata": {},
     "outputs": [],
     "prompt_number": 10
    },
    {
     "cell_type": "code",
     "collapsed": false,
     "input": [
      "manager = digitalocean.Manager(client_id = digcli, api_key = apikey)"
     ],
     "language": "python",
     "metadata": {},
     "outputs": [],
     "prompt_number": 6
    },
    {
     "cell_type": "code",
     "collapsed": false,
     "input": [
      "mydrop = manager.get_all_droplets()"
     ],
     "language": "python",
     "metadata": {},
     "outputs": [],
     "prompt_number": 7
    },
    {
     "cell_type": "code",
     "collapsed": false,
     "input": [
      "print mydrop"
     ],
     "language": "python",
     "metadata": {},
     "outputs": [
      {
       "output_type": "stream",
       "stream": "stdout",
       "text": [
        "[<digitalocean.Droplet.Droplet object at 0x31259d0>, <digitalocean.Droplet.Droplet object at 0x3125a10>, <digitalocean.Droplet.Droplet object at 0x3125a90>]\n"
       ]
      }
     ],
     "prompt_number": 8
    },
    {
     "cell_type": "code",
     "collapsed": false,
     "input": [
      "dropo = mydrop[0]"
     ],
     "language": "python",
     "metadata": {},
     "outputs": [],
     "prompt_number": 9
    },
    {
     "cell_type": "code",
     "collapsed": false,
     "input": [
      "print dropo"
     ],
     "language": "python",
     "metadata": {},
     "outputs": [
      {
       "output_type": "stream",
       "stream": "stdout",
       "text": [
        "<digitalocean.Droplet.Droplet object at 0x31259d0>\n"
       ]
      }
     ],
     "prompt_number": 10
    },
    {
     "cell_type": "code",
     "collapsed": false,
     "input": [
      "events = dropo.get_events()"
     ],
     "language": "python",
     "metadata": {},
     "outputs": [],
     "prompt_number": 11
    },
    {
     "cell_type": "code",
     "collapsed": false,
     "input": [
      "for event in events:\n",
      "    event.load()\n",
      "    print event.percentage"
     ],
     "language": "python",
     "metadata": {},
     "outputs": [],
     "prompt_number": 34
    },
    {
     "cell_type": "code",
     "collapsed": false,
     "input": [
      "servlis = []"
     ],
     "language": "python",
     "metadata": {},
     "outputs": [],
     "prompt_number": 35
    },
    {
     "cell_type": "code",
     "collapsed": false,
     "input": [
      "meip.keys"
     ],
     "language": "python",
     "metadata": {},
     "outputs": [
      {
       "ename": "AttributeError",
       "evalue": "'Droplet' object has no attribute 'keys'",
       "output_type": "pyerr",
       "traceback": [
        "\u001b[1;31m---------------------------------------------------------------------------\u001b[0m\n\u001b[1;31mAttributeError\u001b[0m                            Traceback (most recent call last)",
        "\u001b[1;32m<ipython-input-75-018bfb339428>\u001b[0m in \u001b[0;36m<module>\u001b[1;34m()\u001b[0m\n\u001b[1;32m----> 1\u001b[1;33m \u001b[0mmeip\u001b[0m\u001b[1;33m.\u001b[0m\u001b[0mkeys\u001b[0m\u001b[1;33m\u001b[0m\u001b[0m\n\u001b[0m",
        "\u001b[1;31mAttributeError\u001b[0m: 'Droplet' object has no attribute 'keys'"
       ]
      }
     ],
     "prompt_number": 75
    },
    {
     "cell_type": "code",
     "collapsed": false,
     "input": [
      "for meip in mydrop:\n",
      "    print meip.name\n",
      "    servlis.append(meip.name)\n",
      "    print meip.ip_address\n",
      "    servlis.append(meip.ip_address)\n",
      "    print meip.status\n",
      "    servlis.append(meip.status)\n",
      "    print meip.image_id\n",
      "    servlis.append(meip.image_id)\n",
      "    servlis.append('wcmckee')\n",
      "    servlis.append(meip.region_id)"
     ],
     "language": "python",
     "metadata": {},
     "outputs": [
      {
       "output_type": "stream",
       "stream": "stdout",
       "text": [
        "wcmckee\n",
        "128.199.199.74\n",
        "active\n",
        "308287\n",
        "catgang\n",
        "188.226.209.162\n",
        "active\n",
        "3135725\n",
        "compohub\n",
        "107.170.136.184\n",
        "active\n",
        "3445812\n"
       ]
      }
     ],
     "prompt_number": 88
    },
    {
     "cell_type": "code",
     "collapsed": false,
     "input": [
      "servlis.sort()"
     ],
     "language": "python",
     "metadata": {},
     "outputs": [],
     "prompt_number": 92
    },
    {
     "cell_type": "code",
     "collapsed": false,
     "input": [
      "fservlz = list(set(servlis))"
     ],
     "language": "python",
     "metadata": {},
     "outputs": [],
     "prompt_number": 94
    },
    {
     "cell_type": "code",
     "collapsed": false,
     "input": [
      "fservlz.sort()"
     ],
     "language": "python",
     "metadata": {},
     "outputs": [],
     "prompt_number": 96
    },
    {
     "cell_type": "code",
     "collapsed": false,
     "input": [
      "fservlz"
     ],
     "language": "python",
     "metadata": {},
     "outputs": [
      {
       "output_type": "pyout",
       "prompt_number": 97,
       "text": [
        "[4,\n",
        " 5,\n",
        " 6,\n",
        " 308287,\n",
        " 3135725,\n",
        " 3445812,\n",
        " u'107.170.136.184',\n",
        " u'128.199.199.74',\n",
        " u'188.226.209.162',\n",
        " u'active',\n",
        " u'catgang',\n",
        " u'compohub',\n",
        " u'wcmckee']"
       ]
      }
     ],
     "prompt_number": 97
    },
    {
     "cell_type": "code",
     "collapsed": false,
     "input": [
      "from crontab import CronTab"
     ],
     "language": "python",
     "metadata": {},
     "outputs": [],
     "prompt_number": 98
    },
    {
     "cell_type": "code",
     "collapsed": false,
     "input": [
      "syscrm = CronTab()"
     ],
     "language": "python",
     "metadata": {},
     "outputs": [],
     "prompt_number": 99
    },
    {
     "cell_type": "code",
     "collapsed": false,
     "input": [
      "job = syscrm.new(command='cd learnpython; ipython notebook --profile=wcm')"
     ],
     "language": "python",
     "metadata": {},
     "outputs": [],
     "prompt_number": 111
    },
    {
     "cell_type": "code",
     "collapsed": false,
     "input": [
      "job.every_reboot()"
     ],
     "language": "python",
     "metadata": {},
     "outputs": [
      {
       "output_type": "pyout",
       "prompt_number": 112,
       "text": [
        "True"
       ]
      }
     ],
     "prompt_number": 112
    },
    {
     "cell_type": "code",
     "collapsed": false,
     "input": [
      "job.enable()"
     ],
     "language": "python",
     "metadata": {},
     "outputs": [
      {
       "output_type": "pyout",
       "prompt_number": 113,
       "text": [
        "True"
       ]
      }
     ],
     "prompt_number": 113
    },
    {
     "cell_type": "code",
     "collapsed": false,
     "input": [
      "job.frequency_per_day()\n"
     ],
     "language": "python",
     "metadata": {},
     "outputs": [
      {
       "output_type": "pyout",
       "prompt_number": 117,
       "text": [
        "1440"
       ]
      }
     ],
     "prompt_number": 117
    },
    {
     "cell_type": "code",
     "collapsed": false,
     "input": [
      "clisz = []"
     ],
     "language": "python",
     "metadata": {},
     "outputs": []
    },
    {
     "cell_type": "code",
     "collapsed": false,
     "input": [
      "svex = ia.search_movie('game of thrones')"
     ],
     "language": "python",
     "metadata": {},
     "outputs": [],
     "prompt_number": 129
    },
    {
     "cell_type": "code",
     "collapsed": false,
     "input": [
      "thrlis = []"
     ],
     "language": "python",
     "metadata": {},
     "outputs": [],
     "prompt_number": 175
    },
    {
     "cell_type": "code",
     "collapsed": false,
     "input": [
      "for sc in svex:\n",
      "    #print sc\n",
      "    #print sc[u'title']\n",
      "    #thrlis.append(sc[u'long imdb title'])\n",
      "    #thrlis.append(sc.get_current_info)\n",
      "    print sc.getID()\n",
      "    thrlis.append(sc.getID())"
     ],
     "language": "python",
     "metadata": {},
     "outputs": [
      {
       "output_type": "stream",
       "stream": "stdout",
       "text": [
        "0944947\n",
        "2231444\n",
        "3391176\n",
        "2653342\n",
        "2653350\n",
        "2653340\n",
        "2972984\n",
        "3645842\n",
        "3131362\n",
        "2653338\n",
        "2653354\n",
        "3645808\n",
        "2653346\n",
        "2653356\n",
        "2143796\n",
        "2653352\n",
        "3030478\n",
        "2653344\n",
        "2667902\n",
        "2718250\n"
       ]
      }
     ],
     "prompt_number": 176
    },
    {
     "cell_type": "code",
     "collapsed": false,
     "input": [
      "mov = ia.get_movie(thrlis[0])"
     ],
     "language": "python",
     "metadata": {},
     "outputs": [],
     "prompt_number": 177
    },
    {
     "cell_type": "code",
     "collapsed": false,
     "input": [
      "mov.guessLanguage()"
     ],
     "language": "python",
     "metadata": {},
     "outputs": [
      {
       "output_type": "pyout",
       "prompt_number": 179,
       "text": [
        "u'English'"
       ]
      }
     ],
     "prompt_number": 179
    },
    {
     "cell_type": "code",
     "collapsed": false,
     "input": [
      "cast = mov['cast'][0]"
     ],
     "language": "python",
     "metadata": {},
     "outputs": [],
     "prompt_number": 189
    },
    {
     "cell_type": "code",
     "collapsed": false,
     "input": [
      "ia.update(cast)"
     ],
     "language": "python",
     "metadata": {},
     "outputs": [],
     "prompt_number": 192
    },
    {
     "cell_type": "code",
     "collapsed": false,
     "input": [
      "cast[u'name']"
     ],
     "language": "python",
     "metadata": {},
     "outputs": [
      {
       "output_type": "pyout",
       "prompt_number": 193,
       "text": [
        "u'Peter Dinklage'"
       ]
      }
     ],
     "prompt_number": 193
    },
    {
     "cell_type": "code",
     "collapsed": false,
     "input": [
      "cast.notes"
     ],
     "language": "python",
     "metadata": {},
     "outputs": [
      {
       "output_type": "pyout",
       "prompt_number": 196,
       "text": [
        "u'(38 episodes, 2011-2014)'"
       ]
      }
     ],
     "prompt_number": 196
    },
    {
     "cell_type": "code",
     "collapsed": false,
     "input": [
      "cast.items()"
     ],
     "language": "python",
     "metadata": {},
     "outputs": [
      {
       "output_type": "pyout",
       "prompt_number": 209,
       "text": [
        "[(u'soundtrack tv',\n",
        "  [<Movie id:0072562[http] title:_Saturday Night Live (2013)_>]),\n",
        " ('name', u'Peter Dinklage'),\n",
        " ('in development',\n",
        "  [<Movie id:3510266[http] title:_The Chess Machine (????)_>,\n",
        "   <Movie id:2386223[http] title:_Fellini Black and White (????)_>,\n",
        "   <Movie id:2953180[http] title:_Hop Frog (????)_>]),\n",
        " ('self',\n",
        "  [<Movie id:0115147[http] title:_The Daily Show with Jon Stewart (2003)_>,\n",
        "   <Movie id:0081857[http] title:_Entertainment Tonight (2014)_>,\n",
        "   <Movie id:2761236[http] title:_omg! Insider (2014)_>,\n",
        "   <Movie id:3477194[http] title:_The 20th Annual Screen Actors Guild Awards (2014)_>,\n",
        "   <Movie id:3170732[http] title:_The 65th Primetime Emmy Awards (2013)_>,\n",
        "   <Movie id:2806252[http] title:_2013 MTV Movie Awards (2013)_>,\n",
        "   <Movie id:2262378[http] title:_The 64th Primetime Emmy Awards (2012)_>,\n",
        "   <Movie id:2125640[http] title:_The 69th Annual Golden Globe Awards (2012)_>,\n",
        "   <Movie id:2972984[http] title:_Game of Thrones: You Win or You Die - Inside the HBO Series (2012)_>,\n",
        "   <Movie id:2177699[http] title:_Scream Awards 2011 (2011)_>,\n",
        "   <Movie id:2056718[http] title:_The 63rd Primetime Emmy Awards (2011)_>,\n",
        "   <Movie id:1292039[http] title:_Starz Inside: Fantastic Flesh (2008)_>,\n",
        "   <Movie id:0795174[http] title:_P.O.V. (2004)_>,\n",
        "   <Movie id:0937105[http] title:_The Real Family of Jesus (2005)_>,\n",
        "   <Movie id:0389591[http] title:_Celebrity Poker Showdown (2005)_>,\n",
        "   <Movie id:0387199[http] title:_Entourage (2005)_>,\n",
        "   <Movie id:0291604[http] title:_Dinner for Five (2004)_>,\n",
        "   <Movie id:0449465[http] title:_The 2004 IFP/West Independent Spirit Awards (2004)_>,\n",
        "   <Movie id:0103569[http] title:_The Tonight Show with Jay Leno (2003)_>,\n",
        "   <Movie id:1249207[http] title:_CBS Cares (2000)_>,\n",
        "   <Movie id:0459660[http] title:_Nobody Wants Your Film (2005)_>,\n",
        "   <Movie id:0454782[http] title:_As Smart As They Are: The Author Project (2005)_>,\n",
        "   <Movie id:2653342[http] title:_Game of Thrones: Season 2 - Character Profiles (2013)_>,\n",
        "   <Movie id:2596270[http] title:_Ice Age Continental Drift: Through a Pirate's Spyglass: Voices Ahoy! (2012)_>,\n",
        "   <Movie id:2653338[http] title:_Game of Thrones: Season 2 - How to Be an Extra (2012)_>,\n",
        "   <Movie id:2653356[http] title:_Game of Thrones: Destinations of Season 2 (2012)_>,\n",
        "   <Movie id:2653340[http] title:_Game of Thrones: Season 2 - Invitation to the Set (2012)_>,\n",
        "   <Movie id:2667902[http] title:_Game of Thrones: Season 2 - In Production: Croatia (2012)_>,\n",
        "   <Movie id:2653350[http] title:_Game of Thrones: Costumes (2011)_>,\n",
        "   <Movie id:2653352[http] title:_Game of Thrones: Inside the Night's Watch (2011)_>]),\n",
        " ('mini biography',\n",
        "  [u'Peter Dinklage was born in Morristown, New Jersey. In 1991, he received a degree in drama from Bennington College and began his career. He continues to work in the theatre with roles in \"The Killing Act\", \"Imperfect Love\", and \"Richard III\".Peter Dinklage received acclaim for his first film, Living in Oblivion (1995), where he played an actor frustrated with the limited and caricatured roles offered to dwarf actors. In 2003, he starred in The Station Agent (2003), written and directed by Thomas McCarthy. The movie received critical praise and Peter was nominated for best actor at the \"Screen Actors Guild\" and \"Independent Spirit Awards\". He played \"Miles Finch\", an acclaimed children\\'s book author, in the comical 2003 film, Elf (2003). The English Death at a Funeral (2007) and American Death at a Funeral (2010), Penelope (2006) and The Chronicles of Narnia: Prince Caspian (2008) are a few more of his feature films.He had recurring appearances in such television shows as HBO\\'s Entourage (2004) and ABC\\'s Life As We Know It (2004). He played a larger role in the critically-acclaimed, yet short-lived CBS show, Threshold (2005). In 2011, he landed a primary role, as \"Tyrion Lannister\", on the HBO series, Game of Thrones (2011). Tyrion\\'s wit made him a favorite character on the series. At the 2011 Primetime Emmy Awards, Peter Dinklage won an Emmy in the best supporting actor category for his role as \"Tyrion Lannister\".::Alex Gold']),\n",
        " ('actor',\n",
        "  [<Movie id:2120120[http] title:_Pixels (2015)_>,\n",
        "   <Movie id:3255124[http] title:_O' Lucky Day (2015)_>,\n",
        "   <Movie id:3660078[http] title:_Taxi (2015)_>,\n",
        "   <Movie id:1877832[http] title:_X-Men: Days of Future Past (2014)_>,\n",
        "   <Movie id:2331047[http] title:_Rememory (I) (2013)_>,\n",
        "   <Movie id:1294970[http] title:_The Angriest Man in Brooklyn (2014)_>,\n",
        "   <Movie id:1864405[http] title:_Low Down (2014)_>,\n",
        "   <Movie id:1545660[http] title:_Knights of Badassdom (2013)_>,\n",
        "   <Movie id:1817081[http] title:_A Case of You (2013)_>,\n",
        "   <Movie id:1667889[http] title:_Ice Age: Continental Drift (2012)_>,\n",
        "   <Movie id:2115386[http] title:_Scrat's Continental Crack-Up: Part 2 (2011)_>,\n",
        "   <Movie id:1440161[http] title:_A Little Bit of Heaven (2011)_>,\n",
        "   <Movie id:1381413[http] title:_Pete Smalls Is Dead (2010)_>,\n",
        "   <Movie id:1268970[http] title:_The Last Rites of Ransom Pride (2010)_>,\n",
        "   <Movie id:1376709[http] title:_I Love You Too (2010)_>,\n",
        "   <Movie id:1321509[http] title:_Death at a Funeral (2010)_>,\n",
        "   <Movie id:1276105[http] title:_Saint John of Las Vegas (2009)_>,\n",
        "   <Movie id:0499448[http] title:_The Chronicles of Narnia: Prince Caspian (2008)_>,\n",
        "   <Movie id:0467110[http] title:_Underdog (2007)_>,\n",
        "   <Movie id:0795368[http] title:_Death at a Funeral (2007)_>,\n",
        "   <Movie id:0768167[http] title:_Ascension Day (2007)_>,\n",
        "   <Movie id:0472160[http] title:_Penelope (2006)_>,\n",
        "   <Movie id:0418835[http] title:_Little Fugitive (2006)_>,\n",
        "   <Movie id:0419749[http] title:_Find Me Guilty (2006)_>,\n",
        "   <Movie id:0756677[http] title:_The Limbo Room (2006)_>,\n",
        "   <Movie id:0238992[http] title:_Fortunes (2005)_>,\n",
        "   <Movie id:0431213[http] title:_Lassie (2005)_>,\n",
        "   <Movie id:0476988[http] title:_Escape Artists (2005)_>,\n",
        "   <Movie id:0401244[http] title:_The Baxter (2005)_>,\n",
        "   <Movie id:0399215[http] title:_Jail Bait (2004)_>,\n",
        "   <Movie id:0765496[http] title:_89 Seconds at Alc\u00e1zar (2004)_>,\n",
        "   <Movie id:0393836[http] title:_Surviving Eden (2004)_>,\n",
        "   <Movie id:0319343[http] title:_Elf (2003)_>,\n",
        "   <Movie id:0316768[http] title:_Tiptoes (2003)_>,\n",
        "   <Movie id:0340377[http] title:_The Station Agent (2003)_>,\n",
        "   <Movie id:0245479[http] title:_Just a Kiss (2002)_>,\n",
        "   <Movie id:0276744[http] title:_13 Moons (2002)_>,\n",
        "   <Movie id:0219822[http] title:_Human Nature (2001)_>,\n",
        "   <Movie id:0244094[http] title:_Never Again (2001)_>,\n",
        "   <Movie id:0138705[http] title:_Pigeonholed (1999)_>,\n",
        "   <Movie id:0120813[http] title:_Safe Men (1998)_>,\n",
        "   <Movie id:0115781[http] title:_Bullet (1996)_>,\n",
        "   <Movie id:0113677[http] title:_Living in Oblivion (1995)_>,\n",
        "   <Movie id:2249372[http] title:_Ice Age: Continental Drift - Arctic Games (2012)_>,\n",
        "   <Movie id:1334439[http] title:_The Chronicles of Narnia: Prince Caspian (2008)_>,\n",
        "   <Movie id:0944947[http] title:_Game of Thrones (2011)_>,\n",
        "   <Movie id:0182576[http] title:_Family Guy (2014)_>,\n",
        "   <Movie id:0072562[http] title:_Saturday Night Live (2013)_>,\n",
        "   <Movie id:0496424[http] title:_30 Rock (2009)_>,\n",
        "   <Movie id:0361217[http] title:_Nip/Tuck (2006)_>,\n",
        "   <Movie id:0460686[http] title:_Threshold (2005)_>,\n",
        "   <Movie id:0757354[http] title:_Ultra (2006)_>,\n",
        "   <Movie id:0780624[http] title:_Testing Bob (2005)_>,\n",
        "   <Movie id:0411004[http] title:_Life As We Know It (2005)_>,\n",
        "   <Movie id:0366027[http] title:_I'm with Her (2004)_>,\n",
        "   <Movie id:0197182[http] title:_Third Watch (2002)_>,\n",
        "   <Movie id:0247135[http] title:_The $treet (2001)_>,\n",
        "   <Movie id:0098904[http] title:_Seinfeld (1995)_>]),\n",
        " ('height', u'4\\' 5\" (1.35 m)'),\n",
        " ('birth notes', u'Morristown, New Jersey, USA'),\n",
        " (u'producer movie',\n",
        "  [<Movie id:3255124[http] title:_O' Lucky Day (2015)_>,\n",
        "   <Movie id:1381413[http] title:_Pete Smalls Is Dead (2010)_>]),\n",
        " ('headshot',\n",
        "  u'http://ia.media-imdb.com/images/M/MV5BMTM1MTI5Mzc0MF5BMl5BanBnXkFtZTYwNzgzOTQz._V1_SY317_CR20,0,214,317_AL_.jpg'),\n",
        " (u'thanks movie', [<Movie id:0857191[http] title:_The Visitor (I) (2007)_>]),\n",
        " (u'stunts tv', [<Movie id:0118421[http] title:_Oz (2001)_>]),\n",
        " ('birth date', u'1969'),\n",
        " ('canonical name', u'Dinklage, Peter'),\n",
        " ('long imdb name', u'Peter Dinklage'),\n",
        " ('long imdb canonical name', u'Dinklage, Peter'),\n",
        " ('full-size headshot',\n",
        "  u'http://ia.media-imdb.com/images/M/MV5BMTM1MTI5Mzc0MF5BMl5BanBnXkFtZTYwNzgzOTQz._V1_SY317_CR20,0,214,317_AL_.jpg')]"
       ]
      }
     ],
     "prompt_number": 209
    },
    {
     "cell_type": "code",
     "collapsed": false,
     "input": [
      "imghed = cast['headshot']"
     ],
     "language": "python",
     "metadata": {},
     "outputs": [],
     "prompt_number": 211
    },
    {
     "cell_type": "code",
     "collapsed": false,
     "input": [
      "from IPython.display import Image"
     ],
     "language": "python",
     "metadata": {},
     "outputs": [],
     "prompt_number": 212
    },
    {
     "cell_type": "code",
     "collapsed": false,
     "input": [
      "Image(imghed)"
     ],
     "language": "python",
     "metadata": {},
     "outputs": [
      {
       "jpeg": "[encoded data removed]",
       "output_type": "pyout",
       "prompt_number": 214,
       "text": [
        "<IPython.core.display.Image at 0x37b7f10>"
       ]
      }
     ],
     "prompt_number": 214
    },
    {
     "cell_type": "code",
     "collapsed": false,
     "input": [
      "cast.summary()"
     ],
     "language": "python",
     "metadata": {},
     "outputs": [
      {
       "output_type": "pyout",
       "prompt_number": 205,
       "text": [
        "u'Person\\n=====\\nName: Dinklage, Peter\\nBirth date: 1969 (Morristown, New Jersey, USA).\\nBiography: Peter Dinklage was born in Morristown, New Jersey. In 1991, he received a degree in drama from Bennington College and began his career. He continues to work in the theatre with roles in \"The Killing Act\", \"Imperfect Love\", and \"Richard III\".Peter Dinklage received acclaim for his first film, Living in Oblivion (1995), where he played an actor frustrated with the limited and caricatured roles offered to dwarf actors. In 2003, he starred in The Station Agent (2003), written and directed by Thomas McCarthy. The movie received critical praise and Peter was nominated for best actor at the \"Screen Actors Guild\" and \"Independent Spirit Awards\". He played \"Miles Finch\", an acclaimed children\\'s book author, in the comical 2003 film, Elf (2003). The English Death at a Funeral (2007) and American Death at a Funeral (2010), Penelope (2006) and The Chronicles of Narnia: Prince Caspian (2008) are a few more of his feature films.He had recurring appearances in such television shows as HBO\\'s Entourage (2004) and ABC\\'s Life As We Know It (2004). He played a larger role in the critically-acclaimed, yet short-lived CBS show, Threshold (2005). In 2011, he landed a primary role, as \"Tyrion Lannister\", on the HBO series, Game of Thrones (2011). Tyrion\\'s wit made him a favorite character on the series. At the 2011 Primetime Emmy Awards, Peter Dinklage won an Emmy in the best supporting actor category for his role as \"Tyrion Lannister\".::Alex Gold\\nLast movies acted: Pixels (2015); O\\' Lucky Day (2015); Taxi (2015); X-Men: Days of Future Past (2014); Rememory (I) (2013).\\n'"
       ]
      }
     ],
     "prompt_number": 205
    },
    {
     "cell_type": "code",
     "collapsed": false,
     "input": [
      "for caz in cast.current_info:\n",
      "    print caz"
     ],
     "language": "python",
     "metadata": {},
     "outputs": [
      {
       "output_type": "stream",
       "stream": "stdout",
       "text": [
        "main\n",
        "filmography\n",
        "biography\n"
       ]
      }
     ],
     "prompt_number": 200
    },
    {
     "cell_type": "code",
     "collapsed": false,
     "input": [
      "cast.current_info[0]"
     ],
     "language": "python",
     "metadata": {},
     "outputs": [
      {
       "output_type": "pyout",
       "prompt_number": 202,
       "text": [
        "'main'"
       ]
      }
     ],
     "prompt_number": 202
    },
    {
     "cell_type": "code",
     "collapsed": false,
     "input": [
      "thrlis"
     ],
     "language": "python",
     "metadata": {},
     "outputs": [
      {
       "output_type": "pyout",
       "prompt_number": 183,
       "text": [
        "['0944947',\n",
        " '2231444',\n",
        " '3391176',\n",
        " '2653342',\n",
        " '2653350',\n",
        " '2653340',\n",
        " '2972984',\n",
        " '3645842',\n",
        " '3131362',\n",
        " '2653338',\n",
        " '2653354',\n",
        " '3645808',\n",
        " '2653346',\n",
        " '2653356',\n",
        " '2143796',\n",
        " '2653352',\n",
        " '3030478',\n",
        " '2653344',\n",
        " '2667902',\n",
        " '2718250']"
       ]
      }
     ],
     "prompt_number": 183
    },
    {
     "cell_type": "code",
     "collapsed": false,
     "input": [
      "svex"
     ],
     "language": "python",
     "metadata": {},
     "outputs": [
      {
       "output_type": "pyout",
       "prompt_number": 160,
       "text": [
        "[<Movie id:0944947[http] title:_\"Game of Thrones\" (2011)_>,\n",
        " <Movie id:2231444[http] title:_Game of Thrones (2012) (VG)_>,\n",
        " <Movie id:3391176[http] title:_Game of Thrones (2014) (VG)_>,\n",
        " <Movie id:2653342[http] title:_Game of Thrones: Season 2 - Character Profiles (2013) (V)_>,\n",
        " <Movie id:2653350[http] title:_Game of Thrones: Costumes (2011) (V)_>,\n",
        " <Movie id:2653340[http] title:_Game of Thrones: Season 2 - Invitation to the Set (2012) (V)_>,\n",
        " <Movie id:2972984[http] title:_Game of Thrones: You Win or You Die - Inside the HBO Series (2012) (TV)_>,\n",
        " <Movie id:3645842[http] title:_Game of Thrones: The Politics of Power - A Look Back at Season 3 (2014) (TV)_>,\n",
        " <Movie id:3131362[http] title:_Sex Game of Thrones (2012) (V)_>,\n",
        " <Movie id:2653338[http] title:_Game of Thrones: Season 2 - How to Be an Extra (2012) (V)_>,\n",
        " <Movie id:2653354[http] title:_Making of Game of Thrones (2011) (V)_>,\n",
        " <Movie id:3645808[http] title:_Game of Thrones Ice and Fire: A Foreshadowing (2014) (TV)_>,\n",
        " <Movie id:2653346[http] title:_Game of Thrones: Season 2 - In Production, Iceland (2012) (V)_>,\n",
        " <Movie id:2653356[http] title:_Game of Thrones: Destinations of Season 2 (2012) (V)_>,\n",
        " <Movie id:2143796[http] title:_\"Stupid for Game of Thrones\" (2012)_>,\n",
        " <Movie id:2653352[http] title:_Game of Thrones: Inside the Night's Watch (2011) (V)_>,\n",
        " <Movie id:3030478[http] title:_Game of Thrones Ascent (2013) (VG)_>,\n",
        " <Movie id:2653344[http] title:_Game of Thrones: Season 2 - In Production, Belfast (2011) (V)_>,\n",
        " <Movie id:2667902[http] title:_Game of Thrones: Season 2 - In Production: Croatia (2012) (V)_>,\n",
        " <Movie id:2718250[http] title:_Game of Thrones Impressions (2012) (V)_>]"
       ]
      }
     ],
     "prompt_number": 160
    },
    {
     "cell_type": "code",
     "collapsed": false,
     "input": [
      "dex = ia.get_character('dexter')"
     ],
     "language": "python",
     "metadata": {},
     "outputs": [
      {
       "output_type": "stream",
       "stream": "stderr",
       "text": [
        "2014-05-06 07:27:29,584 CRITICAL [imdbpy] /usr/lib64/python2.7/site-packages/imdb/_exceptions.py:35: IMDbParserError exception raised; args: ('invalid characterID \"dexter\": invalid literal for int() with base 10: \\'dexter\\'',); kwds: {}\n",
        "Traceback (most recent call last):\n",
        "  File \"/usr/lib64/python2.7/site-packages/imdb/parser/http/__init__.py\", line 358, in _normalize_characterID\n",
        "    return '%07d' % int(characterID)\n",
        "ValueError: invalid literal for int() with base 10: 'dexter'\n"
       ]
      },
      {
       "ename": "IMDbParserError",
       "evalue": "invalid characterID \"dexter\": invalid literal for int() with base 10: 'dexter'",
       "output_type": "pyerr",
       "traceback": [
        "\u001b[1;31m---------------------------------------------------------------------------\u001b[0m\n\u001b[1;31mIMDbParserError\u001b[0m                           Traceback (most recent call last)",
        "\u001b[1;32m<ipython-input-120-567db1ee3bfa>\u001b[0m in \u001b[0;36m<module>\u001b[1;34m()\u001b[0m\n\u001b[1;32m----> 1\u001b[1;33m \u001b[0mdex\u001b[0m \u001b[1;33m=\u001b[0m \u001b[0mia\u001b[0m\u001b[1;33m.\u001b[0m\u001b[0mget_character\u001b[0m\u001b[1;33m(\u001b[0m\u001b[1;34m'dexter'\u001b[0m\u001b[1;33m)\u001b[0m\u001b[1;33m\u001b[0m\u001b[0m\n\u001b[0m",
        "\u001b[1;32m/usr/lib64/python2.7/site-packages/imdb/__init__.pyc\u001b[0m in \u001b[0;36mget_character\u001b[1;34m(self, characterID, info, modFunct)\u001b[0m\n\u001b[0;32m    510\u001b[0m         \u001b[0mIf\u001b[0m \u001b[0mspecified\u001b[0m\u001b[1;33m,\u001b[0m \u001b[0mmodFunct\u001b[0m \u001b[0mwill\u001b[0m \u001b[0mbe\u001b[0m \u001b[0mthe\u001b[0m \u001b[0mfunction\u001b[0m \u001b[0mused\u001b[0m \u001b[0mby\u001b[0m \u001b[0mthe\u001b[0m \u001b[0mCharacter\u001b[0m\u001b[1;33m\u001b[0m\u001b[0m\n\u001b[0;32m    511\u001b[0m         object when accessing its text fields (like 'biography').\"\"\"\n\u001b[1;32m--> 512\u001b[1;33m         \u001b[0mcharacterID\u001b[0m \u001b[1;33m=\u001b[0m \u001b[0mself\u001b[0m\u001b[1;33m.\u001b[0m\u001b[0m_normalize_characterID\u001b[0m\u001b[1;33m(\u001b[0m\u001b[0mcharacterID\u001b[0m\u001b[1;33m)\u001b[0m\u001b[1;33m\u001b[0m\u001b[0m\n\u001b[0m\u001b[0;32m    513\u001b[0m         \u001b[0mcharacterID\u001b[0m \u001b[1;33m=\u001b[0m \u001b[0mself\u001b[0m\u001b[1;33m.\u001b[0m\u001b[0m_get_real_characterID\u001b[0m\u001b[1;33m(\u001b[0m\u001b[0mcharacterID\u001b[0m\u001b[1;33m)\u001b[0m\u001b[1;33m\u001b[0m\u001b[0m\n\u001b[0;32m    514\u001b[0m         character = Character.Character(characterID=characterID,\n",
        "\u001b[1;32m/usr/lib64/python2.7/site-packages/imdb/parser/http/__init__.pyc\u001b[0m in \u001b[0;36m_normalize_characterID\u001b[1;34m(self, characterID)\u001b[0m\n\u001b[0;32m    359\u001b[0m         \u001b[1;32mexcept\u001b[0m \u001b[0mValueError\u001b[0m\u001b[1;33m,\u001b[0m \u001b[0me\u001b[0m\u001b[1;33m:\u001b[0m\u001b[1;33m\u001b[0m\u001b[0m\n\u001b[0;32m    360\u001b[0m             raise IMDbParserError('invalid characterID \"%s\": %s' % \\\n\u001b[1;32m--> 361\u001b[1;33m                     (characterID, e))\n\u001b[0m\u001b[0;32m    362\u001b[0m \u001b[1;33m\u001b[0m\u001b[0m\n\u001b[0;32m    363\u001b[0m     \u001b[1;32mdef\u001b[0m \u001b[0m_normalize_companyID\u001b[0m\u001b[1;33m(\u001b[0m\u001b[0mself\u001b[0m\u001b[1;33m,\u001b[0m \u001b[0mcompanyID\u001b[0m\u001b[1;33m)\u001b[0m\u001b[1;33m:\u001b[0m\u001b[1;33m\u001b[0m\u001b[0m\n",
        "\u001b[1;31mIMDbParserError\u001b[0m: invalid characterID \"dexter\": invalid literal for int() with base 10: 'dexter'"
       ]
      }
     ],
     "prompt_number": 120
    },
    {
     "cell_type": "code",
     "collapsed": false,
     "input": [
      "from imdb import IMDb\n",
      "ia = IMDb()\n",
      "\n",
      "the_matrix = ia.get_movie('0133093')\n",
      "print the_matrix['director']\n",
      "\n",
      "for person in ia.search_person('Mel Gibson'):\n",
      "        print person.personID, person['name']"
     ],
     "language": "python",
     "metadata": {},
     "outputs": [
      {
       "output_type": "stream",
       "stream": "stdout",
       "text": [
        "[<Person id:0905152[http] name:_Wachowski, Andy_>, <Person id:0905154[http] name:_Wachowski, Lana_>]\n",
        "0000154"
       ]
      },
      {
       "output_type": "stream",
       "stream": "stdout",
       "text": [
        " Mel Gibson\n",
        "2153167 Mel Gibson\n",
        "0317112 Mel Gibson\n",
        "2800055 Mel Gibson\n",
        "4798507 Mel A. Gibson\n",
        "3323885 Adam Taylor\n",
        "0000316 Mel Brooks\n",
        "0004959 Thomas Gibson\n",
        "0879085 Tyrese Gibson\n",
        "0316933 Deborah Gibson\n",
        "0002099 Henry Gibson\n",
        "0002072 Mel Ferrer\n",
        "0809321 Mel Smith\n",
        "0000305 Mel Blanc\n",
        "0004995 Mel Harris\n",
        "2706397 Leah Gibson\n",
        "0316945 Donal Gibson\n",
        "0868123 Mel Torm\u00e9\n",
        "0317159 Richard Gibson\n",
        "0735440 Mel Rodriguez\n"
       ]
      }
     ],
     "prompt_number": 119
    },
    {
     "cell_type": "code",
     "collapsed": false,
     "input": [
      "servlis"
     ],
     "language": "python",
     "metadata": {},
     "outputs": [
      {
       "output_type": "pyout",
       "prompt_number": 93,
       "text": [
        "[4,\n",
        " 4,\n",
        " 5,\n",
        " 5,\n",
        " 6,\n",
        " 6,\n",
        " 308287,\n",
        " 308287,\n",
        " 308287,\n",
        " 308287,\n",
        " 308287,\n",
        " 308287,\n",
        " 308287,\n",
        " 308287,\n",
        " 3135725,\n",
        " 3135725,\n",
        " 3135725,\n",
        " 3135725,\n",
        " 3135725,\n",
        " 3445812,\n",
        " 3445812,\n",
        " 3445812,\n",
        " 3445812,\n",
        " 3445812,\n",
        " u'107.170.136.184',\n",
        " u'107.170.136.184',\n",
        " u'107.170.136.184',\n",
        " u'107.170.136.184',\n",
        " u'107.170.136.184',\n",
        " u'128.199.199.74',\n",
        " u'128.199.199.74',\n",
        " u'128.199.199.74',\n",
        " u'128.199.199.74',\n",
        " u'128.199.199.74',\n",
        " u'128.199.199.74',\n",
        " u'128.199.199.74',\n",
        " u'128.199.199.74',\n",
        " u'188.226.209.162',\n",
        " u'188.226.209.162',\n",
        " u'188.226.209.162',\n",
        " u'188.226.209.162',\n",
        " u'188.226.209.162',\n",
        " u'active',\n",
        " u'active',\n",
        " u'active',\n",
        " u'active',\n",
        " u'active',\n",
        " u'active',\n",
        " u'active',\n",
        " u'active',\n",
        " u'active',\n",
        " u'active',\n",
        " u'active',\n",
        " u'active',\n",
        " u'active',\n",
        " u'active',\n",
        " u'active',\n",
        " u'active',\n",
        " u'active',\n",
        " u'active',\n",
        " u'catgang',\n",
        " u'catgang',\n",
        " u'catgang',\n",
        " u'catgang',\n",
        " u'catgang',\n",
        " u'compohub',\n",
        " u'compohub',\n",
        " u'compohub',\n",
        " u'compohub',\n",
        " u'compohub',\n",
        " u'wcmckee',\n",
        " 'wcmckee',\n",
        " 'wcmckee',\n",
        " 'wcmckee',\n",
        " u'wcmckee',\n",
        " 'wcmckee',\n",
        " u'wcmckee',\n",
        " 'wcmckee',\n",
        " u'wcmckee',\n",
        " 'wcmckee',\n",
        " 'wcmckee',\n",
        " 'wcmckee',\n",
        " u'wcmckee',\n",
        " 'wcmckee',\n",
        " 'wcmckee',\n",
        " 'wcmckee',\n",
        " u'wcmckee',\n",
        " 'wcmckee',\n",
        " 'wcmckee',\n",
        " 'wcmckee',\n",
        " u'wcmckee',\n",
        " 'wcmckee',\n",
        " u'wcmckee',\n",
        " 'wcmckee',\n",
        " 'wcmckee',\n",
        " 'wcmckee']"
       ]
      }
     ],
     "prompt_number": 93
    },
    {
     "cell_type": "code",
     "collapsed": false,
     "input": [
      "olis = ['name', 'ip', 'status', 'id', 'user'] * 3"
     ],
     "language": "python",
     "metadata": {},
     "outputs": [],
     "prompt_number": 84
    },
    {
     "cell_type": "code",
     "collapsed": false,
     "input": [
      "dictac = zip(olis, servlis)"
     ],
     "language": "python",
     "metadata": {},
     "outputs": [],
     "prompt_number": 85
    },
    {
     "cell_type": "code",
     "collapsed": false,
     "input": [
      "dictac"
     ],
     "language": "python",
     "metadata": {},
     "outputs": [
      {
       "output_type": "pyout",
       "prompt_number": 86,
       "text": [
        "[('name', u'wcmckee'),\n",
        " ('ip', u'128.199.199.74'),\n",
        " ('status', u'active'),\n",
        " ('id', 308287),\n",
        " ('user', 'wcmckee'),\n",
        " ('name', u'catgang'),\n",
        " ('ip', u'188.226.209.162'),\n",
        " ('status', u'active'),\n",
        " ('id', 3135725),\n",
        " ('user', 'wcmckee'),\n",
        " ('name', u'compohub'),\n",
        " ('ip', u'107.170.136.184'),\n",
        " ('status', u'active'),\n",
        " ('id', 3445812),\n",
        " ('user', 'wcmckee')]"
       ]
      }
     ],
     "prompt_number": 86
    },
    {
     "cell_type": "markdown",
     "metadata": {},
     "source": [
      "when converting to a dict why does it only take the first part of dictac."
     ]
    },
    {
     "cell_type": "code",
     "collapsed": false,
     "input": [
      "dicza = dict(dictac)"
     ],
     "language": "python",
     "metadata": {},
     "outputs": [],
     "prompt_number": 73
    },
    {
     "cell_type": "code",
     "collapsed": false,
     "input": [
      "dicza"
     ],
     "language": "python",
     "metadata": {},
     "outputs": [
      {
       "output_type": "pyout",
       "prompt_number": 74,
       "text": [
        "{'id': 3445812,\n",
        " 'ip': u'107.170.136.184',\n",
        " 'name': u'compohub',\n",
        " 'status': u'active',\n",
        " 'user': 'wcmckee'}"
       ]
      }
     ],
     "prompt_number": 74
    },
    {
     "cell_type": "code",
     "collapsed": false,
     "input": [
      "jsndigoc = json.dumps(dicza)"
     ],
     "language": "python",
     "metadata": {},
     "outputs": [],
     "prompt_number": 64
    },
    {
     "cell_type": "code",
     "collapsed": false,
     "input": [
      "jsndigoc"
     ],
     "language": "python",
     "metadata": {},
     "outputs": [
      {
       "output_type": "pyout",
       "prompt_number": 66,
       "text": [
        "'{\"status\": \"active\", \"ip\": \"107.170.136.184\", \"user\": \"wcmckee\", \"name\": \"compohub\", \"id\": 3445812}'"
       ]
      }
     ],
     "prompt_number": 66
    },
    {
     "cell_type": "code",
     "collapsed": false,
     "input": [
      "digocz = open('/home/will/Desktop/brobeur-static/feeds/digocserv.json', 'w')"
     ],
     "language": "python",
     "metadata": {},
     "outputs": [],
     "prompt_number": 67
    },
    {
     "cell_type": "code",
     "collapsed": false,
     "input": [
      "digocz.write(jsndigoc)"
     ],
     "language": "python",
     "metadata": {},
     "outputs": [],
     "prompt_number": 68
    },
    {
     "cell_type": "code",
     "collapsed": false,
     "input": [
      "digocz.close()"
     ],
     "language": "python",
     "metadata": {},
     "outputs": [],
     "prompt_number": 69
    },
    {
     "cell_type": "code",
     "collapsed": false,
     "input": [
      "servlis"
     ],
     "language": "python",
     "metadata": {},
     "outputs": [
      {
       "output_type": "pyout",
       "prompt_number": 42,
       "text": [
        "[u'wcmckee',\n",
        " u'128.199.199.74',\n",
        " u'active',\n",
        " 308287,\n",
        " 'wcmckee',\n",
        " u'catgang',\n",
        " u'188.226.209.162',\n",
        " u'active',\n",
        " 3135725,\n",
        " 'wcmckee',\n",
        " u'compohub',\n",
        " u'107.170.136.184',\n",
        " u'active',\n",
        " 3445812,\n",
        " 'wcmckee']"
       ]
      }
     ],
     "prompt_number": 42
    },
    {
     "cell_type": "code",
     "collapsed": false,
     "input": [
      "dropo.ip_address"
     ],
     "language": "python",
     "metadata": {},
     "outputs": [
      {
       "output_type": "pyout",
       "prompt_number": 43,
       "text": [
        "u'128.199.199.74'"
       ]
      }
     ],
     "prompt_number": 43
    },
    {
     "cell_type": "code",
     "collapsed": false,
     "input": [
      "dropo.name"
     ],
     "language": "python",
     "metadata": {},
     "outputs": [
      {
       "output_type": "pyout",
       "prompt_number": 44,
       "text": [
        "u'wcmckee'"
       ]
      }
     ],
     "prompt_number": 44
    },
    {
     "cell_type": "code",
     "collapsed": false,
     "input": [
      "dropo"
     ],
     "language": "python",
     "metadata": {},
     "outputs": [
      {
       "output_type": "pyout",
       "prompt_number": 45,
       "text": [
        "<digitalocean.Droplet.Droplet at 0x31259d0>"
       ]
      }
     ],
     "prompt_number": 45
    },
    {
     "cell_type": "code",
     "collapsed": false,
     "input": [
      "droplis = []"
     ],
     "language": "python",
     "metadata": {},
     "outputs": [],
     "prompt_number": 46
    },
    {
     "cell_type": "code",
     "collapsed": false,
     "input": [
      "iplis = []"
     ],
     "language": "python",
     "metadata": {},
     "outputs": [],
     "prompt_number": 47
    },
    {
     "cell_type": "code",
     "collapsed": false,
     "input": [
      "dropdict = dict{}"
     ],
     "language": "python",
     "metadata": {},
     "outputs": [
      {
       "ename": "SyntaxError",
       "evalue": "invalid syntax (<ipython-input-48-07dc5ea10dbf>, line 1)",
       "output_type": "pyerr",
       "traceback": [
        "\u001b[1;36m  File \u001b[1;32m\"<ipython-input-48-07dc5ea10dbf>\"\u001b[1;36m, line \u001b[1;32m1\u001b[0m\n\u001b[1;33m    dropdict = dict{}\u001b[0m\n\u001b[1;37m                   ^\u001b[0m\n\u001b[1;31mSyntaxError\u001b[0m\u001b[1;31m:\u001b[0m invalid syntax\n"
       ]
      }
     ],
     "prompt_number": 48
    },
    {
     "cell_type": "code",
     "collapsed": false,
     "input": [
      "drstr = []"
     ],
     "language": "python",
     "metadata": {},
     "outputs": [],
     "prompt_number": 49
    },
    {
     "cell_type": "code",
     "collapsed": false,
     "input": [
      "for dr in mydrop:\n",
      "    print dr.ip_address\n",
      "    droplis.append(dr.name)\n",
      "    droplis.append(dr.ip_address)\n",
      "    iplis.append(dr.ip_address)\n",
      "    droplis.append(dr.status)\n",
      "    print dr.status\n",
      "    droplis.append(dr.region_id)\n",
      "    print dr.region_id\n",
      "    droplis.append(dr.ssh_key_ids)\n",
      "    droplis.append(dr.id)\n",
      "    droplis.append(dr)\n",
      "    print dr.name\n",
      "    print dr.ssh_key_ids\n",
      "    print dr.id\n",
      "    print dr.image_id\n",
      "    print dr\n",
      "    drstr.append(dr)"
     ],
     "language": "python",
     "metadata": {},
     "outputs": [
      {
       "output_type": "stream",
       "stream": "stdout",
       "text": [
        "128.199.199.74\n",
        "active\n",
        "6\n",
        "wcmckee\n",
        "None\n",
        "1331748\n",
        "308287\n",
        "<digitalocean.Droplet.Droplet object at 0x31259d0>\n",
        "188.226.209.162\n",
        "active\n",
        "5\n",
        "catgang\n",
        "None\n",
        "1496053\n",
        "3135725\n",
        "<digitalocean.Droplet.Droplet object at 0x3125a10>\n",
        "107.170.136.184\n",
        "active\n",
        "4\n",
        "compohub\n",
        "None\n",
        "1585671\n",
        "3445812\n",
        "<digitalocean.Droplet.Droplet object at 0x3125a90>\n"
       ]
      }
     ],
     "prompt_number": 50
    },
    {
     "cell_type": "code",
     "collapsed": false,
     "input": [
      "print droplis"
     ],
     "language": "python",
     "metadata": {},
     "outputs": [
      {
       "output_type": "stream",
       "stream": "stdout",
       "text": [
        "[u'wcmckee', u'128.199.199.74', u'active', 6, None, 1331748, <digitalocean.Droplet.Droplet object at 0x31259d0>, u'catgang', u'188.226.209.162', u'active', 5, None, 1496053, <digitalocean.Droplet.Droplet object at 0x3125a10>, u'compohub', u'107.170.136.184', u'active', 4, None, 1585671, <digitalocean.Droplet.Droplet object at 0x3125a90>]\n"
       ]
      }
     ],
     "prompt_number": 51
    },
    {
     "cell_type": "code",
     "collapsed": false,
     "input": [
      "print drstr"
     ],
     "language": "python",
     "metadata": {},
     "outputs": [
      {
       "output_type": "stream",
       "stream": "stdout",
       "text": [
        "[<digitalocean.Droplet.Droplet object at 0x31259d0>, <digitalocean.Droplet.Droplet object at 0x3125a10>, <digitalocean.Droplet.Droplet object at 0x3125a90>]\n"
       ]
      }
     ],
     "prompt_number": 52
    },
    {
     "cell_type": "code",
     "collapsed": false,
     "input": [
      "print iplis"
     ],
     "language": "python",
     "metadata": {},
     "outputs": [
      {
       "output_type": "stream",
       "stream": "stdout",
       "text": [
        "[u'128.199.199.74', u'188.226.209.162', u'107.170.136.184']\n"
       ]
      }
     ],
     "prompt_number": 53
    },
    {
     "cell_type": "code",
     "collapsed": false,
     "input": [
      "#!/usr/bin/python\n",
      " \n",
      "# All SSH libraries for Python are junk (2011-10-13).\n",
      "# Too low-level (libssh2), too buggy (paramiko), too complicated\n",
      "# (both), too poor in features (no use of the agent, for instance)\n",
      " \n",
      "# Here is the right solution today:\n",
      " \n",
      "import subprocess\n",
      "import sys\n",
      " \n",
      "HOST= '74.50.51.32'\n",
      "# Ports are handled in ~/.ssh/config since we use OpenSSH\n",
      "COMMAND=\"uname -a\"\n",
      " \n",
      "ssh = subprocess.Popen([\"ssh\", \"%s\" % HOST, COMMAND],\n",
      "shell=False,\n",
      "stdout=subprocess.PIPE,\n",
      "stderr=subprocess.PIPE)\n",
      "result = ssh.stdout.readlines()\n",
      "if result == []:\n",
      "    error = ssh.stderr.readlines()\n",
      "    print >>sys.stderr, \"ERROR: %s\" % error\n",
      "else:\n",
      "    print result\n"
     ],
     "language": "python",
     "metadata": {},
     "outputs": [
      {
       "output_type": "stream",
       "stream": "stderr",
       "text": [
        "ERROR: ['Connection closed by 74.50.51.32\\r\\n']\n"
       ]
      }
     ],
     "prompt_number": 54
    },
    {
     "cell_type": "code",
     "collapsed": false,
     "input": [
      "pwd"
     ],
     "language": "python",
     "metadata": {},
     "outputs": [
      {
       "output_type": "pyout",
       "prompt_number": 55,
       "text": [
        "u'/home/will/Desktop/artcontrol-api'"
       ]
      }
     ],
     "prompt_number": 55
    },
    {
     "cell_type": "code",
     "collapsed": false,
     "input": [
      "from crontab import CronTab\n",
      "\n",
      "system_cron   = CronTab()\n",
      "system_cron.new"
     ],
     "language": "python",
     "metadata": {},
     "outputs": [
      {
       "output_type": "pyout",
       "prompt_number": 40,
       "text": [
        "<bound method CronTab.new of <crontab.CronTab object at 0x2e44450>>"
       ]
      }
     ],
     "prompt_number": 40
    },
    {
     "cell_type": "code",
     "collapsed": false,
     "input": [
      "dropo.api_key"
     ],
     "language": "python",
     "metadata": {},
     "outputs": [
      {
       "output_type": "pyout",
       "prompt_number": 50,
       "text": [
        "'9898216d345df5b70ab943c5005c05df'"
       ]
      }
     ],
     "prompt_number": 50
    },
    {
     "cell_type": "code",
     "collapsed": false,
     "input": [
      "dropo.call_reponse"
     ],
     "language": "python",
     "metadata": {},
     "outputs": [],
     "prompt_number": 51
    },
    {
     "cell_type": "code",
     "collapsed": false,
     "input": [
      "dropo.image_id"
     ],
     "language": "python",
     "metadata": {},
     "outputs": [
      {
       "output_type": "pyout",
       "prompt_number": 52,
       "text": [
        "308287"
       ]
      }
     ],
     "prompt_number": 52
    },
    {
     "cell_type": "code",
     "collapsed": false,
     "input": [
      "dropo.size_id"
     ],
     "language": "python",
     "metadata": {},
     "outputs": [
      {
       "output_type": "pyout",
       "prompt_number": 53,
       "text": [
        "66"
       ]
      }
     ],
     "prompt_number": 53
    },
    {
     "cell_type": "code",
     "collapsed": false,
     "input": [
      "dropo.events"
     ],
     "language": "python",
     "metadata": {},
     "outputs": [
      {
       "output_type": "pyout",
       "prompt_number": 54,
       "text": [
        "[]"
       ]
      }
     ],
     "prompt_number": 54
    },
    {
     "cell_type": "code",
     "collapsed": false,
     "input": [
      "dropo.size_id"
     ],
     "language": "python",
     "metadata": {},
     "outputs": [
      {
       "output_type": "pyout",
       "prompt_number": 55,
       "text": [
        "66"
       ]
      }
     ],
     "prompt_number": 55
    },
    {
     "cell_type": "code",
     "collapsed": false,
     "input": [
      "domain = manager.get_all_domains"
     ],
     "language": "python",
     "metadata": {},
     "outputs": [],
     "prompt_number": 56
    },
    {
     "cell_type": "code",
     "collapsed": false,
     "input": [
      "print domain"
     ],
     "language": "python",
     "metadata": {},
     "outputs": [
      {
       "output_type": "stream",
       "stream": "stdout",
       "text": [
        "<bound method Manager.get_all_domains of <digitalocean.Manager.Manager object at 0x2fdc410>>\n"
       ]
      }
     ],
     "prompt_number": 57
    },
    {
     "cell_type": "code",
     "collapsed": false,
     "input": [
      "domain.im_self"
     ],
     "language": "python",
     "metadata": {},
     "outputs": [
      {
       "output_type": "pyout",
       "prompt_number": 58,
       "text": [
        "<digitalocean.Manager.Manager at 0x2fdc410>"
       ]
      }
     ],
     "prompt_number": 58
    },
    {
     "cell_type": "code",
     "collapsed": false,
     "input": [
      "gimg = manager.get_global_images"
     ],
     "language": "python",
     "metadata": {},
     "outputs": [],
     "prompt_number": 59
    },
    {
     "cell_type": "code",
     "collapsed": false,
     "input": [
      "gimg"
     ],
     "language": "python",
     "metadata": {},
     "outputs": [
      {
       "output_type": "pyout",
       "prompt_number": 60,
       "text": [
        "<bound method Manager.get_global_images of <digitalocean.Manager.Manager object at 0x2fdc410>>"
       ]
      }
     ],
     "prompt_number": 60
    },
    {
     "cell_type": "code",
     "collapsed": false,
     "input": [
      "list(gimg)"
     ],
     "language": "python",
     "metadata": {},
     "outputs": [
      {
       "ename": "TypeError",
       "evalue": "'instancemethod' object is not iterable",
       "output_type": "pyerr",
       "traceback": [
        "\u001b[1;31m---------------------------------------------------------------------------\u001b[0m\n\u001b[1;31mTypeError\u001b[0m                                 Traceback (most recent call last)",
        "\u001b[1;32m<ipython-input-61-580ff6d51e82>\u001b[0m in \u001b[0;36m<module>\u001b[1;34m()\u001b[0m\n\u001b[1;32m----> 1\u001b[1;33m \u001b[0mlist\u001b[0m\u001b[1;33m(\u001b[0m\u001b[0mgimg\u001b[0m\u001b[1;33m)\u001b[0m\u001b[1;33m\u001b[0m\u001b[0m\n\u001b[0m",
        "\u001b[1;31mTypeError\u001b[0m: 'instancemethod' object is not iterable"
       ]
      }
     ],
     "prompt_number": 61
    },
    {
     "cell_type": "code",
     "collapsed": false,
     "input": [
      "mysnap = manager.get_my_images()"
     ],
     "language": "python",
     "metadata": {},
     "outputs": [],
     "prompt_number": 96
    },
    {
     "cell_type": "code",
     "collapsed": false,
     "input": [
      "my_droplets = manager.get_all_droplets()"
     ],
     "language": "python",
     "metadata": {},
     "outputs": [],
     "prompt_number": 97
    },
    {
     "cell_type": "code",
     "collapsed": false,
     "input": [
      "for snap in mysnap:\n",
      "    print snap.name\n",
      "    print snap.id"
     ],
     "language": "python",
     "metadata": {},
     "outputs": [
      {
       "output_type": "stream",
       "stream": "stdout",
       "text": [
        "deb\n",
        "3266196\n",
        "deb\n",
        "3353451\n"
       ]
      }
     ],
     "prompt_number": 98
    },
    {
     "cell_type": "code",
     "collapsed": false,
     "input": [
      "my_droplets = manager.get_all_droplets()\n",
      "for droplet in my_droplets:\n",
      "    print droplet\n",
      "    droplet.power_off()\n"
     ],
     "language": "python",
     "metadata": {},
     "outputs": [
      {
       "output_type": "stream",
       "stream": "stdout",
       "text": [
        "<digitalocean.Droplet.Droplet object at 0x2fdcd90>\n",
        "<digitalocean.Droplet.Droplet object at 0x2fdcd50>"
       ]
      },
      {
       "output_type": "stream",
       "stream": "stdout",
       "text": [
        "\n"
       ]
      }
     ],
     "prompt_number": 73
    },
    {
     "cell_type": "code",
     "collapsed": false,
     "input": [
      "for droplet in my_droplets:\n",
      "    print droplet\n",
      "    droplet.power_on()"
     ],
     "language": "python",
     "metadata": {},
     "outputs": [
      {
       "output_type": "stream",
       "stream": "stdout",
       "text": [
        "<digitalocean.Droplet.Droplet object at 0x2e25990>\n",
        "<digitalocean.Droplet.Droplet object at 0x2e44ad0>"
       ]
      },
      {
       "output_type": "stream",
       "stream": "stdout",
       "text": [
        "\n",
        "<digitalocean.Droplet.Droplet object at 0x2e44fd0>"
       ]
      },
      {
       "output_type": "stream",
       "stream": "stdout",
       "text": [
        "\n",
        "<digitalocean.Droplet.Droplet object at 0x2e44d10>"
       ]
      },
      {
       "output_type": "stream",
       "stream": "stdout",
       "text": [
        "\n",
        "<digitalocean.Droplet.Droplet object at 0x2e44810>"
       ]
      },
      {
       "output_type": "stream",
       "stream": "stdout",
       "text": [
        "\n"
       ]
      }
     ],
     "prompt_number": 46
    },
    {
     "cell_type": "code",
     "collapsed": false,
     "input": [
      "for droplet in my_droplets:\n",
      "    print droplet\n",
      "    print droplet.name"
     ],
     "language": "python",
     "metadata": {},
     "outputs": [
      {
       "output_type": "stream",
       "stream": "stdout",
       "text": [
        "<digitalocean.Droplet.Droplet object at 0x2d45b10>\n",
        "wcmckee\n",
        "<digitalocean.Droplet.Droplet object at 0x2fdcbd0>\n",
        "catgang\n"
       ]
      }
     ],
     "prompt_number": 64
    },
    {
     "cell_type": "code",
     "collapsed": false,
     "input": [
      "dropo.power_off()"
     ],
     "language": "python",
     "metadata": {},
     "outputs": [],
     "prompt_number": 54
    },
    {
     "cell_type": "code",
     "collapsed": false,
     "input": [
      "dropo.take_snapshot('deb')"
     ],
     "language": "python",
     "metadata": {},
     "outputs": [],
     "prompt_number": 74
    },
    {
     "cell_type": "code",
     "collapsed": false,
     "input": [
      "dropo.status"
     ],
     "language": "python",
     "metadata": {},
     "outputs": [
      {
       "output_type": "pyout",
       "prompt_number": 82,
       "text": [
        "u'active'"
       ]
      }
     ],
     "prompt_number": 82
    },
    {
     "cell_type": "code",
     "collapsed": false,
     "input": [
      "dropo.rebuild()"
     ],
     "language": "python",
     "metadata": {},
     "outputs": [
      {
       "ename": "Exception",
       "evalue": "An invalid size was specified",
       "output_type": "pyerr",
       "traceback": [
        "\u001b[1;31m---------------------------------------------------------------------------\u001b[0m\n\u001b[1;31mException\u001b[0m                                 Traceback (most recent call last)",
        "\u001b[1;32m<ipython-input-75-735d4c41b1e7>\u001b[0m in \u001b[0;36m<module>\u001b[1;34m()\u001b[0m\n\u001b[1;32m----> 1\u001b[1;33m \u001b[0mdropo\u001b[0m\u001b[1;33m.\u001b[0m\u001b[0mrebuild\u001b[0m\u001b[1;33m(\u001b[0m\u001b[1;33m)\u001b[0m\u001b[1;33m\u001b[0m\u001b[0m\n\u001b[0m",
        "\u001b[1;32m/usr/lib/python2.7/site-packages/digitalocean/Droplet.pyc\u001b[0m in \u001b[0;36mrebuild\u001b[1;34m(self, image_id)\u001b[0m\n\u001b[0;32m    112\u001b[0m         \u001b[1;32mif\u001b[0m \u001b[0mself\u001b[0m\u001b[1;33m.\u001b[0m\u001b[0mimage_id\u001b[0m \u001b[1;32mand\u001b[0m \u001b[1;32mnot\u001b[0m \u001b[0mimage_id\u001b[0m\u001b[1;33m:\u001b[0m\u001b[1;33m\u001b[0m\u001b[0m\n\u001b[0;32m    113\u001b[0m             \u001b[0mimage_id\u001b[0m \u001b[1;33m=\u001b[0m \u001b[0mself\u001b[0m\u001b[1;33m.\u001b[0m\u001b[0mimage_id\u001b[0m\u001b[1;33m\u001b[0m\u001b[0m\n\u001b[1;32m--> 114\u001b[1;33m         \u001b[0mself\u001b[0m\u001b[1;33m.\u001b[0m\u001b[0m__call_api\u001b[0m\u001b[1;33m(\u001b[0m\u001b[1;34m\"/rebuild/\"\u001b[0m\u001b[1;33m,\u001b[0m \u001b[1;33m{\u001b[0m\u001b[1;34m\"image_id\"\u001b[0m\u001b[1;33m:\u001b[0m \u001b[0mimage_id\u001b[0m\u001b[1;33m}\u001b[0m\u001b[1;33m)\u001b[0m\u001b[1;33m\u001b[0m\u001b[0m\n\u001b[0m\u001b[0;32m    115\u001b[0m \u001b[1;33m\u001b[0m\u001b[0m\n\u001b[0;32m    116\u001b[0m     \u001b[1;32mdef\u001b[0m \u001b[0menable_backups\u001b[0m\u001b[1;33m(\u001b[0m\u001b[0mself\u001b[0m\u001b[1;33m)\u001b[0m\u001b[1;33m:\u001b[0m\u001b[1;33m\u001b[0m\u001b[0m\n",
        "\u001b[1;32m/usr/lib/python2.7/site-packages/digitalocean/Droplet.pyc\u001b[0m in \u001b[0;36m__call_api\u001b[1;34m(self, path, params)\u001b[0m\n\u001b[0;32m     31\u001b[0m         \u001b[1;32mif\u001b[0m \u001b[0mdata\u001b[0m\u001b[1;33m[\u001b[0m\u001b[1;34m'status'\u001b[0m\u001b[1;33m]\u001b[0m \u001b[1;33m!=\u001b[0m \u001b[1;34m\"OK\"\u001b[0m\u001b[1;33m:\u001b[0m\u001b[1;33m\u001b[0m\u001b[0m\n\u001b[0;32m     32\u001b[0m             \u001b[0mmsg\u001b[0m \u001b[1;33m=\u001b[0m \u001b[1;33m[\u001b[0m\u001b[0mdata\u001b[0m\u001b[1;33m[\u001b[0m\u001b[0mm\u001b[0m\u001b[1;33m]\u001b[0m \u001b[1;32mfor\u001b[0m \u001b[0mm\u001b[0m \u001b[1;32min\u001b[0m \u001b[1;33m(\u001b[0m\u001b[1;34m\"message\"\u001b[0m\u001b[1;33m,\u001b[0m \u001b[1;34m\"error_message\"\u001b[0m\u001b[1;33m,\u001b[0m \u001b[1;34m\"status\"\u001b[0m\u001b[1;33m)\u001b[0m \u001b[1;32mif\u001b[0m \u001b[0mm\u001b[0m \u001b[1;32min\u001b[0m \u001b[0mdata\u001b[0m\u001b[1;33m]\u001b[0m\u001b[1;33m[\u001b[0m\u001b[1;36m0\u001b[0m\u001b[1;33m]\u001b[0m\u001b[1;33m\u001b[0m\u001b[0m\n\u001b[1;32m---> 33\u001b[1;33m             \u001b[1;32mraise\u001b[0m \u001b[0mException\u001b[0m\u001b[1;33m(\u001b[0m\u001b[0mmsg\u001b[0m\u001b[1;33m)\u001b[0m\u001b[1;33m\u001b[0m\u001b[0m\n\u001b[0m\u001b[0;32m     34\u001b[0m         \u001b[1;31m#add the event to the object's event list.\u001b[0m\u001b[1;33m\u001b[0m\u001b[1;33m\u001b[0m\u001b[0m\n\u001b[0;32m     35\u001b[0m         \u001b[0mevent_id\u001b[0m \u001b[1;33m=\u001b[0m \u001b[0mdata\u001b[0m\u001b[1;33m.\u001b[0m\u001b[0mget\u001b[0m\u001b[1;33m(\u001b[0m\u001b[1;34mu'event_id'\u001b[0m\u001b[1;33m,\u001b[0m\u001b[0mNone\u001b[0m\u001b[1;33m)\u001b[0m\u001b[1;33m\u001b[0m\u001b[0m\n",
        "\u001b[1;31mException\u001b[0m: An invalid size was specified"
       ]
      }
     ],
     "prompt_number": 75
    },
    {
     "cell_type": "code",
     "collapsed": false,
     "input": [
      "droplet.client_id"
     ],
     "language": "python",
     "metadata": {},
     "outputs": [
      {
       "output_type": "pyout",
       "prompt_number": 55,
       "text": [
        "'a24a5636402aaf75d07b774d98591ea3'"
       ]
      }
     ],
     "prompt_number": 55
    },
    {
     "cell_type": "code",
     "collapsed": false,
     "input": [
      "myderp = manager.get_all_regions()"
     ],
     "language": "python",
     "metadata": {},
     "outputs": [],
     "prompt_number": 67
    },
    {
     "cell_type": "code",
     "collapsed": false,
     "input": [
      "print myderp"
     ],
     "language": "python",
     "metadata": {},
     "outputs": [
      {
       "output_type": "stream",
       "stream": "stdout",
       "text": [
        "[<digitalocean.Region.Region object at 0x2fcf450>, <digitalocean.Region.Region object at 0x2fcf110>, <digitalocean.Region.Region object at 0x2fcf310>, <digitalocean.Region.Region object at 0x2fdced0>]\n"
       ]
      }
     ],
     "prompt_number": 68
    },
    {
     "cell_type": "code",
     "collapsed": false,
     "input": [
      "myderp"
     ],
     "language": "python",
     "metadata": {},
     "outputs": [
      {
       "output_type": "pyout",
       "prompt_number": 69,
       "text": [
        "[<digitalocean.Region.Region at 0x2fcf450>,\n",
        " <digitalocean.Region.Region at 0x2fcf110>,\n",
        " <digitalocean.Region.Region at 0x2fcf310>,\n",
        " <digitalocean.Region.Region at 0x2fdced0>]"
       ]
      }
     ],
     "prompt_number": 69
    },
    {
     "cell_type": "code",
     "collapsed": false,
     "input": [
      "for derp in myderp:\n",
      "    print derp\n",
      "    droplis.append(derp.name)\n",
      "    droplis.append(derp.id)\n",
      "    print derp.name\n",
      "    print derp.id"
     ],
     "language": "python",
     "metadata": {},
     "outputs": [
      {
       "output_type": "stream",
       "stream": "stdout",
       "text": [
        "<digitalocean.Region.Region object at 0x2fcf450>\n",
        "San Francisco 1\n",
        "3\n",
        "<digitalocean.Region.Region object at 0x2fcf110>\n",
        "New York 2\n",
        "4\n",
        "<digitalocean.Region.Region object at 0x2fcf310>\n",
        "Amsterdam 2\n",
        "5\n",
        "<digitalocean.Region.Region object at 0x2fdced0>\n",
        "Singapore 1\n",
        "6\n"
       ]
      }
     ],
     "prompt_number": 70
    },
    {
     "cell_type": "code",
     "collapsed": false,
     "input": [
      "print droplis"
     ],
     "language": "python",
     "metadata": {},
     "outputs": [
      {
       "output_type": "stream",
       "stream": "stdout",
       "text": [
        "[u'wcmckee', u'128.199.199.74', u'active', 6, None, 1331748, <digitalocean.Droplet.Droplet object at 0x2fdca10>, u'catgang', u'188.226.209.162', u'active', 5, None, 1496053, <digitalocean.Droplet.Droplet object at 0x2fdc9d0>, u'San Francisco 1', 3, u'New York 2', 4, u'Amsterdam 2', 5, u'Singapore 1', 6]\n"
       ]
      }
     ],
     "prompt_number": 72
    },
    {
     "cell_type": "code",
     "collapsed": false,
     "input": [
      "dropserv = digitalocean.Droplet(client_id=digcli, api_key=apikey, name = 'uburub', region_id=5, image_id=3137635, size_id=66, backup_active=False)\n",
      "#dropserv.create()\n",
      "dropserv.Droplet"
     ],
     "language": "python",
     "metadata": {},
     "outputs": [],
     "prompt_number": 102
    },
    {
     "cell_type": "code",
     "collapsed": false,
     "input": [],
     "language": "python",
     "metadata": {},
     "outputs": []
    }
   ],
   "metadata": {}
  }
 ]
}