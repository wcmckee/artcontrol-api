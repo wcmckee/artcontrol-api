{
 "metadata": {
  "name": "",
  "signature": "sha256:f78bc65ab42d7f9c98a1e8d8b313a152a76f8dfb1f7ff43e2e43d53477d7bfa7"
 },
 "nbformat": 3,
 "nbformat_minor": 0,
 "worksheets": []
}