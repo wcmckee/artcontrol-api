{
 "metadata": {
  "name": "pyssh"
 },
 "nbformat": 3,
 "nbformat_minor": 0,
 "worksheets": [
  {
   "cells": [
    {
     "cell_type": "heading",
     "level": 1,
     "metadata": {},
     "source": [
      "pydigdrop"
     ]
    },
    {
     "cell_type": "markdown",
     "metadata": {},
     "source": [
      "This Python script uses digitalocean services.  It gets the users server list - from the vps hosting company Digital Ocean. Their plans start as little as $5.00 and are charged by the hour. \n"
     ]
    },
    {
     "cell_type": "code",
     "collapsed": false,
     "input": [
      "import os\n",
      "import json\n",
      "import digitalocean"
     ],
     "language": "python",
     "metadata": {},
     "outputs": [],
     "prompt_number": 1
    },
    {
     "cell_type": "code",
     "collapsed": false,
     "input": [
      "digcli = ('a24a5636402aaf75d07b774d98591ea3')"
     ],
     "language": "python",
     "metadata": {},
     "outputs": [],
     "prompt_number": 2
    },
    {
     "cell_type": "code",
     "collapsed": false,
     "input": [
      "print digcli"
     ],
     "language": "python",
     "metadata": {},
     "outputs": [
      {
       "output_type": "stream",
       "stream": "stdout",
       "text": [
        "a24a5636402aaf75d07b774d98591ea3\n"
       ]
      }
     ],
     "prompt_number": 3
    },
    {
     "cell_type": "code",
     "collapsed": false,
     "input": [
      "apikey = ('9898216d345df5b70ab943c5005c05df')"
     ],
     "language": "python",
     "metadata": {},
     "outputs": [],
     "prompt_number": 4
    },
    {
     "cell_type": "code",
     "collapsed": false,
     "input": [
      "print apikey"
     ],
     "language": "python",
     "metadata": {},
     "outputs": [
      {
       "output_type": "stream",
       "stream": "stdout",
       "text": [
        "9898216d345df5b70ab943c5005c05df\n"
       ]
      }
     ],
     "prompt_number": 5
    },
    {
     "cell_type": "code",
     "collapsed": false,
     "input": [
      "manager = digitalocean.Manager(client_id = digcli, api_key = apikey)"
     ],
     "language": "python",
     "metadata": {},
     "outputs": [],
     "prompt_number": 6
    },
    {
     "cell_type": "code",
     "collapsed": false,
     "input": [
      "mydrop = manager.get_all_droplets()"
     ],
     "language": "python",
     "metadata": {},
     "outputs": [],
     "prompt_number": 7
    },
    {
     "cell_type": "code",
     "collapsed": false,
     "input": [
      "print mydrop"
     ],
     "language": "python",
     "metadata": {},
     "outputs": [
      {
       "output_type": "stream",
       "stream": "stdout",
       "text": [
        "[<digitalocean.Droplet.Droplet object at 0x31259d0>, <digitalocean.Droplet.Droplet object at 0x3125a10>, <digitalocean.Droplet.Droplet object at 0x3125a90>]\n"
       ]
      }
     ],
     "prompt_number": 8
    },
    {
     "cell_type": "code",
     "collapsed": false,
     "input": [
      "dropo = mydrop[0]"
     ],
     "language": "python",
     "metadata": {},
     "outputs": [],
     "prompt_number": 9
    },
    {
     "cell_type": "code",
     "collapsed": false,
     "input": [
      "print dropo"
     ],
     "language": "python",
     "metadata": {},
     "outputs": [
      {
       "output_type": "stream",
       "stream": "stdout",
       "text": [
        "<digitalocean.Droplet.Droplet object at 0x31259d0>\n"
       ]
      }
     ],
     "prompt_number": 10
    },
    {
     "cell_type": "code",
     "collapsed": false,
     "input": [
      "events = dropo.get_events()"
     ],
     "language": "python",
     "metadata": {},
     "outputs": [],
     "prompt_number": 11
    },
    {
     "cell_type": "code",
     "collapsed": false,
     "input": [
      "for event in events:\n",
      "    event.load()\n",
      "    print event.percentage"
     ],
     "language": "python",
     "metadata": {},
     "outputs": [],
     "prompt_number": 34
    },
    {
     "cell_type": "code",
     "collapsed": false,
     "input": [
      "servlis = []"
     ],
     "language": "python",
     "metadata": {},
     "outputs": [],
     "prompt_number": 35
    },
    {
     "cell_type": "code",
     "collapsed": false,
     "input": [
      "meip.keys"
     ],
     "language": "python",
     "metadata": {},
     "outputs": [
      {
       "ename": "AttributeError",
       "evalue": "'Droplet' object has no attribute 'keys'",
       "output_type": "pyerr",
       "traceback": [
        "\u001b[1;31m---------------------------------------------------------------------------\u001b[0m\n\u001b[1;31mAttributeError\u001b[0m                            Traceback (most recent call last)",
        "\u001b[1;32m<ipython-input-75-018bfb339428>\u001b[0m in \u001b[0;36m<module>\u001b[1;34m()\u001b[0m\n\u001b[1;32m----> 1\u001b[1;33m \u001b[0mmeip\u001b[0m\u001b[1;33m.\u001b[0m\u001b[0mkeys\u001b[0m\u001b[1;33m\u001b[0m\u001b[0m\n\u001b[0m",
        "\u001b[1;31mAttributeError\u001b[0m: 'Droplet' object has no attribute 'keys'"
       ]
      }
     ],
     "prompt_number": 75
    },
    {
     "cell_type": "code",
     "collapsed": false,
     "input": [
      "for meip in mydrop:\n",
      "    print meip.name\n",
      "    servlis.append(meip.name)\n",
      "    print meip.ip_address\n",
      "    servlis.append(meip.ip_address)\n",
      "    print meip.status\n",
      "    servlis.append(meip.status)\n",
      "    print meip.image_id\n",
      "    servlis.append(meip.image_id)\n",
      "    servlis.append('wcmckee')\n",
      "    servlis.append(meip.region_id)"
     ],
     "language": "python",
     "metadata": {},
     "outputs": [
      {
       "output_type": "stream",
       "stream": "stdout",
       "text": [
        "wcmckee\n",
        "128.199.199.74\n",
        "active\n",
        "308287\n",
        "catgang\n",
        "188.226.209.162\n",
        "active\n",
        "3135725\n",
        "compohub\n",
        "107.170.136.184\n",
        "active\n",
        "3445812\n"
       ]
      }
     ],
     "prompt_number": 88
    },
    {
     "cell_type": "code",
     "collapsed": false,
     "input": [
      "servlis.sort()"
     ],
     "language": "python",
     "metadata": {},
     "outputs": [],
     "prompt_number": 92
    },
    {
     "cell_type": "code",
     "collapsed": false,
     "input": [
      "fservlz = list(set(servlis))"
     ],
     "language": "python",
     "metadata": {},
     "outputs": [],
     "prompt_number": 94
    },
    {
     "cell_type": "code",
     "collapsed": false,
     "input": [
      "fservlz.sort()"
     ],
     "language": "python",
     "metadata": {},
     "outputs": [],
     "prompt_number": 96
    },
    {
     "cell_type": "code",
     "collapsed": false,
     "input": [
      "fservlz"
     ],
     "language": "python",
     "metadata": {},
     "outputs": [
      {
       "output_type": "pyout",
       "prompt_number": 97,
       "text": [
        "[4,\n",
        " 5,\n",
        " 6,\n",
        " 308287,\n",
        " 3135725,\n",
        " 3445812,\n",
        " u'107.170.136.184',\n",
        " u'128.199.199.74',\n",
        " u'188.226.209.162',\n",
        " u'active',\n",
        " u'catgang',\n",
        " u'compohub',\n",
        " u'wcmckee']"
       ]
      }
     ],
     "prompt_number": 97
    },
    {
     "cell_type": "code",
     "collapsed": false,
     "input": [
      "from crontab import CronTab"
     ],
     "language": "python",
     "metadata": {},
     "outputs": [],
     "prompt_number": 98
    },
    {
     "cell_type": "code",
     "collapsed": false,
     "input": [
      "syscrm = CronTab()"
     ],
     "language": "python",
     "metadata": {},
     "outputs": [],
     "prompt_number": 99
    },
    {
     "cell_type": "code",
     "collapsed": false,
     "input": [
      "job = syscrm.new(command='cd learnpython; ipython notebook --profile=wcm')"
     ],
     "language": "python",
     "metadata": {},
     "outputs": [],
     "prompt_number": 111
    },
    {
     "cell_type": "code",
     "collapsed": false,
     "input": [
      "job.every_reboot()"
     ],
     "language": "python",
     "metadata": {},
     "outputs": [
      {
       "output_type": "pyout",
       "prompt_number": 112,
       "text": [
        "True"
       ]
      }
     ],
     "prompt_number": 112
    },
    {
     "cell_type": "code",
     "collapsed": false,
     "input": [
      "job.enable()"
     ],
     "language": "python",
     "metadata": {},
     "outputs": [
      {
       "output_type": "pyout",
       "prompt_number": 113,
       "text": [
        "True"
       ]
      }
     ],
     "prompt_number": 113
    },
    {
     "cell_type": "code",
     "collapsed": false,
     "input": [
      "job.frequency_per_day()\n"
     ],
     "language": "python",
     "metadata": {},
     "outputs": [
      {
       "output_type": "pyout",
       "prompt_number": 117,
       "text": [
        "1440"
       ]
      }
     ],
     "prompt_number": 117
    },
    {
     "cell_type": "code",
     "collapsed": false,
     "input": [
      "clisz = []"
     ],
     "language": "python",
     "metadata": {},
     "outputs": []
    },
    {
     "cell_type": "code",
     "collapsed": false,
     "input": [
      "svex = ia.search_movie('game of thrones')"
     ],
     "language": "python",
     "metadata": {},
     "outputs": [],
     "prompt_number": 129
    },
    {
     "cell_type": "code",
     "collapsed": false,
     "input": [
      "thrlis = []"
     ],
     "language": "python",
     "metadata": {},
     "outputs": [],
     "prompt_number": 143
    },
    {
     "cell_type": "code",
     "collapsed": false,
     "input": [
      "for sc in svex:\n",
      "    print sc\n",
      "    thrlis.append(sc.get_current_info)\n",
      "    print sc.getID()\n",
      "    thrlis.append(sc.getID())\n",
      "    \n",
      "    #print sc.title"
     ],
     "language": "python",
     "metadata": {},
     "outputs": [
      {
       "output_type": "stream",
       "stream": "stdout",
       "text": [
        "Game of Thrones\n",
        "0944947\n",
        "Game of Thrones\n",
        "2231444\n",
        "Game of Thrones\n",
        "3391176\n",
        "Game of Thrones: Season 2 - Character Profiles\n",
        "2653342\n",
        "Game of Thrones: Costumes\n",
        "2653350\n",
        "Game of Thrones: Season 2 - Invitation to the Set\n",
        "2653340\n",
        "Game of Thrones: You Win or You Die - Inside the HBO Series\n",
        "2972984\n",
        "Game of Thrones: The Politics of Power - A Look Back at Season 3\n",
        "3645842\n",
        "Sex Game of Thrones\n",
        "3131362\n",
        "Game of Thrones: Season 2 - How to Be an Extra\n",
        "2653338\n",
        "Making of Game of Thrones\n",
        "2653354\n",
        "Game of Thrones Ice and Fire: A Foreshadowing\n",
        "3645808\n",
        "Game of Thrones: Season 2 - In Production, Iceland\n",
        "2653346\n",
        "Game of Thrones: Destinations of Season 2\n",
        "2653356\n",
        "Stupid for Game of Thrones\n",
        "2143796\n",
        "Game of Thrones: Inside the Night's Watch\n",
        "2653352\n",
        "Game of Thrones Ascent\n",
        "3030478\n",
        "Game of Thrones: Season 2 - In Production, Belfast\n",
        "2653344\n",
        "Game of Thrones: Season 2 - In Production: Croatia\n",
        "2667902\n",
        "Game of Thrones Impressions\n",
        "2718250\n"
       ]
      }
     ],
     "prompt_number": 148
    },
    {
     "cell_type": "code",
     "collapsed": false,
     "input": [
      "thrlis"
     ],
     "language": "python",
     "metadata": {},
     "outputs": [
      {
       "output_type": "pyout",
       "prompt_number": 149,
       "text": [
        "[<Movie id:0944947[http] title:_\"Game of Thrones\" (2011)_>,\n",
        " '0944947',\n",
        " <Movie id:2231444[http] title:_Game of Thrones (2012) (VG)_>,\n",
        " '2231444',\n",
        " <Movie id:3391176[http] title:_Game of Thrones (2014) (VG)_>,\n",
        " '3391176',\n",
        " <Movie id:2653342[http] title:_Game of Thrones: Season 2 - Character Profiles (2013) (V)_>,\n",
        " '2653342',\n",
        " <Movie id:2653350[http] title:_Game of Thrones: Costumes (2011) (V)_>,\n",
        " '2653350',\n",
        " <Movie id:2653340[http] title:_Game of Thrones: Season 2 - Invitation to the Set (2012) (V)_>,\n",
        " '2653340',\n",
        " <Movie id:2972984[http] title:_Game of Thrones: You Win or You Die - Inside the HBO Series (2012) (TV)_>,\n",
        " '2972984',\n",
        " <Movie id:3645842[http] title:_Game of Thrones: The Politics of Power - A Look Back at Season 3 (2014) (TV)_>,\n",
        " '3645842',\n",
        " <Movie id:3131362[http] title:_Sex Game of Thrones (2012) (V)_>,\n",
        " '3131362',\n",
        " <Movie id:2653338[http] title:_Game of Thrones: Season 2 - How to Be an Extra (2012) (V)_>,\n",
        " '2653338',\n",
        " <Movie id:2653354[http] title:_Making of Game of Thrones (2011) (V)_>,\n",
        " '2653354',\n",
        " <Movie id:3645808[http] title:_Game of Thrones Ice and Fire: A Foreshadowing (2014) (TV)_>,\n",
        " '3645808',\n",
        " <Movie id:2653346[http] title:_Game of Thrones: Season 2 - In Production, Iceland (2012) (V)_>,\n",
        " '2653346',\n",
        " <Movie id:2653356[http] title:_Game of Thrones: Destinations of Season 2 (2012) (V)_>,\n",
        " '2653356',\n",
        " <Movie id:2143796[http] title:_\"Stupid for Game of Thrones\" (2012)_>,\n",
        " '2143796',\n",
        " <Movie id:2653352[http] title:_Game of Thrones: Inside the Night's Watch (2011) (V)_>,\n",
        " '2653352',\n",
        " <Movie id:3030478[http] title:_Game of Thrones Ascent (2013) (VG)_>,\n",
        " '3030478',\n",
        " <Movie id:2653344[http] title:_Game of Thrones: Season 2 - In Production, Belfast (2011) (V)_>,\n",
        " '2653344',\n",
        " <Movie id:2667902[http] title:_Game of Thrones: Season 2 - In Production: Croatia (2012) (V)_>,\n",
        " '2667902',\n",
        " <Movie id:2718250[http] title:_Game of Thrones Impressions (2012) (V)_>,\n",
        " '2718250',\n",
        " <bound method Movie.get_current_info of <Movie id:0944947[http] title:_\"Game of Thrones\" (2011)_>>,\n",
        " '0944947',\n",
        " <bound method Movie.get_current_info of <Movie id:2231444[http] title:_Game of Thrones (2012) (VG)_>>,\n",
        " '2231444',\n",
        " <bound method Movie.get_current_info of <Movie id:3391176[http] title:_Game of Thrones (2014) (VG)_>>,\n",
        " '3391176',\n",
        " <bound method Movie.get_current_info of <Movie id:2653342[http] title:_Game of Thrones: Season 2 - Character Profiles (2013) (V)_>>,\n",
        " '2653342',\n",
        " <bound method Movie.get_current_info of <Movie id:2653350[http] title:_Game of Thrones: Costumes (2011) (V)_>>,\n",
        " '2653350',\n",
        " <bound method Movie.get_current_info of <Movie id:2653340[http] title:_Game of Thrones: Season 2 - Invitation to the Set (2012) (V)_>>,\n",
        " '2653340',\n",
        " <bound method Movie.get_current_info of <Movie id:2972984[http] title:_Game of Thrones: You Win or You Die - Inside the HBO Series (2012) (TV)_>>,\n",
        " '2972984',\n",
        " <bound method Movie.get_current_info of <Movie id:3645842[http] title:_Game of Thrones: The Politics of Power - A Look Back at Season 3 (2014) (TV)_>>,\n",
        " '3645842',\n",
        " <bound method Movie.get_current_info of <Movie id:3131362[http] title:_Sex Game of Thrones (2012) (V)_>>,\n",
        " '3131362',\n",
        " <bound method Movie.get_current_info of <Movie id:2653338[http] title:_Game of Thrones: Season 2 - How to Be an Extra (2012) (V)_>>,\n",
        " '2653338',\n",
        " <bound method Movie.get_current_info of <Movie id:2653354[http] title:_Making of Game of Thrones (2011) (V)_>>,\n",
        " '2653354',\n",
        " <bound method Movie.get_current_info of <Movie id:3645808[http] title:_Game of Thrones Ice and Fire: A Foreshadowing (2014) (TV)_>>,\n",
        " '3645808',\n",
        " <bound method Movie.get_current_info of <Movie id:2653346[http] title:_Game of Thrones: Season 2 - In Production, Iceland (2012) (V)_>>,\n",
        " '2653346',\n",
        " <bound method Movie.get_current_info of <Movie id:2653356[http] title:_Game of Thrones: Destinations of Season 2 (2012) (V)_>>,\n",
        " '2653356',\n",
        " <bound method Movie.get_current_info of <Movie id:2143796[http] title:_\"Stupid for Game of Thrones\" (2012)_>>,\n",
        " '2143796',\n",
        " <bound method Movie.get_current_info of <Movie id:2653352[http] title:_Game of Thrones: Inside the Night's Watch (2011) (V)_>>,\n",
        " '2653352',\n",
        " <bound method Movie.get_current_info of <Movie id:3030478[http] title:_Game of Thrones Ascent (2013) (VG)_>>,\n",
        " '3030478',\n",
        " <bound method Movie.get_current_info of <Movie id:2653344[http] title:_Game of Thrones: Season 2 - In Production, Belfast (2011) (V)_>>,\n",
        " '2653344',\n",
        " <bound method Movie.get_current_info of <Movie id:2667902[http] title:_Game of Thrones: Season 2 - In Production: Croatia (2012) (V)_>>,\n",
        " '2667902',\n",
        " <bound method Movie.get_current_info of <Movie id:2718250[http] title:_Game of Thrones Impressions (2012) (V)_>>,\n",
        " '2718250']"
       ]
      }
     ],
     "prompt_number": 149
    },
    {
     "cell_type": "code",
     "collapsed": false,
     "input": [
      "svex"
     ],
     "language": "python",
     "metadata": {},
     "outputs": [
      {
       "output_type": "pyout",
       "prompt_number": 132,
       "text": [
        "[<Movie id:0944947[http] title:_\"Game of Thrones\" (2011)_>,\n",
        " <Movie id:2231444[http] title:_Game of Thrones (2012) (VG)_>,\n",
        " <Movie id:3391176[http] title:_Game of Thrones (2014) (VG)_>,\n",
        " <Movie id:2653342[http] title:_Game of Thrones: Season 2 - Character Profiles (2013) (V)_>,\n",
        " <Movie id:2653350[http] title:_Game of Thrones: Costumes (2011) (V)_>,\n",
        " <Movie id:2653340[http] title:_Game of Thrones: Season 2 - Invitation to the Set (2012) (V)_>,\n",
        " <Movie id:2972984[http] title:_Game of Thrones: You Win or You Die - Inside the HBO Series (2012) (TV)_>,\n",
        " <Movie id:3645842[http] title:_Game of Thrones: The Politics of Power - A Look Back at Season 3 (2014) (TV)_>,\n",
        " <Movie id:3131362[http] title:_Sex Game of Thrones (2012) (V)_>,\n",
        " <Movie id:2653338[http] title:_Game of Thrones: Season 2 - How to Be an Extra (2012) (V)_>,\n",
        " <Movie id:2653354[http] title:_Making of Game of Thrones (2011) (V)_>,\n",
        " <Movie id:3645808[http] title:_Game of Thrones Ice and Fire: A Foreshadowing (2014) (TV)_>,\n",
        " <Movie id:2653346[http] title:_Game of Thrones: Season 2 - In Production, Iceland (2012) (V)_>,\n",
        " <Movie id:2653356[http] title:_Game of Thrones: Destinations of Season 2 (2012) (V)_>,\n",
        " <Movie id:2143796[http] title:_\"Stupid for Game of Thrones\" (2012)_>,\n",
        " <Movie id:2653352[http] title:_Game of Thrones: Inside the Night's Watch (2011) (V)_>,\n",
        " <Movie id:3030478[http] title:_Game of Thrones Ascent (2013) (VG)_>,\n",
        " <Movie id:2653344[http] title:_Game of Thrones: Season 2 - In Production, Belfast (2011) (V)_>,\n",
        " <Movie id:2667902[http] title:_Game of Thrones: Season 2 - In Production: Croatia (2012) (V)_>,\n",
        " <Movie id:2718250[http] title:_Game of Thrones Impressions (2012) (V)_>]"
       ]
      }
     ],
     "prompt_number": 132
    },
    {
     "cell_type": "code",
     "collapsed": false,
     "input": [
      "dex = ia.get_character('dexter')"
     ],
     "language": "python",
     "metadata": {},
     "outputs": [
      {
       "output_type": "stream",
       "stream": "stderr",
       "text": [
        "2014-05-06 07:27:29,584 CRITICAL [imdbpy] /usr/lib64/python2.7/site-packages/imdb/_exceptions.py:35: IMDbParserError exception raised; args: ('invalid characterID \"dexter\": invalid literal for int() with base 10: \\'dexter\\'',); kwds: {}\n",
        "Traceback (most recent call last):\n",
        "  File \"/usr/lib64/python2.7/site-packages/imdb/parser/http/__init__.py\", line 358, in _normalize_characterID\n",
        "    return '%07d' % int(characterID)\n",
        "ValueError: invalid literal for int() with base 10: 'dexter'\n"
       ]
      },
      {
       "ename": "IMDbParserError",
       "evalue": "invalid characterID \"dexter\": invalid literal for int() with base 10: 'dexter'",
       "output_type": "pyerr",
       "traceback": [
        "\u001b[1;31m---------------------------------------------------------------------------\u001b[0m\n\u001b[1;31mIMDbParserError\u001b[0m                           Traceback (most recent call last)",
        "\u001b[1;32m<ipython-input-120-567db1ee3bfa>\u001b[0m in \u001b[0;36m<module>\u001b[1;34m()\u001b[0m\n\u001b[1;32m----> 1\u001b[1;33m \u001b[0mdex\u001b[0m \u001b[1;33m=\u001b[0m \u001b[0mia\u001b[0m\u001b[1;33m.\u001b[0m\u001b[0mget_character\u001b[0m\u001b[1;33m(\u001b[0m\u001b[1;34m'dexter'\u001b[0m\u001b[1;33m)\u001b[0m\u001b[1;33m\u001b[0m\u001b[0m\n\u001b[0m",
        "\u001b[1;32m/usr/lib64/python2.7/site-packages/imdb/__init__.pyc\u001b[0m in \u001b[0;36mget_character\u001b[1;34m(self, characterID, info, modFunct)\u001b[0m\n\u001b[0;32m    510\u001b[0m         \u001b[0mIf\u001b[0m \u001b[0mspecified\u001b[0m\u001b[1;33m,\u001b[0m \u001b[0mmodFunct\u001b[0m \u001b[0mwill\u001b[0m \u001b[0mbe\u001b[0m \u001b[0mthe\u001b[0m \u001b[0mfunction\u001b[0m \u001b[0mused\u001b[0m \u001b[0mby\u001b[0m \u001b[0mthe\u001b[0m \u001b[0mCharacter\u001b[0m\u001b[1;33m\u001b[0m\u001b[0m\n\u001b[0;32m    511\u001b[0m         object when accessing its text fields (like 'biography').\"\"\"\n\u001b[1;32m--> 512\u001b[1;33m         \u001b[0mcharacterID\u001b[0m \u001b[1;33m=\u001b[0m \u001b[0mself\u001b[0m\u001b[1;33m.\u001b[0m\u001b[0m_normalize_characterID\u001b[0m\u001b[1;33m(\u001b[0m\u001b[0mcharacterID\u001b[0m\u001b[1;33m)\u001b[0m\u001b[1;33m\u001b[0m\u001b[0m\n\u001b[0m\u001b[0;32m    513\u001b[0m         \u001b[0mcharacterID\u001b[0m \u001b[1;33m=\u001b[0m \u001b[0mself\u001b[0m\u001b[1;33m.\u001b[0m\u001b[0m_get_real_characterID\u001b[0m\u001b[1;33m(\u001b[0m\u001b[0mcharacterID\u001b[0m\u001b[1;33m)\u001b[0m\u001b[1;33m\u001b[0m\u001b[0m\n\u001b[0;32m    514\u001b[0m         character = Character.Character(characterID=characterID,\n",
        "\u001b[1;32m/usr/lib64/python2.7/site-packages/imdb/parser/http/__init__.pyc\u001b[0m in \u001b[0;36m_normalize_characterID\u001b[1;34m(self, characterID)\u001b[0m\n\u001b[0;32m    359\u001b[0m         \u001b[1;32mexcept\u001b[0m \u001b[0mValueError\u001b[0m\u001b[1;33m,\u001b[0m \u001b[0me\u001b[0m\u001b[1;33m:\u001b[0m\u001b[1;33m\u001b[0m\u001b[0m\n\u001b[0;32m    360\u001b[0m             raise IMDbParserError('invalid characterID \"%s\": %s' % \\\n\u001b[1;32m--> 361\u001b[1;33m                     (characterID, e))\n\u001b[0m\u001b[0;32m    362\u001b[0m \u001b[1;33m\u001b[0m\u001b[0m\n\u001b[0;32m    363\u001b[0m     \u001b[1;32mdef\u001b[0m \u001b[0m_normalize_companyID\u001b[0m\u001b[1;33m(\u001b[0m\u001b[0mself\u001b[0m\u001b[1;33m,\u001b[0m \u001b[0mcompanyID\u001b[0m\u001b[1;33m)\u001b[0m\u001b[1;33m:\u001b[0m\u001b[1;33m\u001b[0m\u001b[0m\n",
        "\u001b[1;31mIMDbParserError\u001b[0m: invalid characterID \"dexter\": invalid literal for int() with base 10: 'dexter'"
       ]
      }
     ],
     "prompt_number": 120
    },
    {
     "cell_type": "code",
     "collapsed": false,
     "input": [
      "from imdb import IMDb\n",
      "ia = IMDb()\n",
      "\n",
      "the_matrix = ia.get_movie('0133093')\n",
      "print the_matrix['director']\n",
      "\n",
      "for person in ia.search_person('Mel Gibson'):\n",
      "        print person.personID, person['name']"
     ],
     "language": "python",
     "metadata": {},
     "outputs": [
      {
       "output_type": "stream",
       "stream": "stdout",
       "text": [
        "[<Person id:0905152[http] name:_Wachowski, Andy_>, <Person id:0905154[http] name:_Wachowski, Lana_>]\n",
        "0000154"
       ]
      },
      {
       "output_type": "stream",
       "stream": "stdout",
       "text": [
        " Mel Gibson\n",
        "2153167 Mel Gibson\n",
        "0317112 Mel Gibson\n",
        "2800055 Mel Gibson\n",
        "4798507 Mel A. Gibson\n",
        "3323885 Adam Taylor\n",
        "0000316 Mel Brooks\n",
        "0004959 Thomas Gibson\n",
        "0879085 Tyrese Gibson\n",
        "0316933 Deborah Gibson\n",
        "0002099 Henry Gibson\n",
        "0002072 Mel Ferrer\n",
        "0809321 Mel Smith\n",
        "0000305 Mel Blanc\n",
        "0004995 Mel Harris\n",
        "2706397 Leah Gibson\n",
        "0316945 Donal Gibson\n",
        "0868123 Mel Torm\u00e9\n",
        "0317159 Richard Gibson\n",
        "0735440 Mel Rodriguez\n"
       ]
      }
     ],
     "prompt_number": 119
    },
    {
     "cell_type": "code",
     "collapsed": false,
     "input": [
      "servlis"
     ],
     "language": "python",
     "metadata": {},
     "outputs": [
      {
       "output_type": "pyout",
       "prompt_number": 93,
       "text": [
        "[4,\n",
        " 4,\n",
        " 5,\n",
        " 5,\n",
        " 6,\n",
        " 6,\n",
        " 308287,\n",
        " 308287,\n",
        " 308287,\n",
        " 308287,\n",
        " 308287,\n",
        " 308287,\n",
        " 308287,\n",
        " 308287,\n",
        " 3135725,\n",
        " 3135725,\n",
        " 3135725,\n",
        " 3135725,\n",
        " 3135725,\n",
        " 3445812,\n",
        " 3445812,\n",
        " 3445812,\n",
        " 3445812,\n",
        " 3445812,\n",
        " u'107.170.136.184',\n",
        " u'107.170.136.184',\n",
        " u'107.170.136.184',\n",
        " u'107.170.136.184',\n",
        " u'107.170.136.184',\n",
        " u'128.199.199.74',\n",
        " u'128.199.199.74',\n",
        " u'128.199.199.74',\n",
        " u'128.199.199.74',\n",
        " u'128.199.199.74',\n",
        " u'128.199.199.74',\n",
        " u'128.199.199.74',\n",
        " u'128.199.199.74',\n",
        " u'188.226.209.162',\n",
        " u'188.226.209.162',\n",
        " u'188.226.209.162',\n",
        " u'188.226.209.162',\n",
        " u'188.226.209.162',\n",
        " u'active',\n",
        " u'active',\n",
        " u'active',\n",
        " u'active',\n",
        " u'active',\n",
        " u'active',\n",
        " u'active',\n",
        " u'active',\n",
        " u'active',\n",
        " u'active',\n",
        " u'active',\n",
        " u'active',\n",
        " u'active',\n",
        " u'active',\n",
        " u'active',\n",
        " u'active',\n",
        " u'active',\n",
        " u'active',\n",
        " u'catgang',\n",
        " u'catgang',\n",
        " u'catgang',\n",
        " u'catgang',\n",
        " u'catgang',\n",
        " u'compohub',\n",
        " u'compohub',\n",
        " u'compohub',\n",
        " u'compohub',\n",
        " u'compohub',\n",
        " u'wcmckee',\n",
        " 'wcmckee',\n",
        " 'wcmckee',\n",
        " 'wcmckee',\n",
        " u'wcmckee',\n",
        " 'wcmckee',\n",
        " u'wcmckee',\n",
        " 'wcmckee',\n",
        " u'wcmckee',\n",
        " 'wcmckee',\n",
        " 'wcmckee',\n",
        " 'wcmckee',\n",
        " u'wcmckee',\n",
        " 'wcmckee',\n",
        " 'wcmckee',\n",
        " 'wcmckee',\n",
        " u'wcmckee',\n",
        " 'wcmckee',\n",
        " 'wcmckee',\n",
        " 'wcmckee',\n",
        " u'wcmckee',\n",
        " 'wcmckee',\n",
        " u'wcmckee',\n",
        " 'wcmckee',\n",
        " 'wcmckee',\n",
        " 'wcmckee']"
       ]
      }
     ],
     "prompt_number": 93
    },
    {
     "cell_type": "code",
     "collapsed": false,
     "input": [
      "olis = ['name', 'ip', 'status', 'id', 'user'] * 3"
     ],
     "language": "python",
     "metadata": {},
     "outputs": [],
     "prompt_number": 84
    },
    {
     "cell_type": "code",
     "collapsed": false,
     "input": [
      "dictac = zip(olis, servlis)"
     ],
     "language": "python",
     "metadata": {},
     "outputs": [],
     "prompt_number": 85
    },
    {
     "cell_type": "code",
     "collapsed": false,
     "input": [
      "dictac"
     ],
     "language": "python",
     "metadata": {},
     "outputs": [
      {
       "output_type": "pyout",
       "prompt_number": 86,
       "text": [
        "[('name', u'wcmckee'),\n",
        " ('ip', u'128.199.199.74'),\n",
        " ('status', u'active'),\n",
        " ('id', 308287),\n",
        " ('user', 'wcmckee'),\n",
        " ('name', u'catgang'),\n",
        " ('ip', u'188.226.209.162'),\n",
        " ('status', u'active'),\n",
        " ('id', 3135725),\n",
        " ('user', 'wcmckee'),\n",
        " ('name', u'compohub'),\n",
        " ('ip', u'107.170.136.184'),\n",
        " ('status', u'active'),\n",
        " ('id', 3445812),\n",
        " ('user', 'wcmckee')]"
       ]
      }
     ],
     "prompt_number": 86
    },
    {
     "cell_type": "markdown",
     "metadata": {},
     "source": [
      "when converting to a dict why does it only take the first part of dictac."
     ]
    },
    {
     "cell_type": "code",
     "collapsed": false,
     "input": [
      "dicza = dict(dictac)"
     ],
     "language": "python",
     "metadata": {},
     "outputs": [],
     "prompt_number": 73
    },
    {
     "cell_type": "code",
     "collapsed": false,
     "input": [
      "dicza"
     ],
     "language": "python",
     "metadata": {},
     "outputs": [
      {
       "output_type": "pyout",
       "prompt_number": 74,
       "text": [
        "{'id': 3445812,\n",
        " 'ip': u'107.170.136.184',\n",
        " 'name': u'compohub',\n",
        " 'status': u'active',\n",
        " 'user': 'wcmckee'}"
       ]
      }
     ],
     "prompt_number": 74
    },
    {
     "cell_type": "code",
     "collapsed": false,
     "input": [
      "jsndigoc = json.dumps(dicza)"
     ],
     "language": "python",
     "metadata": {},
     "outputs": [],
     "prompt_number": 64
    },
    {
     "cell_type": "code",
     "collapsed": false,
     "input": [
      "jsndigoc"
     ],
     "language": "python",
     "metadata": {},
     "outputs": [
      {
       "output_type": "pyout",
       "prompt_number": 66,
       "text": [
        "'{\"status\": \"active\", \"ip\": \"107.170.136.184\", \"user\": \"wcmckee\", \"name\": \"compohub\", \"id\": 3445812}'"
       ]
      }
     ],
     "prompt_number": 66
    },
    {
     "cell_type": "code",
     "collapsed": false,
     "input": [
      "digocz = open('/home/will/Desktop/brobeur-static/feeds/digocserv.json', 'w')"
     ],
     "language": "python",
     "metadata": {},
     "outputs": [],
     "prompt_number": 67
    },
    {
     "cell_type": "code",
     "collapsed": false,
     "input": [
      "digocz.write(jsndigoc)"
     ],
     "language": "python",
     "metadata": {},
     "outputs": [],
     "prompt_number": 68
    },
    {
     "cell_type": "code",
     "collapsed": false,
     "input": [
      "digocz.close()"
     ],
     "language": "python",
     "metadata": {},
     "outputs": [],
     "prompt_number": 69
    },
    {
     "cell_type": "code",
     "collapsed": false,
     "input": [
      "servlis"
     ],
     "language": "python",
     "metadata": {},
     "outputs": [
      {
       "output_type": "pyout",
       "prompt_number": 42,
       "text": [
        "[u'wcmckee',\n",
        " u'128.199.199.74',\n",
        " u'active',\n",
        " 308287,\n",
        " 'wcmckee',\n",
        " u'catgang',\n",
        " u'188.226.209.162',\n",
        " u'active',\n",
        " 3135725,\n",
        " 'wcmckee',\n",
        " u'compohub',\n",
        " u'107.170.136.184',\n",
        " u'active',\n",
        " 3445812,\n",
        " 'wcmckee']"
       ]
      }
     ],
     "prompt_number": 42
    },
    {
     "cell_type": "code",
     "collapsed": false,
     "input": [
      "dropo.ip_address"
     ],
     "language": "python",
     "metadata": {},
     "outputs": [
      {
       "output_type": "pyout",
       "prompt_number": 43,
       "text": [
        "u'128.199.199.74'"
       ]
      }
     ],
     "prompt_number": 43
    },
    {
     "cell_type": "code",
     "collapsed": false,
     "input": [
      "dropo.name"
     ],
     "language": "python",
     "metadata": {},
     "outputs": [
      {
       "output_type": "pyout",
       "prompt_number": 44,
       "text": [
        "u'wcmckee'"
       ]
      }
     ],
     "prompt_number": 44
    },
    {
     "cell_type": "code",
     "collapsed": false,
     "input": [
      "dropo"
     ],
     "language": "python",
     "metadata": {},
     "outputs": [
      {
       "output_type": "pyout",
       "prompt_number": 45,
       "text": [
        "<digitalocean.Droplet.Droplet at 0x31259d0>"
       ]
      }
     ],
     "prompt_number": 45
    },
    {
     "cell_type": "code",
     "collapsed": false,
     "input": [
      "droplis = []"
     ],
     "language": "python",
     "metadata": {},
     "outputs": [],
     "prompt_number": 46
    },
    {
     "cell_type": "code",
     "collapsed": false,
     "input": [
      "iplis = []"
     ],
     "language": "python",
     "metadata": {},
     "outputs": [],
     "prompt_number": 47
    },
    {
     "cell_type": "code",
     "collapsed": false,
     "input": [
      "dropdict = dict{}"
     ],
     "language": "python",
     "metadata": {},
     "outputs": [
      {
       "ename": "SyntaxError",
       "evalue": "invalid syntax (<ipython-input-48-07dc5ea10dbf>, line 1)",
       "output_type": "pyerr",
       "traceback": [
        "\u001b[1;36m  File \u001b[1;32m\"<ipython-input-48-07dc5ea10dbf>\"\u001b[1;36m, line \u001b[1;32m1\u001b[0m\n\u001b[1;33m    dropdict = dict{}\u001b[0m\n\u001b[1;37m                   ^\u001b[0m\n\u001b[1;31mSyntaxError\u001b[0m\u001b[1;31m:\u001b[0m invalid syntax\n"
       ]
      }
     ],
     "prompt_number": 48
    },
    {
     "cell_type": "code",
     "collapsed": false,
     "input": [
      "drstr = []"
     ],
     "language": "python",
     "metadata": {},
     "outputs": [],
     "prompt_number": 49
    },
    {
     "cell_type": "code",
     "collapsed": false,
     "input": [
      "for dr in mydrop:\n",
      "    print dr.ip_address\n",
      "    droplis.append(dr.name)\n",
      "    droplis.append(dr.ip_address)\n",
      "    iplis.append(dr.ip_address)\n",
      "    droplis.append(dr.status)\n",
      "    print dr.status\n",
      "    droplis.append(dr.region_id)\n",
      "    print dr.region_id\n",
      "    droplis.append(dr.ssh_key_ids)\n",
      "    droplis.append(dr.id)\n",
      "    droplis.append(dr)\n",
      "    print dr.name\n",
      "    print dr.ssh_key_ids\n",
      "    print dr.id\n",
      "    print dr.image_id\n",
      "    print dr\n",
      "    drstr.append(dr)"
     ],
     "language": "python",
     "metadata": {},
     "outputs": [
      {
       "output_type": "stream",
       "stream": "stdout",
       "text": [
        "128.199.199.74\n",
        "active\n",
        "6\n",
        "wcmckee\n",
        "None\n",
        "1331748\n",
        "308287\n",
        "<digitalocean.Droplet.Droplet object at 0x31259d0>\n",
        "188.226.209.162\n",
        "active\n",
        "5\n",
        "catgang\n",
        "None\n",
        "1496053\n",
        "3135725\n",
        "<digitalocean.Droplet.Droplet object at 0x3125a10>\n",
        "107.170.136.184\n",
        "active\n",
        "4\n",
        "compohub\n",
        "None\n",
        "1585671\n",
        "3445812\n",
        "<digitalocean.Droplet.Droplet object at 0x3125a90>\n"
       ]
      }
     ],
     "prompt_number": 50
    },
    {
     "cell_type": "code",
     "collapsed": false,
     "input": [
      "print droplis"
     ],
     "language": "python",
     "metadata": {},
     "outputs": [
      {
       "output_type": "stream",
       "stream": "stdout",
       "text": [
        "[u'wcmckee', u'128.199.199.74', u'active', 6, None, 1331748, <digitalocean.Droplet.Droplet object at 0x31259d0>, u'catgang', u'188.226.209.162', u'active', 5, None, 1496053, <digitalocean.Droplet.Droplet object at 0x3125a10>, u'compohub', u'107.170.136.184', u'active', 4, None, 1585671, <digitalocean.Droplet.Droplet object at 0x3125a90>]\n"
       ]
      }
     ],
     "prompt_number": 51
    },
    {
     "cell_type": "code",
     "collapsed": false,
     "input": [
      "print drstr"
     ],
     "language": "python",
     "metadata": {},
     "outputs": [
      {
       "output_type": "stream",
       "stream": "stdout",
       "text": [
        "[<digitalocean.Droplet.Droplet object at 0x31259d0>, <digitalocean.Droplet.Droplet object at 0x3125a10>, <digitalocean.Droplet.Droplet object at 0x3125a90>]\n"
       ]
      }
     ],
     "prompt_number": 52
    },
    {
     "cell_type": "code",
     "collapsed": false,
     "input": [
      "print iplis"
     ],
     "language": "python",
     "metadata": {},
     "outputs": [
      {
       "output_type": "stream",
       "stream": "stdout",
       "text": [
        "[u'128.199.199.74', u'188.226.209.162', u'107.170.136.184']\n"
       ]
      }
     ],
     "prompt_number": 53
    },
    {
     "cell_type": "code",
     "collapsed": false,
     "input": [
      "#!/usr/bin/python\n",
      " \n",
      "# All SSH libraries for Python are junk (2011-10-13).\n",
      "# Too low-level (libssh2), too buggy (paramiko), too complicated\n",
      "# (both), too poor in features (no use of the agent, for instance)\n",
      " \n",
      "# Here is the right solution today:\n",
      " \n",
      "import subprocess\n",
      "import sys\n",
      " \n",
      "HOST= '74.50.51.32'\n",
      "# Ports are handled in ~/.ssh/config since we use OpenSSH\n",
      "COMMAND=\"uname -a\"\n",
      " \n",
      "ssh = subprocess.Popen([\"ssh\", \"%s\" % HOST, COMMAND],\n",
      "shell=False,\n",
      "stdout=subprocess.PIPE,\n",
      "stderr=subprocess.PIPE)\n",
      "result = ssh.stdout.readlines()\n",
      "if result == []:\n",
      "    error = ssh.stderr.readlines()\n",
      "    print >>sys.stderr, \"ERROR: %s\" % error\n",
      "else:\n",
      "    print result\n"
     ],
     "language": "python",
     "metadata": {},
     "outputs": [
      {
       "output_type": "stream",
       "stream": "stderr",
       "text": [
        "ERROR: ['Connection closed by 74.50.51.32\\r\\n']\n"
       ]
      }
     ],
     "prompt_number": 54
    },
    {
     "cell_type": "code",
     "collapsed": false,
     "input": [
      "pwd"
     ],
     "language": "python",
     "metadata": {},
     "outputs": [
      {
       "output_type": "pyout",
       "prompt_number": 55,
       "text": [
        "u'/home/will/Desktop/artcontrol-api'"
       ]
      }
     ],
     "prompt_number": 55
    },
    {
     "cell_type": "code",
     "collapsed": false,
     "input": [
      "from crontab import CronTab\n",
      "\n",
      "system_cron   = CronTab()\n",
      "system_cron.new"
     ],
     "language": "python",
     "metadata": {},
     "outputs": [
      {
       "output_type": "pyout",
       "prompt_number": 40,
       "text": [
        "<bound method CronTab.new of <crontab.CronTab object at 0x2e44450>>"
       ]
      }
     ],
     "prompt_number": 40
    },
    {
     "cell_type": "code",
     "collapsed": false,
     "input": [
      "dropo.api_key"
     ],
     "language": "python",
     "metadata": {},
     "outputs": [
      {
       "output_type": "pyout",
       "prompt_number": 50,
       "text": [
        "'9898216d345df5b70ab943c5005c05df'"
       ]
      }
     ],
     "prompt_number": 50
    },
    {
     "cell_type": "code",
     "collapsed": false,
     "input": [
      "dropo.call_reponse"
     ],
     "language": "python",
     "metadata": {},
     "outputs": [],
     "prompt_number": 51
    },
    {
     "cell_type": "code",
     "collapsed": false,
     "input": [
      "dropo.image_id"
     ],
     "language": "python",
     "metadata": {},
     "outputs": [
      {
       "output_type": "pyout",
       "prompt_number": 52,
       "text": [
        "308287"
       ]
      }
     ],
     "prompt_number": 52
    },
    {
     "cell_type": "code",
     "collapsed": false,
     "input": [
      "dropo.size_id"
     ],
     "language": "python",
     "metadata": {},
     "outputs": [
      {
       "output_type": "pyout",
       "prompt_number": 53,
       "text": [
        "66"
       ]
      }
     ],
     "prompt_number": 53
    },
    {
     "cell_type": "code",
     "collapsed": false,
     "input": [
      "dropo.events"
     ],
     "language": "python",
     "metadata": {},
     "outputs": [
      {
       "output_type": "pyout",
       "prompt_number": 54,
       "text": [
        "[]"
       ]
      }
     ],
     "prompt_number": 54
    },
    {
     "cell_type": "code",
     "collapsed": false,
     "input": [
      "dropo.size_id"
     ],
     "language": "python",
     "metadata": {},
     "outputs": [
      {
       "output_type": "pyout",
       "prompt_number": 55,
       "text": [
        "66"
       ]
      }
     ],
     "prompt_number": 55
    },
    {
     "cell_type": "code",
     "collapsed": false,
     "input": [
      "domain = manager.get_all_domains"
     ],
     "language": "python",
     "metadata": {},
     "outputs": [],
     "prompt_number": 56
    },
    {
     "cell_type": "code",
     "collapsed": false,
     "input": [
      "print domain"
     ],
     "language": "python",
     "metadata": {},
     "outputs": [
      {
       "output_type": "stream",
       "stream": "stdout",
       "text": [
        "<bound method Manager.get_all_domains of <digitalocean.Manager.Manager object at 0x2fdc410>>\n"
       ]
      }
     ],
     "prompt_number": 57
    },
    {
     "cell_type": "code",
     "collapsed": false,
     "input": [
      "domain.im_self"
     ],
     "language": "python",
     "metadata": {},
     "outputs": [
      {
       "output_type": "pyout",
       "prompt_number": 58,
       "text": [
        "<digitalocean.Manager.Manager at 0x2fdc410>"
       ]
      }
     ],
     "prompt_number": 58
    },
    {
     "cell_type": "code",
     "collapsed": false,
     "input": [
      "gimg = manager.get_global_images"
     ],
     "language": "python",
     "metadata": {},
     "outputs": [],
     "prompt_number": 59
    },
    {
     "cell_type": "code",
     "collapsed": false,
     "input": [
      "gimg"
     ],
     "language": "python",
     "metadata": {},
     "outputs": [
      {
       "output_type": "pyout",
       "prompt_number": 60,
       "text": [
        "<bound method Manager.get_global_images of <digitalocean.Manager.Manager object at 0x2fdc410>>"
       ]
      }
     ],
     "prompt_number": 60
    },
    {
     "cell_type": "code",
     "collapsed": false,
     "input": [
      "list(gimg)"
     ],
     "language": "python",
     "metadata": {},
     "outputs": [
      {
       "ename": "TypeError",
       "evalue": "'instancemethod' object is not iterable",
       "output_type": "pyerr",
       "traceback": [
        "\u001b[1;31m---------------------------------------------------------------------------\u001b[0m\n\u001b[1;31mTypeError\u001b[0m                                 Traceback (most recent call last)",
        "\u001b[1;32m<ipython-input-61-580ff6d51e82>\u001b[0m in \u001b[0;36m<module>\u001b[1;34m()\u001b[0m\n\u001b[1;32m----> 1\u001b[1;33m \u001b[0mlist\u001b[0m\u001b[1;33m(\u001b[0m\u001b[0mgimg\u001b[0m\u001b[1;33m)\u001b[0m\u001b[1;33m\u001b[0m\u001b[0m\n\u001b[0m",
        "\u001b[1;31mTypeError\u001b[0m: 'instancemethod' object is not iterable"
       ]
      }
     ],
     "prompt_number": 61
    },
    {
     "cell_type": "code",
     "collapsed": false,
     "input": [
      "mysnap = manager.get_my_images()"
     ],
     "language": "python",
     "metadata": {},
     "outputs": [],
     "prompt_number": 96
    },
    {
     "cell_type": "code",
     "collapsed": false,
     "input": [
      "my_droplets = manager.get_all_droplets()"
     ],
     "language": "python",
     "metadata": {},
     "outputs": [],
     "prompt_number": 97
    },
    {
     "cell_type": "code",
     "collapsed": false,
     "input": [
      "for snap in mysnap:\n",
      "    print snap.name\n",
      "    print snap.id"
     ],
     "language": "python",
     "metadata": {},
     "outputs": [
      {
       "output_type": "stream",
       "stream": "stdout",
       "text": [
        "deb\n",
        "3266196\n",
        "deb\n",
        "3353451\n"
       ]
      }
     ],
     "prompt_number": 98
    },
    {
     "cell_type": "code",
     "collapsed": false,
     "input": [
      "my_droplets = manager.get_all_droplets()\n",
      "for droplet in my_droplets:\n",
      "    print droplet\n",
      "    droplet.power_off()\n"
     ],
     "language": "python",
     "metadata": {},
     "outputs": [
      {
       "output_type": "stream",
       "stream": "stdout",
       "text": [
        "<digitalocean.Droplet.Droplet object at 0x2fdcd90>\n",
        "<digitalocean.Droplet.Droplet object at 0x2fdcd50>"
       ]
      },
      {
       "output_type": "stream",
       "stream": "stdout",
       "text": [
        "\n"
       ]
      }
     ],
     "prompt_number": 73
    },
    {
     "cell_type": "code",
     "collapsed": false,
     "input": [
      "for droplet in my_droplets:\n",
      "    print droplet\n",
      "    droplet.power_on()"
     ],
     "language": "python",
     "metadata": {},
     "outputs": [
      {
       "output_type": "stream",
       "stream": "stdout",
       "text": [
        "<digitalocean.Droplet.Droplet object at 0x2e25990>\n",
        "<digitalocean.Droplet.Droplet object at 0x2e44ad0>"
       ]
      },
      {
       "output_type": "stream",
       "stream": "stdout",
       "text": [
        "\n",
        "<digitalocean.Droplet.Droplet object at 0x2e44fd0>"
       ]
      },
      {
       "output_type": "stream",
       "stream": "stdout",
       "text": [
        "\n",
        "<digitalocean.Droplet.Droplet object at 0x2e44d10>"
       ]
      },
      {
       "output_type": "stream",
       "stream": "stdout",
       "text": [
        "\n",
        "<digitalocean.Droplet.Droplet object at 0x2e44810>"
       ]
      },
      {
       "output_type": "stream",
       "stream": "stdout",
       "text": [
        "\n"
       ]
      }
     ],
     "prompt_number": 46
    },
    {
     "cell_type": "code",
     "collapsed": false,
     "input": [
      "for droplet in my_droplets:\n",
      "    print droplet\n",
      "    print droplet.name"
     ],
     "language": "python",
     "metadata": {},
     "outputs": [
      {
       "output_type": "stream",
       "stream": "stdout",
       "text": [
        "<digitalocean.Droplet.Droplet object at 0x2d45b10>\n",
        "wcmckee\n",
        "<digitalocean.Droplet.Droplet object at 0x2fdcbd0>\n",
        "catgang\n"
       ]
      }
     ],
     "prompt_number": 64
    },
    {
     "cell_type": "code",
     "collapsed": false,
     "input": [
      "dropo.power_off()"
     ],
     "language": "python",
     "metadata": {},
     "outputs": [],
     "prompt_number": 54
    },
    {
     "cell_type": "code",
     "collapsed": false,
     "input": [
      "dropo.take_snapshot('deb')"
     ],
     "language": "python",
     "metadata": {},
     "outputs": [],
     "prompt_number": 74
    },
    {
     "cell_type": "code",
     "collapsed": false,
     "input": [
      "dropo.status"
     ],
     "language": "python",
     "metadata": {},
     "outputs": [
      {
       "output_type": "pyout",
       "prompt_number": 82,
       "text": [
        "u'active'"
       ]
      }
     ],
     "prompt_number": 82
    },
    {
     "cell_type": "code",
     "collapsed": false,
     "input": [
      "dropo.rebuild()"
     ],
     "language": "python",
     "metadata": {},
     "outputs": [
      {
       "ename": "Exception",
       "evalue": "An invalid size was specified",
       "output_type": "pyerr",
       "traceback": [
        "\u001b[1;31m---------------------------------------------------------------------------\u001b[0m\n\u001b[1;31mException\u001b[0m                                 Traceback (most recent call last)",
        "\u001b[1;32m<ipython-input-75-735d4c41b1e7>\u001b[0m in \u001b[0;36m<module>\u001b[1;34m()\u001b[0m\n\u001b[1;32m----> 1\u001b[1;33m \u001b[0mdropo\u001b[0m\u001b[1;33m.\u001b[0m\u001b[0mrebuild\u001b[0m\u001b[1;33m(\u001b[0m\u001b[1;33m)\u001b[0m\u001b[1;33m\u001b[0m\u001b[0m\n\u001b[0m",
        "\u001b[1;32m/usr/lib/python2.7/site-packages/digitalocean/Droplet.pyc\u001b[0m in \u001b[0;36mrebuild\u001b[1;34m(self, image_id)\u001b[0m\n\u001b[0;32m    112\u001b[0m         \u001b[1;32mif\u001b[0m \u001b[0mself\u001b[0m\u001b[1;33m.\u001b[0m\u001b[0mimage_id\u001b[0m \u001b[1;32mand\u001b[0m \u001b[1;32mnot\u001b[0m \u001b[0mimage_id\u001b[0m\u001b[1;33m:\u001b[0m\u001b[1;33m\u001b[0m\u001b[0m\n\u001b[0;32m    113\u001b[0m             \u001b[0mimage_id\u001b[0m \u001b[1;33m=\u001b[0m \u001b[0mself\u001b[0m\u001b[1;33m.\u001b[0m\u001b[0mimage_id\u001b[0m\u001b[1;33m\u001b[0m\u001b[0m\n\u001b[1;32m--> 114\u001b[1;33m         \u001b[0mself\u001b[0m\u001b[1;33m.\u001b[0m\u001b[0m__call_api\u001b[0m\u001b[1;33m(\u001b[0m\u001b[1;34m\"/rebuild/\"\u001b[0m\u001b[1;33m,\u001b[0m \u001b[1;33m{\u001b[0m\u001b[1;34m\"image_id\"\u001b[0m\u001b[1;33m:\u001b[0m \u001b[0mimage_id\u001b[0m\u001b[1;33m}\u001b[0m\u001b[1;33m)\u001b[0m\u001b[1;33m\u001b[0m\u001b[0m\n\u001b[0m\u001b[0;32m    115\u001b[0m \u001b[1;33m\u001b[0m\u001b[0m\n\u001b[0;32m    116\u001b[0m     \u001b[1;32mdef\u001b[0m \u001b[0menable_backups\u001b[0m\u001b[1;33m(\u001b[0m\u001b[0mself\u001b[0m\u001b[1;33m)\u001b[0m\u001b[1;33m:\u001b[0m\u001b[1;33m\u001b[0m\u001b[0m\n",
        "\u001b[1;32m/usr/lib/python2.7/site-packages/digitalocean/Droplet.pyc\u001b[0m in \u001b[0;36m__call_api\u001b[1;34m(self, path, params)\u001b[0m\n\u001b[0;32m     31\u001b[0m         \u001b[1;32mif\u001b[0m \u001b[0mdata\u001b[0m\u001b[1;33m[\u001b[0m\u001b[1;34m'status'\u001b[0m\u001b[1;33m]\u001b[0m \u001b[1;33m!=\u001b[0m \u001b[1;34m\"OK\"\u001b[0m\u001b[1;33m:\u001b[0m\u001b[1;33m\u001b[0m\u001b[0m\n\u001b[0;32m     32\u001b[0m             \u001b[0mmsg\u001b[0m \u001b[1;33m=\u001b[0m \u001b[1;33m[\u001b[0m\u001b[0mdata\u001b[0m\u001b[1;33m[\u001b[0m\u001b[0mm\u001b[0m\u001b[1;33m]\u001b[0m \u001b[1;32mfor\u001b[0m \u001b[0mm\u001b[0m \u001b[1;32min\u001b[0m \u001b[1;33m(\u001b[0m\u001b[1;34m\"message\"\u001b[0m\u001b[1;33m,\u001b[0m \u001b[1;34m\"error_message\"\u001b[0m\u001b[1;33m,\u001b[0m \u001b[1;34m\"status\"\u001b[0m\u001b[1;33m)\u001b[0m \u001b[1;32mif\u001b[0m \u001b[0mm\u001b[0m \u001b[1;32min\u001b[0m \u001b[0mdata\u001b[0m\u001b[1;33m]\u001b[0m\u001b[1;33m[\u001b[0m\u001b[1;36m0\u001b[0m\u001b[1;33m]\u001b[0m\u001b[1;33m\u001b[0m\u001b[0m\n\u001b[1;32m---> 33\u001b[1;33m             \u001b[1;32mraise\u001b[0m \u001b[0mException\u001b[0m\u001b[1;33m(\u001b[0m\u001b[0mmsg\u001b[0m\u001b[1;33m)\u001b[0m\u001b[1;33m\u001b[0m\u001b[0m\n\u001b[0m\u001b[0;32m     34\u001b[0m         \u001b[1;31m#add the event to the object's event list.\u001b[0m\u001b[1;33m\u001b[0m\u001b[1;33m\u001b[0m\u001b[0m\n\u001b[0;32m     35\u001b[0m         \u001b[0mevent_id\u001b[0m \u001b[1;33m=\u001b[0m \u001b[0mdata\u001b[0m\u001b[1;33m.\u001b[0m\u001b[0mget\u001b[0m\u001b[1;33m(\u001b[0m\u001b[1;34mu'event_id'\u001b[0m\u001b[1;33m,\u001b[0m\u001b[0mNone\u001b[0m\u001b[1;33m)\u001b[0m\u001b[1;33m\u001b[0m\u001b[0m\n",
        "\u001b[1;31mException\u001b[0m: An invalid size was specified"
       ]
      }
     ],
     "prompt_number": 75
    },
    {
     "cell_type": "code",
     "collapsed": false,
     "input": [
      "droplet.client_id"
     ],
     "language": "python",
     "metadata": {},
     "outputs": [
      {
       "output_type": "pyout",
       "prompt_number": 55,
       "text": [
        "'a24a5636402aaf75d07b774d98591ea3'"
       ]
      }
     ],
     "prompt_number": 55
    },
    {
     "cell_type": "code",
     "collapsed": false,
     "input": [
      "myderp = manager.get_all_regions()"
     ],
     "language": "python",
     "metadata": {},
     "outputs": [],
     "prompt_number": 67
    },
    {
     "cell_type": "code",
     "collapsed": false,
     "input": [
      "print myderp"
     ],
     "language": "python",
     "metadata": {},
     "outputs": [
      {
       "output_type": "stream",
       "stream": "stdout",
       "text": [
        "[<digitalocean.Region.Region object at 0x2fcf450>, <digitalocean.Region.Region object at 0x2fcf110>, <digitalocean.Region.Region object at 0x2fcf310>, <digitalocean.Region.Region object at 0x2fdced0>]\n"
       ]
      }
     ],
     "prompt_number": 68
    },
    {
     "cell_type": "code",
     "collapsed": false,
     "input": [
      "myderp"
     ],
     "language": "python",
     "metadata": {},
     "outputs": [
      {
       "output_type": "pyout",
       "prompt_number": 69,
       "text": [
        "[<digitalocean.Region.Region at 0x2fcf450>,\n",
        " <digitalocean.Region.Region at 0x2fcf110>,\n",
        " <digitalocean.Region.Region at 0x2fcf310>,\n",
        " <digitalocean.Region.Region at 0x2fdced0>]"
       ]
      }
     ],
     "prompt_number": 69
    },
    {
     "cell_type": "code",
     "collapsed": false,
     "input": [
      "for derp in myderp:\n",
      "    print derp\n",
      "    droplis.append(derp.name)\n",
      "    droplis.append(derp.id)\n",
      "    print derp.name\n",
      "    print derp.id"
     ],
     "language": "python",
     "metadata": {},
     "outputs": [
      {
       "output_type": "stream",
       "stream": "stdout",
       "text": [
        "<digitalocean.Region.Region object at 0x2fcf450>\n",
        "San Francisco 1\n",
        "3\n",
        "<digitalocean.Region.Region object at 0x2fcf110>\n",
        "New York 2\n",
        "4\n",
        "<digitalocean.Region.Region object at 0x2fcf310>\n",
        "Amsterdam 2\n",
        "5\n",
        "<digitalocean.Region.Region object at 0x2fdced0>\n",
        "Singapore 1\n",
        "6\n"
       ]
      }
     ],
     "prompt_number": 70
    },
    {
     "cell_type": "code",
     "collapsed": false,
     "input": [
      "print droplis"
     ],
     "language": "python",
     "metadata": {},
     "outputs": [
      {
       "output_type": "stream",
       "stream": "stdout",
       "text": [
        "[u'wcmckee', u'128.199.199.74', u'active', 6, None, 1331748, <digitalocean.Droplet.Droplet object at 0x2fdca10>, u'catgang', u'188.226.209.162', u'active', 5, None, 1496053, <digitalocean.Droplet.Droplet object at 0x2fdc9d0>, u'San Francisco 1', 3, u'New York 2', 4, u'Amsterdam 2', 5, u'Singapore 1', 6]\n"
       ]
      }
     ],
     "prompt_number": 72
    },
    {
     "cell_type": "code",
     "collapsed": false,
     "input": [
      "dropserv = digitalocean.Droplet(client_id=digcli, api_key=apikey, name = 'uburub', region_id=5, image_id=3137635, size_id=66, backup_active=False)\n",
      "#dropserv.create()\n",
      "dropserv.Droplet"
     ],
     "language": "python",
     "metadata": {},
     "outputs": [],
     "prompt_number": 102
    },
    {
     "cell_type": "code",
     "collapsed": false,
     "input": [],
     "language": "python",
     "metadata": {},
     "outputs": []
    }
   ],
   "metadata": {}
  }
 ]
}