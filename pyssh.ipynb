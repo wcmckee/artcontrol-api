{
 "metadata": {
  "name": "pyssh"
 },
 "nbformat": 3,
 "nbformat_minor": 0,
 "worksheets": [
  {
   "cells": [
    {
     "cell_type": "heading",
     "level": 2,
     "metadata": {},
     "source": [
      "pywsshx"
     ]
    },
    {
     "cell_type": "markdown",
     "metadata": {},
     "source": [
      "this is a python script to expand features on Digital Ocean.\n",
      "since i have been busy with github clone repo python script i have became interested in deployment of servers. I hope some of the code here is useful for you."
     ]
    },
    {
     "cell_type": "markdown",
     "metadata": {},
     "source": [
      "TODO: \n",
      "    - sort out login. \n",
      "    - make functions/test\n",
      "    - merge with other scripts. eg github.\n",
      "    - make dict better\n",
      "- config file. - specify\n",
      "- terminal -commands\n",
      "- "
     ]
    },
    {
     "cell_type": "code",
     "collapsed": false,
     "input": [
      "import os\n",
      "import json\n",
      "import digitalocean"
     ],
     "language": "python",
     "metadata": {},
     "outputs": [],
     "prompt_number": 1
    },
    {
     "cell_type": "code",
     "collapsed": false,
     "input": [
      "digcli = ('a24a5636402aaf75d07b774d98591ea3')"
     ],
     "language": "python",
     "metadata": {},
     "outputs": [],
     "prompt_number": 2
    },
    {
     "cell_type": "code",
     "collapsed": false,
     "input": [
      "print digcli"
     ],
     "language": "python",
     "metadata": {},
     "outputs": [
      {
       "output_type": "stream",
       "stream": "stdout",
       "text": [
        "a24a5636402aaf75d07b774d98591ea3\n"
       ]
      }
     ],
     "prompt_number": 3
    },
    {
     "cell_type": "code",
     "collapsed": false,
     "input": [
      "apikey = ('9d4a1822e4aaf3a11f73012e5648ebd4')"
     ],
     "language": "python",
     "metadata": {},
     "outputs": [],
     "prompt_number": 4
    },
    {
     "cell_type": "code",
     "collapsed": false,
     "input": [],
     "language": "python",
     "metadata": {},
     "outputs": [],
     "prompt_number": 4
    },
    {
     "cell_type": "code",
     "collapsed": false,
     "input": [
      "print apikey"
     ],
     "language": "python",
     "metadata": {},
     "outputs": [
      {
       "output_type": "stream",
       "stream": "stdout",
       "text": [
        "9d4a1822e4aaf3a11f73012e5648ebd4\n"
       ]
      }
     ],
     "prompt_number": 5
    },
    {
     "cell_type": "code",
     "collapsed": false,
     "input": [
      "manager = digitalocean.Manager(client_id = digcli, api_key = apikey)"
     ],
     "language": "python",
     "metadata": {},
     "outputs": [],
     "prompt_number": 6
    },
    {
     "cell_type": "code",
     "collapsed": false,
     "input": [
      "mydrop = manager.get_all_droplets()"
     ],
     "language": "python",
     "metadata": {},
     "outputs": [],
     "prompt_number": 7
    },
    {
     "cell_type": "code",
     "collapsed": false,
     "input": [
      "myserv = manager.get_all_images()"
     ],
     "language": "python",
     "metadata": {},
     "outputs": [],
     "prompt_number": 9
    },
    {
     "cell_type": "code",
     "collapsed": false,
     "input": [
      "mybleh = manager.get_all_regions()"
     ],
     "language": "python",
     "metadata": {},
     "outputs": [],
     "prompt_number": 14
    },
    {
     "cell_type": "code",
     "collapsed": false,
     "input": [
      "mybez = manager.get_global_images()"
     ],
     "language": "python",
     "metadata": {},
     "outputs": [],
     "prompt_number": 18
    },
    {
     "cell_type": "code",
     "collapsed": false,
     "input": [
      "myhez = manager.get_all_sizes()"
     ],
     "language": "python",
     "metadata": {},
     "outputs": [],
     "prompt_number": 20
    },
    {
     "cell_type": "code",
     "collapsed": false,
     "input": [
      "hezdict = {}"
     ],
     "language": "python",
     "metadata": {},
     "outputs": [],
     "prompt_number": 48
    },
    {
     "cell_type": "code",
     "collapsed": false,
     "input": [
      "print hezdict\n"
     ],
     "language": "python",
     "metadata": {},
     "outputs": [
      {
       "output_type": "stream",
       "stream": "stdout",
       "text": [
        "{'cost month': u'640.0', 'cost hour': 0.95238, 'cpu': 20, 'size': u'64GB'}\n"
       ]
      }
     ],
     "prompt_number": 51
    },
    {
     "cell_type": "code",
     "collapsed": false,
     "input": [
      "for hez in myhez:\n",
      "    print hez.name\n",
      "    hezdict.update({'size': hez.name, 'cost hour': hez.cost_per_hour,\n",
      "                    'cost month': hez.cost_per_month, 'cpu': hez.cpu})\n",
      "    print hez.cost_per_hour\n",
      "    print hez.cost_per_month\n",
      "    print hez.cpu\n",
      "    print hez.disk\n",
      "    print hez.id\n",
      "    print hez.memory"
     ],
     "language": "python",
     "metadata": {},
     "outputs": [
      {
       "output_type": "stream",
       "stream": "stdout",
       "text": [
        "512MB\n",
        "0.00744\n",
        "5.0\n",
        "1\n",
        "20\n",
        "66\n",
        "512\n",
        "1GB\n",
        "0.01488\n",
        "10.0\n",
        "1\n",
        "30\n",
        "63\n",
        "1024\n",
        "2GB\n",
        "0.02976\n",
        "20.0\n",
        "2\n",
        "40\n",
        "62\n",
        "2048\n",
        "4GB\n",
        "0.05952\n",
        "40.0\n",
        "2\n",
        "60\n",
        "64\n",
        "4096\n",
        "8GB\n",
        "0.11905\n",
        "80.0\n",
        "4\n",
        "80\n",
        "65\n",
        "8192\n",
        "16GB\n",
        "0.2381\n",
        "160.0\n",
        "8\n",
        "160\n",
        "61\n",
        "16384\n",
        "32GB\n",
        "0.47619\n",
        "320.0\n",
        "12\n",
        "320\n",
        "60\n",
        "32768\n",
        "48GB\n",
        "0.71429\n",
        "480.0\n",
        "16\n",
        "480\n",
        "70\n",
        "49152\n",
        "64GB\n",
        "0.95238\n",
        "640.0\n",
        "20\n",
        "640\n",
        "69\n",
        "65536\n"
       ]
      }
     ],
     "prompt_number": 50
    },
    {
     "cell_type": "code",
     "collapsed": false,
     "input": [
      "for ekk in mybez:\n",
      "    print ekk.name"
     ],
     "language": "python",
     "metadata": {},
     "outputs": [
      {
       "output_type": "stream",
       "stream": "stdout",
       "text": [
        "CentOS 5.8 x64\n",
        "CentOS 5.8 x32\n",
        "Debian 6.0 x64\n",
        "Debian 6.0 x32\n",
        "Ubuntu 10.04 x64\n",
        "Ubuntu 10.04 x32\n",
        "Fedora 17 x32\n",
        "Fedora 17 x32 Desktop\n",
        "Fedora 17 x64 Desktop\n",
        "Fedora 17 x64\n",
        "Arch Linux 2013.05 x64\n",
        "Arch Linux 2013.05 x32\n",
        "CentOS 6.4 x32\n",
        "CentOS 6.4 x64\n",
        "Ubuntu 12.04.4 x32\n",
        "Ubuntu 12.04.4 x64\n",
        "Ubuntu 13.10 x32\n",
        "Ubuntu 12.10 x32\n",
        "Ubuntu 12.10 x64\n",
        "Ubuntu 13.10 x64\n",
        "Debian 7.0 x32\n",
        "Debian 7.0 x64\n",
        "Fedora 19 x32\n",
        "Fedora 19 x64\n",
        "Ubuntu 12.10 x64 Desktop\n",
        "Docker 0.10 on Ubuntu 13.10 x64\n",
        "MEAN on Ubuntu 12.04.4\n",
        "GitLab 6.6.5 CE\n",
        "LAMP on Ubuntu 12.04\n",
        "Ghost 0.4.2 on Ubuntu 12.04\n",
        "Wordpress on Ubuntu 13.10\n",
        "Ruby on Rails on Ubuntu 12.10 (Nginx + Unicorn)\n",
        "Redmine on Ubuntu 12.04\n",
        "Dokku-v0.2.1 on Ubuntu 13.04\n",
        "Ubuntu 14.04 x32\n",
        "Ubuntu 14.04 x64\n",
        "CentOS 6.5 x32\n",
        "CentOS 6.5 x64\n",
        "Fedora 20 x32\n",
        "Fedora 20 x64\n"
       ]
      }
     ],
     "prompt_number": 19
    },
    {
     "cell_type": "code",
     "collapsed": false,
     "input": [
      "for bleh in mybleh:\n",
      "    print bleh.name\n",
      "    print bleh.id"
     ],
     "language": "python",
     "metadata": {},
     "outputs": [
      {
       "output_type": "stream",
       "stream": "stdout",
       "text": [
        "San Francisco 1\n",
        "3\n",
        "New York 2\n",
        "4\n",
        "Amsterdam 2\n",
        "5\n",
        "Singapore 1\n",
        "6\n"
       ]
      }
     ],
     "prompt_number": 17
    },
    {
     "cell_type": "code",
     "collapsed": false,
     "input": [
      "for imgz in myserv:\n",
      "    print imgz.name\n",
      "    print imgz.id\n",
      "    print imgz.distribution"
     ],
     "language": "python",
     "metadata": {},
     "outputs": [
      {
       "output_type": "stream",
       "stream": "stdout",
       "text": [
        "CentOS 5.8 x64\n",
        "1601\n",
        "CentOS\n",
        "CentOS 5.8 x32\n",
        "1602\n",
        "CentOS\n",
        "Debian 6.0 x64\n",
        "12573\n",
        "Debian\n",
        "Debian 6.0 x32\n",
        "12575\n",
        "Debian\n",
        "Ubuntu 10.04 x64\n",
        "14097\n",
        "Ubuntu\n",
        "Ubuntu 10.04 x32\n",
        "14098\n",
        "Ubuntu\n",
        "Fedora 17 x32\n",
        "32387\n",
        "Fedora\n",
        "Fedora 17 x32 Desktop\n",
        "32399\n",
        "Fedora\n",
        "Fedora 17 x64 Desktop\n",
        "32419\n",
        "Fedora\n",
        "Fedora 17 x64\n",
        "32428\n",
        "Fedora\n",
        "Arch Linux 2013.05 x64\n",
        "350424\n",
        "Arch Linux\n",
        "Arch Linux 2013.05 x32\n",
        "361740\n",
        "Arch Linux\n",
        "CentOS 6.4 x32\n",
        "376568\n",
        "CentOS\n",
        "CentOS 6.4 x64\n",
        "562354\n",
        "CentOS\n",
        "Ubuntu 12.04.4 x32\n",
        "3100616\n",
        "Ubuntu\n",
        "Ubuntu 12.04.4 x64\n",
        "3101045\n",
        "Ubuntu\n",
        "Ubuntu 13.10 x32\n",
        "3101580\n",
        "Ubuntu\n",
        "Ubuntu 12.10 x32\n",
        "3101888\n",
        "Ubuntu\n",
        "Ubuntu 12.10 x64\n",
        "3101891\n",
        "Ubuntu\n",
        "Ubuntu 13.10 x64\n",
        "3101918\n",
        "Ubuntu\n",
        "Debian 7.0 x32\n",
        "3102384\n",
        "Debian\n",
        "Debian 7.0 x64\n",
        "3102387\n",
        "Debian\n",
        "Fedora 19 x32\n",
        "3102721\n",
        "Fedora\n",
        "Fedora 19 x64\n",
        "3102879\n",
        "Fedora\n",
        "Ubuntu 12.10 x64 Desktop\n",
        "3104282\n",
        "Ubuntu\n",
        "Docker 0.10 on Ubuntu 13.10 x64\n",
        "3104894\n",
        "Ubuntu\n",
        "MEAN on Ubuntu 12.04.4\n",
        "3118235\n",
        "Ubuntu\n",
        "GitLab 6.6.5 CE\n",
        "3118238\n",
        "Ubuntu\n",
        "LAMP on Ubuntu 12.04\n",
        "3120115\n",
        "Ubuntu\n",
        "Ghost 0.4.2 on Ubuntu 12.04\n",
        "3121555\n",
        "Ubuntu\n",
        "Wordpress on Ubuntu 13.10\n",
        "3135725\n",
        "Ubuntu\n",
        "Ruby on Rails on Ubuntu 12.10 (Nginx + Unicorn)\n",
        "3137635\n",
        "Ubuntu\n",
        "Redmine on Ubuntu 12.04\n",
        "3137903\n",
        "Ubuntu\n",
        "Dokku-v0.2.1 on Ubuntu 13.04\n",
        "3140202\n",
        "Ubuntu\n",
        "Ubuntu 14.04 x32\n",
        "3240033\n",
        "Ubuntu\n",
        "Ubuntu 14.04 x64\n",
        "3240036\n",
        "Ubuntu\n",
        "CentOS 6.5 x32\n",
        "3240847\n",
        "CentOS\n",
        "CentOS 6.5 x64\n",
        "3240850\n",
        "CentOS\n",
        "Fedora 20 x32\n",
        "3243143\n",
        "Fedora\n",
        "Fedora 20 x64\n",
        "3243145\n",
        "Fedora\n"
       ]
      }
     ],
     "prompt_number": 13
    },
    {
     "cell_type": "code",
     "collapsed": false,
     "input": [
      "myserv"
     ],
     "language": "python",
     "metadata": {},
     "outputs": [
      {
       "output_type": "pyout",
       "prompt_number": 10,
       "text": [
        "[<digitalocean.Image.Image at 0x1eb1fd0>,\n",
        " <digitalocean.Image.Image at 0x1404a50>,\n",
        " <digitalocean.Image.Image at 0x1cd9c90>,\n",
        " <digitalocean.Image.Image at 0x7f37c0c36550>,\n",
        " <digitalocean.Image.Image at 0x7f37b00cd1d0>,\n",
        " <digitalocean.Image.Image at 0x1f3f6d0>,\n",
        " <digitalocean.Image.Image at 0x1f3f7d0>,\n",
        " <digitalocean.Image.Image at 0x1f3f790>,\n",
        " <digitalocean.Image.Image at 0x1f3f590>,\n",
        " <digitalocean.Image.Image at 0x1f3f5d0>,\n",
        " <digitalocean.Image.Image at 0x1f3f710>,\n",
        " <digitalocean.Image.Image at 0x1f3f750>,\n",
        " <digitalocean.Image.Image at 0x1f3f490>,\n",
        " <digitalocean.Image.Image at 0x1f3f4d0>,\n",
        " <digitalocean.Image.Image at 0x1f3f510>,\n",
        " <digitalocean.Image.Image at 0x1f3f550>,\n",
        " <digitalocean.Image.Image at 0x1f3f110>,\n",
        " <digitalocean.Image.Image at 0x1f3f150>,\n",
        " <digitalocean.Image.Image at 0x1f3f190>,\n",
        " <digitalocean.Image.Image at 0x1f3f2d0>,\n",
        " <digitalocean.Image.Image at 0x1f3f3d0>,\n",
        " <digitalocean.Image.Image at 0x1f3f8d0>,\n",
        " <digitalocean.Image.Image at 0x1f3f850>,\n",
        " <digitalocean.Image.Image at 0x1f3f890>,\n",
        " <digitalocean.Image.Image at 0x1f3fbd0>,\n",
        " <digitalocean.Image.Image at 0x1f3fc10>,\n",
        " <digitalocean.Image.Image at 0x1f3fc50>,\n",
        " <digitalocean.Image.Image at 0x1f3fc90>,\n",
        " <digitalocean.Image.Image at 0x1f3fcd0>,\n",
        " <digitalocean.Image.Image at 0x1f3fd10>,\n",
        " <digitalocean.Image.Image at 0x1f3fd50>,\n",
        " <digitalocean.Image.Image at 0x1f3fd90>,\n",
        " <digitalocean.Image.Image at 0x1f3fdd0>,\n",
        " <digitalocean.Image.Image at 0x1f3fe10>,\n",
        " <digitalocean.Image.Image at 0x1f3fe50>,\n",
        " <digitalocean.Image.Image at 0x1f3fe90>,\n",
        " <digitalocean.Image.Image at 0x1f3fed0>,\n",
        " <digitalocean.Image.Image at 0x1f3ff10>,\n",
        " <digitalocean.Image.Image at 0x1f3ff50>,\n",
        " <digitalocean.Image.Image at 0x1f3ff90>]"
       ]
      }
     ],
     "prompt_number": 10
    },
    {
     "cell_type": "code",
     "collapsed": false,
     "input": [
      "mydrop.sort"
     ],
     "language": "python",
     "metadata": {},
     "outputs": [
      {
       "output_type": "pyout",
       "prompt_number": 58,
       "text": [
        "<function sort>"
       ]
      }
     ],
     "prompt_number": 58
    },
    {
     "cell_type": "code",
     "collapsed": false,
     "input": [
      "print mydrop"
     ],
     "language": "python",
     "metadata": {},
     "outputs": [
      {
       "output_type": "stream",
       "stream": "stdout",
       "text": [
        "[<digitalocean.Droplet.Droplet object at 0x313ce10>, <digitalocean.Droplet.Droplet object at 0x3149590>, <digitalocean.Droplet.Droplet object at 0x31496d0>, <digitalocean.Droplet.Droplet object at 0x3149690>]\n"
       ]
      }
     ],
     "prompt_number": 59
    },
    {
     "cell_type": "code",
     "collapsed": false,
     "input": [
      "dropo = mydrop[0]"
     ],
     "language": "python",
     "metadata": {},
     "outputs": [],
     "prompt_number": 60
    },
    {
     "cell_type": "code",
     "collapsed": false,
     "input": [
      "print dropo"
     ],
     "language": "python",
     "metadata": {},
     "outputs": [
      {
       "output_type": "stream",
       "stream": "stdout",
       "text": [
        "<digitalocean.Droplet.Droplet object at 0x313ce10>\n"
       ]
      }
     ],
     "prompt_number": 61
    },
    {
     "cell_type": "code",
     "collapsed": false,
     "input": [
      "events = dropo.get_events()"
     ],
     "language": "python",
     "metadata": {},
     "outputs": [],
     "prompt_number": 62
    },
    {
     "cell_type": "code",
     "collapsed": false,
     "input": [
      "for event in events:\n",
      "    event.load()\n",
      "    print event.percentage"
     ],
     "language": "python",
     "metadata": {},
     "outputs": [],
     "prompt_number": 63
    },
    {
     "cell_type": "code",
     "collapsed": false,
     "input": [
      "sshin = []"
     ],
     "language": "python",
     "metadata": {},
     "outputs": [],
     "prompt_number": 68
    },
    {
     "cell_type": "code",
     "collapsed": false,
     "input": [
      "for ipz in sshin:\n",
      "    print('wcmckee@' + ipz)"
     ],
     "language": "python",
     "metadata": {},
     "outputs": [
      {
       "output_type": "stream",
       "stream": "stdout",
       "text": [
        "wcmckee@128.199.199.74\n",
        "wcmckee@188.226.209.162\n",
        "wcmckee@188.226.145.15\n",
        "wcmckee@95.85.29.232\n"
       ]
      }
     ],
     "prompt_number": 71
    },
    {
     "cell_type": "code",
     "collapsed": false,
     "input": [
      "import subprocess"
     ],
     "language": "python",
     "metadata": {},
     "outputs": [],
     "prompt_number": 1
    },
    {
     "cell_type": "code",
     "collapsed": false,
     "input": [
      "conser = subprocess.check_output('ls')"
     ],
     "language": "python",
     "metadata": {},
     "outputs": [],
     "prompt_number": 2
    },
    {
     "cell_type": "code",
     "collapsed": false,
     "input": [
      "process = subprocess.Popen(\"ssh wcmckee@\" + ipz + \" ls\", shell=True,\n",
      "    stdout=subprocess.PIPE, stderr=subprocess.STDOUT)\n",
      "output,stderr = process.communicate()\n",
      "status = process.poll()\n",
      "print output"
     ],
     "language": "python",
     "metadata": {},
     "outputs": [],
     "prompt_number": "*"
    },
    {
     "cell_type": "code",
     "collapsed": false,
     "input": [
      "for meip in mydrop:\n",
      "    print meip.ip_address\n",
      "    sshin.append(meip.ip_address)\n",
      "    print meip.status\n",
      "    print meip.image_id\n",
      "    print meip.name\n",
      "    print meip.private_ip_address"
     ],
     "language": "python",
     "metadata": {},
     "outputs": [],
     "prompt_number": "*"
    },
    {
     "cell_type": "code",
     "collapsed": false,
     "input": [
      "dropo.ip_address"
     ],
     "language": "python",
     "metadata": {},
     "outputs": [
      {
       "output_type": "pyout",
       "prompt_number": 22,
       "text": [
        "u'128.199.199.74'"
       ]
      }
     ],
     "prompt_number": 22
    },
    {
     "cell_type": "code",
     "collapsed": false,
     "input": [
      "dropo.name"
     ],
     "language": "python",
     "metadata": {},
     "outputs": [
      {
       "output_type": "pyout",
       "prompt_number": 23,
       "text": [
        "u'wcmckee'"
       ]
      }
     ],
     "prompt_number": 23
    },
    {
     "cell_type": "code",
     "collapsed": false,
     "input": [
      "dropo"
     ],
     "language": "python",
     "metadata": {},
     "outputs": [
      {
       "output_type": "pyout",
       "prompt_number": 24,
       "text": [
        "<digitalocean.Droplet.Droplet at 0x2faef50>"
       ]
      }
     ],
     "prompt_number": 24
    },
    {
     "cell_type": "code",
     "collapsed": false,
     "input": [
      "droplis = []"
     ],
     "language": "python",
     "metadata": {},
     "outputs": [],
     "prompt_number": 25
    },
    {
     "cell_type": "code",
     "collapsed": false,
     "input": [
      "for dr in mydrop:\n",
      "    print dr.ip_address\n",
      "    droplis.append(dr.ip_address)\n",
      "    droplis.append(dr.status)\n",
      "    print dr.status\n",
      "    droplis.append(dr.region_id)\n",
      "    print dr.region_id\n",
      "    droplis.append(dr.ssh_key_ids)\n",
      "    droplis.append(dr.id)\n",
      "    print dr.ssh_key_ids\n",
      "    print dr.id\n",
      "    print dr.image_id"
     ],
     "language": "python",
     "metadata": {},
     "outputs": [
      {
       "output_type": "stream",
       "stream": "stdout",
       "text": [
        "128.199.199.74\n",
        "active\n",
        "6\n",
        "None\n",
        "1331748\n",
        "308287\n",
        "188.226.209.162\n",
        "active\n",
        "5\n",
        "None\n",
        "1496053\n",
        "3135725\n",
        "188.226.145.15\n",
        "active\n",
        "5\n",
        "None\n",
        "1497355\n",
        "3135725\n",
        "95.85.29.232\n",
        "active\n",
        "5\n",
        "None\n",
        "1497473\n",
        "3137635\n"
       ]
      }
     ],
     "prompt_number": 26
    },
    {
     "cell_type": "code",
     "collapsed": false,
     "input": [
      "print droplis"
     ],
     "language": "python",
     "metadata": {},
     "outputs": [
      {
       "output_type": "stream",
       "stream": "stdout",
       "text": [
        "[u'128.199.199.74', u'active', 6, None, 1331748, u'188.226.209.162', u'active', 5, None, 1496053, u'188.226.145.15', u'active', 5, None, 1497355, u'95.85.29.232', u'active', 5, None, 1497473]\n"
       ]
      }
     ],
     "prompt_number": 27
    },
    {
     "cell_type": "code",
     "collapsed": false,
     "input": [
      "dropo.api_key"
     ],
     "language": "python",
     "metadata": {},
     "outputs": [
      {
       "output_type": "pyout",
       "prompt_number": 28,
       "text": [
        "'9d4a1822e4aaf3a11f73012e5648ebd4'"
       ]
      }
     ],
     "prompt_number": 28
    },
    {
     "cell_type": "code",
     "collapsed": false,
     "input": [
      "dropo.call_reponse"
     ],
     "language": "python",
     "metadata": {},
     "outputs": [],
     "prompt_number": 29
    },
    {
     "cell_type": "code",
     "collapsed": false,
     "input": [
      "dropo.image_id"
     ],
     "language": "python",
     "metadata": {},
     "outputs": [
      {
       "output_type": "pyout",
       "prompt_number": 30,
       "text": [
        "308287"
       ]
      }
     ],
     "prompt_number": 30
    },
    {
     "cell_type": "code",
     "collapsed": false,
     "input": [
      "dropo.size_id"
     ],
     "language": "python",
     "metadata": {},
     "outputs": [
      {
       "output_type": "pyout",
       "prompt_number": 31,
       "text": [
        "66"
       ]
      }
     ],
     "prompt_number": 31
    },
    {
     "cell_type": "code",
     "collapsed": false,
     "input": [
      "dropo.events"
     ],
     "language": "python",
     "metadata": {},
     "outputs": [
      {
       "output_type": "pyout",
       "prompt_number": 32,
       "text": [
        "[]"
       ]
      }
     ],
     "prompt_number": 32
    },
    {
     "cell_type": "code",
     "collapsed": false,
     "input": [
      "dropo.size_id"
     ],
     "language": "python",
     "metadata": {},
     "outputs": [
      {
       "output_type": "pyout",
       "prompt_number": 33,
       "text": [
        "66"
       ]
      }
     ],
     "prompt_number": 33
    },
    {
     "cell_type": "code",
     "collapsed": false,
     "input": [
      "domain = manager.get_all_domains"
     ],
     "language": "python",
     "metadata": {},
     "outputs": [],
     "prompt_number": 34
    },
    {
     "cell_type": "code",
     "collapsed": false,
     "input": [
      "print domain"
     ],
     "language": "python",
     "metadata": {},
     "outputs": [
      {
       "output_type": "stream",
       "stream": "stdout",
       "text": [
        "<bound method Manager.get_all_domains of <digitalocean.Manager.Manager object at 0x2faeb10>>\n"
       ]
      }
     ],
     "prompt_number": 35
    },
    {
     "cell_type": "code",
     "collapsed": false,
     "input": [
      "domain.im_self"
     ],
     "language": "python",
     "metadata": {},
     "outputs": [
      {
       "output_type": "pyout",
       "prompt_number": 36,
       "text": [
        "<digitalocean.Manager.Manager at 0x2faeb10>"
       ]
      }
     ],
     "prompt_number": 36
    },
    {
     "cell_type": "code",
     "collapsed": false,
     "input": [
      "gimg = manager.get_global_images"
     ],
     "language": "python",
     "metadata": {},
     "outputs": [],
     "prompt_number": 37
    },
    {
     "cell_type": "code",
     "collapsed": false,
     "input": [
      "gimg"
     ],
     "language": "python",
     "metadata": {},
     "outputs": [
      {
       "output_type": "pyout",
       "prompt_number": 38,
       "text": [
        "<bound method Manager.get_global_images of <digitalocean.Manager.Manager object at 0x2faeb10>>"
       ]
      }
     ],
     "prompt_number": 38
    },
    {
     "cell_type": "code",
     "collapsed": false,
     "input": [
      "list(gimg)"
     ],
     "language": "python",
     "metadata": {},
     "outputs": [
      {
       "ename": "TypeError",
       "evalue": "'instancemethod' object is not iterable",
       "output_type": "pyerr",
       "traceback": [
        "\u001b[0;31m---------------------------------------------------------------------------\u001b[0m\n\u001b[0;31mTypeError\u001b[0m                                 Traceback (most recent call last)",
        "\u001b[0;32m<ipython-input-39-580ff6d51e82>\u001b[0m in \u001b[0;36m<module>\u001b[0;34m()\u001b[0m\n\u001b[0;32m----> 1\u001b[0;31m \u001b[0mlist\u001b[0m\u001b[0;34m(\u001b[0m\u001b[0mgimg\u001b[0m\u001b[0;34m)\u001b[0m\u001b[0;34m\u001b[0m\u001b[0m\n\u001b[0m",
        "\u001b[0;31mTypeError\u001b[0m: 'instancemethod' object is not iterable"
       ]
      }
     ],
     "prompt_number": 39
    },
    {
     "cell_type": "code",
     "collapsed": false,
     "input": [
      "my_droplets = manager.get_all_droplets()\n",
      "for droplet in my_droplets:\n",
      "    print droplet\n"
     ],
     "language": "python",
     "metadata": {},
     "outputs": [
      {
       "output_type": "stream",
       "stream": "stdout",
       "text": [
        "<digitalocean.Droplet.Droplet object at 0x2f3c150>\n",
        "<digitalocean.Droplet.Droplet object at 0x2f3c190>\n",
        "<digitalocean.Droplet.Droplet object at 0x2f3c290>\n",
        "<digitalocean.Droplet.Droplet object at 0x2f3cc50>\n"
       ]
      }
     ],
     "prompt_number": 40
    },
    {
     "cell_type": "code",
     "collapsed": false,
     "input": [
      "droplet.client_id"
     ],
     "language": "python",
     "metadata": {},
     "outputs": [
      {
       "output_type": "pyout",
       "prompt_number": 41,
       "text": [
        "'a24a5636402aaf75d07b774d98591ea3'"
       ]
      }
     ],
     "prompt_number": 41
    },
    {
     "cell_type": "code",
     "collapsed": false,
     "input": [
      "myderp = manager.get_all_regions()"
     ],
     "language": "python",
     "metadata": {},
     "outputs": [],
     "prompt_number": 42
    },
    {
     "cell_type": "code",
     "collapsed": false,
     "input": [
      "print myderp"
     ],
     "language": "python",
     "metadata": {},
     "outputs": [
      {
       "output_type": "stream",
       "stream": "stdout",
       "text": [
        "[<digitalocean.Region.Region object at 0x2f2ef90>, <digitalocean.Region.Region object at 0x2f3cfd0>, <digitalocean.Region.Region object at 0x2f3c390>, <digitalocean.Region.Region object at 0x2f3ccd0>]\n"
       ]
      }
     ],
     "prompt_number": 43
    },
    {
     "cell_type": "code",
     "collapsed": false,
     "input": [
      "myderp"
     ],
     "language": "python",
     "metadata": {},
     "outputs": [
      {
       "output_type": "pyout",
       "prompt_number": 44,
       "text": [
        "[<digitalocean.Region.Region at 0x2f2ef90>,\n",
        " <digitalocean.Region.Region at 0x2f3cfd0>,\n",
        " <digitalocean.Region.Region at 0x2f3c390>,\n",
        " <digitalocean.Region.Region at 0x2f3ccd0>]"
       ]
      }
     ],
     "prompt_number": 44
    },
    {
     "cell_type": "code",
     "collapsed": false,
     "input": [
      "for derp in myderp:\n",
      "    print derp\n",
      "    droplis.append(derp.name)\n",
      "    droplis.append(derp.id)\n",
      "    print derp.name\n",
      "    print derp.id"
     ],
     "language": "python",
     "metadata": {},
     "outputs": [
      {
       "output_type": "stream",
       "stream": "stdout",
       "text": [
        "<digitalocean.Region.Region object at 0x2f2ef90>\n",
        "San Francisco 1\n",
        "3\n",
        "<digitalocean.Region.Region object at 0x2f3cfd0>\n",
        "New York 2\n",
        "4\n",
        "<digitalocean.Region.Region object at 0x2f3c390>\n",
        "Amsterdam 2\n",
        "5\n",
        "<digitalocean.Region.Region object at 0x2f3ccd0>\n",
        "Singapore 1\n",
        "6\n"
       ]
      }
     ],
     "prompt_number": 45
    },
    {
     "cell_type": "code",
     "collapsed": false,
     "input": [
      "print droplis"
     ],
     "language": "python",
     "metadata": {},
     "outputs": [],
     "prompt_number": "*"
    },
    {
     "cell_type": "code",
     "collapsed": false,
     "input": [
      "dropserv = digitalocean.Droplet(client_id=digcli, api_key=apikey, name = 'uburub', region_id=5, image_id=3137635, size_id=66, backup_active=False)\n",
      "dropserv.create()\n"
     ],
     "language": "python",
     "metadata": {},
     "outputs": [
      {
       "ename": "KeyboardInterrupt",
       "evalue": "",
       "output_type": "pyerr",
       "traceback": [
        "\u001b[0;31m---------------------------------------------------------------------------\u001b[0m\n\u001b[0;31mKeyboardInterrupt\u001b[0m                         Traceback (most recent call last)",
        "\u001b[0;32m<ipython-input-47-af8cf67a4eb4>\u001b[0m in \u001b[0;36m<module>\u001b[0;34m()\u001b[0m\n\u001b[1;32m      1\u001b[0m \u001b[0mdropserv\u001b[0m \u001b[0;34m=\u001b[0m \u001b[0mdigitalocean\u001b[0m\u001b[0;34m.\u001b[0m\u001b[0mDroplet\u001b[0m\u001b[0;34m(\u001b[0m\u001b[0mclient_id\u001b[0m\u001b[0;34m=\u001b[0m\u001b[0mdigcli\u001b[0m\u001b[0;34m,\u001b[0m \u001b[0mapi_key\u001b[0m\u001b[0;34m=\u001b[0m\u001b[0mapikey\u001b[0m\u001b[0;34m,\u001b[0m \u001b[0mname\u001b[0m \u001b[0;34m=\u001b[0m \u001b[0;34m'uburub'\u001b[0m\u001b[0;34m,\u001b[0m \u001b[0mregion_id\u001b[0m\u001b[0;34m=\u001b[0m\u001b[0;36m5\u001b[0m\u001b[0;34m,\u001b[0m \u001b[0mimage_id\u001b[0m\u001b[0;34m=\u001b[0m\u001b[0;36m3137635\u001b[0m\u001b[0;34m,\u001b[0m \u001b[0msize_id\u001b[0m\u001b[0;34m=\u001b[0m\u001b[0;36m66\u001b[0m\u001b[0;34m,\u001b[0m \u001b[0mbackup_active\u001b[0m\u001b[0;34m=\u001b[0m\u001b[0mFalse\u001b[0m\u001b[0;34m)\u001b[0m\u001b[0;34m\u001b[0m\u001b[0m\n\u001b[0;32m----> 2\u001b[0;31m \u001b[0mdropserv\u001b[0m\u001b[0;34m.\u001b[0m\u001b[0mcreate\u001b[0m\u001b[0;34m(\u001b[0m\u001b[0;34m)\u001b[0m\u001b[0;34m\u001b[0m\u001b[0m\n\u001b[0m",
        "\u001b[0;32m/usr/local/lib/python2.7/dist-packages/digitalocean/Droplet.pyc\u001b[0m in \u001b[0;36mcreate\u001b[0;34m(self, ssh_key_ids, virtio, private_networking, backups_enabled)\u001b[0m\n\u001b[1;32m    161\u001b[0m             \u001b[0mdata\u001b[0m\u001b[0;34m[\u001b[0m\u001b[0;34m'private_networking'\u001b[0m\u001b[0;34m]\u001b[0m \u001b[0;34m=\u001b[0m \u001b[0;36m1\u001b[0m\u001b[0;34m\u001b[0m\u001b[0m\n\u001b[1;32m    162\u001b[0m \u001b[0;34m\u001b[0m\u001b[0m\n\u001b[0;32m--> 163\u001b[0;31m         \u001b[0mdata\u001b[0m \u001b[0;34m=\u001b[0m \u001b[0mself\u001b[0m\u001b[0;34m.\u001b[0m\u001b[0m__call_api\u001b[0m\u001b[0;34m(\u001b[0m\u001b[0;34m\"new\"\u001b[0m\u001b[0;34m,\u001b[0m \u001b[0mdata\u001b[0m\u001b[0;34m)\u001b[0m\u001b[0;34m\u001b[0m\u001b[0m\n\u001b[0m\u001b[1;32m    164\u001b[0m         \u001b[0;32mif\u001b[0m \u001b[0mdata\u001b[0m\u001b[0;34m:\u001b[0m\u001b[0;34m\u001b[0m\u001b[0m\n\u001b[1;32m    165\u001b[0m             \u001b[0mself\u001b[0m\u001b[0;34m.\u001b[0m\u001b[0mid\u001b[0m \u001b[0;34m=\u001b[0m \u001b[0mdata\u001b[0m\u001b[0;34m[\u001b[0m\u001b[0;34m'droplet'\u001b[0m\u001b[0;34m]\u001b[0m\u001b[0;34m[\u001b[0m\u001b[0;34m'id'\u001b[0m\u001b[0;34m]\u001b[0m\u001b[0;34m\u001b[0m\u001b[0m\n",
        "\u001b[0;32m/usr/local/lib/python2.7/dist-packages/digitalocean/Droplet.pyc\u001b[0m in \u001b[0;36m__call_api\u001b[0;34m(self, path, params)\u001b[0m\n\u001b[1;32m     26\u001b[0m         \u001b[0mpayload\u001b[0m \u001b[0;34m=\u001b[0m \u001b[0;34m{\u001b[0m\u001b[0;34m'client_id'\u001b[0m\u001b[0;34m:\u001b[0m \u001b[0mself\u001b[0m\u001b[0;34m.\u001b[0m\u001b[0mclient_id\u001b[0m\u001b[0;34m,\u001b[0m \u001b[0;34m'api_key'\u001b[0m\u001b[0;34m:\u001b[0m \u001b[0mself\u001b[0m\u001b[0;34m.\u001b[0m\u001b[0mapi_key\u001b[0m\u001b[0;34m}\u001b[0m\u001b[0;34m\u001b[0m\u001b[0m\n\u001b[1;32m     27\u001b[0m         \u001b[0mpayload\u001b[0m\u001b[0;34m.\u001b[0m\u001b[0mupdate\u001b[0m\u001b[0;34m(\u001b[0m\u001b[0mparams\u001b[0m\u001b[0;34m)\u001b[0m\u001b[0;34m\u001b[0m\u001b[0m\n\u001b[0;32m---> 28\u001b[0;31m         \u001b[0mr\u001b[0m \u001b[0;34m=\u001b[0m \u001b[0mrequests\u001b[0m\u001b[0;34m.\u001b[0m\u001b[0mget\u001b[0m\u001b[0;34m(\u001b[0m\u001b[0;34m\"https://api.digitalocean.com/droplets/%s%s\"\u001b[0m \u001b[0;34m%\u001b[0m \u001b[0;34m(\u001b[0m \u001b[0mself\u001b[0m\u001b[0;34m.\u001b[0m\u001b[0mid\u001b[0m\u001b[0;34m,\u001b[0m \u001b[0mpath\u001b[0m \u001b[0;34m)\u001b[0m\u001b[0;34m,\u001b[0m \u001b[0mparams\u001b[0m\u001b[0;34m=\u001b[0m\u001b[0mpayload\u001b[0m\u001b[0;34m)\u001b[0m\u001b[0;34m\u001b[0m\u001b[0m\n\u001b[0m\u001b[1;32m     29\u001b[0m         \u001b[0mdata\u001b[0m \u001b[0;34m=\u001b[0m \u001b[0mr\u001b[0m\u001b[0;34m.\u001b[0m\u001b[0mjson\u001b[0m\u001b[0;34m(\u001b[0m\u001b[0;34m)\u001b[0m\u001b[0;34m\u001b[0m\u001b[0m\n\u001b[1;32m     30\u001b[0m         \u001b[0mself\u001b[0m\u001b[0;34m.\u001b[0m\u001b[0mcall_response\u001b[0m \u001b[0;34m=\u001b[0m \u001b[0mdata\u001b[0m\u001b[0;34m\u001b[0m\u001b[0m\n",
        "\u001b[0;32m/usr/local/lib/python2.7/dist-packages/requests/api.pyc\u001b[0m in \u001b[0;36mget\u001b[0;34m(url, **kwargs)\u001b[0m\n\u001b[1;32m     53\u001b[0m \u001b[0;34m\u001b[0m\u001b[0m\n\u001b[1;32m     54\u001b[0m     \u001b[0mkwargs\u001b[0m\u001b[0;34m.\u001b[0m\u001b[0msetdefault\u001b[0m\u001b[0;34m(\u001b[0m\u001b[0;34m'allow_redirects'\u001b[0m\u001b[0;34m,\u001b[0m \u001b[0mTrue\u001b[0m\u001b[0;34m)\u001b[0m\u001b[0;34m\u001b[0m\u001b[0m\n\u001b[0;32m---> 55\u001b[0;31m     \u001b[0;32mreturn\u001b[0m \u001b[0mrequest\u001b[0m\u001b[0;34m(\u001b[0m\u001b[0;34m'get'\u001b[0m\u001b[0;34m,\u001b[0m \u001b[0murl\u001b[0m\u001b[0;34m,\u001b[0m \u001b[0;34m**\u001b[0m\u001b[0mkwargs\u001b[0m\u001b[0;34m)\u001b[0m\u001b[0;34m\u001b[0m\u001b[0m\n\u001b[0m\u001b[1;32m     56\u001b[0m \u001b[0;34m\u001b[0m\u001b[0m\n\u001b[1;32m     57\u001b[0m \u001b[0;34m\u001b[0m\u001b[0m\n",
        "\u001b[0;32m/usr/local/lib/python2.7/dist-packages/requests/api.pyc\u001b[0m in \u001b[0;36mrequest\u001b[0;34m(method, url, **kwargs)\u001b[0m\n\u001b[1;32m     42\u001b[0m \u001b[0;34m\u001b[0m\u001b[0m\n\u001b[1;32m     43\u001b[0m     \u001b[0msession\u001b[0m \u001b[0;34m=\u001b[0m \u001b[0msessions\u001b[0m\u001b[0;34m.\u001b[0m\u001b[0mSession\u001b[0m\u001b[0;34m(\u001b[0m\u001b[0;34m)\u001b[0m\u001b[0;34m\u001b[0m\u001b[0m\n\u001b[0;32m---> 44\u001b[0;31m     \u001b[0;32mreturn\u001b[0m \u001b[0msession\u001b[0m\u001b[0;34m.\u001b[0m\u001b[0mrequest\u001b[0m\u001b[0;34m(\u001b[0m\u001b[0mmethod\u001b[0m\u001b[0;34m=\u001b[0m\u001b[0mmethod\u001b[0m\u001b[0;34m,\u001b[0m \u001b[0murl\u001b[0m\u001b[0;34m=\u001b[0m\u001b[0murl\u001b[0m\u001b[0;34m,\u001b[0m \u001b[0;34m**\u001b[0m\u001b[0mkwargs\u001b[0m\u001b[0;34m)\u001b[0m\u001b[0;34m\u001b[0m\u001b[0m\n\u001b[0m\u001b[1;32m     45\u001b[0m \u001b[0;34m\u001b[0m\u001b[0m\n\u001b[1;32m     46\u001b[0m \u001b[0;34m\u001b[0m\u001b[0m\n",
        "\u001b[0;32m/usr/local/lib/python2.7/dist-packages/requests/sessions.pyc\u001b[0m in \u001b[0;36mrequest\u001b[0;34m(self, method, url, params, data, headers, cookies, files, auth, timeout, allow_redirects, proxies, hooks, stream, verify, cert)\u001b[0m\n\u001b[1;32m    333\u001b[0m             \u001b[0;34m'allow_redirects'\u001b[0m\u001b[0;34m:\u001b[0m \u001b[0mallow_redirects\u001b[0m\u001b[0;34m,\u001b[0m\u001b[0;34m\u001b[0m\u001b[0m\n\u001b[1;32m    334\u001b[0m         }\n\u001b[0;32m--> 335\u001b[0;31m         \u001b[0mresp\u001b[0m \u001b[0;34m=\u001b[0m \u001b[0mself\u001b[0m\u001b[0;34m.\u001b[0m\u001b[0msend\u001b[0m\u001b[0;34m(\u001b[0m\u001b[0mprep\u001b[0m\u001b[0;34m,\u001b[0m \u001b[0;34m**\u001b[0m\u001b[0msend_kwargs\u001b[0m\u001b[0;34m)\u001b[0m\u001b[0;34m\u001b[0m\u001b[0m\n\u001b[0m\u001b[1;32m    336\u001b[0m \u001b[0;34m\u001b[0m\u001b[0m\n\u001b[1;32m    337\u001b[0m         \u001b[0;32mreturn\u001b[0m \u001b[0mresp\u001b[0m\u001b[0;34m\u001b[0m\u001b[0m\n",
        "\u001b[0;32m/usr/local/lib/python2.7/dist-packages/requests/sessions.pyc\u001b[0m in \u001b[0;36msend\u001b[0;34m(self, request, **kwargs)\u001b[0m\n\u001b[1;32m    436\u001b[0m         \u001b[0mstart\u001b[0m \u001b[0;34m=\u001b[0m \u001b[0mdatetime\u001b[0m\u001b[0;34m.\u001b[0m\u001b[0mutcnow\u001b[0m\u001b[0;34m(\u001b[0m\u001b[0;34m)\u001b[0m\u001b[0;34m\u001b[0m\u001b[0m\n\u001b[1;32m    437\u001b[0m         \u001b[0;31m# Send the request\u001b[0m\u001b[0;34m\u001b[0m\u001b[0;34m\u001b[0m\u001b[0m\n\u001b[0;32m--> 438\u001b[0;31m         \u001b[0mr\u001b[0m \u001b[0;34m=\u001b[0m \u001b[0madapter\u001b[0m\u001b[0;34m.\u001b[0m\u001b[0msend\u001b[0m\u001b[0;34m(\u001b[0m\u001b[0mrequest\u001b[0m\u001b[0;34m,\u001b[0m \u001b[0;34m**\u001b[0m\u001b[0mkwargs\u001b[0m\u001b[0;34m)\u001b[0m\u001b[0;34m\u001b[0m\u001b[0m\n\u001b[0m\u001b[1;32m    439\u001b[0m         \u001b[0;31m# Total elapsed time of the request (approximately)\u001b[0m\u001b[0;34m\u001b[0m\u001b[0;34m\u001b[0m\u001b[0m\n\u001b[1;32m    440\u001b[0m         \u001b[0mr\u001b[0m\u001b[0;34m.\u001b[0m\u001b[0melapsed\u001b[0m \u001b[0;34m=\u001b[0m \u001b[0mdatetime\u001b[0m\u001b[0;34m.\u001b[0m\u001b[0mutcnow\u001b[0m\u001b[0;34m(\u001b[0m\u001b[0;34m)\u001b[0m \u001b[0;34m-\u001b[0m \u001b[0mstart\u001b[0m\u001b[0;34m\u001b[0m\u001b[0m\n",
        "\u001b[0;32m/usr/local/lib/python2.7/dist-packages/requests/adapters.pyc\u001b[0m in \u001b[0;36msend\u001b[0;34m(self, request, stream, timeout, verify, cert, proxies)\u001b[0m\n\u001b[1;32m    290\u001b[0m                     \u001b[0mdecode_content\u001b[0m\u001b[0;34m=\u001b[0m\u001b[0mFalse\u001b[0m\u001b[0;34m,\u001b[0m\u001b[0;34m\u001b[0m\u001b[0m\n\u001b[1;32m    291\u001b[0m                     \u001b[0mretries\u001b[0m\u001b[0;34m=\u001b[0m\u001b[0mself\u001b[0m\u001b[0;34m.\u001b[0m\u001b[0mmax_retries\u001b[0m\u001b[0;34m,\u001b[0m\u001b[0;34m\u001b[0m\u001b[0m\n\u001b[0;32m--> 292\u001b[0;31m                     \u001b[0mtimeout\u001b[0m\u001b[0;34m=\u001b[0m\u001b[0mtimeout\u001b[0m\u001b[0;34m\u001b[0m\u001b[0m\n\u001b[0m\u001b[1;32m    293\u001b[0m                 )\n\u001b[1;32m    294\u001b[0m \u001b[0;34m\u001b[0m\u001b[0m\n",
        "\u001b[0;32m/usr/local/lib/python2.7/dist-packages/requests/packages/urllib3/connectionpool.pyc\u001b[0m in \u001b[0;36murlopen\u001b[0;34m(self, method, url, body, headers, retries, redirect, assert_same_host, timeout, pool_timeout, release_conn, **response_kw)\u001b[0m\n\u001b[1;32m    426\u001b[0m             httplib_response = self._make_request(conn, method, url,\n\u001b[1;32m    427\u001b[0m                                                   \u001b[0mtimeout\u001b[0m\u001b[0;34m=\u001b[0m\u001b[0mtimeout\u001b[0m\u001b[0;34m,\u001b[0m\u001b[0;34m\u001b[0m\u001b[0m\n\u001b[0;32m--> 428\u001b[0;31m                                                   body=body, headers=headers)\n\u001b[0m\u001b[1;32m    429\u001b[0m \u001b[0;34m\u001b[0m\u001b[0m\n\u001b[1;32m    430\u001b[0m             \u001b[0;31m# If we're going to release the connection in ``finally:``, then\u001b[0m\u001b[0;34m\u001b[0m\u001b[0;34m\u001b[0m\u001b[0m\n",
        "\u001b[0;32m/usr/local/lib/python2.7/dist-packages/requests/packages/urllib3/connectionpool.pyc\u001b[0m in \u001b[0;36m_make_request\u001b[0;34m(self, conn, method, url, timeout, **httplib_request_kw)\u001b[0m\n\u001b[1;32m    286\u001b[0m \u001b[0;34m\u001b[0m\u001b[0m\n\u001b[1;32m    287\u001b[0m         \u001b[0;32mtry\u001b[0m\u001b[0;34m:\u001b[0m \u001b[0;31m# Python 2.7+, use buffering of HTTP responses\u001b[0m\u001b[0;34m\u001b[0m\u001b[0m\n\u001b[0;32m--> 288\u001b[0;31m             \u001b[0mhttplib_response\u001b[0m \u001b[0;34m=\u001b[0m \u001b[0mconn\u001b[0m\u001b[0;34m.\u001b[0m\u001b[0mgetresponse\u001b[0m\u001b[0;34m(\u001b[0m\u001b[0mbuffering\u001b[0m\u001b[0;34m=\u001b[0m\u001b[0mTrue\u001b[0m\u001b[0;34m)\u001b[0m\u001b[0;34m\u001b[0m\u001b[0m\n\u001b[0m\u001b[1;32m    289\u001b[0m         \u001b[0;32mexcept\u001b[0m \u001b[0mTypeError\u001b[0m\u001b[0;34m:\u001b[0m \u001b[0;31m# Python 2.6 and older\u001b[0m\u001b[0;34m\u001b[0m\u001b[0m\n\u001b[1;32m    290\u001b[0m             \u001b[0mhttplib_response\u001b[0m \u001b[0;34m=\u001b[0m \u001b[0mconn\u001b[0m\u001b[0;34m.\u001b[0m\u001b[0mgetresponse\u001b[0m\u001b[0;34m(\u001b[0m\u001b[0;34m)\u001b[0m\u001b[0;34m\u001b[0m\u001b[0m\n",
        "\u001b[0;32m/usr/lib/python2.7/httplib.pyc\u001b[0m in \u001b[0;36mgetresponse\u001b[0;34m(self, buffering)\u001b[0m\n\u001b[1;32m   1032\u001b[0m         \u001b[0mresponse\u001b[0m \u001b[0;34m=\u001b[0m \u001b[0mself\u001b[0m\u001b[0;34m.\u001b[0m\u001b[0mresponse_class\u001b[0m\u001b[0;34m(\u001b[0m\u001b[0;34m*\u001b[0m\u001b[0margs\u001b[0m\u001b[0;34m,\u001b[0m \u001b[0;34m**\u001b[0m\u001b[0mkwds\u001b[0m\u001b[0;34m)\u001b[0m\u001b[0;34m\u001b[0m\u001b[0m\n\u001b[1;32m   1033\u001b[0m \u001b[0;34m\u001b[0m\u001b[0m\n\u001b[0;32m-> 1034\u001b[0;31m         \u001b[0mresponse\u001b[0m\u001b[0;34m.\u001b[0m\u001b[0mbegin\u001b[0m\u001b[0;34m(\u001b[0m\u001b[0;34m)\u001b[0m\u001b[0;34m\u001b[0m\u001b[0m\n\u001b[0m\u001b[1;32m   1035\u001b[0m         \u001b[0;32massert\u001b[0m \u001b[0mresponse\u001b[0m\u001b[0;34m.\u001b[0m\u001b[0mwill_close\u001b[0m \u001b[0;34m!=\u001b[0m \u001b[0m_UNKNOWN\u001b[0m\u001b[0;34m\u001b[0m\u001b[0m\n\u001b[1;32m   1036\u001b[0m         \u001b[0mself\u001b[0m\u001b[0;34m.\u001b[0m\u001b[0m__state\u001b[0m \u001b[0;34m=\u001b[0m \u001b[0m_CS_IDLE\u001b[0m\u001b[0;34m\u001b[0m\u001b[0m\n",
        "\u001b[0;32m/usr/lib/python2.7/httplib.pyc\u001b[0m in \u001b[0;36mbegin\u001b[0;34m(self)\u001b[0m\n\u001b[1;32m    405\u001b[0m         \u001b[0;31m# read until we get a non-100 response\u001b[0m\u001b[0;34m\u001b[0m\u001b[0;34m\u001b[0m\u001b[0m\n\u001b[1;32m    406\u001b[0m         \u001b[0;32mwhile\u001b[0m \u001b[0mTrue\u001b[0m\u001b[0;34m:\u001b[0m\u001b[0;34m\u001b[0m\u001b[0m\n\u001b[0;32m--> 407\u001b[0;31m             \u001b[0mversion\u001b[0m\u001b[0;34m,\u001b[0m \u001b[0mstatus\u001b[0m\u001b[0;34m,\u001b[0m \u001b[0mreason\u001b[0m \u001b[0;34m=\u001b[0m \u001b[0mself\u001b[0m\u001b[0;34m.\u001b[0m\u001b[0m_read_status\u001b[0m\u001b[0;34m(\u001b[0m\u001b[0;34m)\u001b[0m\u001b[0;34m\u001b[0m\u001b[0m\n\u001b[0m\u001b[1;32m    408\u001b[0m             \u001b[0;32mif\u001b[0m \u001b[0mstatus\u001b[0m \u001b[0;34m!=\u001b[0m \u001b[0mCONTINUE\u001b[0m\u001b[0;34m:\u001b[0m\u001b[0;34m\u001b[0m\u001b[0m\n\u001b[1;32m    409\u001b[0m                 \u001b[0;32mbreak\u001b[0m\u001b[0;34m\u001b[0m\u001b[0m\n",
        "\u001b[0;32m/usr/lib/python2.7/httplib.pyc\u001b[0m in \u001b[0;36m_read_status\u001b[0;34m(self)\u001b[0m\n\u001b[1;32m    363\u001b[0m     \u001b[0;32mdef\u001b[0m \u001b[0m_read_status\u001b[0m\u001b[0;34m(\u001b[0m\u001b[0mself\u001b[0m\u001b[0;34m)\u001b[0m\u001b[0;34m:\u001b[0m\u001b[0;34m\u001b[0m\u001b[0m\n\u001b[1;32m    364\u001b[0m         \u001b[0;31m# Initialize with Simple-Response defaults\u001b[0m\u001b[0;34m\u001b[0m\u001b[0;34m\u001b[0m\u001b[0m\n\u001b[0;32m--> 365\u001b[0;31m         \u001b[0mline\u001b[0m \u001b[0;34m=\u001b[0m \u001b[0mself\u001b[0m\u001b[0;34m.\u001b[0m\u001b[0mfp\u001b[0m\u001b[0;34m.\u001b[0m\u001b[0mreadline\u001b[0m\u001b[0;34m(\u001b[0m\u001b[0;34m)\u001b[0m\u001b[0;34m\u001b[0m\u001b[0m\n\u001b[0m\u001b[1;32m    366\u001b[0m         \u001b[0;32mif\u001b[0m \u001b[0mself\u001b[0m\u001b[0;34m.\u001b[0m\u001b[0mdebuglevel\u001b[0m \u001b[0;34m>\u001b[0m \u001b[0;36m0\u001b[0m\u001b[0;34m:\u001b[0m\u001b[0;34m\u001b[0m\u001b[0m\n\u001b[1;32m    367\u001b[0m             \u001b[0;32mprint\u001b[0m \u001b[0;34m\"reply:\"\u001b[0m\u001b[0;34m,\u001b[0m \u001b[0mrepr\u001b[0m\u001b[0;34m(\u001b[0m\u001b[0mline\u001b[0m\u001b[0;34m)\u001b[0m\u001b[0;34m\u001b[0m\u001b[0m\n",
        "\u001b[0;32m/usr/lib/python2.7/socket.pyc\u001b[0m in \u001b[0;36mreadline\u001b[0;34m(self, size)\u001b[0m\n\u001b[1;32m    445\u001b[0m             \u001b[0;32mwhile\u001b[0m \u001b[0mTrue\u001b[0m\u001b[0;34m:\u001b[0m\u001b[0;34m\u001b[0m\u001b[0m\n\u001b[1;32m    446\u001b[0m                 \u001b[0;32mtry\u001b[0m\u001b[0;34m:\u001b[0m\u001b[0;34m\u001b[0m\u001b[0m\n\u001b[0;32m--> 447\u001b[0;31m                     \u001b[0mdata\u001b[0m \u001b[0;34m=\u001b[0m \u001b[0mself\u001b[0m\u001b[0;34m.\u001b[0m\u001b[0m_sock\u001b[0m\u001b[0;34m.\u001b[0m\u001b[0mrecv\u001b[0m\u001b[0;34m(\u001b[0m\u001b[0mself\u001b[0m\u001b[0;34m.\u001b[0m\u001b[0m_rbufsize\u001b[0m\u001b[0;34m)\u001b[0m\u001b[0;34m\u001b[0m\u001b[0m\n\u001b[0m\u001b[1;32m    448\u001b[0m                 \u001b[0;32mexcept\u001b[0m \u001b[0merror\u001b[0m\u001b[0;34m,\u001b[0m \u001b[0me\u001b[0m\u001b[0;34m:\u001b[0m\u001b[0;34m\u001b[0m\u001b[0m\n\u001b[1;32m    449\u001b[0m                     \u001b[0;32mif\u001b[0m \u001b[0me\u001b[0m\u001b[0;34m.\u001b[0m\u001b[0margs\u001b[0m\u001b[0;34m[\u001b[0m\u001b[0;36m0\u001b[0m\u001b[0;34m]\u001b[0m \u001b[0;34m==\u001b[0m \u001b[0mEINTR\u001b[0m\u001b[0;34m:\u001b[0m\u001b[0;34m\u001b[0m\u001b[0m\n",
        "\u001b[0;32m/usr/lib/python2.7/ssl.pyc\u001b[0m in \u001b[0;36mrecv\u001b[0;34m(self, buflen, flags)\u001b[0m\n\u001b[1;32m    239\u001b[0m                     \u001b[0;34m\"non-zero flags not allowed in calls to recv() on %s\"\u001b[0m \u001b[0;34m%\u001b[0m\u001b[0;34m\u001b[0m\u001b[0m\n\u001b[1;32m    240\u001b[0m                     self.__class__)\n\u001b[0;32m--> 241\u001b[0;31m             \u001b[0;32mreturn\u001b[0m \u001b[0mself\u001b[0m\u001b[0;34m.\u001b[0m\u001b[0mread\u001b[0m\u001b[0;34m(\u001b[0m\u001b[0mbuflen\u001b[0m\u001b[0;34m)\u001b[0m\u001b[0;34m\u001b[0m\u001b[0m\n\u001b[0m\u001b[1;32m    242\u001b[0m         \u001b[0;32melse\u001b[0m\u001b[0;34m:\u001b[0m\u001b[0;34m\u001b[0m\u001b[0m\n\u001b[1;32m    243\u001b[0m             \u001b[0;32mreturn\u001b[0m \u001b[0mself\u001b[0m\u001b[0;34m.\u001b[0m\u001b[0m_sock\u001b[0m\u001b[0;34m.\u001b[0m\u001b[0mrecv\u001b[0m\u001b[0;34m(\u001b[0m\u001b[0mbuflen\u001b[0m\u001b[0;34m,\u001b[0m \u001b[0mflags\u001b[0m\u001b[0;34m)\u001b[0m\u001b[0;34m\u001b[0m\u001b[0m\n",
        "\u001b[0;32m/usr/lib/python2.7/ssl.pyc\u001b[0m in \u001b[0;36mread\u001b[0;34m(self, len)\u001b[0m\n\u001b[1;32m    158\u001b[0m \u001b[0;34m\u001b[0m\u001b[0m\n\u001b[1;32m    159\u001b[0m         \u001b[0;32mtry\u001b[0m\u001b[0;34m:\u001b[0m\u001b[0;34m\u001b[0m\u001b[0m\n\u001b[0;32m--> 160\u001b[0;31m             \u001b[0;32mreturn\u001b[0m \u001b[0mself\u001b[0m\u001b[0;34m.\u001b[0m\u001b[0m_sslobj\u001b[0m\u001b[0;34m.\u001b[0m\u001b[0mread\u001b[0m\u001b[0;34m(\u001b[0m\u001b[0mlen\u001b[0m\u001b[0;34m)\u001b[0m\u001b[0;34m\u001b[0m\u001b[0m\n\u001b[0m\u001b[1;32m    161\u001b[0m         \u001b[0;32mexcept\u001b[0m \u001b[0mSSLError\u001b[0m\u001b[0;34m,\u001b[0m \u001b[0mx\u001b[0m\u001b[0;34m:\u001b[0m\u001b[0;34m\u001b[0m\u001b[0m\n\u001b[1;32m    162\u001b[0m             \u001b[0;32mif\u001b[0m \u001b[0mx\u001b[0m\u001b[0;34m.\u001b[0m\u001b[0margs\u001b[0m\u001b[0;34m[\u001b[0m\u001b[0;36m0\u001b[0m\u001b[0;34m]\u001b[0m \u001b[0;34m==\u001b[0m \u001b[0mSSL_ERROR_EOF\u001b[0m \u001b[0;32mand\u001b[0m \u001b[0mself\u001b[0m\u001b[0;34m.\u001b[0m\u001b[0msuppress_ragged_eofs\u001b[0m\u001b[0;34m:\u001b[0m\u001b[0;34m\u001b[0m\u001b[0m\n",
        "\u001b[0;31mKeyboardInterrupt\u001b[0m: "
       ]
      }
     ],
     "prompt_number": 47
    },
    {
     "cell_type": "code",
     "collapsed": false,
     "input": [
      "for event in events:\n",
      "    event.load()\n",
      "    #Once it shows 100, droplet is up and running\n",
      "    print event.percentage\n"
     ],
     "language": "python",
     "metadata": {},
     "outputs": []
    },
    {
     "cell_type": "code",
     "collapsed": false,
     "input": [
      "from dop.client import Client\n",
      "\n",
      "client = Client(digcli, apikey)\n",
      "\n",
      "# Print regions.\n",
      "regions = client.regions()\n",
      "for region in regions:\n",
      "    print(region.to_json())\n",
      "\n",
      "# Print sizes.\n",
      "sizes = client.sizes()\n",
      "for size in sizes:\n",
      "    print(size.to_json())\n",
      "\n",
      "# Print public global images.\n",
      "images = client.images()\n",
      "for image in images:\n",
      "    print(image.to_json())\n",
      "\n",
      "# Print your private images.\n",
      "#images = client.images(filter='my_images')\n",
      "#for image in images:\n",
      "#    print(image.to_json())\n",
      "\n",
      "# Create a droplet\n",
      "conf = {\n",
      "    'name': 'test',\n",
      "    'size': {'size_slug': '512MB'},\n",
      "    'image': {'image_slug': 'ubuntu-13-04-x64'},\n",
      "    'region': {'region_slug': 'nyc1'},\n",
      "}"
     ],
     "language": "python",
     "metadata": {},
     "outputs": [
      {
       "output_type": "stream",
       "stream": "stdout",
       "text": [
        "{'slug': u'sfo1', 'name': u'San Francisco 1', 'region_id': 3}\n",
        "{'slug': u'nyc2', 'name': u'New York 2', 'region_id': 4}\n",
        "{'slug': u'ams2', 'name': u'Amsterdam 2', 'region_id': 5}\n",
        "{'slug': u'sgp1', 'name': u'Singapore 1', 'region_id': 6}\n",
        "{'size_id': 66, 'name': u'512MB', 'slug': u'512mb'}"
       ]
      },
      {
       "output_type": "stream",
       "stream": "stdout",
       "text": [
        "\n",
        "{'size_id': 63, 'name': u'1GB', 'slug': u'1gb'}\n",
        "{'size_id': 62, 'name': u'2GB', 'slug': u'2gb'}\n",
        "{'size_id': 64, 'name': u'4GB', 'slug': u'4gb'}\n",
        "{'size_id': 65, 'name': u'8GB', 'slug': u'8gb'}\n",
        "{'size_id': 61, 'name': u'16GB', 'slug': u'16gb'}\n",
        "{'size_id': 60, 'name': u'32GB', 'slug': u'32gb'}\n",
        "{'size_id': 70, 'name': u'48GB', 'slug': u'48gb'}\n",
        "{'size_id': 69, 'name': u'64GB', 'slug': u'64gb'}\n",
        "{'image_id': 1601, 'distribution': u'CentOS', 'public': True, 'slug': u'centos-5-8-x64', 'name': u'CentOS 5.8 x64'}"
       ]
      },
      {
       "output_type": "stream",
       "stream": "stdout",
       "text": [
        "\n",
        "{'image_id': 1602, 'distribution': u'CentOS', 'public': True, 'slug': u'centos-5-8-x32', 'name': u'CentOS 5.8 x32'}\n",
        "{'image_id': 12573, 'distribution': u'Debian', 'public': True, 'slug': u'debian-6-0-x64', 'name': u'Debian 6.0 x64'}\n",
        "{'image_id': 12575, 'distribution': u'Debian', 'public': True, 'slug': u'debian-6-0-x32', 'name': u'Debian 6.0 x32'}\n",
        "{'image_id': 14097, 'distribution': u'Ubuntu', 'public': True, 'slug': u'ubuntu-10-04-x64', 'name': u'Ubuntu 10.04 x64'}\n",
        "{'image_id': 14098, 'distribution': u'Ubuntu', 'public': True, 'slug': u'ubuntu-10-04-x32', 'name': u'Ubuntu 10.04 x32'}\n",
        "{'image_id': 32387, 'distribution': u'Fedora', 'public': True, 'slug': u'fedora-17-x32', 'name': u'Fedora 17 x32'}\n",
        "{'image_id': 32399, 'distribution': u'Fedora', 'public': True, 'slug': u'fedora-17-x32-desktop', 'name': u'Fedora 17 x32 Desktop'}\n",
        "{'image_id': 32419, 'distribution': u'Fedora', 'public': True, 'slug': u'fedora-17-x64-desktop', 'name': u'Fedora 17 x64 Desktop'}\n",
        "{'image_id': 32428, 'distribution': u'Fedora', 'public': True, 'slug': u'fedora-17-x64', 'name': u'Fedora 17 x64'}\n",
        "{'image_id': 350424, 'distribution': u'Arch Linux', 'public': True, 'slug': u'arch-linux-2013-05-x64', 'name': u'Arch Linux 2013.05 x64'}\n",
        "{'image_id': 361740, 'distribution': u'Arch Linux', 'public': True, 'slug': u'arch-linux-2013-05-x32', 'name': u'Arch Linux 2013.05 x32'}\n",
        "{'image_id': 376568, 'distribution': u'CentOS', 'public': True, 'slug': u'centos-6-4-x32', 'name': u'CentOS 6.4 x32'}\n",
        "{'image_id': 562354, 'distribution': u'CentOS', 'public': True, 'slug': u'centos-6-4-x64', 'name': u'CentOS 6.4 x64'}\n",
        "{'image_id': 3100616, 'distribution': u'Ubuntu', 'public': True, 'slug': u'ubuntu-12-04-x32', 'name': u'Ubuntu 12.04.4 x32'}\n",
        "{'image_id': 3101045, 'distribution': u'Ubuntu', 'public': True, 'slug': u'ubuntu-12-04-x64', 'name': u'Ubuntu 12.04.4 x64'}\n",
        "{'image_id': 3101580, 'distribution': u'Ubuntu', 'public': True, 'slug': u'ubuntu-13-10-x32', 'name': u'Ubuntu 13.10 x32'}\n",
        "{'image_id': 3101888, 'distribution': u'Ubuntu', 'public': True, 'slug': u'ubuntu-12-10-x32', 'name': u'Ubuntu 12.10 x32'}\n",
        "{'image_id': 3101891, 'distribution': u'Ubuntu', 'public': True, 'slug': u'ubuntu-12-10-x64', 'name': u'Ubuntu 12.10 x64'}\n",
        "{'image_id': 3101918, 'distribution': u'Ubuntu', 'public': True, 'slug': u'ubuntu-13-10-x64', 'name': u'Ubuntu 13.10 x64'}\n",
        "{'image_id': 3102384, 'distribution': u'Debian', 'public': True, 'slug': u'debian-7-0-x32', 'name': u'Debian 7.0 x32'}\n",
        "{'image_id': 3102387, 'distribution': u'Debian', 'public': True, 'slug': u'debian-7-0-x64', 'name': u'Debian 7.0 x64'}\n",
        "{'image_id': 3102721, 'distribution': u'Fedora', 'public': True, 'slug': u'fedora-19-x32', 'name': u'Fedora 19 x32'}\n",
        "{'image_id': 3102879, 'distribution': u'Fedora', 'public': True, 'slug': u'fedora-19-x64', 'name': u'Fedora 19 x64'}\n",
        "{'image_id': 3104282, 'distribution': u'Ubuntu', 'public': True, 'slug': u'ubuntu-12-10-x64-desktop', 'name': u'Ubuntu 12.10 x64 Desktop'}\n",
        "{'image_id': 3104894, 'distribution': u'Ubuntu', 'public': True, 'name': u'Docker 0.10 on Ubuntu 13.10 x64'}\n",
        "{'image_id': 3118235, 'distribution': u'Ubuntu', 'public': True, 'slug': u'mean-ubuntu-12.04', 'name': u'MEAN on Ubuntu 12.04.4'}\n",
        "{'image_id': 3118238, 'distribution': u'Ubuntu', 'public': True, 'slug': u'gitlab-ubuntu-13.10', 'name': u'GitLab 6.6.5 CE'}\n",
        "{'image_id': 3120115, 'distribution': u'Ubuntu', 'public': True, 'slug': u'lamp-ubuntu-12.04', 'name': u'LAMP on Ubuntu 12.04'}\n",
        "{'image_id': 3121555, 'distribution': u'Ubuntu', 'public': True, 'slug': u'ghost-ubuntu-12.04', 'name': u'Ghost 0.4.2 on Ubuntu 12.04'}\n",
        "{'image_id': 3135725, 'distribution': u'Ubuntu', 'public': True, 'slug': u'wordpress-ubuntu-13.10', 'name': u'Wordpress on Ubuntu 13.10'}\n",
        "{'image_id': 3137635, 'distribution': u'Ubuntu', 'public': True, 'slug': u'rails-unicorn-nginx-ubuntu-12.10', 'name': u'Ruby on Rails on Ubuntu 12.10 (Nginx + Unicorn)'}\n",
        "{'image_id': 3137903, 'distribution': u'Ubuntu', 'public': True, 'slug': u'redmine-ubuntu-12.04', 'name': u'Redmine on Ubuntu 12.04'}\n",
        "{'image_id': 3140202, 'distribution': u'Ubuntu', 'public': True, 'slug': u'dokku-ubuntu-13.04', 'name': u'Dokku-v0.2.1 on Ubuntu 13.04'}\n",
        "{'image_id': 3240033, 'distribution': u'Ubuntu', 'public': True, 'slug': u'ubuntu-14-04-x32', 'name': u'Ubuntu 14.04 x32'}\n",
        "{'image_id': 3240036, 'distribution': u'Ubuntu', 'public': True, 'slug': u'ubuntu-14-04-x64', 'name': u'Ubuntu 14.04 x64'}\n",
        "{'image_id': 3240847, 'distribution': u'CentOS', 'public': True, 'slug': u'centos-6-5-x32', 'name': u'CentOS 6.5 x32'}\n",
        "{'image_id': 3240850, 'distribution': u'CentOS', 'public': True, 'slug': u'centos-6-5-x64', 'name': u'CentOS 6.5 x64'}\n",
        "{'image_id': 3243143, 'distribution': u'Fedora', 'public': True, 'slug': u'fedora-20-x32', 'name': u'Fedora 20 x32'}\n",
        "{'image_id': 3243145, 'distribution': u'Fedora', 'public': True, 'slug': u'fedora-20-x64', 'name': u'Fedora 20 x64'}\n"
       ]
      }
     ],
     "prompt_number": 53
    },
    {
     "cell_type": "code",
     "collapsed": false,
     "input": [],
     "language": "python",
     "metadata": {},
     "outputs": []
    }
   ],
   "metadata": {}
  }
 ]
}